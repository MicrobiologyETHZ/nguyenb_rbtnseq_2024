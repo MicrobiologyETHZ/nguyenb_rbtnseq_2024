{
 "cells": [
  {
   "cell_type": "code",
   "execution_count": null,
   "id": "voluntary-appraisal",
   "metadata": {},
   "outputs": [],
   "source": [
    "import pandas as pd\n",
    "from tnseq2.src.analysis import *\n",
    "from pathlib import Path\n",
    "import plotnine as p9\n",
    "import seaborn as sns"
   ]
  },
  {
   "cell_type": "code",
   "execution_count": null,
   "id": "threatened-corpus",
   "metadata": {},
   "outputs": [],
   "source": [
    "root = \"/Users/ansintsova/git_repos/nguyenb_tnseq/data/13_04_results\"\n",
    "counts = 'counts'\n",
    "results = 'results'\n",
    "control_file = Path(root)/'controls.txt'"
   ]
  },
  {
   "cell_type": "code",
   "execution_count": null,
   "id": "flexible-webmaster",
   "metadata": {},
   "outputs": [],
   "source": [
    "exp_not_analyzed = ['dnaid1315:TV3371A', 'dnaid1428:TV3652A', 'dnaid1428:TV3522E']"
   ]
  },
  {
   "cell_type": "markdown",
   "id": "equal-freight",
   "metadata": {},
   "source": [
    "dnaid ='dnaid2023'\n",
    "d2023=analyze_dnaid(Path(root)/counts, dnaid, control_file, cutoff=0.8, to_filter=0, outdir=Path(root)/results)"
   ]
  },
  {
   "cell_type": "markdown",
   "id": "certified-wallpaper",
   "metadata": {},
   "source": [
    "dnaid ='dnaid1315'\n",
    "d1315=analyze_dnaid(Path(root)/counts, dnaid, control_file, cutoff=0.8, to_filter=0, outdir=Path(root)/results)"
   ]
  },
  {
   "cell_type": "markdown",
   "id": "outside-hurricane",
   "metadata": {},
   "source": [
    "dnaid ='dnaid1428'\n",
    "d1428=analyze_dnaid(Path(root)/counts, dnaid, control_file, cutoff=0.8, to_filter=0, outdir=Path(root)/results)"
   ]
  },
  {
   "cell_type": "markdown",
   "id": "immediate-afghanistan",
   "metadata": {},
   "source": [
    "dnaid ='dnaid1429'\n",
    "d1429=analyze_dnaid(Path(root)/counts, dnaid, control_file, cutoff=0.8, to_filter=0, outdir=Path(root)/results)"
   ]
  },
  {
   "cell_type": "code",
   "execution_count": null,
   "id": "improved-liabilities",
   "metadata": {},
   "outputs": [],
   "source": [
    "dnaids = ['dnaid1315', 'dnaid1428', 'dnaid1429', 'dnaid2015', 'dnaid2016', 'dnaid2017', 'dnaid2018', 'dnaid2019',\n",
    "         'dnaid2023', 'dnaid2024', 'dnaid2025', 'dnaid2026', 'dnaid2027', 'dnaid2028', 'dnaid2029' ]\n",
    "          \n",
    "        #   'dnaid2030' -> has to be analyzed separately, different design\n"
   ]
  },
  {
   "cell_type": "markdown",
   "id": "certain-moscow",
   "metadata": {},
   "source": [
    "analyze_dnaid(Path(root)/counts, 'dnaid2019', control_file, cutoff=0.8, to_filter=0, outdir=Path(root)/results)"
   ]
  },
  {
   "cell_type": "code",
   "execution_count": null,
   "id": "wound-scene",
   "metadata": {},
   "outputs": [],
   "source": []
  },
  {
   "cell_type": "code",
   "execution_count": null,
   "id": "closed-tomorrow",
   "metadata": {},
   "outputs": [],
   "source": [
    "for dnaid in dnaids:\n",
    "    print(\"\")\n",
    "    print(dnaid)\n",
    "    print(\"\")\n",
    "    analyze_dnaid(Path(root)/counts, dnaid, control_file, cutoff=0.8, to_filter=0, outdir=Path(root)/results)"
   ]
  },
  {
   "cell_type": "code",
   "execution_count": null,
   "id": "greatest-print",
   "metadata": {},
   "outputs": [],
   "source": [
    "# Load all the analysis results\n"
   ]
  },
  {
   "cell_type": "code",
   "execution_count": null,
   "id": "spoken-guide",
   "metadata": {},
   "outputs": [],
   "source": [
    "def combine_days(dnaid1, dnaid2, results_dir):\n",
    "    df1 = pd.read_csv(Path(results_dir)/f'{dnaid1}_final_results.csv').assign(dnaid=f'{dnaid1}:{dnaid2}')\n",
    "    df2 = pd.read_csv(Path(results_dir)/f'{dnaid2}_final_results.csv').assign(dnaid=f'{dnaid1}:{dnaid2}')\n",
    "    df = df1.merge(df2, how='outer', on = ['gene', 'locus', 'num_barcodes', 'library', 'barcode', 'sstart', 'sseqid', 'experiment', 'dnaid'])\n",
    "    df.to_csv(Path(results_dir)/f'{dnaid1}_{dnaid2}_merged_results.csv')\n",
    "    return df\n"
   ]
  },
  {
   "cell_type": "code",
   "execution_count": null,
   "id": "blind-ending",
   "metadata": {},
   "outputs": [],
   "source": [
    "to_merge = [('dnaid2015', 'dnaid2016'), ('dnaid2017', 'dnaid2018'), ('dnaid2023', 'dnaid2024'), \n",
    "           ('dnaid2025', 'dnaid2026'), ('dnaid2028', 'dnaid2029')]\n",
    "\n",
    "\n",
    "for d2 in to_merge:\n",
    "    combine_days(d2[0], d2[1], Path(root)/results)\n"
   ]
  },
  {
   "cell_type": "code",
   "execution_count": null,
   "id": "undefined-advocacy",
   "metadata": {},
   "outputs": [],
   "source": [
    "singles = ['dnaid1315', 'dnaid1428', 'dnaid1429', 'dnaid2019', 'dnaid2027']\n",
    "\n"
   ]
  },
  {
   "cell_type": "code",
   "execution_count": null,
   "id": "searching-syria",
   "metadata": {},
   "outputs": [],
   "source": [
    "def load_merged_results(results_dir):\n",
    "    df = pd.concat([pd.read_csv(file, index_col=0) for file in results_dir.iterdir() if 'merged_results.csv' in file.name])\n",
    "    return df\n",
    "\n",
    "def load_singltons(results_dir):\n",
    "    singles = ['dnaid1315', 'dnaid1428', 'dnaid1429', 'dnaid2019', 'dnaid2027']\n",
    "    df_list = []\n",
    "    for s in singles:\n",
    "        df = pd.read_csv(Path(results_dir)/f'{s}_final_results.csv').assign(dnaid=s)\n",
    "        df = df.rename({'Unnamed: 0': 'gene'}, axis =1)\n",
    "        df_list.append(df)\n",
    "    \n",
    "    return pd.concat(df_list)\n",
    "    \n",
    "    \n",
    "def get_results(results_dir):\n",
    "    df = load_merged_results(Path(root)/results)\n",
    "    df2 = load_singltons(Path(root)/results)\n",
    "    return pd.concat([df, df2])\n",
    "\n",
    "fdf = get_results(Path(root)/results)  "
   ]
  },
  {
   "cell_type": "code",
   "execution_count": null,
   "id": "national-blend",
   "metadata": {},
   "outputs": [],
   "source": [
    "fdf = get_results(Path(root)/results)\n",
    "\n",
    "#fdf = fdf.dropna(subset=['locus'])"
   ]
  },
  {
   "cell_type": "code",
   "execution_count": null,
   "id": "professional-category",
   "metadata": {},
   "outputs": [],
   "source": [
    "fdf[['gene', 'locus', 'sstart', 'd1_ci', 'd2_ci', 'd3_ci', 'd4_ci', 'experiment', 'dnaid']].sample(10)"
   ]
  },
  {
   "cell_type": "code",
   "execution_count": null,
   "id": "present-spine",
   "metadata": {},
   "outputs": [],
   "source": [
    "print(fdf.shape)\n",
    "print(fdf.gene.nunique())\n",
    "print(fdf.experiment.nunique())\n",
    "print(fdf.experiment.unique())"
   ]
  },
  {
   "cell_type": "code",
   "execution_count": null,
   "id": "appropriate-chancellor",
   "metadata": {},
   "outputs": [],
   "source": [
    "num_hits = fdf.groupby('gene').experiment.count().reset_index()"
   ]
  },
  {
   "cell_type": "code",
   "execution_count": null,
   "id": "proprietary-jenny",
   "metadata": {},
   "outputs": [],
   "source": [
    "num_hits.experiment.hist(bins=50)"
   ]
  },
  {
   "cell_type": "code",
   "execution_count": null,
   "id": "brazilian-butler",
   "metadata": {},
   "outputs": [],
   "source": [
    "num_hits_g3 = num_hits[num_hits.experiment > 2]"
   ]
  },
  {
   "cell_type": "code",
   "execution_count": null,
   "id": "incident-hypothetical",
   "metadata": {},
   "outputs": [],
   "source": [
    "num_hits_g3.shape"
   ]
  },
  {
   "cell_type": "code",
   "execution_count": null,
   "id": "interracial-graduation",
   "metadata": {},
   "outputs": [],
   "source": [
    "1982/2990"
   ]
  },
  {
   "cell_type": "code",
   "execution_count": null,
   "id": "instructional-syndicate",
   "metadata": {},
   "outputs": [],
   "source": [
    "# 44% of genes were only hit once or twice\n",
    "\n"
   ]
  },
  {
   "cell_type": "code",
   "execution_count": null,
   "id": "static-buyer",
   "metadata": {},
   "outputs": [],
   "source": [
    "# Day 1\n",
    "# Genes that were significant in at least 1 library\n",
    "# of libraries this gene was found in\n",
    "# % of libraries it was a hit in\n",
    "d1_sig = fdf[fdf.d1_padj < 0.05] # 342 genes were signifcantly up/down at least ones\n",
    "d1_genes = d1_sig.gene.unique()"
   ]
  },
  {
   "cell_type": "code",
   "execution_count": null,
   "id": "compatible-garden",
   "metadata": {},
   "outputs": [],
   "source": [
    "len(d1_genes)"
   ]
  },
  {
   "cell_type": "code",
   "execution_count": null,
   "id": "pending-confidence",
   "metadata": {},
   "outputs": [],
   "source": [
    "d1_all = fdf[fdf.gene.isin(d1_genes)]"
   ]
  },
  {
   "cell_type": "code",
   "execution_count": null,
   "id": "hungry-consent",
   "metadata": {},
   "outputs": [],
   "source": [
    "d1_cons = d1_all.dropna(subset=['experiment']).groupby('gene').agg({'experiment':['count'], 'd1_padj':['min', 'max', num_sig]}).reset_index()\n",
    "d1_cons.columns = ['gene', 'exp_count', 'padj_min', 'padj_max', 'numSig']"
   ]
  },
  {
   "cell_type": "code",
   "execution_count": null,
   "id": "amended-visibility",
   "metadata": {},
   "outputs": [],
   "source": [
    "d1_cons.sort_values(\"numSig\", ascending=False)"
   ]
  },
  {
   "cell_type": "code",
   "execution_count": null,
   "id": "municipal-wallet",
   "metadata": {},
   "outputs": [],
   "source": [
    "def num_sig(x):\n",
    "    return sum([i < 0.05 for i in x])/len(x)"
   ]
  },
  {
   "cell_type": "code",
   "execution_count": null,
   "id": "invisible-flood",
   "metadata": {},
   "outputs": [],
   "source": [
    "d1_cons.numSig.hist(bins=50)"
   ]
  },
  {
   "cell_type": "code",
   "execution_count": null,
   "id": "green-infrared",
   "metadata": {},
   "outputs": [],
   "source": [
    "d1_cons.plot(\"exp_count\", \"numSig\", kind='scatter', alpha=0.5)"
   ]
  },
  {
   "cell_type": "code",
   "execution_count": null,
   "id": "described-devices",
   "metadata": {},
   "outputs": [],
   "source": [
    "d1_cons[d1_cons.numSig >0.4]"
   ]
  },
  {
   "cell_type": "code",
   "execution_count": null,
   "id": "interesting-reynolds",
   "metadata": {},
   "outputs": [],
   "source": [
    "d1_genes"
   ]
  },
  {
   "cell_type": "code",
   "execution_count": null,
   "id": "wireless-sustainability",
   "metadata": {},
   "outputs": [],
   "source": [
    "d1_cons[d1_cons.gene == 'yiiG']"
   ]
  },
  {
   "cell_type": "code",
   "execution_count": null,
   "id": "convertible-drinking",
   "metadata": {},
   "outputs": [],
   "source": [
    "fdf[fdf.gene == 'rfaI'][['gene','d3_num_samples', 'd3_fitness_mean', 'd3_ci', 'd3_zscore', 'd3_padj', 'experiment', 'dnaid']].dropna()"
   ]
  },
  {
   "cell_type": "code",
   "execution_count": null,
   "id": "decent-facial",
   "metadata": {},
   "outputs": [],
   "source": [
    "# WT \n",
    "\n",
    "def cntrl_df(fdf, phenotype = 'wt'):\n",
    "    wt = fdf[fdf.gene.isin([i for i in fdf.gene if phenotype in str(i)])]\n",
    "    wt = wt[['gene', 'experiment', 'dnaid', 'd1_fitness_mean', 'd2_fitness_mean', 'd3_fitness_mean', 'd4_fitness_mean']].drop_duplicates()\n",
    "    wt = wt.melt(id_vars=['gene', 'experiment', 'dnaid'],var_name = 'day', value_name='fitness')\n",
    "\n",
    "    replace_map = {'d1_fitness_mean': 'Day 1', \n",
    "                      'd2_fitness_mean': 'Day 2',\n",
    "                      'd3_fitness_mean': 'Day 3',\n",
    "                      'd4_fitness_mean': 'Day 4'}\n",
    "    wt = wt.replace({'day':replace_map})\n",
    "    return wt"
   ]
  },
  {
   "cell_type": "code",
   "execution_count": null,
   "id": "confidential-anger",
   "metadata": {},
   "outputs": [],
   "source": [
    "\n",
    "wt = cntrl_df(fdf)\n",
    "p9.options.figure_size = (20, 25)\n",
    "p = p9.ggplot(p9.aes(x='day', y='fitness', color='dnaid'), wt)\n",
    "(p + p9.geom_jitter(size=5, height=0, width=0.05) \n",
    "+ p9.theme_classic()\n",
    "+ p9.ggtitle(\"WT Fitness\\n\")\n",
    "+ p9.labs( y = 'Fitness (log2FC)')\n",
    "+ p9.theme(\n",
    "    plot_title = p9.element_text(family = \"Arial\", size = 24, hjust = 0), # Title size and font.\n",
    "    axis_text = p9.element_text(family = \"Arial\", size = 18), # Size and font of x and y values.\n",
    "    axis_title = p9.element_text(family = \"Arial\", size = 18), # Size and font of x and y axes.\n",
    "    panel_border = p9.element_rect(colour = \"black\", fill = np.nan, size = 1.5), # Black border around the plot area.\n",
    "    axis_ticks = p9.element_line(colour = \"black\", size = 1), # Style of x and y ticks.\n",
    "    legend_text = p9.element_text(family = \"Arial\", size = 18),\n",
    "    strip_text = p9.element_text(family = \"Arial\", size = 18),\n",
    "  )\n",
    "+ p9.scale_y_continuous(breaks=[-1.5, -1, -0.5, 0, 0.5, 1, 1.5], limits=[-1.5, 1.5])\n",
    "+ p9.facet_wrap('~ experiment', ncol=4))"
   ]
  },
  {
   "cell_type": "code",
   "execution_count": null,
   "id": "toxic-seven",
   "metadata": {},
   "outputs": [],
   "source": [
    "hyb = cntrl_df(fdf, 'hyb-')\n",
    "hyb"
   ]
  },
  {
   "cell_type": "code",
   "execution_count": null,
   "id": "obvious-circle",
   "metadata": {},
   "outputs": [],
   "source": [
    "hyb = cntrl_df(fdf, 'hyb-')\n",
    "p9.options.figure_size = (20, 25)\n",
    "p = p9.ggplot(p9.aes(x='day', y='fitness', color='dnaid'), hyb)\n",
    "(p + p9.geom_jitter(size=5, height=0, width=0.05) \n",
    "+ p9.theme_classic()\n",
    "+ p9.ggtitle(\"hyb Fitness\\n\")\n",
    "+ p9.labs( y = 'Fitness (log2FC)')\n",
    "+ p9.theme(\n",
    "    plot_title = p9.element_text(family = \"Arial\", size = 24, hjust = 0), # Title size and font.\n",
    "    axis_text = p9.element_text(family = \"Arial\", size = 18), # Size and font of x and y values.\n",
    "    axis_title = p9.element_text(family = \"Arial\", size = 18), # Size and font of x and y axes.\n",
    "    panel_border = p9.element_rect(colour = \"black\", fill = np.nan, size = 1.5), # Black border around the plot area.\n",
    "    axis_ticks = p9.element_line(colour = \"black\", size = 1), # Style of x and y ticks.\n",
    "    legend_text = p9.element_text(family = \"Arial\", size = 18),\n",
    "    strip_text = p9.element_text(family = \"Arial\", size = 18),\n",
    "  )\n",
    "#+ p9.scale_y_continuous(breaks=[-1.5, -1, -0.5, 0, 0.5, 1, 1.5], limits=[-1.5, 1.5])\n",
    "+ p9.facet_wrap('~ experiment', ncol=4))"
   ]
  },
  {
   "cell_type": "code",
   "execution_count": null,
   "id": "billion-patrick",
   "metadata": {},
   "outputs": [],
   "source": [
    "chey = cntrl_df(fdf, 'chey-')\n",
    "chey"
   ]
  },
  {
   "cell_type": "code",
   "execution_count": null,
   "id": "brutal-coalition",
   "metadata": {},
   "outputs": [],
   "source": [
    "chey = cntrl_df(fdf, 'chey-')\n",
    "p9.options.figure_size = (20, 25)\n",
    "p = p9.ggplot(p9.aes(x='day', y='fitness', color='dnaid'), chey)\n",
    "(p + p9.geom_jitter(size=5, height=0, width=0.05) \n",
    "+ p9.theme_classic()\n",
    "+ p9.ggtitle(\"chey Fitness\\n\")\n",
    "+ p9.labs( y = 'Fitness (log2FC)')\n",
    "+ p9.theme(\n",
    "    plot_title = p9.element_text(family = \"Arial\", size = 24, hjust = 0), # Title size and font.\n",
    "    axis_text = p9.element_text(family = \"Arial\", size = 18), # Size and font of x and y values.\n",
    "    axis_title = p9.element_text(family = \"Arial\", size = 18), # Size and font of x and y axes.\n",
    "    panel_border = p9.element_rect(colour = \"black\", fill = np.nan, size = 1.5), # Black border around the plot area.\n",
    "    axis_ticks = p9.element_line(colour = \"black\", size = 1), # Style of x and y ticks.\n",
    "    legend_text = p9.element_text(family = \"Arial\", size = 18),\n",
    "    strip_text = p9.element_text(family = \"Arial\", size = 18),\n",
    "  )\n",
    "#+ p9.scale_y_continuous(breaks=[-1.5, -1, -0.5, 0, 0.5, 1, 1.5], limits=[-1.5, 1.5])\n",
    "+ p9.facet_wrap('~ experiment', ncol=4))"
   ]
  },
  {
   "cell_type": "code",
   "execution_count": null,
   "id": "featured-running",
   "metadata": {},
   "outputs": [],
   "source": [
    "ssa = cntrl_df(fdf, 'ssaV_')\n",
    "ssa"
   ]
  },
  {
   "cell_type": "code",
   "execution_count": null,
   "id": "ceramic-museum",
   "metadata": {},
   "outputs": [],
   "source": [
    "\n",
    "p9.options.figure_size = (20, 25)\n",
    "p = p9.ggplot(p9.aes(x='day', y='fitness', color='dnaid'), ssa)\n",
    "(p + p9.geom_jitter(size=5, height=0, width=0.05) \n",
    "+ p9.theme_classic()\n",
    "+ p9.ggtitle(\"ssaV Fitness\\n\")\n",
    "+ p9.labs( y = 'Fitness (log2FC)')\n",
    "+ p9.theme(\n",
    "    plot_title = p9.element_text(family = \"Arial\", size = 24, hjust = 0), # Title size and font.\n",
    "    axis_text = p9.element_text(family = \"Arial\", size = 18), # Size and font of x and y values.\n",
    "    axis_title = p9.element_text(family = \"Arial\", size = 18), # Size and font of x and y axes.\n",
    "    panel_border = p9.element_rect(colour = \"black\", fill = np.nan, size = 1.5), # Black border around the plot area.\n",
    "    axis_ticks = p9.element_line(colour = \"black\", size = 1), # Style of x and y ticks.\n",
    "    legend_text = p9.element_text(family = \"Arial\", size = 18),\n",
    "    strip_text = p9.element_text(family = \"Arial\", size = 18),\n",
    "  )\n",
    "#+ p9.scale_y_continuous(breaks=[-1.5, -1, -0.5, 0, 0.5, 1, 1.5], limits=[-1.5, 1.5])\n",
    "+ p9.facet_wrap('~ experiment', ncol=4))"
   ]
  },
  {
   "cell_type": "code",
   "execution_count": null,
   "id": "excellent-magazine",
   "metadata": {},
   "outputs": [],
   "source": [
    "# Genes of Interest"
   ]
  },
  {
   "cell_type": "code",
   "execution_count": null,
   "id": "russian-space",
   "metadata": {},
   "outputs": [],
   "source": [
    "def get_gene(fdf, search_str='rfa'):\n",
    "    lps = fdf[fdf.gene.isin([i for i in fdf.gene if search_str in i])]\n",
    "    lps = lps[['gene', 'experiment', 'dnaid', 'd1_ci', 'd2_ci', 'd3_ci', 'd4_ci']].drop_duplicates()\n",
    "    lps = lps.melt(id_vars=['gene', 'experiment', 'dnaid'],var_name = 'day', value_name='CI')\n",
    "\n",
    "    replace_map_ci = {'d1_ci': 'Day 1', \n",
    "                          'd2_ci': 'Day 2',\n",
    "                          'd3_ci': 'Day 3',\n",
    "                          'd4_ci': 'Day 4'}\n",
    "    lps = lps.replace({'day':replace_map_ci})\n",
    "    return lps"
   ]
  },
  {
   "cell_type": "code",
   "execution_count": null,
   "id": "cloudy-witness",
   "metadata": {},
   "outputs": [],
   "source": [
    "rfa = get_gene(fdf, search_str='rfa')\n",
    "rfb = get_gene(fdf, search_str='rfb')\n",
    "frd = get_gene(fdf, search_str='frd')\n",
    "dcu = get_gene(fdf, search_str='dcu')\n",
    "hil = get_gene(fdf, search_str='hil')"
   ]
  },
  {
   "cell_type": "code",
   "execution_count": null,
   "id": "eastern-routine",
   "metadata": {},
   "outputs": [],
   "source": [
    "p9.options.figure_size = (15, 25)\n",
    "p = p9.ggplot(p9.aes(x='day', y='CI', color='experiment'), rfa)\n",
    "(p + p9.geom_jitter(size=3, height=0, width=0.05) \n",
    "+ p9.theme_classic()\n",
    "+ p9.ggtitle(\"rfa genes\\n\")\n",
    "#+ p9.labs( y = 'Fitness (log2FC)')\n",
    "+ p9.theme(\n",
    "    plot_title = p9.element_text(family = \"Arial\", size = 24, hjust = 0), # Title size and font.\n",
    "    axis_text = p9.element_text(family = \"Arial\", size = 18), # Size and font of x and y values.\n",
    "    axis_title = p9.element_text(family = \"Arial\", size = 18), # Size and font of x and y axes.\n",
    "    panel_border = p9.element_rect(colour = \"black\", fill = np.nan, size = 1.5), # Black border around the plot area.\n",
    "    axis_ticks = p9.element_line(colour = \"black\", size = 1), # Style of x and y ticks.\n",
    "    legend_text = p9.element_text(family = \"Arial\", size = 18),\n",
    "    strip_text = p9.element_text(family = \"Arial\", size = 18),\n",
    "  )\n",
    "#+ p9.scale_y_continuous(breaks=[-1.5, -1, -0.5, 0, 0.5, 1, 1.5], limits=[-1.5, 1.5])\n",
    " + p9.scale_y_log10()\n",
    "+ p9.facet_wrap('~ gene', ncol=4))"
   ]
  },
  {
   "cell_type": "code",
   "execution_count": null,
   "id": "narrative-possible",
   "metadata": {},
   "outputs": [],
   "source": [
    "p9.options.figure_size = (15, 25)\n",
    "p = p9.ggplot(p9.aes(x='day', y='CI', color='experiment'), rfb)\n",
    "(p + p9.geom_jitter(size=3, height=0, width=0.05) \n",
    "+ p9.theme_classic()\n",
    "+ p9.ggtitle(\"rfb genes\\n\")\n",
    "#+ p9.labs( y = 'Fitness (log2FC)')\n",
    "+ p9.theme(\n",
    "    plot_title = p9.element_text(family = \"Arial\", size = 24, hjust = 0), # Title size and font.\n",
    "    axis_text = p9.element_text(family = \"Arial\", size = 18), # Size and font of x and y values.\n",
    "    axis_title = p9.element_text(family = \"Arial\", size = 18), # Size and font of x and y axes.\n",
    "    panel_border = p9.element_rect(colour = \"black\", fill = np.nan, size = 1.5), # Black border around the plot area.\n",
    "    axis_ticks = p9.element_line(colour = \"black\", size = 1), # Style of x and y ticks.\n",
    "    legend_text = p9.element_text(family = \"Arial\", size = 18),\n",
    "    strip_text = p9.element_text(family = \"Arial\", size = 18),\n",
    "  )\n",
    "#+ p9.scale_y_continuous(breaks=[-1.5, -1, -0.5, 0, 0.5, 1, 1.5], limits=[-1.5, 1.5])\n",
    " + p9.scale_y_log10()\n",
    "+ p9.facet_wrap('~ gene', ncol=4))"
   ]
  },
  {
   "cell_type": "code",
   "execution_count": null,
   "id": "serial-wagner",
   "metadata": {},
   "outputs": [],
   "source": [
    "p9.options.figure_size = (10, 10)\n",
    "p = p9.ggplot(p9.aes(x='day', y='CI', color='experiment'), frd)\n",
    "(p + p9.geom_jitter(size=3, height=0, width=0.05) \n",
    "+ p9.theme_classic()\n",
    "+ p9.ggtitle(\"frd genes\\n\")\n",
    "#+ p9.labs( y = 'Fitness (log2FC)')\n",
    "+ p9.theme(\n",
    "    plot_title = p9.element_text(family = \"Arial\", size = 24, hjust = 0), # Title size and font.\n",
    "    axis_text = p9.element_text(family = \"Arial\", size = 18), # Size and font of x and y values.\n",
    "    axis_title = p9.element_text(family = \"Arial\", size = 18), # Size and font of x and y axes.\n",
    "    panel_border = p9.element_rect(colour = \"black\", fill = np.nan, size = 1.5), # Black border around the plot area.\n",
    "    axis_ticks = p9.element_line(colour = \"black\", size = 1), # Style of x and y ticks.\n",
    "    legend_text = p9.element_text(family = \"Arial\", size = 18),\n",
    "    strip_text = p9.element_text(family = \"Arial\", size = 18),\n",
    "  )\n",
    "#+ p9.scale_y_continuous(breaks=[-1.5, -1, -0.5, 0, 0.5, 1, 1.5], limits=[-1.5, 1.5])\n",
    " + p9.scale_y_log10()\n",
    "+ p9.facet_wrap('~ gene', ncol=4))"
   ]
  },
  {
   "cell_type": "code",
   "execution_count": null,
   "id": "chief-effectiveness",
   "metadata": {},
   "outputs": [],
   "source": [
    "p9.options.figure_size = (10, 5)\n",
    "p = p9.ggplot(p9.aes(x='day', y='CI', color='experiment'), hil)\n",
    "(p + p9.geom_jitter(size=3, height=0, width=0.05) \n",
    "+ p9.theme_classic()\n",
    "+ p9.ggtitle(\"hil genes\\n\")\n",
    "#+ p9.labs( y = 'Fitness (log2FC)')\n",
    "+ p9.theme(\n",
    "    plot_title = p9.element_text(family = \"Arial\", size = 24, hjust = 0), # Title size and font.\n",
    "    axis_text = p9.element_text(family = \"Arial\", size = 18), # Size and font of x and y values.\n",
    "    axis_title = p9.element_text(family = \"Arial\", size = 18), # Size and font of x and y axes.\n",
    "    panel_border = p9.element_rect(colour = \"black\", fill = np.nan, size = 1.5), # Black border around the plot area.\n",
    "    axis_ticks = p9.element_line(colour = \"black\", size = 1), # Style of x and y ticks.\n",
    "    legend_text = p9.element_text(family = \"Arial\", size = 18),\n",
    "    strip_text = p9.element_text(family = \"Arial\", size = 18),\n",
    "  )\n",
    "#+ p9.scale_y_continuous(breaks=[-1.5, -1, -0.5, 0, 0.5, 1, 1.5], limits=[-1.5, 1.5])\n",
    " + p9.scale_y_log10()\n",
    "+ p9.facet_wrap('~ gene', ncol=4))"
   ]
  },
  {
   "cell_type": "code",
   "execution_count": null,
   "id": "skilled-opportunity",
   "metadata": {},
   "outputs": [],
   "source": [
    "p9.options.figure_size = (12, 10)\n",
    "p = p9.ggplot(p9.aes(x='day', y='CI', color='experiment'), dcu)\n",
    "(p + p9.geom_jitter(size=3, height=0, width=0.05) \n",
    "+ p9.theme_classic()\n",
    "+ p9.ggtitle(\"dcu genes\\n\")\n",
    "#+ p9.labs( y = 'Fitness (log2FC)')\n",
    "+ p9.theme(\n",
    "    plot_title = p9.element_text(family = \"Arial\", size = 24, hjust = 0), # Title size and font.\n",
    "    axis_text = p9.element_text(family = \"Arial\", size = 18), # Size and font of x and y values.\n",
    "    axis_title = p9.element_text(family = \"Arial\", size = 18), # Size and font of x and y axes.\n",
    "    panel_border = p9.element_rect(colour = \"black\", fill = np.nan, size = 1.5), # Black border around the plot area.\n",
    "    axis_ticks = p9.element_line(colour = \"black\", size = 1), # Style of x and y ticks.\n",
    "    legend_text = p9.element_text(family = \"Arial\", size = 18),\n",
    "    strip_text = p9.element_text(family = \"Arial\", size = 18),\n",
    "  )\n",
    "#+ p9.scale_y_continuous(breaks=[-1.5, -1, -0.5, 0, 0.5, 1, 1.5], limits=[-1.5, 1.5])\n",
    " + p9.scale_y_log10()\n",
    "+ p9.facet_wrap('~ gene', ncol=3))"
   ]
  },
  {
   "cell_type": "code",
   "execution_count": null,
   "id": "middle-leather",
   "metadata": {},
   "outputs": [],
   "source": [
    "# Test\n",
    "genes_only = fdf.dropna(subset=['locus'])\n",
    "d1_hits = genes_only[genes_only.d1_padj < 0.01].gene.values"
   ]
  },
  {
   "cell_type": "code",
   "execution_count": null,
   "id": "demographic-output",
   "metadata": {},
   "outputs": [],
   "source": [
    "cnt_df = load_files(dnaids, Path(root)/counts)"
   ]
  },
  {
   "cell_type": "code",
   "execution_count": null,
   "id": "continent-recall",
   "metadata": {},
   "outputs": [],
   "source": [
    "cnt_df.sample(10)"
   ]
  },
  {
   "cell_type": "code",
   "execution_count": null,
   "id": "hispanic-nickel",
   "metadata": {},
   "outputs": [],
   "source": [
    "def summarize_dpi(cnts_df, results_df, dpi='d1'):\n",
    "    # Get the hits\n",
    "    genes_only = results_df.dropna(subset=['locus'])\n",
    "    hits = genes_only[genes_only[f'{dpi}_padj'] < 0.01].gene.values\n",
    "    # Get the counts\n",
    "    cnts = cnts_df[cnts_df.ShortName.isin(hits)]\n",
    "    cnts_sum = cnts.groupby([\"ShortName\", 'day']).agg({'cnt':['median']}).reset_index()\n",
    "    cnts_sum.columns = ['gene', 'day', 'cnt_median']\n",
    "    cnts_sum = cnts_sum[cnts_sum.day.isin(['d0', dpi])]\n",
    "    cnts_final = cnts_sum[['gene', 'day', 'cnt_median']]\n",
    "    cnts_final = cnts_final.pivot(index='gene', columns='day').reset_index()\n",
    "    cnts_final.columns = ['gene', 'inoculum', 'cnt']\n",
    "    \n",
    "    #Get num of experiments\n",
    "    hit_stat = (results_df[results_df['gene'].isin(hits)].groupby('gene')\n",
    "                   .agg({'experiment':['nunique'], f'{dpi}_padj':[len_sig]}).reset_index())\n",
    "    hit_stat.columns = ['gene', 'num_exp', 'num_sig']\n",
    "    tograph = hit_stat.merge(cnts_final, on='gene')\n",
    "    tograph['phits'] = tograph['num_sig']/tograph['num_exp']\n",
    "    return tograph\n",
    "\n",
    "def len_sig(x):\n",
    "    x = x.drop_duplicates()\n",
    "    return sum([i < 0.05 for i in x])"
   ]
  },
  {
   "cell_type": "code",
   "execution_count": null,
   "id": "featured-hybrid",
   "metadata": {},
   "outputs": [],
   "source": [
    "d1_cnts = cnt_df[cnt_df.ShortName.isin(d1_hits)]"
   ]
  },
  {
   "cell_type": "code",
   "execution_count": null,
   "id": "affiliated-hawaiian",
   "metadata": {},
   "outputs": [],
   "source": [
    "d1_cnts.sample(10)"
   ]
  },
  {
   "cell_type": "code",
   "execution_count": null,
   "id": "ranking-payment",
   "metadata": {},
   "outputs": [],
   "source": [
    "d1_cnts_sum = d1_cnts.groupby([\"ShortName\", 'day']).agg({'cnt':['median', 'count', 'max', 'min']}).reset_index()\n",
    "d1_cnts_sum.columns = ['gene', 'day', 'cnt_median', 'cnt_count', 'cnt_max', 'cnt_min']\n",
    "d1_cnts_sum = d1_cnts_sum[d1_cnts_sum.day.isin(['d0', 'd1'])]\n",
    "\n",
    "d1_cnts_final = d1_cnts_sum[['gene', 'day', 'cnt_median']]\n",
    "d1_cnts_final = d1_cnts_final.pivot(index='gene', columns='day').reset_index()\n",
    "d1_cnts_final.columns = ['gene', 'inoculum', 'day1_cnt']"
   ]
  },
  {
   "cell_type": "code",
   "execution_count": null,
   "id": "tutorial-little",
   "metadata": {},
   "outputs": [],
   "source": [
    "d1_hit_stat = d1_sum.groupby('gene').agg({'experiment':['nunique'], 'd1_padj':[len_sig]}).reset_index()\n",
    "d1_hit_stat.columns = ['gene', 'num_exp', 'num_sig']\n",
    "d1_hit_stat\n",
    "d1_tograph = d1_hit_stat.merge(d1_cnts_final, on='gene')\n",
    "d1_tograph['phits'] = d1_tograph['num_sig']/d1_tograph['num_exp']"
   ]
  },
  {
   "cell_type": "code",
   "execution_count": null,
   "id": "adolescent-benefit",
   "metadata": {},
   "outputs": [],
   "source": [
    "d1_tograph"
   ]
  },
  {
   "cell_type": "code",
   "execution_count": null,
   "id": "continuing-person",
   "metadata": {},
   "outputs": [],
   "source": [
    "import matplotlib\n",
    "matplotlib.cm.cmap_d.keys()"
   ]
  },
  {
   "cell_type": "code",
   "execution_count": null,
   "id": "settled-hudson",
   "metadata": {},
   "outputs": [],
   "source": [
    "dpi1 = summarize_dpi(cnt_df, fdf, dpi='d1')"
   ]
  },
  {
   "cell_type": "code",
   "execution_count": null,
   "id": "peaceful-stephen",
   "metadata": {},
   "outputs": [],
   "source": [
    "fdf[fdf.gene == 'nagC'][['gene', 'experiment', 'd2_padj']].drop_duplicates()"
   ]
  },
  {
   "cell_type": "code",
   "execution_count": null,
   "id": "choice-duplicate",
   "metadata": {},
   "outputs": [],
   "source": [
    "p9.options.figure_size = (10, 10)\n",
    "p = p9.ggplot(p9.aes(x='inoculum', y='cnt'), dpi1)\n",
    "(p + p9.geom_point(p9.aes(fill='phits', size='num_exp'))\n",
    "+p9.scale_y_log10()\n",
    " +p9.scale_x_log10()\n",
    " +p9.geom_text(p9.aes(x='inoculum', y='cnt', label='gene'),\n",
    "                  color=\"black\",nudge_y=0.08,\n",
    "                  data=dpi1[dpi1['phits'] >0.5])\n",
    " +p9.theme_classic()\n",
    " + p9.theme(\n",
    "    plot_title = p9.element_text(family = \"Arial\", size = 24, hjust = 0), # Title size and font.\n",
    "    axis_text = p9.element_text(family = \"Arial\", size = 18), # Size and font of x and y values.\n",
    "    axis_title = p9.element_text(family = \"Arial\", size = 18), # Size and font of x and y axes.\n",
    "    panel_border = p9.element_rect(colour = \"black\", fill = np.nan, size = 1.5), # Black border around the plot area.\n",
    "    axis_ticks = p9.element_line(colour = \"black\", size = 1), # Style of x and y ticks.\n",
    "    legend_text = p9.element_text(family = \"Arial\", size = 18),\n",
    "    strip_text = p9.element_text(family = \"Arial\", size = 18),\n",
    "  )\n",
    " +p9.ggtitle(\"1 DPI\")\n",
    " +p9.labs(y =\"1 DPI, Median Reads\", x= \"Inoculum, Median Reads\")\n",
    " +p9.geom_abline(intercept=0, slope=1)\n",
    " \n",
    " +p9.scale_fill_continuous('hot_r')\n",
    ")\n"
   ]
  },
  {
   "cell_type": "code",
   "execution_count": null,
   "id": "fatty-mayor",
   "metadata": {},
   "outputs": [],
   "source": [
    "dpi2 = summarize_dpi(cnt_df, fdf, dpi='d2')"
   ]
  },
  {
   "cell_type": "code",
   "execution_count": null,
   "id": "operating-think",
   "metadata": {},
   "outputs": [],
   "source": [
    "dpi2 = summarize_dpi(cnt_df, fdf, dpi='d2')\n",
    "p9.options.figure_size = (10, 10)\n",
    "p = p9.ggplot(p9.aes(x='inoculum', y='cnt'), dpi2)\n",
    "(p + p9.geom_point(p9.aes(fill='phits', size='num_exp'))\n",
    "+p9.scale_y_log10()\n",
    " +p9.scale_x_log10()\n",
    " +p9.geom_text(p9.aes(x='inoculum', y='cnt', label='gene'),\n",
    "                  color=\"black\",nudge_y=0.08,\n",
    "                  data=dpi2[dpi2['phits'] >0.5])\n",
    " +p9.theme_classic()\n",
    " + p9.theme(\n",
    "    plot_title = p9.element_text(family = \"Arial\", size = 24, hjust = 0), # Title size and font.\n",
    "    axis_text = p9.element_text(family = \"Arial\", size = 18), # Size and font of x and y values.\n",
    "    axis_title = p9.element_text(family = \"Arial\", size = 18), # Size and font of x and y axes.\n",
    "    panel_border = p9.element_rect(colour = \"black\", fill = np.nan, size = 1.5), # Black border around the plot area.\n",
    "    axis_ticks = p9.element_line(colour = \"black\", size = 1), # Style of x and y ticks.\n",
    "    legend_text = p9.element_text(family = \"Arial\", size = 18),\n",
    "    strip_text = p9.element_text(family = \"Arial\", size = 18),\n",
    "  )\n",
    " +p9.ggtitle(\"2 DPI\")\n",
    " +p9.labs(y =\"2 DPI, Median Reads\", x= \"Inoculum, Median Reads\")\n",
    " +p9.geom_abline(intercept=0, slope=1)\n",
    " \n",
    " +p9.scale_fill_continuous('hot_r')\n",
    ")\n"
   ]
  },
  {
   "cell_type": "code",
   "execution_count": null,
   "id": "fiscal-chemistry",
   "metadata": {},
   "outputs": [],
   "source": [
    "dpi3 = summarize_dpi(cnt_df, fdf, dpi='d3')\n",
    "dpi4 = summarize_dpi(cnt_df, fdf, dpi='d4')"
   ]
  },
  {
   "cell_type": "code",
   "execution_count": null,
   "id": "literary-greek",
   "metadata": {},
   "outputs": [],
   "source": [
    "dpi3 = summarize_dpi(cnt_df, fdf, dpi='d3')\n",
    "p9.options.figure_size = (10, 10)\n",
    "p = p9.ggplot(p9.aes(x='inoculum', y='cnt'), dpi3)\n",
    "(p + p9.geom_point(p9.aes(fill='phits', size='num_exp'))\n",
    "+p9.scale_y_log10()\n",
    " +p9.scale_x_log10()\n",
    " +p9.geom_text(p9.aes(x='inoculum', y='cnt', label='gene'),\n",
    "                  color=\"black\",nudge_y=0.08,\n",
    "                  data=dpi3[dpi3['phits'] >0.5])\n",
    " +p9.theme_classic()\n",
    " + p9.theme(\n",
    "    plot_title = p9.element_text(family = \"Arial\", size = 24, hjust = 0), # Title size and font.\n",
    "    axis_text = p9.element_text(family = \"Arial\", size = 18), # Size and font of x and y values.\n",
    "    axis_title = p9.element_text(family = \"Arial\", size = 18), # Size and font of x and y axes.\n",
    "    panel_border = p9.element_rect(colour = \"black\", fill = np.nan, size = 1.5), # Black border around the plot area.\n",
    "    axis_ticks = p9.element_line(colour = \"black\", size = 1), # Style of x and y ticks.\n",
    "    legend_text = p9.element_text(family = \"Arial\", size = 18),\n",
    "    strip_text = p9.element_text(family = \"Arial\", size = 18),\n",
    "  )\n",
    " +p9.ggtitle(\"3 DPI\")\n",
    " +p9.labs(y =\"3 DPI, Median Reads\", x= \"Inoculum, Median Reads\")\n",
    " +p9.geom_abline(intercept=0, slope=1)\n",
    " \n",
    " +p9.scale_fill_continuous('hot_r')\n",
    ")\n"
   ]
  },
  {
   "cell_type": "code",
   "execution_count": null,
   "id": "micro-publication",
   "metadata": {},
   "outputs": [],
   "source": [
    "dpi4 = summarize_dpi(cnt_df, fdf, dpi='d4')\n",
    "p9.options.figure_size = (10, 10)\n",
    "p = p9.ggplot(p9.aes(x='inoculum', y='cnt'), dpi4)\n",
    "(p + p9.geom_point(p9.aes(fill='phits', size='num_exp'))\n",
    "+p9.scale_y_log10()\n",
    " +p9.scale_x_log10()\n",
    " +p9.geom_text(p9.aes(x='inoculum', y='cnt', label='gene'),\n",
    "                  color=\"black\",nudge_y=0.08,\n",
    "                  data=dpi4[dpi4['phits'] >0.5])\n",
    " +p9.theme_classic()\n",
    " + p9.theme(\n",
    "    plot_title = p9.element_text(family = \"Arial\", size = 24, hjust = 0), # Title size and font.\n",
    "    axis_text = p9.element_text(family = \"Arial\", size = 18), # Size and font of x and y values.\n",
    "    axis_title = p9.element_text(family = \"Arial\", size = 18), # Size and font of x and y axes.\n",
    "    panel_border = p9.element_rect(colour = \"black\", fill = np.nan, size = 1.5), # Black border around the plot area.\n",
    "    axis_ticks = p9.element_line(colour = \"black\", size = 1), # Style of x and y ticks.\n",
    "    legend_text = p9.element_text(family = \"Arial\", size = 18),\n",
    "    strip_text = p9.element_text(family = \"Arial\", size = 18),\n",
    "  )\n",
    " +p9.ggtitle(\"4 DPI\")\n",
    " +p9.labs(y =\"4 DPI, Median Reads\", x= \"Inoculum, Median Reads\")\n",
    " +p9.geom_abline(intercept=0, slope=1)\n",
    " \n",
    " +p9.scale_fill_continuous('hot_r')\n",
    ")"
   ]
  },
  {
   "cell_type": "code",
   "execution_count": null,
   "id": "specialized-median",
   "metadata": {},
   "outputs": [],
   "source": [
    "def num_sig(x):\n",
    "    return sum([i < 0.05 for i in x])/len(x)"
   ]
  },
  {
   "cell_type": "code",
   "execution_count": null,
   "id": "median-spanish",
   "metadata": {},
   "outputs": [],
   "source": []
  },
  {
   "cell_type": "code",
   "execution_count": null,
   "id": "compliant-protest",
   "metadata": {},
   "outputs": [],
   "source": [
    "def lenx(x):\n",
    "    return len(x.dropna())"
   ]
  },
  {
   "cell_type": "code",
   "execution_count": null,
   "id": "interior-message",
   "metadata": {},
   "outputs": [],
   "source": [
    "fdf.shape"
   ]
  },
  {
   "cell_type": "code",
   "execution_count": null,
   "id": "engaging-rating",
   "metadata": {},
   "outputs": [],
   "source": [
    "fdf[['gene', 'locus', 'library', 'experiment', 'dnaid']].head(25)"
   ]
  },
  {
   "cell_type": "code",
   "execution_count": null,
   "id": "identical-electricity",
   "metadata": {},
   "outputs": [],
   "source": [
    "fdf.to_csv(Path(root)/results/\"16_04_final_results_merged.csv\", index=False)"
   ]
  },
  {
   "cell_type": "code",
   "execution_count": null,
   "id": "mounted-barrel",
   "metadata": {},
   "outputs": [],
   "source": []
  }
 ],
 "metadata": {
  "kernelspec": {
   "display_name": "Python 3",
   "language": "python",
   "name": "python3"
  },
  "language_info": {
   "codemirror_mode": {
    "name": "ipython",
    "version": 3
   },
   "file_extension": ".py",
   "mimetype": "text/x-python",
   "name": "python",
   "nbconvert_exporter": "python",
   "pygments_lexer": "ipython3",
   "version": "3.6.6"
  }
 },
 "nbformat": 4,
 "nbformat_minor": 5
}
