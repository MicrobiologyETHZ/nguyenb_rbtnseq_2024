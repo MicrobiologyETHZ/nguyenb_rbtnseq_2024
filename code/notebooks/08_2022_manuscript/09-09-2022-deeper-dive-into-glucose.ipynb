{
 "cells": [
  {
   "cell_type": "code",
   "execution_count": null,
   "metadata": {
    "ExecuteTime": {
     "end_time": "2022-09-21T08:13:32.602532Z",
     "start_time": "2022-09-21T08:13:12.486137Z"
    }
   },
   "outputs": [],
   "source": [
    "# %load load_manuscript_data.py\n",
    "import pandas as pd\n",
    "import numpy as np\n",
    "import matplotlib.pyplot as plt\n",
    "import os\n",
    "from pathlib import Path\n",
    "import seaborn as sns\n",
    "import sys\n",
    "import plotly.express as px\n",
    "import plotly.io as pio\n",
    "import yaml\n",
    "\n",
    "sns.set_context(\"notebook\", font_scale=1.4)\n",
    "pd.set_option(\"display.max_columns\", 100)\n",
    "pd.set_option(\"display.max_rows\", 100)\n",
    "plt.rcParams[\"figure.figsize\"] = (16, 12)\n",
    "plt.rcParams['savefig.dpi'] = 200\n",
    "plt.rcParams['figure.autolayout'] = False\n",
    "plt.rcParams['axes.labelsize'] = 18\n",
    "plt.rcParams['axes.titlesize'] = 20\n",
    "plt.rcParams['font.size'] = 16\n",
    "plt.rcParams['lines.linewidth'] = 2.0\n",
    "plt.rcParams['lines.markersize'] = 8\n",
    "plt.rcParams['legend.fontsize'] = 14\n",
    "pd.set_option('display.float_format', lambda x: '{:,.4f}'.format(x))\n",
    "\n",
    "\n",
    "config_file = \"manuscript_config.yaml\"\n",
    "with open(config_file) as file:\n",
    "    # The FullLoader parameter handles the conversion from YAML\n",
    "    # scalar values to Python the dictionary format\n",
    "    configs = yaml.load(file, Loader=yaml.FullLoader)\n",
    "    \n",
    "# Run on server:\n",
    "run_on = \"server\"\n",
    "root = Path(configs['root'][run_on])\n",
    "scratchDir = Path(configs['scratchDir'][run_on])\n",
    "figuresDir = Path(configs['figuresDir'][run_on])\n",
    "\n",
    "alphabetClrs = px.colors.qualitative.Alphabet\n",
    "clrs = [\"#f7ba65\", \"#bf4713\", \"#9c002f\", \"#d73d00\", \"#008080\", \"#004c4c\"]\n",
    "colors = {'grey': alphabetClrs[8], \n",
    "        'light_yellow': clrs[0],\n",
    "        'darko': clrs[1],\n",
    "        'maroon':clrs[2],\n",
    "        'brighto': clrs[3],\n",
    "        'teal':clrs[4],\n",
    "        'darkteal':clrs[5]\n",
    "       }"
   ]
  },
  {
   "cell_type": "code",
   "execution_count": null,
   "metadata": {
    "ExecuteTime": {
     "end_time": "2022-09-21T08:13:36.080608Z",
     "start_time": "2022-09-21T08:13:36.074825Z"
    }
   },
   "outputs": [],
   "source": [
    "countsFile = root/configs['wetmore']['countsFile']\n",
    "publishedCountsFile = root/configs['wetmore']['publishedCountsFile']"
   ]
  },
  {
   "cell_type": "code",
   "execution_count": null,
   "metadata": {
    "ExecuteTime": {
     "end_time": "2022-09-21T08:14:26.950181Z",
     "start_time": "2022-09-21T08:14:26.945174Z"
    }
   },
   "outputs": [],
   "source": [
    "newCountsFile = root/\"wetmore_2015/glucose_results/H3_new_e0_mbarq_counts.csv\""
   ]
  },
  {
   "cell_type": "code",
   "execution_count": null,
   "metadata": {
    "ExecuteTime": {
     "end_time": "2022-09-21T08:15:40.817718Z",
     "start_time": "2022-09-21T08:15:39.900816Z"
    }
   },
   "outputs": [],
   "source": [
    "ncnts = pd.read_csv(newCountsFile).dropna()\n",
    "nsamaCnts = ncnts[~ncnts.old_locus_tag.str.contains(\":\")]"
   ]
  },
  {
   "cell_type": "code",
   "execution_count": null,
   "metadata": {
    "ExecuteTime": {
     "end_time": "2022-09-21T08:16:11.106156Z",
     "start_time": "2022-09-21T08:16:11.095185Z"
    }
   },
   "outputs": [],
   "source": [
    "nsamaCnts.barcode_count.median()"
   ]
  },
  {
   "cell_type": "code",
   "execution_count": null,
   "metadata": {
    "ExecuteTime": {
     "end_time": "2022-09-21T08:14:44.399500Z",
     "start_time": "2022-09-21T08:14:42.450125Z"
    }
   },
   "outputs": [],
   "source": [
    "cnts = pd.read_csv(countsFile, usecols = ['barcode', 'old_locus_tag', 'H1', 'H2', 'H3', 'H31']).dropna()\n",
    "samaCnts = cnts[~cnts.old_locus_tag.str.contains(\":\")]"
   ]
  },
  {
   "cell_type": "code",
   "execution_count": null,
   "metadata": {
    "ExecuteTime": {
     "end_time": "2022-09-21T08:14:49.457155Z",
     "start_time": "2022-09-21T08:14:49.418576Z"
    }
   },
   "outputs": [],
   "source": [
    "samaCnts[['H1', 'H2', 'H3', 'H31']].median()"
   ]
  },
  {
   "cell_type": "code",
   "execution_count": null,
   "metadata": {
    "ExecuteTime": {
     "end_time": "2022-09-09T10:03:29.863632Z",
     "start_time": "2022-09-09T10:03:29.860052Z"
    }
   },
   "outputs": [],
   "source": [
    "samaCnts.shape"
   ]
  },
  {
   "cell_type": "code",
   "execution_count": null,
   "metadata": {
    "ExecuteTime": {
     "end_time": "2022-09-09T10:03:40.204183Z",
     "start_time": "2022-09-09T10:03:40.158533Z"
    }
   },
   "outputs": [],
   "source": [
    "cnts[['H1', 'H2', 'H3', 'H31']].median()"
   ]
  },
  {
   "cell_type": "code",
   "execution_count": null,
   "metadata": {
    "ExecuteTime": {
     "end_time": "2022-09-09T10:03:48.671301Z",
     "start_time": "2022-09-09T10:03:48.663195Z"
    }
   },
   "outputs": [],
   "source": [
    "cnts.shape"
   ]
  },
  {
   "cell_type": "code",
   "execution_count": null,
   "metadata": {
    "ExecuteTime": {
     "end_time": "2022-09-21T08:16:57.168999Z",
     "start_time": "2022-09-21T08:16:56.269100Z"
    }
   },
   "outputs": [],
   "source": [
    "pubCnts = pd.read_table(publishedCountsFile, usecols=['rcbarcode', 'SB2B_ML5_set1.H1', \"SB2B_ML5_set1.H2\",\n",
    "                                                      \"SB2B_ML5_set1.H3\",\n",
    "                                                     \"SB2B_ML5_set1.H31\"])"
   ]
  },
  {
   "cell_type": "code",
   "execution_count": null,
   "metadata": {
    "ExecuteTime": {
     "end_time": "2022-09-21T08:16:58.367051Z",
     "start_time": "2022-09-21T08:16:58.357393Z"
    }
   },
   "outputs": [],
   "source": [
    "pubCnts.head()"
   ]
  },
  {
   "cell_type": "code",
   "execution_count": null,
   "metadata": {
    "ExecuteTime": {
     "end_time": "2022-09-21T08:17:09.867992Z",
     "start_time": "2022-09-21T08:17:09.499784Z"
    }
   },
   "outputs": [],
   "source": [
    "df = nsamaCnts.merge(pubCnts, left_on='barcode', right_on='rcbarcode', how='inner')"
   ]
  },
  {
   "cell_type": "code",
   "execution_count": null,
   "metadata": {
    "ExecuteTime": {
     "end_time": "2022-09-21T08:18:07.965604Z",
     "start_time": "2022-09-21T08:18:07.488515Z"
    }
   },
   "outputs": [],
   "source": [
    "df2 = samaCnts.merge(pubCnts, left_on='barcode', right_on='rcbarcode', how='inner')"
   ]
  },
  {
   "cell_type": "code",
   "execution_count": null,
   "metadata": {
    "ExecuteTime": {
     "end_time": "2022-09-21T08:17:11.381375Z",
     "start_time": "2022-09-21T08:17:11.374470Z"
    }
   },
   "outputs": [],
   "source": [
    "df.shape"
   ]
  },
  {
   "cell_type": "code",
   "execution_count": null,
   "metadata": {
    "ExecuteTime": {
     "end_time": "2022-09-09T10:06:16.133310Z",
     "start_time": "2022-09-09T10:06:16.129900Z"
    }
   },
   "outputs": [],
   "source": [
    "pubCnts.shape"
   ]
  },
  {
   "cell_type": "code",
   "execution_count": null,
   "metadata": {
    "ExecuteTime": {
     "end_time": "2022-09-09T10:06:25.816831Z",
     "start_time": "2022-09-09T10:06:25.754146Z"
    }
   },
   "outputs": [],
   "source": [
    "pubCnts.median()"
   ]
  },
  {
   "cell_type": "code",
   "execution_count": null,
   "metadata": {
    "ExecuteTime": {
     "end_time": "2022-09-09T10:16:41.314082Z",
     "start_time": "2022-09-09T10:16:41.071551Z"
    }
   },
   "outputs": [],
   "source": [
    "np.log2(df.H3+1).hist(bins=100)"
   ]
  },
  {
   "cell_type": "code",
   "execution_count": null,
   "metadata": {
    "ExecuteTime": {
     "end_time": "2022-09-09T10:18:31.404746Z",
     "start_time": "2022-09-09T10:18:31.151977Z"
    }
   },
   "outputs": [],
   "source": [
    "np.log2(df['SB2B_ML5_set1.H3'] +1).hist(bins=100)"
   ]
  },
  {
   "cell_type": "code",
   "execution_count": null,
   "metadata": {
    "ExecuteTime": {
     "end_time": "2022-09-09T10:06:53.939765Z",
     "start_time": "2022-09-09T10:06:53.902190Z"
    }
   },
   "outputs": [],
   "source": [
    "df.head()"
   ]
  },
  {
   "cell_type": "code",
   "execution_count": null,
   "metadata": {
    "ExecuteTime": {
     "end_time": "2022-09-21T08:17:37.891438Z",
     "start_time": "2022-09-21T08:17:27.483534Z"
    }
   },
   "outputs": [],
   "source": [
    "px.scatter(df, x='barcode_count', y='SB2B_ML5_set1.H3', log_x=True, log_y=True)"
   ]
  },
  {
   "cell_type": "code",
   "execution_count": null,
   "metadata": {
    "ExecuteTime": {
     "end_time": "2022-09-21T08:18:31.320964Z",
     "start_time": "2022-09-21T08:18:29.763850Z"
    }
   },
   "outputs": [],
   "source": [
    "px.scatter(df2, x='H3', y='SB2B_ML5_set1.H3', log_x=True, log_y=True)"
   ]
  },
  {
   "cell_type": "code",
   "execution_count": null,
   "metadata": {},
   "outputs": [],
   "source": []
  }
 ],
 "metadata": {
  "kernelspec": {
   "display_name": "Python 3 (ipykernel)",
   "language": "python",
   "name": "python3"
  },
  "language_info": {
   "codemirror_mode": {
    "name": "ipython",
    "version": 3
   },
   "file_extension": ".py",
   "mimetype": "text/x-python",
   "name": "python",
   "nbconvert_exporter": "python",
   "pygments_lexer": "ipython3",
   "version": "3.8.12"
  },
  "toc": {
   "base_numbering": 1,
   "nav_menu": {},
   "number_sections": true,
   "sideBar": true,
   "skip_h1_title": false,
   "title_cell": "Table of Contents",
   "title_sidebar": "Contents",
   "toc_cell": false,
   "toc_position": {},
   "toc_section_display": true,
   "toc_window_display": true
  }
 },
 "nbformat": 4,
 "nbformat_minor": 4
}
