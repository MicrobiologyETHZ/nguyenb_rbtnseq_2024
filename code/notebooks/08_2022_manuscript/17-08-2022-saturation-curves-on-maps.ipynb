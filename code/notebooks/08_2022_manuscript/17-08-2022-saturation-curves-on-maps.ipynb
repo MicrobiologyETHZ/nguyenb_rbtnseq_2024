{
 "cells": [
  {
   "cell_type": "code",
   "execution_count": null,
   "metadata": {
    "ExecuteTime": {
     "end_time": "2022-09-22T08:57:42.368149Z",
     "start_time": "2022-09-22T08:57:38.985784Z"
    }
   },
   "outputs": [],
   "source": [
    "# %load load_manuscript_data.py\n",
    "import pandas as pd\n",
    "import numpy as np\n",
    "import matplotlib.pyplot as plt\n",
    "import os\n",
    "from pathlib import Path\n",
    "import seaborn as sns\n",
    "import sys\n",
    "import plotly.express as px\n",
    "import plotly.io as pio\n",
    "import yaml\n",
    "\n",
    "sns.set_context(\"notebook\", font_scale=1.4)\n",
    "pd.set_option(\"display.max_columns\", 100)\n",
    "pd.set_option(\"display.max_rows\", 100)\n",
    "plt.rcParams[\"figure.figsize\"] = (16, 12)\n",
    "plt.rcParams['savefig.dpi'] = 200\n",
    "plt.rcParams['figure.autolayout'] = False\n",
    "plt.rcParams['axes.labelsize'] = 18\n",
    "plt.rcParams['axes.titlesize'] = 20\n",
    "plt.rcParams['font.size'] = 16\n",
    "plt.rcParams['lines.linewidth'] = 2.0\n",
    "plt.rcParams['lines.markersize'] = 8\n",
    "plt.rcParams['legend.fontsize'] = 14\n",
    "pd.set_option('display.float_format', lambda x: '{:,.4f}'.format(x))\n",
    "\n",
    "\n",
    "config_file = \"manuscript_config.yaml\"\n",
    "with open(config_file) as file:\n",
    "    # The FullLoader parameter handles the conversion from YAML\n",
    "    # scalar values to Python the dictionary format\n",
    "    configs = yaml.load(file, Loader=yaml.FullLoader)\n",
    "    \n",
    "# Run on server:\n",
    "run_on = \"server\"\n",
    "root = Path(configs['root'][run_on])\n",
    "scratchDir = Path(configs['scratchDir'][run_on])\n",
    "figuresDir = Path(configs['figuresDir'][run_on])\n",
    "\n",
    "alphabetClrs = px.colors.qualitative.Alphabet\n",
    "clrs = [\"#f7ba65\", \"#bf4713\", \"#9c002f\", \"#d73d00\", \"#008080\", \"#004c4c\"]\n",
    "colors = {'grey': alphabetClrs[8], \n",
    "        'light_yellow': clrs[0],\n",
    "        'darko': clrs[1],\n",
    "        'maroon':clrs[2],\n",
    "        'brighto': clrs[3],\n",
    "        'teal':clrs[4],\n",
    "        'darkteal':clrs[5]\n",
    "       }"
   ]
  },
  {
   "cell_type": "markdown",
   "metadata": {},
   "source": [
    "# Load the maps"
   ]
  },
  {
   "cell_type": "code",
   "execution_count": null,
   "metadata": {
    "ExecuteTime": {
     "end_time": "2022-09-22T08:57:49.400111Z",
     "start_time": "2022-09-22T08:57:49.394675Z"
    }
   },
   "outputs": [],
   "source": [
    "from numpy.random import RandomState"
   ]
  },
  {
   "cell_type": "code",
   "execution_count": null,
   "metadata": {
    "ExecuteTime": {
     "end_time": "2022-09-22T08:57:51.970995Z",
     "start_time": "2022-09-22T08:57:51.953581Z"
    }
   },
   "outputs": [],
   "source": [
    "def load_map(file, name):\n",
    "    return (pd.read_csv(file)\n",
    "            .assign(sample=name)[['barcode', 'number_of_reads', 'sample']]\n",
    "            .drop_duplicates()\n",
    "            .pivot(index=\"sample\", columns='barcode', values='number_of_reads'))\n",
    "    \n",
    "    \n",
    "def rarefaction(M, seed=0, depth=1000000):\n",
    "    prng = RandomState(seed) # reproducible results\n",
    "    noccur = np.sum(M, axis=1) # number of occurrences for each sample\n",
    "    nvar = M.shape[1] # number of variables\n",
    "    Mrarefied = np.empty_like(M)\n",
    "    depths = []\n",
    "    for i in range(M.shape[0]): # for each sample\n",
    "        p = M.iloc[i] / float(noccur[i]) # relAb of each gene -> probability\n",
    "        if depth >= noccur[i]:\n",
    "            choice = prng.choice(nvar, noccur[i], p=p)\n",
    "            depths.append(noccur[i])\n",
    "        else:\n",
    "            choice = prng.choice(nvar, depth, p=p)\n",
    "            depths.append(depth)\n",
    "        Mrarefied[i] = np.bincount(choice, minlength=nvar)\n",
    "        \n",
    "    return pd.DataFrame(Mrarefied, index=M.index, columns=M.columns), depths\n",
    "\n",
    "\n",
    "def sat_curve(df, depths, cutoff=100):\n",
    "    n_bcs = []\n",
    "    n_reads = []\n",
    "    for depth in depths:\n",
    "        r, d = rarefaction(df, depth=depth)\n",
    "        n_bcs.append((r>cutoff).sum(axis=1).iloc[0])\n",
    "        n_reads.append(d[0])\n",
    "    return pd.DataFrame([n_bcs, n_reads], index=['num_insertions', 'num_reads']).T\n",
    "\n",
    "\n",
    "def depth_vs_num_inserts(pivot_map, depth, cutoffs):\n",
    "    df_list = []\n",
    "    for cutoff in cutoffs:\n",
    "        df = sat_curve(pivot_map, depth, cutoff)\n",
    "        df['ReadCutoff'] = f'{cutoff} Reads'\n",
    "        df_list.append(df)\n",
    "    return pd.concat(df_list)"
   ]
  },
  {
   "cell_type": "code",
   "execution_count": null,
   "metadata": {
    "ExecuteTime": {
     "end_time": "2022-09-22T08:58:23.261737Z",
     "start_time": "2022-09-22T08:58:23.256519Z"
    }
   },
   "outputs": [],
   "source": [
    "nguyen_map_file = root/configs['nguyen']['mapFile']['unfiltered']\n",
    "wetmore_map_file = root/configs['wetmore']['mapFile']['unfiltered']"
   ]
  },
  {
   "cell_type": "code",
   "execution_count": null,
   "metadata": {
    "ExecuteTime": {
     "end_time": "2022-09-22T08:58:30.126120Z",
     "start_time": "2022-09-22T08:58:25.515398Z"
    }
   },
   "outputs": [],
   "source": [
    "nguyen_map = load_map(nguyen_map_file, 'nguyen')\n",
    "wetmore_map = load_map(wetmore_map_file, 'wetmore')"
   ]
  },
  {
   "cell_type": "code",
   "execution_count": null,
   "metadata": {
    "ExecuteTime": {
     "end_time": "2022-09-22T08:58:31.558965Z",
     "start_time": "2022-09-22T08:58:30.806241Z"
    }
   },
   "outputs": [],
   "source": [
    "print(nguyen_map.sum(axis=1))\n",
    "nguyen_depth = list(range(50000, 9000000, 1000000))+ [250000, 500000, 750000]\n",
    "nguyen_depth.sort()\n",
    "print(wetmore_map.sum(axis=1))\n",
    "wetmore_depth = list(range(100000, 17000000, 1000000))\n",
    "cutoffs = [5, 10, 50, 100, 500]"
   ]
  },
  {
   "cell_type": "code",
   "execution_count": null,
   "metadata": {
    "ExecuteTime": {
     "end_time": "2022-09-22T08:59:06.840225Z",
     "start_time": "2022-09-22T08:58:40.661012Z"
    }
   },
   "outputs": [],
   "source": [
    "nguyen_curves = depth_vs_num_inserts(nguyen_map, nguyen_depth, cutoffs)"
   ]
  },
  {
   "cell_type": "code",
   "execution_count": null,
   "metadata": {
    "ExecuteTime": {
     "end_time": "2022-09-22T09:04:40.373855Z",
     "start_time": "2022-09-22T08:59:09.386325Z"
    }
   },
   "outputs": [],
   "source": [
    "wetmore_curves = depth_vs_num_inserts(wetmore_map, wetmore_depth, cutoffs)"
   ]
  },
  {
   "cell_type": "code",
   "execution_count": null,
   "metadata": {
    "ExecuteTime": {
     "end_time": "2022-09-22T09:06:11.337377Z",
     "start_time": "2022-09-22T09:06:11.326816Z"
    }
   },
   "outputs": [],
   "source": [
    "colors['darkteal']"
   ]
  },
  {
   "cell_type": "code",
   "execution_count": null,
   "metadata": {
    "ExecuteTime": {
     "end_time": "2022-09-22T09:13:55.190439Z",
     "start_time": "2022-09-22T09:13:55.119770Z"
    }
   },
   "outputs": [],
   "source": [
    "fig = px.line(nguyen_curves, \n",
    "              x=\"num_reads\", \n",
    "              y=\"num_insertions\", \n",
    "              color='ReadCutoff',\n",
    "              color_discrete_map = {'5 Reads': colors['darkteal'], \n",
    "                                   '10 Reads': colors['teal'],\n",
    "                                   '50 Reads': colors['maroon'],\n",
    "                                   '100 Reads': colors['brighto'], \n",
    "                                   '500 Reads':colors['light_yellow']},\n",
    "              labels = {'num_reads': \"Sequencing Depth (millions of reads)\",\n",
    "                        'num_insertions': \"Number of unique insertions\",\n",
    "                        'ReadCutoff': 'Detection Limit'}, \n",
    "              template = \"plotly_white\", \n",
    "              height=600, \n",
    "              width=1000)\n",
    "\n",
    "fig.update_traces(mode='markers+lines', line_width=4, marker_size=12)\n",
    "fig.update_layout(\n",
    "    \n",
    "    font_size=22,\n",
    ")\n"
   ]
  },
  {
   "cell_type": "code",
   "execution_count": null,
   "metadata": {
    "ExecuteTime": {
     "end_time": "2022-09-22T09:17:06.558548Z",
     "start_time": "2022-09-22T09:17:06.379811Z"
    }
   },
   "outputs": [],
   "source": [
    "pio.write_image(fig, figuresDir/'nguyen_sat_curves.png', width=1000, height=600, scale=2)"
   ]
  },
  {
   "cell_type": "code",
   "execution_count": null,
   "metadata": {
    "ExecuteTime": {
     "end_time": "2022-09-22T09:17:58.172415Z",
     "start_time": "2022-09-22T09:17:58.094739Z"
    }
   },
   "outputs": [],
   "source": [
    "fig = px.line(wetmore_curves, \n",
    "              x=\"num_reads\", \n",
    "              y=\"num_insertions\", \n",
    "              color='ReadCutoff',\n",
    "              labels = {'num_reads': \"Sequencing Depth (millions of reads)\",\n",
    "                        'num_insertions': \"Number of unique insertions\",\n",
    "                        'ReadCutoff': 'Detection Limit'}, \n",
    "              color_discrete_map = {'5 Reads': colors['darkteal'], \n",
    "                                   '10 Reads': colors['teal'],\n",
    "                                   '50 Reads': colors['maroon'],\n",
    "                                   '100 Reads': colors['brighto'], \n",
    "                                   '500 Reads':colors['light_yellow']},\n",
    "              template = \"plotly_white\", \n",
    "              height=600, \n",
    "              width=1000)\n",
    "\n",
    "fig.update_traces(mode='markers+lines', line_width=4, marker_size=12)\n",
    "fig.update_layout(    font_size=22)\n"
   ]
  },
  {
   "cell_type": "code",
   "execution_count": null,
   "metadata": {
    "ExecuteTime": {
     "end_time": "2022-09-22T09:18:00.887181Z",
     "start_time": "2022-09-22T09:18:00.681466Z"
    }
   },
   "outputs": [],
   "source": [
    "pio.write_image(fig, figuresDir/'wetmore_sat_curves.png', width=1000, height=600, scale=2)"
   ]
  },
  {
   "cell_type": "code",
   "execution_count": null,
   "metadata": {
    "ExecuteTime": {
     "end_time": "2022-08-25T11:15:58.145521Z",
     "start_time": "2022-08-25T11:15:56.375143Z"
    }
   },
   "outputs": [],
   "source": [
    "wetmore_unfiltered = pd.read_csv(wetmore_map_file, index_col=0)\n",
    "wetmore_filtered = wetmore_unfiltered[wetmore_unfiltered.number_of_reads >= 5]"
   ]
  },
  {
   "cell_type": "code",
   "execution_count": null,
   "metadata": {
    "ExecuteTime": {
     "end_time": "2022-08-25T11:16:01.395005Z",
     "start_time": "2022-08-25T11:15:59.979092Z"
    }
   },
   "outputs": [],
   "source": [
    "wetmore_filtered.to_csv(root/configs[\"wetmore\"][\"map_file\"][\"filtered\"])"
   ]
  },
  {
   "cell_type": "code",
   "execution_count": null,
   "metadata": {
    "ExecuteTime": {
     "end_time": "2022-08-25T11:16:01.413124Z",
     "start_time": "2022-08-25T11:16:01.397583Z"
    }
   },
   "outputs": [],
   "source": [
    "wetmore_filtered.head()"
   ]
  },
  {
   "cell_type": "code",
   "execution_count": null,
   "metadata": {
    "ExecuteTime": {
     "end_time": "2022-08-25T11:16:04.013535Z",
     "start_time": "2022-08-25T11:16:04.007320Z"
    }
   },
   "outputs": [],
   "source": [
    "wetmore_filtered.shape"
   ]
  },
  {
   "cell_type": "code",
   "execution_count": null,
   "metadata": {},
   "outputs": [],
   "source": []
  }
 ],
 "metadata": {
  "kernelspec": {
   "display_name": "Python 3 (ipykernel)",
   "language": "python",
   "name": "python3"
  },
  "language_info": {
   "codemirror_mode": {
    "name": "ipython",
    "version": 3
   },
   "file_extension": ".py",
   "mimetype": "text/x-python",
   "name": "python",
   "nbconvert_exporter": "python",
   "pygments_lexer": "ipython3",
   "version": "3.8.12"
  },
  "toc": {
   "base_numbering": 1,
   "nav_menu": {},
   "number_sections": true,
   "sideBar": true,
   "skip_h1_title": false,
   "title_cell": "Table of Contents",
   "title_sidebar": "Contents",
   "toc_cell": false,
   "toc_position": {},
   "toc_section_display": true,
   "toc_window_display": true
  }
 },
 "nbformat": 4,
 "nbformat_minor": 5
}
