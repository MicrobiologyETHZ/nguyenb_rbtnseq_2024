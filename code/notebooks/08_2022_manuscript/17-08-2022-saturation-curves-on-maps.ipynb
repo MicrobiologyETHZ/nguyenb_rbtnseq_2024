{
 "cells": [
  {
   "cell_type": "code",
   "execution_count": null,
   "id": "d5088f35",
   "metadata": {
    "ExecuteTime": {
     "end_time": "2023-01-11T10:47:57.293040Z",
     "start_time": "2023-01-11T10:47:57.269804Z"
    }
   },
   "outputs": [],
   "source": [
    "# %load load_manuscript_data.py\n",
    "import pandas as pd\n",
    "import numpy as np\n",
    "import matplotlib.pyplot as plt\n",
    "import os\n",
    "from pathlib import Path\n",
    "import seaborn as sns\n",
    "import sys\n",
    "import plotly.express as px\n",
    "import plotly.io as pio\n",
    "import yaml\n",
    "\n",
    "sns.set_context(\"notebook\", font_scale=1.4)\n",
    "pd.set_option(\"display.max_columns\", 100)\n",
    "pd.set_option(\"display.max_rows\", 100)\n",
    "plt.rcParams[\"figure.figsize\"] = (16, 12)\n",
    "plt.rcParams['savefig.dpi'] = 200\n",
    "plt.rcParams['figure.autolayout'] = False\n",
    "plt.rcParams['axes.labelsize'] = 18\n",
    "plt.rcParams['axes.titlesize'] = 20\n",
    "plt.rcParams['font.size'] = 16\n",
    "plt.rcParams['lines.linewidth'] = 2.0\n",
    "plt.rcParams['lines.markersize'] = 8\n",
    "plt.rcParams['legend.fontsize'] = 14\n",
    "pd.set_option('display.float_format', lambda x: '{:,.4f}'.format(x))\n",
    "\n",
    "\n",
    "config_file = \"manuscript_config.yaml\"\n",
    "with open(config_file) as file:\n",
    "    # The FullLoader parameter handles the conversion from YAML\n",
    "    # scalar values to Python the dictionary format\n",
    "    configs = yaml.load(file, Loader=yaml.FullLoader)\n",
    "    \n",
    "# Run on server:\n",
    "run_on = \"server\"\n",
    "root = Path(configs['root'][run_on])\n",
    "scratchDir = Path(configs['scratchDir'][run_on])\n",
    "figuresDir = Path(configs['figuresDir'][run_on])\n",
    "\n",
    "alphabetClrs = px.colors.qualitative.Alphabet\n",
    "clrs = [\"#f7ba65\", \"#bf4713\", \"#9c002f\", \"#d73d00\", \"#008080\", \"#004c4c\"]\n",
    "colors = {'grey': alphabetClrs[8], \n",
    "        'light_yellow': clrs[0],\n",
    "        'darko': clrs[1],\n",
    "        'maroon':clrs[2],\n",
    "        'brighto': clrs[3],\n",
    "        'teal':clrs[4],\n",
    "        'darkteal':clrs[5]\n",
    "       }"
   ]
  },
  {
   "cell_type": "markdown",
   "id": "692ec44f",
   "metadata": {},
   "source": [
    "# Load the maps"
   ]
  },
  {
   "cell_type": "code",
   "execution_count": null,
   "id": "90a6ff58",
   "metadata": {
    "ExecuteTime": {
     "end_time": "2023-01-11T10:47:58.013367Z",
     "start_time": "2023-01-11T10:47:58.007678Z"
    }
   },
   "outputs": [],
   "source": [
    "from numpy.random import RandomState"
   ]
  },
  {
   "cell_type": "code",
   "execution_count": null,
   "metadata": {
    "ExecuteTime": {
     "end_time": "2023-01-11T10:47:58.532459Z",
     "start_time": "2023-01-11T10:47:58.516231Z"
    }
   },
   "outputs": [],
   "source": [
    "def load_map(file, name):\n",
    "    return (pd.read_csv(file)\n",
    "            .assign(sample=name)[['barcode', 'number_of_reads', 'sample']]\n",
    "            .drop_duplicates()\n",
    "            .pivot(index=\"sample\", columns='barcode', values='number_of_reads'))\n",
    "    \n",
    "    \n",
    "def rarefaction(M, seed=0, depth=1000000):\n",
    "    prng = RandomState(seed) # reproducible results\n",
    "    noccur = np.sum(M, axis=1) # number of occurrences for each sample, sequencing depth\n",
    "    nvar = M.shape[1] # number of variables\n",
    "    Mrarefied = np.empty_like(M)\n",
    "    depths = []\n",
    "    for i in range(M.shape[0]): # for each sample\n",
    "        p = M.iloc[i] / float(noccur[i]) # relAb of each gene -> probability\n",
    "        if depth >= noccur[i]:\n",
    "            choice = prng.choice(nvar, noccur[i], p=p)\n",
    "            depths.append(noccur[i])\n",
    "        else:\n",
    "            choice = prng.choice(nvar, depth, p=p)\n",
    "            depths.append(depth)\n",
    "        Mrarefied[i] = np.bincount(choice, minlength=nvar)\n",
    "        \n",
    "    return pd.DataFrame(Mrarefied, index=M.index, columns=M.columns), depths\n",
    "\n",
    "\n",
    "def sat_curve(df, depths, cutoff=100):\n",
    "    n_bcs = []\n",
    "    n_reads = []\n",
    "    for depth in depths:\n",
    "        r, d = rarefaction(df, depth=depth)\n",
    "        n_bcs.append((r>cutoff).sum(axis=1).iloc[0])\n",
    "        n_reads.append(d[0])\n",
    "    return pd.DataFrame([n_bcs, n_reads], index=['num_insertions', 'num_reads']).T\n",
    "\n",
    "\n",
    "def depth_vs_num_inserts(pivot_map, depth, cutoffs):\n",
    "    df_list = []\n",
    "    for cutoff in cutoffs:\n",
    "        df = sat_curve(pivot_map, depth, cutoff)\n",
    "        df['ReadCutoff'] = f'{cutoff} Reads'\n",
    "        df_list.append(df)\n",
    "    return pd.concat(df_list)"
   ]
  },
  {
   "cell_type": "code",
   "execution_count": null,
   "id": "0fffb90f",
   "metadata": {
    "ExecuteTime": {
     "end_time": "2023-01-11T10:47:59.381855Z",
     "start_time": "2023-01-11T10:47:59.375571Z"
    }
   },
   "outputs": [],
   "source": [
    "nguyen_map_file = root/configs['nguyen']['mapFile']['unfiltered']\n",
    "wetmore_map_file = root/configs['wetmore']['mapFile']['unfiltered']"
   ]
  },
  {
   "cell_type": "code",
   "execution_count": null,
   "metadata": {
    "ExecuteTime": {
     "end_time": "2023-01-11T10:48:03.877808Z",
     "start_time": "2023-01-11T10:48:00.194760Z"
    }
   },
   "outputs": [],
   "source": [
    "nguyen_map = load_map(nguyen_map_file, 'nguyen')\n",
    "wetmore_map = load_map(wetmore_map_file, 'wetmore')"
   ]
  },
  {
   "cell_type": "code",
   "execution_count": null,
   "metadata": {
    "ExecuteTime": {
     "end_time": "2023-01-11T10:48:03.944576Z",
     "start_time": "2023-01-11T10:48:03.883791Z"
    }
   },
   "outputs": [],
   "source": [
    "test = nguyen_map.T.head(20).reset_index()\n",
    "test['n2'] = np.random.randint(0, 1000, [20,1])\n",
    "test = test.set_index('barcode')\n",
    "test"
   ]
  },
  {
   "cell_type": "code",
   "execution_count": null,
   "id": "53f224b2",
   "metadata": {
    "ExecuteTime": {
     "end_time": "2023-01-04T10:00:28.760588Z",
     "start_time": "2023-01-04T10:00:27.957799Z"
    }
   },
   "outputs": [],
   "source": [
    "print(nguyen_map.sum(axis=1))\n",
    "nguyen_depth = list(range(50000, 9000000, 1000000))+ [250000, 500000, 750000]\n",
    "nguyen_depth.sort()\n",
    "print(wetmore_map.sum(axis=1))\n",
    "wetmore_depth = list(range(100000, 17000000, 1000000))\n",
    "cutoffs = [5, 10, 50, 100, 500]"
   ]
  },
  {
   "cell_type": "code",
   "execution_count": null,
   "metadata": {
    "ExecuteTime": {
     "end_time": "2023-01-11T10:57:43.657232Z",
     "start_time": "2023-01-11T10:57:43.644254Z"
    }
   },
   "outputs": [],
   "source": [
    "def rarefy1(x, depth=1000, seed=42):\n",
    "    prng = RandomState(seed)\n",
    "    noccur = np.sum(x.values)\n",
    "    nvar = len(x)\n",
    "    p = x.values/noccur\n",
    "    if depth > noccur:\n",
    "        return []\n",
    "    choice = prng.choice(nvar, depth, p=p)\n",
    "    res = np.bincount(choice, minlength=nvar)\n",
    "    return res \n",
    "\n",
    "def rarefy(df, depths, seed=0):\n",
    "    df_list = []\n",
    "    df.columns.name = 'sampleID'\n",
    "    for depth in depths:            \n",
    "        rare_df = df.apply(rarefy1, depth=depth, seed=seed).assign(depth=depth)\n",
    "        df_list.append(rare_df)\n",
    "    return pd.concat(df_list).reset_index().melt(id_vars=['index', 'depth'], var_name='sampleID', value_name='counts')\n",
    "\n",
    "\n",
    "def saturationCurves(df, depths, cutoffs, seed):\n",
    "    rareDf = rarefy(df, depths, seed)\n",
    "    sat_curve_df = (rareDf.groupby(['sampleID', 'depth'])\n",
    "                    .agg({'counts': [lambda x, c=c: (x > c).sum() for c in cutoffs]})\n",
    "                    .reset_index())\n",
    "    sat_curve_df.columns  = ['sampleID', 'depth'] + [f'>{c} reads' for c in cutoffs]\n",
    "    return sat_curve_df"
   ]
  },
  {
   "cell_type": "code",
   "execution_count": null,
   "metadata": {
    "ExecuteTime": {
     "end_time": "2023-01-11T10:57:44.197184Z",
     "start_time": "2023-01-11T10:57:44.179049Z"
    }
   },
   "outputs": [],
   "source": [
    "rdf = rarefy(test, depths=[100,500,100000])"
   ]
  },
  {
   "cell_type": "code",
   "execution_count": null,
   "metadata": {
    "ExecuteTime": {
     "end_time": "2023-01-11T10:58:05.370381Z",
     "start_time": "2023-01-11T10:58:05.357462Z"
    }
   },
   "outputs": [],
   "source": [
    "test"
   ]
  },
  {
   "cell_type": "code",
   "execution_count": null,
   "metadata": {
    "ExecuteTime": {
     "end_time": "2023-01-11T10:57:44.611226Z",
     "start_time": "2023-01-11T10:57:44.580199Z"
    }
   },
   "outputs": [],
   "source": [
    "saturationCurves(test, [100, 500, 1000, 2000, 10000, 100000], [5,10,100], seed=89)"
   ]
  },
  {
   "cell_type": "code",
   "execution_count": null,
   "metadata": {
    "ExecuteTime": {
     "end_time": "2023-01-04T12:22:46.663710Z",
     "start_time": "2023-01-04T12:22:46.658358Z"
    }
   },
   "outputs": [],
   "source": [
    "#r = saturationCurves(test, [100, 1000, 10000, 100000], [5, 10, 100], seed = 78)\n",
    "#r[r.sampleID == 'n2'].groupby('depth').value.apply(lambda x: (x>5).sum())"
   ]
  },
  {
   "cell_type": "code",
   "execution_count": null,
   "metadata": {
    "ExecuteTime": {
     "end_time": "2023-01-04T12:02:08.565979Z",
     "start_time": "2023-01-04T12:02:08.549046Z"
    }
   },
   "outputs": [],
   "source": [
    "r[(r.sampleID == 'n2') & (r.depth == 8935)]"
   ]
  },
  {
   "cell_type": "code",
   "execution_count": null,
   "metadata": {
    "ExecuteTime": {
     "end_time": "2023-01-04T11:56:59.217656Z",
     "start_time": "2023-01-04T11:56:59.214082Z"
    }
   },
   "outputs": [],
   "source": []
  },
  {
   "cell_type": "code",
   "execution_count": null,
   "metadata": {
    "ExecuteTime": {
     "end_time": "2023-01-04T11:48:59.004100Z",
     "start_time": "2023-01-04T11:48:59.000158Z"
    }
   },
   "outputs": [],
   "source": [
    "listOfLambdas = [lambda i=i: i*i for i in range(6)]"
   ]
  },
  {
   "cell_type": "code",
   "execution_count": null,
   "metadata": {
    "ExecuteTime": {
     "end_time": "2023-01-04T11:55:26.882218Z",
     "start_time": "2023-01-04T11:55:26.872063Z"
    }
   },
   "outputs": [],
   "source": [
    "[lambda x,c=c:  x > c for c in range(3)]"
   ]
  },
  {
   "cell_type": "code",
   "execution_count": null,
   "metadata": {
    "ExecuteTime": {
     "end_time": "2023-01-04T11:49:32.318928Z",
     "start_time": "2023-01-04T11:49:32.315131Z"
    }
   },
   "outputs": [],
   "source": [
    "for l in listOfLambdas:\n",
    "    print(l())"
   ]
  },
  {
   "cell_type": "code",
   "execution_count": null,
   "metadata": {
    "ExecuteTime": {
     "end_time": "2023-01-04T11:43:11.810889Z",
     "start_time": "2023-01-04T11:43:11.803599Z"
    }
   },
   "outputs": [],
   "source": [
    "for f in t3:\n",
    "    print(f(pd.Series([10, 1])))"
   ]
  },
  {
   "cell_type": "code",
   "execution_count": null,
   "metadata": {
    "ExecuteTime": {
     "end_time": "2023-01-04T11:57:02.352209Z",
     "start_time": "2023-01-04T11:57:02.334023Z"
    }
   },
   "outputs": [],
   "source": [
    "saturationCurves(t2, [5, 100])"
   ]
  },
  {
   "cell_type": "code",
   "execution_count": null,
   "metadata": {
    "ExecuteTime": {
     "end_time": "2023-01-04T11:38:52.686529Z",
     "start_time": "2023-01-04T11:38:52.666532Z"
    }
   },
   "outputs": [],
   "source": [
    "t2"
   ]
  },
  {
   "cell_type": "code",
   "execution_count": null,
   "metadata": {
    "ExecuteTime": {
     "end_time": "2023-01-04T10:19:44.230391Z",
     "start_time": "2023-01-04T10:19:44.219863Z"
    }
   },
   "outputs": [],
   "source": [
    "rarefy1(test.nguyen, 1000)"
   ]
  },
  {
   "cell_type": "code",
   "execution_count": null,
   "metadata": {
    "ExecuteTime": {
     "end_time": "2023-01-04T10:19:44.899286Z",
     "start_time": "2023-01-04T10:19:44.889619Z"
    }
   },
   "outputs": [],
   "source": [
    "rarefy1(test.n2, 1000)"
   ]
  },
  {
   "cell_type": "code",
   "execution_count": null,
   "metadata": {
    "ExecuteTime": {
     "end_time": "2023-01-04T10:18:36.865991Z",
     "start_time": "2023-01-04T10:18:36.849951Z"
    }
   },
   "outputs": [],
   "source": [
    "\n",
    "test"
   ]
  },
  {
   "cell_type": "code",
   "execution_count": null,
   "metadata": {
    "ExecuteTime": {
     "end_time": "2023-01-04T10:15:19.474326Z",
     "start_time": "2023-01-04T10:15:19.465141Z"
    }
   },
   "outputs": [],
   "source": [
    "rarefy1(test.nguyen, 1000)"
   ]
  },
  {
   "cell_type": "code",
   "execution_count": null,
   "id": "548795db",
   "metadata": {
    "ExecuteTime": {
     "end_time": "2022-09-22T08:59:06.840225Z",
     "start_time": "2022-09-22T08:58:40.661012Z"
    }
   },
   "outputs": [],
   "source": [
    "nguyen_curves = depth_vs_num_inserts(nguyen_map, nguyen_depth, cutoffs)"
   ]
  },
  {
   "cell_type": "code",
   "execution_count": null,
   "id": "31e3065d",
   "metadata": {
    "ExecuteTime": {
     "end_time": "2022-09-22T09:04:40.373855Z",
     "start_time": "2022-09-22T08:59:09.386325Z"
    }
   },
   "outputs": [],
   "source": [
    "wetmore_curves = depth_vs_num_inserts(wetmore_map, wetmore_depth, cutoffs)"
   ]
  },
  {
   "cell_type": "code",
   "execution_count": null,
   "id": "1232f73e",
   "metadata": {
    "ExecuteTime": {
     "end_time": "2022-09-22T09:06:11.337377Z",
     "start_time": "2022-09-22T09:06:11.326816Z"
    }
   },
   "outputs": [],
   "source": [
    "colors['darkteal']"
   ]
  },
  {
   "cell_type": "code",
   "execution_count": null,
   "metadata": {
    "ExecuteTime": {
     "end_time": "2022-09-22T09:13:55.190439Z",
     "start_time": "2022-09-22T09:13:55.119770Z"
    }
   },
   "outputs": [],
   "source": [
    "fig = px.line(nguyen_curves, \n",
    "              x=\"num_reads\", \n",
    "              y=\"num_insertions\", \n",
    "              color='ReadCutoff',\n",
    "              color_discrete_map = {'5 Reads': colors['darkteal'], \n",
    "                                   '10 Reads': colors['teal'],\n",
    "                                   '50 Reads': colors['maroon'],\n",
    "                                   '100 Reads': colors['brighto'], \n",
    "                                   '500 Reads':colors['light_yellow']},\n",
    "              labels = {'num_reads': \"Sequencing Depth (millions of reads)\",\n",
    "                        'num_insertions': \"Number of unique insertions\",\n",
    "                        'ReadCutoff': 'Detection Limit'}, \n",
    "              template = \"plotly_white\", \n",
    "              height=600, \n",
    "              width=1000)\n",
    "\n",
    "fig.update_traces(mode='markers+lines', line_width=4, marker_size=12)\n",
    "fig.update_layout(\n",
    "    \n",
    "    font_size=22,\n",
    ")\n"
   ]
  },
  {
   "cell_type": "code",
   "execution_count": null,
   "id": "78099de5",
   "metadata": {},
   "outputs": [],
   "source": [
    "pio.write_image(fig, figuresDir/'nguyen_sat_curves.png', width=1000, height=600, scale=2)"
   ]
  },
  {
   "cell_type": "code",
   "execution_count": null,
   "id": "34cd3ac7",
   "metadata": {
    "ExecuteTime": {
     "end_time": "2022-09-22T09:17:58.172415Z",
     "start_time": "2022-09-22T09:17:58.094739Z"
    }
   },
   "outputs": [],
   "source": [
    "fig = px.line(wetmore_curves, \n",
    "              x=\"num_reads\", \n",
    "              y=\"num_insertions\", \n",
    "              color='ReadCutoff',\n",
    "              labels = {'num_reads': \"Sequencing Depth (millions of reads)\",\n",
    "                        'num_insertions': \"Number of unique insertions\",\n",
    "                        'ReadCutoff': 'Detection Limit'}, \n",
    "              color_discrete_map = {'5 Reads': colors['darkteal'], \n",
    "                                   '10 Reads': colors['teal'],\n",
    "                                   '50 Reads': colors['maroon'],\n",
    "                                   '100 Reads': colors['brighto'], \n",
    "                                   '500 Reads':colors['light_yellow']},\n",
    "              template = \"plotly_white\", \n",
    "              height=600, \n",
    "              width=1000)\n",
    "\n",
    "fig.update_traces(mode='markers+lines', line_width=4, marker_size=12)\n",
    "fig.update_layout(    font_size=22)\n"
   ]
  },
  {
   "cell_type": "code",
   "execution_count": null,
   "id": "fec39daf",
   "metadata": {
    "ExecuteTime": {
     "end_time": "2022-09-22T09:18:00.887181Z",
     "start_time": "2022-09-22T09:18:00.681466Z"
    }
   },
   "outputs": [],
   "source": [
    "pio.write_image(fig, figuresDir/'wetmore_sat_curves.png', width=1000, height=600, scale=2)"
   ]
  },
  {
   "cell_type": "code",
   "execution_count": null,
   "id": "a71706b8",
   "metadata": {
    "ExecuteTime": {
     "end_time": "2022-08-25T11:15:58.145521Z",
     "start_time": "2022-08-25T11:15:56.375143Z"
    }
   },
   "outputs": [],
   "source": [
    "wetmore_unfiltered = pd.read_csv(wetmore_map_file, index_col=0)\n",
    "wetmore_filtered = wetmore_unfiltered[wetmore_unfiltered.number_of_reads >= 5]"
   ]
  },
  {
   "cell_type": "code",
   "execution_count": null,
   "id": "df894b26",
   "metadata": {
    "ExecuteTime": {
     "end_time": "2022-08-25T11:16:01.395005Z",
     "start_time": "2022-08-25T11:15:59.979092Z"
    }
   },
   "outputs": [],
   "source": [
    "wetmore_filtered.to_csv(root/configs[\"wetmore\"][\"map_file\"][\"filtered\"])"
   ]
  },
  {
   "cell_type": "code",
   "execution_count": null,
   "id": "47f2934b",
   "metadata": {
    "ExecuteTime": {
     "end_time": "2022-08-25T11:16:01.413124Z",
     "start_time": "2022-08-25T11:16:01.397583Z"
    }
   },
   "outputs": [],
   "source": [
    "wetmore_filtered.head()"
   ]
  },
  {
   "cell_type": "code",
   "execution_count": null,
   "metadata": {
    "ExecuteTime": {
     "end_time": "2022-08-25T11:16:04.013535Z",
     "start_time": "2022-08-25T11:16:04.007320Z"
    }
   },
   "outputs": [],
   "source": [
    "wetmore_filtered.shape"
   ]
  },
  {
   "cell_type": "code",
   "execution_count": null,
   "id": "d06e1fc6",
   "metadata": {},
   "outputs": [],
   "source": []
  }
 ],
 "metadata": {
  "kernelspec": {
   "display_name": "Python 3 (ipykernel)",
   "language": "python",
   "name": "python3"
  },
  "language_info": {
   "codemirror_mode": {
    "name": "ipython",
    "version": 3
   },
   "file_extension": ".py",
   "mimetype": "text/x-python",
   "name": "python",
   "nbconvert_exporter": "python",
   "pygments_lexer": "ipython3",
   "version": "3.8.12"
  },
  "toc": {
   "base_numbering": 1,
   "nav_menu": {},
   "number_sections": true,
   "sideBar": true,
   "skip_h1_title": false,
   "title_cell": "Table of Contents",
   "title_sidebar": "Contents",
   "toc_cell": false,
   "toc_position": {},
   "toc_section_display": true,
   "toc_window_display": true
  }
 },
 "nbformat": 4,
 "nbformat_minor": 5
}
