{
 "cells": [
  {
   "cell_type": "code",
   "execution_count": null,
   "metadata": {
    "ExecuteTime": {
     "end_time": "2022-08-24T11:36:56.650887Z",
     "start_time": "2022-08-24T11:36:56.629691Z"
    }
   },
   "outputs": [],
   "source": [
    "# %load load_manuscript_data.py\n",
    "import pandas as pd\n",
    "import numpy as np\n",
    "import matplotlib.pyplot as plt\n",
    "import os\n",
    "from pathlib import Path\n",
    "import seaborn as sns\n",
    "import sys\n",
    "import plotly.express as px\n",
    "import plotly.io as pio\n",
    "import yaml\n",
    "\n",
    "sns.set_context(\"notebook\", font_scale=1.4)\n",
    "pd.set_option(\"display.max_columns\", 100)\n",
    "pd.set_option(\"display.max_rows\", 100)\n",
    "plt.rcParams[\"figure.figsize\"] = (16, 12)\n",
    "plt.rcParams['savefig.dpi'] = 200\n",
    "plt.rcParams['figure.autolayout'] = False\n",
    "plt.rcParams['axes.labelsize'] = 18\n",
    "plt.rcParams['axes.titlesize'] = 20\n",
    "plt.rcParams['font.size'] = 16\n",
    "plt.rcParams['lines.linewidth'] = 2.0\n",
    "plt.rcParams['lines.markersize'] = 8\n",
    "plt.rcParams['legend.fontsize'] = 14\n",
    "pd.set_option('display.float_format', lambda x: '{:,.4f}'.format(x))\n",
    "\n",
    "\n",
    "config_file = \"manuscript_config.yaml\"\n",
    "with open(config_file) as file:\n",
    "    # The FullLoader parameter handles the conversion from YAML\n",
    "    # scalar values to Python the dictionary format\n",
    "    configs = yaml.load(file, Loader=yaml.FullLoader)\n",
    "    \n",
    "# Run on server:\n",
    "run_on = \"server\"\n",
    "root = Path(configs['root'][run_on])\n",
    "scratchDir = Path(configs['scratchDir'][run_on])\n",
    "figuresDir = Path(configs['figuresDir'][run_on])\n",
    "\n"
   ]
  },
  {
   "cell_type": "markdown",
   "metadata": {},
   "source": [
    "# Load the maps"
   ]
  },
  {
   "cell_type": "code",
   "execution_count": null,
   "metadata": {
    "ExecuteTime": {
     "end_time": "2022-08-24T11:07:38.741319Z",
     "start_time": "2022-08-24T11:07:38.724384Z"
    }
   },
   "outputs": [],
   "source": [
    "def load_map(file, name):\n",
    "    return (pd.read_csv(file)\n",
    "            .assign(sample=name)[['barcode', 'number_of_reads', 'sample']]\n",
    "            .drop_duplicates()\n",
    "            .pivot(index=\"sample\", columns='barcode', values='number_of_reads'))\n",
    "    \n",
    "    \n",
    "def rarefaction(M, seed=0, depth=1000000):\n",
    "    prng = RandomState(seed) # reproducible results\n",
    "    noccur = np.sum(M, axis=1) # number of occurrences for each sample\n",
    "    nvar = M.shape[1] # number of variables\n",
    "    Mrarefied = np.empty_like(M)\n",
    "    depths = []\n",
    "    for i in range(M.shape[0]): # for each sample\n",
    "        p = M.iloc[i] / float(noccur[i]) # relAb of each gene -> probability\n",
    "        if depth >= noccur[i]:\n",
    "            choice = prng.choice(nvar, noccur[i], p=p)\n",
    "            depths.append(noccur[i])\n",
    "        else:\n",
    "            choice = prng.choice(nvar, depth, p=p)\n",
    "            depths.append(depth)\n",
    "        Mrarefied[i] = np.bincount(choice, minlength=nvar)\n",
    "        \n",
    "    return pd.DataFrame(Mrarefied, index=M.index, columns=M.columns), depths\n",
    "\n",
    "\n",
    "def sat_curve(df, depths, cutoff=100):\n",
    "    n_bcs = []\n",
    "    n_reads = []\n",
    "    for depth in depths:\n",
    "        r, d = rarefaction(df, depth=depth)\n",
    "        n_bcs.append((r>cutoff).sum(axis=1).iloc[0])\n",
    "        n_reads.append(d[0])\n",
    "    return pd.DataFrame([n_bcs, n_reads], index=['num_insertions', 'num_reads']).T\n",
    "\n",
    "\n",
    "def depth_vs_num_inserts(pivot_map, depth, cutoffs):\n",
    "    df_list = []\n",
    "    for cutoff in cutoffs:\n",
    "        df = sat_curve(pivot_map, depth, cutoff)\n",
    "        df['ReadCutoff'] = f'{cutoff}Reads'\n",
    "        df_list.append(df)\n",
    "    return pd.concat(df_list)"
   ]
  },
  {
   "cell_type": "code",
   "execution_count": null,
   "metadata": {
    "ExecuteTime": {
     "end_time": "2022-08-24T11:12:35.489743Z",
     "start_time": "2022-08-24T11:12:32.113741Z"
    }
   },
   "outputs": [],
   "source": [
    "nguyen_map_file = root/configs['nguyen']['map_file']['unfiltered']\n",
    "wetmore_map_file = root/configs['wetmore']['map_file']['unfiltered']\n",
    "nguyen_map = load_map(nguyen_map_file, 'nguyen')\n",
    "wetmore_map = load_map(wetmore_map_file, 'wetmore')"
   ]
  },
  {
   "cell_type": "code",
   "execution_count": null,
   "metadata": {
    "ExecuteTime": {
     "end_time": "2022-08-24T11:13:34.631636Z",
     "start_time": "2022-08-24T11:13:33.733147Z"
    }
   },
   "outputs": [],
   "source": [
    "print(nguyen_map.sum(axis=1))\n",
    "nguyen_depth = list(range(50000, 9000000, 1000000))\n",
    "print(wetmore_map.sum(axis=1))\n",
    "wetmore_depth = list(range(100000, 17000000, 1000000))\n",
    "\n",
    "cutoffs = [5, 10, 50, 100, 500]"
   ]
  },
  {
   "cell_type": "code",
   "execution_count": null,
   "metadata": {
    "ExecuteTime": {
     "end_time": "2022-08-24T11:14:18.972691Z",
     "start_time": "2022-08-24T11:13:51.022824Z"
    }
   },
   "outputs": [],
   "source": [
    "nguyen_curves = depth_vs_num_inserts(nguyen_map, nguyen_depth, cutoffs)"
   ]
  },
  {
   "cell_type": "code",
   "execution_count": null,
   "metadata": {
    "ExecuteTime": {
     "end_time": "2022-08-24T11:20:43.813617Z",
     "start_time": "2022-08-24T11:14:38.880746Z"
    }
   },
   "outputs": [],
   "source": [
    "wetmore_curves = depth_vs_num_inserts(wetmore_map, wetmore_depth, cutoffs)"
   ]
  },
  {
   "cell_type": "code",
   "execution_count": null,
   "metadata": {
    "ExecuteTime": {
     "end_time": "2022-08-24T11:22:02.227871Z",
     "start_time": "2022-08-24T11:21:52.965989Z"
    }
   },
   "outputs": [],
   "source": [
    "fig = px.line(nguyen_curves, \n",
    "              x=\"num_reads\", \n",
    "              y=\"num_insertions\", \n",
    "              color='ReadCutoff',\n",
    "              labels = {'num_reads': \"Sequencing Depth (millions of reads)\",\n",
    "                        'num_insertions': \"Number of unique insertions\",\n",
    "                        'ReadCutoff': 'Detection Limit'}, \n",
    "              template = \"plotly_white\", \n",
    "              height=600, \n",
    "              width=1000)\n",
    "\n",
    "fig.update_traces(mode='markers+lines')"
   ]
  },
  {
   "cell_type": "code",
   "execution_count": null,
   "metadata": {},
   "outputs": [],
   "source": [
    "pio.write_image(fig, figuresDir/'nguyen_sat_curves.pdf', width=1000, height=600)"
   ]
  },
  {
   "cell_type": "code",
   "execution_count": null,
   "metadata": {
    "ExecuteTime": {
     "end_time": "2022-08-24T11:22:20.242654Z",
     "start_time": "2022-08-24T11:22:20.174496Z"
    }
   },
   "outputs": [],
   "source": [
    "fig = px.line(wetmore_curves, \n",
    "              x=\"num_reads\", \n",
    "              y=\"num_insertions\", \n",
    "              color='ReadCutoff',\n",
    "              labels = {'num_reads': \"Sequencing Depth (millions of reads)\",\n",
    "                        'num_insertions': \"Number of unique insertions\",\n",
    "                        'ReadCutoff': 'Detection Limit'}, \n",
    "              template = \"plotly_white\", \n",
    "              height=600, \n",
    "              width=1000)\n",
    "\n",
    "fig.update_traces(mode='markers+lines')"
   ]
  },
  {
   "cell_type": "code",
   "execution_count": null,
   "metadata": {
    "ExecuteTime": {
     "end_time": "2022-08-24T11:32:51.363666Z",
     "start_time": "2022-08-24T11:32:51.096611Z"
    }
   },
   "outputs": [],
   "source": [
    "\n",
    "pio.write_image(fig, figuresDir/'wetmore_sat_curves.pdf', width=1000, height=600)"
   ]
  },
  {
   "cell_type": "code",
   "execution_count": null,
   "metadata": {
    "ExecuteTime": {
     "end_time": "2022-08-24T11:47:41.375283Z",
     "start_time": "2022-08-24T11:47:40.017273Z"
    }
   },
   "outputs": [],
   "source": [
    "wetmore_unfiltered = pd.read_csv(wetmore_map_file, index_col=0)\n",
    "wetmore_filtered = wetmore_unfiltered[wetmore_unfiltered.number_of_reads >= 5]"
   ]
  },
  {
   "cell_type": "code",
   "execution_count": null,
   "metadata": {
    "ExecuteTime": {
     "end_time": "2022-08-24T11:48:56.510386Z",
     "start_time": "2022-08-24T11:48:55.121781Z"
    }
   },
   "outputs": [],
   "source": [
    "wetmore_filtered.to_csv(root/configs[\"wetmore\"][\"map_file\"][\"filtered\"])"
   ]
  },
  {
   "cell_type": "code",
   "execution_count": null,
   "metadata": {
    "ExecuteTime": {
     "end_time": "2022-08-24T11:46:46.412939Z",
     "start_time": "2022-08-24T11:46:46.394832Z"
    }
   },
   "outputs": [],
   "source": [
    "wetmore_unfiltered.head()"
   ]
  },
  {
   "cell_type": "code",
   "execution_count": null,
   "metadata": {},
   "outputs": [],
   "source": []
  }
 ],
 "metadata": {
  "kernelspec": {
   "display_name": "Python 3 (ipykernel)",
   "language": "python",
   "name": "python3"
  },
  "language_info": {
   "codemirror_mode": {
    "name": "ipython",
    "version": 3
   },
   "file_extension": ".py",
   "mimetype": "text/x-python",
   "name": "python",
   "nbconvert_exporter": "python",
   "pygments_lexer": "ipython3",
   "version": "3.8.12"
  },
  "toc": {
   "base_numbering": 1,
   "nav_menu": {},
   "number_sections": true,
   "sideBar": true,
   "skip_h1_title": false,
   "title_cell": "Table of Contents",
   "title_sidebar": "Contents",
   "toc_cell": false,
   "toc_position": {},
   "toc_section_display": true,
   "toc_window_display": false
  }
 },
 "nbformat": 4,
 "nbformat_minor": 5
}
