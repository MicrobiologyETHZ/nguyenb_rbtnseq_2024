{
 "cells": [
  {
   "cell_type": "code",
   "execution_count": null,
   "id": "interested-anniversary",
   "metadata": {
    "ExecuteTime": {
     "end_time": "2022-08-17T13:44:35.979281Z",
     "start_time": "2022-08-17T13:44:34.246784Z"
    }
   },
   "outputs": [],
   "source": [
    "import pandas as pd\n",
    "import numpy as np\n",
    "from numpy.random import RandomState\n",
    "import matplotlib.pyplot as plt\n",
    "import seaborn as sns\n",
    "from pathlib import Path\n",
    "import plotly.express as px"
   ]
  },
  {
   "cell_type": "markdown",
   "id": "dimensional-puppy",
   "metadata": {},
   "source": [
    "# Load the maps"
   ]
  },
  {
   "cell_type": "code",
   "execution_count": null,
   "id": "trying-start",
   "metadata": {
    "ExecuteTime": {
     "end_time": "2022-08-17T13:25:19.911837Z",
     "start_time": "2022-08-17T13:25:19.895245Z"
    }
   },
   "outputs": [],
   "source": [
    "def load_map(file, name):\n",
    "    return (pd.read_csv(file)\n",
    "            .assign(sample=name)[['barcode', 'number_of_reads', 'sample']]\n",
    "            .drop_duplicates()\n",
    "            .pivot(index=\"sample\", columns='barcode', values='number_of_reads'))\n",
    "    \n",
    "    \n",
    "def rarefaction(M, seed=0, depth=1000000):\n",
    "    prng = RandomState(seed) # reproducible results\n",
    "    noccur = np.sum(M, axis=1) # number of occurrences for each sample\n",
    "    nvar = M.shape[1] # number of variables\n",
    "    Mrarefied = np.empty_like(M)\n",
    "    depths = []\n",
    "    for i in range(M.shape[0]): # for each sample\n",
    "        p = M.iloc[i] / float(noccur[i]) # relAb of each gene -> probability\n",
    "        if depth >= noccur[i]:\n",
    "            choice = prng.choice(nvar, noccur[i], p=p)\n",
    "            depths.append(noccur[i])\n",
    "        else:\n",
    "            choice = prng.choice(nvar, depth, p=p)\n",
    "            depths.append(depth)\n",
    "        Mrarefied[i] = np.bincount(choice, minlength=nvar)\n",
    "        \n",
    "    return pd.DataFrame(Mrarefied, index=M.index, columns=M.columns), depths\n",
    "\n",
    "\n",
    "def sat_curve(df, depths, cutoff=100):\n",
    "    n_bcs = []\n",
    "    n_reads = []\n",
    "    for depth in depths:\n",
    "        r, d = rarefaction(df, depth=depth)\n",
    "        n_bcs.append((r>cutoff).sum(axis=1).iloc[0])\n",
    "        n_reads.append(d[0])\n",
    "    return pd.DataFrame([n_bcs, n_reads], index=['num_insertions', 'num_reads']).T\n",
    "\n",
    "\n",
    "# def num_supported(read_range, pivot_lib):\n",
    "#     supported = []\n",
    "#     for support in read_range:\n",
    "#         supported.append((pivot_lib>support).sum(axis=1).iloc[0])\n",
    "#         sdf = pd.DataFrame([range(0,500,10), supported], index=['num_reads', 'num_bc']).T\n",
    "#     return sdf\n",
    "\n",
    "\n",
    "def depth_vs_num_inserts(pivot_map, depth, cutoffs):\n",
    "    df_list = []\n",
    "    for cutoff in cutoffs:\n",
    "        df = sat_curve(pivot_map, depth, cutoff)\n",
    "        df['ReadCutoff'] = f'{cutoff}Reads'\n",
    "        df_list.append(df)\n",
    "    return pd.concat(df_list)"
   ]
  },
  {
   "cell_type": "code",
   "execution_count": null,
   "id": "statewide-howard",
   "metadata": {
    "ExecuteTime": {
     "end_time": "2022-08-17T13:18:15.223611Z",
     "start_time": "2022-08-17T13:18:13.746425Z"
    }
   },
   "outputs": [],
   "source": [
    "data_dir = Path(\"/Users/ansintsova/git_repos/nguyenb_tnseq/data/08_22_manuscript\")\n",
    "ec_map = load_map(data_dir/\"ec_map.annotated.csv\", 'ec')\n",
    "lib11_map = load_map(data_dir/\"library_11_1_clean_R1.map.annotated.csv\", \"lib11\")\n",
    "db_map = load_map(data_dir/\"TnSeq_SB2B_ML5_l10_RC.annotated.csv\", 'DB')"
   ]
  },
  {
   "cell_type": "code",
   "execution_count": null,
   "id": "distinguished-canon",
   "metadata": {
    "ExecuteTime": {
     "end_time": "2022-08-17T13:24:37.537510Z",
     "start_time": "2022-08-17T13:24:36.958422Z"
    }
   },
   "outputs": [],
   "source": [
    "print(ec_map.sum(axis=1))\n",
    "ec_depth = list(range(100000, 1400000, 200000))\n",
    "print(lib11_map.sum(axis=1))\n",
    "lib11_depth = list(range(50000, 9000000, 1000000)) + [500000]\n",
    "print(db_map.sum(axis=1))\n",
    "db_depth = list(range(100000, 16000000, 1000000))\n",
    "\n",
    "cutoffs = [5, 10, 50, 100, 500]"
   ]
  },
  {
   "cell_type": "code",
   "execution_count": null,
   "id": "other-found",
   "metadata": {
    "ExecuteTime": {
     "end_time": "2022-08-17T13:25:51.099736Z",
     "start_time": "2022-08-17T13:25:23.666188Z"
    }
   },
   "outputs": [],
   "source": [
    "l11_curves = depth_vs_num_inserts(lib11_map, lib11_depth, cutoffs)\n"
   ]
  },
  {
   "cell_type": "code",
   "execution_count": null,
   "id": "personalized-municipality",
   "metadata": {
    "ExecuteTime": {
     "end_time": "2022-08-17T13:30:52.979346Z",
     "start_time": "2022-08-17T13:26:49.518974Z"
    }
   },
   "outputs": [],
   "source": [
    "db_curves = depth_vs_num_inserts(db_map, db_depth, cutoffs)"
   ]
  },
  {
   "cell_type": "code",
   "execution_count": null,
   "id": "french-stopping",
   "metadata": {
    "ExecuteTime": {
     "end_time": "2022-08-17T13:33:36.575852Z",
     "start_time": "2022-08-17T13:33:32.476530Z"
    }
   },
   "outputs": [],
   "source": [
    "ec_curves = depth_vs_num_inserts(ec_map, ec_depth, cutoffs)"
   ]
  },
  {
   "cell_type": "code",
   "execution_count": null,
   "id": "sunrise-advancement",
   "metadata": {
    "ExecuteTime": {
     "end_time": "2022-08-17T13:47:38.248577Z",
     "start_time": "2022-08-17T13:47:38.173637Z"
    }
   },
   "outputs": [],
   "source": [
    "?px.line"
   ]
  },
  {
   "cell_type": "code",
   "execution_count": null,
   "id": "innovative-register",
   "metadata": {
    "ExecuteTime": {
     "end_time": "2022-08-17T13:56:10.642932Z",
     "start_time": "2022-08-17T13:56:10.565779Z"
    }
   },
   "outputs": [],
   "source": [
    "fig = px.line(l11_curves, \n",
    "              x=\"num_reads\", \n",
    "              y=\"num_insertions\", \n",
    "              color='ReadCutoff',\n",
    "              labels = {'num_reads': \"Sequencing Depth (millions of reads)\",\n",
    "                        'num_insertions': \"Number of unique insertions\",\n",
    "                        'ReadCutoff': 'Detection Limit'}, \n",
    "              template = \"plotly_white\", \n",
    "              height=600, \n",
    "              width=1000)\n",
    "\n",
    "fig.update_traces(mode='markers+lines')"
   ]
  },
  {
   "cell_type": "code",
   "execution_count": null,
   "id": "persistent-marsh",
   "metadata": {
    "ExecuteTime": {
     "end_time": "2022-08-17T13:57:17.360543Z",
     "start_time": "2022-08-17T13:57:17.283458Z"
    }
   },
   "outputs": [],
   "source": [
    "fig = px.line(db_curves, \n",
    "              x=\"num_reads\", \n",
    "              y=\"num_insertions\", \n",
    "              color='ReadCutoff',\n",
    "              labels = {'num_reads': \"Sequencing Depth (millions of reads)\",\n",
    "                        'num_insertions': \"Number of unique insertions\",\n",
    "                        'ReadCutoff': 'Detection Limit'}, \n",
    "              template = \"plotly_white\", \n",
    "              height=600, \n",
    "              width=1000)\n",
    "\n",
    "fig.update_traces(mode='markers+lines')"
   ]
  },
  {
   "cell_type": "code",
   "execution_count": null,
   "id": "hungarian-aircraft",
   "metadata": {
    "ExecuteTime": {
     "end_time": "2022-08-17T13:57:33.141879Z",
     "start_time": "2022-08-17T13:57:33.067950Z"
    }
   },
   "outputs": [],
   "source": [
    "fig = px.line(ec_curves, \n",
    "              x=\"num_reads\", \n",
    "              y=\"num_insertions\", \n",
    "              color='ReadCutoff',\n",
    "              labels = {'num_reads': \"Sequencing Depth (millions of reads)\",\n",
    "                        'num_insertions': \"Number of unique insertions\",\n",
    "                        'ReadCutoff': 'Detection Limit'}, \n",
    "              template = \"plotly_white\", \n",
    "              height=600, \n",
    "              width=1000)\n",
    "\n",
    "fig.update_traces(mode='markers+lines')"
   ]
  },
  {
   "cell_type": "code",
   "execution_count": null,
   "id": "varying-sunset",
   "metadata": {},
   "outputs": [],
   "source": []
  }
 ],
 "metadata": {
  "kernelspec": {
   "display_name": "Python 3",
   "language": "python",
   "name": "python3"
  },
  "language_info": {
   "codemirror_mode": {
    "name": "ipython",
    "version": 3
   },
   "file_extension": ".py",
   "mimetype": "text/x-python",
   "name": "python",
   "nbconvert_exporter": "python",
   "pygments_lexer": "ipython3",
   "version": "3.6.6"
  },
  "toc": {
   "base_numbering": 1,
   "nav_menu": {},
   "number_sections": true,
   "sideBar": true,
   "skip_h1_title": false,
   "title_cell": "Table of Contents",
   "title_sidebar": "Contents",
   "toc_cell": false,
   "toc_position": {},
   "toc_section_display": true,
   "toc_window_display": false
  }
 },
 "nbformat": 4,
 "nbformat_minor": 5
}
