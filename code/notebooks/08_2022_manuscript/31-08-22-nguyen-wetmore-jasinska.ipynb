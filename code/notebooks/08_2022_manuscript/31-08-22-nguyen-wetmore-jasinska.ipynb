{
 "cells": [
  {
   "cell_type": "markdown",
   "metadata": {
    "ExecuteTime": {
     "end_time": "2022-09-26T13:49:07.480962Z",
     "start_time": "2022-09-26T13:49:07.476676Z"
    }
   },
   "source": [
    "# Load Settings and Configs"
   ]
  },
  {
   "cell_type": "code",
   "execution_count": null,
   "metadata": {
    "ExecuteTime": {
     "end_time": "2022-09-26T13:47:57.220456Z",
     "start_time": "2022-09-26T13:47:57.197341Z"
    }
   },
   "outputs": [],
   "source": [
    "# %load load_manuscript_data.py\n",
    "import pandas as pd\n",
    "import numpy as np\n",
    "import matplotlib.pyplot as plt\n",
    "import os\n",
    "from pathlib import Path\n",
    "import seaborn as sns\n",
    "import sys\n",
    "import plotly.express as px\n",
    "import plotly.io as pio\n",
    "import yaml\n",
    "\n",
    "sns.set_context(\"notebook\", font_scale=1.4)\n",
    "pd.set_option(\"display.max_columns\", 100)\n",
    "pd.set_option(\"display.max_rows\", 100)\n",
    "plt.rcParams[\"figure.figsize\"] = (16, 12)\n",
    "plt.rcParams['savefig.dpi'] = 200\n",
    "plt.rcParams['figure.autolayout'] = False\n",
    "plt.rcParams['axes.labelsize'] = 18\n",
    "plt.rcParams['axes.titlesize'] = 20\n",
    "plt.rcParams['font.size'] = 16\n",
    "plt.rcParams['lines.linewidth'] = 2.0\n",
    "plt.rcParams['lines.markersize'] = 8\n",
    "plt.rcParams['legend.fontsize'] = 14\n",
    "pd.set_option('display.float_format', lambda x: '{:,.4f}'.format(x))\n",
    "\n",
    "\n",
    "config_file = \"manuscript_config.yaml\"\n",
    "with open(config_file) as file:\n",
    "    # The FullLoader parameter handles the conversion from YAML\n",
    "    # scalar values to Python the dictionary format\n",
    "    configs = yaml.load(file, Loader=yaml.FullLoader)\n",
    "    \n",
    "# Run on server:\n",
    "run_on = \"server\"\n",
    "root = Path(configs['root'][run_on])\n",
    "scratchDir = Path(configs['scratchDir'][run_on])\n",
    "figuresDir = Path(configs['figuresDir'][run_on])\n",
    "\n",
    "alphabetClrs = px.colors.qualitative.Alphabet\n",
    "clrs = [\"#f7ba65\", \"#bf4713\", \"#9c002f\", \"#d73d00\", \"#008080\", \"#004c4c\"]\n",
    "colors = {'grey': alphabetClrs[8], \n",
    "        'light_yellow': clrs[0],\n",
    "        'darko': clrs[1],\n",
    "        'maroon':clrs[2],\n",
    "        'brighto': clrs[3],\n",
    "        'teal':clrs[4],\n",
    "        'darkteal':clrs[5]\n",
    "       }"
   ]
  },
  {
   "cell_type": "markdown",
   "metadata": {},
   "source": [
    "# Nguyen et al 2020"
   ]
  },
  {
   "cell_type": "markdown",
   "metadata": {},
   "source": [
    "## Load the data"
   ]
  },
  {
   "cell_type": "code",
   "execution_count": null,
   "metadata": {
    "ExecuteTime": {
     "end_time": "2022-09-15T09:00:32.354079Z",
     "start_time": "2022-09-15T09:00:32.349713Z"
    }
   },
   "outputs": [],
   "source": [
    "nguyenConfig = configs['nguyen']\n",
    "countsFile = root/nguyenConfig['countsFile']\n",
    "resultsFile = root/nguyenConfig['resultsFile']\n",
    "resultsFileName = root/nguyenConfig['resultsFileName']\n",
    "sampleDataFile = root/nguyenConfig['sampleDataFile']\n",
    "publishedResultsFile = root/nguyenConfig['publishedResultsFile']\n",
    "publishedPhenotypesFile = root/nguyenConfig['publishedPhenotypesFile']\n",
    "mapFile = root/nguyenConfig['mapFile']['filtered']"
   ]
  },
  {
   "cell_type": "code",
   "execution_count": null,
   "metadata": {
    "ExecuteTime": {
     "end_time": "2022-09-15T09:00:32.619618Z",
     "start_time": "2022-09-15T09:00:32.355433Z"
    }
   },
   "outputs": [],
   "source": [
    "publishedResults = pd.read_csv(publishedResultsFile, skiprows=1)\n",
    "results = pd.read_csv(resultsFile)\n",
    "# What is a hit?\n",
    "\n",
    "results['mbarq_hit'] = ((results['neg_selection_fdr'] < 0.05) | (results['pos_selection_fdr'] < 0.05)) & (abs(results.LFC) > 0.6)\n",
    "#results['mbarq_hit'] = ((results['neg_selection_fdr'] < 0.05) | (results['pos_selection_fdr'] < 0.05))\n",
    "\n",
    "\n",
    "annotations = (pd.read_csv(mapFile)[['Name', 'locus_tag']]\n",
    "               .drop_duplicates()\n",
    "               .rename({'Name': 'mapName', 'locus_tag': 'Name'}, axis=1))\n",
    "\n",
    "publishedCI = (publishedResults.melt(id_vars=['locus', 'gene'], \n",
    "                                    value_vars=[c for c in publishedResults.columns if 'median_CI' in c],\n",
    "                                    value_name='median_CI', \n",
    "                                    var_name=['contrast'])\n",
    "                               .rename({'locus': 'Name'}, axis=1))\n",
    "\n",
    "publishedCI['contrast'] = publishedCI.contrast.str.split(\"_\", expand=True)[0]\n",
    "publishedCI['median_CI'] = np.log10(publishedCI.median_CI)\n",
    "\n",
    "publishedHits = (publishedResults.melt(id_vars=['locus'], var_name=['contrast'],\n",
    "                                     value_vars=[c for c in publishedResults.columns if 'adj_p_value_CI'in c],\n",
    "                                     value_name='adj_pvalue')\n",
    "                                 .rename({'locus': 'Name'}, axis=1))\n",
    "\n",
    "publishedHits['contrast'] = publishedCI.contrast.str.split(\"_\", expand=True)[0]\n",
    "publishedDf = publishedCI.merge(publishedHits, on=['Name', 'contrast'])\n",
    "\n",
    "# What is a hit?\n",
    "#publishedDf['published_hit'] = ((publishedDf.adj_pvalue < 0.05)).astype(int)*2\n",
    "publishedDf['published_hit'] = ((publishedDf.adj_pvalue < 0.05) & (abs(publishedDf.median_CI) > 0.6)).astype(int)*2\n",
    "\n",
    "compCntrl = results.merge(publishedDf, on=['Name', 'contrast'], how='inner')\n",
    "compCntrl['hit'] = (compCntrl['mbarq_hit'] + compCntrl['published_hit']).astype(str)\n",
    "compCntrl.hit.replace({'0': 'No defect', '1': 'New', '2': 'Original', '3': 'Confirmed'}, inplace=True)\n"
   ]
  },
  {
   "cell_type": "markdown",
   "metadata": {},
   "source": [
    "## Look at results by Name instead of locus tag"
   ]
  },
  {
   "cell_type": "code",
   "execution_count": null,
   "metadata": {
    "ExecuteTime": {
     "end_time": "2022-09-01T13:32:31.973306Z",
     "start_time": "2022-09-01T13:32:31.932368Z"
    }
   },
   "outputs": [],
   "source": [
    "resultsName = pd.read_csv(resultsFileName)\n",
    "resultsName['mbarq_hit'] = ((resultsName['neg_selection_fdr'] < 0.05) | (resultsName['pos_selection_fdr'] < 0.05) & (abs(resultsName.LFC) > 0.6))\n"
   ]
  },
  {
   "cell_type": "markdown",
   "metadata": {},
   "source": [
    "## Compare CIs"
   ]
  },
  {
   "cell_type": "code",
   "execution_count": null,
   "metadata": {
    "ExecuteTime": {
     "end_time": "2022-09-07T12:05:46.745101Z",
     "start_time": "2022-09-07T12:05:46.735788Z"
    }
   },
   "outputs": [],
   "source": [
    "def compare_CIs(df, contrast):\n",
    "    to_plot = df[df.contrast == contrast]\n",
    "    to_plot = to_plot.rename({'hit': 'Significant CI defect'}, axis=1)\n",
    "    fig = px.scatter(to_plot, x='LFC', y='median_CI', color='Significant CI defect', height=800, width=1000,\n",
    "              template = 'plotly_white', \n",
    "                labels = {'median_CI': 'CI (original analysis)', 'LFC': 'LFC (mBARq analysis)'},\n",
    "               color_discrete_map = {'No defect': colors['grey'], 'Confirmed': colors['maroon'], \n",
    "                                     'New': colors['teal'], 'Original': colors['light_yellow']},\n",
    "                hover_data=['Name', 'gene'],\n",
    "                category_orders = {'Significant CI defect':['No defect', 'Original', 'New', 'Confirmed']},)\n",
    "\n",
    "\n",
    "    fig.update_traces(marker=dict(size=20,\n",
    "                        line=dict(width=1,\n",
    "                                                    color='DarkSlateGrey'), opacity=0.9),\n",
    "                              selector=dict(mode='markers'))\n",
    "\n",
    "    fig.update_layout(font={'size':22})\n",
    "    return fig"
   ]
  },
  {
   "cell_type": "code",
   "execution_count": null,
   "metadata": {
    "ExecuteTime": {
     "end_time": "2022-09-07T12:12:02.577791Z",
     "start_time": "2022-09-07T12:12:02.484475Z"
    }
   },
   "outputs": [],
   "source": [
    "compare_CIs(compCntrl, 'd1')"
   ]
  },
  {
   "cell_type": "code",
   "execution_count": null,
   "metadata": {
    "ExecuteTime": {
     "end_time": "2022-09-07T12:10:42.707531Z",
     "start_time": "2022-09-07T12:10:42.184789Z"
    }
   },
   "outputs": [],
   "source": [
    "compare_CIs(compCntrl, 'd2')"
   ]
  },
  {
   "cell_type": "code",
   "execution_count": null,
   "metadata": {
    "ExecuteTime": {
     "end_time": "2022-09-07T12:10:55.679665Z",
     "start_time": "2022-09-07T12:10:55.541844Z"
    }
   },
   "outputs": [],
   "source": [
    "compare_CIs(compCntrl, 'd3')"
   ]
  },
  {
   "cell_type": "markdown",
   "metadata": {},
   "source": [
    "### Calculate CI correlations"
   ]
  },
  {
   "cell_type": "code",
   "execution_count": null,
   "metadata": {
    "ExecuteTime": {
     "end_time": "2022-09-07T12:03:02.382603Z",
     "start_time": "2022-09-07T12:03:02.364317Z"
    }
   },
   "outputs": [],
   "source": [
    "corr_df = compCntrl.groupby('contrast')[['LFC', 'median_CI']].corr().iloc[0::2,-1].reset_index()\n",
    "corr_df.columns = ['contrast', 'LFC', 'R']"
   ]
  },
  {
   "cell_type": "code",
   "execution_count": null,
   "metadata": {
    "ExecuteTime": {
     "end_time": "2022-09-07T08:08:08.039982Z",
     "start_time": "2022-09-07T08:08:07.986178Z"
    }
   },
   "outputs": [],
   "source": [
    "corr_df"
   ]
  },
  {
   "cell_type": "code",
   "execution_count": null,
   "metadata": {
    "ExecuteTime": {
     "end_time": "2022-09-07T12:03:03.939718Z",
     "start_time": "2022-09-07T12:03:03.881582Z"
    }
   },
   "outputs": [],
   "source": [
    "corr_df = corr_df[corr_df.contrast != 'd4']\n",
    "fig = px.bar(corr_df, x=\"contrast\", y='R', color='contrast',\n",
    "      color_discrete_sequence = [colors['teal']]*3,\n",
    "      height=400, width=350, text_auto='.2f', template='plotly_white')\n",
    "fig.update_layout(showlegend=False)"
   ]
  },
  {
   "cell_type": "markdown",
   "metadata": {},
   "source": [
    "### Calculate recall, precision, balanced accuracy "
   ]
  },
  {
   "cell_type": "code",
   "execution_count": null,
   "metadata": {
    "ExecuteTime": {
     "end_time": "2022-09-07T08:08:37.015815Z",
     "start_time": "2022-09-07T08:08:34.684486Z"
    }
   },
   "outputs": [],
   "source": [
    "from sklearn.metrics import recall_score, precision_score, balanced_accuracy_score\n",
    "\n",
    "phenotypes = pd.read_csv(root/nguyenConfig[\"publishedPhenotypesFile\"])\n",
    "phenotypes = phenotypes.rename({'locus': 'Name', 'day': 'contrast'}, axis=1)\n",
    "phenotypes = phenotypes.merge(compCntrl, how='left', on=['Name', 'contrast'])\n",
    "phenotypes['pheno_hit'] = (phenotypes['adjusted p value (C.I.)'] < 0.05).astype(int)\n",
    "phenotypes = phenotypes[['Name', 'gene_x', 'contrast', 'pheno_hit', 'mbarq_hit', 'published_hit']].dropna()\n",
    "phenotypes['mbarq_hit'] = phenotypes.mbarq_hit.astype(int)\n",
    "phenotypes['published_hit'] = (phenotypes.published_hit/2).astype(int)\n",
    "phenotypes = phenotypes[phenotypes.contrast != 'd4']\n",
    "\n",
    "\n",
    "metrics = {'mbarq': (precision_score(phenotypes.pheno_hit, phenotypes.mbarq_hit), \n",
    "                     recall_score(phenotypes.pheno_hit, phenotypes.mbarq_hit), \n",
    "                     balanced_accuracy_score(phenotypes.pheno_hit, phenotypes.mbarq_hit)), \n",
    "          'published': (precision_score(phenotypes.pheno_hit, phenotypes.published_hit), \n",
    "                       recall_score(phenotypes.pheno_hit, phenotypes.published_hit), \n",
    "                       balanced_accuracy_score(phenotypes.pheno_hit, phenotypes.published_hit) )}\n",
    "\n",
    "metricDf = (pd.DataFrame(metrics, index=['precision', 'recall', 'balanced_accuracy'])\n",
    "              .T\n",
    "            .reset_index()\n",
    "            .rename({'index':'Method'}, axis=1)\n",
    "              .melt(id_vars=['Method'], var_name='Metric', value_name='Score'))"
   ]
  },
  {
   "cell_type": "code",
   "execution_count": null,
   "metadata": {
    "ExecuteTime": {
     "end_time": "2022-09-07T08:08:37.029018Z",
     "start_time": "2022-09-07T08:08:37.020817Z"
    }
   },
   "outputs": [],
   "source": [
    "phenotypes.pheno_hit.value_counts()"
   ]
  },
  {
   "cell_type": "code",
   "execution_count": null,
   "metadata": {
    "ExecuteTime": {
     "end_time": "2022-09-07T12:11:10.724042Z",
     "start_time": "2022-09-07T12:11:10.713841Z"
    }
   },
   "outputs": [],
   "source": [
    "compCntrl[compCntrl.hit != 'No defect'].groupby('contrast').hit.value_counts(normalize=True)"
   ]
  },
  {
   "cell_type": "code",
   "execution_count": null,
   "metadata": {
    "ExecuteTime": {
     "end_time": "2022-09-07T08:08:48.562059Z",
     "start_time": "2022-09-07T08:08:48.501064Z"
    }
   },
   "outputs": [],
   "source": [
    "px.bar(metricDf, x='Metric', y='Score', \n",
    "       color='Method', barmode='group', text_auto='.2f', \n",
    "       height=400, width=400, \n",
    "      template='plotly_white', \n",
    "      color_discrete_map = {'mbarq':colors['teal'] , 'published': colors['grey']})"
   ]
  },
  {
   "cell_type": "code",
   "execution_count": null,
   "metadata": {
    "ExecuteTime": {
     "end_time": "2022-09-07T08:09:15.971559Z",
     "start_time": "2022-09-07T08:09:15.949799Z"
    }
   },
   "outputs": [],
   "source": [
    "allResults = results.merge(publishedDf, on=['Name', 'contrast'], how='outer')\n",
    "allD1 = allResults[allResults.contrast == 'd1'].merge(annotations, how='left', on='Name')\n",
    "#allD1[(allD1.mbarq_hit == True) & (allD1.LFC < 0) & (allD1.Name.str.len() < 15)]"
   ]
  },
  {
   "cell_type": "code",
   "execution_count": null,
   "metadata": {
    "ExecuteTime": {
     "end_time": "2022-08-31T12:47:18.224604Z",
     "start_time": "2022-08-31T12:47:18.215885Z"
    }
   },
   "outputs": [],
   "source": []
  },
  {
   "cell_type": "markdown",
   "metadata": {},
   "source": [
    "# Wetmore et al 2015"
   ]
  },
  {
   "cell_type": "markdown",
   "metadata": {},
   "source": [
    "## Load the data"
   ]
  },
  {
   "cell_type": "code",
   "execution_count": null,
   "metadata": {
    "ExecuteTime": {
     "end_time": "2022-09-26T08:36:43.925585Z",
     "start_time": "2022-09-26T08:36:43.922036Z"
    }
   },
   "outputs": [],
   "source": [
    "def get_bigger_tstat(x):\n",
    "    a =[abs(i) for i in x.values]\n",
    "    return x.values[a.index(max(a))]"
   ]
  },
  {
   "cell_type": "code",
   "execution_count": null,
   "metadata": {
    "ExecuteTime": {
     "end_time": "2022-09-26T08:36:44.048736Z",
     "start_time": "2022-09-26T08:36:44.042014Z"
    }
   },
   "outputs": [],
   "source": [
    "wetmoreConfig = configs['wetmore']\n",
    "wcountsFile = root/wetmoreConfig['countsFile']\n",
    "wresultsFile = root/wetmoreConfig['resultsFile']\n",
    "wsampleDataFile = root/wetmoreConfig['sampleDataFile']\n",
    "wpublishedResultsFile = root/wetmoreConfig['publishedResultsFile']\n",
    "wpublishedCountsFile = root/wetmoreConfig['publishedCountsFile']\n",
    "wmapFile = root/wetmoreConfig['mapFile']['filtered']\n",
    "wpublishedStatsFile = root/wetmoreConfig['publishedStatsFile']"
   ]
  },
  {
   "cell_type": "code",
   "execution_count": null,
   "metadata": {
    "ExecuteTime": {
     "end_time": "2022-09-26T08:36:44.254204Z",
     "start_time": "2022-09-26T08:36:44.246563Z"
    }
   },
   "outputs": [],
   "source": [
    "contrast_map = {'D-Maltose_monohydrate': 'D-Maltose',\n",
    "                'a-Ketoglutaric_acid_disodium_salt_hydrate': 'a-Ketoglutaric acid',\n",
    "                'a-Ketoglutaric': 'a-Ketoglutaric acid',\n",
    "                'Potassium_acetate': 'Acetate',\n",
    "                'acetate': 'Acetate',\n",
    "                'CAS_amino_acids': 'CAS amino acids',\n",
    "                'CAS': 'CAS amino acids',\n",
    "                'Tween_20': 'Tween',\n",
    "                'Sodium_L-Lactate': 'L-Lactate',\n",
    "                'Sodium_D,L-Lactate': 'D,L-Lactate',\n",
    "                'Sodium_pyruvate': 'Pyruvate',\n",
    "                'pyruvate': 'Pyruvate',\n",
    "                'Putrescine_Dihydrochloride': 'Putrescine',\n",
    "                'N-Acetyl-D-Glucosamine': 'NAG',\n",
    "                'L-Glutamic_acid_monopotassium_salt_monohydrate': 'L-Glutamic acid',\n",
    "                'L-Glutamic': 'L-Glutamic acid',\n",
    "                'Sodium_Fumarate_dibasic': 'Fumarate',\n",
    "                'L-Malic_acid_disodium_salt_monohydrate': 'L-Malic acid',\n",
    "                'Sodium_Fumarate_dibasic': 'Fumarate', \n",
    "                'Sodium_succinate_dibasic_hexahydrate': 'Succinate'\n",
    "               }"
   ]
  },
  {
   "cell_type": "markdown",
   "metadata": {},
   "source": [
    "## Clean published results"
   ]
  },
  {
   "cell_type": "code",
   "execution_count": null,
   "metadata": {
    "ExecuteTime": {
     "end_time": "2022-09-26T08:36:50.829965Z",
     "start_time": "2022-09-26T08:36:50.816121Z"
    }
   },
   "outputs": [],
   "source": [
    "wsampleData = pd.read_csv(wsampleDataFile)"
   ]
  },
  {
   "cell_type": "code",
   "execution_count": null,
   "metadata": {
    "ExecuteTime": {
     "end_time": "2022-09-26T08:36:51.012431Z",
     "start_time": "2022-09-26T08:36:51.009493Z"
    }
   },
   "outputs": [],
   "source": [
    "#wsampleData"
   ]
  },
  {
   "cell_type": "code",
   "execution_count": null,
   "metadata": {
    "ExecuteTime": {
     "end_time": "2022-09-26T08:36:51.313717Z",
     "start_time": "2022-09-26T08:36:51.297160Z"
    }
   },
   "outputs": [],
   "source": [
    "wsampleData.groupby('condition').filter(lambda x: len(x) > 1).to_csv(wsampleDataFile.with_suffix('.replicates.csv'),\n",
    "                                                                    index=False)"
   ]
  },
  {
   "cell_type": "code",
   "execution_count": null,
   "metadata": {
    "ExecuteTime": {
     "end_time": "2022-09-26T08:37:57.771718Z",
     "start_time": "2022-09-26T08:36:51.794232Z"
    }
   },
   "outputs": [],
   "source": [
    "pcounts = pd.read_table(wpublishedCountsFile).drop(['scaffold', 'strand', 'pos', 'locusId', 'f'], axis=1)\n",
    "pcounts = pcounts.melt(id_vars=['barcode', 'rcbarcode'], value_name='cnt', var_name='sampleID')\n",
    "pcounts = pcounts[pcounts.sampleID.str.contains('set1')]\n",
    "pcounts['sampleID'] = pcounts['sampleID'].str.split('.', expand=True)[1]"
   ]
  },
  {
   "cell_type": "code",
   "execution_count": null,
   "metadata": {
    "ExecuteTime": {
     "end_time": "2022-09-26T08:38:00.728778Z",
     "start_time": "2022-09-26T08:37:57.773860Z"
    }
   },
   "outputs": [],
   "source": [
    "wpublishedResults = pd.read_table(wpublishedResultsFile).drop(['locusId', 'desc', 'comb'], axis=1)\n",
    "wpublishedResults = wpublishedResults.melt(id_vars=['sysName'],  \n",
    "                                         var_name='contrast', \n",
    "                                         value_name='LFC')\n",
    "wpublishedResults['set'] = wpublishedResults.contrast.str.split(expand=True)[0]\n",
    "wpublishedResults['contrast'] = wpublishedResults.contrast.str.split(expand=True)[1]\n",
    "wpublishedStats = pd.read_table(wpublishedStatsFile).drop(['locusId', 'desc'], axis=1)\n",
    "wpublishedStats = wpublishedStats.melt(id_vars=['sysName'],  \n",
    "                                         var_name='contrast', \n",
    "                                         value_name='tstat')\n",
    "wpublishedStats['set'] = wpublishedStats.contrast.str.split(expand=True)[0]\n",
    "wpublishedStats['contrast'] = wpublishedStats.contrast.str.split(expand=True)[1]\n",
    "wpublishedDf = wpublishedResults.merge(wpublishedStats, on=['sysName', 'contrast', 'set'])\n",
    "wpublishedDf = wpublishedDf[wpublishedDf.set.str.contains('set1')]\n",
    "wpublishedDf = wpublishedDf.rename({'sysName':'Name'}, axis=1)\n",
    "wpublishedDf = (wpublishedDf.groupby(['contrast', 'Name']).agg({'LFC': ['median'], \n",
    "                                                               'tstat':[get_bigger_tstat]})\n",
    "                            .reset_index())\n",
    "wpublishedDf.columns = ['contrast', 'Name', 'published_LFC', 'tstat']\n",
    "wpublishedDf['contrast'] =wpublishedDf['contrast'].replace(contrast_map)"
   ]
  },
  {
   "cell_type": "markdown",
   "metadata": {},
   "source": [
    "## Look at the count data"
   ]
  },
  {
   "cell_type": "code",
   "execution_count": null,
   "metadata": {
    "ExecuteTime": {
     "end_time": "2022-09-26T08:38:32.202161Z",
     "start_time": "2022-09-26T08:38:00.730396Z"
    }
   },
   "outputs": [],
   "source": [
    "wcnts = pd.read_csv(wcountsFile)"
   ]
  },
  {
   "cell_type": "code",
   "execution_count": null,
   "metadata": {
    "ExecuteTime": {
     "end_time": "2022-09-26T08:38:33.001765Z",
     "start_time": "2022-09-26T08:38:32.206188Z"
    }
   },
   "outputs": [],
   "source": [
    "wcnts_annotated = wcnts[~wcnts.old_locus_tag.isna()]"
   ]
  },
  {
   "cell_type": "code",
   "execution_count": null,
   "metadata": {
    "ExecuteTime": {
     "end_time": "2022-09-26T08:38:46.981946Z",
     "start_time": "2022-09-26T08:38:33.004487Z"
    }
   },
   "outputs": [],
   "source": [
    "wcnts_annotated.to_csv(wcountsFile.with_suffix(\".annotated.csv\"), index=False)"
   ]
  },
  {
   "cell_type": "code",
   "execution_count": null,
   "metadata": {
    "ExecuteTime": {
     "end_time": "2022-09-26T08:38:51.929878Z",
     "start_time": "2022-09-26T08:38:46.985037Z"
    }
   },
   "outputs": [],
   "source": [
    "ncounts = wcnts_annotated.rename({'barcode':'rcbarcode'}, axis=1)\n",
    "ncounts = ncounts.melt(id_vars=['rcbarcode', 'old_locus_tag'], var_name='sampleID', value_name='new_count')"
   ]
  },
  {
   "cell_type": "code",
   "execution_count": null,
   "metadata": {
    "ExecuteTime": {
     "end_time": "2022-09-26T08:39:26.764891Z",
     "start_time": "2022-09-26T08:38:51.933913Z"
    }
   },
   "outputs": [],
   "source": [
    "cnts = ncounts.merge(pcounts, on=['rcbarcode', 'sampleID'], how='inner')"
   ]
  },
  {
   "cell_type": "code",
   "execution_count": null,
   "metadata": {
    "ExecuteTime": {
     "end_time": "2022-09-26T08:39:27.255442Z",
     "start_time": "2022-09-26T08:39:26.768867Z"
    }
   },
   "outputs": [],
   "source": [
    "cnts['logCnt'] = np.log2(cnts['cnt'] +1)\n",
    "cnts['logNewCnt'] = np.log2(cnts['new_count'] +1)"
   ]
  },
  {
   "cell_type": "code",
   "execution_count": null,
   "metadata": {
    "ExecuteTime": {
     "end_time": "2022-09-26T08:39:32.657454Z",
     "start_time": "2022-09-26T08:39:27.257911Z"
    }
   },
   "outputs": [],
   "source": [
    "wcntCor = cnts.groupby('sampleID')[['logNewCnt', 'logCnt']].corr().iloc[0::2,-1].reset_index()\n",
    "wcntCor.columns = ['contrast', 'comparison', 'R']\n",
    "wcntCor['R2'] = round(wcntCor['R']**2, 3)"
   ]
  },
  {
   "cell_type": "code",
   "execution_count": null,
   "metadata": {
    "ExecuteTime": {
     "end_time": "2022-09-26T08:39:35.209021Z",
     "start_time": "2022-09-26T08:39:32.660801Z"
    }
   },
   "outputs": [],
   "source": [
    "px.bar(wcntCor, x = 'contrast', y='R')"
   ]
  },
  {
   "cell_type": "code",
   "execution_count": null,
   "metadata": {
    "ExecuteTime": {
     "end_time": "2022-09-26T08:39:35.235378Z",
     "start_time": "2022-09-26T08:39:35.212518Z"
    }
   },
   "outputs": [],
   "source": [
    "wcntCor"
   ]
  },
  {
   "cell_type": "markdown",
   "metadata": {},
   "source": [
    "## Look at the results"
   ]
  },
  {
   "cell_type": "code",
   "execution_count": null,
   "metadata": {
    "ExecuteTime": {
     "end_time": "2022-09-26T08:39:35.289552Z",
     "start_time": "2022-09-26T08:39:35.238116Z"
    }
   },
   "outputs": [],
   "source": [
    "wresultsFile = root/'wetmore_2015/results_1/Set1_rra_results.csv'"
   ]
  },
  {
   "cell_type": "code",
   "execution_count": null,
   "metadata": {
    "ExecuteTime": {
     "end_time": "2022-09-26T08:39:36.144525Z",
     "start_time": "2022-09-26T08:39:35.292443Z"
    }
   },
   "outputs": [],
   "source": [
    "wresults = pd.read_csv(wresultsFile)\n",
    "wresults = wresults[~wresults.Name.str.contains(\":\")]\n",
    "wresults['contrast'] = wresults['contrast'].replace(contrast_map)"
   ]
  },
  {
   "cell_type": "code",
   "execution_count": null,
   "metadata": {
    "ExecuteTime": {
     "end_time": "2022-09-26T08:45:16.319112Z",
     "start_time": "2022-09-26T08:45:16.313274Z"
    }
   },
   "outputs": [],
   "source": [
    "carbon_sources =['D-Glucose', 'D-Maltose', 'a-Ketoglutaric acid', 'Acetate',\n",
    "       'D-Cellobiose', 'L-Lactate', 'D,L-Lactate', 'Pyruvate',\n",
    "       'D-Mannitol', 'Tween', 'L-Glutamic acid', 'L-Glutamine', 'Gly-Glu',\n",
    "       'Gelatin', 'CAS amino acids', 'Putrescine', 'NAG', 'Adenosine',\n",
    "       'Uridine', 'Thymidine', 'Inosine', 'Cytidine', 'D-Mannose',\n",
    "       'Sucrose', 'L-Serine']"
   ]
  },
  {
   "cell_type": "code",
   "execution_count": null,
   "metadata": {
    "ExecuteTime": {
     "end_time": "2022-09-26T08:45:21.176351Z",
     "start_time": "2022-09-26T08:45:21.158422Z"
    }
   },
   "outputs": [],
   "source": [
    "final_results = wresults[wresults.contrast.isin(carbon_sources)]"
   ]
  },
  {
   "cell_type": "code",
   "execution_count": null,
   "metadata": {
    "ExecuteTime": {
     "end_time": "2022-09-26T08:45:29.952005Z",
     "start_time": "2022-09-26T08:45:29.685433Z"
    }
   },
   "outputs": [],
   "source": [
    "final_results.to_csv(root/'wetmore_2015/results_1/Set1_rra_results_contrasts_edited.csv', index=False)"
   ]
  },
  {
   "cell_type": "code",
   "execution_count": null,
   "metadata": {
    "ExecuteTime": {
     "end_time": "2022-09-26T08:39:36.571831Z",
     "start_time": "2022-09-26T08:39:36.527549Z"
    }
   },
   "outputs": [],
   "source": [
    "wcomp = wresults.merge(wpublishedDf, on=['Name', 'contrast'], how='inner')\n",
    "wcomp['New'] = ((abs(wcomp.LFC) > 0.6) & ((wcomp.neg_selection_fdr < 0.05)| (wcomp.pos_selection_fdr < 0.05)))\n",
    "wcomp['Original'] = (abs(wcomp.tstat) > 4).astype(int)*2\n",
    "wcomp['Hits'] = wcomp['New'].astype(int) + wcomp['Original']\n",
    "wcomp.Hits.replace({0: 'No defect', 1: 'New', 2: 'Original', 3: 'Confirmed'}, inplace=True)"
   ]
  },
  {
   "cell_type": "code",
   "execution_count": null,
   "metadata": {
    "ExecuteTime": {
     "end_time": "2022-09-26T08:39:36.607250Z",
     "start_time": "2022-09-26T08:39:36.573423Z"
    }
   },
   "outputs": [],
   "source": [
    "wcomp.sample(5)"
   ]
  },
  {
   "cell_type": "code",
   "execution_count": null,
   "metadata": {
    "ExecuteTime": {
     "end_time": "2022-09-26T08:39:36.655296Z",
     "start_time": "2022-09-26T08:39:36.608779Z"
    }
   },
   "outputs": [],
   "source": [
    "def compare_CIs_db(df, contrast):\n",
    "    to_plot = df[df.contrast == contrast]\n",
    "    to_plot = to_plot.rename({'Hits': 'Significant CI defect'}, axis=1)\n",
    "    fig = px.scatter(to_plot, x='LFC', y='published_LFC', color='Significant CI defect', height=800, width=1000,\n",
    "              template = 'plotly_white', \n",
    "                labels = {'published_LFC': 'LFC (original analysis)', 'LFC': 'LFC (mBARq analysis)'},\n",
    "               color_discrete_map = {'No defect': colors['grey'], 'Confirmed': colors['maroon'], \n",
    "                                     'New': colors['teal'], 'Original': colors['light_yellow']},\n",
    "                hover_data=['Name'],\n",
    "                category_orders = {'Significant CI defect':['No defect', 'Original', 'New', 'Confirmed']},)\n",
    "\n",
    "\n",
    "    fig.update_traces(marker=dict(size=20,\n",
    "                        line=dict(width=1,\n",
    "                                                    color='DarkSlateGrey'), opacity=0.9),\n",
    "                              selector=dict(mode='markers'))\n",
    "\n",
    "    fig.update_layout(font={'size':22})\n",
    "    return fig\n"
   ]
  },
  {
   "cell_type": "code",
   "execution_count": null,
   "metadata": {},
   "outputs": [],
   "source": []
  },
  {
   "cell_type": "code",
   "execution_count": null,
   "metadata": {
    "ExecuteTime": {
     "end_time": "2022-09-26T07:28:44.360320Z",
     "start_time": "2022-09-26T07:28:40.292456Z"
    }
   },
   "outputs": [],
   "source": [
    "pio.write_image(fig, figuresDir/'26-09-22-nag_ci.png', width=1000, height=600, scale=2)"
   ]
  },
  {
   "cell_type": "code",
   "execution_count": null,
   "metadata": {
    "ExecuteTime": {
     "end_time": "2022-09-26T07:18:19.840349Z",
     "start_time": "2022-09-26T07:18:19.736911Z"
    }
   },
   "outputs": [],
   "source": [
    "fig = compare_CIs_db(wcomp, 'D-Glucose')\n",
    "fig"
   ]
  },
  {
   "cell_type": "code",
   "execution_count": null,
   "metadata": {
    "ExecuteTime": {
     "end_time": "2022-09-22T13:04:28.564420Z",
     "start_time": "2022-09-22T13:04:24.416177Z"
    }
   },
   "outputs": [],
   "source": [
    "pio.write_image(fig, figuresDir/'tween20_ci.png', width=1000, height=600, scale=2)"
   ]
  },
  {
   "cell_type": "code",
   "execution_count": null,
   "metadata": {
    "ExecuteTime": {
     "end_time": "2022-09-26T08:55:12.463100Z",
     "start_time": "2022-09-26T08:55:12.431823Z"
    }
   },
   "outputs": [],
   "source": [
    "wcomp[wcomp.contrast == 'D-Glucose']"
   ]
  },
  {
   "cell_type": "code",
   "execution_count": null,
   "metadata": {
    "ExecuteTime": {
     "end_time": "2022-09-26T08:43:27.039409Z",
     "start_time": "2022-09-26T08:43:27.010851Z"
    }
   },
   "outputs": [],
   "source": [
    "wcorr_df = wcomp.groupby('contrast')[['LFC', 'published_LFC']].corr().iloc[0::2,-1].reset_index()\n",
    "wcorr_df.columns = ['contrast', 'comparison', 'R']\n"
   ]
  },
  {
   "cell_type": "code",
   "execution_count": null,
   "metadata": {
    "ExecuteTime": {
     "end_time": "2022-09-26T07:32:34.343219Z",
     "start_time": "2022-09-26T07:32:34.328113Z"
    }
   },
   "outputs": [],
   "source": [
    "wcorr_df"
   ]
  },
  {
   "cell_type": "code",
   "execution_count": null,
   "metadata": {
    "ExecuteTime": {
     "end_time": "2022-09-26T08:43:32.114721Z",
     "start_time": "2022-09-26T08:43:32.104221Z"
    }
   },
   "outputs": [],
   "source": [
    "cor_df = pd.concat([wcorr_df, wcntCor])\n",
    "cor_df.replace({'logNewCnt': 'Counts'}, inplace=True)"
   ]
  },
  {
   "cell_type": "code",
   "execution_count": null,
   "metadata": {
    "ExecuteTime": {
     "end_time": "2022-09-26T07:35:48.402526Z",
     "start_time": "2022-09-26T07:35:48.342469Z"
    }
   },
   "outputs": [],
   "source": [
    "fig = px.box(cor_df, x='comparison', y='R', width=400, height=400, color='comparison',\n",
    "      color_discrete_map = {'LFC': colors['maroon'] ,'Counts': colors['light_yellow'] \n",
    "                           },\n",
    "             labels={'comparison': ''},\n",
    "        category_orders = {'comparison': ['Counts', 'LFC']},\n",
    "      template='plotly_white', hover_data=['contrast'])\n",
    "fig.update_yaxes(range=[0, 1.1])\n",
    "fig.update_layout(showlegend=False)"
   ]
  },
  {
   "cell_type": "code",
   "execution_count": null,
   "metadata": {
    "ExecuteTime": {
     "end_time": "2022-09-26T07:36:48.453769Z",
     "start_time": "2022-09-26T07:36:48.370030Z"
    }
   },
   "outputs": [],
   "source": [
    "pio.write_image(fig, figuresDir/'26-09-22_R-box.png', width=400, height=400, scale=2)"
   ]
  },
  {
   "cell_type": "code",
   "execution_count": null,
   "metadata": {
    "ExecuteTime": {
     "end_time": "2022-09-26T09:00:15.816927Z",
     "start_time": "2022-09-26T09:00:15.810831Z"
    }
   },
   "outputs": [],
   "source": [
    "gois = [\"Sama_2129\", \"Sama_2132\", \"Sama_2134\", \"Sama_1943\", \"Sama_1942\", \"Sama_1944\", \"Sama_1946\",  \"Sama_2129\", \"Sama_2134\",\n",
    "       \"Sama_2131\", \"Sama_2133\", \"Sama_1941\", \"Sama_1948\", \"Sama_1947\"]\n",
    "#gois = [\"\"]"
   ]
  },
  {
   "cell_type": "code",
   "execution_count": null,
   "metadata": {
    "ExecuteTime": {
     "end_time": "2022-09-26T09:11:45.713613Z",
     "start_time": "2022-09-26T09:11:45.680619Z"
    }
   },
   "outputs": [],
   "source": [
    "wcomp[(wcomp.Name.isin(gois)) & ((wcomp.contrast == 'D-Glucose')) ]"
   ]
  },
  {
   "cell_type": "code",
   "execution_count": null,
   "metadata": {
    "ExecuteTime": {
     "end_time": "2022-09-26T08:43:39.513004Z",
     "start_time": "2022-09-26T08:43:39.383260Z"
    }
   },
   "outputs": [],
   "source": [
    "fig = px.bar(wcorr_df, x=\"contrast\", y='R', color='contrast',\n",
    "      color_discrete_sequence = [colors['teal']]*3,\n",
    "      height=400, width=800, text_auto='.2f', template='plotly_white')\n",
    "fig.update_layout(showlegend=False)"
   ]
  },
  {
   "cell_type": "code",
   "execution_count": null,
   "metadata": {
    "ExecuteTime": {
     "end_time": "2022-09-26T07:37:05.135562Z",
     "start_time": "2022-09-26T07:37:04.908457Z"
    }
   },
   "outputs": [],
   "source": [
    "pio.write_image(fig, figuresDir/'26-09-22-wetmore_ci_cors.png', width=1000, height=600, scale=2)"
   ]
  },
  {
   "cell_type": "code",
   "execution_count": null,
   "metadata": {
    "ExecuteTime": {
     "end_time": "2022-09-26T07:21:09.701352Z",
     "start_time": "2022-09-26T07:21:09.677965Z"
    }
   },
   "outputs": [],
   "source": [
    "x = wcomp[wcomp.Hits != 'No defect'].groupby('contrast').Hits.value_counts(normalize=True)\n",
    "x.name = 'hit_props'\n",
    "x = x.reset_index()"
   ]
  },
  {
   "cell_type": "code",
   "execution_count": null,
   "metadata": {
    "ExecuteTime": {
     "end_time": "2022-09-26T07:39:17.641048Z",
     "start_time": "2022-09-26T07:39:17.584769Z"
    }
   },
   "outputs": [],
   "source": [
    "fig = px.box(x, x='Hits', y='hit_props', color='Hits', width=400, height=400, \n",
    "    labels = {'hit_props': 'Proportion of Hits', 'Hits':''},\n",
    "      color_discrete_map = {'Confirmed': colors['maroon'] ,'Original': colors['light_yellow'], \n",
    "                            'New': colors['teal']}, hover_data=['contrast'], \n",
    "      template='plotly_white')\n",
    "fig.update_layout(showlegend=False)"
   ]
  },
  {
   "cell_type": "code",
   "execution_count": null,
   "metadata": {
    "ExecuteTime": {
     "end_time": "2022-09-26T07:39:41.624502Z",
     "start_time": "2022-09-26T07:39:41.510551Z"
    }
   },
   "outputs": [],
   "source": [
    "pio.write_image(fig, figuresDir/'26-09-22_hit_props-box.png', width=400, height=400, scale=2)"
   ]
  },
  {
   "cell_type": "markdown",
   "metadata": {},
   "source": [
    "# Testing"
   ]
  },
  {
   "cell_type": "code",
   "execution_count": null,
   "metadata": {
    "ExecuteTime": {
     "end_time": "2022-09-23T10:32:13.944771Z",
     "start_time": "2022-09-23T10:32:13.900911Z"
    }
   },
   "outputs": [],
   "source": [
    "df = pd.read_table(root/\"wetmore_2015/glucose_results/TestNew_D-Glucose_vs_Time0.gene_summary.txt\")"
   ]
  },
  {
   "cell_type": "code",
   "execution_count": null,
   "metadata": {
    "ExecuteTime": {
     "end_time": "2022-09-23T10:32:19.448819Z",
     "start_time": "2022-09-23T10:32:19.439482Z"
    }
   },
   "outputs": [],
   "source": [
    "df = df[['id', 'neg|lfc', 'neg|fdr', 'pos|fdr']].copy()\n",
    "df['contrast'] = 'D-Glucose'"
   ]
  },
  {
   "cell_type": "code",
   "execution_count": null,
   "metadata": {
    "ExecuteTime": {
     "end_time": "2022-09-23T10:32:20.837948Z",
     "start_time": "2022-09-23T10:32:20.829767Z"
    }
   },
   "outputs": [],
   "source": [
    "df = df.rename({'id': 'Name', 'neg|lfc': 'LFC', 'neg|fdr': 'neg_selection_fdr', \n",
    "                'pos|fdr': 'pos_selection_fdr'}, axis=1)"
   ]
  },
  {
   "cell_type": "code",
   "execution_count": null,
   "metadata": {
    "ExecuteTime": {
     "end_time": "2022-09-23T10:32:21.726260Z",
     "start_time": "2022-09-23T10:32:21.705211Z"
    }
   },
   "outputs": [],
   "source": [
    "df = df[~df.Name.str.contains(\":\")]"
   ]
  },
  {
   "cell_type": "code",
   "execution_count": null,
   "metadata": {
    "ExecuteTime": {
     "end_time": "2022-09-23T10:32:22.596838Z",
     "start_time": "2022-09-23T10:32:22.582678Z"
    }
   },
   "outputs": [],
   "source": [
    "df.head()"
   ]
  },
  {
   "cell_type": "code",
   "execution_count": null,
   "metadata": {
    "ExecuteTime": {
     "end_time": "2022-09-23T10:32:33.411080Z",
     "start_time": "2022-09-23T10:32:32.923522Z"
    }
   },
   "outputs": [],
   "source": [
    "df.LFC.hist(bins=100)"
   ]
  },
  {
   "cell_type": "code",
   "execution_count": null,
   "metadata": {
    "ExecuteTime": {
     "end_time": "2022-09-23T10:32:45.654119Z",
     "start_time": "2022-09-23T10:32:45.621374Z"
    }
   },
   "outputs": [],
   "source": [
    "wcomp2 = df.merge(wpublishedDf, on=['Name', 'contrast'], how='inner')\n",
    "wcomp2['New'] = ((abs(wcomp2.LFC) > 0.6) & ((wcomp2.neg_selection_fdr < 0.05)| (wcomp2.pos_selection_fdr < 0.05)))\n",
    "wcomp2['Original'] = (abs(wcomp2.tstat) > 4).astype(int)*2\n",
    "wcomp2['Hits'] = wcomp2['New'].astype(int) + wcomp2['Original']\n",
    "wcomp2.Hits.replace({0: 'No defect', 1: 'New', 2: 'Original', 3: 'Confirmed'}, inplace=True)"
   ]
  },
  {
   "cell_type": "code",
   "execution_count": null,
   "metadata": {
    "ExecuteTime": {
     "end_time": "2022-09-23T10:32:47.987152Z",
     "start_time": "2022-09-23T10:32:47.971693Z"
    }
   },
   "outputs": [],
   "source": [
    "wcorr_df2 = wcomp2.groupby('contrast')[['LFC', 'published_LFC']].corr().iloc[0::2,-1].reset_index()\n",
    "wcorr_df2.columns = ['contrast', 'LFC', 'R']"
   ]
  },
  {
   "cell_type": "code",
   "execution_count": null,
   "metadata": {
    "ExecuteTime": {
     "end_time": "2022-09-23T10:32:51.969025Z",
     "start_time": "2022-09-23T10:32:51.956967Z"
    }
   },
   "outputs": [],
   "source": [
    "wcorr_df2"
   ]
  },
  {
   "cell_type": "code",
   "execution_count": null,
   "metadata": {
    "ExecuteTime": {
     "end_time": "2022-09-23T10:32:57.020599Z",
     "start_time": "2022-09-23T10:32:56.911389Z"
    }
   },
   "outputs": [],
   "source": [
    "compare_CIs_db(wcomp2, 'D-Glucose')"
   ]
  },
  {
   "cell_type": "code",
   "execution_count": null,
   "metadata": {
    "ExecuteTime": {
     "end_time": "2022-09-23T10:33:03.509198Z",
     "start_time": "2022-09-23T10:33:03.496977Z"
    }
   },
   "outputs": [],
   "source": [
    "x = wcomp2[wcomp2.Hits != 'No defect'].groupby('contrast').Hits.value_counts(normalize=True)\n",
    "x.name = 'hit_props'\n",
    "x = x.reset_index()"
   ]
  },
  {
   "cell_type": "code",
   "execution_count": null,
   "metadata": {
    "ExecuteTime": {
     "end_time": "2022-09-23T10:33:03.902662Z",
     "start_time": "2022-09-23T10:33:03.891388Z"
    }
   },
   "outputs": [],
   "source": [
    "x"
   ]
  },
  {
   "cell_type": "markdown",
   "metadata": {},
   "source": [
    "# Jasinska 2020"
   ]
  },
  {
   "cell_type": "markdown",
   "metadata": {},
   "source": [
    "## Load data "
   ]
  },
  {
   "cell_type": "code",
   "execution_count": null,
   "metadata": {
    "ExecuteTime": {
     "end_time": "2022-09-26T10:02:47.202281Z",
     "start_time": "2022-09-26T10:02:47.197626Z"
    }
   },
   "outputs": [],
   "source": [
    "jasinskaConfig = configs['jasinska']\n",
    "jsampleDataFile = jasinskaConfig['sampleDataFile']\n"
   ]
  },
  {
   "cell_type": "code",
   "execution_count": null,
   "metadata": {
    "ExecuteTime": {
     "end_time": "2022-09-26T10:02:49.268690Z",
     "start_time": "2022-09-26T10:02:49.219405Z"
    }
   },
   "outputs": [],
   "source": [
    "jsampleData = pd.read_csv(root/'jasinska_2020/SraRunTable_Jasinska.txt')\n",
    "to_keep = [\"Run\", \"Drug_condition_and_replicate\",  \"Sample Name\"]\n",
    "jsampleData = jsampleData[to_keep]\n",
    "drugs = jsampleData.Drug_condition_and_replicate.str.split(\" r\", expand=True)\n",
    "drugs.columns = ['drug_condition', 'replicate']\n",
    "names = jsampleData['Sample Name'].str.split('_', expand=True)\n",
    "names.columns = ['exp', 'well', 'passage', 'subsample']\n",
    "jsampleData = pd.concat([jsampleData, drugs, names], axis=1)\n",
    "jsampleData = jsampleData.drop(['Drug_condition_and_replicate', 'Sample Name'], axis=1)\n",
    "jsampleData['passage'] = jsampleData.passage.str.split(\"-\", expand=True)[1].astype(int)\n",
    "jsampleData['generation'] = jsampleData['passage']*6"
   ]
  },
  {
   "cell_type": "code",
   "execution_count": null,
   "metadata": {
    "ExecuteTime": {
     "end_time": "2022-09-26T09:34:35.155180Z",
     "start_time": "2022-09-26T09:34:35.151946Z"
    }
   },
   "outputs": [],
   "source": [
    "# no_drug_samples = jsampleData[jsampleData.drug_condition == 'No drug'].Run.unique()\n",
    "# with open(root/\"jasinska_2020/no_drug_samples.tsv\", 'w') as fo:\n",
    "#     for s in no_drug_samples:\n",
    "#         fo.write(f\"{s}_mbarq_counts.csv\\n\")\n",
    "\n",
    "# tmp_samples = jsampleData[jsampleData.drug_condition == 'Low TMP'].Run.unique()\n",
    "# with open(root/\"jasinska_2020/low_tmp_samples.tsv\", 'w') as fo:\n",
    "#     for s in tmp_samples:\n",
    "#         fo.write(f\"{s}_mbarq_counts.csv\\n\")\n",
    "# Running merge on each of these seperately"
   ]
  },
  {
   "cell_type": "code",
   "execution_count": null,
   "metadata": {
    "ExecuteTime": {
     "end_time": "2022-09-26T10:04:04.965001Z",
     "start_time": "2022-09-26T10:04:04.959920Z"
    }
   },
   "outputs": [],
   "source": [
    "noDrugsFile = root/jasinskaConfig['noDrugsFile']\n",
    "lowTMPFile = root/jasinskaConfig['lowTMPFile']"
   ]
  },
  {
   "cell_type": "code",
   "execution_count": null,
   "metadata": {
    "ExecuteTime": {
     "end_time": "2022-09-26T10:03:01.651463Z",
     "start_time": "2022-09-26T10:03:01.644404Z"
    }
   },
   "outputs": [],
   "source": [
    "def process_frequency_df(fileName, sd):\n",
    "    df = pd.read_csv(fileName)\n",
    "    df = df.set_index('barcode')\n",
    "    df = df/df.sum()*100\n",
    "    df = df.reset_index()\n",
    "    df = df.melt(id_vars='barcode', var_name='Run', value_name = 'RelAb')\n",
    "    df = sd.merge(df, on='Run', how='inner')\n",
    "    return df"
   ]
  },
  {
   "cell_type": "markdown",
   "metadata": {},
   "source": [
    "## Graph No Drug Condition"
   ]
  },
  {
   "cell_type": "code",
   "execution_count": null,
   "metadata": {
    "ExecuteTime": {
     "end_time": "2022-09-26T09:29:47.620099Z",
     "start_time": "2022-09-26T09:27:06.089856Z"
    }
   },
   "outputs": [],
   "source": [
    "no_drug = process_frequency_df(noDrugsFile, jsampleData)"
   ]
  },
  {
   "cell_type": "code",
   "execution_count": null,
   "metadata": {
    "ExecuteTime": {
     "end_time": "2022-09-26T09:45:24.721527Z",
     "start_time": "2022-09-26T09:45:24.712671Z"
    }
   },
   "outputs": [],
   "source": [
    "color_seq1 = [colors['maroon'], colors['teal'], colors['light_yellow'], \n",
    "             colors['darko'], colors['darkteal'], colors['brighto']] + alphabetClrs + ['grey']*997\n",
    "color_seq2 = [colors['light_yellow'], colors['darko'], colors['grey'], \n",
    "             colors['brighto'], colors['darkteal'], colors['teal']] + alphabetClrs + ['grey']*997\n",
    "color_seq3 = [colors['brighto'], colors['darkteal'], colors['darko'], \n",
    "             colors['maroon'], colors['teal'], colors['light_yellow']] + alphabetClrs + ['grey']*997"
   ]
  },
  {
   "cell_type": "code",
   "execution_count": null,
   "metadata": {
    "ExecuteTime": {
     "end_time": "2022-09-26T10:35:19.035866Z",
     "start_time": "2022-09-26T10:35:19.025392Z"
    }
   },
   "outputs": [],
   "source": [
    "def graph_replicate(df,  color_seq, replicate= '1', f = 0.1):\n",
    "    rep_df = df[df.replicate == replicate]\n",
    "    rep_df = (rep_df.groupby(['barcode', 'generation']).RelAb.mean().reset_index())\n",
    "    rep_df = rep_df.groupby('barcode').filter(lambda x: x['RelAb'].sum() > f)\n",
    "    o = list(rep_df.groupby('barcode').RelAb.sum().sort_values(ascending=False).index)\n",
    "    fig = px.area(rep_df, x='generation', y='RelAb', color='barcode', log_y=False,\n",
    "                  labels = {'RelAb': 'Frequency', 'generation': 'Generation'},\n",
    "       color_discrete_sequence = color_seq, \n",
    "       template='plotly_white', height=400, width=500,\n",
    "             category_orders = {'barcode': o })\n",
    "    fig.update_layout(showlegend=False)\n",
    "    return fig"
   ]
  },
  {
   "cell_type": "code",
   "execution_count": null,
   "metadata": {
    "ExecuteTime": {
     "end_time": "2022-09-26T09:34:35.148599Z",
     "start_time": "2022-09-26T09:30:15.100478Z"
    }
   },
   "outputs": [],
   "source": [
    "fig = graph_replicate(no_drug, color_seq1, '1')"
   ]
  },
  {
   "cell_type": "code",
   "execution_count": null,
   "metadata": {
    "ExecuteTime": {
     "end_time": "2022-09-26T09:41:32.950981Z",
     "start_time": "2022-09-26T09:41:32.895890Z"
    }
   },
   "outputs": [],
   "source": [
    "fig.update_yaxes(title='Frequency')\n",
    "fig.update_xaxes(title='Generation')\n"
   ]
  },
  {
   "cell_type": "code",
   "execution_count": null,
   "metadata": {
    "ExecuteTime": {
     "end_time": "2022-09-26T09:42:32.755945Z",
     "start_time": "2022-09-26T09:42:29.376306Z"
    }
   },
   "outputs": [],
   "source": [
    "pio.write_image(fig, figuresDir/'26-09-22-no_drug_1.png', width=1000, height=600, scale=2)"
   ]
  },
  {
   "cell_type": "code",
   "execution_count": null,
   "metadata": {
    "ExecuteTime": {
     "end_time": "2022-09-26T09:49:07.904679Z",
     "start_time": "2022-09-26T09:45:45.822369Z"
    }
   },
   "outputs": [],
   "source": [
    "fig = graph_replicate(no_drug, color_seq2, '2')"
   ]
  },
  {
   "cell_type": "code",
   "execution_count": null,
   "metadata": {
    "ExecuteTime": {
     "end_time": "2022-09-26T09:49:20.757655Z",
     "start_time": "2022-09-26T09:49:20.697859Z"
    }
   },
   "outputs": [],
   "source": [
    "fig"
   ]
  },
  {
   "cell_type": "code",
   "execution_count": null,
   "metadata": {
    "ExecuteTime": {
     "end_time": "2022-09-26T09:50:09.511464Z",
     "start_time": "2022-09-26T09:50:08.908875Z"
    }
   },
   "outputs": [],
   "source": [
    "pio.write_image(fig, figuresDir/'26-09-22-no_drug_2.png', width=1000, height=600, scale=2)"
   ]
  },
  {
   "cell_type": "code",
   "execution_count": null,
   "metadata": {
    "ExecuteTime": {
     "end_time": "2022-09-26T09:53:37.840491Z",
     "start_time": "2022-09-26T09:50:16.227420Z"
    }
   },
   "outputs": [],
   "source": [
    "fig = graph_replicate(no_drug, color_seq3, '3')"
   ]
  },
  {
   "cell_type": "code",
   "execution_count": null,
   "metadata": {
    "ExecuteTime": {
     "end_time": "2022-09-26T09:53:37.895551Z",
     "start_time": "2022-09-26T09:53:37.843113Z"
    }
   },
   "outputs": [],
   "source": [
    "fig"
   ]
  },
  {
   "cell_type": "code",
   "execution_count": null,
   "metadata": {
    "ExecuteTime": {
     "end_time": "2022-09-26T09:57:37.683173Z",
     "start_time": "2022-09-26T09:57:37.069283Z"
    }
   },
   "outputs": [],
   "source": [
    "pio.write_image(fig, figuresDir/'26-09-22-no_drug_3.png', width=1000, height=600, scale=2)"
   ]
  },
  {
   "cell_type": "markdown",
   "metadata": {},
   "source": [
    "## Graph Low TMP Condition"
   ]
  },
  {
   "cell_type": "code",
   "execution_count": null,
   "metadata": {
    "ExecuteTime": {
     "end_time": "2022-09-26T10:05:38.929417Z",
     "start_time": "2022-09-26T10:04:09.442037Z"
    }
   },
   "outputs": [],
   "source": [
    "low_tmp = process_frequency_df(lowTMPFile, jsampleData)"
   ]
  },
  {
   "cell_type": "code",
   "execution_count": null,
   "metadata": {
    "ExecuteTime": {
     "end_time": "2022-09-26T10:16:41.355161Z",
     "start_time": "2022-09-26T10:16:41.346618Z"
    }
   },
   "outputs": [],
   "source": [
    "color_seq4 = [px.colors.qualitative.Light24[0], px.colors.qualitative.Light24[5], \n",
    "              px.colors.qualitative.Dark24[19], px.colors.qualitative.Light24[11], \n",
    "              px.colors.qualitative.Light24[9]] +  alphabetClrs + ['grey']*997"
   ]
  },
  {
   "cell_type": "code",
   "execution_count": null,
   "metadata": {},
   "outputs": [],
   "source": []
  },
  {
   "cell_type": "code",
   "execution_count": null,
   "metadata": {
    "ExecuteTime": {
     "end_time": "2022-09-26T10:37:55.110571Z",
     "start_time": "2022-09-26T10:35:34.445705Z"
    }
   },
   "outputs": [],
   "source": [
    "fig = graph_replicate(low_tmp, color_seq4, '1', f=0.01)"
   ]
  },
  {
   "cell_type": "code",
   "execution_count": null,
   "metadata": {
    "ExecuteTime": {
     "end_time": "2022-09-26T10:44:38.785626Z",
     "start_time": "2022-09-26T10:44:37.228995Z"
    }
   },
   "outputs": [],
   "source": [
    "fig"
   ]
  },
  {
   "cell_type": "code",
   "execution_count": null,
   "metadata": {
    "ExecuteTime": {
     "end_time": "2022-09-26T10:25:56.992803Z",
     "start_time": "2022-09-26T10:24:05.616812Z"
    }
   },
   "outputs": [],
   "source": [
    "fig = graph_replicate(low_tmp, color_seq4, '2')"
   ]
  },
  {
   "cell_type": "code",
   "execution_count": null,
   "metadata": {},
   "outputs": [],
   "source": []
  },
  {
   "cell_type": "code",
   "execution_count": null,
   "metadata": {
    "ExecuteTime": {
     "end_time": "2022-09-26T10:26:00.673313Z",
     "start_time": "2022-09-26T10:26:00.555897Z"
    }
   },
   "outputs": [],
   "source": [
    "fig"
   ]
  },
  {
   "cell_type": "code",
   "execution_count": null,
   "metadata": {
    "ExecuteTime": {
     "end_time": "2022-09-26T10:28:28.611504Z",
     "start_time": "2022-09-26T10:26:43.634590Z"
    }
   },
   "outputs": [],
   "source": [
    "fig = graph_replicate(low_tmp, color_seq4, '3')"
   ]
  },
  {
   "cell_type": "code",
   "execution_count": null,
   "metadata": {
    "ExecuteTime": {
     "end_time": "2022-09-26T10:34:41.431914Z",
     "start_time": "2022-09-26T10:34:41.380664Z"
    }
   },
   "outputs": [],
   "source": [
    "fig"
   ]
  },
  {
   "cell_type": "code",
   "execution_count": null,
   "metadata": {},
   "outputs": [],
   "source": []
  }
 ],
 "metadata": {
  "kernelspec": {
   "display_name": "Python 3 (ipykernel)",
   "language": "python",
   "name": "python3"
  },
  "language_info": {
   "codemirror_mode": {
    "name": "ipython",
    "version": 3
   },
   "file_extension": ".py",
   "mimetype": "text/x-python",
   "name": "python",
   "nbconvert_exporter": "python",
   "pygments_lexer": "ipython3",
   "version": "3.8.12"
  },
  "toc": {
   "base_numbering": 1,
   "nav_menu": {},
   "number_sections": true,
   "sideBar": true,
   "skip_h1_title": false,
   "title_cell": "Table of Contents",
   "title_sidebar": "Contents",
   "toc_cell": false,
   "toc_position": {},
   "toc_section_display": true,
   "toc_window_display": true
  }
 },
 "nbformat": 4,
 "nbformat_minor": 4
}
