{
 "cells": [
  {
   "cell_type": "code",
   "execution_count": null,
   "metadata": {
    "ExecuteTime": {
     "end_time": "2022-10-19T11:53:03.221119Z",
     "start_time": "2022-10-19T11:52:45.611398Z"
    }
   },
   "outputs": [],
   "source": [
    "# %load 10_2022_load_config.py\n",
    "import pandas as pd\n",
    "import numpy as np\n",
    "import matplotlib.pyplot as plt\n",
    "import os\n",
    "from pathlib import Path\n",
    "import seaborn as sns\n",
    "import sys\n",
    "import plotly.express as px\n",
    "import plotly.io as pio\n",
    "import yaml\n",
    "\n",
    "sns.set_context(\"notebook\", font_scale=1.4)\n",
    "pd.set_option(\"display.max_columns\", 100)\n",
    "pd.set_option(\"display.max_rows\", 100)\n",
    "plt.rcParams[\"figure.figsize\"] = (16, 12)\n",
    "plt.rcParams['savefig.dpi'] = 200\n",
    "plt.rcParams['figure.autolayout'] = False\n",
    "plt.rcParams['axes.labelsize'] = 18\n",
    "plt.rcParams['axes.titlesize'] = 20\n",
    "plt.rcParams['font.size'] = 16\n",
    "plt.rcParams['lines.linewidth'] = 2.0\n",
    "plt.rcParams['lines.markersize'] = 8\n",
    "plt.rcParams['legend.fontsize'] = 14\n",
    "pd.set_option('display.float_format', lambda x: '{:,.4f}'.format(x))\n",
    "\n",
    "\n",
    "config_file = \"10_2022_analysis.yaml\"\n",
    "with open(config_file) as file:\n",
    "    # The FullLoader parameter handles the conversion from YAML\n",
    "    # scalar values to Python the dictionary format\n",
    "    configs = yaml.load(file, Loader=yaml.FullLoader)\n",
    "    \n",
    "# Run on server:\n",
    "root = Path(configs['root'])\n",
    "scratchDir = root/configs['scratchDir']\n",
    "figuresDir = root/configs['figuresDir']\n",
    "libraries = configs['libraries']\n",
    "\n",
    "\n",
    "alphabetClrs = px.colors.qualitative.Alphabet\n",
    "clrs = [\"#f7ba65\", \"#bf4713\", \"#9c002f\", \"#d73d00\", \"#008080\", \"#004c4c\"]\n",
    "colors = {'grey': alphabetClrs[8], \n",
    "        'light_yellow': clrs[0],\n",
    "        'darko': clrs[1],\n",
    "        'maroon':clrs[2],\n",
    "        'brighto': clrs[3],\n",
    "        'teal':clrs[4],\n",
    "        'darkteal':clrs[5]\n",
    "       }"
   ]
  },
  {
   "cell_type": "code",
   "execution_count": null,
   "metadata": {
    "ExecuteTime": {
     "end_time": "2022-10-18T09:01:26.865336Z",
     "start_time": "2022-10-18T09:01:26.857714Z"
    }
   },
   "outputs": [],
   "source": [
    "mayResultsDir = Path(\"/nfs/nas22/fs2202/biol_micro_bioinf_nccr/hardt/nguyenb/tnseq/scratch/04_22/results\")"
   ]
  },
  {
   "cell_type": "code",
   "execution_count": null,
   "metadata": {
    "ExecuteTime": {
     "end_time": "2022-10-18T09:01:41.136923Z",
     "start_time": "2022-10-18T09:01:41.121492Z"
    }
   },
   "outputs": [],
   "source": [
    "resultFiles = [f for f in (root/configs['resultsDir']).glob('*_rra_results.csv')]\n",
    "mayFiles = [f for f in mayResultsDir.glob('*_rra_results.csv')]"
   ]
  },
  {
   "cell_type": "code",
   "execution_count": null,
   "metadata": {
    "ExecuteTime": {
     "end_time": "2022-10-18T09:02:21.242653Z",
     "start_time": "2022-10-18T09:02:21.109451Z"
    }
   },
   "outputs": [],
   "source": [
    "fdf = pd.concat([pd.read_csv(f).assign(library = f.stem.split('_rra')[0]) for f in resultFiles])\n",
    "mayDf = pd.concat([pd.read_csv(f, index_col=0).assign(library = f.stem.split('_rra')[0]) for f in mayFiles])"
   ]
  },
  {
   "cell_type": "code",
   "execution_count": null,
   "metadata": {
    "ExecuteTime": {
     "end_time": "2022-10-18T09:02:21.753094Z",
     "start_time": "2022-10-18T09:02:21.734289Z"
    }
   },
   "outputs": [],
   "source": [
    "fdf.sample(5)"
   ]
  },
  {
   "cell_type": "code",
   "execution_count": null,
   "metadata": {
    "ExecuteTime": {
     "end_time": "2022-10-18T09:02:22.028554Z",
     "start_time": "2022-10-18T09:02:22.008049Z"
    }
   },
   "outputs": [],
   "source": [
    "mayDf.sample(5)"
   ]
  },
  {
   "cell_type": "code",
   "execution_count": null,
   "metadata": {
    "ExecuteTime": {
     "end_time": "2022-10-18T08:59:50.198870Z",
     "start_time": "2022-10-18T08:59:50.184425Z"
    }
   },
   "outputs": [],
   "source": []
  },
  {
   "cell_type": "code",
   "execution_count": null,
   "metadata": {
    "ExecuteTime": {
     "end_time": "2022-10-18T08:59:53.742150Z",
     "start_time": "2022-10-18T08:59:50.581973Z"
    }
   },
   "outputs": [],
   "source": [
    "df1 = fdf[fdf.contrast == 'd1']\n",
    "fig = px.histogram(df1, x='LFC', facet_col='library', color='library', facet_col_wrap=2, height=1000, width=800)\n",
    "fig.add_vline(x=0)\n",
    "fig "
   ]
  },
  {
   "cell_type": "code",
   "execution_count": null,
   "metadata": {
    "ExecuteTime": {
     "end_time": "2022-10-18T09:02:45.683031Z",
     "start_time": "2022-10-18T09:02:45.419792Z"
    }
   },
   "outputs": [],
   "source": [
    "df1 = mayDf[mayDf.contrast == 'd1']\n",
    "fig = px.histogram(df1, x='LFC', facet_col='library', color='library', facet_col_wrap=2, height=1000, width=800)\n",
    "fig.add_vline(x=0)\n",
    "fig "
   ]
  },
  {
   "cell_type": "code",
   "execution_count": null,
   "metadata": {
    "ExecuteTime": {
     "end_time": "2022-10-13T12:28:01.732495Z",
     "start_time": "2022-10-13T12:28:01.715799Z"
    }
   },
   "outputs": [],
   "source": [
    "res = (df1[(abs(df1.LFC) > 1) & (df1.neg_selection_fdr < 0.05)]\n",
    "       .groupby('Name')\n",
    "       .agg({'library':['count'], 'LFC':['median', 'mean', 'std']})\n",
    "       .reset_index()\n",
    "      .sort_values(('library', 'count'), ascending=False))"
   ]
  },
  {
   "cell_type": "code",
   "execution_count": null,
   "metadata": {
    "ExecuteTime": {
     "end_time": "2022-10-13T12:29:12.473502Z",
     "start_time": "2022-10-13T12:29:12.452639Z"
    }
   },
   "outputs": [],
   "source": [
    "res[res[('library', 'count')] > 3]"
   ]
  },
  {
   "cell_type": "markdown",
   "metadata": {},
   "source": [
    "# Comparing control vs median normalization"
   ]
  },
  {
   "cell_type": "code",
   "execution_count": null,
   "metadata": {
    "ExecuteTime": {
     "end_time": "2022-10-19T11:53:03.284294Z",
     "start_time": "2022-10-19T11:53:03.231882Z"
    }
   },
   "outputs": [],
   "source": [
    "normDir = root/'median_norm_analysis'\n",
    "normResultFiles = [f for f in normDir.glob('*_rra_results.csv')]\n",
    "contDir = root/'control_norm_analysis'\n",
    "contResultFiles = [f for f in contDir.glob('*_rra_results.csv')]"
   ]
  },
  {
   "cell_type": "code",
   "execution_count": null,
   "metadata": {
    "ExecuteTime": {
     "end_time": "2022-10-19T11:53:04.672220Z",
     "start_time": "2022-10-19T11:53:04.393517Z"
    }
   },
   "outputs": [],
   "source": [
    "df_list = []\n",
    "for f in normResultFiles:\n",
    "    df = pd.read_csv(f).assign(library = f.stem.split('_rra')[0])\n",
    "    df_list.append(df)\n",
    "norm_df = pd.concat(df_list)"
   ]
  },
  {
   "cell_type": "code",
   "execution_count": null,
   "metadata": {
    "ExecuteTime": {
     "end_time": "2022-10-19T11:53:04.743996Z",
     "start_time": "2022-10-19T11:53:04.677227Z"
    }
   },
   "outputs": [],
   "source": [
    "df_list = []\n",
    "for f in contResultFiles:\n",
    "    df = pd.read_csv(f).assign(library = f.stem.split('_rra')[0])\n",
    "    df_list.append(df)\n",
    "cont_df = pd.concat(df_list)"
   ]
  },
  {
   "cell_type": "code",
   "execution_count": null,
   "metadata": {
    "ExecuteTime": {
     "end_time": "2022-10-19T11:53:09.100385Z",
     "start_time": "2022-10-19T11:53:04.999751Z"
    }
   },
   "outputs": [],
   "source": [
    "fig = px.histogram(norm_df[norm_df.contrast == 'd1'], x='LFC', facet_col='library', color='contrast', \n",
    "                   facet_col_wrap=2, height=1200, width=1000)\n",
    "fig.add_vline(x=0)\n",
    "fig "
   ]
  },
  {
   "cell_type": "code",
   "execution_count": null,
   "metadata": {
    "ExecuteTime": {
     "end_time": "2022-10-19T11:53:09.581128Z",
     "start_time": "2022-10-19T11:53:09.103711Z"
    }
   },
   "outputs": [],
   "source": [
    "fig = px.histogram(cont_df, x='LFC', facet_col='library', color='contrast', \n",
    "                   facet_col_wrap=2, height=1200, width=1000)\n",
    "fig.add_vline(x=0)\n",
    "fig "
   ]
  },
  {
   "cell_type": "code",
   "execution_count": null,
   "metadata": {
    "ExecuteTime": {
     "end_time": "2022-10-19T11:53:09.585871Z",
     "start_time": "2022-10-19T11:53:09.582763Z"
    }
   },
   "outputs": [],
   "source": [
    "def sig_results(df, th=1):\n",
    "    return df[(abs(df.LFC) > th) &(((df.neg_selection_fdr < 0.01))|((df.pos_selection_fdr < 0.01)))]"
   ]
  },
  {
   "cell_type": "code",
   "execution_count": null,
   "metadata": {
    "ExecuteTime": {
     "end_time": "2022-10-19T11:53:10.040197Z",
     "start_time": "2022-10-19T11:53:09.587532Z"
    }
   },
   "outputs": [],
   "source": [
    "norm_res = sig_results(norm_df)\n",
    "cont_res = sig_results(cont_df)\n",
    "may_res = sig_results(mayDf)"
   ]
  },
  {
   "cell_type": "code",
   "execution_count": null,
   "metadata": {
    "ExecuteTime": {
     "end_time": "2022-10-18T09:07:57.036368Z",
     "start_time": "2022-10-18T09:07:57.013033Z"
    }
   },
   "outputs": [],
   "source": [
    "cont_df.sort_values('neg_selection_fdr').head(10)"
   ]
  },
  {
   "cell_type": "code",
   "execution_count": null,
   "metadata": {
    "ExecuteTime": {
     "end_time": "2022-10-18T09:08:10.032947Z",
     "start_time": "2022-10-18T09:08:10.008784Z"
    }
   },
   "outputs": [],
   "source": [
    "norm_df.sort_values('neg_selection_fdr').head(200).tail()"
   ]
  },
  {
   "cell_type": "code",
   "execution_count": null,
   "metadata": {
    "ExecuteTime": {
     "end_time": "2022-10-18T11:06:19.654261Z",
     "start_time": "2022-10-18T11:06:19.646451Z"
    }
   },
   "outputs": [],
   "source": [
    "may_res.shape"
   ]
  },
  {
   "cell_type": "code",
   "execution_count": null,
   "metadata": {
    "ExecuteTime": {
     "end_time": "2022-10-18T11:06:21.951937Z",
     "start_time": "2022-10-18T11:06:21.944528Z"
    }
   },
   "outputs": [],
   "source": [
    "cont_res.shape"
   ]
  },
  {
   "cell_type": "code",
   "execution_count": null,
   "metadata": {
    "ExecuteTime": {
     "end_time": "2022-10-13T13:14:22.831404Z",
     "start_time": "2022-10-13T13:14:22.826667Z"
    }
   },
   "outputs": [],
   "source": [
    "import random"
   ]
  },
  {
   "cell_type": "code",
   "execution_count": null,
   "metadata": {
    "ExecuteTime": {
     "end_time": "2022-10-13T13:14:42.075099Z",
     "start_time": "2022-10-13T13:14:42.054643Z"
    }
   },
   "outputs": [],
   "source": [
    "res = (df1[(abs(df1.LFC) > 1) & (df1.neg_selection_fdr < 0.05)]\n",
    "       .groupby('Name')\n",
    "       .agg({'library':['count'], 'LFC':['median', 'mean', 'std']})\n",
    "       .reset_index()\n",
    "      .sort_values(('library', 'count'), ascending=False))"
   ]
  },
  {
   "cell_type": "code",
   "execution_count": null,
   "metadata": {
    "ExecuteTime": {
     "end_time": "2022-10-18T11:06:32.164634Z",
     "start_time": "2022-10-18T11:06:32.149219Z"
    }
   },
   "outputs": [],
   "source": [
    "set1 = set(cont_res[~(cont_res.Name.str.contains(\":\")) & (cont_res.LFC>1) & (cont_res.contrast == 'd4')].Name.unique())"
   ]
  },
  {
   "cell_type": "code",
   "execution_count": null,
   "metadata": {
    "ExecuteTime": {
     "end_time": "2022-10-18T11:06:33.267886Z",
     "start_time": "2022-10-18T11:06:33.256738Z"
    }
   },
   "outputs": [],
   "source": [
    "set2 = set(may_res[~(may_res.Name.str.contains(\":\")) & (may_res.LFC>1) & (may_res.contrast == 'd2')].Name.unique())"
   ]
  },
  {
   "cell_type": "code",
   "execution_count": null,
   "metadata": {
    "ExecuteTime": {
     "end_time": "2022-10-18T11:06:49.360974Z",
     "start_time": "2022-10-18T11:06:49.347927Z"
    }
   },
   "outputs": [],
   "source": [
    "set1 - set2"
   ]
  },
  {
   "cell_type": "code",
   "execution_count": null,
   "metadata": {
    "ExecuteTime": {
     "end_time": "2022-10-18T11:13:59.691084Z",
     "start_time": "2022-10-18T11:13:59.623392Z"
    }
   },
   "outputs": [],
   "source": [
    "v1 = 'stbA'\n",
    "v2 = 'stbB'\n",
    "df1 = mayDf[mayDf.Name == v1][['Name', 'LFC', 'contrast', 'library']]\n",
    "df2 = mayDf[mayDf.Name == v2][['Name', 'LFC', 'contrast', 'library']]\n",
    "test = pd.concat([df1, df2])\n",
    "test = test.pivot(index=['contrast', 'library'], columns='Name', values='LFC').reset_index()\n",
    "px.scatter(test, x=v1, y = v2, trendline='ols', hover_data=['library', 'contrast'])"
   ]
  },
  {
   "cell_type": "code",
   "execution_count": null,
   "metadata": {
    "ExecuteTime": {
     "end_time": "2022-10-18T11:20:01.204195Z",
     "start_time": "2022-10-18T11:20:01.168748Z"
    }
   },
   "outputs": [],
   "source": [
    "num_days = cont_df[~cont_df.Name.str.contains(':')].groupby('Name').contrast.count().reset_index()"
   ]
  },
  {
   "cell_type": "code",
   "execution_count": null,
   "metadata": {
    "ExecuteTime": {
     "end_time": "2022-10-18T11:20:14.568794Z",
     "start_time": "2022-10-18T11:20:14.517589Z"
    }
   },
   "outputs": [],
   "source": [
    "px.histogram(num_days, x='contrast')"
   ]
  },
  {
   "cell_type": "code",
   "execution_count": null,
   "metadata": {
    "ExecuteTime": {
     "end_time": "2022-10-18T11:14:20.177567Z",
     "start_time": "2022-10-18T11:14:20.099428Z"
    }
   },
   "outputs": [],
   "source": [
    "df1 = cont_df[cont_df.Name == v1][['Name', 'LFC', 'contrast', 'library']]\n",
    "df2 = cont_df[cont_df.Name == v2][['Name', 'LFC', 'contrast', 'library']]\n",
    "test = pd.concat([df1, df2])\n",
    "test = test.pivot(index=['contrast', 'library'], columns='Name', values='LFC').reset_index()\n",
    "px.scatter(test, x=v1, y = v2, trendline='ols', hover_data=['library', 'contrast'])"
   ]
  },
  {
   "cell_type": "markdown",
   "metadata": {
    "ExecuteTime": {
     "end_time": "2022-10-18T10:29:49.610457Z",
     "start_time": "2022-10-18T10:29:49.602336Z"
    }
   },
   "source": [
    "# Calculating pairwise correlations between genes"
   ]
  },
  {
   "cell_type": "code",
   "execution_count": null,
   "metadata": {
    "ExecuteTime": {
     "end_time": "2022-10-19T12:27:29.709061Z",
     "start_time": "2022-10-19T12:27:27.777190Z"
    }
   },
   "outputs": [],
   "source": [
    "test = cont_df[['Name','LFC', 'contrast', 'library']][~cont_df.Name.str.contains(':')].copy()\n",
    "test = test[test.contrast.isin(['d1'])]\n",
    "test=(test\n",
    "      .pivot(index=['contrast', 'library'], columns='Name', values='LFC')\n",
    "      \n",
    "      )\n",
    "test['day'] = [int(d[0].strip('d')) for d in test.index]\n",
    "test_corr = test.corr(min_periods=8)\n",
    "test_corr.index.name = 'gene'\n",
    "test_corr = test_corr.unstack().reset_index().dropna()"
   ]
  },
  {
   "cell_type": "code",
   "execution_count": null,
   "metadata": {
    "ExecuteTime": {
     "end_time": "2022-10-19T12:29:48.396013Z",
     "start_time": "2022-10-19T12:29:48.379579Z"
    }
   },
   "outputs": [],
   "source": [
    "test_corr[ test_corr[0] > 0.9].sample(20)"
   ]
  },
  {
   "cell_type": "code",
   "execution_count": null,
   "metadata": {
    "ExecuteTime": {
     "end_time": "2022-10-19T12:34:12.423635Z",
     "start_time": "2022-10-19T12:34:12.407538Z"
    }
   },
   "outputs": [],
   "source": [
    "to_show = test_corr[(test_corr.Name == 'invA') & (abs(test_corr[0]) > 0.9)].gene.unique()"
   ]
  },
  {
   "cell_type": "code",
   "execution_count": null,
   "metadata": {
    "ExecuteTime": {
     "end_time": "2022-10-19T12:54:18.057979Z",
     "start_time": "2022-10-19T12:54:18.050752Z"
    }
   },
   "outputs": [],
   "source": [
    "z = y.groupby('library').LFC.mean()"
   ]
  },
  {
   "cell_type": "code",
   "execution_count": null,
   "metadata": {
    "ExecuteTime": {
     "end_time": "2022-10-19T12:38:57.386919Z",
     "start_time": "2022-10-19T12:38:57.378843Z"
    }
   },
   "outputs": [],
   "source": [
    "order = y.groupby('library').LFC.mean().sort_values().index.to_list()"
   ]
  },
  {
   "cell_type": "code",
   "execution_count": null,
   "metadata": {
    "ExecuteTime": {
     "end_time": "2022-10-19T12:43:43.057909Z",
     "start_time": "2022-10-19T12:43:42.979128Z"
    }
   },
   "outputs": [],
   "source": [
    "y = cont_df[(cont_df.Name.isin(to_show)) & (cont_df.contrast == 'd1')]\n",
    "\n",
    "px.scatter(y, x='library', y=2**y['LFC'], color='Name', category_orders= {'library': order})"
   ]
  },
  {
   "cell_type": "code",
   "execution_count": null,
   "metadata": {
    "ExecuteTime": {
     "end_time": "2022-10-19T12:46:45.755286Z",
     "start_time": "2022-10-19T12:46:45.738440Z"
    }
   },
   "outputs": [],
   "source": [
    "cont_df.head()"
   ]
  },
  {
   "cell_type": "code",
   "execution_count": null,
   "metadata": {
    "ExecuteTime": {
     "end_time": "2022-10-19T12:54:29.764262Z",
     "start_time": "2022-10-19T12:54:29.728697Z"
    }
   },
   "outputs": [],
   "source": [
    "x = cont_df[cont_df.contrast == 'd1'].copy()\n",
    "x = x[~x.Name.str.contains(':')]\n",
    "x=x.pivot(index='library', columns='Name', values='LFC').fillna(0)\n",
    "x[x != 0] = 1\n",
    "x = x.loc[:, x.sum().between(2,8)]\n",
    "x = x.merge(z, left_index=True, right_index=True)"
   ]
  },
  {
   "cell_type": "code",
   "execution_count": null,
   "metadata": {
    "ExecuteTime": {
     "end_time": "2022-10-19T12:54:59.214253Z",
     "start_time": "2022-10-19T12:54:59.205718Z"
    }
   },
   "outputs": [],
   "source": [
    "t = x['LFC']\n",
    "x = x.drop('LFC', axis=1)"
   ]
  },
  {
   "cell_type": "code",
   "execution_count": null,
   "metadata": {
    "ExecuteTime": {
     "end_time": "2022-10-19T12:58:48.558714Z",
     "start_time": "2022-10-19T12:58:48.531240Z"
    }
   },
   "outputs": [],
   "source": [
    "from sklearn.linear_model import LinearRegression, Lasso\n",
    "from sklearn.metrics import r2_score\n",
    "regr = LinearRegression()\n",
    "regr.fit(x, t)"
   ]
  },
  {
   "cell_type": "code",
   "execution_count": null,
   "metadata": {
    "ExecuteTime": {
     "end_time": "2022-10-19T12:58:55.356741Z",
     "start_time": "2022-10-19T12:58:55.349166Z"
    }
   },
   "outputs": [],
   "source": [
    "max(regr.coef_)"
   ]
  },
  {
   "cell_type": "code",
   "execution_count": null,
   "metadata": {
    "ExecuteTime": {
     "end_time": "2022-10-19T12:59:04.514400Z",
     "start_time": "2022-10-19T12:59:04.507318Z"
    }
   },
   "outputs": [],
   "source": [
    "min(regr.coef_)"
   ]
  },
  {
   "cell_type": "code",
   "execution_count": null,
   "metadata": {
    "ExecuteTime": {
     "end_time": "2022-10-19T12:58:27.220623Z",
     "start_time": "2022-10-19T12:58:27.199794Z"
    }
   },
   "outputs": [],
   "source": [
    "diabetes_y_pred = regr.predict(x)\n",
    "r2_score(t, diabetes_y_pred)"
   ]
  },
  {
   "cell_type": "code",
   "execution_count": null,
   "metadata": {
    "ExecuteTime": {
     "end_time": "2022-10-19T12:58:28.102901Z",
     "start_time": "2022-10-19T12:58:28.094403Z"
    }
   },
   "outputs": [],
   "source": [
    "t"
   ]
  },
  {
   "cell_type": "code",
   "execution_count": null,
   "metadata": {
    "ExecuteTime": {
     "end_time": "2022-10-19T12:57:59.658343Z",
     "start_time": "2022-10-19T12:57:59.650579Z"
    }
   },
   "outputs": [],
   "source": [
    "diabetes_y_pred"
   ]
  },
  {
   "cell_type": "code",
   "execution_count": null,
   "metadata": {
    "ExecuteTime": {
     "end_time": "2022-10-19T12:56:46.698313Z",
     "start_time": "2022-10-19T12:56:46.677768Z"
    }
   },
   "outputs": [],
   "source": [
    "test_neg.groupby('Name').gene.count().sort_values()\n"
   ]
  },
  {
   "cell_type": "code",
   "execution_count": null,
   "metadata": {
    "ExecuteTime": {
     "end_time": "2022-10-18T10:35:37.786095Z",
     "start_time": "2022-10-18T10:35:37.698719Z"
    }
   },
   "outputs": [],
   "source": [
    "g = 'envR'\n",
    "test_corr[(test_corr.Name == g) & (test_corr.gene == 'day')]"
   ]
  },
  {
   "cell_type": "code",
   "execution_count": null,
   "metadata": {
    "ExecuteTime": {
     "end_time": "2022-10-18T10:35:42.369701Z",
     "start_time": "2022-10-18T10:35:42.310411Z"
    }
   },
   "outputs": [],
   "source": [
    "test_corr[(test_corr.Name== g) & (abs(test_corr[0]) > 0.8)].sample(20)"
   ]
  },
  {
   "cell_type": "code",
   "execution_count": null,
   "metadata": {
    "ExecuteTime": {
     "end_time": "2022-10-19T12:31:23.671512Z",
     "start_time": "2022-10-19T12:31:23.504778Z"
    }
   },
   "outputs": [],
   "source": [
    "v1 = 'invG'\n",
    "v2 = 'invA'\n",
    "df1 = cont_df[cont_df.Name == v1][['Name', 'LFC', 'contrast', 'library']]\n",
    "df2 = cont_df[cont_df.Name == v2][['Name', 'LFC', 'contrast', 'library']]\n",
    "test = pd.concat([df1, df2])\n",
    "test = test.pivot(index=['contrast', 'library'], columns='Name', values='LFC').reset_index()\n",
    "px.scatter(test, x=v1, y = v2, color='library', symbol='contrast', hover_data=['library', 'contrast'])"
   ]
  },
  {
   "cell_type": "code",
   "execution_count": null,
   "metadata": {
    "ExecuteTime": {
     "end_time": "2022-10-18T09:13:51.095737Z",
     "start_time": "2022-10-18T09:13:51.085338Z"
    }
   },
   "outputs": [],
   "source": []
  },
  {
   "cell_type": "code",
   "execution_count": null,
   "metadata": {
    "ExecuteTime": {
     "end_time": "2022-10-13T13:28:32.061307Z",
     "start_time": "2022-10-13T13:28:32.015729Z"
    }
   },
   "outputs": [],
   "source": [
    "fdf = cont_df.merge(old_res, on=['Name', 'library', 'contrast'])"
   ]
  },
  {
   "cell_type": "code",
   "execution_count": null,
   "metadata": {
    "ExecuteTime": {
     "end_time": "2022-10-13T15:01:37.754743Z",
     "start_time": "2022-10-13T15:01:37.746547Z"
    }
   },
   "outputs": [],
   "source": [
    "fdf['hits_x'] = (abs(fdf.LFC_x) > 1) & ((fdf.neg_selection_fdr_x < 0.01 )|(fdf.pos_selection_fdr_x < 0.01))"
   ]
  },
  {
   "cell_type": "code",
   "execution_count": null,
   "metadata": {
    "ExecuteTime": {
     "end_time": "2022-10-13T15:01:38.219250Z",
     "start_time": "2022-10-13T15:01:38.211139Z"
    }
   },
   "outputs": [],
   "source": [
    "fdf['hits_y'] = (abs(fdf.LFC_y) > 1) & ((fdf.neg_selection_fdr_y < 0.01 )|(fdf.pos_selection_fdr_y < 0.01))"
   ]
  },
  {
   "cell_type": "code",
   "execution_count": null,
   "metadata": {
    "ExecuteTime": {
     "end_time": "2022-10-13T13:52:59.817099Z",
     "start_time": "2022-10-13T13:52:58.878853Z"
    }
   },
   "outputs": [],
   "source": [
    "px.scatter(fdf, x='LFC_x', y='LFC_y', color='contrast', hover_data=['Name', 'library'], facet_col='library', \n",
    "          facet_col_wrap=2, height=1600, width=1000)"
   ]
  },
  {
   "cell_type": "code",
   "execution_count": null,
   "metadata": {
    "ExecuteTime": {
     "end_time": "2022-10-13T13:37:37.740394Z",
     "start_time": "2022-10-13T13:37:37.724236Z"
    }
   },
   "outputs": [],
   "source": [
    "cont_df.Name.nunique()"
   ]
  },
  {
   "cell_type": "code",
   "execution_count": null,
   "metadata": {
    "ExecuteTime": {
     "end_time": "2022-10-13T15:01:43.539255Z",
     "start_time": "2022-10-13T15:01:43.513426Z"
    }
   },
   "outputs": [],
   "source": [
    "fdf.groupby(['library', 'contrast']).agg({'hits_x': ['sum'], 'hits_y': ['sum']})"
   ]
  },
  {
   "cell_type": "code",
   "execution_count": null,
   "metadata": {
    "ExecuteTime": {
     "end_time": "2022-10-13T15:06:37.010209Z",
     "start_time": "2022-10-13T15:06:36.982888Z"
    }
   },
   "outputs": [],
   "source": [
    "fdf[(fdf.library == 'library_12_1') & (fdf.hits_x ==True) &(fdf.hits_y != True)].sample(50)"
   ]
  },
  {
   "cell_type": "code",
   "execution_count": null,
   "metadata": {
    "ExecuteTime": {
     "end_time": "2022-10-13T13:31:56.246350Z",
     "start_time": "2022-10-13T13:31:56.238484Z"
    }
   },
   "outputs": [],
   "source": [
    "fdf.LFC_y.skew()"
   ]
  },
  {
   "cell_type": "code",
   "execution_count": null,
   "metadata": {
    "ExecuteTime": {
     "end_time": "2022-10-13T14:07:02.294293Z",
     "start_time": "2022-10-13T14:07:02.275628Z"
    }
   },
   "outputs": [],
   "source": [
    "cont_df"
   ]
  },
  {
   "cell_type": "code",
   "execution_count": null,
   "metadata": {
    "ExecuteTime": {
     "end_time": "2022-10-13T14:08:27.880520Z",
     "start_time": "2022-10-13T14:08:27.841043Z"
    }
   },
   "outputs": [],
   "source": [
    "cont_df['LFC_ajd'] = cont_df.groupby(['library','contrast']).LFC.transform(lambda x: (x - x.mean())/x.std())"
   ]
  },
  {
   "cell_type": "code",
   "execution_count": null,
   "metadata": {
    "ExecuteTime": {
     "end_time": "2022-10-13T14:15:41.429304Z",
     "start_time": "2022-10-13T14:15:41.410618Z"
    }
   },
   "outputs": [],
   "source": [
    "cont_df[(cont_df.library == 'library_10_1') & (cont_df.contrast == 'd2')].LFC.median()"
   ]
  },
  {
   "cell_type": "code",
   "execution_count": null,
   "metadata": {
    "ExecuteTime": {
     "end_time": "2022-10-13T14:14:02.243305Z",
     "start_time": "2022-10-13T14:14:01.906745Z"
    }
   },
   "outputs": [],
   "source": [
    "cont_df[(cont_df.library == 'library_10_1') & (cont_df.contrast == 'd3')].LFC.hist(bins=100)\n",
    "cont_df[(cont_df.library == 'library_10_1') & (cont_df.contrast == 'd3')].LFC_ajd.hist(bins=100)"
   ]
  },
  {
   "cell_type": "code",
   "execution_count": null,
   "metadata": {
    "ExecuteTime": {
     "end_time": "2022-10-13T14:10:08.398272Z",
     "start_time": "2022-10-13T14:10:08.381907Z"
    }
   },
   "outputs": [],
   "source": [
    "cont_df[['LFC', 'LFC_ajd']]"
   ]
  },
  {
   "cell_type": "code",
   "execution_count": null,
   "metadata": {
    "ExecuteTime": {
     "end_time": "2022-10-13T14:08:52.575934Z",
     "start_time": "2022-10-13T14:08:52.071538Z"
    }
   },
   "outputs": [],
   "source": [
    "fig = px.histogram(cont_df, x='LFC_ajd', facet_col='library', color='contrast', \n",
    "                   facet_col_wrap=2, height=1200, width=1000)\n",
    "fig.add_vline(x=0)\n",
    "fig "
   ]
  },
  {
   "cell_type": "code",
   "execution_count": null,
   "metadata": {},
   "outputs": [],
   "source": []
  }
 ],
 "metadata": {
  "kernelspec": {
   "display_name": "Python 3 (ipykernel)",
   "language": "python",
   "name": "python3"
  },
  "language_info": {
   "codemirror_mode": {
    "name": "ipython",
    "version": 3
   },
   "file_extension": ".py",
   "mimetype": "text/x-python",
   "name": "python",
   "nbconvert_exporter": "python",
   "pygments_lexer": "ipython3",
   "version": "3.8.12"
  },
  "toc": {
   "base_numbering": 1,
   "nav_menu": {},
   "number_sections": true,
   "sideBar": true,
   "skip_h1_title": false,
   "title_cell": "Table of Contents",
   "title_sidebar": "Contents",
   "toc_cell": false,
   "toc_position": {},
   "toc_section_display": true,
   "toc_window_display": true
  }
 },
 "nbformat": 4,
 "nbformat_minor": 4
}
