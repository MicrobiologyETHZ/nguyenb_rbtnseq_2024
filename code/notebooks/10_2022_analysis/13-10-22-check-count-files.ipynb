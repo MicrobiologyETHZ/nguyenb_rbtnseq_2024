{
 "cells": [
  {
   "cell_type": "code",
   "execution_count": null,
   "metadata": {
    "ExecuteTime": {
     "end_time": "2022-10-13T10:36:14.743428Z",
     "start_time": "2022-10-13T10:36:14.721638Z"
    }
   },
   "outputs": [],
   "source": [
    "# %load 10_2022_load_config.py\n",
    "import pandas as pd\n",
    "import numpy as np\n",
    "import matplotlib.pyplot as plt\n",
    "import os\n",
    "from pathlib import Path\n",
    "import seaborn as sns\n",
    "import sys\n",
    "import plotly.express as px\n",
    "import plotly.io as pio\n",
    "import yaml\n",
    "\n",
    "sns.set_context(\"notebook\", font_scale=1.4)\n",
    "pd.set_option(\"display.max_columns\", 100)\n",
    "pd.set_option(\"display.max_rows\", 100)\n",
    "plt.rcParams[\"figure.figsize\"] = (16, 12)\n",
    "plt.rcParams['savefig.dpi'] = 200\n",
    "plt.rcParams['figure.autolayout'] = False\n",
    "plt.rcParams['axes.labelsize'] = 18\n",
    "plt.rcParams['axes.titlesize'] = 20\n",
    "plt.rcParams['font.size'] = 16\n",
    "plt.rcParams['lines.linewidth'] = 2.0\n",
    "plt.rcParams['lines.markersize'] = 8\n",
    "plt.rcParams['legend.fontsize'] = 14\n",
    "pd.set_option('display.float_format', lambda x: '{:,.4f}'.format(x))\n",
    "\n",
    "\n",
    "config_file = \"10_2022_analysis.yaml\"\n",
    "with open(config_file) as file:\n",
    "    # The FullLoader parameter handles the conversion from YAML\n",
    "    # scalar values to Python the dictionary format\n",
    "    configs = yaml.load(file, Loader=yaml.FullLoader)\n",
    "    \n",
    "# Run on server:\n",
    "root = Path(configs['root'])\n",
    "scratchDir = root/configs['scratchDir']\n",
    "figuresDir = root/configs['figuresDir']\n",
    "libraries = configs['libraries']\n",
    "\n",
    "\n",
    "alphabetClrs = px.colors.qualitative.Alphabet\n",
    "clrs = [\"#f7ba65\", \"#bf4713\", \"#9c002f\", \"#d73d00\", \"#008080\", \"#004c4c\"]\n",
    "colors = {'grey': alphabetClrs[8], \n",
    "        'light_yellow': clrs[0],\n",
    "        'darko': clrs[1],\n",
    "        'maroon':clrs[2],\n",
    "        'brighto': clrs[3],\n",
    "        'teal':clrs[4],\n",
    "        'darkteal':clrs[5]\n",
    "       }"
   ]
  },
  {
   "cell_type": "code",
   "execution_count": null,
   "metadata": {
    "ExecuteTime": {
     "end_time": "2022-10-13T10:35:40.035963Z",
     "start_time": "2022-10-13T10:35:40.031278Z"
    }
   },
   "outputs": [],
   "source": [
    "libraries"
   ]
  },
  {
   "cell_type": "code",
   "execution_count": null,
   "metadata": {
    "ExecuteTime": {
     "end_time": "2022-10-13T10:35:40.155968Z",
     "start_time": "2022-10-13T10:35:40.152278Z"
    }
   },
   "outputs": [],
   "source": [
    "# for each library make sure the columns in the merged count files == sampleIDs in the sample data file"
   ]
  },
  {
   "cell_type": "code",
   "execution_count": null,
   "metadata": {
    "ExecuteTime": {
     "end_time": "2022-10-13T10:52:52.229597Z",
     "start_time": "2022-10-13T10:52:52.160883Z"
    }
   },
   "outputs": [],
   "source": [
    "countsDir = root/configs['countsDir']\n",
    "#sampleDir = root/configs['sampleDataDir']\n",
    "countFiles = [f for f in countsDir.glob(\"*merged_counts.csv\")]"
   ]
  },
  {
   "cell_type": "code",
   "execution_count": null,
   "metadata": {
    "ExecuteTime": {
     "end_time": "2022-10-13T10:36:25.680581Z",
     "start_time": "2022-10-13T10:36:19.022467Z"
    }
   },
   "outputs": [],
   "source": [
    "fsdf = pd.read_csv(root/configs['sampleDataFile'])"
   ]
  },
  {
   "cell_type": "code",
   "execution_count": null,
   "metadata": {
    "ExecuteTime": {
     "end_time": "2022-10-13T10:55:22.349532Z",
     "start_time": "2022-10-13T10:55:22.340805Z"
    }
   },
   "outputs": [],
   "source": [
    "def check_count_merge(cnt_files, fsdf):\n",
    "    for cnt_file in cnt_files:\n",
    "        name = cnt_file.stem.split('_mbarq')[0]\n",
    "        cdf = pd.read_csv(cnt_file, index_col=[0,1]).columns.to_list()\n",
    "        sdf = fsdf[fsdf.library == name].sampleID.unique()\n",
    "        all_samples = all([c in cdf for c in sdf])\n",
    "        print(f\"{name}: {all_samples}\")\n",
    "    print('All Done')"
   ]
  },
  {
   "cell_type": "code",
   "execution_count": null,
   "metadata": {
    "ExecuteTime": {
     "end_time": "2022-10-13T10:55:31.516313Z",
     "start_time": "2022-10-13T10:55:24.432971Z"
    }
   },
   "outputs": [],
   "source": [
    "check_count_merge(countFiles, fsdf)"
   ]
  },
  {
   "cell_type": "code",
   "execution_count": null,
   "metadata": {
    "ExecuteTime": {
     "end_time": "2022-10-13T10:17:43.687481Z",
     "start_time": "2022-10-13T10:17:43.675738Z"
    }
   },
   "outputs": [],
   "source": [
    "for c in cdf.columns:\n",
    "    if c not in sdf.sampleID.unique():\n",
    "        print(c)"
   ]
  },
  {
   "cell_type": "code",
   "execution_count": null,
   "metadata": {
    "ExecuteTime": {
     "end_time": "2022-10-13T10:16:39.366989Z",
     "start_time": "2022-10-13T10:16:39.360495Z"
    }
   },
   "outputs": [],
   "source": [
    "sdf.shape"
   ]
  },
  {
   "cell_type": "code",
   "execution_count": null,
   "metadata": {
    "ExecuteTime": {
     "end_time": "2022-10-13T10:12:00.403908Z",
     "start_time": "2022-10-13T10:11:57.699756Z"
    }
   },
   "outputs": [],
   "source": [
    "sample_dict = {}\n",
    "for f in countFiles:\n",
    "    \n",
    "    columns = \n",
    "    samples = \n",
    "    sample_dict[name] = (columns, samples)\n",
    "    "
   ]
  },
  {
   "cell_type": "code",
   "execution_count": null,
   "metadata": {
    "ExecuteTime": {
     "end_time": "2022-10-13T10:14:01.379728Z",
     "start_time": "2022-10-13T10:14:01.374532Z"
    }
   },
   "outputs": [],
   "source": [
    "c = sample_dict['library_10_2'][0]\n",
    "d = sample_dict['library_10_2'][1]\n"
   ]
  },
  {
   "cell_type": "code",
   "execution_count": null,
   "metadata": {},
   "outputs": [],
   "source": []
  },
  {
   "cell_type": "code",
   "execution_count": null,
   "metadata": {
    "ExecuteTime": {
     "end_time": "2022-10-13T10:14:07.187820Z",
     "start_time": "2022-10-13T10:14:07.181820Z"
    }
   },
   "outputs": [],
   "source": [
    "c[3]"
   ]
  },
  {
   "cell_type": "code",
   "execution_count": null,
   "metadata": {
    "ExecuteTime": {
     "end_time": "2022-10-13T10:14:02.837148Z",
     "start_time": "2022-10-13T10:14:02.827256Z"
    }
   },
   "outputs": [],
   "source": [
    "[i in d for i in c]"
   ]
  },
  {
   "cell_type": "code",
   "execution_count": null,
   "metadata": {},
   "outputs": [],
   "source": []
  }
 ],
 "metadata": {
  "kernelspec": {
   "display_name": "Python 3 (ipykernel)",
   "language": "python",
   "name": "python3"
  },
  "language_info": {
   "codemirror_mode": {
    "name": "ipython",
    "version": 3
   },
   "file_extension": ".py",
   "mimetype": "text/x-python",
   "name": "python",
   "nbconvert_exporter": "python",
   "pygments_lexer": "ipython3",
   "version": "3.8.12"
  },
  "toc": {
   "base_numbering": 1,
   "nav_menu": {},
   "number_sections": true,
   "sideBar": true,
   "skip_h1_title": false,
   "title_cell": "Table of Contents",
   "title_sidebar": "Contents",
   "toc_cell": false,
   "toc_position": {},
   "toc_section_display": true,
   "toc_window_display": false
  }
 },
 "nbformat": 4,
 "nbformat_minor": 4
}
