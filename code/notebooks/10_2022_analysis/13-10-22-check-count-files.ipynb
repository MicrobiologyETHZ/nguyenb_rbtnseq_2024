{
 "cells": [
  {
   "cell_type": "code",
   "execution_count": null,
   "metadata": {
    "ExecuteTime": {
     "end_time": "2022-11-16T19:11:35.793281Z",
     "start_time": "2022-11-16T19:11:31.728591Z"
    }
   },
   "outputs": [],
   "source": [
    "# %load 10_2022_load_config.py\n",
    "import pandas as pd\n",
    "import numpy as np\n",
    "import matplotlib.pyplot as plt\n",
    "import os\n",
    "from pathlib import Path\n",
    "import seaborn as sns\n",
    "import sys\n",
    "import plotly.express as px\n",
    "import plotly.io as pio\n",
    "import yaml\n",
    "\n",
    "sns.set_context(\"notebook\", font_scale=1.4)\n",
    "pd.set_option(\"display.max_columns\", 100)\n",
    "pd.set_option(\"display.max_rows\", 100)\n",
    "plt.rcParams[\"figure.figsize\"] = (16, 12)\n",
    "plt.rcParams['savefig.dpi'] = 200\n",
    "plt.rcParams['figure.autolayout'] = False\n",
    "plt.rcParams['axes.labelsize'] = 18\n",
    "plt.rcParams['axes.titlesize'] = 20\n",
    "plt.rcParams['font.size'] = 16\n",
    "plt.rcParams['lines.linewidth'] = 2.0\n",
    "plt.rcParams['lines.markersize'] = 8\n",
    "plt.rcParams['legend.fontsize'] = 14\n",
    "pd.set_option('display.float_format', lambda x: '{:,.4f}'.format(x))\n",
    "\n",
    "\n",
    "config_file = \"10_2022_analysis.yaml\"\n",
    "with open(config_file) as file:\n",
    "    # The FullLoader parameter handles the conversion from YAML\n",
    "    # scalar values to Python the dictionary format\n",
    "    configs = yaml.load(file, Loader=yaml.FullLoader)\n",
    "    \n",
    "# Run on server:\n",
    "root = Path(configs['root'])\n",
    "scratchDir = root/configs['scratchDir']\n",
    "figuresDir = root/configs['figuresDir']\n",
    "libraries = configs['libraries']\n",
    "\n",
    "\n",
    "alphabetClrs = px.colors.qualitative.Alphabet\n",
    "clrs = [\"#f7ba65\", \"#bf4713\", \"#9c002f\", \"#d73d00\", \"#008080\", \"#004c4c\"]\n",
    "colors = {'grey': alphabetClrs[8], \n",
    "        'light_yellow': clrs[0],\n",
    "        'darko': clrs[1],\n",
    "        'maroon':clrs[2],\n",
    "        'brighto': clrs[3],\n",
    "        'teal':clrs[4],\n",
    "        'darkteal':clrs[5]\n",
    "       }\n",
    "\n",
    "from sklearn.decomposition import PCA"
   ]
  },
  {
   "cell_type": "code",
   "execution_count": null,
   "metadata": {
    "ExecuteTime": {
     "end_time": "2022-11-16T19:11:35.809351Z",
     "start_time": "2022-11-16T19:11:35.798575Z"
    }
   },
   "outputs": [],
   "source": [
    "libraries"
   ]
  },
  {
   "cell_type": "code",
   "execution_count": null,
   "metadata": {
    "ExecuteTime": {
     "end_time": "2022-10-13T10:35:40.155968Z",
     "start_time": "2022-10-13T10:35:40.152278Z"
    }
   },
   "outputs": [],
   "source": [
    "# for each library make sure the columns in the merged count files == sampleIDs in the sample data file"
   ]
  },
  {
   "cell_type": "code",
   "execution_count": null,
   "metadata": {
    "ExecuteTime": {
     "end_time": "2022-11-16T19:11:43.803124Z",
     "start_time": "2022-11-16T19:11:43.709543Z"
    }
   },
   "outputs": [],
   "source": [
    "countsDir = root/configs['countsDir']\n",
    "#sampleDir = root/configs['sampleDataDir']\n",
    "countFiles = [f for f in countsDir.glob(\"*merged_counts.csv\")]"
   ]
  },
  {
   "cell_type": "code",
   "execution_count": null,
   "metadata": {
    "ExecuteTime": {
     "end_time": "2022-11-16T19:11:44.857340Z",
     "start_time": "2022-11-16T19:11:44.827408Z"
    }
   },
   "outputs": [],
   "source": [
    "fsdf = pd.read_csv(root/configs['sampleDataFile'])"
   ]
  },
  {
   "cell_type": "code",
   "execution_count": null,
   "metadata": {
    "ExecuteTime": {
     "end_time": "2022-11-16T19:11:45.417048Z",
     "start_time": "2022-11-16T19:11:45.408159Z"
    }
   },
   "outputs": [],
   "source": [
    "def check_count_merge(cnt_files, fsdf):\n",
    "    for cnt_file in cnt_files:\n",
    "        name = cnt_file.stem.split('_mbarq')[0]\n",
    "        cdf = pd.read_csv(cnt_file, index_col=[0,1]).columns.to_list()\n",
    "        sdf = fsdf[fsdf.library == name].sampleID.unique()\n",
    "        all_samples = all([c in cdf for c in sdf])\n",
    "        print(f\"{name}: {all_samples}\")\n",
    "    print('All Done')"
   ]
  },
  {
   "cell_type": "code",
   "execution_count": null,
   "metadata": {
    "ExecuteTime": {
     "end_time": "2022-11-16T19:11:49.195668Z",
     "start_time": "2022-11-16T19:11:46.229509Z"
    }
   },
   "outputs": [],
   "source": [
    "check_count_merge(countFiles, fsdf)"
   ]
  },
  {
   "cell_type": "code",
   "execution_count": null,
   "metadata": {
    "ExecuteTime": {
     "end_time": "2022-11-16T17:27:51.427820Z",
     "start_time": "2022-11-16T17:27:51.419600Z"
    }
   },
   "outputs": [],
   "source": [
    "file = countFiles[0]\n",
    "file"
   ]
  },
  {
   "cell_type": "code",
   "execution_count": null,
   "metadata": {
    "ExecuteTime": {
     "end_time": "2022-11-16T19:19:58.994174Z",
     "start_time": "2022-11-16T19:19:48.724932Z"
    }
   },
   "outputs": [],
   "source": [
    "df_list = []\n",
    "for file in countFiles:\n",
    "    df = pd.read_csv(file).assign(library=file.stem.split(\"_mbarq\")[0]).melt(id_vars=['barcode', 'Name', 'library'], \n",
    "                                                                        var_name='sampleID', value_name='mbarq_count')\n",
    "    df['mbarq_count'] = np.log2((df['mbarq_count'] / df['mbarq_count'].sum()) * 1000000 + 0.5)\n",
    "    df_list.append(df)\n",
    "    \n",
    "fdf = pd.concat(df_list)"
   ]
  },
  {
   "cell_type": "code",
   "execution_count": null,
   "metadata": {
    "ExecuteTime": {
     "end_time": "2022-11-16T19:20:03.108561Z",
     "start_time": "2022-11-16T19:20:03.096199Z"
    }
   },
   "outputs": [],
   "source": [
    "controls = pd.read_csv(root/\"sample_data\"/configs['controlFile'], header=None)\n",
    "controls.columns = ['barcode', 'conc', 'genotype']"
   ]
  },
  {
   "cell_type": "code",
   "execution_count": null,
   "metadata": {
    "ExecuteTime": {
     "end_time": "2022-11-16T19:20:13.303149Z",
     "start_time": "2022-11-16T19:20:04.371678Z"
    }
   },
   "outputs": [],
   "source": [
    "controls = controls.merge(fdf, on='barcode', how='left')"
   ]
  },
  {
   "cell_type": "code",
   "execution_count": null,
   "metadata": {
    "ExecuteTime": {
     "end_time": "2022-11-16T19:20:13.316519Z",
     "start_time": "2022-11-16T19:20:13.306839Z"
    }
   },
   "outputs": [],
   "source": [
    "controls = controls.merge(fsdf, on='sampleID', how='left', copy=False)"
   ]
  },
  {
   "cell_type": "code",
   "execution_count": null,
   "metadata": {
    "ExecuteTime": {
     "end_time": "2022-11-16T19:20:13.327290Z",
     "start_time": "2022-11-16T19:20:13.318916Z"
    }
   },
   "outputs": [],
   "source": [
    "c1 = controls[controls.day == 'd1']"
   ]
  },
  {
   "cell_type": "code",
   "execution_count": null,
   "metadata": {
    "ExecuteTime": {
     "end_time": "2022-11-16T19:32:36.664328Z",
     "start_time": "2022-11-16T19:32:36.656483Z"
    }
   },
   "outputs": [],
   "source": [
    "h1= c1[c1.genotype == 'hyb']"
   ]
  },
  {
   "cell_type": "code",
   "execution_count": null,
   "metadata": {
    "ExecuteTime": {
     "end_time": "2022-11-16T19:32:37.005397Z",
     "start_time": "2022-11-16T19:32:36.997913Z"
    }
   },
   "outputs": [],
   "source": [
    "h1 = h1[h1.library_x =='library_10_1']"
   ]
  },
  {
   "cell_type": "code",
   "execution_count": null,
   "metadata": {
    "ExecuteTime": {
     "end_time": "2022-11-16T19:32:39.835664Z",
     "start_time": "2022-11-16T19:32:37.277929Z"
    }
   },
   "outputs": [],
   "source": [
    "goi = 'hha'\n",
    "\n",
    "test = fdf[(fdf.Name == goi) & (fdf.library == 'library_10_1')][['sampleID', 'mbarq_count']]\n",
    "test.columns = ['sampleID', 'goi']"
   ]
  },
  {
   "cell_type": "code",
   "execution_count": null,
   "metadata": {
    "ExecuteTime": {
     "end_time": "2022-11-16T19:32:41.099891Z",
     "start_time": "2022-11-16T19:32:39.839276Z"
    }
   },
   "outputs": [],
   "source": [
    "fdf.Name.unique()"
   ]
  },
  {
   "cell_type": "code",
   "execution_count": null,
   "metadata": {
    "ExecuteTime": {
     "end_time": "2022-11-16T19:32:41.112861Z",
     "start_time": "2022-11-16T19:32:41.101615Z"
    }
   },
   "outputs": [],
   "source": [
    "h1 = h1.merge(test, on='sampleID', how='left')"
   ]
  },
  {
   "cell_type": "code",
   "execution_count": null,
   "metadata": {
    "ExecuteTime": {
     "end_time": "2022-11-16T19:32:41.126556Z",
     "start_time": "2022-11-16T19:32:41.115560Z"
    }
   },
   "outputs": [],
   "source": [
    "h1.conc.unique()"
   ]
  },
  {
   "cell_type": "code",
   "execution_count": null,
   "metadata": {
    "ExecuteTime": {
     "end_time": "2022-11-16T19:32:41.138770Z",
     "start_time": "2022-11-16T19:32:41.128516Z"
    }
   },
   "outputs": [],
   "source": [
    "h1 = h1[h1.conc > 1.5e-04]"
   ]
  },
  {
   "cell_type": "code",
   "execution_count": null,
   "metadata": {
    "ExecuteTime": {
     "end_time": "2022-11-16T19:32:41.171817Z",
     "start_time": "2022-11-16T19:32:41.141507Z"
    }
   },
   "outputs": [],
   "source": [
    "h1"
   ]
  },
  {
   "cell_type": "code",
   "execution_count": null,
   "metadata": {
    "ExecuteTime": {
     "end_time": "2022-11-16T19:32:46.811614Z",
     "start_time": "2022-11-16T19:32:46.757527Z"
    }
   },
   "outputs": [],
   "source": [
    "px.scatter(h1, x='mbarq_count', y='goi', trendline='ols')"
   ]
  },
  {
   "cell_type": "code",
   "execution_count": null,
   "metadata": {
    "ExecuteTime": {
     "end_time": "2022-11-16T19:32:41.357581Z",
     "start_time": "2022-11-16T19:32:41.217424Z"
    }
   },
   "outputs": [],
   "source": [
    "h1.groupby('mouse').mbarq_count.median().reset_index().hist(bins=25)"
   ]
  },
  {
   "cell_type": "code",
   "execution_count": null,
   "metadata": {
    "ExecuteTime": {
     "end_time": "2022-11-16T19:12:00.799344Z",
     "start_time": "2022-11-16T19:11:58.096593Z"
    }
   },
   "outputs": [],
   "source": [
    "fdf_gene = fdf.dropna(subset=['Name'])\n",
    "fdf_gene = fdf_gene.groupby(['library', 'sampleID', 'Name']).mbarq_count.sum().reset_index()"
   ]
  },
  {
   "cell_type": "code",
   "execution_count": null,
   "metadata": {
    "ExecuteTime": {
     "end_time": "2022-11-16T17:37:21.640934Z",
     "start_time": "2022-11-16T17:37:21.394557Z"
    }
   },
   "outputs": [],
   "source": [
    "fdf_gene = fdf_gene[~fdf_gene.Name.str.contains(\":\")]"
   ]
  },
  {
   "cell_type": "code",
   "execution_count": null,
   "metadata": {
    "ExecuteTime": {
     "end_time": "2022-11-16T18:51:32.949350Z",
     "start_time": "2022-11-16T18:51:32.922446Z"
    }
   },
   "outputs": [],
   "source": [
    "fdf_gene.sample(10)"
   ]
  },
  {
   "cell_type": "code",
   "execution_count": null,
   "metadata": {
    "ExecuteTime": {
     "end_time": "2022-11-16T18:54:49.400514Z",
     "start_time": "2022-11-16T18:54:48.740067Z"
    }
   },
   "outputs": [],
   "source": [
    "pca_dfs = []\n",
    "for library in libraries:\n",
    "    lib_df = fdf_gene[fdf_gene.library == library]\n",
    "    pca = PCA(n_components=3)\n",
    "    gene_pca = lib_df.pivot(index=['sampleID'], columns='Name', values='mbarq_count').fillna(0)\n",
    "    gene_pca = np.log2((gene_pca / gene_pca.sum()) * 1000000 + 0.5)\n",
    "    genes = gene_pca.var(axis=0).sort_values(ascending=False).head(100).index\n",
    "    gene_pca = gene_pca[genes]\n",
    "    pca_df = pca.fit_transform(gene_pca)\n",
    "    pca_df = pd.DataFrame(pca_df, columns = ['pc1', 'pc2', 'pc3'], index=gene_pca.index)\n",
    "    print(library)\n",
    "    print(pca.explained_variance_ratio_)\n",
    "    pca_dfs.append(pca_df)"
   ]
  },
  {
   "cell_type": "code",
   "execution_count": null,
   "metadata": {
    "ExecuteTime": {
     "end_time": "2022-11-16T18:54:52.319481Z",
     "start_time": "2022-11-16T18:54:52.304144Z"
    }
   },
   "outputs": [],
   "source": [
    "pc = pd.concat(pca_dfs)\n",
    "pc = pc.merge(fsdf, on='sampleID')"
   ]
  },
  {
   "cell_type": "code",
   "execution_count": null,
   "metadata": {
    "ExecuteTime": {
     "end_time": "2022-11-16T18:54:52.955856Z",
     "start_time": "2022-11-16T18:54:52.933553Z"
    }
   },
   "outputs": [],
   "source": [
    "pc"
   ]
  },
  {
   "cell_type": "code",
   "execution_count": null,
   "metadata": {
    "ExecuteTime": {
     "end_time": "2022-11-16T19:09:11.778424Z",
     "start_time": "2022-11-16T19:09:11.718741Z"
    }
   },
   "outputs": [],
   "source": [
    "px.scatter(pc[(pc.library != 'library_14_2') & (pc.library != 'library_10_2')], x='pc1', y='pc2', color='day', width=1000, height=1000)"
   ]
  },
  {
   "cell_type": "code",
   "execution_count": null,
   "metadata": {
    "ExecuteTime": {
     "end_time": "2022-11-16T19:11:21.951991Z",
     "start_time": "2022-11-16T19:11:21.951955Z"
    }
   },
   "outputs": [],
   "source": [
    "pc_sum = pc.groupby(['library', 'day']).agg({'pc1':['median', 'std'], \n",
    "                                   'pc2':['mean', 'std'],\n",
    "                                   'pc3':['mean', 'std']}).reset_index()\n",
    "\n",
    "pc_sum.columns = ['library', 'day', 'pc1_mean', 'pc1_std', 'pc2_mean', 'pc2_std', 'pc3_mean', 'pc3_std']\n",
    "pc_sum['day_num'] = pc_sum.day.replace({'d0':0, 'd1':1, 'd2':2, 'd3':3, 'd4': 4})"
   ]
  },
  {
   "cell_type": "code",
   "execution_count": null,
   "metadata": {
    "ExecuteTime": {
     "end_time": "2022-11-16T19:11:21.941497Z",
     "start_time": "2022-11-16T19:10:22.389565Z"
    }
   },
   "outputs": [],
   "source": [
    "px.line(pc_sum.sort_values('day'), x='day', y='pc1_mean', color='library', template='plotly_white', width=400, height=400 )"
   ]
  },
  {
   "cell_type": "code",
   "execution_count": null,
   "metadata": {
    "ExecuteTime": {
     "end_time": "2022-11-16T19:04:50.925871Z",
     "start_time": "2022-11-16T19:04:50.878116Z"
    }
   },
   "outputs": [],
   "source": [
    "px.box(pc_sum.sort_values('day'), x='day', y='pc1_mean', template='plotly_white', width=400, height=400 )"
   ]
  },
  {
   "cell_type": "code",
   "execution_count": null,
   "metadata": {
    "ExecuteTime": {
     "end_time": "2022-11-16T19:05:12.400637Z",
     "start_time": "2022-11-16T19:05:12.348027Z"
    }
   },
   "outputs": [],
   "source": [
    "px.box(pc_sum.sort_values('day'), x='day', y='pc2_mean', template='plotly_white', width=400, height=400 )"
   ]
  },
  {
   "cell_type": "code",
   "execution_count": null,
   "metadata": {
    "ExecuteTime": {
     "end_time": "2022-11-16T18:40:57.535687Z",
     "start_time": "2022-11-16T18:40:57.483914Z"
    }
   },
   "outputs": [],
   "source": [
    "px.line(pc1.sort_values('day'), x='day', y='pc1')"
   ]
  },
  {
   "cell_type": "code",
   "execution_count": null,
   "metadata": {},
   "outputs": [],
   "source": []
  }
 ],
 "metadata": {
  "kernelspec": {
   "display_name": "Python 3 (ipykernel)",
   "language": "python",
   "name": "python3"
  },
  "language_info": {
   "codemirror_mode": {
    "name": "ipython",
    "version": 3
   },
   "file_extension": ".py",
   "mimetype": "text/x-python",
   "name": "python",
   "nbconvert_exporter": "python",
   "pygments_lexer": "ipython3",
   "version": "3.8.12"
  },
  "toc": {
   "base_numbering": 1,
   "nav_menu": {},
   "number_sections": true,
   "sideBar": true,
   "skip_h1_title": false,
   "title_cell": "Table of Contents",
   "title_sidebar": "Contents",
   "toc_cell": false,
   "toc_position": {},
   "toc_section_display": true,
   "toc_window_display": false
  }
 },
 "nbformat": 4,
 "nbformat_minor": 4
}
