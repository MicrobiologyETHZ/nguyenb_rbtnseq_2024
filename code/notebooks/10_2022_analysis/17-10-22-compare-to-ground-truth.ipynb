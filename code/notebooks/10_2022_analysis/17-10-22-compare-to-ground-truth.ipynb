{
 "cells": [
  {
   "cell_type": "code",
   "execution_count": null,
   "metadata": {
    "ExecuteTime": {
     "end_time": "2022-11-01T14:27:07.898831Z",
     "start_time": "2022-11-01T14:26:48.351727Z"
    }
   },
   "outputs": [],
   "source": [
    "# %load 10_2022_load_config.py\n",
    "import pandas as pd\n",
    "import numpy as np\n",
    "import matplotlib.pyplot as plt\n",
    "import os\n",
    "from pathlib import Path\n",
    "import seaborn as sns\n",
    "import sys\n",
    "import plotly.express as px\n",
    "import plotly.io as pio\n",
    "import yaml\n",
    "\n",
    "sns.set_context(\"notebook\", font_scale=1.4)\n",
    "pd.set_option(\"display.max_columns\", 100)\n",
    "pd.set_option(\"display.max_rows\", 100)\n",
    "plt.rcParams[\"figure.figsize\"] = (16, 12)\n",
    "plt.rcParams['savefig.dpi'] = 200\n",
    "plt.rcParams['figure.autolayout'] = False\n",
    "plt.rcParams['axes.labelsize'] = 18\n",
    "plt.rcParams['axes.titlesize'] = 20\n",
    "plt.rcParams['font.size'] = 16\n",
    "plt.rcParams['lines.linewidth'] = 2.0\n",
    "plt.rcParams['lines.markersize'] = 8\n",
    "plt.rcParams['legend.fontsize'] = 14\n",
    "pd.set_option('display.float_format', lambda x: '{:,.4f}'.format(x))\n",
    "\n",
    "\n",
    "config_file = \"10_2022_analysis.yaml\"\n",
    "with open(config_file) as file:\n",
    "    # The FullLoader parameter handles the conversion from YAML\n",
    "    # scalar values to Python the dictionary format\n",
    "    configs = yaml.load(file, Loader=yaml.FullLoader)\n",
    "    \n",
    "# Run on server:\n",
    "root = Path(configs['root'])\n",
    "scratchDir = root/configs['scratchDir']\n",
    "figuresDir = root/configs['figuresDir']\n",
    "libraries = configs['libraries']\n",
    "resultsDir = configs['resultsDir']\n",
    "countsDir = configs['countsDir']\n",
    "sampleDataFile = configs['sampleDataFile']\n",
    "\n",
    "alphabetClrs = px.colors.qualitative.Alphabet\n",
    "clrs = [\"#f7ba65\", \"#bf4713\", \"#9c002f\", \"#d73d00\", \"#008080\", \"#004c4c\"]\n",
    "colors = {'grey': alphabetClrs[8], \n",
    "        'light_yellow': clrs[0],\n",
    "        'darko': clrs[1],\n",
    "        'maroon':clrs[2],\n",
    "        'brighto': clrs[3],\n",
    "        'teal':clrs[4],\n",
    "        'darkteal':clrs[5]\n",
    "       }"
   ]
  },
  {
   "cell_type": "code",
   "execution_count": null,
   "metadata": {
    "ExecuteTime": {
     "end_time": "2022-11-01T14:27:09.049826Z",
     "start_time": "2022-11-01T14:27:07.901894Z"
    }
   },
   "outputs": [],
   "source": [
    "from scipy.stats import wilcoxon\n",
    "import pyranges as pr"
   ]
  },
  {
   "cell_type": "markdown",
   "metadata": {},
   "source": [
    "# Load the count files"
   ]
  },
  {
   "cell_type": "code",
   "execution_count": null,
   "metadata": {
    "ExecuteTime": {
     "end_time": "2022-11-01T14:28:36.997763Z",
     "start_time": "2022-11-01T14:28:36.536482Z"
    }
   },
   "outputs": [],
   "source": [
    "countFiles = [f for f in (root/countsDir).glob(\"*_mbarq_merged_counts.csv\")]\n",
    "sampleData = pd.read_csv(root/sampleDataFile)"
   ]
  },
  {
   "cell_type": "code",
   "execution_count": null,
   "metadata": {
    "ExecuteTime": {
     "end_time": "2022-11-01T14:28:49.378664Z",
     "start_time": "2022-11-01T14:28:37.001979Z"
    }
   },
   "outputs": [],
   "source": [
    "df_list = []\n",
    "for f in countFiles:\n",
    "    cdf = pd.read_csv(f).assign(library=f.stem.split(\"_mbarq\")[0])\n",
    "    cdf = cdf.melt(id_vars=['barcode', 'Name', 'library'], var_name='sampleID', value_name='cnts')\n",
    "    inocSd = sampleData[sampleData.mouse == 'inoculum']\n",
    "    cdf = cdf.merge(inocSd, on=['library', 'sampleID'], how='inner')\n",
    "    cdfSum = cdf.groupby(['Name', 'library']).agg({'cnts':['median', 'mean', 'min', 'max']}).reset_index()\n",
    "    cdfSum.columns = ['Name','library', 'med_inoculum_abundance', 'cnts_mean', 'cnts_min', 'cnts_max']\n",
    "    df_list.append(cdfSum)"
   ]
  },
  {
   "cell_type": "code",
   "execution_count": null,
   "metadata": {
    "ExecuteTime": {
     "end_time": "2022-11-01T14:28:49.392971Z",
     "start_time": "2022-11-01T14:28:49.382910Z"
    }
   },
   "outputs": [],
   "source": [
    "cntsSum = pd.concat(df_list)[['Name', 'library', 'med_inoculum_abundance']]"
   ]
  },
  {
   "cell_type": "code",
   "execution_count": null,
   "metadata": {
    "ExecuteTime": {
     "end_time": "2022-11-01T14:28:49.400565Z",
     "start_time": "2022-11-01T14:28:49.394646Z"
    }
   },
   "outputs": [],
   "source": [
    "cntsSum['log_med_inoculum_abundace'] = np.log2(cntsSum.med_inoculum_abundance +1)"
   ]
  },
  {
   "cell_type": "code",
   "execution_count": null,
   "metadata": {
    "ExecuteTime": {
     "end_time": "2022-11-01T14:28:49.419712Z",
     "start_time": "2022-11-01T14:28:49.403158Z"
    }
   },
   "outputs": [],
   "source": [
    "cntsSum[cntsSum.Name == 'gudT']"
   ]
  },
  {
   "cell_type": "markdown",
   "metadata": {},
   "source": [
    "# Process experimental data from Bidong"
   ]
  },
  {
   "cell_type": "code",
   "execution_count": null,
   "metadata": {
    "ExecuteTime": {
     "end_time": "2022-11-01T14:28:23.093624Z",
     "start_time": "2022-11-01T14:28:23.011031Z"
    }
   },
   "outputs": [],
   "source": [
    "expCIs = pd.read_csv(root/configs['experimentalData'])\n",
    "expCIs2 = pd.read_csv(root/configs['experimentalData2']).iloc[:,:6]\n",
    "expCIs2['log_exp_CI'] = np.log2(expCIs2.gt_CI)\n",
    "expCIs2 = expCIs2.rename({'gt_CI': 'exp_CI', 'gt_pval':'exp_pval', 'gt_padj': 'exp_padj'}, axis=1)\n",
    "expCIs = expCIs.dropna()\n",
    "hypMed = 1.0\n",
    "pval = expCIs.groupby(['gene', 'day']).apply(lambda x: wilcoxon(x.CI.values-hypMed)[1]).reset_index()\n",
    "pval.columns = ['gene', 'day', 'exp_pval']\n",
    "med = expCIs.groupby(['gene', 'day']).agg({'CI':['median', 'count']}).reset_index()\n",
    "med.columns = ['gene', 'day', 'exp_CI', 'num_mice']\n",
    "expRes = pval.merge(med, on=['gene', 'day'])\n",
    "expRes['log_exp_CI'] = np.log2(expRes.exp_CI)\n",
    "expRes = pd.concat([expRes, expCIs2])\n",
    "expRes = expRes.rename({'gene': 'Name', 'day': 'contrast'}, axis=1)"
   ]
  },
  {
   "cell_type": "code",
   "execution_count": null,
   "metadata": {
    "ExecuteTime": {
     "end_time": "2022-11-01T14:28:23.765929Z",
     "start_time": "2022-11-01T14:28:23.749628Z"
    }
   },
   "outputs": [],
   "source": [
    "expRes.head()"
   ]
  },
  {
   "cell_type": "markdown",
   "metadata": {},
   "source": [
    "# Load Results"
   ]
  },
  {
   "cell_type": "markdown",
   "metadata": {},
   "source": [
    "## Post-processing: merging different libraries"
   ]
  },
  {
   "cell_type": "code",
   "execution_count": null,
   "metadata": {
    "ExecuteTime": {
     "end_time": "2022-11-01T14:27:09.739043Z",
     "start_time": "2022-11-01T14:27:09.054055Z"
    }
   },
   "outputs": [],
   "source": [
    "resFiles = [f for f in (root/resultsDir).glob(\"*_rra_results.csv\")]\n",
    "results = pd.concat([pd.read_csv(f).assign(library=f.stem.split(\"_rra\")[0]) for f in resFiles])\n",
    "results['fdr'] = results[['neg_selection_fdr', 'pos_selection_fdr']].min(axis=1)\n",
    "#results = results[~results.Name.str.contains(\":\")]"
   ]
  },
  {
   "cell_type": "code",
   "execution_count": null,
   "metadata": {
    "ExecuteTime": {
     "end_time": "2022-11-01T14:27:10.511574Z",
     "start_time": "2022-11-01T14:27:10.453105Z"
    }
   },
   "outputs": [],
   "source": [
    "results.sample(5)"
   ]
  },
  {
   "cell_type": "markdown",
   "metadata": {},
   "source": [
    "## Adding GFF annotation"
   ]
  },
  {
   "cell_type": "code",
   "execution_count": null,
   "metadata": {
    "ExecuteTime": {
     "end_time": "2022-11-01T14:27:15.378847Z",
     "start_time": "2022-11-01T14:27:15.136253Z"
    }
   },
   "outputs": [],
   "source": [
    "gff = pr.read_gff3(configs['gff'], as_df=True)\n",
    "gene_info = gff[gff.Feature == 'gene'][['Chromosome', 'Start', 'End', 'Name', 'locus_tag']]\n",
    "gene_info['Chromosome'] = gene_info.Chromosome.astype('str')\n",
    "prot_info = gff[gff.Feature == 'CDS'][['protein_id', 'locus_tag']]"
   ]
  },
  {
   "cell_type": "markdown",
   "metadata": {},
   "source": [
    "## Adding EGGNOG annotation"
   ]
  },
  {
   "cell_type": "code",
   "execution_count": null,
   "metadata": {
    "ExecuteTime": {
     "end_time": "2022-11-01T14:27:19.570513Z",
     "start_time": "2022-11-01T14:27:19.429455Z"
    }
   },
   "outputs": [],
   "source": [
    "ann = pd.read_table(configs[\"eggnog\"], comment='#').iloc[:, [0, 8, 10,11, 12,13,14,15,16,17,18,19]]\n",
    "ann.columns = ['protein_id', 'Prefered_Name', 'EC', 'KEGG_ko', 'KEGG_Pathway',\n",
    "       'KEGG_Module', 'KEGG_Reaction', 'KEGG_rclass', 'BRITE', 'KEGG_TC',\n",
    "       'CAZy', 'BiGG_Reaction']\n",
    "ann_info = (prot_info.merge(gene_info, on='locus_tag', how='outer')\n",
    "            .merge(ann, on='protein_id', how='outer'))"
   ]
  },
  {
   "cell_type": "code",
   "execution_count": null,
   "metadata": {
    "ExecuteTime": {
     "end_time": "2022-11-01T14:27:20.431341Z",
     "start_time": "2022-11-01T14:27:20.377766Z"
    }
   },
   "outputs": [],
   "source": [
    "fdf = results.merge(ann_info, on='Name', how='outer')\n",
    "\n",
    "#fdf = fdf.fillna('N/A')"
   ]
  },
  {
   "cell_type": "code",
   "execution_count": null,
   "metadata": {
    "ExecuteTime": {
     "end_time": "2022-11-01T14:27:22.524342Z",
     "start_time": "2022-11-01T14:27:22.479430Z"
    }
   },
   "outputs": [],
   "source": [
    "fdf.sample(10)"
   ]
  },
  {
   "cell_type": "code",
   "execution_count": null,
   "metadata": {
    "ExecuteTime": {
     "end_time": "2022-11-01T14:28:07.582990Z",
     "start_time": "2022-11-01T14:28:07.555152Z"
    }
   },
   "outputs": [],
   "source": [
    "fdf[(fdf.Name == 'SL1344_2750') & (fdf.contrast == 'd1')]"
   ]
  },
  {
   "cell_type": "code",
   "execution_count": null,
   "metadata": {
    "ExecuteTime": {
     "end_time": "2022-10-26T12:07:26.608091Z",
     "start_time": "2022-10-26T12:07:26.604907Z"
    }
   },
   "outputs": [],
   "source": [
    "# This should be produced by the mbarq given gff and eggnogg file\n",
    "# not the abundance part"
   ]
  },
  {
   "cell_type": "markdown",
   "metadata": {},
   "source": [
    "## Providing some summary data"
   ]
  },
  {
   "cell_type": "code",
   "execution_count": null,
   "metadata": {
    "ExecuteTime": {
     "end_time": "2022-11-01T14:28:49.449350Z",
     "start_time": "2022-11-01T14:28:49.421160Z"
    }
   },
   "outputs": [],
   "source": [
    "results = results.merge(cntsSum, on=['Name', 'library']).drop('med_inoculum_abundance', axis=1)"
   ]
  },
  {
   "cell_type": "code",
   "execution_count": null,
   "metadata": {
    "ExecuteTime": {
     "end_time": "2022-11-01T14:28:49.461753Z",
     "start_time": "2022-11-01T14:28:49.451573Z"
    }
   },
   "outputs": [],
   "source": [
    "results.sample(10)"
   ]
  },
  {
   "cell_type": "code",
   "execution_count": null,
   "metadata": {
    "ExecuteTime": {
     "end_time": "2022-11-01T14:28:49.471346Z",
     "start_time": "2022-11-01T14:28:49.463761Z"
    }
   },
   "outputs": [],
   "source": [
    "results['nomWA'] = results['LFC']* results['log_med_inoculum_abundace']"
   ]
  },
  {
   "cell_type": "code",
   "execution_count": null,
   "metadata": {
    "ExecuteTime": {
     "end_time": "2022-11-01T14:28:49.522568Z",
     "start_time": "2022-11-01T14:28:49.473226Z"
    }
   },
   "outputs": [],
   "source": [
    "resSum = (results.groupby(['Name', 'contrast'])\n",
    "          .agg({'LFC':['mean', 'median', 'std'], 'library':['nunique'], 'log_med_inoculum_abundace':['sum'], \n",
    "               'nomWA':['sum']})\n",
    "          .reset_index())\n",
    "resSum.columns = ['Name', 'contrast', 'LFC_mean', 'LFC_median', 'LFC_std', 'library_count', 'denomWA', \n",
    "                 'nomWA']"
   ]
  },
  {
   "cell_type": "code",
   "execution_count": null,
   "metadata": {
    "ExecuteTime": {
     "end_time": "2022-11-01T14:28:49.528117Z",
     "start_time": "2022-11-01T14:28:49.524221Z"
    }
   },
   "outputs": [],
   "source": [
    "resSum['LFC_weighted_mean'] = resSum['nomWA']/resSum['denomWA']"
   ]
  },
  {
   "cell_type": "code",
   "execution_count": null,
   "metadata": {},
   "outputs": [],
   "source": []
  },
  {
   "cell_type": "code",
   "execution_count": null,
   "metadata": {
    "ExecuteTime": {
     "end_time": "2022-10-26T12:08:44.125139Z",
     "start_time": "2022-10-26T12:08:44.102788Z"
    }
   },
   "outputs": [],
   "source": [
    "resSum[(~resSum.LFC_std.isna()) & (resSum.contrast == 'd1')].sample(10)"
   ]
  },
  {
   "cell_type": "code",
   "execution_count": null,
   "metadata": {
    "ExecuteTime": {
     "end_time": "2022-11-01T14:28:51.566414Z",
     "start_time": "2022-11-01T14:28:51.384402Z"
    }
   },
   "outputs": [],
   "source": [
    "fdf = fdf.merge(resSum, on=['Name', 'contrast'], how='left').drop(['nomWA', 'denomWA'], axis=1)\n",
    "fdf = fdf.merge(cntsSum, on=['Name', 'library'], how='left').drop('med_inoculum_abundance', axis=1)"
   ]
  },
  {
   "cell_type": "code",
   "execution_count": null,
   "metadata": {
    "ExecuteTime": {
     "end_time": "2022-11-01T14:28:52.085351Z",
     "start_time": "2022-11-01T14:28:52.056691Z"
    }
   },
   "outputs": [],
   "source": [
    "fdf.sample(10)"
   ]
  },
  {
   "cell_type": "markdown",
   "metadata": {},
   "source": [
    "## Fitting linear model to experimental data to correct LFC"
   ]
  },
  {
   "cell_type": "code",
   "execution_count": null,
   "metadata": {
    "ExecuteTime": {
     "end_time": "2022-11-01T14:29:02.039206Z",
     "start_time": "2022-11-01T14:28:54.285330Z"
    }
   },
   "outputs": [],
   "source": [
    "import statsmodels.formula.api as smf\n",
    "import statsmodels.api as sm\n",
    "comp = results.merge(expRes, on=['Name', 'contrast'])\n",
    "lm = smf.ols(formula='log_exp_CI ~ LFC+contrast', data=comp).fit()"
   ]
  },
  {
   "cell_type": "code",
   "execution_count": null,
   "metadata": {
    "ExecuteTime": {
     "end_time": "2022-11-01T14:29:02.063890Z",
     "start_time": "2022-11-01T14:29:02.043622Z"
    }
   },
   "outputs": [],
   "source": [
    "lm.summary()"
   ]
  },
  {
   "cell_type": "code",
   "execution_count": null,
   "metadata": {
    "ExecuteTime": {
     "end_time": "2022-11-01T14:30:19.958802Z",
     "start_time": "2022-11-01T14:30:19.717300Z"
    }
   },
   "outputs": [],
   "source": [
    "results['expected_CI'] = lm.predict(results[['LFC', 'contrast']])\n",
    "fdf2 = fdf.merge(results[['Name', 'contrast', 'expected_CI', 'library']], on=['Name', 'contrast', 'library'], how='left')"
   ]
  },
  {
   "cell_type": "code",
   "execution_count": null,
   "metadata": {
    "ExecuteTime": {
     "end_time": "2022-11-01T14:29:55.709414Z",
     "start_time": "2022-11-01T14:29:55.699476Z"
    }
   },
   "outputs": [],
   "source": [
    "fdf2.LFC.isna().sum()"
   ]
  },
  {
   "cell_type": "code",
   "execution_count": null,
   "metadata": {
    "ExecuteTime": {
     "end_time": "2022-11-01T14:30:23.104954Z",
     "start_time": "2022-11-01T14:30:23.061227Z"
    }
   },
   "outputs": [],
   "source": [
    "fdf2.sample(10)"
   ]
  },
  {
   "cell_type": "code",
   "execution_count": null,
   "metadata": {
    "ExecuteTime": {
     "end_time": "2022-11-01T14:35:20.351694Z",
     "start_time": "2022-11-01T14:35:20.323248Z"
    }
   },
   "outputs": [],
   "source": [
    "fdf2[(fdf2.Name == 'rfaD') & (fdf2.contrast == 'd1')]"
   ]
  },
  {
   "cell_type": "code",
   "execution_count": null,
   "metadata": {
    "ExecuteTime": {
     "end_time": "2022-11-01T14:30:51.367911Z",
     "start_time": "2022-11-01T14:30:50.498167Z"
    }
   },
   "outputs": [],
   "source": [
    "fdf2.drop_duplicates().to_csv(root/resultsDir/'26-10-22-annotated-results.csv', index=False)"
   ]
  },
  {
   "cell_type": "code",
   "execution_count": null,
   "metadata": {
    "ExecuteTime": {
     "end_time": "2022-11-01T14:30:52.391947Z",
     "start_time": "2022-11-01T14:30:52.384903Z"
    }
   },
   "outputs": [],
   "source": [
    "fdf2.shape"
   ]
  },
  {
   "cell_type": "markdown",
   "metadata": {
    "ExecuteTime": {
     "end_time": "2022-10-24T10:22:27.891064Z",
     "start_time": "2022-10-24T10:22:27.886452Z"
    }
   },
   "source": [
    "# Comparing to Experimental Data"
   ]
  },
  {
   "cell_type": "code",
   "execution_count": null,
   "metadata": {},
   "outputs": [],
   "source": []
  },
  {
   "cell_type": "code",
   "execution_count": null,
   "metadata": {
    "ExecuteTime": {
     "end_time": "2022-10-24T10:02:59.898189Z",
     "start_time": "2022-10-24T10:02:59.864126Z"
    }
   },
   "outputs": [],
   "source": [
    "from sklearn.metrics import confusion_matrix, f1_score, balanced_accuracy_score, precision_score, recall_score, roc_auc_score\n",
    "\n",
    "clrs = px.colors.qualitative.Safe\n",
    "libraries = sorted(['library_15_1', 'library_13_2', 'library_9_1', \n",
    "             'library_10_1', 'library_11_2', 'library_12_1',\n",
    "             'library_12_2', 'library_13_1', 'library_10_2',\n",
    "             'library_14_2'])\n",
    "\n",
    "\n",
    "library_clrs = {lib:col for lib, col in zip(libraries, clrs)}\n",
    "\n",
    "def get_ci_corr(comp, exp_CI, comp_CI, method):\n",
    "    corr_df = comp.groupby(['library', 'day'])[[exp_CI, comp_CI]].corr().unstack().iloc[:,1].reset_index()\n",
    "    corr_df.columns = ['library', 'day', 'R']\n",
    "    corr_df['R2'] = corr_df['R']**2\n",
    "    r2mean = corr_df.groupby('library').R2.mean()\n",
    "    rmean = corr_df.groupby('library').R.mean()\n",
    "    corr_df = corr_df.set_index('library').assign(method=method)\n",
    "    corr_df['r2lib'] = r2mean\n",
    "    corr_df['rlib'] = rmean\n",
    "    corr_df = corr_df.reset_index()\n",
    "    return corr_df\n",
    "\n",
    "\n",
    "def compare_to_gt(compDf, exp_padj = \"exp_padj\", comp_padj = 'fdr'):\n",
    "    compDf['exp_hits'] = compDf[exp_padj]<0.05\n",
    "    compDf['comp_hits'] = compDf[comp_padj]<0.05\n",
    "    confMat = confusion_matrix(compDf.exp_hits.values, compDf.comp_hits.values)\n",
    "    prec = precision_score(compDf.exp_hits.values, compDf.comp_hits.values)\n",
    "    recl = recall_score(compDf.exp_hits.values, compDf.comp_hits.values)\n",
    "    f1 = f1_score(compDf.exp_hits.values, compDf.comp_hits.values)\n",
    "    bacc = balanced_accuracy_score(compDf.exp_hits.values, compDf.comp_hits.values)\n",
    "    roc = roc_auc_score(compDf.exp_hits.values, compDf.comp_hits.values)\n",
    "    return compDf, confMat, prec, recl, f1, bacc, roc\n",
    "\n",
    "\n",
    "def get_stats(comp, method, gt_padj, exp_padj):\n",
    "    pr = []\n",
    "    for lib, g in comp.groupby('library'):\n",
    "        print(lib)\n",
    "        df, mat, prec, recall, f1, bacc, roc = compare_to_gt(g, gt_padj, exp_padj)\n",
    "        pr.append([lib, prec, recall, f1, bacc, roc])\n",
    "        print(mat)\n",
    "    pr_df = pd.DataFrame(pr, columns = ['library', 'precision', 'recall', 'f1', 'bacc', 'roc']).assign(method=method)\n",
    "    return pr_df\n",
    "\n",
    "\n",
    "def get_numHits(res, pval_col, method, pval_cutoff=0.05):\n",
    "    return (res[res[pval_col] < pval_cutoff].copy()\n",
    "           .groupby(['library', 'day']).gene.nunique()\n",
    "           .reset_index()\n",
    "            .assign(method=method))\n",
    "\n",
    "def plot_correlations(corr_df):\n",
    "    per_lib_corr = corr_df[['library', 'rlib', 'method']].drop_duplicates()\n",
    "    fig = px.bar(per_lib_corr, template='simple_white',\n",
    "       color_discrete_map= library_clrs,\n",
    "       category_orders={'library': per_lib_corr.sort_values('rlib').library.values},\n",
    "       x='library', y='rlib', color='library', \n",
    "      labels={'library':'Library', 'rlib': 'R'},\n",
    "      title=\"R between RBSeq CIs and experimental CIs\", hover_data=['method'])\n",
    "\n",
    "    fig.update_layout(\n",
    "\n",
    "        font_size=14,\n",
    "        title={\n",
    "            'y':0.9,\n",
    "            'x':0.5,\n",
    "            'xanchor': 'center',\n",
    "            'yanchor': 'top'},\n",
    "        yaxis_range=[0,1]\n",
    "    )\n",
    "    fig.update_xaxes(showticklabels=False)\n",
    "    return fig"
   ]
  },
  {
   "cell_type": "code",
   "execution_count": null,
   "metadata": {
    "ExecuteTime": {
     "end_time": "2022-10-24T09:56:47.070781Z",
     "start_time": "2022-10-24T09:56:36.893405Z"
    }
   },
   "outputs": [],
   "source": [
    "exp_CI = \"log_exp_CI\"\n",
    "exp_padj = \"exp_pval\"\n",
    "comp_CI = \"LFC\"\n",
    "comp_padj = \"fdr\"\n",
    "\n",
    "mageck_corr = get_ci_corr(comp, exp_CI, comp_CI, \"mageck-new\")\n",
    "mageck_stats = get_stats(comp, \"mageck\", exp_padj, comp_padj)\n",
    "fig = plot_correlations(mageck_corr)"
   ]
  },
  {
   "cell_type": "code",
   "execution_count": null,
   "metadata": {
    "ExecuteTime": {
     "end_time": "2022-10-24T09:56:48.525539Z",
     "start_time": "2022-10-24T09:56:47.076536Z"
    }
   },
   "outputs": [],
   "source": [
    "fig"
   ]
  },
  {
   "cell_type": "code",
   "execution_count": null,
   "metadata": {
    "ExecuteTime": {
     "end_time": "2022-10-18T11:22:42.661237Z",
     "start_time": "2022-10-18T11:22:42.648510Z"
    }
   },
   "outputs": [],
   "source": [
    "mageck_melt = mageck_stats.melt(id_vars=['library', 'method'])"
   ]
  },
  {
   "cell_type": "code",
   "execution_count": null,
   "metadata": {
    "ExecuteTime": {
     "end_time": "2022-10-18T11:22:43.457153Z",
     "start_time": "2022-10-18T11:22:43.266955Z"
    }
   },
   "outputs": [],
   "source": [
    "fig = px.box(mageck_melt, x='variable', y='value', color='variable', template='plotly_white', \n",
    "             height=600, width=600)\n",
    "fig.update_layout(yaxis_range = [0,1.1] )"
   ]
  },
  {
   "cell_type": "code",
   "execution_count": null,
   "metadata": {
    "ExecuteTime": {
     "end_time": "2022-10-18T11:22:55.942047Z",
     "start_time": "2022-10-18T11:22:53.794349Z"
    }
   },
   "outputs": [],
   "source": [
    "#comp_short = comp[~comp.library.isin(['library_9_1', 'library_10_1', 'library_13_2'])]\n",
    "fig = px.scatter(comp[comp.day== 'd2'],\n",
    "        x='LFC', y='log_exp_CI', trendline='ols', width=1000,\n",
    "           height=1000,  template='simple_white',\n",
    "                 title='MAGeCK Analysis', \n",
    "           labels = {'log_CI': 'RBSeq CI', 'log_gt_CI': 'Validated CI'}\n",
    "          )\n",
    "fig.update_layout(yaxis_range = [-10,4], xaxis_range = [-10,4] )\n",
    "fig"
   ]
  },
  {
   "cell_type": "code",
   "execution_count": null,
   "metadata": {
    "ExecuteTime": {
     "end_time": "2022-10-18T11:22:58.990374Z",
     "start_time": "2022-10-18T11:22:58.839679Z"
    }
   },
   "outputs": [],
   "source": [
    "fig = px.scatter(comp[comp.library=='library_11_2'],\n",
    "        x='LFC', y='log_exp_CI', facet_row='day', trendline='ols', width=400,\n",
    "           height=1000, color='day', template='simple_white',\n",
    "                 title='MAGeCK Analysis', hover_data=['gene'],\n",
    "           labels = {'log_CI': 'RBSeq CI', 'log_gt_CI': 'Validated CI'}\n",
    "          )\n",
    "\n",
    "fig\n",
    "#fig."
   ]
  },
  {
   "cell_type": "code",
   "execution_count": null,
   "metadata": {
    "ExecuteTime": {
     "end_time": "2022-10-18T11:26:52.518033Z",
     "start_time": "2022-10-18T11:26:52.501336Z"
    }
   },
   "outputs": [],
   "source": [
    "results[(results.library == 'library_11_2') & (results.day == 'd1')].LFC.mean()"
   ]
  },
  {
   "cell_type": "code",
   "execution_count": null,
   "metadata": {
    "ExecuteTime": {
     "end_time": "2022-10-18T11:26:53.083431Z",
     "start_time": "2022-10-18T11:26:53.067027Z"
    }
   },
   "outputs": [],
   "source": [
    "results[(results.library == 'library_11_2') & (results.day == 'd1')].expected_CI.mean()"
   ]
  },
  {
   "cell_type": "code",
   "execution_count": null,
   "metadata": {
    "ExecuteTime": {
     "end_time": "2022-10-18T11:27:08.045214Z",
     "start_time": "2022-10-18T11:27:07.719869Z"
    }
   },
   "outputs": [],
   "source": [
    "results[(results.library == 'library_10_1') & (results.day == 'd1')].LFC.hist(bins=100)\n",
    "results[(results.library == 'library_10_1') & (results.day == 'd1')].expected_CI.hist(bins=100)"
   ]
  },
  {
   "cell_type": "code",
   "execution_count": null,
   "metadata": {
    "ExecuteTime": {
     "end_time": "2022-10-18T11:28:04.971802Z",
     "start_time": "2022-10-18T11:28:04.958518Z"
    }
   },
   "outputs": [],
   "source": [
    "results.gene.nunique()"
   ]
  },
  {
   "cell_type": "code",
   "execution_count": null,
   "metadata": {
    "ExecuteTime": {
     "end_time": "2022-10-18T11:28:13.834686Z",
     "start_time": "2022-10-18T11:28:13.822239Z"
    }
   },
   "outputs": [],
   "source": [
    "results[(results.LFC > 1) & (results.fdr < 0.05)].gene.nunique()"
   ]
  },
  {
   "cell_type": "code",
   "execution_count": null,
   "metadata": {
    "ExecuteTime": {
     "end_time": "2022-10-18T11:28:36.455666Z",
     "start_time": "2022-10-18T11:28:36.435316Z"
    }
   },
   "outputs": [],
   "source": [
    "results[(results.expected_CI > 1) & (results.fdr < 0.05)]"
   ]
  },
  {
   "cell_type": "code",
   "execution_count": null,
   "metadata": {
    "ExecuteTime": {
     "end_time": "2022-10-18T13:17:50.304248Z",
     "start_time": "2022-10-18T13:17:50.277130Z"
    }
   },
   "outputs": [],
   "source": []
  },
  {
   "cell_type": "code",
   "execution_count": null,
   "metadata": {
    "ExecuteTime": {
     "end_time": "2022-10-18T11:34:03.409819Z",
     "start_time": "2022-10-18T11:34:03.395029Z"
    }
   },
   "outputs": [],
   "source": [
    "resSum.head()"
   ]
  },
  {
   "cell_type": "code",
   "execution_count": null,
   "metadata": {
    "ExecuteTime": {
     "end_time": "2022-10-24T10:18:08.634252Z",
     "start_time": "2022-10-24T10:17:57.471793Z"
    }
   },
   "outputs": [],
   "source": [
    "corr_df = results[['Name', 'LFC', 'contrast', 'library']].copy()\n",
    "\n",
    "corr_df = corr_df.pivot(index=['library', 'contrast'], columns='Name', values='LFC')\n",
    "corr_df['contrast'] = [int(d[1].strip('d')) for d in corr_df.index]\n",
    "corr_df = corr_df.corr(min_periods=6)\n",
    "corr_df.index.name = 'gene2'\n",
    "corr_df = corr_df.unstack().reset_index().dropna()\n",
    "corr_df = corr_df[corr_df.gene2 == 'contrast'].iloc[:-1, ]\n",
    "corr_df = corr_df.drop('gene2', axis=1).rename({0: \"correlation_dpi\"}, axis=1)\n"
   ]
  },
  {
   "cell_type": "code",
   "execution_count": null,
   "metadata": {
    "ExecuteTime": {
     "end_time": "2022-10-24T10:18:10.466663Z",
     "start_time": "2022-10-24T10:18:10.447728Z"
    }
   },
   "outputs": [],
   "source": [
    "corr_df"
   ]
  },
  {
   "cell_type": "code",
   "execution_count": null,
   "metadata": {
    "ExecuteTime": {
     "end_time": "2022-10-18T13:25:45.222139Z",
     "start_time": "2022-10-18T13:25:44.946450Z"
    }
   },
   "outputs": [],
   "source": [
    "import pyranges as pr\n",
    "gff = pr.read_gff3(configs['gff'], as_df=True)\n",
    "gff = gff[gff.Feature == 'gene']\n",
    "gff = gff[['Chromosome', 'Start', 'End', 'Name']]\n",
    "fdf = (results.merge(resSum, on = ['gene', 'day'], how='left')\n",
    "       .merge(corr_df, on=['gene'], how='left')\n",
    "      .merge(gff, left_on='gene', right_on='Name', how='left'))\n",
    "\n",
    "fdf = fdf.merge(ann_info, on=\"Name\", how='outer')\n",
    "fdf['Chromosome'] = fdf.Chromosome.astype('str')\n",
    "fdf = fdf.fillna('N/A')"
   ]
  },
  {
   "cell_type": "code",
   "execution_count": null,
   "metadata": {
    "ExecuteTime": {
     "end_time": "2022-10-18T13:26:19.641399Z",
     "start_time": "2022-10-18T13:26:19.600407Z"
    }
   },
   "outputs": [],
   "source": [
    "fdf = fdf.sort_values(['Chromosome', 'Start'])"
   ]
  },
  {
   "cell_type": "code",
   "execution_count": null,
   "metadata": {
    "ExecuteTime": {
     "end_time": "2022-10-18T12:00:08.516656Z",
     "start_time": "2022-10-18T12:00:08.487505Z"
    }
   },
   "outputs": [],
   "source": [
    "to_draw = fdf[['expected_CI', 'LFC_mean', 'LFC_std', 'library_count', 'day', 'correlation_dpi', 'Chromosome', 'Start', 'Name']].drop_duplicates()"
   ]
  },
  {
   "cell_type": "code",
   "execution_count": null,
   "metadata": {
    "ExecuteTime": {
     "end_time": "2022-10-18T12:00:09.979931Z",
     "start_time": "2022-10-18T12:00:09.970530Z"
    }
   },
   "outputs": [],
   "source": [
    "to_draw = to_draw[to_draw.Chromosome == 'FQ312003.1']"
   ]
  },
  {
   "cell_type": "code",
   "execution_count": null,
   "metadata": {
    "ExecuteTime": {
     "end_time": "2022-10-18T12:00:10.445253Z",
     "start_time": "2022-10-18T12:00:10.426902Z"
    }
   },
   "outputs": [],
   "source": [
    "to_draw.sample(19)"
   ]
  },
  {
   "cell_type": "code",
   "execution_count": null,
   "metadata": {
    "ExecuteTime": {
     "end_time": "2022-10-18T12:21:53.553763Z",
     "start_time": "2022-10-18T12:21:52.760336Z"
    }
   },
   "outputs": [],
   "source": [
    "px.scatter(to_draw, x='Start', y='LFC_mean', size='library_count', color='day',\n",
    "           height=800, width=1600, hover_data=['Name', 'LFC_mean', 'correlation_dpi'])"
   ]
  },
  {
   "cell_type": "code",
   "execution_count": null,
   "metadata": {},
   "outputs": [],
   "source": []
  },
  {
   "cell_type": "code",
   "execution_count": null,
   "metadata": {
    "ExecuteTime": {
     "end_time": "2022-10-18T12:39:20.876280Z",
     "start_time": "2022-10-18T12:39:20.763576Z"
    }
   },
   "outputs": [],
   "source": []
  },
  {
   "cell_type": "code",
   "execution_count": null,
   "metadata": {
    "ExecuteTime": {
     "end_time": "2022-10-18T13:01:33.355098Z",
     "start_time": "2022-10-18T13:01:33.300782Z"
    }
   },
   "outputs": [],
   "source": []
  },
  {
   "cell_type": "code",
   "execution_count": null,
   "metadata": {
    "ExecuteTime": {
     "end_time": "2022-10-18T13:18:14.337037Z",
     "start_time": "2022-10-18T13:18:14.291042Z"
    }
   },
   "outputs": [],
   "source": [
    "fdf.sample(20)"
   ]
  },
  {
   "cell_type": "code",
   "execution_count": null,
   "metadata": {
    "ExecuteTime": {
     "end_time": "2022-10-18T13:33:28.959049Z",
     "start_time": "2022-10-18T13:33:28.933170Z"
    }
   },
   "outputs": [],
   "source": [
    "fdf[fdf.KEGG_Pathway.str.contains('ko00380')].Name.unique()"
   ]
  },
  {
   "cell_type": "code",
   "execution_count": null,
   "metadata": {
    "ExecuteTime": {
     "end_time": "2022-10-18T13:32:29.228356Z",
     "start_time": "2022-10-18T13:32:29.202809Z"
    }
   },
   "outputs": [],
   "source": [
    "fdf[fdf.Name =='cysE']"
   ]
  },
  {
   "cell_type": "code",
   "execution_count": null,
   "metadata": {
    "ExecuteTime": {
     "end_time": "2022-10-18T13:33:49.836336Z",
     "start_time": "2022-10-18T13:33:49.804939Z"
    }
   },
   "outputs": [],
   "source": [
    "fdf[fdf.gene == 'ydiO']"
   ]
  },
  {
   "cell_type": "code",
   "execution_count": null,
   "metadata": {
    "ExecuteTime": {
     "end_time": "2022-10-18T13:35:17.890144Z",
     "start_time": "2022-10-18T13:35:17.203987Z"
    }
   },
   "outputs": [],
   "source": [
    "fdf.to_csv(root/resultsDir/'18-10-22-annotated-results.csv', index=False)"
   ]
  },
  {
   "cell_type": "code",
   "execution_count": null,
   "metadata": {
    "ExecuteTime": {
     "end_time": "2022-10-18T14:05:33.540198Z",
     "start_time": "2022-10-18T14:05:33.533963Z"
    }
   },
   "outputs": [],
   "source": [
    "def sig_results(df, th=1):\n",
    "    return df[(abs(df.LFC) > th) &(((df.neg_selection_fdr < 0.01))|((df.pos_selection_fdr < 0.01)))]"
   ]
  },
  {
   "cell_type": "code",
   "execution_count": null,
   "metadata": {
    "ExecuteTime": {
     "end_time": "2022-10-18T14:19:30.246277Z",
     "start_time": "2022-10-18T14:19:30.159585Z"
    }
   },
   "outputs": [],
   "source": [
    "fdf2 = fdf.replace('N/A', np.nan)\n",
    "fdf_sig = sig_results(fdf2, 1)"
   ]
  },
  {
   "cell_type": "code",
   "execution_count": null,
   "metadata": {
    "ExecuteTime": {
     "end_time": "2022-10-18T14:19:31.039079Z",
     "start_time": "2022-10-18T14:19:31.009121Z"
    }
   },
   "outputs": [],
   "source": [
    "fdf_sig"
   ]
  },
  {
   "cell_type": "code",
   "execution_count": null,
   "metadata": {
    "ExecuteTime": {
     "end_time": "2022-10-18T14:19:33.615895Z",
     "start_time": "2022-10-18T14:19:33.606715Z"
    }
   },
   "outputs": [],
   "source": [
    "early = fdf_sig[fdf_sig.day.isin(['d1', 'd2'])].gene.unique()"
   ]
  },
  {
   "cell_type": "code",
   "execution_count": null,
   "metadata": {
    "ExecuteTime": {
     "end_time": "2022-10-18T14:19:37.309379Z",
     "start_time": "2022-10-18T14:19:37.302138Z"
    }
   },
   "outputs": [],
   "source": [
    "'hflC' in early"
   ]
  },
  {
   "cell_type": "code",
   "execution_count": null,
   "metadata": {
    "ExecuteTime": {
     "end_time": "2022-10-18T14:19:38.939046Z",
     "start_time": "2022-10-18T14:19:38.929828Z"
    }
   },
   "outputs": [],
   "source": [
    "for i in early:\n",
    "    print(i)"
   ]
  },
  {
   "cell_type": "code",
   "execution_count": null,
   "metadata": {
    "ExecuteTime": {
     "end_time": "2022-10-18T14:19:43.346784Z",
     "start_time": "2022-10-18T14:19:43.323639Z"
    }
   },
   "outputs": [],
   "source": [
    "late = fdf_sig[(fdf_sig.day.isin(['d3', 'd4'])) & (fdf_sig.LFC < 0)].gene.unique()\n",
    "late = [g for g in late if g not in early]"
   ]
  },
  {
   "cell_type": "code",
   "execution_count": null,
   "metadata": {
    "ExecuteTime": {
     "end_time": "2022-10-18T14:19:44.085844Z",
     "start_time": "2022-10-18T14:19:44.077784Z"
    }
   },
   "outputs": [],
   "source": [
    "for i in late:\n",
    "    print(i)"
   ]
  },
  {
   "cell_type": "code",
   "execution_count": null,
   "metadata": {
    "ExecuteTime": {
     "end_time": "2022-10-18T14:37:22.828770Z",
     "start_time": "2022-10-18T14:37:22.788942Z"
    }
   },
   "outputs": [],
   "source": [
    "fdf[fdf.Name == 'SL1344_3749']"
   ]
  },
  {
   "cell_type": "code",
   "execution_count": null,
   "metadata": {
    "ExecuteTime": {
     "end_time": "2022-10-18T14:39:46.564777Z",
     "start_time": "2022-10-18T14:39:46.523762Z"
    }
   },
   "outputs": [],
   "source": [
    "\n",
    "test = fdf_sig[fdf_sig.KEGG_Pathway.str.contains('ko02060')]"
   ]
  },
  {
   "cell_type": "code",
   "execution_count": null,
   "metadata": {
    "ExecuteTime": {
     "end_time": "2022-10-18T14:39:05.125385Z",
     "start_time": "2022-10-18T14:39:05.111677Z"
    }
   },
   "outputs": [],
   "source": [
    "test = test[['Name', 'LFC', 'library', 'day', 'fdr', 'EC', 'KEGG_Pathway']].replace('N/A', np.nan).dropna()"
   ]
  },
  {
   "cell_type": "code",
   "execution_count": null,
   "metadata": {
    "ExecuteTime": {
     "end_time": "2022-10-18T14:39:07.551179Z",
     "start_time": "2022-10-18T14:39:07.531552Z"
    }
   },
   "outputs": [],
   "source": [
    "test"
   ]
  },
  {
   "cell_type": "code",
   "execution_count": null,
   "metadata": {
    "ExecuteTime": {
     "end_time": "2022-10-18T14:39:33.284567Z",
     "start_time": "2022-10-18T14:39:33.272982Z"
    }
   },
   "outputs": [],
   "source": [
    "test[test.Name == 'SL1344_4469'].groupby(['day']).LFC.mean()"
   ]
  },
  {
   "cell_type": "code",
   "execution_count": null,
   "metadata": {
    "ExecuteTime": {
     "end_time": "2022-10-18T14:32:15.121827Z",
     "start_time": "2022-10-18T14:32:14.619012Z"
    }
   },
   "outputs": [],
   "source": [
    "sns.barplot(data=test[test.day == 'd1'], x='Name', y='LFC')"
   ]
  },
  {
   "cell_type": "code",
   "execution_count": null,
   "metadata": {
    "ExecuteTime": {
     "end_time": "2022-10-18T14:32:24.899466Z",
     "start_time": "2022-10-18T14:32:24.234371Z"
    }
   },
   "outputs": [],
   "source": [
    "sns.barplot(data=test[test.day == 'd3'], x='Name', y='LFC')"
   ]
  },
  {
   "cell_type": "code",
   "execution_count": null,
   "metadata": {},
   "outputs": [],
   "source": []
  }
 ],
 "metadata": {
  "kernelspec": {
   "display_name": "Python 3 (ipykernel)",
   "language": "python",
   "name": "python3"
  },
  "language_info": {
   "codemirror_mode": {
    "name": "ipython",
    "version": 3
   },
   "file_extension": ".py",
   "mimetype": "text/x-python",
   "name": "python",
   "nbconvert_exporter": "python",
   "pygments_lexer": "ipython3",
   "version": "3.8.12"
  },
  "toc": {
   "base_numbering": 1,
   "nav_menu": {},
   "number_sections": true,
   "sideBar": true,
   "skip_h1_title": false,
   "title_cell": "Table of Contents",
   "title_sidebar": "Contents",
   "toc_cell": false,
   "toc_position": {
    "height": "calc(100% - 180px)",
    "left": "10px",
    "top": "150px",
    "width": "384px"
   },
   "toc_section_display": true,
   "toc_window_display": true
  }
 },
 "nbformat": 4,
 "nbformat_minor": 4
}
