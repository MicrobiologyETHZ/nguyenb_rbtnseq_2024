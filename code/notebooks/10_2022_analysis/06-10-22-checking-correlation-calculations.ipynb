{
 "cells": [
  {
   "cell_type": "code",
   "execution_count": null,
   "metadata": {
    "ExecuteTime": {
     "end_time": "2022-10-06T10:33:43.071305Z",
     "start_time": "2022-10-06T10:33:43.051562Z"
    }
   },
   "outputs": [],
   "source": [
    "# %load 10_2022_load_config.py\n",
    "import pandas as pd\n",
    "import numpy as np\n",
    "import matplotlib.pyplot as plt\n",
    "import os\n",
    "from pathlib import Path\n",
    "import seaborn as sns\n",
    "import sys\n",
    "import plotly.express as px\n",
    "import plotly.io as pio\n",
    "import yaml\n",
    "\n",
    "sns.set_context(\"notebook\", font_scale=1.4)\n",
    "pd.set_option(\"display.max_columns\", 100)\n",
    "pd.set_option(\"display.max_rows\", 100)\n",
    "plt.rcParams[\"figure.figsize\"] = (16, 12)\n",
    "plt.rcParams['savefig.dpi'] = 200\n",
    "plt.rcParams['figure.autolayout'] = False\n",
    "plt.rcParams['axes.labelsize'] = 18\n",
    "plt.rcParams['axes.titlesize'] = 20\n",
    "plt.rcParams['font.size'] = 16\n",
    "plt.rcParams['lines.linewidth'] = 2.0\n",
    "plt.rcParams['lines.markersize'] = 8\n",
    "plt.rcParams['legend.fontsize'] = 14\n",
    "pd.set_option('display.float_format', lambda x: '{:,.4f}'.format(x))\n",
    "\n",
    "\n",
    "config_file = \"10_2022_analysis.yaml\"\n",
    "with open(config_file) as file:\n",
    "    # The FullLoader parameter handles the conversion from YAML\n",
    "    # scalar values to Python the dictionary format\n",
    "    configs = yaml.load(file, Loader=yaml.FullLoader)\n",
    "    \n",
    "# Run on server:\n",
    "root = Path(configs['root'])\n",
    "scratchDir = Path(configs['scratchDir'])\n",
    "figuresDir = Path(configs['figuresDir'])\n",
    "\n",
    "alphabetClrs = px.colors.qualitative.Alphabet\n",
    "clrs = [\"#f7ba65\", \"#bf4713\", \"#9c002f\", \"#d73d00\", \"#008080\", \"#004c4c\"]\n",
    "colors = {'grey': alphabetClrs[8], \n",
    "        'light_yellow': clrs[0],\n",
    "        'darko': clrs[1],\n",
    "        'maroon':clrs[2],\n",
    "        'brighto': clrs[3],\n",
    "        'teal':clrs[4],\n",
    "        'darkteal':clrs[5]\n",
    "       }"
   ]
  },
  {
   "cell_type": "markdown",
   "metadata": {},
   "source": [
    "# Calculate correlations for each/some samples\n",
    "\n",
    "1. Load sample data\n",
    "2. Choose samples to analyze (by dnaid)\n",
    "    - Choosing dnaid2023 and dnaid2016\n",
    "3. Load counts for that dnaid\n",
    "4. Load control file\n",
    "5. Calculate correlation\n",
    "\n",
    "6. At the same time run mbarq for that dnaid. "
   ]
  },
  {
   "cell_type": "code",
   "execution_count": null,
   "metadata": {
    "ExecuteTime": {
     "end_time": "2022-10-06T10:36:13.078499Z",
     "start_time": "2022-10-06T10:36:13.063088Z"
    }
   },
   "outputs": [],
   "source": [
    "sampleData = pd.read_csv(root/configs['sampleDataFile'])"
   ]
  },
  {
   "cell_type": "code",
   "execution_count": null,
   "metadata": {
    "ExecuteTime": {
     "end_time": "2022-10-06T10:36:35.444468Z",
     "start_time": "2022-10-06T10:36:35.433683Z"
    }
   },
   "outputs": [],
   "source": [
    "sampleData.groupby('dnaid').sampleID.nunique()"
   ]
  },
  {
   "cell_type": "code",
   "execution_count": null,
   "metadata": {
    "ExecuteTime": {
     "end_time": "2022-10-06T11:42:07.315662Z",
     "start_time": "2022-10-06T11:42:07.306871Z"
    }
   },
   "outputs": [],
   "source": [
    "controls = pd.read_csv(root/configs['controlFile'], header=None, names=['barcode', 'conc', 'genotype'])"
   ]
  },
  {
   "cell_type": "code",
   "execution_count": null,
   "metadata": {
    "ExecuteTime": {
     "end_time": "2022-10-06T11:21:02.968057Z",
     "start_time": "2022-10-06T11:21:02.552041Z"
    }
   },
   "outputs": [],
   "source": [
    "#controls[['barcode', 'conc', 'genotype']].to_csv(root/configs['controlFile'], header=None, index=False)"
   ]
  },
  {
   "cell_type": "code",
   "execution_count": null,
   "metadata": {
    "ExecuteTime": {
     "end_time": "2022-10-06T11:42:08.715384Z",
     "start_time": "2022-10-06T11:42:08.709564Z"
    }
   },
   "outputs": [],
   "source": [
    "controls = controls[controls.genotype == 'wt']"
   ]
  },
  {
   "cell_type": "code",
   "execution_count": null,
   "metadata": {
    "ExecuteTime": {
     "end_time": "2022-10-06T11:42:08.961422Z",
     "start_time": "2022-10-06T11:42:08.948929Z"
    }
   },
   "outputs": [],
   "source": [
    "controls"
   ]
  },
  {
   "cell_type": "code",
   "execution_count": null,
   "metadata": {
    "ExecuteTime": {
     "end_time": "2022-10-06T11:42:20.651296Z",
     "start_time": "2022-10-06T11:42:20.642807Z"
    }
   },
   "outputs": [],
   "source": [
    "def calc_corr(cdf, controls):\n",
    "    cdf = cdf.set_index('barcode').drop('Name', axis=1)\n",
    "    cdf = np.log2(cdf/cdf.sum()* 1000000 + 0.5).reset_index()\n",
    "    cdf = controls.merge(cdf, how='left', on='barcode')\n",
    "\n",
    "    cdf['conc'] = np.log2(cdf['conc'])\n",
    "    cdf = pd.DataFrame(cdf.corr()['conc'].iloc[1:])\n",
    "\n",
    "    cdf.columns = ['R']\n",
    "    cdf['R2'] = cdf.R**2\n",
    "    return cdf"
   ]
  },
  {
   "cell_type": "code",
   "execution_count": null,
   "metadata": {
    "ExecuteTime": {
     "end_time": "2022-10-06T11:42:21.282639Z",
     "start_time": "2022-10-06T11:42:21.125526Z"
    }
   },
   "outputs": [],
   "source": [
    "cdf23 = pd.read_csv(root/configs['countsDir']/'dnaid2023_mbarq_merged_counts.csv')\n",
    "cdf16 = pd.read_csv(root/configs['countsDir']/'dnaid2016_mbarq_merged_counts.csv')\n",
    "\n"
   ]
  },
  {
   "cell_type": "code",
   "execution_count": null,
   "metadata": {
    "ExecuteTime": {
     "end_time": "2022-10-06T11:42:21.513630Z",
     "start_time": "2022-10-06T11:42:21.437412Z"
    }
   },
   "outputs": [],
   "source": [
    "cdf23_cor = calc_corr(cdf23, controls)\n",
    "cdf16_cor = calc_corr(cdf16, controls)"
   ]
  },
  {
   "cell_type": "code",
   "execution_count": null,
   "metadata": {
    "ExecuteTime": {
     "end_time": "2022-10-06T11:42:21.928372Z",
     "start_time": "2022-10-06T11:42:21.914396Z"
    }
   },
   "outputs": [],
   "source": [
    "cdf16_cor"
   ]
  },
  {
   "cell_type": "code",
   "execution_count": null,
   "metadata": {
    "ExecuteTime": {
     "end_time": "2022-10-06T11:42:27.438754Z",
     "start_time": "2022-10-06T11:42:27.424602Z"
    }
   },
   "outputs": [],
   "source": [
    "mcor23 = pd.read_csv(root/'tmp/dnaid2023_mbarq_merged_counts.correlations.csv', index_col=0)\n",
    "mcor16 = pd.read_csv(root/'tmp/dnaid2016_mbarq_merged_counts.correlations.csv', index_col=0)"
   ]
  },
  {
   "cell_type": "code",
   "execution_count": null,
   "metadata": {
    "ExecuteTime": {
     "end_time": "2022-10-06T11:32:42.139872Z",
     "start_time": "2022-10-06T11:32:42.127277Z"
    }
   },
   "outputs": [],
   "source": [
    "mcor16"
   ]
  },
  {
   "cell_type": "code",
   "execution_count": null,
   "metadata": {
    "ExecuteTime": {
     "end_time": "2022-10-06T11:42:29.860311Z",
     "start_time": "2022-10-06T11:42:29.852674Z"
    }
   },
   "outputs": [],
   "source": [
    "df23 = mcor23.merge(cdf23_cor, left_index=True, right_index=True)\n",
    "df16 = mcor16.merge(cdf16_cor, left_index=True, right_index=True)"
   ]
  },
  {
   "cell_type": "code",
   "execution_count": null,
   "metadata": {
    "ExecuteTime": {
     "end_time": "2022-10-06T11:28:46.109281Z",
     "start_time": "2022-10-06T11:28:36.551004Z"
    }
   },
   "outputs": [],
   "source": [
    "px.scatter(df23, x='R_x', y='R_y')"
   ]
  },
  {
   "cell_type": "code",
   "execution_count": null,
   "metadata": {
    "ExecuteTime": {
     "end_time": "2022-10-06T11:42:33.078133Z",
     "start_time": "2022-10-06T11:42:33.029455Z"
    }
   },
   "outputs": [],
   "source": [
    "px.scatter(df16, x='R_x', y='R_y')"
   ]
  },
  {
   "cell_type": "code",
   "execution_count": null,
   "metadata": {
    "ExecuteTime": {
     "end_time": "2022-10-06T11:45:14.179229Z",
     "start_time": "2022-10-06T11:45:14.175124Z"
    }
   },
   "outputs": [],
   "source": [
    "# Everything looks good"
   ]
  },
  {
   "cell_type": "code",
   "execution_count": null,
   "metadata": {},
   "outputs": [],
   "source": []
  }
 ],
 "metadata": {
  "kernelspec": {
   "display_name": "Python 3 (ipykernel)",
   "language": "python",
   "name": "python3"
  },
  "language_info": {
   "codemirror_mode": {
    "name": "ipython",
    "version": 3
   },
   "file_extension": ".py",
   "mimetype": "text/x-python",
   "name": "python",
   "nbconvert_exporter": "python",
   "pygments_lexer": "ipython3",
   "version": "3.8.12"
  },
  "toc": {
   "base_numbering": 1,
   "nav_menu": {},
   "number_sections": true,
   "sideBar": true,
   "skip_h1_title": false,
   "title_cell": "Table of Contents",
   "title_sidebar": "Contents",
   "toc_cell": false,
   "toc_position": {},
   "toc_section_display": true,
   "toc_window_display": false
  }
 },
 "nbformat": 4,
 "nbformat_minor": 4
}
