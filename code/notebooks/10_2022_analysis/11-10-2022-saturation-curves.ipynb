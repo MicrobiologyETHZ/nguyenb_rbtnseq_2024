{
 "cells": [
  {
   "cell_type": "code",
   "execution_count": null,
   "metadata": {
    "ExecuteTime": {
     "end_time": "2022-10-11T09:17:39.180024Z",
     "start_time": "2022-10-11T09:17:39.166825Z"
    }
   },
   "outputs": [],
   "source": [
    "# %load 10_2022_load_config.py\n",
    "import pandas as pd\n",
    "import numpy as np\n",
    "import matplotlib.pyplot as plt\n",
    "import os\n",
    "from pathlib import Path\n",
    "import seaborn as sns\n",
    "import sys\n",
    "import plotly.express as px\n",
    "import plotly.io as pio\n",
    "import yaml\n",
    "\n",
    "sns.set_context(\"notebook\", font_scale=1.4)\n",
    "pd.set_option(\"display.max_columns\", 100)\n",
    "pd.set_option(\"display.max_rows\", 100)\n",
    "plt.rcParams[\"figure.figsize\"] = (16, 12)\n",
    "plt.rcParams['savefig.dpi'] = 200\n",
    "plt.rcParams['figure.autolayout'] = False\n",
    "plt.rcParams['axes.labelsize'] = 18\n",
    "plt.rcParams['axes.titlesize'] = 20\n",
    "plt.rcParams['font.size'] = 16\n",
    "plt.rcParams['lines.linewidth'] = 2.0\n",
    "plt.rcParams['lines.markersize'] = 8\n",
    "plt.rcParams['legend.fontsize'] = 14\n",
    "pd.set_option('display.float_format', lambda x: '{:,.4f}'.format(x))\n",
    "\n",
    "\n",
    "config_file = \"10_2022_analysis.yaml\"\n",
    "with open(config_file) as file:\n",
    "    # The FullLoader parameter handles the conversion from YAML\n",
    "    # scalar values to Python the dictionary format\n",
    "    configs = yaml.load(file, Loader=yaml.FullLoader)\n",
    "    \n",
    "# Run on server:\n",
    "root = Path(configs['root'])\n",
    "scratchDir = root/configs['scratchDir']\n",
    "figuresDir = root/configs['figuresDir']\n",
    "libraries = configs['libraries']\n",
    "\n",
    "\n",
    "alphabetClrs = px.colors.qualitative.Alphabet\n",
    "clrs = [\"#f7ba65\", \"#bf4713\", \"#9c002f\", \"#d73d00\", \"#008080\", \"#004c4c\"]\n",
    "colors = {'grey': alphabetClrs[8], \n",
    "        'light_yellow': clrs[0],\n",
    "        'darko': clrs[1],\n",
    "        'maroon':clrs[2],\n",
    "        'brighto': clrs[3],\n",
    "        'teal':clrs[4],\n",
    "        'darkteal':clrs[5]\n",
    "       }"
   ]
  },
  {
   "cell_type": "code",
   "execution_count": null,
   "metadata": {
    "ExecuteTime": {
     "end_time": "2022-10-11T09:16:16.370668Z",
     "start_time": "2022-10-11T09:16:16.360608Z"
    }
   },
   "outputs": [],
   "source": [
    "from numpy.random import RandomState\n",
    "def load_map(file, name):\n",
    "    return (pd.read_csv(file)\n",
    "            .assign(sample=name)[['barcode', 'number_of_reads', 'sample']]\n",
    "            .drop_duplicates()\n",
    "            .pivot(index=\"sample\", columns='barcode', values='number_of_reads'))\n",
    "    \n",
    "    \n",
    "def rarefaction(M, seed=0, depth=1000000):\n",
    "    prng = RandomState(seed) # reproducible results\n",
    "    noccur = np.sum(M, axis=1) # number of occurrences for each sample\n",
    "    nvar = M.shape[1] # number of variables\n",
    "    Mrarefied = np.empty_like(M)\n",
    "    depths = []\n",
    "    for i in range(M.shape[0]): # for each sample\n",
    "        p = M.iloc[i] / float(noccur[i]) # relAb of each gene -> probability\n",
    "        if depth >= noccur[i]:\n",
    "            choice = prng.choice(nvar, noccur[i], p=p)\n",
    "            depths.append(noccur[i])\n",
    "        else:\n",
    "            choice = prng.choice(nvar, depth, p=p)\n",
    "            depths.append(depth)\n",
    "        Mrarefied[i] = np.bincount(choice, minlength=nvar)\n",
    "        \n",
    "    return pd.DataFrame(Mrarefied, index=M.index, columns=M.columns), depths\n",
    "\n",
    "\n",
    "def sat_curve(df, depths, cutoff=100):\n",
    "    n_bcs = []\n",
    "    n_reads = []\n",
    "    for depth in depths:\n",
    "        r, d = rarefaction(df, depth=depth)\n",
    "        n_bcs.append((r>cutoff).sum(axis=1).iloc[0])\n",
    "        n_reads.append(d[0])\n",
    "    return pd.DataFrame([n_bcs, n_reads], index=['num_insertions', 'num_reads']).T\n",
    "\n",
    "\n",
    "def depth_vs_num_inserts(pivot_map, depth, cutoffs):\n",
    "    df_list = []\n",
    "    for cutoff in cutoffs:\n",
    "        df = sat_curve(pivot_map, depth, cutoff)\n",
    "        df['ReadCutoff'] = f'{cutoff} Reads'\n",
    "        df_list.append(df)\n",
    "    return pd.concat(df_list)"
   ]
  },
  {
   "cell_type": "code",
   "execution_count": null,
   "metadata": {
    "ExecuteTime": {
     "end_time": "2022-10-11T09:16:34.668612Z",
     "start_time": "2022-10-11T09:16:34.665129Z"
    }
   },
   "outputs": [],
   "source": [
    "mapsL0Dir = Path(configs['mapsL0Dir'])\n",
    "mapFiles = [mapsL0Dir/f\"{lib}/{lib}.annotated.csv\" for lib in libraries]"
   ]
  },
  {
   "cell_type": "code",
   "execution_count": null,
   "metadata": {
    "ExecuteTime": {
     "end_time": "2022-10-11T08:59:42.179356Z",
     "start_time": "2022-10-11T08:59:42.174294Z"
    }
   },
   "outputs": [],
   "source": [
    "nguyen_depth = sorted([250000, 500000, 750000] + list(range(50000, 9000000, 1000000)))\n",
    "cutoffs = [5, 10, 50, 100, 500]"
   ]
  },
  {
   "cell_type": "code",
   "execution_count": null,
   "metadata": {
    "ExecuteTime": {
     "end_time": "2022-10-11T09:11:44.417216Z",
     "start_time": "2022-10-11T09:05:45.004935Z"
    }
   },
   "outputs": [],
   "source": [
    "curveDfs = []\n",
    "for libFile in mapFiles:\n",
    "    lib_map = load_map(libFile, libFile.stem)\n",
    "    curves = depth_vs_num_inserts(lib_map, nguyen_depth, cutoffs).assign(library=libFile.stem)\n",
    "    curveDfs.append(curves)\n",
    "curveDf = pd.concat(curveDfs)"
   ]
  },
  {
   "cell_type": "code",
   "execution_count": null,
   "metadata": {
    "ExecuteTime": {
     "end_time": "2022-10-11T09:12:28.343795Z",
     "start_time": "2022-10-11T09:12:28.338551Z"
    }
   },
   "outputs": [],
   "source": [
    "curveDf['library'] = curveDf.library.str.split('.', expand=True, n=1)[0]"
   ]
  },
  {
   "cell_type": "code",
   "execution_count": null,
   "metadata": {
    "ExecuteTime": {
     "end_time": "2022-10-11T09:13:47.973067Z",
     "start_time": "2022-10-11T09:13:47.554454Z"
    }
   },
   "outputs": [],
   "source": [
    "fig = px.line(curveDf, \n",
    "              x=\"num_reads\", \n",
    "              y=\"num_insertions\", \n",
    "              color='ReadCutoff',\n",
    "              color_discrete_map = {'5 Reads': colors['darkteal'], \n",
    "                                   '10 Reads': colors['teal'],\n",
    "                                   '50 Reads': colors['maroon'],\n",
    "                                   '100 Reads': colors['brighto'], \n",
    "                                   '500 Reads':colors['light_yellow']},\n",
    "              labels = {'num_reads': \"Sequencing Depth (millions of reads)\",\n",
    "                        'num_insertions': \"Number of unique insertions\",\n",
    "                        'ReadCutoff': 'Detection Limit'}, \n",
    "              template = \"plotly_white\", \n",
    "              facet_col='library', facet_col_wrap=2,\n",
    "              height=2000, \n",
    "              width=1000\n",
    "             )\n",
    "fig.update_traces(mode='markers+lines', line_width=4, marker_size=12)\n",
    "fig.update_layout(\n",
    "    \n",
    "    font_size=14,\n",
    ")"
   ]
  },
  {
   "cell_type": "code",
   "execution_count": null,
   "metadata": {
    "ExecuteTime": {
     "end_time": "2022-10-11T09:17:43.174612Z",
     "start_time": "2022-10-11T09:17:42.498302Z"
    }
   },
   "outputs": [],
   "source": [
    "pio.write_image(fig, figuresDir/'nguyen_sat_curves.png', width=1000, height=2000, scale=2)"
   ]
  }
 ],
 "metadata": {
  "kernelspec": {
   "display_name": "Python 3 (ipykernel)",
   "language": "python",
   "name": "python3"
  },
  "language_info": {
   "codemirror_mode": {
    "name": "ipython",
    "version": 3
   },
   "file_extension": ".py",
   "mimetype": "text/x-python",
   "name": "python",
   "nbconvert_exporter": "python",
   "pygments_lexer": "ipython3",
   "version": "3.8.12"
  },
  "toc": {
   "base_numbering": 1,
   "nav_menu": {},
   "number_sections": true,
   "sideBar": true,
   "skip_h1_title": false,
   "title_cell": "Table of Contents",
   "title_sidebar": "Contents",
   "toc_cell": false,
   "toc_position": {},
   "toc_section_display": true,
   "toc_window_display": false
  }
 },
 "nbformat": 4,
 "nbformat_minor": 4
}
