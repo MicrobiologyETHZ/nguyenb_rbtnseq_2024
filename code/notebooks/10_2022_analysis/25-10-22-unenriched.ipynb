{
 "cells": [
  {
   "cell_type": "code",
   "execution_count": null,
   "metadata": {
    "ExecuteTime": {
     "end_time": "2022-10-26T12:13:15.893843Z",
     "start_time": "2022-10-26T12:12:59.173026Z"
    }
   },
   "outputs": [],
   "source": [
    "# %load 10_2022_load_config.py\n",
    "import pandas as pd\n",
    "import numpy as np\n",
    "import matplotlib.pyplot as plt\n",
    "import os\n",
    "from pathlib import Path\n",
    "import seaborn as sns\n",
    "import sys\n",
    "import plotly.express as px\n",
    "import plotly.io as pio\n",
    "import yaml\n",
    "\n",
    "sns.set_context(\"notebook\", font_scale=1.4)\n",
    "pd.set_option(\"display.max_columns\", 100)\n",
    "pd.set_option(\"display.max_rows\", 100)\n",
    "plt.rcParams[\"figure.figsize\"] = (16, 12)\n",
    "plt.rcParams['savefig.dpi'] = 200\n",
    "plt.rcParams['figure.autolayout'] = False\n",
    "plt.rcParams['axes.labelsize'] = 18\n",
    "plt.rcParams['axes.titlesize'] = 20\n",
    "plt.rcParams['font.size'] = 16\n",
    "plt.rcParams['lines.linewidth'] = 2.0\n",
    "plt.rcParams['lines.markersize'] = 8\n",
    "plt.rcParams['legend.fontsize'] = 14\n",
    "pd.set_option('display.float_format', lambda x: '{:,.4f}'.format(x))\n",
    "\n",
    "\n",
    "config_file = \"10_2022_analysis.yaml\"\n",
    "with open(config_file) as file:\n",
    "    # The FullLoader parameter handles the conversion from YAML\n",
    "    # scalar values to Python the dictionary format\n",
    "    configs = yaml.load(file, Loader=yaml.FullLoader)\n",
    "    \n",
    "# Run on server:\n",
    "root = Path(configs['root'])\n",
    "scratchDir = root/configs['scratchDir']\n",
    "figuresDir = root/configs['figuresDir']\n",
    "libraries = configs['libraries']\n",
    "resultsDir = root/configs['unenrichedDir']\n",
    "\n",
    "alphabetClrs = px.colors.qualitative.Alphabet\n",
    "clrs = [\"#f7ba65\", \"#bf4713\", \"#9c002f\", \"#d73d00\", \"#008080\", \"#004c4c\"]\n",
    "colors = {'grey': alphabetClrs[8], \n",
    "        'light_yellow': clrs[0],\n",
    "        'darko': clrs[1],\n",
    "        'maroon':clrs[2],\n",
    "        'brighto': clrs[3],\n",
    "        'teal':clrs[4],\n",
    "        'darkteal':clrs[5]\n",
    "       }"
   ]
  },
  {
   "cell_type": "code",
   "execution_count": null,
   "metadata": {
    "ExecuteTime": {
     "end_time": "2022-10-25T12:52:35.833539Z",
     "start_time": "2022-10-25T12:52:34.719050Z"
    }
   },
   "outputs": [],
   "source": [
    "import pyranges as pr"
   ]
  },
  {
   "cell_type": "code",
   "execution_count": null,
   "metadata": {
    "ExecuteTime": {
     "end_time": "2022-10-25T12:52:37.793394Z",
     "start_time": "2022-10-25T12:52:37.420455Z"
    }
   },
   "outputs": [],
   "source": [
    "resFiles = [f for f in (root/resultsDir).glob(\"*_rra_results.csv\")]\n",
    "results = pd.concat([pd.read_csv(f).assign(library=f.stem.split(\"_rra\")[0]) for f in resFiles])\n",
    "results['fdr'] = results[['neg_selection_fdr', 'pos_selection_fdr']].min(axis=1)\n",
    "results = results[~results.Name.str.contains(\":\")]\n",
    "gff = pr.read_gff3(configs['gff'], as_df=True)\n",
    "gene_info = gff[gff.Feature == 'gene'][['Chromosome', 'Start', 'End', 'Name', 'locus_tag']]\n",
    "gene_info['Chromosome'] = gene_info.Chromosome.astype('str')\n",
    "prot_info = gff[gff.Feature == 'CDS'][['protein_id', 'locus_tag']]"
   ]
  },
  {
   "cell_type": "code",
   "execution_count": null,
   "metadata": {
    "ExecuteTime": {
     "end_time": "2022-10-25T12:52:48.536807Z",
     "start_time": "2022-10-25T12:52:48.398930Z"
    }
   },
   "outputs": [],
   "source": [
    "ann = pd.read_table(configs[\"eggnog\"], comment='#').iloc[:, [0, 8, 10,11, 12,13,14,15,16,17,18,19]]\n",
    "ann.columns = ['protein_id', 'Prefered_Name', 'EC', 'KEGG_ko', 'KEGG_Pathway',\n",
    "       'KEGG_Module', 'KEGG_Reaction', 'KEGG_rclass', 'BRITE', 'KEGG_TC',\n",
    "       'CAZy', 'BiGG_Reaction']\n",
    "ann_info = (prot_info.merge(gene_info, on='locus_tag', how='outer')\n",
    "            .merge(ann, on='protein_id', how='outer'))"
   ]
  },
  {
   "cell_type": "code",
   "execution_count": null,
   "metadata": {
    "ExecuteTime": {
     "end_time": "2022-10-25T12:52:56.365054Z",
     "start_time": "2022-10-25T12:52:56.340031Z"
    }
   },
   "outputs": [],
   "source": [
    "fdf = results.merge(ann_info, on='Name', how='outer')"
   ]
  },
  {
   "cell_type": "code",
   "execution_count": null,
   "metadata": {
    "ExecuteTime": {
     "end_time": "2022-10-25T12:47:00.560396Z",
     "start_time": "2022-10-25T12:47:00.539156Z"
    }
   },
   "outputs": [],
   "source": [
    "results.head()"
   ]
  },
  {
   "cell_type": "code",
   "execution_count": null,
   "metadata": {
    "ExecuteTime": {
     "end_time": "2022-10-25T12:47:38.746291Z",
     "start_time": "2022-10-25T12:47:38.734453Z"
    }
   },
   "outputs": [],
   "source": [
    "lib102 = results[results.library == 'library_10_2']\n",
    "lib132 = results[results.library == 'library_13_2']"
   ]
  },
  {
   "cell_type": "code",
   "execution_count": null,
   "metadata": {
    "ExecuteTime": {
     "end_time": "2022-10-25T13:26:23.939105Z",
     "start_time": "2022-10-25T13:26:23.926378Z"
    }
   },
   "outputs": [],
   "source": [
    "lib102[(lib102.LFC < -1) & (lib102.fdr< 0.01)].sample(10)"
   ]
  },
  {
   "cell_type": "code",
   "execution_count": null,
   "metadata": {
    "ExecuteTime": {
     "end_time": "2022-10-25T12:48:00.661569Z",
     "start_time": "2022-10-25T12:48:00.642421Z"
    }
   },
   "outputs": [],
   "source": [
    "lib132[(lib132.LFC < -1) & (lib132.fdr< 0.01)]"
   ]
  },
  {
   "cell_type": "code",
   "execution_count": null,
   "metadata": {
    "ExecuteTime": {
     "end_time": "2022-10-25T12:47:13.012206Z",
     "start_time": "2022-10-25T12:47:13.000182Z"
    }
   },
   "outputs": [],
   "source": [
    "results[(abs(results.LFC) > 1) & (results.fdr < 0.01)].groupby('library').Name.nunique()"
   ]
  },
  {
   "cell_type": "code",
   "execution_count": null,
   "metadata": {
    "ExecuteTime": {
     "end_time": "2022-10-25T12:48:55.698211Z",
     "start_time": "2022-10-25T12:48:17.297476Z"
    }
   },
   "outputs": [],
   "source": [
    "resSum = (results.groupby(['Name', 'contrast'])\n",
    "          .agg({'LFC':['mean', 'median', 'std'], 'library':['nunique']})\n",
    "          .reset_index())\n",
    "resSum.columns = ['Name', 'contrast', 'LFC_mean', 'LFC_median', 'LFC_std', 'library_count']"
   ]
  },
  {
   "cell_type": "code",
   "execution_count": null,
   "metadata": {
    "ExecuteTime": {
     "end_time": "2022-10-25T12:53:18.111079Z",
     "start_time": "2022-10-25T12:53:18.087387Z"
    }
   },
   "outputs": [],
   "source": [
    "fdf = fdf.merge(resSum, on=['Name', 'contrast'], how='left')"
   ]
  },
  {
   "cell_type": "code",
   "execution_count": null,
   "metadata": {
    "ExecuteTime": {
     "end_time": "2022-10-25T12:54:34.234470Z",
     "start_time": "2022-10-25T12:54:33.880324Z"
    }
   },
   "outputs": [],
   "source": [
    "fdf.to_csv(root/resultsDir/'25-10-22-unenriched-annotated-results.csv', index=False)"
   ]
  },
  {
   "cell_type": "code",
   "execution_count": null,
   "metadata": {
    "ExecuteTime": {
     "end_time": "2022-10-25T12:53:28.607376Z",
     "start_time": "2022-10-25T12:53:28.567842Z"
    }
   },
   "outputs": [],
   "source": [
    "fdf.sample(10)"
   ]
  },
  {
   "cell_type": "code",
   "execution_count": null,
   "metadata": {
    "ExecuteTime": {
     "end_time": "2022-10-25T12:50:32.792659Z",
     "start_time": "2022-10-25T12:50:32.768158Z"
    }
   },
   "outputs": [],
   "source": [
    "resSum[(resSum.library_count > 3) & (resSum.LFC_mean < -1)]"
   ]
  },
  {
   "cell_type": "code",
   "execution_count": null,
   "metadata": {},
   "outputs": [],
   "source": []
  }
 ],
 "metadata": {
  "kernelspec": {
   "display_name": "Python 3 (ipykernel)",
   "language": "python",
   "name": "python3"
  },
  "language_info": {
   "codemirror_mode": {
    "name": "ipython",
    "version": 3
   },
   "file_extension": ".py",
   "mimetype": "text/x-python",
   "name": "python",
   "nbconvert_exporter": "python",
   "pygments_lexer": "ipython3",
   "version": "3.8.12"
  },
  "toc": {
   "base_numbering": 1,
   "nav_menu": {},
   "number_sections": true,
   "sideBar": true,
   "skip_h1_title": false,
   "title_cell": "Table of Contents",
   "title_sidebar": "Contents",
   "toc_cell": false,
   "toc_position": {},
   "toc_section_display": true,
   "toc_window_display": false
  }
 },
 "nbformat": 4,
 "nbformat_minor": 4
}
