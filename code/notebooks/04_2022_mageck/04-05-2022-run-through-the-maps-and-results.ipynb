{
 "cells": [
  {
   "cell_type": "code",
   "execution_count": null,
   "metadata": {
    "ExecuteTime": {
     "end_time": "2022-05-04T08:42:46.397518Z",
     "start_time": "2022-05-04T08:42:44.069781Z"
    }
   },
   "outputs": [],
   "source": [
    "# %load ../snippets/basic_settings.py\n",
    "import pandas as pd\n",
    "import numpy as np\n",
    "import matplotlib.pyplot as plt\n",
    "import os\n",
    "from pathlib import Path\n",
    "import seaborn as sns\n",
    "import sys\n",
    "import plotly.express as px\n",
    "import yaml\n",
    "\n",
    "sns.set_context(\"notebook\", font_scale=1.1)\n",
    "pd.set_option(\"display.max_columns\", 100)\n",
    "pd.set_option(\"display.max_rows\", 100)\n",
    "plt.rcParams[\"figure.figsize\"] = (16, 12)\n",
    "plt.rcParams['savefig.dpi'] = 200\n",
    "plt.rcParams['figure.autolayout'] = False\n",
    "plt.rcParams['axes.labelsize'] = 18\n",
    "plt.rcParams['axes.titlesize'] = 20\n",
    "plt.rcParams['font.size'] = 16\n",
    "plt.rcParams['lines.linewidth'] = 2.0\n",
    "plt.rcParams['lines.markersize'] = 8\n",
    "plt.rcParams['legend.fontsize'] = 14\n",
    "#pd.set_option('display.float_format', lambda x: '{:,.2f}'.format(x))"
   ]
  },
  {
   "cell_type": "code",
   "execution_count": null,
   "metadata": {
    "ExecuteTime": {
     "end_time": "2022-05-04T10:20:18.494441Z",
     "start_time": "2022-05-04T10:20:18.480499Z"
    }
   },
   "outputs": [],
   "source": [
    "# %load ../snippets/load_server_config.py\n",
    "import yaml\n",
    "\n",
    "config_file = \"../nguyenb_config.yaml\"\n",
    "with open(config_file) as file:\n",
    "    # The FullLoader parameter handles the conversion from YAML\n",
    "    # scalar values to Python the dictionary format\n",
    "    configs = yaml.load(file, Loader=yaml.FullLoader)\n",
    "    \n",
    "# Run on server:\n",
    "root = Path(configs['root']['server'])\n",
    "scratchDir = Path(configs['scratchDir']['server'])\n",
    "mapDir = root/configs['mapDir']\n",
    "countDir = root/configs['libraryCountsDir']\n",
    "resultDir = root/configs['resultDir']\n",
    "sample_data_file = root/configs['sampleData']"
   ]
  },
  {
   "cell_type": "code",
   "execution_count": null,
   "metadata": {
    "ExecuteTime": {
     "end_time": "2022-05-04T10:20:19.587525Z",
     "start_time": "2022-05-04T10:20:19.535547Z"
    }
   },
   "outputs": [],
   "source": [
    "sampleData = pd.read_csv(sample_data_file)"
   ]
  },
  {
   "cell_type": "code",
   "execution_count": null,
   "metadata": {
    "ExecuteTime": {
     "end_time": "2022-05-04T12:44:36.769252Z",
     "start_time": "2022-05-04T12:44:36.764340Z"
    }
   },
   "outputs": [],
   "source": [
    "libraries = ['library_15_1', 'library_13_2', 'library_9_1', \n",
    "             'library_10_1', 'library_11_2', 'library_12_1',\n",
    "             'library_12_2', 'library_13_1', 'library_10_2',\n",
    "             'library_14_2']"
   ]
  },
  {
   "cell_type": "markdown",
   "metadata": {},
   "source": [
    "# Maps"
   ]
  },
  {
   "cell_type": "code",
   "execution_count": null,
   "metadata": {
    "ExecuteTime": {
     "end_time": "2022-05-04T08:50:28.977827Z",
     "start_time": "2022-05-04T08:50:28.963225Z"
    }
   },
   "outputs": [],
   "source": [
    "mapFiles = [f for f in (mapDir).glob('*.annotated.csv')]"
   ]
  },
  {
   "cell_type": "code",
   "execution_count": null,
   "metadata": {
    "ExecuteTime": {
     "end_time": "2022-05-04T08:51:09.106884Z",
     "start_time": "2022-05-04T08:51:08.494105Z"
    }
   },
   "outputs": [],
   "source": [
    "mapsDf = pd.concat([pd.read_csv(f).assign(library=f.name.split('.annotated.csv')[0]) \n",
    "                    for f in mapFiles])"
   ]
  },
  {
   "cell_type": "markdown",
   "metadata": {},
   "source": [
    "## Summary Statistics"
   ]
  },
  {
   "cell_type": "code",
   "execution_count": null,
   "metadata": {
    "ExecuteTime": {
     "end_time": "2022-05-04T09:26:51.101120Z",
     "start_time": "2022-05-04T09:26:51.055247Z"
    }
   },
   "outputs": [],
   "source": [
    "table1 = (mapsDf.groupby('library')\n",
    "          .agg({'barcode':['nunique'], 'multimap':['sum'], \n",
    "                'distance_to_feature': [lambda x: sum(x!=0) ]})\n",
    "          .reset_index())\n",
    "table1.columns = [\"Library\", '# of insertions', \n",
    "                 '# of barcodes mapped to multiple locations', '# of insertions outside of CDS']\n",
    "table1 = table1.set_index('Library')\n",
    "table1['# of gene with insertion'] = mapsDf[mapsDf.distance_to_feature == 0].groupby('library').Name.nunique()\n",
    "# # table1['Library'] = table1.Library.str.replace(\"_\", '-')"
   ]
  },
  {
   "cell_type": "code",
   "execution_count": null,
   "metadata": {
    "ExecuteTime": {
     "end_time": "2022-05-04T09:31:53.005616Z",
     "start_time": "2022-05-04T09:31:52.992111Z"
    }
   },
   "outputs": [],
   "source": [
    "table1"
   ]
  },
  {
   "cell_type": "code",
   "execution_count": null,
   "metadata": {
    "ExecuteTime": {
     "end_time": "2022-05-04T09:35:56.195009Z",
     "start_time": "2022-05-04T09:35:56.157598Z"
    }
   },
   "outputs": [],
   "source": [
    "table2 = mapsDf.groupby(['library', 'Name']).barcode.nunique().reset_index()"
   ]
  },
  {
   "cell_type": "code",
   "execution_count": null,
   "metadata": {
    "ExecuteTime": {
     "end_time": "2022-05-04T09:36:13.199026Z",
     "start_time": "2022-05-04T09:36:13.183610Z"
    }
   },
   "outputs": [],
   "source": [
    "table2[table2.barcode >20]"
   ]
  },
  {
   "cell_type": "markdown",
   "metadata": {},
   "source": [
    "## Number of times each gene was disrupted"
   ]
  },
  {
   "cell_type": "code",
   "execution_count": null,
   "metadata": {
    "ExecuteTime": {
     "end_time": "2022-05-04T10:21:48.789878Z",
     "start_time": "2022-05-04T10:21:48.785404Z"
    }
   },
   "outputs": [],
   "source": [
    "gff_file = Path(\"/nfs/cds-peta/exports/biol_micro_cds_gr_sunagawa/scratch/Projects_NCCR/\"+\n",
    "                \"ref/SL1344/ncbi-genomes-2021-08-25/GCA_000210855.2_ASM21085v2_genomic.gff\")"
   ]
  },
  {
   "cell_type": "code",
   "execution_count": null,
   "metadata": {
    "ExecuteTime": {
     "end_time": "2022-05-04T10:21:51.089816Z",
     "start_time": "2022-05-04T10:21:51.017397Z"
    }
   },
   "outputs": [],
   "source": [
    "gffDf = pd.read_table(gff_file, skiprows=7, header=None)\n",
    "gffDf.columns = ['chr', 'src', 'feat_id', 'start', 'end', 'DN', 'strand', 'DN2', 'attribute']\n",
    "gffDf = gffDf[['chr', 'feat_id', 'start', 'end', 'strand' , 'attribute']]\n",
    "gffDf = gffDf[gffDf.chr == 'FQ312003.1']\n",
    "gffDf = gffDf[gffDf.feat_id == 'gene']\n",
    "gffDf['geneLen'] = abs(gffDf['end'] - gffDf['start'])/1000\n",
    "\n",
    "gffDf['Name'] = gffDf.attribute.apply(lambda x: x.split(\"Name=\")[1].split(\";\")[0])\n",
    "gffDf['locus_tag'] = gffDf.attribute.apply(lambda x: x.split(\"locus_tag=\")[1].split(\";\")[0] if 'locus_tag' in x else None)\n",
    "gffDf.sample(5)"
   ]
  },
  {
   "cell_type": "code",
   "execution_count": null,
   "metadata": {
    "ExecuteTime": {
     "end_time": "2022-05-04T10:25:14.356602Z",
     "start_time": "2022-05-04T10:25:14.305678Z"
    }
   },
   "outputs": [],
   "source": [
    "num_libs = mapsDf[mapsDf.library.isin(libraries)].groupby('Name').library.nunique().reset_index()\n",
    "num_libs.columns = ['Name', 'num_libs']\n",
    "num_libs = num_libs[~num_libs.Name.str.contains(\":\")]\n",
    "num_libs = num_libs.merge(gffDf,how='outer', on=['Name']).fillna(0)\n",
    "num_libs.sample(10)"
   ]
  },
  {
   "cell_type": "code",
   "execution_count": null,
   "metadata": {
    "ExecuteTime": {
     "end_time": "2022-05-04T09:50:28.258364Z",
     "start_time": "2022-05-04T09:50:28.212150Z"
    }
   },
   "outputs": [],
   "source": []
  },
  {
   "cell_type": "code",
   "execution_count": null,
   "metadata": {
    "ExecuteTime": {
     "end_time": "2022-05-04T10:28:04.111421Z",
     "start_time": "2022-05-04T10:28:04.086699Z"
    }
   },
   "outputs": [],
   "source": [
    "num_libs"
   ]
  },
  {
   "cell_type": "code",
   "execution_count": null,
   "metadata": {
    "ExecuteTime": {
     "end_time": "2022-05-04T10:35:11.897562Z",
     "start_time": "2022-05-04T10:35:11.731953Z"
    }
   },
   "outputs": [],
   "source": [
    "sns.set(font_scale=1.5)\n",
    "sns.set_style('ticks')\n",
    "fig, ax = plt.subplots(figsize=(12,6))\n",
    "sns.histplot(data=num_libs, discrete=True,\n",
    "             x='num_libs',  color=(0.20973515, 0.09747934, 0.24238489), bins=20)\n",
    "ax.set_xticks(range(0,13));\n",
    "plt.xlim(-1, 13);\n",
    "plt.xlabel(\"Number of libraries with gene disruption\")\n",
    "\n"
   ]
  },
  {
   "cell_type": "markdown",
   "metadata": {},
   "source": [
    "## Number of insertion per gene"
   ]
  },
  {
   "cell_type": "code",
   "execution_count": null,
   "metadata": {
    "ExecuteTime": {
     "end_time": "2022-05-04T10:47:28.344517Z",
     "start_time": "2022-05-04T10:47:28.311801Z"
    }
   },
   "outputs": [],
   "source": [
    "lib = 'library_13_1'\n",
    "lib11 = mapsDf[(mapsDf.library == lib) & (~mapsDf.Name.str.contains(':'))]\n",
    "bc_per_gene = lib11.groupby('Name').barcode.nunique().reset_index()\n",
    "#bc_per_gene = bc_per_gene.merge(gffDf,how='outer', on=['Name']).fillna(0)"
   ]
  },
  {
   "cell_type": "code",
   "execution_count": null,
   "metadata": {
    "ExecuteTime": {
     "end_time": "2022-05-04T10:42:45.845161Z",
     "start_time": "2022-05-04T10:42:45.839031Z"
    }
   },
   "outputs": [],
   "source": [
    "bc_per_gene.shape"
   ]
  },
  {
   "cell_type": "code",
   "execution_count": null,
   "metadata": {
    "ExecuteTime": {
     "end_time": "2022-05-04T10:43:21.007855Z",
     "start_time": "2022-05-04T10:43:20.999701Z"
    }
   },
   "outputs": [],
   "source": [
    "bc_per_gene[bc_per_gene.barcode == 0].shape"
   ]
  },
  {
   "cell_type": "code",
   "execution_count": null,
   "metadata": {
    "ExecuteTime": {
     "end_time": "2022-05-04T10:42:49.859999Z",
     "start_time": "2022-05-04T10:42:49.849986Z"
    }
   },
   "outputs": [],
   "source": [
    "bc_per_gene[bc_per_gene.barcode == 1].shape"
   ]
  },
  {
   "cell_type": "code",
   "execution_count": null,
   "metadata": {
    "ExecuteTime": {
     "end_time": "2022-05-04T10:43:06.723798Z",
     "start_time": "2022-05-04T10:43:06.716236Z"
    }
   },
   "outputs": [],
   "source": [
    "bc_per_gene[bc_per_gene.barcode > 1].shape"
   ]
  },
  {
   "cell_type": "code",
   "execution_count": null,
   "metadata": {
    "ExecuteTime": {
     "end_time": "2022-05-04T10:47:30.771130Z",
     "start_time": "2022-05-04T10:47:30.594426Z"
    }
   },
   "outputs": [],
   "source": [
    "sns.histplot(data=bc_per_gene, discrete=True,\n",
    "             x='barcode',  color=(0.20973515, 0.09747934, 0.24238489), bins=10)"
   ]
  },
  {
   "cell_type": "code",
   "execution_count": null,
   "metadata": {
    "ExecuteTime": {
     "end_time": "2022-05-04T10:48:48.874602Z",
     "start_time": "2022-05-04T10:48:48.823874Z"
    }
   },
   "outputs": [],
   "source": [
    "num_insertions = mapsDf[~mapsDf.Name.str.contains(':')].groupby('Name').barcode.nunique().reset_index()\n",
    "num_insertions.columns = ['Name', 'num_insertions']\n",
    "gene_insertions = num_insertions.merge(gffDf,how='outer', on=['Name'])"
   ]
  },
  {
   "cell_type": "code",
   "execution_count": null,
   "metadata": {
    "ExecuteTime": {
     "end_time": "2022-05-04T10:48:57.943917Z",
     "start_time": "2022-05-04T10:48:57.937836Z"
    }
   },
   "outputs": [],
   "source": [
    "gene_insertions['num_insertions'] = gene_insertions['num_insertions'].fillna(0)\n"
   ]
  },
  {
   "cell_type": "code",
   "execution_count": null,
   "metadata": {
    "ExecuteTime": {
     "end_time": "2022-05-04T10:49:26.575597Z",
     "start_time": "2022-05-04T10:49:26.554573Z"
    }
   },
   "outputs": [],
   "source": [
    "gene_insertions.sample(10)"
   ]
  },
  {
   "cell_type": "code",
   "execution_count": null,
   "metadata": {
    "ExecuteTime": {
     "end_time": "2022-05-04T10:49:37.039254Z",
     "start_time": "2022-05-04T10:49:37.033555Z"
    }
   },
   "outputs": [],
   "source": [
    "gene_insertions['geneIns'] = gene_insertions['num_insertions']/gene_insertions['geneLen']"
   ]
  },
  {
   "cell_type": "code",
   "execution_count": null,
   "metadata": {
    "ExecuteTime": {
     "end_time": "2022-05-04T10:49:42.166289Z",
     "start_time": "2022-05-04T10:49:41.640335Z"
    }
   },
   "outputs": [],
   "source": [
    "gene_insertions.geneIns.hist(bins=300)\n",
    "#plt.yscale('log')"
   ]
  },
  {
   "cell_type": "code",
   "execution_count": null,
   "metadata": {
    "ExecuteTime": {
     "end_time": "2022-05-04T10:49:59.233406Z",
     "start_time": "2022-05-04T10:49:59.226437Z"
    }
   },
   "outputs": [],
   "source": [
    "gene_insertions.geneIns.max()"
   ]
  },
  {
   "cell_type": "code",
   "execution_count": null,
   "metadata": {
    "ExecuteTime": {
     "end_time": "2022-05-04T10:51:47.404219Z",
     "start_time": "2022-05-04T10:51:47.361577Z"
    }
   },
   "outputs": [],
   "source": [
    "gene_insertions[gene_insertions.geneIns > 60]"
   ]
  },
  {
   "cell_type": "code",
   "execution_count": null,
   "metadata": {
    "ExecuteTime": {
     "end_time": "2022-05-04T10:56:46.201672Z",
     "start_time": "2022-05-04T10:56:46.069743Z"
    }
   },
   "outputs": [],
   "source": [
    "px.scatter(gene_insertions, x='start', y='geneIns', hover_data=['Name'])"
   ]
  },
  {
   "cell_type": "markdown",
   "metadata": {},
   "source": [
    "# Results"
   ]
  },
  {
   "cell_type": "code",
   "execution_count": null,
   "metadata": {
    "ExecuteTime": {
     "end_time": "2022-05-04T12:46:06.086485Z",
     "start_time": "2022-05-04T12:46:05.970279Z"
    }
   },
   "outputs": [],
   "source": [
    "result_files = [f for f in scratchDir.glob(\"*_rra_results.csv\")]"
   ]
  },
  {
   "cell_type": "code",
   "execution_count": null,
   "metadata": {
    "ExecuteTime": {
     "end_time": "2022-05-04T12:47:07.369650Z",
     "start_time": "2022-05-04T12:47:07.289368Z"
    }
   },
   "outputs": [],
   "source": [
    "res = pd.concat([pd.read_csv(f, index_col=0).assign(library=f.stem.split(\"_rra\")[0]) for f in result_files])"
   ]
  },
  {
   "cell_type": "code",
   "execution_count": null,
   "metadata": {
    "ExecuteTime": {
     "end_time": "2022-05-04T12:47:08.580616Z",
     "start_time": "2022-05-04T12:47:08.560453Z"
    }
   },
   "outputs": [],
   "source": [
    "res.sample(10)"
   ]
  },
  {
   "cell_type": "code",
   "execution_count": null,
   "metadata": {
    "ExecuteTime": {
     "end_time": "2022-05-04T13:02:06.876551Z",
     "start_time": "2022-05-04T13:02:06.861211Z"
    }
   },
   "outputs": [],
   "source": [
    "day1_genes = res[(res.contrast == 'd1') & (res.LFC < -1) & (res.neg_selection_fdr < 0.01)].Name.unique()"
   ]
  },
  {
   "cell_type": "code",
   "execution_count": null,
   "metadata": {
    "ExecuteTime": {
     "end_time": "2022-05-04T13:02:08.335069Z",
     "start_time": "2022-05-04T13:02:08.330160Z"
    }
   },
   "outputs": [],
   "source": [
    "day1_genes = [g for g in day1_genes if ':' not in g]"
   ]
  },
  {
   "cell_type": "code",
   "execution_count": null,
   "metadata": {
    "ExecuteTime": {
     "end_time": "2022-05-04T13:02:09.690838Z",
     "start_time": "2022-05-04T13:02:09.653093Z"
    }
   },
   "outputs": [],
   "source": [
    "for g in day1_genes:\n",
    "    print(g)"
   ]
  },
  {
   "cell_type": "code",
   "execution_count": null,
   "metadata": {
    "ExecuteTime": {
     "end_time": "2022-05-04T13:05:21.776296Z",
     "start_time": "2022-05-04T13:05:21.751367Z"
    }
   },
   "outputs": [],
   "source": [
    "res[(res.Name.isin(['sapA', 'sapF', 'sapD'])) & (res.contrast == 'd1')]"
   ]
  },
  {
   "cell_type": "code",
   "execution_count": null,
   "metadata": {
    "ExecuteTime": {
     "end_time": "2022-05-04T13:10:36.783661Z",
     "start_time": "2022-05-04T13:10:36.757505Z"
    }
   },
   "outputs": [],
   "source": [
    "res[(res.Name.isin(['recA', 'recB', 'recC','recD', 'recG', 'recO'])) & (res.contrast == 'd1')].sort_values('Name')"
   ]
  },
  {
   "cell_type": "code",
   "execution_count": null,
   "metadata": {},
   "outputs": [],
   "source": []
  }
 ],
 "metadata": {
  "kernelspec": {
   "display_name": "Python 3 (ipykernel)",
   "language": "python",
   "name": "python3"
  },
  "language_info": {
   "codemirror_mode": {
    "name": "ipython",
    "version": 3
   },
   "file_extension": ".py",
   "mimetype": "text/x-python",
   "name": "python",
   "nbconvert_exporter": "python",
   "pygments_lexer": "ipython3",
   "version": "3.8.12"
  },
  "toc": {
   "base_numbering": 1,
   "nav_menu": {},
   "number_sections": true,
   "sideBar": true,
   "skip_h1_title": false,
   "title_cell": "Table of Contents",
   "title_sidebar": "Contents",
   "toc_cell": false,
   "toc_position": {},
   "toc_section_display": true,
   "toc_window_display": true
  }
 },
 "nbformat": 4,
 "nbformat_minor": 4
}
