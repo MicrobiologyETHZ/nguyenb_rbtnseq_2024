{
 "cells": [
  {
   "cell_type": "code",
   "execution_count": null,
   "metadata": {
    "ExecuteTime": {
     "end_time": "2022-05-09T13:04:00.884377Z",
     "start_time": "2022-05-09T13:03:47.677417Z"
    }
   },
   "outputs": [],
   "source": [
    "# %load ../snippets/basic_settings.py\n",
    "import pandas as pd\n",
    "import numpy as np\n",
    "import matplotlib.pyplot as plt\n",
    "import os\n",
    "from pathlib import Path\n",
    "import seaborn as sns\n",
    "import sys\n",
    "import plotly.express as px\n",
    "import yaml\n",
    "\n",
    "sns.set_context(\"notebook\", font_scale=1.1)\n",
    "pd.set_option(\"display.max_columns\", 100)\n",
    "pd.set_option(\"display.max_rows\", 100)\n",
    "plt.rcParams[\"figure.figsize\"] = (16, 12)\n",
    "plt.rcParams['savefig.dpi'] = 200\n",
    "plt.rcParams['figure.autolayout'] = False\n",
    "plt.rcParams['axes.labelsize'] = 18\n",
    "plt.rcParams['axes.titlesize'] = 20\n",
    "plt.rcParams['font.size'] = 16\n",
    "plt.rcParams['lines.linewidth'] = 2.0\n",
    "plt.rcParams['lines.markersize'] = 8\n",
    "plt.rcParams['legend.fontsize'] = 14\n",
    "#pd.set_option('display.float_format', lambda x: '{:,.2f}'.format(x))"
   ]
  },
  {
   "cell_type": "code",
   "execution_count": null,
   "metadata": {
    "ExecuteTime": {
     "end_time": "2022-05-09T13:04:03.144333Z",
     "start_time": "2022-05-09T13:04:03.128946Z"
    }
   },
   "outputs": [],
   "source": [
    "# %load ../snippets/load_server_config.py\n",
    "import yaml\n",
    "\n",
    "config_file = \"../nguyenb_config.yaml\"\n",
    "with open(config_file) as file:\n",
    "    # The FullLoader parameter handles the conversion from YAML\n",
    "    # scalar values to Python the dictionary format\n",
    "    configs = yaml.load(file, Loader=yaml.FullLoader)\n",
    "    \n",
    "# Run on server:\n",
    "root = Path(configs['root']['server'])\n",
    "scratchDir = Path(configs['scratchDir']['server'])\n",
    "mapDir = root/configs['mapDir']\n",
    "countDir = root/configs['libraryCountsDir']\n",
    "resultDir = root/configs['resultDir']\n",
    "sample_data_file = root/configs['sampleData']"
   ]
  },
  {
   "cell_type": "code",
   "execution_count": null,
   "metadata": {
    "ExecuteTime": {
     "end_time": "2022-05-09T13:04:08.548026Z",
     "start_time": "2022-05-09T13:04:08.373621Z"
    }
   },
   "outputs": [],
   "source": [
    "sampleData = pd.read_csv(sample_data_file)"
   ]
  },
  {
   "cell_type": "code",
   "execution_count": null,
   "metadata": {
    "ExecuteTime": {
     "end_time": "2022-05-09T13:04:09.145176Z",
     "start_time": "2022-05-09T13:04:09.140990Z"
    }
   },
   "outputs": [],
   "source": [
    "libraries = sorted(['library_15_1', 'library_13_2', 'library_9_1', \n",
    "             'library_10_1', 'library_11_2', 'library_12_1',\n",
    "             'library_12_2', 'library_13_1', 'library_10_2',\n",
    "             'library_14_2'])"
   ]
  },
  {
   "cell_type": "markdown",
   "metadata": {},
   "source": [
    "# Maps"
   ]
  },
  {
   "cell_type": "code",
   "execution_count": null,
   "metadata": {
    "ExecuteTime": {
     "end_time": "2022-05-09T13:04:11.191260Z",
     "start_time": "2022-05-09T13:04:11.186249Z"
    }
   },
   "outputs": [],
   "source": [
    "mapFiles = [mapDir/f'{lib}.annotated.csv' for lib in libraries]"
   ]
  },
  {
   "cell_type": "code",
   "execution_count": null,
   "metadata": {
    "ExecuteTime": {
     "end_time": "2022-05-09T13:04:12.722454Z",
     "start_time": "2022-05-09T13:04:12.409315Z"
    }
   },
   "outputs": [],
   "source": [
    "mapsDf = pd.concat([pd.read_csv(f).assign(library=f.name.split('.annotated.csv')[0]) \n",
    "                    for f in mapFiles])"
   ]
  },
  {
   "cell_type": "code",
   "execution_count": null,
   "metadata": {
    "ExecuteTime": {
     "end_time": "2022-05-05T08:45:08.183036Z",
     "start_time": "2022-05-05T08:45:08.062797Z"
    }
   },
   "outputs": [],
   "source": [
    "mapsDf.to_csv(mapDir/\"10_libraries_concatenated_map.csv\")"
   ]
  },
  {
   "cell_type": "code",
   "execution_count": null,
   "metadata": {
    "ExecuteTime": {
     "end_time": "2022-05-09T13:05:23.773089Z",
     "start_time": "2022-05-09T13:05:23.203512Z"
    }
   },
   "outputs": [],
   "source": [
    "allMaps = list(mapDir.glob('*.annotated.csv'))\n",
    "allMapsDf = pd.concat([pd.read_csv(f).assign(library=f.name.split('.annotated.csv')[0]) \n",
    "                    for f in allMaps])"
   ]
  },
  {
   "cell_type": "code",
   "execution_count": null,
   "metadata": {
    "ExecuteTime": {
     "end_time": "2022-05-09T13:09:30.355387Z",
     "start_time": "2022-05-09T13:09:30.351028Z"
    }
   },
   "outputs": [],
   "source": [
    "from itertools import combinations\n",
    "import random"
   ]
  },
  {
   "cell_type": "code",
   "execution_count": null,
   "metadata": {
    "ExecuteTime": {
     "end_time": "2022-05-09T13:06:11.076618Z",
     "start_time": "2022-05-09T13:06:11.066767Z"
    }
   },
   "outputs": [],
   "source": [
    "all_libs = allMapsDf.library.unique()"
   ]
  },
  {
   "cell_type": "code",
   "execution_count": null,
   "metadata": {
    "ExecuteTime": {
     "end_time": "2022-05-09T13:23:45.298703Z",
     "start_time": "2022-05-09T13:23:45.290363Z"
    }
   },
   "outputs": [],
   "source": [
    "def get_genes_disrupted(df, all_libs, r=2):\n",
    "    lib_combs = list(combinations(all_libs, r))\n",
    "    if len(lib_combs) > 1000:\n",
    "        lib_combs = random.choices(lib_combs, k=1000)\n",
    "    genes_with_disruptions = []\n",
    "    for c in lib_combs:\n",
    "        fdf = df[df.library.isin(c)].copy()\n",
    "        ngenes = fdf[fdf.distance_to_feature == 0].Name.nunique()\n",
    "        genes_with_disruptions.append(ngenes)\n",
    "    return genes_with_disruptions"
   ]
  },
  {
   "cell_type": "code",
   "execution_count": null,
   "metadata": {
    "ExecuteTime": {
     "end_time": "2022-05-09T13:30:14.242526Z",
     "start_time": "2022-05-09T13:28:41.676416Z"
    }
   },
   "outputs": [],
   "source": [
    "dfl = []\n",
    "for i in range(1,21):\n",
    "    genes = get_genes_disrupted(allMapsDf, all_libs, i)\n",
    "    Ngenomes = [i]*len(genes)\n",
    "    dfl.append(pd.DataFrame([Ngenomes, genes]).T)"
   ]
  },
  {
   "cell_type": "code",
   "execution_count": null,
   "metadata": {
    "ExecuteTime": {
     "end_time": "2022-05-09T13:35:22.280206Z",
     "start_time": "2022-05-09T13:35:22.272943Z"
    }
   },
   "outputs": [],
   "source": [
    "fdf = pd.concat(dfl)\n",
    "fdf.columns = ['Number of libraries', 'Number of genes with an insertion']"
   ]
  },
  {
   "cell_type": "code",
   "execution_count": null,
   "metadata": {
    "ExecuteTime": {
     "end_time": "2022-05-09T13:36:05.921599Z",
     "start_time": "2022-05-09T13:36:05.634130Z"
    }
   },
   "outputs": [],
   "source": [
    "sns.boxplot(data=fdf, x='Number of libraries', y='Number of genes with an insertion')\n",
    "plt.axvline(x=9, color='grey', linestyle='--')"
   ]
  },
  {
   "cell_type": "markdown",
   "metadata": {},
   "source": [
    "## Summary Statistics"
   ]
  },
  {
   "cell_type": "code",
   "execution_count": null,
   "metadata": {
    "ExecuteTime": {
     "end_time": "2022-05-05T08:49:54.292038Z",
     "start_time": "2022-05-05T08:49:54.259311Z"
    }
   },
   "outputs": [],
   "source": [
    "table1 = (mapsDf.groupby('library')\n",
    "          .agg({'barcode':['nunique'], 'multimap':['sum'], \n",
    "                'distance_to_feature': [lambda x: sum(x!=0) ]})\n",
    "          .reset_index())\n",
    "table1.columns = [\"Library\", '# of insertions', \n",
    "                 '# of barcodes mapped to multiple locations', '# of insertions outside of CDS']\n",
    "table1 = table1.set_index('Library')\n",
    "table1['# of gene with insertion'] = mapsDf[mapsDf.distance_to_feature == 0].groupby('library').Name.nunique()\n",
    "\n",
    "table1 = table1[['# of insertions', '# of insertions outside of CDS','# of gene with insertion', \n",
    "                '# of barcodes mapped to multiple locations']]\n",
    "# # table1['Library'] = table1.Library.str.replace(\"_\", '-')"
   ]
  },
  {
   "cell_type": "code",
   "execution_count": null,
   "metadata": {
    "ExecuteTime": {
     "end_time": "2022-05-05T08:49:56.120634Z",
     "start_time": "2022-05-05T08:49:56.107928Z"
    }
   },
   "outputs": [],
   "source": [
    "table1.style.set_table_styles([dict(selector=\"th\",props=[('max-width', '100px')])])"
   ]
  },
  {
   "cell_type": "code",
   "execution_count": null,
   "metadata": {
    "ExecuteTime": {
     "end_time": "2022-05-05T08:51:47.372082Z",
     "start_time": "2022-05-05T08:51:47.362422Z"
    }
   },
   "outputs": [],
   "source": [
    "table1.sum()"
   ]
  },
  {
   "cell_type": "code",
   "execution_count": null,
   "metadata": {
    "ExecuteTime": {
     "end_time": "2022-05-05T08:53:32.752468Z",
     "start_time": "2022-05-05T08:53:32.725378Z"
    }
   },
   "outputs": [],
   "source": [
    "f\"Number of unique insertions: {mapsDf.barcode.nunique()}\"\n",
    "f\"Number of genes disrupted: {mapsDf[~mapsDf.Name.str.contains(':')].Name.nunique()}\""
   ]
  },
  {
   "cell_type": "code",
   "execution_count": null,
   "metadata": {
    "ExecuteTime": {
     "end_time": "2022-05-05T08:54:10.257327Z",
     "start_time": "2022-05-05T08:54:10.232486Z"
    }
   },
   "outputs": [],
   "source": [
    "table2 = mapsDf.groupby(['library', 'Name']).barcode.nunique().reset_index()"
   ]
  },
  {
   "cell_type": "code",
   "execution_count": null,
   "metadata": {
    "ExecuteTime": {
     "end_time": "2022-05-04T09:36:13.199026Z",
     "start_time": "2022-05-04T09:36:13.183610Z"
    }
   },
   "outputs": [],
   "source": [
    "table2[table2.barcode >20]"
   ]
  },
  {
   "cell_type": "markdown",
   "metadata": {},
   "source": [
    "## Number of times each gene was disrupted"
   ]
  },
  {
   "cell_type": "code",
   "execution_count": null,
   "metadata": {
    "ExecuteTime": {
     "end_time": "2022-05-05T08:54:26.490261Z",
     "start_time": "2022-05-05T08:54:26.485445Z"
    }
   },
   "outputs": [],
   "source": [
    "gff_file = Path(\"/nfs/cds-peta/exports/biol_micro_cds_gr_sunagawa/scratch/Projects_NCCR/\"+\n",
    "                \"ref/SL1344/ncbi-genomes-2021-08-25/GCA_000210855.2_ASM21085v2_genomic.gff\")"
   ]
  },
  {
   "cell_type": "code",
   "execution_count": null,
   "metadata": {
    "ExecuteTime": {
     "end_time": "2022-05-05T08:54:31.001952Z",
     "start_time": "2022-05-05T08:54:30.832050Z"
    }
   },
   "outputs": [],
   "source": [
    "gffDf = pd.read_table(gff_file, skiprows=7, header=None)\n",
    "gffDf.columns = ['chr', 'src', 'feat_id', 'start', 'end', 'DN', 'strand', 'DN2', 'attribute']\n",
    "gffDf = gffDf[['chr', 'feat_id', 'start', 'end', 'strand' , 'attribute']]\n",
    "gffDf = gffDf[gffDf.chr == 'FQ312003.1']\n",
    "gffDf = gffDf[gffDf.feat_id == 'gene']\n",
    "gffDf['geneLen'] = abs(gffDf['end'] - gffDf['start'])/1000\n",
    "gffDf['Name'] = gffDf.attribute.apply(lambda x: x.split(\"Name=\")[1].split(\";\")[0])\n",
    "gffDf['locus_tag'] = gffDf.attribute.apply(lambda x: x.split(\"locus_tag=\")[1].split(\";\")[0] if 'locus_tag' in x else None)\n",
    "gffDf.sample(5)"
   ]
  },
  {
   "cell_type": "code",
   "execution_count": null,
   "metadata": {
    "ExecuteTime": {
     "end_time": "2022-05-05T09:06:57.064681Z",
     "start_time": "2022-05-05T09:06:57.055963Z"
    }
   },
   "outputs": [],
   "source": [
    "2904/gffDf.Name.nunique()"
   ]
  },
  {
   "cell_type": "code",
   "execution_count": null,
   "metadata": {
    "ExecuteTime": {
     "end_time": "2022-05-05T08:54:55.834837Z",
     "start_time": "2022-05-05T08:54:55.788623Z"
    }
   },
   "outputs": [],
   "source": [
    "num_libs = mapsDf[mapsDf.library.isin(libraries)].groupby('Name').library.nunique().reset_index()\n",
    "num_libs.columns = ['Name', 'num_libs']\n",
    "num_libs = num_libs[~num_libs.Name.str.contains(\":\")]\n",
    "num_libs = num_libs.merge(gffDf,how='outer', on=['Name']).fillna(0)\n",
    "num_libs.sample(10)"
   ]
  },
  {
   "cell_type": "code",
   "execution_count": null,
   "metadata": {
    "ExecuteTime": {
     "end_time": "2022-05-05T09:08:01.983094Z",
     "start_time": "2022-05-05T09:08:01.852994Z"
    }
   },
   "outputs": [],
   "source": [
    "sns.set(font_scale=1.5)\n",
    "sns.set_style('ticks')\n",
    "fig, ax = plt.subplots(figsize=(12,6))\n",
    "sns.histplot(data=num_libs, discrete=True,\n",
    "             x='num_libs',  color=(0.20973515, 0.09747934, 0.24238489), bins=20)\n",
    "ax.set_xticks(range(0,11));\n",
    "plt.xlim(-1, 11);\n",
    "plt.xlabel(\"Number of libraries with gene disruption\")"
   ]
  },
  {
   "cell_type": "code",
   "execution_count": null,
   "metadata": {
    "ExecuteTime": {
     "end_time": "2022-05-05T09:10:29.187948Z",
     "start_time": "2022-05-05T09:10:29.176941Z"
    }
   },
   "outputs": [],
   "source": [
    "num_libs.num_libs.value_counts(normalize=True)"
   ]
  },
  {
   "cell_type": "code",
   "execution_count": null,
   "metadata": {
    "ExecuteTime": {
     "end_time": "2022-05-05T09:11:22.929618Z",
     "start_time": "2022-05-05T09:11:22.922895Z"
    }
   },
   "outputs": [],
   "source": [
    "1-.38-.22\n"
   ]
  },
  {
   "cell_type": "markdown",
   "metadata": {},
   "source": [
    "## Number of insertion per gene"
   ]
  },
  {
   "cell_type": "code",
   "execution_count": null,
   "metadata": {
    "ExecuteTime": {
     "end_time": "2022-05-05T09:25:10.242963Z",
     "start_time": "2022-05-05T09:25:10.218606Z"
    }
   },
   "outputs": [],
   "source": [
    "lib = 'library_15_1'\n",
    "lib102 = mapsDf[(mapsDf.library == lib) & (~mapsDf.Name.str.contains(':'))]\n",
    "bc_per_gene = lib102.groupby('Name').barcode.nunique().reset_index()\n",
    "#bc_per_gene = bc_per_gene.merge(gffDf,how='outer', on=['Name']).fillna(0)"
   ]
  },
  {
   "cell_type": "code",
   "execution_count": null,
   "metadata": {
    "ExecuteTime": {
     "end_time": "2022-05-05T09:25:15.572205Z",
     "start_time": "2022-05-05T09:25:15.558522Z"
    }
   },
   "outputs": [],
   "source": [
    "bc_per_gene"
   ]
  },
  {
   "cell_type": "code",
   "execution_count": null,
   "metadata": {
    "ExecuteTime": {
     "end_time": "2022-05-05T09:14:52.564384Z",
     "start_time": "2022-05-05T09:14:52.556089Z"
    }
   },
   "outputs": [],
   "source": [
    "bc_per_gene[bc_per_gene.barcode == 0].shape"
   ]
  },
  {
   "cell_type": "code",
   "execution_count": null,
   "metadata": {
    "ExecuteTime": {
     "end_time": "2022-05-04T10:42:49.859999Z",
     "start_time": "2022-05-04T10:42:49.849986Z"
    }
   },
   "outputs": [],
   "source": [
    "bc_per_gene[bc_per_gene.barcode == 1].shape"
   ]
  },
  {
   "cell_type": "code",
   "execution_count": null,
   "metadata": {
    "ExecuteTime": {
     "end_time": "2022-05-04T10:43:06.723798Z",
     "start_time": "2022-05-04T10:43:06.716236Z"
    }
   },
   "outputs": [],
   "source": [
    "bc_per_gene[bc_per_gene.barcode > 1].shape"
   ]
  },
  {
   "cell_type": "code",
   "execution_count": null,
   "metadata": {
    "ExecuteTime": {
     "end_time": "2022-05-05T09:24:45.667775Z",
     "start_time": "2022-05-05T09:24:45.656543Z"
    }
   },
   "outputs": [],
   "source": [
    "bc_per_gene[~bc_per_gene.Name.str.contains(\":\")].barcode.median()"
   ]
  },
  {
   "cell_type": "code",
   "execution_count": null,
   "metadata": {
    "ExecuteTime": {
     "end_time": "2022-05-05T09:15:07.636862Z",
     "start_time": "2022-05-05T09:15:07.474130Z"
    }
   },
   "outputs": [],
   "source": [
    "sns.histplot(data=bc_per_gene, discrete=True,\n",
    "             x='barcode',  color=(0.20973515, 0.09747934, 0.24238489), bins=10)"
   ]
  },
  {
   "cell_type": "code",
   "execution_count": null,
   "metadata": {
    "ExecuteTime": {
     "end_time": "2022-05-05T09:25:46.651264Z",
     "start_time": "2022-05-05T09:25:46.614629Z"
    }
   },
   "outputs": [],
   "source": [
    "num_insertions = mapsDf[~mapsDf.Name.str.contains(':')].groupby(['library','Name']).barcode.nunique().reset_index()\n",
    "num_insertions.columns = ['library', 'Name', 'num_insertions']\n",
    "gene_insertions = num_insertions.merge(gffDf,how='outer', on=['Name'])"
   ]
  },
  {
   "cell_type": "code",
   "execution_count": null,
   "metadata": {
    "ExecuteTime": {
     "end_time": "2022-05-05T09:26:20.424100Z",
     "start_time": "2022-05-05T09:26:20.417670Z"
    }
   },
   "outputs": [],
   "source": [
    "gene_insertions['num_insertions'] = gene_insertions['num_insertions'].fillna(0)\n"
   ]
  },
  {
   "cell_type": "code",
   "execution_count": null,
   "metadata": {
    "ExecuteTime": {
     "end_time": "2022-05-05T09:26:22.267368Z",
     "start_time": "2022-05-05T09:26:22.244500Z"
    }
   },
   "outputs": [],
   "source": [
    "gene_insertions.sample(10)"
   ]
  },
  {
   "cell_type": "code",
   "execution_count": null,
   "metadata": {
    "ExecuteTime": {
     "end_time": "2022-05-05T09:26:31.608281Z",
     "start_time": "2022-05-05T09:26:31.601606Z"
    }
   },
   "outputs": [],
   "source": [
    "gene_insertions['geneIns'] = gene_insertions['num_insertions']/gene_insertions['geneLen']"
   ]
  },
  {
   "cell_type": "code",
   "execution_count": null,
   "metadata": {
    "ExecuteTime": {
     "end_time": "2022-05-05T09:26:43.708506Z",
     "start_time": "2022-05-05T09:26:43.500605Z"
    }
   },
   "outputs": [],
   "source": [
    "gene_insertions[gene_insertions.geneIns > 0].num_insertions.hist(bins=100)"
   ]
  },
  {
   "cell_type": "code",
   "execution_count": null,
   "metadata": {
    "ExecuteTime": {
     "end_time": "2022-05-05T09:27:33.578622Z",
     "start_time": "2022-05-05T09:27:33.553625Z"
    }
   },
   "outputs": [],
   "source": [
    "gene_insertions[gene_insertions.geneIns > 0].groupby('library').geneLen.median()"
   ]
  },
  {
   "cell_type": "code",
   "execution_count": null,
   "metadata": {
    "ExecuteTime": {
     "end_time": "2022-05-05T09:28:11.287037Z",
     "start_time": "2022-05-05T09:28:11.272159Z"
    }
   },
   "outputs": [],
   "source": [
    "gene_insertions[gene_insertions.geneIns > 0].groupby('library').num_insertions.median()"
   ]
  },
  {
   "cell_type": "code",
   "execution_count": null,
   "metadata": {
    "ExecuteTime": {
     "end_time": "2022-05-05T09:28:27.040402Z",
     "start_time": "2022-05-05T09:28:27.026782Z"
    }
   },
   "outputs": [],
   "source": [
    "gene_insertions[gene_insertions.geneIns > 0].groupby('library').geneIns.median().mean()"
   ]
  },
  {
   "cell_type": "code",
   "execution_count": null,
   "metadata": {},
   "outputs": [],
   "source": [
    "(gene_insertions.geneIns > 0) & "
   ]
  },
  {
   "cell_type": "code",
   "execution_count": null,
   "metadata": {
    "ExecuteTime": {
     "end_time": "2022-05-05T09:34:59.495789Z",
     "start_time": "2022-05-05T09:34:59.270879Z"
    }
   },
   "outputs": [],
   "source": [
    "sns.set(font_scale=2)\n",
    "sns.set_style('ticks')\n",
    "fig = plt.figure(figsize=(12,8))\n",
    "sns.histplot(data=gene_insertions[(gene_insertions.library == 'library_10_2')], \n",
    "             x='geneIns',  color=(0.20973515, 0.09747934, 0.24238489), bins=100)\n",
    "plt.xlabel (\"# of insertions / Kb\")\n",
    "plt.ylabel(\"Count\")"
   ]
  },
  {
   "cell_type": "code",
   "execution_count": null,
   "metadata": {
    "ExecuteTime": {
     "end_time": "2022-05-05T09:31:00.343267Z",
     "start_time": "2022-05-05T09:31:00.130968Z"
    }
   },
   "outputs": [],
   "source": [
    "gene_insertions[(gene_insertions.library == 'library_10_2')].geneIns.hist(bins=100)\n",
    "#plt.yscale('log')"
   ]
  },
  {
   "cell_type": "code",
   "execution_count": null,
   "metadata": {
    "ExecuteTime": {
     "end_time": "2022-05-05T09:35:52.562214Z",
     "start_time": "2022-05-05T09:35:52.554228Z"
    }
   },
   "outputs": [],
   "source": [
    "gene_insertions.geneIns.max()"
   ]
  },
  {
   "cell_type": "code",
   "execution_count": null,
   "metadata": {
    "ExecuteTime": {
     "end_time": "2022-05-05T09:46:32.389201Z",
     "start_time": "2022-05-05T09:46:32.374686Z"
    }
   },
   "outputs": [],
   "source": [
    "hiIns = gene_insertions[gene_insertions.geneIns > 6].groupby(['Name', 'start']).agg({'geneIns': ['mean', 'count']}).reset_index()"
   ]
  },
  {
   "cell_type": "code",
   "execution_count": null,
   "metadata": {
    "ExecuteTime": {
     "end_time": "2022-05-05T09:46:33.534433Z",
     "start_time": "2022-05-05T09:46:33.529395Z"
    }
   },
   "outputs": [],
   "source": [
    "hiIns.columns = ['Name', 'start', 'geneIns', 'count']"
   ]
  },
  {
   "cell_type": "code",
   "execution_count": null,
   "metadata": {
    "ExecuteTime": {
     "end_time": "2022-05-05T09:46:33.763636Z",
     "start_time": "2022-05-05T09:46:33.709497Z"
    }
   },
   "outputs": [],
   "source": [
    "fig = px.scatter(hiIns, x='start', y='geneIns', hover_data=['Name'])\n",
    "fig.update_layout({'paper_bgcolor': 'rgba(0,0,0,0)', 'plot_bgcolor': 'rgba(0,0,0,0)'}, autosize=True,\n",
    "                              font=dict(size=16))\n",
    "fig.update_traces(marker=dict(size=8, opacity=0.7,\n",
    "                                      line=dict(width=2,\n",
    "                                                color='DarkSlateGrey')),\n",
    "                          selector=dict(mode='markers'))"
   ]
  },
  {
   "cell_type": "markdown",
   "metadata": {},
   "source": [
    "# Results"
   ]
  },
  {
   "cell_type": "code",
   "execution_count": null,
   "metadata": {
    "ExecuteTime": {
     "end_time": "2022-05-05T10:00:38.595478Z",
     "start_time": "2022-05-05T10:00:38.590412Z"
    }
   },
   "outputs": [],
   "source": [
    "result_files = [resultDir/f\"{lib}_rra_results.csv\" for lib in libraries]"
   ]
  },
  {
   "cell_type": "code",
   "execution_count": null,
   "metadata": {
    "ExecuteTime": {
     "end_time": "2022-05-05T10:00:40.005968Z",
     "start_time": "2022-05-05T10:00:39.998873Z"
    }
   },
   "outputs": [],
   "source": [
    "result_files"
   ]
  },
  {
   "cell_type": "code",
   "execution_count": null,
   "metadata": {
    "ExecuteTime": {
     "end_time": "2022-05-05T10:00:44.983013Z",
     "start_time": "2022-05-05T10:00:44.638740Z"
    }
   },
   "outputs": [],
   "source": [
    "res = pd.concat([pd.read_csv(f, index_col=0).assign(library=f.stem.split(\"_rra\")[0]) for f in result_files])"
   ]
  },
  {
   "cell_type": "code",
   "execution_count": null,
   "metadata": {
    "ExecuteTime": {
     "end_time": "2022-05-05T10:00:46.203498Z",
     "start_time": "2022-05-05T10:00:46.182940Z"
    }
   },
   "outputs": [],
   "source": [
    "res.sample(10)"
   ]
  },
  {
   "cell_type": "code",
   "execution_count": null,
   "metadata": {
    "ExecuteTime": {
     "end_time": "2022-05-05T10:11:17.193400Z",
     "start_time": "2022-05-05T10:11:17.054750Z"
    }
   },
   "outputs": [],
   "source": [
    "res.to_csv(resultDir/\"05-05-2022-concatenated-results-10-libraries.csv\", index=False)"
   ]
  },
  {
   "cell_type": "code",
   "execution_count": null,
   "metadata": {
    "ExecuteTime": {
     "end_time": "2022-05-04T13:02:06.876551Z",
     "start_time": "2022-05-04T13:02:06.861211Z"
    }
   },
   "outputs": [],
   "source": [
    "day1_genes = res[(res.contrast == 'd1') & (res.LFC < -1) & (res.neg_selection_fdr < 0.01)].Name.unique()"
   ]
  },
  {
   "cell_type": "code",
   "execution_count": null,
   "metadata": {
    "ExecuteTime": {
     "end_time": "2022-05-04T13:02:08.335069Z",
     "start_time": "2022-05-04T13:02:08.330160Z"
    }
   },
   "outputs": [],
   "source": [
    "day1_genes = [g for g in day1_genes if ':' not in g]"
   ]
  },
  {
   "cell_type": "code",
   "execution_count": null,
   "metadata": {
    "ExecuteTime": {
     "end_time": "2022-05-04T13:02:09.690838Z",
     "start_time": "2022-05-04T13:02:09.653093Z"
    }
   },
   "outputs": [],
   "source": [
    "for g in day1_genes:\n",
    "    print(g)"
   ]
  },
  {
   "cell_type": "code",
   "execution_count": null,
   "metadata": {
    "ExecuteTime": {
     "end_time": "2022-05-05T14:01:16.888429Z",
     "start_time": "2022-05-05T14:01:16.863237Z"
    }
   },
   "outputs": [],
   "source": [
    "(res[(res.Name.isin(['sapA', 'sapF', 'sapD', 'oppF', 'oppA', 'yeiH'])) & (res.contrast == 'd1')]\n",
    ".sort_values('Name'))[['Name', 'LFC','neg_selection_fdr', 'library']]"
   ]
  },
  {
   "cell_type": "code",
   "execution_count": null,
   "metadata": {
    "ExecuteTime": {
     "end_time": "2022-05-04T13:10:36.783661Z",
     "start_time": "2022-05-04T13:10:36.757505Z"
    }
   },
   "outputs": [],
   "source": [
    "res[(res.Name.isin(['recA', 'recB', 'recC','recD', 'recG', 'recO'])) & (res.contrast == 'd1')].sort_values('Name')"
   ]
  },
  {
   "cell_type": "code",
   "execution_count": null,
   "metadata": {},
   "outputs": [],
   "source": []
  }
 ],
 "metadata": {
  "kernelspec": {
   "display_name": "Python 3 (ipykernel)",
   "language": "python",
   "name": "python3"
  },
  "language_info": {
   "codemirror_mode": {
    "name": "ipython",
    "version": 3
   },
   "file_extension": ".py",
   "mimetype": "text/x-python",
   "name": "python",
   "nbconvert_exporter": "python",
   "pygments_lexer": "ipython3",
   "version": "3.8.12"
  },
  "toc": {
   "base_numbering": 1,
   "nav_menu": {},
   "number_sections": true,
   "sideBar": true,
   "skip_h1_title": false,
   "title_cell": "Table of Contents",
   "title_sidebar": "Contents",
   "toc_cell": false,
   "toc_position": {},
   "toc_section_display": true,
   "toc_window_display": true
  }
 },
 "nbformat": 4,
 "nbformat_minor": 4
}
