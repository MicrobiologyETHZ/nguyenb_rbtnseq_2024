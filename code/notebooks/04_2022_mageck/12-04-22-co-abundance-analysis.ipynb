{
 "cells": [
  {
   "cell_type": "code",
   "execution_count": null,
   "metadata": {
    "ExecuteTime": {
     "end_time": "2022-04-12T12:47:16.700278Z",
     "start_time": "2022-04-12T12:47:15.859522Z"
    }
   },
   "outputs": [],
   "source": [
    "# %load ../snippets/basic_settings.py\n",
    "import pandas as pd\n",
    "import numpy as np\n",
    "import matplotlib.pyplot as plt\n",
    "import os\n",
    "from pathlib import Path\n",
    "import seaborn as sns\n",
    "import sys\n",
    "import plotly.express as px\n",
    "\n",
    "sns.set_context(\"notebook\", font_scale=1.1)\n",
    "pd.set_option(\"display.max_columns\", 100)\n",
    "pd.set_option(\"display.max_rows\", 100)\n",
    "plt.rcParams[\"figure.figsize\"] = (16, 12)\n",
    "plt.rcParams['savefig.dpi'] = 200\n",
    "plt.rcParams['figure.autolayout'] = False\n",
    "plt.rcParams['axes.labelsize'] = 18\n",
    "plt.rcParams['axes.titlesize'] = 20\n",
    "plt.rcParams['font.size'] = 16\n",
    "plt.rcParams['lines.linewidth'] = 2.0\n",
    "plt.rcParams['lines.markersize'] = 8\n",
    "plt.rcParams['legend.fontsize'] = 14\n",
    "plt.rcParams['text.usetex'] = False  # True activates latex output in fonts!\n",
    "plt.rcParams['font.family'] = \"serif\"\n",
    "plt.rcParams['font.serif'] = \"cm\"\n",
    "pd.set_option('display.float_format', lambda x: '{:,.2f}'.format(x))"
   ]
  },
  {
   "cell_type": "code",
   "execution_count": null,
   "metadata": {
    "ExecuteTime": {
     "end_time": "2022-04-12T13:00:57.335675Z",
     "start_time": "2022-04-12T13:00:57.071316Z"
    }
   },
   "outputs": [],
   "source": [
    "dataDir = Path(\"/nfs/nas22/fs2202/biol_micro_bioinf_nccr/hardt/nguyenb/tnseq/scratch/03_22/counts\")\n",
    "countData = pd.read_csv(dataDir/\"dnaid1315_mbarq_merged_counts.csv\")\n",
    "sampleData = pd.read_csv(dataDir/\"example_sample_data.csv\")"
   ]
  },
  {
   "cell_type": "code",
   "execution_count": null,
   "metadata": {
    "ExecuteTime": {
     "end_time": "2022-04-12T12:48:04.944728Z",
     "start_time": "2022-04-12T12:48:04.880093Z"
    }
   },
   "outputs": [],
   "source": [
    "countData.head()"
   ]
  },
  {
   "cell_type": "code",
   "execution_count": null,
   "metadata": {
    "ExecuteTime": {
     "end_time": "2022-04-12T13:01:23.540143Z",
     "start_time": "2022-04-12T13:01:23.526283Z"
    }
   },
   "outputs": [],
   "source": [
    "sampleData.head()"
   ]
  },
  {
   "cell_type": "code",
   "execution_count": null,
   "metadata": {
    "ExecuteTime": {
     "end_time": "2022-04-12T14:32:51.667816Z",
     "start_time": "2022-04-12T14:32:51.644449Z"
    }
   },
   "outputs": [],
   "source": [
    "countData[countData.Name == 'rfaI']"
   ]
  },
  {
   "cell_type": "code",
   "execution_count": null,
   "metadata": {
    "ExecuteTime": {
     "end_time": "2022-04-12T14:42:54.094036Z",
     "start_time": "2022-04-12T14:42:54.083476Z"
    }
   },
   "outputs": [],
   "source": [
    "day1 = sampleData[sampleData.day.isin(['d1'])]\n",
    "day1"
   ]
  },
  {
   "cell_type": "code",
   "execution_count": null,
   "metadata": {
    "ExecuteTime": {
     "end_time": "2022-04-12T14:42:55.652189Z",
     "start_time": "2022-04-12T14:42:55.567542Z"
    }
   },
   "outputs": [],
   "source": [
    "day1Cnts = countData[['barcode', 'Name'] + list(day1.sampleID.values)].set_index(['barcode', 'Name'])\n",
    "day1Cnts = day1Cnts[day1Cnts.sum(axis=1)>500]\n",
    "day1Cnts = np.log2(day1Cnts/day1Cnts.sum()*1000000 + 0.5)"
   ]
  },
  {
   "cell_type": "code",
   "execution_count": null,
   "metadata": {
    "ExecuteTime": {
     "end_time": "2022-04-12T14:42:55.942592Z",
     "start_time": "2022-04-12T14:42:55.928948Z"
    }
   },
   "outputs": [],
   "source": [
    "varBcs = day1Cnts.var(axis=1).sort_values().tail(100).reset_index().barcode.values"
   ]
  },
  {
   "cell_type": "code",
   "execution_count": null,
   "metadata": {
    "ExecuteTime": {
     "end_time": "2022-04-12T14:42:56.191104Z",
     "start_time": "2022-04-12T14:42:56.182822Z"
    }
   },
   "outputs": [],
   "source": [
    "varBcs"
   ]
  },
  {
   "cell_type": "code",
   "execution_count": null,
   "metadata": {
    "ExecuteTime": {
     "end_time": "2022-04-12T14:42:56.651191Z",
     "start_time": "2022-04-12T14:42:56.635149Z"
    }
   },
   "outputs": [],
   "source": [
    "df = day1Cnts.reset_index()\n",
    "df = df[df.barcode.isin(varBcs)].drop(['Name'], axis=1).set_index('barcode').drop_duplicates()"
   ]
  },
  {
   "cell_type": "code",
   "execution_count": null,
   "metadata": {
    "ExecuteTime": {
     "end_time": "2022-04-12T14:42:57.019325Z",
     "start_time": "2022-04-12T14:42:57.005305Z"
    }
   },
   "outputs": [],
   "source": [
    "df2 = df.T.corr()\n",
    "df2.columns.name = 'barcode2'\n",
    "df2 = df2.reset_index().melt(id_vars=['barcode'])\n",
    "df2['r2'] = df2.value**2"
   ]
  },
  {
   "cell_type": "code",
   "execution_count": null,
   "metadata": {
    "ExecuteTime": {
     "end_time": "2022-04-12T14:42:57.753670Z",
     "start_time": "2022-04-12T14:42:57.744469Z"
    }
   },
   "outputs": [],
   "source": [
    "df2 = df2[(abs(df2.r2) > 0.8) & (df2.r2 < 0.99)]"
   ]
  },
  {
   "cell_type": "code",
   "execution_count": null,
   "metadata": {
    "ExecuteTime": {
     "end_time": "2022-04-12T14:42:58.307363Z",
     "start_time": "2022-04-12T14:42:58.292227Z"
    }
   },
   "outputs": [],
   "source": [
    "df2.sort_values('value').head(10)"
   ]
  },
  {
   "cell_type": "code",
   "execution_count": null,
   "metadata": {
    "ExecuteTime": {
     "end_time": "2022-04-12T14:43:19.022111Z",
     "start_time": "2022-04-12T14:43:18.864312Z"
    }
   },
   "outputs": [],
   "source": [
    "plt.plot(df.loc['GCAAAAGGCCATAAATG'], df.loc['CGCAACGTACACAACGC'], '.')"
   ]
  },
  {
   "cell_type": "code",
   "execution_count": null,
   "metadata": {
    "ExecuteTime": {
     "end_time": "2022-04-12T14:43:24.513492Z",
     "start_time": "2022-04-12T14:43:24.486185Z"
    }
   },
   "outputs": [],
   "source": [
    "countData[countData.barcode == 'AACATGTGAAACGAACA']"
   ]
  },
  {
   "cell_type": "code",
   "execution_count": null,
   "metadata": {
    "ExecuteTime": {
     "end_time": "2022-04-12T14:43:27.378919Z",
     "start_time": "2022-04-12T14:43:27.328841Z"
    }
   },
   "outputs": [],
   "source": [
    "df3 = (df2.merge(countData[['barcode', 'Name']], on='barcode', how='left')\n",
    " .merge(countData[['barcode', 'Name']], left_on='barcode2', right_on='barcode', how='left'))[['barcode_x', 'barcode2', 'value', 'r2', 'Name_x', 'Name_y']]"
   ]
  },
  {
   "cell_type": "code",
   "execution_count": null,
   "metadata": {
    "ExecuteTime": {
     "end_time": "2022-04-12T15:04:26.347544Z",
     "start_time": "2022-04-12T15:04:26.326538Z"
    }
   },
   "outputs": [],
   "source": [
    "df3[['Name_x', 'Name_y', 'value']].drop_duplicates().sort_values('value').dropna().head(30)"
   ]
  },
  {
   "cell_type": "code",
   "execution_count": null,
   "metadata": {
    "ExecuteTime": {
     "end_time": "2022-04-12T15:00:31.061481Z",
     "start_time": "2022-04-12T15:00:31.046683Z"
    }
   },
   "outputs": [],
   "source": [
    "fdf = day1Cnts.reset_index()\n",
    "fdf = fdf[fdf.Name.isin(['pilR', 'pilP'])]\n",
    "fdf = fdf.melt(id_vars=['barcode', 'Name'], var_name='sampleID', value_name='log2CPM')"
   ]
  },
  {
   "cell_type": "code",
   "execution_count": null,
   "metadata": {
    "ExecuteTime": {
     "end_time": "2022-04-12T15:00:32.656437Z",
     "start_time": "2022-04-12T15:00:32.639518Z"
    }
   },
   "outputs": [],
   "source": [
    "fdf\n"
   ]
  },
  {
   "cell_type": "code",
   "execution_count": null,
   "metadata": {
    "ExecuteTime": {
     "end_time": "2022-04-12T15:01:09.033184Z",
     "start_time": "2022-04-12T15:01:09.027743Z"
    }
   },
   "outputs": [],
   "source": [
    "bcs = ['CGTATCCCAGGATCTGT','TATCGAACCACATCATA']\n",
    "bcs2 = ['AACTATACGGGAACGCC', 'AAGTAACCAGTCGAAGA']\n",
    "#bcs2 = ['AAACAACCGGTACTGAG', 'GGGGTATGAAACTTAAG']\n"
   ]
  },
  {
   "cell_type": "code",
   "execution_count": null,
   "metadata": {
    "ExecuteTime": {
     "end_time": "2022-04-12T15:01:10.459995Z",
     "start_time": "2022-04-12T15:01:10.432741Z"
    }
   },
   "outputs": [],
   "source": [
    "fdf1 = fdf[fdf.barcode.isin(bcs)].pivot(index=[ 'sampleID'], columns='Name').reset_index()\n",
    "fdf2 = (day1Cnts.reset_index()\n",
    "        .melt(id_vars=['barcode', 'Name'], var_name='sampleID', value_name='log2CPM'))\n",
    "fdf2 = fdf2[fdf2.barcode.isin(bcs2)].pivot(index=[ 'sampleID'], columns='Name').reset_index()\n",
    "fdf2.columns =['sampleID', 'barcode_1', 'barcode_2', 'gene1', 'gene2']"
   ]
  },
  {
   "cell_type": "code",
   "execution_count": null,
   "metadata": {
    "ExecuteTime": {
     "end_time": "2022-04-12T15:01:11.618673Z",
     "start_time": "2022-04-12T15:01:11.603523Z"
    }
   },
   "outputs": [],
   "source": [
    "fdf2"
   ]
  },
  {
   "cell_type": "code",
   "execution_count": null,
   "metadata": {
    "ExecuteTime": {
     "end_time": "2022-04-12T15:01:14.837260Z",
     "start_time": "2022-04-12T15:01:14.782148Z"
    }
   },
   "outputs": [],
   "source": [
    "px.scatter(fdf2, x='gene1', y='gene2', hover_data=['sampleID'] )"
   ]
  },
  {
   "cell_type": "code",
   "execution_count": null,
   "metadata": {
    "ExecuteTime": {
     "end_time": "2022-04-12T15:03:37.134983Z",
     "start_time": "2022-04-12T15:03:37.109509Z"
    }
   },
   "outputs": [],
   "source": [
    "countData"
   ]
  },
  {
   "cell_type": "code",
   "execution_count": null,
   "metadata": {
    "ExecuteTime": {
     "end_time": "2022-04-12T14:28:03.376621Z",
     "start_time": "2022-04-12T14:28:03.358372Z"
    }
   },
   "outputs": [],
   "source": [
    "sampleData"
   ]
  },
  {
   "cell_type": "code",
   "execution_count": null,
   "metadata": {},
   "outputs": [],
   "source": []
  }
 ],
 "metadata": {
  "kernelspec": {
   "display_name": "Python 3 (ipykernel)",
   "language": "python",
   "name": "python3"
  },
  "language_info": {
   "codemirror_mode": {
    "name": "ipython",
    "version": 3
   },
   "file_extension": ".py",
   "mimetype": "text/x-python",
   "name": "python",
   "nbconvert_exporter": "python",
   "pygments_lexer": "ipython3",
   "version": "3.8.12"
  },
  "toc": {
   "base_numbering": 1,
   "nav_menu": {},
   "number_sections": true,
   "sideBar": true,
   "skip_h1_title": false,
   "title_cell": "Table of Contents",
   "title_sidebar": "Contents",
   "toc_cell": false,
   "toc_position": {},
   "toc_section_display": true,
   "toc_window_display": false
  }
 },
 "nbformat": 4,
 "nbformat_minor": 4
}
