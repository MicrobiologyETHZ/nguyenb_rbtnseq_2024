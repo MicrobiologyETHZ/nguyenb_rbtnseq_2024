{
 "cells": [
  {
   "cell_type": "code",
   "execution_count": null,
   "metadata": {
    "ExecuteTime": {
     "end_time": "2023-01-27T09:11:59.236664Z",
     "start_time": "2023-01-27T09:11:55.448184Z"
    }
   },
   "outputs": [],
   "source": [
    "# %load ../snippets/basic_settings.py\n",
    "import pandas as pd\n",
    "import numpy as np\n",
    "import matplotlib.pyplot as plt\n",
    "import os\n",
    "from pathlib import Path\n",
    "import seaborn as sns\n",
    "import sys\n",
    "import plotly.express as px\n",
    "import yaml\n",
    "\n",
    "sns.set_context(\"notebook\", font_scale=1.1)\n",
    "pd.set_option(\"display.max_columns\", 100)\n",
    "pd.set_option(\"display.max_rows\", 100)\n",
    "plt.rcParams[\"figure.figsize\"] = (16, 12)\n",
    "plt.rcParams['savefig.dpi'] = 200\n",
    "plt.rcParams['figure.autolayout'] = False\n",
    "plt.rcParams['axes.labelsize'] = 18\n",
    "plt.rcParams['axes.titlesize'] = 20\n",
    "plt.rcParams['font.size'] = 16\n",
    "plt.rcParams['lines.linewidth'] = 2.0\n",
    "plt.rcParams['lines.markersize'] = 8\n",
    "plt.rcParams['legend.fontsize'] = 14\n",
    "plt.rcParams['text.usetex'] = False  # True activates latex output in fonts!\n",
    "plt.rcParams['font.family'] = \"serif\"\n",
    "plt.rcParams['font.serif'] = \"cm\"\n",
    "pd.set_option('display.float_format', lambda x: '{:,.2f}'.format(x))"
   ]
  },
  {
   "cell_type": "code",
   "execution_count": null,
   "metadata": {
    "ExecuteTime": {
     "end_time": "2022-04-12T13:00:57.335675Z",
     "start_time": "2022-04-12T13:00:57.071316Z"
    }
   },
   "outputs": [],
   "source": [
    "# dataDir = Path(\"/nfs/nas22/fs2202/biol_micro_bioinf_nccr/hardt/nguyenb/tnseq/scratch/03_22/counts\")\n",
    "# countData = pd.read_csv(dataDir/\"dnaid1315_mbarq_merged_counts.csv\")\n",
    "# sampleData = pd.read_csv(dataDir/\"example_sample_data.csv\")"
   ]
  },
  {
   "cell_type": "code",
   "execution_count": null,
   "metadata": {
    "ExecuteTime": {
     "end_time": "2023-01-27T09:11:59.249457Z",
     "start_time": "2023-01-27T09:11:59.240974Z"
    }
   },
   "outputs": [],
   "source": [
    "config_file = \"../nguyenb_config.yaml\"\n",
    "with open(config_file) as file:\n",
    "    # The FullLoader parameter handles the conversion from YAML\n",
    "    # scalar values to Python the dictionary format\n",
    "    configs = yaml.load(file, Loader=yaml.FullLoader)"
   ]
  },
  {
   "cell_type": "code",
   "execution_count": null,
   "metadata": {
    "ExecuteTime": {
     "end_time": "2023-01-27T09:11:59.856933Z",
     "start_time": "2023-01-27T09:11:59.852580Z"
    }
   },
   "outputs": [],
   "source": [
    "# Run on server:\n",
    "root = Path(configs['root']['server'])\n",
    "scratchDir = Path(configs['scratchDir']['server'])"
   ]
  },
  {
   "cell_type": "code",
   "execution_count": null,
   "metadata": {
    "ExecuteTime": {
     "end_time": "2023-01-27T09:12:00.200950Z",
     "start_time": "2023-01-27T09:12:00.196341Z"
    }
   },
   "outputs": [],
   "source": [
    "mapDir = root/configs['mapDir']\n",
    "countDir = root/configs['libraryCountsDir']\n",
    "resultDir = root/configs['resultDir']\n",
    "sample_data_file = root/configs['sampleData']\n",
    "control_file_short = root/\"controls_6barcodes.csv\""
   ]
  },
  {
   "cell_type": "code",
   "execution_count": null,
   "metadata": {
    "ExecuteTime": {
     "end_time": "2023-01-25T19:58:22.087541Z",
     "start_time": "2023-01-25T19:58:21.692702Z"
    }
   },
   "outputs": [],
   "source": [
    "%ls /nfs/cds-peta/exports/biol_micro_cds_gr_sunagawa/scratch/ansintsova/Projects_NCCR/hardt/nguyenb/tnseq/scratch/04_22/results"
   ]
  },
  {
   "cell_type": "code",
   "execution_count": null,
   "metadata": {
    "ExecuteTime": {
     "end_time": "2023-01-25T19:58:14.046046Z",
     "start_time": "2023-01-25T19:58:14.038676Z"
    }
   },
   "outputs": [],
   "source": [
    "resultDir"
   ]
  },
  {
   "cell_type": "code",
   "execution_count": null,
   "metadata": {
    "ExecuteTime": {
     "end_time": "2023-01-27T09:12:04.911865Z",
     "start_time": "2023-01-27T09:12:04.906514Z"
    }
   },
   "outputs": [],
   "source": [
    "def read_in_sample_data(sample_data_file, sampleIDs, treatment_col=\"\", batch_col=\"\"):\n",
    "    \"\"\"\n",
    "    add data validation code\n",
    "    \n",
    "    \"\"\"\n",
    "    return pd.read_csv(sample_data_file)"
   ]
  },
  {
   "cell_type": "code",
   "execution_count": null,
   "metadata": {
    "ExecuteTime": {
     "end_time": "2023-01-27T09:12:05.129834Z",
     "start_time": "2023-01-27T09:12:05.123372Z"
    }
   },
   "outputs": [],
   "source": [
    "def read_merged_count_file(merged_count_file):\n",
    "    counts = pd.read_csv(merged_count_file)\n",
    "    annotation_cols = list(counts.columns[0:2])\n",
    "    sampleIDs = list(counts.columns[2:])\n",
    "    return counts, annotation_cols, sampleIDs\n",
    "\n",
    "\n",
    "def calculate_cpms(merged_df, annotation_cols, sampleIDs):\n",
    "    merged_df = merged_df[merged_df.sum(axis=1, numeric_only=True) > 10]\n",
    "    # Normalized for library depth and log transform\n",
    "    cpms = merged_df.copy().set_index(list(annotation_cols))\n",
    "    cpms = np.log2(cpms/cpms.sum()*1000000 +0.5).reset_index()\n",
    "    return cpms"
   ]
  },
  {
   "cell_type": "code",
   "execution_count": null,
   "metadata": {
    "ExecuteTime": {
     "end_time": "2023-01-27T09:12:06.539789Z",
     "start_time": "2023-01-27T09:12:06.106829Z"
    }
   },
   "outputs": [],
   "source": [
    "countData, ann_cols, sampleIDs  = read_merged_count_file(countDir/\"library_13_2_mbarq_merged_counts.csv\")\n",
    "countData = countData.set_index(['barcode', 'Name'])\n",
    "countData = countData[countData.sum(axis=1) > 100].reset_index()\n",
    "sampleData = read_in_sample_data(sample_data_file, sampleIDs)\n",
    "\n"
   ]
  },
  {
   "cell_type": "code",
   "execution_count": null,
   "metadata": {
    "ExecuteTime": {
     "end_time": "2023-01-27T09:55:19.544540Z",
     "start_time": "2023-01-27T09:55:19.498046Z"
    }
   },
   "outputs": [],
   "source": [
    "countData"
   ]
  },
  {
   "cell_type": "code",
   "execution_count": null,
   "metadata": {
    "ExecuteTime": {
     "end_time": "2023-01-27T09:12:08.797838Z",
     "start_time": "2023-01-27T09:12:08.788868Z"
    }
   },
   "outputs": [],
   "source": [
    "# Figure out good samples (from 28-04-2022-mageck-analysis)\n",
    "%store -r good_samples"
   ]
  },
  {
   "cell_type": "code",
   "execution_count": null,
   "metadata": {
    "ExecuteTime": {
     "end_time": "2023-01-27T09:56:49.493269Z",
     "start_time": "2023-01-27T09:56:49.489208Z"
    }
   },
   "outputs": [],
   "source": [
    "good_samples = ['dnaid1315_10',\n",
    " 'dnaid1315_107',\n",
    " 'dnaid1315_117',\n",
    " 'dnaid1315_124',\n",
    " 'dnaid1315_128',\n",
    " 'dnaid1315_129',\n",
    " 'dnaid1315_131',\n",
    " 'dnaid1315_136',\n",
    " 'dnaid1315_17',\n",
    " 'dnaid1315_18',\n",
    " 'dnaid1315_19',\n",
    " 'dnaid1315_20',\n",
    " 'dnaid1315_28',\n",
    " 'dnaid1315_40',\n",
    " 'dnaid1315_42',\n",
    " 'dnaid1315_50',\n",
    " 'dnaid1315_52',\n",
    " 'dnaid1315_66',\n",
    " 'dnaid1315_81',\n",
    " 'dnaid1315_90',\n",
    " 'dnaid1315_92',\n",
    " 'dnaid1315_94',\n",
    " 'dnaid1315_96']\n"
   ]
  },
  {
   "cell_type": "code",
   "execution_count": null,
   "metadata": {
    "ExecuteTime": {
     "end_time": "2023-01-27T09:57:47.187738Z",
     "start_time": "2023-01-27T09:57:47.162280Z"
    }
   },
   "outputs": [],
   "source": [
    "cpms = calculate_cpms(countData, ann_cols, sampleIDs)"
   ]
  },
  {
   "cell_type": "code",
   "execution_count": null,
   "metadata": {
    "ExecuteTime": {
     "end_time": "2023-01-27T09:28:11.585566Z",
     "start_time": "2023-01-27T09:28:11.543085Z"
    }
   },
   "outputs": [],
   "source": [
    "cpms.head()"
   ]
  },
  {
   "cell_type": "code",
   "execution_count": null,
   "metadata": {
    "ExecuteTime": {
     "end_time": "2023-01-27T09:12:11.355532Z",
     "start_time": "2023-01-27T09:12:11.349100Z"
    }
   },
   "outputs": [],
   "source": [
    "day1 = sampleData[(sampleData.day.isin(['d1'])) & (sampleData.sampleID.isin(sampleIDs))]"
   ]
  },
  {
   "cell_type": "code",
   "execution_count": null,
   "metadata": {
    "ExecuteTime": {
     "end_time": "2023-01-27T09:12:11.994541Z",
     "start_time": "2023-01-27T09:12:11.978283Z"
    }
   },
   "outputs": [],
   "source": [
    "day1CPM = cpms[['barcode', 'Name'] + list(day1.sampleID.values)].set_index(['barcode', 'Name'])"
   ]
  },
  {
   "cell_type": "code",
   "execution_count": null,
   "metadata": {
    "ExecuteTime": {
     "end_time": "2023-01-27T09:12:14.880269Z",
     "start_time": "2023-01-27T09:12:14.856844Z"
    }
   },
   "outputs": [],
   "source": [
    "varBcs = day1CPM.var(axis=1).sort_values().reset_index()#.barcode.values\n",
    "varBcs = varBcs.dropna(subset=['Name'])\n",
    "varBcs = varBcs[varBcs[0] > 0.2]"
   ]
  },
  {
   "cell_type": "code",
   "execution_count": null,
   "metadata": {
    "ExecuteTime": {
     "end_time": "2023-01-25T20:14:56.808105Z",
     "start_time": "2023-01-25T20:14:56.796013Z"
    }
   },
   "outputs": [],
   "source": []
  },
  {
   "cell_type": "code",
   "execution_count": null,
   "metadata": {
    "ExecuteTime": {
     "end_time": "2023-01-27T09:12:17.322807Z",
     "start_time": "2023-01-27T09:12:17.300433Z"
    }
   },
   "outputs": [],
   "source": [
    "varBcs"
   ]
  },
  {
   "cell_type": "code",
   "execution_count": null,
   "metadata": {
    "ExecuteTime": {
     "end_time": "2023-01-27T15:26:04.769464Z",
     "start_time": "2023-01-27T15:26:04.743391Z"
    }
   },
   "outputs": [],
   "source": [
    "annot_full[annot_full.Name == 'lipB']"
   ]
  },
  {
   "cell_type": "code",
   "execution_count": null,
   "metadata": {
    "ExecuteTime": {
     "end_time": "2023-01-27T15:18:39.809422Z",
     "start_time": "2023-01-27T15:18:38.941576Z"
    }
   },
   "outputs": [],
   "source": [
    "annot_full = pd.read_csv('/nfs/nas22/fs2202/biol_micro_bioinf_nccr/hardt/nguyenb/tnseq/scratch/10_22/control_norm_analysis/26-10-22-annotated-results.csv')"
   ]
  },
  {
   "cell_type": "code",
   "execution_count": null,
   "metadata": {
    "ExecuteTime": {
     "end_time": "2023-01-27T14:00:35.892907Z",
     "start_time": "2023-01-27T14:00:35.872232Z"
    }
   },
   "outputs": [],
   "source": [
    "annot = annot[['Name', 'KEGG_Pathway']].drop_duplicates()\n",
    "annot['KEGG_Pathway'] = annot['KEGG_Pathway'].fillna('-')\n",
    "#annot['KEGG_Pathway'] = annot['KEGG_Pathway'].str.split(',', expand=True)[0]\n"
   ]
  },
  {
   "cell_type": "code",
   "execution_count": null,
   "metadata": {
    "ExecuteTime": {
     "end_time": "2023-01-27T14:00:36.047367Z",
     "start_time": "2023-01-27T14:00:36.025428Z"
    }
   },
   "outputs": [],
   "source": [
    "d = annot.set_index('Name').to_dict()['KEGG_Pathway']\n",
    "all_genes = d.keys()\n",
    "all_pathways = [p.split(',') for p in d.values()  if type(p)== str]\n",
    "\n",
    "all_pathways = set([a for p in all_pathways for a in p if a.startswith('ko')] )"
   ]
  },
  {
   "cell_type": "code",
   "execution_count": null,
   "metadata": {
    "ExecuteTime": {
     "end_time": "2023-01-27T14:00:36.333095Z",
     "start_time": "2023-01-27T14:00:36.328896Z"
    }
   },
   "outputs": [],
   "source": [
    "d['prgK']"
   ]
  },
  {
   "cell_type": "code",
   "execution_count": null,
   "metadata": {
    "ExecuteTime": {
     "end_time": "2023-01-27T14:02:19.630778Z",
     "start_time": "2023-01-27T14:02:18.940558Z"
    }
   },
   "outputs": [],
   "source": [
    "from collections import defaultdict\n",
    "fd = defaultdict(dict)\n",
    "for gene in all_genes:\n",
    "    for pathway in all_pathways:\n",
    "        if pathway in d[gene]:\n",
    "            fd[pathway][gene] = 1\n",
    "        else:\n",
    "            fd[pathway][gene] = 0"
   ]
  },
  {
   "cell_type": "code",
   "execution_count": null,
   "metadata": {
    "ExecuteTime": {
     "end_time": "2023-01-27T14:03:14.009651Z",
     "start_time": "2023-01-27T14:03:13.494228Z"
    }
   },
   "outputs": [],
   "source": [
    "anot_df = pd.DataFrame(fd)"
   ]
  },
  {
   "cell_type": "code",
   "execution_count": null,
   "metadata": {
    "ExecuteTime": {
     "end_time": "2023-01-27T14:05:05.308670Z",
     "start_time": "2023-01-27T14:05:05.255549Z"
    }
   },
   "outputs": [],
   "source": [
    "anot_df = anot_df.reset_index().rename({'index':'Name'}, axis=1)"
   ]
  },
  {
   "cell_type": "code",
   "execution_count": null,
   "metadata": {
    "ExecuteTime": {
     "end_time": "2023-01-27T14:05:08.405314Z",
     "start_time": "2023-01-27T14:05:08.344371Z"
    }
   },
   "outputs": [],
   "source": [
    "fdf = varBcs[['barcode', 'Name']].merge(cpms, how='left', on=['barcode', 'Name'])\n",
    "full_fdf = fdf.merge(anot_df, how='left', on='Name')"
   ]
  },
  {
   "cell_type": "code",
   "execution_count": null,
   "metadata": {
    "ExecuteTime": {
     "end_time": "2023-01-27T14:05:15.091181Z",
     "start_time": "2023-01-27T14:05:15.046262Z"
    }
   },
   "outputs": [],
   "source": [
    "full_fdf.head()"
   ]
  },
  {
   "cell_type": "code",
   "execution_count": null,
   "metadata": {
    "ExecuteTime": {
     "end_time": "2023-01-27T14:05:31.512345Z",
     "start_time": "2023-01-27T14:05:31.507564Z"
    }
   },
   "outputs": [],
   "source": [
    "fdf.head()\n",
    "X = fdf.iloc[:,2:]"
   ]
  },
  {
   "cell_type": "code",
   "execution_count": null,
   "metadata": {
    "ExecuteTime": {
     "end_time": "2023-01-27T14:05:32.283823Z",
     "start_time": "2023-01-27T14:05:32.268760Z"
    }
   },
   "outputs": [],
   "source": [
    "from sklearn.preprocessing import MinMaxScaler\n",
    "from sklearn.neighbors import KDTree, BallTree\n",
    "s = MinMaxScaler()\n",
    "X_s = s.fit_transform(X)\n",
    "kdt = BallTree(X_s, leaf_size=30,  metric='l1')"
   ]
  },
  {
   "cell_type": "code",
   "execution_count": null,
   "metadata": {
    "ExecuteTime": {
     "end_time": "2023-01-27T14:05:33.032487Z",
     "start_time": "2023-01-27T14:05:33.026070Z"
    }
   },
   "outputs": [],
   "source": [
    "fdf_s = pd.concat([fdf.iloc[:, [0,1]], pd.DataFrame(X_s)], axis=1)"
   ]
  },
  {
   "cell_type": "code",
   "execution_count": null,
   "metadata": {
    "ExecuteTime": {
     "end_time": "2023-01-27T15:16:22.501334Z",
     "start_time": "2023-01-27T15:16:22.496405Z"
    }
   },
   "outputs": [],
   "source": [
    "t1 =fdf_s.iloc[878, 2:].values #rfaL\n",
    "t2 =fdf_s.iloc[997, 2:].values #rfaI\n",
    "t3 =fdf_s.iloc[1059, 2:].values #rfbD"
   ]
  },
  {
   "cell_type": "code",
   "execution_count": null,
   "metadata": {
    "ExecuteTime": {
     "end_time": "2023-01-27T15:16:23.249622Z",
     "start_time": "2023-01-27T15:16:23.219734Z"
    }
   },
   "outputs": [],
   "source": [
    "fdf_s[fdf_s.Name == 'rfaL']"
   ]
  },
  {
   "cell_type": "code",
   "execution_count": null,
   "metadata": {
    "ExecuteTime": {
     "end_time": "2023-01-27T15:17:18.927856Z",
     "start_time": "2023-01-27T15:17:18.923356Z"
    }
   },
   "outputs": [],
   "source": [
    "d1, loci1 = kdt.query([t1],  k=25, return_distance=True)\n",
    "d2, loci2= kdt.query([t2],  k=25, return_distance=True)\n",
    "d3, loci3 = kdt.query([t3],  k=25, return_distance=True)"
   ]
  },
  {
   "cell_type": "code",
   "execution_count": null,
   "metadata": {
    "ExecuteTime": {
     "end_time": "2023-01-27T15:17:19.316920Z",
     "start_time": "2023-01-27T15:17:19.312274Z"
    }
   },
   "outputs": [],
   "source": [
    "d"
   ]
  },
  {
   "cell_type": "code",
   "execution_count": null,
   "metadata": {
    "ExecuteTime": {
     "end_time": "2023-01-27T15:17:19.493721Z",
     "start_time": "2023-01-27T15:17:19.489691Z"
    }
   },
   "outputs": [],
   "source": [
    "n1 = fdf_s.iloc[loci1[0]].Name.values"
   ]
  },
  {
   "cell_type": "code",
   "execution_count": null,
   "metadata": {
    "ExecuteTime": {
     "end_time": "2023-01-27T15:17:19.664808Z",
     "start_time": "2023-01-27T15:17:19.659366Z"
    }
   },
   "outputs": [],
   "source": [
    "n2 = fdf_s.iloc[loci2[0]].Name.values"
   ]
  },
  {
   "cell_type": "code",
   "execution_count": null,
   "metadata": {
    "ExecuteTime": {
     "end_time": "2023-01-27T15:17:19.876221Z",
     "start_time": "2023-01-27T15:17:19.871807Z"
    }
   },
   "outputs": [],
   "source": [
    "n3 = fdf_s.iloc[loci3[0]].Name.values"
   ]
  },
  {
   "cell_type": "code",
   "execution_count": null,
   "metadata": {
    "ExecuteTime": {
     "end_time": "2023-01-27T15:17:20.096676Z",
     "start_time": "2023-01-27T15:17:20.092245Z"
    }
   },
   "outputs": [],
   "source": [
    "n1"
   ]
  },
  {
   "cell_type": "code",
   "execution_count": null,
   "metadata": {
    "ExecuteTime": {
     "end_time": "2023-01-27T15:17:20.578204Z",
     "start_time": "2023-01-27T15:17:20.574148Z"
    }
   },
   "outputs": [],
   "source": [
    "n2"
   ]
  },
  {
   "cell_type": "code",
   "execution_count": null,
   "metadata": {
    "ExecuteTime": {
     "end_time": "2023-01-27T15:17:20.921317Z",
     "start_time": "2023-01-27T15:17:20.916959Z"
    }
   },
   "outputs": [],
   "source": [
    "n3"
   ]
  },
  {
   "cell_type": "code",
   "execution_count": null,
   "metadata": {
    "ExecuteTime": {
     "end_time": "2023-01-27T15:17:21.299121Z",
     "start_time": "2023-01-27T15:17:21.295157Z"
    }
   },
   "outputs": [],
   "source": [
    "n1"
   ]
  },
  {
   "cell_type": "code",
   "execution_count": null,
   "metadata": {
    "ExecuteTime": {
     "end_time": "2023-01-27T15:14:40.714155Z",
     "start_time": "2023-01-27T15:14:40.709836Z"
    }
   },
   "outputs": [],
   "source": [
    "n2"
   ]
  },
  {
   "cell_type": "code",
   "execution_count": null,
   "metadata": {
    "ExecuteTime": {
     "end_time": "2023-01-27T14:27:52.587711Z",
     "start_time": "2023-01-27T14:27:52.583885Z"
    }
   },
   "outputs": [],
   "source": [
    "n2"
   ]
  },
  {
   "cell_type": "code",
   "execution_count": null,
   "metadata": {
    "ExecuteTime": {
     "end_time": "2023-01-27T14:36:35.503558Z",
     "start_time": "2023-01-27T14:36:35.499916Z"
    }
   },
   "outputs": [],
   "source": [
    "for i in list(n1 & n2):\n",
    "    print(i)"
   ]
  },
  {
   "cell_type": "code",
   "execution_count": null,
   "metadata": {
    "ExecuteTime": {
     "end_time": "2023-01-27T14:26:20.485504Z",
     "start_time": "2023-01-27T14:26:20.441850Z"
    }
   },
   "outputs": [],
   "source": [
    "fdf_s.iloc[loci[0]]"
   ]
  },
  {
   "cell_type": "code",
   "execution_count": null,
   "metadata": {
    "ExecuteTime": {
     "end_time": "2023-01-27T14:19:07.476272Z",
     "start_time": "2023-01-27T14:19:07.470767Z"
    }
   },
   "outputs": [],
   "source": [
    "kor = full_fdf.iloc[loci[0]][['barcode', 'Name']+[c for c in full_fdf.columns if 'ko' in c]]"
   ]
  },
  {
   "cell_type": "code",
   "execution_count": null,
   "metadata": {
    "ExecuteTime": {
     "end_time": "2023-01-27T14:19:09.565838Z",
     "start_time": "2023-01-27T14:19:09.559153Z"
    }
   },
   "outputs": [],
   "source": [
    "kor['Name'] = kor['barcode'] + kor['Name']\n",
    "kor = kor.set_index('Name')\n",
    "kor = kor.drop(['barcode'], axis=1)"
   ]
  },
  {
   "cell_type": "code",
   "execution_count": null,
   "metadata": {
    "ExecuteTime": {
     "end_time": "2023-01-27T14:19:11.732611Z",
     "start_time": "2023-01-27T14:19:11.677406Z"
    }
   },
   "outputs": [],
   "source": [
    "kor"
   ]
  },
  {
   "cell_type": "code",
   "execution_count": null,
   "metadata": {
    "ExecuteTime": {
     "end_time": "2023-01-27T14:20:57.628370Z",
     "start_time": "2023-01-27T14:20:57.621014Z"
    }
   },
   "outputs": [],
   "source": [
    "annot[annot.Name == 'leuO']"
   ]
  },
  {
   "cell_type": "code",
   "execution_count": null,
   "metadata": {
    "ExecuteTime": {
     "end_time": "2023-01-27T14:20:08.433459Z",
     "start_time": "2023-01-27T14:20:08.428797Z"
    }
   },
   "outputs": [],
   "source": [
    "kor = kor.loc[:,kor.sum()>0]"
   ]
  },
  {
   "cell_type": "code",
   "execution_count": null,
   "metadata": {
    "ExecuteTime": {
     "end_time": "2023-01-27T14:20:09.195056Z",
     "start_time": "2023-01-27T14:20:09.187439Z"
    }
   },
   "outputs": [],
   "source": [
    "kor"
   ]
  },
  {
   "cell_type": "code",
   "execution_count": null,
   "metadata": {
    "ExecuteTime": {
     "end_time": "2023-01-27T14:18:47.282073Z",
     "start_time": "2023-01-27T14:18:47.234915Z"
    }
   },
   "outputs": [],
   "source": [
    "px.imshow(kor, width=800, height=800)"
   ]
  },
  {
   "cell_type": "code",
   "execution_count": null,
   "metadata": {
    "ExecuteTime": {
     "end_time": "2023-01-27T14:07:51.341221Z",
     "start_time": "2023-01-27T14:07:51.335678Z"
    }
   },
   "outputs": [],
   "source": [
    "kor.sum()"
   ]
  },
  {
   "cell_type": "code",
   "execution_count": null,
   "metadata": {
    "ExecuteTime": {
     "end_time": "2023-01-27T10:02:05.911531Z",
     "start_time": "2023-01-27T10:02:05.907787Z"
    }
   },
   "outputs": [],
   "source": [
    "r = fdf_s.iloc[loci[0]]"
   ]
  },
  {
   "cell_type": "code",
   "execution_count": null,
   "metadata": {
    "ExecuteTime": {
     "end_time": "2023-01-27T10:02:06.343242Z",
     "start_time": "2023-01-27T10:02:06.340740Z"
    }
   },
   "outputs": [],
   "source": [
    "#r = pd.concat([r.iloc[:, [0,1]], r[r.iloc[0, 2:].sort_values().index]], axis=1)\n",
    "#r.columns = ['barcode', 'Name'] + list(range(0, 49))"
   ]
  },
  {
   "cell_type": "code",
   "execution_count": null,
   "metadata": {
    "ExecuteTime": {
     "end_time": "2023-01-27T10:02:06.561268Z",
     "start_time": "2023-01-27T10:02:06.554901Z"
    }
   },
   "outputs": [],
   "source": [
    "r = r.melt(id_vars=['barcode', 'Name'])"
   ]
  },
  {
   "cell_type": "code",
   "execution_count": null,
   "metadata": {
    "ExecuteTime": {
     "end_time": "2023-01-27T10:03:02.944109Z",
     "start_time": "2023-01-27T10:03:02.736294Z"
    }
   },
   "outputs": [],
   "source": [
    "px.scatter(r, x='variable', y = 'value', color='Name', trendline=\"lowess\", trendline_options=dict(frac=0.1))"
   ]
  },
  {
   "cell_type": "code",
   "execution_count": null,
   "metadata": {
    "ExecuteTime": {
     "end_time": "2023-01-27T10:08:14.884051Z",
     "start_time": "2023-01-27T10:08:14.877784Z"
    }
   },
   "outputs": [],
   "source": [
    "annot[annot.Name == 'ychF']"
   ]
  },
  {
   "cell_type": "code",
   "execution_count": null,
   "metadata": {
    "ExecuteTime": {
     "end_time": "2023-01-25T20:16:16.746151Z",
     "start_time": "2023-01-25T20:16:16.733846Z"
    }
   },
   "outputs": [],
   "source": [
    "fdf = fdf.merge(annot, on='Name', how='left')"
   ]
  },
  {
   "cell_type": "code",
   "execution_count": null,
   "metadata": {
    "ExecuteTime": {
     "end_time": "2023-01-25T20:16:17.658829Z",
     "start_time": "2023-01-25T20:16:17.647985Z"
    }
   },
   "outputs": [],
   "source": [
    "fdf = fdf.dropna()"
   ]
  },
  {
   "cell_type": "code",
   "execution_count": null,
   "metadata": {
    "ExecuteTime": {
     "end_time": "2023-01-25T20:16:35.282998Z",
     "start_time": "2023-01-25T20:16:35.260872Z"
    }
   },
   "outputs": [],
   "source": [
    "fdf"
   ]
  },
  {
   "cell_type": "code",
   "execution_count": null,
   "metadata": {
    "ExecuteTime": {
     "end_time": "2022-05-02T14:06:21.226753Z",
     "start_time": "2022-05-02T14:06:21.211129Z"
    }
   },
   "outputs": [],
   "source": [
    "df = day1CPM.reset_index()\n",
    "df = df[df.barcode.isin(varBcs)].drop(['Name'], axis=1).set_index('barcode').drop_duplicates()"
   ]
  },
  {
   "cell_type": "code",
   "execution_count": null,
   "metadata": {
    "ExecuteTime": {
     "end_time": "2022-05-02T14:06:21.655980Z",
     "start_time": "2022-05-02T14:06:21.619038Z"
    }
   },
   "outputs": [],
   "source": [
    "df2 = df.T.corr()\n",
    "df2.columns.name = 'barcode2'\n",
    "df2 = df2.reset_index().melt(id_vars=['barcode'])\n",
    "df2['r2'] = df2.value**2"
   ]
  },
  {
   "cell_type": "code",
   "execution_count": null,
   "metadata": {
    "ExecuteTime": {
     "end_time": "2022-05-02T14:06:27.173369Z",
     "start_time": "2022-05-02T14:06:27.151392Z"
    }
   },
   "outputs": [],
   "source": [
    "df2 = df2[(abs(df2.r2) > 0.8) & (df2.r2 < 0.99)]"
   ]
  },
  {
   "cell_type": "code",
   "execution_count": null,
   "metadata": {
    "ExecuteTime": {
     "end_time": "2022-05-02T14:06:43.885298Z",
     "start_time": "2022-05-02T14:06:43.859291Z"
    }
   },
   "outputs": [],
   "source": [
    "df2.sort_values('value').tail(10)"
   ]
  },
  {
   "cell_type": "code",
   "execution_count": null,
   "metadata": {
    "ExecuteTime": {
     "end_time": "2022-05-02T13:31:21.743920Z",
     "start_time": "2022-05-02T13:31:21.616962Z"
    }
   },
   "outputs": [],
   "source": [
    "plt.plot(df.loc['TCCGCGAATAGAATAGC'], df.loc['CGAGTACCAACCGTGAC'], '.')"
   ]
  },
  {
   "cell_type": "code",
   "execution_count": null,
   "metadata": {
    "ExecuteTime": {
     "end_time": "2022-05-02T14:06:57.912571Z",
     "start_time": "2022-05-02T14:06:57.876173Z"
    }
   },
   "outputs": [],
   "source": [
    "df3 = (df2.merge(countData[['barcode', 'Name']], on='barcode', how='left')\n",
    " .merge(countData[['barcode', 'Name']], left_on='barcode2', right_on='barcode', how='left'))[['barcode_x', 'barcode2', 'value', 'r2', 'Name_x', 'Name_y']]"
   ]
  },
  {
   "cell_type": "code",
   "execution_count": null,
   "metadata": {
    "ExecuteTime": {
     "end_time": "2022-05-02T14:07:00.871330Z",
     "start_time": "2022-05-02T14:07:00.828211Z"
    }
   },
   "outputs": [],
   "source": [
    "df3[['Name_x', 'Name_y', 'value']].drop_duplicates().sort_values('value').dropna().head(30)"
   ]
  },
  {
   "cell_type": "code",
   "execution_count": null,
   "metadata": {
    "ExecuteTime": {
     "end_time": "2022-05-02T14:07:08.582805Z",
     "start_time": "2022-05-02T14:07:08.537366Z"
    }
   },
   "outputs": [],
   "source": [
    "df3[['Name_x', 'Name_y', 'value']].drop_duplicates().sort_values('value').dropna().tail(50)"
   ]
  },
  {
   "cell_type": "code",
   "execution_count": null,
   "metadata": {
    "ExecuteTime": {
     "end_time": "2022-05-02T13:35:59.183311Z",
     "start_time": "2022-05-02T13:35:59.157776Z"
    }
   },
   "outputs": [],
   "source": [
    "network_df = df3.groupby(['Name_x', 'Name_y']).agg({'value':['mean'], 'r2':['mean']}).reset_index()"
   ]
  },
  {
   "cell_type": "code",
   "execution_count": null,
   "metadata": {
    "ExecuteTime": {
     "end_time": "2022-05-02T13:40:11.931268Z",
     "start_time": "2022-05-02T13:40:11.919699Z"
    }
   },
   "outputs": [],
   "source": [
    "network_df.nunique()"
   ]
  },
  {
   "cell_type": "code",
   "execution_count": null,
   "metadata": {
    "ExecuteTime": {
     "end_time": "2022-05-02T14:08:43.409479Z",
     "start_time": "2022-05-02T14:08:43.384500Z"
    }
   },
   "outputs": [],
   "source": [
    "df3[df3.Name_x == 'pilP']"
   ]
  },
  {
   "cell_type": "code",
   "execution_count": null,
   "metadata": {
    "ExecuteTime": {
     "end_time": "2022-05-02T13:29:46.803069Z",
     "start_time": "2022-05-02T13:29:46.784391Z"
    }
   },
   "outputs": [],
   "source": [
    "x = day1CPM.reset_index()\n",
    "x = x[x.Name=='pilQ']\n",
    "x"
   ]
  },
  {
   "cell_type": "code",
   "execution_count": null,
   "metadata": {
    "ExecuteTime": {
     "end_time": "2022-05-02T13:24:23.768135Z",
     "start_time": "2022-05-02T13:24:23.750022Z"
    }
   },
   "outputs": [],
   "source": [
    "x = day1CPM.reset_index()\n",
    "x = x[x.Name=='pilT']\n",
    "x"
   ]
  },
  {
   "cell_type": "code",
   "execution_count": null,
   "metadata": {
    "ExecuteTime": {
     "end_time": "2022-05-02T13:14:32.145962Z",
     "start_time": "2022-05-02T13:14:32.129022Z"
    }
   },
   "outputs": [],
   "source": [
    "fdf = day1CPM.reset_index()\n",
    "fdf = fdf[fdf.Name.isin(['pilR', 'pilP'])]\n",
    "fdf = fdf.melt(id_vars=['barcode', 'Name'], var_name='sampleID', value_name='log2CPM')"
   ]
  },
  {
   "cell_type": "code",
   "execution_count": null,
   "metadata": {
    "ExecuteTime": {
     "end_time": "2022-05-02T13:14:33.899159Z",
     "start_time": "2022-05-02T13:14:33.881910Z"
    }
   },
   "outputs": [],
   "source": [
    "fdf\n"
   ]
  },
  {
   "cell_type": "code",
   "execution_count": null,
   "metadata": {
    "ExecuteTime": {
     "end_time": "2022-05-02T13:14:42.519113Z",
     "start_time": "2022-05-02T13:14:42.513429Z"
    }
   },
   "outputs": [],
   "source": [
    "bcs = ['CGTATCCCAGGATCTGT','TATCGAACCACATCATA']\n",
    "bcs2 = ['AACTATACGGGAACGCC', 'AAGTAACCAGTCGAAGA']\n",
    "#bcs2 = ['AAACAACCGGTACTGAG', 'GGGGTATGAAACTTAAG']\n"
   ]
  },
  {
   "cell_type": "code",
   "execution_count": null,
   "metadata": {
    "ExecuteTime": {
     "end_time": "2022-05-02T13:14:49.531184Z",
     "start_time": "2022-05-02T13:14:49.500272Z"
    }
   },
   "outputs": [],
   "source": [
    "fdf1 = fdf[fdf.barcode.isin(bcs)].pivot(index=[ 'sampleID'], columns='Name').reset_index()\n",
    "fdf2 = (day1CPM.reset_index()\n",
    "        .melt(id_vars=['barcode', 'Name'], var_name='sampleID', value_name='log2CPM'))\n",
    "fdf2 = fdf2[fdf2.barcode.isin(bcs2)].pivot(index=[ 'sampleID'], columns='Name').reset_index()\n",
    "fdf2.columns =['sampleID', 'barcode_1', 'barcode_2', 'gene1', 'gene2']"
   ]
  },
  {
   "cell_type": "code",
   "execution_count": null,
   "metadata": {
    "ExecuteTime": {
     "end_time": "2022-05-02T13:14:51.407701Z",
     "start_time": "2022-05-02T13:14:51.393541Z"
    }
   },
   "outputs": [],
   "source": [
    "fdf2"
   ]
  },
  {
   "cell_type": "code",
   "execution_count": null,
   "metadata": {
    "ExecuteTime": {
     "start_time": "2022-05-02T13:14:55.481Z"
    }
   },
   "outputs": [],
   "source": [
    "px.scatter(fdf2, x='gene1', y='gene2', hover_data=['sampleID'] )"
   ]
  },
  {
   "cell_type": "code",
   "execution_count": null,
   "metadata": {
    "ExecuteTime": {
     "end_time": "2022-04-12T15:03:37.134983Z",
     "start_time": "2022-04-12T15:03:37.109509Z"
    }
   },
   "outputs": [],
   "source": [
    "countData"
   ]
  },
  {
   "cell_type": "code",
   "execution_count": null,
   "metadata": {
    "ExecuteTime": {
     "end_time": "2022-05-02T13:54:15.889702Z",
     "start_time": "2022-05-02T13:54:15.870039Z"
    }
   },
   "outputs": [],
   "source": [
    "test = df3.dropna().sample(20)"
   ]
  },
  {
   "cell_type": "code",
   "execution_count": null,
   "metadata": {
    "ExecuteTime": {
     "end_time": "2022-05-02T13:54:17.569572Z",
     "start_time": "2022-05-02T13:54:17.563505Z"
    }
   },
   "outputs": [],
   "source": [
    "test = test[['Name_x', 'Name_y', 'value']]"
   ]
  },
  {
   "cell_type": "code",
   "execution_count": null,
   "metadata": {
    "ExecuteTime": {
     "end_time": "2022-05-02T13:54:17.797352Z",
     "start_time": "2022-05-02T13:54:17.783615Z"
    }
   },
   "outputs": [],
   "source": [
    "test"
   ]
  },
  {
   "cell_type": "code",
   "execution_count": null,
   "metadata": {
    "ExecuteTime": {
     "end_time": "2022-05-02T13:45:47.377014Z",
     "start_time": "2022-05-02T13:45:47.355412Z"
    }
   },
   "outputs": [],
   "source": [
    "import networkx as nx\n",
    "\n",
    "# Colors\n",
    "vmin= -3\n",
    "vmax=0.5\n",
    "cmap = plt.cm.coolwarm\n",
    "from matplotlib import colors\n",
    "divnorm=colors.TwoSlopeNorm(vmin=vmin, vcenter=0., vmax=vmax)\n",
    "sm = plt.cm.ScalarMappable(cmap=cmap,norm=divnorm)\n",
    "\n",
    "\n",
    "def graph_from_df(df, node1, node2, score):\n",
    "    \n",
    "    G = nx.from_pandas_edgelist(df, node1, node2, score)\n",
    "    edge_width = dict([((a, b), G.get_edge_data(a,b)[score]*5) for a, b in G.edges()])\n",
    "    nx.set_edge_attributes(G, name =\"edge_width\", values =edge_width)\n",
    "    return G\n",
    "\n",
    "\n",
    "def plot_cluster(graph, ax, sm):\n",
    "    pos = nx.kamada_kawai_layout(graph)\n",
    "    edge_width = list(nx.get_edge_attributes(graph, 'edge_width').values())\n",
    "    #node_size = list(networkx.get_node_attributes(graph, 'in_cluster').values())\n",
    "    ncolor = list(nx.get_node_attributes(graph, 'day_ci').values())\n",
    "    ncolor = [sm.to_rgba(x) for x in ncolor]\n",
    "    nx.draw_networkx_edges(graph, pos, alpha=0.8, width=edge_width, ax=ax )\n",
    "    nx.draw_networkx_nodes(graph, pos, node_size=node_size, node_color=ncolor,  \n",
    "                         alpha=0.9, ax=ax)\n",
    "    label_options = {\"ec\": \"k\", \"fc\": \"white\", \"alpha\": 0.5}\n",
    "    nx.draw_networkx_labels(graph, pos, font_size=16, bbox=label_options, ax=ax);\n",
    "    "
   ]
  },
  {
   "cell_type": "code",
   "execution_count": null,
   "metadata": {},
   "outputs": [],
   "source": []
  }
 ],
 "metadata": {
  "kernelspec": {
   "display_name": "Python 3 (ipykernel)",
   "language": "python",
   "name": "python3"
  },
  "language_info": {
   "codemirror_mode": {
    "name": "ipython",
    "version": 3
   },
   "file_extension": ".py",
   "mimetype": "text/x-python",
   "name": "python",
   "nbconvert_exporter": "python",
   "pygments_lexer": "ipython3",
   "version": "3.8.12"
  },
  "toc": {
   "base_numbering": 1,
   "nav_menu": {},
   "number_sections": true,
   "sideBar": true,
   "skip_h1_title": false,
   "title_cell": "Table of Contents",
   "title_sidebar": "Contents",
   "toc_cell": false,
   "toc_position": {},
   "toc_section_display": true,
   "toc_window_display": false
  }
 },
 "nbformat": 4,
 "nbformat_minor": 4
}
