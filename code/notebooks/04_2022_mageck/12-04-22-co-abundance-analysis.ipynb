{
 "cells": [
  {
   "cell_type": "code",
   "execution_count": null,
   "metadata": {
    "ExecuteTime": {
     "end_time": "2022-05-02T13:15:58.275288Z",
     "start_time": "2022-05-02T13:15:54.649363Z"
    }
   },
   "outputs": [],
   "source": [
    "# %load ../snippets/basic_settings.py\n",
    "import pandas as pd\n",
    "import numpy as np\n",
    "import matplotlib.pyplot as plt\n",
    "import os\n",
    "from pathlib import Path\n",
    "import seaborn as sns\n",
    "import sys\n",
    "import plotly.express as px\n",
    "import yaml\n",
    "\n",
    "sns.set_context(\"notebook\", font_scale=1.1)\n",
    "pd.set_option(\"display.max_columns\", 100)\n",
    "pd.set_option(\"display.max_rows\", 100)\n",
    "plt.rcParams[\"figure.figsize\"] = (16, 12)\n",
    "plt.rcParams['savefig.dpi'] = 200\n",
    "plt.rcParams['figure.autolayout'] = False\n",
    "plt.rcParams['axes.labelsize'] = 18\n",
    "plt.rcParams['axes.titlesize'] = 20\n",
    "plt.rcParams['font.size'] = 16\n",
    "plt.rcParams['lines.linewidth'] = 2.0\n",
    "plt.rcParams['lines.markersize'] = 8\n",
    "plt.rcParams['legend.fontsize'] = 14\n",
    "plt.rcParams['text.usetex'] = False  # True activates latex output in fonts!\n",
    "plt.rcParams['font.family'] = \"serif\"\n",
    "plt.rcParams['font.serif'] = \"cm\"\n",
    "pd.set_option('display.float_format', lambda x: '{:,.2f}'.format(x))"
   ]
  },
  {
   "cell_type": "code",
   "execution_count": null,
   "metadata": {
    "ExecuteTime": {
     "end_time": "2022-04-12T13:00:57.335675Z",
     "start_time": "2022-04-12T13:00:57.071316Z"
    }
   },
   "outputs": [],
   "source": [
    "# dataDir = Path(\"/nfs/nas22/fs2202/biol_micro_bioinf_nccr/hardt/nguyenb/tnseq/scratch/03_22/counts\")\n",
    "# countData = pd.read_csv(dataDir/\"dnaid1315_mbarq_merged_counts.csv\")\n",
    "# sampleData = pd.read_csv(dataDir/\"example_sample_data.csv\")"
   ]
  },
  {
   "cell_type": "code",
   "execution_count": null,
   "metadata": {
    "ExecuteTime": {
     "end_time": "2022-05-02T13:16:01.983955Z",
     "start_time": "2022-05-02T13:16:01.971690Z"
    }
   },
   "outputs": [],
   "source": [
    "config_file = \"../nguyenb_config.yaml\"\n",
    "with open(config_file) as file:\n",
    "    # The FullLoader parameter handles the conversion from YAML\n",
    "    # scalar values to Python the dictionary format\n",
    "    configs = yaml.load(file, Loader=yaml.FullLoader)"
   ]
  },
  {
   "cell_type": "code",
   "execution_count": null,
   "metadata": {
    "ExecuteTime": {
     "end_time": "2022-05-02T13:16:04.768981Z",
     "start_time": "2022-05-02T13:16:04.763465Z"
    }
   },
   "outputs": [],
   "source": [
    "# Run on server:\n",
    "root = Path(configs['root']['server'])\n",
    "scratchDir = Path(configs['scratchDir']['server'])"
   ]
  },
  {
   "cell_type": "code",
   "execution_count": null,
   "metadata": {
    "ExecuteTime": {
     "end_time": "2022-05-02T13:16:05.287257Z",
     "start_time": "2022-05-02T13:16:05.281294Z"
    }
   },
   "outputs": [],
   "source": [
    "mapDir = root/configs['mapDir']\n",
    "countDir = root/configs['libraryCountsDir']\n",
    "resultDir = root/configs['resultDir']\n",
    "sample_data_file = root/configs['sampleData']\n",
    "control_file_short = root/\"controls_6barcodes.csv\""
   ]
  },
  {
   "cell_type": "code",
   "execution_count": null,
   "metadata": {
    "ExecuteTime": {
     "end_time": "2022-05-02T13:16:07.062136Z",
     "start_time": "2022-05-02T13:16:07.056242Z"
    }
   },
   "outputs": [],
   "source": [
    "def read_in_sample_data(sample_data_file, sampleIDs, treatment_col=\"\", batch_col=\"\"):\n",
    "    \"\"\"\n",
    "    add data validation code\n",
    "    \n",
    "    \"\"\"\n",
    "    return pd.read_csv(sample_data_file)"
   ]
  },
  {
   "cell_type": "code",
   "execution_count": null,
   "metadata": {
    "ExecuteTime": {
     "end_time": "2022-05-02T13:16:07.482378Z",
     "start_time": "2022-05-02T13:16:07.473444Z"
    }
   },
   "outputs": [],
   "source": [
    "def read_merged_count_file(merged_count_file):\n",
    "    counts = pd.read_csv(merged_count_file)\n",
    "    annotation_cols = list(counts.columns[0:2])\n",
    "    sampleIDs = list(counts.columns[2:])\n",
    "    return counts, annotation_cols, sampleIDs\n",
    "\n",
    "\n",
    "def calculate_cpms(merged_df, annotation_cols, sampleIDs):\n",
    "    merged_df = merged_df[merged_df.sum(axis=1, numeric_only=True) > 10]\n",
    "    # Normalized for library depth and log transform\n",
    "    cpms = merged_df.copy().set_index(list(annotation_cols))\n",
    "    cpms = np.log2(cpms/cpms.sum()*1000000 +0.5).reset_index()\n",
    "    return cpms"
   ]
  },
  {
   "cell_type": "code",
   "execution_count": null,
   "metadata": {
    "ExecuteTime": {
     "end_time": "2022-05-02T14:05:43.204455Z",
     "start_time": "2022-05-02T14:05:42.938737Z"
    }
   },
   "outputs": [],
   "source": [
    "countData, ann_cols, sampleIDs  = read_merged_count_file(countDir/\"library_13_2_mbarq_merged_counts.csv\")\n",
    "countData = countData.set_index(['barcode', 'Name'])\n",
    "countData = countData[countData.sum(axis=1) > 100].reset_index()\n",
    "sampleData = read_in_sample_data(sample_data_file, sampleIDs)\n",
    "\n"
   ]
  },
  {
   "cell_type": "code",
   "execution_count": null,
   "metadata": {
    "ExecuteTime": {
     "end_time": "2022-05-02T13:06:52.543002Z",
     "start_time": "2022-05-02T13:06:52.535782Z"
    }
   },
   "outputs": [],
   "source": [
    "# Figure out good samples (from 28-04-2022-mageck-analysis)\n",
    "%store -r good_samples"
   ]
  },
  {
   "cell_type": "code",
   "execution_count": null,
   "metadata": {
    "ExecuteTime": {
     "end_time": "2022-05-02T13:18:21.649134Z",
     "start_time": "2022-05-02T13:18:21.642624Z"
    }
   },
   "outputs": [],
   "source": [
    "good_samples = ['dnaid1315_10',\n",
    " 'dnaid1315_107',\n",
    " 'dnaid1315_117',\n",
    " 'dnaid1315_124',\n",
    " 'dnaid1315_128',\n",
    " 'dnaid1315_129',\n",
    " 'dnaid1315_131',\n",
    " 'dnaid1315_136',\n",
    " 'dnaid1315_17',\n",
    " 'dnaid1315_18',\n",
    " 'dnaid1315_19',\n",
    " 'dnaid1315_20',\n",
    " 'dnaid1315_28',\n",
    " 'dnaid1315_40',\n",
    " 'dnaid1315_42',\n",
    " 'dnaid1315_50',\n",
    " 'dnaid1315_52',\n",
    " 'dnaid1315_66',\n",
    " 'dnaid1315_81',\n",
    " 'dnaid1315_90',\n",
    " 'dnaid1315_92',\n",
    " 'dnaid1315_94',\n",
    " 'dnaid1315_96']\n"
   ]
  },
  {
   "cell_type": "code",
   "execution_count": null,
   "metadata": {
    "ExecuteTime": {
     "end_time": "2022-05-02T14:06:10.291973Z",
     "start_time": "2022-05-02T14:06:10.268176Z"
    }
   },
   "outputs": [],
   "source": [
    "cpms = calculate_cpms(countData, ann_cols, sampleIDs)"
   ]
  },
  {
   "cell_type": "code",
   "execution_count": null,
   "metadata": {
    "ExecuteTime": {
     "end_time": "2022-05-02T14:06:10.795191Z",
     "start_time": "2022-05-02T14:06:10.787867Z"
    }
   },
   "outputs": [],
   "source": [
    "day1 = sampleData[(sampleData.day.isin(['d1'])) & (sampleData.sampleID.isin(sampleIDs))]"
   ]
  },
  {
   "cell_type": "code",
   "execution_count": null,
   "metadata": {
    "ExecuteTime": {
     "end_time": "2022-05-02T14:06:11.411998Z",
     "start_time": "2022-05-02T14:06:11.394640Z"
    }
   },
   "outputs": [],
   "source": [
    "day1CPM = cpms[['barcode', 'Name'] + list(day1.sampleID.values)].set_index(['barcode', 'Name'])"
   ]
  },
  {
   "cell_type": "code",
   "execution_count": null,
   "metadata": {
    "ExecuteTime": {
     "end_time": "2022-05-02T14:06:15.376387Z",
     "start_time": "2022-05-02T14:06:15.363162Z"
    }
   },
   "outputs": [],
   "source": [
    "varBcs = day1CPM.var(axis=1).sort_values().tail(500).reset_index().barcode.values"
   ]
  },
  {
   "cell_type": "code",
   "execution_count": null,
   "metadata": {
    "ExecuteTime": {
     "end_time": "2022-05-02T13:27:25.486725Z",
     "start_time": "2022-05-02T13:27:25.479485Z"
    }
   },
   "outputs": [],
   "source": [
    "varBcs"
   ]
  },
  {
   "cell_type": "code",
   "execution_count": null,
   "metadata": {
    "ExecuteTime": {
     "end_time": "2022-05-02T14:06:21.226753Z",
     "start_time": "2022-05-02T14:06:21.211129Z"
    }
   },
   "outputs": [],
   "source": [
    "df = day1CPM.reset_index()\n",
    "df = df[df.barcode.isin(varBcs)].drop(['Name'], axis=1).set_index('barcode').drop_duplicates()"
   ]
  },
  {
   "cell_type": "code",
   "execution_count": null,
   "metadata": {
    "ExecuteTime": {
     "end_time": "2022-05-02T14:06:21.655980Z",
     "start_time": "2022-05-02T14:06:21.619038Z"
    }
   },
   "outputs": [],
   "source": [
    "df2 = df.T.corr()\n",
    "df2.columns.name = 'barcode2'\n",
    "df2 = df2.reset_index().melt(id_vars=['barcode'])\n",
    "df2['r2'] = df2.value**2"
   ]
  },
  {
   "cell_type": "code",
   "execution_count": null,
   "metadata": {
    "ExecuteTime": {
     "end_time": "2022-05-02T14:06:27.173369Z",
     "start_time": "2022-05-02T14:06:27.151392Z"
    }
   },
   "outputs": [],
   "source": [
    "df2 = df2[(abs(df2.r2) > 0.8) & (df2.r2 < 0.99)]"
   ]
  },
  {
   "cell_type": "code",
   "execution_count": null,
   "metadata": {
    "ExecuteTime": {
     "end_time": "2022-05-02T14:06:43.885298Z",
     "start_time": "2022-05-02T14:06:43.859291Z"
    }
   },
   "outputs": [],
   "source": [
    "df2.sort_values('value').tail(10)"
   ]
  },
  {
   "cell_type": "code",
   "execution_count": null,
   "metadata": {
    "ExecuteTime": {
     "end_time": "2022-05-02T13:31:21.743920Z",
     "start_time": "2022-05-02T13:31:21.616962Z"
    }
   },
   "outputs": [],
   "source": [
    "plt.plot(df.loc['TCCGCGAATAGAATAGC'], df.loc['CGAGTACCAACCGTGAC'], '.')"
   ]
  },
  {
   "cell_type": "code",
   "execution_count": null,
   "metadata": {
    "ExecuteTime": {
     "end_time": "2022-05-02T14:06:57.912571Z",
     "start_time": "2022-05-02T14:06:57.876173Z"
    }
   },
   "outputs": [],
   "source": [
    "df3 = (df2.merge(countData[['barcode', 'Name']], on='barcode', how='left')\n",
    " .merge(countData[['barcode', 'Name']], left_on='barcode2', right_on='barcode', how='left'))[['barcode_x', 'barcode2', 'value', 'r2', 'Name_x', 'Name_y']]"
   ]
  },
  {
   "cell_type": "code",
   "execution_count": null,
   "metadata": {
    "ExecuteTime": {
     "end_time": "2022-05-02T14:07:00.871330Z",
     "start_time": "2022-05-02T14:07:00.828211Z"
    }
   },
   "outputs": [],
   "source": [
    "df3[['Name_x', 'Name_y', 'value']].drop_duplicates().sort_values('value').dropna().head(30)"
   ]
  },
  {
   "cell_type": "code",
   "execution_count": null,
   "metadata": {
    "ExecuteTime": {
     "end_time": "2022-05-02T14:07:08.582805Z",
     "start_time": "2022-05-02T14:07:08.537366Z"
    }
   },
   "outputs": [],
   "source": [
    "df3[['Name_x', 'Name_y', 'value']].drop_duplicates().sort_values('value').dropna().tail(50)"
   ]
  },
  {
   "cell_type": "code",
   "execution_count": null,
   "metadata": {
    "ExecuteTime": {
     "end_time": "2022-05-02T13:35:59.183311Z",
     "start_time": "2022-05-02T13:35:59.157776Z"
    }
   },
   "outputs": [],
   "source": [
    "network_df = df3.groupby(['Name_x', 'Name_y']).agg({'value':['mean'], 'r2':['mean']}).reset_index()"
   ]
  },
  {
   "cell_type": "code",
   "execution_count": null,
   "metadata": {
    "ExecuteTime": {
     "end_time": "2022-05-02T13:40:11.931268Z",
     "start_time": "2022-05-02T13:40:11.919699Z"
    }
   },
   "outputs": [],
   "source": [
    "network_df.nunique()"
   ]
  },
  {
   "cell_type": "code",
   "execution_count": null,
   "metadata": {
    "ExecuteTime": {
     "end_time": "2022-05-02T14:08:43.409479Z",
     "start_time": "2022-05-02T14:08:43.384500Z"
    }
   },
   "outputs": [],
   "source": [
    "df3[df3.Name_x == 'pilP']"
   ]
  },
  {
   "cell_type": "code",
   "execution_count": null,
   "metadata": {
    "ExecuteTime": {
     "end_time": "2022-05-02T13:29:46.803069Z",
     "start_time": "2022-05-02T13:29:46.784391Z"
    }
   },
   "outputs": [],
   "source": [
    "x = day1CPM.reset_index()\n",
    "x = x[x.Name=='pilQ']\n",
    "x"
   ]
  },
  {
   "cell_type": "code",
   "execution_count": null,
   "metadata": {
    "ExecuteTime": {
     "end_time": "2022-05-02T13:24:23.768135Z",
     "start_time": "2022-05-02T13:24:23.750022Z"
    }
   },
   "outputs": [],
   "source": [
    "x = day1CPM.reset_index()\n",
    "x = x[x.Name=='pilT']\n",
    "x"
   ]
  },
  {
   "cell_type": "code",
   "execution_count": null,
   "metadata": {
    "ExecuteTime": {
     "end_time": "2022-05-02T13:14:32.145962Z",
     "start_time": "2022-05-02T13:14:32.129022Z"
    }
   },
   "outputs": [],
   "source": [
    "fdf = day1CPM.reset_index()\n",
    "fdf = fdf[fdf.Name.isin(['pilR', 'pilP'])]\n",
    "fdf = fdf.melt(id_vars=['barcode', 'Name'], var_name='sampleID', value_name='log2CPM')"
   ]
  },
  {
   "cell_type": "code",
   "execution_count": null,
   "metadata": {
    "ExecuteTime": {
     "end_time": "2022-05-02T13:14:33.899159Z",
     "start_time": "2022-05-02T13:14:33.881910Z"
    }
   },
   "outputs": [],
   "source": [
    "fdf\n"
   ]
  },
  {
   "cell_type": "code",
   "execution_count": null,
   "metadata": {
    "ExecuteTime": {
     "end_time": "2022-05-02T13:14:42.519113Z",
     "start_time": "2022-05-02T13:14:42.513429Z"
    }
   },
   "outputs": [],
   "source": [
    "bcs = ['CGTATCCCAGGATCTGT','TATCGAACCACATCATA']\n",
    "bcs2 = ['AACTATACGGGAACGCC', 'AAGTAACCAGTCGAAGA']\n",
    "#bcs2 = ['AAACAACCGGTACTGAG', 'GGGGTATGAAACTTAAG']\n"
   ]
  },
  {
   "cell_type": "code",
   "execution_count": null,
   "metadata": {
    "ExecuteTime": {
     "end_time": "2022-05-02T13:14:49.531184Z",
     "start_time": "2022-05-02T13:14:49.500272Z"
    }
   },
   "outputs": [],
   "source": [
    "fdf1 = fdf[fdf.barcode.isin(bcs)].pivot(index=[ 'sampleID'], columns='Name').reset_index()\n",
    "fdf2 = (day1CPM.reset_index()\n",
    "        .melt(id_vars=['barcode', 'Name'], var_name='sampleID', value_name='log2CPM'))\n",
    "fdf2 = fdf2[fdf2.barcode.isin(bcs2)].pivot(index=[ 'sampleID'], columns='Name').reset_index()\n",
    "fdf2.columns =['sampleID', 'barcode_1', 'barcode_2', 'gene1', 'gene2']"
   ]
  },
  {
   "cell_type": "code",
   "execution_count": null,
   "metadata": {
    "ExecuteTime": {
     "end_time": "2022-05-02T13:14:51.407701Z",
     "start_time": "2022-05-02T13:14:51.393541Z"
    }
   },
   "outputs": [],
   "source": [
    "fdf2"
   ]
  },
  {
   "cell_type": "code",
   "execution_count": null,
   "metadata": {
    "ExecuteTime": {
     "start_time": "2022-05-02T13:14:55.481Z"
    }
   },
   "outputs": [],
   "source": [
    "px.scatter(fdf2, x='gene1', y='gene2', hover_data=['sampleID'] )"
   ]
  },
  {
   "cell_type": "code",
   "execution_count": null,
   "metadata": {
    "ExecuteTime": {
     "end_time": "2022-04-12T15:03:37.134983Z",
     "start_time": "2022-04-12T15:03:37.109509Z"
    }
   },
   "outputs": [],
   "source": [
    "countData"
   ]
  },
  {
   "cell_type": "code",
   "execution_count": null,
   "metadata": {
    "ExecuteTime": {
     "end_time": "2022-05-02T13:54:15.889702Z",
     "start_time": "2022-05-02T13:54:15.870039Z"
    }
   },
   "outputs": [],
   "source": [
    "test = df3.dropna().sample(20)"
   ]
  },
  {
   "cell_type": "code",
   "execution_count": null,
   "metadata": {
    "ExecuteTime": {
     "end_time": "2022-05-02T13:54:17.569572Z",
     "start_time": "2022-05-02T13:54:17.563505Z"
    }
   },
   "outputs": [],
   "source": [
    "test = test[['Name_x', 'Name_y', 'value']]"
   ]
  },
  {
   "cell_type": "code",
   "execution_count": null,
   "metadata": {
    "ExecuteTime": {
     "end_time": "2022-05-02T13:54:17.797352Z",
     "start_time": "2022-05-02T13:54:17.783615Z"
    }
   },
   "outputs": [],
   "source": [
    "test"
   ]
  },
  {
   "cell_type": "code",
   "execution_count": null,
   "metadata": {
    "ExecuteTime": {
     "end_time": "2022-05-02T13:45:47.377014Z",
     "start_time": "2022-05-02T13:45:47.355412Z"
    }
   },
   "outputs": [],
   "source": [
    "import networkx as nx\n",
    "\n",
    "# Colors\n",
    "vmin= -3\n",
    "vmax=0.5\n",
    "cmap = plt.cm.coolwarm\n",
    "from matplotlib import colors\n",
    "divnorm=colors.TwoSlopeNorm(vmin=vmin, vcenter=0., vmax=vmax)\n",
    "sm = plt.cm.ScalarMappable(cmap=cmap,norm=divnorm)\n",
    "\n",
    "\n",
    "def graph_from_df(df, node1, node2, score):\n",
    "    \n",
    "    G = nx.from_pandas_edgelist(df, node1, node2, score)\n",
    "    edge_width = dict([((a, b), G.get_edge_data(a,b)[score]*5) for a, b in G.edges()])\n",
    "    nx.set_edge_attributes(G, name =\"edge_width\", values =edge_width)\n",
    "    return G\n",
    "\n",
    "\n",
    "def plot_cluster(graph, ax, sm):\n",
    "    pos = nx.kamada_kawai_layout(graph)\n",
    "    edge_width = list(nx.get_edge_attributes(graph, 'edge_width').values())\n",
    "    #node_size = list(networkx.get_node_attributes(graph, 'in_cluster').values())\n",
    "    ncolor = list(nx.get_node_attributes(graph, 'day_ci').values())\n",
    "    ncolor = [sm.to_rgba(x) for x in ncolor]\n",
    "    nx.draw_networkx_edges(graph, pos, alpha=0.8, width=edge_width, ax=ax )\n",
    "    nx.draw_networkx_nodes(graph, pos, node_size=node_size, node_color=ncolor,  \n",
    "                         alpha=0.9, ax=ax)\n",
    "    label_options = {\"ec\": \"k\", \"fc\": \"white\", \"alpha\": 0.5}\n",
    "    nx.draw_networkx_labels(graph, pos, font_size=16, bbox=label_options, ax=ax);\n",
    "    "
   ]
  },
  {
   "cell_type": "code",
   "execution_count": null,
   "metadata": {},
   "outputs": [],
   "source": []
  }
 ],
 "metadata": {
  "kernelspec": {
   "display_name": "Python 3 (ipykernel)",
   "language": "python",
   "name": "python3"
  },
  "language_info": {
   "codemirror_mode": {
    "name": "ipython",
    "version": 3
   },
   "file_extension": ".py",
   "mimetype": "text/x-python",
   "name": "python",
   "nbconvert_exporter": "python",
   "pygments_lexer": "ipython3",
   "version": "3.8.12"
  },
  "toc": {
   "base_numbering": 1,
   "nav_menu": {},
   "number_sections": true,
   "sideBar": true,
   "skip_h1_title": false,
   "title_cell": "Table of Contents",
   "title_sidebar": "Contents",
   "toc_cell": false,
   "toc_position": {},
   "toc_section_display": true,
   "toc_window_display": false
  }
 },
 "nbformat": 4,
 "nbformat_minor": 4
}
