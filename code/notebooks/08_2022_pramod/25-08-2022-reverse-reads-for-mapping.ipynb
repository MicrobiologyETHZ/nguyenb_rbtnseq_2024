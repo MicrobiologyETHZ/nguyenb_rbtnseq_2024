{
 "cells": [
  {
   "cell_type": "code",
   "execution_count": null,
   "id": "weighted-neighborhood",
   "metadata": {
    "ExecuteTime": {
     "end_time": "2022-08-25T08:44:21.857378Z",
     "start_time": "2022-08-25T08:44:19.473447Z"
    }
   },
   "outputs": [],
   "source": [
    "import pandas as pd\n",
    "import plotly.express as px"
   ]
  },
  {
   "cell_type": "code",
   "execution_count": null,
   "id": "initial-short",
   "metadata": {
    "ExecuteTime": {
     "end_time": "2022-08-25T11:19:36.008202Z",
     "start_time": "2022-08-25T11:19:35.867704Z"
    }
   },
   "outputs": [],
   "source": [
    "r1 = pd.read_csv(\"EC_R1_l0.annotated.csv\")\n",
    "r1 = r1[r1.number_of_reads > 5]\n",
    "r2 = pd.read_csv(\"EC_R2_l0.annotated.csv\")\n",
    "r2 = r2[r2.number_of_reads > 5]\n",
    "r2 = r2.drop(['barcode'], axis=1).rename({'revcomp_barcode': 'barcode', 'number_of_reads': 'r2_reads',\n",
    "                                         'insertion_site': 'r2_insertion_site'}, axis=1)\n",
    "\n",
    "r3 = pd.read_csv(\"EC_R2_l0_new.annotated.csv\")\n",
    "r3 = r3[r3.abundance_in_mapping_library > 5]\n",
    "r3 = r3.drop(['barcode'], axis=1).rename({'revcomp_barcode': 'barcode', 'abundance_in_mapping_library': 'r3_reads',\n",
    "                                         'insertion_site': 'r3_insertion_site'}, axis=1)"
   ]
  },
  {
   "cell_type": "code",
   "execution_count": null,
   "id": "sensitive-stocks",
   "metadata": {
    "ExecuteTime": {
     "end_time": "2022-08-25T11:19:40.172579Z",
     "start_time": "2022-08-25T11:19:40.139222Z"
    }
   },
   "outputs": [],
   "source": [
    "df = (r1[['barcode', 'number_of_reads', 'insertion_site', 'strand']]\n",
    "      .merge(r2[['barcode', 'r2_reads', 'r2_insertion_site']], on='barcode', how='inner')\n",
    "      .merge(r3[['barcode', 'r3_reads', 'r3_insertion_site']], on='barcode', how='inner'))"
   ]
  },
  {
   "cell_type": "code",
   "execution_count": null,
   "id": "national-frank",
   "metadata": {
    "ExecuteTime": {
     "end_time": "2022-08-25T11:30:35.062661Z",
     "start_time": "2022-08-25T11:30:35.056744Z"
    }
   },
   "outputs": [],
   "source": [
    "r1.shape"
   ]
  },
  {
   "cell_type": "code",
   "execution_count": null,
   "id": "acute-equivalent",
   "metadata": {
    "ExecuteTime": {
     "end_time": "2022-08-25T11:30:37.430869Z",
     "start_time": "2022-08-25T11:30:37.424929Z"
    }
   },
   "outputs": [],
   "source": [
    "r2.shape"
   ]
  },
  {
   "cell_type": "code",
   "execution_count": null,
   "id": "gentle-marina",
   "metadata": {
    "ExecuteTime": {
     "end_time": "2022-08-25T11:30:39.231494Z",
     "start_time": "2022-08-25T11:30:39.226015Z"
    }
   },
   "outputs": [],
   "source": [
    "r3.shape"
   ]
  },
  {
   "cell_type": "code",
   "execution_count": null,
   "id": "sonic-tennessee",
   "metadata": {
    "ExecuteTime": {
     "end_time": "2022-08-25T11:32:35.483742Z",
     "start_time": "2022-08-25T11:32:35.461283Z"
    }
   },
   "outputs": [],
   "source": [
    "r1r3 = r3.merge(r1, on='barcode', how='inner')[['barcode', 'insertion_site', 'r3_insertion_site', 'number_of_reads', 'r3_reads']]\n"
   ]
  },
  {
   "cell_type": "code",
   "execution_count": null,
   "id": "traditional-circular",
   "metadata": {
    "ExecuteTime": {
     "end_time": "2022-08-25T11:33:12.958054Z",
     "start_time": "2022-08-25T11:33:12.954536Z"
    }
   },
   "outputs": [],
   "source": [
    "236 / (236+7173)"
   ]
  },
  {
   "cell_type": "code",
   "execution_count": null,
   "id": "hungry-repository",
   "metadata": {
    "ExecuteTime": {
     "end_time": "2022-08-25T11:32:37.679155Z",
     "start_time": "2022-08-25T11:32:37.673372Z"
    }
   },
   "outputs": [],
   "source": [
    "r1r3.shape"
   ]
  },
  {
   "cell_type": "code",
   "execution_count": null,
   "id": "devoted-slope",
   "metadata": {
    "ExecuteTime": {
     "end_time": "2022-08-25T11:24:06.818717Z",
     "start_time": "2022-08-25T11:24:06.790008Z"
    }
   },
   "outputs": [],
   "source": [
    "r2r3 = r2.merge(r3, on='barcode', how='outer')[['barcode', 'r2_insertion_site', 'r3_insertion_site', 'r2_reads', 'r3_reads']]"
   ]
  },
  {
   "cell_type": "code",
   "execution_count": null,
   "id": "decimal-aging",
   "metadata": {
    "ExecuteTime": {
     "end_time": "2022-08-25T11:26:49.389091Z",
     "start_time": "2022-08-25T11:26:49.371663Z"
    }
   },
   "outputs": [],
   "source": [
    "r1[r1.barcode==\"GCAAGTACAACAACGCC\"]"
   ]
  },
  {
   "cell_type": "code",
   "execution_count": null,
   "id": "functional-blogger",
   "metadata": {
    "ExecuteTime": {
     "end_time": "2022-08-25T11:25:05.470119Z",
     "start_time": "2022-08-25T11:25:05.452994Z"
    }
   },
   "outputs": [],
   "source": [
    "r2r3[r2r3.r2_reads.isna()].head(20)"
   ]
  },
  {
   "cell_type": "code",
   "execution_count": null,
   "id": "complete-bachelor",
   "metadata": {
    "ExecuteTime": {
     "end_time": "2022-08-25T11:24:44.791940Z",
     "start_time": "2022-08-25T11:24:44.784974Z"
    }
   },
   "outputs": [],
   "source": [
    "r2r3.r3_reads.isna().sum()"
   ]
  },
  {
   "cell_type": "code",
   "execution_count": null,
   "id": "turned-weapon",
   "metadata": {
    "ExecuteTime": {
     "end_time": "2022-08-25T11:24:08.881658Z",
     "start_time": "2022-08-25T11:24:08.861564Z"
    }
   },
   "outputs": [],
   "source": [
    "r2r3.sample(20)"
   ]
  },
  {
   "cell_type": "code",
   "execution_count": null,
   "id": "continued-agency",
   "metadata": {
    "ExecuteTime": {
     "end_time": "2022-08-25T11:20:23.447238Z",
     "start_time": "2022-08-25T11:20:23.439149Z"
    }
   },
   "outputs": [],
   "source": [
    "df['diff_loc1'] = df['r2_insertion_site'] - df['insertion_site']\n",
    "df['diff_loc2'] = df['r3_insertion_site'] - df['insertion_site']"
   ]
  },
  {
   "cell_type": "code",
   "execution_count": null,
   "id": "accredited-welcome",
   "metadata": {
    "ExecuteTime": {
     "end_time": "2022-08-25T09:23:56.841923Z",
     "start_time": "2022-08-25T09:23:56.827091Z"
    }
   },
   "outputs": [],
   "source": [
    "df[df.barcode == 'GAAGCCAAAAGTAAGCC']"
   ]
  },
  {
   "cell_type": "code",
   "execution_count": null,
   "id": "catholic-yellow",
   "metadata": {
    "ExecuteTime": {
     "end_time": "2022-08-25T09:19:37.251872Z",
     "start_time": "2022-08-25T09:19:37.233087Z"
    }
   },
   "outputs": [],
   "source": [
    "df[df.barcode == 'AGACTAGACAGCGAACA']"
   ]
  },
  {
   "cell_type": "code",
   "execution_count": null,
   "id": "loaded-corner",
   "metadata": {
    "ExecuteTime": {
     "end_time": "2022-08-25T11:20:26.365970Z",
     "start_time": "2022-08-25T11:20:26.343709Z"
    }
   },
   "outputs": [],
   "source": [
    "df.sample(20)"
   ]
  },
  {
   "cell_type": "code",
   "execution_count": null,
   "id": "figured-police",
   "metadata": {
    "ExecuteTime": {
     "end_time": "2022-08-25T08:53:40.335753Z",
     "start_time": "2022-08-25T08:53:40.204693Z"
    }
   },
   "outputs": [],
   "source": [
    "df.diff_loc.hist()"
   ]
  },
  {
   "cell_type": "code",
   "execution_count": null,
   "id": "peripheral-cattle",
   "metadata": {
    "ExecuteTime": {
     "end_time": "2022-08-25T10:10:01.203533Z",
     "start_time": "2022-08-25T10:10:01.190421Z"
    }
   },
   "outputs": [],
   "source": [
    "df[df.barcode == 'GACAACCAAACGCCTAA']"
   ]
  },
  {
   "cell_type": "code",
   "execution_count": null,
   "id": "radio-glenn",
   "metadata": {},
   "outputs": [],
   "source": []
  }
 ],
 "metadata": {
  "kernelspec": {
   "display_name": "Python 3",
   "language": "python",
   "name": "python3"
  },
  "language_info": {
   "codemirror_mode": {
    "name": "ipython",
    "version": 3
   },
   "file_extension": ".py",
   "mimetype": "text/x-python",
   "name": "python",
   "nbconvert_exporter": "python",
   "pygments_lexer": "ipython3",
   "version": "3.6.6"
  },
  "toc": {
   "base_numbering": 1,
   "nav_menu": {},
   "number_sections": true,
   "sideBar": true,
   "skip_h1_title": false,
   "title_cell": "Table of Contents",
   "title_sidebar": "Contents",
   "toc_cell": false,
   "toc_position": {},
   "toc_section_display": true,
   "toc_window_display": false
  }
 },
 "nbformat": 4,
 "nbformat_minor": 5
}
