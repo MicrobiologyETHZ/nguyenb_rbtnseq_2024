{
 "cells": [
  {
   "cell_type": "code",
   "execution_count": null,
   "metadata": {
    "ExecuteTime": {
     "end_time": "2022-01-05T14:36:36.092064Z",
     "start_time": "2022-01-05T14:36:36.079692Z"
    }
   },
   "outputs": [],
   "source": [
    "# %load ../snippets/basic_settings.py\n",
    "import pandas as pd\n",
    "import numpy as np\n",
    "import matplotlib.pyplot as plt\n",
    "import seaborn as sns\n",
    "from pathlib import Path\n",
    "\n",
    "\n",
    "sns.set_context(\"notebook\", font_scale=1.1)\n",
    "pd.set_option(\"display.max_columns\", 100)\n",
    "pd.set_option(\"display.max_rows\", 100)\n",
    "plt.rcParams[\"figure.figsize\"] = (16, 12)\n",
    "plt.rcParams['savefig.dpi'] = 200\n",
    "plt.rcParams['figure.autolayout'] = False\n",
    "plt.rcParams['axes.labelsize'] = 18\n",
    "plt.rcParams['axes.titlesize'] = 20\n",
    "plt.rcParams['font.size'] = 16\n",
    "plt.rcParams['lines.linewidth'] = 2.0\n",
    "plt.rcParams['lines.markersize'] = 8\n",
    "plt.rcParams['legend.fontsize'] = 14\n",
    "plt.rcParams['font.family'] = \"serif\"\n",
    "plt.rcParams['font.serif'] = \"cm\"\n",
    "#pd.set_option('display.float_format', lambda x: '{:,.2f}'.format(x))\n",
    "pd.reset_option('display.float_format')"
   ]
  },
  {
   "cell_type": "code",
   "execution_count": null,
   "metadata": {
    "ExecuteTime": {
     "end_time": "2022-01-05T14:32:42.999602Z",
     "start_time": "2022-01-05T14:32:42.994892Z"
    }
   },
   "outputs": [],
   "source": [
    "import scipy\n",
    "from  statsmodels.stats.multitest import multipletests\n",
    "import subprocess\n",
    "import os"
   ]
  },
  {
   "cell_type": "markdown",
   "metadata": {},
   "source": [
    "# Loading the Data"
   ]
  },
  {
   "cell_type": "code",
   "execution_count": null,
   "metadata": {
    "ExecuteTime": {
     "end_time": "2022-01-05T14:32:45.032392Z",
     "start_time": "2022-01-05T14:32:44.568304Z"
    }
   },
   "outputs": [],
   "source": [
    "root = Path(\"/nfs/nas22/fs2202/biol_micro_bioinf_nccr/hardt/nguyenb/tnseq\")\n",
    "dataDir = root/\"scratch/08_21/counts/\"\n",
    "controls_file = root/\"data/metadata/controls.txt\"\n",
    "outDir = root/\"scratch/08_21/results/nguyenb\"\n",
    "metafile = root/\"scratch/08_21/complete_metadata.tsv\"\n",
    "cnt_file = outDir/'05-01-2022-annotated_gene_counts_after_qc_inoculum_only.csv'\n",
    "cnts = pd.read_csv(cnt_file, index_col=0)\n",
    "cnts['experiment'] = cnts['sampleID'].str.split('_', expand=True)[0]  + \"_\" + cnts['experiment']"
   ]
  },
  {
   "cell_type": "code",
   "execution_count": null,
   "metadata": {
    "ExecuteTime": {
     "end_time": "2022-01-05T14:32:45.050029Z",
     "start_time": "2022-01-05T14:32:45.035101Z"
    }
   },
   "outputs": [],
   "source": [
    "cnts.groupby(['library', 'experiment']).sampleID.nunique()"
   ]
  },
  {
   "cell_type": "markdown",
   "metadata": {},
   "source": [
    "- Have to drop `library_11_2` -> no replicates"
   ]
  },
  {
   "cell_type": "markdown",
   "metadata": {},
   "source": [
    "# Running DESeq2"
   ]
  },
  {
   "cell_type": "markdown",
   "metadata": {},
   "source": [
    "## Creating datasets for DESeq2"
   ]
  },
  {
   "cell_type": "code",
   "execution_count": null,
   "metadata": {
    "ExecuteTime": {
     "end_time": "2022-01-05T14:32:49.294633Z",
     "start_time": "2022-01-05T14:32:49.285251Z"
    },
    "code_folding": [
     3
    ]
   },
   "outputs": [],
   "source": [
    "# Takes already pre-filtered dataset, and sets up input for DESeq2\n",
    "# Assume looked through # of samples etc and specified correct design\n",
    "\n",
    "def generate_DE_dataset(exp_df, sample_id='sampleID', feat_id = 'ShortName', cnt_col='barcode_cnt',  \n",
    "                        other_cols = ('mouse', 'day', 'tissue', 'dnaid', 'experiment')):\n",
    "\n",
    "    sample_data = (exp_df[[sample_id] +[c for c in other_cols]]\n",
    "                   .set_index(sample_id).drop_duplicates())\n",
    "    \n",
    "    expr_data = (exp_df[[sample_id, feat_id, cnt_col]].drop_duplicates()\n",
    "                 .pivot(index=feat_id, columns=sample_id)\n",
    "                 .fillna(0))\n",
    "    \n",
    "    expr_data.columns = [c[1] for c in expr_data.columns]\n",
    "    expr_data = expr_data[list(sample_data.index)].reset_index()\n",
    "\n",
    "    return sample_data, expr_data"
   ]
  },
  {
   "cell_type": "markdown",
   "metadata": {},
   "source": [
    "## Running the script"
   ]
  },
  {
   "cell_type": "code",
   "execution_count": null,
   "metadata": {
    "ExecuteTime": {
     "end_time": "2022-01-05T14:32:50.363244Z",
     "start_time": "2022-01-05T14:32:50.353624Z"
    },
    "code_folding": [
     0,
     9
    ]
   },
   "outputs": [],
   "source": [
    "def run_command(args):\n",
    "    \"\"\"Run command, transfer stdout/stderr\"\"\"\n",
    "    result = subprocess.run(args)\n",
    "    try:\n",
    "        result.check_returncode()\n",
    "    except subprocess.CalledProcessError as e:\n",
    "        raise e\n",
    "        \n",
    "\n",
    "def get_fitness_results(fitness_dir, library, sdf, edf, design, r_path, feat_id ):\n",
    "    sdf_path = Path(fitness_dir) / f\"{library}_sdf.csv\"\n",
    "    edf_path = Path(fitness_dir) / f\"{library}_edf.csv\"\n",
    "    sdf.to_csv(sdf_path)\n",
    "    edf.set_index(feat_id).to_csv(edf_path)\n",
    "    cmd = f'Rscript {r_path} {sdf_path} {edf_path} {library} {design} {fitness_dir}'\n",
    "    print(cmd)\n",
    "    r = run_command(cmd.split())\n",
    "    os.remove(sdf_path)\n",
    "    os.remove(edf_path)"
   ]
  },
  {
   "cell_type": "markdown",
   "metadata": {},
   "source": [
    "## Calculate z-score relative to wt tags"
   ]
  },
  {
   "cell_type": "code",
   "execution_count": null,
   "metadata": {
    "ExecuteTime": {
     "end_time": "2022-01-05T14:42:14.923743Z",
     "start_time": "2022-01-05T14:42:14.905483Z"
    },
    "code_folding": [
     8
    ]
   },
   "outputs": [],
   "source": [
    "def sigma(lfcSE):\n",
    "    return np.sqrt(lfcSE.pow(2).sum()) / len(lfcSE)\n",
    "\n",
    "\n",
    "def calculate_2dist_zscore(u1, s1, u2, s2):\n",
    "    return (u1 - u2) / np.sqrt((s1 ** 2) + (s2 ** 2))\n",
    "\n",
    "\n",
    "def to_list(x):\n",
    "    bc_list = list(x)\n",
    "    if len(bc_list) == 1:\n",
    "        return bc_list[0]\n",
    "    return \", \".join(list(set(x)))\n",
    "\n",
    "\n",
    "def calculate_comparisons2(fitness, df, control_file, treat_var='day'):\n",
    "    \"\"\"\n",
    "\n",
    "    fitness: DESeq2 output, log2FoldChange value for each barcode comparing each time point with inoculum\n",
    "    df: df for 1 experiment and 1 dnaid\n",
    "    controls: control meta df?\n",
    "    \"\"\"\n",
    "    controls = pd.read_table(control_file, names=['barcode', 'phenotype', 'conc'])\n",
    "\n",
    "    controls['CntrlName']= controls['phenotype'] +'-'+ controls['conc'].astype(str)\n",
    "    controls_bc = controls[controls.phenotype == 'wt'].CntrlName.values\n",
    "    cntrl_df = fitness[fitness.barcode.isin(controls_bc)]\n",
    "\n",
    "    gene_df = fitness[~fitness.barcode.isin(controls_bc)].rename({'barcode':'gene'}, axis=1)\n",
    "    gene_mean = gene_df[['gene', treat_var, 'log2FoldChange', 'lfcSE']]\n",
    "    \n",
    "    cntrl_mean = cntrl_df.groupby([treat_var]).agg({'log2FoldChange': ['mean', 'median'], 'lfcSE': [sigma]})\n",
    "    cntrl_mean.columns = ['cntrl_FC', 'cntrl_FC_median', 'cntrl_sigma']\n",
    "    cntrl_mean = cntrl_mean.reset_index()\n",
    "    gene_mean = gene_mean.merge(cntrl_mean, how='left', on=treat_var)\n",
    "    \n",
    "    gene_mean['zscore'] = gene_mean.apply(\n",
    "            lambda x: calculate_2dist_zscore(x['log2FoldChange'], x['lfcSE'], x['cntrl_FC'], x['cntrl_sigma']), axis=1)\n",
    "\n",
    "    gene_mean['log2CI'] = gene_mean.apply(lambda x: x['log2FoldChange'] - x['cntrl_FC'], axis=1)\n",
    "    gene_mean = gene_mean[['gene', treat_var, 'log2FoldChange',  'lfcSE', 'zscore', 'log2CI']]\n",
    "    results = gene_mean.copy()\n",
    "    results['pval'] = results.zscore.apply(lambda x: scipy.stats.norm.sf(abs(x)) * 2)\n",
    "    results['padj'] = results.groupby(treat_var).pval.transform(lambda x: multipletests(x, alpha=0.05, method='fdr_bh')[1])\n",
    "    return results"
   ]
  },
  {
   "cell_type": "markdown",
   "metadata": {},
   "source": [
    "# Analysing the data"
   ]
  },
  {
   "cell_type": "code",
   "execution_count": null,
   "metadata": {
    "ExecuteTime": {
     "end_time": "2022-01-05T14:42:17.362729Z",
     "start_time": "2022-01-05T14:42:17.348981Z"
    }
   },
   "outputs": [],
   "source": [
    "libraries = list(cnts.library.unique())\n",
    "libraries.remove('library_11_2')\n",
    "libraries"
   ]
  },
  {
   "cell_type": "code",
   "execution_count": null,
   "metadata": {
    "ExecuteTime": {
     "end_time": "2022-01-05T14:44:05.276759Z",
     "start_time": "2022-01-05T14:42:19.163964Z"
    }
   },
   "outputs": [],
   "source": [
    "final_results = []\n",
    "final_fitness = []\n",
    "for library in libraries:\n",
    "    exp_df = cnts[cnts.library == library]\n",
    "    sdf, edf = generate_DE_dataset(exp_df, sample_id='sampleID', feat_id = 'ShortName', cnt_col='barcode_cnt',  \n",
    "                        other_cols = ('mouse', 'day', 'tissue', 'experiment'))\n",
    "    get_fitness_results(outDir, library, sdf, edf, \"mouse\", \n",
    "                    root/\"code/notebooks/01_22_enriched_vs_unenriched/DESeq_enriched_vs_unenriched.R\", \n",
    "                    'ShortName')\n",
    "    fitness_file = list(outDir.glob(f\"{library}*results-inoculum*csv\"))[0]\n",
    "    fitness_df = (pd.read_csv(fitness_file, sep=' ')\n",
    "                    .assign(library=library)\n",
    "                    .reset_index()\n",
    "                    .rename({\"index\":\"barcode\"}, axis=1 )\n",
    "                    .assign(mouse='inoculum'))\n",
    "    final_fitness.append(fitness_df)\n",
    "    results = (calculate_comparisons2(fitness_df, exp_df, controls_file, treat_var='mouse')\n",
    "               .assign(library=library))\n",
    "    final_results.append(results)\n",
    "    \n",
    "fres = pd.concat(final_results)\n",
    "ffit = pd.concat(final_fitness)\n"
   ]
  },
  {
   "cell_type": "code",
   "execution_count": null,
   "metadata": {
    "ExecuteTime": {
     "end_time": "2022-01-05T14:47:42.295226Z",
     "start_time": "2022-01-05T14:47:42.160965Z"
    }
   },
   "outputs": [],
   "source": [
    "num_lib = fres_annotated.groupby('gene').agg({'library':['nunique'], \n",
    "                                            'zscore':['median', 'min', 'max'],\n",
    "                                            'ci':['median', 'min', 'max'], \n",
    "                                            'padj': [lambda x: sum(x<0.05)]}).reset_index()\n",
    "num_lib.columns = ['gene', 'num_libs_present', 'zscore_median', 'zscore_min',\n",
    "                  'zscore_max', 'log2CI_median', 'log2CI_min', 'log2CI_max', 'num_of_times_was_hit']"
   ]
  },
  {
   "cell_type": "code",
   "execution_count": null,
   "metadata": {
    "ExecuteTime": {
     "end_time": "2022-01-05T14:46:13.765178Z",
     "start_time": "2022-01-05T14:46:13.740553Z"
    }
   },
   "outputs": [],
   "source": [
    "pd.reset_option('display.float_format')\n",
    "fres[(fres.padj < 0.05) & (abs(fres.log2CI) > 0.7)]"
   ]
  },
  {
   "cell_type": "markdown",
   "metadata": {},
   "source": [
    "# Annotations"
   ]
  },
  {
   "cell_type": "code",
   "execution_count": null,
   "metadata": {
    "ExecuteTime": {
     "end_time": "2022-01-05T14:46:19.330708Z",
     "start_time": "2022-01-05T14:46:19.319969Z"
    }
   },
   "outputs": [],
   "source": [
    "def get_feat_id(x):\n",
    "    if x is np.nan:\n",
    "        return x\n",
    "    elif 'gene-' in x or 'cds-' in x:\n",
    "        return x.split(';')[0].split('-')[1]\n",
    "    else:\n",
    "        return x.split(';')[0]\n",
    "    \n",
    "def get_gene_name(x):\n",
    "    if x is np.nan:\n",
    "        return x\n",
    "    elif 'ID=gene' in x:\n",
    "        return x.split('Name=')[1].split(';')[0]\n",
    "    elif 'ID=cds' in x and 'gene=' in x:\n",
    "        return x.split('gene=')[1].split(';')[0]\n",
    "    elif 'ID=cds' in x and 'Parent=' in x:\n",
    "        return x.split('Parent=')[1].split(';')[0].split('-')[1]\n",
    "    else:\n",
    "        return x.split(';')[0].strip('ID=')"
   ]
  },
  {
   "cell_type": "code",
   "execution_count": null,
   "metadata": {
    "ExecuteTime": {
     "end_time": "2022-01-05T14:47:45.936377Z",
     "start_time": "2022-01-05T14:47:45.817278Z"
    }
   },
   "outputs": [],
   "source": [
    "dataDir = \"../../../data/metadata\"\n",
    "gff_file = Path(dataDir)/\"GCA_000210855.2_ASM21085v2_genomic.gff\"\n",
    "emap_file = Path(dataDir)/\"SL1344.emapper.annotations\"\n",
    "\n",
    "gff = pd.read_table(gff_file, skiprows=7, header=None)\n",
    "gff.columns = ['chr', 'loc', 'feat', 'start', 'end', 'dn', 'strand', 'dn2', 'desc']\n",
    "\n",
    "gff['feat_id'] = gff['desc'].apply(get_feat_id)\n",
    "gff['Name'] = gff['desc'].apply(get_gene_name)\n",
    "\n",
    "gene_to_cds = gff[gff.feat == 'CDS'][['feat_id', 'Name', 'start']]\n",
    "emap = pd.read_table(emap_file, skiprows=4)\n",
    "go_map = gene_to_cds.merge(emap, left_on='feat_id', right_on='#query', how='outer')\n",
    "go_map = go_map.drop(go_map.tail(3).index)"
   ]
  },
  {
   "cell_type": "code",
   "execution_count": null,
   "metadata": {
    "ExecuteTime": {
     "end_time": "2022-01-05T14:47:46.433382Z",
     "start_time": "2022-01-05T14:47:46.407022Z"
    }
   },
   "outputs": [],
   "source": [
    "summary_ann = num_lib.merge(go_map,  left_on='gene', right_on='Name')\n",
    "fres_ann = fres.merge(go_map, left_on='gene', right_on='Name')"
   ]
  },
  {
   "cell_type": "code",
   "execution_count": null,
   "metadata": {
    "ExecuteTime": {
     "end_time": "2022-01-05T14:48:33.912247Z",
     "start_time": "2022-01-05T14:48:33.646919Z"
    }
   },
   "outputs": [],
   "source": [
    "summary_ann.to_csv(outDir/'05-01-2022-inoculum-results-summary-annotated.csv')\n",
    "fres_ann.to_csv(outDir/'05-01-2022-inoculum-results-annotated.csv')"
   ]
  },
  {
   "cell_type": "markdown",
   "metadata": {},
   "source": [
    "# Exploratory"
   ]
  },
  {
   "cell_type": "markdown",
   "metadata": {},
   "source": [
    "- would want no trend in unenriched samples (i.e. random why there are diffent amounts in the libraries)\n",
    "- want a trend after enrichment, i.e. different starting amounts influenced how strains grew)\n"
   ]
  },
  {
   "cell_type": "code",
   "execution_count": null,
   "metadata": {
    "ExecuteTime": {
     "end_time": "2022-01-05T11:47:40.343686Z",
     "start_time": "2022-01-05T11:47:40.335365Z"
    }
   },
   "outputs": [],
   "source": [
    "goi = num_lib[(num_lib.num_libs_present > 4)].gene.values"
   ]
  },
  {
   "cell_type": "code",
   "execution_count": null,
   "metadata": {
    "ExecuteTime": {
     "end_time": "2022-01-05T11:47:44.525354Z",
     "start_time": "2022-01-05T11:47:44.505093Z"
    }
   },
   "outputs": [],
   "source": [
    "test = cnts[(cnts.mouse == 'unenriched_inoculum') & (cnts.ShortName.isin(goi))][['ShortName', 'sampleID', 'barcode_cnt']]"
   ]
  },
  {
   "cell_type": "code",
   "execution_count": null,
   "metadata": {
    "ExecuteTime": {
     "end_time": "2022-01-05T11:47:49.302762Z",
     "start_time": "2022-01-05T11:47:49.289833Z"
    }
   },
   "outputs": [],
   "source": [
    "test2 = test.pivot(columns='sampleID', index='ShortName', values='barcode_cnt').fillna(0)"
   ]
  },
  {
   "cell_type": "code",
   "execution_count": null,
   "metadata": {
    "ExecuteTime": {
     "end_time": "2022-01-05T11:47:51.956617Z",
     "start_time": "2022-01-05T11:47:51.948196Z"
    }
   },
   "outputs": [],
   "source": [
    "test3 = np.log2(test2/test2.sum()*1000000+0.5)"
   ]
  },
  {
   "cell_type": "code",
   "execution_count": null,
   "metadata": {
    "ExecuteTime": {
     "end_time": "2022-01-05T11:47:56.311757Z",
     "start_time": "2022-01-05T11:47:56.301982Z"
    }
   },
   "outputs": [],
   "source": [
    "test3.var(axis=1).sort_values().tail(10)\n",
    "# Genes with variable starting amounts"
   ]
  },
  {
   "cell_type": "code",
   "execution_count": null,
   "metadata": {
    "ExecuteTime": {
     "end_time": "2022-01-05T11:45:30.815437Z",
     "start_time": "2022-01-05T11:45:30.808772Z"
    }
   },
   "outputs": [],
   "source": [
    "np.log2(0.5)"
   ]
  },
  {
   "cell_type": "code",
   "execution_count": null,
   "metadata": {
    "ExecuteTime": {
     "end_time": "2022-01-05T11:56:16.799423Z",
     "start_time": "2022-01-05T11:56:16.624576Z"
    }
   },
   "outputs": [],
   "source": [
    "c1 = 'xylR'\n",
    "c2 = 'rmbA'\n",
    "test4 = pd.DataFrame([test3.loc[c1], test3.loc[c2]]).T\n",
    "test4 = test4[(test4[c1] > -1) & (test4[c2] > -1)]\n",
    "plt.plot(test4[c1], test4[c2], 'k.')\n",
    "plt.ylim(0, 14)\n",
    "plt.xlim(10, 14)"
   ]
  },
  {
   "cell_type": "code",
   "execution_count": null,
   "metadata": {
    "ExecuteTime": {
     "end_time": "2022-01-05T11:52:18.648363Z",
     "start_time": "2022-01-05T11:52:18.637038Z"
    }
   },
   "outputs": [],
   "source": [
    "etest3.var(axis=1).sort_values().tail(10)"
   ]
  },
  {
   "cell_type": "code",
   "execution_count": null,
   "metadata": {
    "ExecuteTime": {
     "end_time": "2022-01-05T11:56:26.400955Z",
     "start_time": "2022-01-05T11:56:26.214782Z"
    }
   },
   "outputs": [],
   "source": [
    "etest = cnts[(cnts.mouse == 'inoculum') & (cnts.ShortName.isin(goi))][['ShortName', 'sampleID', 'barcode_cnt']]\n",
    "etest2 = etest.pivot(columns='sampleID', index='ShortName', values='barcode_cnt').fillna(0)\n",
    "etest3 = np.log2(etest2/etest2.sum()*1000000+0.5)\n",
    "c1 = 'xylR'\n",
    "c2 = 'rmbA'\n",
    "etest4 = pd.DataFrame([etest3.loc[c1], etest3.loc[c2]]).T\n",
    "etest4 = etest4[(etest4[c1] > -1) & (etest4[c2] > -1)]\n",
    "plt.plot(etest4[c1], etest4[c2], 'k.')\n",
    "plt.ylim(0, 14)\n",
    "plt.xlim(10, 14)"
   ]
  },
  {
   "cell_type": "code",
   "execution_count": null,
   "metadata": {
    "ExecuteTime": {
     "end_time": "2022-01-05T11:38:39.385854Z",
     "start_time": "2022-01-05T11:38:39.377549Z"
    }
   },
   "outputs": [],
   "source": []
  },
  {
   "cell_type": "code",
   "execution_count": null,
   "metadata": {},
   "outputs": [],
   "source": []
  }
 ],
 "metadata": {
  "kernelspec": {
   "display_name": "Python 3 (ipykernel)",
   "language": "python",
   "name": "python3"
  },
  "language_info": {
   "codemirror_mode": {
    "name": "ipython",
    "version": 3
   },
   "file_extension": ".py",
   "mimetype": "text/x-python",
   "name": "python",
   "nbconvert_exporter": "python",
   "pygments_lexer": "ipython3",
   "version": "3.8.12"
  },
  "toc": {
   "base_numbering": 1,
   "nav_menu": {},
   "number_sections": true,
   "sideBar": true,
   "skip_h1_title": false,
   "title_cell": "Table of Contents",
   "title_sidebar": "Contents",
   "toc_cell": false,
   "toc_position": {},
   "toc_section_display": true,
   "toc_window_display": true
  }
 },
 "nbformat": 4,
 "nbformat_minor": 4
}
