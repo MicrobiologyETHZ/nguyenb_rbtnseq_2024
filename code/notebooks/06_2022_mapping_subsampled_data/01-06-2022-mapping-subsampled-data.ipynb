{
 "cells": [
  {
   "cell_type": "code",
   "execution_count": null,
   "metadata": {
    "ExecuteTime": {
     "end_time": "2022-06-02T07:36:01.364159Z",
     "start_time": "2022-06-02T07:35:42.053664Z"
    }
   },
   "outputs": [],
   "source": [
    "import pandas as pd\n",
    "from pathlib import Path\n",
    "import seaborn as sns\n",
    "import matplotlib.pyplot as plt"
   ]
  },
  {
   "cell_type": "code",
   "execution_count": null,
   "metadata": {
    "ExecuteTime": {
     "end_time": "2022-06-02T07:36:02.015562Z",
     "start_time": "2022-06-02T07:36:01.368131Z"
    }
   },
   "outputs": [],
   "source": [
    "map_files = list(Path(\"/nfs/cds-peta/exports/biol_micro_cds_gr_sunagawa/scratch/ansintsova/Projects_NCCR/hardt/nguyenb/tnseq/scratch/map_subsamples\").glob('*annotated.csv'))"
   ]
  },
  {
   "cell_type": "code",
   "execution_count": null,
   "metadata": {
    "ExecuteTime": {
     "end_time": "2022-06-02T07:36:03.142255Z",
     "start_time": "2022-06-02T07:36:02.025507Z"
    }
   },
   "outputs": [],
   "source": [
    "fdf = pd.concat([pd.read_csv(f).assign(prop=f.stem.split('.')[0]) for f in map_files])"
   ]
  },
  {
   "cell_type": "code",
   "execution_count": null,
   "metadata": {
    "ExecuteTime": {
     "end_time": "2022-06-02T07:36:03.192722Z",
     "start_time": "2022-06-02T07:36:03.143769Z"
    }
   },
   "outputs": [],
   "source": [
    "fdf.sample()"
   ]
  },
  {
   "cell_type": "code",
   "execution_count": null,
   "metadata": {
    "ExecuteTime": {
     "end_time": "2022-06-02T07:36:03.284620Z",
     "start_time": "2022-06-02T07:36:03.194259Z"
    }
   },
   "outputs": [],
   "source": [
    "num_reads = pd.DataFrame([['library_11_1_5', 'library_11_1_10', 'library_11_1_25',\n",
    "       'library_11_1_50', 'library_11_1_75', 'library_11_1'],\n",
    "                          [836014, 1670871, 4178891, 8354067, 12530448, 16708549]], index=['prop', 'total_reads']).T"
   ]
  },
  {
   "cell_type": "code",
   "execution_count": null,
   "metadata": {
    "ExecuteTime": {
     "end_time": "2022-06-02T07:36:03.418295Z",
     "start_time": "2022-06-02T07:36:03.287382Z"
    }
   },
   "outputs": [],
   "source": [
    "num_reads['total_reads'] = num_reads['total_reads']/1000000"
   ]
  },
  {
   "cell_type": "code",
   "execution_count": null,
   "metadata": {
    "ExecuteTime": {
     "end_time": "2022-06-02T07:36:03.562056Z",
     "start_time": "2022-06-02T07:36:03.420905Z"
    }
   },
   "outputs": [],
   "source": [
    "num_discovered = fdf.groupby('prop').agg({\"barcode\": [\"nunique\"], \"number_of_reads\":['sum']}).reset_index()\n",
    "num_discovered.columns = ['prop', 'num_barcodes', 'num_reads']"
   ]
  },
  {
   "cell_type": "code",
   "execution_count": null,
   "metadata": {
    "ExecuteTime": {
     "end_time": "2022-06-02T07:36:03.692861Z",
     "start_time": "2022-06-02T07:36:03.563571Z"
    }
   },
   "outputs": [],
   "source": [
    "num_discovered = num_discovered.merge(num_reads, on='prop').sort_values('num_reads')\n",
    "num_discovered['perc_tn'] = num_discovered.num_reads/(num_discovered.total_reads*1000000)"
   ]
  },
  {
   "cell_type": "code",
   "execution_count": null,
   "metadata": {
    "ExecuteTime": {
     "end_time": "2022-06-02T07:36:03.840005Z",
     "start_time": "2022-06-02T07:36:03.694366Z"
    }
   },
   "outputs": [],
   "source": [
    "num_discovered"
   ]
  },
  {
   "cell_type": "code",
   "execution_count": null,
   "metadata": {
    "ExecuteTime": {
     "end_time": "2022-06-02T07:36:04.286588Z",
     "start_time": "2022-06-02T07:36:03.841399Z"
    }
   },
   "outputs": [],
   "source": [
    "fig = plt.figure(figsize=(12,8))\n",
    "sns.scatterplot(data=num_discovered, x='total_reads', y='num_barcodes', s=200)\n",
    "plt.xlabel('Total Reads, M', fontsize=18)\n",
    "plt.ylabel('Number of barcodes identified', fontsize=18)"
   ]
  },
  {
   "cell_type": "code",
   "execution_count": null,
   "metadata": {
    "ExecuteTime": {
     "end_time": "2022-06-02T07:38:02.882905Z",
     "start_time": "2022-06-02T07:38:02.646914Z"
    }
   },
   "outputs": [],
   "source": [
    "fig.savefig(\"/nfs/cds-peta/exports/biol_micro_cds_gr_sunagawa/scratch/ansintsova/Projects_NCCR/hardt/nguyenb/tnseq/scratch/map_subsamples/01-06-2022-sat-curve.png\")\n"
   ]
  },
  {
   "cell_type": "code",
   "execution_count": null,
   "metadata": {
    "ExecuteTime": {
     "end_time": "2022-06-01T12:52:29.878150Z",
     "start_time": "2022-06-01T12:52:29.565522Z"
    }
   },
   "outputs": [],
   "source": [
    "fig = plt.figure(figsize=(12,8))\n",
    "sns.boxplot(data=fdf, x='prop', y='number_of_reads')\n",
    "plt.yscale('log')"
   ]
  }
 ],
 "metadata": {
  "kernelspec": {
   "display_name": "Python 3 (ipykernel)",
   "language": "python",
   "name": "python3"
  },
  "language_info": {
   "codemirror_mode": {
    "name": "ipython",
    "version": 3
   },
   "file_extension": ".py",
   "mimetype": "text/x-python",
   "name": "python",
   "nbconvert_exporter": "python",
   "pygments_lexer": "ipython3",
   "version": "3.8.12"
  },
  "toc": {
   "base_numbering": 1,
   "nav_menu": {},
   "number_sections": true,
   "sideBar": true,
   "skip_h1_title": false,
   "title_cell": "Table of Contents",
   "title_sidebar": "Contents",
   "toc_cell": false,
   "toc_position": {},
   "toc_section_display": true,
   "toc_window_display": false
  }
 },
 "nbformat": 4,
 "nbformat_minor": 4
}
