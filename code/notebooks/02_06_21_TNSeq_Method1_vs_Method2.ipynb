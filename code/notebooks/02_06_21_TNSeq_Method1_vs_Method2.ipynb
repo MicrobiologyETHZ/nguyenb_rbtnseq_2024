{
 "cells": [
  {
   "cell_type": "code",
   "execution_count": null,
   "id": "closed-universe",
   "metadata": {},
   "outputs": [],
   "source": [
    "import pandas as pd\n",
    "from pathlib import Path\n",
    "from tnseq2.src.analysis import *\n",
    "from tnseq2.src.method2_analysis import *\n",
    "import numpy as np\n",
    "from scipy.stats import ranksums\n",
    "import matplotlib.pyplot as plt\n",
    "import chart_studio\n",
    "import chart_studio.tools as tls\n",
    "import chart_studio.plotly as py\n",
    "import plotly.express as px\n",
    "%matplotlib inline\n",
    "import cufflinks as cf\n",
    "from plotly.offline import download_plotlyjs, init_notebook_mode, plot, iplot\n",
    "init_notebook_mode(connected=True)\n",
    "cf.go_offline()\n",
    "import dash_bio as dashbio"
   ]
  },
  {
   "cell_type": "markdown",
   "id": "criminal-connection",
   "metadata": {},
   "source": [
    "# Table of Contents: <a id='start'></a>\n",
    "\n",
    "1. [Loading the data](#loading-data)\n",
    "2. [Method 1](#Method-1)\n",
    "3. [Method 2](#Method-2)\n",
    "4. [Compare the results](#Compare)"
   ]
  },
  {
   "cell_type": "markdown",
   "id": "dangerous-fitness",
   "metadata": {},
   "source": [
    "## Setup: <a id='loading-data'></a>\n",
    "\n",
    "- Loading the example dataset. \n",
    "\n",
    "- `lib10_cnt` dataframe contains raw counts and meta info\n",
    "- Identify `good_samples` using `calculate_correlation`"
   ]
  },
  {
   "cell_type": "code",
   "execution_count": null,
   "id": "equal-midwest",
   "metadata": {},
   "outputs": [],
   "source": [
    "counts_dir =\"/Users/ansintsova/git_repos/nguyenb_tnseq/data/13_04_results/counts\"\n",
    "outdir = '/Users/ansintsova/git_repos/nguyenb_tnseq/data/01_06'\n",
    "control_file = Path(\"/Users/ansintsova/git_repos/nguyenb_tnseq/data/13_04_results\")/'controls.txt'\n",
    "dnaids = ['dnaid1315', 'dnaid1428', 'dnaid1429', 'dnaid2015', 'dnaid2016', 'dnaid2017', 'dnaid2018', 'dnaid2019',\n",
    "         'dnaid2023', 'dnaid2024', 'dnaid2025', 'dnaid2026', 'dnaid2027', 'dnaid2028', 'dnaid2029' ]\n",
    "cnt_df = load_files(dnaids, Path(counts_dir))\n",
    "lib10_cnt = cnt_df[cnt_df.library == 'library_10_2'].copy()\n",
    "lib10_cnt['sampleIDExp'] = lib10_cnt['sampleID'] + \"_\"+ lib10_cnt['dnaid'] + \"_\" + lib10_cnt['experiment']\n",
    "annotation_df = cnt_df[['barcode', 'ShortName', 'locus_tag', 'phenotype', 'conc']].drop_duplicates()\n",
    "\n",
    "corr_df, good_samples = calculate_correlation(lib10_cnt, control_file, for_each='sampleIDExp')\n",
    "good_samples = list(good_samples)\n",
    "good_samples.remove('unenriched_inoculum_d0_dnaid2017_TV4592A')\n",
    "lib10_cnt[['barcode', 'cnt', 'ShortName', 'sampleIDExp']].head()"
   ]
  },
  {
   "cell_type": "code",
   "execution_count": null,
   "id": "joint-latin",
   "metadata": {},
   "outputs": [],
   "source": [
    "n_samples = collections.Counter([si.split(\"_\")[1] for si in good_samples])\n",
    "print(f\"Number of independent experiments: {lib10_cnt.experiment.nunique()}\")\n",
    "print(f\"Number of Samples per day:\")\n",
    "for day in sorted(n_samples.keys()):\n",
    "    print(f'{day}: {n_samples[day]} samples')"
   ]
  },
  {
   "cell_type": "markdown",
   "id": "located-lunch",
   "metadata": {},
   "source": [
    "# Method 1:  <a id='Method-1'></a>\n",
    "\n",
    "0. For each sample, correlation between WITS dilution and counts is calculated, samples with correlations < 0.8 are discarded. \n",
    "\n",
    "1. Raw barcode counts are filtered for abundance. [Why?](#method-1-filter)\n",
    "\n",
    "2. Filtered counts are input into DESeq2. [What does the output look like?](#method-1-deseq-output)\n",
    "\n",
    "3. For each **gene** calculate mean fitness (on log2 scale) and a Z-score based on log2FoldChanges and lfcSE calculated by DESeq2. [How is Z-score calculated?](#method-1-z-score)\n",
    "\n",
    "4. Calculate p-value associated with each Z-score and perform multiple test adjustment. [How is p value calculated?](#method-1-p-value)\n",
    "\n",
    "### [How to interpret Z-score?](#method-1-z-score-interpret)\n"
   ]
  },
  {
   "cell_type": "code",
   "execution_count": null,
   "id": "impressive-washington",
   "metadata": {},
   "outputs": [],
   "source": [
    "method1_fitness, method1_results = analyze_library(lib10_cnt, sample_id=\"sampleIDExp\", \n",
    "                          good_samples=good_samples, \n",
    "                          dnaid='library10', experiment='2', \n",
    "                          control_file=control_file, \n",
    "                          to_filter=1000, outdir=outdir)\n",
    "\n",
    "#method1_fitness.to_csv(Path(\"/Users/ansintsova/git_repos/avocado/data\")/\"method1_fitness.csv\")\n",
    "#method1_results.to_csv(Path(\"/Users/ansintsova/git_repos/avocado/data\")/\"method1_results.csv\")"
   ]
  },
  {
   "cell_type": "code",
   "execution_count": null,
   "id": "rotary-reform",
   "metadata": {},
   "outputs": [],
   "source": [
    "method1_results.sample(5, random_state =42)"
   ]
  },
  {
   "cell_type": "code",
   "execution_count": null,
   "id": "northern-somerset",
   "metadata": {},
   "outputs": [],
   "source": [
    "print(f'Tested {method1_results.shape[0]} genes/barcodes')\n",
    "for day in ['d1', 'd2', 'd3', 'd4']:\n",
    "    print(f'Number of significant hits on {day}: {method1_results[method1_results[day+\"_padj\"] < 0.05].shape[0]}')"
   ]
  },
  {
   "cell_type": "markdown",
   "id": "freelance-language",
   "metadata": {},
   "source": [
    "# Method 2\n",
    "<a id='Method-2'></a>\n",
    "\n",
    "0. For each sample, correlation between WITS dilution and counts is calculated, samples with correlations < 0.8 are discarded.\n",
    "1. Raw barcode counts are run through DESeq2 VST transformation.\n",
    "2. Calculate mean inoculum value for each barcode based on all inoculum samples.\n",
    "3. Calculate fitness for each barcode as abundance on a given day compared to the inoculum.\n",
    "4. Calculate fitness for each **gene** as the median of fitness values of the barcodes mapped to that gene. WT fitness is the median fitness of all WITS barcodes.\n",
    "    - [How consistent are fitness values across mice?](#method-2-fitness-conistency)\n",
    "    - [Are the fitness values for control barcodes within expectations?](#method-2-fitness-controls)\n",
    "5. P-value is calculated using Mann-Whitney U test. Multi-test correction using Benjamini/Hochberg (non-negative). [How is p-value calculated?](#method-2-p-value)\n",
    "6. Calculate CI as gene fitness relative to  WT fitness. Same test for significance using ssaV mutants as controls. \n"
   ]
  },
  {
   "cell_type": "code",
   "execution_count": null,
   "id": "victorian-township",
   "metadata": {},
   "outputs": [],
   "source": [
    "vst_df = run_VST_transformation(lib10_cnt, \"method2-lib10-2\", good_samples, outdir, sample_id='sampleIDExp').set_index('barcode')\n",
    "#vst_df.to_csv(Path(\"/Users/ansintsova/git_repos/avocado/data\")/\"vst_counts.csv\")"
   ]
  },
  {
   "cell_type": "code",
   "execution_count": null,
   "id": "partial-abraham",
   "metadata": {},
   "outputs": [],
   "source": [
    "all_fitness_df, gene_fitness_df, ci_df, results_df, wt_fitness_df, ssa_ci_df = method2_analysis(vst_df, annotation_df, good_samples, sample_id='sampleID', hits=0.05)\n",
    "#all_fitness_df.to_csv(Path(\"/Users/ansintsova/git_repos/avocado/data\")/\"method2_all_fitness.csv\")\n",
    "#gene_fitness_df.to_csv(Path(\"/Users/ansintsova/git_repos/avocado/data\")/\"method2_gene_fitness.csv\")\n",
    "#ci_df.to_csv(Path(\"/Users/ansintsova/git_repos/avocado/data\")/\"method2_all_ci.csv\")\n",
    "#results_df.to_csv(Path(\"/Users/ansintsova/git_repos/avocado/data\")/\"method2_all_results.csv\")\n",
    "\n",
    "#wt_fitness_df.to_csv(Path(\"/Users/ansintsova/git_repos/avocado/data\")/\"method2_wt_fitness.csv\")\n",
    "#ssa_ci_df.to_csv(Path(\"/Users/ansintsova/git_repos/avocado/data\")/\"method2_ssa_ci_fitness.csv\")"
   ]
  },
  {
   "cell_type": "code",
   "execution_count": null,
   "id": "therapeutic-tutorial",
   "metadata": {},
   "outputs": [],
   "source": [
    "vst_df.sample(5, random_state=5)\n",
    "results_df.sample(5, random_state=42)\n",
    "results_df.ci_hits.sum()"
   ]
  },
  {
   "cell_type": "code",
   "execution_count": null,
   "id": "sonic-istanbul",
   "metadata": {},
   "outputs": [],
   "source": [
    "results_df.groupby('day').padj.count()\n",
    "print('Tested 1888 genes/barcodes')\n",
    "for day in ['d1', 'd2', 'd3', 'd4']:\n",
    "    print(f'Number of significant hits on {day}: {results_df[(results_df.day == day)&(results_df.ci_padj < 0.05)].shape[0]}')"
   ]
  },
  {
   "cell_type": "markdown",
   "id": "fallen-briefing",
   "metadata": {},
   "source": [
    "# Comparing Method 1 and Method 2 results"
   ]
  },
  {
   "cell_type": "markdown",
   "id": "addressed-lebanon",
   "metadata": {},
   "source": [
    "## Method 1: Filtering for abundant barcodes <a id='method-1-filter'></a>\n",
    "\n",
    "- For some inoculum samples, there are barcodes present at very low abundances\n",
    "- Including these in the analysis introduces a lot of noise (See example below)\n",
    "\n",
    "[Back to Method 1](#Method-1)"
   ]
  },
  {
   "cell_type": "code",
   "execution_count": null,
   "id": "exact-faculty",
   "metadata": {},
   "outputs": [],
   "source": [
    "inoculum_samples = [s for s in lib10_cnt.sampleIDExp.unique() if 'inoculum' in s]\n",
    "inoculum_counts = lib10_cnt[lib10_cnt.sampleIDExp.isin(inoculum_samples)]"
   ]
  },
  {
   "cell_type": "code",
   "execution_count": null,
   "id": "sustainable-positive",
   "metadata": {},
   "outputs": [],
   "source": [
    "(px.histogram(inoculum_counts, x='cnt', color='sampleIDExp')\n",
    ".update_layout(title={\"text\": \"Distribution of barcode counts in the inoculum\", \"x\": 0.5}, \n",
    "               yaxis_title=\"Frequency\", xaxis_title=\"Count\"))"
   ]
  },
  {
   "cell_type": "markdown",
   "id": "accredited-drunk",
   "metadata": {},
   "source": [
    "## Analyze results with Method 1 without filtering:"
   ]
  },
  {
   "cell_type": "code",
   "execution_count": null,
   "id": "phantom-gauge",
   "metadata": {},
   "outputs": [],
   "source": [
    "m1_fitness_unfiltered, method1_results_unfiltered = analyze_library(lib10_cnt, sample_id=\"sampleIDExp\", \n",
    "                          good_samples=good_samples, \n",
    "                          dnaid='library10', experiment='2', \n",
    "                          control_file=control_file, \n",
    "                          to_filter=0, outdir=outdir)"
   ]
  },
  {
   "cell_type": "code",
   "execution_count": null,
   "id": "annual-technical",
   "metadata": {},
   "outputs": [],
   "source": [
    "print(f'Tested {method1_results_unfiltered.shape[0]} genes/barcodes')\n",
    "for day in ['d1', 'd2', 'd3', 'd4']:\n",
    "    print(f'Number of significant hits on {day}: {method1_results_unfiltered[method1_results_unfiltered[day+\"_padj\"] < 0.05].shape[0]}')"
   ]
  },
  {
   "cell_type": "code",
   "execution_count": null,
   "id": "covered-schema",
   "metadata": {},
   "outputs": [],
   "source": [
    "to_keep = ['d1_fitness_mean','d1_fitness_std', 'd1_padj']\n",
    "m1_filtering_comp = method1_results[to_keep].merge(method1_results_unfiltered[to_keep], left_index=True, right_index=True)\n",
    "fig = px.scatter(m1_filtering_comp, x='d1_fitness_mean_x', y='d1_fitness_mean_y', hover_data=[m1_filtering_comp.index],\n",
    "                width=1000, height=800, color='d1_fitness_std_y',\n",
    "                labels={'d1_fitness_mean_x': 'Day 1 Fitness Filtered', \n",
    "                       'd1_fitness_mean_y': 'Day 1 Fitness Unfiltered',\n",
    "                       'd1_fitness_std_y':'Day 1 stdev between barcodes (unfiltered)'},\n",
    "                )\n",
    "fig.update_xaxes(range=[-8, 3])\n",
    "fig.update_yaxes(range=[-8, 3])\n",
    "fig"
   ]
  },
  {
   "cell_type": "markdown",
   "id": "loved-animal",
   "metadata": {},
   "source": [
    "## Example 1: *rfbI*\n",
    "\n",
    "- In the unfiltered data, there are 2 barcodes mapping to *rfbI*, one with very low abundance.\n",
    "- This barcode has an exaggerated log2FoldChange, and hides the signal from the other barcode present in high abundace"
   ]
  },
  {
   "cell_type": "code",
   "execution_count": null,
   "id": "external-possible",
   "metadata": {},
   "outputs": [],
   "source": [
    "rfbi_bc = ['AACCATAATCCCCCGAT', 'AGCTAATCCCCCTGCCG']\n",
    "m1_fitness_unfiltered[m1_fitness_unfiltered.barcode.isin(rfbi_bc)].sort_values('day')"
   ]
  },
  {
   "cell_type": "markdown",
   "id": "frozen-reform",
   "metadata": {},
   "source": [
    "## Another Example: *rfaL*"
   ]
  },
  {
   "cell_type": "code",
   "execution_count": null,
   "id": "jewish-shareware",
   "metadata": {},
   "outputs": [],
   "source": [
    "rfaL_bc = [c.strip() for c in method1_results_unfiltered.loc['rfaL'].barcode.split(\",\")]\n",
    "m1_fitness_unfiltered[m1_fitness_unfiltered.barcode.isin(rfaL_bc)].sort_values('day')"
   ]
  },
  {
   "cell_type": "markdown",
   "id": "frozen-building",
   "metadata": {},
   "source": [
    "## Method 1: DESeq2 Output  <a id='method-1-deseq-output'></a>\n",
    "\n",
    "- For each barcode, DESeq2 calculates log2FoldChange, associated error (lfcSE), and FDR corrected p-value (padj)\n",
    "- Also included how many samples (i.e. mice were included for each day)\n",
    "\n",
    "[Back to Method 1](#Method-1)"
   ]
  },
  {
   "cell_type": "code",
   "execution_count": null,
   "id": "pleased-official",
   "metadata": {},
   "outputs": [],
   "source": [
    "m1_fitness_unfiltered.sample(5)"
   ]
  },
  {
   "cell_type": "markdown",
   "id": "higher-emperor",
   "metadata": {},
   "source": [
    "## Method 1: Z-Score Calculation: <a id='method-1-z-score'></a>\n",
    "\n",
    "\n",
    "\n",
    "\n",
    "\n",
    "[Back to Method 1](#Method-1)"
   ]
  },
  {
   "cell_type": "markdown",
   "id": "derived-novelty",
   "metadata": {},
   "source": [
    "## Method 1: p-values\n",
    "<a id='method-1-p-value'></a>\n",
    "[Back to Method 1](#Method-1)"
   ]
  },
  {
   "cell_type": "markdown",
   "id": "spiritual-panic",
   "metadata": {},
   "source": [
    "## Method 1: How to interpret Z-score? \n",
    "<a id='method-1-z-score-interpret'></a>\n",
    "\n",
    "- Map between CI and Z-score? Z-score as another measure of CI. "
   ]
  },
  {
   "cell_type": "markdown",
   "id": "adaptive-neighbor",
   "metadata": {},
   "source": [
    "## Method 2: How consistent are fitness values across mice? \n",
    "<a id='method-2-fitness-conistency'></a>\n",
    "\n",
    "\n",
    "[Back to Method 2](#Method-2)"
   ]
  },
  {
   "cell_type": "code",
   "execution_count": null,
   "id": "fossil-association",
   "metadata": {},
   "outputs": [],
   "source": [
    "rsd = gene_fitness_df.groupby(['ShortName', 'day']).agg({'Fitness': ['mean', 'std']}).reset_index()\n",
    "rsd.columns = ['ShortName', 'day', 'mean', 'std']\n",
    "rsd['rsd'] = rsd['std']/rsd['mean']\n"
   ]
  },
  {
   "cell_type": "code",
   "execution_count": null,
   "id": "artificial-disability",
   "metadata": {},
   "outputs": [],
   "source": [
    "mouse = gene_fitness_df.sampleID.str.split(\"_\", expand=True)[0]\n",
    "mouse.name = 'mouse'\n",
    "gene_fitness = pd.concat([gene_fitness_df, mouse], axis=1)"
   ]
  },
  {
   "cell_type": "code",
   "execution_count": null,
   "id": "another-disney",
   "metadata": {},
   "outputs": [],
   "source": [
    "px.strip(gene_fitness[gene_fitness['ShortName'] == 'dcuB'], x='day', y='Fitness', hover_data=['mouse'], \n",
    "        log_y = True)"
   ]
  },
  {
   "cell_type": "code",
   "execution_count": null,
   "id": "radio-chrome",
   "metadata": {},
   "outputs": [],
   "source": [
    "gene_fitness['log2FC'] = np.log2(gene_fitness.Fitness)\n",
    "t = gene_fitness.pivot(index=['ShortName', 'mouse'] , columns='day', values='log2FC').reset_index()\n"
   ]
  },
  {
   "cell_type": "code",
   "execution_count": null,
   "id": "standard-poison",
   "metadata": {},
   "outputs": [],
   "source": [
    "gene_fitness_df.sample(10)"
   ]
  },
  {
   "cell_type": "markdown",
   "id": "lined-harvest",
   "metadata": {},
   "source": [
    "## Method 2: Are the fitness values for control barcodes within expectations? <a id='method-2-fitness-controls'></a>\n",
    "\n",
    "- Prior to both methods we calculate correlation between different dilutions of WITS barcodes and counts, and discard those with correlation of < 0.8\n",
    "- For Method 1 we can also look at Z-scores and log2FC for each barcode/each dilution\n",
    "- For Method 2 we can also look at fitness of each barcode in each mouse and look for outliers "
   ]
  },
  {
   "cell_type": "code",
   "execution_count": null,
   "id": "going-alexandria",
   "metadata": {},
   "outputs": [],
   "source": [
    "def get_control_df(fitness, phenotype='wt'):\n",
    "    fitness.columns = [c.replace(\"unenriched_\", \"unenriched-\") for c in fitness.columns]\n",
    "    fitness = fitness.drop(['day'], axis=1)\n",
    "\n",
    "    wt = fitness[fitness.phenotype == phenotype].dropna(axis=1).drop(['inoculum'], axis=1)\n",
    "    wt = wt.melt(id_vars=['barcode', 'phenotype', 'conc'], var_name='sampleExpID', value_name='fitness')\n",
    "    new = wt.sampleExpID.str.split(\"_\", expand=True)\n",
    "    new.columns = ['mouse', 'day', 'dnaid', 'experiment']\n",
    "    wt = wt.merge(new, left_index=True, right_index=True)\n",
    "    return wt\n",
    "\n",
    "wt = get_control_df(all_fitness_df)\n",
    "hyb = get_control_df(all_fitness_df, phenotype='hyb')\n",
    "chey = get_control_df(all_fitness_df, phenotype='chey')\n",
    "ssaV_invG = get_control_df(all_fitness_df, phenotype='ssaV_invG')"
   ]
  },
  {
   "cell_type": "code",
   "execution_count": null,
   "id": "falling-variable",
   "metadata": {},
   "outputs": [],
   "source": [
    "wt_cnt_d1 = lib10_cnt[(lib10_cnt.phenotype == 'wt') & (lib10_cnt.day == 'd1')][['barcode', 'mouse', 'cnt', 'conc']]\n",
    "wt_cnt_d1['lconc'] = np.log2(wt_cnt_d1.conc)\n",
    "wt_cnt_d1['lcnt'] = np.log2(wt_cnt_d1.cnt +1)"
   ]
  },
  {
   "cell_type": "code",
   "execution_count": null,
   "id": "suspected-brooks",
   "metadata": {},
   "outputs": [],
   "source": [
    "lib10_cnt.groupby('sampleIDExp').cnt.sum().reset_index().sort_values('cnt').head(10)"
   ]
  },
  {
   "cell_type": "code",
   "execution_count": null,
   "id": "broken-andrew",
   "metadata": {},
   "outputs": [],
   "source": [
    "px.scatter(wt_cnt_d1.sort_values('mouse'), x=\"lconc\", y=\"lcnt\", facet_col=\"mouse\", facet_col_wrap=3,height=3000, width=800, trendline='ols')"
   ]
  },
  {
   "cell_type": "code",
   "execution_count": null,
   "id": "statutory-peeing",
   "metadata": {},
   "outputs": [],
   "source": [
    "day = 'd1'"
   ]
  },
  {
   "cell_type": "code",
   "execution_count": null,
   "id": "charming-scroll",
   "metadata": {},
   "outputs": [],
   "source": [
    "\n",
    "wt_d1 = wt[wt.day == day]\n",
    "fig = px.strip(wt_d1, x='mouse', y=np.log2(wt_d1['fitness']), color='mouse',  hover_data=['conc', 'fitness'],\n",
    "        template='simple_white', title = f'WT-{day}',\n",
    "              labels={\"y\": \"log2(Fitness)\",\n",
    "                     \"conc\": \"Dilution\", \"fitness\": \"Fitness\"})\n",
    "fig.add_hline(y=0, line_width=3, line_dash=\"dash\")"
   ]
  },
  {
   "cell_type": "code",
   "execution_count": null,
   "id": "recognized-moral",
   "metadata": {},
   "outputs": [],
   "source": [
    "\n",
    "hyb_d1 = hyb[hyb.day == day]\n",
    "fig = px.strip(hyb_d1, x='mouse', y=np.log2(hyb_d1['fitness']), color='mouse',  hover_data=['conc', 'fitness'],\n",
    "               title = f'hyb-{day}',\n",
    "        template='simple_white', labels={\"y\": \"log2(Fitness)\",\n",
    "                     \"conc\": \"Dilution\", \"fitness\": \"Fitness\"})\n",
    "fig.add_hline(y=0, line_width=3, line_dash=\"dash\")"
   ]
  },
  {
   "cell_type": "code",
   "execution_count": null,
   "id": "destroyed-stopping",
   "metadata": {},
   "outputs": [],
   "source": [
    "\n",
    "chey_d1 = chey[chey.day == day]\n",
    "fig = px.strip(chey_d1, x='mouse', y=np.log2(chey_d1['fitness']), color='mouse',  hover_data=['conc', 'fitness'],\n",
    "               title = f'chey-{day}',\n",
    "        template='simple_white', labels={\"y\": \"log2(Fitness)\",\n",
    "                     \"conc\": \"Dilution\", \"fitness\": \"Fitness\"})\n",
    "fig.add_hline(y=0, line_width=3, line_dash=\"dash\")"
   ]
  },
  {
   "cell_type": "code",
   "execution_count": null,
   "id": "competitive-lafayette",
   "metadata": {},
   "outputs": [],
   "source": [
    "\n",
    "ssaV_invG_d1 = ssaV_invG[ssaV_invG.day == day]\n",
    "fig = px.strip(ssaV_invG_d1, x='mouse', y=np.log2(ssaV_invG_d1['fitness']), color='mouse',  hover_data=['conc', 'fitness'],\n",
    "               title = f'ssaV_invG-{day}',\n",
    "        template='simple_white', labels={\"y\": \"log2(Fitness)\",\n",
    "                     \"conc\": \"Dilution\", \"fitness\": \"Fitness\"})\n",
    "fig.add_hline(y=0, line_width=3, line_dash=\"dash\")"
   ]
  },
  {
   "cell_type": "code",
   "execution_count": null,
   "id": "spread-universe",
   "metadata": {},
   "outputs": [],
   "source": [
    "gene = 'dcuB'\n",
    "test = vst_gene_cnts[(vst_gene_cnts.ShortName == gene)& (vst_gene_cnts.day != 'd0')]\n",
    "test_inoculum = vst_gene_cnts[(vst_gene_cnts.ShortName == gene)& (vst_gene_cnts.mouse == 'inoculum')]\n",
    "fig = px.line(test, x='day', y=\"norm_count\", color='mouse',\n",
    "         hover_data=['mouse'],color_discrete_sequence= px.colors.qualitative.Dark24, \n",
    "             template='simple_white'\n",
    "             )\n",
    "fig.add_hline(y=test_inoculum.norm_count.mean(), line_width=3, line_dash=\"dash\", annotation_text=\"Mean Inoculum Count\")\n",
    "fig.add_hline(y=5.2, line_width=3, line_dash=\"dash\", annotation_text=\"Detection Limit\")\n",
    "fig.update_traces(mode='markers+lines')\n"
   ]
  },
  {
   "cell_type": "markdown",
   "id": "painful-moore",
   "metadata": {},
   "source": [
    "## Method 2: How is p-value calculated?\n",
    "<a id='method-2-p-value'></a>\n",
    "[Back to Method 1](#Method-1)"
   ]
  },
  {
   "cell_type": "code",
   "execution_count": null,
   "id": "inclusive-project",
   "metadata": {},
   "outputs": [],
   "source": [
    "wt_d1.median()"
   ]
  },
  {
   "cell_type": "code",
   "execution_count": null,
   "id": "prescribed-leave",
   "metadata": {},
   "outputs": [],
   "source": [
    "wt_d1[(wt_d1.mouse != 'am487') & (wt_d1.mouse != 'am732')].median()"
   ]
  },
  {
   "cell_type": "markdown",
   "id": "fundamental-scoop",
   "metadata": {},
   "source": [
    "# Compare the Results <a id='Compare'></a>\n",
    "\n",
    "[Back to the start](#start)"
   ]
  },
  {
   "cell_type": "markdown",
   "id": "thermal-index",
   "metadata": {},
   "source": [
    "## Merge Results from Method 1 and 2."
   ]
  },
  {
   "cell_type": "code",
   "execution_count": null,
   "id": "optimum-electric",
   "metadata": {},
   "outputs": [],
   "source": [
    "# Melt method1_results:\n",
    "\n",
    "not_to_melt = ['gene', 'locus', 'num_barcodes', 'library', 'barcode', 'sstart', 'sseqid']\n",
    "def melt_day(df, var):\n",
    "    mdf = df.reset_index().melt(id_vars=not_to_melt, value_vars=[c for c in df if var in c], value_name=var, var_name='day')\n",
    "    mdf['day'] = mdf.day.str.split(\"_\", expand=True)[0]\n",
    "    return mdf\n",
    "to_melt = ['padj', 'fitness_mean', 'num_samples', 'zscore', 'ci', 'fitness_std', 'pval']\n",
    "dfs = []\n",
    "method1_melted = pd.DataFrame(columns = not_to_melt+['day'])\n",
    "for v in to_melt:\n",
    "    print(v)\n",
    "    mdf = melt_day(method1_results, v).drop_duplicates()\n",
    "    method1_melted =  method1_melted.merge(mdf, on=not_to_melt+[\"day\"], how='outer')\n",
    "    print('done')\n",
    "method1_melted = method1_melted[['gene', 'day', 'padj', 'fitness_mean', 'num_samples', 'zscore', 'ci', 'fitness_std', 'pval']]\n",
    "method1_melted.columns = [f'{c}_method1' for c in method1_melted.columns] "
   ]
  },
  {
   "cell_type": "code",
   "execution_count": null,
   "id": "aggressive-saying",
   "metadata": {},
   "outputs": [],
   "source": [
    "\n",
    "method1_melted = method1_melted.rename({'gene_method1': 'gene', 'day_method1': 'day'}, axis=1)\n"
   ]
  },
  {
   "cell_type": "code",
   "execution_count": null,
   "id": "ceramic-earth",
   "metadata": {},
   "outputs": [],
   "source": [
    "method2_melted = results_df.reset_index()\n",
    "method2_melted.columns = [f'{c}_method2' for c in method2_melted.columns]\n",
    "method2_melted = method2_melted.rename({'ShortName_method2': 'gene', 'day_method2': 'day'}, axis=1)"
   ]
  },
  {
   "cell_type": "code",
   "execution_count": null,
   "id": "fixed-maria",
   "metadata": {},
   "outputs": [],
   "source": [
    "method2_melted"
   ]
  },
  {
   "cell_type": "code",
   "execution_count": null,
   "id": "anticipated-patio",
   "metadata": {},
   "outputs": [],
   "source": [
    "compare = method1_melted.merge(method2_melted, on=['gene', 'day'])\n",
    "compare['hits_method1'] = compare['padj_method1'] < 0.05"
   ]
  },
  {
   "cell_type": "code",
   "execution_count": null,
   "id": "fancy-bunch",
   "metadata": {},
   "outputs": [],
   "source": [
    "compare"
   ]
  },
  {
   "cell_type": "code",
   "execution_count": null,
   "id": "finished-binding",
   "metadata": {},
   "outputs": [],
   "source": [
    "compare['hits'] = compare['ci_hits_method2'].astype(int)*3 + compare['hits_method1'].astype(int)\n",
    "compare['hits'] = compare['hits'].replace({0: 'Not a hit', 1: 'Method1 Hit', 3: 'Method2 Hit', 4: 'Method 1&2 Hit'})\n",
    "compare"
   ]
  },
  {
   "cell_type": "code",
   "execution_count": null,
   "id": "desperate-latvia",
   "metadata": {},
   "outputs": [],
   "source": [
    "day1= compare[compare.day == 'd1']\n",
    "fig = px.scatter(day1, x='fitness_mean_method1', y='mean_fitness_method2', color='hits_method2', \n",
    "                  log_y=True, hover_data=['gene'], \n",
    "                template='simple_white', \n",
    "                \n",
    "                )\n",
    "fig.update_traces(marker=dict(size=12,\n",
    "                              line=dict(width=2,\n",
    "                                        color='DarkSlateGrey')),\n",
    "                  selector=dict(mode='markers'))\n",
    "fig"
   ]
  },
  {
   "cell_type": "code",
   "execution_count": null,
   "id": "stupid-burden",
   "metadata": {},
   "outputs": [],
   "source": [
    "compare.to_csv(\"/Users/ansintsova/git_repos/avocado/data/compare.csv\")"
   ]
  },
  {
   "cell_type": "code",
   "execution_count": null,
   "id": "eleven-scale",
   "metadata": {},
   "outputs": [],
   "source": [
    "day1= compare[compare.day == 'd1']\n",
    "fig = px.scatter(day1, x='ci_method1', y='median_CI_method2', color='hits', \n",
    "                 log_x=True, log_y=True, hover_data=['gene'],\n",
    "                template='simple_white', \n",
    "                color_discrete_sequence= px.colors.qualitative.Vivid,\n",
    "                )\n",
    "fig.update_traces(marker=dict(size=14,\n",
    "                              line=dict(width=0.5,\n",
    "                                        color='black')),\n",
    "                  selector=dict(mode='markers'))\n",
    "fig.update_yaxes(tickvals=[0.01, 0.1, 0.5,1,2, 10, 100])\n",
    "fig.update_xaxes(tickvals=[0.01, 0.1, 0.5,1,2, 10, 100])\n",
    "fig"
   ]
  },
  {
   "cell_type": "code",
   "execution_count": null,
   "id": "crude-working",
   "metadata": {},
   "outputs": [],
   "source": [
    "\n",
    "def get_median_for_gene_on_a_day(df, annotation, day, grp_by='ShortName'):\n",
    "    df = df.merge(annotation, on='barcode')\n",
    "    samples = dict.fromkeys(([c for c in df.columns if day in c]), ['median'])\n",
    "    day_median_value = df.groupby('ShortName').agg(samples)\n",
    "    day_median_value.columns = [c[0] for c in day_median_value.columns]\n",
    "    return day_median_value\n",
    "\n",
    "days = ['_d0', '_d1', '_d2', '_d3', '_d4']\n",
    "vst_cnt_genes = []\n",
    "for day in days:\n",
    "    print(day)\n",
    "    df = get_median_for_gene_on_a_day(vst_df, annotation_df, day)\n",
    "    vst_cnt_genes.append(df)\n",
    "vst_gene_cnts = pd.concat(vst_cnt_genes, axis=1)\n",
    "vst_gene_cnts.columns =[c.replace('unenriched_inoculum', 'unenriched-inoculum') for c in vst_gene_cnts.columns]\n",
    "vst_gene_cnts = vst_gene_cnts.reset_index().melt(id_vars='ShortName', var_name='SampleID', value_name='norm_count')\n",
    "\n",
    "\n",
    "new = vst_gene_cnts.SampleID.str.split('_', expand=True)\n",
    "new.columns = ['mouse', 'day', 'dnaid', 'experiment']\n",
    "vst_gene_cnts = pd.concat([vst_gene_cnts, new], axis=1)\n",
    "vst_gene_cnts.to_csv(\"/Users/ansintsova/git_repos/avocado/data/vst_gene_counts.csv\")"
   ]
  },
  {
   "cell_type": "code",
   "execution_count": null,
   "id": "cubic-seminar",
   "metadata": {},
   "outputs": [],
   "source": [
    "vst_gene_cnts"
   ]
  },
  {
   "cell_type": "code",
   "execution_count": null,
   "id": "brown-collective",
   "metadata": {},
   "outputs": [],
   "source": [
    "compare"
   ]
  },
  {
   "cell_type": "code",
   "execution_count": null,
   "id": "noticed-material",
   "metadata": {},
   "outputs": [],
   "source": [
    "vst_gene_cnts[(vst_gene_cnts.mouse == 'inoculum') &(vst_gene_cnts.ShortName == 'dcuB')].norm_count.mean()"
   ]
  },
  {
   "cell_type": "markdown",
   "id": "weekly-developer",
   "metadata": {},
   "source": [
    "# Counts"
   ]
  },
  {
   "cell_type": "code",
   "execution_count": null,
   "id": "compound-mapping",
   "metadata": {},
   "outputs": [],
   "source": [
    "gene = 'dcuB'\n",
    "test = vst_gene_cnts[(vst_gene_cnts.ShortName == gene)& (vst_gene_cnts.day != 'd0')]\n",
    "test_inoculum = vst_gene_cnts[(vst_gene_cnts.ShortName == gene)& (vst_gene_cnts.mouse == 'inoculum')]\n",
    "fig = px.line(test, x='day', y=\"norm_count\", color='mouse',\n",
    "         hover_data=['mouse'],color_discrete_sequence= px.colors.qualitative.Dark24, \n",
    "             template='simple_white'\n",
    "             )\n",
    "fig.add_hline(y=test_inoculum.norm_count.mean(), line_width=3, line_dash=\"dash\", annotation_text=\"Mean Inoculum Count\")\n",
    "fig.add_hline(y=5.2, line_width=3, line_dash=\"dash\", annotation_text=\"Detection Limit\")\n",
    "fig.update_traces(mode='markers+lines')\n",
    "\n"
   ]
  },
  {
   "cell_type": "code",
   "execution_count": null,
   "id": "living-couple",
   "metadata": {},
   "outputs": [],
   "source": []
  },
  {
   "cell_type": "code",
   "execution_count": null,
   "id": "desperate-monster",
   "metadata": {},
   "outputs": [],
   "source": [
    "gene = 'rfaI'\n",
    "test = vst_gene_cnts[(vst_gene_cnts.ShortName == gene)& (vst_gene_cnts.day != 'd0')]\n",
    "test_inoculum = vst_gene_cnts[(vst_gene_cnts.ShortName == gene)& (vst_gene_cnts.mouse == 'inoculum')]\n",
    "test['dayN'] = test.day.replace({'d1':1, 'd2':2, 'd3':3, 'd4':4})\n",
    "fig = px.scatter(test, x='dayN', y=\"norm_count\", color='mouse',\n",
    "         hover_data=['mouse'],color_discrete_sequence= px.colors.qualitative.Dark24, \n",
    "             template='simple_white', \n",
    "             )\n",
    "fig.add_hline(y=test_inoculum.norm_count.mean(), line_width=3, line_dash=\"dash\", annotation_text=\"Mean Inoculum Count\")\n",
    "fig.add_hline(y=5.2, line_width=3, line_dash=\"dash\", annotation_text=\"Detection Limit\")\n",
    "\n"
   ]
  },
  {
   "cell_type": "code",
   "execution_count": null,
   "id": "median-settle",
   "metadata": {},
   "outputs": [],
   "source": [
    "gene = 'dcuB'\n",
    "test = vst_gene_cnts[(vst_gene_cnts.ShortName == gene)]\n",
    "test['dayN'] = test.day.replace({'d1':1, 'd2':2, 'd3':3, 'd4':4})\n",
    "test_inoculum = vst_gene_cnts[(vst_gene_cnts.ShortName == gene)& (vst_gene_cnts.mouse == 'inoculum')]\n",
    "fig = px.box(test, x='day', y=\"norm_count\", color='day',\n",
    "         hover_data=['mouse'],\n",
    "             template='simple_white'\n",
    "             )\n",
    "fig.add_hline(y=test_inoculum.norm_count.mean(), line_width=3, line_dash=\"dash\", annotation_text=\"Mean Inoculum Count\")\n",
    "fig.add_hline(y=5.2, line_width=3, line_dash=\"dash\", annotation_text=\"Detection Limit\")\n",
    "fig"
   ]
  },
  {
   "cell_type": "code",
   "execution_count": null,
   "id": "fossil-content",
   "metadata": {},
   "outputs": [],
   "source": [
    "new = gene_fitness_df.sampleID.str.split('_', expand=True)\n",
    "new.columns = ['mouse', 'day', 'dnaid', 'experiment']\n",
    "gene_fitness_annotated = pd.concat([gene_fitness_df, new[['mouse', 'dnaid', 'experiment']]], axis=1)\n",
    "gene_fitness_annotated.to_csv('/Users/ansintsova/git_repos/avocado/data/gene_fitness_annotated.csv')"
   ]
  },
  {
   "cell_type": "code",
   "execution_count": null,
   "id": "classified-trial",
   "metadata": {},
   "outputs": [],
   "source": [
    "gene_fitness_annotated"
   ]
  },
  {
   "cell_type": "code",
   "execution_count": null,
   "id": "declared-bandwidth",
   "metadata": {},
   "outputs": [],
   "source": [
    "ci_df\n",
    "new = ci_df.sampleID.str.split('_', expand=True)\n",
    "new.columns = ['mouse', 'day', 'dnaid', 'experiment']\n",
    "ci_annotated = pd.concat([ci_df, new[['mouse', 'dnaid', 'experiment']]], axis=1)\n",
    "ci_annotated.to_csv('/Users/ansintsova/git_repos/avocado/data/ci_annotated.csv')"
   ]
  },
  {
   "cell_type": "code",
   "execution_count": null,
   "id": "durable-mineral",
   "metadata": {},
   "outputs": [],
   "source": [
    "gene = 'dcuB'\n",
    "test = gene_fitness_annotated[gene_fitness_annotated.ShortName == gene]\n",
    "\n",
    "fig = px.line(test, x='day', y=\"Fitness\", color='mouse',\n",
    "         hover_data=['mouse'], color_discrete_sequence= px.colors.qualitative.Dark24, \n",
    "             template='simple_white', log_y=True, \n",
    "             )\n",
    "fig.add_hline(y=1, line_width=3, line_dash=\"dash\", annotation_text=\"Fitness\")\n",
    "fig.update_traces(mode='markers+lines')\n",
    "fig.update_yaxes(tickvals=[0.01, 0.1, 0.5,1,2, 10, 100])"
   ]
  },
  {
   "cell_type": "code",
   "execution_count": null,
   "id": "natural-washer",
   "metadata": {},
   "outputs": [],
   "source": [
    "gene = 'dcuB'\n",
    "test = gene_fitness_annotated[gene_fitness_annotated.ShortName == gene]\n",
    "\n",
    "fig = px.box(test, x='day', y=\"Fitness\", color='day',\n",
    "         hover_data=['mouse'],\n",
    "             template='simple_white', log_y=True\n",
    "             )\n",
    "fig.update_yaxes(tickvals=[0.01, 0.1, 0.5,1,2, 10, 100])\n",
    "fig.add_hline(y=1, line_width=3, line_dash=\"dash\", annotation_text=\"Detection Limit\")"
   ]
  },
  {
   "cell_type": "code",
   "execution_count": null,
   "id": "intimate-complex",
   "metadata": {},
   "outputs": [],
   "source": [
    "gene_fitness[gene_fitness.mouse == 'am731'].day.unique()"
   ]
  },
  {
   "cell_type": "code",
   "execution_count": null,
   "id": "ethical-premiere",
   "metadata": {},
   "outputs": [],
   "source": [
    "gene_fitness_df[gene_fitness_df.sampleID.str.startswith('am731')].day.unique()"
   ]
  },
  {
   "cell_type": "code",
   "execution_count": null,
   "id": "prime-platform",
   "metadata": {},
   "outputs": [],
   "source": [
    "gene_fitness_annotated[gene_fitness_annotated.ShortName == 'hybA']"
   ]
  },
  {
   "cell_type": "code",
   "execution_count": null,
   "id": "scheduled-domain",
   "metadata": {},
   "outputs": [],
   "source": []
  }
 ],
 "metadata": {
  "kernelspec": {
   "display_name": "Python 3",
   "language": "python",
   "name": "python3"
  },
  "language_info": {
   "codemirror_mode": {
    "name": "ipython",
    "version": 3
   },
   "file_extension": ".py",
   "mimetype": "text/x-python",
   "name": "python",
   "nbconvert_exporter": "python",
   "pygments_lexer": "ipython3",
   "version": "3.6.6"
  }
 },
 "nbformat": 4,
 "nbformat_minor": 5
}
