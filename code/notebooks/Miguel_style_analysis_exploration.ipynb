{
 "cells": [
  {
   "cell_type": "code",
   "execution_count": null,
   "id": "satisfied-boutique",
   "metadata": {},
   "outputs": [],
   "source": [
    "import pandas as pd\n",
    "from pathlib import Path\n",
    "from tnseq2.src.analysis import *\n",
    "\n",
    "import numpy as np\n",
    "from scipy.stats import ranksums\n",
    "import matplotlib.pyplot as plt\n",
    "import chart_studio\n",
    "import chart_studio.tools as tls\n",
    "import chart_studio.plotly as py\n",
    "import plotly.express as px\n",
    "%matplotlib inline\n",
    "import cufflinks as cf\n",
    "from plotly.offline import download_plotlyjs, init_notebook_mode, plot, iplot\n",
    "init_notebook_mode(connected=True)\n",
    "cf.go_offline()"
   ]
  },
  {
   "cell_type": "code",
   "execution_count": null,
   "id": "graphic-documentary",
   "metadata": {},
   "outputs": [],
   "source": [
    "user_name = 'ansintsova'\n",
    "api_key = \"ZN7bd2M7Asfvb0iDMoPN\"\n",
    "tls.set_credentials_file(username=user_name, api_key=api_key)"
   ]
  },
  {
   "cell_type": "markdown",
   "id": "duplicate-hands",
   "metadata": {},
   "source": [
    "# Normalize counts:\n",
    "\n",
    "- Using lib10 mice for this analysis\n",
    "\n",
    "1. Rarefaction -> is this appropriate, no one does this outside of microbiome data, and questionable for microbiome as well.\n",
    "2. DESeq2 VST transformation -> more acceptable\n",
    "3. TPMs\n",
    "\n",
    "Compare this to results produced by DESeq2 alone"
   ]
  },
  {
   "cell_type": "markdown",
   "id": "devoted-wallace",
   "metadata": {},
   "source": [
    "- Get the raw counts for library_10_2"
   ]
  },
  {
   "cell_type": "code",
   "execution_count": null,
   "id": "waiting-radar",
   "metadata": {},
   "outputs": [],
   "source": [
    "root =\"/Users/ansintsova/git_repos/nguyenb_tnseq/data/13_04_results\"\n",
    "results = \"results\"\n",
    "counts = \"counts\"\n",
    "dnaids = ['dnaid1315', 'dnaid1428', 'dnaid1429', 'dnaid2015', 'dnaid2016', 'dnaid2017', 'dnaid2018', 'dnaid2019',\n",
    "         'dnaid2023', 'dnaid2024', 'dnaid2025', 'dnaid2026', 'dnaid2027', 'dnaid2028', 'dnaid2029' ]\n",
    "cnt_df = load_files(dnaids, Path(root)/counts)\n",
    "lib10_cnt = cnt_df[cnt_df.library == 'library_10_2'].copy()\n",
    "lib10_cnt['sampleIDExp'] = lib10_cnt['sampleID'] + \"_\"+ lib10_cnt['dnaid'] + \"_\" + lib10_cnt['experiment']"
   ]
  },
  {
   "cell_type": "markdown",
   "id": "wrapped-lobby",
   "metadata": {},
   "source": [
    "## Identify good samples and subset count DF"
   ]
  },
  {
   "cell_type": "code",
   "execution_count": null,
   "id": "ancient-protocol",
   "metadata": {},
   "outputs": [],
   "source": [
    "control_file = Path(root)/'controls.txt'\n",
    "corr_df, good_samples = calculate_correlation(lib10_cnt, control_file, for_each='sampleIDExp')\n",
    "lib10_cnt = lib10_cnt[lib10_cnt.sampleIDExp.isin(good_samples)]"
   ]
  },
  {
   "cell_type": "code",
   "execution_count": null,
   "id": "martial-bulgaria",
   "metadata": {},
   "outputs": [],
   "source": [
    "lib10_cnt.head()"
   ]
  },
  {
   "cell_type": "markdown",
   "id": "exclusive-customer",
   "metadata": {},
   "source": [
    "## Normalize data\n",
    "\n",
    "### VST"
   ]
  },
  {
   "cell_type": "code",
   "execution_count": null,
   "id": "appropriate-guest",
   "metadata": {},
   "outputs": [],
   "source": [
    "sdf = lib10_cnt[['sampleID', 'mouse', 'day', 'tissue', 'dnaid', 'experiment', 'sampleIDExp']].set_index('sampleIDExp').drop_duplicates()\n",
    "edf = (lib10_cnt[['barcode', 'sampleIDExp', 'experiment', 'mouse', 'day', 'tissue', 'dnaid', 'cnt']].drop_duplicates()\n",
    "       .pivot(index='barcode', columns='sampleIDExp', values='cnt'))\n",
    "edf = edf[list(sdf.index)]\n",
    "edf = edf.fillna(0)\n",
    "sdf.to_csv(Path(root)/results/'30_04_lib10_sdf.csv')\n",
    "edf.to_csv(Path(root)/results/'30_04_lib10_edf.csv')\n",
    "# # Run DESeq2\n",
    "vst = pd.read_csv(Path(root)/results/'30_14_lib10_vsd.csv').rename({'Unnamed: 0':'barcode'}, axis=1).set_index('barcode')"
   ]
  },
  {
   "cell_type": "markdown",
   "id": "subjective-madagascar",
   "metadata": {},
   "source": [
    "## CLR\n",
    "\n",
    "- ignoring 0 does not make sense for the transformation\n",
    "- have to use pseudocounts\n"
   ]
  },
  {
   "cell_type": "code",
   "execution_count": null,
   "id": "jewish-console",
   "metadata": {},
   "outputs": [],
   "source": [
    "import numpy as np\n",
    "from skbio.stats.composition import clr\n",
    "\n",
    "def clr_on_array_with_0(a):\n",
    "    a = np.ma.masked_equal(a, 0)\n",
    "    transformed = clr(a)\n",
    "    transformed[transformed.mask] = a.fill_value\n",
    "    transformed = transformed.data\n",
    "    return transformed\n",
    "\n",
    "\n",
    "def clr_on_array_with_pseudocount(a):\n",
    "    transformed = clr(a+1)\n",
    "    return transformed\n",
    "\n",
    "clr_df= edf.copy().apply(clr_on_array_with_0)\n",
    "clr2_df = edf.copy().apply(clr_on_array_with_pseudocount)"
   ]
  },
  {
   "cell_type": "code",
   "execution_count": null,
   "id": "facial-evidence",
   "metadata": {},
   "outputs": [],
   "source": [
    "clr2_df.head()"
   ]
  },
  {
   "cell_type": "code",
   "execution_count": null,
   "id": "interior-shoulder",
   "metadata": {},
   "outputs": [],
   "source": [
    "clr_df.ad927_d1_dnaid2017_TV4592A[clr_df.ad927_d1_dnaid2017_TV4592A==0]"
   ]
  },
  {
   "cell_type": "code",
   "execution_count": null,
   "id": "traditional-decrease",
   "metadata": {},
   "outputs": [],
   "source": [
    "px.scatter(x=clr2_df.ad927_d1_dnaid2017_TV4592A, y = clr_df.ad927_d1_dnaid2017_TV4592A)"
   ]
  },
  {
   "cell_type": "code",
   "execution_count": null,
   "id": "severe-moses",
   "metadata": {},
   "outputs": [],
   "source": [
    "px.scatter(x=clr2_df.ad927_d1_dnaid2017_TV4592A, y = logbpm.ad927_d1_dnaid2017_TV4592A)"
   ]
  },
  {
   "cell_type": "code",
   "execution_count": null,
   "id": "advance-charles",
   "metadata": {},
   "outputs": [],
   "source": [
    "px.scatter(x=clr2_df.ad927_d1_dnaid2017_TV4592A, y = vst.ad927_d1_dnaid2017_TV4592A)"
   ]
  },
  {
   "cell_type": "code",
   "execution_count": null,
   "id": "judicial-establishment",
   "metadata": {},
   "outputs": [],
   "source": [
    "px.scatter(x=np.log2(rare.ad927_d1_dnaid2017_TV4592A+1), y = vst.ad927_d1_dnaid2017_TV4592A)"
   ]
  },
  {
   "cell_type": "markdown",
   "id": "normal-hopkins",
   "metadata": {},
   "source": [
    "### Rarefaction"
   ]
  },
  {
   "cell_type": "code",
   "execution_count": null,
   "id": "found-confidence",
   "metadata": {},
   "outputs": [],
   "source": [
    "lib10_cnt.head()"
   ]
  },
  {
   "cell_type": "code",
   "execution_count": null,
   "id": "premium-involvement",
   "metadata": {},
   "outputs": [],
   "source": [
    "good_samples_rare = list(good_samples).copy()\n",
    "good_samples_rare.remove('am487_d1_dnaid2027_TV5563A') #Has too few reads\n",
    "lib10_cnt_rare = lib10_cnt[lib10_cnt.sampleIDExp.isin(good_samples_rare)]\n",
    "edf_rare = (lib10_cnt_rare[['barcode', 'sampleIDExp', 'experiment', 'mouse', 'day', 'tissue', 'dnaid', 'cnt']].drop_duplicates()\n",
    "       .pivot(index='barcode', columns='sampleIDExp', values='cnt'))\n",
    "edf_rare = edf_rare.fillna(0)\n",
    "edf_rare.to_csv(Path(root)/'results/03_05_lib10_rare_edf.csv')\n",
    "## Rarefy with vegan in R\n",
    "\n",
    "#rare = pd.read_csv(Path(root)/'results/05_05_lib10_rarefied_edf.csv').rename({'Unnamed: 0':'barcode'}, axis=1).set_index('barcode')\n",
    "\n",
    "rare = (pd.read_csv(Path(root)/'results/05_05_lib10_rarefied_edf.csv')\n",
    "        .set_index('Unnamed: 0').T)\n",
    "rare.index.name = 'barcode'"
   ]
  },
  {
   "cell_type": "markdown",
   "id": "classical-nowhere",
   "metadata": {},
   "source": [
    "### TPMs (or barcodes per million, BPMs)"
   ]
  },
  {
   "cell_type": "code",
   "execution_count": null,
   "id": "antique-western",
   "metadata": {},
   "outputs": [],
   "source": [
    "per_million = edf.sum()/1000000\n",
    "bpm = edf/per_million\n",
    "logbpm = np.log2(bpm +1)"
   ]
  },
  {
   "cell_type": "code",
   "execution_count": null,
   "id": "stylish-wonder",
   "metadata": {},
   "outputs": [],
   "source": [
    "annotation_df = cnt_df[['barcode', 'ShortName', 'locus_tag', 'phenotype', 'conc']].drop_duplicates()"
   ]
  },
  {
   "cell_type": "markdown",
   "id": "peaceful-expense",
   "metadata": {},
   "source": [
    "- Calculate mean for the inoculum samples\n",
    "- Calculate fitness"
   ]
  },
  {
   "cell_type": "code",
   "execution_count": null,
   "id": "starting-biology",
   "metadata": {},
   "outputs": [],
   "source": [
    "import statsmodels\n",
    "def gene_ranksums(gene_values, wt_values):\n",
    "    return ranksums(gene_values, wt_values)[1]\n",
    "\n",
    "def fdr_correction(pvals):\n",
    "    return statsmodels.stats.multitest.multipletests(pvals, alpha=0.05, method='fdr_bh')[1]\n",
    "\n",
    "\n",
    "def get_median_for_gene_on_a_day(df, annotation, day, grp_by='ShortName'):\n",
    "    df = df.merge(annotation, on='barcode')\n",
    "    samples = dict.fromkeys(([c for c in df.columns if day in c]), ['median'])\n",
    "    day_median_value = df.groupby('ShortName').agg(samples)\n",
    "    day_median_value.columns = [c[0] for c in day_median_value.columns]\n",
    "    return day_median_value\n",
    "\n",
    "\n",
    "def get_fitness(cnts, annotation, day, good_samples=good_samples, hits=0.05, rare=False):\n",
    "    # Calculate a mean value for all inoculum samples\n",
    "    \n",
    "    cnts['inoculum'] = cnts[[c for c in cnts.columns if 'd0' in c]].mean(axis=1)\n",
    "    cnts = cnts.dropna(subset=['inoculum'])\n",
    "    cnts = cnts[cnts.inoculum > 0]\n",
    "    # Caclucalte fitness for each barcode\n",
    "    if rare:\n",
    "        fitness = cnts.apply(lambda x: x/cnts['inoculum']).reset_index()\n",
    "    else:\n",
    "        fitness = cnts.apply(lambda x: 2**x/2**cnts['inoculum']).reset_index()\n",
    "    # Add gene annotation\n",
    "    \n",
    "        \n",
    "    fitness = fitness.merge(annotation, on='barcode')\n",
    "    # Calculate fitness for each gene\n",
    "    # Drop controls for now\n",
    "    gene_df = fitness[fitness.phenotype.isna()]\n",
    "    # Calculate median value for each ShortName\n",
    "    samples = dict.fromkeys(([c for c in fitness.columns if day in c]), ['median'])\n",
    "    day_fitness = gene_df.groupby('ShortName').agg(samples)\n",
    "    day_fitness.columns = [c[0] for c in day_fitness.columns]\n",
    "\n",
    "    # Calculate median fitness for wt barcodes\n",
    "    wt_fitness = fitness[fitness.phenotype == 'wt'][[c for c in good_samples if day in c]].median()\n",
    "    \n",
    "    # Calculate rnasksums test for wt vs each gene, multi-test correction using Benjamini/Hochberg (non-negative)\n",
    "    pvals = day_fitness.apply(gene_ranksums,  axis=1, wt_values = wt_fitness)\n",
    "    padj = fdr_correction(pvals.values)\n",
    "    results = pd.DataFrame([pvals.values, padj], columns=pvals.index, index=['pval', 'padj']).T\n",
    "    \n",
    "    # Calculate CI\n",
    "    day_ci = day_fitness.apply(lambda x: x/wt_fitness[x.name])\n",
    "    ssa_fitness = fitness[fitness.phenotype == 'ssaV_invG'][[c for c in good_samples if day in c]].median()\n",
    "    ssa_ci = ssa_fitness/wt_fitness\n",
    "    \n",
    "    pvals_ci = day_ci.apply(gene_ranksums,  axis=1, wt_values = ssa_ci)\n",
    "    ci_res = pd.DataFrame([pvals_ci.values, fdr_correction(pvals_ci.values)], columns=pvals.index, index=['ci_pval', 'ci_padj']).T\n",
    "    \n",
    "    # Calculate median and mean fitness and median and mean CI\n",
    "    \n",
    "    day_fitness['median_fitness'] = day_fitness.median(axis=1)\n",
    "    day_fitness['mean_fitness'] =  day_fitness.mean(axis=1)\n",
    "    day_fitness = day_fitness.merge(results, left_index=True, right_index=True)\n",
    "    day_ci['median_CI'] = day_ci.median(axis=1)\n",
    "    day_ci['mean_CI'] = day_ci.mean(axis=1)\n",
    "    \n",
    "    day_ci = day_ci.merge(ci_res, left_index=True, right_index=True)\n",
    "    controls = pd.concat([wt_fitness, ssa_fitness], axis=1)\n",
    "    controls.columns = ['wt', 'ssaV_invG']\n",
    "    day_fitness['hits'] = day_fitness['padj'] < hits\n",
    "    day_ci['hits'] = day_ci['ci_padj'] < hits\n",
    "    return day_fitness, day_ci, controls, ssa_ci"
   ]
  },
  {
   "cell_type": "markdown",
   "id": "chubby-edwards",
   "metadata": {},
   "source": [
    "### Looking at the Inoculum"
   ]
  },
  {
   "cell_type": "code",
   "execution_count": null,
   "id": "bright-stability",
   "metadata": {},
   "outputs": [],
   "source": [
    "# VST\n",
    "\n",
    "vst_cnt_d0 = get_median_for_gene_on_a_day(vst, annotation_df, 'd0')\n",
    "vst_inoculum_cnts = vst_cnt_d0.median(axis=1)\n",
    "vst_inoculum_cnts.name = 'median_inoculm_value'\n",
    "\n",
    "# Rare\n",
    "rare_cnt_d0 = get_median_for_gene_on_a_day(rare, annotation_df, 'd0')\n",
    "rare_inoculum_cnts = rare_cnt_d0.median(axis=1)\n",
    "rare_inoculum_cnts.name = 'median_inoculm_value'\n",
    "# BPM\n",
    "bpm_cnt_d0 = get_median_for_gene_on_a_day(logbpm, annotation_df, 'd0')\n",
    "bpm_inoculum_cnts = bpm_cnt_d0.median(axis=1)\n",
    "bpm_inoculum_cnts.name = 'median_inoculm_value'\n",
    "inoculum_cnts = pd.DataFrame([vst_inoculum_cnts, rare_inoculum_cnts, bpm_inoculum_cnts], index=['VST', 'RARE', 'BPM']).T"
   ]
  },
  {
   "cell_type": "code",
   "execution_count": null,
   "id": "patent-delaware",
   "metadata": {},
   "outputs": [],
   "source": [
    "inoculum_cnts.head()"
   ]
  },
  {
   "cell_type": "code",
   "execution_count": null,
   "id": "strong-spring",
   "metadata": {},
   "outputs": [],
   "source": [
    "import ipywidgets as widgets\n",
    "from ipywidgets import interact, interact_manual\n",
    "\n",
    "@interact\n",
    "def scatter_plot(normalization=['VST', 'RARE', 'BPM']):\n",
    "    fig = px.histogram(inoculum_cnts, x=normalization, nbins=100)\n",
    "    fig.show()"
   ]
  },
  {
   "cell_type": "markdown",
   "id": "touched-action",
   "metadata": {},
   "source": [
    "### Looking at Day 1"
   ]
  },
  {
   "cell_type": "code",
   "execution_count": null,
   "id": "jewish-perth",
   "metadata": {},
   "outputs": [],
   "source": [
    "vst_inoculum_cnts.name = 'median_inoculm_value'"
   ]
  },
  {
   "cell_type": "code",
   "execution_count": null,
   "id": "informed-coating",
   "metadata": {},
   "outputs": [],
   "source": [
    "# VST\n",
    "vst_fit_d1, vst_ci_d1, vst_controls_d1, vst_ssa_ci_d1 = get_fitness(vst, annotation_df, 'd1', good_samples=good_samples)\n",
    "\n",
    "vst_fit_d1 = vst_fit_d1.merge(2**vst_inoculum_cnts, on='ShortName')\n",
    "\n",
    "# RARE\n",
    "\n",
    "rare_fit_d1, rare_ci_d1, rare_controls_d1, rare_ssa_ci_d1 = get_fitness(rare, annotation_df, 'd1', good_samples=good_samples_rare, rare=True)\n",
    "\n",
    "rare_fit_d1 = rare_fit_d1.merge(rare_inoculum_cnts, on='ShortName')\n",
    "# BPM\n",
    "\n",
    "bpm_fit_d1, bpm_ci_d1, bpm_controls_d1, bpm_ssa_ci_d1 = get_fitness(logbpm, annotation_df, 'd1', good_samples=good_samples)\n",
    "\n",
    "bpm_fit_d1 = bpm_fit_d1.merge(bpm_inoculum_cnts, on='ShortName')"
   ]
  },
  {
   "cell_type": "code",
   "execution_count": null,
   "id": "occasional-australian",
   "metadata": {},
   "outputs": [],
   "source": [
    "vst_fit_d1.hits.sum()"
   ]
  },
  {
   "cell_type": "code",
   "execution_count": null,
   "id": "impaired-stand",
   "metadata": {},
   "outputs": [],
   "source": [
    "rare_ci_d1.loc['dcuR']"
   ]
  },
  {
   "cell_type": "code",
   "execution_count": null,
   "id": "destroyed-indicator",
   "metadata": {},
   "outputs": [],
   "source": [
    "vst_controls_d1 "
   ]
  },
  {
   "cell_type": "code",
   "execution_count": null,
   "id": "collectible-august",
   "metadata": {},
   "outputs": [],
   "source": [
    "vst_fitness = px.scatter(vst_fit_d1, x='median_fitness', y='padj',color='hits', size='median_inoculm_value', \n",
    "                     log_y=True, hover_data=[vst_fit_d1.index, vst_fit_d1.median_inoculm_value])\n",
    "vst_fitness.update_yaxes(autorange=\"reversed\")\n",
    "\n",
    "vst_fitness.write_html(f'{root}/results/test.html')"
   ]
  },
  {
   "cell_type": "code",
   "execution_count": null,
   "id": "greek-inspection",
   "metadata": {},
   "outputs": [],
   "source": [
    "deseq_d1.head()"
   ]
  },
  {
   "cell_type": "code",
   "execution_count": null,
   "id": "liberal-nebraska",
   "metadata": {},
   "outputs": [],
   "source": [
    "@interact\n",
    "def fitness_plot(normalization=['VST', 'RARE', 'BPM',]):\n",
    "    if normalization == 'VST':\n",
    "        df = vst_fit_d1.sort_values('hits')\n",
    "        \n",
    "    elif normalization =='RARE':\n",
    "        df = rare_fit_d1.sort_values('hits')\n",
    "\n",
    "    else:\n",
    "        df = bpm_fit_d1.sort_values('hits')\n",
    "    fig = px.scatter(df, x='median_fitness', y='padj',color='hits',\n",
    "                     color_discrete_map={True: 'red', False:'blue'},  size='median_inoculm_value',\n",
    "                      log_y=True,  template = \"simple_white\", hover_data=[df.index, df.median_inoculm_value])\n",
    "    fig.update_yaxes(autorange=\"reversed\")\n",
    "    fig.show()"
   ]
  },
  {
   "cell_type": "code",
   "execution_count": null,
   "id": "expanded-liberty",
   "metadata": {},
   "outputs": [],
   "source": [
    "vst_ci_d1.sample(5)"
   ]
  },
  {
   "cell_type": "code",
   "execution_count": null,
   "id": "appointed-cedar",
   "metadata": {},
   "outputs": [],
   "source": [
    "vst_ci_d1.head()"
   ]
  },
  {
   "cell_type": "code",
   "execution_count": null,
   "id": "ideal-reset",
   "metadata": {},
   "outputs": [],
   "source": [
    "@interact\n",
    "def fitness_plot(normalization=['VST', 'RARE', 'BPM',]):\n",
    "    if normalization == 'VST':\n",
    "        df = vst_ci_d1.sort_values('hits')\n",
    "        \n",
    "    elif normalization =='RARE':\n",
    "        df = rare_ci_d1.sort_values('hits')\n",
    "\n",
    "    else:\n",
    "        df = bpm_ci_d1.sort_values('hits')\n",
    "    fig = px.scatter(df, x='median_CI', y='ci_padj',color='hits',\n",
    "                     color_discrete_map={True: px.colors.qualitative.Plotly[1], False:px.colors.qualitative.Plotly[0]}, \n",
    "                      log_y=True, template = \"simple_white\", hover_data=[df.index])\n",
    "    fig.update_yaxes(autorange=\"reversed\")\n",
    "    fig.update_traces(marker=dict(size=10,\n",
    "                              line=dict(width=1,\n",
    "                                        color='black')),\n",
    "                  selector=dict(mode='markers'))\n",
    "    fig.show()"
   ]
  },
  {
   "cell_type": "code",
   "execution_count": null,
   "id": "random-notification",
   "metadata": {},
   "outputs": [],
   "source": [
    "fig = px.scatter(deseq_d1, x='median_fitness', y='padj',color='hits',\n",
    "                     color_discrete_map={True: 'red', False:'blue'},  \n",
    "                      log_y=True,  hover_data={'gene':df.ShortName})\n",
    "fig.update_yaxes(autorange=\"reversed\")\n",
    "fig.show()"
   ]
  },
  {
   "cell_type": "code",
   "execution_count": null,
   "id": "pretty-things",
   "metadata": {},
   "outputs": [],
   "source": [
    "vst_fit_d1.hits.sum()\n",
    "rare_fit_d1.hits.sum()"
   ]
  },
  {
   "cell_type": "code",
   "execution_count": null,
   "id": "social-scout",
   "metadata": {},
   "outputs": [],
   "source": [
    "vst_fit_d1[(vst_fit_d1.hits == True)& (vst_fit_d1.median_inoculm_value < 50) ]"
   ]
  },
  {
   "cell_type": "code",
   "execution_count": null,
   "id": "central-commodity",
   "metadata": {},
   "outputs": [],
   "source": [
    "rare_fit_d1[(rare_fit_d1.hits == True) & (rare_fit_d1.median_inoculm_value < 50)]"
   ]
  },
  {
   "cell_type": "code",
   "execution_count": null,
   "id": "metropolitan-design",
   "metadata": {},
   "outputs": [],
   "source": [
    "from plotly.subplots import make_subplots\n",
    "@interact\n",
    "def fitness_plot(normalization=['VST', 'RARE', 'BPM']):\n",
    "    if normalization == 'VST':\n",
    "        df = vst_ci_d1\n",
    "        cntrl = vst_ssa_ci_d1\n",
    "    elif normalization =='RARE':\n",
    "        df = rare_ci_d1\n",
    "        cntrl = rare_ssa_ci_d1\n",
    "    else:\n",
    "        df = bpm_ci_d1\n",
    "        cntrl = bpm_ssa_ci_d1\n",
    "  \n",
    "    fig = px.scatter(df, x='median_CI', y='ci_padj',color='hits', \n",
    "                     log_y=True, log_x=True, hover_data=[df.index])\n",
    "    fig.update_yaxes(autorange=\"reversed\")\n",
    "    #fig.add_scatter(x=cntrl, y = [2.96]*len(cntrl))\n",
    "    fig.show()"
   ]
  },
  {
   "cell_type": "code",
   "execution_count": null,
   "id": "least-ethernet",
   "metadata": {},
   "outputs": [],
   "source": [
    "vst_ssa_ci_d1"
   ]
  },
  {
   "cell_type": "code",
   "execution_count": null,
   "id": "surprising-recruitment",
   "metadata": {},
   "outputs": [],
   "source": [
    "fig = px.scatter(vst_controls_d1, x='wt', y='ycoord', \n",
    "                     log_y=True, hover_data=[vst_controls_d1.index])\n",
    "fig.update_yaxes(autorange=\"reversed\")\n",
    "fig.show()"
   ]
  },
  {
   "cell_type": "code",
   "execution_count": null,
   "id": "beautiful-domain",
   "metadata": {},
   "outputs": [],
   "source": [
    "test1 = vst_controls_d1.T\n",
    "vst_controls_d1['hits'] = 'wt'\n",
    "\n",
    "test = pd.concat([vst_ci_d1, vst_controls_d1.T])\n",
    "vst_controls_d1"
   ]
  },
  {
   "cell_type": "code",
   "execution_count": null,
   "id": "exclusive-means",
   "metadata": {},
   "outputs": [],
   "source": [
    "rare_ssa_ci_d1"
   ]
  },
  {
   "cell_type": "code",
   "execution_count": null,
   "id": "radio-verification",
   "metadata": {},
   "outputs": [],
   "source": [
    "px.box(vst_controls_d1, y='wt',points='all',)"
   ]
  },
  {
   "cell_type": "code",
   "execution_count": null,
   "id": "neural-sigma",
   "metadata": {},
   "outputs": [],
   "source": [
    "? px.box"
   ]
  },
  {
   "cell_type": "code",
   "execution_count": null,
   "id": "fitted-mustang",
   "metadata": {},
   "outputs": [],
   "source": [
    "logbmp_fit1, logbmp_ci1, logbmp_controls, logbmp_ssa_ci = get_fitness(logbpm, annotation_df, 'd1')"
   ]
  },
  {
   "cell_type": "code",
   "execution_count": null,
   "id": "strange-leisure",
   "metadata": {},
   "outputs": [],
   "source": [
    "logbmp_res = logbmp_fit1[logbmp_fit1.padj<0.05].sort_values('padj')"
   ]
  },
  {
   "cell_type": "code",
   "execution_count": null,
   "id": "brave-treasury",
   "metadata": {},
   "outputs": [],
   "source": [
    "vst = get_fitness(vst_df, annotation_df, 'd1')\n",
    "vst.head()"
   ]
  },
  {
   "cell_type": "code",
   "execution_count": null,
   "id": "million-scientist",
   "metadata": {},
   "outputs": [],
   "source": [
    "vst_fit1, vst_ci1, vst_controls, vst_ssa_ci = "
   ]
  },
  {
   "cell_type": "code",
   "execution_count": null,
   "id": "cloudy-compromise",
   "metadata": {},
   "outputs": [],
   "source": [
    "rare_fit1, rare_ci1, rare_controls, rare_ssa_ci = get_fitness(rare, annotation_df, 'd1', good_samples_rare)"
   ]
  },
  {
   "cell_type": "code",
   "execution_count": null,
   "id": "median-trainer",
   "metadata": {},
   "outputs": [],
   "source": [
    "rare_res = rare_fit1[rare_fit1.padj<0.05].sort_values('padj')"
   ]
  },
  {
   "cell_type": "code",
   "execution_count": null,
   "id": "responsible-plaintiff",
   "metadata": {},
   "outputs": [],
   "source": [
    "vst_sig = vst_fit1[vst_fit1.padj < 0.05].sort_values('padj')"
   ]
  },
  {
   "cell_type": "code",
   "execution_count": null,
   "id": "blocked-stockholm",
   "metadata": {},
   "outputs": [],
   "source": [
    "len(set(vst_sig.index).intersection(set(rare_res.index)))"
   ]
  },
  {
   "cell_type": "code",
   "execution_count": null,
   "id": "featured-health",
   "metadata": {},
   "outputs": [],
   "source": [
    "rare_res.shape"
   ]
  },
  {
   "cell_type": "code",
   "execution_count": null,
   "id": "elect-spending",
   "metadata": {},
   "outputs": [],
   "source": [
    "# Calculate a mean value for all inoculum samples\n",
    "cnts = rare.copy()\n",
    "cnts['inoculum'] = cnts[[c for c in cnts.columns if 'd0' in c]].mean(axis=1)\n",
    "cnts = cnts[cnts.inoculum > 10]\n",
    "cnts2 = cnts.reset_index().merge(annotation_df, on='barcode')\n",
    "day='d1'\n",
    "# Caclucalte fitness for each barcode\n",
    "fitness = cnts.apply(lambda x: x/cnts['inoculum']).reset_index()\n",
    "# Add gene annotation\n",
    "fitness = fitness.merge(annotation_df, on='barcode')\n",
    "# Calculate fitness for each gene\n",
    "# Drop controls for now\n",
    "gene_df = fitness[fitness.phenotype.isna()]\n",
    "#Calculate median value for each ShortName\n",
    "samples = dict.fromkeys(([c for c in fitness.columns if day in c]), ['median'])\n",
    "day_fitness = gene_df.groupby('ShortName').agg(samples)\n",
    "day_fitness.columns = [c[0] for c in day_fitness.columns]\n",
    "\n",
    "# Calculate median fitness for wt barcodes\n",
    "wt_fitness = fitness[fitness.phenotype == 'wt'][[c for c in good_samples_rare if day in c]].median()\n",
    "\n",
    "# Calculate rnasksums test for wt vs each gene, multi-test correction using Benjamini/Hochberg (non-negative)\n",
    "pvals = day_fitness.apply(gene_ranksums,  axis=1, wt_values = wt_fitness)\n",
    "padj = fdr_correction(pvals.values)\n",
    "results = pd.DataFrame([pvals.values, padj], columns=pvals.index, index=['pval', 'padj']).T\n",
    "\n",
    "# Calculate CI\n",
    "day_ci = day_fitness.apply(lambda x: x/wt_fitness[x.name])\n",
    "ssa_fitness = fitness[fitness.phenotype == 'ssaV_invG'][[c for c in good_samples_rare if day in c]].median()\n",
    "ssa_ci = ssa_fitness/wt_fitness\n",
    "\n",
    "pvals_ci = day_ci.apply(gene_ranksums,  axis=1, wt_values = ssa_ci)\n",
    "ci_res = pd.DataFrame([pvals_ci.values, fdr_correction(pvals_ci.values)], columns=pvals.index, index=['ci_pval', 'ci_padj']).T\n",
    "day_fitness['median_fitness'] = day_fitness.median(axis=1)\n",
    "day_fitness['mean_fitness'] =  day_fitness.mean(axis=1)\n",
    "day_fitness = day_fitness.merge(results, left_index=True, right_index=True)\n",
    "day_ci['median_CI'] = day_ci.median(axis=1)\n",
    "day_ci['mean_CI'] = day_ci.mean(axis=1)\n",
    "day_ci = day_ci.merge(ci_res, left_index=True, right_index=True)\n",
    "controls = pd.concat([wt_fitness, ssa_fitness], axis=1)\n",
    "controls.columns = ['wt', 'ssaV_invG']\n"
   ]
  },
  {
   "cell_type": "code",
   "execution_count": null,
   "id": "advised-detective",
   "metadata": {},
   "outputs": [],
   "source": [
    "vst_fit1.loc[day_fitness.index].head()"
   ]
  },
  {
   "cell_type": "code",
   "execution_count": null,
   "id": "grand-orlando",
   "metadata": {},
   "outputs": [],
   "source": [
    "#plt.plot(vst_fit1.loc[day_fitness.index].median_fitness, day_fitness.median_fitness, 'k.')\n",
    "px.scatter( x=vst_fit1.loc[day_fitness.index].median_fitness, y=day_fitness.median_fitness, \n",
    "          labels = {'x': 'VST', 'y': 'RARE'})"
   ]
  },
  {
   "cell_type": "code",
   "execution_count": null,
   "id": "nuclear-underwear",
   "metadata": {},
   "outputs": [],
   "source": [
    "rare_sig = day_fitness[day_fitness.padj<0.05].sort_values('padj')"
   ]
  },
  {
   "cell_type": "code",
   "execution_count": null,
   "id": "collect-tactics",
   "metadata": {},
   "outputs": [],
   "source": [
    "rare_sig.head(50)"
   ]
  },
  {
   "cell_type": "code",
   "execution_count": null,
   "id": "architectural-cabin",
   "metadata": {},
   "outputs": [],
   "source": [
    "set(rare_sig.index) - set(vst_sig.index)"
   ]
  },
  {
   "cell_type": "code",
   "execution_count": null,
   "id": "waiting-wales",
   "metadata": {},
   "outputs": [],
   "source": [
    "vst_fit1.loc['iolC']"
   ]
  },
  {
   "cell_type": "code",
   "execution_count": null,
   "id": "aggressive-africa",
   "metadata": {},
   "outputs": [],
   "source": [
    "day_fitness.loc['iolC']"
   ]
  },
  {
   "cell_type": "code",
   "execution_count": null,
   "id": "reduced-daniel",
   "metadata": {},
   "outputs": [],
   "source": [
    "len(set(vst_sig.index))"
   ]
  },
  {
   "cell_type": "code",
   "execution_count": null,
   "id": "olive-canyon",
   "metadata": {},
   "outputs": [],
   "source": [
    "deseq_d1.sample(10)"
   ]
  },
  {
   "cell_type": "code",
   "execution_count": null,
   "id": "driving-channel",
   "metadata": {},
   "outputs": [],
   "source": [
    "deseq_d1 = pd.read_csv(Path(root)/results/'d0_d1_deseq_results.csv').rename({'Unnamed: 0':'barcode'}, axis=1)\n",
    "deseq_d1 = deseq_d1.merge(annotation_df, on='barcode').dropna(subset=['padj', 'ShortName'])\n",
    "deseq_d1 = deseq_d1.sort_values(['ShortName', 'padj'])\n",
    "deseq_d1['rank'] = deseq_d1.groupby(['ShortName']).cumcount()\n",
    "\n",
    "deseq_d1 = deseq_d1[deseq_d1['rank'] == 0].copy()\n",
    "deseq_d1.drop('rank', axis=1, inplace=True)\n",
    "deseq_d1 = deseq_d1[['ShortName', 'baseMean', 'log2FoldChange', 'padj']]\n",
    "deseq_d1.columns = ['ShortName', 'median_inoculm_value', 'median_fitness', 'padj']\n",
    "deseq_d1 = deseq_d1.set_index('ShortName')\n",
    "deseq_d1['hits'] = deseq_d1['padj'] < 0.05"
   ]
  },
  {
   "cell_type": "code",
   "execution_count": null,
   "id": "national-field",
   "metadata": {},
   "outputs": [],
   "source": []
  },
  {
   "cell_type": "code",
   "execution_count": null,
   "id": "dimensional-venice",
   "metadata": {},
   "outputs": [],
   "source": [
    "deseq_d1\n"
   ]
  },
  {
   "cell_type": "code",
   "execution_count": null,
   "id": "aware-rendering",
   "metadata": {},
   "outputs": [],
   "source": [
    "d1_ci_df = d1_fitness.apply(lambda x: x/wt_fitness[x.name])"
   ]
  },
  {
   "cell_type": "code",
   "execution_count": null,
   "id": "international-productivity",
   "metadata": {},
   "outputs": [],
   "source": [
    "d1_ci_df.head()"
   ]
  },
  {
   "cell_type": "code",
   "execution_count": null,
   "id": "included-eugene",
   "metadata": {},
   "outputs": [],
   "source": [
    "ssa_fitness = fitness_df[fitness_df.phenotype == 'ssaV_invG'][[c for c in good_samples if 'd1' in c]].median()\n",
    "ssa_fitness"
   ]
  },
  {
   "cell_type": "code",
   "execution_count": null,
   "id": "compliant-vermont",
   "metadata": {},
   "outputs": [],
   "source": [
    "ssa_ci = ssa_fitness/wt_fitness"
   ]
  },
  {
   "cell_type": "code",
   "execution_count": null,
   "id": "combined-college",
   "metadata": {},
   "outputs": [],
   "source": [
    "pvals_ci = d1_ci_df.apply(gene_ranksums,  axis=1, wt_values = ssa_ci)\n",
    "fdr_correction(pvals_ci.values)\n",
    "ci_res = pd.DataFrame([pvals_ci.values, fdr_correction(pvals_ci.values)], columns=pvals.index, index=['pval', 'padj']).T\n",
    "    "
   ]
  },
  {
   "cell_type": "code",
   "execution_count": null,
   "id": "impossible-street",
   "metadata": {},
   "outputs": [],
   "source": [
    "ci_res = pd.DataFrame([pvals_ci.values, fdr_correction(pvals_ci.values)], columns=pvals.index, index=['pval', 'padj']).T\n",
    "    "
   ]
  },
  {
   "cell_type": "code",
   "execution_count": null,
   "id": "innocent-canyon",
   "metadata": {},
   "outputs": [],
   "source": [
    "ci_res[ci_res.padj < 0.05].sort_values('padj').shape"
   ]
  },
  {
   "cell_type": "code",
   "execution_count": null,
   "id": "substantial-cambodia",
   "metadata": {},
   "outputs": [],
   "source": [
    "\n",
    "sample1 = d1_fitness.loc['dcuB'].values\n",
    "sample2 = wt_fitness.values\n",
    "ranksums(sample1, sample2)\n"
   ]
  },
  {
   "cell_type": "code",
   "execution_count": null,
   "id": "meaningful-belgium",
   "metadata": {},
   "outputs": [],
   "source": [
    "ssa_fitness = fitness_df[fitness_df.phenotype == 'ssaV_invG'][good_samples].median()\n",
    "hyb_fitness = fitness_df[fitness_df.phenotype == 'hyb'][good_samples].median()"
   ]
  },
  {
   "cell_type": "code",
   "execution_count": null,
   "id": "apart-anaheim",
   "metadata": {},
   "outputs": [],
   "source": [
    "d1_fitness.T.hybA.hist(bins=20)"
   ]
  },
  {
   "cell_type": "code",
   "execution_count": null,
   "id": "numeric-joyce",
   "metadata": {},
   "outputs": [],
   "source": [
    "cnt_df[cnt_df.phenotype == 'hyb']"
   ]
  },
  {
   "cell_type": "code",
   "execution_count": null,
   "id": "coupled-armor",
   "metadata": {},
   "outputs": [],
   "source": []
  }
 ],
 "metadata": {
  "kernelspec": {
   "display_name": "Python 3",
   "language": "python",
   "name": "python3"
  },
  "language_info": {
   "codemirror_mode": {
    "name": "ipython",
    "version": 3
   },
   "file_extension": ".py",
   "mimetype": "text/x-python",
   "name": "python",
   "nbconvert_exporter": "python",
   "pygments_lexer": "ipython3",
   "version": "3.6.6"
  }
 },
 "nbformat": 4,
 "nbformat_minor": 5
}
