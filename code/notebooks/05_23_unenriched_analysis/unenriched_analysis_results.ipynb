{
 "cells": [
  {
   "cell_type": "code",
   "execution_count": null,
   "id": "2f2951f3",
   "metadata": {},
   "outputs": [],
   "source": [
    "import csv\n",
    "import pandas as pd\n",
    "import numpy as np\n",
    "import seaborn as sns\n",
    "import scipy\n",
    "\n",
    "# Import data\n",
    "folder = \"/nfs/nas22/fs2202/biol_micro_bioinf_nccr/hardt/nguyenb/tnseq/scratch/10_22/03-23-unenriched_analysis/\"\n",
    "library_9_1 = pd.read_csv(folder + \"library_9_1_rra_results.csv\")\n",
    "library_10_1 = pd.read_csv(folder + \"library_10_1_rra_results.csv\")\n",
    "library_10_2 = pd.read_csv(folder + \"library_10_2_rra_results.csv\")\n",
    "library_11_2 = pd.read_csv(folder + \"library_11_2_rra_results.csv\")\n",
    "library_12_1 = pd.read_csv(folder + \"library_12_1_rra_results.csv\")\n",
    "library_12_2 = pd.read_csv(folder + \"library_12_2_rra_results.csv\")\n",
    "library_13_1 = pd.read_csv(folder + \"library_13_1_rra_results.csv\")\n",
    "library_13_2 = pd.read_csv(folder + \"library_13_2_rra_results.csv\")\n",
    "library_14_2 = pd.read_csv(folder + \"library_14_2_rra_results.csv\")\n",
    "library_15_1 = pd.read_csv(folder + \"library_15_1_rra_results.csv\")\n",
    "\n",
    "library_9_1.name = \"library_9_1\"\n",
    "library_10_1.name = \"library_10_1\"\n",
    "library_10_2.name = \"library_10_2\"\n",
    "library_11_2.name = \"library_11_2\"\n",
    "library_12_1.name = \"library_12_1\"\n",
    "library_12_2.name = \"library_12_2\"\n",
    "library_13_1.name = \"library_13_1\"\n",
    "library_13_2.name = \"library_13_2\"\n",
    "library_14_2.name = \"library_14_2\"\n",
    "library_15_1.name = \"library_15_1\"\n",
    "\n",
    "dfList = [library_9_1, library_10_1, library_10_2, library_11_2, library_12_1, library_12_2, library_13_1, library_13_2, library_14_2, library_15_1]\n",
    "[df.head() for df in dfList]\n"
   ]
  },
  {
   "cell_type": "markdown",
   "id": "3d2bcabf",
   "metadata": {},
   "source": [
    "They are all \"inoculum\", no \"unenriched_inoculum\" present\n",
    "\n",
    "\n",
    "# Any outliers or anything that does not look right?"
   ]
  },
  {
   "cell_type": "code",
   "execution_count": null,
   "id": "8d8aa216",
   "metadata": {},
   "outputs": [],
   "source": [
    "LFCs = pd.DataFrame({\"library_9_1\": library_9_1[\"LFC\"], \"library_10_1\": library_10_1[\"LFC\"], \"library_10_2\": library_10_2[\"LFC\"], \"library_11_2\": library_11_2[\"LFC\"], \"library_12_1\": library_12_1[\"LFC\"], \"library_12_2\": library_12_2[\"LFC\"], \"library_13_1\": library_13_1[\"LFC\"], \"library_13_2\": library_13_2[\"LFC\"], \"library_14_2\": library_14_2[\"LFC\"], \"library_15_1\": library_15_1[\"LFC\"]})\n",
    "\n",
    "LFCs\n",
    "#[sns.stripplot(df[\"LFC\"]) for df in dfList]\n",
    "plot = sns.stripplot(LFCs)\n",
    "plot.set_xticklabels(plot.get_xticklabels(), rotation=80)\n",
    "plot\n"
   ]
  },
  {
   "cell_type": "code",
   "execution_count": null,
   "id": "e1cafeea",
   "metadata": {},
   "outputs": [],
   "source": [
    "plot = sns.violinplot(LFCs)\n",
    "plot.set_xticklabels(plot.get_xticklabels(), rotation=80)\n",
    "plot"
   ]
  },
  {
   "cell_type": "code",
   "execution_count": null,
   "id": "4956d0d5",
   "metadata": {},
   "outputs": [],
   "source": [
    "dfList[1].describe()\n"
   ]
  },
  {
   "cell_type": "code",
   "execution_count": null,
   "id": "3db30abd",
   "metadata": {},
   "outputs": [],
   "source": [
    "dfList[2].describe()\n"
   ]
  },
  {
   "cell_type": "code",
   "execution_count": null,
   "id": "e3aa48f7",
   "metadata": {},
   "outputs": [],
   "source": [
    "dfList[3].describe()\n"
   ]
  },
  {
   "cell_type": "markdown",
   "id": "95d9a312",
   "metadata": {},
   "source": [
    "library_10_2 has LFCs that are more negative compared to the other libraries.\n",
    "\n",
    "## Outliers"
   ]
  },
  {
   "cell_type": "code",
   "execution_count": null,
   "id": "b5921898",
   "metadata": {},
   "outputs": [],
   "source": [
    "library_11_2[library_11_2[\"LFC\"] > 3]"
   ]
  },
  {
   "cell_type": "code",
   "execution_count": null,
   "id": "c8312286",
   "metadata": {},
   "outputs": [],
   "source": [
    "library_13_2[library_13_2[\"LFC\"] < -4]"
   ]
  },
  {
   "cell_type": "code",
   "execution_count": null,
   "id": "61b3e6a7",
   "metadata": {},
   "outputs": [],
   "source": [
    "library_10_2[library_10_2[\"LFC\"] < -4]"
   ]
  },
  {
   "cell_type": "markdown",
   "id": "820b58e4",
   "metadata": {},
   "source": [
    "\n",
    "\n",
    "\n",
    "# How many genes have fitness defect in each of the libraries? We are not expecting a lot of hits.\n",
    "There are quite many genes with fitness defects."
   ]
  },
  {
   "cell_type": "code",
   "execution_count": null,
   "id": "e4b99671",
   "metadata": {},
   "outputs": [],
   "source": [
    "print(\"Name\\t\\t#Genes\\t#Genes with |LFC|>1\\tPercentage\")\n",
    "LFClist = [df[abs(df[\"LFC\"])>1] for df in dfList]\n",
    "\n",
    "[print(df.name,\"\\t\", len(df), \"\\t\", len(df[abs(df[\"LFC\"])>1]), \"\\t\\t\\t\", len(df[abs(df[\"LFC\"])>1])/len(df)) for df in dfList]\n"
   ]
  },
  {
   "cell_type": "code",
   "execution_count": null,
   "id": "c131c22d",
   "metadata": {},
   "outputs": [],
   "source": [
    "print(\"Name\\t\\t#Genes\\t#Genes with any FDR < 0.01\\tPercentage\")\n",
    "FDRlist = [df[(pd.DataFrame(df[[\"pos_selection_fdr\", \"neg_selection_fdr\"]]<0.01).any(axis=1))] for df in dfList]\n",
    "\n",
    "[print(df.name,\"\\t\", len(df), \"\\t\", len(df[(pd.DataFrame(df[[\"pos_selection_fdr\", \"neg_selection_fdr\"]]<0.01).any(axis=1))]), \"\\t\\t\\t\\t\", len(df[(pd.DataFrame(df[[\"pos_selection_fdr\", \"neg_selection_fdr\"]]<0.01).any(axis=1))])/len(df)) for df in dfList]"
   ]
  },
  {
   "cell_type": "code",
   "execution_count": null,
   "id": "72b7afde",
   "metadata": {},
   "outputs": [],
   "source": [
    "print(\"Name\\t\\t#Genes\\t#Genes with any FDR < 0.01 & |LFC|>1\\tPercentage\")\n",
    "\n",
    "#dfList[1][(pd.DataFrame(pd.DataFrame(dfList[1][[\"pos_selection_fdr\", \"neg_selection_fdr\"]]<0.01), dfList[1][abs(dfList[1][\"LFC\"])>1]).any(axis=1))]\n",
    "#[print(df.name,\"\\t\", len(df), \"\\t\", len(df[(pd.DataFrame(df[[\"pos_selection_fdr\", \"neg_selection_fdr\"]]<0.01).any(axis=1))]), \"\\t\\t\\t\\t\\t\", len(df[(pd.DataFrame(df[[\"pos_selection_fdr\", \"neg_selection_fdr\"]]<0.01).any(axis=1))])/len(df)) for df in dfList]\n",
    "\n",
    "[print(dfList[df].name, \"\\t\", len(FDRlist[df]), \"\\t\", len(pd.merge(FDRlist[df], LFClist[df], on=\"Name\", how=\"inner\")), \"\\t\\t\\t\\t\", len(pd.merge(FDRlist[df], LFClist[df], on=\"Name\", how=\"inner\"))/len(dfList[df])) for df in range(0,len(dfList))]\n"
   ]
  },
  {
   "cell_type": "markdown",
   "id": "4aef0a5d",
   "metadata": {},
   "source": [
    "# Do LFC correlate well from library to library?  (expecting 60% overlap)\n",
    "There are only 90 genes in common."
   ]
  },
  {
   "cell_type": "code",
   "execution_count": null,
   "id": "48f27364",
   "metadata": {},
   "outputs": [],
   "source": [
    "#LFCdf = pd.DataFrame(np.array([library_9_1[\"LFC\"], library_10_1[\"LFC\"], library_10_2[\"LFC\"], library_11_2[\"LFC\"], library_12_1[\"LFC\"], library_12_2[\"LFC\"], library_13_1[\"LFC\"], library_13_2[\"LFC\"], library_14_2[\"LFC\"], library_15_1[\"LFC\"]]))\n",
    "# INNER JOIN\n",
    "merged1 = pd.merge(library_9_1, library_10_1, on = \"Name\", how = \"inner\", suffixes =(\"_9_1\", \"_10_1\"))\n",
    "merged2 = pd.merge(library_10_2, library_11_2, on = \"Name\", how = \"inner\", suffixes =(\"_10_2\", \"_11_2\"))\n",
    "merged3 = pd.merge(library_12_1, library_12_2, on = \"Name\", how = \"inner\", suffixes =(\"_12_1\", \"_12_2\"))\n",
    "merged4 = pd.merge(library_13_1, library_13_2, on = \"Name\", how = \"inner\", suffixes =(\"_13_1\", \"_13_2\"))\n",
    "merged5 = pd.merge(library_14_2, library_15_1, on = \"Name\", how = \"inner\", suffixes =(\"_14_2\", \"_15_1\"))\n",
    "\n",
    "merged12 = pd.merge(merged1, merged2, on = \"Name\", how = \"inner\")\n",
    "merged34 = pd.merge(merged3, merged4, on = \"Name\", how = \"inner\")\n",
    "\n",
    "merged1234 = pd.merge(merged12, merged34, on = \"Name\", how = \"inner\")\n",
    "\n",
    "merged = pd.merge(merged5, merged1234, on = \"Name\", how = \"inner\")\n",
    "\n",
    "merged\n",
    "#np.corrcoef(library_9_1[\"LFC\"], library_10_1[\"LFC\"])"
   ]
  },
  {
   "cell_type": "code",
   "execution_count": null,
   "id": "6146eddf",
   "metadata": {},
   "outputs": [],
   "source": [
    "LFCdf = pd.DataFrame(np.array([merged[\"LFC_9_1\"], merged[\"LFC_10_1\"], merged[\"LFC_10_2\"], merged[\"LFC_11_2\"], merged[\"LFC_12_1\"], merged[\"LFC_12_2\"], merged[\"LFC_13_1\"], merged[\"LFC_13_2\"], merged[\"LFC_14_2\"], merged[\"LFC_15_1\"]]))\n",
    "LFCdf_transposed = LFCdf.T\n",
    "LFCdf_transposed.columns = [\"LFC_9_1\", \"LFC_10_1\", \"LFC_10_2\", \"LFC_11_2\", \"LFC_12_1\", \"LFC_12_2\", \"LFC_13_1\", \"LFC_13_2\", \"LFC_14_2\", \"LFC_15_1\"]\n",
    "#sns.color_palette(\"icefire\", as_cmap=True)\n",
    "sns.heatmap(LFCdf_transposed.corr(\"spearman\"), cmap = \"icefire\") # non parametric for larger datasets (90 rows)"
   ]
  },
  {
   "cell_type": "markdown",
   "id": "695ef570",
   "metadata": {},
   "source": [
    "#### Focus on pairwise correlation"
   ]
  },
  {
   "cell_type": "code",
   "execution_count": null,
   "id": "6111079b",
   "metadata": {},
   "outputs": [],
   "source": [
    "print(\" LFC_9_1 and LFC_10_1:\", \"\\t\\t\",\"genes in common:\", len(merged1) ,\"| Spearman rho: \", scipy.stats.spearmanr(merged1[\"LFC_9_1\"], merged1[\"LFC_10_1\"]))\n",
    "print(\" LFC_10_2 and LFC_11_2:\", \"\\t\", \"genes in common:\", len(merged2) ,\"| Spearman rho: \", scipy.stats.spearmanr(merged2[\"LFC_10_2\"], merged2[\"LFC_11_2\"]))\n",
    "merged6 = pd.merge(library_10_2, library_15_1, on = \"Name\", how = \"inner\", suffixes =(\"_10_2\", \"_15_1\"))\n",
    "print(\" LFC_10_2 and LFC_15_1:\", \"\\t\", \"genes in common:\", len(merged6) ,\"| Spearman rho: \", scipy.stats.spearmanr(merged6[\"LFC_10_2\"], merged6[\"LFC_15_1\"]))\n",
    "print(\" LFC_12_1 and LFC_12_2:\", \"\\t\", \"genes in common:\", len(merged3) ,\"| Spearman rho: \", scipy.stats.spearmanr(merged3[\"LFC_12_1\"], merged3[\"LFC_12_2\"]))\n",
    "print(\" LFC_13_1 and LFC_13_2:\", \"\\t\", \"genes in common:\", len(merged4) ,\"| Spearman rho: \", scipy.stats.spearmanr(merged4[\"LFC_13_1\"], merged4[\"LFC_13_2\"]))\n",
    "print(\" LFC_14_2 and LFC_15_1:\", \"\\t\", \"genes in common:\", len(merged5) ,\"| Spearman rho: \", scipy.stats.spearmanr(merged5[\"LFC_14_2\"], merged5[\"LFC_15_1\"]))\n"
   ]
  },
  {
   "cell_type": "markdown",
   "id": "7860102b",
   "metadata": {},
   "source": [
    "# Are there genes that have defects in more than 1 library? If so, in how many libraries?\n",
    "## What is the biological function of the genes that have fitness defect? Does it make sense that these would be lost during enrichment (we are expecting genes with growth defects in LB to show up). \n",
    "\n",
    "90 genes are present in all dataframes\n",
    "\n",
    "9 genes have defects in all libraries: pilR, pilV, traY, yagA, pilS, exc, traF, pilU, pilQ \n",
    "--> pilus biogenesis (pilU, pilQ, pilR, pilV, pilS), DNA modification/relaxosome/plasmid transfer (traY, yagA, exc, traF)\n"
   ]
  },
  {
   "cell_type": "code",
   "execution_count": null,
   "id": "e660e1c3",
   "metadata": {},
   "outputs": [],
   "source": [
    "merged[(merged[\"LFC_9_1\"]<0) & (merged[\"LFC_10_1\"]<0) & (merged[\"LFC_10_2\"]<0) & (merged[\"LFC_11_2\"]<0) & (merged[\"LFC_12_1\"]<0) & (merged[\"LFC_12_2\"]<0) & (merged[\"LFC_13_1\"]<0) & (merged[\"LFC_13_2\"]<0) & (merged[\"LFC_14_2\"]<0) & (merged[\"LFC_15_1\"]<0)]\n",
    "# \"LFC_9_1\", \"LFC_10_1\", \"LFC_10_2\", \"LFC_11_2\", \"LFC_12_1\", \"LFC_12_2\", \"LFC_13_1\", \"LFC_13_2\", \"LFC_14_2\", \"LFC_15_1\""
   ]
  },
  {
   "cell_type": "markdown",
   "id": "a2fd50a4",
   "metadata": {},
   "source": [
    "#### Looking closer at the correlation between LFC10_1 and LFC_11_2 + LFC_12_1\n",
    "Pilus genes and conjugation genes (tra) frequently appear here\n",
    "\n",
    "LFC_10_1 and LFC_11_2 both negative LFC: transmembrane transport (ydiM, SL1344_1564, SL1344_1472, ompN, ssaV), metabolism gluconic acid (yafB), prgH (virulence), ssrA (stalled protein biosynthesis), hypothetical bacteriophage tail protein (SL1344_1929)\n",
    "\n",
    "LFC_10_1 and LFC_11_2 both positive LFC: pathogenicity (sii genes, pipB2, SL1344_2880, spaS, hilA), bacteriophage tail (SL1344_2675), colonization (SL1344_0084), membrane (SL1344_4139, rfaB, SL1344_3000, SL1344_4052, SL1344_3799, rfaZ, SL1344_0338), metabolism (SL1344_3227, SL1344_3092, ttdB, SL1344_3106, iolE, SL1344_3958, SL1344_3107, assT, SL1344_3746), chemotaxis (SL1344_3112), pilus (stjB), transport (SL1344_3748, yihO, ompL, mgtB), transcription (leuO), cell invasion (sipC), protein assembly (lpfB, stjC), restriction system (SL1344_4424), peptidoglycan (oafA)\n",
    "\n"
   ]
  },
  {
   "cell_type": "code",
   "execution_count": null,
   "id": "35041184",
   "metadata": {},
   "outputs": [],
   "source": [
    "merged[(merged[\"LFC_10_1\"]<0) & (merged[\"LFC_11_2\"]<0)][[\"Name\", \"number_of_barcodes_10_1\", \"LFC_10_1\", \"neg_selection_fdr_10_1\", \"pos_selection_fdr_10_1\", \"number_of_barcodes_11_2\", \"LFC_11_2\", \"neg_selection_fdr_11_2\", \"pos_selection_fdr_11_2\"]]\n",
    "#merged[(merged[\"LFC_10_1\"]>0) & (merged[\"LFC_11_2\"]>0)][[\"Name\", \"number_of_barcodes_10_1\", \"LFC_10_1\", \"neg_selection_fdr_10_1\", \"pos_selection_fdr_10_1\", \"number_of_barcodes_11_2\", \"LFC_11_2\", \"neg_selection_fdr_11_2\", \"pos_selection_fdr_11_2\"]]\n"
   ]
  },
  {
   "cell_type": "markdown",
   "id": "3a551a5f",
   "metadata": {},
   "source": [
    "LFC_10_1 and LFC_12_1 both negative LFC: pilus genes, conjugation genes (tra), type 3 secretion system (invG)\n",
    "\n",
    "\n",
    "LFC_10_1 and LFC_12_1 both positive LFC: virulence (pipB2, SL1344_2880, sipC, hilA), metabolism (SL1344_3227, SL1344_3092, SL1344_4047, ttdB, yjcC, SL1344_3747, yiaH, SL1344_3106, iolE, rfaZ, assT, SL1344_3934, SL1344_3746), transport (siiD, SL1344_3000, yhjV, SL1344_3748, ompL, siiF, mgtB, siiB), membrane (SL1344_4052, SL1344_3112, yihO), pilus (stjB), restriction system (SL1344_4424), protein folding (stjC), peptidoglycan (oafA)\n",
    "\n"
   ]
  },
  {
   "cell_type": "code",
   "execution_count": null,
   "id": "27c96148",
   "metadata": {},
   "outputs": [],
   "source": [
    "merged[(merged[\"LFC_10_1\"]<0) & (merged[\"LFC_12_1\"]<0)][[\"Name\", \"number_of_barcodes_10_1\", \"LFC_10_1\", \"neg_selection_fdr_10_1\", \"pos_selection_fdr_10_1\", \"number_of_barcodes_12_1\", \"LFC_12_1\", \"neg_selection_fdr_12_1\", \"pos_selection_fdr_12_1\"]]\n",
    "#merged[(merged[\"LFC_10_1\"]>0) & (merged[\"LFC_12_1\"]>0)][[\"Name\", \"number_of_barcodes_10_1\", \"LFC_10_1\", \"neg_selection_fdr_10_1\", \"pos_selection_fdr_10_1\", \"number_of_barcodes_12_1\", \"LFC_12_1\", \"neg_selection_fdr_12_1\", \"pos_selection_fdr_12_1\"]]\n"
   ]
  },
  {
   "cell_type": "markdown",
   "id": "1d804011",
   "metadata": {},
   "source": [
    "\n",
    "\n"
   ]
  }
 ],
 "metadata": {
  "kernelspec": {
   "display_name": "Python 3 (ipykernel)",
   "language": "python",
   "name": "python3"
  },
  "language_info": {
   "codemirror_mode": {
    "name": "ipython",
    "version": 3
   },
   "file_extension": ".py",
   "mimetype": "text/x-python",
   "name": "python",
   "nbconvert_exporter": "python",
   "pygments_lexer": "ipython3",
   "version": "3.8.0"
  }
 },
 "nbformat": 4,
 "nbformat_minor": 5
}
