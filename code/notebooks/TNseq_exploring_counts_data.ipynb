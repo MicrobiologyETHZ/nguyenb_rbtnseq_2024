{
 "cells": [
  {
   "cell_type": "code",
   "execution_count": null,
   "metadata": {},
   "outputs": [],
   "source": [
    "import pandas as pd\n",
    "import plotnine as p9\n",
    "from pathlib import Path\n",
    "from scipy import stats\n",
    "import numpy as np\n",
    "import seaborn as sns\n",
    "import matplotlib.pyplot as plt\n",
    "import plotnine as p9\n",
    "\n",
    "import skmisc\n",
    "from matplotlib.patches import Ellipse\n",
    "from sklearn.decomposition import PCA\n",
    "from diffexpr.py_deseq import py_DESeq2\n",
    "\n",
    "\n",
    "from rpy2.robjects.packages import importr\n",
    "from rpy2.robjects.vectors import FloatVector\n",
    "stats = importr('stats')\n",
    "\n",
    "from scipy.stats import norm"
   ]
  },
  {
   "cell_type": "markdown",
   "metadata": {},
   "source": [
    "# Table of Contents: <a name='top' /> \n",
    "\n",
    "## 1. <a href=#outliers>Looking for outliers</a>\n",
    "## 2. <a href=#timecourse>Tracking barcode timecourse</a>\n",
    "## 3.  <a href=#DEseq>DEseq analysis</a>\n",
    "\n"
   ]
  },
  {
   "cell_type": "markdown",
   "metadata": {},
   "source": [
    "## Loading the data:\n",
    "\n",
    "- Run the following cells before any of the analyses"
   ]
  },
  {
   "cell_type": "code",
   "execution_count": null,
   "metadata": {},
   "outputs": [],
   "source": [
    "# Get all the count/library data\n",
    "\n",
    "# Loads controls, samples, and directoris with data\n",
    "\n",
    "results_dir = \"../../data/processed/results\"\n",
    "controls = pd.read_table('../../data/metadata/controls.txt', header=None, \n",
    "                        names = ['DN', 'barcode', 'phenotype', 'conc'])\n",
    "meta_dir = \"../../data/metadata\"\n",
    "\n",
    "\n",
    "samples = [f.stem for f in Path(results_dir).iterdir()]\n",
    "samples"
   ]
  },
  {
   "cell_type": "code",
   "execution_count": null,
   "metadata": {},
   "outputs": [],
   "source": [
    "def read_count_files(sample, exp, results_dir=results_dir):\n",
    "    df = pd.read_table(Path(results_dir)/f'{sample}/{sample}_counts_{exp}.txt', sep=\" \").assign(exp=exp)\n",
    "    df = (df.reset_index().rename({'index':'barcode'}, axis=1)\n",
    "          .melt(id_vars=['barcode','Position', 'Element', 'Strand', 'Feature', 'ShortName', 'exp']))\n",
    "    df['proportion'] = df['value']/ df.groupby('variable')['value'].transform('sum')\n",
    "    expansion = df['variable'].str.split('-', expand=True)\n",
    "    df['mouse'], df['day'],df['organ'] = expansion[0], expansion[1], expansion[2]\n",
    "    df = df.rename({'variable':'sample', 'value':'cnts'}, axis=1)\n",
    "    return df\n",
    "\n",
    "\n",
    "def load_sample(sample, meta_dir = meta_dir, results_dir = results_dir):\n",
    "    meta = (pd.read_table(Path(meta_dir)/f'{sample}_metadata.txt', header=None, \n",
    "                        names = ['DN', 'lib', 'exp', 'DN2', 'sample', 'day', 'organ'])\n",
    "            .drop(['DN', 'DN2'], axis=1))\n",
    "    exps = meta.exp.unique()\n",
    "    dfs = [read_count_files(sample, exp) for exp in exps]\n",
    "    fdf = pd.concat(dfs).assign(dnaid=sample)\n",
    "    #fdf = fdf.merge(meta[['lib', 'exp']], how='left', left_on='exp', right_on='exp')\n",
    "    return fdf\n",
    "\n",
    "\n",
    "def load_samples(samples, meta_dir=meta_dir, results_dir=results_dir):\n",
    "    dfs = [load_sample(sample, meta_dir, results_dir) for sample in samples]\n",
    "    return pd.concat(dfs)\n",
    "\n",
    "\n",
    "# Load all the count data for specified dnaids. \n",
    "\n",
    "fdf = load_samples(['dnaid2023','dnaid2024'])\n",
    "\n",
    "gene_info = fdf[['Feature', 'ShortName']].drop_duplicates().set_index('Feature')"
   ]
  },
  {
   "cell_type": "code",
   "execution_count": null,
   "metadata": {},
   "outputs": [],
   "source": [
    "fdf.head()"
   ]
  },
  {
   "cell_type": "code",
   "execution_count": null,
   "metadata": {},
   "outputs": [],
   "source": [
    "controls.head()"
   ]
  },
  {
   "cell_type": "markdown",
   "metadata": {},
   "source": [
    "## Looking for Outliers <a name='outliers' />\n",
    "\n",
    "Go Back to the <a href=#top>Beginning</a> \n",
    "\n",
    "Got to Go Back to the <a href=#DEseq>DESeq Analysis</a>"
   ]
  },
  {
   "cell_type": "code",
   "execution_count": null,
   "metadata": {},
   "outputs": [],
   "source": [
    "def calculate_correlation(df, groupby, v1, v2):\n",
    "    corr_df  = df.groupby(groupby)[[v1, v2]].corr()\n",
    "    corr_df = corr_df.reset_index()\n",
    "    corr_df = corr_df[corr_df['level_1'] == v1].drop(['level_1',v1], axis=1)\n",
    "    return corr_df\n",
    "\n",
    "\n",
    "\n",
    "\n",
    "control_cnts = controls.merge(fdf, left_on='barcode', right_on = 'barcode').drop(['DN','Position', 'Element',\n",
    "                                                                                 'Strand', 'Feature', 'ShortName'], axis=1)\n",
    "\n",
    "wt_cnts = control_cnts.copy()[control_cnts.phenotype == 'wt']\n",
    "wt_cnts['logConc'] = np.log10(wt_cnts['conc'])\n",
    "wt_cnts['logCnts'] = np.log10(wt_cnts['cnts'].replace({0:1}))\n",
    "wt_cnts['logCnts_no0'] = np.log10(wt_cnts['cnts'])\n",
    "\n",
    "\n",
    "original_corr = calculate_correlation(wt_cnts, 'sample', 'conc', 'cnts')\n",
    "log_corr = calculate_correlation(wt_cnts, 'sample', 'logConc', 'logCnts').set_index('sample')\n",
    "log_corr_n0 = calculate_correlation(wt_cnts, 'sample', 'logConc', 'logCnts_no0').set_index('sample')\n",
    "log_corr.columns = ['R']\n",
    "log_corr['R2'] = log_corr['R']**2\n",
    "wt_cnts[(wt_cnts.mouse == 'inoculum') & (wt_cnts.exp == 'TV5490A')]"
   ]
  },
  {
   "cell_type": "code",
   "execution_count": null,
   "metadata": {},
   "outputs": [],
   "source": [
    "fdf[(fdf.dnaid == 'dnaid2023')& (fdf.exp == 'TV5490A') & (fdf.mouse == 'inoculum')].cnts.max()"
   ]
  },
  {
   "cell_type": "code",
   "execution_count": null,
   "metadata": {},
   "outputs": [],
   "source": [
    "log_corr_n0.style.apply(highlight_low, cutoff=0.85)"
   ]
  },
  {
   "cell_type": "code",
   "execution_count": null,
   "metadata": {},
   "outputs": [],
   "source": [
    "wt_cnts_sub = wt_cnts[(wt_cnts.exp=='TV5490A') & (wt_cnts.dnaid == 'dnaid2023')& (wt_cnts.day != 'd0')]\n",
    "wt_cnts_sub_mice = wt_cnts_sub[wt_cnts_sub.mouse.isin(['al965', 'al966', 'al967', 'al968'])]\n",
    "wt_cnts_sub.head()"
   ]
  },
  {
   "cell_type": "code",
   "execution_count": null,
   "metadata": {},
   "outputs": [],
   "source": [
    "p9.options.figure_size = (10, 15)\n",
    "(p9.ggplot(wt_cnts_sub_mice, p9.aes(x='conc', y='cnts'))\n",
    " + p9.geom_point()\n",
    " +p9.geom_smooth(method = \"lm\")\n",
    " + p9.theme_classic()\n",
    " +p9.theme(text = p9.element_text( size = 20))\n",
    " + p9.ylab(\"Count\")\n",
    " + p9.xlab(\"Conc\")\n",
    " + p9.scale_y_log10()\n",
    " + p9.scale_x_log10()\n",
    " + p9.facet_grid('mouse ~day'))"
   ]
  },
  {
   "cell_type": "code",
   "execution_count": null,
   "metadata": {},
   "outputs": [],
   "source": [
    "wt_cnts_sub_mice[(wt_cnts_sub_mice.mouse == 'al965') & (wt_cnts_sub_mice.day == 'd1')][['cnts', 'conc']].sort_values('conc')"
   ]
  },
  {
   "cell_type": "code",
   "execution_count": null,
   "metadata": {},
   "outputs": [],
   "source": [
    "test = wt_cnts_sub_mice[(wt_cnts_sub_mice.mouse == 'al967') & (wt_cnts_sub_mice.day == 'd2')][['logCnts', 'logConc']].sort_values('logConc')"
   ]
  },
  {
   "cell_type": "code",
   "execution_count": null,
   "metadata": {},
   "outputs": [],
   "source": [
    "#without 0\n",
    "test = test.replace({0:-math.inf})#.dropna()\n",
    "test.corr()"
   ]
  },
  {
   "cell_type": "code",
   "execution_count": null,
   "metadata": {},
   "outputs": [],
   "source": [
    "# with 0\n",
    "test"
   ]
  },
  {
   "cell_type": "code",
   "execution_count": null,
   "metadata": {},
   "outputs": [],
   "source": [
    "import math\n"
   ]
  },
  {
   "cell_type": "code",
   "execution_count": null,
   "metadata": {},
   "outputs": [],
   "source": [
    "from sklearn.linear_model import LinearRegression\n",
    "from sklearn.metrics import mean_squared_error, r2_score\n",
    "\n",
    "\n",
    "def get_rsq_and_mse(df):\n",
    "    model = LinearRegression()\n",
    "    x_vals = df.logCnts.values.reshape((-1,1))\n",
    "    y_vals = df.logConc.values\n",
    "\n",
    "    model.fit(x_vals, y_vals)\n",
    "    r_sq = model.score(x_vals, y_vals)\n",
    "    mse = mean_squared_error(y_vals, model.predict(x_vals))\n",
    "    return r_sq, mse\n"
   ]
  },
  {
   "cell_type": "code",
   "execution_count": null,
   "metadata": {},
   "outputs": [],
   "source": [
    "labels = []\n",
    "lm_res = []\n",
    "for i, g in wt_cnts.groupby(['mouse', 'day']):\n",
    "    label = '-'.join(i)\n",
    "    labels.append(label)\n",
    "    lm_res.append(get_rsq_and_mse(g))\n",
    "erdf = pd.DataFrame(lm_res, index=labels, columns=['r2', 'mse'])"
   ]
  },
  {
   "cell_type": "code",
   "execution_count": null,
   "metadata": {},
   "outputs": [],
   "source": [
    "erdf[erdf.r2>0.6].shape"
   ]
  },
  {
   "cell_type": "code",
   "execution_count": null,
   "metadata": {},
   "outputs": [],
   "source": [
    "erdf[erdf.mse < 0.2].shape"
   ]
  },
  {
   "cell_type": "code",
   "execution_count": null,
   "metadata": {},
   "outputs": [],
   "source": [
    "erdf.mse.hist(bins=20)"
   ]
  },
  {
   "cell_type": "code",
   "execution_count": null,
   "metadata": {},
   "outputs": [],
   "source": [
    "oc_df.head()"
   ]
  },
  {
   "cell_type": "code",
   "execution_count": null,
   "metadata": {},
   "outputs": [],
   "source": [
    "p9.options.figure_size = (5, 5)\n",
    "(p9.ggplot(oc_df, p9.aes(x='inoculum-d0-inoculum', y='al966-d1-feces'))\n",
    " + p9.geom_point()\n",
    " +p9.geom_smooth(method = \"lm\")\n",
    " + p9.theme_classic()\n",
    " +p9.theme(text = p9.element_text( size = 18))\n",
    " + p9.ylab(\"AL966/Day1\")\n",
    " + p9.xlab(\"Inoculum\")\n",
    " + p9.scale_y_log10()\n",
    " + p9.scale_x_log10())\n",
    " #+ p9.facet_grid('mouse ~day'))"
   ]
  },
  {
   "cell_type": "code",
   "execution_count": null,
   "metadata": {},
   "outputs": [],
   "source": [
    "p9.options.figure_size = (5, 5)\n",
    "(p9.ggplot(oc_df, p9.aes(x='inoculum-d0-inoculum', y='al967-d2-feces'))\n",
    " + p9.geom_point()\n",
    " +p9.geom_smooth(method = \"lm\")\n",
    " + p9.theme_classic()\n",
    " +p9.theme(text = p9.element_text( size = 18))\n",
    " + p9.ylab(\"AL967/Day2\")\n",
    " + p9.xlab(\"Inoculum\")\n",
    " + p9.scale_y_log10()\n",
    " + p9.scale_x_log10())\n",
    " #+ p9.facet_grid('mouse ~day'))"
   ]
  },
  {
   "cell_type": "code",
   "execution_count": null,
   "metadata": {},
   "outputs": [],
   "source": [
    "?sns.clustermap"
   ]
  },
  {
   "cell_type": "code",
   "execution_count": null,
   "metadata": {},
   "outputs": [],
   "source": [
    "hi_df = (fdf[(fdf.exp == 'TV5490A') & (fdf.dnaid == 'dnaid2023')& (fdf.day != 'd1')]\n",
    "        .pivot(index='barcode', columns='sample', values='cnts'))\n",
    "hi_df = hi_df[(hi_df['inoculum-d0-inoculum'] > 1000) & (hi_df['unenriched_inoculum-d0-inoculum'] > 1000)]\n",
    "hi_df = hi_df/hi_df.sum()\n",
    "hi_df\n",
    "\n",
    "\n",
    "g = sns.clustermap(hi_df.corr(), linewidths=0.5, linecolor='black',figsize=(25,25),vmin=0.6, vmax=1, cmap = mmap,\n",
    "             cbar_kws={'label': 'Correlation Coefficient'})"
   ]
  },
  {
   "cell_type": "code",
   "execution_count": null,
   "metadata": {},
   "outputs": [],
   "source": [
    "oc_df = (fdf[(fdf.exp == 'TV5490A') & (fdf.dnaid == 'dnaid2023') & (fdf.day != 'd1')]\n",
    "        .pivot(index='barcode', columns='sample', values='proportion'))\n",
    "\n",
    "mmap = sns.color_palette(\"Blues\", as_cmap=True)\n",
    "\n",
    "sns.set_style(\"white\")\n",
    "\n",
    "sns.set_context(\"notebook\", font_scale=3)\n",
    "g = sns.clustermap(oc_df.corr(), linewidths=0.5, linecolor='black',figsize=(25,25),vmin=0.6, vmax=1, cmap = mmap,\n",
    "             cbar_kws={'label': 'Correlation Coefficient'})\n"
   ]
  },
  {
   "cell_type": "code",
   "execution_count": null,
   "metadata": {},
   "outputs": [],
   "source": [
    "oc_df = (fdf[(fdf.exp == 'TV5490A') & (fdf.dnaid == 'dnaid2023')]\n",
    "        .pivot(index='barcode', columns='sample', values='proportion'))\n",
    "\n",
    "mmap = sns.color_palette(\"Blues\", as_cmap=True)\n",
    "\n",
    "sns.set_style(\"white\")\n",
    "\n",
    "sns.set_context(\"notebook\", font_scale=2)\n",
    "g = sns.clustermap(oc_df.corr(), linewidths=0.5, linecolor='black',figsize=(25,25),vmin=0.6, vmax=1, cmap = mmap,\n",
    "            cbar_kws={'label': 'Correlation Coefficient'})"
   ]
  },
  {
   "cell_type": "code",
   "execution_count": null,
   "metadata": {},
   "outputs": [],
   "source": [
    "def highlight_low(s, cutoff):\n",
    "    is_max = s < cutoff\n",
    "    return ['background-color: #ffca35' if v else '' for v in is_max]"
   ]
  },
  {
   "cell_type": "code",
   "execution_count": null,
   "metadata": {},
   "outputs": [],
   "source": [
    "\n",
    "original_corr = calculate_correlation(wt_cnts_sub, 'sample', 'conc', 'cnts').set_index('sample')\n",
    "log_corr = calculate_correlation(wt_cnts_sub, 'sample', 'logConc', 'logCnts').set_index('sample')\n",
    "oc = pd.DataFrame(oc_df.corr().mean(), columns = [\"Mean Overall Correlation\"])\n",
    "\n",
    "final_corr = pd.concat([original_corr,  log_corr_n0, oc], axis=1).dropna()\n",
    "final_corr.columns = ['Original_R',  'R_log10', 'Overall_R']"
   ]
  },
  {
   "cell_type": "code",
   "execution_count": null,
   "metadata": {},
   "outputs": [],
   "source": [
    "(final_corr.style\n",
    " .apply(highlight_low, cutoff=0.8, subset = ['Original_R'])\n",
    " .apply(highlight_low, cutoff=0.9, subset=['R_log10'])\n",
    " .apply(highlight_low, cutoff=0.7, subset=['Overall_R']))"
   ]
  },
  {
   "cell_type": "code",
   "execution_count": null,
   "metadata": {},
   "outputs": [],
   "source": [
    "final_corr"
   ]
  },
  {
   "cell_type": "code",
   "execution_count": null,
   "metadata": {},
   "outputs": [],
   "source": [
    "x = .style.apply(highlight_low, cutoff=0.7)"
   ]
  },
  {
   "cell_type": "code",
   "execution_count": null,
   "metadata": {},
   "outputs": [],
   "source": [
    "x.merge(original_corr, left_index=True, right_index=True)"
   ]
  },
  {
   "cell_type": "code",
   "execution_count": null,
   "metadata": {},
   "outputs": [],
   "source": [
    "cdf2 = fdf[(fdf.exp == 'TV5490B') & (fdf.dnaid == 'dnaid2023')]\n",
    "cdf2 = cdf2.pivot(index='barcode', columns='sample', values='proportion')\n",
    "cdf2.head()"
   ]
  },
  {
   "cell_type": "code",
   "execution_count": null,
   "metadata": {},
   "outputs": [],
   "source": [
    "sns.set_style(\"white\")\n",
    "sns.set_context(\"notebook\", font_scale=2.0)\n",
    "g = sns.clustermap(cdf2.corr(), linewidths=0.5, linecolor='black',figsize=(15,15),vmin=0.6, vmax=1,\n",
    "            cbar_kws={'label': 'Correlation Coefficient'})"
   ]
  },
  {
   "cell_type": "code",
   "execution_count": null,
   "metadata": {},
   "outputs": [],
   "source": [
    "cdf3 = fdf[(fdf.exp == 'TV5490C') & (fdf.dnaid == 'dnaid2023')]\n",
    "cdf3 = cdf3.pivot(index='barcode', columns='sample', values='proportion')\n",
    "cdf3.head()"
   ]
  },
  {
   "cell_type": "code",
   "execution_count": null,
   "metadata": {},
   "outputs": [],
   "source": [
    "sns.set_style(\"white\")\n",
    "sns.set_context(\"notebook\", font_scale=2.0)\n",
    "g = sns.clustermap(cdf3.corr(), linewidths=0.5, linecolor='black',figsize=(15,15),vmin=0.6, vmax=1,\n",
    "            cbar_kws={'label': 'Correlation Coefficient'})"
   ]
  },
  {
   "cell_type": "code",
   "execution_count": null,
   "metadata": {},
   "outputs": [],
   "source": [
    "#Inoculum\n",
    "\n",
    "inc = fdf[fdf.organ == 'inoculum']\n",
    "inc.groupby(['exp', 'mouse']).barcode.nunique()"
   ]
  },
  {
   "cell_type": "code",
   "execution_count": null,
   "metadata": {},
   "outputs": [],
   "source": [
    "inc0 = inc[inc.cnts > 0]\n",
    "inc0.groupby(['exp', 'mouse']).barcode.nunique()"
   ]
  },
  {
   "cell_type": "code",
   "execution_count": null,
   "metadata": {},
   "outputs": [],
   "source": [
    "cond1 = fdf[(fdf.mouse =='unenriched_inoculum') & (fdf.cnts > 1000)].barcode.values\n",
    "cond2 = fdf[(fdf.mouse =='inoculum') & (fdf.cnts > 1000)].barcode.values"
   ]
  },
  {
   "cell_type": "code",
   "execution_count": null,
   "metadata": {},
   "outputs": [],
   "source": [
    "actualbc = set(cond1).intersection(set(cond2))\n",
    "ndf = fdf[fdf.barcode.isin(actualbc)]"
   ]
  },
  {
   "cell_type": "code",
   "execution_count": null,
   "metadata": {},
   "outputs": [],
   "source": [
    "plt.figure(figsize=(15,6))\n",
    "fdf[(fdf.exp == 'TV5490A') & (fdf.mouse == 'inoculum')].cnts.hist(bins=50)"
   ]
  },
  {
   "cell_type": "code",
   "execution_count": null,
   "metadata": {},
   "outputs": [],
   "source": [
    "filt_df = (fdf[(fdf.exp == 'TV5490A') & (fdf.dnaid == 'dnaid2023')]\n",
    "        .pivot(index='barcode', columns='sample', values='cnts'))\n",
    "filt0 = filt_df[(filt_df['inoculum-d0-inoculum'] >0)& (filt_df['unenriched_inoculum-d0-inoculum'] > 0)]\n",
    "filt1000 = filt_df[(filt_df['inoculum-d0-inoculum'] >1000)& (filt_df['unenriched_inoculum-d0-inoculum'] > 1000)]"
   ]
  },
  {
   "cell_type": "code",
   "execution_count": null,
   "metadata": {},
   "outputs": [],
   "source": [
    "plt.figure(figsize=(8, 6))\n",
    "filt_df['inoculum-d0-inoculum'].hist(bins=50)\n",
    "plt.xlabel('Barcode Counts')\n",
    "plt.ylabel(\"Frequency\")\n",
    "plt.title(f\"Total: {filt_df.shape[0]} barcodes\")"
   ]
  },
  {
   "cell_type": "code",
   "execution_count": null,
   "metadata": {},
   "outputs": [],
   "source": [
    "plt.figure(figsize=(8, 6))\n",
    "filt0['inoculum-d0-inoculum'].hist(bins=50)\n",
    "plt.xlabel('Barcode Counts')\n",
    "plt.ylabel(\"Frequency\")\n",
    "plt.title(f\"Total: {filt0.shape[0]} barcodes\")"
   ]
  },
  {
   "cell_type": "code",
   "execution_count": null,
   "metadata": {},
   "outputs": [],
   "source": [
    "plt.figure(figsize=(8, 6))\n",
    "filt1000['inoculum-d0-inoculum'].hist(bins=50)\n",
    "plt.xlabel('Barcode Counts')\n",
    "plt.ylabel(\"Frequency\")\n",
    "plt.title(f\"Total: {filt1000.shape[0]} barcodes\")"
   ]
  },
  {
   "cell_type": "code",
   "execution_count": null,
   "metadata": {},
   "outputs": [],
   "source": [
    "filt0.min()"
   ]
  },
  {
   "cell_type": "code",
   "execution_count": null,
   "metadata": {},
   "outputs": [],
   "source": [
    "pd.DataFrame(fdf.groupby(['exp']).barcode.nunique()).reset_index()"
   ]
  },
  {
   "cell_type": "code",
   "execution_count": null,
   "metadata": {},
   "outputs": [],
   "source": [
    "pd.DataFrame(ndf.groupby(['exp']).barcode.nunique()).reset_index()"
   ]
  },
  {
   "cell_type": "code",
   "execution_count": null,
   "metadata": {},
   "outputs": [],
   "source": [
    "pd.DataFrame(ndf.groupby(['exp']).barcode.nunique()).reset_index()"
   ]
  },
  {
   "cell_type": "code",
   "execution_count": null,
   "metadata": {},
   "outputs": [],
   "source": [
    "import skmisc\n",
    "from matplotlib.patches import Ellipse\n",
    "from sklearn.decomposition import PCA\n",
    "\n",
    "\n",
    "\"\"\"\n",
    "Plotting PCA elipses:\n",
    "__author__:\n",
    "\"\"\"\n",
    "\n",
    "def plot_point_cov(points, nstd=2, ax=None, **kwargs):\n",
    "    \"\"\"\n",
    "    Plots an `nstd` sigma ellipse based on the mean and covariance of a point\n",
    "    \"cloud\" (points, an Nx2 array).\n",
    "    Parameters\n",
    "    ----------\n",
    "        points : An Nx2 array of the data points.\n",
    "        nstd : The radius of the ellipse in numbers of standard deviations.\n",
    "            Defaults to 2 standard deviations.\n",
    "        ax : The axis that the ellipse will be plotted on. Defaults to the\n",
    "            current axis.\n",
    "        Additional keyword arguments are pass on to the ellipse patch.\n",
    "    Returns\n",
    "    -------\n",
    "        A matplotlib ellipse artist\n",
    "    \"\"\"\n",
    "    pos = points.mean(axis=0)\n",
    "    cov = np.cov(points, rowvar=False)\n",
    "    return plot_cov_ellipse(cov, pos, nstd, ax, **kwargs)\n",
    "\n",
    "\n",
    "def plot_cov_ellipse(cov, pos, nstd=2, ax=None, **kwargs):\n",
    "    \"\"\"\n",
    "    Plots an `nstd` sigma error ellipse based on the specified covariance\n",
    "    matrix (`cov`). Additional keyword arguments are passed on to the\n",
    "    ellipse patch artist.\n",
    "    Parameters\n",
    "    ----------\n",
    "        cov : The 2x2 covariance matrix to base the ellipse on\n",
    "        pos : The location of the center of the ellipse. Expects a 2-element\n",
    "            sequence of [x0, y0].\n",
    "        nstd : The radius of the ellipse in numbers of standard deviations.\n",
    "            Defaults to 2 standard deviations.\n",
    "        ax : The axis that the ellipse will be plotted on. Defaults to the\n",
    "            current axis.\n",
    "        Additional keyword arguments are pass on to the ellipse patch.\n",
    "    Returns\n",
    "    -------\n",
    "        A matplotlib ellipse artist\n",
    "    \"\"\"\n",
    "    def eigsorted(cov):\n",
    "        vals, vecs = np.linalg.eigh(cov)\n",
    "        order = vals.argsort()[::-1]\n",
    "        return vals[order], vecs[:,order]\n",
    "\n",
    "    if ax is None:\n",
    "        ax = plt.gca()\n",
    "\n",
    "    vals, vecs = eigsorted(cov)\n",
    "    theta = np.degrees(np.arctan2(*vecs[:,0][::-1]))\n",
    "\n",
    "    # Width and height are \"full\" widths, not radius\n",
    "    width, height = 2 * nstd * np.sqrt(vals)\n",
    "    ellip = Ellipse(xy=pos, width=width, height=height, angle=theta, **kwargs)\n",
    "\n",
    "    ax.add_artist(ellip)\n",
    "    return ellip\n",
    "#____________________________________________________\n",
    "\n",
    "\n",
    "\n",
    "\n",
    "def plotPCA(pDf, pc1_var, pc2_var, colorby, col, nameby=\"\", el=False):\n",
    "    sns.set_style(\"ticks\")\n",
    "    sns.set_context(\"notebook\", font_scale=2.2)\n",
    "    group = pDf[colorby].unique()\n",
    "    assert len(group) <= len(col)\n",
    "    fig = plt.figure(figsize=(8, 8))\n",
    "    for g, c in zip(group, col):\n",
    "        df = pDf[pDf[colorby] == g]\n",
    "        x, y = df[[\"PC1\"]].values, df[[\"PC2\"]].values\n",
    "        ax = plt.scatter(x, y, c=c, s=150, label=g)\n",
    "        if el:\n",
    "            pts = np.asarray([[float(a), float(b)] for a, b in zip(x, y)])\n",
    "            plot_point_cov(pts, nstd=2, alpha=0.1, color=c)\n",
    "        if nameby:\n",
    "            labels = df[nameby]\n",
    "            for label, pc1, pc2 in zip(labels, x, y):\n",
    "                plt.annotate(label, xy=(pc1, pc2), xytext=(-5, 7), textcoords=\"offset points\",fontsize=14)\n",
    "        plt.xlabel('Principal Component 1, {} %'.format(pc1_var), )\n",
    "        plt.ylabel('Principal Component 2, {} %'.format(pc2_var), )\n",
    "        #plt.xticks(fontsize=16)\n",
    "        #plt.yticks(fontsize=16)\n",
    "        plt.legend(frameon=True)\n",
    "    return fig\n",
    "\n",
    "def find_pc1_pc2(df, meta):\n",
    "    df = df.T\n",
    "    pca = PCA(n_components=2)\n",
    "    principalComponents = pca.fit_transform(df)\n",
    "    pDf = (pd.DataFrame(data=principalComponents, columns=['PC1', 'PC2'])\n",
    "           .set_index(df.index))\n",
    "    pc1_var = round(pca.explained_variance_ratio_[0] * 100, 2)\n",
    "    pc2_var = round(pca.explained_variance_ratio_[1] * 100, 2)\n",
    "    pDf2 = pDf.merge(meta, left_index=True, right_index=True)\n",
    "    return pDf2, pc1_var, pc2_var"
   ]
  },
  {
   "cell_type": "code",
   "execution_count": null,
   "metadata": {},
   "outputs": [],
   "source": [
    "meta = exp1[['sample', 'mouse', 'day', 'organ']].drop_duplicates().set_index('sample')\n"
   ]
  },
  {
   "cell_type": "code",
   "execution_count": null,
   "metadata": {},
   "outputs": [],
   "source": []
  },
  {
   "cell_type": "code",
   "execution_count": null,
   "metadata": {},
   "outputs": [],
   "source": [
    "pDF, pc1, pc2, = find_pc1_pc2(oc_df, meta)"
   ]
  },
  {
   "cell_type": "code",
   "execution_count": null,
   "metadata": {},
   "outputs": [],
   "source": [
    "\n",
    "plotPCA(pDF, pc1, pc2, colorby='day', nameby='mouse', col=['blue', 'green', 'red']);"
   ]
  },
  {
   "cell_type": "code",
   "execution_count": null,
   "metadata": {},
   "outputs": [],
   "source": [
    "ndf.groupby(['exp', 'mouse']).barcode.nunique()"
   ]
  },
  {
   "cell_type": "markdown",
   "metadata": {},
   "source": [
    "## Tracking genes and barcodes <a name='timecourse' />\n",
    "\n",
    "Go Back to the <a href=#top>Beginning</a> \n",
    "\n",
    "Got to Go Back to the <a href=#DEseq>DESeq Analysis</a>"
   ]
  },
  {
   "cell_type": "code",
   "execution_count": null,
   "metadata": {},
   "outputs": [],
   "source": [
    "#dcuB\n",
    "l1 = (fdf.ShortName == 'dcuB') & (fdf.exp == 'TV5490A') & (fdf.mouse == 'inoculum')\n",
    "l2 = (fdf.ShortName == 'dcuB') & (fdf.exp == 'TV5490B')& (fdf.mouse == 'inoculum')\n",
    "l3 = (fdf.ShortName == 'dcuB') & (fdf.exp == 'TV5490C')& (fdf.mouse == 'inoculum')"
   ]
  },
  {
   "cell_type": "code",
   "execution_count": null,
   "metadata": {},
   "outputs": [],
   "source": [
    "fdf['ShortName'].notnull() & fdf['ShortName'].str.contains('hyb')\n"
   ]
  },
  {
   "cell_type": "code",
   "execution_count": null,
   "metadata": {},
   "outputs": [],
   "source": [
    "test = fdf[fdf['ShortName'].notnull() & fdf['ShortName'].str.contains('hybG')\n",
    "]"
   ]
  },
  {
   "cell_type": "code",
   "execution_count": null,
   "metadata": {},
   "outputs": [],
   "source": [
    "test.barcode.unique()"
   ]
  },
  {
   "cell_type": "code",
   "execution_count": null,
   "metadata": {},
   "outputs": [],
   "source": [
    "fdf[(fdf.barcode=='CGGCGACAACTGACACC') & (fdf.day =='d1')]"
   ]
  },
  {
   "cell_type": "code",
   "execution_count": null,
   "metadata": {},
   "outputs": [],
   "source": [
    "def get_deseq_dataset(fdf, exp):\n",
    "    return None\n",
    "\n"
   ]
  },
  {
   "cell_type": "code",
   "execution_count": null,
   "metadata": {},
   "outputs": [],
   "source": [
    "p9.options.figure_size = (15, 10)\n",
    "(p9.ggplot(test, p9.aes(x='day', y='proportion', color='mouse',shape='exp', group='mouse'))\n",
    " + p9.geom_point(size=6)\n",
    " + p9.geom_line()\n",
    " + p9.theme_classic()\n",
    "#  + p9.ylab(\"Count\")\n",
    "#  + p9.xlab(\"Conc\")\n",
    "  + p9.scale_y_log10()\n",
    " + p9.facet_wrap(\"~barcode\")\n",
    ")"
   ]
  },
  {
   "cell_type": "code",
   "execution_count": null,
   "metadata": {},
   "outputs": [],
   "source": [
    "p9.options.figure_size = (15, 15)\n",
    "(p9.ggplot(test, p9.aes(x='day', y='proportion', color='barcode', shape='exp'))\n",
    " + p9.geom_point(size=6)\n",
    " #+ p9.geom_path(p9.aes(color=test['barcode']))\n",
    " + p9.theme_classic()\n",
    "#  + p9.ylab(\"Count\")\n",
    "#  + p9.xlab(\"Conc\")\n",
    "  + p9.scale_y_log10()\n",
    " + p9.facet_wrap(\"~mouse\")\n",
    ")"
   ]
  },
  {
   "cell_type": "code",
   "execution_count": null,
   "metadata": {},
   "outputs": [],
   "source": [
    "fdf[l2]"
   ]
  },
  {
   "cell_type": "code",
   "execution_count": null,
   "metadata": {},
   "outputs": [],
   "source": [
    "fdf[l3]"
   ]
  },
  {
   "cell_type": "code",
   "execution_count": null,
   "metadata": {},
   "outputs": [],
   "source": [
    "f[f.barcode =='AAACGTAACATAAGCCA']"
   ]
  },
  {
   "cell_type": "code",
   "execution_count": null,
   "metadata": {},
   "outputs": [],
   "source": [
    "f.tail().merge(s[['lib', 'exp']].drop_duplicates(),  left_on='exp', right_on='exp')"
   ]
  },
  {
   "cell_type": "markdown",
   "metadata": {},
   "source": [
    "## DESeq Analysis <a name='DEseq' />\n",
    "\n",
    "Go Back to the <a href=#top>Beginning</a>"
   ]
  },
  {
   "cell_type": "code",
   "execution_count": null,
   "metadata": {},
   "outputs": [],
   "source": [
    "#fdf is dataframe will all the data from dnaid2023 and dnaid2024\n",
    "fdf.head()"
   ]
  },
  {
   "cell_type": "markdown",
   "metadata": {},
   "source": [
    "# Outline of Analysis\n",
    "\n",
    "-  Analysis is done for each dnaid and each exp withing dnaid independently.\n",
    "\n",
    "### Step 1: subset to dnaid and exp.\n",
    "\n",
    "### Step 2: Look at the controls:\n",
    "    - This could be correlation of wt as before\n",
    "    - or correlation between samples, \n",
    "    - or some combination of both\n",
    "    \n",
    "    The result needs to be a list of sample ids to keep, ex. [al964-d4-feces.... ]\n",
    "    \n",
    "### Step 3: DeSeq Analysis\n",
    "\n",
    "    - Create datasetss for analysis, specifically edf and sdf. \n",
    "    - Pivot, and filter -> make inflexible for now, fix later\n",
    "    - Keep only samples from previous step\n",
    "    \n",
    "    - Calculate fitness\n",
    "    - Visualize fitness for each gene as 2 overlapping histograms\n",
    "    \n",
    "    - Calculate z-scores\n",
    "    "
   ]
  },
  {
   "cell_type": "code",
   "execution_count": null,
   "metadata": {},
   "outputs": [],
   "source": [
    "def subset_experiment(df, query_string):\n",
    "    \n",
    "    '''\n",
    "    example query string : '(exp==\"TV5490A\") & (dnaid == \"dnaid2023\")'\n",
    "    '''\n",
    "    return df.query(query_string)\n",
    "\n",
    "\n",
    "\n",
    "def calculate_correlation(df, groupby, v1, v2):\n",
    "    corr_df  = df.groupby(groupby)[[v1, v2]].corr()\n",
    "    corr_df = corr_df.reset_index()\n",
    "    corr_df = corr_df[corr_df['level_1'] == v1].drop(['level_1',v1], axis=1)\n",
    "    return corr_df\n",
    "\n",
    "\n",
    "def good_mice(df, controls, cutoff):\n",
    "    control_cnts = controls.merge(df, left_on='barcode', right_on = 'barcode').drop(['DN','Position', 'Element',\n",
    "                                                                                 'Strand', 'Feature', 'ShortName'], axis=1)\n",
    "\n",
    "    wt_cnts = control_cnts.copy()[control_cnts.phenotype == 'wt']\n",
    "    wt_cnts['logConc'] = np.log10(wt_cnts['conc'])\n",
    "    wt_cnts['logCnts'] = np.log10(wt_cnts['cnts'].replace({0:1}))\n",
    "    log_corr = calculate_correlation(wt_cnts, 'sample', 'logConc', 'logCnts').set_index('sample')\n",
    "    log_corr.columns = ['R']\n",
    "    return log_corr[log_corr.R > cutoff].index\n",
    "\n",
    "def generate_DE_dataset(df, samples_to_keep, to_filter = 0): # Assumes already subset to 1 experiment, 1 dnaid\n",
    "    sample_data = df[['sample', 'mouse', 'day', 'organ', 'dnaid']].set_index('sample').drop_duplicates()\n",
    "    sample_data = sample_data.loc[sample_data.index.intersection(samples_to_keep)]\n",
    "    expr_data = df.pivot(index='barcode', columns='sample', values='cnts')\n",
    "    \n",
    "    expr_data = expr_data[(expr_data['inoculum-d0-inoculum'] >= to_filter) & (expr_data['unenriched_inoculum-d0-inoculum'] >= to_filter)]\n",
    "    expr_data = expr_data[list(sample_data.index)].reset_index()\n",
    "    return sample_data, expr_data\n",
    "\n",
    "\n",
    "def calculate_fitness(edf, sdf):\n",
    "    dds = py_DESeq2(count_matrix = edf,\n",
    "                   design_matrix = sdf,\n",
    "                   design_formula = '~ day',\n",
    "                   gene_column = 'barcode') # <- telling DESeq2 this should be the gene ID column\n",
    "    \n",
    "    dds.run_deseq() \n",
    "    days = list(sdf['day'].unique())\n",
    "    days.remove('d0')\n",
    "    all_results = []\n",
    "    for d in days:\n",
    "        dds.get_deseq_result(contrast =['day', d, 'd0'])\n",
    "        res = dds.deseq_result\n",
    "        res['day'] = d\n",
    "        all_results.append(res)\n",
    "    return pd.concat(all_results)\n",
    "\n",
    "\n",
    "\n",
    "def calculate_2dist_zscore(u1, s1, u2, s2):\n",
    "    return (u1-u2)/np.sqrt((s1**2) + (s2**2))\n",
    "\n",
    "\n",
    "def calculte_comparisons(fitness, df, controls, cntrl_type = 'wt'):\n",
    "    genes = set(df.Feature.values)\n",
    "    genes.remove('-')\n",
    "    other_barcodes = set(df[df.Feature == '-'].barcode.values)\n",
    "    control_barcodes = set(controls[controls.phenotype==cntrl_type].barcode.values)\n",
    "    days = fitness.day.unique()\n",
    "    all_comps = []\n",
    "    for day in days:\n",
    "        control_fits = fitness[fitness.day == day].loc[fitness.index.intersection(control_barcodes)]\n",
    "        control_mu = control_fits.log2FoldChange.mean()\n",
    "        control_sigma = np.sqrt(control_fits.lfcSE.pow(2).sum())/control_fits.shape[0]\n",
    "        gene_comps = {}\n",
    "        for gene in genes:\n",
    "            gene_barcodes = set(df[df.Feature == gene].barcode.values)\n",
    "            gene_fits = fitness[fitness.day == day].loc[fitness.index.intersection(gene_barcodes)]\n",
    "            if gene_fits.shape[0] > 0:\n",
    "                gene_mu = gene_fits.log2FoldChange.mean()\n",
    "                gene_sigma = np.sqrt(gene_fits.lfcSE.pow(2).sum())/gene_fits.shape[0]\n",
    "                zscore = calculate_2dist_zscore(gene_mu, gene_sigma, control_mu, control_sigma)\n",
    "                ci = 2**gene_mu/2**control_mu\n",
    "                num_bc = gene_fits.shape[0]\n",
    "                meanExp = gene_fits.baseMean.mean()\n",
    "                std = np.std(gene_fits.baseMean)\n",
    "                \n",
    "                gene_comps[gene] = [zscore, num_bc, meanExp, std, ci]\n",
    "        for  barcode in other_barcodes:\n",
    "            other_fit =  fitness[fitness.day == day].loc[fitness.index.intersection([barcode])]\n",
    "            if not other_fit.empty:\n",
    "                zscore = calculate_2dist_zscore(other_fit.log2FoldChange.values[0], \n",
    "                                                             other_fit.lfcSE.values[0], control_mu, control_sigma)\n",
    "                ci = 2**other_fit.log2FoldChange.values[0]/2**control_mu\n",
    "                gene_comps[barcode] = [zscore, 1, other_fit.baseMean.values[0], 0, ci]\n",
    "        \n",
    "        comp_df = pd.DataFrame(gene_comps, index =[day+'_zscore', day+'_num_bc', day+\"_meanExpr\", day+\"_std\", day+\"_ci\"]).T\n",
    "        \n",
    "        all_comps.append(comp_df)\n",
    "    return pd.concat(all_comps, axis=1)\n",
    "\n",
    "\n",
    "def comp_stats(comp):\n",
    "    pvalues = 2*norm.cdf(-np.abs(comp), 0, 1)\n",
    "    p_adjust = list(stats.p_adjust(FloatVector(pvalues), method = 'BH'))\n",
    "    s = pd.DataFrame(comp)\n",
    "    s[comp.name+'_pval'] = pvalues\n",
    "    s[comp.name+'_padj'] = p_adjust\n",
    "    s = s.rename({comp.name: comp.name+\"_zscore\" })\n",
    "    return s\n",
    "\n",
    "\n",
    "\n",
    "def analyze_experiment(fdf, query, cutoff, controls, to_filter=1000, cntrl_type = 'wt'):\n",
    "    exp1 = subset_experiment(fdf, query)\n",
    "    mice = good_mice(exp1, controls, cutoff)\n",
    "    sdf, edf = generate_DE_dataset(exp1, mice, to_filter)\n",
    "    fitness = calculate_fitness(edf, sdf)\n",
    "    barcode_info = exp1[['barcode', 'Feature', 'ShortName']].drop_duplicates().set_index('barcode')\n",
    "    fitness_annot = fitness.merge(barcode_info, how='left', left_index=True, right_index = True)\n",
    "    comp_to_wt = calculte_comparisons(fitness, exp1, controls, cntrl_type)\n",
    "    final_list = [comp_stats(comp_to_wt[c]) for c in comp_to_wt.columns if 'zscore' in c]\n",
    "    return fitness_annot, comp_to_wt, pd.concat(final_list, axis=1)\n",
    "\n",
    "\n",
    "\n",
    "\n"
   ]
  },
  {
   "cell_type": "code",
   "execution_count": null,
   "metadata": {},
   "outputs": [],
   "source": [
    "def vis_fitness(fitness, controls, gene, day):\n",
    "    fit = fitness[fitness.day == day]\n",
    "    cf = (controls[controls.phenotype == 'wt'].set_index('barcode').merge(fit, how='left', left_index=True, right_index = True)\n",
    "                       .drop(['DN'], axis=1))\n",
    "    cf = cf.drop_duplicates()\n",
    "    gf = fit[fit.ShortName == gene]\n",
    "    \n",
    "    \n",
    "    sns.set_style(\"white\")\n",
    "    sns.set_context(\"notebook\", font_scale=1.5)\n",
    "    plt.figure(figsize=(8,6)) \n",
    "    cf.log2FoldChange.hist(bins=25, label = 'Control Barcodes')\n",
    "    gf.log2FoldChange.hist(bins=15, label = f'{gene} Barcodes')\n",
    "    plt.legend()\n",
    "    plt.xlabel('log2FoldChange compared to inoculum')\n",
    "    return cf, gf\n",
    "    "
   ]
  },
  {
   "cell_type": "code",
   "execution_count": null,
   "metadata": {},
   "outputs": [],
   "source": [
    "cf, gf = vis_fitness(f2, controls, 'hilD', 'd2')\n",
    "\n"
   ]
  },
  {
   "cell_type": "markdown",
   "metadata": {},
   "source": [
    "## Reproducing Chris's results\n",
    "\n",
    "This code produces the same results as the ones produce by Chris. This was done on count dataframe without any filtering. "
   ]
  },
  {
   "cell_type": "code",
   "execution_count": null,
   "metadata": {},
   "outputs": [],
   "source": [
    "fdf[fdf.exp == 'TV5490A'].groupby('mouse').barcode.nunique()"
   ]
  },
  {
   "cell_type": "code",
   "execution_count": null,
   "metadata": {},
   "outputs": [],
   "source": [
    "query = '(exp==\"TV5490A\") & (dnaid == \"dnaid2023\")'"
   ]
  },
  {
   "cell_type": "code",
   "execution_count": null,
   "metadata": {},
   "outputs": [],
   "source": [
    "#fdf, query, cutoff, controls, to_filter=True, cntrl_type = 'wt'"
   ]
  },
  {
   "cell_type": "code",
   "execution_count": null,
   "metadata": {},
   "outputs": [],
   "source": [
    "original_fitness, original_comps, original_results = analyze_experiment(fdf, query, 0, controls, 0, 'wt');"
   ]
  },
  {
   "cell_type": "code",
   "execution_count": null,
   "metadata": {},
   "outputs": [],
   "source": [
    "new_fitness, new_comps, new_results = analyze_experiment(fdf, query, 0.85, controls, 1, 'wt');"
   ]
  },
  {
   "cell_type": "code",
   "execution_count": null,
   "metadata": {},
   "outputs": [],
   "source": [
    "original_results.head()"
   ]
  },
  {
   "cell_type": "code",
   "execution_count": null,
   "metadata": {},
   "outputs": [],
   "source": [
    "cf, gf = vis_fitness(original_fitness, controls, 'malT', 'd1')\n",
    "#original_fitness[original_fitness.Feature == 'SL1344_0058']"
   ]
  },
  {
   "cell_type": "code",
   "execution_count": null,
   "metadata": {},
   "outputs": [],
   "source": [
    "cf"
   ]
  },
  {
   "cell_type": "code",
   "execution_count": null,
   "metadata": {},
   "outputs": [],
   "source": [
    "cf, gf = vis_fitness(new_fitness, controls, 'hilD', 'd2')\n",
    "gf"
   ]
  },
  {
   "cell_type": "code",
   "execution_count": null,
   "metadata": {},
   "outputs": [],
   "source": [
    "cf, gf, = vis_fitness(new_fitness, controls, 'sul2', 'd1')"
   ]
  },
  {
   "cell_type": "code",
   "execution_count": null,
   "metadata": {},
   "outputs": [],
   "source": [
    "gf"
   ]
  },
  {
   "cell_type": "code",
   "execution_count": null,
   "metadata": {},
   "outputs": [],
   "source": [
    "new_results.head()"
   ]
  },
  {
   "cell_type": "code",
   "execution_count": null,
   "metadata": {},
   "outputs": [],
   "source": [
    "new_comps.columns"
   ]
  },
  {
   "cell_type": "code",
   "execution_count": null,
   "metadata": {},
   "outputs": [],
   "source": [
    "#Day 1 Results\n",
    "d1_res = new_results.merge(new_comps[['d1_num_bc', 'd1_meanExpr', 'd1_std', 'd1_ci']], left_index=True, right_index=True).drop_duplicates()\n",
    "#d1_res = d1_res[d1_res.d1_zscore_padj <0.05]\n",
    "d1_res = d1_res[['d1_zscore', 'd1_zscore_padj', 'd1_ci']].merge(gene_info, how='left', left_index=True, right_index=True).sort_index()"
   ]
  },
  {
   "cell_type": "code",
   "execution_count": null,
   "metadata": {},
   "outputs": [],
   "source": [
    "#Day 1 Results\n",
    "d2_res = new_results.merge(new_comps[['d2_num_bc', 'd2_meanExpr', 'd2_std', 'd2_ci']], left_index=True, right_index=True).drop_duplicates()\n",
    "#d2_res = d2_res[d2_res.d2_zscore_padj <0.05]\n",
    "d2_res = d2_res[['d2_zscore', 'd2_zscore_padj', 'd2_ci']].merge(gene_info, how='left', left_index=True, right_index=True).sort_index()"
   ]
  },
  {
   "cell_type": "code",
   "execution_count": null,
   "metadata": {},
   "outputs": [],
   "source": [
    "d1_res[d1_res.ShortName == 'frdD']"
   ]
  },
  {
   "cell_type": "code",
   "execution_count": null,
   "metadata": {},
   "outputs": [],
   "source": [
    "d2_res[d2_res.ShortName == 'hybD']"
   ]
  },
  {
   "cell_type": "code",
   "execution_count": null,
   "metadata": {},
   "outputs": [],
   "source": [
    "d2_res"
   ]
  },
  {
   "cell_type": "code",
   "execution_count": null,
   "metadata": {},
   "outputs": [],
   "source": [
    "\n",
    "\n",
    "plt.figure(figsize=(15,10))\n",
    "#plt.figure(figsize=(30,10))\n",
    "d1_sig = d1_res[d1_res.d1_zscore_padj < 0.05]\n",
    "\n",
    "plt.plot(d1_sig.d1_zscore, d1_sig.d1_ci, 'o', color=sns.color_palette()[0], markersize=12)\n",
    "\n",
    "\n",
    "\n",
    "for x,y,l in zip(d1_sig.d1_zscore,d1_sig.d1_ci, d1_sig.ShortName):\n",
    "\n",
    "    label = l\n",
    "    if str(label).startswith(\"SL1344\"):\n",
    "        continue\n",
    "    plt.annotate(label, # this is the text\n",
    "                 (x,y), # this is the point to label\n",
    "                 textcoords=\"offset points\", # how to position the text\n",
    "                 xytext=(0,10), # distance from text to points (x,y)\n",
    "                 ha='left') \n",
    "plt.ylabel(\"CI (Mean(Gene Fitness)/ Mean(WT Fitness))\")\n",
    "plt.xlabel(\"Z-Score\")\n",
    "plt.title(\"Significant Results Day 1 (p_adj < 0.05)\")\n",
    "plt.yscale('log')\n"
   ]
  },
  {
   "cell_type": "code",
   "execution_count": null,
   "metadata": {},
   "outputs": [],
   "source": [
    "plt.figure(figsize=(30,10))\n",
    "d2_sig = d2_res[d2_res.d2_zscore_padj < 0.05]\n",
    "\n",
    "plt.plot(d2_sig.d2_zscore, d2_sig.d2_ci, 'o', color=sns.color_palette()[1], markersize=12)\n",
    "\n",
    "\n",
    "\n",
    "for x,y,l in zip(d2_sig.d2_zscore,d2_sig.d2_ci, d2_sig.ShortName):\n",
    "\n",
    "    label = l\n",
    "    \n",
    "    if not label or str(label).startswith(\"SL1344\") or str(label) == 'nan':\n",
    "        continue\n",
    "    plt.annotate(label, # this is the text\n",
    "                 (x,y), # this is the point to label\n",
    "                 textcoords=\"offset points\", # how to position the text\n",
    "                 xytext=(-8,8), # distance from text to points (x,y)\n",
    "                 ha='left') \n",
    "plt.ylabel(\"CI (Mean(Gene Fitness)/ Mean(WT Fitness))\")\n",
    "plt.xlabel(\"Z-Score\")\n",
    "plt.title(\"Significant Results Day 2 (p_adj < 0.05)\")\n",
    "plt.yscale(\"log\")\n",
    "#plt.xscale(\"log\")"
   ]
  },
  {
   "cell_type": "code",
   "execution_count": null,
   "metadata": {},
   "outputs": [],
   "source": [
    "d2_sig"
   ]
  },
  {
   "cell_type": "code",
   "execution_count": null,
   "metadata": {},
   "outputs": [],
   "source": [
    "new_results[new_results.d2_zscore_padj < 0.05].merge(gene_info, how='left', left_index=True, right_index=True).sort_index()"
   ]
  },
  {
   "cell_type": "code",
   "execution_count": null,
   "metadata": {},
   "outputs": [],
   "source": [
    "def counts_overtime(fdf, exp, gene):\n",
    "    df = fdf[(fdf.ShortName == gene) & (fdf.exp == exp)]\n",
    "    nbc = df.barcode.nunique()\n",
    "    if nbc == 0:\n",
    "        return f\"{gene} not found\"\n",
    "    print(nbc/4)\n",
    "    inoculum = df[(df.day == 'd0') & (df.mouse == 'inoculum')]\n",
    "    df = df[df.day != 'd0']\n",
    "    if nbc/4 < 1 :\n",
    "        \n",
    "        xdim = 4*nbc\n",
    "        print(xdim)\n",
    "        ydim = 5\n",
    "    else:\n",
    "        xdim =  16\n",
    "        ydim = 5*nbc/4\n",
    "        \n",
    "    p9.options.figure_size = (xdim, ydim)\n",
    "    g = (p9.ggplot(df, p9.aes(x='day', y='cnts', color='mouse', group='mouse'))\n",
    "     + p9.geom_point(size=6)\n",
    "     + p9.geom_line()\n",
    "     + p9.theme_classic()\n",
    "      + p9.ylab(\"Counts\")\n",
    "      + p9.xlab(\"Day\")\n",
    "      + p9.scale_y_log10()\n",
    "     + p9.geom_hline(inoculum, p9.aes(yintercept = 'cnts', color='dnaid'), linetype=\"dashed\",  size=1)\n",
    "     + p9.facet_wrap(\"~barcode\")\n",
    "\n",
    "    )\n",
    "    \n",
    "    return g"
   ]
  },
  {
   "cell_type": "code",
   "execution_count": null,
   "metadata": {},
   "outputs": [],
   "source": [
    "g = counts_overtime(fdf, 'TV5490A', 'dcuR')\n",
    "g"
   ]
  },
  {
   "cell_type": "code",
   "execution_count": null,
   "metadata": {},
   "outputs": [],
   "source": [
    "\n",
    "test = fdf[(fdf.ShortName == 'hilD') & (fdf.exp == 'TV5490A')]\n",
    "inoculum = test[(test.day == 'd0') & (test.mouse == 'inoculum')]\n",
    "test = test[test.day != 'd0']\n",
    "inoculum\n",
    "p9.options.figure_size = (15, 20)\n",
    "(p9.ggplot(test, p9.aes(x='day', y='cnts', color='mouse', group='mouse'))\n",
    " + p9.geom_point(size=6)\n",
    " + p9.geom_line()\n",
    " + p9.theme_classic()\n",
    "#  + p9.ylab(\"Count\")\n",
    "#  + p9.xlab(\"Conc\")\n",
    "  + p9.scale_y_log10()\n",
    " + p9.geom_hline(inoculum, p9.aes(yintercept = 'cnts', color='dnaid'), linetype=\"dashed\",  size=1)\n",
    " + p9.facet_wrap(\"~barcode\")\n",
    " \n",
    ")"
   ]
  },
  {
   "cell_type": "code",
   "execution_count": null,
   "metadata": {},
   "outputs": [],
   "source": [
    "expr_data = exp1.pivot(index='barcode', columns='sample', values='cnts')"
   ]
  },
  {
   "cell_type": "code",
   "execution_count": null,
   "metadata": {},
   "outputs": [],
   "source": [
    "plt.figure(figsize=(8,6))\n",
    "expr_data['inoculum-d0-inoculum'].hist(bins=50)\n",
    "\n",
    "plt.vlines(x=1000, ymin=0, ymax=3000, color='black')\n",
    "plt.vlines(x=1, ymin=0, ymax=3000, color='orange')"
   ]
  },
  {
   "cell_type": "code",
   "execution_count": null,
   "metadata": {},
   "outputs": [],
   "source": [
    "expr_data['inoculum-d0-inoculum'].mean()"
   ]
  },
  {
   "cell_type": "code",
   "execution_count": null,
   "metadata": {},
   "outputs": [],
   "source": [
    "expr_data[expr_data['inoculum-d0-inoculum'] >1000].shape"
   ]
  },
  {
   "cell_type": "code",
   "execution_count": null,
   "metadata": {},
   "outputs": [],
   "source": [
    "test = fdf[(fdf.ShortName == 'hilD') & (fdf.exp == 'TV5490A')]\n",
    "inoculum = test[(test.day == 'd0') & (test.mouse == 'inoculum')]\n",
    "test = test[test.day != 'd0']\n",
    "inoculum\n",
    "p9.options.figure_size = (15, 20)\n",
    "(p9.ggplot(test, p9.aes(x='day', y='cnts', color='barcode', group='barcode'))\n",
    " + p9.geom_point(size=6)\n",
    " + p9.geom_line()\n",
    " + p9.theme_classic()\n",
    "#  + p9.ylab(\"Count\")\n",
    "#  + p9.xlab(\"Conc\")\n",
    "  + p9.scale_y_log10()\n",
    " + p9.geom_hline(inoculum, p9.aes(yintercept = 'cnts', color='dnaid'), linetype=\"dashed\",  size=1)\n",
    " + p9.facet_wrap(\"~mouse\")\n",
    " \n",
    ")"
   ]
  },
  {
   "cell_type": "code",
   "execution_count": null,
   "metadata": {},
   "outputs": [],
   "source": [
    "#plt.figure()\n",
    "#original_comps.d1_num_bc.hist(bins=50)\n",
    "plt.figure()\n",
    "original_comps.d1_meanExpr.hist(bins=50)\n",
    "plt.xlabel('mean \"expression\"')\n",
    "plt.ylabel('frequency')"
   ]
  },
  {
   "cell_type": "markdown",
   "metadata": {},
   "source": [
    "# Filtering \n",
    "- Removing barcodes with 0 counts in the inoculum and removing 2 mice that looked like outliers and re-running the results"
   ]
  },
  {
   "cell_type": "code",
   "execution_count": null,
   "metadata": {},
   "outputs": [],
   "source": [
    "#Subsetting so that only looking at barcodes with > 0 counts in both enriched and unenriched inoculum\n",
    "\n",
    "# Needs to be done on by exp. basis\n",
    "def remove_null_barcodes(fdf, exp, dnaid):\n",
    "    df0 = fdf[(fdf.exp == exp) & (fdf.dnaid == dnaid)].copy()\n",
    "    cond1 = df0[(df0.mouse =='unenriched_inoculum') & (df0.cnts > 0)].barcode.values\n",
    "    cond2 = df0[(df0.mouse =='inoculum') & (df0.cnts > 0)].barcode.values\n",
    "    actualbc = set(cond1).intersection(set(cond2))\n",
    "    df0 = df0[df0.barcode.isin(actualbc)]\n",
    "    return df0\n",
    "\n",
    "df0 = remove_null_barcodes(fdf, 'TV5490A', 'dnaid2023')\n",
    "print(df0.groupby(['exp', 'mouse']).barcode.nunique())\n",
    "\n",
    "df0 = df0[(df0.mouse!='al965') & (df0.mouse!='al967')]"
   ]
  },
  {
   "cell_type": "code",
   "execution_count": null,
   "metadata": {},
   "outputs": [],
   "source": [
    "new_fitness, new_comps, new_results = analyze_experiment(df0, 'TV5490A', controls, 'wt', dnaid='dnaid2023')"
   ]
  },
  {
   "cell_type": "code",
   "execution_count": null,
   "metadata": {},
   "outputs": [],
   "source": [
    "p9.options.figure_size = (10, 8)\n",
    "(p9.ggplot(new_comps, p9.aes(x='d1_meanExpr'))\n",
    " + p9.geom_histogram(bins=50, fill='red', alpha=0.8)\n",
    " +p9.geom_histogram(original_comps, p9.aes(x='d1_meanExpr'), bins=50,fill='blue', alpha=0.4)\n",
    " + p9.theme_classic()\n",
    " + p9.ylab(\"Count\")\n",
    " + p9.xlab(\"meanExpr of barcodes\")\n",
    "\n",
    ")"
   ]
  },
  {
   "cell_type": "code",
   "execution_count": null,
   "metadata": {},
   "outputs": [],
   "source": [
    "new_comps.plot( x='d1_zscore', y='d2_zscore',kind='scatter')"
   ]
  },
  {
   "cell_type": "code",
   "execution_count": null,
   "metadata": {},
   "outputs": [],
   "source": [
    "# new_results['d1_-logPval'] = -1*np.log(new_results['d1_zscore_padj'])\n",
    "# c1 = abs(new_results['d1_zscore']) > 2\n",
    "# c2 = new_results['d1_zscore_padj']< 0.05\n",
    "# new_results['d1_hit'] = c1 & c2"
   ]
  },
  {
   "cell_type": "code",
   "execution_count": null,
   "metadata": {},
   "outputs": [],
   "source": [
    "new_results.head()"
   ]
  },
  {
   "cell_type": "code",
   "execution_count": null,
   "metadata": {},
   "outputs": [],
   "source": [
    "(p9.ggplot(new_results, p9.aes(x = 'd1_zscore', y = 'd1_-logPval', fill='d1_hit')) +\n",
    " p9.geom_point(size = 2, shape = 'o', colour = \"grey\")+\n",
    " p9.labs(x = 'Z-Score', y = '-log10(Pval)')+\n",
    " p9.scale_x_continuous(limits = [-12, 6], breaks = range(-12, 6, 2)) + \n",
    " p9.scale_y_continuous(limits = [0, 25], breaks = range(0, 26, 5))+\n",
    " p9.ggtitle(\"Title\")+\n",
    " p9.theme(\n",
    "    plot_title = p9.element_text(family = \"Arial\", size = 11, hjust = 0), # Title size and font.\n",
    "    \n",
    "    axis_text = p9.element_text(family = \"Arial\", size = 10), # Size and font of x and y values.\n",
    "    axis_title = p9.element_text(family = \"Arial\", size = 10), # Size and font of x and y axes.\n",
    "    panel_border = p9.element_rect(colour = \"black\", fill = np.nan, size = 1), # Black border around the plot area.\n",
    "    axis_ticks = p9.element_line(colour = \"black\", size = 1), # Style of x and y ticks.\n",
    "    legend_position = \"none\"\n",
    "  )\n",
    ")\n",
    "   #p9.geom_label(p9.aes(label=label), label_size=0.01, nudge_x=2,))#, adjust_text={'expand_points': (1.5, 1.5), 'arrowprops': {'arrowstyle': '-'}}))\n",
    "  #p9.scale_fill_manual(breaks = [\"blue\", \"red\"], values = [\"deepskyblue3\", \"firebrick1\"]))\n",
    "\n"
   ]
  },
  {
   "cell_type": "code",
   "execution_count": null,
   "metadata": {},
   "outputs": [],
   "source": [
    "def subset_results(result_df, gene_info = gene_info, cond='d1', cutoff = 0.05, other_condition=False):\n",
    "    if other_condition:\n",
    "        return result_df[cond].merge(gene_info, how='left', left_index=True, right_index=True)\n",
    "    else:\n",
    "        return(result_df[result_df[f'{cond}_zscore_padj'] < cutoff][[c for c in result_df if cond in c]]\n",
    "         .merge(gene_info, how='left', left_index=True, right_index=True))"
   ]
  },
  {
   "cell_type": "code",
   "execution_count": null,
   "metadata": {},
   "outputs": [],
   "source": [
    "# Compare significant results: Day 1\n",
    "or_d1 = subset_results(original_results, cond='d1').sort_index()\n",
    "or_d1"
   ]
  },
  {
   "cell_type": "code",
   "execution_count": null,
   "metadata": {},
   "outputs": [],
   "source": []
  },
  {
   "cell_type": "code",
   "execution_count": null,
   "metadata": {},
   "outputs": [],
   "source": [
    "new_d1 = subset_results(new_results, cond='d1').sort_index()\n",
    "new_d1"
   ]
  },
  {
   "cell_type": "code",
   "execution_count": null,
   "metadata": {},
   "outputs": [],
   "source": [
    "# Compare significant results: Day 2\n",
    "or_d2 = subset_results(original_results, cond='d2').sort_index()\n",
    "or_d2"
   ]
  },
  {
   "cell_type": "code",
   "execution_count": null,
   "metadata": {},
   "outputs": [],
   "source": [
    "new_d2 = subset_results(new_results, cond='d2').sort_index()\n",
    "new_d2"
   ]
  },
  {
   "cell_type": "code",
   "execution_count": null,
   "metadata": {},
   "outputs": [],
   "source": [
    "# Different Library TV5490B\n",
    "\n",
    "fdf[fdf.exp == 'TV5490B'].mouse.unique()\n",
    "# Need to drop al975\n",
    "\n",
    "\n",
    "dfB = remove_null_barcodes(fdf, 'TV5490B', 'dnaid2023')\n",
    "print(dfB.groupby(['exp', 'mouse']).barcode.nunique())\n",
    "\n",
    "dfB = dfB[(dfB.mouse!='al975')]\n"
   ]
  },
  {
   "cell_type": "code",
   "execution_count": null,
   "metadata": {},
   "outputs": [],
   "source": [
    "or_fitnessB, or_compsB, or_resultsB = analyze_experiment(fdf, 'TV5490B', controls, 'wt', dnaid='dnaid2023')"
   ]
  },
  {
   "cell_type": "code",
   "execution_count": null,
   "metadata": {},
   "outputs": [],
   "source": [
    "new_fitnessB, new_compsB, new_resultsB = analyze_experiment(dfB, 'TV5490B', controls, 'wt', dnaid='dnaid2023')"
   ]
  },
  {
   "cell_type": "code",
   "execution_count": null,
   "metadata": {},
   "outputs": [],
   "source": [
    "or_resultsB.head()"
   ]
  },
  {
   "cell_type": "code",
   "execution_count": null,
   "metadata": {},
   "outputs": [],
   "source": [
    "# Compare significant results: Day 1\n",
    "or_dB1 = subset_results(or_resultsB, cond='d1').sort_values(by='d1_zscore_padj').sort_index()\n",
    "or_dB1"
   ]
  },
  {
   "cell_type": "code",
   "execution_count": null,
   "metadata": {},
   "outputs": [],
   "source": []
  },
  {
   "cell_type": "code",
   "execution_count": null,
   "metadata": {},
   "outputs": [],
   "source": [
    "# Compare significant results: Day 1\n",
    "new_dB1 = subset_results(new_resultsB, cond='d1').sort_index()\n",
    "new_dB1"
   ]
  },
  {
   "cell_type": "code",
   "execution_count": null,
   "metadata": {},
   "outputs": [],
   "source": [
    "# Compare significant results: Day 2\n",
    "or_dB2 = subset_results(or_resultsB, cond='d2').sort_index()\n",
    "or_dB2"
   ]
  },
  {
   "cell_type": "code",
   "execution_count": null,
   "metadata": {},
   "outputs": [],
   "source": [
    "# Compare significant results: Day 2\n",
    "new_dB2 = subset_results(new_resultsB, cond='d2').sort_index()\n",
    "new_dB2"
   ]
  },
  {
   "cell_type": "code",
   "execution_count": null,
   "metadata": {},
   "outputs": [],
   "source": [
    "plt.figure()\n",
    "new_comps.d1_num_bc.hist(bins=50)\n",
    "plt.figure()\n",
    "new_comps.d1_meanExpr.hist(bins=50)"
   ]
  },
  {
   "cell_type": "code",
   "execution_count": null,
   "metadata": {},
   "outputs": [],
   "source": [
    "test3[test3.d2_zscore_padj < 0.1].sort_values(by='d2_zscore_padj').merge(gene_info, how='left', left_index=True, right_index=True)"
   ]
  },
  {
   "cell_type": "code",
   "execution_count": null,
   "metadata": {},
   "outputs": [],
   "source": []
  },
  {
   "cell_type": "code",
   "execution_count": null,
   "metadata": {},
   "outputs": [],
   "source": [
    "df0_good_mice['sample'].unique()"
   ]
  },
  {
   "cell_type": "code",
   "execution_count": null,
   "metadata": {},
   "outputs": [],
   "source": [
    "fit0, comps0,  res0 = analyze_experiment(df0, 'TV5490A', controls, 'wt', dnaid='dnaid2023')\n",
    "fit_gm, comps_gm,  res_gm = analyze_experiment(df0_good_mice, 'TV5490A', controls, 'wt', dnaid='dnaid2023')"
   ]
  },
  {
   "cell_type": "code",
   "execution_count": null,
   "metadata": {},
   "outputs": [],
   "source": [
    "res_gm[res_gm.d1_zscore_padj <0.05].sort_values(by='d1_zscore_padj').merge(gene_info,how='left', left_index=True, right_index=True) "
   ]
  },
  {
   "cell_type": "code",
   "execution_count": null,
   "metadata": {},
   "outputs": [],
   "source": [
    "# x = fdf[(fdf.exp=='TV5490A') & (fdf.dnaid == 'dnaid2023')]\n",
    "# x['sampleid'] = x['sample'] + x['dnaid']\n",
    "# x = x[['sampleid', 'mouse', 'day', 'organ', 'dnaid']].set_index('sampleid').drop_duplicates()\n",
    "\n",
    "# y = x.day.value_counts()\n",
    "# y.name = 'num_mice'\n",
    "fit0.merge(y, how='left', left_on='day', right_index=True)"
   ]
  },
  {
   "cell_type": "code",
   "execution_count": null,
   "metadata": {},
   "outputs": [],
   "source": [
    "d1_sig = res0[(res0.d1_padj < 0.05)]\n",
    "d2_sig = res0[(res0.d2_padj < 0.05)]\n",
    "d1_sig"
   ]
  },
  {
   "cell_type": "code",
   "execution_count": null,
   "metadata": {},
   "outputs": [],
   "source": [
    "# Day 1 or Day 2 Significant results\n",
    "d1_sig = r0[(r0.d1_padj < 0.05)]\n",
    "d2_sig = r0[(r0.d2_padj < 0.05)]\n",
    "d1_sig"
   ]
  },
  {
   "cell_type": "code",
   "execution_count": null,
   "metadata": {},
   "outputs": [],
   "source": [
    "r0_with_genes = res0.merge(gene_info, how='left', left_index=True, right_index=True)"
   ]
  },
  {
   "cell_type": "code",
   "execution_count": null,
   "metadata": {},
   "outputs": [],
   "source": [
    "r0_with_genes[r0_with_genes.ShortName =='hilC']"
   ]
  },
  {
   "cell_type": "code",
   "execution_count": null,
   "metadata": {},
   "outputs": [],
   "source": [
    "repeat_res_with_genes = repeat_res.merge(gene_info, how='left', left_index=True, right_index=True)"
   ]
  },
  {
   "cell_type": "code",
   "execution_count": null,
   "metadata": {},
   "outputs": [],
   "source": [
    "repeat_res_with_genes[repeat_res_with_genes.ShortName == 'hilC']"
   ]
  },
  {
   "cell_type": "code",
   "execution_count": null,
   "metadata": {},
   "outputs": [],
   "source": [
    "hila = df0[(df0.ShortName == 'hilD') & (df0.day=='d1')].barcode.unique()"
   ]
  },
  {
   "cell_type": "code",
   "execution_count": null,
   "metadata": {},
   "outputs": [],
   "source": [
    "hila"
   ]
  },
  {
   "cell_type": "code",
   "execution_count": null,
   "metadata": {},
   "outputs": [],
   "source": [
    "fit0.head()"
   ]
  },
  {
   "cell_type": "code",
   "execution_count": null,
   "metadata": {},
   "outputs": [],
   "source": [
    "fdf[fdf.mouse == 'unenriched_inoculum'].proportion.hist(bins=100)"
   ]
  },
  {
   "cell_type": "code",
   "execution_count": null,
   "metadata": {},
   "outputs": [],
   "source": [
    "df0[df0.mouse == 'inoculum'].cnts.hist(bins=100)"
   ]
  },
  {
   "cell_type": "code",
   "execution_count": null,
   "metadata": {},
   "outputs": [],
   "source": [
    "df0[(df0.barcode.isin(hila)) &(df0.day == 'd1') & (df0.exp == 'TV5490A')]"
   ]
  },
  {
   "cell_type": "code",
   "execution_count": null,
   "metadata": {},
   "outputs": [],
   "source": [
    "df0[df0.barcode == 'CGGAGAACTCGTCATGG']"
   ]
  },
  {
   "cell_type": "code",
   "execution_count": null,
   "metadata": {},
   "outputs": [],
   "source": [
    "d2_sig.sort_values(by='d2_padj')"
   ]
  },
  {
   "cell_type": "code",
   "execution_count": null,
   "metadata": {},
   "outputs": [],
   "source": [
    "new_results[new_results.d1_padj<0.05].sort_values(by='d1_padj')"
   ]
  },
  {
   "cell_type": "code",
   "execution_count": null,
   "metadata": {},
   "outputs": [],
   "source": []
  },
  {
   "cell_type": "code",
   "execution_count": null,
   "metadata": {},
   "outputs": [],
   "source": [
    "gene_info.head()"
   ]
  },
  {
   "cell_type": "code",
   "execution_count": null,
   "metadata": {},
   "outputs": [],
   "source": [
    "d1_sig.merge(gene_info, how='left', left_index=True, right_index=True).sort_values(by ='d1_padj')"
   ]
  },
  {
   "cell_type": "code",
   "execution_count": null,
   "metadata": {},
   "outputs": [],
   "source": [
    "new_results[new_results.d1_padj<0.05].sort_values(by='d1_padj').merge(gene_info, how='left', left_index=True, right_index=True)"
   ]
  },
  {
   "cell_type": "code",
   "execution_count": null,
   "metadata": {},
   "outputs": [],
   "source": [
    "fit0 = no0_results[0]\n",
    "fit0.head()"
   ]
  },
  {
   "cell_type": "code",
   "execution_count": null,
   "metadata": {},
   "outputs": [],
   "source": [
    "barcode_info = fdf[['barcode', 'Feature', 'ShortName', 'Position']].drop_duplicates().set_index('barcode')\n",
    "barcode_info.shape"
   ]
  },
  {
   "cell_type": "code",
   "execution_count": null,
   "metadata": {},
   "outputs": [],
   "source": [
    "x = fit0.merge(barcode_info, how='left',left_index=True, right_index=True, indicator=True)\n",
    "x['_merge'].unique()\n"
   ]
  },
  {
   "cell_type": "code",
   "execution_count": null,
   "metadata": {},
   "outputs": [],
   "source": [
    "fit0.shape"
   ]
  },
  {
   "cell_type": "code",
   "execution_count": null,
   "metadata": {},
   "outputs": [],
   "source": [
    "x.shape"
   ]
  },
  {
   "cell_type": "code",
   "execution_count": null,
   "metadata": {},
   "outputs": [],
   "source": [
    "x = x[x.day == 'd1']\n",
    "x[x['ShortName'] == 'rfaI']"
   ]
  },
  {
   "cell_type": "code",
   "execution_count": null,
   "metadata": {},
   "outputs": [],
   "source": [
    "x[x.padj < 0.05]"
   ]
  },
  {
   "cell_type": "code",
   "execution_count": null,
   "metadata": {},
   "outputs": [],
   "source": [
    "fit0.loc[fit0.index.intersection(controls.barcode.values)].log2FoldChange.hist(bins=25)"
   ]
  },
  {
   "cell_type": "code",
   "execution_count": null,
   "metadata": {},
   "outputs": [],
   "source": []
  }
 ],
 "metadata": {
  "kernelspec": {
   "display_name": "Python 3",
   "language": "python",
   "name": "python3"
  },
  "language_info": {
   "codemirror_mode": {
    "name": "ipython",
    "version": 3
   },
   "file_extension": ".py",
   "mimetype": "text/x-python",
   "name": "python",
   "nbconvert_exporter": "python",
   "pygments_lexer": "ipython3",
   "version": "3.6.6"
  }
 },
 "nbformat": 4,
 "nbformat_minor": 4
}
