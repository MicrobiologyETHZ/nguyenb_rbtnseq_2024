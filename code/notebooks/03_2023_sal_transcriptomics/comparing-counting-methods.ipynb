{
 "cells": [
  {
   "cell_type": "code",
   "execution_count": null,
   "metadata": {
    "ExecuteTime": {
     "end_time": "2023-05-05T11:38:13.566491Z",
     "start_time": "2023-05-05T11:38:13.560056Z"
    }
   },
   "outputs": [],
   "source": [
    "import pandas as pd\n",
    "from pathlib import Path\n",
    "import sys\n",
    "import plotly.express as px\n",
    "import pyranges as pr"
   ]
  },
  {
   "cell_type": "code",
   "execution_count": null,
   "metadata": {
    "ExecuteTime": {
     "end_time": "2023-05-05T11:38:14.186526Z",
     "start_time": "2023-05-05T11:38:14.180807Z"
    }
   },
   "outputs": [],
   "source": [
    "annotation_file = \"../../../scratch/03_23_transcriptomics/ref/ASF_Salmonella.gff\"\n",
    "metadata_file = \"../../../scratch/03_23_transcriptomics/rnaseq_metatdata.csv\""
   ]
  },
  {
   "cell_type": "code",
   "execution_count": null,
   "metadata": {
    "ExecuteTime": {
     "end_time": "2023-05-05T11:38:15.157459Z",
     "start_time": "2023-05-05T11:38:15.135776Z"
    }
   },
   "outputs": [],
   "source": [
    "sds = pd.read_csv(metadata_file)"
   ]
  },
  {
   "cell_type": "code",
   "execution_count": null,
   "metadata": {
    "ExecuteTime": {
     "end_time": "2023-05-05T11:58:03.164292Z",
     "start_time": "2023-05-05T11:58:03.141166Z"
    }
   },
   "outputs": [],
   "source": [
    "class CountDataSet:\n",
    "    genome_map = {'C825': 'ASF519',\n",
    "        'C824': 'ASF502',\n",
    "         'SL1344': 'SL1344', \n",
    "         'K401': 'DSM755',\n",
    "         'A4V08': 'YL32', \n",
    "         'A4U99': 'YL31',\n",
    "         'A4V09': 'YL58',\n",
    "        }\n",
    "    annotation_columns = ['Chromosome',  'Feature', 'Start', 'End', 'Strand','ID', \n",
    "                          'Name', 'locus_tag', 'product']\n",
    "    \n",
    "    def __init__(self, data_dir, gff_file, feature='gene'):\n",
    "        self.data_dir = Path(data_dir)\n",
    "        self.count_data = pd.DataFrame()\n",
    "        self.gff_file = gff_file\n",
    "        self.feature = feature\n",
    "        self.annot = self.process_gff()\n",
    "       \n",
    "        \n",
    "        \n",
    "    def load_count_files(self):\n",
    "        pass\n",
    "    \n",
    "    def process_gff(self):\n",
    "        gff = pr.read_gff3(self.gff_file).as_df()[self.annotation_columns]\n",
    "        return gff[gff['Feature'] == self.feature]\n",
    "        \n",
    "    \n",
    "class HtseqCounts(CountDataSet):\n",
    "    count_col = 'count'\n",
    "    \n",
    "    def load_count_files(self):\n",
    "        files = list(self.data_dir.rglob('*.txt'))\n",
    "        df_list = []\n",
    "        for f in files:\n",
    "            df = pd.read_table(f, names= ['Name', 'count'], header=None).assign(sample_id=f.stem.split(\".\")[0])\n",
    "            df['Name'] = df.Name.str.split(\"gene-\", expand=True)[1]\n",
    "            df = df.dropna(subset=['Name'])\n",
    "            df['genome'] = [self.genome_map.get(name.split(\"_\")[0], 'SL1344') for name in df.Name.values]\n",
    "            df_list.append(df)\n",
    "        self.count_data = (pd.concat(df_list).rename({self.count_col: 'read_counts',\n",
    "                                                     'Name': 'locus_tag'}, axis=1)\n",
    "                           .merge(self.annot, on='locus_tag', how='left'))\n",
    "\n",
    "        \n",
    "class SalmonCounts(CountDataSet):\n",
    "    count_col = 'NumReads'\n",
    "    def load_count_files(self):\n",
    "        files =  list(self.data_dir.rglob('quant.sf'))\n",
    "        df_list = []\n",
    "        for f in files:\n",
    "            name = f.parent.stem.split(\"_quant\")[0]\n",
    "            df = pd.read_table(f).assign(sample_id=name)\n",
    "            df['locus_tag'] = (df.Name.str.split('locus_tag=', expand=True)[1]\n",
    "                               .str.split(\"::\", expand=True)[0]\n",
    "                              .str.split(\";\", expand=True)[0])\n",
    "            df = df.rename({\"Name\": 'full_name'}, axis=1)\n",
    "            #df['Name'] = df.full_name.str.split('Name=', expand=True)[1].str.split(\";\", expand=True)[0]\n",
    "            df['genome'] = df.locus_tag.str.split(\"_\", expand=True)[0].replace(self.genome_map)\n",
    "            df_list.append(df)\n",
    "        \n",
    "        self.count_data = (pd.concat(df_list).rename({self.count_col: 'read_counts'}, axis=1)\n",
    "                           .merge(self.annot, on='locus_tag', how='left'))\n",
    "        \n",
    "        \n",
    "class FeatureCounts(CountDataSet):\n",
    "    count_col = None\n",
    "    def load_count_files(self):\n",
    "        files = list(self.data_dir.rglob(\"*.count.txt\"))\n",
    "        df_list = []\n",
    "        for f in files:\n",
    "            name = f.stem.split(\".count\")[0]\n",
    "            print(name)\n",
    "            df = pd.read_table(f, comment='#').assign(sample_id=name)\n",
    "            df.columns = ['locus_tag', 'chr','start', 'end', 'strand', 'length', 'read_counts', 'sample_id']\n",
    "            df = df.dropna(subset=['locus_tag'])\n",
    "            df['genome'] = [self.genome_map.get(name.split(\"_\")[0], 'SL1344') for name in df.locus_tag.values]\n",
    "            df_list.append(df)\n",
    "        self.count_data = (pd.concat(df_list)[['locus_tag', 'read_counts', 'sample_id', 'genome']]\n",
    "                           .merge(self.annot, on='locus_tag', how='left'))\n",
    "       \n",
    "    @property\n",
    "    def summary_df(self):\n",
    "        files = list(self.data_dir.rglob(\"*.count.txt.summary\"))\n",
    "        df_list = []\n",
    "        for f in files:\n",
    "            df = pd.read_table(f)\n",
    "            name = df.columns[1].split(\"/\")[-1].split('.')[0]\n",
    "            df = df.assign(sample_id = name)\n",
    "            df.columns = ['status', 'read_counts', 'sample_id']\n",
    "            df_list.append(df)\n",
    "        fdf = pd.concat(df_list)\n",
    "        summary = fdf.groupby('sample_id').read_counts.sum().reset_index()\n",
    "        summary.columns = ['sample_id', 'total']\n",
    "        summary = (summary.merge(fdf[fdf.status == 'Assigned'][['read_counts', 'sample_id']], on = 'sample_id')\n",
    "                   .rename({'read_counts': 'assigned'}, axis=1)\n",
    "                   .merge(fdf[fdf.status == 'Unassigned_Unmapped'][['read_counts', 'sample_id']], on = 'sample_id') \n",
    "                   .rename({'read_counts':'unmapped'}, axis=1)\n",
    "                   .merge(fdf[fdf.status=='Unassigned_NoFeatures'][['read_counts', 'sample_id']], on = 'sample_id')\n",
    "                  .rename({'read_counts':'no_feature'}, axis=1))\n",
    "        summary['percent_assigned'] = summary['assigned']/summary['total']*100\n",
    "        summary['percent_unmapped'] = summary['unmapped']/summary['total']*100\n",
    "        summary['percent_no_feature'] = summary['no_feature']/summary['total']*100\n",
    "        return summary\n",
    "               "
   ]
  },
  {
   "cell_type": "code",
   "execution_count": null,
   "metadata": {
    "ExecuteTime": {
     "end_time": "2023-04-25T12:33:07.772742Z",
     "start_time": "2023-04-25T12:32:27.494880Z"
    }
   },
   "outputs": [],
   "source": [
    "htseq_dir = \"../../../scratch/03_23_transcriptomics/Sal-asf-all-gene-a0_htseqcount\"\n",
    "salmon_dir = \"../../../scratch/03_23_transcriptomics/salmon/\" \n",
    "\n",
    "htseq = HtseqCounts(htseq_dir, annotation_file)\n",
    "salmon = SalmonCounts(salmon_dir, annotation_file)\n",
    "\n",
    "htseq.load_count_files()\n",
    "salmon.load_count_files()\n"
   ]
  },
  {
   "cell_type": "markdown",
   "metadata": {},
   "source": [
    "# Load FeatureCounts Data"
   ]
  },
  {
   "cell_type": "code",
   "execution_count": null,
   "metadata": {
    "ExecuteTime": {
     "end_time": "2023-05-05T11:58:11.006877Z",
     "start_time": "2023-05-05T11:58:05.256888Z"
    }
   },
   "outputs": [],
   "source": [
    "feat_dir = \"../../../scratch/03_23_transcriptomics/gene_bowtie_featurecounts/\"\n",
    "feat = FeatureCounts(feat_dir, annotation_file)\n",
    "feat.load_count_files()"
   ]
  },
  {
   "cell_type": "code",
   "execution_count": null,
   "metadata": {
    "ExecuteTime": {
     "end_time": "2023-05-05T11:58:11.115112Z",
     "start_time": "2023-05-05T11:58:11.012595Z"
    }
   },
   "outputs": [],
   "source": [
    "feat.summary_df"
   ]
  },
  {
   "cell_type": "code",
   "execution_count": null,
   "metadata": {
    "ExecuteTime": {
     "end_time": "2023-04-26T06:01:47.909519Z",
     "start_time": "2023-04-26T06:01:42.347706Z"
    }
   },
   "outputs": [],
   "source": [
    "feat.count_data.to_csv(\"../../../scratch/03_23_transcriptomics/featureCounts.csv\")"
   ]
  },
  {
   "cell_type": "code",
   "execution_count": null,
   "metadata": {
    "ExecuteTime": {
     "end_time": "2023-04-25T12:32:22.696267Z",
     "start_time": "2023-04-25T12:32:22.521783Z"
    }
   },
   "outputs": [],
   "source": [
    "feat_summary = feat.count_data.groupby(['sample_id', 'genome']).read_counts.sum().reset_index()\n",
    "feat_summary = feat_summary.rename({'read_counts':'featCounts'}, axis=1)"
   ]
  },
  {
   "cell_type": "code",
   "execution_count": null,
   "metadata": {
    "ExecuteTime": {
     "end_time": "2023-04-25T12:33:07.972541Z",
     "start_time": "2023-04-25T12:33:07.777172Z"
    }
   },
   "outputs": [],
   "source": [
    "htseq_summary = htseq.count_data.groupby(['sample_id', 'genome']).read_counts.sum().reset_index()\n",
    "htseq_summary = htseq_summary.rename({'read_counts':'htseq'}, axis=1)"
   ]
  },
  {
   "cell_type": "code",
   "execution_count": null,
   "metadata": {
    "ExecuteTime": {
     "end_time": "2023-04-25T12:33:08.202979Z",
     "start_time": "2023-04-25T12:33:07.975621Z"
    }
   },
   "outputs": [],
   "source": [
    "salmon_summary = salmon.count_data.groupby(['sample_id', 'genome']).read_counts.sum().reset_index()\n",
    "salmon_summary = salmon_summary.rename({'read_counts':'salmon'}, axis=1)"
   ]
  },
  {
   "cell_type": "code",
   "execution_count": null,
   "metadata": {
    "ExecuteTime": {
     "end_time": "2023-04-25T12:33:16.725813Z",
     "start_time": "2023-04-25T12:33:16.716874Z"
    }
   },
   "outputs": [],
   "source": [
    "df = (htseq_summary.merge(salmon_summary, on=['genome', 'sample_id'])\n",
    "      .merge(feat_summary, on=['genome', 'sample_id']))"
   ]
  },
  {
   "cell_type": "code",
   "execution_count": null,
   "metadata": {
    "ExecuteTime": {
     "end_time": "2023-04-21T13:55:33.459599Z",
     "start_time": "2023-04-21T13:55:33.448589Z"
    }
   },
   "outputs": [],
   "source": [
    "df = #df.melt(id_vars=['sample_id', 'genome'], value_name='count', var_name='method')"
   ]
  },
  {
   "cell_type": "code",
   "execution_count": null,
   "metadata": {
    "ExecuteTime": {
     "end_time": "2023-04-25T12:33:18.515121Z",
     "start_time": "2023-04-25T12:33:18.495150Z"
    }
   },
   "outputs": [],
   "source": [
    "df.head()"
   ]
  },
  {
   "cell_type": "code",
   "execution_count": null,
   "metadata": {
    "ExecuteTime": {
     "end_time": "2023-04-25T12:34:34.754302Z",
     "start_time": "2023-04-25T12:34:34.672683Z"
    }
   },
   "outputs": [],
   "source": [
    "px.scatter(df, x='salmon', y='featCounts', hover_data=['genome', 'sample_id'], color='genome', \n",
    "          log_y=True, log_x=True)"
   ]
  },
  {
   "cell_type": "code",
   "execution_count": null,
   "metadata": {
    "ExecuteTime": {
     "end_time": "2023-04-25T12:33:46.649027Z",
     "start_time": "2023-04-25T12:33:37.009973Z"
    }
   },
   "outputs": [],
   "source": [
    "px.scatter(df, x='htseq', y='featCounts', hover_data=['genome', 'sample_id'], color='genome', \n",
    "          log_y=True, log_x=True)"
   ]
  },
  {
   "cell_type": "code",
   "execution_count": null,
   "metadata": {
    "ExecuteTime": {
     "end_time": "2023-04-21T14:00:54.297814Z",
     "start_time": "2023-04-21T14:00:54.223649Z"
    }
   },
   "outputs": [],
   "source": [
    "px.scatter(df, x='htseq', y='salmon', hover_data=['genome', 'sample_id'], color='genome', \n",
    "          log_y=True, log_x=True)"
   ]
  },
  {
   "cell_type": "code",
   "execution_count": null,
   "metadata": {
    "ExecuteTime": {
     "end_time": "2023-04-25T12:45:12.514492Z",
     "start_time": "2023-04-25T12:45:12.497889Z"
    }
   },
   "outputs": [],
   "source": [
    "by_sample = df.groupby('sample_id').agg({'htseq':['sum'], 'salmon':['sum'],\n",
    "                                                   'featCounts':['sum']}).reset_index()\n",
    "by_sample.columns = ['sample_id','htseq_total', 'salmon_total', 'featCounts_total']"
   ]
  },
  {
   "cell_type": "code",
   "execution_count": null,
   "metadata": {
    "ExecuteTime": {
     "end_time": "2023-04-25T12:46:02.672474Z",
     "start_time": "2023-04-25T12:46:02.653976Z"
    }
   },
   "outputs": [],
   "source": [
    "genome_counts = df.groupby(['genome', 'sample_id']).agg({'htseq':['sum'], 'salmon':['sum'],\n",
    "                                                   'featCounts':['sum']}).reset_index()\n",
    "genome_counts.columns = ['genome', 'sample_id', 'htseq', 'salmon', 'featCounts']"
   ]
  },
  {
   "cell_type": "code",
   "execution_count": null,
   "metadata": {
    "ExecuteTime": {
     "end_time": "2023-04-25T12:47:36.106556Z",
     "start_time": "2023-04-25T12:47:36.091558Z"
    }
   },
   "outputs": [],
   "source": [
    "fdf = genome_counts.merge(by_sample, on=['sample_id'])\n",
    "fdf['htseq_perc'] = fdf['htseq']/fdf['htseq_total']*100\n",
    "fdf['salmon_perc'] = fdf['salmon']/fdf['salmon_total']*100\n",
    "fdf['featCounts_perc'] = fdf['featCounts']/fdf['featCounts_total']*100"
   ]
  },
  {
   "cell_type": "code",
   "execution_count": null,
   "metadata": {
    "ExecuteTime": {
     "end_time": "2023-04-25T12:47:45.470878Z",
     "start_time": "2023-04-25T12:47:45.442218Z"
    }
   },
   "outputs": [],
   "source": [
    "fdf[fdf.genome == 'SL1344']"
   ]
  },
  {
   "cell_type": "code",
   "execution_count": null,
   "metadata": {
    "ExecuteTime": {
     "end_time": "2023-04-25T13:47:25.718765Z",
     "start_time": "2023-04-25T13:47:25.707659Z"
    }
   },
   "outputs": [],
   "source": [
    "fdf = fdf.merge(sds, on='sample_id')"
   ]
  },
  {
   "cell_type": "code",
   "execution_count": null,
   "metadata": {
    "ExecuteTime": {
     "end_time": "2023-04-25T13:51:37.312525Z",
     "start_time": "2023-04-25T13:51:37.301886Z"
    }
   },
   "outputs": [],
   "source": [
    "exp1 = fdf[fdf.Mouse=='invitro']\n",
    "exp2 = fdf[fdf.Mouse=='Oligo']\n",
    "exp3 = fdf[fdf.Mouse=='LCM']"
   ]
  },
  {
   "cell_type": "code",
   "execution_count": null,
   "metadata": {
    "ExecuteTime": {
     "end_time": "2023-04-25T13:48:37.103212Z",
     "start_time": "2023-04-25T13:48:37.081862Z"
    }
   },
   "outputs": [],
   "source": [
    "exp1.head()"
   ]
  },
  {
   "cell_type": "code",
   "execution_count": null,
   "metadata": {
    "ExecuteTime": {
     "end_time": "2023-04-25T14:22:03.223533Z",
     "start_time": "2023-04-25T14:22:03.214607Z"
    }
   },
   "outputs": [],
   "source": [
    "%store -r lsu_df"
   ]
  },
  {
   "cell_type": "code",
   "execution_count": null,
   "metadata": {
    "ExecuteTime": {
     "end_time": "2023-04-25T14:22:25.776755Z",
     "start_time": "2023-04-25T14:22:25.765427Z"
    }
   },
   "outputs": [],
   "source": [
    "fdf = fdf.merge(lsu_df, on='sample_id')"
   ]
  },
  {
   "cell_type": "code",
   "execution_count": null,
   "metadata": {
    "ExecuteTime": {
     "end_time": "2023-04-25T14:22:31.554307Z",
     "start_time": "2023-04-25T14:22:31.526266Z"
    }
   },
   "outputs": [],
   "source": [
    "fdf"
   ]
  },
  {
   "cell_type": "code",
   "execution_count": null,
   "metadata": {
    "ExecuteTime": {
     "end_time": "2023-04-25T14:26:17.859188Z",
     "start_time": "2023-04-25T14:26:17.807062Z"
    }
   },
   "outputs": [],
   "source": [
    "px.scatter(fdf[['sample_id', 'Treatment', '%mapped', 'featCounts_total']].drop_duplicates(),\n",
    "          x='%mapped', y='featCounts_total', hover_data=['sample_id'])"
   ]
  },
  {
   "cell_type": "code",
   "execution_count": null,
   "metadata": {
    "ExecuteTime": {
     "end_time": "2023-04-25T14:46:47.293062Z",
     "start_time": "2023-04-25T14:46:45.529147Z"
    }
   },
   "outputs": [],
   "source": [
    "gff = pr.read_gff3(annotation_file).as_df()"
   ]
  },
  {
   "cell_type": "code",
   "execution_count": null,
   "metadata": {
    "ExecuteTime": {
     "end_time": "2023-04-25T14:49:31.517324Z",
     "start_time": "2023-04-25T14:49:31.450071Z"
    }
   },
   "outputs": [],
   "source": [
    "test = gff.dropna(subset=['product'])\n",
    "test[test['product'].str.contains('ribosomal protein')][['Chromosome','Name', 'product']]"
   ]
  },
  {
   "cell_type": "code",
   "execution_count": null,
   "metadata": {
    "ExecuteTime": {
     "end_time": "2023-04-25T14:46:58.715996Z",
     "start_time": "2023-04-25T14:46:58.707457Z"
    }
   },
   "outputs": [],
   "source": [
    "gff[['Name', 'product']].head()"
   ]
  },
  {
   "cell_type": "code",
   "execution_count": null,
   "metadata": {
    "ExecuteTime": {
     "end_time": "2023-04-25T14:24:50.167057Z",
     "start_time": "2023-04-25T14:24:50.093074Z"
    }
   },
   "outputs": [],
   "source": [
    "px.box(fdf[['sample_id', 'Treatment', '%mapped', 'featCounts_total']].drop_duplicates(),\n",
    "      x='Treatment', y='%mapped', color='Treatment')"
   ]
  },
  {
   "cell_type": "code",
   "execution_count": null,
   "metadata": {
    "ExecuteTime": {
     "end_time": "2023-04-25T14:14:13.238631Z",
     "start_time": "2023-04-25T14:14:13.173008Z"
    }
   },
   "outputs": [],
   "source": [
    "px.bar(exp1[['sample_id', 'featCounts_total', 'Mouse', 'Treatment']].sort_values(\"featCounts_total\").drop_duplicates(), \n",
    "       x='sample_id', y='featCounts_total',\n",
    "       color='Treatment',facet_row='Mouse', height=1200)"
   ]
  },
  {
   "cell_type": "code",
   "execution_count": null,
   "metadata": {
    "ExecuteTime": {
     "end_time": "2023-04-25T14:14:39.478836Z",
     "start_time": "2023-04-25T14:14:39.416797Z"
    }
   },
   "outputs": [],
   "source": [
    "px.bar(exp2[['sample_id', 'featCounts_total', 'Mouse', 'Treatment']].sort_values(\"featCounts_total\").drop_duplicates(), \n",
    "       x='sample_id', y='featCounts_total',\n",
    "       color='Treatment',facet_row='Mouse',)"
   ]
  },
  {
   "cell_type": "code",
   "execution_count": null,
   "metadata": {
    "ExecuteTime": {
     "end_time": "2023-04-25T14:15:13.320939Z",
     "start_time": "2023-04-25T14:15:13.246659Z"
    }
   },
   "outputs": [],
   "source": [
    "px.bar(exp3[['sample_id', 'featCounts_total', 'Mouse', 'Treatment']].sort_values(\"featCounts_total\").drop_duplicates(), \n",
    "       x='sample_id', y='featCounts_total',\n",
    "       color='Treatment',facet_row='Mouse',)"
   ]
  },
  {
   "cell_type": "code",
   "execution_count": null,
   "metadata": {
    "ExecuteTime": {
     "end_time": "2023-04-25T13:51:00.038386Z",
     "start_time": "2023-04-25T13:50:59.831270Z"
    }
   },
   "outputs": [],
   "source": [
    "px.bar(exp1, x='genome', y='featCounts', color='genome', \n",
    "       facet_col='sample_id', facet_col_wrap=4, log_y=True)"
   ]
  },
  {
   "cell_type": "code",
   "execution_count": null,
   "metadata": {
    "ExecuteTime": {
     "end_time": "2023-04-25T13:57:16.744617Z",
     "start_time": "2023-04-25T13:57:16.729321Z"
    }
   },
   "outputs": [],
   "source": [
    "exp2.groupby(['genome', 'Treatment']).featCounts.median()"
   ]
  },
  {
   "cell_type": "code",
   "execution_count": null,
   "metadata": {
    "ExecuteTime": {
     "end_time": "2023-04-25T13:55:57.160956Z",
     "start_time": "2023-04-25T13:55:56.830208Z"
    }
   },
   "outputs": [],
   "source": [
    "px.bar(exp2, x='genome', y='featCounts', color='genome', \n",
    "       facet_col='sample_id', facet_col_wrap=3, log_y=True, height=1000, width=800)"
   ]
  },
  {
   "cell_type": "code",
   "execution_count": null,
   "metadata": {
    "ExecuteTime": {
     "end_time": "2023-04-25T14:04:12.973982Z",
     "start_time": "2023-04-25T14:04:12.918227Z"
    }
   },
   "outputs": [],
   "source": [
    "px.box(exp3[exp3.genome == 'SL1344'].sort_values(\"Treatment\"), x='Treatment', y='featCounts', color='genome', \n",
    "       facet_col='genome', facet_col_wrap=1, log_y=False, points='all', height=600, width=600)"
   ]
  },
  {
   "cell_type": "code",
   "execution_count": null,
   "metadata": {
    "ExecuteTime": {
     "end_time": "2023-04-25T14:07:08.733094Z",
     "start_time": "2023-04-25T14:07:08.678239Z"
    }
   },
   "outputs": [],
   "source": [
    "px.box(exp3[exp3.genome == 'SL1344'].sort_values(\"Treatment\"), x='Treatment', y='featCounts_perc', color='genome', \n",
    "       facet_col='genome', facet_col_wrap=1, log_y=False, points='all', height=600, width=600)"
   ]
  },
  {
   "cell_type": "code",
   "execution_count": null,
   "metadata": {
    "ExecuteTime": {
     "end_time": "2023-04-25T14:06:47.354234Z",
     "start_time": "2023-04-25T14:06:47.298274Z"
    }
   },
   "outputs": [],
   "source": [
    "px.box(exp3[exp3.genome == 'YL58'].sort_values(\"Treatment\"), x='Treatment', y='featCounts_perc', color='genome', \n",
    "       facet_col='genome', facet_col_wrap=1, log_y=False, points='all', height=600, width=600)"
   ]
  },
  {
   "cell_type": "code",
   "execution_count": null,
   "metadata": {
    "ExecuteTime": {
     "end_time": "2023-04-25T14:04:44.077632Z",
     "start_time": "2023-04-25T14:04:44.024370Z"
    }
   },
   "outputs": [],
   "source": [
    "px.box(exp3[exp3.genome == 'YL32'].sort_values(\"Treatment\"), x='Treatment', y='featCounts', color='genome', \n",
    "       facet_col='genome', facet_col_wrap=1, log_y=False, points='all', height=600, width=600)"
   ]
  },
  {
   "cell_type": "code",
   "execution_count": null,
   "metadata": {
    "ExecuteTime": {
     "end_time": "2023-04-25T14:05:06.723045Z",
     "start_time": "2023-04-25T14:05:06.666164Z"
    }
   },
   "outputs": [],
   "source": [
    "px.box(exp3[exp3.genome == 'YL58'].sort_values(\"Treatment\"), x='Treatment', y='featCounts', color='genome', \n",
    "       facet_col='genome', facet_col_wrap=1, log_y=False, points='all', height=600, width=600)"
   ]
  },
  {
   "cell_type": "code",
   "execution_count": null,
   "metadata": {
    "ExecuteTime": {
     "end_time": "2023-04-25T12:37:55.272103Z",
     "start_time": "2023-04-25T12:37:55.244588Z"
    }
   },
   "outputs": [],
   "source": [
    "sal_counts = df[df.genome=='SL1344'].groupby(['sample_id']).agg({'htseq':['sum'], 'salmon':['sum'],\n",
    "                                                   'featCounts':['sum']})\n",
    "\n",
    "sal_counts/1000"
   ]
  },
  {
   "cell_type": "code",
   "execution_count": null,
   "metadata": {
    "ExecuteTime": {
     "end_time": "2023-04-25T14:51:44.437615Z",
     "start_time": "2023-04-25T14:51:44.417473Z"
    }
   },
   "outputs": [],
   "source": [
    "feat.count_data.head()"
   ]
  },
  {
   "cell_type": "code",
   "execution_count": null,
   "metadata": {
    "ExecuteTime": {
     "end_time": "2023-04-25T14:53:33.673116Z",
     "start_time": "2023-04-25T14:53:33.412483Z"
    }
   },
   "outputs": [],
   "source": [
    "feat.count_data.dropna(subset=['product']).head()"
   ]
  },
  {
   "cell_type": "code",
   "execution_count": null,
   "metadata": {},
   "outputs": [],
   "source": [
    "class MetaT:\n",
    "    \n",
    "    def __init__(self, data_dir, prefix, methods = ['htseq', 'salmon', 'bowtie']):\n",
    "        \n",
    "        self.root_dir = Path(data_dir)\n",
    "        self.htseq_dir = self.data_dir.rglob(f'{prefix}*htseqcount') if 'htseq' in methods else None\n",
    "        self.salmon_dir = self.data_dir.rglob(f'{prefix}*salmon') if 'salmon' in methods else None\n",
    "        self.bowtie_dir = self.data_dir.rglob(f'{prefix}*bowtie') if 'bowtie' in methods else None\n",
    "        \n",
    "            \n",
    "    "
   ]
  },
  {
   "cell_type": "code",
   "execution_count": null,
   "metadata": {
    "ExecuteTime": {
     "end_time": "2023-04-21T12:10:50.178621Z",
     "start_time": "2023-04-21T12:10:49.693565Z"
    }
   },
   "outputs": [],
   "source": [
    "# htseqcounts a0\n",
    "htseq_dir = \"../../../scratch/03_23_transcriptomics/Sal-asf-all-gene-a0_htseqcount\"\n",
    "htseq_files = "
   ]
  },
  {
   "cell_type": "code",
   "execution_count": null,
   "metadata": {
    "ExecuteTime": {
     "end_time": "2023-04-21T12:33:19.617701Z",
     "start_time": "2023-04-21T12:33:15.399722Z"
    }
   },
   "outputs": [],
   "source": []
  },
  {
   "cell_type": "code",
   "execution_count": null,
   "metadata": {
    "ExecuteTime": {
     "end_time": "2023-04-21T12:33:56.927522Z",
     "start_time": "2023-04-21T12:33:56.863588Z"
    }
   },
   "outputs": [],
   "source": [
    "htseq_df.genome.unique()"
   ]
  },
  {
   "cell_type": "code",
   "execution_count": null,
   "metadata": {
    "ExecuteTime": {
     "end_time": "2023-04-21T12:34:21.635783Z",
     "start_time": "2023-04-21T12:34:21.553351Z"
    }
   },
   "outputs": [],
   "source": [
    "htseq_df.groupby(['sample_id'])['count'].sum()"
   ]
  },
  {
   "cell_type": "code",
   "execution_count": null,
   "metadata": {
    "ExecuteTime": {
     "end_time": "2023-04-21T12:34:13.456305Z",
     "start_time": "2023-04-21T12:34:13.275610Z"
    }
   },
   "outputs": [],
   "source": [
    "htseq_df.groupby(['sample_id', 'genome'])['count'].sum()"
   ]
  },
  {
   "cell_type": "code",
   "execution_count": null,
   "metadata": {
    "ExecuteTime": {
     "end_time": "2023-04-20T09:42:30.317023Z",
     "start_time": "2023-04-20T09:42:30.311280Z"
    }
   },
   "outputs": [],
   "source": []
  },
  {
   "cell_type": "code",
   "execution_count": null,
   "metadata": {
    "ExecuteTime": {
     "end_time": "2023-04-20T09:42:31.011287Z",
     "start_time": "2023-04-20T09:42:30.862855Z"
    }
   },
   "outputs": [],
   "source": [
    "salmon_files = list(Path(salmon_dir).rglob('quant.sf'))"
   ]
  },
  {
   "cell_type": "code",
   "execution_count": null,
   "metadata": {
    "ExecuteTime": {
     "end_time": "2023-04-20T09:42:31.406426Z",
     "start_time": "2023-04-20T09:42:31.401323Z"
    }
   },
   "outputs": [],
   "source": [
    "f = salmon_files[0]"
   ]
  },
  {
   "cell_type": "code",
   "execution_count": null,
   "metadata": {
    "ExecuteTime": {
     "end_time": "2023-04-20T09:42:41.871440Z",
     "start_time": "2023-04-20T09:42:31.713671Z"
    }
   },
   "outputs": [],
   "source": [
    "df_list = []\n",
    "for f in salmon_files:\n",
    "    name = f.parent.stem.split(\"_quant\")[0]\n",
    "    print(name)\n",
    "    df = pd.read_table(f).assign(sample_id=name)\n",
    "    df['locus_tag'] = df.Name.str.split('locus_tag=', expand=True)[1].str.split(\";\", expand=True)[0]\n",
    "    strains = {'C825': 'ASF519',\n",
    "    'C824': 'ASF502',\n",
    "     'SL1344': 'SL1344', \n",
    "     'K401': 'DSM755',\n",
    "     'A4V08': 'YL32', \n",
    "     'A4U99': 'YL31',\n",
    "     'A4V09': 'YL58',\n",
    "    }\n",
    "    df['genome'] = df.locus_tag.str.split(\"_\", expand=True)[0].replace(strains)\n",
    "    df_list.append(df)\n",
    "fdf = pd.concat(df_list)"
   ]
  },
  {
   "cell_type": "code",
   "execution_count": null,
   "metadata": {
    "ExecuteTime": {
     "end_time": "2023-04-20T09:42:44.479713Z",
     "start_time": "2023-04-20T09:42:44.295874Z"
    }
   },
   "outputs": [],
   "source": [
    "summed_reads = fdf.groupby(['sample_id', 'genome']).NumReads.sum().reset_index()"
   ]
  },
  {
   "cell_type": "code",
   "execution_count": null,
   "metadata": {
    "ExecuteTime": {
     "end_time": "2023-04-20T09:42:44.976262Z",
     "start_time": "2023-04-20T09:42:44.971890Z"
    }
   },
   "outputs": [],
   "source": [
    "f1 = summed_reads[summed_reads.genome == 'SL1344']"
   ]
  },
  {
   "cell_type": "code",
   "execution_count": null,
   "metadata": {
    "ExecuteTime": {
     "end_time": "2023-04-20T09:42:45.603322Z",
     "start_time": "2023-04-20T09:42:45.511468Z"
    }
   },
   "outputs": [],
   "source": [
    "f2 = fdf.groupby('sample_id').NumReads.sum().reset_index()"
   ]
  },
  {
   "cell_type": "code",
   "execution_count": null,
   "metadata": {
    "ExecuteTime": {
     "end_time": "2023-04-20T09:42:46.097440Z",
     "start_time": "2023-04-20T09:42:46.074951Z"
    }
   },
   "outputs": [],
   "source": [
    "summed_reads[summed_reads.sample_id == 'AU657']"
   ]
  },
  {
   "cell_type": "code",
   "execution_count": null,
   "metadata": {
    "ExecuteTime": {
     "end_time": "2023-04-20T09:42:50.992959Z",
     "start_time": "2023-04-20T09:42:50.982025Z"
    }
   },
   "outputs": [],
   "source": [
    "f3 = f1.merge(f2, on='sample_id', suffixes=['_sl1344', '_total'])"
   ]
  },
  {
   "cell_type": "code",
   "execution_count": null,
   "metadata": {
    "ExecuteTime": {
     "end_time": "2023-04-20T09:42:51.408355Z",
     "start_time": "2023-04-20T09:42:51.400708Z"
    }
   },
   "outputs": [],
   "source": [
    "f3['%sal'] = f3['NumReads_sl1344']/f3['NumReads_total']*100"
   ]
  },
  {
   "cell_type": "code",
   "execution_count": null,
   "metadata": {
    "ExecuteTime": {
     "end_time": "2023-04-20T09:42:52.310047Z",
     "start_time": "2023-04-20T09:42:52.298770Z"
    }
   },
   "outputs": [],
   "source": [
    "f3[f3['%sal'] < 95]['%sal'].median()"
   ]
  },
  {
   "cell_type": "code",
   "execution_count": null,
   "metadata": {
    "ExecuteTime": {
     "end_time": "2023-04-20T09:42:55.395134Z",
     "start_time": "2023-04-20T09:42:55.373555Z"
    }
   },
   "outputs": [],
   "source": [
    "f3"
   ]
  },
  {
   "cell_type": "code",
   "execution_count": null,
   "metadata": {
    "ExecuteTime": {
     "end_time": "2023-04-20T09:53:18.376614Z",
     "start_time": "2023-04-20T09:53:18.275237Z"
    }
   },
   "outputs": [],
   "source": [
    "sal = fdf[fdf.genome == 'SL1344'].copy()"
   ]
  },
  {
   "cell_type": "code",
   "execution_count": null,
   "metadata": {
    "ExecuteTime": {
     "end_time": "2023-04-20T09:53:19.170112Z",
     "start_time": "2023-04-20T09:53:18.946943Z"
    }
   },
   "outputs": [],
   "source": [
    "inter = sal[['Name', 'sample_id', 'NumReads']].pivot(index='Name', columns='sample_id')\n",
    "inter = inter/inter.sum()*1000000\n",
    "inter.columns = [c[1] for c in inter.columns]\n",
    "inter = inter.reset_index().melt(id_vars='Name', var_name = 'sample_id', value_name='new_tpms')\n",
    "sal = sal.merge(inter, on=['Name', 'sample_id'])"
   ]
  },
  {
   "cell_type": "code",
   "execution_count": null,
   "metadata": {
    "ExecuteTime": {
     "end_time": "2023-04-20T09:53:19.485014Z",
     "start_time": "2023-04-20T09:53:19.459073Z"
    }
   },
   "outputs": [],
   "source": [
    "sal"
   ]
  },
  {
   "cell_type": "code",
   "execution_count": null,
   "metadata": {
    "ExecuteTime": {
     "end_time": "2023-04-20T09:53:54.530755Z",
     "start_time": "2023-04-20T09:53:54.465204Z"
    }
   },
   "outputs": [],
   "source": [
    "sal.groupby('sample_id').sum(numeric_only=True)"
   ]
  },
  {
   "cell_type": "code",
   "execution_count": null,
   "metadata": {
    "ExecuteTime": {
     "end_time": "2023-04-20T09:46:13.239279Z",
     "start_time": "2023-04-20T09:46:13.234034Z"
    }
   },
   "outputs": [],
   "source": [
    "import numpy as np"
   ]
  },
  {
   "cell_type": "code",
   "execution_count": null,
   "metadata": {
    "ExecuteTime": {
     "end_time": "2023-04-20T09:54:59.393930Z",
     "start_time": "2023-04-20T09:54:59.383365Z"
    }
   },
   "outputs": [],
   "source": [
    "np.quantile(sal.new_tpms, 0.95)"
   ]
  },
  {
   "cell_type": "code",
   "execution_count": null,
   "metadata": {
    "ExecuteTime": {
     "end_time": "2023-04-20T09:56:54.998464Z",
     "start_time": "2023-04-20T09:56:54.975239Z"
    }
   },
   "outputs": [],
   "source": [
    "sal[sal.new_tpms > 900]"
   ]
  },
  {
   "cell_type": "code",
   "execution_count": null,
   "metadata": {
    "ExecuteTime": {
     "end_time": "2023-04-20T09:55:03.283860Z",
     "start_time": "2023-04-20T09:55:03.252301Z"
    }
   },
   "outputs": [],
   "source": [
    "sal.groupby('sample_id').new_tpms.apply(np.quantile, q=0.95)"
   ]
  },
  {
   "cell_type": "code",
   "execution_count": null,
   "metadata": {},
   "outputs": [],
   "source": []
  }
 ],
 "metadata": {
  "kernelspec": {
   "display_name": "Python 3 (ipykernel)",
   "language": "python",
   "name": "python3"
  },
  "language_info": {
   "codemirror_mode": {
    "name": "ipython",
    "version": 3
   },
   "file_extension": ".py",
   "mimetype": "text/x-python",
   "name": "python",
   "nbconvert_exporter": "python",
   "pygments_lexer": "ipython3",
   "version": "3.8.12"
  },
  "toc": {
   "base_numbering": 1,
   "nav_menu": {},
   "number_sections": true,
   "sideBar": true,
   "skip_h1_title": false,
   "title_cell": "Table of Contents",
   "title_sidebar": "Contents",
   "toc_cell": false,
   "toc_position": {},
   "toc_section_display": true,
   "toc_window_display": true
  }
 },
 "nbformat": 4,
 "nbformat_minor": 4
}
