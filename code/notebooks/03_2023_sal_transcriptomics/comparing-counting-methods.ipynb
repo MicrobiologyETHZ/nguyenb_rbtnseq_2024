{
 "cells": [
  {
   "cell_type": "code",
   "execution_count": null,
   "metadata": {
    "ExecuteTime": {
     "end_time": "2023-07-19T09:22:16.160904Z",
     "start_time": "2023-07-19T09:22:16.138094Z"
    }
   },
   "outputs": [],
   "source": [
    "import pandas as pd\n",
    "from pathlib import Path\n",
    "import sys\n",
    "import plotly.express as px\n",
    "import pyranges as pr\n",
    "import yaml\n",
    "import numpy as np\n",
    "with open(\"config.yaml\", \"r\") as fh:\n",
    "    config_dict = yaml.safe_load(fh)['default']"
   ]
  },
  {
   "cell_type": "code",
   "execution_count": null,
   "metadata": {
    "ExecuteTime": {
     "end_time": "2023-07-19T09:22:17.780608Z",
     "start_time": "2023-07-19T09:22:17.776440Z"
    }
   },
   "outputs": [],
   "source": [
    "root = Path(config_dict[\"root\"])\n",
    "out_dir = root/config_dict[\"output_dir\"]\n",
    "sample_data_file = root/config_dict[\"sample_data_file\"]\n",
    "gff_file = root/config_dict[\"gff_file\"]"
   ]
  },
  {
   "cell_type": "code",
   "execution_count": null,
   "metadata": {
    "ExecuteTime": {
     "end_time": "2023-07-19T09:22:19.829131Z",
     "start_time": "2023-07-19T09:22:19.763912Z"
    }
   },
   "outputs": [],
   "source": [
    "sds = pd.read_csv(sample_data_file)"
   ]
  },
  {
   "cell_type": "code",
   "execution_count": null,
   "metadata": {},
   "outputs": [],
   "source": [
    "sds"
   ]
  },
  {
   "cell_type": "markdown",
   "metadata": {},
   "source": [
    "# Load the data"
   ]
  },
  {
   "cell_type": "code",
   "execution_count": null,
   "metadata": {
    "ExecuteTime": {
     "end_time": "2023-07-19T09:24:54.469682Z",
     "start_time": "2023-07-19T09:24:54.442563Z"
    }
   },
   "outputs": [],
   "source": [
    "\n",
    "class GenomeAnnot:\n",
    "    genome_map = {'CP015399.2': 'YL32',\n",
    "                  'CP015400.2': 'KB18',\n",
    "                  'CP015401.2': 'I48',\n",
    "                  'CP015402.2': 'YL27',\n",
    "                  'CP015403.2': 'YL45',\n",
    "                  'CP015404.2': 'I46',\n",
    "                  'CP015405.2': 'YL58',\n",
    "                  'CP015406.2': 'YL31',\n",
    "                  'CP015407.2': 'YL2',\n",
    "                  'CP015408.2': 'I49',\n",
    "                  'CP015409.2': 'YL44',\n",
    "                  'CP015410.2': 'KB1',\n",
    "                  'GCF_000364265': 'ASF519',\n",
    "                  'FQ312003.1': 'SL1344',\n",
    "                  'FQ312003.1;FQ312003.1': 'SL1344',\n",
    "                  'HE654725.1': 'SL1344',\n",
    "                  'HE654726.1': 'SL1344',\n",
    "                  'HE654724.1': 'SL1344',\n",
    "                  'contig_15': 'contig_15',\n",
    "                  'contig_21': 'contig_21',\n",
    "                  'contig_26': 'contig_26',\n",
    "                  'contig_46': 'contig_46',\n",
    "                  'AQFU02000001.1': 'ASF 502',\n",
    "                  'AQFU02000002.1': 'ASF 502',\n",
    "                  'AQFU02000003.1': 'ASF 502',\n",
    "                  'CP097573.1': 'ASF500',\n",
    "                  'NZ_CP097810.1': 'ASF356',\n",
    "                  'NZ_AQFR02000001.1': 'ASF360',\n",
    "                  'NZ_AQFR02000002.1': 'ASF360',\n",
    "                  'NZ_AQFR02000003.1': 'ASF360',\n",
    "                  'NZ_CP097561.1': 'ASF361',\n",
    "                  'NZ_AQFT02000001.1': 'ASF492',\n",
    "                  'NZ_AQFT02000002.1': 'ASF492',\n",
    "                  'NZ_AQFT02000003.1': 'ASF492',\n",
    "                  'NZ_AQFT02000004.1': 'ASF492',\n",
    "                  'NZ_AQFT02000005.1': 'ASF492',\n",
    "                  'NZ_AQFT02000006.1': 'ASF492',\n",
    "                  'NZ_AQFV02000001.1': 'ASF519',\n",
    "                  'NZ_AQFV02000002.1': 'ASF519',\n",
    "                  'NZ_AQFV02000003.1': 'ASF519',\n",
    "                  'NZ_AQFV02000004.1': 'ASF519',\n",
    "                  'NZ_AQFV02000005.1': 'ASF519',\n",
    "                  'NZ_AQFV02000006.1': 'ASF519',\n",
    "                  'NZ_CP097562.1': 'ASF457'\n",
    "                  }\n",
    "    annotation_columns = ['Chromosome',  'Feature', 'Start', 'End', 'Strand', 'ID',\n",
    "                          'Name', 'locus_tag', 'gene_biotype', 'product']\n",
    "\n",
    "    def __init__(self, gff_file, ):\n",
    "        self.gff_file = gff_file\n",
    "        self.feature = \"gene\"\n",
    "        self.annot = self.process_gff()\n",
    "\n",
    "    def process_gff(self):\n",
    "        gff = pr.read_gff3(self.gff_file).as_df()[self.annotation_columns]\n",
    "        return gff[gff['Feature'] == self.feature]\n",
    "\n",
    "    def annotate_df(self, df):\n",
    "        fdf = df.merge(self.annot, on='ID', how='left')\n",
    "        fdf['genome'] = fdf['Chromosome'].replace(\n",
    "            self.genome_map)\n",
    "        return fdf\n",
    "\n",
    "\n",
    "class CountDataSet:\n",
    "    def __init__(self, data_dir):\n",
    "        self.data_dir = Path(data_dir)\n",
    "        self.count_data = pd.DataFrame()\n",
    "\n",
    "    def load_count_files(self):\n",
    "        pass\n",
    "\n",
    "\n",
    "# Currently not looking at these\n",
    "\n",
    "\n",
    "class HtseqCounts(CountDataSet):\n",
    "    count_col = 'count'\n",
    "\n",
    "    def load_count_files(self):\n",
    "        files = list(self.data_dir.rglob('*.txt'))\n",
    "        df_list = []\n",
    "        for f in files:\n",
    "            df = pd.read_table(f, names=['Name', 'count'], header=None).assign(\n",
    "                sample_id=f.stem.split(\".\")[0])\n",
    "            df['Name'] = df.Name.str.split(\"gene-\", expand=True)[1]\n",
    "            df = df.dropna(subset=['Name'])\n",
    "            df['genome'] = [self.genome_map.get(name.split(\n",
    "                \"_\")[0], 'SL1344') for name in df.Name.values]\n",
    "            df_list.append(df)\n",
    "        self.count_data = (pd.concat(df_list).rename({self.count_col: 'read_counts',\n",
    "                                                     'Name': 'locus_tag'}, axis=1)\n",
    "                           .merge(self.annot, on='locus_tag', how='left'))\n",
    "\n",
    "\n",
    "class SalmonCounts(CountDataSet):\n",
    "    count_col = 'NumReads'\n",
    "    gene_col = 'Name'\n",
    "\n",
    "    def load_count_files(self):\n",
    "        files = list(self.data_dir.rglob('quant.sf'))\n",
    "\n",
    "        df_list = []\n",
    "        for f in files:\n",
    "            name = f.parent.stem.split(\"_quant\")[0]\n",
    "            print(name)\n",
    "            df = pd.read_table(f).assign(sample_id=name)\n",
    "            df = df.rename(\n",
    "                {self.count_col: 'salmon_read_counts'}, axis=1)\n",
    "            df['ID'] = (df[self.gene_col].str.split('ID=', expand=True)[1]\n",
    "                        .str.split(\";\", expand=True)[0])\n",
    "            df = df.drop(columns=[self.gene_col])\n",
    "            df_list.append(df)\n",
    "        self.count_data = pd.concat(df_list)\n",
    "\n",
    "\n",
    "class FeatureCounts(CountDataSet):\n",
    "    count_col = None\n",
    "\n",
    "    def load_count_files(self):\n",
    "        files = list(self.data_dir.rglob(\"*.count.txt\"))\n",
    "        df_list = []\n",
    "        for f in files:\n",
    "            name = f.stem.split(\".count\")[0]\n",
    "            print(name)\n",
    "            df = pd.read_table(f, comment='#').assign(sample_id=name)\n",
    "            df.columns = ['ID', 'chr', 'start', 'end',\n",
    "                          'strand', 'length', 'fc_read_counts', 'sample_id']\n",
    "            df = df[['ID', 'fc_read_counts', 'sample_id']]\n",
    "            df_list.append(df)\n",
    "        self.count_data = pd.concat(df_list)\n",
    "\n",
    "    @property\n",
    "    def summary_df(self):\n",
    "        files = list(self.data_dir.rglob(\"*.count.txt.summary\"))\n",
    "        df_list = []\n",
    "        for f in files:\n",
    "            df = pd.read_table(f)\n",
    "            name = df.columns[1].split(\"/\")[-1].split('.')[0]\n",
    "            df = df.assign(sample_id=name)\n",
    "            df.columns = ['status', 'read_counts', 'sample_id']\n",
    "            df_list.append(df)\n",
    "        fdf = pd.concat(df_list)\n",
    "        summary = fdf.groupby('sample_id').read_counts.sum().reset_index()\n",
    "        summary.columns = ['sample_id', 'total']\n",
    "        summary = (summary.merge(fdf[fdf.status == 'Assigned'][['read_counts', 'sample_id']], on='sample_id')\n",
    "                   .rename({'read_counts': 'assigned'}, axis=1)\n",
    "                   .merge(fdf[fdf.status == 'Unassigned_Unmapped'][['read_counts', 'sample_id']], on='sample_id')\n",
    "                   .rename({'read_counts': 'unmapped'}, axis=1)\n",
    "                   .merge(fdf[fdf.status == 'Unassigned_NoFeatures'][['read_counts', 'sample_id']], on='sample_id')\n",
    "                   .rename({'read_counts': 'no_feature'}, axis=1))\n",
    "        summary['percent_assigned'] = summary['assigned']/summary['total']*100\n",
    "        summary['percent_unmapped'] = summary['unmapped']/summary['total']*100\n",
    "        summary['percent_no_feature'] = summary['no_feature'] / \\\n",
    "            summary['total']*100\n",
    "        return summary\n",
    "\n",
    "\n",
    "class SushiCounts(CountDataSet):\n",
    "    count_col = \"total_insertcount\"\n",
    "    gene_col = \"#reference\"\n",
    "\n",
    "    def load_count_files(self):\n",
    "        files = list(self.data_dir.rglob(\"*ushicounts\"))\n",
    "        df_list = []\n",
    "        for f in files:\n",
    "            name = f.stem.split(\".\")[0]\n",
    "            print(name)\n",
    "            df = pd.read_table(\n",
    "                f, usecols=[0, 2, 6, 7, 8]).assign(sample_id=name)\n",
    "            df = df.rename(columns={self.count_col: \"sushi_insertcount\"})\n",
    "            df['ID'] = df['#reference'].str.split(\n",
    "                ';', expand=True)[0].str.split('ID=', expand=True)[1]\n",
    "            df = df.drop(columns=[self.gene_col])\n",
    "            df_list.append(df)\n",
    "        self.count_data = pd.concat(df_list)\n",
    "\n",
    "        # self.count_data = fdf.merge(self.annot, on='ID', how='left')\n",
    "        # self.count_data[\"genome\"] = self.count_data['Chromosome'].replace(\n",
    "        #     self.genome_map)\n",
    "\n",
    "annot = GenomeAnnot(gff_file)"
   ]
  },
  {
   "cell_type": "markdown",
   "metadata": {},
   "source": [
    "# Load sushi data"
   ]
  },
  {
   "cell_type": "code",
   "execution_count": null,
   "metadata": {
    "ExecuteTime": {
     "end_time": "2023-07-19T14:48:28.694341Z",
     "start_time": "2023-07-19T14:48:28.662347Z"
    }
   },
   "outputs": [],
   "source": [
    "sushi_dir = root/config_dict['sushi_dir']\n",
    "sushi = SushiCounts(sushi_dir, gff_file)\n",
    "sushi.load_count_files()\n",
    "su = sushi.count_data\n",
    "su.head()"
   ]
  },
  {
   "cell_type": "markdown",
   "metadata": {},
   "source": [
    "# Load FeatureCounts Data"
   ]
  },
  {
   "cell_type": "code",
   "execution_count": null,
   "metadata": {
    "ExecuteTime": {
     "end_time": "2023-07-19T09:26:06.608141Z",
     "start_time": "2023-07-19T09:25:50.515679Z"
    }
   },
   "outputs": [],
   "source": [
    "feat_dir = root/config_dict[\"featurecounts_dir\"]\n",
    "feat = FeatureCounts(feat_dir)\n",
    "feat.load_count_files()\n",
    "fc = feat.count_data"
   ]
  },
  {
   "cell_type": "code",
   "execution_count": null,
   "metadata": {},
   "outputs": [],
   "source": [
    "fc_annotated = annot.annotate_df(fc)\n",
    "fc_annotated.head()"
   ]
  },
  {
   "cell_type": "markdown",
   "metadata": {},
   "source": [
    "## Saving data for DESeq"
   ]
  },
  {
   "cell_type": "code",
   "execution_count": null,
   "metadata": {},
   "outputs": [],
   "source": [
    "fc_for_deseq = fc_annotated[['ID', 'genome', 'sample_id', 'fc_read_counts']].drop_duplicates().pivot(index=['ID', 'genome'], columns='sample_id').reset_index()\n",
    "fc_for_deseq.columns = ['ID', 'genome'] + [c[1] for c in fc_for_deseq.columns[2:]]"
   ]
  },
  {
   "cell_type": "code",
   "execution_count": null,
   "metadata": {},
   "outputs": [],
   "source": [
    "fc_for_deseq.to_csv(root/config_dict['deseq_count_file'], index=False)"
   ]
  },
  {
   "cell_type": "code",
   "execution_count": null,
   "metadata": {},
   "outputs": [],
   "source": [
    "fc_for_deseq.head()"
   ]
  },
  {
   "cell_type": "code",
   "execution_count": null,
   "metadata": {},
   "outputs": [],
   "source": [
    "fc_to_save = fc[fc.sample_id.isin(sds[sds.Mouse == 'Oligo'].sample_id.values)].pivot(index='ID', columns='sample_id').reset_index()\n",
    "fc_to_save.columns = ['ID'] + [c[1] for c in fc_to_save.columns[1:]]\n",
    "fc_to_save.head()\n",
    "fc_to_save.to_csv(root/config_dict['oligo_fc_raw'], index=False)"
   ]
  },
  {
   "cell_type": "code",
   "execution_count": null,
   "metadata": {},
   "outputs": [],
   "source": [
    "# Getting I48 and IL27 data\n",
    "i48 = fc_annotated[fc_annotated[\"genome\"] == 'I48']\n",
    "i48 = i48[i48.sample_id.isin(sds[sds.Mouse == 'Oligo'].sample_id.values)]\n",
    "i48= i48[['ID', 'fc_read_counts', 'sample_id']].pivot(index='ID', columns='sample_id').reset_index()\n",
    "i48.columns = ['ID'] + [c[1] for c in i48.columns[1:]]\n",
    "i48.head()\n",
    "i48.to_csv(root/config_dict['oligo_i48_fc_raw'], index=False)"
   ]
  },
  {
   "cell_type": "code",
   "execution_count": null,
   "metadata": {},
   "outputs": [],
   "source": [
    "# Getting I48 and IL27 data\n",
    "yl27 = fc_annotated[fc_annotated[\"genome\"] == 'YL27']\n",
    "yl27 = yl27[yl27.sample_id.isin(sds[sds.Mouse == 'Oligo'].sample_id.values)]\n",
    "yl27= yl27[['ID', 'fc_read_counts', 'sample_id']].pivot(index='ID', columns='sample_id')#.reset_index()\n",
    "yl27.columns = [c[1] for c in yl27.columns]\n",
    "yl27 = yl27.loc[:,yl27.sum() > 2e6].reset_index()\n",
    "yl27.to_csv(root/config_dict['oligo_yl27_fc_raw'], index=False)"
   ]
  },
  {
   "cell_type": "markdown",
   "metadata": {},
   "source": [
    "# Load salmon data"
   ]
  },
  {
   "cell_type": "code",
   "execution_count": null,
   "metadata": {
    "ExecuteTime": {
     "end_time": "2023-07-19T09:33:14.715730Z",
     "start_time": "2023-07-19T09:32:13.489513Z"
    }
   },
   "outputs": [],
   "source": [
    "salmon_dir = root/config_dict['salmon_dir']\n",
    "salmon = SalmonCounts(salmon_dir, gff_file)\n",
    "salmon.load_count_files()\n",
    "sc = salmon.count_data"
   ]
  },
  {
   "cell_type": "code",
   "execution_count": null,
   "metadata": {},
   "outputs": [],
   "source": [
    "sc.shape"
   ]
  },
  {
   "cell_type": "markdown",
   "metadata": {},
   "source": [
    "# Merge count data"
   ]
  },
  {
   "cell_type": "markdown",
   "metadata": {},
   "source": [
    "- Look at how Salmon Effective Length corresponds to horizontal covearge from sushicounter\n",
    "    - No easily identifiable relationship"
   ]
  },
  {
   "cell_type": "code",
   "execution_count": null,
   "metadata": {},
   "outputs": [],
   "source": [
    "count_df = sc.merge(fc, on=['sample_id', 'ID']).merge(\n",
    "    su, on=['sample_id', 'ID'])"
   ]
  },
  {
   "cell_type": "code",
   "execution_count": null,
   "metadata": {},
   "outputs": [],
   "source": [
    "count_df.head()"
   ]
  },
  {
   "cell_type": "code",
   "execution_count": null,
   "metadata": {},
   "outputs": [],
   "source": []
  },
  {
   "cell_type": "code",
   "execution_count": null,
   "metadata": {},
   "outputs": [],
   "source": [
    "count_df = annot.annotate_df(count_df)"
   ]
  },
  {
   "cell_type": "code",
   "execution_count": null,
   "metadata": {},
   "outputs": [],
   "source": [
    "count_df['sal_cov'] = count_df.EffectiveLength/count_df.Length\n",
    "px.scatter(count_df[(count_df.sushi_insertcount > 0) & (count_df.salmon_read_counts > 0)].sample(\n",
    "    5000), x='sal_cov', y='horizontal_coverage', width=600, height=600)"
   ]
  },
  {
   "cell_type": "code",
   "execution_count": null,
   "metadata": {},
   "outputs": [],
   "source": [
    "count_df.head()"
   ]
  },
  {
   "cell_type": "code",
   "execution_count": null,
   "metadata": {
    "ExecuteTime": {
     "end_time": "2023-07-19T09:34:56.215954Z",
     "start_time": "2023-07-19T09:34:55.972573Z"
    }
   },
   "outputs": [],
   "source": [
    "coding_df = count_df[~count_df.gene_biotype.isin(['tRNA', 'RNase_P_RNA', 'ncRNA', 'rRNA', 'tmRNA',\n",
    "                                                  'SRP_RNA', 'misc_RNA'])]\n",
    "by_genome = (coding_df.groupby(['sample_id', 'genome'])\n",
    "             .agg({'salmon_read_counts': ['sum'], 'fc_read_counts': ['sum'], 'sushi_insertcount': ['sum']})\n",
    "             .reset_index())\n",
    "by_genome.columns = ['sample_id', 'genome', 'sal_read_counts_sum',\n",
    "                     'fc_read_counts_sum', 'sushi_read_counts_sum']\n",
    "\n",
    "by_sample = (coding_df.groupby(['sample_id'])\n",
    "             .agg({'salmon_read_counts': ['sum'], 'fc_read_counts': ['sum'], 'sushi_insertcount': ['sum']})\n",
    "             .reset_index())\n",
    "by_sample.columns = ['sample_id',  'sal_read_counts_sample_sum',\n",
    "                     'fc_read_counts_sample_sum', 'sushi_read_counts_sample_sum']\n",
    "by_genome = by_genome.merge(by_sample, on='sample_id')\n",
    "by_genome['sal_pgen'] = round(by_genome['sal_read_counts_sum']/by_genome['sal_read_counts_sample_sum']*100, 2)\n",
    "by_genome['fc_pgen'] = round(by_genome['fc_read_counts_sum']/by_genome['fc_read_counts_sample_sum']*100, 2)\n",
    "by_genome['sushi_pgen'] = round(by_genome['sushi_read_counts_sum']/by_genome['sushi_read_counts_sample_sum']*100, 2)"
   ]
  },
  {
   "cell_type": "code",
   "execution_count": null,
   "metadata": {
    "ExecuteTime": {
     "end_time": "2023-07-19T09:34:45.656478Z",
     "start_time": "2023-07-19T09:34:45.637052Z"
    }
   },
   "outputs": [],
   "source": [
    "by_genome[by_genome.genome == 'contig_21']"
   ]
  },
  {
   "cell_type": "code",
   "execution_count": null,
   "metadata": {
    "ExecuteTime": {
     "end_time": "2023-07-19T09:45:24.170936Z",
     "start_time": "2023-07-19T09:45:24.009221Z"
    }
   },
   "outputs": [],
   "source": [
    "px.scatter(by_genome, x='fc_read_counts_sum', y='sal_read_counts_sum',\n",
    "           color='genome', hover_data=['genome', 'sample_id'], log_x=True, log_y=True,\n",
    "           height=800, width=850, template='plotly_white')"
   ]
  },
  {
   "cell_type": "code",
   "execution_count": null,
   "metadata": {},
   "outputs": [],
   "source": [
    "px.scatter(by_genome, x='fc_read_counts_sum', y='sushi_read_counts_sum',\n",
    "           color='genome', hover_data=['genome', 'sample_id'], log_x=True, log_y=True,\n",
    "           height=800, width=850, template='plotly_white')"
   ]
  },
  {
   "cell_type": "code",
   "execution_count": null,
   "metadata": {},
   "outputs": [],
   "source": [
    "px.scatter(by_genome, x='sal_read_counts_sum', y='sushi_read_counts_sum',\n",
    "           color='genome', hover_data=['genome', 'sample_id'], log_x=True, log_y=True,\n",
    "           height=800, width=850, template='plotly_white')"
   ]
  },
  {
   "cell_type": "markdown",
   "metadata": {},
   "source": [
    "## Explore YL45 in 2 samples -> AU655  and Inoc_1\n",
    "\n",
    "- The differences are mainly due to rRNA genes -> feature counts is more strict when assigning these? \n",
    "- Overall well exclude not protein coding sequences from the analysis for now. "
   ]
  },
  {
   "cell_type": "code",
   "execution_count": null,
   "metadata": {},
   "outputs": [],
   "source": [
    "df = count_df[(count_df.genome == 'YL45') & (\n",
    "    count_df.sample_id == 'AU655')].copy()\n",
    "df2 = count_df[(count_df.genome == 'YL45') & (\n",
    "    count_df.sample_id == 'Inoc_1')].copy()"
   ]
  },
  {
   "cell_type": "code",
   "execution_count": null,
   "metadata": {},
   "outputs": [],
   "source": [
    "px.scatter(df, x='fc_read_counts', y='sushi_insertcount', hover_data=[\n",
    "           'ID', 'locus_tag', 'gene_biotype'], log_x=True, log_y=True, height=800, width=800)"
   ]
  },
  {
   "cell_type": "code",
   "execution_count": null,
   "metadata": {},
   "outputs": [],
   "source": [
    "px.scatter(df2, x='fc_read_counts', y='sushi_insertcount', hover_data=[\n",
    "           'ID', 'locus_tag', 'gene_biotype'], log_x=True, log_y=True, height=800, width=800)"
   ]
  },
  {
   "cell_type": "markdown",
   "metadata": {},
   "source": [
    "# Explore correlation between transcriptome abundances and mOTUs data"
   ]
  },
  {
   "cell_type": "markdown",
   "metadata": {},
   "source": [
    "# Transcriptome composition for each sample"
   ]
  },
  {
   "cell_type": "code",
   "execution_count": null,
   "metadata": {},
   "outputs": [],
   "source": [
    "sds"
   ]
  },
  {
   "cell_type": "markdown",
   "metadata": {},
   "source": [
    "## In vitro"
   ]
  },
  {
   "cell_type": "code",
   "execution_count": null,
   "metadata": {},
   "outputs": [],
   "source": [
    "sds.Mouse.unique()"
   ]
  },
  {
   "cell_type": "code",
   "execution_count": null,
   "metadata": {},
   "outputs": [],
   "source": [
    "invitro = by_genome[by_genome.sample_id.isin(sds[sds.Mouse == 'invitro'].sample_id.values)]"
   ]
  },
  {
   "cell_type": "code",
   "execution_count": null,
   "metadata": {},
   "outputs": [],
   "source": [
    "invitro[invitro.genome == 'SL1344'][['sample_id'] + [c for c in invitro.columns if 'pgen' in c]]"
   ]
  },
  {
   "cell_type": "code",
   "execution_count": null,
   "metadata": {},
   "outputs": [],
   "source": [
    "px.bar(invitro, x=\"sample_id\", y=\"fc_read_counts_sum\", colorc=\"genome\", log_y=True, height=600, width=800, template=\"plotly_white\")"
   ]
  },
  {
   "cell_type": "code",
   "execution_count": null,
   "metadata": {},
   "outputs": [],
   "source": [
    "lcm = by_genome[by_genome.sample_id.isin(sds[sds.Mouse == 'LCM'].sample_id.values)]"
   ]
  },
  {
   "cell_type": "code",
   "execution_count": null,
   "metadata": {
    "ExecuteTime": {
     "end_time": "2023-04-25T12:47:45.470878Z",
     "start_time": "2023-04-25T12:47:45.442218Z"
    }
   },
   "outputs": [],
   "source": [
    "lcm[lcm.genome == 'SL1344'][['sample_id'] + [c for c in lcm.columns if 'pgen' in c]]"
   ]
  },
  {
   "cell_type": "code",
   "execution_count": null,
   "metadata": {},
   "outputs": [],
   "source": [
    "px.bar(lcm, x=\"sample_id\", y=\"fc_read_counts_sum\", color=\"genome\", log_y=True, height=600, width=1000, template=\"plotly_white\")"
   ]
  },
  {
   "cell_type": "markdown",
   "metadata": {},
   "source": [
    "# DE Results"
   ]
  },
  {
   "cell_type": "code",
   "execution_count": null,
   "metadata": {},
   "outputs": [],
   "source": [
    "from typing import Union, List\n",
    "class DEResults:\n",
    "\n",
    "    def __init__(self, files: Union[Path, List[Path]], annotation_file: Union[str, Path] = [],\n",
    "                 annotation_type: str = 'gff', id_col: str = 'ID', contrast_col: str = 'contrast',\n",
    "                 lfc_th: float = 1, pval_th: float = 0.01) -> None:\n",
    "        self.files = files\n",
    "        self.annotation_file = annotation_file\n",
    "        self.annotation_type = annotation_type\n",
    "        self.id_col = id_col\n",
    "        self.contrast_col = contrast_col\n",
    "        self.lfc_th = lfc_th\n",
    "        self.pval_th = pval_th\n",
    "        self.results = pd.DataFrame()\n",
    "\n",
    "\n",
    "    def read_results(self):\n",
    "        if type(self.files) == list:\n",
    "            self.results = pd.concat([pd.read_csv(f).assign(analysis_tag=f.stem) for f in self.files])  \n",
    "        else:\n",
    "            self.results = pd.read_csv(self.files).assign(analysis_tag='deseq_de')\n",
    "    \n",
    "    def validate_results(sefl):\n",
    "\n",
    "        # todo create validation schema\n",
    "        pass\n",
    "\n",
    "    def clean_name(self, col_name: str = 'analysis_tag', separator: str = '_', \n",
    "                   index_to_keep: int = 1, text_to_remove: str = \"\"):\n",
    "        self.results[col_name] = (self.results[col_name].str.split(separator, expand=True)[index_to_keep]\n",
    "                                  .str.replace(text_to_remove, \"\"))\n",
    "\n",
    "    def compare_two_analyses(self, contrast: str, analysis_tags: List ):\n",
    "\n",
    "        df = self.results[(self.results[self.contrast_col] == contrast) &(self.results[\"analysis_tag\"].isin(analysis_tags))].copy()\n",
    "        df['hits'] = (abs(df[\"log2FoldChange\"]) > self.lfc_th) & (df[\"padj\"]< self.pval_th)\n",
    "        hits_color = df.groupby(self.id_col).hits.apply(list).reset_index()\n",
    "        hits_color.columns = ['ID', 'hits_color']\n",
    "        df = df[['ID', 'baseMean', 'log2FoldChange', 'padj', 'analysis_tag']].pivot(index='ID', columns='analysis_tag').reset_index()\n",
    "        df.columns = ['ID'] + [f\"{c[0]}_{c[1]}\" for c in df.columns[1:]]\n",
    "        df = df.dropna(subset=[c for c in df.columns if 'log2FoldChange' in c]).merge(hits_color, on='ID', how='left')\n",
    "        \n",
    "        return df\n",
    "\n",
    "\n",
    "    def volcano_plot(self):\n",
    "        pass\n",
    "\n",
    "    def ma_plot(self):\n",
    "        pass\n",
    "\n",
    "    def add_gene_info(self):\n",
    "        if not self.annotation_file:\n",
    "            return \"No annotation file provided\"\n",
    "        elif self.annotation_type == 'gff':\n",
    "            gene_info = GenomeAnnot(self.annotation_file)\n",
    "            self.results = gene_info.annotate_df(self.results)\n",
    "        else:\n",
    "            return \"Not implemented\"    "
   ]
  },
  {
   "cell_type": "markdown",
   "metadata": {},
   "source": [
    "## Oligo experiment"
   ]
  },
  {
   "cell_type": "markdown",
   "metadata": {},
   "source": [
    "### All genes together with fc and deseq2"
   ]
  },
  {
   "cell_type": "code",
   "execution_count": null,
   "metadata": {},
   "outputs": [],
   "source": [
    "out_dir"
   ]
  },
  {
   "cell_type": "code",
   "execution_count": null,
   "metadata": {},
   "outputs": [],
   "source": [
    "list(out_dir.rglob(\"2023-07-31*\"))"
   ]
  },
  {
   "cell_type": "code",
   "execution_count": null,
   "metadata": {},
   "outputs": [],
   "source": [
    "\n",
    "files = list(out_dir.rglob(\"2023-07-*LPS*results.csv\"))\n",
    "files"
   ]
  },
  {
   "cell_type": "code",
   "execution_count": null,
   "metadata": {},
   "outputs": [],
   "source": [
    "res = DEResults(files, gff_file)"
   ]
  },
  {
   "cell_type": "code",
   "execution_count": null,
   "metadata": {},
   "outputs": [],
   "source": [
    "res.read_results()\n",
    "res.clean_name('analysis_tag', '_', 1, '-LPS')\n",
    "res.add_gene_info()"
   ]
  },
  {
   "cell_type": "code",
   "execution_count": null,
   "metadata": {},
   "outputs": [],
   "source": [
    "fdf = res.results"
   ]
  },
  {
   "cell_type": "code",
   "execution_count": null,
   "metadata": {},
   "outputs": [],
   "source": [
    "fdf.sample(20)"
   ]
  },
  {
   "cell_type": "code",
   "execution_count": null,
   "metadata": {},
   "outputs": [],
   "source": [
    "fdf[fdf.padj < 0.05].groupby('analysis_tag').ID.nunique()"
   ]
  },
  {
   "cell_type": "code",
   "execution_count": null,
   "metadata": {},
   "outputs": [],
   "source": [
    "fdf[(fdf.genome == 'YL27') & (fdf.padj < 0.05)].groupby('analysis_tag').ID.nunique()"
   ]
  },
  {
   "cell_type": "code",
   "execution_count": null,
   "metadata": {},
   "outputs": [],
   "source": [
    "y27_sig = fdf[(fdf.genome == 'YL27') & (fdf.padj < 0.05)]\n",
    "\n",
    "for i in y27_sig[y27_sig.analysis_tag == 'oligo-alone-within-taxon'].locus_tag.values:\n",
    "    print(i)"
   ]
  },
  {
   "cell_type": "code",
   "execution_count": null,
   "metadata": {},
   "outputs": [],
   "source": [
    "fdf[(fdf.genome == 'I48') & (fdf.padj < 0.05)].groupby('analysis_tag').ID.nunique()"
   ]
  },
  {
   "cell_type": "code",
   "execution_count": null,
   "metadata": {},
   "outputs": [],
   "source": [
    "cnts = pd.read_csv(out_dir/\"2023-07-31_oligo-alone-within-taxon-norm_cnts.csv\", index_col=0).set_index('ID')\n",
    "cnts = np.log2(cnts +1)"
   ]
  },
  {
   "cell_type": "code",
   "execution_count": null,
   "metadata": {},
   "outputs": [],
   "source": [
    "from umap import UMAP\n",
    "cnts = pd.read_csv(out_dir/\"2023-07-31_oligo-alone-within-taxon-norm_cnts.csv\", index_col=0).set_index('ID')\n",
    "cnts = np.log2(cnts +1)\n",
    "cnts = cnts.loc[(cnts.var(axis=1)>3),].T\n",
    "\n",
    "umap_2d = UMAP(n_components=2, init='random', random_state=0)\n",
    "proj_2d = pd.DataFrame(umap_2d.fit_transform(cnts), index=cnts.index)"
   ]
  },
  {
   "cell_type": "code",
   "execution_count": null,
   "metadata": {},
   "outputs": [],
   "source": [
    "sds"
   ]
  },
  {
   "cell_type": "code",
   "execution_count": null,
   "metadata": {},
   "outputs": [],
   "source": [
    "df = res.compare_two_analyses(\"LPS_vs_PBS\", [\"oligo-metat-fc-deseq\", \"oligo-alone-within-taxon\"])\n",
    "df['hits_color'] = df['hits_color'].astype(str)"
   ]
  },
  {
   "cell_type": "code",
   "execution_count": null,
   "metadata": {},
   "outputs": [],
   "source": [
    "px.scatter(df, x= \"log2FoldChange_oligo-metat-fc-deseq\", y = \"log2FoldChange_oligo-i48-fc-deseq\", \n",
    "           color='hits_color', hover_data=df.columns, height=900, width=1000, trendline='ols' )"
   ]
  },
  {
   "cell_type": "code",
   "execution_count": null,
   "metadata": {},
   "outputs": [],
   "source": [
    "\n",
    "df.dropna(subset=['hits_color'])"
   ]
  },
  {
   "cell_type": "code",
   "execution_count": null,
   "metadata": {},
   "outputs": [],
   "source": []
  },
  {
   "cell_type": "code",
   "execution_count": null,
   "metadata": {},
   "outputs": [],
   "source": [
    "df.comparision.unique()"
   ]
  },
  {
   "cell_type": "code",
   "execution_count": null,
   "metadata": {},
   "outputs": [],
   "source": [
    "df[df.ID == 'gene-A4V02_09235'].groupby('ID').hits.apply(list)"
   ]
  },
  {
   "cell_type": "code",
   "execution_count": null,
   "metadata": {},
   "outputs": [],
   "source": [
    "i48_res = pd.read_csv(out_dir/\"2023-07-21_oligo-i48-fc-deseq-LPS_vs_PBS_l0a0.01_results.csv\")\n",
    "i48_res['anal§ysis'] = 'indiv'"
   ]
  },
  {
   "cell_type": "code",
   "execution_count": null,
   "metadata": {},
   "outputs": [],
   "source": [
    "res_df = annot.annotate_df(res_df)"
   ]
  },
  {
   "cell_type": "code",
   "execution_count": null,
   "metadata": {},
   "outputs": [],
   "source": [
    "res_df = res_df[res_df.genome == 'I48']\n"
   ]
  },
  {
   "cell_type": "code",
   "execution_count": null,
   "metadata": {},
   "outputs": [],
   "source": [
    "cdf48 = pd.concat([res_df, i48_res])"
   ]
  },
  {
   "cell_type": "code",
   "execution_count": null,
   "metadata": {},
   "outputs": [],
   "source": []
  },
  {
   "cell_type": "code",
   "execution_count": null,
   "metadata": {},
   "outputs": [],
   "source": [
    "lfc48.sample(5)"
   ]
  },
  {
   "cell_type": "code",
   "execution_count": null,
   "metadata": {
    "ExecuteTime": {
     "end_time": "2023-04-25T13:51:37.312525Z",
     "start_time": "2023-04-25T13:51:37.301886Z"
    }
   },
   "outputs": [],
   "source": [
    "lfc48 = cdf48[['ID', 'log2FoldChange', 'padj', 'analysis']]\n",
    "lfc48 = lfc48.pivot(index='ID', columns='analysis').reset_index()\n",
    "lfc48.columns = ['ID', 'lfc_indiv', 'lfc_together', 'padj_indiv', 'padj_together']"
   ]
  },
  {
   "cell_type": "code",
   "execution_count": null,
   "metadata": {},
   "outputs": [],
   "source": [
    "lfc48.sample(5)"
   ]
  },
  {
   "cell_type": "code",
   "execution_count": null,
   "metadata": {},
   "outputs": [],
   "source": [
    "indiv_genes = set(lfc48[(abs(lfc48.lfc_indiv) > 1) & (lfc48.padj_indiv < 0.01)].ID.values)"
   ]
  },
  {
   "cell_type": "code",
   "execution_count": null,
   "metadata": {},
   "outputs": [],
   "source": [
    "together_genes = set(lfc48[(abs(lfc48.lfc_together) > 1) & (lfc48.padj_together < 0.01)].ID.values)"
   ]
  },
  {
   "cell_type": "code",
   "execution_count": null,
   "metadata": {},
   "outputs": [],
   "source": [
    "len(indiv_genes.intersection(together_genes))/len(together_genes)"
   ]
  },
  {
   "cell_type": "code",
   "execution_count": null,
   "metadata": {},
   "outputs": [],
   "source": [
    "lfc48.isna().sum()"
   ]
  },
  {
   "cell_type": "code",
   "execution_count": null,
   "metadata": {
    "ExecuteTime": {
     "end_time": "2023-04-25T13:48:37.103212Z",
     "start_time": "2023-04-25T13:48:37.081862Z"
    }
   },
   "outputs": [],
   "source": [
    "px.scatter(lfc48, x='lfc_indiv', y='lfc_together', height=800, width=800, hover_data=lfc48.columns)"
   ]
  },
  {
   "cell_type": "code",
   "execution_count": null,
   "metadata": {
    "ExecuteTime": {
     "end_time": "2023-04-25T14:22:03.223533Z",
     "start_time": "2023-04-25T14:22:03.214607Z"
    }
   },
   "outputs": [],
   "source": [
    "%store -r lsu_df"
   ]
  },
  {
   "cell_type": "code",
   "execution_count": null,
   "metadata": {
    "ExecuteTime": {
     "end_time": "2023-04-25T14:22:25.776755Z",
     "start_time": "2023-04-25T14:22:25.765427Z"
    }
   },
   "outputs": [],
   "source": [
    "fdf = fdf.merge(lsu_df, on='sample_id')"
   ]
  },
  {
   "cell_type": "code",
   "execution_count": null,
   "metadata": {
    "ExecuteTime": {
     "end_time": "2023-04-25T14:22:31.554307Z",
     "start_time": "2023-04-25T14:22:31.526266Z"
    }
   },
   "outputs": [],
   "source": [
    "fdf"
   ]
  },
  {
   "cell_type": "code",
   "execution_count": null,
   "metadata": {
    "ExecuteTime": {
     "end_time": "2023-04-25T14:26:17.859188Z",
     "start_time": "2023-04-25T14:26:17.807062Z"
    }
   },
   "outputs": [],
   "source": [
    "px.scatter(fdf[['sample_id', 'Treatment', '%mapped', 'featCounts_total']].drop_duplicates(),\n",
    "           x='%mapped', y='featCounts_total', hover_data=['sample_id'])"
   ]
  },
  {
   "cell_type": "code",
   "execution_count": null,
   "metadata": {
    "ExecuteTime": {
     "end_time": "2023-04-25T14:46:47.293062Z",
     "start_time": "2023-04-25T14:46:45.529147Z"
    }
   },
   "outputs": [],
   "source": [
    "gff = pr.read_gff3(annotation_file).as_df()"
   ]
  },
  {
   "cell_type": "code",
   "execution_count": null,
   "metadata": {
    "ExecuteTime": {
     "end_time": "2023-04-25T14:49:31.517324Z",
     "start_time": "2023-04-25T14:49:31.450071Z"
    }
   },
   "outputs": [],
   "source": [
    "test = gff.dropna(subset=['product'])\n",
    "test[test['product'].str.contains('ribosomal protein')][[\n",
    "    'Chromosome', 'Name', 'product']]"
   ]
  },
  {
   "cell_type": "code",
   "execution_count": null,
   "metadata": {
    "ExecuteTime": {
     "end_time": "2023-04-25T14:46:58.715996Z",
     "start_time": "2023-04-25T14:46:58.707457Z"
    }
   },
   "outputs": [],
   "source": [
    "gff[['Name', 'product']].head()"
   ]
  },
  {
   "cell_type": "code",
   "execution_count": null,
   "metadata": {
    "ExecuteTime": {
     "end_time": "2023-04-25T14:24:50.167057Z",
     "start_time": "2023-04-25T14:24:50.093074Z"
    }
   },
   "outputs": [],
   "source": [
    "px.box(fdf[['sample_id', 'Treatment', '%mapped', 'featCounts_total']].drop_duplicates(),\n",
    "       x='Treatment', y='%mapped', color='Treatment')"
   ]
  },
  {
   "cell_type": "code",
   "execution_count": null,
   "metadata": {
    "ExecuteTime": {
     "end_time": "2023-04-25T14:14:13.238631Z",
     "start_time": "2023-04-25T14:14:13.173008Z"
    }
   },
   "outputs": [],
   "source": [
    "px.bar(exp1[['sample_id', 'featCounts_total', 'Mouse', 'Treatment']].sort_values(\"featCounts_total\").drop_duplicates(),\n",
    "       x='sample_id', y='featCounts_total',\n",
    "       color='Treatment', facet_row='Mouse', height=1200)"
   ]
  },
  {
   "cell_type": "code",
   "execution_count": null,
   "metadata": {
    "ExecuteTime": {
     "end_time": "2023-04-25T14:14:39.478836Z",
     "start_time": "2023-04-25T14:14:39.416797Z"
    }
   },
   "outputs": [],
   "source": [
    "px.bar(exp2[['sample_id', 'featCounts_total', 'Mouse', 'Treatment']].sort_values(\"featCounts_total\").drop_duplicates(),\n",
    "       x='sample_id', y='featCounts_total',\n",
    "       color='Treatment', facet_row='Mouse',)"
   ]
  },
  {
   "cell_type": "code",
   "execution_count": null,
   "metadata": {
    "ExecuteTime": {
     "end_time": "2023-04-25T14:15:13.320939Z",
     "start_time": "2023-04-25T14:15:13.246659Z"
    }
   },
   "outputs": [],
   "source": [
    "px.bar(exp3[['sample_id', 'featCounts_total', 'Mouse', 'Treatment']].sort_values(\"featCounts_total\").drop_duplicates(),\n",
    "       x='sample_id', y='featCounts_total',\n",
    "       color='Treatment', facet_row='Mouse',)"
   ]
  },
  {
   "cell_type": "code",
   "execution_count": null,
   "metadata": {
    "ExecuteTime": {
     "end_time": "2023-04-25T13:51:00.038386Z",
     "start_time": "2023-04-25T13:50:59.831270Z"
    }
   },
   "outputs": [],
   "source": [
    "px.bar(exp1, x='genome', y='featCounts', color='genome',\n",
    "       facet_col='sample_id', facet_col_wrap=4, log_y=True)"
   ]
  },
  {
   "cell_type": "code",
   "execution_count": null,
   "metadata": {
    "ExecuteTime": {
     "end_time": "2023-04-25T13:57:16.744617Z",
     "start_time": "2023-04-25T13:57:16.729321Z"
    }
   },
   "outputs": [],
   "source": [
    "exp2.groupby(['genome', 'Treatment']).featCounts.median()"
   ]
  },
  {
   "cell_type": "code",
   "execution_count": null,
   "metadata": {
    "ExecuteTime": {
     "end_time": "2023-04-25T13:55:57.160956Z",
     "start_time": "2023-04-25T13:55:56.830208Z"
    }
   },
   "outputs": [],
   "source": [
    "px.bar(exp2, x='genome', y='featCounts', color='genome',\n",
    "       facet_col='sample_id', facet_col_wrap=3, log_y=True, height=1000, width=800)"
   ]
  },
  {
   "cell_type": "code",
   "execution_count": null,
   "metadata": {
    "ExecuteTime": {
     "end_time": "2023-04-25T14:04:12.973982Z",
     "start_time": "2023-04-25T14:04:12.918227Z"
    }
   },
   "outputs": [],
   "source": [
    "px.box(exp3[exp3.genome == 'SL1344'].sort_values(\"Treatment\"), x='Treatment', y='featCounts', color='genome',\n",
    "       facet_col='genome', facet_col_wrap=1, log_y=False, points='all', height=600, width=600)"
   ]
  },
  {
   "cell_type": "code",
   "execution_count": null,
   "metadata": {
    "ExecuteTime": {
     "end_time": "2023-04-25T14:07:08.733094Z",
     "start_time": "2023-04-25T14:07:08.678239Z"
    }
   },
   "outputs": [],
   "source": [
    "px.box(exp3[exp3.genome == 'SL1344'].sort_values(\"Treatment\"), x='Treatment', y='featCounts_perc', color='genome',\n",
    "       facet_col='genome', facet_col_wrap=1, log_y=False, points='all', height=600, width=600)"
   ]
  },
  {
   "cell_type": "code",
   "execution_count": null,
   "metadata": {
    "ExecuteTime": {
     "end_time": "2023-04-25T14:06:47.354234Z",
     "start_time": "2023-04-25T14:06:47.298274Z"
    }
   },
   "outputs": [],
   "source": [
    "px.box(exp3[exp3.genome == 'YL58'].sort_values(\"Treatment\"), x='Treatment', y='featCounts_perc', color='genome',\n",
    "       facet_col='genome', facet_col_wrap=1, log_y=False, points='all', height=600, width=600)"
   ]
  },
  {
   "cell_type": "code",
   "execution_count": null,
   "metadata": {
    "ExecuteTime": {
     "end_time": "2023-04-25T14:04:44.077632Z",
     "start_time": "2023-04-25T14:04:44.024370Z"
    }
   },
   "outputs": [],
   "source": [
    "px.box(exp3[exp3.genome == 'YL32'].sort_values(\"Treatment\"), x='Treatment', y='featCounts', color='genome',\n",
    "       facet_col='genome', facet_col_wrap=1, log_y=False, points='all', height=600, width=600)"
   ]
  },
  {
   "cell_type": "code",
   "execution_count": null,
   "metadata": {
    "ExecuteTime": {
     "end_time": "2023-04-25T14:05:06.723045Z",
     "start_time": "2023-04-25T14:05:06.666164Z"
    }
   },
   "outputs": [],
   "source": [
    "px.box(exp3[exp3.genome == 'YL58'].sort_values(\"Treatment\"), x='Treatment', y='featCounts', color='genome',\n",
    "       facet_col='genome', facet_col_wrap=1, log_y=False, points='all', height=600, width=600)"
   ]
  },
  {
   "cell_type": "code",
   "execution_count": null,
   "metadata": {
    "ExecuteTime": {
     "end_time": "2023-04-25T12:37:55.272103Z",
     "start_time": "2023-04-25T12:37:55.244588Z"
    }
   },
   "outputs": [],
   "source": [
    "sal_counts = df[df.genome == 'SL1344'].groupby(['sample_id']).agg({'htseq': ['sum'], 'salmon': ['sum'],\n",
    "                                                                  'featCounts': ['sum']})\n",
    "\n",
    "sal_counts/1000"
   ]
  },
  {
   "cell_type": "code",
   "execution_count": null,
   "metadata": {
    "ExecuteTime": {
     "end_time": "2023-04-25T14:51:44.437615Z",
     "start_time": "2023-04-25T14:51:44.417473Z"
    }
   },
   "outputs": [],
   "source": [
    "feat.count_data.head()"
   ]
  },
  {
   "cell_type": "code",
   "execution_count": null,
   "metadata": {
    "ExecuteTime": {
     "end_time": "2023-04-25T14:53:33.673116Z",
     "start_time": "2023-04-25T14:53:33.412483Z"
    }
   },
   "outputs": [],
   "source": [
    "feat.count_data.dropna(subset=['product']).head()"
   ]
  },
  {
   "cell_type": "code",
   "execution_count": null,
   "metadata": {},
   "outputs": [],
   "source": [
    "class MetaT:\n",
    "\n",
    "    def __init__(self, data_dir, prefix, methods=['htseq', 'salmon', 'bowtie']):\n",
    "\n",
    "        self.root_dir = Path(data_dir)\n",
    "        self.htseq_dir = self.data_dir.rglob(\n",
    "            f'{prefix}*htseqcount') if 'htseq' in methods else None\n",
    "        self.salmon_dir = self.data_dir.rglob(\n",
    "            f'{prefix}*salmon') if 'salmon' in methods else None\n",
    "        self.bowtie_dir = self.data_dir.rglob(\n",
    "            f'{prefix}*bowtie') if 'bowtie' in methods else None"
   ]
  },
  {
   "cell_type": "code",
   "execution_count": null,
   "metadata": {
    "ExecuteTime": {
     "end_time": "2023-04-21T12:10:50.178621Z",
     "start_time": "2023-04-21T12:10:49.693565Z"
    }
   },
   "outputs": [],
   "source": [
    "# htseqcounts a0\n",
    "htseq_dir = \"../../../scratch/03_23_transcriptomics/Sal-asf-all-gene-a0_htseqcount\"\n",
    "htseq_files = "
   ]
  },
  {
   "cell_type": "code",
   "execution_count": null,
   "metadata": {
    "ExecuteTime": {
     "end_time": "2023-04-21T12:33:19.617701Z",
     "start_time": "2023-04-21T12:33:15.399722Z"
    }
   },
   "outputs": [],
   "source": []
  },
  {
   "cell_type": "code",
   "execution_count": null,
   "metadata": {
    "ExecuteTime": {
     "end_time": "2023-04-21T12:33:56.927522Z",
     "start_time": "2023-04-21T12:33:56.863588Z"
    }
   },
   "outputs": [],
   "source": [
    "htseq_df.genome.unique()"
   ]
  },
  {
   "cell_type": "code",
   "execution_count": null,
   "metadata": {
    "ExecuteTime": {
     "end_time": "2023-04-21T12:34:21.635783Z",
     "start_time": "2023-04-21T12:34:21.553351Z"
    }
   },
   "outputs": [],
   "source": [
    "htseq_df.groupby(['sample_id'])['count'].sum()"
   ]
  },
  {
   "cell_type": "code",
   "execution_count": null,
   "metadata": {
    "ExecuteTime": {
     "end_time": "2023-04-21T12:34:13.456305Z",
     "start_time": "2023-04-21T12:34:13.275610Z"
    }
   },
   "outputs": [],
   "source": [
    "htseq_df.groupby(['sample_id', 'genome'])['count'].sum()"
   ]
  },
  {
   "cell_type": "code",
   "execution_count": null,
   "metadata": {
    "ExecuteTime": {
     "end_time": "2023-04-20T09:42:30.317023Z",
     "start_time": "2023-04-20T09:42:30.311280Z"
    }
   },
   "outputs": [],
   "source": []
  },
  {
   "cell_type": "code",
   "execution_count": null,
   "metadata": {
    "ExecuteTime": {
     "end_time": "2023-04-20T09:42:31.011287Z",
     "start_time": "2023-04-20T09:42:30.862855Z"
    }
   },
   "outputs": [],
   "source": [
    "salmon_files = list(Path(salmon_dir).rglob('quant.sf'))"
   ]
  },
  {
   "cell_type": "code",
   "execution_count": null,
   "metadata": {
    "ExecuteTime": {
     "end_time": "2023-04-20T09:42:31.406426Z",
     "start_time": "2023-04-20T09:42:31.401323Z"
    }
   },
   "outputs": [],
   "source": [
    "f = salmon_files[0]"
   ]
  },
  {
   "cell_type": "code",
   "execution_count": null,
   "metadata": {
    "ExecuteTime": {
     "end_time": "2023-04-20T09:42:41.871440Z",
     "start_time": "2023-04-20T09:42:31.713671Z"
    }
   },
   "outputs": [],
   "source": [
    "df_list = []\n",
    "for f in salmon_files:\n",
    "    name = f.parent.stem.split(\"_quant\")[0]\n",
    "    print(name)\n",
    "    df = pd.read_table(f).assign(sample_id=name)\n",
    "    df['locus_tag'] = df.Name.str.split('locus_tag=', expand=True)[\n",
    "        1].str.split(\";\", expand=True)[0]\n",
    "    strains = {'C825': 'ASF519',\n",
    "               'C824': 'ASF502',\n",
    "               'SL1344': 'SL1344',\n",
    "               'K401': 'DSM755',\n",
    "               'A4V08': 'YL32',\n",
    "               'A4U99': 'YL31',\n",
    "               'A4V09': 'YL58',\n",
    "               }\n",
    "    df['genome'] = df.locus_tag.str.split(\"_\", expand=True)[0].replace(strains)\n",
    "    df_list.append(df)\n",
    "fdf = pd.concat(df_list)"
   ]
  },
  {
   "cell_type": "code",
   "execution_count": null,
   "metadata": {
    "ExecuteTime": {
     "end_time": "2023-04-20T09:42:44.479713Z",
     "start_time": "2023-04-20T09:42:44.295874Z"
    }
   },
   "outputs": [],
   "source": [
    "summed_reads = fdf.groupby(['sample_id', 'genome']\n",
    "                           ).NumReads.sum().reset_index()"
   ]
  },
  {
   "cell_type": "code",
   "execution_count": null,
   "metadata": {
    "ExecuteTime": {
     "end_time": "2023-04-20T09:42:44.976262Z",
     "start_time": "2023-04-20T09:42:44.971890Z"
    }
   },
   "outputs": [],
   "source": [
    "f1 = summed_reads[summed_reads.genome == 'SL1344']"
   ]
  },
  {
   "cell_type": "code",
   "execution_count": null,
   "metadata": {
    "ExecuteTime": {
     "end_time": "2023-04-20T09:42:45.603322Z",
     "start_time": "2023-04-20T09:42:45.511468Z"
    }
   },
   "outputs": [],
   "source": [
    "f2 = fdf.groupby('sample_id').NumReads.sum().reset_index()"
   ]
  },
  {
   "cell_type": "code",
   "execution_count": null,
   "metadata": {
    "ExecuteTime": {
     "end_time": "2023-04-20T09:42:46.097440Z",
     "start_time": "2023-04-20T09:42:46.074951Z"
    }
   },
   "outputs": [],
   "source": [
    "summed_reads[summed_reads.sample_id == 'AU657']"
   ]
  },
  {
   "cell_type": "code",
   "execution_count": null,
   "metadata": {
    "ExecuteTime": {
     "end_time": "2023-04-20T09:42:50.992959Z",
     "start_time": "2023-04-20T09:42:50.982025Z"
    }
   },
   "outputs": [],
   "source": [
    "f3 = f1.merge(f2, on='sample_id', suffixes=['_sl1344', '_total'])"
   ]
  },
  {
   "cell_type": "code",
   "execution_count": null,
   "metadata": {
    "ExecuteTime": {
     "end_time": "2023-04-20T09:42:51.408355Z",
     "start_time": "2023-04-20T09:42:51.400708Z"
    }
   },
   "outputs": [],
   "source": [
    "f3['%sal'] = f3['NumReads_sl1344']/f3['NumReads_total']*100"
   ]
  },
  {
   "cell_type": "code",
   "execution_count": null,
   "metadata": {
    "ExecuteTime": {
     "end_time": "2023-04-20T09:42:52.310047Z",
     "start_time": "2023-04-20T09:42:52.298770Z"
    }
   },
   "outputs": [],
   "source": [
    "f3[f3['%sal'] < 95]['%sal'].median()"
   ]
  },
  {
   "cell_type": "code",
   "execution_count": null,
   "metadata": {
    "ExecuteTime": {
     "end_time": "2023-04-20T09:42:55.395134Z",
     "start_time": "2023-04-20T09:42:55.373555Z"
    }
   },
   "outputs": [],
   "source": [
    "f3"
   ]
  },
  {
   "cell_type": "code",
   "execution_count": null,
   "metadata": {
    "ExecuteTime": {
     "end_time": "2023-04-20T09:53:18.376614Z",
     "start_time": "2023-04-20T09:53:18.275237Z"
    }
   },
   "outputs": [],
   "source": [
    "sal = fdf[fdf.genome == 'SL1344'].copy()"
   ]
  },
  {
   "cell_type": "code",
   "execution_count": null,
   "metadata": {
    "ExecuteTime": {
     "end_time": "2023-04-20T09:53:19.170112Z",
     "start_time": "2023-04-20T09:53:18.946943Z"
    }
   },
   "outputs": [],
   "source": [
    "inter = sal[['Name', 'sample_id', 'NumReads']].pivot(\n",
    "    index='Name', columns='sample_id')\n",
    "inter = inter/inter.sum()*1000000\n",
    "inter.columns = [c[1] for c in inter.columns]\n",
    "inter = inter.reset_index().melt(\n",
    "    id_vars='Name', var_name='sample_id', value_name='new_tpms')\n",
    "sal = sal.merge(inter, on=['Name', 'sample_id'])"
   ]
  },
  {
   "cell_type": "code",
   "execution_count": null,
   "metadata": {
    "ExecuteTime": {
     "end_time": "2023-04-20T09:53:19.485014Z",
     "start_time": "2023-04-20T09:53:19.459073Z"
    }
   },
   "outputs": [],
   "source": [
    "sal"
   ]
  },
  {
   "cell_type": "code",
   "execution_count": null,
   "metadata": {
    "ExecuteTime": {
     "end_time": "2023-04-20T09:53:54.530755Z",
     "start_time": "2023-04-20T09:53:54.465204Z"
    }
   },
   "outputs": [],
   "source": [
    "sal.groupby('sample_id').sum(numeric_only=True)"
   ]
  },
  {
   "cell_type": "code",
   "execution_count": null,
   "metadata": {
    "ExecuteTime": {
     "end_time": "2023-04-20T09:46:13.239279Z",
     "start_time": "2023-04-20T09:46:13.234034Z"
    }
   },
   "outputs": [],
   "source": [
    "import numpy as np"
   ]
  },
  {
   "cell_type": "code",
   "execution_count": null,
   "metadata": {
    "ExecuteTime": {
     "end_time": "2023-04-20T09:54:59.393930Z",
     "start_time": "2023-04-20T09:54:59.383365Z"
    }
   },
   "outputs": [],
   "source": [
    "np.quantile(sal.new_tpms, 0.95)"
   ]
  },
  {
   "cell_type": "code",
   "execution_count": null,
   "metadata": {
    "ExecuteTime": {
     "end_time": "2023-04-20T09:56:54.998464Z",
     "start_time": "2023-04-20T09:56:54.975239Z"
    }
   },
   "outputs": [],
   "source": [
    "sal[sal.new_tpms > 900]"
   ]
  },
  {
   "cell_type": "code",
   "execution_count": null,
   "metadata": {
    "ExecuteTime": {
     "end_time": "2023-04-20T09:55:03.283860Z",
     "start_time": "2023-04-20T09:55:03.252301Z"
    }
   },
   "outputs": [],
   "source": [
    "sal.groupby('sample_id').new_tpms.apply(np.quantile, q=0.95)"
   ]
  },
  {
   "cell_type": "code",
   "execution_count": null,
   "metadata": {},
   "outputs": [],
   "source": []
  }
 ],
 "metadata": {
  "kernelspec": {
   "display_name": "Python 3 (ipykernel)",
   "language": "python",
   "name": "python3"
  },
  "language_info": {
   "codemirror_mode": {
    "name": "ipython",
    "version": 3
   },
   "file_extension": ".py",
   "mimetype": "text/x-python",
   "name": "python",
   "nbconvert_exporter": "python",
   "pygments_lexer": "ipython3",
   "version": "3.8.12"
  },
  "toc": {
   "base_numbering": 1,
   "nav_menu": {},
   "number_sections": true,
   "sideBar": true,
   "skip_h1_title": false,
   "title_cell": "Table of Contents",
   "title_sidebar": "Contents",
   "toc_cell": false,
   "toc_position": {},
   "toc_section_display": true,
   "toc_window_display": true
  }
 },
 "nbformat": 4,
 "nbformat_minor": 4
}
