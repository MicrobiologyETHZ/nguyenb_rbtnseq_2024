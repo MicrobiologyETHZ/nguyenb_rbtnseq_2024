{
 "cells": [
  {
   "cell_type": "code",
   "execution_count": null,
   "metadata": {
    "ExecuteTime": {
     "end_time": "2023-07-13T12:03:39.817622Z",
     "start_time": "2023-07-13T12:03:39.812238Z"
    }
   },
   "outputs": [],
   "source": [
    "import pandas as pd\n",
    "from pathlib import Path\n",
    "from umap import UMAP"
   ]
  },
  {
   "cell_type": "code",
   "execution_count": null,
   "metadata": {},
   "outputs": [],
   "source": [
    "import plotly.express as px\n",
    "import numpy as np"
   ]
  },
  {
   "cell_type": "code",
   "execution_count": null,
   "metadata": {},
   "outputs": [],
   "source": [
    "out_dir = Path(\"/nfs/cds-peta/exports/biol_micro_cds_gr_sunagawa/scratch/ansintsova/Projects_NCCR/hardt/nguyenb/tnseq/scratch/03_23_transcriptomics/analysis\")\n",
    "cnts = pd.read_csv(out_dir/\"2023-07-31_oligo-alone-within-taxon-norm_cnts.csv\", index_col=0).set_index('ID')\n",
    "cnts = np.log2(cnts +1)\n",
    "cnts = cnts.loc[(cnts.var(axis=1)>3),].T"
   ]
  },
  {
   "cell_type": "code",
   "execution_count": null,
   "metadata": {},
   "outputs": [],
   "source": [
    "cnts.shape"
   ]
  },
  {
   "cell_type": "code",
   "execution_count": null,
   "metadata": {},
   "outputs": [],
   "source": []
  },
  {
   "cell_type": "code",
   "execution_count": null,
   "metadata": {},
   "outputs": [],
   "source": [
    "cnts"
   ]
  },
  {
   "cell_type": "code",
   "execution_count": null,
   "metadata": {},
   "outputs": [],
   "source": [
    "features"
   ]
  },
  {
   "cell_type": "code",
   "execution_count": null,
   "metadata": {},
   "outputs": [],
   "source": [
    "proj_2d"
   ]
  },
  {
   "cell_type": "code",
   "execution_count": null,
   "metadata": {},
   "outputs": [],
   "source": [
    "df = px.data.iris()\n",
    "\n",
    "features = df.loc[:, :'petal_width']\n",
    "\n",
    "umap_2d = UMAP(n_components=2, init='random', random_state=0)\n",
    "proj_2d = pd.DataFrame(umap_2d.fit_transform(cnts), index=cnts.index)"
   ]
  },
  {
   "cell_type": "code",
   "execution_count": null,
   "metadata": {},
   "outputs": [],
   "source": [
    "proj_2d"
   ]
  },
  {
   "cell_type": "code",
   "execution_count": null,
   "metadata": {},
   "outputs": [],
   "source": [
    "fig_2d = px.scatter(\n",
    "    proj_2d, x=0, y=1, hover_data = [proj_2d.index], width=400, height=400,\n",
    "    \n",
    ")"
   ]
  },
  {
   "cell_type": "code",
   "execution_count": null,
   "metadata": {},
   "outputs": [],
   "source": [
    "fig_2d"
   ]
  },
  {
   "cell_type": "code",
   "execution_count": null,
   "metadata": {
    "ExecuteTime": {
     "end_time": "2023-07-13T12:02:27.407958Z",
     "start_time": "2023-07-13T12:02:14.386389Z"
    }
   },
   "outputs": [],
   "source": [
    "from tinycov.tinycov import covplot"
   ]
  },
  {
   "cell_type": "code",
   "execution_count": null,
   "metadata": {
    "ExecuteTime": {
     "end_time": "2023-07-13T12:03:50.058607Z",
     "start_time": "2023-07-13T12:03:50.052841Z"
    }
   },
   "outputs": [],
   "source": [
    "root = Path(\"../../../scratch/03_23_transcriptomics/bowtie/\")"
   ]
  },
  {
   "cell_type": "code",
   "execution_count": null,
   "metadata": {
    "ExecuteTime": {
     "end_time": "2023-07-13T12:04:29.203205Z",
     "start_time": "2023-07-13T12:04:29.165176Z"
    }
   },
   "outputs": [],
   "source": [
    "files = list(root.rglob(\"*bam\"))"
   ]
  },
  {
   "cell_type": "code",
   "execution_count": null,
   "metadata": {
    "ExecuteTime": {
     "end_time": "2023-07-13T12:04:34.475452Z",
     "start_time": "2023-07-13T12:04:34.470108Z"
    }
   },
   "outputs": [],
   "source": [
    "f = files[0]"
   ]
  },
  {
   "cell_type": "code",
   "execution_count": null,
   "metadata": {
    "ExecuteTime": {
     "end_time": "2023-07-13T12:21:37.741736Z",
     "start_time": "2023-07-13T12:21:37.735359Z"
    }
   },
   "outputs": [],
   "source": [
    "initialization of _internal failed without raising an exception"
   ]
  },
  {
   "cell_type": "code",
   "execution_count": null,
   "metadata": {
    "ExecuteTime": {
     "end_time": "2023-07-13T12:37:03.879448Z",
     "start_time": "2023-07-13T12:32:31.465787Z"
    }
   },
   "outputs": [],
   "source": [
    "covplot(f, res=20000, skip=5000, out=None, text=\"test.cov\")"
   ]
  },
  {
   "cell_type": "code",
   "execution_count": null,
   "metadata": {
    "ExecuteTime": {
     "end_time": "2023-07-13T12:40:40.959401Z",
     "start_time": "2023-07-13T12:40:40.936594Z"
    }
   },
   "outputs": [],
   "source": [
    "df = pd.read_table('test.cov', header=None)\n",
    "df.columns = ['chr', 'start', 'end', 'cov']"
   ]
  },
  {
   "cell_type": "code",
   "execution_count": null,
   "metadata": {
    "ExecuteTime": {
     "end_time": "2023-07-13T12:40:41.865419Z",
     "start_time": "2023-07-13T12:40:41.855225Z"
    }
   },
   "outputs": [],
   "source": [
    "df.chr.unique()"
   ]
  },
  {
   "cell_type": "code",
   "execution_count": null,
   "metadata": {
    "ExecuteTime": {
     "end_time": "2023-07-13T12:40:45.335087Z",
     "start_time": "2023-07-13T12:40:45.322083Z"
    }
   },
   "outputs": [],
   "source": [
    "df.groupby('chr')['cov'].median()"
   ]
  },
  {
   "cell_type": "code",
   "execution_count": null,
   "metadata": {
    "ExecuteTime": {
     "end_time": "2023-07-13T12:44:23.430589Z",
     "start_time": "2023-07-13T12:44:23.415760Z"
    }
   },
   "outputs": [],
   "source": [
    "sl = df[(df.chr == 'CP015399.2')| (df.chr == 'FQ312003.1')| (df.chr == 'CP015400.2')]"
   ]
  },
  {
   "cell_type": "code",
   "execution_count": null,
   "metadata": {
    "ExecuteTime": {
     "end_time": "2023-07-13T12:25:09.083107Z",
     "start_time": "2023-07-13T12:25:09.078056Z"
    }
   },
   "outputs": [],
   "source": [
    "import plotly.express as px"
   ]
  },
  {
   "cell_type": "code",
   "execution_count": null,
   "metadata": {
    "ExecuteTime": {
     "end_time": "2023-07-13T12:47:39.373119Z",
     "start_time": "2023-07-13T12:47:38.874731Z"
    }
   },
   "outputs": [],
   "source": [
    "fig = px.scatter(sl, x='start', y='cov', log_y=True, color='chr', trendline='lowess')\n",
    "#fig.update_traces(marker=dict(size=5))"
   ]
  },
  {
   "cell_type": "code",
   "execution_count": null,
   "metadata": {
    "ExecuteTime": {
     "end_time": "2023-07-13T12:47:41.234084Z",
     "start_time": "2023-07-13T12:47:41.200652Z"
    }
   },
   "outputs": [],
   "source": [
    "fig"
   ]
  },
  {
   "cell_type": "code",
   "execution_count": null,
   "metadata": {
    "ExecuteTime": {
     "end_time": "2023-07-13T12:51:00.509712Z",
     "start_time": "2023-07-13T12:51:00.503766Z"
    }
   },
   "outputs": [],
   "source": [
    "6595535/(26620437+6595535)"
   ]
  },
  {
   "cell_type": "code",
   "execution_count": null,
   "metadata": {
    "ExecuteTime": {
     "end_time": "2023-07-13T12:53:29.727307Z",
     "start_time": "2023-07-13T12:53:29.721691Z"
    }
   },
   "outputs": [],
   "source": [
    "12/(12+23)"
   ]
  },
  {
   "cell_type": "code",
   "execution_count": null,
   "metadata": {},
   "outputs": [],
   "source": []
  }
 ],
 "metadata": {
  "kernelspec": {
   "display_name": "Python 3 (ipykernel)",
   "language": "python",
   "name": "python3"
  },
  "language_info": {
   "codemirror_mode": {
    "name": "ipython",
    "version": 3
   },
   "file_extension": ".py",
   "mimetype": "text/x-python",
   "name": "python",
   "nbconvert_exporter": "python",
   "pygments_lexer": "ipython3",
   "version": "3.8.12"
  },
  "toc": {
   "base_numbering": 1,
   "nav_menu": {},
   "number_sections": true,
   "sideBar": true,
   "skip_h1_title": false,
   "title_cell": "Table of Contents",
   "title_sidebar": "Contents",
   "toc_cell": false,
   "toc_position": {},
   "toc_section_display": true,
   "toc_window_display": false
  }
 },
 "nbformat": 4,
 "nbformat_minor": 4
}
