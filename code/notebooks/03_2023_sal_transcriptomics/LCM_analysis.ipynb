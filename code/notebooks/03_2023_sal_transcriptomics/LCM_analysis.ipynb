{
 "cells": [
  {
   "cell_type": "markdown",
   "metadata": {},
   "source": [
    "# Load settings and configs"
   ]
  },
  {
   "cell_type": "code",
   "execution_count": null,
   "metadata": {},
   "outputs": [],
   "source": [
    "# %load ../snippets/basic_settings.py\n",
    "import pandas as pd\n",
    "import numpy as np\n",
    "import matplotlib.pyplot as plt\n",
    "import os\n",
    "from pathlib import Path\n",
    "import seaborn as sns\n",
    "import sys\n",
    "import plotly.express as px\n",
    "import yaml\n",
    "import requests\n",
    "\n",
    "sns.set_context(\"notebook\", font_scale=1.1)\n",
    "pd.set_option(\"display.max_columns\", 100)\n",
    "pd.set_option(\"display.max_rows\", 100)\n",
    "plt.rcParams[\"figure.figsize\"] = (16, 12)\n",
    "plt.rcParams['savefig.dpi'] = 200\n",
    "plt.rcParams['figure.autolayout'] = False\n",
    "plt.rcParams['axes.labelsize'] = 18\n",
    "plt.rcParams['axes.titlesize'] = 20\n",
    "plt.rcParams['font.size'] = 16\n",
    "plt.rcParams['lines.linewidth'] = 2.0\n",
    "plt.rcParams['lines.markersize'] = 8\n",
    "plt.rcParams['legend.fontsize'] = 14\n",
    "pd.set_option('display.float_format', lambda x: '{:,.2f}'.format(x))\n",
    "import pyranges as pr\n",
    "\n",
    "import sys\n",
    "sys.path.append(\"..\")"
   ]
  },
  {
   "cell_type": "code",
   "execution_count": null,
   "metadata": {},
   "outputs": [],
   "source": [
    "from snippets.utils import *"
   ]
  },
  {
   "cell_type": "code",
   "execution_count": null,
   "metadata": {},
   "outputs": [],
   "source": [
    "with open(\"config.yaml\", \"r\") as fh:\n",
    "    config_dict = yaml.safe_load(fh)['default']\n",
    "root = Path(config_dict[\"root\"])\n",
    "out_dir = root/config_dict['output_dir']"
   ]
  },
  {
   "cell_type": "markdown",
   "metadata": {},
   "source": [
    "# 16S Data Analysis"
   ]
  },
  {
   "cell_type": "code",
   "execution_count": null,
   "metadata": {},
   "outputs": [],
   "source": [
    "s_data = pd.read_table(config_dict[\"tax_composition_file\"])\n",
    "taxa = pd.read_csv(out_dir/\"17-08-23-LCM-taxa-dada2.csv\").rename(columns={'Unnamed: 0':'seq'})\n",
    "s_data = s_data.merge(taxa, on='seq')\n",
    "s_data[['family_idtaxa', 'genus_idtaxa']] = s_data.tax.str.split(\"|\", expand=True)[[5,6]]\n",
    "s_data = s_data[['asv', 'family_idtaxa', 'genus_idtaxa', 'Family', 'Genus'] + [c for c in s_data.columns if 'METAB' in c]]\n",
    "s_data.to_csv(out_dir/\"08-23-LCM-16S-family-genus.csv\", index=False)\n",
    "\n",
    "\n",
    "\"\"\"\n",
    "From inspection of the data and previous information, came to the following taxonomic assignments\n",
    "\"\"\"\n",
    "\n",
    "asv_id = {'asv_0001': \"Salmonella\", \n",
    "        'asv_0002': 'ASF519',\n",
    "        'asv_0003': 'YL58',\n",
    "        'asv_0004': 'YL32',\n",
    "        'asv_0005': 'unclassified Lachnospiraceae',\n",
    "        'asv_0006': 'YL31',\n",
    "        'asv_0007': 'Turicibacter',\n",
    "        'asv_0008': 'Clostridium indolis Y18184 (?)',\n",
    "        'asv_0009': 'Clostridium indolis Y18184 (?)',\n",
    "        'asv_0012': 'Staphylococcus'}\n",
    "        "
   ]
  },
  {
   "cell_type": "markdown",
   "metadata": {},
   "source": [
    "## Normalising to get relative abundance"
   ]
  },
  {
   "cell_type": "code",
   "execution_count": null,
   "metadata": {},
   "outputs": [],
   "source": [
    "cols = list(s_data.select_dtypes(include=np.number).columns)\n",
    "s_data[cols] = s_data[cols]/s_data[cols].sum()*100\n",
    "s_data['asv'] = s_data['asv'].str.split(';', expand = True)[0]\n",
    "s_data['genome'] = s_data['asv'].replace(asv_id)\n",
    "s_data = s_data[['genome'] + cols]\n",
    "# Only want to look at identified ASVs\n",
    "s_data = s_data[~s_data.genome.str.startswith('asv')]\n",
    "s_data = s_data.melt(id_vars=['genome'], var_name='sample_id', value_name='RelAb')\n",
    "# Adding together asv8 and asv9 -> previous analysis (Melanie) suggested they are the same thing\n",
    "s_data = s_data.groupby(['sample_id', 'genome']).RelAb.sum().reset_index()\n",
    "s_data['sample_id'] = s_data['sample_id'].str.split(\"_\", expand=True)[1]\n",
    "s_data['day'] = s_data['sample_id'].str[-2:]"
   ]
  },
  {
   "cell_type": "markdown",
   "metadata": {},
   "source": [
    "## Plot change in relative abundance by day across species"
   ]
  },
  {
   "cell_type": "code",
   "execution_count": null,
   "metadata": {},
   "outputs": [],
   "source": [
    "mean_data = s_data.groupby(['day', 'genome']).RelAb.mean().reset_index()\n",
    "px.line(mean_data, x='day', y = 'RelAb', color='genome', markers=True, template='plotly_white', color_discrete_map = lcm_colors,\n",
    "width=700, height=600, labels={'RelAb': 'Relative abundance (%)'})"
   ]
  },
  {
   "cell_type": "markdown",
   "metadata": {},
   "source": [
    "## Look at relative abundance in each mouse"
   ]
  },
  {
   "cell_type": "code",
   "execution_count": null,
   "metadata": {},
   "outputs": [],
   "source": [
    "px.bar(s_data.sort_values('day'), x='sample_id', y='RelAb', color='genome', template='plotly_white', height=600, width=1000,\n",
    "color_discrete_map = lcm_colors,  labels={'RelAb': 'Relative abundance (%)'})"
   ]
  },
  {
   "cell_type": "markdown",
   "metadata": {},
   "source": [
    "# PCA of Salmonella + LCM transcriptome"
   ]
  },
  {
   "cell_type": "code",
   "execution_count": null,
   "metadata": {},
   "outputs": [],
   "source": [
    "norm_counts = out_dir/config_dict[\"norm_counts_file\"]\n",
    "sample_data_file = root/config_dict['sample_data_file']\n",
    "sd = pd.read_csv(sample_data_file)\n",
    "norm_counts = pd.read_csv(norm_counts, index_col=0)\n",
    "norm_counts = norm_counts.set_index('ID')\n",
    "norm_counts = norm_counts[norm_counts.sum(axis=1) > 100]\n",
    "norm_counts = np.log2(norm_counts+1)"
   ]
  },
  {
   "cell_type": "code",
   "execution_count": null,
   "metadata": {},
   "outputs": [],
   "source": [
    "pc_df, pc_var = find_pcs(norm_counts, num_genes=500)\n",
    "pc_df = pc_df.reset_index().rename(columns={'index':'sample_id'}).merge(sd, on='sample_id')"
   ]
  },
  {
   "cell_type": "code",
   "execution_count": null,
   "metadata": {},
   "outputs": [],
   "source": [
    "fig = px.scatter(pc_df, x='PC1', y='PC2', color='Treatment', width=700, height=600, \n",
    "template='plotly_white', hover_data=['sample_id'])\n",
    "fig.update_traces(marker=dict(size=12,\n",
    "                              line=dict(width=1,\n",
    "                                        color='DarkSlateGrey')),\n",
    "                  selector=dict(mode='markers'))"
   ]
  },
  {
   "cell_type": "markdown",
   "metadata": {},
   "source": [
    "# Differential Expression Analysis\n",
    "\n",
    "- Combining day 1 and day 2"
   ]
  },
  {
   "cell_type": "code",
   "execution_count": null,
   "metadata": {},
   "outputs": [],
   "source": [
    "res = pd.read_csv(out_dir/\"2023-08-15_lcm-alone-within-taxon-D1_vs_PBS_D1_l0a0.01_results.csv\").assign(day='day1')\n",
    "res2 = pd.read_csv(out_dir/\"2023-08-15_lcm-alone-within-taxon-D2_vs_PBS_D1_l0a0.01_results.csv\").assign(day='day2')\n",
    "gff = pr.read_gff3(root/config_dict['gff_file']).as_df()\n",
    "gff = gff[gff.Feature == 'gene']\n",
    "res = res.merge(gff, on='ID', how='left')\n",
    "res2 = res2.merge(gff, on='ID', how='left')\n",
    "res = pd.concat([res, res2])\n",
    "res['genome'] = res['Chromosome'].replace(genome_map)\n",
    "columns_to_report = ['ID', 'baseMean', 'log2FoldChange', 'lfcSE', 'stat', 'pvalue', 'padj', 'day', 'Chromosome', 'Start', 'End', 'Strand', 'Name', 'locus_tag', 'genome']\n",
    "res = res[columns_to_report]\n",
    "# Remove SL1344 from the analysis, not sure how to interpret these results\n",
    "res = res.query(\"genome != 'SL1344'\")\n",
    "res = res.dropna(subset=['log2FoldChange', 'padj'])\n",
    "sres = res.query(\"abs(log2FoldChange) > 1 & padj < 0.05\")"
   ]
  },
  {
   "cell_type": "code",
   "execution_count": null,
   "metadata": {},
   "outputs": [],
   "source": [
    "res.to_csv(out_dir/\"08-23_Sal-LCM-d1-d2_all-results.csv\")\n",
    "sres.to_csv(out_dir/\"08-23_Sal-LCM-d1-d2_significant-results.csv\")"
   ]
  },
  {
   "cell_type": "markdown",
   "metadata": {},
   "source": [
    "## YL32"
   ]
  },
  {
   "cell_type": "code",
   "execution_count": null,
   "metadata": {},
   "outputs": [],
   "source": [
    "strain = 'YL32'\n",
    "df32, lup32, ldown32, funcup32, funcdown32 = process_strain(res, strain, ncbi_taxid_map)"
   ]
  },
  {
   "cell_type": "markdown",
   "metadata": {},
   "source": [
    "## YL58"
   ]
  },
  {
   "cell_type": "code",
   "execution_count": null,
   "metadata": {},
   "outputs": [],
   "source": [
    "strain = 'YL58'\n",
    "df58, lup58, ldown58, funcup58, funcdown58 = process_strain(res, strain, ncbi_taxid_map)"
   ]
  },
  {
   "cell_type": "code",
   "execution_count": null,
   "metadata": {},
   "outputs": [],
   "source": [
    "func_graph(funcdown58, c='Reds_r')"
   ]
  },
  {
   "cell_type": "markdown",
   "metadata": {},
   "source": [
    "# Compare Oligos and LCM mice"
   ]
  },
  {
   "cell_type": "code",
   "execution_count": null,
   "metadata": {},
   "outputs": [],
   "source": [
    "df = pd.read_csv(out_dir/\"2023-07-31_oligo-lcm-within-taxon-Oligo_PBS_vs_LCM_PBS_D1_l0a0.01_results.csv\")\n",
    "df = df.merge(gff, on='ID')\n",
    "df['genome'] = df['Chromosome'].replace(genome_map)"
   ]
  },
  {
   "cell_type": "code",
   "execution_count": null,
   "metadata": {},
   "outputs": [],
   "source": [
    "upregulated_oligo = df.query(\"genome == 'YL32' & log2FoldChange > 1 & padj < 0.05\").locus_tag.values\n",
    "link_to_string(upregulated_oligo, ncbi_taxid_map['YL32'])"
   ]
  },
  {
   "cell_type": "code",
   "execution_count": null,
   "metadata": {},
   "outputs": [],
   "source": [
    "downregulated_oligo = df.query(\"genome == 'YL32' & log2FoldChange < - 1 & padj < 0.05\").locus_tag.values\n",
    "link_to_string(downregulated_oligo, ncbi_taxid_map['YL32'])"
   ]
  },
  {
   "cell_type": "markdown",
   "metadata": {},
   "source": [
    "## Load counts normalised using both sets of mice"
   ]
  },
  {
   "cell_type": "code",
   "execution_count": null,
   "metadata": {},
   "outputs": [],
   "source": [
    "norm_counts = pd.read_csv(out_dir/\"2023-08-17_oligo-lcm-within-taxon-norm_cnts.csv\", index_col=0)\n",
    "norm_counts = norm_counts.set_index('ID')\n",
    "norm_counts = norm_counts[norm_counts.sum(axis=1) > 100]\n",
    "norm_counts = np.log2(norm_counts+1)\n",
    "norm_counts = norm_counts.reset_index()"
   ]
  },
  {
   "cell_type": "code",
   "execution_count": null,
   "metadata": {},
   "outputs": [],
   "source": [
    "frs_genes = [f'gene-A4V08_{c}' for c in ['11185', '11195', '11255', '11215', '11265','11190', '11235', '11205','11230']]\n",
    "\n",
    "with open(out_dir/'YL32_fructoselysine_genes.txt', 'w') as fo:\n",
    "    for g in frs_genes:\n",
    "        fo.write(f'{g}\\n')\n",
    "\n",
    "# Run seqtk subseq to get the sequences "
   ]
  },
  {
   "cell_type": "code",
   "execution_count": null,
   "metadata": {},
   "outputs": [],
   "source": [
    "fdf = norm_counts[norm_counts.ID.isin(frs_genes)].melt(id_vars='ID', var_name='sample_id', value_name='log(norm cnts)').merge(sd, on='sample_id')\n",
    "fdf['ID'] = fdf['ID'].str.replace('gene-', '')\n",
    "fdf = fdf.query(\"(Mouse == 'Oligo' | Mouse == 'LCM') & (Treatment == 'PBS_D1' | Treatment == 'PBS')\")"
   ]
  },
  {
   "cell_type": "code",
   "execution_count": null,
   "metadata": {},
   "outputs": [],
   "source": [
    "px.box(fdf.sort_values('ID'), x='ID', y='log(norm cnts)', points='all',color='Mouse', template='plotly_white')"
   ]
  }
 ],
 "metadata": {
  "kernelspec": {
   "display_name": "datavis",
   "language": "python",
   "name": "python3"
  },
  "language_info": {
   "codemirror_mode": {
    "name": "ipython",
    "version": 3
   },
   "file_extension": ".py",
   "mimetype": "text/x-python",
   "name": "python",
   "nbconvert_exporter": "python",
   "pygments_lexer": "ipython3",
   "version": "3.8.12"
  }
 },
 "nbformat": 4,
 "nbformat_minor": 2
}
