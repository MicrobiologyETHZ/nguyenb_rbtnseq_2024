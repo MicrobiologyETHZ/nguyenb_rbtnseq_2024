{
 "cells": [
  {
   "cell_type": "code",
   "execution_count": null,
   "id": "0eb8745e",
   "metadata": {
    "ExecuteTime": {
     "end_time": "2023-07-18T13:24:26.676062Z",
     "start_time": "2023-07-18T13:24:18.873197Z"
    }
   },
   "outputs": [],
   "source": [
    "import pandas as pd\n",
    "import pyranges as pr\n",
    "import plotly.express as px\n",
    "from pathlib import Path"
   ]
  },
  {
   "cell_type": "code",
   "execution_count": null,
   "id": "0994c5af",
   "metadata": {
    "ExecuteTime": {
     "end_time": "2023-05-05T07:18:11.406178Z",
     "start_time": "2023-05-05T07:18:11.296323Z"
    }
   },
   "outputs": [],
   "source": [
    "%pwd\n"
   ]
  },
  {
   "cell_type": "code",
   "execution_count": null,
   "id": "3bf3e40e",
   "metadata": {
    "ExecuteTime": {
     "end_time": "2023-05-02T19:18:06.812063Z",
     "start_time": "2023-05-02T19:18:04.705965Z"
    }
   },
   "outputs": [],
   "source": [
    "df = pd.read_csv(\"featureCounts.csv\", index_col = 0)\n",
    "sds = pd.read_csv(\"rnaseq_metatdata.csv\")"
   ]
  },
  {
   "cell_type": "code",
   "execution_count": null,
   "id": "3b346b70",
   "metadata": {
    "ExecuteTime": {
     "end_time": "2023-05-02T19:19:11.820210Z",
     "start_time": "2023-05-02T19:19:11.372978Z"
    }
   },
   "outputs": [],
   "source": [
    "df = df.merge(sds, on='sample_id')"
   ]
  },
  {
   "cell_type": "code",
   "execution_count": null,
   "id": "d6ac37b8",
   "metadata": {
    "ExecuteTime": {
     "end_time": "2023-05-02T19:19:15.323938Z",
     "start_time": "2023-05-02T19:19:15.109768Z"
    }
   },
   "outputs": [],
   "source": [
    "sum_df = df.groupby(['sample_id', 'genome']).read_counts.sum().reset_index()"
   ]
  },
  {
   "cell_type": "code",
   "execution_count": null,
   "id": "a989dc77",
   "metadata": {
    "ExecuteTime": {
     "end_time": "2023-05-02T19:19:41.891587Z",
     "start_time": "2023-05-02T19:19:41.883198Z"
    }
   },
   "outputs": [],
   "source": [
    "sum_df = sum_df.merge(sds, on='sample_id')"
   ]
  },
  {
   "cell_type": "code",
   "execution_count": null,
   "id": "796f1d3f",
   "metadata": {
    "ExecuteTime": {
     "end_time": "2023-05-02T19:19:48.057434Z",
     "start_time": "2023-05-02T19:19:48.038893Z"
    }
   },
   "outputs": [],
   "source": [
    "int_df = sum_df[['sample_id', 'genome', 'read_counts']].pivot(index='genome', columns='sample_id')"
   ]
  },
  {
   "cell_type": "code",
   "execution_count": null,
   "id": "9fc1821e",
   "metadata": {
    "ExecuteTime": {
     "end_time": "2023-05-02T19:19:48.439836Z",
     "start_time": "2023-05-02T19:19:48.431886Z"
    }
   },
   "outputs": [],
   "source": [
    "int_df = int_df/int_df.sum()*100"
   ]
  },
  {
   "cell_type": "code",
   "execution_count": null,
   "id": "3099674a",
   "metadata": {
    "ExecuteTime": {
     "end_time": "2023-05-02T19:19:49.118552Z",
     "start_time": "2023-05-02T19:19:49.113393Z"
    }
   },
   "outputs": [],
   "source": [
    "int_df.columns = [c[1] for c in int_df.columns]"
   ]
  },
  {
   "cell_type": "code",
   "execution_count": null,
   "id": "9fccaed5",
   "metadata": {
    "ExecuteTime": {
     "end_time": "2023-05-02T19:19:55.002867Z",
     "start_time": "2023-05-02T19:19:54.991589Z"
    }
   },
   "outputs": [],
   "source": [
    "sum_df = sum_df.merge(int_df.reset_index().melt(id_vars=['genome'], var_name ='sample_id', value_name='perc_reads'),\n",
    "                      on=['sample_id', 'genome'])"
   ]
  },
  {
   "cell_type": "code",
   "execution_count": null,
   "id": "aca529c9",
   "metadata": {
    "ExecuteTime": {
     "end_time": "2023-05-02T19:19:56.720541Z",
     "start_time": "2023-05-02T19:19:56.702856Z"
    }
   },
   "outputs": [],
   "source": [
    "sum_df"
   ]
  },
  {
   "cell_type": "code",
   "execution_count": null,
   "id": "f38c53e8",
   "metadata": {
    "ExecuteTime": {
     "end_time": "2023-05-02T19:20:05.326138Z",
     "start_time": "2023-05-02T19:20:05.316701Z"
    }
   },
   "outputs": [],
   "source": [
    "# Split into 3 experiments, graph sep\n",
    "exp1 = sum_df[sum_df.Mouse == 'invitro']\n",
    "exp2 = sum_df[sum_df.Mouse == 'Oligo']\n",
    "exp3 = sum_df[sum_df.Mouse == 'LCM']"
   ]
  },
  {
   "cell_type": "code",
   "execution_count": null,
   "id": "519d25b0",
   "metadata": {
    "ExecuteTime": {
     "end_time": "2023-05-02T19:25:04.343978Z",
     "start_time": "2023-05-02T19:25:04.321055Z"
    }
   },
   "outputs": [],
   "source": [
    "exp1"
   ]
  },
  {
   "cell_type": "code",
   "execution_count": null,
   "id": "46730872",
   "metadata": {
    "ExecuteTime": {
     "end_time": "2023-05-02T19:23:56.157855Z",
     "start_time": "2023-05-02T19:23:56.095127Z"
    }
   },
   "outputs": [],
   "source": [
    "px.bar(exp1, x='sample_id', y='read_counts', color='genome', log_y=True)"
   ]
  },
  {
   "cell_type": "code",
   "execution_count": null,
   "id": "e94f6cbc",
   "metadata": {
    "ExecuteTime": {
     "end_time": "2023-05-02T19:28:41.074086Z",
     "start_time": "2023-05-02T19:28:41.061069Z"
    }
   },
   "outputs": [],
   "source": [
    "exp3"
   ]
  },
  {
   "cell_type": "code",
   "execution_count": null,
   "id": "39711e80",
   "metadata": {
    "ExecuteTime": {
     "end_time": "2023-05-02T19:33:53.795858Z",
     "start_time": "2023-05-02T19:33:53.777929Z"
    }
   },
   "outputs": [],
   "source": [
    "df.head()"
   ]
  },
  {
   "cell_type": "code",
   "execution_count": null,
   "id": "2a11adfa",
   "metadata": {
    "ExecuteTime": {
     "end_time": "2023-05-02T19:39:14.130964Z",
     "start_time": "2023-05-02T19:39:13.828445Z"
    }
   },
   "outputs": [],
   "source": [
    "sl = df[df.genome  == \"SL1344\"]\n",
    "int_df = (sl[['locus_tag', 'read_counts', 'sample_id']]\n",
    "          .drop_duplicates()\n",
    "          .pivot(index='locus_tag', columns='sample_id'))\n",
    "int_df.columns = [c[1] for c in int_df.columns]\n",
    "int_df = int_df/int_df.sum()*1000000\n",
    "int_df = (int_df.reset_index()\n",
    "          .melt(id_vars='locus_tag', var_name='sample_id', value_name = 'TPM'))\n",
    "sl = sl.merge(int_df, on=['locus_tag', 'sample_id'])"
   ]
  },
  {
   "cell_type": "code",
   "execution_count": null,
   "id": "6623bcc1",
   "metadata": {
    "ExecuteTime": {
     "end_time": "2023-05-02T19:45:31.808039Z",
     "start_time": "2023-05-02T19:45:31.799194Z"
    }
   },
   "outputs": [],
   "source": [
    "sl.iloc[48884,:]"
   ]
  },
  {
   "cell_type": "code",
   "execution_count": null,
   "id": "f924aa79",
   "metadata": {
    "ExecuteTime": {
     "end_time": "2023-05-02T19:55:11.565195Z",
     "start_time": "2023-05-02T19:55:11.486610Z"
    }
   },
   "outputs": [],
   "source": [
    "test = sl[sl.sample_id == 'M9_aero']\n",
    "top10 = sl.groupby(['sample_id']).TPM.nlargest(10).reset_index().set_index('level_1')\n",
    "\n",
    "top10 = top10.merge(sl[['locus_tag', 'ID', 'Name', 'Mouse']], left_index=True, right_index=True, how='left')"
   ]
  },
  {
   "cell_type": "code",
   "execution_count": null,
   "id": "b1de6119",
   "metadata": {
    "ExecuteTime": {
     "end_time": "2023-05-03T08:18:14.677099Z",
     "start_time": "2023-05-03T08:18:14.672589Z"
    }
   },
   "outputs": [],
   "source": [
    "inoc = ['Inoc_1', 'Inoc_2']"
   ]
  },
  {
   "cell_type": "code",
   "execution_count": null,
   "id": "498f4280",
   "metadata": {
    "ExecuteTime": {
     "end_time": "2023-05-03T08:18:15.119575Z",
     "start_time": "2023-05-03T08:18:15.098770Z"
    }
   },
   "outputs": [],
   "source": [
    "inoc_df = sl[sl.sample_id.isin(inoc)]\n",
    "inoc_df = inoc_df.groupby('Name').TPM.median().reset_index().sort_values('TPM', ascending=False).head(25)"
   ]
  },
  {
   "cell_type": "code",
   "execution_count": null,
   "id": "d816479e",
   "metadata": {
    "ExecuteTime": {
     "end_time": "2023-05-03T08:13:09.628398Z",
     "start_time": "2023-05-03T08:13:09.615024Z"
    }
   },
   "outputs": [],
   "source": [
    "sl.sample_id.unique()"
   ]
  },
  {
   "cell_type": "code",
   "execution_count": null,
   "id": "2bb85ebb",
   "metadata": {
    "ExecuteTime": {
     "end_time": "2023-05-03T08:17:59.523654Z",
     "start_time": "2023-05-03T08:17:59.510643Z"
    }
   },
   "outputs": [],
   "source": [
    "m9_df = sl[sl.sample_id.isin(['Inoc_2'])]\n",
    "m9_df = m9_df.groupby('Name').TPM.median().reset_index().sort_values('TPM', ascending=False).head(25)"
   ]
  },
  {
   "cell_type": "code",
   "execution_count": null,
   "id": "2fa96b73",
   "metadata": {
    "ExecuteTime": {
     "end_time": "2023-05-03T08:18:00.855476Z",
     "start_time": "2023-05-03T08:18:00.845752Z"
    }
   },
   "outputs": [],
   "source": [
    "m9_df"
   ]
  },
  {
   "cell_type": "code",
   "execution_count": null,
   "id": "d0cfe599",
   "metadata": {
    "ExecuteTime": {
     "end_time": "2023-05-03T08:18:25.520109Z",
     "start_time": "2023-05-03T08:18:25.514918Z"
    }
   },
   "outputs": [],
   "source": [
    "order = inoc_df.Name.values"
   ]
  },
  {
   "cell_type": "code",
   "execution_count": null,
   "id": "910b93e6",
   "metadata": {
    "ExecuteTime": {
     "end_time": "2023-05-03T08:18:36.433812Z",
     "start_time": "2023-05-03T08:18:36.365299Z"
    }
   },
   "outputs": [],
   "source": [
    "px.box(sl[(sl.sample_id.isin(inoc)) &(sl.Name.isin(order))], x='Name', y='TPM', \n",
    "       category_orders={'Name': order},\n",
    "      title='Highest expressed genes in the inoculum samples (Inoc1,2)')"
   ]
  },
  {
   "cell_type": "code",
   "execution_count": null,
   "id": "5453c66c",
   "metadata": {
    "ExecuteTime": {
     "end_time": "2023-05-03T08:21:28.163832Z",
     "start_time": "2023-05-03T08:21:28.150623Z"
    }
   },
   "outputs": [],
   "source": [
    "hi = list(sl[sl.sample_id.isin(['Inoc_3'])].sort_values('TPM', ascending=False).head(20).Name.values)  +list(order)"
   ]
  },
  {
   "cell_type": "code",
   "execution_count": null,
   "id": "8ad9e81c",
   "metadata": {
    "ExecuteTime": {
     "end_time": "2023-05-03T08:20:40.136021Z",
     "start_time": "2023-05-03T08:20:40.081086Z"
    }
   },
   "outputs": [],
   "source": [
    "px.bar(sl[sl.sample_id.isin(['Inoc_3'])].sort_values('TPM', ascending=False).head(20), x='Name', y='TPM', \n",
    "      title='Highest expressed genes in the inoculum samples (Inoc3)')"
   ]
  },
  {
   "cell_type": "code",
   "execution_count": null,
   "id": "fbf33412",
   "metadata": {
    "ExecuteTime": {
     "end_time": "2023-05-03T07:56:44.247021Z",
     "start_time": "2023-05-03T07:56:44.232560Z"
    }
   },
   "outputs": [],
   "source": [
    "au_samples = [c for c in sl.sample_id.unique() if c.startswith('AU')]\n",
    "au_samples"
   ]
  },
  {
   "cell_type": "code",
   "execution_count": null,
   "id": "90ee834a",
   "metadata": {
    "ExecuteTime": {
     "end_time": "2023-05-03T08:21:35.202655Z",
     "start_time": "2023-05-03T08:21:35.076953Z"
    }
   },
   "outputs": [],
   "source": [
    "sl['in_top_25'] = sl.Name.apply(lambda x: True if x in hi else False)"
   ]
  },
  {
   "cell_type": "code",
   "execution_count": null,
   "id": "59c4a73b",
   "metadata": {
    "ExecuteTime": {
     "end_time": "2023-05-03T08:06:01.854312Z",
     "start_time": "2023-05-03T08:06:01.838399Z"
    }
   },
   "outputs": [],
   "source": [
    "au_samples = [c for c in sl.sample_id.unique() if c.startswith('AU')]\n",
    "au_samples"
   ]
  },
  {
   "cell_type": "code",
   "execution_count": null,
   "id": "7e6c0d20",
   "metadata": {
    "ExecuteTime": {
     "end_time": "2023-05-03T08:21:44.128192Z",
     "start_time": "2023-05-03T08:21:44.040716Z"
    }
   },
   "outputs": [],
   "source": [
    "au_samples = [c for c in sl.sample_id.values if c.startswith('AU')]\n",
    "sample= 'AU655'\n",
    "px.bar(sl[sl.sample_id == sample].sort_values(\"TPM\", ascending=False).head(20), x='Name', y='TPM', \n",
    "      title=f'Highest expressed genes in the {sample}', color='in_top_25', \n",
    "       category_orders = {'in_top_25': [True, False]})"
   ]
  },
  {
   "cell_type": "code",
   "execution_count": null,
   "id": "d2c84d17",
   "metadata": {
    "ExecuteTime": {
     "end_time": "2023-05-03T08:21:48.091526Z",
     "start_time": "2023-05-03T08:21:48.025188Z"
    }
   },
   "outputs": [],
   "source": [
    "sample= 'AU650'\n",
    "px.bar(sl[sl.sample_id == sample].sort_values(\"TPM\", ascending=False).head(20), x='Name', y='TPM', \n",
    "      title=f'Highest expressed genes in the {sample}', color='in_top_25',\n",
    "      category_orders = {'in_top_25': [True, False]})"
   ]
  },
  {
   "cell_type": "code",
   "execution_count": null,
   "id": "c3785ac3",
   "metadata": {
    "ExecuteTime": {
     "end_time": "2023-05-03T08:21:58.559863Z",
     "start_time": "2023-05-03T08:21:58.499337Z"
    }
   },
   "outputs": [],
   "source": [
    "sample= 'AU654'\n",
    "px.bar(sl[sl.sample_id == sample].sort_values(\"TPM\", ascending=False).head(20), x='Name', y='TPM', \n",
    "      title=f'Highest expressed genes in the {sample}', color='in_top_25',\n",
    "      category_orders = {'in_top_25': [True, False]})"
   ]
  },
  {
   "cell_type": "code",
   "execution_count": null,
   "id": "b2d7ace4",
   "metadata": {
    "ExecuteTime": {
     "end_time": "2023-05-03T08:22:02.945867Z",
     "start_time": "2023-05-03T08:22:02.883458Z"
    }
   },
   "outputs": [],
   "source": [
    "sample= 'AU648'\n",
    "px.bar(sl[sl.sample_id == sample].sort_values(\"TPM\", ascending=False).head(20), x='Name', y='TPM', \n",
    "      title=f'Highest expressed genes in the {sample}', color='in_top_25',\n",
    "      category_orders = {'in_top_25': [True, False]})"
   ]
  },
  {
   "cell_type": "code",
   "execution_count": null,
   "id": "eece060d",
   "metadata": {
    "ExecuteTime": {
     "end_time": "2023-05-03T08:22:30.624995Z",
     "start_time": "2023-05-03T08:22:30.558321Z"
    }
   },
   "outputs": [],
   "source": [
    "sample= 'AU658'\n",
    "px.bar(sl[sl.sample_id == sample].sort_values(\"TPM\", ascending=False).head(20), x='Name', y='TPM', \n",
    "      title=f'Highest expressed genes in the {sample}', color='in_top_25',\n",
    "      category_orders = {'in_top_25': [True, False]})"
   ]
  },
  {
   "cell_type": "code",
   "execution_count": null,
   "id": "b3fbe537",
   "metadata": {
    "ExecuteTime": {
     "end_time": "2023-05-03T08:22:35.103369Z",
     "start_time": "2023-05-03T08:22:35.089383Z"
    }
   },
   "outputs": [],
   "source": [
    "sl.sample_id.unique()"
   ]
  },
  {
   "cell_type": "code",
   "execution_count": null,
   "id": "58549afe",
   "metadata": {
    "ExecuteTime": {
     "end_time": "2023-05-03T08:22:51.359898Z",
     "start_time": "2023-05-03T08:22:51.279848Z"
    }
   },
   "outputs": [],
   "source": [
    "sample= 'aw599D1'\n",
    "px.bar(sl[sl.sample_id == sample].sort_values(\"TPM\", ascending=False).head(20), x='Name', y='TPM', \n",
    "      title=f'Highest expressed genes in the {sample}', color='in_top_25',\n",
    "      category_orders = {'in_top_25': [True, False]})"
   ]
  },
  {
   "cell_type": "code",
   "execution_count": null,
   "id": "20f8b39d",
   "metadata": {
    "ExecuteTime": {
     "end_time": "2023-05-03T08:24:42.405304Z",
     "start_time": "2023-05-03T08:24:42.330946Z"
    }
   },
   "outputs": [],
   "source": [
    "sample= 'aw137D3'\n",
    "px.bar(sl[sl.sample_id == sample].sort_values(\"TPM\", ascending=False).head(20), x='Name', y='TPM', \n",
    "      title=f'Highest expressed genes in the {sample}', color='in_top_25',\n",
    "      category_orders = {'in_top_25': [True, False]})"
   ]
  },
  {
   "cell_type": "code",
   "execution_count": null,
   "id": "b1960364",
   "metadata": {
    "ExecuteTime": {
     "end_time": "2023-05-03T08:23:28.421152Z",
     "start_time": "2023-05-03T08:23:28.342026Z"
    }
   },
   "outputs": [],
   "source": [
    "sample= 'aw597D1'\n",
    "px.bar(sl[sl.sample_id == sample].sort_values(\"TPM\", ascending=False).head(20), x='Name', y='TPM', \n",
    "      title=f'Highest expressed genes in the {sample}', color='in_top_25',\n",
    "      category_orders = {'in_top_25': [True, False]})"
   ]
  },
  {
   "cell_type": "code",
   "execution_count": null,
   "id": "9ceca987",
   "metadata": {
    "ExecuteTime": {
     "end_time": "2023-05-03T08:25:16.271565Z",
     "start_time": "2023-05-03T08:25:16.173863Z"
    }
   },
   "outputs": [],
   "source": [
    "sample= 'aw143D2'\n",
    "px.bar(sl[sl.sample_id == sample].sort_values(\"TPM\", ascending=False).head(20), x='Name', y='TPM', \n",
    "      title=f'Highest expressed genes in the {sample}', color='in_top_25',\n",
    "      category_orders = {'in_top_25': [True, False]})"
   ]
  },
  {
   "cell_type": "code",
   "execution_count": null,
   "id": "6b8957fd",
   "metadata": {
    "ExecuteTime": {
     "end_time": "2023-05-03T08:24:09.268541Z",
     "start_time": "2023-05-03T08:24:09.197720Z"
    }
   },
   "outputs": [],
   "source": [
    "sample= 'aw933D4'\n",
    "px.bar(sl[sl.sample_id == sample].sort_values(\"TPM\", ascending=False).head(20), x='Name', y='TPM', \n",
    "      title=f'Highest expressed genes in the {sample}', color='in_top_25',\n",
    "      category_orders = {'in_top_25': [True, False]})"
   ]
  },
  {
   "cell_type": "code",
   "execution_count": null,
   "id": "0a1da932",
   "metadata": {
    "ExecuteTime": {
     "end_time": "2023-05-03T07:48:20.882142Z",
     "start_time": "2023-05-03T07:48:20.730622Z"
    }
   },
   "outputs": [],
   "source": [
    "px.bar(top10[top10.Mouse == 'invitro'], x='Name', y='TPM', facet_col='sample_id',\n",
    "      facet_col_wrap=2)"
   ]
  },
  {
   "cell_type": "code",
   "execution_count": null,
   "id": "b0d14960",
   "metadata": {
    "ExecuteTime": {
     "end_time": "2023-05-03T07:54:18.310782Z",
     "start_time": "2023-05-03T07:54:18.307660Z"
    }
   },
   "outputs": [],
   "source": [
    "# px.bar(top10[top10.Mouse == 'LCM'], x='Name', y='TPM', facet_col='sample_id',\n",
    "#       facet_col_wrap=2, height=2000)"
   ]
  },
  {
   "cell_type": "code",
   "execution_count": null,
   "id": "7940fbf6",
   "metadata": {
    "ExecuteTime": {
     "end_time": "2023-05-02T19:27:07.647546Z",
     "start_time": "2023-05-02T19:27:07.455212Z"
    }
   },
   "outputs": [],
   "source": [
    "# Graph total number of reads for each sample, color by treatment\n",
    "px.bar(exp2, x='sam`ple_id', y='read_counts', color='genome', log_y=True)"
   ]
  },
  {
   "cell_type": "code",
   "execution_count": null,
   "id": "5fee6406",
   "metadata": {
    "ExecuteTime": {
     "end_time": "2023-05-25T14:03:27.691086Z",
     "start_time": "2023-05-25T14:03:27.018477Z"
    }
   },
   "outputs": [],
   "source": [
    "summary = pd.read_csv(\"05-05-23-mapping-summary.csv\", index_col=0)"
   ]
  },
  {
   "cell_type": "code",
   "execution_count": null,
   "id": "e157a07c",
   "metadata": {
    "ExecuteTime": {
     "end_time": "2023-05-05T07:46:10.753380Z",
     "start_time": "2023-05-05T07:46:10.742374Z"
    }
   },
   "outputs": [],
   "source": [
    "exp4 = exp3.merge(summary, on='sample_id')"
   ]
  },
  {
   "cell_type": "code",
   "execution_count": null,
   "id": "cc358033",
   "metadata": {
    "ExecuteTime": {
     "end_time": "2023-05-05T07:46:48.913104Z",
     "start_time": "2023-05-05T07:46:48.907651Z"
    }
   },
   "outputs": [],
   "source": [
    "exp4['genome_over_total'] = exp4['read_counts']/exp4['total']*100"
   ]
  },
  {
   "cell_type": "code",
   "execution_count": null,
   "id": "0b0e4da5",
   "metadata": {
    "ExecuteTime": {
     "end_time": "2023-05-05T07:50:03.403457Z",
     "start_time": "2023-05-05T07:50:03.397211Z"
    }
   },
   "outputs": [],
   "source": [
    "o = exp4[exp4.genome == 'SL1344'].sort_values('genome_over_total').sample_id.values"
   ]
  },
  {
   "cell_type": "code",
   "execution_count": null,
   "id": "fe3318f6",
   "metadata": {
    "ExecuteTime": {
     "end_time": "2023-05-05T07:48:32.964533Z",
     "start_time": "2023-05-05T07:48:32.946343Z"
    }
   },
   "outputs": [],
   "source": [
    "exp4[exp4.genome == 'SL1344'].sort_values('genome_over_total')"
   ]
  },
  {
   "cell_type": "code",
   "execution_count": null,
   "id": "339e009a",
   "metadata": {
    "ExecuteTime": {
     "end_time": "2023-05-05T07:50:18.478206Z",
     "start_time": "2023-05-05T07:50:18.407087Z"
    }
   },
   "outputs": [],
   "source": [
    "# D3 and D4 look like they have significantly fewer bacterial reads\n",
    "px.bar(exp3, x='sample_id', y='read_counts', color='genome', log_y=False, category_orders = {'sample_id':o})"
   ]
  },
  {
   "cell_type": "code",
   "execution_count": null,
   "id": "e467c544",
   "metadata": {
    "ExecuteTime": {
     "end_time": "2023-04-26T07:12:43.927698Z",
     "start_time": "2023-04-26T07:12:43.918180Z"
    }
   },
   "outputs": [],
   "source": [
    "exp3.head()"
   ]
  },
  {
   "cell_type": "code",
   "execution_count": null,
   "id": "9b9a537a",
   "metadata": {
    "ExecuteTime": {
     "end_time": "2023-04-26T11:25:40.488563Z",
     "start_time": "2023-04-26T11:25:40.332877Z"
    }
   },
   "outputs": [],
   "source": [
    "df[(df.genome== 'SL1344') & (df.sample_id == 'aw933D4')].sort_values('read_counts', ascending=False).head(50)"
   ]
  },
  {
   "cell_type": "code",
   "execution_count": null,
   "id": "68d620f2",
   "metadata": {
    "ExecuteTime": {
     "end_time": "2023-05-05T07:45:04.521534Z",
     "start_time": "2023-05-05T07:45:04.082806Z"
    }
   },
   "outputs": [],
   "source": [
    "px.box(exp3[exp3.genome == 'SL1344'].sort_values('Treatment'), x='Treatment', y='read_counts', \n",
    "      points='all', hover_data=['sample_id'], height=600, width=600, template='plotly_white')"
   ]
  },
  {
   "cell_type": "code",
   "execution_count": null,
   "id": "ed3e0e1d",
   "metadata": {
    "ExecuteTime": {
     "end_time": "2023-04-26T07:21:54.962062Z",
     "start_time": "2023-04-26T07:21:54.910946Z"
    }
   },
   "outputs": [],
   "source": [
    "px.box(exp3[exp3.genome == 'SL1344'].sort_values('Treatment'), x='Treatment', y='perc_reads', \n",
    "      points='all', hover_data=['sample_id'], height=600, width=600, template='plotly_white')"
   ]
  },
  {
   "cell_type": "code",
   "execution_count": null,
   "id": "4f6af725",
   "metadata": {
    "ExecuteTime": {
     "end_time": "2023-04-26T07:22:53.278344Z",
     "start_time": "2023-04-26T07:22:53.224343Z"
    }
   },
   "outputs": [],
   "source": [
    "px.box(exp3[exp3.genome == 'YL58'].sort_values('Treatment'), x='Treatment', y='perc_reads', \n",
    "      points='all', hover_data=['sample_id'], height=600, width=600, template='plotly_white')"
   ]
  },
  {
   "cell_type": "code",
   "execution_count": null,
   "id": "41072a06",
   "metadata": {
    "ExecuteTime": {
     "end_time": "2023-04-26T07:24:36.376860Z",
     "start_time": "2023-04-26T07:24:36.312798Z"
    }
   },
   "outputs": [],
   "source": [
    "px.bar(exp3[exp3.genome == 'SL1344'].sort_values('read_counts'), x='sample_id', y='read_counts', \n",
    "      color='Treatment')"
   ]
  },
  {
   "cell_type": "code",
   "execution_count": null,
   "id": "80201e6c",
   "metadata": {
    "ExecuteTime": {
     "end_time": "2023-04-26T07:29:52.571703Z",
     "start_time": "2023-04-26T07:29:52.499601Z"
    }
   },
   "outputs": [],
   "source": [
    "px.bar(exp3[exp3.genome == 'SL1344'].sort_values('perc_reads'), x='sample_id', y='perc_reads', \n",
    "      color='Treatment', hover_data=['Treatment', 'read_counts'])"
   ]
  },
  {
   "cell_type": "code",
   "execution_count": null,
   "id": "8b7546ae",
   "metadata": {
    "ExecuteTime": {
     "end_time": "2023-04-26T07:26:34.707594Z",
     "start_time": "2023-04-26T07:26:34.695690Z"
    }
   },
   "outputs": [],
   "source": [
    "exp3.groupby(['genome', 'sample_id']).perc_reads.median()"
   ]
  },
  {
   "cell_type": "code",
   "execution_count": null,
   "id": "8004d187",
   "metadata": {},
   "outputs": [],
   "source": [
    "# saturation curve code..."
   ]
  },
  {
   "cell_type": "code",
   "execution_count": null,
   "id": "ff9c295b",
   "metadata": {
    "ExecuteTime": {
     "end_time": "2023-04-26T07:42:32.988182Z",
     "start_time": "2023-04-26T07:42:32.980602Z"
    }
   },
   "outputs": [],
   "source": [
    "andf = df[~df['product'].isna()]"
   ]
  },
  {
   "cell_type": "code",
   "execution_count": null,
   "id": "582ab2e4",
   "metadata": {
    "ExecuteTime": {
     "end_time": "2023-04-26T07:43:12.184904Z",
     "start_time": "2023-04-26T07:43:10.513324Z"
    }
   },
   "outputs": [],
   "source": [
    "annot = pr.read_gff3(\"ASF_Salmonella.gff\").as_df()"
   ]
  },
  {
   "cell_type": "code",
   "execution_count": null,
   "id": "2fdea25c",
   "metadata": {
    "ExecuteTime": {
     "end_time": "2023-04-26T07:43:45.231570Z",
     "start_time": "2023-04-26T07:43:45.196638Z"
    }
   },
   "outputs": [],
   "source": [
    "annot = annot[~annot['product'].isna()]"
   ]
  },
  {
   "cell_type": "code",
   "execution_count": null,
   "id": "9cf1bc52",
   "metadata": {
    "ExecuteTime": {
     "end_time": "2023-04-26T07:45:12.785993Z",
     "start_time": "2023-04-26T07:45:12.779544Z"
    }
   },
   "outputs": [],
   "source": [
    "annot.columns"
   ]
  },
  {
   "cell_type": "code",
   "execution_count": null,
   "id": "4e2d8816",
   "metadata": {
    "ExecuteTime": {
     "end_time": "2023-04-26T07:46:40.832546Z",
     "start_time": "2023-04-26T07:46:40.777138Z"
    }
   },
   "outputs": [],
   "source": [
    "ribos = annot[annot['product'].str.contains('ribosomal')].locus_tag.dropna().values"
   ]
  },
  {
   "cell_type": "code",
   "execution_count": null,
   "id": "7bee31e6",
   "metadata": {
    "ExecuteTime": {
     "end_time": "2023-04-26T07:46:43.294428Z",
     "start_time": "2023-04-26T07:46:43.285330Z"
    }
   },
   "outputs": [],
   "source": [
    "ribos"
   ]
  },
  {
   "cell_type": "code",
   "execution_count": null,
   "id": "3eb39faa",
   "metadata": {
    "ExecuteTime": {
     "end_time": "2023-04-26T07:46:59.854479Z",
     "start_time": "2023-04-26T07:46:59.761879Z"
    }
   },
   "outputs": [],
   "source": [
    "ribo_df = df[df.locus_tag.isin(ribos)]"
   ]
  },
  {
   "cell_type": "code",
   "execution_count": null,
   "id": "cae308f6",
   "metadata": {
    "ExecuteTime": {
     "end_time": "2023-04-26T07:48:28.652529Z",
     "start_time": "2023-04-26T07:48:28.640093Z"
    }
   },
   "outputs": [],
   "source": [
    "ribo_df = ribo_df.groupby(['sample_id', 'genome']).read_counts.sum().reset_index()\n",
    "ribo_df.columns = ['sample_id', 'genome', 'ribo_counts']"
   ]
  },
  {
   "cell_type": "code",
   "execution_count": null,
   "id": "2421e653",
   "metadata": {
    "ExecuteTime": {
     "end_time": "2023-04-26T07:49:13.876075Z",
     "start_time": "2023-04-26T07:49:13.868722Z"
    }
   },
   "outputs": [],
   "source": [
    "sum_df = sum_df.merge(ribo_df, on=['sample_id', 'genome'])"
   ]
  },
  {
   "cell_type": "code",
   "execution_count": null,
   "id": "33bd7106",
   "metadata": {
    "ExecuteTime": {
     "end_time": "2023-04-26T07:49:48.639638Z",
     "start_time": "2023-04-26T07:49:48.633364Z"
    }
   },
   "outputs": [],
   "source": [
    "sum_df['perc_ribo'] = sum_df['ribo_counts']/sum_df['read_counts']"
   ]
  },
  {
   "cell_type": "code",
   "execution_count": null,
   "id": "934a3811",
   "metadata": {
    "ExecuteTime": {
     "end_time": "2023-04-26T07:49:51.235924Z",
     "start_time": "2023-04-26T07:49:51.218143Z"
    }
   },
   "outputs": [],
   "source": [
    "sum_df"
   ]
  },
  {
   "cell_type": "code",
   "execution_count": null,
   "id": "3cb65b43",
   "metadata": {
    "ExecuteTime": {
     "end_time": "2023-04-26T07:51:36.911133Z",
     "start_time": "2023-04-26T07:51:36.806539Z"
    }
   },
   "outputs": [],
   "source": [
    "px.box(sum_df[sum_df.genome == 'SL1344'], x='Treatment', y='perc_ribo', color='Treatment', \n",
    "      points='all', hover_data=['sample_id'])"
   ]
  },
  {
   "cell_type": "code",
   "execution_count": null,
   "id": "0b31ccc8",
   "metadata": {
    "ExecuteTime": {
     "end_time": "2023-04-26T07:52:12.006325Z",
     "start_time": "2023-04-26T07:52:11.928875Z"
    }
   },
   "outputs": [],
   "source": [
    "px.box(sum_df[sum_df.genome == 'YL58'], x='Treatment', y='perc_ribo', color='Treatment', \n",
    "      points='all', hover_data=['sample_id', ])"
   ]
  },
  {
   "cell_type": "code",
   "execution_count": null,
   "id": "879c1f71",
   "metadata": {
    "ExecuteTime": {
     "end_time": "2023-04-27T09:25:31.645674Z",
     "start_time": "2023-04-27T09:25:31.612804Z"
    }
   },
   "outputs": [],
   "source": [
    "data = \">Rosalind_6404\\n\n",
    "CCTGCGGAAGATCGGCACTAGAATAGCCAGAACCGTTTCTCTGAGGCTTCCGGCCTTCCCTCCCACTAATAATTCTGAGG\\n\n",
    ">Rosalind_5959\\n\n",
    "CCATCGGTAGCGCATCCTTAGTCCAATTAAGTCCCTATCCAGGCGCTCCGCCGAAGGTCTATATCCATTTGTCAGCAGACACGC\\n\n",
    ">Rosalind_0808\\n\n",
    "CCACCCTCGTGGTATGGCTAGGCATTCAGGAACCGGAGAACGCTTCAGACCAGCCCGGACTGGGAACCTGCGGGCAGTAGGTGGAAT\""
   ]
  },
  {
   "cell_type": "code",
   "execution_count": null,
   "id": "d2f36671",
   "metadata": {
    "ExecuteTime": {
     "end_time": "2023-04-27T09:27:10.687538Z",
     "start_time": "2023-04-27T09:27:10.679506Z"
    }
   },
   "outputs": [],
   "source": [
    "data = \"\"\"\n",
    ">Rosalind_6404\n",
    "CCTGCGGAAGATCGGCACTAGAATAGCCAGAACCGTTTCTCTGAGGCTTCCGGCCTTCCCTCCCACTAATAATTCTGAGG\n",
    ">Rosalind_5959\n",
    "CCATCGGTAGCGCATCCTTAGTCCAATTAAGTCCCTATCCAGGCGCTCCGCCGAAGGTCTATATCCATTTGTCAGCAGACACGC\n",
    ">Rosalind_0808\n",
    "CCACCCTCGTGGTATGGCTAGGCATTCAGGAACCGGAGAACGCTTCAGACCAGCCCGGACTGGGAACCTGCGGGCAGTAGGTGGAAT\n",
    "\"\"\"\n",
    "print(data)"
   ]
  },
  {
   "cell_type": "code",
   "execution_count": null,
   "id": "5fa5ad82",
   "metadata": {
    "ExecuteTime": {
     "end_time": "2023-04-27T09:26:59.772239Z",
     "start_time": "2023-04-27T09:26:59.765822Z"
    }
   },
   "outputs": [],
   "source": []
  },
  {
   "cell_type": "code",
   "execution_count": null,
   "id": "4f8861f0",
   "metadata": {
    "ExecuteTime": {
     "end_time": "2023-05-04T14:05:12.031294Z",
     "start_time": "2023-05-04T14:05:11.981461Z"
    }
   },
   "outputs": [],
   "source": [
    "a = [\"GATTACA\", \n",
    "\"TACTACTAC\",\n",
    "\"ATTGAT\",\n",
    "\"GAAGA\"]"
   ]
  },
  {
   "cell_type": "code",
   "execution_count": null,
   "id": "a4896065",
   "metadata": {
    "ExecuteTime": {
     "end_time": "2023-05-04T14:05:26.272569Z",
     "start_time": "2023-05-04T14:05:26.261931Z"
    }
   },
   "outputs": [],
   "source": [
    "len(\"\".join(a))"
   ]
  },
  {
   "cell_type": "code",
   "execution_count": null,
   "id": "e38e9827",
   "metadata": {
    "ExecuteTime": {
     "end_time": "2023-05-04T14:07:05.305461Z",
     "start_time": "2023-05-04T14:07:05.295786Z"
    }
   },
   "outputs": [],
   "source": [
    "from collections import Counter"
   ]
  },
  {
   "cell_type": "code",
   "execution_count": null,
   "id": "ccc4bd30",
   "metadata": {
    "ExecuteTime": {
     "end_time": "2023-05-04T14:07:26.972435Z",
     "start_time": "2023-05-04T14:07:26.965372Z"
    }
   },
   "outputs": [],
   "source": [
    "b = Counter({s:len(s) for s in a})\n",
    "b.most_common()"
   ]
  },
  {
   "cell_type": "code",
   "execution_count": null,
   "id": "720361d9",
   "metadata": {
    "ExecuteTime": {
     "end_time": "2023-05-04T14:12:12.905036Z",
     "start_time": "2023-05-04T14:12:12.898235Z"
    }
   },
   "outputs": [],
   "source": [
    "t = 0\n",
    "for s,l in b.most_common():\n",
    "    t+=l\n",
    "    if t < 27*.75:\n",
    "        continue\n",
    "    else:\n",
    "        print(l)\n",
    "        break"
   ]
  },
  {
   "cell_type": "code",
   "execution_count": null,
   "id": "ec192bd4",
   "metadata": {
    "ExecuteTime": {
     "end_time": "2023-05-04T14:09:17.512860Z",
     "start_time": "2023-05-04T14:09:17.506620Z"
    }
   },
   "outputs": [],
   "source": [
    "27//2"
   ]
  },
  {
   "cell_type": "code",
   "execution_count": null,
   "id": "d1b66e5c",
   "metadata": {
    "ExecuteTime": {
     "end_time": "2023-05-04T14:09:23.599684Z",
     "start_time": "2023-05-04T14:09:23.588437Z"
    }
   },
   "outputs": [],
   "source": [
    "27/2"
   ]
  },
  {
   "cell_type": "code",
   "execution_count": null,
   "id": "87b33908",
   "metadata": {},
   "outputs": [],
   "source": []
  }
 ],
 "metadata": {
  "kernelspec": {
   "display_name": "Python 3 (ipykernel)",
   "language": "python",
   "name": "python3"
  },
  "language_info": {
   "codemirror_mode": {
    "name": "ipython",
    "version": 3
   },
   "file_extension": ".py",
   "mimetype": "text/x-python",
   "name": "python",
   "nbconvert_exporter": "python",
   "pygments_lexer": "ipython3",
   "version": "3.8.12"
  },
  "toc": {
   "base_numbering": 1,
   "nav_menu": {},
   "number_sections": true,
   "sideBar": true,
   "skip_h1_title": false,
   "title_cell": "Table of Contents",
   "title_sidebar": "Contents",
   "toc_cell": false,
   "toc_position": {},
   "toc_section_display": true,
   "toc_window_display": false
  }
 },
 "nbformat": 4,
 "nbformat_minor": 5
}
