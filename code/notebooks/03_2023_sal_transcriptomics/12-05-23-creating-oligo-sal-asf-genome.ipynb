{
 "cells": [
  {
   "cell_type": "code",
   "execution_count": null,
   "metadata": {
    "ExecuteTime": {
     "end_time": "2023-05-12T12:26:37.896332Z",
     "start_time": "2023-05-12T12:26:36.631717Z"
    }
   },
   "outputs": [],
   "source": [
    "import pandas as pd\n",
    "from pathlib import Path"
   ]
  },
  {
   "cell_type": "code",
   "execution_count": null,
   "metadata": {
    "ExecuteTime": {
     "end_time": "2023-05-12T12:56:16.364637Z",
     "start_time": "2023-05-12T12:56:16.341847Z"
    }
   },
   "outputs": [],
   "source": [
    "genome_dir = Path(\"/nfs/nas22/fs2202/biol_micro_sunagawa/Projects/PAN/REFERENCE_GENOMES_PAN/data/raw\")"
   ]
  },
  {
   "cell_type": "code",
   "execution_count": null,
   "metadata": {
    "ExecuteTime": {
     "end_time": "2023-07-18T13:45:18.831917Z",
     "start_time": "2023-07-18T13:45:18.821355Z"
    }
   },
   "outputs": [],
   "source": [
    "genome_dict = {\"YL32\": (\"OligoMM12\", \"CP015399\", \".2\"),\n",
    "               \"KB18\": (\"OligoMM12\", \"CP015400\", \".2\"),\n",
    "               \"I48\": (\"OligoMM12\", \"CP015401\", \".2\"),\n",
    "               \"YL27\": (\"OligoMM12\", \"CP015402\", \".2\"),\n",
    "               \"YL45\": (\"OligoMM12\", \"CP015403\", \".2\"),\n",
    "               \"I46\": (\"OligoMM12\", \"CP015404\", \".2\"),\n",
    "               \"YL58\": (\"OligoMM12\", \"CP015405\", \".2\"),\n",
    "               \"YL31\": (\"OligoMM12\", \"CP015406\", \".2\"),\n",
    "               \"YL2\": (\"OligoMM12\", \"CP015407\", \".2\"),\n",
    "               \"I49\": (\"OligoMM12\", \"CP015408\", \".2\"),\n",
    "               \"YL44\": (\"OligoMM12\", \"CP015409\", \".2\"),\n",
    "               \"KB1\": (\"OligoMM12\", \"CP015410\", \".2\"),\n",
    "               \"ASF519\": (\"LCM\", \"GCF_000364265\", \".2\"),\n",
    "               \"SL1344\": (\"Salmonella\", \"GCA_000210855\", \".2\")}\n",
    "accession_to_name ={}\n",
    "for k, v in genome_dict.items():\n",
    "\n",
    "    accession_to_name[v[1]]=  k"
   ]
  },
  {
   "cell_type": "code",
   "execution_count": null,
   "metadata": {
    "ExecuteTime": {
     "end_time": "2023-07-18T13:45:19.806255Z",
     "start_time": "2023-07-18T13:45:19.788113Z"
    }
   },
   "outputs": [],
   "source": [
    "accession_to_name"
   ]
  },
  {
   "cell_type": "code",
   "execution_count": null,
   "metadata": {
    "ExecuteTime": {
     "end_time": "2023-05-12T13:17:41.386259Z",
     "start_time": "2023-05-12T13:17:41.288984Z"
    }
   },
   "outputs": [],
   "source": [
    "all_genomes = list(genome_dir.rglob(\"*genome.fasta\")) + list(genome_dir.rglob(\"*.fna*\"))\n",
    "genomes = [str(f) for f in all_genomes if any([a in f.stem for a in accession_to_name.keys()])]\n",
    "\n",
    "all_annotations = list(genome_dir.rglob(\"*.gff*\"))\n",
    "annotations = [str(f) for f in all_annotations if any([a in f.stem for a in accession_to_name.keys()])]"
   ]
  },
  {
   "cell_type": "code",
   "execution_count": null,
   "metadata": {
    "ExecuteTime": {
     "end_time": "2023-05-12T13:17:42.942031Z",
     "start_time": "2023-05-12T13:17:42.934094Z"
    }
   },
   "outputs": [],
   "source": [
    "len(genomes)"
   ]
  },
  {
   "cell_type": "code",
   "execution_count": null,
   "metadata": {
    "ExecuteTime": {
     "end_time": "2023-05-12T13:17:43.595432Z",
     "start_time": "2023-05-12T13:17:43.587866Z"
    }
   },
   "outputs": [],
   "source": [
    "len(annotations)"
   ]
  },
  {
   "cell_type": "code",
   "execution_count": null,
   "metadata": {
    "ExecuteTime": {
     "end_time": "2023-05-12T13:15:27.243736Z",
     "start_time": "2023-05-12T13:15:27.238320Z"
    }
   },
   "outputs": [],
   "source": [
    "cmmd1 = \"cat \" + \" \".join(genomes) + \" > /nfs/nas22/fs2202/biol_micro_bioinf_nccr/hardt/nguyenb/tnseq/scratch/03_23_transcriptomics/ref/12-05-23-Oligo-LCM-Sal.fna\""
   ]
  },
  {
   "cell_type": "code",
   "execution_count": null,
   "metadata": {
    "ExecuteTime": {
     "end_time": "2023-05-12T13:15:30.938657Z",
     "start_time": "2023-05-12T13:15:30.931370Z"
    }
   },
   "outputs": [],
   "source": [
    "cmmd1"
   ]
  },
  {
   "cell_type": "code",
   "execution_count": null,
   "metadata": {
    "ExecuteTime": {
     "end_time": "2023-05-12T13:17:05.341337Z",
     "start_time": "2023-05-12T13:17:04.133846Z"
    }
   },
   "outputs": [],
   "source": [
    "import subprocess\n",
    "subprocess.run(cmmd1, shell=True)"
   ]
  },
  {
   "cell_type": "code",
   "execution_count": null,
   "metadata": {
    "ExecuteTime": {
     "end_time": "2023-05-12T13:18:26.615464Z",
     "start_time": "2023-05-12T13:18:26.609658Z"
    }
   },
   "outputs": [],
   "source": [
    "cmmd2 = \"cat \" + \" \".join(annotations) + \" > /nfs/nas22/fs2202/biol_micro_bioinf_nccr/hardt/nguyenb/tnseq/scratch/03_23_transcriptomics/ref/12-05-23-Oligo-LCM-Sal.gff\"\n",
    "\n"
   ]
  },
  {
   "cell_type": "code",
   "execution_count": null,
   "metadata": {
    "ExecuteTime": {
     "end_time": "2023-05-12T13:18:28.614185Z",
     "start_time": "2023-05-12T13:18:28.607073Z"
    }
   },
   "outputs": [],
   "source": [
    "cmmd2"
   ]
  },
  {
   "cell_type": "code",
   "execution_count": null,
   "metadata": {
    "ExecuteTime": {
     "end_time": "2023-05-12T13:18:41.437200Z",
     "start_time": "2023-05-12T13:18:41.116732Z"
    }
   },
   "outputs": [],
   "source": [
    "subprocess.run(cmmd2, shell=True)"
   ]
  },
  {
   "cell_type": "code",
   "execution_count": null,
   "metadata": {},
   "outputs": [],
   "source": [
    "# sed 's/ID=/gene_id /g' 12-05-23-Oligo-LCM-Sal.gff > 12-05-23-Oligo-LCM-Sal.gtf"
   ]
  }
 ],
 "metadata": {
  "kernelspec": {
   "display_name": "Python 3 (ipykernel)",
   "language": "python",
   "name": "python3"
  },
  "language_info": {
   "codemirror_mode": {
    "name": "ipython",
    "version": 3
   },
   "file_extension": ".py",
   "mimetype": "text/x-python",
   "name": "python",
   "nbconvert_exporter": "python",
   "pygments_lexer": "ipython3",
   "version": "3.8.12"
  },
  "toc": {
   "base_numbering": 1,
   "nav_menu": {},
   "number_sections": true,
   "sideBar": true,
   "skip_h1_title": false,
   "title_cell": "Table of Contents",
   "title_sidebar": "Contents",
   "toc_cell": false,
   "toc_position": {},
   "toc_section_display": true,
   "toc_window_display": false
  }
 },
 "nbformat": 4,
 "nbformat_minor": 4
}
