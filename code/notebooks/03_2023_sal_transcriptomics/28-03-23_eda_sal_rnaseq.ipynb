{
 "cells": [
  {
   "cell_type": "code",
   "execution_count": null,
   "metadata": {
    "ExecuteTime": {
     "end_time": "2023-04-25T11:59:42.063244Z",
     "start_time": "2023-04-25T11:59:23.348787Z"
    }
   },
   "outputs": [],
   "source": [
    "# %load ../snippets/plotly_settings.py\n",
    "from datetime import date\n",
    "import pandas as pd\n",
    "import numpy as np\n",
    "import matplotlib.pyplot as plt\n",
    "import os\n",
    "from pathlib import Path\n",
    "import seaborn as sns\n",
    "import sys\n",
    "import plotly.express as px\n",
    "import plotly.io as pio\n",
    "import yaml\n",
    "import re\n",
    "\n",
    "sns.set_context(\"notebook\", font_scale=1.4)\n",
    "pd.set_option(\"display.max_columns\", 100)\n",
    "pd.set_option(\"display.max_rows\", 100)\n",
    "plt.rcParams[\"figure.figsize\"] = (16, 12)\n",
    "plt.rcParams['savefig.dpi'] = 200\n",
    "plt.rcParams['figure.autolayout'] = False\n",
    "plt.rcParams['axes.labelsize'] = 18\n",
    "plt.rcParams['axes.titlesize'] = 20\n",
    "plt.rcParams['font.size'] = 16\n",
    "plt.rcParams['lines.linewidth'] = 2.0\n",
    "plt.rcParams['lines.markersize'] = 8\n",
    "plt.rcParams['legend.fontsize'] = 14\n",
    "pd.set_option('display.float_format', lambda x: '{:,.4f}'.format(x))\n",
    "\n",
    "\n",
    "sushi_colors = {'red': '#C0504D',\n",
    "             'orange': '#F79646',\n",
    "             'medSea': '#4BACC6', \n",
    "             'black': '#000000',\n",
    "             'dgreen': '#00B04E',\n",
    "             'lgreen': '#92D050',\n",
    "             'dblue': '#366092',\n",
    "             'lblue': '#95B3D7'}\n",
    "\n",
    "today = date.today().strftime(\"%d-%m-%y\")"
   ]
  },
  {
   "cell_type": "code",
   "execution_count": null,
   "metadata": {
    "ExecuteTime": {
     "end_time": "2023-04-25T11:59:42.070642Z",
     "start_time": "2023-04-25T11:59:42.066563Z"
    }
   },
   "outputs": [],
   "source": [
    "root = Path(\"/nfs/nas22/fs2202/biol_micro_bioinf_nccr/hardt/nguyenb/tnseq/scratch/03_23_transcriptomics\")"
   ]
  },
  {
   "cell_type": "markdown",
   "metadata": {
    "ExecuteTime": {
     "end_time": "2023-04-12T14:49:13.879647Z",
     "start_time": "2023-04-12T14:49:13.876992Z"
    }
   },
   "source": [
    "# Mapped to mouse rRNA"
   ]
  },
  {
   "cell_type": "code",
   "execution_count": null,
   "metadata": {
    "ExecuteTime": {
     "end_time": "2023-04-25T14:20:27.832318Z",
     "start_time": "2023-04-25T14:20:27.826979Z"
    }
   },
   "outputs": [],
   "source": [
    "ssu_flagstat_dir = Path(\"/nfs/nas22/fs2202/biol_micro_bioinf_nccr/hardt/nguyenb/tnseq/scratch/03_23_transcriptomics/mouse_rrna_bwa\")\n",
    "lsu_flagstat_dir = Path(\"/nfs/nas22/fs2202/biol_micro_bioinf_nccr/hardt/nguyenb/tnseq/scratch/03_23_transcriptomics/mouse_lsu_rrna_bwa\")\n",
    "ssu_stats = ssu_flagstat_dir/\"mouse_ssu_rrna.flagstats\"\n",
    "lsu_stats = lsu_flagstat_dir/\"mouse_lsu_rrna.flagstat\""
   ]
  },
  {
   "cell_type": "code",
   "execution_count": null,
   "metadata": {
    "ExecuteTime": {
     "end_time": "2023-04-25T14:20:28.935706Z",
     "start_time": "2023-04-25T14:20:28.923754Z"
    },
    "code_folding": [
     0
    ]
   },
   "outputs": [],
   "source": [
    "def process_flagstat_file(file, prefix = ''):\n",
    "    samples = []\n",
    "    total = []\n",
    "    mapped = []\n",
    "    paired = []\n",
    "    with open(file, 'r') as fh:\n",
    "        for line in fh.readlines():\n",
    "\n",
    "            if re.search('^[A-Z]|^[a-z]', line):\n",
    "                samples.append(line.split(\"/\")[0])\n",
    "            if 'total' in line:\n",
    "                total.append(int(line.split()[0]))\n",
    "            if 'mapped (' in line:\n",
    "                mapped.append(int(line.split()[0]))\n",
    "            if 'properly paired' in line:\n",
    "                paired.append(int(line.split()[0]))\n",
    "    df = pd.DataFrame([samples, total, mapped, paired],\n",
    "                     index = ['sample_id', 'total', 'mapped', 'paired']).T\n",
    "    df['%mapped'] = df['mapped']/df['total']*100\n",
    "    return df"
   ]
  },
  {
   "cell_type": "code",
   "execution_count": null,
   "metadata": {
    "ExecuteTime": {
     "end_time": "2023-04-25T14:20:29.632252Z",
     "start_time": "2023-04-25T14:20:29.495168Z"
    }
   },
   "outputs": [],
   "source": [
    "ssu_df = process_flagstat_file(ssu_stats)\n",
    "lsu_df = process_flagstat_file(lsu_stats)"
   ]
  },
  {
   "cell_type": "code",
   "execution_count": null,
   "metadata": {
    "ExecuteTime": {
     "end_time": "2023-04-25T14:20:30.841749Z",
     "start_time": "2023-04-25T14:20:30.748874Z"
    }
   },
   "outputs": [],
   "source": [
    "ssu_df.sort_values('%mapped', ascending=False).to_csv(root/'13-04-23_salmonella_mapped_to_mouse_rrna.csv', index=False)\n"
   ]
  },
  {
   "cell_type": "code",
   "execution_count": null,
   "metadata": {
    "ExecuteTime": {
     "end_time": "2023-04-25T14:21:38.784948Z",
     "start_time": "2023-04-25T14:21:38.762715Z"
    }
   },
   "outputs": [],
   "source": [
    "lsu_df\n",
    "%store lsu_df"
   ]
  },
  {
   "cell_type": "code",
   "execution_count": null,
   "metadata": {
    "ExecuteTime": {
     "end_time": "2023-04-13T14:43:20.144052Z",
     "start_time": "2023-04-13T14:43:20.126530Z"
    }
   },
   "outputs": [],
   "source": [
    "ssu_df.sort_values('%mapped', ascending=False)"
   ]
  },
  {
   "cell_type": "code",
   "execution_count": null,
   "metadata": {},
   "outputs": [],
   "source": [
    "import re\n",
    "def parse_flagstat(filename):\n",
    "    samples = []\n",
    "    totals = []\n",
    "    mapped = []\n",
    "    proper = []\n",
    "    with open(filename, 'r') as fh:\n",
    "        for line in fh.readlines():\n",
    "            if re.match(r'^[a-zA-Z]', line):\n",
    "                samples.append(line.strip())\n",
    "            elif 'total' in line:\n",
    "                totals.append(line.split(\"+\")[0].strip())\n",
    "            elif 'mapped (' in line:\n",
    "                mapped.append(line.split(\"+\")[0].strip())\n",
    "            elif 'properly' in line:\n",
    "                proper.append(line.split(\"+\")[0].strip())\n",
    "    return pd.DataFrame([samples, totals, mapped, proper], index=['samples', 'totals', 'mapped', 'mapped_paired']).T\n",
    "\n",
    "\n",
    "df = parse_flagstat(root/'mouse_rrna_bwa/mouse_rrna.flagstats')\n",
    "df = df.set_index('samples')\n",
    "df = df.astype(int)/2/1e6\n",
    "df"
   ]
  },
  {
   "cell_type": "markdown",
   "metadata": {},
   "source": [
    "# ASF counts "
   ]
  },
  {
   "cell_type": "code",
   "execution_count": null,
   "metadata": {
    "ExecuteTime": {
     "end_time": "2023-04-14T11:26:33.161600Z",
     "start_time": "2023-04-14T11:26:33.154772Z"
    }
   },
   "outputs": [],
   "source": [
    "asf_strains = ['ASF519', 'YL31', 'YL58', 'SL1344_asf', 'YL32', 'dsm755']\n",
    "\n",
    "\n",
    "\n",
    "# Load all of the count files\n",
    "\n",
    "def load_htseq(strain):\n",
    "    count_suffix = '_htseqcount'\n",
    "    dir_name = root/(strain+count_suffix)\n",
    "    files = dir_name.rglob(\"*htseqcount.txt\")\n",
    "    \n",
    "    df = pd.concat([(pd.read_table(f, header=None, names=['Name', 'count'])\n",
    "                     .assign(sample_id = f.stem.split('.')[0])) for f in files])\n",
    "    df['strain'] = strain\n",
    "    return df"
   ]
  },
  {
   "cell_type": "code",
   "execution_count": null,
   "metadata": {
    "ExecuteTime": {
     "end_time": "2023-04-14T11:26:33.607690Z",
     "start_time": "2023-04-14T11:26:33.593002Z"
    }
   },
   "outputs": [],
   "source": [
    "def get_stats(counts_df, prefix=''):   \n",
    "    mapped = f'{prefix}_mapped' if prefix else 'mapped'\n",
    "    no_feat = f'{prefix}_no_feature' if prefix else 'no_feature'\n",
    "    to_feat = f'{prefix}_to_feature' if prefix else 'to_feature'\n",
    "    amb = f'{prefix}_ambiguous' if prefix else 'ambiguous'\n",
    "    feat = (counts_df[~counts_df.Name.str.contains(\"__\")]\n",
    "            .groupby(['strain', 'sample_id'])\n",
    "            .sum()\n",
    "            .rename({'count':to_feat}, axis=1)\n",
    "            .reset_index())\n",
    "    feat[to_feat] = feat[to_feat]/1e6\n",
    "    stats_df = counts_df[counts_df.Name.str.contains(\"__\")]\n",
    "    stats_df = stats_df.pivot(index=['strain', 'sample_id'], columns='Name')\n",
    "    stats_df = stats_df/1e6\n",
    "    colnames = [c[1].strip('_') for c in stats_df.columns]\n",
    "    if prefix:\n",
    "        colnames = [f\"{prefix}_{c}\" for c in colnames]\n",
    "    stats_df.columns = colnames\n",
    "    stats_df = stats_df.reset_index()\n",
    "    stats_df = stats_df.merge(feat, on=['strain', 'sample_id'])\n",
    "    stats_df[mapped] = stats_df[no_feat] + stats_df[to_feat] + stats_df[amb]\n",
    "    total = [c for c in stats_df.columns if 'feature' not in c]\n",
    "    stats_df['total'] = stats_df[total].sum(axis=1, numeric_only=True)\n",
    "    return stats_df"
   ]
  },
  {
   "cell_type": "code",
   "execution_count": null,
   "metadata": {
    "ExecuteTime": {
     "end_time": "2023-04-14T11:26:37.674425Z",
     "start_time": "2023-04-14T11:26:34.178787Z"
    }
   },
   "outputs": [],
   "source": [
    "all_strains = []\n",
    "for s in asf_strains:\n",
    "    df = load_htseq(s)\n",
    "    all_strains.append(df)\n",
    "asf_df = pd.concat(all_strains)"
   ]
  },
  {
   "cell_type": "code",
   "execution_count": null,
   "metadata": {
    "ExecuteTime": {
     "end_time": "2023-04-14T11:28:10.996732Z",
     "start_time": "2023-04-14T11:28:10.991702Z"
    }
   },
   "outputs": [],
   "source": [
    "stats_df.sample_id.unique()"
   ]
  },
  {
   "cell_type": "code",
   "execution_count": null,
   "metadata": {
    "ExecuteTime": {
     "end_time": "2023-04-14T11:26:38.999379Z",
     "start_time": "2023-04-14T11:26:37.678253Z"
    }
   },
   "outputs": [],
   "source": [
    "stats_df = get_stats(asf_df)"
   ]
  },
  {
   "cell_type": "code",
   "execution_count": null,
   "metadata": {
    "ExecuteTime": {
     "end_time": "2023-04-14T11:34:30.876707Z",
     "start_time": "2023-04-14T11:34:30.862647Z"
    }
   },
   "outputs": [],
   "source": [
    "stats_df[stats_df.sample_id == 'ae132D1']"
   ]
  },
  {
   "cell_type": "code",
   "execution_count": null,
   "metadata": {
    "ExecuteTime": {
     "end_time": "2023-04-14T11:33:58.701383Z",
     "start_time": "2023-04-14T11:33:58.684589Z"
    }
   },
   "outputs": [],
   "source": [
    "stats_df[stats_df.strain == 'YL32']"
   ]
  },
  {
   "cell_type": "code",
   "execution_count": null,
   "metadata": {
    "ExecuteTime": {
     "end_time": "2023-03-31T14:21:45.123285Z",
     "start_time": "2023-03-31T14:21:45.117201Z"
    }
   },
   "outputs": [],
   "source": [
    "sal_alone_dir = root/'sal_only'\n",
    "sal_metaflye_dir = root/'sal_metaflye'\n",
    "sal_asf_dir = root/'sal_asf'\n",
    "bwa_dir = 'bwa'\n",
    "count_dir = 'htseqcount'"
   ]
  },
  {
   "cell_type": "markdown",
   "metadata": {},
   "source": [
    "# Salmonella alone, looking at # aligned to genes"
   ]
  },
  {
   "cell_type": "code",
   "execution_count": null,
   "metadata": {
    "ExecuteTime": {
     "end_time": "2023-03-31T14:22:32.054697Z",
     "start_time": "2023-03-31T14:22:31.809016Z"
    }
   },
   "outputs": [],
   "source": [
    "sal_counts = load_htseq(sal_alone_dir/count_dir)\n",
    "sal_counts_long = sal_counts.pivot(index='Name', columns='sample_id')\n",
    "sal_counts_long.columns = [s[1] for s in sal_counts_long]\n",
    "sal_counts_long = sal_counts_long.reset_index()\n",
    "sal_counts_long = sal_counts_long[~sal_counts_long.Name.str.contains('__')]\n",
    "sal_alone_summary = sal_counts_long.sum(numeric_only=True)"
   ]
  },
  {
   "cell_type": "code",
   "execution_count": null,
   "metadata": {
    "ExecuteTime": {
     "end_time": "2023-03-31T14:58:01.539581Z",
     "start_time": "2023-03-31T14:58:01.524162Z"
    }
   },
   "outputs": [],
   "source": []
  },
  {
   "cell_type": "code",
   "execution_count": null,
   "metadata": {
    "ExecuteTime": {
     "end_time": "2023-03-31T14:35:10.169199Z",
     "start_time": "2023-03-31T14:35:10.028635Z"
    }
   },
   "outputs": [],
   "source": [
    "stats_df = get_stats(sal_counts)\n",
    "stats_df"
   ]
  },
  {
   "cell_type": "markdown",
   "metadata": {
    "ExecuteTime": {
     "end_time": "2023-03-28T08:06:34.315394Z",
     "start_time": "2023-03-28T08:06:34.307249Z"
    }
   },
   "source": [
    "# Salmonella + metaflye "
   ]
  },
  {
   "cell_type": "code",
   "execution_count": null,
   "metadata": {
    "ExecuteTime": {
     "end_time": "2023-03-31T14:36:13.103668Z",
     "start_time": "2023-03-31T14:36:11.607758Z"
    }
   },
   "outputs": [],
   "source": [
    "flye_counts = load_htseq(sal_metaflye_dir/count_dir)\n",
    "# sal_counts_long = sal_counts.pivot(index='Name', columns='sample_id')\n",
    "# sal_counts_long.columns = [s[1] for s in sal_counts_long]\n",
    "# sal_counts_long = sal_counts_long.reset_index()\n",
    "# sal_counts_long = sal_counts_long[~sal_counts_long.Name.str.contains('__')]\n",
    "# sal_flye_summary = sal_counts_long.sum(numeric_only=True)"
   ]
  },
  {
   "cell_type": "code",
   "execution_count": null,
   "metadata": {
    "ExecuteTime": {
     "end_time": "2023-03-31T14:36:37.711775Z",
     "start_time": "2023-03-31T14:36:37.534669Z"
    }
   },
   "outputs": [],
   "source": [
    "flye_stats = get_stats(flye_counts)"
   ]
  },
  {
   "cell_type": "code",
   "execution_count": null,
   "metadata": {
    "ExecuteTime": {
     "end_time": "2023-03-31T14:36:43.253550Z",
     "start_time": "2023-03-31T14:36:43.234327Z"
    }
   },
   "outputs": [],
   "source": [
    "flye_stats"
   ]
  },
  {
   "cell_type": "markdown",
   "metadata": {
    "ExecuteTime": {
     "end_time": "2023-03-29T12:53:28.613422Z",
     "start_time": "2023-03-29T12:53:28.608152Z"
    }
   },
   "source": [
    "# Sal + ASF"
   ]
  },
  {
   "cell_type": "code",
   "execution_count": null,
   "metadata": {
    "ExecuteTime": {
     "end_time": "2023-03-31T14:37:21.553619Z",
     "start_time": "2023-03-31T14:37:20.704539Z"
    }
   },
   "outputs": [],
   "source": [
    "asf_counts = load_htseq(sal_asf_dir/count_dir)\n",
    "# sal_counts_long = sal_counts.pivot(index='Name', columns='sample_id')\n",
    "# sal_counts_long.columns = [s[1] for s in sal_counts_long]\n",
    "# sal_counts_long = sal_counts_long.reset_index()\n",
    "# sal_counts_long = sal_counts_long[~sal_counts_long.Name.str.contains('__')]\n",
    "# sal_asf_summary = sal_counts_long.sum(numeric_only=True)"
   ]
  },
  {
   "cell_type": "code",
   "execution_count": null,
   "metadata": {
    "ExecuteTime": {
     "end_time": "2023-03-31T14:58:06.305997Z",
     "start_time": "2023-03-31T14:58:05.844723Z"
    }
   },
   "outputs": [],
   "source": [
    "yl32_counts = load_htseq(yl32_dir)\n",
    "yl32_stats = get_stats(yl32_counts, 'yl32')"
   ]
  },
  {
   "cell_type": "code",
   "execution_count": null,
   "metadata": {
    "ExecuteTime": {
     "end_time": "2023-03-31T15:01:04.456200Z",
     "start_time": "2023-03-31T15:01:04.141101Z"
    }
   },
   "outputs": [],
   "source": [
    "yl58_counts = load_htseq(yl58_dir)\n",
    "yl58_stats = get_stats(yl58_counts, 'yl58')"
   ]
  },
  {
   "cell_type": "code",
   "execution_count": null,
   "metadata": {
    "ExecuteTime": {
     "end_time": "2023-03-31T15:01:18.413207Z",
     "start_time": "2023-03-31T15:01:16.765447Z"
    }
   },
   "outputs": [],
   "source": [
    "asf519_counts = load_htseq(asf519_dir)\n",
    "asf519_stats = get_stats(asf519_counts, 'asf519')"
   ]
  },
  {
   "cell_type": "code",
   "execution_count": null,
   "metadata": {
    "ExecuteTime": {
     "end_time": "2023-03-31T15:23:47.467037Z",
     "start_time": "2023-03-31T15:23:47.450576Z"
    }
   },
   "outputs": [],
   "source": [
    "asf519_stats[asf519_stats['asf519_mapped'] < 3]"
   ]
  },
  {
   "cell_type": "code",
   "execution_count": null,
   "metadata": {
    "ExecuteTime": {
     "end_time": "2023-03-31T14:58:09.692912Z",
     "start_time": "2023-03-31T14:58:09.673151Z"
    }
   },
   "outputs": [],
   "source": [
    "yl32_stats"
   ]
  },
  {
   "cell_type": "code",
   "execution_count": null,
   "metadata": {
    "ExecuteTime": {
     "end_time": "2023-03-31T14:58:12.756490Z",
     "start_time": "2023-03-31T14:58:12.736832Z"
    }
   },
   "outputs": [],
   "source": [
    "yl58_stats"
   ]
  },
  {
   "cell_type": "code",
   "execution_count": null,
   "metadata": {
    "ExecuteTime": {
     "end_time": "2023-03-30T12:44:46.209628Z",
     "start_time": "2023-03-30T12:44:46.102409Z"
    }
   },
   "outputs": [],
   "source": [
    "df4 = pd.DataFrame(sal_asf_summary).reset_index()\n",
    "df4.columns = ['sample_id', 'feature']\n",
    "df5 = df4.merge(sal_counts[sal_counts['Name'].str.contains('__no_')].sort_values('count'), on='sample_id')"
   ]
  },
  {
   "cell_type": "code",
   "execution_count": null,
   "metadata": {
    "ExecuteTime": {
     "end_time": "2023-03-30T12:44:46.473201Z",
     "start_time": "2023-03-30T12:44:46.464717Z"
    }
   },
   "outputs": [],
   "source": [
    "df5['mapped'] = (df5['feature'] + df5['count'])/1000000"
   ]
  },
  {
   "cell_type": "code",
   "execution_count": null,
   "metadata": {
    "ExecuteTime": {
     "end_time": "2023-03-30T12:44:46.983786Z",
     "start_time": "2023-03-30T12:44:46.960007Z"
    }
   },
   "outputs": [],
   "source": [
    "df5"
   ]
  },
  {
   "cell_type": "code",
   "execution_count": null,
   "metadata": {},
   "outputs": [],
   "source": [
    "aw9332D4 aw9332D4 aw138D3 aw141D3 aw135D4"
   ]
  },
  {
   "cell_type": "code",
   "execution_count": null,
   "metadata": {},
   "outputs": [],
   "source": [
    "653 651\n"
   ]
  },
  {
   "cell_type": "code",
   "execution_count": null,
   "metadata": {
    "ExecuteTime": {
     "end_time": "2023-03-30T12:44:51.463863Z",
     "start_time": "2023-03-30T12:44:51.350289Z"
    }
   },
   "outputs": [],
   "source": [
    "not_aligned = sal_counts[(sal_counts.Name.str.contains(\"__not\"))].copy()\n",
    "not_aligned['unmapped'] = not_aligned['count']/1e6"
   ]
  },
  {
   "cell_type": "code",
   "execution_count": null,
   "metadata": {
    "ExecuteTime": {
     "end_time": "2023-03-30T12:44:51.632934Z",
     "start_time": "2023-03-30T12:44:51.623099Z"
    }
   },
   "outputs": [],
   "source": [
    "fdf = not_aligned.merge(df5, on='sample_id')[['sample_id', 'mapped', 'unmapped']]\n",
    "fdf['total'] = fdf['mapped'] + fdf['unmapped']"
   ]
  },
  {
   "cell_type": "code",
   "execution_count": null,
   "metadata": {
    "ExecuteTime": {
     "end_time": "2023-03-30T12:44:52.312734Z",
     "start_time": "2023-03-30T12:44:52.167686Z"
    }
   },
   "outputs": [],
   "source": [
    "sal_counts[(sal_counts.sample_id=='AU651') &(sal_counts.Name.str.contains(\"__\"))]"
   ]
  },
  {
   "cell_type": "code",
   "execution_count": null,
   "metadata": {
    "ExecuteTime": {
     "end_time": "2023-03-30T12:44:53.210251Z",
     "start_time": "2023-03-30T12:44:53.193797Z"
    }
   },
   "outputs": [],
   "source": [
    "fdf.sort_values('unmapped', ascending=False)\n"
   ]
  },
  {
   "cell_type": "code",
   "execution_count": null,
   "metadata": {
    "ExecuteTime": {
     "end_time": "2023-03-29T13:50:21.716285Z",
     "start_time": "2023-03-29T13:50:21.710425Z"
    }
   },
   "outputs": [],
   "source": [
    "fdf[fdf.mapped < 10].shape"
   ]
  },
  {
   "cell_type": "code",
   "execution_count": null,
   "metadata": {},
   "outputs": [],
   "source": []
  }
 ],
 "metadata": {
  "kernelspec": {
   "display_name": "Python 3 (ipykernel)",
   "language": "python",
   "name": "python3"
  },
  "language_info": {
   "codemirror_mode": {
    "name": "ipython",
    "version": 3
   },
   "file_extension": ".py",
   "mimetype": "text/x-python",
   "name": "python",
   "nbconvert_exporter": "python",
   "pygments_lexer": "ipython3",
   "version": "3.8.12"
  },
  "toc": {
   "base_numbering": 1,
   "nav_menu": {},
   "number_sections": true,
   "sideBar": true,
   "skip_h1_title": false,
   "title_cell": "Table of Contents",
   "title_sidebar": "Contents",
   "toc_cell": false,
   "toc_position": {},
   "toc_section_display": true,
   "toc_window_display": false
  }
 },
 "nbformat": 4,
 "nbformat_minor": 4
}
