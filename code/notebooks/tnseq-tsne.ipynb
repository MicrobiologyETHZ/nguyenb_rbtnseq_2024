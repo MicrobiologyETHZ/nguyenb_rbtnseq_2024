{
 "cells": [
  {
   "cell_type": "code",
   "execution_count": 195,
   "id": "violent-population",
   "metadata": {},
   "outputs": [],
   "source": [
    "import pandas as pd\n",
    "from pathlib import Path"
   ]
  },
  {
   "cell_type": "code",
   "execution_count": 196,
   "id": "covered-transport",
   "metadata": {},
   "outputs": [],
   "source": [
    "df = pd.read_csv(\"/Users/ansintsova/git_repos/avocado/data/vst_gene_counts.csv\", index_col=0)"
   ]
  },
  {
   "cell_type": "code",
   "execution_count": 120,
   "id": "sunrise-happening",
   "metadata": {},
   "outputs": [],
   "source": [
    "df.sample(5)\n",
    "to_filter = df[df.day == 'd0'].groupby('ShortName').norm_count.median().reset_index()\n",
    "to_filter = to_filter[to_filter.norm_count > 6].ShortName.values\n",
    "#.ShortName.values\n",
    "\n",
    "df= df[df.ShortName.isin(to_filter) ]"
   ]
  },
  {
   "cell_type": "code",
   "execution_count": 19,
   "id": "ultimate-footage",
   "metadata": {},
   "outputs": [],
   "source": [
    "from sklearn.datasets import load_digits\n",
    "digits = load_digits()"
   ]
  },
  {
   "cell_type": "code",
   "execution_count": 121,
   "id": "other-referral",
   "metadata": {},
   "outputs": [],
   "source": [
    "df = df.pivot(index='ShortName', columns=['SampleID'], values=['norm_count'])"
   ]
  },
  {
   "cell_type": "code",
   "execution_count": 122,
   "id": "eleven-russia",
   "metadata": {},
   "outputs": [
    {
     "data": {
      "text/html": [
       "<div>\n",
       "<style scoped>\n",
       "    .dataframe tbody tr th:only-of-type {\n",
       "        vertical-align: middle;\n",
       "    }\n",
       "\n",
       "    .dataframe tbody tr th {\n",
       "        vertical-align: top;\n",
       "    }\n",
       "\n",
       "    .dataframe thead tr th {\n",
       "        text-align: left;\n",
       "    }\n",
       "\n",
       "    .dataframe thead tr:last-of-type th {\n",
       "        text-align: right;\n",
       "    }\n",
       "</style>\n",
       "<table border=\"1\" class=\"dataframe\">\n",
       "  <thead>\n",
       "    <tr>\n",
       "      <th></th>\n",
       "      <th colspan=\"21\" halign=\"left\">norm_count</th>\n",
       "    </tr>\n",
       "    <tr>\n",
       "      <th>SampleID</th>\n",
       "      <th>ad926_d1_dnaid2017_TV4592A</th>\n",
       "      <th>ad926_d2_dnaid2017_TV4592A</th>\n",
       "      <th>ad926_d3_dnaid2018_TV4592A</th>\n",
       "      <th>ad926_d4_dnaid2018_TV4592A</th>\n",
       "      <th>ad927_d1_dnaid2017_TV4592A</th>\n",
       "      <th>ad927_d2_dnaid2017_TV4592A</th>\n",
       "      <th>ad927_d3_dnaid2018_TV4592A</th>\n",
       "      <th>ad927_d4_dnaid2018_TV4592A</th>\n",
       "      <th>ad928_d1_dnaid2017_TV4592A</th>\n",
       "      <th>ad928_d2_dnaid2017_TV4592A</th>\n",
       "      <th>...</th>\n",
       "      <th>am732_d1_dnaid2028_TV5585A</th>\n",
       "      <th>am732_d2_dnaid2028_TV5585A</th>\n",
       "      <th>am732_d3_dnaid2029_TV5585A</th>\n",
       "      <th>am732_d4_dnaid2029_TV5585A</th>\n",
       "      <th>inoculum_d0_dnaid2017_TV4592A</th>\n",
       "      <th>inoculum_d0_dnaid2018_TV4592A</th>\n",
       "      <th>inoculum_d0_dnaid2027_TV5563A</th>\n",
       "      <th>inoculum_d0_dnaid2028_TV5585A</th>\n",
       "      <th>inoculum_d0_dnaid2029_TV5585A</th>\n",
       "      <th>unenriched-inoculum_d0_dnaid2017_TV4592A</th>\n",
       "    </tr>\n",
       "    <tr>\n",
       "      <th>ShortName</th>\n",
       "      <th></th>\n",
       "      <th></th>\n",
       "      <th></th>\n",
       "      <th></th>\n",
       "      <th></th>\n",
       "      <th></th>\n",
       "      <th></th>\n",
       "      <th></th>\n",
       "      <th></th>\n",
       "      <th></th>\n",
       "      <th></th>\n",
       "      <th></th>\n",
       "      <th></th>\n",
       "      <th></th>\n",
       "      <th></th>\n",
       "      <th></th>\n",
       "      <th></th>\n",
       "      <th></th>\n",
       "      <th></th>\n",
       "      <th></th>\n",
       "      <th></th>\n",
       "    </tr>\n",
       "  </thead>\n",
       "  <tbody>\n",
       "    <tr>\n",
       "      <th>AAAAACATGCCACACTG</th>\n",
       "      <td>11.886294</td>\n",
       "      <td>11.854226</td>\n",
       "      <td>11.974136</td>\n",
       "      <td>12.245235</td>\n",
       "      <td>9.826515</td>\n",
       "      <td>9.750115</td>\n",
       "      <td>10.195824</td>\n",
       "      <td>10.152325</td>\n",
       "      <td>11.402589</td>\n",
       "      <td>11.643595</td>\n",
       "      <td>...</td>\n",
       "      <td>15.424652</td>\n",
       "      <td>12.320515</td>\n",
       "      <td>12.182785</td>\n",
       "      <td>12.640065</td>\n",
       "      <td>11.704253</td>\n",
       "      <td>11.755322</td>\n",
       "      <td>11.690815</td>\n",
       "      <td>11.716504</td>\n",
       "      <td>11.753307</td>\n",
       "      <td>11.363182</td>\n",
       "    </tr>\n",
       "    <tr>\n",
       "      <th>AAAACTTCATGTACAGA</th>\n",
       "      <td>10.696090</td>\n",
       "      <td>10.842332</td>\n",
       "      <td>10.607524</td>\n",
       "      <td>10.668782</td>\n",
       "      <td>7.884177</td>\n",
       "      <td>8.025284</td>\n",
       "      <td>8.107288</td>\n",
       "      <td>8.059852</td>\n",
       "      <td>11.156501</td>\n",
       "      <td>11.138848</td>\n",
       "      <td>...</td>\n",
       "      <td>12.927975</td>\n",
       "      <td>12.134395</td>\n",
       "      <td>11.862434</td>\n",
       "      <td>14.196929</td>\n",
       "      <td>10.850770</td>\n",
       "      <td>10.808142</td>\n",
       "      <td>10.791493</td>\n",
       "      <td>10.742896</td>\n",
       "      <td>10.747690</td>\n",
       "      <td>10.657251</td>\n",
       "    </tr>\n",
       "    <tr>\n",
       "      <th>AAACGGCCGAGTTCGAG</th>\n",
       "      <td>11.213696</td>\n",
       "      <td>11.073523</td>\n",
       "      <td>10.883439</td>\n",
       "      <td>10.868195</td>\n",
       "      <td>10.378826</td>\n",
       "      <td>10.851953</td>\n",
       "      <td>11.296149</td>\n",
       "      <td>11.542761</td>\n",
       "      <td>10.940948</td>\n",
       "      <td>11.036218</td>\n",
       "      <td>...</td>\n",
       "      <td>5.175039</td>\n",
       "      <td>9.882773</td>\n",
       "      <td>10.139029</td>\n",
       "      <td>6.343979</td>\n",
       "      <td>10.853851</td>\n",
       "      <td>10.937307</td>\n",
       "      <td>11.042802</td>\n",
       "      <td>11.048788</td>\n",
       "      <td>11.030369</td>\n",
       "      <td>10.880338</td>\n",
       "    </tr>\n",
       "    <tr>\n",
       "      <th>AAACGTCCCCACACGGG</th>\n",
       "      <td>10.626310</td>\n",
       "      <td>10.069505</td>\n",
       "      <td>10.374190</td>\n",
       "      <td>10.047012</td>\n",
       "      <td>11.834747</td>\n",
       "      <td>12.114093</td>\n",
       "      <td>12.271515</td>\n",
       "      <td>12.140749</td>\n",
       "      <td>10.573602</td>\n",
       "      <td>10.596853</td>\n",
       "      <td>...</td>\n",
       "      <td>11.991169</td>\n",
       "      <td>10.008092</td>\n",
       "      <td>7.960472</td>\n",
       "      <td>6.847833</td>\n",
       "      <td>10.576432</td>\n",
       "      <td>10.534061</td>\n",
       "      <td>10.397076</td>\n",
       "      <td>10.606577</td>\n",
       "      <td>10.530554</td>\n",
       "      <td>10.383535</td>\n",
       "    </tr>\n",
       "    <tr>\n",
       "      <th>AAAGAAGCTATAAACTA</th>\n",
       "      <td>9.814393</td>\n",
       "      <td>9.352388</td>\n",
       "      <td>9.024412</td>\n",
       "      <td>9.016915</td>\n",
       "      <td>10.138901</td>\n",
       "      <td>9.124364</td>\n",
       "      <td>8.913266</td>\n",
       "      <td>8.589862</td>\n",
       "      <td>9.928659</td>\n",
       "      <td>9.759119</td>\n",
       "      <td>...</td>\n",
       "      <td>13.041863</td>\n",
       "      <td>9.496278</td>\n",
       "      <td>7.849961</td>\n",
       "      <td>6.012590</td>\n",
       "      <td>10.541185</td>\n",
       "      <td>10.540293</td>\n",
       "      <td>10.619452</td>\n",
       "      <td>10.538398</td>\n",
       "      <td>10.536434</td>\n",
       "      <td>10.178521</td>\n",
       "    </tr>\n",
       "    <tr>\n",
       "      <th>...</th>\n",
       "      <td>...</td>\n",
       "      <td>...</td>\n",
       "      <td>...</td>\n",
       "      <td>...</td>\n",
       "      <td>...</td>\n",
       "      <td>...</td>\n",
       "      <td>...</td>\n",
       "      <td>...</td>\n",
       "      <td>...</td>\n",
       "      <td>...</td>\n",
       "      <td>...</td>\n",
       "      <td>...</td>\n",
       "      <td>...</td>\n",
       "      <td>...</td>\n",
       "      <td>...</td>\n",
       "      <td>...</td>\n",
       "      <td>...</td>\n",
       "      <td>...</td>\n",
       "      <td>...</td>\n",
       "      <td>...</td>\n",
       "      <td>...</td>\n",
       "    </tr>\n",
       "    <tr>\n",
       "      <th>ysaA</th>\n",
       "      <td>10.910699</td>\n",
       "      <td>10.654903</td>\n",
       "      <td>10.816313</td>\n",
       "      <td>10.816073</td>\n",
       "      <td>10.119025</td>\n",
       "      <td>10.180034</td>\n",
       "      <td>10.146930</td>\n",
       "      <td>10.265657</td>\n",
       "      <td>10.345583</td>\n",
       "      <td>10.658921</td>\n",
       "      <td>...</td>\n",
       "      <td>16.373993</td>\n",
       "      <td>13.488638</td>\n",
       "      <td>13.003377</td>\n",
       "      <td>14.335036</td>\n",
       "      <td>10.732447</td>\n",
       "      <td>10.721227</td>\n",
       "      <td>10.533521</td>\n",
       "      <td>10.613415</td>\n",
       "      <td>10.572545</td>\n",
       "      <td>10.530290</td>\n",
       "    </tr>\n",
       "    <tr>\n",
       "      <th>ytfF</th>\n",
       "      <td>10.587769</td>\n",
       "      <td>10.797999</td>\n",
       "      <td>11.098774</td>\n",
       "      <td>11.110410</td>\n",
       "      <td>12.404633</td>\n",
       "      <td>12.383989</td>\n",
       "      <td>12.469910</td>\n",
       "      <td>12.359716</td>\n",
       "      <td>10.361350</td>\n",
       "      <td>10.525902</td>\n",
       "      <td>...</td>\n",
       "      <td>6.506066</td>\n",
       "      <td>10.892570</td>\n",
       "      <td>11.795315</td>\n",
       "      <td>11.627903</td>\n",
       "      <td>10.824314</td>\n",
       "      <td>10.742101</td>\n",
       "      <td>10.590361</td>\n",
       "      <td>10.605107</td>\n",
       "      <td>10.637537</td>\n",
       "      <td>10.384612</td>\n",
       "    </tr>\n",
       "    <tr>\n",
       "      <th>ytfG</th>\n",
       "      <td>11.888620</td>\n",
       "      <td>11.567413</td>\n",
       "      <td>11.580699</td>\n",
       "      <td>11.515856</td>\n",
       "      <td>13.358628</td>\n",
       "      <td>13.665868</td>\n",
       "      <td>13.964551</td>\n",
       "      <td>13.847457</td>\n",
       "      <td>12.186121</td>\n",
       "      <td>12.341688</td>\n",
       "      <td>...</td>\n",
       "      <td>7.976413</td>\n",
       "      <td>5.175039</td>\n",
       "      <td>6.100572</td>\n",
       "      <td>5.862031</td>\n",
       "      <td>12.176593</td>\n",
       "      <td>12.145837</td>\n",
       "      <td>11.911581</td>\n",
       "      <td>11.907980</td>\n",
       "      <td>11.910928</td>\n",
       "      <td>11.854375</td>\n",
       "    </tr>\n",
       "    <tr>\n",
       "      <th>ytfJ</th>\n",
       "      <td>11.106575</td>\n",
       "      <td>10.951875</td>\n",
       "      <td>10.954863</td>\n",
       "      <td>10.830158</td>\n",
       "      <td>9.609138</td>\n",
       "      <td>9.689060</td>\n",
       "      <td>9.945283</td>\n",
       "      <td>9.832300</td>\n",
       "      <td>11.066834</td>\n",
       "      <td>11.141837</td>\n",
       "      <td>...</td>\n",
       "      <td>8.922766</td>\n",
       "      <td>6.014545</td>\n",
       "      <td>5.175039</td>\n",
       "      <td>5.175039</td>\n",
       "      <td>11.443750</td>\n",
       "      <td>11.418566</td>\n",
       "      <td>11.144278</td>\n",
       "      <td>11.252718</td>\n",
       "      <td>11.177975</td>\n",
       "      <td>11.205650</td>\n",
       "    </tr>\n",
       "    <tr>\n",
       "      <th>ytfM</th>\n",
       "      <td>8.931311</td>\n",
       "      <td>8.783584</td>\n",
       "      <td>8.240940</td>\n",
       "      <td>7.955191</td>\n",
       "      <td>6.336066</td>\n",
       "      <td>7.244845</td>\n",
       "      <td>7.509919</td>\n",
       "      <td>6.908608</td>\n",
       "      <td>9.282200</td>\n",
       "      <td>9.494515</td>\n",
       "      <td>...</td>\n",
       "      <td>6.198565</td>\n",
       "      <td>5.551510</td>\n",
       "      <td>5.175039</td>\n",
       "      <td>5.175039</td>\n",
       "      <td>9.974547</td>\n",
       "      <td>9.980149</td>\n",
       "      <td>10.072905</td>\n",
       "      <td>10.091228</td>\n",
       "      <td>10.118041</td>\n",
       "      <td>10.050987</td>\n",
       "    </tr>\n",
       "  </tbody>\n",
       "</table>\n",
       "<p>1345 rows × 73 columns</p>\n",
       "</div>"
      ],
      "text/plain": [
       "                                  norm_count                             \\\n",
       "SampleID          ad926_d1_dnaid2017_TV4592A ad926_d2_dnaid2017_TV4592A   \n",
       "ShortName                                                                 \n",
       "AAAAACATGCCACACTG                  11.886294                  11.854226   \n",
       "AAAACTTCATGTACAGA                  10.696090                  10.842332   \n",
       "AAACGGCCGAGTTCGAG                  11.213696                  11.073523   \n",
       "AAACGTCCCCACACGGG                  10.626310                  10.069505   \n",
       "AAAGAAGCTATAAACTA                   9.814393                   9.352388   \n",
       "...                                      ...                        ...   \n",
       "ysaA                               10.910699                  10.654903   \n",
       "ytfF                               10.587769                  10.797999   \n",
       "ytfG                               11.888620                  11.567413   \n",
       "ytfJ                               11.106575                  10.951875   \n",
       "ytfM                                8.931311                   8.783584   \n",
       "\n",
       "                                                                         \\\n",
       "SampleID          ad926_d3_dnaid2018_TV4592A ad926_d4_dnaid2018_TV4592A   \n",
       "ShortName                                                                 \n",
       "AAAAACATGCCACACTG                  11.974136                  12.245235   \n",
       "AAAACTTCATGTACAGA                  10.607524                  10.668782   \n",
       "AAACGGCCGAGTTCGAG                  10.883439                  10.868195   \n",
       "AAACGTCCCCACACGGG                  10.374190                  10.047012   \n",
       "AAAGAAGCTATAAACTA                   9.024412                   9.016915   \n",
       "...                                      ...                        ...   \n",
       "ysaA                               10.816313                  10.816073   \n",
       "ytfF                               11.098774                  11.110410   \n",
       "ytfG                               11.580699                  11.515856   \n",
       "ytfJ                               10.954863                  10.830158   \n",
       "ytfM                                8.240940                   7.955191   \n",
       "\n",
       "                                                                         \\\n",
       "SampleID          ad927_d1_dnaid2017_TV4592A ad927_d2_dnaid2017_TV4592A   \n",
       "ShortName                                                                 \n",
       "AAAAACATGCCACACTG                   9.826515                   9.750115   \n",
       "AAAACTTCATGTACAGA                   7.884177                   8.025284   \n",
       "AAACGGCCGAGTTCGAG                  10.378826                  10.851953   \n",
       "AAACGTCCCCACACGGG                  11.834747                  12.114093   \n",
       "AAAGAAGCTATAAACTA                  10.138901                   9.124364   \n",
       "...                                      ...                        ...   \n",
       "ysaA                               10.119025                  10.180034   \n",
       "ytfF                               12.404633                  12.383989   \n",
       "ytfG                               13.358628                  13.665868   \n",
       "ytfJ                                9.609138                   9.689060   \n",
       "ytfM                                6.336066                   7.244845   \n",
       "\n",
       "                                                                         \\\n",
       "SampleID          ad927_d3_dnaid2018_TV4592A ad927_d4_dnaid2018_TV4592A   \n",
       "ShortName                                                                 \n",
       "AAAAACATGCCACACTG                  10.195824                  10.152325   \n",
       "AAAACTTCATGTACAGA                   8.107288                   8.059852   \n",
       "AAACGGCCGAGTTCGAG                  11.296149                  11.542761   \n",
       "AAACGTCCCCACACGGG                  12.271515                  12.140749   \n",
       "AAAGAAGCTATAAACTA                   8.913266                   8.589862   \n",
       "...                                      ...                        ...   \n",
       "ysaA                               10.146930                  10.265657   \n",
       "ytfF                               12.469910                  12.359716   \n",
       "ytfG                               13.964551                  13.847457   \n",
       "ytfJ                                9.945283                   9.832300   \n",
       "ytfM                                7.509919                   6.908608   \n",
       "\n",
       "                                                                         ...  \\\n",
       "SampleID          ad928_d1_dnaid2017_TV4592A ad928_d2_dnaid2017_TV4592A  ...   \n",
       "ShortName                                                                ...   \n",
       "AAAAACATGCCACACTG                  11.402589                  11.643595  ...   \n",
       "AAAACTTCATGTACAGA                  11.156501                  11.138848  ...   \n",
       "AAACGGCCGAGTTCGAG                  10.940948                  11.036218  ...   \n",
       "AAACGTCCCCACACGGG                  10.573602                  10.596853  ...   \n",
       "AAAGAAGCTATAAACTA                   9.928659                   9.759119  ...   \n",
       "...                                      ...                        ...  ...   \n",
       "ysaA                               10.345583                  10.658921  ...   \n",
       "ytfF                               10.361350                  10.525902  ...   \n",
       "ytfG                               12.186121                  12.341688  ...   \n",
       "ytfJ                               11.066834                  11.141837  ...   \n",
       "ytfM                                9.282200                   9.494515  ...   \n",
       "\n",
       "                                                                         \\\n",
       "SampleID          am732_d1_dnaid2028_TV5585A am732_d2_dnaid2028_TV5585A   \n",
       "ShortName                                                                 \n",
       "AAAAACATGCCACACTG                  15.424652                  12.320515   \n",
       "AAAACTTCATGTACAGA                  12.927975                  12.134395   \n",
       "AAACGGCCGAGTTCGAG                   5.175039                   9.882773   \n",
       "AAACGTCCCCACACGGG                  11.991169                  10.008092   \n",
       "AAAGAAGCTATAAACTA                  13.041863                   9.496278   \n",
       "...                                      ...                        ...   \n",
       "ysaA                               16.373993                  13.488638   \n",
       "ytfF                                6.506066                  10.892570   \n",
       "ytfG                                7.976413                   5.175039   \n",
       "ytfJ                                8.922766                   6.014545   \n",
       "ytfM                                6.198565                   5.551510   \n",
       "\n",
       "                                                                         \\\n",
       "SampleID          am732_d3_dnaid2029_TV5585A am732_d4_dnaid2029_TV5585A   \n",
       "ShortName                                                                 \n",
       "AAAAACATGCCACACTG                  12.182785                  12.640065   \n",
       "AAAACTTCATGTACAGA                  11.862434                  14.196929   \n",
       "AAACGGCCGAGTTCGAG                  10.139029                   6.343979   \n",
       "AAACGTCCCCACACGGG                   7.960472                   6.847833   \n",
       "AAAGAAGCTATAAACTA                   7.849961                   6.012590   \n",
       "...                                      ...                        ...   \n",
       "ysaA                               13.003377                  14.335036   \n",
       "ytfF                               11.795315                  11.627903   \n",
       "ytfG                                6.100572                   5.862031   \n",
       "ytfJ                                5.175039                   5.175039   \n",
       "ytfM                                5.175039                   5.175039   \n",
       "\n",
       "                                                                               \\\n",
       "SampleID          inoculum_d0_dnaid2017_TV4592A inoculum_d0_dnaid2018_TV4592A   \n",
       "ShortName                                                                       \n",
       "AAAAACATGCCACACTG                     11.704253                     11.755322   \n",
       "AAAACTTCATGTACAGA                     10.850770                     10.808142   \n",
       "AAACGGCCGAGTTCGAG                     10.853851                     10.937307   \n",
       "AAACGTCCCCACACGGG                     10.576432                     10.534061   \n",
       "AAAGAAGCTATAAACTA                     10.541185                     10.540293   \n",
       "...                                         ...                           ...   \n",
       "ysaA                                  10.732447                     10.721227   \n",
       "ytfF                                  10.824314                     10.742101   \n",
       "ytfG                                  12.176593                     12.145837   \n",
       "ytfJ                                  11.443750                     11.418566   \n",
       "ytfM                                   9.974547                      9.980149   \n",
       "\n",
       "                                                                               \\\n",
       "SampleID          inoculum_d0_dnaid2027_TV5563A inoculum_d0_dnaid2028_TV5585A   \n",
       "ShortName                                                                       \n",
       "AAAAACATGCCACACTG                     11.690815                     11.716504   \n",
       "AAAACTTCATGTACAGA                     10.791493                     10.742896   \n",
       "AAACGGCCGAGTTCGAG                     11.042802                     11.048788   \n",
       "AAACGTCCCCACACGGG                     10.397076                     10.606577   \n",
       "AAAGAAGCTATAAACTA                     10.619452                     10.538398   \n",
       "...                                         ...                           ...   \n",
       "ysaA                                  10.533521                     10.613415   \n",
       "ytfF                                  10.590361                     10.605107   \n",
       "ytfG                                  11.911581                     11.907980   \n",
       "ytfJ                                  11.144278                     11.252718   \n",
       "ytfM                                  10.072905                     10.091228   \n",
       "\n",
       "                                                 \\\n",
       "SampleID          inoculum_d0_dnaid2029_TV5585A   \n",
       "ShortName                                         \n",
       "AAAAACATGCCACACTG                     11.753307   \n",
       "AAAACTTCATGTACAGA                     10.747690   \n",
       "AAACGGCCGAGTTCGAG                     11.030369   \n",
       "AAACGTCCCCACACGGG                     10.530554   \n",
       "AAAGAAGCTATAAACTA                     10.536434   \n",
       "...                                         ...   \n",
       "ysaA                                  10.572545   \n",
       "ytfF                                  10.637537   \n",
       "ytfG                                  11.910928   \n",
       "ytfJ                                  11.177975   \n",
       "ytfM                                  10.118041   \n",
       "\n",
       "                                                            \n",
       "SampleID          unenriched-inoculum_d0_dnaid2017_TV4592A  \n",
       "ShortName                                                   \n",
       "AAAAACATGCCACACTG                                11.363182  \n",
       "AAAACTTCATGTACAGA                                10.657251  \n",
       "AAACGGCCGAGTTCGAG                                10.880338  \n",
       "AAACGTCCCCACACGGG                                10.383535  \n",
       "AAAGAAGCTATAAACTA                                10.178521  \n",
       "...                                                    ...  \n",
       "ysaA                                             10.530290  \n",
       "ytfF                                             10.384612  \n",
       "ytfG                                             11.854375  \n",
       "ytfJ                                             11.205650  \n",
       "ytfM                                             10.050987  \n",
       "\n",
       "[1345 rows x 73 columns]"
      ]
     },
     "execution_count": 122,
     "metadata": {},
     "output_type": "execute_result"
    }
   ],
   "source": [
    "df"
   ]
  },
  {
   "cell_type": "code",
   "execution_count": 188,
   "id": "continent-valuable",
   "metadata": {},
   "outputs": [],
   "source": [
    "from sklearn.preprocessing import RobustScaler\n",
    "\n",
    "scaler = RobustScaler()\n",
    "data_scaled = scaler.fit_transform(df)"
   ]
  },
  {
   "cell_type": "code",
   "execution_count": 32,
   "id": "interesting-optics",
   "metadata": {},
   "outputs": [],
   "source": [
    "colors = [\"#476A2A\", \"#7851B8\", \"#BD3430\", \"#4A2D4E\", \"#875525\",\n",
    "          \"#A83683\", \"#4E655E\", \"#853541\", \"#3A3120\", \"#535D8E\"]"
   ]
  },
  {
   "cell_type": "code",
   "execution_count": 36,
   "id": "corporate-proof",
   "metadata": {},
   "outputs": [
    {
     "data": {
      "text/plain": [
       "Text(0, 0.5, 't-SNE feature 1')"
      ]
     },
     "execution_count": 36,
     "metadata": {},
     "output_type": "execute_result"
    },
    {
     "data": {
      "image/png": "[encoded data removed]",
      "text/plain": [
       "<Figure size 720x720 with 1 Axes>"
      ]
     },
     "metadata": {
      "needs_background": "light"
     },
     "output_type": "display_data"
    }
   ],
   "source": [
    "import matplotlib.pyplot as plt\n",
    "plt.figure(figsize=(10, 10))\n",
    "#plt.xlim(digits_tsne[:, 0].min(), digits_tsne[:, 0].max() + 1)\n",
    "#plt.ylim(digits_tsne[:, 1].min(), digits_tsne[:, 1].max() + 1)\n",
    "# for i in range(len(digits.data)):\n",
    "#     # actually plot the digits as text instead of using scatter\n",
    "#     plt.text(digits_tsne[i, 0], digits_tsne[i, 1], str(digits.target[i]),\n",
    "#              color = colors[digits.target[i]],\n",
    "#              fontdict={'weight': 'bold', 'size': 9})\n",
    "plt.xlabel(\"t-SNE feature 0\")\n",
    "plt.ylabel(\"t-SNE feature 1\")"
   ]
  },
  {
   "cell_type": "code",
   "execution_count": 245,
   "id": "dependent-desperate",
   "metadata": {},
   "outputs": [],
   "source": [
    "df3 = df[[c for c in df.columns if 'ad926' in c[1]]]"
   ]
  },
  {
   "cell_type": "code",
   "execution_count": 250,
   "id": "arbitrary-brief",
   "metadata": {},
   "outputs": [],
   "source": [
    "from sklearn.manifold import TSNE\n",
    "tsne = TSNE(random_state=42)\n",
    "digits_tsne = tsne.fit_transform(df)"
   ]
  },
  {
   "cell_type": "code",
   "execution_count": 251,
   "id": "palestinian-inspiration",
   "metadata": {},
   "outputs": [],
   "source": [
    "df2 = pd.DataFrame(digits_tsne, index=df.index)\n",
    "df2.columns = ['x', 'y']\n",
    "compare = pd.read_csv(\"/Users/ansintsova/git_repos/avocado/data/compare.csv\", index_col=1)\n",
    "compare = compare[compare.day=='d1']\n",
    "#df2 = df2.merge(compare, left_index\n",
    "df2 = df2.merge(compare[['median_CI_method2', 'ci_pval_method2']], left_index=True, right_index=True)"
   ]
  },
  {
   "cell_type": "code",
   "execution_count": 263,
   "id": "protecting-sunrise",
   "metadata": {},
   "outputs": [
    {
     "data": {
      "text/html": [
       "        <script type=\"text/javascript\">\n",
       "        window.PlotlyConfig = {MathJaxConfig: 'local'};\n",
       "        if (window.MathJax) {MathJax.Hub.Config({SVG: {font: \"STIX-Web\"}});}\n",
       "        if (typeof require !== 'undefined') {\n",
       "        require.undef(\"plotly\");\n",
       "        requirejs.config({\n",
       "            paths: {\n",
       "                'plotly': ['https://cdn.plot.ly/plotly-latest.min']\n",
       "            }\n",
       "        });\n",
       "        require(['plotly'], function(Plotly) {\n",
       "            window._Plotly = Plotly;\n",
       "        });\n",
       "        }\n",
       "        </script>\n",
       "        "
      ]
     },
     "metadata": {},
     "output_type": "display_data"
    },
    {
     "data": {
      "text/html": [
       "        <script type=\"text/javascript\">\n",
       "        window.PlotlyConfig = {MathJaxConfig: 'local'};\n",
       "        if (window.MathJax) {MathJax.Hub.Config({SVG: {font: \"STIX-Web\"}});}\n",
       "        if (typeof require !== 'undefined') {\n",
       "        require.undef(\"plotly\");\n",
       "        requirejs.config({\n",
       "            paths: {\n",
       "                'plotly': ['https://cdn.plot.ly/plotly-latest.min']\n",
       "            }\n",
       "        });\n",
       "        require(['plotly'], function(Plotly) {\n",
       "            window._Plotly = Plotly;\n",
       "        });\n",
       "        }\n",
       "        </script>\n",
       "        "
      ]
     },
     "metadata": {},
     "output_type": "display_data"
    }
   ],
   "source": [
    "import chart_studio\n",
    "import chart_studio.tools as tls\n",
    "import chart_studio.plotly as py\n",
    "import plotly.express as px\n",
    "%matplotlib inline\n",
    "import cufflinks as cf\n",
    "from plotly.offline import download_plotlyjs, init_notebook_mode, plot, iplot\n",
    "init_notebook_mode(connected=True)\n",
    "cf.go_offline()\n",
    "import dash_bio as dashbio\n",
    "import numpy as np"
   ]
  },
  {
   "cell_type": "code",
   "execution_count": 264,
   "id": "dietary-brake",
   "metadata": {},
   "outputs": [],
   "source": [
    "df2['ci'] = np.log2(df2.median_CI_method2)"
   ]
  },
  {
   "cell_type": "code",
   "execution_count": 265,
   "id": "backed-perry",
   "metadata": {},
   "outputs": [
    {
     "data": {
      "application/vnd.plotly.v1+json": {
       "config": {
        "plotlyServerURL": "https://plotly.com"
       },
       "data": [
        {
         "customdata": [
          [
           "AAAAACATGCCACACTG"
          ],
          [
           "AAAACTTCATGTACAGA"
          ],
          [
           "AAACGGCCGAGTTCGAG"
          ],
          [
           "AAACGTCCCCACACGGG"
          ],
          [
           "AAAGAAGCTATAAACTA"
          ],
          [
           "AAAGACGCCAGTAAGAA"
          ],
          [
           "AAAGAGGTCACGAGCTG"
          ],
          [
           "AAATAACCGGCCAAAGA"
          ],
          [
           "AAATACAGTAGAGGAGT"
          ],
          [
           "AACAAGAAATTTTCCAC"
          ],
          [
           "AACCATACGATGACTAC"
          ],
          [
           "AACCCCGATGGGGCACA"
          ],
          [
           "AACGCAATACAATAAGC"
          ],
          [
           "AACGCAGATGGTACTCG"
          ],
          [
           "AACGGTCTCCTGATACA"
          ],
          [
           "AACGTCAGGGGATCGGC"
          ],
          [
           "AAGAAAGAGTGATTGTG"
          ],
          [
           "AAGCAACCCGCGATCAC"
          ],
          [
           "AAGCAACCCGCGATCAC"
          ],
          [
           "AAGCAACCGCAACTCGG"
          ],
          [
           "AAGCCAGTCCACAAATG"
          ],
          [
           "AAGCGAATCGTATGAGG"
          ],
          [
           "AAGCGAATCGTATGAGG"
          ],
          [
           "AAGGATGTATCTTCTCA"
          ],
          [
           "AAGGATTCCGTGGGTTA"
          ],
          [
           "AATGGACTTCCCGACGA"
          ],
          [
           "AATTCGTATGAGAATAG"
          ],
          [
           "ACAAAAGGACCCAGAAC"
          ],
          [
           "ACAATTCTCCAGCGGCT"
          ],
          [
           "ACACAACTGTACTGGAA"
          ],
          [
           "ACACACGACATGGCCAT"
          ],
          [
           "ACACCGACGAACGAGTA"
          ],
          [
           "ACACCGAGCGGTTGAAA"
          ],
          [
           "ACACCGTATGAAAGAGC"
          ],
          [
           "ACACCTACAATCCCTTA"
          ],
          [
           "ACAGGCCGTAAAATGTC"
          ],
          [
           "ACAGTAAAGCACTATAA"
          ],
          [
           "ACAGTATTGCATGTGGG"
          ],
          [
           "ACATCCCAAAATACAAA"
          ],
          [
           "ACCACATGGCCTATGAA"
          ],
          [
           "ACCAGTTCATACAGAAA"
          ],
          [
           "ACCCAGCCCAACTCGTA"
          ],
          [
           "ACCCATATTTTCCTCGA"
          ],
          [
           "ACCCCAGCAATAAAAAC"
          ],
          [
           "ACCCGAAGGTCATCGTA"
          ],
          [
           "ACCCGACTAGTTACCCA"
          ],
          [
           "ACCCTGCGGTGCAGTCT"
          ],
          [
           "ACCGCAGGATCGAACTA"
          ],
          [
           "ACCGCCACGGTAGGGTA"
          ],
          [
           "ACCTACTCGACAGTGGT"
          ],
          [
           "ACCTAGTGACAGACCAG"
          ],
          [
           "ACCTGCCAAGTGGCGCG"
          ],
          [
           "ACCTGGTTTCCGCCTTA"
          ],
          [
           "ACCTTGAAGGTTACCTA"
          ],
          [
           "ACGAGGCATACACAAGG"
          ],
          [
           "ACGATAGCTGGCCCATA"
          ],
          [
           "ACGCAACTTTATGGTTG"
          ],
          [
           "ACGCCACTTGGGATTCC"
          ],
          [
           "ACGGAACTAACTTTTAC"
          ],
          [
           "ACGGCCCGGCATCTAGG"
          ],
          [
           "ACGGTATCAATTTCACT"
          ],
          [
           "ACTATCTCCTAAGCTCC"
          ],
          [
           "ACTCAGGCCAAAGACGT"
          ],
          [
           "ACTCGCTCGTCAGGCCA"
          ],
          [
           "ACTTTCCCATCATTAAC"
          ],
          [
           "AGAATTTTAATGAGCCA"
          ],
          [
           "AGAATTTTAATGAGCCA"
          ],
          [
           "AGACCTTACACTTTTGA"
          ],
          [
           "AGAGATGAGGGCGAATT"
          ],
          [
           "AGAGCAGTTCCCCCATA"
          ],
          [
           "AGATGGGGAGAAATTAC"
          ],
          [
           "AGCAAATCACCACACCA"
          ],
          [
           "AGCAAGAGTTGGCCACT"
          ],
          [
           "AGCCGACGATAACGGAG"
          ],
          [
           "AGCCGGGCCAGCCCAGT"
          ],
          [
           "AGCGCAGTCCTTAACTG"
          ],
          [
           "AGCGCCCCGAAATGGTT"
          ],
          [
           "AGTCCCCAACCGCGCGA"
          ],
          [
           "AGTGTGCCTTAAGCACG"
          ],
          [
           "AGTTGAAACGAGCAGAG"
          ],
          [
           "ATACCACTAGACACTTA"
          ],
          [
           "ATACCCGCCACGGCCAT"
          ],
          [
           "ATACGGTTCCATCCCCC"
          ],
          [
           "ATACTCATTATCATACG"
          ],
          [
           "ATAGCGGGAGGGCCCTA"
          ],
          [
           "ATATGCTTCGACCCAGT"
          ],
          [
           "ATCAACTCACAGGGGAC"
          ],
          [
           "ATCACTGGAAACCGTGG"
          ],
          [
           "ATCCCACCGCCCCGAAG"
          ],
          [
           "ATGAACCAGTCCATTAC"
          ],
          [
           "ATGATCGTGAAAGTCAA"
          ],
          [
           "ATGCGTCATGTTTGCCC"
          ],
          [
           "ATGCGTCATGTTTGCCC"
          ],
          [
           "ATGGACGGCACACTCCC"
          ],
          [
           "ATGTGCAGAAACCGCCT"
          ],
          [
           "ATGTTAGTAGCTGACCC"
          ],
          [
           "CAAAGAATTCTAGAGAA"
          ],
          [
           "CAAAGGGCCTTCACCGC"
          ],
          [
           "CAATGTCAGGGTTGTTA"
          ],
          [
           "CAATTGCGCCTTAGCTG"
          ],
          [
           "CACACTTGCCACAGCAC"
          ],
          [
           "CACCAACCGATATGAAG"
          ],
          [
           "CACCCAGGAACACGAAA"
          ],
          [
           "CACCGGGAGCCAAATAT"
          ],
          [
           "CACGACATACCCGGCAC"
          ],
          [
           "CACGCGGTGCCCTGTGA"
          ],
          [
           "CAGCATACATCAATTTA"
          ],
          [
           "CAGCGGAGTCGCCAGCA"
          ],
          [
           "CAGCTGAGCCGCAGTGG"
          ],
          [
           "CAGGGGACAACGAGAAA"
          ],
          [
           "CATAAACCGCGGAAAGC"
          ],
          [
           "CATAGGGAGAATATAAC"
          ],
          [
           "CATCCGAGTGAGTTTGC"
          ],
          [
           "CCAAGATCGCTACGCTA"
          ],
          [
           "CCACGAGCGGACGTAAG"
          ],
          [
           "CCAGAGCCTAGCTAGAG"
          ],
          [
           "CCAGCCATCCCGACGGG"
          ],
          [
           "CCATGGGAACAGAGGTG"
          ],
          [
           "CCCAGACGAGGGGACGA"
          ],
          [
           "CCCATACTTGCTAGATC"
          ],
          [
           "CCCATTATCCCTGAGAG"
          ],
          [
           "CCCCGACGGACTGTGAT"
          ],
          [
           "CCCCTTGACGGAACTTT"
          ],
          [
           "CCCGAAAGCTACTAATA"
          ],
          [
           "CCCGCAACTTTTCGGCA"
          ],
          [
           "CCCGCTCGGGATACCCC"
          ],
          [
           "CCCGTTGACCCCTCTAG"
          ],
          [
           "CCCTGGACATACCGGCC"
          ],
          [
           "CCGATGCCTAACATGGG"
          ],
          [
           "CCGATGTGCACAACCCC"
          ],
          [
           "CCGCCACAGAATCATAA"
          ],
          [
           "CCGGCCCTGAACTGGGC"
          ],
          [
           "CCGTAAACCAGAGCGAA"
          ],
          [
           "CCGTGTCCTTTGTAATT"
          ],
          [
           "CCTACGCCCTAAGCGTT"
          ],
          [
           "CCTCGAATAAGAACGTA"
          ],
          [
           "CCTGGGAAGAGATGCGC"
          ],
          [
           "CGACTAGTGATCTTACT"
          ],
          [
           "CGATAGACCAATCGGCA"
          ],
          [
           "CGATGACACAGCAATTA"
          ],
          [
           "CGATGGGGCGTATACGA"
          ],
          [
           "CGATTTGTGGACATATC"
          ],
          [
           "CGCGCTAGCGCTACCAA"
          ],
          [
           "CGTAAGAATGCTCACAG"
          ],
          [
           "CGTATACCGAGGAATCA"
          ],
          [
           "CGTGAATAAAACAACGG"
          ],
          [
           "CGTGACTCCGCCTATCA"
          ],
          [
           "CTAAACCGAAACGGGCC"
          ],
          [
           "CTAACTGACCCGGACGA"
          ],
          [
           "CTACCACGTGGCCCCCA"
          ],
          [
           "CTACCAGTTCTTCGAGT"
          ],
          [
           "CTATTCGACACCTATAG"
          ],
          [
           "CTCCTTCATGGACCGCA"
          ],
          [
           "CTGAAGTAACGAACTGG"
          ],
          [
           "CTGATGCCTAATCACAG"
          ],
          [
           "CTTAGCTGAAAACGACA"
          ],
          [
           "CTTTACGCACGGTCTCA"
          ],
          [
           "GAAACAAACAGAATATC"
          ],
          [
           "GAACATAACATTGCGGA"
          ],
          [
           "GAACGAGCAGGTAACCG"
          ],
          [
           "GAACTCGGCCTACTATC"
          ],
          [
           "GAACTTCAACCGCGCCC"
          ],
          [
           "GAAGGGACACAAATCCA"
          ],
          [
           "GAAGGGCCCGGGACACG"
          ],
          [
           "GAATCTATGCCCGTGCA"
          ],
          [
           "GACAAACGGCGACGTTA"
          ],
          [
           "GACAACCCTGTATAACG"
          ],
          [
           "GACAGCGTACCGTCTAA"
          ],
          [
           "GACAGTAGAAAAGTTCC"
          ],
          [
           "GACCACTCCGTAATAAG"
          ],
          [
           "GACCATATCGTGTTACC"
          ],
          [
           "GACCTCTCTAATGTATG"
          ],
          [
           "GAGATGAATTAGATACA"
          ],
          [
           "GAGCCGCGTTAACCCAC"
          ],
          [
           "GAGGCTGGGCGGAGGGG"
          ],
          [
           "GATAAGACAGCGGCTGG"
          ],
          [
           "GATAAGACAGCGGCTGG"
          ],
          [
           "GATGGACCAGTGCTAGC"
          ],
          [
           "GATTACGCCACCGTGCG"
          ],
          [
           "GATTCCCGTACGACTAT"
          ],
          [
           "GATTTCAATGAAAATTC"
          ],
          [
           "GCAACGCACAGCGCTTT"
          ],
          [
           "GCAGGCAACACCCGTAG"
          ],
          [
           "GCAGTCACAGCGAAATA"
          ],
          [
           "GCAGTGCACGCCTGGTC"
          ],
          [
           "GCATACCTTCGCCACGC"
          ],
          [
           "GCATGCAGCCTCTCGTA"
          ],
          [
           "GCATTTTATAGTAGTGC"
          ],
          [
           "GCCAGTTGCACTCCCCG"
          ],
          [
           "GCCCACCGATAGAGGTG"
          ],
          [
           "GCCCGATGCCCCTCAGC"
          ],
          [
           "GCCGACTGGCGCCGCGA"
          ],
          [
           "GCCGCCATCGGTTGAGT"
          ],
          [
           "GCCGCCGATAACCCCTC"
          ],
          [
           "GCGAATATAAAACGTGG"
          ],
          [
           "GCGAGAACCATAGTCAT"
          ],
          [
           "GCGCCCAACATTACTTA"
          ],
          [
           "GCGCCTGAAATGACCCC"
          ],
          [
           "GCGTAAGTCTGGGTACC"
          ],
          [
           "GCGTATCAGATGTGGTC"
          ],
          [
           "GCTAACTGGTAAGCCCC"
          ],
          [
           "GCTCAGTCCGCAGTTCA"
          ],
          [
           "GCTTACAGAAACCATTG"
          ],
          [
           "GGAACCCGTCATCAGGG"
          ],
          [
           "GGAAGCATTGGTATCGC"
          ],
          [
           "GGACAGAGTGTCCCCCA"
          ],
          [
           "GGACGACCACTTGTGGC"
          ],
          [
           "GGACTCCGAGCTTGATC"
          ],
          [
           "GGAGGACTTAGTCAGAC"
          ],
          [
           "GGATCACATCCCGCTCC"
          ],
          [
           "GGATCACATCCCGCTCC"
          ],
          [
           "GGATGATGTCGAGGGAG"
          ],
          [
           "GGATGCCCGAACATAGG"
          ],
          [
           "GGCAATGGTGTGATTGA"
          ],
          [
           "GGCACCGTACGGAACCT"
          ],
          [
           "GGCCACGATTCAATAGC"
          ],
          [
           "GGCCCGGTAAACCTAAT"
          ],
          [
           "GGCGGGATAAAGCCGGA"
          ],
          [
           "GGCGGGGTGACGTTGAC"
          ],
          [
           "GGCTCTGACCAGTAACT"
          ],
          [
           "GGCTGAAGCGATCTTCC"
          ],
          [
           "GGCTGCCGGGATGATTC"
          ],
          [
           "GGGAGCAAGACGAGAGA"
          ],
          [
           "GGGTTCCCGCAAGCACC"
          ],
          [
           "GGTCCCCGGGGGTCATG"
          ],
          [
           "GGTGATGAGTGCCGACC"
          ],
          [
           "GTAAATGCGCAGGCACT"
          ],
          [
           "GTAACCCTCAGCCCTGG"
          ],
          [
           "GTAACCCTCAGCCCTGG"
          ],
          [
           "GTAGCATCACCATATAA"
          ],
          [
           "GTAGCATCACCATATAA"
          ],
          [
           "GTCCGACTCGTACCGAC"
          ],
          [
           "GTCGTCTATAGGCCTCG"
          ],
          [
           "GTCTTTTGAAAGCGCGT"
          ],
          [
           "GTGAAATACTGGCTTAA"
          ],
          [
           "GTGACACGAGGAAAGGC"
          ],
          [
           "GTGAGTACGATGCCTGA"
          ],
          [
           "GTGCAACCCAGGGTCTG"
          ],
          [
           "GTGCATCGCCCCTCCGG"
          ],
          [
           "GTGCCCTCCGATGTGGC"
          ],
          [
           "GTGGAGTCGAGCGGGCA"
          ],
          [
           "GTGGTTGCCGGGAAACC"
          ],
          [
           "GTGTAATTGGACCATGA"
          ],
          [
           "GTTATCAAGACCTAAAG"
          ],
          [
           "GTTGCAGACCATGAGGC"
          ],
          [
           "GTTGCAGGCGTTGGGAT"
          ],
          [
           "GTTGCCAAGGGCTGTTC"
          ],
          [
           "GTTGCTCCGATAGCTTC"
          ],
          [
           "GTTTCGCCTCCGAGGCC"
          ],
          [
           "SL1344_0014"
          ],
          [
           "SL1344_0016"
          ],
          [
           "SL1344_0017"
          ],
          [
           "SL1344_0019"
          ],
          [
           "SL1344_0020"
          ],
          [
           "SL1344_0029"
          ],
          [
           "SL1344_0030"
          ],
          [
           "SL1344_0032"
          ],
          [
           "SL1344_0033"
          ],
          [
           "SL1344_0034"
          ],
          [
           "SL1344_0035"
          ],
          [
           "SL1344_0036"
          ],
          [
           "SL1344_0038"
          ],
          [
           "SL1344_0043"
          ],
          [
           "SL1344_0084"
          ],
          [
           "SL1344_0100"
          ],
          [
           "SL1344_0272"
          ],
          [
           "SL1344_0273"
          ],
          [
           "SL1344_0286B"
          ],
          [
           "SL1344_0291"
          ],
          [
           "SL1344_0292"
          ],
          [
           "SL1344_0323"
          ],
          [
           "SL1344_0330"
          ],
          [
           "SL1344_0336"
          ],
          [
           "SL1344_0337"
          ],
          [
           "SL1344_0338"
          ],
          [
           "SL1344_0339"
          ],
          [
           "SL1344_0340"
          ],
          [
           "SL1344_0341"
          ],
          [
           "SL1344_0342"
          ],
          [
           "SL1344_0431"
          ],
          [
           "SL1344_0490"
          ],
          [
           "SL1344_0513"
          ],
          [
           "SL1344_0544"
          ],
          [
           "SL1344_0547"
          ],
          [
           "SL1344_0555"
          ],
          [
           "SL1344_0599"
          ],
          [
           "SL1344_0640"
          ],
          [
           "SL1344_0700"
          ],
          [
           "SL1344_0700"
          ],
          [
           "SL1344_0702"
          ],
          [
           "SL1344_0703"
          ],
          [
           "SL1344_0705"
          ],
          [
           "SL1344_0706"
          ],
          [
           "SL1344_0707"
          ],
          [
           "SL1344_0738"
          ],
          [
           "SL1344_0741"
          ],
          [
           "SL1344_0742"
          ],
          [
           "SL1344_0785"
          ],
          [
           "SL1344_0810"
          ],
          [
           "SL1344_0814"
          ],
          [
           "SL1344_0830"
          ],
          [
           "SL1344_0831"
          ],
          [
           "SL1344_0832"
          ],
          [
           "SL1344_0833"
          ],
          [
           "SL1344_0834"
          ],
          [
           "SL1344_0835"
          ],
          [
           "SL1344_0836"
          ],
          [
           "SL1344_0860"
          ],
          [
           "SL1344_0862"
          ],
          [
           "SL1344_0942"
          ],
          [
           "SL1344_0955"
          ],
          [
           "SL1344_0976"
          ],
          [
           "SL1344_0984"
          ],
          [
           "SL1344_0988"
          ],
          [
           "SL1344_1066"
          ],
          [
           "SL1344_1068"
          ],
          [
           "SL1344_1069"
          ],
          [
           "SL1344_1070"
          ],
          [
           "SL1344_1165"
          ],
          [
           "SL1344_1186"
          ],
          [
           "SL1344_1189"
          ],
          [
           "SL1344_1190"
          ],
          [
           "SL1344_1196"
          ],
          [
           "SL1344_1201"
          ],
          [
           "SL1344_1208"
          ],
          [
           "SL1344_1302"
          ],
          [
           "SL1344_1421"
          ],
          [
           "SL1344_1421"
          ],
          [
           "SL1344_1458"
          ],
          [
           "SL1344_1459"
          ],
          [
           "SL1344_1469"
          ],
          [
           "SL1344_1471"
          ],
          [
           "SL1344_1472"
          ],
          [
           "SL1344_1481"
          ],
          [
           "SL1344_1482"
          ],
          [
           "SL1344_1550"
          ],
          [
           "SL1344_1560"
          ],
          [
           "SL1344_1563"
          ],
          [
           "SL1344_1564"
          ],
          [
           "SL1344_1565"
          ],
          [
           "SL1344_1566"
          ],
          [
           "SL1344_1568"
          ],
          [
           "SL1344_1588"
          ],
          [
           "SL1344_1597"
          ],
          [
           "SL1344_1598"
          ],
          [
           "SL1344_1599"
          ],
          [
           "SL1344_1602"
          ],
          [
           "SL1344_1713"
          ],
          [
           "SL1344_1762"
          ],
          [
           "SL1344_1770"
          ],
          [
           "SL1344_1795"
          ],
          [
           "SL1344_1802"
          ],
          [
           "SL1344_1830"
          ],
          [
           "SL1344_1872"
          ],
          [
           "SL1344_1873"
          ],
          [
           "SL1344_1930"
          ],
          [
           "SL1344_1931"
          ],
          [
           "SL1344_1932"
          ],
          [
           "SL1344_1940"
          ],
          [
           "SL1344_1949"
          ],
          [
           "SL1344_1957"
          ],
          [
           "SL1344_1960"
          ],
          [
           "SL1344_1965"
          ],
          [
           "SL1344_1970"
          ],
          [
           "SL1344_1976"
          ],
          [
           "SL1344_1981"
          ],
          [
           "SL1344_1982"
          ],
          [
           "SL1344_1983"
          ],
          [
           "SL1344_2109"
          ],
          [
           "SL1344_2115"
          ],
          [
           "SL1344_2125"
          ],
          [
           "SL1344_2173"
          ],
          [
           "SL1344_2207"
          ],
          [
           "SL1344_2209"
          ],
          [
           "SL1344_2210"
          ],
          [
           "SL1344_2219"
          ],
          [
           "SL1344_2244"
          ],
          [
           "SL1344_2309"
          ],
          [
           "SL1344_2311"
          ],
          [
           "SL1344_2312"
          ],
          [
           "SL1344_2314"
          ],
          [
           "SL1344_2341"
          ],
          [
           "SL1344_2343"
          ],
          [
           "SL1344_2345"
          ],
          [
           "SL1344_2346"
          ],
          [
           "SL1344_2373"
          ],
          [
           "SL1344_2415"
          ],
          [
           "SL1344_2441"
          ],
          [
           "SL1344_2457"
          ],
          [
           "SL1344_2466"
          ],
          [
           "SL1344_2492"
          ],
          [
           "SL1344_2496"
          ],
          [
           "SL1344_2509"
          ],
          [
           "SL1344_2536"
          ],
          [
           "SL1344_2537"
          ],
          [
           "SL1344_2548"
          ],
          [
           "SL1344_2549"
          ],
          [
           "SL1344_2551"
          ],
          [
           "SL1344_2583"
          ],
          [
           "SL1344_2586"
          ],
          [
           "SL1344_2594"
          ],
          [
           "SL1344_2641"
          ],
          [
           "SL1344_2653"
          ],
          [
           "SL1344_2663"
          ],
          [
           "SL1344_2671"
          ],
          [
           "SL1344_2673"
          ],
          [
           "SL1344_2676"
          ],
          [
           "SL1344_2696"
          ],
          [
           "SL1344_2698"
          ],
          [
           "SL1344_2709"
          ],
          [
           "SL1344_2710"
          ],
          [
           "SL1344_2713"
          ],
          [
           "SL1344_2721"
          ],
          [
           "SL1344_2722"
          ],
          [
           "SL1344_2725"
          ],
          [
           "SL1344_2726"
          ],
          [
           "SL1344_2727"
          ],
          [
           "SL1344_2730"
          ],
          [
           "SL1344_2731"
          ],
          [
           "SL1344_2745"
          ],
          [
           "SL1344_2747"
          ],
          [
           "SL1344_2750"
          ],
          [
           "SL1344_2752"
          ],
          [
           "SL1344_2772"
          ],
          [
           "SL1344_2789"
          ],
          [
           "SL1344_2880"
          ],
          [
           "SL1344_2882"
          ],
          [
           "SL1344_2922"
          ],
          [
           "SL1344_2990"
          ],
          [
           "SL1344_3000"
          ],
          [
           "SL1344_3009"
          ],
          [
           "SL1344_3010"
          ],
          [
           "SL1344_3014"
          ],
          [
           "SL1344_3028"
          ],
          [
           "SL1344_3055"
          ],
          [
           "SL1344_3057"
          ],
          [
           "SL1344_3059"
          ],
          [
           "SL1344_3061"
          ],
          [
           "SL1344_3091"
          ],
          [
           "SL1344_3092"
          ],
          [
           "SL1344_3097"
          ],
          [
           "SL1344_3098"
          ],
          [
           "SL1344_3100"
          ],
          [
           "SL1344_3106"
          ],
          [
           "SL1344_3107"
          ],
          [
           "SL1344_3112"
          ],
          [
           "SL1344_3128"
          ],
          [
           "SL1344_3141"
          ],
          [
           "SL1344_3144"
          ],
          [
           "SL1344_3166"
          ],
          [
           "SL1344_3167"
          ],
          [
           "SL1344_3227"
          ],
          [
           "SL1344_3228"
          ],
          [
           "SL1344_3230"
          ],
          [
           "SL1344_3251"
          ],
          [
           "SL1344_3361"
          ],
          [
           "SL1344_3495"
          ],
          [
           "SL1344_3513"
          ],
          [
           "SL1344_3514"
          ],
          [
           "SL1344_3563"
          ],
          [
           "SL1344_3564"
          ],
          [
           "SL1344_3565"
          ],
          [
           "SL1344_3569"
          ],
          [
           "SL1344_3597"
          ],
          [
           "SL1344_3598"
          ],
          [
           "SL1344_3617"
          ],
          [
           "SL1344_3644"
          ],
          [
           "SL1344_3646"
          ],
          [
           "SL1344_3655"
          ],
          [
           "SL1344_3663"
          ],
          [
           "SL1344_3704"
          ],
          [
           "SL1344_3717"
          ],
          [
           "SL1344_3738"
          ],
          [
           "SL1344_3740"
          ],
          [
           "SL1344_3743"
          ],
          [
           "SL1344_3745"
          ],
          [
           "SL1344_3746"
          ],
          [
           "SL1344_3747"
          ],
          [
           "SL1344_3748"
          ],
          [
           "SL1344_3749"
          ],
          [
           "SL1344_3750"
          ],
          [
           "SL1344_3751"
          ],
          [
           "SL1344_3758"
          ],
          [
           "SL1344_3759"
          ],
          [
           "SL1344_3767"
          ],
          [
           "SL1344_3800"
          ],
          [
           "SL1344_3896"
          ],
          [
           "SL1344_3934"
          ],
          [
           "SL1344_3958"
          ],
          [
           "SL1344_3960"
          ],
          [
           "SL1344_3961"
          ],
          [
           "SL1344_3987"
          ],
          [
           "SL1344_3993"
          ],
          [
           "SL1344_4000"
          ],
          [
           "SL1344_4001"
          ],
          [
           "SL1344_4014"
          ],
          [
           "SL1344_4015"
          ],
          [
           "SL1344_4017"
          ],
          [
           "SL1344_4047"
          ],
          [
           "SL1344_4051"
          ],
          [
           "SL1344_4052"
          ],
          [
           "SL1344_4053"
          ],
          [
           "SL1344_4054"
          ],
          [
           "SL1344_4131"
          ],
          [
           "SL1344_4132"
          ],
          [
           "SL1344_4135"
          ],
          [
           "SL1344_4139"
          ],
          [
           "SL1344_4146"
          ],
          [
           "SL1344_4148"
          ],
          [
           "SL1344_4149"
          ],
          [
           "SL1344_4151"
          ],
          [
           "SL1344_4152"
          ],
          [
           "SL1344_4153"
          ],
          [
           "SL1344_4155"
          ],
          [
           "SL1344_4239"
          ],
          [
           "SL1344_4247"
          ],
          [
           "SL1344_4248"
          ],
          [
           "SL1344_4252"
          ],
          [
           "SL1344_4345"
          ],
          [
           "SL1344_4346"
          ],
          [
           "SL1344_4355"
          ],
          [
           "SL1344_4364"
          ],
          [
           "SL1344_4373"
          ],
          [
           "SL1344_4397"
          ],
          [
           "SL1344_4418"
          ],
          [
           "SL1344_4420"
          ],
          [
           "SL1344_4422"
          ],
          [
           "SL1344_4424"
          ],
          [
           "SL1344_4432"
          ],
          [
           "SL1344_4433"
          ],
          [
           "SL1344_4434"
          ],
          [
           "SL1344_4435"
          ],
          [
           "SL1344_4450"
          ],
          [
           "SL1344_4453"
          ],
          [
           "SL1344_4465"
          ],
          [
           "SL1344_4467"
          ],
          [
           "SL1344_4468"
          ],
          [
           "SL1344_4469"
          ],
          [
           "SL1344_4471"
          ],
          [
           "SL1344_4482"
          ],
          [
           "SL1344_4523"
          ],
          [
           "SL1344_4523A"
          ],
          [
           "SL1344_RS23675"
          ],
          [
           "SL1344_RS23750"
          ],
          [
           "SL1344_RS23770"
          ],
          [
           "SL1344_RS23780"
          ],
          [
           "SL1344_RS23805"
          ],
          [
           "SL1344_RS23815"
          ],
          [
           "SL1344_RS23890"
          ],
          [
           "SL1344_RS23930"
          ],
          [
           "SL1344_RS23930"
          ],
          [
           "SL1344_RS23960"
          ],
          [
           "SL1344_RS23990"
          ],
          [
           "SL1344_RS24020"
          ],
          [
           "SL1344_RS24075"
          ],
          [
           "SL1344_RS24125"
          ],
          [
           "SL1344_RS24150"
          ],
          [
           "SL1344_RS24225"
          ],
          [
           "SL1344_RS24230"
          ],
          [
           "SL1344_RS24235"
          ],
          [
           "SL1344_RS24240"
          ],
          [
           "SL1344_RS24245"
          ],
          [
           "SL1344_RS24250"
          ],
          [
           "SL1344_RS24255"
          ],
          [
           "SL1344_RS24350"
          ],
          [
           "SL1344_RS24365"
          ],
          [
           "SL1344_RS24370"
          ],
          [
           "SL1344_RS24385"
          ],
          [
           "SL1344_RS24445"
          ],
          [
           "SL1344_RS24470"
          ],
          [
           "SL1344_RS24475"
          ],
          [
           "SL1344_RS24485"
          ],
          [
           "SL1344_RS24550"
          ],
          [
           "SL1344_RS24575"
          ],
          [
           "SL1344_RS24580"
          ],
          [
           "SL1344_RS24605"
          ],
          [
           "SL1344_RS24610"
          ],
          [
           "SL1344_RS24615"
          ],
          [
           "SL1344_RS24650"
          ],
          [
           "SL1344_RS24665"
          ],
          [
           "SL1344_RS24670"
          ],
          [
           "SL1344_RS24675"
          ],
          [
           "SL1344_RS24695"
          ],
          [
           "SL1344_RS24700"
          ],
          [
           "SL1344_RS24725"
          ],
          [
           "SL1344_RS24730"
          ],
          [
           "SL1344_RS26380"
          ],
          [
           "SL1344_RS26430"
          ],
          [
           "SL1344_RS26440"
          ],
          [
           "SL1344_RS26895"
          ],
          [
           "SL1344_RS27455"
          ],
          [
           "SL1344_RS27460"
          ],
          [
           "SL1344_RS27480"
          ],
          [
           "STM3025.1N"
          ],
          [
           "STM3026"
          ],
          [
           "TAAATCAATTAATATCG"
          ],
          [
           "TAACCCCCCCGCCGGAG"
          ],
          [
           "TAACCCCCGACTATATG"
          ],
          [
           "TAACGAGACGCTAAGGG"
          ],
          [
           "TAACGGTAAGGGGGCGT"
          ],
          [
           "TAACTCCCGCGAGTCGA"
          ],
          [
           "TAAGTCTTTAGGGTCCG"
          ],
          [
           "TAAGTGACCACGGATAG"
          ],
          [
           "TAATATTAGATGCCATA"
          ],
          [
           "TAATGCTACAATTATGT"
          ],
          [
           "TACAACACACGATACCA"
          ],
          [
           "TACAGGTTCCTTGGAAT"
          ],
          [
           "TACCAGCACTAACCCAT"
          ],
          [
           "TACCCCACCAAGTTACT"
          ],
          [
           "TACCCCACCAAGTTACT"
          ],
          [
           "TACCGACTGGAACCGAA"
          ],
          [
           "TACGTCGTACTGTTTCC"
          ],
          [
           "TACTGAAGTGACGTGTG"
          ],
          [
           "TAGAAAGAAGTGATCCA"
          ],
          [
           "TAGCTATGCCTCCCGTA"
          ],
          [
           "TATACATCAGAACACAC"
          ],
          [
           "TATACCATAAGTTAACG"
          ],
          [
           "TATCAGATGGGCTTTCC"
          ],
          [
           "TATCCCACGTGGATCAA"
          ],
          [
           "TATCCCTTACGCCCATA"
          ],
          [
           "TATGAAGCGGACTAGGT"
          ],
          [
           "TATTACGCACAGCGGGG"
          ],
          [
           "TCAGATTGTCCAAAGCG"
          ],
          [
           "TCAGTAGGTAGTGACAA"
          ],
          [
           "TCATGGTAACGCGGGGC"
          ],
          [
           "TCCCATTATTCCCGTAT"
          ],
          [
           "TCCCGGCCGAATATCAA"
          ],
          [
           "TCCGCTGATTCAGATTG"
          ],
          [
           "TCCGTCGCATAGGTACG"
          ],
          [
           "TCGACGCGGGGCAACTT"
          ],
          [
           "TCGGCCCCGATACACAG"
          ],
          [
           "TCTATAACCGCAGCGCC"
          ],
          [
           "TCTATAACCGCAGCGCC"
          ],
          [
           "TCTATGCATTATGGTAA"
          ],
          [
           "TCTCCTCGGTAAGACCT"
          ],
          [
           "TCTCTCCGCACTTTTAT"
          ],
          [
           "TCTCTCCGCACTTTTAT"
          ],
          [
           "TGACAGTAGTCGTGACA"
          ],
          [
           "TGACATCACCGGCCCCG"
          ],
          [
           "TGATGGACCGACGTAGG"
          ],
          [
           "TGCCGATATGCGTACAC"
          ],
          [
           "TGCTAGGTAGCCTCATA"
          ],
          [
           "TGCTCCTGACCACCACC"
          ],
          [
           "TGGACAAACACCCATAT"
          ],
          [
           "TGGCAAGCGTGTTTGGA"
          ],
          [
           "TGGTGCTGCGCTGGTGC"
          ],
          [
           "TGTGATTGGTATAATGT"
          ],
          [
           "TGTTAAAAGGCTTTACG"
          ],
          [
           "TTATGTCCCGGATACCA"
          ],
          [
           "TTCAGGCGCGCGCTTTG"
          ],
          [
           "TTGCAGGAGCTGAATAT"
          ],
          [
           "TTGTGACGCGAACATCA"
          ],
          [
           "TTGTTTCATAGCCAGGG"
          ],
          [
           "TTTCTACCGCGAGAGGG"
          ],
          [
           "TTTGCGTGGTCTCAACG"
          ],
          [
           "aadA"
          ],
          [
           "abrB"
          ],
          [
           "acrE"
          ],
          [
           "actP"
          ],
          [
           "adiY"
          ],
          [
           "aefA"
          ],
          [
           "agaR"
          ],
          [
           "aldB"
          ],
          [
           "allC"
          ],
          [
           "allD"
          ],
          [
           "allP"
          ],
          [
           "ampH"
          ],
          [
           "aph(3'')-Ib"
          ],
          [
           "appB"
          ],
          [
           "araD"
          ],
          [
           "argDb"
          ],
          [
           "argH"
          ],
          [
           "aroE"
          ],
          [
           "aroM"
          ],
          [
           "aroQ"
          ],
          [
           "assT"
          ],
          [
           "avrA"
          ],
          [
           "b2145"
          ],
          [
           "bcfA"
          ],
          [
           "bcfB"
          ],
          [
           "bcfE"
          ],
          [
           "bisC"
          ],
          [
           "blc"
          ],
          [
           "btuF"
          ],
          [
           "cadB"
          ],
          [
           "cadC"
          ],
          [
           "ccmF2"
          ],
          [
           "celB"
          ],
          [
           "celD"
          ],
          [
           "celF"
          ],
          [
           "chaA"
          ],
          [
           "citA"
          ],
          [
           "citA2"
          ],
          [
           "clcB"
          ],
          [
           "cls"
          ],
          [
           "comD"
          ],
          [
           "comM"
          ],
          [
           "comP"
          ],
          [
           "cpaF"
          ],
          [
           "cpsB2"
          ],
          [
           "csgA"
          ],
          [
           "csgB"
          ],
          [
           "csgF"
          ],
          [
           "csgG"
          ],
          [
           "csiD"
          ],
          [
           "cyoA"
          ],
          [
           "cysA"
          ],
          [
           "cysJ"
          ],
          [
           "cysQ"
          ],
          [
           "dbh"
          ],
          [
           "dcoC"
          ],
          [
           "dcuB"
          ],
          [
           "dgoR"
          ],
          [
           "dgt"
          ],
          [
           "dhaB"
          ],
          [
           "dmsA1"
          ],
          [
           "dpaL"
          ],
          [
           "dppA"
          ],
          [
           "dppD"
          ],
          [
           "ego"
          ],
          [
           "envE"
          ],
          [
           "envR"
          ],
          [
           "eutJ"
          ],
          [
           "excA"
          ],
          [
           "fadE"
          ],
          [
           "fbaB"
          ],
          [
           "fdrA"
          ],
          [
           "feoB"
          ],
          [
           "fepE"
          ],
          [
           "fhuA"
          ],
          [
           "fhuE"
          ],
          [
           "fidL"
          ],
          [
           "fimA"
          ],
          [
           "fimC"
          ],
          [
           "fimH"
          ],
          [
           "fimW"
          ],
          [
           "fimY"
          ],
          [
           "fimZ"
          ],
          [
           "flhAb"
          ],
          [
           "fliI"
          ],
          [
           "fliR"
          ],
          [
           "fljB"
          ],
          [
           "frdA"
          ],
          [
           "frdC"
          ],
          [
           "fucP"
          ],
          [
           "fumB"
          ],
          [
           "gabP"
          ],
          [
           "galF"
          ],
          [
           "garD"
          ],
          [
           "garRa"
          ],
          [
           "gatD"
          ],
          [
           "gatY"
          ],
          [
           "glgX"
          ],
          [
           "glpK"
          ],
          [
           "glpT"
          ],
          [
           "gltB"
          ],
          [
           "gltI"
          ],
          [
           "gltK"
          ],
          [
           "gltP"
          ],
          [
           "gltS"
          ],
          [
           "gntK"
          ],
          [
           "gogB"
          ],
          [
           "gsp"
          ],
          [
           "gtrAb"
          ],
          [
           "gtrBa"
          ],
          [
           "gtrBa"
          ],
          [
           "gtrBb"
          ],
          [
           "hemF"
          ],
          [
           "hemY"
          ],
          [
           "hflC"
          ],
          [
           "hilA"
          ],
          [
           "hilC"
          ],
          [
           "hin"
          ],
          [
           "hisA"
          ],
          [
           "hmpA"
          ],
          [
           "hpaD"
          ],
          [
           "hscC"
          ],
          [
           "hsdM"
          ],
          [
           "hsdR"
          ],
          [
           "htrA"
          ],
          [
           "hyaA2"
          ],
          [
           "hybA"
          ],
          [
           "hycF"
          ],
          [
           "hypA"
          ],
          [
           "iacP"
          ],
          [
           "iclR"
          ],
          [
           "idnD"
          ],
          [
           "idnK"
          ],
          [
           "ilvG"
          ],
          [
           "ilvI"
          ],
          [
           "invA"
          ],
          [
           "invB"
          ],
          [
           "invE"
          ],
          [
           "invG"
          ],
          [
           "invJ"
          ],
          [
           "iolC"
          ],
          [
           "iolE"
          ],
          [
           "iolG1"
          ],
          [
           "iolG2"
          ],
          [
           "iolH"
          ],
          [
           "iolI2"
          ],
          [
           "iolR"
          ],
          [
           "iolT1"
          ],
          [
           "iolT2"
          ],
          [
           "iraD"
          ],
          [
           "iroN"
          ],
          [
           "katE"
          ],
          [
           "katG"
          ],
          [
           "kdpE"
          ],
          [
           "kefB"
          ],
          [
           "leuA"
          ],
          [
           "leuO"
          ],
          [
           "livH"
          ],
          [
           "lpfA"
          ],
          [
           "lpfB"
          ],
          [
           "lpfC"
          ],
          [
           "lpfD"
          ],
          [
           "lpxP"
          ],
          [
           "lysC"
          ],
          [
           "malE"
          ],
          [
           "malF"
          ],
          [
           "malM"
          ],
          [
           "malP"
          ],
          [
           "manA"
          ],
          [
           "marT"
          ],
          [
           "melA"
          ],
          [
           "menF"
          ],
          [
           "metB"
          ],
          [
           "metC"
          ],
          [
           "mglA"
          ],
          [
           "mglC"
          ],
          [
           "mgtB"
          ],
          [
           "mgtC"
          ],
          [
           "miaE"
          ],
          [
           "mig-14"
          ],
          [
           "misL"
          ],
          [
           "mltB"
          ],
          [
           "mltC"
          ],
          [
           "mobB"
          ],
          [
           "msrA"
          ],
          [
           "mutY"
          ],
          [
           "nadB"
          ],
          [
           "nanA"
          ],
          [
           "narK"
          ],
          [
           "narL"
          ],
          [
           "nfnB"
          ],
          [
           "nlpD"
          ],
          [
           "norW"
          ],
          [
           "nrdD"
          ],
          [
           "nrdF"
          ],
          [
           "nrfB"
          ],
          [
           "oafA"
          ],
          [
           "ompL"
          ],
          [
           "ompN"
          ],
          [
           "ompR"
          ],
          [
           "oppA"
          ],
          [
           "orf245"
          ],
          [
           "orf32"
          ],
          [
           "orf408"
          ],
          [
           "orf48"
          ],
          [
           "pagC"
          ],
          [
           "pagN"
          ],
          [
           "pagO"
          ],
          [
           "panC"
          ],
          [
           "pefA"
          ],
          [
           "pefB"
          ],
          [
           "pefC"
          ],
          [
           "pepE"
          ],
          [
           "pepQ"
          ],
          [
           "pheP"
          ],
          [
           "phoN"
          ],
          [
           "pilL"
          ],
          [
           "pilM"
          ],
          [
           "pilP"
          ],
          [
           "pilV"
          ],
          [
           "pipA"
          ],
          [
           "pipB"
          ],
          [
           "pipB2"
          ],
          [
           "pipC"
          ],
          [
           "pipD"
          ],
          [
           "pocR"
          ],
          [
           "ppc"
          ],
          [
           "pphA"
          ],
          [
           "pphB"
          ],
          [
           "ppk"
          ],
          [
           "pqaA"
          ],
          [
           "ptsA"
          ],
          [
           "purD"
          ],
          [
           "purH"
          ],
          [
           "rarD"
          ],
          [
           "recEa"
          ],
          [
           "res"
          ],
          [
           "rfaI"
          ],
          [
           "rfaJ"
          ],
          [
           "rfaL"
          ],
          [
           "rfaZ"
          ],
          [
           "rfbB"
          ],
          [
           "rfbC"
          ],
          [
           "rfbD"
          ],
          [
           "rfbG"
          ],
          [
           "rfbH"
          ],
          [
           "rfbI"
          ],
          [
           "rfbK"
          ],
          [
           "rfbN"
          ],
          [
           "rfe"
          ],
          [
           "rhaR"
          ],
          [
           "rhaS"
          ],
          [
           "rhlB"
          ],
          [
           "rhuM"
          ],
          [
           "rihC"
          ],
          [
           "rimJ"
          ],
          [
           "rluA"
          ],
          [
           "rluC"
          ],
          [
           "rmf"
          ],
          [
           "rstA"
          ],
          [
           "rtsA"
          ],
          [
           "sbcC"
          ],
          [
           "sciJ"
          ],
          [
           "sciK"
          ],
          [
           "sciR"
          ],
          [
           "sciS"
          ],
          [
           "selB"
          ],
          [
           "sfbB"
          ],
          [
           "sgaT"
          ],
          [
           "shdA"
          ],
          [
           "sicA"
          ],
          [
           "sifB"
          ],
          [
           "siiA"
          ],
          [
           "siiB"
          ],
          [
           "siiC"
          ],
          [
           "siiD"
          ],
          [
           "siiE"
          ],
          [
           "siiF"
          ],
          [
           "sinH"
          ],
          [
           "sinR"
          ],
          [
           "sipA"
          ],
          [
           "sipB"
          ],
          [
           "sipC"
          ],
          [
           "sipD"
          ],
          [
           "slrP"
          ],
          [
           "slsA"
          ],
          [
           "sopB"
          ],
          [
           "sopD"
          ],
          [
           "sopD2"
          ],
          [
           "sopE"
          ],
          [
           "spaO"
          ],
          [
           "spaP"
          ],
          [
           "spaR"
          ],
          [
           "spaS"
          ],
          [
           "speA"
          ],
          [
           "speC"
          ],
          [
           "sprB"
          ],
          [
           "spvB"
          ],
          [
           "spvC"
          ],
          [
           "spvD"
          ],
          [
           "spvR"
          ],
          [
           "srfC"
          ],
          [
           "srlA"
          ],
          [
           "ssaD"
          ],
          [
           "ssaI"
          ],
          [
           "ssaJ"
          ],
          [
           "ssaL"
          ],
          [
           "ssaO"
          ],
          [
           "ssaT"
          ],
          [
           "ssaU"
          ],
          [
           "ssaV"
          ],
          [
           "sscB"
          ],
          [
           "sseBa"
          ],
          [
           "sseC"
          ],
          [
           "sseF"
          ],
          [
           "sseI"
          ],
          [
           "sseK1"
          ],
          [
           "sseK3"
          ],
          [
           "sseL"
          ],
          [
           "sspB"
          ],
          [
           "ssrA"
          ],
          [
           "stbA"
          ],
          [
           "stbB"
          ],
          [
           "stbD"
          ],
          [
           "stbE"
          ],
          [
           "stcA"
          ],
          [
           "stcC"
          ],
          [
           "stcD"
          ],
          [
           "stdA"
          ],
          [
           "stdB"
          ],
          [
           "steB"
          ],
          [
           "steC"
          ],
          [
           "stfC"
          ],
          [
           "sthA"
          ],
          [
           "sthB"
          ],
          [
           "stiC"
          ],
          [
           "stjA"
          ],
          [
           "stjB"
          ],
          [
           "stjC"
          ],
          [
           "sugR"
          ],
          [
           "tal"
          ],
          [
           "tdcA"
          ],
          [
           "tdcB"
          ],
          [
           "tdcC"
          ],
          [
           "tdcD"
          ],
          [
           "thiF"
          ],
          [
           "thiP"
          ],
          [
           "thrB"
          ],
          [
           "tktB"
          ],
          [
           "tnp"
          ],
          [
           "tnpA"
          ],
          [
           "torD"
          ],
          [
           "torD"
          ],
          [
           "traA"
          ],
          [
           "traF"
          ],
          [
           "traG"
          ],
          [
           "traI"
          ],
          [
           "traI"
          ],
          [
           "traJ"
          ],
          [
           "traL"
          ],
          [
           "traM"
          ],
          [
           "traO"
          ],
          [
           "traP"
          ],
          [
           "traP"
          ],
          [
           "traR"
          ],
          [
           "traU"
          ],
          [
           "traV"
          ],
          [
           "traX"
          ],
          [
           "traY"
          ],
          [
           "trbA"
          ],
          [
           "treB"
          ],
          [
           "treF"
          ],
          [
           "tsr"
          ],
          [
           "ttdA"
          ],
          [
           "ttdB"
          ],
          [
           "ttrB"
          ],
          [
           "udg"
          ],
          [
           "ugpQ"
          ],
          [
           "uhpB"
          ],
          [
           "uhpC"
          ],
          [
           "uspB"
          ],
          [
           "uxaC"
          ],
          [
           "vapB"
          ],
          [
           "virK"
          ],
          [
           "wcaA"
          ],
          [
           "wcaC"
          ],
          [
           "wcaD"
          ],
          [
           "wcaF"
          ],
          [
           "wza"
          ],
          [
           "xylA"
          ],
          [
           "yadI"
          ],
          [
           "yafP"
          ],
          [
           "yaiU"
          ],
          [
           "yaiV"
          ],
          [
           "ybbK"
          ],
          [
           "ybbP"
          ],
          [
           "ybdN"
          ],
          [
           "ybdO"
          ],
          [
           "ybeQ"
          ],
          [
           "ybeS"
          ],
          [
           "ybeV"
          ],
          [
           "ybfM"
          ],
          [
           "ybgH"
          ],
          [
           "ybiI"
          ],
          [
           "ybjX"
          ],
          [
           "ycbK"
          ],
          [
           "yccD"
          ],
          [
           "yccW"
          ],
          [
           "ycdW"
          ],
          [
           "yceJ"
          ],
          [
           "yciE"
          ],
          [
           "ycjE"
          ],
          [
           "ydcK"
          ],
          [
           "yddG"
          ],
          [
           "yddX"
          ],
          [
           "ydeE"
          ],
          [
           "ydeW"
          ],
          [
           "ydeY"
          ],
          [
           "ydeZ"
          ],
          [
           "ydgA"
          ],
          [
           "ydgF"
          ],
          [
           "ydiD"
          ],
          [
           "ydiF"
          ],
          [
           "ydiM"
          ],
          [
           "ydiN"
          ],
          [
           "ydiP"
          ],
          [
           "ydiS"
          ],
          [
           "ydiV"
          ],
          [
           "yeaH"
          ],
          [
           "yeaJ"
          ],
          [
           "yeaS"
          ],
          [
           "yebG"
          ],
          [
           "yebU"
          ],
          [
           "yecA"
          ],
          [
           "yeeF"
          ],
          [
           "yeeN"
          ],
          [
           "yeeX"
          ],
          [
           "yegH"
          ],
          [
           "yegQ"
          ],
          [
           "yehE"
          ],
          [
           "yejF"
          ],
          [
           "yejH"
          ],
          [
           "yfcG"
          ],
          [
           "yfhA"
          ],
          [
           "yfhD"
          ],
          [
           "yfiQ"
          ],
          [
           "yfiR"
          ],
          [
           "ygdE"
          ],
          [
           "ygeA"
          ],
          [
           "ygiX"
          ],
          [
           "yhaJ"
          ],
          [
           "yhcK"
          ],
          [
           "yhcM"
          ],
          [
           "yhcP"
          ],
          [
           "yheR"
          ],
          [
           "yhfL"
          ],
          [
           "yhgE"
          ],
          [
           "yhiH"
          ],
          [
           "yhiP"
          ],
          [
           "yhiR"
          ],
          [
           "yhjA"
          ],
          [
           "yhjB"
          ],
          [
           "yhjE"
          ],
          [
           "yhjS"
          ],
          [
           "yhjV"
          ],
          [
           "yiaB"
          ],
          [
           "yiaH"
          ],
          [
           "yiaN"
          ],
          [
           "yiaO"
          ],
          [
           "yicH"
          ],
          [
           "yidE"
          ],
          [
           "yieG"
          ],
          [
           "yieN"
          ],
          [
           "yieO"
          ],
          [
           "yigF"
          ],
          [
           "yigN"
          ],
          [
           "yihG"
          ],
          [
           "yihO"
          ],
          [
           "yihR"
          ],
          [
           "yihT"
          ],
          [
           "yihW"
          ],
          [
           "yiiG"
          ],
          [
           "yijD"
          ],
          [
           "yijF"
          ],
          [
           "yjbC"
          ],
          [
           "yjbH"
          ],
          [
           "yjcC"
          ],
          [
           "yjeI"
          ],
          [
           "yjeJ"
          ],
          [
           "yjeK"
          ],
          [
           "yjeM"
          ],
          [
           "yjeP"
          ],
          [
           "yjeS"
          ],
          [
           "yjfJ"
          ],
          [
           "yjfM"
          ],
          [
           "yjfY"
          ],
          [
           "yjgM"
          ],
          [
           "yjgN"
          ],
          [
           "yjhP"
          ],
          [
           "yjiH"
          ],
          [
           "yjiN"
          ],
          [
           "yjjQ"
          ],
          [
           "yjjW"
          ],
          [
           "ylbA"
          ],
          [
           "yncC"
          ],
          [
           "yncD"
          ],
          [
           "yneA"
          ],
          [
           "yneB"
          ],
          [
           "yoaE"
          ],
          [
           "yohI"
          ],
          [
           "yojN"
          ],
          [
           "ypfG"
          ],
          [
           "ypfI"
          ],
          [
           "yqjK"
          ],
          [
           "yraO"
          ],
          [
           "yraO"
          ],
          [
           "yrbF"
          ],
          [
           "yrbG"
          ],
          [
           "ysaA"
          ],
          [
           "ytfF"
          ],
          [
           "ytfG"
          ],
          [
           "ytfJ"
          ],
          [
           "ytfM"
          ]
         ],
         "hovertemplate": "x=%{x}<br>y=%{y}<br>index=%{customdata[0]}<br>color=%{marker.color}<extra></extra>",
         "legendgroup": "",
         "marker": {
          "color": [
           0.013835573651776808,
           0.13144835867567767,
           3.1256076753632387,
           0.13144835867567767,
           0.2279614589336546,
           2.2844956499693168,
           0.1949833276258772,
           2.428116020565252,
           2.2844956499693168,
           2.2844956499693168,
           1.3357410877816405,
           9.004895928523096,
           3.8170471901590473,
           1.3357410877816405,
           0.2279614589336546,
           0.3318314023493974,
           5.192290148053895,
           1.2259609460873095,
           1.2259609460873095,
           2.0094903798724815,
           0.2279614589336546,
           0.9194356943079616,
           0.9194356943079616,
           0.013835573651776808,
           1.172508713598796,
           1.017846970825221,
           4.879701235362897,
           5.192290148053895,
           0.2279614589336546,
           0.013835573651776808,
           0.2279614589336546,
           1.566928213083608,
           0.4821156700730621,
           3.726896397730706,
           7.529466773687504,
           0.9194356943079616,
           1.8780535172091852,
           1.8138395478983476,
           2.7277133603107755,
           1.4493853640501055,
           0.07108802435822836,
           3.3769459312103773,
           1.6271719300524807,
           0.5218390570124488,
           4.576912853397589,
           0.2279614589336546,
           0.1949833276258772,
           1.6884024920272518,
           1.392078018807697,
           2.7277133603107755,
           0.10087547384020776,
           2.3557934268915504,
           0.2279614589336546,
           0.2963779453174216,
           2.9633118239794545,
           3.043935052393491,
           2.428116020565252,
           1.0684565643744994,
           0.3318314023493974,
           0.7336969743673736,
           0.5218390570124488,
           0.6039151515393891,
           0.9681750565674255,
           0.4432600046202203,
           1.4493853640501055,
           0.7787598344578839,
           0.7787598344578839,
           1.120008847046989,
           0.8716236369014173,
           1.017846970825221,
           0.2617571219001696,
           6.0740796229836675,
           2.1449622273761926,
           0.7336969743673736,
           2.0094903798724815,
           6.0740796229836675,
           2.1449622273761926,
           2.8052035508489794,
           0.07108802435822836,
           3.2083321221516616,
           0.2617571219001696,
           0.3318314023493974,
           2.7277133603107755,
           0.6039151515393891,
           2.3557934268915504,
           2.0094903798724815,
           0.8247335149584567,
           2.076720239393568,
           2.0094903798724815,
           1.8138395478983476,
           2.428116020565252,
           0.8716236369014173,
           0.8716236369014173,
           0.16281494219815387,
           3.043935052393491,
           0.2963779453174216,
           3.549794840638666,
           0.2963779453174216,
           0.3318314023493974,
           0.2279614589336546,
           8.31740199531262,
           1.2259609460873095,
           3.8170471901590473,
           0.5218390570124488,
           3.46283988308357,
           0.7336969743673736,
           1.8138395478983476,
           9.004895928523096,
           0.3681248120275301,
           0.16281494219815387,
           2.428116020565252,
           4.576912853397589,
           2.651262269683513,
           2.651262269683513,
           6.661047718125514,
           5.51472079162294,
           6.1892595262580965,
           0.9681750565674255,
           3.8170471901590473,
           2.428116020565252,
           1.5076673771841493,
           0.7336969743673736,
           6.0740796229836675,
           1.4493853640501055,
           5.847031820304038,
           0.4821156700730621,
           1.2803702162356825,
           0.4432600046202203,
           1.7506237707481842,
           0.07108802435822836,
           6.305545088155687,
           1.566928213083608,
           1.8138395478983476,
           0.4821156700730621,
           2.076720239393568,
           1.8138395478983476,
           4.676756020089808,
           0.6895391842781924,
           1.172508713598796,
           0.013835573651776808,
           0.2279614589336546,
           0.4432600046202203,
           4.0005589388368605,
           1.172508713598796,
           0.1949833276258772,
           0.7336969743673736,
           1.8780535172091852,
           0.3681248120275301,
           0.4821156700730621,
           1.6884024920272518,
           0.16281494219815387,
           1.7506237707481842,
           0.13144835867567767,
           2.076720239393568,
           0.2963779453174216,
           1.5076673771841493,
           0.2617571219001696,
           2.9633118239794545,
           1.0684565643744994,
           1.6884024920272518,
           1.392078018807697,
           2.2844956499693168,
           2.2844956499693168,
           0.4432600046202203,
           10.313477007840008,
           2.428116020565252,
           0.8247335149584567,
           4.982806502655646,
           0.7336969743673736,
           7.529466773687504,
           3.9082673764542157,
           0.4432600046202203,
           2.0094903798724815,
           1.017846970825221,
           1.2259609460873095,
           2.076720239393568,
           2.076720239393568,
           2.5014664220201492,
           3.2083321221516616,
           0.8247335149584567,
           1.3357410877816405,
           1.3357410877816405,
           0.5218390570124488,
           0.2963779453174216,
           2.3557934268915504,
           0.2617571219001696,
           5.51472079162294,
           0.13144835867567767,
           0.2617571219001696,
           0.6039151515393891,
           3.726896397730706,
           0.6462805820596441,
           3.8170471901590473,
           0.7336969743673736,
           3.9082673764542157,
           0.13144835867567767,
           1.120008847046989,
           5.960004141767738,
           0.8716236369014173,
           0.4052653408709746,
           0.2617571219001696,
           2.9633118239794545,
           3.549794840638666,
           0.3681248120275301,
           1.566928213083608,
           0.2617571219001696,
           2.651262269683513,
           1.566928213083608,
           1.2803702162356825,
           1.0684565643744994,
           1.0684565643744994,
           1.3357410877816405,
           2.7277133603107755,
           3.1256076753632387,
           0.16281494219815387,
           7.150601209920905,
           0.013835573651776808,
           1.120008847046989,
           6.661047718125514,
           3.2083321221516616,
           2.883735504564162,
           0.5218390570124488,
           0.16281494219815387,
           0.9194356943079616,
           0.4432600046202203,
           0.10087547384020776,
           3.9082673764542157,
           0.2279614589336546,
           0.2279614589336546,
           1.566928213083608,
           1.566928213083608,
           5.192290148053895,
           4.576912853397589,
           2.9633118239794545,
           0.6462805820596441,
           1.7506237707481842,
           1.566928213083608,
           4.0005589388368605,
           0.6462805820596441,
           3.2083321221516616,
           4.676756020089808,
           1.7506237707481842,
           2.5758475534038165,
           0.1949833276258772,
           1.2259609460873095,
           0.5218390570124488,
           1.6884024920272518,
           2.0094903798724815,
           0.3318314023493974,
           0.6462805820596441,
           2.2844956499693168,
           3.549794840638666,
           2.1449622273761926,
           1.8780535172091852,
           0.9194356943079616,
           0.2617571219001696,
           2.7277133603107755,
           1.172508713598796,
           0.16281494219815387,
           0.5624367402162367,
           0.07108802435822836,
           2.2844956499693168,
           0.2963779453174216,
           0.10087547384020776,
           0.07108802435822836,
           0.13144835867567767,
           0.4052653408709746,
           4.879701235362897,
           1.6884024920272518,
           0.2963779453174216,
           1.6884024920272518,
           5.735161369902173,
           2.883735504564162,
           1.7506237707481842,
           0.4052653408709746,
           1.8138395478983476,
           1.2259609460873095,
           0.6039151515393891,
           1.6271719300524807,
           1.8780535172091852,
           7.529466773687504,
           2.1449622273761926,
           4.380477089326683,
           0.4821156700730621,
           2.076720239393568,
           1.9432692865317178,
           2.076720239393568,
           2.0094903798724815,
           2.0094903798724815,
           2.3557934268915504,
           1.566928213083608,
           0.04207758609830864,
           5.847031820304038,
           0.13144835867567767,
           1.120008847046989,
           2.5014664220201492,
           1.2259609460873095,
           3.9082673764542157,
           3.043935052393491,
           1.392078018807697,
           0.04207758609830864,
           4.576912853397589,
           3.726896397730706,
           2.5758475534038165,
           5.406147948412049,
           1.2259609460873095,
           5.960004141767738,
           2.076720239393568,
           1.172508713598796,
           2.651262269683513,
           5.960004141767738,
           0.2963779453174216,
           8.726521695790296,
           3.46283988308357,
           2.1449622273761926,
           4.380477089326683,
           0.3681248120275301,
           2.5758475534038165,
           1.017846970825221,
           2.3557934268915504,
           0.13144835867567767,
           2.883735504564162,
           0.5624367402162367,
           2.0094903798724815,
           1.2803702162356825,
           1.8780535172091852,
           4.188363903676959,
           4.188363903676959,
           3.8170471901590473,
           1.2259609460873095,
           2.8052035508489794,
           2.9633118239794545,
           2.8052035508489794,
           2.651262269683513,
           2.0094903798724815,
           2.7277133603107755,
           3.292110767140747,
           0.8716236369014173,
           1.9432692865317178,
           3.1256076753632387,
           2.7277133603107755,
           2.651262269683513,
           2.8052035508489794,
           5.847031820304038,
           7.026543448938577,
           2.3557934268915504,
           3.2083321221516616,
           3.1256076753632387,
           2.2142196281473607,
           4.0005589388368605,
           1.8780535172091852,
           3.726896397730706,
           2.5014664220201492,
           0.6895391842781924,
           2.2142196281473607,
           1.8780535172091852,
           1.120008847046989,
           6.0740796229836675,
           2.076720239393568,
           5.406147948412049,
           3.46283988308357,
           3.2083321221516616,
           9.14577382832195,
           1.6884024920272518,
           4.093923815894151,
           1.120008847046989,
           2.8052035508489794,
           2.1449622273761926,
           2.7277133603107755,
           2.883735504564162,
           2.8052035508489794,
           2.3557934268915504,
           5.847031820304038,
           1.2803702162356825,
           4.4781537760960175,
           4.576912853397589,
           1.6884024920272518,
           0.7787598344578839,
           1.9432692865317178,
           0.6039151515393891,
           12.201212421174537,
           0.7787598344578839,
           0.9194356943079616,
           5.62439147482751,
           2.428116020565252,
           7.275773666991785,
           0.4432600046202203,
           0.013835573651776808,
           3.2083321221516616,
           2.883735504564162,
           1.2803702162356825,
           1.5076673771841493,
           4.283881056768725,
           0.4821156700730621,
           2.3557934268915504,
           4.576912853397589,
           1.392078018807697,
           0.2617571219001696,
           0.6462805820596441,
           3.3769459312103773,
           0.4052653408709746,
           0.4821156700730621,
           2.7277133603107755,
           1.120008847046989,
           2.651262269683513,
           1.392078018807697,
           3.2083321221516616,
           3.637812972189011,
           1.172508713598796,
           0.2279614589336546,
           1.3357410877816405,
           0.8247335149584567,
           1.2259609460873095,
           1.2259609460873095,
           2.7277133603107755,
           0.2617571219001696,
           1.120008847046989,
           4.188363903676959,
           2.3557934268915504,
           1.017846970825221,
           4.380477089326683,
           3.043935052393491,
           0.8247335149584567,
           0.13144835867567767,
           1.0684565643744994,
           0.6462805820596441,
           1.566928213083608,
           0.013835573651776808,
           0.16281494219815387,
           0.2617571219001696,
           0.07108802435822836,
           3.9082673764542157,
           0.5218390570124488,
           0.13144835867567767,
           2.1449622273761926,
           0.4821156700730621,
           5.298671544183181,
           2.651262269683513,
           1.9432692865317178,
           1.3357410877816405,
           0.04207758609830864,
           1.2259609460873095,
           0.3318314023493974,
           0.2617571219001696,
           0.1949833276258772,
           1.6271719300524807,
           0.04207758609830864,
           0.04207758609830864,
           3.043935052393491,
           1.8138395478983476,
           0.5218390570124488,
           0.9681750565674255,
           2.2844956499693168,
           1.8780535172091852,
           1.6884024920272518,
           2.428116020565252,
           1.017846970825221,
           0.13144835867567767,
           0.5218390570124488,
           0.5218390570124488,
           0.5624367402162367,
           1.172508713598796,
           0.5624367402162367,
           1.120008847046989,
           0.1949833276258772,
           0.8247335149584567,
           1.017846970825221,
           1.2259609460873095,
           0.3681248120275301,
           1.017846970825221,
           1.7506237707481842,
           0.4432600046202203,
           1.566928213083608,
           0.8247335149584567,
           0.6462805820596441,
           0.6039151515393891,
           0.013835573651776808,
           2.651262269683513,
           0.8247335149584567,
           0.6039151515393891,
           0.3681248120275301,
           0.16281494219815387,
           0.13144835867567767,
           1.3357410877816405,
           0.6039151515393891,
           0.013835573651776808,
           0.3318314023493974,
           0.9681750565674255,
           0.3681248120275301,
           0.9194356943079616,
           1.017846970825221,
           1.2259609460873095,
           0.5218390570124488,
           0.7787598344578839,
           1.017846970825221,
           1.2259609460873095,
           4.0005589388368605,
           1.566928213083608,
           1.017846970825221,
           0.7336969743673736,
           0.013835573651776808,
           0.8716236369014173,
           0.9681750565674255,
           0.07108802435822836,
           1.3357410877816405,
           0.5218390570124488,
           1.6271719300524807,
           0.013835573651776808,
           0.13144835867567767,
           0.4052653408709746,
           1.6271719300524807,
           0.4821156700730621,
           0.04207758609830864,
           0.5218390570124488,
           5.406147948412049,
           1.0684565643744994,
           2.5014664220201492,
           0.4432600046202203,
           0.04207758609830864,
           0.6895391842781924,
           2.2844956499693168,
           0.6039151515393891,
           1.172508713598796,
           0.3681248120275301,
           2.9633118239794545,
           1.5076673771841493,
           2.9633118239794545,
           1.0684565643744994,
           2.428116020565252,
           2.7277133603107755,
           1.6884024920272518,
           0.7336969743673736,
           0.9681750565674255,
           0.4432600046202203,
           3.726896397730706,
           0.3681248120275301,
           3.46283988308357,
           5.087002298515287,
           5.960004141767738,
           0.2617571219001696,
           1.0684565643744994,
           0.013835573651776808,
           2.5014664220201492,
           3.2083321221516616,
           3.3769459312103773,
           0.16281494219815387,
           0.7787598344578839,
           0.10087547384020776,
           0.1949833276258772,
           0.2279614589336546,
           0.2279614589336546,
           3.726896397730706,
           4.093923815894151,
           2.8052035508489794,
           2.8052035508489794,
           0.6895391842781924,
           0.7787598344578839,
           4.380477089326683,
           3.637812972189011,
           5.62439147482751,
           1.172508713598796,
           4.777684938505296,
           6.305545088155687,
           2.5014664220201492,
           1.8780535172091852,
           1.566928213083608,
           0.4052653408709746,
           0.4052653408709746,
           2.2142196281473607,
           3.3769459312103773,
           1.8138395478983476,
           2.8052035508489794,
           3.46283988308357,
           3.8170471901590473,
           3.2083321221516616,
           5.087002298515287,
           2.1449622273761926,
           0.7787598344578839,
           0.1949833276258772,
           0.9194356943079616,
           1.6271719300524807,
           0.1949833276258772,
           8.865145485192118,
           0.8247335149584567,
           2.2142196281473607,
           1.9432692865317178,
           2.2142196281473607,
           2.5014664220201492,
           5.192290148053895,
           0.16281494219815387,
           2.076720239393568,
           0.10087547384020776,
           0.13144835867567767,
           0.3318314023493974,
           0.6039151515393891,
           1.2803702162356825,
           0.13144835867567767,
           0.5218390570124488,
           2.8052035508489794,
           1.5076673771841493,
           5.847031820304038,
           0.04207758609830864,
           1.566928213083608,
           0.013835573651776808,
           0.5218390570124488,
           4.283881056768725,
           2.3557934268915504,
           0.4052653408709746,
           6.305545088155687,
           6.305545088155687,
           1.2259609460873095,
           3.8170471901590473,
           2.076720239393568,
           1.9432692865317178,
           4.093923815894151,
           12.531786797880166,
           2.076720239393568,
           0.6895391842781924,
           0.9681750565674255,
           1.2259609460873095,
           1.2259609460873095,
           1.6884024920272518,
           0.3318314023493974,
           1.2259609460873095,
           2.2142196281473607,
           0.6462805820596441,
           0.2279614589336546,
           8.58902374255799,
           1.2803702162356825,
           4.676756020089808,
           12.201212421174537,
           14.253284160509967,
           14.253284160509967,
           0.10087547384020776,
           2.3557934268915504,
           4.4781537760960175,
           4.4781537760960175,
           0.9681750565674255,
           4.777684938505296,
           3.549794840638666,
           2.5014664220201492,
           1.3357410877816405,
           0.10087547384020776,
           5.192290148053895,
           3.549794840638666,
           1.3357410877816405,
           2.3557934268915504,
           0.9194356943079616,
           0.3681248120275301,
           2.7277133603107755,
           3.043935052393491,
           0.04207758609830864,
           0.6462805820596441,
           5.406147948412049,
           0.2963779453174216,
           4.093923815894151,
           0.16281494219815387,
           0.5218390570124488,
           0.3681248120275301,
           0.2617571219001696,
           3.3769459312103773,
           0.1949833276258772,
           1.392078018807697,
           0.8716236369014173,
           6.0740796229836675,
           1.0684565643744994,
           2.5014664220201492,
           0.6895391842781924,
           4.879701235362897,
           1.017846970825221,
           2.1449622273761926,
           2.8052035508489794,
           2.9633118239794545,
           3.46283988308357,
           3.043935052393491,
           1.7506237707481842,
           1.3357410877816405,
           5.735161369902173,
           0.6895391842781924,
           0.7787598344578839,
           4.380477089326683,
           2.428116020565252,
           1.8138395478983476,
           0.3318314023493974,
           5.735161369902173,
           1.566928213083608,
           7.026543448938577,
           2.2844956499693168,
           5.847031820304038,
           1.7506237707481842,
           1.3357410877816405,
           0.4432600046202203,
           0.013835573651776808,
           2.7277133603107755,
           0.3318314023493974,
           0.9681750565674255,
           2.1449622273761926,
           0.1949833276258772,
           4.879701235362897,
           10.014760922805413,
           0.8716236369014173,
           4.283881056768725,
           2.076720239393568,
           4.380477089326683,
           0.3681248120275301,
           0.6039151515393891,
           4.576912853397589,
           1.017846970825221,
           0.6462805820596441,
           0.6039151515393891,
           1.8138395478983476,
           5.735161369902173,
           1.0684565643744994,
           0.6039151515393891,
           3.726896397730706,
           2.1449622273761926,
           2.7277133603107755,
           5.51472079162294,
           0.10087547384020776,
           1.172508713598796,
           4.188363903676959,
           1.9432692865317178,
           2.0094903798724815,
           1.0684565643744994,
           0.7336969743673736,
           2.428116020565252,
           3.292110767140747,
           3.9082673764542157,
           2.2844956499693168,
           0.07108802435822836,
           1.2803702162356825,
           2.5758475534038165,
           0.013835573651776808,
           0.7787598344578839,
           1.392078018807697,
           4.676756020089808,
           0.8716236369014173,
           2.2844956499693168,
           2.7277133603107755,
           0.2617571219001696,
           0.2963779453174216,
           0.2963779453174216,
           8.865145485192118,
           10.924523023434716,
           0.1949833276258772,
           3.043935052393491,
           0.7787598344578839,
           1.0684565643744994,
           0.8716236369014173,
           2.2142196281473607,
           1.2803702162356825,
           3.549794840638666,
           0.10087547384020776,
           8.45265079215853,
           1.6884024920272518,
           1.017846970825221,
           0.7336969743673736,
           2.1449622273761926,
           1.7506237707481842,
           0.4821156700730621,
           2.5758475534038165,
           1.3357410877816405,
           0.1949833276258772,
           0.8716236369014173,
           1.2259609460873095,
           1.2259609460873095,
           0.4052653408709746,
           1.8138395478983476,
           2.2142196281473607,
           1.9432692865317178,
           0.2279614589336546,
           6.541438009106248,
           0.7336969743673736,
           7.150601209920905,
           3.637812972189011,
           0.9194356943079616,
           2.5758475534038165,
           2.7277133603107755,
           1.5076673771841493,
           5.192290148053895,
           3.726896397730706,
           14.253284160509967,
           4.777684938505296,
           1.5076673771841493,
           2.883735504564162,
           0.2617571219001696,
           0.7336969743673736,
           0.2279614589336546,
           3.9082673764542157,
           1.6271719300524807,
           0.13144835867567767,
           0.4432600046202203,
           1.0684565643744994,
           1.2803702162356825,
           3.1256076753632387,
           0.7787598344578839,
           0.2279614589336546,
           4.188363903676959,
           1.6271719300524807,
           0.16281494219815387,
           3.1256076753632387,
           9.14577382832195,
           1.017846970825221,
           2.2142196281473607,
           2.9633118239794545,
           1.4493853640501055,
           2.5014664220201492,
           1.7506237707481842,
           0.13144835867567767,
           0.2617571219001696,
           1.5076673771841493,
           0.8716236369014173,
           1.2803702162356825,
           0.8247335149584567,
           0.2963779453174216,
           0.7336969743673736,
           0.2963779453174216,
           0.6895391842781924,
           5.62439147482751,
           2.2844956499693168,
           0.16281494219815387,
           1.2803702162356825,
           2.7277133603107755,
           13.206648594374055,
           3.2083321221516616,
           1.2259609460873095,
           4.188363903676959,
           0.07108802435822836,
           5.298671544183181,
           0.6895391842781924,
           6.1892595262580965,
           0.2279614589336546,
           0.4432600046202203,
           2.9633118239794545,
           0.013835573651776808,
           0.5624367402162367,
           0.7787598344578839,
           0.013835573651776808,
           0.3681248120275301,
           0.4052653408709746,
           0.5218390570124488,
           1.4493853640501055,
           0.4821156700730621,
           1.566928213083608,
           2.0094903798724815,
           1.6271719300524807,
           0.6895391842781924,
           2.5014664220201492,
           7.787630778577726,
           2.651262269683513,
           1.0684565643744994,
           6.661047718125514,
           1.5076673771841493,
           3.8170471901590473,
           0.1949833276258772,
           7.529466773687504,
           3.3769459312103773,
           3.9082673764542157,
           2.2142196281473607,
           0.8247335149584567,
           3.46283988308357,
           0.16281494219815387,
           1.7506237707481842,
           0.4052653408709746,
           0.6895391842781924,
           4.0005589388368605,
           0.10087547384020776,
           0.04207758609830864,
           0.4052653408709746,
           4.4781537760960175,
           0.16281494219815387,
           0.16281494219815387,
           5.51472079162294,
           5.298671544183181,
           4.188363903676959,
           3.46283988308357,
           4.4781537760960175,
           0.2279614589336546,
           1.5076673771841493,
           1.8780535172091852,
           2.8052035508489794,
           1.9432692865317178,
           6.7817677868695165,
           2.5758475534038165,
           7.026543448938577,
           5.406147948412049,
           1.6271719300524807,
           14.253284160509967,
           14.253284160509967,
           0.10087547384020776,
           2.3557934268915504,
           0.13144835867567767,
           14.253284160509967,
           14.253284160509967,
           10.313477007840008,
           1.4493853640501055,
           4.188363903676959,
           14.253284160509967,
           13.72480986880309,
           14.253284160509967,
           14.253284160509967,
           7.402061851270203,
           7.402061851270203,
           1.017846970825221,
           1.8780535172091852,
           0.2963779453174216,
           0.7336969743673736,
           1.8780535172091852,
           0.13144835867567767,
           0.10087547384020776,
           1.4493853640501055,
           1.5076673771841493,
           4.982806502655646,
           4.879701235362897,
           5.192290148053895,
           0.8716236369014173,
           1.566928213083608,
           1.8138395478983476,
           0.3318314023493974,
           0.3681248120275301,
           0.2963779453174216,
           2.2844956499693168,
           0.13144835867567767,
           1.2259609460873095,
           3.292110767140747,
           2.2844956499693168,
           1.3357410877816405,
           2.3557934268915504,
           0.7336969743673736,
           0.7336969743673736,
           0.5218390570124488,
           0.8247335149584567,
           1.172508713598796,
           1.017846970825221,
           1.2803702162356825,
           3.637812972189011,
           0.8247335149584567,
           0.2963779453174216,
           3.726896397730706,
           3.637812972189011,
           0.6462805820596441,
           0.6462805820596441,
           1.4493853640501055,
           5.087002298515287,
           1.8780535172091852,
           0.1949833276258772,
           1.172508713598796,
           0.2963779453174216,
           1.4493853640501055,
           2.7277133603107755,
           1.2259609460873095,
           0.1949833276258772,
           0.13144835867567767,
           1.172508713598796,
           1.0684565643744994,
           0.16281494219815387,
           3.549794840638666,
           2.2142196281473607,
           2.9633118239794545,
           2.2142196281473607,
           0.5624367402162367,
           1.017846970825221,
           2.9633118239794545,
           5.735161369902173,
           4.777684938505296,
           4.879701235362897,
           3.2083321221516616,
           2.651262269683513,
           2.3557934268915504,
           3.46283988308357,
           3.292110767140747,
           0.3681248120275301,
           4.982806502655646,
           0.3318314023493974,
           1.6271719300524807,
           4.4781537760960175,
           0.9194356943079616,
           0.3318314023493974,
           0.7336969743673736,
           0.8247335149584567,
           0.8716236369014173,
           2.9633118239794545,
           0.1949833276258772,
           0.2963779453174216,
           1.6271719300524807,
           4.879701235362897,
           2.076720239393568,
           2.0094903798724815,
           1.5076673771841493,
           0.2963779453174216,
           0.013835573651776808,
           2.5758475534038165,
           0.5624367402162367,
           0.07108802435822836,
           0.6039151515393891,
           1.392078018807697,
           0.13144835867567767,
           0.3318314023493974,
           0.3681248120275301,
           0.4432600046202203,
           3.726896397730706,
           2.5758475534038165,
           1.2259609460873095,
           2.3557934268915504,
           0.2617571219001696,
           2.7277133603107755,
           1.0684565643744994,
           1.0684565643744994,
           2.9633118239794545,
           1.2803702162356825,
           0.2963779453174216,
           0.6039151515393891,
           0.6039151515393891,
           5.406147948412049,
           4.676756020089808,
           2.3557934268915504,
           3.549794840638666,
           4.0005589388368605,
           4.0005589388368605,
           0.3318314023493974,
           0.7787598344578839,
           2.5758475534038165,
           0.16281494219815387,
           0.5624367402162367,
           1.2259609460873095,
           0.10087547384020776,
           0.7336969743673736,
           3.8170471901590473,
           0.6895391842781924,
           0.6895391842781924,
           3.3769459312103773,
           5.406147948412049,
           1.120008847046989,
           0.9681750565674255,
           0.5218390570124488,
           0.9194356943079616,
           0.2617571219001696,
           1.392078018807697,
           0.2279614589336546,
           4.576912853397589,
           2.7277133603107755,
           2.7277133603107755,
           0.16281494219815387,
           5.960004141767738,
           0.2617571219001696,
           0.3318314023493974,
           0.2279614589336546,
           1.6884024920272518,
           0.8716236369014173,
           0.8247335149584567,
           2.428116020565252,
           0.2279614589336546,
           1.120008847046989,
           2.076720239393568,
           0.10087547384020776,
           1.6271719300524807,
           1.017846970825221,
           0.2617571219001696,
           6.0740796229836675,
           5.847031820304038,
           3.637812972189011,
           4.777684938505296,
           0.9194356943079616,
           2.651262269683513,
           0.5218390570124488,
           3.9082673764542157,
           5.847031820304038,
           4.777684938505296,
           3.46283988308357,
           1.0684565643744994,
           4.093923815894151,
           6.422937520124816,
           1.3357410877816405,
           1.0684565643744994,
           1.2803702162356825,
           1.172508713598796,
           2.5758475534038165,
           2.076720239393568,
           2.883735504564162,
           0.7336969743673736,
           3.1256076753632387,
           2.9633118239794545,
           8.183276486422917,
           0.4821156700730621,
           1.5076673771841493,
           2.7277133603107755,
           5.735161369902173,
           2.883735504564162,
           8.865145485192118,
           2.076720239393568,
           0.16281494219815387,
           3.3769459312103773,
           0.10087547384020776,
           6.0740796229836675,
           4.879701235362897,
           1.6271719300524807,
           6.541438009106248,
           1.392078018807697,
           2.8052035508489794,
           3.1256076753632387,
           1.120008847046989,
           1.8138395478983476,
           2.9633118239794545,
           1.392078018807697,
           4.982806502655646,
           2.2142196281473607,
           2.8052035508489794,
           1.120008847046989,
           1.7506237707481842,
           0.3681248120275301,
           1.2259609460873095,
           1.6884024920272518,
           0.6039151515393891,
           0.4821156700730621,
           1.7506237707481842,
           0.8716236369014173,
           1.017846970825221,
           2.428116020565252,
           0.4821156700730621,
           0.7336969743673736,
           2.076720239393568,
           0.7787598344578839,
           0.10087547384020776,
           0.6895391842781924,
           3.043935052393491,
           0.8716236369014173,
           0.9194356943079616,
           0.10087547384020776,
           0.8247335149584567,
           0.2279614589336546,
           2.0094903798724815,
           1.0684565643744994,
           0.2617571219001696,
           1.2259609460873095,
           0.2279614589336546,
           11.080124556594077,
           0.2617571219001696,
           1.8780535172091852,
           2.076720239393568,
           1.5076673771841493,
           1.4493853640501055,
           0.6895391842781924,
           0.4432600046202203,
           2.428116020565252,
           0.8247335149584567,
           0.3681248120275301,
           0.6039151515393891,
           2.0094903798724815,
           2.651262269683513,
           0.4432600046202203,
           4.283881056768725,
           1.5076673771841493,
           0.2617571219001696,
           2.5758475534038165,
           11.080124556594077,
           1.017846970825221,
           1.2803702162356825,
           2.5014664220201492,
           4.188363903676959,
           1.566928213083608,
           0.4432600046202203,
           0.9194356943079616,
           0.4821156700730621,
           1.3357410877816405,
           5.62439147482751,
           0.7787598344578839,
           0.2279614589336546,
           4.676756020089808,
           1.5076673771841493,
           0.8716236369014173,
           0.8716236369014173,
           2.428116020565252,
           0.10087547384020776,
           0.8716236369014173,
           1.6884024920272518,
           1.6271719300524807,
           2.2844956499693168,
           10.014760922805413
          ],
          "coloraxis": "coloraxis",
          "symbol": "circle"
         },
         "mode": "markers",
         "name": "",
         "showlegend": false,
         "type": "scattergl",
         "x": [
          11.201003074645996,
          -14.130087852478027,
          -19.932647705078125,
          -1.1013777256011963,
          0.9799005389213562,
          -25.944581985473633,
          23.4085693359375,
          5.662659168243408,
          -14.898340225219727,
          -33.228694915771484,
          -20.490753173828125,
          -53.09435272216797,
          -13.10631275177002,
          30.485544204711914,
          14.51084041595459,
          6.570079803466797,
          -9.337798118591309,
          4.342213153839111,
          4.342213153839111,
          21.12833023071289,
          0.12153468281030655,
          -16.714887619018555,
          -16.714887619018555,
          -4.4691009521484375,
          18.436609268188477,
          15.083263397216797,
          -41.426570892333984,
          -24.855255126953125,
          17.50182342529297,
          -21.977933883666992,
          16.224639892578125,
          2.202200412750244,
          12.27377986907959,
          19.044918060302734,
          -48.311100006103516,
          8.068309783935547,
          21.844751358032227,
          -30.377443313598633,
          -19.195737838745117,
          -28.96844482421875,
          6.580914497375488,
          26.34308433532715,
          9.288459777832031,
          18.672910690307617,
          0.32695162296295166,
          -21.426048278808594,
          -15.543049812316895,
          3.3511605262756348,
          4.6909074783325195,
          21.140573501586914,
          -10.387622833251953,
          -11.118730545043945,
          -19.49959945678711,
          -19.28277587890625,
          -15.906729698181152,
          -21.516054153442383,
          4.604516983032227,
          22.876096725463867,
          -21.61444091796875,
          2.4752721786499023,
          -26.926137924194336,
          -0.860357940196991,
          -20.204538345336914,
          -5.820070266723633,
          59.51053237915039,
          -19.4134464263916,
          -19.4134464263916,
          10.609384536743164,
          27.46821403503418,
          -15.8707857131958,
          -19.495359420776367,
          15.847064971923828,
          19.908531188964844,
          24.14099884033203,
          -22.194765090942383,
          25.221973419189453,
          15.633612632751465,
          -10.95716667175293,
          -15.47498893737793,
          -27.434717178344727,
          0.9002074003219604,
          -19.842538833618164,
          -12.850133895874023,
          -13.67432689666748,
          -8.302226066589355,
          17.486568450927734,
          -3.7683329582214355,
          -3.469557046890259,
          -19.8797607421875,
          -9.344531059265137,
          -16.319568634033203,
          -17.907337188720703,
          -17.907337188720703,
          16.821044921875,
          -37.79159927368164,
          -11.107745170593262,
          -11.973233222961426,
          -5.330016136169434,
          12.116790771484375,
          -21.194259643554688,
          15.72100830078125,
          -15.280893325805664,
          -13.20517349243164,
          2.1099910736083984,
          21.509441375732422,
          2.554476261138916,
          -28.52507209777832,
          -54.84703063964844,
          -20.53348731994629,
          20.673349380493164,
          16.62824821472168,
          -13.11205768585205,
          -10.476655960083008,
          -19.95328712463379,
          18.70900535583496,
          -34.20906448364258,
          -50.59563064575195,
          -5.523169040679932,
          -22.38041114807129,
          18.864643096923828,
          4.723994255065918,
          -17.960250854492188,
          -30.95981788635254,
          -19.223779678344727,
          -26.23377799987793,
          16.236572265625,
          -20.33493423461914,
          -22.21398162841797,
          -24.012344360351562,
          4.232926845550537,
          20.724517822265625,
          -24.584157943725586,
          21.844684600830078,
          19.249845504760742,
          -10.927348136901855,
          -22.584436416625977,
          20.2829647064209,
          4.93361759185791,
          19.9067440032959,
          -16.802001953125,
          -19.329620361328125,
          -5.957180500030518,
          -24.70798683166504,
          31.353618621826172,
          -13.39608097076416,
          5.890789985656738,
          -17.143505096435547,
          26.29154396057129,
          20.285945892333984,
          3.932832956314087,
          -16.12635612487793,
          -19.674034118652344,
          25.364463806152344,
          18.085895538330078,
          11.687479019165039,
          -15.380241394042969,
          -17.55611228942871,
          12.378982543945312,
          9.696582794189453,
          7.92397928237915,
          29.322633743286133,
          -1.3094279766082764,
          3.1488804817199707,
          -22.003816604614258,
          -48.757110595703125,
          -6.024912357330322,
          -9.243841171264648,
          -2.4083251953125,
          21.4735164642334,
          -43.16790771484375,
          -36.11754608154297,
          -22.271020889282227,
          18.781190872192383,
          27.915420532226562,
          14.486993789672852,
          12.858007431030273,
          12.858007431030273,
          -17.662649154663086,
          19.08641815185547,
          24.219274520874023,
          22.197721481323242,
          10.341643333435059,
          -12.146060943603516,
          -10.67752742767334,
          -10.425904273986816,
          3.1250836849212646,
          4.76786470413208,
          -4.349769115447998,
          -18.259437561035156,
          -18.34547233581543,
          -23.17831802368164,
          18.43376350402832,
          3.824991464614868,
          -21.070951461791992,
          -38.18999481201172,
          -15.170928001403809,
          -29.317853927612305,
          -8.119756698608398,
          -17.772113800048828,
          15.7351713180542,
          2.981984853744507,
          18.557754516601562,
          22.55556297302246,
          24.796398162841797,
          -12.263195991516113,
          -18.781261444091797,
          24.009990692138672,
          29.842025756835938,
          9.220848083496094,
          -25.955684661865234,
          -25.955684661865234,
          -15.066080093383789,
          11.791808128356934,
          -29.06557273864746,
          9.329620361328125,
          -35.56215286254883,
          -15.399959564208984,
          -13.806124687194824,
          -32.791934967041016,
          4.03005838394165,
          16.15666389465332,
          27.358610153198242,
          -18.12519073486328,
          6.360586166381836,
          -12.422515869140625,
          -10.17284107208252,
          -29.904634475708008,
          1.2260074615478516,
          1.2260074615478516,
          3.478408098220825,
          3.478408098220825,
          -6.387530326843262,
          -29.276342391967773,
          -20.757978439331055,
          -17.962867736816406,
          10.48562240600586,
          -12.497130393981934,
          -11.088024139404297,
          -31.035995483398438,
          -17.733482360839844,
          -41.75983428955078,
          -33.87498474121094,
          -21.17194366455078,
          -16.99699592590332,
          20.374082565307617,
          -17.484113693237305,
          12.032211303710938,
          -10.689105033874512,
          6.538012981414795,
          3.297909736633301,
          -14.245353698730469,
          -32.21017837524414,
          12.193367004394531,
          -24.049341201782227,
          22.961240768432617,
          -17.603965759277344,
          19.295806884765625,
          -22.17612648010254,
          -20.567588806152344,
          1.9357320070266724,
          16.916690826416016,
          0.7612521648406982,
          -14.759379386901855,
          -14.180442810058594,
          12.431848526000977,
          19.655656814575195,
          -2.8116743564605713,
          -32.2823371887207,
          -14.57619571685791,
          23.999366760253906,
          -20.02608299255371,
          -30.916648864746094,
          -22.241268157958984,
          3.446721076965332,
          -13.771202087402344,
          -20.187522888183594,
          -19.979581832885742,
          11.707895278930664,
          -21.34857749938965,
          17.79585838317871,
          -32.08369445800781,
          5.074305057525635,
          -2.128833293914795,
          -8.166390419006348,
          -28.867387771606445,
          -4.1489362716674805,
          -0.3097703158855438,
          -15.119115829467773,
          -15.119115829467773,
          -24.368263244628906,
          16.419797897338867,
          20.31243324279785,
          21.710569381713867,
          -14.811836242675781,
          -26.660566329956055,
          49.732269287109375,
          -4.650487899780273,
          -31.858928680419922,
          6.045279026031494,
          -1.2684073448181152,
          29.560951232910156,
          -28.594451904296875,
          -30.87592887878418,
          -8.250288963317871,
          -35.359535217285156,
          -6.4683308601379395,
          3.3154683113098145,
          -27.017528533935547,
          23.838245391845703,
          8.692394256591797,
          -37.2035026550293,
          -19.15804100036621,
          -43.415401458740234,
          2.7483091354370117,
          -19.71047019958496,
          -24.306806564331055,
          11.363192558288574,
          24.741491317749023,
          -18.996374130249023,
          -13.820611953735352,
          -12.718656539916992,
          8.56735897064209,
          30.626556396484375,
          22.767807006835938,
          16.801504135131836,
          4.51459264755249,
          15.69802188873291,
          15.69802188873291,
          -3.0802323818206787,
          5.463207721710205,
          -9.44811725616455,
          -27.918928146362305,
          -7.386523723602295,
          -19.206077575683594,
          32.543941497802734,
          -26.563386917114258,
          1.743550181388855,
          1.0542559623718262,
          4.435221195220947,
          -26.31653594970703,
          -20.100374221801758,
          -19.335329055786133,
          -2.1169559955596924,
          -35.482872009277344,
          17.147140502929688,
          -4.6870527267456055,
          -6.374007701873779,
          -7.311186790466309,
          -24.67285919189453,
          3.824310541152954,
          -11.261320114135742,
          47.933815002441406,
          -20.634235382080078,
          -9.64426040649414,
          21.139413833618164,
          -20.80442237854004,
          4.616243839263916,
          -33.14680862426758,
          25.664012908935547,
          -31.18021583557129,
          -18.420162200927734,
          6.371693134307861,
          4.167855262756348,
          -26.034700393676758,
          -13.173722267150879,
          25.053680419921875,
          -11.184293746948242,
          -14.726615905761719,
          -14.15035629272461,
          -0.595220685005188,
          18.621002197265625,
          -19.65074920654297,
          -2.633232355117798,
          -17.543968200683594,
          3.409405469894409,
          26.7994327545166,
          -21.638965606689453,
          11.697487831115723,
          -0.06663406640291214,
          -13.403435707092285,
          -55.133243560791016,
          24.662498474121094,
          -5.313006401062012,
          -18.699874877929688,
          80.65827941894531,
          20.93572998046875,
          -2.6201112270355225,
          -14.68903923034668,
          -16.06515884399414,
          -23.198760986328125,
          -19.75157928466797,
          -30.346145629882812,
          -27.918222427368164,
          -8.11896800994873,
          2.5250658988952637,
          25.76311492919922,
          -12.831703186035156,
          -13.085317611694336,
          -14.721479415893555,
          -23.974590301513672,
          -21.792377471923828,
          4.2322096824646,
          -18.661035537719727,
          12.883401870727539,
          27.7056884765625,
          -14.732062339782715,
          3.5115907192230225,
          -22.93566131591797,
          3.643369674682617,
          8.92176628112793,
          3.4102976322174072,
          20.24510383605957,
          -14.481266021728516,
          -14.48102855682373,
          22.10028839111328,
          -18.495330810546875,
          -18.246601104736328,
          21.439847946166992,
          -6.272538185119629,
          -27.108591079711914,
          24.973217010498047,
          -27.25290298461914,
          -20.824138641357422,
          -18.047557830810547,
          10.371500015258789,
          5.437981128692627,
          15.323654174804688,
          -25.020566940307617,
          -7.417323589324951,
          45.31241989135742,
          -16.08600425720215,
          0.9401084780693054,
          -30.01753807067871,
          10.284281730651855,
          27.947580337524414,
          -0.07055094093084335,
          16.816537857055664,
          -10.675098419189453,
          -27.42848777770996,
          -22.002981185913086,
          17.452919006347656,
          -5.994093894958496,
          -14.325035095214844,
          16.77260971069336,
          18.65346908569336,
          -23.555166244506836,
          13.03078556060791,
          -22.03578758239746,
          -23.56827163696289,
          5.052659511566162,
          61.09625244140625,
          15.031259536743164,
          4.7420172691345215,
          -11.238801002502441,
          6.563007831573486,
          -30.72511100769043,
          -4.042296409606934,
          19.522254943847656,
          7.430553436279297,
          13.608372688293457,
          -14.068695068359375,
          -21.58963394165039,
          16.78679847717285,
          3.273927688598633,
          64.52523803710938,
          8.293771743774414,
          -12.135221481323242,
          -4.779580593109131,
          -11.966419219970703,
          17.639266967773438,
          -25.721778869628906,
          -23.07958221435547,
          23.307430267333984,
          -16.502880096435547,
          -21.80955696105957,
          14.37612533569336,
          12.079198837280273,
          -29.548986434936523,
          -22.511018753051758,
          48.19157791137695,
          -1.4956274032592773,
          21.28021812438965,
          25.146570205688477,
          -25.664121627807617,
          -12.979673385620117,
          3.9010050296783447,
          -16.75750160217285,
          -27.06119155883789,
          -23.097036361694336,
          26.33713722229004,
          -24.96973419189453,
          8.297676086425781,
          -28.884675979614258,
          -28.27516746520996,
          11.427037239074707,
          9.008689880371094,
          -35.39841079711914,
          -30.385122299194336,
          -17.012508392333984,
          13.376977920532227,
          -20.6237850189209,
          21.203649520874023,
          -10.376715660095215,
          5.817143440246582,
          -13.4381685256958,
          -17.253807067871094,
          -27.27139663696289,
          20.726261138916016,
          -5.088924884796143,
          6.09305477142334,
          13.318264961242676,
          -18.813961029052734,
          19.729482650756836,
          7.728718280792236,
          -19.158527374267578,
          -17.09815788269043,
          -7.171029567718506,
          -8.559558868408203,
          2.3565495014190674,
          -7.189810752868652,
          17.163127899169922,
          -16.348480224609375,
          20.468931198120117,
          41.22080993652344,
          17.9282283782959,
          -5.065337657928467,
          14.335756301879883,
          26.083513259887695,
          -32.903663635253906,
          -23.439241409301758,
          -20.570236206054688,
          78.15921783447266,
          11.673320770263672,
          -9.189301490783691,
          -18.18999481201172,
          -6.449403762817383,
          -18.38821029663086,
          -23.756816864013672,
          16.294879913330078,
          -19.35951805114746,
          10.06867790222168,
          14.268372535705566,
          -3.4059746265411377,
          -15.606021881103516,
          5.824610710144043,
          -13.499950408935547,
          11.499150276184082,
          27.976964950561523,
          -18.102157592773438,
          1.2260503768920898,
          1.2260503768920898,
          12.578904151916504,
          4.489322185516357,
          -13.080758094787598,
          19.648542404174805,
          5.604707717895508,
          10.547804832458496,
          7.1682233810424805,
          12.030966758728027,
          -29.054767608642578,
          11.835070610046387,
          -28.958724975585938,
          -28.600786209106445,
          -18.60733413696289,
          23.100170135498047,
          -23.30927276611328,
          3.477466344833374,
          -10.007944107055664,
          25.413007736206055,
          6.888416767120361,
          13.830618858337402,
          -17.203067779541016,
          -33.43426513671875,
          -31.6438045501709,
          -30.3529052734375,
          -28.728900909423828,
          -28.101476669311523,
          25.170785903930664,
          26.5709228515625,
          -16.015554428100586,
          -11.5774507522583,
          3.1312453746795654,
          -51.47493362426758,
          10.3057861328125,
          -18.475051879882812,
          36.88209533691406,
          67.98236083984375,
          7.916473865509033,
          4.552306652069092,
          -19.39335060119629,
          19.369476318359375,
          14.764748573303223,
          11.01126766204834,
          6.443915367126465,
          13.694360733032227,
          -12.35351848602295,
          1.8068853616714478,
          -19.974090576171875,
          -37.62480926513672,
          3.0573248863220215,
          12.67969036102295,
          -5.928989410400391,
          22.443391799926758,
          27.010883331298828,
          0.6288189888000488,
          -9.156237602233887,
          17.255638122558594,
          8.645975112915039,
          -38.39470291137695,
          -38.39470291137695,
          -15.373418807983398,
          -19.583885192871094,
          -20.69791030883789,
          -21.523881912231445,
          -18.953447341918945,
          -52.5784797668457,
          -21.110036849975586,
          -23.50026512145996,
          19.014636993408203,
          19.19253158569336,
          -19.488765716552734,
          -20.192052841186523,
          7.987022876739502,
          -5.9206461906433105,
          24.690662384033203,
          23.524080276489258,
          -27.874542236328125,
          -45.1715087890625,
          19.03626823425293,
          -9.872810363769531,
          -53.54732894897461,
          -56.80200958251953,
          -56.80200958251953,
          -21.704051971435547,
          -28.559024810791016,
          15.277257919311523,
          15.277257919311523,
          -17.457408905029297,
          11.064016342163086,
          26.611190795898438,
          -6.672297477722168,
          22.102624893188477,
          -20.50596809387207,
          -39.90261459350586,
          -19.059436798095703,
          -22.937576293945312,
          -1.9888460636138916,
          -18.711824417114258,
          22.400005340576172,
          -28.86388397216797,
          21.061861038208008,
          -4.985259056091309,
          12.39010238647461,
          -23.948150634765625,
          -27.957979202270508,
          -18.662403106689453,
          11.56241512298584,
          9.555279731750488,
          -7.514177322387695,
          -14.329841613769531,
          16.202213287353516,
          -15.920498847961426,
          17.276798248291016,
          -22.482152938842773,
          -38.14726257324219,
          15.563016891479492,
          -3.8428616523742676,
          -4.117117881774902,
          -3.7065610885620117,
          25.23784065246582,
          -11.350135803222656,
          -34.74294662475586,
          -18.09422492980957,
          -1.4043996334075928,
          -24.785940170288086,
          4.354817867279053,
          -22.433914184570312,
          14.659189224243164,
          -20.936222076416016,
          1.0525078773498535,
          -16.904935836791992,
          -12.079052925109863,
          -16.289958953857422,
          -9.712714195251465,
          -39.68973922729492,
          -22.855106353759766,
          21.807388305664062,
          6.330070495605469,
          -7.064146995544434,
          0.5133428573608398,
          -2.4798355102539062,
          -8.851055145263672,
          -10.996736526489258,
          -10.46544361114502,
          29.746883392333984,
          13.53803825378418,
          -21.938739776611328,
          11.135336875915527,
          -29.36442756652832,
          -49.376399993896484,
          5.796384811401367,
          -31.455337524414062,
          -18.747894287109375,
          22.1098575592041,
          18.89429473876953,
          -19.12957191467285,
          -22.665555953979492,
          -10.405790328979492,
          -12.798041343688965,
          -12.080080032348633,
          19.3897762298584,
          -46.14741516113281,
          24.124584197998047,
          27.50969696044922,
          16.00221824645996,
          -16.00925636291504,
          10.261855125427246,
          -11.534578323364258,
          -16.770017623901367,
          40.8605842590332,
          18.852893829345703,
          -19.31425666809082,
          -22.714004516601562,
          16.46881675720215,
          0.9421014785766602,
          18.419300079345703,
          27.12501335144043,
          -20.872417449951172,
          -23.303455352783203,
          -18.374675750732422,
          22.270774841308594,
          -22.284107208251953,
          -8.563984870910645,
          -20.120620727539062,
          21.92864418029785,
          -11.662639617919922,
          13.64781379699707,
          -31.78632926940918,
          -11.772575378417969,
          13.85591983795166,
          6.480073928833008,
          23.286664962768555,
          -54.27631759643555,
          -54.119388580322266,
          -16.73655891418457,
          -17.57375144958496,
          15.468795776367188,
          14.166742324829102,
          19.69400978088379,
          -31.65505027770996,
          -4.522456169128418,
          -26.783374786376953,
          8.337625503540039,
          -48.96711349487305,
          28.666812896728516,
          -9.961626052856445,
          4.836777687072754,
          29.900569915771484,
          22.479938507080078,
          -19.962905883789062,
          -38.98408508300781,
          -16.457597732543945,
          25.625654220581055,
          15.220657348632812,
          4.342213153839111,
          4.342213153839111,
          12.815773963928223,
          11.03211784362793,
          -10.63289737701416,
          26.591670989990234,
          -1.654610276222229,
          29.54645347595215,
          -28.3189697265625,
          -3.3874218463897705,
          10.709746360778809,
          19.321413040161133,
          21.218088150024414,
          -20.678586959838867,
          12.112340927124023,
          -46.74980163574219,
          -33.37316131591797,
          -55.86015319824219,
          17.656347274780273,
          20.580692291259766,
          -28.515560150146484,
          -19.170196533203125,
          -15.853374481201172,
          21.122455596923828,
          -6.74674129486084,
          -12.341364860534668,
          -0.024841897189617157,
          -12.049262046813965,
          -23.969911575317383,
          -21.458847045898438,
          -13.08381175994873,
          30.252010345458984,
          48.19389343261719,
          13.089454650878906,
          -21.37763023376465,
          29.248828887939453,
          -6.612489700317383,
          -55.42369079589844,
          17.89171600341797,
          -12.122236251831055,
          -10.683345794677734,
          16.995542526245117,
          8.699058532714844,
          27.00662612915039,
          -22.344837188720703,
          -17.153278350830078,
          -22.248884201049805,
          -22.540721893310547,
          7.958581447601318,
          6.099274635314941,
          -17.33544158935547,
          7.690843105316162,
          4.361649513244629,
          -15.087467193603516,
          -21.879926681518555,
          -9.13328742980957,
          26.79917335510254,
          21.436443328857422,
          16.566137313842773,
          -52.676483154296875,
          14.239046096801758,
          7.724531173706055,
          8.452990531921387,
          -0.03540746495127678,
          22.285982131958008,
          -12.974943161010742,
          27.345653533935547,
          39.2380256652832,
          6.724425315856934,
          20.29985809326172,
          17.433080673217773,
          -21.44700813293457,
          -21.28913116455078,
          -24.079017639160156,
          -9.198053359985352,
          13.426283836364746,
          31.371305465698242,
          22.383712768554688,
          26.579607009887695,
          -30.658143997192383,
          -19.64476776123047,
          22.699304580688477,
          9.20987319946289,
          17.591890335083008,
          -52.292484283447266,
          -22.359399795532227,
          -25.948612213134766,
          -35.62724685668945,
          -22.498668670654297,
          -24.59315299987793,
          -33.31843566894531,
          -32.52695846557617,
          -7.845055103302002,
          13.51846981048584,
          -21.71015167236328,
          4.5882649421691895,
          9.920015335083008,
          2.804226875305176,
          -16.868812561035156,
          17.452720642089844,
          -2.6056361198425293,
          -15.315888404846191,
          -15.73716926574707,
          22.85022735595703,
          29.86269187927246,
          -16.18281364440918,
          5.051623821258545,
          10.189013481140137,
          14.557276725769043,
          -32.3348388671875,
          -30.98821449279785,
          7.4636101722717285,
          6.538069725036621,
          -17.790491104125977,
          -19.29692840576172,
          11.326933860778809,
          -32.25904846191406,
          -34.802494049072266,
          4.678366661071777,
          -18.963953018188477,
          -41.52513885498047,
          -33.1079216003418,
          48.97509765625,
          -56.90974426269531,
          -56.472023010253906,
          -18.499910354614258,
          42.06790542602539,
          -3.0267281532287598,
          -56.598365783691406,
          -56.600242614746094,
          -53.522254943847656,
          -23.681180953979492,
          31.179813385009766,
          -54.95936584472656,
          -55.54389190673828,
          -55.88909912109375,
          -55.90628433227539,
          24.19816017150879,
          -48.11997604370117,
          -4.9732770919799805,
          -44.75985336303711,
          -4.565353870391846,
          25.159343719482422,
          32.58642578125,
          -18.137950897216797,
          -3.295116424560547,
          -21.411426544189453,
          17.63950538635254,
          2.7233011722564697,
          -21.18653678894043,
          -29.40110969543457,
          -8.153416633605957,
          29.5015926361084,
          -20.818464279174805,
          5.562878131866455,
          10.762378692626953,
          -13.607152938842773,
          25.32080078125,
          -20.482501983642578,
          -17.278255462646484,
          6.529179573059082,
          3.162522792816162,
          -21.527420043945312,
          -16.022794723510742,
          -14.604118347167969,
          -11.976329803466797,
          14.986510276794434,
          -16.71862030029297,
          -12.742875099182129,
          10.416070938110352,
          10.226130485534668,
          8.326200485229492,
          7.483439922332764,
          10.455442428588867,
          -11.006282806396484,
          -15.45227336883545,
          17.90225601196289,
          47.797393798828125,
          -21.557641983032227,
          -28.946434020996094,
          -17.371192932128906,
          15.111268997192383,
          13.722131729125977,
          -14.839729309082031,
          -16.61025047302246,
          16.038122177124023,
          17.443599700927734,
          -11.29647445678711,
          -20.41128158569336,
          -13.692974090576172,
          -19.451335906982422,
          16.677043914794922,
          -30.50482749938965,
          19.96395492553711,
          -17.088600158691406,
          -14.621524810791016,
          -20.31600570678711,
          9.600715637207031,
          13.904242515563965,
          -11.233991622924805,
          -32.797393798828125,
          -10.935911178588867,
          -20.255111694335938,
          -16.013057708740234,
          -10.040708541870117,
          25.56313705444336,
          28.569849014282227,
          -17.806135177612305,
          -29.444183349609375,
          25.407060623168945,
          -36.218162536621094,
          -28.288175582885742,
          29.99199676513672,
          7.888583183288574,
          -13.204996109008789,
          -18.59861183166504,
          -29.842693328857422,
          -17.320905685424805,
          18.224525451660156,
          26.588550567626953,
          1.9049094915390015,
          -19.33487319946289,
          -35.483097076416016,
          -20.59783363342285,
          19.195146560668945,
          -20.038055419921875,
          -18.752281188964844,
          0.02611977979540825,
          -18.68147850036621,
          12.618141174316406,
          34.085174560546875,
          -20.5216007232666,
          -1.1096937656402588,
          47.15613555908203,
          29.419496536254883,
          25.07514762878418,
          14.276525497436523,
          -26.237539291381836,
          15.986705780029297,
          19.10068702697754,
          23.12167739868164,
          23.514652252197266,
          -25.95552635192871,
          -25.95552635192871,
          -13.885497093200684,
          -24.67253875732422,
          51.57162094116211,
          6.360898494720459,
          6.360898494720459,
          -11.90274715423584,
          -33.401973724365234,
          -25.006546020507812,
          -30.849788665771484,
          -25.34332275390625,
          -25.34332275390625,
          18.478734970092773,
          -11.580305099487305,
          -8.407118797302246,
          -3.743891716003418,
          0.8298046588897705,
          6.268684387207031,
          -12.850698471069336,
          17.25304412841797,
          -17.42698097229004,
          27.559284210205078,
          31.108362197875977,
          -4.476306438446045,
          -18.709659576416016,
          -20.481243133544922,
          15.59238338470459,
          -16.47405433654785,
          18.865829467773438,
          -11.49056625366211,
          30.532325744628906,
          9.575637817382812,
          -19.792606353759766,
          -22.7227840423584,
          -22.722665786743164,
          8.497434616088867,
          24.966360092163086,
          -17.228500366210938,
          22.744272232055664,
          -16.7209529876709,
          -24.275110244750977,
          45.36368179321289,
          -18.00421905517578,
          -10.026410102844238,
          27.680435180664062,
          9.91860294342041,
          0.3676857650279999,
          -26.380992889404297,
          11.482510566711426,
          14.522439956665039,
          -15.585837364196777,
          13.103886604309082,
          -24.754709243774414,
          -33.84886169433594,
          -9.165852546691895,
          -0.8924787640571594,
          14.591843605041504,
          10.559575080871582,
          11.472354888916016,
          -27.7305850982666,
          -30.74891471862793,
          -8.042123794555664,
          27.16289710998535,
          -23.81953239440918,
          -42.658531188964844,
          -20.845638275146484,
          16.76266098022461,
          17.27171516418457,
          -8.190069198608398,
          -28.056543350219727,
          11.566740989685059,
          -9.19602108001709,
          0.2319343090057373,
          -21.168210983276367,
          15.082862854003906,
          3.4385554790496826,
          16.24469757080078,
          -16.804641723632812,
          40.600311279296875,
          24.867233276367188,
          -5.579190731048584,
          -13.277575492858887,
          7.377179145812988,
          0.4869515001773834,
          -10.050114631652832,
          -24.690011978149414,
          -32.404659271240234,
          -21.42904281616211,
          24.979206085205078,
          7.808698654174805,
          16.18711280822754,
          -34.15884017944336,
          -18.8732967376709,
          -16.970420837402344,
          12.860674858093262,
          -12.1895751953125,
          24.880718231201172,
          -31.20361328125,
          -22.950946807861328,
          -47.27448654174805,
          -30.70612335205078,
          -15.314523696899414,
          -17.837177276611328,
          24.03087043762207,
          -21.22300910949707,
          -22.133167266845703,
          23.33184051513672,
          -17.417917251586914,
          -9.512344360351562,
          -10.279545783996582,
          -26.64632797241211,
          -15.140438079833984,
          -22.034210205078125,
          -9.363907814025879,
          0.9702375531196594,
          -18.697866439819336,
          12.71479320526123,
          16.10797882080078,
          -13.466225624084473,
          -28.138755798339844,
          27.331501007080078,
          -11.501792907714844,
          5.84562873840332,
          9.332938194274902,
          13.589661598205566,
          -17.00470733642578,
          16.68474578857422,
          11.517680168151855,
          -52.33318328857422,
          6.885618686676025,
          -18.252761840820312,
          11.274903297424316,
          -31.40151023864746,
          7.935251712799072,
          -23.4040584564209,
          -17.118900299072266,
          -24.972335815429688,
          -19.713380813598633,
          -24.78537368774414,
          -13.06694507598877,
          10.363598823547363,
          -20.712512969970703,
          -7.8638997077941895,
          -28.396150588989258,
          -10.326950073242188,
          27.378950119018555,
          -13.192712783813477,
          -56.7536506652832,
          22.857433319091797,
          36.38485336303711,
          41.91419219970703,
          -23.886396408081055,
          -18.91448402404785,
          -4.4151411056518555,
          17.343109130859375,
          -10.682882308959961,
          15.829575538635254,
          -27.867406845092773,
          -20.16238784790039,
          -15.253724098205566,
          -37.779380798339844,
          19.162586212158203,
          -17.907487869262695,
          -17.907487869262695,
          -26.558835983276367,
          -21.033687591552734,
          19.04352378845215,
          -4.534591197967529,
          -5.524543762207031,
          18.303199768066406,
          -47.690704345703125
         ],
         "xaxis": "x",
         "y": [
          35.7397575378418,
          45.759220123291016,
          -7.235499858856201,
          -12.459485054016113,
          36.7941780090332,
          -2.3556246757507324,
          33.03349685668945,
          16.288415908813477,
          5.679005146026611,
          2.641918897628784,
          52.415069580078125,
          -1.2486854791641235,
          41.17793273925781,
          -24.849401473999023,
          40.82719039916992,
          0.2773846685886383,
          17.92864227294922,
          -8.163640022277832,
          -8.163640022277832,
          39.62623596191406,
          15.840580940246582,
          34.99744415283203,
          34.99744415283203,
          -11.902985572814941,
          32.37257766723633,
          44.23625183105469,
          -14.209819793701172,
          13.411992073059082,
          35.89351272583008,
          54.725547790527344,
          2.67484974861145,
          9.648244857788086,
          36.28329086303711,
          49.66375732421875,
          -8.929093360900879,
          37.39017868041992,
          38.31066131591797,
          -15.450277328491211,
          45.54451370239258,
          -2.9972660541534424,
          21.424901962280273,
          40.78693389892578,
          -9.242288589477539,
          -12.816031455993652,
          -20.312095642089844,
          32.16664505004883,
          -7.271565914154053,
          35.17025375366211,
          -13.762674331665039,
          30.78705596923828,
          20.351959228515625,
          17.691267013549805,
          5.18252420425415,
          30.926433563232422,
          1.1930710077285767,
          28.128814697265625,
          -3.933276414871216,
          44.831703186035156,
          54.827369689941406,
          -11.5913667678833,
          6.231697082519531,
          34.81003952026367,
          1.5254420042037964,
          23.488697052001953,
          -14.163914680480957,
          38.6519889831543,
          38.6519889831543,
          -0.1610753834247589,
          45.39987564086914,
          -12.604201316833496,
          40.81540298461914,
          0.02439146488904953,
          37.06370162963867,
          5.734437942504883,
          5.626155853271484,
          5.609795570373535,
          42.333072662353516,
          -5.6876959800720215,
          45.29518127441406,
          5.899405479431152,
          -6.284913539886475,
          50.0888557434082,
          43.41134262084961,
          8.042003631591797,
          -12.313958168029785,
          47.724952697753906,
          24.28390121459961,
          23.321985244750977,
          46.52669906616211,
          -2.842759370803833,
          38.5904426574707,
          -0.257371187210083,
          -0.257371187210083,
          43.453712463378906,
          -2.5995612144470215,
          16.953405380249023,
          28.793027877807617,
          -12.10108757019043,
          39.08195114135742,
          34.32423400878906,
          3.426162004470825,
          22.911624908447266,
          -7.117593288421631,
          35.88383483886719,
          -1.117965817451477,
          18.2373104095459,
          2.3142166137695312,
          -10.283439636230469,
          49.731056213378906,
          48.526824951171875,
          -4.4587812423706055,
          -5.768032073974609,
          36.31005096435547,
          3.9902477264404297,
          34.655242919921875,
          3.2760136127471924,
          -9.83105754852295,
          -9.511478424072266,
          -7.6525163650512695,
          46.935367584228516,
          19.089269638061523,
          28.50408363342285,
          -21.618331909179688,
          -1.8028143644332886,
          -12.566865921020508,
          2.6008522510528564,
          -12.968219757080078,
          9.076642990112305,
          -20.436752319335938,
          21.38263702392578,
          -0.04572569951415062,
          -17.683780670166016,
          50.49265670776367,
          40.36664581298828,
          -11.021222114562988,
          -1.4235895872116089,
          31.503162384033203,
          -1.9624519348144531,
          4.294339179992676,
          22.030914306640625,
          5.183838367462158,
          -13.40722942352295,
          13.761326789855957,
          45.944427490234375,
          31.452354431152344,
          -1.7005044221878052,
          44.789276123046875,
          42.434539794921875,
          43.41396713256836,
          -3.5249998569488525,
          35.944419860839844,
          42.4622917175293,
          42.700721740722656,
          33.010101318359375,
          25.719215393066406,
          30.77153968811035,
          35.827728271484375,
          -7.937440395355225,
          -13.668221473693848,
          4.784673690795898,
          -3.584019660949707,
          -9.241894721984863,
          5.35244607925415,
          46.27228546142578,
          -7.684382438659668,
          27.78119659423828,
          -11.567962646484375,
          28.145444869995117,
          2.2102303504943848,
          -10.929555892944336,
          -14.800993919372559,
          -1.1360989809036255,
          48.85691452026367,
          46.653385162353516,
          2.1199123859405518,
          -1.574369192123413,
          -1.574369192123413,
          45.5361213684082,
          6.8565993309021,
          4.270617961883545,
          50.006431579589844,
          27.366111755371094,
          35.965763092041016,
          -13.613798141479492,
          17.823970794677734,
          -20.193389892578125,
          -27.646772384643555,
          -8.812193870544434,
          31.036651611328125,
          52.137481689453125,
          8.518413543701172,
          38.26288604736328,
          7.135973930358887,
          -2.9680492877960205,
          -9.098422050476074,
          42.14552307128906,
          2.165238618850708,
          6.320376396179199,
          49.06044006347656,
          43.9913330078125,
          32.530155181884766,
          3.0793912410736084,
          4.2008442878723145,
          38.01947021484375,
          11.720941543579102,
          13.201351165771484,
          33.948089599609375,
          47.178096771240234,
          35.06829071044922,
          16.386560440063477,
          16.386560440063477,
          14.037711143493652,
          3.0618481636047363,
          -21.061553955078125,
          0.4601439833641052,
          -5.96652889251709,
          30.804183959960938,
          -10.665627479553223,
          -0.5829376578330994,
          23.1971492767334,
          -6.5918474197387695,
          40.78794479370117,
          12.177339553833008,
          32.54685592651367,
          14.053584098815918,
          -9.05589485168457,
          -2.9092397689819336,
          -11.89090347290039,
          -11.89090347290039,
          -27.157487869262695,
          -27.157487869262695,
          -10.141254425048828,
          8.818946838378906,
          50.40926742553711,
          40.337257385253906,
          35.2802734375,
          -0.5241761207580566,
          36.10213088989258,
          13.775464057922363,
          52.847843170166016,
          -15.091384887695312,
          -3.403644323348999,
          53.44915008544922,
          31.336122512817383,
          47.009796142578125,
          13.18374252319336,
          31.97736930847168,
          -6.83996057510376,
          35.70960998535156,
          -26.965030670166016,
          -12.337454795837402,
          -6.066044330596924,
          34.10673522949219,
          -11.440115928649902,
          47.38407897949219,
          35.98601531982422,
          1.7285189628601074,
          -9.239995002746582,
          -11.108013153076172,
          34.535377502441406,
          -21.872047424316406,
          -15.401068687438965,
          33.99605941772461,
          -11.317791938781738,
          -2.5019187927246094,
          -21.86452293395996,
          -6.143049240112305,
          0.8741660714149475,
          13.615829467773438,
          40.18973159790039,
          23.384876251220703,
          -21.69131851196289,
          23.741943359375,
          7.018891334533691,
          0.676648736000061,
          26.163833618164062,
          27.774921417236328,
          -19.5887508392334,
          -3.6292858123779297,
          8.140533447265625,
          -20.761316299438477,
          12.025510787963867,
          28.088001251220703,
          16.349395751953125,
          2.997964382171631,
          6.760639667510986,
          -8.531472206115723,
          34.263545989990234,
          34.263545989990234,
          27.16979217529297,
          38.24934005737305,
          45.29922866821289,
          4.36652135848999,
          -10.70711898803711,
          -0.03854049742221832,
          -11.146879196166992,
          -6.497341156005859,
          -12.282829284667969,
          14.754825592041016,
          -15.752038955688477,
          -21.65133285522461,
          -2.088862419128418,
          -12.213364601135254,
          -8.201072692871094,
          -12.829694747924805,
          -10.22684097290039,
          15.099139213562012,
          -10.6253080368042,
          44.632911682128906,
          27.366262435913086,
          -20.20240020751953,
          51.67298126220703,
          -9.70692253112793,
          10.94174861907959,
          29.42913055419922,
          4.398135662078857,
          -16.115440368652344,
          -16.34217643737793,
          13.569917678833008,
          7.50306510925293,
          31.41706085205078,
          19.003971099853516,
          33.78301239013672,
          44.672607421875,
          42.76786422729492,
          37.97554397583008,
          -1.6740148067474365,
          -1.6740148067474365,
          11.468822479248047,
          12.48726749420166,
          8.39543628692627,
          -1.135616421699524,
          -6.542187213897705,
          -2.861673355102539,
          46.42245101928711,
          -4.690185070037842,
          0.9595159292221069,
          1.3357253074645996,
          37.80351638793945,
          -2.3725850582122803,
          32.41365432739258,
          33.6649284362793,
          -27.12237548828125,
          -11.12527847290039,
          8.632967948913574,
          -13.22375774383545,
          -6.709033489227295,
          -6.932745933532715,
          13.903717994689941,
          22.990955352783203,
          3.208069086074829,
          -9.56261157989502,
          23.408483505249023,
          -15.872180938720703,
          41.00991439819336,
          -9.32947063446045,
          38.60614013671875,
          -0.19706328213214874,
          40.020240783691406,
          3.588080644607544,
          43.658538818359375,
          22.942642211914062,
          -27.13015365600586,
          0.899787425994873,
          -6.097433567047119,
          5.5427165031433105,
          2.6211249828338623,
          -8.36951732635498,
          -8.870705604553223,
          -8.496898651123047,
          48.778018951416016,
          -10.240236282348633,
          21.80829429626465,
          -8.563785552978516,
          -25.622112274169922,
          43.2869758605957,
          5.648685455322266,
          40.76317596435547,
          15.925707817077637,
          43.58152389526367,
          -7.800662040710449,
          31.428478240966797,
          -0.6138160824775696,
          -8.772387504577637,
          -3.2578272819519043,
          30.283884048461914,
          6.966787338256836,
          -28.738414764404297,
          -12.056235313415527,
          23.004037857055664,
          -14.901094436645508,
          -13.159636497497559,
          -8.975920677185059,
          -0.8852874040603638,
          -16.674182891845703,
          38.73931884765625,
          42.57556915283203,
          -26.569580078125,
          43.38228988647461,
          6.630162715911865,
          -11.304723739624023,
          -3.583225727081299,
          34.4444694519043,
          34.87137985229492,
          45.137916564941406,
          -15.469264030456543,
          14.215933799743652,
          3.2965407371520996,
          19.146150588989258,
          33.565574645996094,
          19.513118743896484,
          35.73360824584961,
          -3.534212827682495,
          -3.5344033241271973,
          3.4997386932373047,
          25.392309188842773,
          -7.3089141845703125,
          3.356976270675659,
          -12.423781394958496,
          -11.09671688079834,
          31.443035125732422,
          -7.1620683670043945,
          1.2371528148651123,
          41.68416213989258,
          23.04415512084961,
          11.138200759887695,
          4.356219291687012,
          9.173293113708496,
          -13.03757095336914,
          -10.934412956237793,
          49.39287185668945,
          -16.226322174072266,
          13.872507095336914,
          35.21710205078125,
          44.4997444152832,
          -4.931563377380371,
          -3.4823355674743652,
          1.6314613819122314,
          -14.298088073730469,
          -10.410415649414062,
          -22.14403533935547,
          -0.5573925375938416,
          41.140296936035156,
          -24.13768768310547,
          0.65107262134552,
          -12.411823272705078,
          1.2454795837402344,
          50.632415771484375,
          -6.025655746459961,
          2.746581792831421,
          -9.39832592010498,
          -18.83751106262207,
          12.779385566711426,
          17.1617431640625,
          8.642562866210938,
          0.9705985188484192,
          25.75749969482422,
          -20.247861862182617,
          -16.069061279296875,
          -20.8347110748291,
          -12.768385887145996,
          50.39736557006836,
          -3.8484692573547363,
          -16.808069229125977,
          -11.333084106445312,
          32.46857833862305,
          11.651257514953613,
          22.4747257232666,
          28.770999908447266,
          46.454654693603516,
          -14.459371566772461,
          -11.791248321533203,
          42.110740661621094,
          39.77113723754883,
          3.0644915103912354,
          -17.1502628326416,
          -18.1480770111084,
          -14.650615692138672,
          -11.257017135620117,
          -18.841140747070312,
          4.538486003875732,
          -19.08066177368164,
          -24.42255401611328,
          -14.089173316955566,
          40.11648941040039,
          21.80230140686035,
          22.447961807250977,
          -12.660744667053223,
          -13.849180221557617,
          6.118345260620117,
          -12.208468437194824,
          -4.722192764282227,
          -15.655258178710938,
          -4.04044246673584,
          36.83570861816406,
          31.325103759765625,
          -8.811025619506836,
          -2.5977325439453125,
          -17.095426559448242,
          -19.116310119628906,
          -10.223703384399414,
          -15.961309432983398,
          -17.4697265625,
          -18.901945114135742,
          42.17243576049805,
          26.393062591552734,
          -12.415491104125977,
          31.5560359954834,
          9.147783279418945,
          20.221410751342773,
          -1.5896750688552856,
          36.510738372802734,
          48.50536346435547,
          18.100114822387695,
          32.252010345458984,
          -26.50358772277832,
          6.181208610534668,
          -3.2486283779144287,
          32.32585525512695,
          -3.376662254333496,
          9.396661758422852,
          0.884880781173706,
          36.56727981567383,
          -18.765329360961914,
          -12.490365982055664,
          23.184505462646484,
          41.480525970458984,
          40.95768356323242,
          14.15334701538086,
          -6.339080810546875,
          -12.481080055236816,
          -6.122920989990234,
          -2.321960687637329,
          9.365117073059082,
          -13.536527633666992,
          -37.18009948730469,
          -13.498817443847656,
          -14.34115219116211,
          9.195212364196777,
          40.96468734741211,
          23.254846572875977,
          41.313087463378906,
          25.316858291625977,
          27.833332061767578,
          -28.60319709777832,
          9.043886184692383,
          -2.8647608757019043,
          -18.190866470336914,
          25.573911666870117,
          -11.890869140625,
          -11.890869140625,
          -3.4970686435699463,
          -4.627954959869385,
          -2.772951602935791,
          39.36134719848633,
          17.76099395751953,
          34.282569885253906,
          30.283876419067383,
          33.97346496582031,
          12.837882995605469,
          -20.775617599487305,
          -4.783055305480957,
          -9.263862609863281,
          42.49003982543945,
          39.3592414855957,
          -16.76947021484375,
          17.427900314331055,
          14.266932487487793,
          -19.749727249145508,
          11.570960998535156,
          43.98162841796875,
          -19.0843563079834,
          -8.093522071838379,
          -8.109850883483887,
          -7.734095573425293,
          -7.516793251037598,
          -5.761539936065674,
          -21.489572525024414,
          -18.815088272094727,
          -31.19411849975586,
          16.303791046142578,
          22.87123680114746,
          -10.58354663848877,
          -18.638181686401367,
          -32.74810028076172,
          -15.366521835327148,
          -9.417823791503906,
          -19.73000144958496,
          10.998462677001953,
          7.223535537719727,
          6.317801475524902,
          -24.102020263671875,
          26.977567672729492,
          33.68388748168945,
          -2.159632444381714,
          -18.03548812866211,
          31.432493209838867,
          21.288822174072266,
          -21.63556480407715,
          22.96946907043457,
          3.831482410430908,
          27.720664978027344,
          33.435203552246094,
          7.589719295501709,
          35.08277893066406,
          15.409638404846191,
          -0.05773109197616577,
          10.469587326049805,
          -12.76526165008545,
          -12.76526165008545,
          4.896960735321045,
          12.992419242858887,
          -4.864482402801514,
          22.06528091430664,
          35.338565826416016,
          -5.860574245452881,
          10.849190711975098,
          -1.934851050376892,
          7.57072114944458,
          4.319645881652832,
          49.6143684387207,
          48.35481262207031,
          28.759748458862305,
          27.69002914428711,
          40.301395416259766,
          5.690983772277832,
          -23.822725296020508,
          -6.7773895263671875,
          -0.6150525212287903,
          -9.880967140197754,
          -8.057662963867188,
          -6.192093849182129,
          -6.192093849182129,
          -16.647361755371094,
          -22.69716453552246,
          -0.4310496747493744,
          -0.4310496747493744,
          41.820926666259766,
          33.0421028137207,
          7.253418922424316,
          12.525647163391113,
          44.06544494628906,
          -16.409076690673828,
          -14.945175170898438,
          47.467403411865234,
          1.3967125415802002,
          2.630253314971924,
          46.72032928466797,
          49.49286651611328,
          -14.302153587341309,
          4.766417980194092,
          9.275973320007324,
          -6.828518390655518,
          -4.283790588378906,
          -4.006945610046387,
          46.047420501708984,
          0.4486444294452667,
          34.63051986694336,
          -15.621652603149414,
          24.635162353515625,
          0.03973066061735153,
          26.073535919189453,
          -1.1776789426803589,
          -5.6300048828125,
          -11.220865249633789,
          -18.147001266479492,
          22.68807601928711,
          4.158570766448975,
          -18.77727699279785,
          5.979259490966797,
          36.350608825683594,
          -5.422516822814941,
          -8.036812782287598,
          15.992684364318848,
          -0.2075609415769577,
          -16.909130096435547,
          -13.464876174926758,
          -2.855393409729004,
          -7.82641077041626,
          7.748393535614014,
          39.132080078125,
          12.13360595703125,
          28.649497985839844,
          13.491835594177246,
          -10.997586250305176,
          -8.778325080871582,
          50.70089340209961,
          18.252777099609375,
          -7.930068492889404,
          35.144989013671875,
          28.199281692504883,
          -23.17148780822754,
          27.69976043701172,
          18.39877700805664,
          45.7423095703125,
          -0.5784049034118652,
          -17.578088760375977,
          36.74227523803711,
          -7.329484462738037,
          -9.457061767578125,
          -28.603031158447266,
          2.8487436771392822,
          -30.41405487060547,
          32.499290466308594,
          45.7033805847168,
          38.77954864501953,
          -22.920406341552734,
          19.86800193786621,
          -12.270519256591797,
          32.02547836303711,
          48.09707260131836,
          -10.640817642211914,
          3.759836196899414,
          -17.56455421447754,
          -6.657209873199463,
          41.39809799194336,
          27.838613510131836,
          5.1823625564575195,
          25.883686065673828,
          -9.987312316894531,
          43.172332763671875,
          -19.139402389526367,
          53.703277587890625,
          -22.417747497558594,
          17.16908836364746,
          42.47001647949219,
          45.06756591796875,
          37.47806930541992,
          -10.4384126663208,
          42.573482513427734,
          49.747169494628906,
          51.18511962890625,
          9.563139915466309,
          30.837514877319336,
          3.5899903774261475,
          5.626352787017822,
          39.768123626708984,
          1.7394683361053467,
          -8.948806762695312,
          43.07574462890625,
          20.16728401184082,
          37.72563552856445,
          -2.5052390098571777,
          -3.1313884258270264,
          46.559059143066406,
          -11.697397232055664,
          35.690818786621094,
          2.0467276573181152,
          -0.4310697615146637,
          -9.953141212463379,
          25.047990798950195,
          -18.09778594970703,
          30.928226470947266,
          -6.055150985717773,
          32.625545501708984,
          -11.724532127380371,
          -2.6583080291748047,
          33.23679733276367,
          36.37271499633789,
          29.805248260498047,
          -6.654613018035889,
          -29.41521453857422,
          6.037280082702637,
          -16.977298736572266,
          -8.163640975952148,
          -8.163640975952148,
          -18.7847900390625,
          33.28896713256836,
          -1.105635166168213,
          42.44215774536133,
          -4.78768253326416,
          32.96139144897461,
          1.366787314414978,
          23.382587432861328,
          36.51935577392578,
          37.71533203125,
          4.316703796386719,
          7.47179651260376,
          15.016289710998535,
          -6.11232852935791,
          16.978107452392578,
          -5.1292500495910645,
          8.12221908569336,
          42.92218017578125,
          -16.441349029541016,
          23.37127685546875,
          34.027584075927734,
          -15.970540046691895,
          12.416169166564941,
          30.970046997070312,
          -2.2373056411743164,
          14.830742835998535,
          -11.256494522094727,
          -14.135693550109863,
          -9.08284854888916,
          46.431358337402344,
          -14.378767013549805,
          33.7064208984375,
          2.3989500999450684,
          -23.554950714111328,
          -11.815006256103516,
          -4.025344371795654,
          48.60170364379883,
          30.073965072631836,
          -8.052143096923828,
          46.11634063720703,
          12.805285453796387,
          7.633645534515381,
          16.364656448364258,
          -0.6123090386390686,
          -6.047783374786377,
          -5.039412021636963,
          -6.339572429656982,
          -20.193241119384766,
          28.724075317382812,
          -16.04994773864746,
          -16.834941864013672,
          49.46998977661133,
          26.277690887451172,
          1.0222502946853638,
          7.480597972869873,
          32.246734619140625,
          43.09017562866211,
          -7.852166175842285,
          38.993255615234375,
          -5.846899509429932,
          12.428497314453125,
          4.923675537109375,
          5.1287102699279785,
          28.796010971069336,
          40.775794982910156,
          -18.897228240966797,
          -0.11667812615633011,
          3.631026268005371,
          -17.77340316772461,
          34.3128662109375,
          53.67451477050781,
          14.605907440185547,
          -17.65635871887207,
          33.15979766845703,
          47.27049255371094,
          38.502952575683594,
          38.79018783569336,
          4.155742645263672,
          52.19393539428711,
          32.3797721862793,
          0.5355642437934875,
          32.9334602355957,
          -11.845126152038574,
          5.841817378997803,
          -16.444873809814453,
          -11.344484329223633,
          -15.447648048400879,
          3.0958237648010254,
          16.6614990234375,
          -12.381901741027832,
          4.435194492340088,
          -12.539301872253418,
          -10.096128463745117,
          23.71631622314453,
          14.850658416748047,
          8.72142219543457,
          44.085201263427734,
          47.76698684692383,
          28.194231033325195,
          21.948392868041992,
          -27.828933715820312,
          37.04249572753906,
          46.73100662231445,
          -10.821393013000488,
          17.728744506835938,
          28.678125381469727,
          -0.1948087364435196,
          -6.941506385803223,
          -7.284992218017578,
          17.683895111083984,
          13.585070610046387,
          46.56999206542969,
          26.757022857666016,
          34.40425109863281,
          5.672902584075928,
          -3.5421130657196045,
          13.593823432922363,
          34.23795700073242,
          -4.546281814575195,
          -11.879575729370117,
          -11.559258460998535,
          -5.6332597732543945,
          -5.4543137550354,
          36.631134033203125,
          -15.466558456420898,
          3.4905242919921875,
          -6.155144214630127,
          -4.593192100524902,
          -4.475228309631348,
          23.176891326904297,
          45.57188415527344,
          -5.230140209197998,
          -7.391030788421631,
          -6.450294017791748,
          -6.787822246551514,
          -20.049129486083984,
          -9.644988059997559,
          3.4338159561157227,
          -4.581250190734863,
          25.03873634338379,
          38.98025894165039,
          46.58722686767578,
          31.033418655395508,
          22.09274673461914,
          35.324249267578125,
          43.71178436279297,
          35.69274139404297,
          53.00846862792969,
          -0.6641169190406799,
          17.291656494140625,
          46.210670471191406,
          -7.807919502258301,
          -28.423381805419922,
          13.736632347106934,
          -36.09412384033203,
          3.8583590984344482,
          33.439796447753906,
          51.55451965332031,
          8.608027458190918,
          14.163890838623047,
          -9.342872619628906,
          -0.4528111517429352,
          -19.064884185791016,
          14.461227416992188,
          42.0609016418457,
          -15.882076263427734,
          -0.20866574347019196,
          35.95735549926758,
          -9.720963478088379,
          -3.4839093685150146,
          14.353988647460938,
          -15.054856300354004,
          16.512847900390625,
          -9.048434257507324,
          48.138572692871094,
          -13.524123191833496,
          -6.278824329376221,
          -10.178505897521973,
          42.65349578857422,
          36.20195770263672,
          44.27289581298828,
          -34.425350189208984,
          -17.0355281829834,
          41.90519714355469,
          39.43413543701172,
          31.24754524230957,
          -15.115612983703613,
          16.904714584350586,
          7.184791564941406,
          -15.261772155761719,
          -4.461295127868652,
          2.5646963119506836,
          -8.049294471740723,
          -9.622296333312988,
          36.89215850830078,
          -19.387868881225586,
          44.2052001953125,
          4.748619079589844,
          14.377689361572266,
          -5.983097076416016,
          53.16215896606445,
          47.28206253051758,
          19.12504768371582,
          38.244789123535156,
          44.9849853515625,
          2.473865509033203,
          -9.149723052978516,
          41.282875061035156,
          7.282633304595947,
          -0.8511934280395508,
          -24.486970901489258,
          4.76828670501709,
          -24.39069175720215,
          28.748517990112305,
          14.987889289855957,
          -9.643020629882812,
          -17.34979820251465,
          45.35050582885742,
          34.69040298461914,
          42.756988525390625,
          -13.554019927978516,
          0.16683800518512726,
          36.81431198120117,
          -0.9891621470451355,
          50.10443115234375,
          11.823442459106445,
          42.5960693359375,
          39.18856430053711,
          -17.572599411010742,
          19.168018341064453,
          4.570184707641602,
          -15.552865982055664,
          46.71737289428711,
          40.105751037597656,
          -2.554459810256958,
          -6.4904279708862305,
          -15.946807861328125,
          2.279273748397827,
          2.5874953269958496,
          4.52234411239624,
          16.386566162109375,
          16.386566162109375,
          29.06218910217285,
          -17.735631942749023,
          -12.972229957580566,
          33.461761474609375,
          33.461761474609375,
          15.278468132019043,
          1.5168802738189697,
          4.618826866149902,
          -6.637861728668213,
          -15.779537200927734,
          -15.779537200927734,
          47.44078826904297,
          -23.5911808013916,
          -14.416914939880371,
          -12.051395416259766,
          7.548906326293945,
          11.723860740661621,
          -13.667518615722656,
          42.717437744140625,
          33.64604568481445,
          45.813743591308594,
          47.265586853027344,
          -5.968616008758545,
          45.253868103027344,
          49.195743560791016,
          44.0295295715332,
          51.43381881713867,
          -2.8512070178985596,
          28.848520278930664,
          47.00395202636719,
          31.456790924072266,
          51.27936935424805,
          47.06459426879883,
          47.06452560424805,
          19.230356216430664,
          36.44422149658203,
          37.194488525390625,
          33.63471603393555,
          7.419313907623291,
          -9.103021621704102,
          -10.303877830505371,
          25.670804977416992,
          18.156843185424805,
          43.562171936035156,
          -2.2949118614196777,
          11.79011058807373,
          -0.5805367231369019,
          34.65314483642578,
          -20.141433715820312,
          -0.5983352065086365,
          3.0004305839538574,
          -7.966005325317383,
          -0.2750907242298126,
          -11.84229564666748,
          16.356016159057617,
          38.6416015625,
          2.0911827087402344,
          0.4316657483577728,
          2.470621347427368,
          -4.518539905548096,
          5.337679862976074,
          44.554656982421875,
          -8.365482330322266,
          -6.159396648406982,
          48.584228515625,
          43.98374557495117,
          35.5929069519043,
          -0.9849780201911926,
          0.03418697044253349,
          -8.550010681152344,
          -6.312434196472168,
          -6.107972621917725,
          21.96198844909668,
          0.0797366052865982,
          -25.696178436279297,
          1.4521656036376953,
          -9.217351913452148,
          -11.754517555236816,
          36.219688415527344,
          6.790744781494141,
          11.549701690673828,
          36.09614562988281,
          -2.2803239822387695,
          14.540946960449219,
          -0.25017377734184265,
          15.213537216186523,
          25.04399871826172,
          31.475770950317383,
          30.63374137878418,
          44.220008850097656,
          3.1299378871917725,
          46.30999755859375,
          42.457763671875,
          1.0295460224151611,
          39.72748565673828,
          37.45423126220703,
          -0.33766305446624756,
          7.276963233947754,
          -5.91411828994751,
          -15.745408058166504,
          4.493661403656006,
          7.768454074859619,
          37.211246490478516,
          33.323490142822266,
          7.327198505401611,
          37.59894561767578,
          39.78045654296875,
          -21.066810607910156,
          -8.216567039489746,
          -13.590707778930664,
          3.7859301567077637,
          -12.873125076293945,
          12.986286163330078,
          3.8829219341278076,
          27.870325088500977,
          38.26523971557617,
          47.930171966552734,
          24.980234146118164,
          -12.272418975830078,
          6.633553504943848,
          39.21417999267578,
          -13.22424602508545,
          31.02362060546875,
          41.6519775390625,
          7.548079490661621,
          46.52699661254883,
          37.902252197265625,
          -11.687024116516113,
          -19.361209869384766,
          3.5572054386138916,
          -22.812541961669922,
          -17.583669662475586,
          11.452531814575195,
          -9.556459426879883,
          43.221981048583984,
          -9.618132591247559,
          20.53348159790039,
          -6.428596496582031,
          41.9597053527832,
          -14.78093147277832,
          48.98472595214844,
          -14.29679012298584,
          -23.692474365234375,
          -13.294061660766602,
          -24.078081130981445,
          27.642322540283203,
          -2.878962516784668,
          1.8255422115325928,
          -16.093637466430664,
          -12.332131385803223,
          -5.061375141143799,
          44.437644958496094,
          23.205007553100586,
          -2.1704890727996826,
          -13.477530479431152,
          37.103309631347656,
          -9.352209091186523,
          44.22842025756836,
          28.101619720458984,
          -2.6166224479675293,
          46.31971740722656,
          -0.25737181305885315,
          -0.25737181305885315,
          -8.765551567077637,
          -5.392277717590332,
          47.64221954345703,
          -9.346351623535156,
          24.895465850830078,
          4.722662925720215,
          -6.862262725830078
         ],
         "yaxis": "y"
        }
       ],
       "layout": {
        "coloraxis": {
         "colorbar": {
          "title": {
           "text": "color"
          }
         },
         "colorscale": [
          [
           0,
           "#0d0887"
          ],
          [
           0.1111111111111111,
           "#46039f"
          ],
          [
           0.2222222222222222,
           "#7201a8"
          ],
          [
           0.3333333333333333,
           "#9c179e"
          ],
          [
           0.4444444444444444,
           "#bd3786"
          ],
          [
           0.5555555555555556,
           "#d8576b"
          ],
          [
           0.6666666666666666,
           "#ed7953"
          ],
          [
           0.7777777777777778,
           "#fb9f3a"
          ],
          [
           0.8888888888888888,
           "#fdca26"
          ],
          [
           1,
           "#f0f921"
          ]
         ]
        },
        "legend": {
         "tracegroupgap": 0
        },
        "margin": {
         "t": 60
        },
        "template": {
         "data": {
          "bar": [
           {
            "error_x": {
             "color": "#2a3f5f"
            },
            "error_y": {
             "color": "#2a3f5f"
            },
            "marker": {
             "line": {
              "color": "#E5ECF6",
              "width": 0.5
             }
            },
            "type": "bar"
           }
          ],
          "barpolar": [
           {
            "marker": {
             "line": {
              "color": "#E5ECF6",
              "width": 0.5
             }
            },
            "type": "barpolar"
           }
          ],
          "carpet": [
           {
            "aaxis": {
             "endlinecolor": "#2a3f5f",
             "gridcolor": "white",
             "linecolor": "white",
             "minorgridcolor": "white",
             "startlinecolor": "#2a3f5f"
            },
            "baxis": {
             "endlinecolor": "#2a3f5f",
             "gridcolor": "white",
             "linecolor": "white",
             "minorgridcolor": "white",
             "startlinecolor": "#2a3f5f"
            },
            "type": "carpet"
           }
          ],
          "choropleth": [
           {
            "colorbar": {
             "outlinewidth": 0,
             "ticks": ""
            },
            "type": "choropleth"
           }
          ],
          "contour": [
           {
            "colorbar": {
             "outlinewidth": 0,
             "ticks": ""
            },
            "colorscale": [
             [
              0,
              "#0d0887"
             ],
             [
              0.1111111111111111,
              "#46039f"
             ],
             [
              0.2222222222222222,
              "#7201a8"
             ],
             [
              0.3333333333333333,
              "#9c179e"
             ],
             [
              0.4444444444444444,
              "#bd3786"
             ],
             [
              0.5555555555555556,
              "#d8576b"
             ],
             [
              0.6666666666666666,
              "#ed7953"
             ],
             [
              0.7777777777777778,
              "#fb9f3a"
             ],
             [
              0.8888888888888888,
              "#fdca26"
             ],
             [
              1,
              "#f0f921"
             ]
            ],
            "type": "contour"
           }
          ],
          "contourcarpet": [
           {
            "colorbar": {
             "outlinewidth": 0,
             "ticks": ""
            },
            "type": "contourcarpet"
           }
          ],
          "heatmap": [
           {
            "colorbar": {
             "outlinewidth": 0,
             "ticks": ""
            },
            "colorscale": [
             [
              0,
              "#0d0887"
             ],
             [
              0.1111111111111111,
              "#46039f"
             ],
             [
              0.2222222222222222,
              "#7201a8"
             ],
             [
              0.3333333333333333,
              "#9c179e"
             ],
             [
              0.4444444444444444,
              "#bd3786"
             ],
             [
              0.5555555555555556,
              "#d8576b"
             ],
             [
              0.6666666666666666,
              "#ed7953"
             ],
             [
              0.7777777777777778,
              "#fb9f3a"
             ],
             [
              0.8888888888888888,
              "#fdca26"
             ],
             [
              1,
              "#f0f921"
             ]
            ],
            "type": "heatmap"
           }
          ],
          "heatmapgl": [
           {
            "colorbar": {
             "outlinewidth": 0,
             "ticks": ""
            },
            "colorscale": [
             [
              0,
              "#0d0887"
             ],
             [
              0.1111111111111111,
              "#46039f"
             ],
             [
              0.2222222222222222,
              "#7201a8"
             ],
             [
              0.3333333333333333,
              "#9c179e"
             ],
             [
              0.4444444444444444,
              "#bd3786"
             ],
             [
              0.5555555555555556,
              "#d8576b"
             ],
             [
              0.6666666666666666,
              "#ed7953"
             ],
             [
              0.7777777777777778,
              "#fb9f3a"
             ],
             [
              0.8888888888888888,
              "#fdca26"
             ],
             [
              1,
              "#f0f921"
             ]
            ],
            "type": "heatmapgl"
           }
          ],
          "histogram": [
           {
            "marker": {
             "colorbar": {
              "outlinewidth": 0,
              "ticks": ""
             }
            },
            "type": "histogram"
           }
          ],
          "histogram2d": [
           {
            "colorbar": {
             "outlinewidth": 0,
             "ticks": ""
            },
            "colorscale": [
             [
              0,
              "#0d0887"
             ],
             [
              0.1111111111111111,
              "#46039f"
             ],
             [
              0.2222222222222222,
              "#7201a8"
             ],
             [
              0.3333333333333333,
              "#9c179e"
             ],
             [
              0.4444444444444444,
              "#bd3786"
             ],
             [
              0.5555555555555556,
              "#d8576b"
             ],
             [
              0.6666666666666666,
              "#ed7953"
             ],
             [
              0.7777777777777778,
              "#fb9f3a"
             ],
             [
              0.8888888888888888,
              "#fdca26"
             ],
             [
              1,
              "#f0f921"
             ]
            ],
            "type": "histogram2d"
           }
          ],
          "histogram2dcontour": [
           {
            "colorbar": {
             "outlinewidth": 0,
             "ticks": ""
            },
            "colorscale": [
             [
              0,
              "#0d0887"
             ],
             [
              0.1111111111111111,
              "#46039f"
             ],
             [
              0.2222222222222222,
              "#7201a8"
             ],
             [
              0.3333333333333333,
              "#9c179e"
             ],
             [
              0.4444444444444444,
              "#bd3786"
             ],
             [
              0.5555555555555556,
              "#d8576b"
             ],
             [
              0.6666666666666666,
              "#ed7953"
             ],
             [
              0.7777777777777778,
              "#fb9f3a"
             ],
             [
              0.8888888888888888,
              "#fdca26"
             ],
             [
              1,
              "#f0f921"
             ]
            ],
            "type": "histogram2dcontour"
           }
          ],
          "mesh3d": [
           {
            "colorbar": {
             "outlinewidth": 0,
             "ticks": ""
            },
            "type": "mesh3d"
           }
          ],
          "parcoords": [
           {
            "line": {
             "colorbar": {
              "outlinewidth": 0,
              "ticks": ""
             }
            },
            "type": "parcoords"
           }
          ],
          "pie": [
           {
            "automargin": true,
            "type": "pie"
           }
          ],
          "scatter": [
           {
            "marker": {
             "colorbar": {
              "outlinewidth": 0,
              "ticks": ""
             }
            },
            "type": "scatter"
           }
          ],
          "scatter3d": [
           {
            "line": {
             "colorbar": {
              "outlinewidth": 0,
              "ticks": ""
             }
            },
            "marker": {
             "colorbar": {
              "outlinewidth": 0,
              "ticks": ""
             }
            },
            "type": "scatter3d"
           }
          ],
          "scattercarpet": [
           {
            "marker": {
             "colorbar": {
              "outlinewidth": 0,
              "ticks": ""
             }
            },
            "type": "scattercarpet"
           }
          ],
          "scattergeo": [
           {
            "marker": {
             "colorbar": {
              "outlinewidth": 0,
              "ticks": ""
             }
            },
            "type": "scattergeo"
           }
          ],
          "scattergl": [
           {
            "marker": {
             "colorbar": {
              "outlinewidth": 0,
              "ticks": ""
             }
            },
            "type": "scattergl"
           }
          ],
          "scattermapbox": [
           {
            "marker": {
             "colorbar": {
              "outlinewidth": 0,
              "ticks": ""
             }
            },
            "type": "scattermapbox"
           }
          ],
          "scatterpolar": [
           {
            "marker": {
             "colorbar": {
              "outlinewidth": 0,
              "ticks": ""
             }
            },
            "type": "scatterpolar"
           }
          ],
          "scatterpolargl": [
           {
            "marker": {
             "colorbar": {
              "outlinewidth": 0,
              "ticks": ""
             }
            },
            "type": "scatterpolargl"
           }
          ],
          "scatterternary": [
           {
            "marker": {
             "colorbar": {
              "outlinewidth": 0,
              "ticks": ""
             }
            },
            "type": "scatterternary"
           }
          ],
          "surface": [
           {
            "colorbar": {
             "outlinewidth": 0,
             "ticks": ""
            },
            "colorscale": [
             [
              0,
              "#0d0887"
             ],
             [
              0.1111111111111111,
              "#46039f"
             ],
             [
              0.2222222222222222,
              "#7201a8"
             ],
             [
              0.3333333333333333,
              "#9c179e"
             ],
             [
              0.4444444444444444,
              "#bd3786"
             ],
             [
              0.5555555555555556,
              "#d8576b"
             ],
             [
              0.6666666666666666,
              "#ed7953"
             ],
             [
              0.7777777777777778,
              "#fb9f3a"
             ],
             [
              0.8888888888888888,
              "#fdca26"
             ],
             [
              1,
              "#f0f921"
             ]
            ],
            "type": "surface"
           }
          ],
          "table": [
           {
            "cells": {
             "fill": {
              "color": "#EBF0F8"
             },
             "line": {
              "color": "white"
             }
            },
            "header": {
             "fill": {
              "color": "#C8D4E3"
             },
             "line": {
              "color": "white"
             }
            },
            "type": "table"
           }
          ]
         },
         "layout": {
          "annotationdefaults": {
           "arrowcolor": "#2a3f5f",
           "arrowhead": 0,
           "arrowwidth": 1
          },
          "autotypenumbers": "strict",
          "coloraxis": {
           "colorbar": {
            "outlinewidth": 0,
            "ticks": ""
           }
          },
          "colorscale": {
           "diverging": [
            [
             0,
             "#8e0152"
            ],
            [
             0.1,
             "#c51b7d"
            ],
            [
             0.2,
             "#de77ae"
            ],
            [
             0.3,
             "#f1b6da"
            ],
            [
             0.4,
             "#fde0ef"
            ],
            [
             0.5,
             "#f7f7f7"
            ],
            [
             0.6,
             "#e6f5d0"
            ],
            [
             0.7,
             "#b8e186"
            ],
            [
             0.8,
             "#7fbc41"
            ],
            [
             0.9,
             "#4d9221"
            ],
            [
             1,
             "#276419"
            ]
           ],
           "sequential": [
            [
             0,
             "#0d0887"
            ],
            [
             0.1111111111111111,
             "#46039f"
            ],
            [
             0.2222222222222222,
             "#7201a8"
            ],
            [
             0.3333333333333333,
             "#9c179e"
            ],
            [
             0.4444444444444444,
             "#bd3786"
            ],
            [
             0.5555555555555556,
             "#d8576b"
            ],
            [
             0.6666666666666666,
             "#ed7953"
            ],
            [
             0.7777777777777778,
             "#fb9f3a"
            ],
            [
             0.8888888888888888,
             "#fdca26"
            ],
            [
             1,
             "#f0f921"
            ]
           ],
           "sequentialminus": [
            [
             0,
             "#0d0887"
            ],
            [
             0.1111111111111111,
             "#46039f"
            ],
            [
             0.2222222222222222,
             "#7201a8"
            ],
            [
             0.3333333333333333,
             "#9c179e"
            ],
            [
             0.4444444444444444,
             "#bd3786"
            ],
            [
             0.5555555555555556,
             "#d8576b"
            ],
            [
             0.6666666666666666,
             "#ed7953"
            ],
            [
             0.7777777777777778,
             "#fb9f3a"
            ],
            [
             0.8888888888888888,
             "#fdca26"
            ],
            [
             1,
             "#f0f921"
            ]
           ]
          },
          "colorway": [
           "#636efa",
           "#EF553B",
           "#00cc96",
           "#ab63fa",
           "#FFA15A",
           "#19d3f3",
           "#FF6692",
           "#B6E880",
           "#FF97FF",
           "#FECB52"
          ],
          "font": {
           "color": "#2a3f5f"
          },
          "geo": {
           "bgcolor": "white",
           "lakecolor": "white",
           "landcolor": "#E5ECF6",
           "showlakes": true,
           "showland": true,
           "subunitcolor": "white"
          },
          "hoverlabel": {
           "align": "left"
          },
          "hovermode": "closest",
          "mapbox": {
           "style": "light"
          },
          "paper_bgcolor": "white",
          "plot_bgcolor": "#E5ECF6",
          "polar": {
           "angularaxis": {
            "gridcolor": "white",
            "linecolor": "white",
            "ticks": ""
           },
           "bgcolor": "#E5ECF6",
           "radialaxis": {
            "gridcolor": "white",
            "linecolor": "white",
            "ticks": ""
           }
          },
          "scene": {
           "xaxis": {
            "backgroundcolor": "#E5ECF6",
            "gridcolor": "white",
            "gridwidth": 2,
            "linecolor": "white",
            "showbackground": true,
            "ticks": "",
            "zerolinecolor": "white"
           },
           "yaxis": {
            "backgroundcolor": "#E5ECF6",
            "gridcolor": "white",
            "gridwidth": 2,
            "linecolor": "white",
            "showbackground": true,
            "ticks": "",
            "zerolinecolor": "white"
           },
           "zaxis": {
            "backgroundcolor": "#E5ECF6",
            "gridcolor": "white",
            "gridwidth": 2,
            "linecolor": "white",
            "showbackground": true,
            "ticks": "",
            "zerolinecolor": "white"
           }
          },
          "shapedefaults": {
           "line": {
            "color": "#2a3f5f"
           }
          },
          "ternary": {
           "aaxis": {
            "gridcolor": "white",
            "linecolor": "white",
            "ticks": ""
           },
           "baxis": {
            "gridcolor": "white",
            "linecolor": "white",
            "ticks": ""
           },
           "bgcolor": "#E5ECF6",
           "caxis": {
            "gridcolor": "white",
            "linecolor": "white",
            "ticks": ""
           }
          },
          "title": {
           "x": 0.05
          },
          "xaxis": {
           "automargin": true,
           "gridcolor": "white",
           "linecolor": "white",
           "ticks": "",
           "title": {
            "standoff": 15
           },
           "zerolinecolor": "white",
           "zerolinewidth": 2
          },
          "yaxis": {
           "automargin": true,
           "gridcolor": "white",
           "linecolor": "white",
           "ticks": "",
           "title": {
            "standoff": 15
           },
           "zerolinecolor": "white",
           "zerolinewidth": 2
          }
         }
        },
        "xaxis": {
         "anchor": "y",
         "domain": [
          0,
          1
         ],
         "title": {
          "text": "x"
         }
        },
        "yaxis": {
         "anchor": "x",
         "domain": [
          0,
          1
         ],
         "title": {
          "text": "y"
         }
        }
       }
      },
      "text/html": [
       "<div>                            <div id=\"c33fd80b-42b1-484b-944f-74305e9b19e0\" class=\"plotly-graph-div\" style=\"height:525px; width:100%;\"></div>            <script type=\"text/javascript\">                require([\"plotly\"], function(Plotly) {                    window.PLOTLYENV=window.PLOTLYENV || {};                                    if (document.getElementById(\"c33fd80b-42b1-484b-944f-74305e9b19e0\")) {                    Plotly.newPlot(                        \"c33fd80b-42b1-484b-944f-74305e9b19e0\",                        [{\"customdata\": [[\"AAAAACATGCCACACTG\"], [\"AAAACTTCATGTACAGA\"], [\"AAACGGCCGAGTTCGAG\"], [\"AAACGTCCCCACACGGG\"], [\"AAAGAAGCTATAAACTA\"], [\"AAAGACGCCAGTAAGAA\"], [\"AAAGAGGTCACGAGCTG\"], [\"AAATAACCGGCCAAAGA\"], [\"AAATACAGTAGAGGAGT\"], [\"AACAAGAAATTTTCCAC\"], [\"AACCATACGATGACTAC\"], [\"AACCCCGATGGGGCACA\"], [\"AACGCAATACAATAAGC\"], [\"AACGCAGATGGTACTCG\"], [\"AACGGTCTCCTGATACA\"], [\"AACGTCAGGGGATCGGC\"], [\"AAGAAAGAGTGATTGTG\"], [\"AAGCAACCCGCGATCAC\"], [\"AAGCAACCCGCGATCAC\"], [\"AAGCAACCGCAACTCGG\"], [\"AAGCCAGTCCACAAATG\"], [\"AAGCGAATCGTATGAGG\"], [\"AAGCGAATCGTATGAGG\"], [\"AAGGATGTATCTTCTCA\"], [\"AAGGATTCCGTGGGTTA\"], [\"AATGGACTTCCCGACGA\"], [\"AATTCGTATGAGAATAG\"], [\"ACAAAAGGACCCAGAAC\"], [\"ACAATTCTCCAGCGGCT\"], [\"ACACAACTGTACTGGAA\"], [\"ACACACGACATGGCCAT\"], [\"ACACCGACGAACGAGTA\"], [\"ACACCGAGCGGTTGAAA\"], [\"ACACCGTATGAAAGAGC\"], [\"ACACCTACAATCCCTTA\"], [\"ACAGGCCGTAAAATGTC\"], [\"ACAGTAAAGCACTATAA\"], [\"ACAGTATTGCATGTGGG\"], [\"ACATCCCAAAATACAAA\"], [\"ACCACATGGCCTATGAA\"], [\"ACCAGTTCATACAGAAA\"], [\"ACCCAGCCCAACTCGTA\"], [\"ACCCATATTTTCCTCGA\"], [\"ACCCCAGCAATAAAAAC\"], [\"ACCCGAAGGTCATCGTA\"], [\"ACCCGACTAGTTACCCA\"], [\"ACCCTGCGGTGCAGTCT\"], [\"ACCGCAGGATCGAACTA\"], [\"ACCGCCACGGTAGGGTA\"], [\"ACCTACTCGACAGTGGT\"], [\"ACCTAGTGACAGACCAG\"], [\"ACCTGCCAAGTGGCGCG\"], [\"ACCTGGTTTCCGCCTTA\"], [\"ACCTTGAAGGTTACCTA\"], [\"ACGAGGCATACACAAGG\"], [\"ACGATAGCTGGCCCATA\"], [\"ACGCAACTTTATGGTTG\"], [\"ACGCCACTTGGGATTCC\"], [\"ACGGAACTAACTTTTAC\"], [\"ACGGCCCGGCATCTAGG\"], [\"ACGGTATCAATTTCACT\"], [\"ACTATCTCCTAAGCTCC\"], [\"ACTCAGGCCAAAGACGT\"], [\"ACTCGCTCGTCAGGCCA\"], [\"ACTTTCCCATCATTAAC\"], [\"AGAATTTTAATGAGCCA\"], [\"AGAATTTTAATGAGCCA\"], [\"AGACCTTACACTTTTGA\"], [\"AGAGATGAGGGCGAATT\"], [\"AGAGCAGTTCCCCCATA\"], [\"AGATGGGGAGAAATTAC\"], [\"AGCAAATCACCACACCA\"], [\"AGCAAGAGTTGGCCACT\"], [\"AGCCGACGATAACGGAG\"], [\"AGCCGGGCCAGCCCAGT\"], [\"AGCGCAGTCCTTAACTG\"], [\"AGCGCCCCGAAATGGTT\"], [\"AGTCCCCAACCGCGCGA\"], [\"AGTGTGCCTTAAGCACG\"], [\"AGTTGAAACGAGCAGAG\"], [\"ATACCACTAGACACTTA\"], [\"ATACCCGCCACGGCCAT\"], [\"ATACGGTTCCATCCCCC\"], [\"ATACTCATTATCATACG\"], [\"ATAGCGGGAGGGCCCTA\"], [\"ATATGCTTCGACCCAGT\"], [\"ATCAACTCACAGGGGAC\"], [\"ATCACTGGAAACCGTGG\"], [\"ATCCCACCGCCCCGAAG\"], [\"ATGAACCAGTCCATTAC\"], [\"ATGATCGTGAAAGTCAA\"], [\"ATGCGTCATGTTTGCCC\"], [\"ATGCGTCATGTTTGCCC\"], [\"ATGGACGGCACACTCCC\"], [\"ATGTGCAGAAACCGCCT\"], [\"ATGTTAGTAGCTGACCC\"], [\"CAAAGAATTCTAGAGAA\"], [\"CAAAGGGCCTTCACCGC\"], [\"CAATGTCAGGGTTGTTA\"], [\"CAATTGCGCCTTAGCTG\"], [\"CACACTTGCCACAGCAC\"], [\"CACCAACCGATATGAAG\"], [\"CACCCAGGAACACGAAA\"], [\"CACCGGGAGCCAAATAT\"], [\"CACGACATACCCGGCAC\"], [\"CACGCGGTGCCCTGTGA\"], [\"CAGCATACATCAATTTA\"], [\"CAGCGGAGTCGCCAGCA\"], [\"CAGCTGAGCCGCAGTGG\"], [\"CAGGGGACAACGAGAAA\"], [\"CATAAACCGCGGAAAGC\"], [\"CATAGGGAGAATATAAC\"], [\"CATCCGAGTGAGTTTGC\"], [\"CCAAGATCGCTACGCTA\"], [\"CCACGAGCGGACGTAAG\"], [\"CCAGAGCCTAGCTAGAG\"], [\"CCAGCCATCCCGACGGG\"], [\"CCATGGGAACAGAGGTG\"], [\"CCCAGACGAGGGGACGA\"], [\"CCCATACTTGCTAGATC\"], [\"CCCATTATCCCTGAGAG\"], [\"CCCCGACGGACTGTGAT\"], [\"CCCCTTGACGGAACTTT\"], [\"CCCGAAAGCTACTAATA\"], [\"CCCGCAACTTTTCGGCA\"], [\"CCCGCTCGGGATACCCC\"], [\"CCCGTTGACCCCTCTAG\"], [\"CCCTGGACATACCGGCC\"], [\"CCGATGCCTAACATGGG\"], [\"CCGATGTGCACAACCCC\"], [\"CCGCCACAGAATCATAA\"], [\"CCGGCCCTGAACTGGGC\"], [\"CCGTAAACCAGAGCGAA\"], [\"CCGTGTCCTTTGTAATT\"], [\"CCTACGCCCTAAGCGTT\"], [\"CCTCGAATAAGAACGTA\"], [\"CCTGGGAAGAGATGCGC\"], [\"CGACTAGTGATCTTACT\"], [\"CGATAGACCAATCGGCA\"], [\"CGATGACACAGCAATTA\"], [\"CGATGGGGCGTATACGA\"], [\"CGATTTGTGGACATATC\"], [\"CGCGCTAGCGCTACCAA\"], [\"CGTAAGAATGCTCACAG\"], [\"CGTATACCGAGGAATCA\"], [\"CGTGAATAAAACAACGG\"], [\"CGTGACTCCGCCTATCA\"], [\"CTAAACCGAAACGGGCC\"], [\"CTAACTGACCCGGACGA\"], [\"CTACCACGTGGCCCCCA\"], [\"CTACCAGTTCTTCGAGT\"], [\"CTATTCGACACCTATAG\"], [\"CTCCTTCATGGACCGCA\"], [\"CTGAAGTAACGAACTGG\"], [\"CTGATGCCTAATCACAG\"], [\"CTTAGCTGAAAACGACA\"], [\"CTTTACGCACGGTCTCA\"], [\"GAAACAAACAGAATATC\"], [\"GAACATAACATTGCGGA\"], [\"GAACGAGCAGGTAACCG\"], [\"GAACTCGGCCTACTATC\"], [\"GAACTTCAACCGCGCCC\"], [\"GAAGGGACACAAATCCA\"], [\"GAAGGGCCCGGGACACG\"], [\"GAATCTATGCCCGTGCA\"], [\"GACAAACGGCGACGTTA\"], [\"GACAACCCTGTATAACG\"], [\"GACAGCGTACCGTCTAA\"], [\"GACAGTAGAAAAGTTCC\"], [\"GACCACTCCGTAATAAG\"], [\"GACCATATCGTGTTACC\"], [\"GACCTCTCTAATGTATG\"], [\"GAGATGAATTAGATACA\"], [\"GAGCCGCGTTAACCCAC\"], [\"GAGGCTGGGCGGAGGGG\"], [\"GATAAGACAGCGGCTGG\"], [\"GATAAGACAGCGGCTGG\"], [\"GATGGACCAGTGCTAGC\"], [\"GATTACGCCACCGTGCG\"], [\"GATTCCCGTACGACTAT\"], [\"GATTTCAATGAAAATTC\"], [\"GCAACGCACAGCGCTTT\"], [\"GCAGGCAACACCCGTAG\"], [\"GCAGTCACAGCGAAATA\"], [\"GCAGTGCACGCCTGGTC\"], [\"GCATACCTTCGCCACGC\"], [\"GCATGCAGCCTCTCGTA\"], [\"GCATTTTATAGTAGTGC\"], [\"GCCAGTTGCACTCCCCG\"], [\"GCCCACCGATAGAGGTG\"], [\"GCCCGATGCCCCTCAGC\"], [\"GCCGACTGGCGCCGCGA\"], [\"GCCGCCATCGGTTGAGT\"], [\"GCCGCCGATAACCCCTC\"], [\"GCGAATATAAAACGTGG\"], [\"GCGAGAACCATAGTCAT\"], [\"GCGCCCAACATTACTTA\"], [\"GCGCCTGAAATGACCCC\"], [\"GCGTAAGTCTGGGTACC\"], [\"GCGTATCAGATGTGGTC\"], [\"GCTAACTGGTAAGCCCC\"], [\"GCTCAGTCCGCAGTTCA\"], [\"GCTTACAGAAACCATTG\"], [\"GGAACCCGTCATCAGGG\"], [\"GGAAGCATTGGTATCGC\"], [\"GGACAGAGTGTCCCCCA\"], [\"GGACGACCACTTGTGGC\"], [\"GGACTCCGAGCTTGATC\"], [\"GGAGGACTTAGTCAGAC\"], [\"GGATCACATCCCGCTCC\"], [\"GGATCACATCCCGCTCC\"], [\"GGATGATGTCGAGGGAG\"], [\"GGATGCCCGAACATAGG\"], [\"GGCAATGGTGTGATTGA\"], [\"GGCACCGTACGGAACCT\"], [\"GGCCACGATTCAATAGC\"], [\"GGCCCGGTAAACCTAAT\"], [\"GGCGGGATAAAGCCGGA\"], [\"GGCGGGGTGACGTTGAC\"], [\"GGCTCTGACCAGTAACT\"], [\"GGCTGAAGCGATCTTCC\"], [\"GGCTGCCGGGATGATTC\"], [\"GGGAGCAAGACGAGAGA\"], [\"GGGTTCCCGCAAGCACC\"], [\"GGTCCCCGGGGGTCATG\"], [\"GGTGATGAGTGCCGACC\"], [\"GTAAATGCGCAGGCACT\"], [\"GTAACCCTCAGCCCTGG\"], [\"GTAACCCTCAGCCCTGG\"], [\"GTAGCATCACCATATAA\"], [\"GTAGCATCACCATATAA\"], [\"GTCCGACTCGTACCGAC\"], [\"GTCGTCTATAGGCCTCG\"], [\"GTCTTTTGAAAGCGCGT\"], [\"GTGAAATACTGGCTTAA\"], [\"GTGACACGAGGAAAGGC\"], [\"GTGAGTACGATGCCTGA\"], [\"GTGCAACCCAGGGTCTG\"], [\"GTGCATCGCCCCTCCGG\"], [\"GTGCCCTCCGATGTGGC\"], [\"GTGGAGTCGAGCGGGCA\"], [\"GTGGTTGCCGGGAAACC\"], [\"GTGTAATTGGACCATGA\"], [\"GTTATCAAGACCTAAAG\"], [\"GTTGCAGACCATGAGGC\"], [\"GTTGCAGGCGTTGGGAT\"], [\"GTTGCCAAGGGCTGTTC\"], [\"GTTGCTCCGATAGCTTC\"], [\"GTTTCGCCTCCGAGGCC\"], [\"SL1344_0014\"], [\"SL1344_0016\"], [\"SL1344_0017\"], [\"SL1344_0019\"], [\"SL1344_0020\"], [\"SL1344_0029\"], [\"SL1344_0030\"], [\"SL1344_0032\"], [\"SL1344_0033\"], [\"SL1344_0034\"], [\"SL1344_0035\"], [\"SL1344_0036\"], [\"SL1344_0038\"], [\"SL1344_0043\"], [\"SL1344_0084\"], [\"SL1344_0100\"], [\"SL1344_0272\"], [\"SL1344_0273\"], [\"SL1344_0286B\"], [\"SL1344_0291\"], [\"SL1344_0292\"], [\"SL1344_0323\"], [\"SL1344_0330\"], [\"SL1344_0336\"], [\"SL1344_0337\"], [\"SL1344_0338\"], [\"SL1344_0339\"], [\"SL1344_0340\"], [\"SL1344_0341\"], [\"SL1344_0342\"], [\"SL1344_0431\"], [\"SL1344_0490\"], [\"SL1344_0513\"], [\"SL1344_0544\"], [\"SL1344_0547\"], [\"SL1344_0555\"], [\"SL1344_0599\"], [\"SL1344_0640\"], [\"SL1344_0700\"], [\"SL1344_0700\"], [\"SL1344_0702\"], [\"SL1344_0703\"], [\"SL1344_0705\"], [\"SL1344_0706\"], [\"SL1344_0707\"], [\"SL1344_0738\"], [\"SL1344_0741\"], [\"SL1344_0742\"], [\"SL1344_0785\"], [\"SL1344_0810\"], [\"SL1344_0814\"], [\"SL1344_0830\"], [\"SL1344_0831\"], [\"SL1344_0832\"], [\"SL1344_0833\"], [\"SL1344_0834\"], [\"SL1344_0835\"], [\"SL1344_0836\"], [\"SL1344_0860\"], [\"SL1344_0862\"], [\"SL1344_0942\"], [\"SL1344_0955\"], [\"SL1344_0976\"], [\"SL1344_0984\"], [\"SL1344_0988\"], [\"SL1344_1066\"], [\"SL1344_1068\"], [\"SL1344_1069\"], [\"SL1344_1070\"], [\"SL1344_1165\"], [\"SL1344_1186\"], [\"SL1344_1189\"], [\"SL1344_1190\"], [\"SL1344_1196\"], [\"SL1344_1201\"], [\"SL1344_1208\"], [\"SL1344_1302\"], [\"SL1344_1421\"], [\"SL1344_1421\"], [\"SL1344_1458\"], [\"SL1344_1459\"], [\"SL1344_1469\"], [\"SL1344_1471\"], [\"SL1344_1472\"], [\"SL1344_1481\"], [\"SL1344_1482\"], [\"SL1344_1550\"], [\"SL1344_1560\"], [\"SL1344_1563\"], [\"SL1344_1564\"], [\"SL1344_1565\"], [\"SL1344_1566\"], [\"SL1344_1568\"], [\"SL1344_1588\"], [\"SL1344_1597\"], [\"SL1344_1598\"], [\"SL1344_1599\"], [\"SL1344_1602\"], [\"SL1344_1713\"], [\"SL1344_1762\"], [\"SL1344_1770\"], [\"SL1344_1795\"], [\"SL1344_1802\"], [\"SL1344_1830\"], [\"SL1344_1872\"], [\"SL1344_1873\"], [\"SL1344_1930\"], [\"SL1344_1931\"], [\"SL1344_1932\"], [\"SL1344_1940\"], [\"SL1344_1949\"], [\"SL1344_1957\"], [\"SL1344_1960\"], [\"SL1344_1965\"], [\"SL1344_1970\"], [\"SL1344_1976\"], [\"SL1344_1981\"], [\"SL1344_1982\"], [\"SL1344_1983\"], [\"SL1344_2109\"], [\"SL1344_2115\"], [\"SL1344_2125\"], [\"SL1344_2173\"], [\"SL1344_2207\"], [\"SL1344_2209\"], [\"SL1344_2210\"], [\"SL1344_2219\"], [\"SL1344_2244\"], [\"SL1344_2309\"], [\"SL1344_2311\"], [\"SL1344_2312\"], [\"SL1344_2314\"], [\"SL1344_2341\"], [\"SL1344_2343\"], [\"SL1344_2345\"], [\"SL1344_2346\"], [\"SL1344_2373\"], [\"SL1344_2415\"], [\"SL1344_2441\"], [\"SL1344_2457\"], [\"SL1344_2466\"], [\"SL1344_2492\"], [\"SL1344_2496\"], [\"SL1344_2509\"], [\"SL1344_2536\"], [\"SL1344_2537\"], [\"SL1344_2548\"], [\"SL1344_2549\"], [\"SL1344_2551\"], [\"SL1344_2583\"], [\"SL1344_2586\"], [\"SL1344_2594\"], [\"SL1344_2641\"], [\"SL1344_2653\"], [\"SL1344_2663\"], [\"SL1344_2671\"], [\"SL1344_2673\"], [\"SL1344_2676\"], [\"SL1344_2696\"], [\"SL1344_2698\"], [\"SL1344_2709\"], [\"SL1344_2710\"], [\"SL1344_2713\"], [\"SL1344_2721\"], [\"SL1344_2722\"], [\"SL1344_2725\"], [\"SL1344_2726\"], [\"SL1344_2727\"], [\"SL1344_2730\"], [\"SL1344_2731\"], [\"SL1344_2745\"], [\"SL1344_2747\"], [\"SL1344_2750\"], [\"SL1344_2752\"], [\"SL1344_2772\"], [\"SL1344_2789\"], [\"SL1344_2880\"], [\"SL1344_2882\"], [\"SL1344_2922\"], [\"SL1344_2990\"], [\"SL1344_3000\"], [\"SL1344_3009\"], [\"SL1344_3010\"], [\"SL1344_3014\"], [\"SL1344_3028\"], [\"SL1344_3055\"], [\"SL1344_3057\"], [\"SL1344_3059\"], [\"SL1344_3061\"], [\"SL1344_3091\"], [\"SL1344_3092\"], [\"SL1344_3097\"], [\"SL1344_3098\"], [\"SL1344_3100\"], [\"SL1344_3106\"], [\"SL1344_3107\"], [\"SL1344_3112\"], [\"SL1344_3128\"], [\"SL1344_3141\"], [\"SL1344_3144\"], [\"SL1344_3166\"], [\"SL1344_3167\"], [\"SL1344_3227\"], [\"SL1344_3228\"], [\"SL1344_3230\"], [\"SL1344_3251\"], [\"SL1344_3361\"], [\"SL1344_3495\"], [\"SL1344_3513\"], [\"SL1344_3514\"], [\"SL1344_3563\"], [\"SL1344_3564\"], [\"SL1344_3565\"], [\"SL1344_3569\"], [\"SL1344_3597\"], [\"SL1344_3598\"], [\"SL1344_3617\"], [\"SL1344_3644\"], [\"SL1344_3646\"], [\"SL1344_3655\"], [\"SL1344_3663\"], [\"SL1344_3704\"], [\"SL1344_3717\"], [\"SL1344_3738\"], [\"SL1344_3740\"], [\"SL1344_3743\"], [\"SL1344_3745\"], [\"SL1344_3746\"], [\"SL1344_3747\"], [\"SL1344_3748\"], [\"SL1344_3749\"], [\"SL1344_3750\"], [\"SL1344_3751\"], [\"SL1344_3758\"], [\"SL1344_3759\"], [\"SL1344_3767\"], [\"SL1344_3800\"], [\"SL1344_3896\"], [\"SL1344_3934\"], [\"SL1344_3958\"], [\"SL1344_3960\"], [\"SL1344_3961\"], [\"SL1344_3987\"], [\"SL1344_3993\"], [\"SL1344_4000\"], [\"SL1344_4001\"], [\"SL1344_4014\"], [\"SL1344_4015\"], [\"SL1344_4017\"], [\"SL1344_4047\"], [\"SL1344_4051\"], [\"SL1344_4052\"], [\"SL1344_4053\"], [\"SL1344_4054\"], [\"SL1344_4131\"], [\"SL1344_4132\"], [\"SL1344_4135\"], [\"SL1344_4139\"], [\"SL1344_4146\"], [\"SL1344_4148\"], [\"SL1344_4149\"], [\"SL1344_4151\"], [\"SL1344_4152\"], [\"SL1344_4153\"], [\"SL1344_4155\"], [\"SL1344_4239\"], [\"SL1344_4247\"], [\"SL1344_4248\"], [\"SL1344_4252\"], [\"SL1344_4345\"], [\"SL1344_4346\"], [\"SL1344_4355\"], [\"SL1344_4364\"], [\"SL1344_4373\"], [\"SL1344_4397\"], [\"SL1344_4418\"], [\"SL1344_4420\"], [\"SL1344_4422\"], [\"SL1344_4424\"], [\"SL1344_4432\"], [\"SL1344_4433\"], [\"SL1344_4434\"], [\"SL1344_4435\"], [\"SL1344_4450\"], [\"SL1344_4453\"], [\"SL1344_4465\"], [\"SL1344_4467\"], [\"SL1344_4468\"], [\"SL1344_4469\"], [\"SL1344_4471\"], [\"SL1344_4482\"], [\"SL1344_4523\"], [\"SL1344_4523A\"], [\"SL1344_RS23675\"], [\"SL1344_RS23750\"], [\"SL1344_RS23770\"], [\"SL1344_RS23780\"], [\"SL1344_RS23805\"], [\"SL1344_RS23815\"], [\"SL1344_RS23890\"], [\"SL1344_RS23930\"], [\"SL1344_RS23930\"], [\"SL1344_RS23960\"], [\"SL1344_RS23990\"], [\"SL1344_RS24020\"], [\"SL1344_RS24075\"], [\"SL1344_RS24125\"], [\"SL1344_RS24150\"], [\"SL1344_RS24225\"], [\"SL1344_RS24230\"], [\"SL1344_RS24235\"], [\"SL1344_RS24240\"], [\"SL1344_RS24245\"], [\"SL1344_RS24250\"], [\"SL1344_RS24255\"], [\"SL1344_RS24350\"], [\"SL1344_RS24365\"], [\"SL1344_RS24370\"], [\"SL1344_RS24385\"], [\"SL1344_RS24445\"], [\"SL1344_RS24470\"], [\"SL1344_RS24475\"], [\"SL1344_RS24485\"], [\"SL1344_RS24550\"], [\"SL1344_RS24575\"], [\"SL1344_RS24580\"], [\"SL1344_RS24605\"], [\"SL1344_RS24610\"], [\"SL1344_RS24615\"], [\"SL1344_RS24650\"], [\"SL1344_RS24665\"], [\"SL1344_RS24670\"], [\"SL1344_RS24675\"], [\"SL1344_RS24695\"], [\"SL1344_RS24700\"], [\"SL1344_RS24725\"], [\"SL1344_RS24730\"], [\"SL1344_RS26380\"], [\"SL1344_RS26430\"], [\"SL1344_RS26440\"], [\"SL1344_RS26895\"], [\"SL1344_RS27455\"], [\"SL1344_RS27460\"], [\"SL1344_RS27480\"], [\"STM3025.1N\"], [\"STM3026\"], [\"TAAATCAATTAATATCG\"], [\"TAACCCCCCCGCCGGAG\"], [\"TAACCCCCGACTATATG\"], [\"TAACGAGACGCTAAGGG\"], [\"TAACGGTAAGGGGGCGT\"], [\"TAACTCCCGCGAGTCGA\"], [\"TAAGTCTTTAGGGTCCG\"], [\"TAAGTGACCACGGATAG\"], [\"TAATATTAGATGCCATA\"], [\"TAATGCTACAATTATGT\"], [\"TACAACACACGATACCA\"], [\"TACAGGTTCCTTGGAAT\"], [\"TACCAGCACTAACCCAT\"], [\"TACCCCACCAAGTTACT\"], [\"TACCCCACCAAGTTACT\"], [\"TACCGACTGGAACCGAA\"], [\"TACGTCGTACTGTTTCC\"], [\"TACTGAAGTGACGTGTG\"], [\"TAGAAAGAAGTGATCCA\"], [\"TAGCTATGCCTCCCGTA\"], [\"TATACATCAGAACACAC\"], [\"TATACCATAAGTTAACG\"], [\"TATCAGATGGGCTTTCC\"], [\"TATCCCACGTGGATCAA\"], [\"TATCCCTTACGCCCATA\"], [\"TATGAAGCGGACTAGGT\"], [\"TATTACGCACAGCGGGG\"], [\"TCAGATTGTCCAAAGCG\"], [\"TCAGTAGGTAGTGACAA\"], [\"TCATGGTAACGCGGGGC\"], [\"TCCCATTATTCCCGTAT\"], [\"TCCCGGCCGAATATCAA\"], [\"TCCGCTGATTCAGATTG\"], [\"TCCGTCGCATAGGTACG\"], [\"TCGACGCGGGGCAACTT\"], [\"TCGGCCCCGATACACAG\"], [\"TCTATAACCGCAGCGCC\"], [\"TCTATAACCGCAGCGCC\"], [\"TCTATGCATTATGGTAA\"], [\"TCTCCTCGGTAAGACCT\"], [\"TCTCTCCGCACTTTTAT\"], [\"TCTCTCCGCACTTTTAT\"], [\"TGACAGTAGTCGTGACA\"], [\"TGACATCACCGGCCCCG\"], [\"TGATGGACCGACGTAGG\"], [\"TGCCGATATGCGTACAC\"], [\"TGCTAGGTAGCCTCATA\"], [\"TGCTCCTGACCACCACC\"], [\"TGGACAAACACCCATAT\"], [\"TGGCAAGCGTGTTTGGA\"], [\"TGGTGCTGCGCTGGTGC\"], [\"TGTGATTGGTATAATGT\"], [\"TGTTAAAAGGCTTTACG\"], [\"TTATGTCCCGGATACCA\"], [\"TTCAGGCGCGCGCTTTG\"], [\"TTGCAGGAGCTGAATAT\"], [\"TTGTGACGCGAACATCA\"], [\"TTGTTTCATAGCCAGGG\"], [\"TTTCTACCGCGAGAGGG\"], [\"TTTGCGTGGTCTCAACG\"], [\"aadA\"], [\"abrB\"], [\"acrE\"], [\"actP\"], [\"adiY\"], [\"aefA\"], [\"agaR\"], [\"aldB\"], [\"allC\"], [\"allD\"], [\"allP\"], [\"ampH\"], [\"aph(3'')-Ib\"], [\"appB\"], [\"araD\"], [\"argDb\"], [\"argH\"], [\"aroE\"], [\"aroM\"], [\"aroQ\"], [\"assT\"], [\"avrA\"], [\"b2145\"], [\"bcfA\"], [\"bcfB\"], [\"bcfE\"], [\"bisC\"], [\"blc\"], [\"btuF\"], [\"cadB\"], [\"cadC\"], [\"ccmF2\"], [\"celB\"], [\"celD\"], [\"celF\"], [\"chaA\"], [\"citA\"], [\"citA2\"], [\"clcB\"], [\"cls\"], [\"comD\"], [\"comM\"], [\"comP\"], [\"cpaF\"], [\"cpsB2\"], [\"csgA\"], [\"csgB\"], [\"csgF\"], [\"csgG\"], [\"csiD\"], [\"cyoA\"], [\"cysA\"], [\"cysJ\"], [\"cysQ\"], [\"dbh\"], [\"dcoC\"], [\"dcuB\"], [\"dgoR\"], [\"dgt\"], [\"dhaB\"], [\"dmsA1\"], [\"dpaL\"], [\"dppA\"], [\"dppD\"], [\"ego\"], [\"envE\"], [\"envR\"], [\"eutJ\"], [\"excA\"], [\"fadE\"], [\"fbaB\"], [\"fdrA\"], [\"feoB\"], [\"fepE\"], [\"fhuA\"], [\"fhuE\"], [\"fidL\"], [\"fimA\"], [\"fimC\"], [\"fimH\"], [\"fimW\"], [\"fimY\"], [\"fimZ\"], [\"flhAb\"], [\"fliI\"], [\"fliR\"], [\"fljB\"], [\"frdA\"], [\"frdC\"], [\"fucP\"], [\"fumB\"], [\"gabP\"], [\"galF\"], [\"garD\"], [\"garRa\"], [\"gatD\"], [\"gatY\"], [\"glgX\"], [\"glpK\"], [\"glpT\"], [\"gltB\"], [\"gltI\"], [\"gltK\"], [\"gltP\"], [\"gltS\"], [\"gntK\"], [\"gogB\"], [\"gsp\"], [\"gtrAb\"], [\"gtrBa\"], [\"gtrBa\"], [\"gtrBb\"], [\"hemF\"], [\"hemY\"], [\"hflC\"], [\"hilA\"], [\"hilC\"], [\"hin\"], [\"hisA\"], [\"hmpA\"], [\"hpaD\"], [\"hscC\"], [\"hsdM\"], [\"hsdR\"], [\"htrA\"], [\"hyaA2\"], [\"hybA\"], [\"hycF\"], [\"hypA\"], [\"iacP\"], [\"iclR\"], [\"idnD\"], [\"idnK\"], [\"ilvG\"], [\"ilvI\"], [\"invA\"], [\"invB\"], [\"invE\"], [\"invG\"], [\"invJ\"], [\"iolC\"], [\"iolE\"], [\"iolG1\"], [\"iolG2\"], [\"iolH\"], [\"iolI2\"], [\"iolR\"], [\"iolT1\"], [\"iolT2\"], [\"iraD\"], [\"iroN\"], [\"katE\"], [\"katG\"], [\"kdpE\"], [\"kefB\"], [\"leuA\"], [\"leuO\"], [\"livH\"], [\"lpfA\"], [\"lpfB\"], [\"lpfC\"], [\"lpfD\"], [\"lpxP\"], [\"lysC\"], [\"malE\"], [\"malF\"], [\"malM\"], [\"malP\"], [\"manA\"], [\"marT\"], [\"melA\"], [\"menF\"], [\"metB\"], [\"metC\"], [\"mglA\"], [\"mglC\"], [\"mgtB\"], [\"mgtC\"], [\"miaE\"], [\"mig-14\"], [\"misL\"], [\"mltB\"], [\"mltC\"], [\"mobB\"], [\"msrA\"], [\"mutY\"], [\"nadB\"], [\"nanA\"], [\"narK\"], [\"narL\"], [\"nfnB\"], [\"nlpD\"], [\"norW\"], [\"nrdD\"], [\"nrdF\"], [\"nrfB\"], [\"oafA\"], [\"ompL\"], [\"ompN\"], [\"ompR\"], [\"oppA\"], [\"orf245\"], [\"orf32\"], [\"orf408\"], [\"orf48\"], [\"pagC\"], [\"pagN\"], [\"pagO\"], [\"panC\"], [\"pefA\"], [\"pefB\"], [\"pefC\"], [\"pepE\"], [\"pepQ\"], [\"pheP\"], [\"phoN\"], [\"pilL\"], [\"pilM\"], [\"pilP\"], [\"pilV\"], [\"pipA\"], [\"pipB\"], [\"pipB2\"], [\"pipC\"], [\"pipD\"], [\"pocR\"], [\"ppc\"], [\"pphA\"], [\"pphB\"], [\"ppk\"], [\"pqaA\"], [\"ptsA\"], [\"purD\"], [\"purH\"], [\"rarD\"], [\"recEa\"], [\"res\"], [\"rfaI\"], [\"rfaJ\"], [\"rfaL\"], [\"rfaZ\"], [\"rfbB\"], [\"rfbC\"], [\"rfbD\"], [\"rfbG\"], [\"rfbH\"], [\"rfbI\"], [\"rfbK\"], [\"rfbN\"], [\"rfe\"], [\"rhaR\"], [\"rhaS\"], [\"rhlB\"], [\"rhuM\"], [\"rihC\"], [\"rimJ\"], [\"rluA\"], [\"rluC\"], [\"rmf\"], [\"rstA\"], [\"rtsA\"], [\"sbcC\"], [\"sciJ\"], [\"sciK\"], [\"sciR\"], [\"sciS\"], [\"selB\"], [\"sfbB\"], [\"sgaT\"], [\"shdA\"], [\"sicA\"], [\"sifB\"], [\"siiA\"], [\"siiB\"], [\"siiC\"], [\"siiD\"], [\"siiE\"], [\"siiF\"], [\"sinH\"], [\"sinR\"], [\"sipA\"], [\"sipB\"], [\"sipC\"], [\"sipD\"], [\"slrP\"], [\"slsA\"], [\"sopB\"], [\"sopD\"], [\"sopD2\"], [\"sopE\"], [\"spaO\"], [\"spaP\"], [\"spaR\"], [\"spaS\"], [\"speA\"], [\"speC\"], [\"sprB\"], [\"spvB\"], [\"spvC\"], [\"spvD\"], [\"spvR\"], [\"srfC\"], [\"srlA\"], [\"ssaD\"], [\"ssaI\"], [\"ssaJ\"], [\"ssaL\"], [\"ssaO\"], [\"ssaT\"], [\"ssaU\"], [\"ssaV\"], [\"sscB\"], [\"sseBa\"], [\"sseC\"], [\"sseF\"], [\"sseI\"], [\"sseK1\"], [\"sseK3\"], [\"sseL\"], [\"sspB\"], [\"ssrA\"], [\"stbA\"], [\"stbB\"], [\"stbD\"], [\"stbE\"], [\"stcA\"], [\"stcC\"], [\"stcD\"], [\"stdA\"], [\"stdB\"], [\"steB\"], [\"steC\"], [\"stfC\"], [\"sthA\"], [\"sthB\"], [\"stiC\"], [\"stjA\"], [\"stjB\"], [\"stjC\"], [\"sugR\"], [\"tal\"], [\"tdcA\"], [\"tdcB\"], [\"tdcC\"], [\"tdcD\"], [\"thiF\"], [\"thiP\"], [\"thrB\"], [\"tktB\"], [\"tnp\"], [\"tnpA\"], [\"torD\"], [\"torD\"], [\"traA\"], [\"traF\"], [\"traG\"], [\"traI\"], [\"traI\"], [\"traJ\"], [\"traL\"], [\"traM\"], [\"traO\"], [\"traP\"], [\"traP\"], [\"traR\"], [\"traU\"], [\"traV\"], [\"traX\"], [\"traY\"], [\"trbA\"], [\"treB\"], [\"treF\"], [\"tsr\"], [\"ttdA\"], [\"ttdB\"], [\"ttrB\"], [\"udg\"], [\"ugpQ\"], [\"uhpB\"], [\"uhpC\"], [\"uspB\"], [\"uxaC\"], [\"vapB\"], [\"virK\"], [\"wcaA\"], [\"wcaC\"], [\"wcaD\"], [\"wcaF\"], [\"wza\"], [\"xylA\"], [\"yadI\"], [\"yafP\"], [\"yaiU\"], [\"yaiV\"], [\"ybbK\"], [\"ybbP\"], [\"ybdN\"], [\"ybdO\"], [\"ybeQ\"], [\"ybeS\"], [\"ybeV\"], [\"ybfM\"], [\"ybgH\"], [\"ybiI\"], [\"ybjX\"], [\"ycbK\"], [\"yccD\"], [\"yccW\"], [\"ycdW\"], [\"yceJ\"], [\"yciE\"], [\"ycjE\"], [\"ydcK\"], [\"yddG\"], [\"yddX\"], [\"ydeE\"], [\"ydeW\"], [\"ydeY\"], [\"ydeZ\"], [\"ydgA\"], [\"ydgF\"], [\"ydiD\"], [\"ydiF\"], [\"ydiM\"], [\"ydiN\"], [\"ydiP\"], [\"ydiS\"], [\"ydiV\"], [\"yeaH\"], [\"yeaJ\"], [\"yeaS\"], [\"yebG\"], [\"yebU\"], [\"yecA\"], [\"yeeF\"], [\"yeeN\"], [\"yeeX\"], [\"yegH\"], [\"yegQ\"], [\"yehE\"], [\"yejF\"], [\"yejH\"], [\"yfcG\"], [\"yfhA\"], [\"yfhD\"], [\"yfiQ\"], [\"yfiR\"], [\"ygdE\"], [\"ygeA\"], [\"ygiX\"], [\"yhaJ\"], [\"yhcK\"], [\"yhcM\"], [\"yhcP\"], [\"yheR\"], [\"yhfL\"], [\"yhgE\"], [\"yhiH\"], [\"yhiP\"], [\"yhiR\"], [\"yhjA\"], [\"yhjB\"], [\"yhjE\"], [\"yhjS\"], [\"yhjV\"], [\"yiaB\"], [\"yiaH\"], [\"yiaN\"], [\"yiaO\"], [\"yicH\"], [\"yidE\"], [\"yieG\"], [\"yieN\"], [\"yieO\"], [\"yigF\"], [\"yigN\"], [\"yihG\"], [\"yihO\"], [\"yihR\"], [\"yihT\"], [\"yihW\"], [\"yiiG\"], [\"yijD\"], [\"yijF\"], [\"yjbC\"], [\"yjbH\"], [\"yjcC\"], [\"yjeI\"], [\"yjeJ\"], [\"yjeK\"], [\"yjeM\"], [\"yjeP\"], [\"yjeS\"], [\"yjfJ\"], [\"yjfM\"], [\"yjfY\"], [\"yjgM\"], [\"yjgN\"], [\"yjhP\"], [\"yjiH\"], [\"yjiN\"], [\"yjjQ\"], [\"yjjW\"], [\"ylbA\"], [\"yncC\"], [\"yncD\"], [\"yneA\"], [\"yneB\"], [\"yoaE\"], [\"yohI\"], [\"yojN\"], [\"ypfG\"], [\"ypfI\"], [\"yqjK\"], [\"yraO\"], [\"yraO\"], [\"yrbF\"], [\"yrbG\"], [\"ysaA\"], [\"ytfF\"], [\"ytfG\"], [\"ytfJ\"], [\"ytfM\"]], \"hovertemplate\": \"x=%{x}<br>y=%{y}<br>index=%{customdata[0]}<br>color=%{marker.color}<extra></extra>\", \"legendgroup\": \"\", \"marker\": {\"color\": [0.013835573651776808, 0.13144835867567767, 3.1256076753632387, 0.13144835867567767, 0.2279614589336546, 2.2844956499693168, 0.1949833276258772, 2.428116020565252, 2.2844956499693168, 2.2844956499693168, 1.3357410877816405, 9.004895928523096, 3.8170471901590473, 1.3357410877816405, 0.2279614589336546, 0.3318314023493974, 5.192290148053895, 1.2259609460873095, 1.2259609460873095, 2.0094903798724815, 0.2279614589336546, 0.9194356943079616, 0.9194356943079616, 0.013835573651776808, 1.172508713598796, 1.017846970825221, 4.879701235362897, 5.192290148053895, 0.2279614589336546, 0.013835573651776808, 0.2279614589336546, 1.566928213083608, 0.4821156700730621, 3.726896397730706, 7.529466773687504, 0.9194356943079616, 1.8780535172091852, 1.8138395478983476, 2.7277133603107755, 1.4493853640501055, 0.07108802435822836, 3.3769459312103773, 1.6271719300524807, 0.5218390570124488, 4.576912853397589, 0.2279614589336546, 0.1949833276258772, 1.6884024920272518, 1.392078018807697, 2.7277133603107755, 0.10087547384020776, 2.3557934268915504, 0.2279614589336546, 0.2963779453174216, 2.9633118239794545, 3.043935052393491, 2.428116020565252, 1.0684565643744994, 0.3318314023493974, 0.7336969743673736, 0.5218390570124488, 0.6039151515393891, 0.9681750565674255, 0.4432600046202203, 1.4493853640501055, 0.7787598344578839, 0.7787598344578839, 1.120008847046989, 0.8716236369014173, 1.017846970825221, 0.2617571219001696, 6.0740796229836675, 2.1449622273761926, 0.7336969743673736, 2.0094903798724815, 6.0740796229836675, 2.1449622273761926, 2.8052035508489794, 0.07108802435822836, 3.2083321221516616, 0.2617571219001696, 0.3318314023493974, 2.7277133603107755, 0.6039151515393891, 2.3557934268915504, 2.0094903798724815, 0.8247335149584567, 2.076720239393568, 2.0094903798724815, 1.8138395478983476, 2.428116020565252, 0.8716236369014173, 0.8716236369014173, 0.16281494219815387, 3.043935052393491, 0.2963779453174216, 3.549794840638666, 0.2963779453174216, 0.3318314023493974, 0.2279614589336546, 8.31740199531262, 1.2259609460873095, 3.8170471901590473, 0.5218390570124488, 3.46283988308357, 0.7336969743673736, 1.8138395478983476, 9.004895928523096, 0.3681248120275301, 0.16281494219815387, 2.428116020565252, 4.576912853397589, 2.651262269683513, 2.651262269683513, 6.661047718125514, 5.51472079162294, 6.1892595262580965, 0.9681750565674255, 3.8170471901590473, 2.428116020565252, 1.5076673771841493, 0.7336969743673736, 6.0740796229836675, 1.4493853640501055, 5.847031820304038, 0.4821156700730621, 1.2803702162356825, 0.4432600046202203, 1.7506237707481842, 0.07108802435822836, 6.305545088155687, 1.566928213083608, 1.8138395478983476, 0.4821156700730621, 2.076720239393568, 1.8138395478983476, 4.676756020089808, 0.6895391842781924, 1.172508713598796, 0.013835573651776808, 0.2279614589336546, 0.4432600046202203, 4.0005589388368605, 1.172508713598796, 0.1949833276258772, 0.7336969743673736, 1.8780535172091852, 0.3681248120275301, 0.4821156700730621, 1.6884024920272518, 0.16281494219815387, 1.7506237707481842, 0.13144835867567767, 2.076720239393568, 0.2963779453174216, 1.5076673771841493, 0.2617571219001696, 2.9633118239794545, 1.0684565643744994, 1.6884024920272518, 1.392078018807697, 2.2844956499693168, 2.2844956499693168, 0.4432600046202203, 10.313477007840008, 2.428116020565252, 0.8247335149584567, 4.982806502655646, 0.7336969743673736, 7.529466773687504, 3.9082673764542157, 0.4432600046202203, 2.0094903798724815, 1.017846970825221, 1.2259609460873095, 2.076720239393568, 2.076720239393568, 2.5014664220201492, 3.2083321221516616, 0.8247335149584567, 1.3357410877816405, 1.3357410877816405, 0.5218390570124488, 0.2963779453174216, 2.3557934268915504, 0.2617571219001696, 5.51472079162294, 0.13144835867567767, 0.2617571219001696, 0.6039151515393891, 3.726896397730706, 0.6462805820596441, 3.8170471901590473, 0.7336969743673736, 3.9082673764542157, 0.13144835867567767, 1.120008847046989, 5.960004141767738, 0.8716236369014173, 0.4052653408709746, 0.2617571219001696, 2.9633118239794545, 3.549794840638666, 0.3681248120275301, 1.566928213083608, 0.2617571219001696, 2.651262269683513, 1.566928213083608, 1.2803702162356825, 1.0684565643744994, 1.0684565643744994, 1.3357410877816405, 2.7277133603107755, 3.1256076753632387, 0.16281494219815387, 7.150601209920905, 0.013835573651776808, 1.120008847046989, 6.661047718125514, 3.2083321221516616, 2.883735504564162, 0.5218390570124488, 0.16281494219815387, 0.9194356943079616, 0.4432600046202203, 0.10087547384020776, 3.9082673764542157, 0.2279614589336546, 0.2279614589336546, 1.566928213083608, 1.566928213083608, 5.192290148053895, 4.576912853397589, 2.9633118239794545, 0.6462805820596441, 1.7506237707481842, 1.566928213083608, 4.0005589388368605, 0.6462805820596441, 3.2083321221516616, 4.676756020089808, 1.7506237707481842, 2.5758475534038165, 0.1949833276258772, 1.2259609460873095, 0.5218390570124488, 1.6884024920272518, 2.0094903798724815, 0.3318314023493974, 0.6462805820596441, 2.2844956499693168, 3.549794840638666, 2.1449622273761926, 1.8780535172091852, 0.9194356943079616, 0.2617571219001696, 2.7277133603107755, 1.172508713598796, 0.16281494219815387, 0.5624367402162367, 0.07108802435822836, 2.2844956499693168, 0.2963779453174216, 0.10087547384020776, 0.07108802435822836, 0.13144835867567767, 0.4052653408709746, 4.879701235362897, 1.6884024920272518, 0.2963779453174216, 1.6884024920272518, 5.735161369902173, 2.883735504564162, 1.7506237707481842, 0.4052653408709746, 1.8138395478983476, 1.2259609460873095, 0.6039151515393891, 1.6271719300524807, 1.8780535172091852, 7.529466773687504, 2.1449622273761926, 4.380477089326683, 0.4821156700730621, 2.076720239393568, 1.9432692865317178, 2.076720239393568, 2.0094903798724815, 2.0094903798724815, 2.3557934268915504, 1.566928213083608, 0.04207758609830864, 5.847031820304038, 0.13144835867567767, 1.120008847046989, 2.5014664220201492, 1.2259609460873095, 3.9082673764542157, 3.043935052393491, 1.392078018807697, 0.04207758609830864, 4.576912853397589, 3.726896397730706, 2.5758475534038165, 5.406147948412049, 1.2259609460873095, 5.960004141767738, 2.076720239393568, 1.172508713598796, 2.651262269683513, 5.960004141767738, 0.2963779453174216, 8.726521695790296, 3.46283988308357, 2.1449622273761926, 4.380477089326683, 0.3681248120275301, 2.5758475534038165, 1.017846970825221, 2.3557934268915504, 0.13144835867567767, 2.883735504564162, 0.5624367402162367, 2.0094903798724815, 1.2803702162356825, 1.8780535172091852, 4.188363903676959, 4.188363903676959, 3.8170471901590473, 1.2259609460873095, 2.8052035508489794, 2.9633118239794545, 2.8052035508489794, 2.651262269683513, 2.0094903798724815, 2.7277133603107755, 3.292110767140747, 0.8716236369014173, 1.9432692865317178, 3.1256076753632387, 2.7277133603107755, 2.651262269683513, 2.8052035508489794, 5.847031820304038, 7.026543448938577, 2.3557934268915504, 3.2083321221516616, 3.1256076753632387, 2.2142196281473607, 4.0005589388368605, 1.8780535172091852, 3.726896397730706, 2.5014664220201492, 0.6895391842781924, 2.2142196281473607, 1.8780535172091852, 1.120008847046989, 6.0740796229836675, 2.076720239393568, 5.406147948412049, 3.46283988308357, 3.2083321221516616, 9.14577382832195, 1.6884024920272518, 4.093923815894151, 1.120008847046989, 2.8052035508489794, 2.1449622273761926, 2.7277133603107755, 2.883735504564162, 2.8052035508489794, 2.3557934268915504, 5.847031820304038, 1.2803702162356825, 4.4781537760960175, 4.576912853397589, 1.6884024920272518, 0.7787598344578839, 1.9432692865317178, 0.6039151515393891, 12.201212421174537, 0.7787598344578839, 0.9194356943079616, 5.62439147482751, 2.428116020565252, 7.275773666991785, 0.4432600046202203, 0.013835573651776808, 3.2083321221516616, 2.883735504564162, 1.2803702162356825, 1.5076673771841493, 4.283881056768725, 0.4821156700730621, 2.3557934268915504, 4.576912853397589, 1.392078018807697, 0.2617571219001696, 0.6462805820596441, 3.3769459312103773, 0.4052653408709746, 0.4821156700730621, 2.7277133603107755, 1.120008847046989, 2.651262269683513, 1.392078018807697, 3.2083321221516616, 3.637812972189011, 1.172508713598796, 0.2279614589336546, 1.3357410877816405, 0.8247335149584567, 1.2259609460873095, 1.2259609460873095, 2.7277133603107755, 0.2617571219001696, 1.120008847046989, 4.188363903676959, 2.3557934268915504, 1.017846970825221, 4.380477089326683, 3.043935052393491, 0.8247335149584567, 0.13144835867567767, 1.0684565643744994, 0.6462805820596441, 1.566928213083608, 0.013835573651776808, 0.16281494219815387, 0.2617571219001696, 0.07108802435822836, 3.9082673764542157, 0.5218390570124488, 0.13144835867567767, 2.1449622273761926, 0.4821156700730621, 5.298671544183181, 2.651262269683513, 1.9432692865317178, 1.3357410877816405, 0.04207758609830864, 1.2259609460873095, 0.3318314023493974, 0.2617571219001696, 0.1949833276258772, 1.6271719300524807, 0.04207758609830864, 0.04207758609830864, 3.043935052393491, 1.8138395478983476, 0.5218390570124488, 0.9681750565674255, 2.2844956499693168, 1.8780535172091852, 1.6884024920272518, 2.428116020565252, 1.017846970825221, 0.13144835867567767, 0.5218390570124488, 0.5218390570124488, 0.5624367402162367, 1.172508713598796, 0.5624367402162367, 1.120008847046989, 0.1949833276258772, 0.8247335149584567, 1.017846970825221, 1.2259609460873095, 0.3681248120275301, 1.017846970825221, 1.7506237707481842, 0.4432600046202203, 1.566928213083608, 0.8247335149584567, 0.6462805820596441, 0.6039151515393891, 0.013835573651776808, 2.651262269683513, 0.8247335149584567, 0.6039151515393891, 0.3681248120275301, 0.16281494219815387, 0.13144835867567767, 1.3357410877816405, 0.6039151515393891, 0.013835573651776808, 0.3318314023493974, 0.9681750565674255, 0.3681248120275301, 0.9194356943079616, 1.017846970825221, 1.2259609460873095, 0.5218390570124488, 0.7787598344578839, 1.017846970825221, 1.2259609460873095, 4.0005589388368605, 1.566928213083608, 1.017846970825221, 0.7336969743673736, 0.013835573651776808, 0.8716236369014173, 0.9681750565674255, 0.07108802435822836, 1.3357410877816405, 0.5218390570124488, 1.6271719300524807, 0.013835573651776808, 0.13144835867567767, 0.4052653408709746, 1.6271719300524807, 0.4821156700730621, 0.04207758609830864, 0.5218390570124488, 5.406147948412049, 1.0684565643744994, 2.5014664220201492, 0.4432600046202203, 0.04207758609830864, 0.6895391842781924, 2.2844956499693168, 0.6039151515393891, 1.172508713598796, 0.3681248120275301, 2.9633118239794545, 1.5076673771841493, 2.9633118239794545, 1.0684565643744994, 2.428116020565252, 2.7277133603107755, 1.6884024920272518, 0.7336969743673736, 0.9681750565674255, 0.4432600046202203, 3.726896397730706, 0.3681248120275301, 3.46283988308357, 5.087002298515287, 5.960004141767738, 0.2617571219001696, 1.0684565643744994, 0.013835573651776808, 2.5014664220201492, 3.2083321221516616, 3.3769459312103773, 0.16281494219815387, 0.7787598344578839, 0.10087547384020776, 0.1949833276258772, 0.2279614589336546, 0.2279614589336546, 3.726896397730706, 4.093923815894151, 2.8052035508489794, 2.8052035508489794, 0.6895391842781924, 0.7787598344578839, 4.380477089326683, 3.637812972189011, 5.62439147482751, 1.172508713598796, 4.777684938505296, 6.305545088155687, 2.5014664220201492, 1.8780535172091852, 1.566928213083608, 0.4052653408709746, 0.4052653408709746, 2.2142196281473607, 3.3769459312103773, 1.8138395478983476, 2.8052035508489794, 3.46283988308357, 3.8170471901590473, 3.2083321221516616, 5.087002298515287, 2.1449622273761926, 0.7787598344578839, 0.1949833276258772, 0.9194356943079616, 1.6271719300524807, 0.1949833276258772, 8.865145485192118, 0.8247335149584567, 2.2142196281473607, 1.9432692865317178, 2.2142196281473607, 2.5014664220201492, 5.192290148053895, 0.16281494219815387, 2.076720239393568, 0.10087547384020776, 0.13144835867567767, 0.3318314023493974, 0.6039151515393891, 1.2803702162356825, 0.13144835867567767, 0.5218390570124488, 2.8052035508489794, 1.5076673771841493, 5.847031820304038, 0.04207758609830864, 1.566928213083608, 0.013835573651776808, 0.5218390570124488, 4.283881056768725, 2.3557934268915504, 0.4052653408709746, 6.305545088155687, 6.305545088155687, 1.2259609460873095, 3.8170471901590473, 2.076720239393568, 1.9432692865317178, 4.093923815894151, 12.531786797880166, 2.076720239393568, 0.6895391842781924, 0.9681750565674255, 1.2259609460873095, 1.2259609460873095, 1.6884024920272518, 0.3318314023493974, 1.2259609460873095, 2.2142196281473607, 0.6462805820596441, 0.2279614589336546, 8.58902374255799, 1.2803702162356825, 4.676756020089808, 12.201212421174537, 14.253284160509967, 14.253284160509967, 0.10087547384020776, 2.3557934268915504, 4.4781537760960175, 4.4781537760960175, 0.9681750565674255, 4.777684938505296, 3.549794840638666, 2.5014664220201492, 1.3357410877816405, 0.10087547384020776, 5.192290148053895, 3.549794840638666, 1.3357410877816405, 2.3557934268915504, 0.9194356943079616, 0.3681248120275301, 2.7277133603107755, 3.043935052393491, 0.04207758609830864, 0.6462805820596441, 5.406147948412049, 0.2963779453174216, 4.093923815894151, 0.16281494219815387, 0.5218390570124488, 0.3681248120275301, 0.2617571219001696, 3.3769459312103773, 0.1949833276258772, 1.392078018807697, 0.8716236369014173, 6.0740796229836675, 1.0684565643744994, 2.5014664220201492, 0.6895391842781924, 4.879701235362897, 1.017846970825221, 2.1449622273761926, 2.8052035508489794, 2.9633118239794545, 3.46283988308357, 3.043935052393491, 1.7506237707481842, 1.3357410877816405, 5.735161369902173, 0.6895391842781924, 0.7787598344578839, 4.380477089326683, 2.428116020565252, 1.8138395478983476, 0.3318314023493974, 5.735161369902173, 1.566928213083608, 7.026543448938577, 2.2844956499693168, 5.847031820304038, 1.7506237707481842, 1.3357410877816405, 0.4432600046202203, 0.013835573651776808, 2.7277133603107755, 0.3318314023493974, 0.9681750565674255, 2.1449622273761926, 0.1949833276258772, 4.879701235362897, 10.014760922805413, 0.8716236369014173, 4.283881056768725, 2.076720239393568, 4.380477089326683, 0.3681248120275301, 0.6039151515393891, 4.576912853397589, 1.017846970825221, 0.6462805820596441, 0.6039151515393891, 1.8138395478983476, 5.735161369902173, 1.0684565643744994, 0.6039151515393891, 3.726896397730706, 2.1449622273761926, 2.7277133603107755, 5.51472079162294, 0.10087547384020776, 1.172508713598796, 4.188363903676959, 1.9432692865317178, 2.0094903798724815, 1.0684565643744994, 0.7336969743673736, 2.428116020565252, 3.292110767140747, 3.9082673764542157, 2.2844956499693168, 0.07108802435822836, 1.2803702162356825, 2.5758475534038165, 0.013835573651776808, 0.7787598344578839, 1.392078018807697, 4.676756020089808, 0.8716236369014173, 2.2844956499693168, 2.7277133603107755, 0.2617571219001696, 0.2963779453174216, 0.2963779453174216, 8.865145485192118, 10.924523023434716, 0.1949833276258772, 3.043935052393491, 0.7787598344578839, 1.0684565643744994, 0.8716236369014173, 2.2142196281473607, 1.2803702162356825, 3.549794840638666, 0.10087547384020776, 8.45265079215853, 1.6884024920272518, 1.017846970825221, 0.7336969743673736, 2.1449622273761926, 1.7506237707481842, 0.4821156700730621, 2.5758475534038165, 1.3357410877816405, 0.1949833276258772, 0.8716236369014173, 1.2259609460873095, 1.2259609460873095, 0.4052653408709746, 1.8138395478983476, 2.2142196281473607, 1.9432692865317178, 0.2279614589336546, 6.541438009106248, 0.7336969743673736, 7.150601209920905, 3.637812972189011, 0.9194356943079616, 2.5758475534038165, 2.7277133603107755, 1.5076673771841493, 5.192290148053895, 3.726896397730706, 14.253284160509967, 4.777684938505296, 1.5076673771841493, 2.883735504564162, 0.2617571219001696, 0.7336969743673736, 0.2279614589336546, 3.9082673764542157, 1.6271719300524807, 0.13144835867567767, 0.4432600046202203, 1.0684565643744994, 1.2803702162356825, 3.1256076753632387, 0.7787598344578839, 0.2279614589336546, 4.188363903676959, 1.6271719300524807, 0.16281494219815387, 3.1256076753632387, 9.14577382832195, 1.017846970825221, 2.2142196281473607, 2.9633118239794545, 1.4493853640501055, 2.5014664220201492, 1.7506237707481842, 0.13144835867567767, 0.2617571219001696, 1.5076673771841493, 0.8716236369014173, 1.2803702162356825, 0.8247335149584567, 0.2963779453174216, 0.7336969743673736, 0.2963779453174216, 0.6895391842781924, 5.62439147482751, 2.2844956499693168, 0.16281494219815387, 1.2803702162356825, 2.7277133603107755, 13.206648594374055, 3.2083321221516616, 1.2259609460873095, 4.188363903676959, 0.07108802435822836, 5.298671544183181, 0.6895391842781924, 6.1892595262580965, 0.2279614589336546, 0.4432600046202203, 2.9633118239794545, 0.013835573651776808, 0.5624367402162367, 0.7787598344578839, 0.013835573651776808, 0.3681248120275301, 0.4052653408709746, 0.5218390570124488, 1.4493853640501055, 0.4821156700730621, 1.566928213083608, 2.0094903798724815, 1.6271719300524807, 0.6895391842781924, 2.5014664220201492, 7.787630778577726, 2.651262269683513, 1.0684565643744994, 6.661047718125514, 1.5076673771841493, 3.8170471901590473, 0.1949833276258772, 7.529466773687504, 3.3769459312103773, 3.9082673764542157, 2.2142196281473607, 0.8247335149584567, 3.46283988308357, 0.16281494219815387, 1.7506237707481842, 0.4052653408709746, 0.6895391842781924, 4.0005589388368605, 0.10087547384020776, 0.04207758609830864, 0.4052653408709746, 4.4781537760960175, 0.16281494219815387, 0.16281494219815387, 5.51472079162294, 5.298671544183181, 4.188363903676959, 3.46283988308357, 4.4781537760960175, 0.2279614589336546, 1.5076673771841493, 1.8780535172091852, 2.8052035508489794, 1.9432692865317178, 6.7817677868695165, 2.5758475534038165, 7.026543448938577, 5.406147948412049, 1.6271719300524807, 14.253284160509967, 14.253284160509967, 0.10087547384020776, 2.3557934268915504, 0.13144835867567767, 14.253284160509967, 14.253284160509967, 10.313477007840008, 1.4493853640501055, 4.188363903676959, 14.253284160509967, 13.72480986880309, 14.253284160509967, 14.253284160509967, 7.402061851270203, 7.402061851270203, 1.017846970825221, 1.8780535172091852, 0.2963779453174216, 0.7336969743673736, 1.8780535172091852, 0.13144835867567767, 0.10087547384020776, 1.4493853640501055, 1.5076673771841493, 4.982806502655646, 4.879701235362897, 5.192290148053895, 0.8716236369014173, 1.566928213083608, 1.8138395478983476, 0.3318314023493974, 0.3681248120275301, 0.2963779453174216, 2.2844956499693168, 0.13144835867567767, 1.2259609460873095, 3.292110767140747, 2.2844956499693168, 1.3357410877816405, 2.3557934268915504, 0.7336969743673736, 0.7336969743673736, 0.5218390570124488, 0.8247335149584567, 1.172508713598796, 1.017846970825221, 1.2803702162356825, 3.637812972189011, 0.8247335149584567, 0.2963779453174216, 3.726896397730706, 3.637812972189011, 0.6462805820596441, 0.6462805820596441, 1.4493853640501055, 5.087002298515287, 1.8780535172091852, 0.1949833276258772, 1.172508713598796, 0.2963779453174216, 1.4493853640501055, 2.7277133603107755, 1.2259609460873095, 0.1949833276258772, 0.13144835867567767, 1.172508713598796, 1.0684565643744994, 0.16281494219815387, 3.549794840638666, 2.2142196281473607, 2.9633118239794545, 2.2142196281473607, 0.5624367402162367, 1.017846970825221, 2.9633118239794545, 5.735161369902173, 4.777684938505296, 4.879701235362897, 3.2083321221516616, 2.651262269683513, 2.3557934268915504, 3.46283988308357, 3.292110767140747, 0.3681248120275301, 4.982806502655646, 0.3318314023493974, 1.6271719300524807, 4.4781537760960175, 0.9194356943079616, 0.3318314023493974, 0.7336969743673736, 0.8247335149584567, 0.8716236369014173, 2.9633118239794545, 0.1949833276258772, 0.2963779453174216, 1.6271719300524807, 4.879701235362897, 2.076720239393568, 2.0094903798724815, 1.5076673771841493, 0.2963779453174216, 0.013835573651776808, 2.5758475534038165, 0.5624367402162367, 0.07108802435822836, 0.6039151515393891, 1.392078018807697, 0.13144835867567767, 0.3318314023493974, 0.3681248120275301, 0.4432600046202203, 3.726896397730706, 2.5758475534038165, 1.2259609460873095, 2.3557934268915504, 0.2617571219001696, 2.7277133603107755, 1.0684565643744994, 1.0684565643744994, 2.9633118239794545, 1.2803702162356825, 0.2963779453174216, 0.6039151515393891, 0.6039151515393891, 5.406147948412049, 4.676756020089808, 2.3557934268915504, 3.549794840638666, 4.0005589388368605, 4.0005589388368605, 0.3318314023493974, 0.7787598344578839, 2.5758475534038165, 0.16281494219815387, 0.5624367402162367, 1.2259609460873095, 0.10087547384020776, 0.7336969743673736, 3.8170471901590473, 0.6895391842781924, 0.6895391842781924, 3.3769459312103773, 5.406147948412049, 1.120008847046989, 0.9681750565674255, 0.5218390570124488, 0.9194356943079616, 0.2617571219001696, 1.392078018807697, 0.2279614589336546, 4.576912853397589, 2.7277133603107755, 2.7277133603107755, 0.16281494219815387, 5.960004141767738, 0.2617571219001696, 0.3318314023493974, 0.2279614589336546, 1.6884024920272518, 0.8716236369014173, 0.8247335149584567, 2.428116020565252, 0.2279614589336546, 1.120008847046989, 2.076720239393568, 0.10087547384020776, 1.6271719300524807, 1.017846970825221, 0.2617571219001696, 6.0740796229836675, 5.847031820304038, 3.637812972189011, 4.777684938505296, 0.9194356943079616, 2.651262269683513, 0.5218390570124488, 3.9082673764542157, 5.847031820304038, 4.777684938505296, 3.46283988308357, 1.0684565643744994, 4.093923815894151, 6.422937520124816, 1.3357410877816405, 1.0684565643744994, 1.2803702162356825, 1.172508713598796, 2.5758475534038165, 2.076720239393568, 2.883735504564162, 0.7336969743673736, 3.1256076753632387, 2.9633118239794545, 8.183276486422917, 0.4821156700730621, 1.5076673771841493, 2.7277133603107755, 5.735161369902173, 2.883735504564162, 8.865145485192118, 2.076720239393568, 0.16281494219815387, 3.3769459312103773, 0.10087547384020776, 6.0740796229836675, 4.879701235362897, 1.6271719300524807, 6.541438009106248, 1.392078018807697, 2.8052035508489794, 3.1256076753632387, 1.120008847046989, 1.8138395478983476, 2.9633118239794545, 1.392078018807697, 4.982806502655646, 2.2142196281473607, 2.8052035508489794, 1.120008847046989, 1.7506237707481842, 0.3681248120275301, 1.2259609460873095, 1.6884024920272518, 0.6039151515393891, 0.4821156700730621, 1.7506237707481842, 0.8716236369014173, 1.017846970825221, 2.428116020565252, 0.4821156700730621, 0.7336969743673736, 2.076720239393568, 0.7787598344578839, 0.10087547384020776, 0.6895391842781924, 3.043935052393491, 0.8716236369014173, 0.9194356943079616, 0.10087547384020776, 0.8247335149584567, 0.2279614589336546, 2.0094903798724815, 1.0684565643744994, 0.2617571219001696, 1.2259609460873095, 0.2279614589336546, 11.080124556594077, 0.2617571219001696, 1.8780535172091852, 2.076720239393568, 1.5076673771841493, 1.4493853640501055, 0.6895391842781924, 0.4432600046202203, 2.428116020565252, 0.8247335149584567, 0.3681248120275301, 0.6039151515393891, 2.0094903798724815, 2.651262269683513, 0.4432600046202203, 4.283881056768725, 1.5076673771841493, 0.2617571219001696, 2.5758475534038165, 11.080124556594077, 1.017846970825221, 1.2803702162356825, 2.5014664220201492, 4.188363903676959, 1.566928213083608, 0.4432600046202203, 0.9194356943079616, 0.4821156700730621, 1.3357410877816405, 5.62439147482751, 0.7787598344578839, 0.2279614589336546, 4.676756020089808, 1.5076673771841493, 0.8716236369014173, 0.8716236369014173, 2.428116020565252, 0.10087547384020776, 0.8716236369014173, 1.6884024920272518, 1.6271719300524807, 2.2844956499693168, 10.014760922805413], \"coloraxis\": \"coloraxis\", \"symbol\": \"circle\"}, \"mode\": \"markers\", \"name\": \"\", \"showlegend\": false, \"type\": \"scattergl\", \"x\": [11.201003074645996, -14.130087852478027, -19.932647705078125, -1.1013777256011963, 0.9799005389213562, -25.944581985473633, 23.4085693359375, 5.662659168243408, -14.898340225219727, -33.228694915771484, -20.490753173828125, -53.09435272216797, -13.10631275177002, 30.485544204711914, 14.51084041595459, 6.570079803466797, -9.337798118591309, 4.342213153839111, 4.342213153839111, 21.12833023071289, 0.12153468281030655, -16.714887619018555, -16.714887619018555, -4.4691009521484375, 18.436609268188477, 15.083263397216797, -41.426570892333984, -24.855255126953125, 17.50182342529297, -21.977933883666992, 16.224639892578125, 2.202200412750244, 12.27377986907959, 19.044918060302734, -48.311100006103516, 8.068309783935547, 21.844751358032227, -30.377443313598633, -19.195737838745117, -28.96844482421875, 6.580914497375488, 26.34308433532715, 9.288459777832031, 18.672910690307617, 0.32695162296295166, -21.426048278808594, -15.543049812316895, 3.3511605262756348, 4.6909074783325195, 21.140573501586914, -10.387622833251953, -11.118730545043945, -19.49959945678711, -19.28277587890625, -15.906729698181152, -21.516054153442383, 4.604516983032227, 22.876096725463867, -21.61444091796875, 2.4752721786499023, -26.926137924194336, -0.860357940196991, -20.204538345336914, -5.820070266723633, 59.51053237915039, -19.4134464263916, -19.4134464263916, 10.609384536743164, 27.46821403503418, -15.8707857131958, -19.495359420776367, 15.847064971923828, 19.908531188964844, 24.14099884033203, -22.194765090942383, 25.221973419189453, 15.633612632751465, -10.95716667175293, -15.47498893737793, -27.434717178344727, 0.9002074003219604, -19.842538833618164, -12.850133895874023, -13.67432689666748, -8.302226066589355, 17.486568450927734, -3.7683329582214355, -3.469557046890259, -19.8797607421875, -9.344531059265137, -16.319568634033203, -17.907337188720703, -17.907337188720703, 16.821044921875, -37.79159927368164, -11.107745170593262, -11.973233222961426, -5.330016136169434, 12.116790771484375, -21.194259643554688, 15.72100830078125, -15.280893325805664, -13.20517349243164, 2.1099910736083984, 21.509441375732422, 2.554476261138916, -28.52507209777832, -54.84703063964844, -20.53348731994629, 20.673349380493164, 16.62824821472168, -13.11205768585205, -10.476655960083008, -19.95328712463379, 18.70900535583496, -34.20906448364258, -50.59563064575195, -5.523169040679932, -22.38041114807129, 18.864643096923828, 4.723994255065918, -17.960250854492188, -30.95981788635254, -19.223779678344727, -26.23377799987793, 16.236572265625, -20.33493423461914, -22.21398162841797, -24.012344360351562, 4.232926845550537, 20.724517822265625, -24.584157943725586, 21.844684600830078, 19.249845504760742, -10.927348136901855, -22.584436416625977, 20.2829647064209, 4.93361759185791, 19.9067440032959, -16.802001953125, -19.329620361328125, -5.957180500030518, -24.70798683166504, 31.353618621826172, -13.39608097076416, 5.890789985656738, -17.143505096435547, 26.29154396057129, 20.285945892333984, 3.932832956314087, -16.12635612487793, -19.674034118652344, 25.364463806152344, 18.085895538330078, 11.687479019165039, -15.380241394042969, -17.55611228942871, 12.378982543945312, 9.696582794189453, 7.92397928237915, 29.322633743286133, -1.3094279766082764, 3.1488804817199707, -22.003816604614258, -48.757110595703125, -6.024912357330322, -9.243841171264648, -2.4083251953125, 21.4735164642334, -43.16790771484375, -36.11754608154297, -22.271020889282227, 18.781190872192383, 27.915420532226562, 14.486993789672852, 12.858007431030273, 12.858007431030273, -17.662649154663086, 19.08641815185547, 24.219274520874023, 22.197721481323242, 10.341643333435059, -12.146060943603516, -10.67752742767334, -10.425904273986816, 3.1250836849212646, 4.76786470413208, -4.349769115447998, -18.259437561035156, -18.34547233581543, -23.17831802368164, 18.43376350402832, 3.824991464614868, -21.070951461791992, -38.18999481201172, -15.170928001403809, -29.317853927612305, -8.119756698608398, -17.772113800048828, 15.7351713180542, 2.981984853744507, 18.557754516601562, 22.55556297302246, 24.796398162841797, -12.263195991516113, -18.781261444091797, 24.009990692138672, 29.842025756835938, 9.220848083496094, -25.955684661865234, -25.955684661865234, -15.066080093383789, 11.791808128356934, -29.06557273864746, 9.329620361328125, -35.56215286254883, -15.399959564208984, -13.806124687194824, -32.791934967041016, 4.03005838394165, 16.15666389465332, 27.358610153198242, -18.12519073486328, 6.360586166381836, -12.422515869140625, -10.17284107208252, -29.904634475708008, 1.2260074615478516, 1.2260074615478516, 3.478408098220825, 3.478408098220825, -6.387530326843262, -29.276342391967773, -20.757978439331055, -17.962867736816406, 10.48562240600586, -12.497130393981934, -11.088024139404297, -31.035995483398438, -17.733482360839844, -41.75983428955078, -33.87498474121094, -21.17194366455078, -16.99699592590332, 20.374082565307617, -17.484113693237305, 12.032211303710938, -10.689105033874512, 6.538012981414795, 3.297909736633301, -14.245353698730469, -32.21017837524414, 12.193367004394531, -24.049341201782227, 22.961240768432617, -17.603965759277344, 19.295806884765625, -22.17612648010254, -20.567588806152344, 1.9357320070266724, 16.916690826416016, 0.7612521648406982, -14.759379386901855, -14.180442810058594, 12.431848526000977, 19.655656814575195, -2.8116743564605713, -32.2823371887207, -14.57619571685791, 23.999366760253906, -20.02608299255371, -30.916648864746094, -22.241268157958984, 3.446721076965332, -13.771202087402344, -20.187522888183594, -19.979581832885742, 11.707895278930664, -21.34857749938965, 17.79585838317871, -32.08369445800781, 5.074305057525635, -2.128833293914795, -8.166390419006348, -28.867387771606445, -4.1489362716674805, -0.3097703158855438, -15.119115829467773, -15.119115829467773, -24.368263244628906, 16.419797897338867, 20.31243324279785, 21.710569381713867, -14.811836242675781, -26.660566329956055, 49.732269287109375, -4.650487899780273, -31.858928680419922, 6.045279026031494, -1.2684073448181152, 29.560951232910156, -28.594451904296875, -30.87592887878418, -8.250288963317871, -35.359535217285156, -6.4683308601379395, 3.3154683113098145, -27.017528533935547, 23.838245391845703, 8.692394256591797, -37.2035026550293, -19.15804100036621, -43.415401458740234, 2.7483091354370117, -19.71047019958496, -24.306806564331055, 11.363192558288574, 24.741491317749023, -18.996374130249023, -13.820611953735352, -12.718656539916992, 8.56735897064209, 30.626556396484375, 22.767807006835938, 16.801504135131836, 4.51459264755249, 15.69802188873291, 15.69802188873291, -3.0802323818206787, 5.463207721710205, -9.44811725616455, -27.918928146362305, -7.386523723602295, -19.206077575683594, 32.543941497802734, -26.563386917114258, 1.743550181388855, 1.0542559623718262, 4.435221195220947, -26.31653594970703, -20.100374221801758, -19.335329055786133, -2.1169559955596924, -35.482872009277344, 17.147140502929688, -4.6870527267456055, -6.374007701873779, -7.311186790466309, -24.67285919189453, 3.824310541152954, -11.261320114135742, 47.933815002441406, -20.634235382080078, -9.64426040649414, 21.139413833618164, -20.80442237854004, 4.616243839263916, -33.14680862426758, 25.664012908935547, -31.18021583557129, -18.420162200927734, 6.371693134307861, 4.167855262756348, -26.034700393676758, -13.173722267150879, 25.053680419921875, -11.184293746948242, -14.726615905761719, -14.15035629272461, -0.595220685005188, 18.621002197265625, -19.65074920654297, -2.633232355117798, -17.543968200683594, 3.409405469894409, 26.7994327545166, -21.638965606689453, 11.697487831115723, -0.06663406640291214, -13.403435707092285, -55.133243560791016, 24.662498474121094, -5.313006401062012, -18.699874877929688, 80.65827941894531, 20.93572998046875, -2.6201112270355225, -14.68903923034668, -16.06515884399414, -23.198760986328125, -19.75157928466797, -30.346145629882812, -27.918222427368164, -8.11896800994873, 2.5250658988952637, 25.76311492919922, -12.831703186035156, -13.085317611694336, -14.721479415893555, -23.974590301513672, -21.792377471923828, 4.2322096824646, -18.661035537719727, 12.883401870727539, 27.7056884765625, -14.732062339782715, 3.5115907192230225, -22.93566131591797, 3.643369674682617, 8.92176628112793, 3.4102976322174072, 20.24510383605957, -14.481266021728516, -14.48102855682373, 22.10028839111328, -18.495330810546875, -18.246601104736328, 21.439847946166992, -6.272538185119629, -27.108591079711914, 24.973217010498047, -27.25290298461914, -20.824138641357422, -18.047557830810547, 10.371500015258789, 5.437981128692627, 15.323654174804688, -25.020566940307617, -7.417323589324951, 45.31241989135742, -16.08600425720215, 0.9401084780693054, -30.01753807067871, 10.284281730651855, 27.947580337524414, -0.07055094093084335, 16.816537857055664, -10.675098419189453, -27.42848777770996, -22.002981185913086, 17.452919006347656, -5.994093894958496, -14.325035095214844, 16.77260971069336, 18.65346908569336, -23.555166244506836, 13.03078556060791, -22.03578758239746, -23.56827163696289, 5.052659511566162, 61.09625244140625, 15.031259536743164, 4.7420172691345215, -11.238801002502441, 6.563007831573486, -30.72511100769043, -4.042296409606934, 19.522254943847656, 7.430553436279297, 13.608372688293457, -14.068695068359375, -21.58963394165039, 16.78679847717285, 3.273927688598633, 64.52523803710938, 8.293771743774414, -12.135221481323242, -4.779580593109131, -11.966419219970703, 17.639266967773438, -25.721778869628906, -23.07958221435547, 23.307430267333984, -16.502880096435547, -21.80955696105957, 14.37612533569336, 12.079198837280273, -29.548986434936523, -22.511018753051758, 48.19157791137695, -1.4956274032592773, 21.28021812438965, 25.146570205688477, -25.664121627807617, -12.979673385620117, 3.9010050296783447, -16.75750160217285, -27.06119155883789, -23.097036361694336, 26.33713722229004, -24.96973419189453, 8.297676086425781, -28.884675979614258, -28.27516746520996, 11.427037239074707, 9.008689880371094, -35.39841079711914, -30.385122299194336, -17.012508392333984, 13.376977920532227, -20.6237850189209, 21.203649520874023, -10.376715660095215, 5.817143440246582, -13.4381685256958, -17.253807067871094, -27.27139663696289, 20.726261138916016, -5.088924884796143, 6.09305477142334, 13.318264961242676, -18.813961029052734, 19.729482650756836, 7.728718280792236, -19.158527374267578, -17.09815788269043, -7.171029567718506, -8.559558868408203, 2.3565495014190674, -7.189810752868652, 17.163127899169922, -16.348480224609375, 20.468931198120117, 41.22080993652344, 17.9282283782959, -5.065337657928467, 14.335756301879883, 26.083513259887695, -32.903663635253906, -23.439241409301758, -20.570236206054688, 78.15921783447266, 11.673320770263672, -9.189301490783691, -18.18999481201172, -6.449403762817383, -18.38821029663086, -23.756816864013672, 16.294879913330078, -19.35951805114746, 10.06867790222168, 14.268372535705566, -3.4059746265411377, -15.606021881103516, 5.824610710144043, -13.499950408935547, 11.499150276184082, 27.976964950561523, -18.102157592773438, 1.2260503768920898, 1.2260503768920898, 12.578904151916504, 4.489322185516357, -13.080758094787598, 19.648542404174805, 5.604707717895508, 10.547804832458496, 7.1682233810424805, 12.030966758728027, -29.054767608642578, 11.835070610046387, -28.958724975585938, -28.600786209106445, -18.60733413696289, 23.100170135498047, -23.30927276611328, 3.477466344833374, -10.007944107055664, 25.413007736206055, 6.888416767120361, 13.830618858337402, -17.203067779541016, -33.43426513671875, -31.6438045501709, -30.3529052734375, -28.728900909423828, -28.101476669311523, 25.170785903930664, 26.5709228515625, -16.015554428100586, -11.5774507522583, 3.1312453746795654, -51.47493362426758, 10.3057861328125, -18.475051879882812, 36.88209533691406, 67.98236083984375, 7.916473865509033, 4.552306652069092, -19.39335060119629, 19.369476318359375, 14.764748573303223, 11.01126766204834, 6.443915367126465, 13.694360733032227, -12.35351848602295, 1.8068853616714478, -19.974090576171875, -37.62480926513672, 3.0573248863220215, 12.67969036102295, -5.928989410400391, 22.443391799926758, 27.010883331298828, 0.6288189888000488, -9.156237602233887, 17.255638122558594, 8.645975112915039, -38.39470291137695, -38.39470291137695, -15.373418807983398, -19.583885192871094, -20.69791030883789, -21.523881912231445, -18.953447341918945, -52.5784797668457, -21.110036849975586, -23.50026512145996, 19.014636993408203, 19.19253158569336, -19.488765716552734, -20.192052841186523, 7.987022876739502, -5.9206461906433105, 24.690662384033203, 23.524080276489258, -27.874542236328125, -45.1715087890625, 19.03626823425293, -9.872810363769531, -53.54732894897461, -56.80200958251953, -56.80200958251953, -21.704051971435547, -28.559024810791016, 15.277257919311523, 15.277257919311523, -17.457408905029297, 11.064016342163086, 26.611190795898438, -6.672297477722168, 22.102624893188477, -20.50596809387207, -39.90261459350586, -19.059436798095703, -22.937576293945312, -1.9888460636138916, -18.711824417114258, 22.400005340576172, -28.86388397216797, 21.061861038208008, -4.985259056091309, 12.39010238647461, -23.948150634765625, -27.957979202270508, -18.662403106689453, 11.56241512298584, 9.555279731750488, -7.514177322387695, -14.329841613769531, 16.202213287353516, -15.920498847961426, 17.276798248291016, -22.482152938842773, -38.14726257324219, 15.563016891479492, -3.8428616523742676, -4.117117881774902, -3.7065610885620117, 25.23784065246582, -11.350135803222656, -34.74294662475586, -18.09422492980957, -1.4043996334075928, -24.785940170288086, 4.354817867279053, -22.433914184570312, 14.659189224243164, -20.936222076416016, 1.0525078773498535, -16.904935836791992, -12.079052925109863, -16.289958953857422, -9.712714195251465, -39.68973922729492, -22.855106353759766, 21.807388305664062, 6.330070495605469, -7.064146995544434, 0.5133428573608398, -2.4798355102539062, -8.851055145263672, -10.996736526489258, -10.46544361114502, 29.746883392333984, 13.53803825378418, -21.938739776611328, 11.135336875915527, -29.36442756652832, -49.376399993896484, 5.796384811401367, -31.455337524414062, -18.747894287109375, 22.1098575592041, 18.89429473876953, -19.12957191467285, -22.665555953979492, -10.405790328979492, -12.798041343688965, -12.080080032348633, 19.3897762298584, -46.14741516113281, 24.124584197998047, 27.50969696044922, 16.00221824645996, -16.00925636291504, 10.261855125427246, -11.534578323364258, -16.770017623901367, 40.8605842590332, 18.852893829345703, -19.31425666809082, -22.714004516601562, 16.46881675720215, 0.9421014785766602, 18.419300079345703, 27.12501335144043, -20.872417449951172, -23.303455352783203, -18.374675750732422, 22.270774841308594, -22.284107208251953, -8.563984870910645, -20.120620727539062, 21.92864418029785, -11.662639617919922, 13.64781379699707, -31.78632926940918, -11.772575378417969, 13.85591983795166, 6.480073928833008, 23.286664962768555, -54.27631759643555, -54.119388580322266, -16.73655891418457, -17.57375144958496, 15.468795776367188, 14.166742324829102, 19.69400978088379, -31.65505027770996, -4.522456169128418, -26.783374786376953, 8.337625503540039, -48.96711349487305, 28.666812896728516, -9.961626052856445, 4.836777687072754, 29.900569915771484, 22.479938507080078, -19.962905883789062, -38.98408508300781, -16.457597732543945, 25.625654220581055, 15.220657348632812, 4.342213153839111, 4.342213153839111, 12.815773963928223, 11.03211784362793, -10.63289737701416, 26.591670989990234, -1.654610276222229, 29.54645347595215, -28.3189697265625, -3.3874218463897705, 10.709746360778809, 19.321413040161133, 21.218088150024414, -20.678586959838867, 12.112340927124023, -46.74980163574219, -33.37316131591797, -55.86015319824219, 17.656347274780273, 20.580692291259766, -28.515560150146484, -19.170196533203125, -15.853374481201172, 21.122455596923828, -6.74674129486084, -12.341364860534668, -0.024841897189617157, -12.049262046813965, -23.969911575317383, -21.458847045898438, -13.08381175994873, 30.252010345458984, 48.19389343261719, 13.089454650878906, -21.37763023376465, 29.248828887939453, -6.612489700317383, -55.42369079589844, 17.89171600341797, -12.122236251831055, -10.683345794677734, 16.995542526245117, 8.699058532714844, 27.00662612915039, -22.344837188720703, -17.153278350830078, -22.248884201049805, -22.540721893310547, 7.958581447601318, 6.099274635314941, -17.33544158935547, 7.690843105316162, 4.361649513244629, -15.087467193603516, -21.879926681518555, -9.13328742980957, 26.79917335510254, 21.436443328857422, 16.566137313842773, -52.676483154296875, 14.239046096801758, 7.724531173706055, 8.452990531921387, -0.03540746495127678, 22.285982131958008, -12.974943161010742, 27.345653533935547, 39.2380256652832, 6.724425315856934, 20.29985809326172, 17.433080673217773, -21.44700813293457, -21.28913116455078, -24.079017639160156, -9.198053359985352, 13.426283836364746, 31.371305465698242, 22.383712768554688, 26.579607009887695, -30.658143997192383, -19.64476776123047, 22.699304580688477, 9.20987319946289, 17.591890335083008, -52.292484283447266, -22.359399795532227, -25.948612213134766, -35.62724685668945, -22.498668670654297, -24.59315299987793, -33.31843566894531, -32.52695846557617, -7.845055103302002, 13.51846981048584, -21.71015167236328, 4.5882649421691895, 9.920015335083008, 2.804226875305176, -16.868812561035156, 17.452720642089844, -2.6056361198425293, -15.315888404846191, -15.73716926574707, 22.85022735595703, 29.86269187927246, -16.18281364440918, 5.051623821258545, 10.189013481140137, 14.557276725769043, -32.3348388671875, -30.98821449279785, 7.4636101722717285, 6.538069725036621, -17.790491104125977, -19.29692840576172, 11.326933860778809, -32.25904846191406, -34.802494049072266, 4.678366661071777, -18.963953018188477, -41.52513885498047, -33.1079216003418, 48.97509765625, -56.90974426269531, -56.472023010253906, -18.499910354614258, 42.06790542602539, -3.0267281532287598, -56.598365783691406, -56.600242614746094, -53.522254943847656, -23.681180953979492, 31.179813385009766, -54.95936584472656, -55.54389190673828, -55.88909912109375, -55.90628433227539, 24.19816017150879, -48.11997604370117, -4.9732770919799805, -44.75985336303711, -4.565353870391846, 25.159343719482422, 32.58642578125, -18.137950897216797, -3.295116424560547, -21.411426544189453, 17.63950538635254, 2.7233011722564697, -21.18653678894043, -29.40110969543457, -8.153416633605957, 29.5015926361084, -20.818464279174805, 5.562878131866455, 10.762378692626953, -13.607152938842773, 25.32080078125, -20.482501983642578, -17.278255462646484, 6.529179573059082, 3.162522792816162, -21.527420043945312, -16.022794723510742, -14.604118347167969, -11.976329803466797, 14.986510276794434, -16.71862030029297, -12.742875099182129, 10.416070938110352, 10.226130485534668, 8.326200485229492, 7.483439922332764, 10.455442428588867, -11.006282806396484, -15.45227336883545, 17.90225601196289, 47.797393798828125, -21.557641983032227, -28.946434020996094, -17.371192932128906, 15.111268997192383, 13.722131729125977, -14.839729309082031, -16.61025047302246, 16.038122177124023, 17.443599700927734, -11.29647445678711, -20.41128158569336, -13.692974090576172, -19.451335906982422, 16.677043914794922, -30.50482749938965, 19.96395492553711, -17.088600158691406, -14.621524810791016, -20.31600570678711, 9.600715637207031, 13.904242515563965, -11.233991622924805, -32.797393798828125, -10.935911178588867, -20.255111694335938, -16.013057708740234, -10.040708541870117, 25.56313705444336, 28.569849014282227, -17.806135177612305, -29.444183349609375, 25.407060623168945, -36.218162536621094, -28.288175582885742, 29.99199676513672, 7.888583183288574, -13.204996109008789, -18.59861183166504, -29.842693328857422, -17.320905685424805, 18.224525451660156, 26.588550567626953, 1.9049094915390015, -19.33487319946289, -35.483097076416016, -20.59783363342285, 19.195146560668945, -20.038055419921875, -18.752281188964844, 0.02611977979540825, -18.68147850036621, 12.618141174316406, 34.085174560546875, -20.5216007232666, -1.1096937656402588, 47.15613555908203, 29.419496536254883, 25.07514762878418, 14.276525497436523, -26.237539291381836, 15.986705780029297, 19.10068702697754, 23.12167739868164, 23.514652252197266, -25.95552635192871, -25.95552635192871, -13.885497093200684, -24.67253875732422, 51.57162094116211, 6.360898494720459, 6.360898494720459, -11.90274715423584, -33.401973724365234, -25.006546020507812, -30.849788665771484, -25.34332275390625, -25.34332275390625, 18.478734970092773, -11.580305099487305, -8.407118797302246, -3.743891716003418, 0.8298046588897705, 6.268684387207031, -12.850698471069336, 17.25304412841797, -17.42698097229004, 27.559284210205078, 31.108362197875977, -4.476306438446045, -18.709659576416016, -20.481243133544922, 15.59238338470459, -16.47405433654785, 18.865829467773438, -11.49056625366211, 30.532325744628906, 9.575637817382812, -19.792606353759766, -22.7227840423584, -22.722665786743164, 8.497434616088867, 24.966360092163086, -17.228500366210938, 22.744272232055664, -16.7209529876709, -24.275110244750977, 45.36368179321289, -18.00421905517578, -10.026410102844238, 27.680435180664062, 9.91860294342041, 0.3676857650279999, -26.380992889404297, 11.482510566711426, 14.522439956665039, -15.585837364196777, 13.103886604309082, -24.754709243774414, -33.84886169433594, -9.165852546691895, -0.8924787640571594, 14.591843605041504, 10.559575080871582, 11.472354888916016, -27.7305850982666, -30.74891471862793, -8.042123794555664, 27.16289710998535, -23.81953239440918, -42.658531188964844, -20.845638275146484, 16.76266098022461, 17.27171516418457, -8.190069198608398, -28.056543350219727, 11.566740989685059, -9.19602108001709, 0.2319343090057373, -21.168210983276367, 15.082862854003906, 3.4385554790496826, 16.24469757080078, -16.804641723632812, 40.600311279296875, 24.867233276367188, -5.579190731048584, -13.277575492858887, 7.377179145812988, 0.4869515001773834, -10.050114631652832, -24.690011978149414, -32.404659271240234, -21.42904281616211, 24.979206085205078, 7.808698654174805, 16.18711280822754, -34.15884017944336, -18.8732967376709, -16.970420837402344, 12.860674858093262, -12.1895751953125, 24.880718231201172, -31.20361328125, -22.950946807861328, -47.27448654174805, -30.70612335205078, -15.314523696899414, -17.837177276611328, 24.03087043762207, -21.22300910949707, -22.133167266845703, 23.33184051513672, -17.417917251586914, -9.512344360351562, -10.279545783996582, -26.64632797241211, -15.140438079833984, -22.034210205078125, -9.363907814025879, 0.9702375531196594, -18.697866439819336, 12.71479320526123, 16.10797882080078, -13.466225624084473, -28.138755798339844, 27.331501007080078, -11.501792907714844, 5.84562873840332, 9.332938194274902, 13.589661598205566, -17.00470733642578, 16.68474578857422, 11.517680168151855, -52.33318328857422, 6.885618686676025, -18.252761840820312, 11.274903297424316, -31.40151023864746, 7.935251712799072, -23.4040584564209, -17.118900299072266, -24.972335815429688, -19.713380813598633, -24.78537368774414, -13.06694507598877, 10.363598823547363, -20.712512969970703, -7.8638997077941895, -28.396150588989258, -10.326950073242188, 27.378950119018555, -13.192712783813477, -56.7536506652832, 22.857433319091797, 36.38485336303711, 41.91419219970703, -23.886396408081055, -18.91448402404785, -4.4151411056518555, 17.343109130859375, -10.682882308959961, 15.829575538635254, -27.867406845092773, -20.16238784790039, -15.253724098205566, -37.779380798339844, 19.162586212158203, -17.907487869262695, -17.907487869262695, -26.558835983276367, -21.033687591552734, 19.04352378845215, -4.534591197967529, -5.524543762207031, 18.303199768066406, -47.690704345703125], \"xaxis\": \"x\", \"y\": [35.7397575378418, 45.759220123291016, -7.235499858856201, -12.459485054016113, 36.7941780090332, -2.3556246757507324, 33.03349685668945, 16.288415908813477, 5.679005146026611, 2.641918897628784, 52.415069580078125, -1.2486854791641235, 41.17793273925781, -24.849401473999023, 40.82719039916992, 0.2773846685886383, 17.92864227294922, -8.163640022277832, -8.163640022277832, 39.62623596191406, 15.840580940246582, 34.99744415283203, 34.99744415283203, -11.902985572814941, 32.37257766723633, 44.23625183105469, -14.209819793701172, 13.411992073059082, 35.89351272583008, 54.725547790527344, 2.67484974861145, 9.648244857788086, 36.28329086303711, 49.66375732421875, -8.929093360900879, 37.39017868041992, 38.31066131591797, -15.450277328491211, 45.54451370239258, -2.9972660541534424, 21.424901962280273, 40.78693389892578, -9.242288589477539, -12.816031455993652, -20.312095642089844, 32.16664505004883, -7.271565914154053, 35.17025375366211, -13.762674331665039, 30.78705596923828, 20.351959228515625, 17.691267013549805, 5.18252420425415, 30.926433563232422, 1.1930710077285767, 28.128814697265625, -3.933276414871216, 44.831703186035156, 54.827369689941406, -11.5913667678833, 6.231697082519531, 34.81003952026367, 1.5254420042037964, 23.488697052001953, -14.163914680480957, 38.6519889831543, 38.6519889831543, -0.1610753834247589, 45.39987564086914, -12.604201316833496, 40.81540298461914, 0.02439146488904953, 37.06370162963867, 5.734437942504883, 5.626155853271484, 5.609795570373535, 42.333072662353516, -5.6876959800720215, 45.29518127441406, 5.899405479431152, -6.284913539886475, 50.0888557434082, 43.41134262084961, 8.042003631591797, -12.313958168029785, 47.724952697753906, 24.28390121459961, 23.321985244750977, 46.52669906616211, -2.842759370803833, 38.5904426574707, -0.257371187210083, -0.257371187210083, 43.453712463378906, -2.5995612144470215, 16.953405380249023, 28.793027877807617, -12.10108757019043, 39.08195114135742, 34.32423400878906, 3.426162004470825, 22.911624908447266, -7.117593288421631, 35.88383483886719, -1.117965817451477, 18.2373104095459, 2.3142166137695312, -10.283439636230469, 49.731056213378906, 48.526824951171875, -4.4587812423706055, -5.768032073974609, 36.31005096435547, 3.9902477264404297, 34.655242919921875, 3.2760136127471924, -9.83105754852295, -9.511478424072266, -7.6525163650512695, 46.935367584228516, 19.089269638061523, 28.50408363342285, -21.618331909179688, -1.8028143644332886, -12.566865921020508, 2.6008522510528564, -12.968219757080078, 9.076642990112305, -20.436752319335938, 21.38263702392578, -0.04572569951415062, -17.683780670166016, 50.49265670776367, 40.36664581298828, -11.021222114562988, -1.4235895872116089, 31.503162384033203, -1.9624519348144531, 4.294339179992676, 22.030914306640625, 5.183838367462158, -13.40722942352295, 13.761326789855957, 45.944427490234375, 31.452354431152344, -1.7005044221878052, 44.789276123046875, 42.434539794921875, 43.41396713256836, -3.5249998569488525, 35.944419860839844, 42.4622917175293, 42.700721740722656, 33.010101318359375, 25.719215393066406, 30.77153968811035, 35.827728271484375, -7.937440395355225, -13.668221473693848, 4.784673690795898, -3.584019660949707, -9.241894721984863, 5.35244607925415, 46.27228546142578, -7.684382438659668, 27.78119659423828, -11.567962646484375, 28.145444869995117, 2.2102303504943848, -10.929555892944336, -14.800993919372559, -1.1360989809036255, 48.85691452026367, 46.653385162353516, 2.1199123859405518, -1.574369192123413, -1.574369192123413, 45.5361213684082, 6.8565993309021, 4.270617961883545, 50.006431579589844, 27.366111755371094, 35.965763092041016, -13.613798141479492, 17.823970794677734, -20.193389892578125, -27.646772384643555, -8.812193870544434, 31.036651611328125, 52.137481689453125, 8.518413543701172, 38.26288604736328, 7.135973930358887, -2.9680492877960205, -9.098422050476074, 42.14552307128906, 2.165238618850708, 6.320376396179199, 49.06044006347656, 43.9913330078125, 32.530155181884766, 3.0793912410736084, 4.2008442878723145, 38.01947021484375, 11.720941543579102, 13.201351165771484, 33.948089599609375, 47.178096771240234, 35.06829071044922, 16.386560440063477, 16.386560440063477, 14.037711143493652, 3.0618481636047363, -21.061553955078125, 0.4601439833641052, -5.96652889251709, 30.804183959960938, -10.665627479553223, -0.5829376578330994, 23.1971492767334, -6.5918474197387695, 40.78794479370117, 12.177339553833008, 32.54685592651367, 14.053584098815918, -9.05589485168457, -2.9092397689819336, -11.89090347290039, -11.89090347290039, -27.157487869262695, -27.157487869262695, -10.141254425048828, 8.818946838378906, 50.40926742553711, 40.337257385253906, 35.2802734375, -0.5241761207580566, 36.10213088989258, 13.775464057922363, 52.847843170166016, -15.091384887695312, -3.403644323348999, 53.44915008544922, 31.336122512817383, 47.009796142578125, 13.18374252319336, 31.97736930847168, -6.83996057510376, 35.70960998535156, -26.965030670166016, -12.337454795837402, -6.066044330596924, 34.10673522949219, -11.440115928649902, 47.38407897949219, 35.98601531982422, 1.7285189628601074, -9.239995002746582, -11.108013153076172, 34.535377502441406, -21.872047424316406, -15.401068687438965, 33.99605941772461, -11.317791938781738, -2.5019187927246094, -21.86452293395996, -6.143049240112305, 0.8741660714149475, 13.615829467773438, 40.18973159790039, 23.384876251220703, -21.69131851196289, 23.741943359375, 7.018891334533691, 0.676648736000061, 26.163833618164062, 27.774921417236328, -19.5887508392334, -3.6292858123779297, 8.140533447265625, -20.761316299438477, 12.025510787963867, 28.088001251220703, 16.349395751953125, 2.997964382171631, 6.760639667510986, -8.531472206115723, 34.263545989990234, 34.263545989990234, 27.16979217529297, 38.24934005737305, 45.29922866821289, 4.36652135848999, -10.70711898803711, -0.03854049742221832, -11.146879196166992, -6.497341156005859, -12.282829284667969, 14.754825592041016, -15.752038955688477, -21.65133285522461, -2.088862419128418, -12.213364601135254, -8.201072692871094, -12.829694747924805, -10.22684097290039, 15.099139213562012, -10.6253080368042, 44.632911682128906, 27.366262435913086, -20.20240020751953, 51.67298126220703, -9.70692253112793, 10.94174861907959, 29.42913055419922, 4.398135662078857, -16.115440368652344, -16.34217643737793, 13.569917678833008, 7.50306510925293, 31.41706085205078, 19.003971099853516, 33.78301239013672, 44.672607421875, 42.76786422729492, 37.97554397583008, -1.6740148067474365, -1.6740148067474365, 11.468822479248047, 12.48726749420166, 8.39543628692627, -1.135616421699524, -6.542187213897705, -2.861673355102539, 46.42245101928711, -4.690185070037842, 0.9595159292221069, 1.3357253074645996, 37.80351638793945, -2.3725850582122803, 32.41365432739258, 33.6649284362793, -27.12237548828125, -11.12527847290039, 8.632967948913574, -13.22375774383545, -6.709033489227295, -6.932745933532715, 13.903717994689941, 22.990955352783203, 3.208069086074829, -9.56261157989502, 23.408483505249023, -15.872180938720703, 41.00991439819336, -9.32947063446045, 38.60614013671875, -0.19706328213214874, 40.020240783691406, 3.588080644607544, 43.658538818359375, 22.942642211914062, -27.13015365600586, 0.899787425994873, -6.097433567047119, 5.5427165031433105, 2.6211249828338623, -8.36951732635498, -8.870705604553223, -8.496898651123047, 48.778018951416016, -10.240236282348633, 21.80829429626465, -8.563785552978516, -25.622112274169922, 43.2869758605957, 5.648685455322266, 40.76317596435547, 15.925707817077637, 43.58152389526367, -7.800662040710449, 31.428478240966797, -0.6138160824775696, -8.772387504577637, -3.2578272819519043, 30.283884048461914, 6.966787338256836, -28.738414764404297, -12.056235313415527, 23.004037857055664, -14.901094436645508, -13.159636497497559, -8.975920677185059, -0.8852874040603638, -16.674182891845703, 38.73931884765625, 42.57556915283203, -26.569580078125, 43.38228988647461, 6.630162715911865, -11.304723739624023, -3.583225727081299, 34.4444694519043, 34.87137985229492, 45.137916564941406, -15.469264030456543, 14.215933799743652, 3.2965407371520996, 19.146150588989258, 33.565574645996094, 19.513118743896484, 35.73360824584961, -3.534212827682495, -3.5344033241271973, 3.4997386932373047, 25.392309188842773, -7.3089141845703125, 3.356976270675659, -12.423781394958496, -11.09671688079834, 31.443035125732422, -7.1620683670043945, 1.2371528148651123, 41.68416213989258, 23.04415512084961, 11.138200759887695, 4.356219291687012, 9.173293113708496, -13.03757095336914, -10.934412956237793, 49.39287185668945, -16.226322174072266, 13.872507095336914, 35.21710205078125, 44.4997444152832, -4.931563377380371, -3.4823355674743652, 1.6314613819122314, -14.298088073730469, -10.410415649414062, -22.14403533935547, -0.5573925375938416, 41.140296936035156, -24.13768768310547, 0.65107262134552, -12.411823272705078, 1.2454795837402344, 50.632415771484375, -6.025655746459961, 2.746581792831421, -9.39832592010498, -18.83751106262207, 12.779385566711426, 17.1617431640625, 8.642562866210938, 0.9705985188484192, 25.75749969482422, -20.247861862182617, -16.069061279296875, -20.8347110748291, -12.768385887145996, 50.39736557006836, -3.8484692573547363, -16.808069229125977, -11.333084106445312, 32.46857833862305, 11.651257514953613, 22.4747257232666, 28.770999908447266, 46.454654693603516, -14.459371566772461, -11.791248321533203, 42.110740661621094, 39.77113723754883, 3.0644915103912354, -17.1502628326416, -18.1480770111084, -14.650615692138672, -11.257017135620117, -18.841140747070312, 4.538486003875732, -19.08066177368164, -24.42255401611328, -14.089173316955566, 40.11648941040039, 21.80230140686035, 22.447961807250977, -12.660744667053223, -13.849180221557617, 6.118345260620117, -12.208468437194824, -4.722192764282227, -15.655258178710938, -4.04044246673584, 36.83570861816406, 31.325103759765625, -8.811025619506836, -2.5977325439453125, -17.095426559448242, -19.116310119628906, -10.223703384399414, -15.961309432983398, -17.4697265625, -18.901945114135742, 42.17243576049805, 26.393062591552734, -12.415491104125977, 31.5560359954834, 9.147783279418945, 20.221410751342773, -1.5896750688552856, 36.510738372802734, 48.50536346435547, 18.100114822387695, 32.252010345458984, -26.50358772277832, 6.181208610534668, -3.2486283779144287, 32.32585525512695, -3.376662254333496, 9.396661758422852, 0.884880781173706, 36.56727981567383, -18.765329360961914, -12.490365982055664, 23.184505462646484, 41.480525970458984, 40.95768356323242, 14.15334701538086, -6.339080810546875, -12.481080055236816, -6.122920989990234, -2.321960687637329, 9.365117073059082, -13.536527633666992, -37.18009948730469, -13.498817443847656, -14.34115219116211, 9.195212364196777, 40.96468734741211, 23.254846572875977, 41.313087463378906, 25.316858291625977, 27.833332061767578, -28.60319709777832, 9.043886184692383, -2.8647608757019043, -18.190866470336914, 25.573911666870117, -11.890869140625, -11.890869140625, -3.4970686435699463, -4.627954959869385, -2.772951602935791, 39.36134719848633, 17.76099395751953, 34.282569885253906, 30.283876419067383, 33.97346496582031, 12.837882995605469, -20.775617599487305, -4.783055305480957, -9.263862609863281, 42.49003982543945, 39.3592414855957, -16.76947021484375, 17.427900314331055, 14.266932487487793, -19.749727249145508, 11.570960998535156, 43.98162841796875, -19.0843563079834, -8.093522071838379, -8.109850883483887, -7.734095573425293, -7.516793251037598, -5.761539936065674, -21.489572525024414, -18.815088272094727, -31.19411849975586, 16.303791046142578, 22.87123680114746, -10.58354663848877, -18.638181686401367, -32.74810028076172, -15.366521835327148, -9.417823791503906, -19.73000144958496, 10.998462677001953, 7.223535537719727, 6.317801475524902, -24.102020263671875, 26.977567672729492, 33.68388748168945, -2.159632444381714, -18.03548812866211, 31.432493209838867, 21.288822174072266, -21.63556480407715, 22.96946907043457, 3.831482410430908, 27.720664978027344, 33.435203552246094, 7.589719295501709, 35.08277893066406, 15.409638404846191, -0.05773109197616577, 10.469587326049805, -12.76526165008545, -12.76526165008545, 4.896960735321045, 12.992419242858887, -4.864482402801514, 22.06528091430664, 35.338565826416016, -5.860574245452881, 10.849190711975098, -1.934851050376892, 7.57072114944458, 4.319645881652832, 49.6143684387207, 48.35481262207031, 28.759748458862305, 27.69002914428711, 40.301395416259766, 5.690983772277832, -23.822725296020508, -6.7773895263671875, -0.6150525212287903, -9.880967140197754, -8.057662963867188, -6.192093849182129, -6.192093849182129, -16.647361755371094, -22.69716453552246, -0.4310496747493744, -0.4310496747493744, 41.820926666259766, 33.0421028137207, 7.253418922424316, 12.525647163391113, 44.06544494628906, -16.409076690673828, -14.945175170898438, 47.467403411865234, 1.3967125415802002, 2.630253314971924, 46.72032928466797, 49.49286651611328, -14.302153587341309, 4.766417980194092, 9.275973320007324, -6.828518390655518, -4.283790588378906, -4.006945610046387, 46.047420501708984, 0.4486444294452667, 34.63051986694336, -15.621652603149414, 24.635162353515625, 0.03973066061735153, 26.073535919189453, -1.1776789426803589, -5.6300048828125, -11.220865249633789, -18.147001266479492, 22.68807601928711, 4.158570766448975, -18.77727699279785, 5.979259490966797, 36.350608825683594, -5.422516822814941, -8.036812782287598, 15.992684364318848, -0.2075609415769577, -16.909130096435547, -13.464876174926758, -2.855393409729004, -7.82641077041626, 7.748393535614014, 39.132080078125, 12.13360595703125, 28.649497985839844, 13.491835594177246, -10.997586250305176, -8.778325080871582, 50.70089340209961, 18.252777099609375, -7.930068492889404, 35.144989013671875, 28.199281692504883, -23.17148780822754, 27.69976043701172, 18.39877700805664, 45.7423095703125, -0.5784049034118652, -17.578088760375977, 36.74227523803711, -7.329484462738037, -9.457061767578125, -28.603031158447266, 2.8487436771392822, -30.41405487060547, 32.499290466308594, 45.7033805847168, 38.77954864501953, -22.920406341552734, 19.86800193786621, -12.270519256591797, 32.02547836303711, 48.09707260131836, -10.640817642211914, 3.759836196899414, -17.56455421447754, -6.657209873199463, 41.39809799194336, 27.838613510131836, 5.1823625564575195, 25.883686065673828, -9.987312316894531, 43.172332763671875, -19.139402389526367, 53.703277587890625, -22.417747497558594, 17.16908836364746, 42.47001647949219, 45.06756591796875, 37.47806930541992, -10.4384126663208, 42.573482513427734, 49.747169494628906, 51.18511962890625, 9.563139915466309, 30.837514877319336, 3.5899903774261475, 5.626352787017822, 39.768123626708984, 1.7394683361053467, -8.948806762695312, 43.07574462890625, 20.16728401184082, 37.72563552856445, -2.5052390098571777, -3.1313884258270264, 46.559059143066406, -11.697397232055664, 35.690818786621094, 2.0467276573181152, -0.4310697615146637, -9.953141212463379, 25.047990798950195, -18.09778594970703, 30.928226470947266, -6.055150985717773, 32.625545501708984, -11.724532127380371, -2.6583080291748047, 33.23679733276367, 36.37271499633789, 29.805248260498047, -6.654613018035889, -29.41521453857422, 6.037280082702637, -16.977298736572266, -8.163640975952148, -8.163640975952148, -18.7847900390625, 33.28896713256836, -1.105635166168213, 42.44215774536133, -4.78768253326416, 32.96139144897461, 1.366787314414978, 23.382587432861328, 36.51935577392578, 37.71533203125, 4.316703796386719, 7.47179651260376, 15.016289710998535, -6.11232852935791, 16.978107452392578, -5.1292500495910645, 8.12221908569336, 42.92218017578125, -16.441349029541016, 23.37127685546875, 34.027584075927734, -15.970540046691895, 12.416169166564941, 30.970046997070312, -2.2373056411743164, 14.830742835998535, -11.256494522094727, -14.135693550109863, -9.08284854888916, 46.431358337402344, -14.378767013549805, 33.7064208984375, 2.3989500999450684, -23.554950714111328, -11.815006256103516, -4.025344371795654, 48.60170364379883, 30.073965072631836, -8.052143096923828, 46.11634063720703, 12.805285453796387, 7.633645534515381, 16.364656448364258, -0.6123090386390686, -6.047783374786377, -5.039412021636963, -6.339572429656982, -20.193241119384766, 28.724075317382812, -16.04994773864746, -16.834941864013672, 49.46998977661133, 26.277690887451172, 1.0222502946853638, 7.480597972869873, 32.246734619140625, 43.09017562866211, -7.852166175842285, 38.993255615234375, -5.846899509429932, 12.428497314453125, 4.923675537109375, 5.1287102699279785, 28.796010971069336, 40.775794982910156, -18.897228240966797, -0.11667812615633011, 3.631026268005371, -17.77340316772461, 34.3128662109375, 53.67451477050781, 14.605907440185547, -17.65635871887207, 33.15979766845703, 47.27049255371094, 38.502952575683594, 38.79018783569336, 4.155742645263672, 52.19393539428711, 32.3797721862793, 0.5355642437934875, 32.9334602355957, -11.845126152038574, 5.841817378997803, -16.444873809814453, -11.344484329223633, -15.447648048400879, 3.0958237648010254, 16.6614990234375, -12.381901741027832, 4.435194492340088, -12.539301872253418, -10.096128463745117, 23.71631622314453, 14.850658416748047, 8.72142219543457, 44.085201263427734, 47.76698684692383, 28.194231033325195, 21.948392868041992, -27.828933715820312, 37.04249572753906, 46.73100662231445, -10.821393013000488, 17.728744506835938, 28.678125381469727, -0.1948087364435196, -6.941506385803223, -7.284992218017578, 17.683895111083984, 13.585070610046387, 46.56999206542969, 26.757022857666016, 34.40425109863281, 5.672902584075928, -3.5421130657196045, 13.593823432922363, 34.23795700073242, -4.546281814575195, -11.879575729370117, -11.559258460998535, -5.6332597732543945, -5.4543137550354, 36.631134033203125, -15.466558456420898, 3.4905242919921875, -6.155144214630127, -4.593192100524902, -4.475228309631348, 23.176891326904297, 45.57188415527344, -5.230140209197998, -7.391030788421631, -6.450294017791748, -6.787822246551514, -20.049129486083984, -9.644988059997559, 3.4338159561157227, -4.581250190734863, 25.03873634338379, 38.98025894165039, 46.58722686767578, 31.033418655395508, 22.09274673461914, 35.324249267578125, 43.71178436279297, 35.69274139404297, 53.00846862792969, -0.6641169190406799, 17.291656494140625, 46.210670471191406, -7.807919502258301, -28.423381805419922, 13.736632347106934, -36.09412384033203, 3.8583590984344482, 33.439796447753906, 51.55451965332031, 8.608027458190918, 14.163890838623047, -9.342872619628906, -0.4528111517429352, -19.064884185791016, 14.461227416992188, 42.0609016418457, -15.882076263427734, -0.20866574347019196, 35.95735549926758, -9.720963478088379, -3.4839093685150146, 14.353988647460938, -15.054856300354004, 16.512847900390625, -9.048434257507324, 48.138572692871094, -13.524123191833496, -6.278824329376221, -10.178505897521973, 42.65349578857422, 36.20195770263672, 44.27289581298828, -34.425350189208984, -17.0355281829834, 41.90519714355469, 39.43413543701172, 31.24754524230957, -15.115612983703613, 16.904714584350586, 7.184791564941406, -15.261772155761719, -4.461295127868652, 2.5646963119506836, -8.049294471740723, -9.622296333312988, 36.89215850830078, -19.387868881225586, 44.2052001953125, 4.748619079589844, 14.377689361572266, -5.983097076416016, 53.16215896606445, 47.28206253051758, 19.12504768371582, 38.244789123535156, 44.9849853515625, 2.473865509033203, -9.149723052978516, 41.282875061035156, 7.282633304595947, -0.8511934280395508, -24.486970901489258, 4.76828670501709, -24.39069175720215, 28.748517990112305, 14.987889289855957, -9.643020629882812, -17.34979820251465, 45.35050582885742, 34.69040298461914, 42.756988525390625, -13.554019927978516, 0.16683800518512726, 36.81431198120117, -0.9891621470451355, 50.10443115234375, 11.823442459106445, 42.5960693359375, 39.18856430053711, -17.572599411010742, 19.168018341064453, 4.570184707641602, -15.552865982055664, 46.71737289428711, 40.105751037597656, -2.554459810256958, -6.4904279708862305, -15.946807861328125, 2.279273748397827, 2.5874953269958496, 4.52234411239624, 16.386566162109375, 16.386566162109375, 29.06218910217285, -17.735631942749023, -12.972229957580566, 33.461761474609375, 33.461761474609375, 15.278468132019043, 1.5168802738189697, 4.618826866149902, -6.637861728668213, -15.779537200927734, -15.779537200927734, 47.44078826904297, -23.5911808013916, -14.416914939880371, -12.051395416259766, 7.548906326293945, 11.723860740661621, -13.667518615722656, 42.717437744140625, 33.64604568481445, 45.813743591308594, 47.265586853027344, -5.968616008758545, 45.253868103027344, 49.195743560791016, 44.0295295715332, 51.43381881713867, -2.8512070178985596, 28.848520278930664, 47.00395202636719, 31.456790924072266, 51.27936935424805, 47.06459426879883, 47.06452560424805, 19.230356216430664, 36.44422149658203, 37.194488525390625, 33.63471603393555, 7.419313907623291, -9.103021621704102, -10.303877830505371, 25.670804977416992, 18.156843185424805, 43.562171936035156, -2.2949118614196777, 11.79011058807373, -0.5805367231369019, 34.65314483642578, -20.141433715820312, -0.5983352065086365, 3.0004305839538574, -7.966005325317383, -0.2750907242298126, -11.84229564666748, 16.356016159057617, 38.6416015625, 2.0911827087402344, 0.4316657483577728, 2.470621347427368, -4.518539905548096, 5.337679862976074, 44.554656982421875, -8.365482330322266, -6.159396648406982, 48.584228515625, 43.98374557495117, 35.5929069519043, -0.9849780201911926, 0.03418697044253349, -8.550010681152344, -6.312434196472168, -6.107972621917725, 21.96198844909668, 0.0797366052865982, -25.696178436279297, 1.4521656036376953, -9.217351913452148, -11.754517555236816, 36.219688415527344, 6.790744781494141, 11.549701690673828, 36.09614562988281, -2.2803239822387695, 14.540946960449219, -0.25017377734184265, 15.213537216186523, 25.04399871826172, 31.475770950317383, 30.63374137878418, 44.220008850097656, 3.1299378871917725, 46.30999755859375, 42.457763671875, 1.0295460224151611, 39.72748565673828, 37.45423126220703, -0.33766305446624756, 7.276963233947754, -5.91411828994751, -15.745408058166504, 4.493661403656006, 7.768454074859619, 37.211246490478516, 33.323490142822266, 7.327198505401611, 37.59894561767578, 39.78045654296875, -21.066810607910156, -8.216567039489746, -13.590707778930664, 3.7859301567077637, -12.873125076293945, 12.986286163330078, 3.8829219341278076, 27.870325088500977, 38.26523971557617, 47.930171966552734, 24.980234146118164, -12.272418975830078, 6.633553504943848, 39.21417999267578, -13.22424602508545, 31.02362060546875, 41.6519775390625, 7.548079490661621, 46.52699661254883, 37.902252197265625, -11.687024116516113, -19.361209869384766, 3.5572054386138916, -22.812541961669922, -17.583669662475586, 11.452531814575195, -9.556459426879883, 43.221981048583984, -9.618132591247559, 20.53348159790039, -6.428596496582031, 41.9597053527832, -14.78093147277832, 48.98472595214844, -14.29679012298584, -23.692474365234375, -13.294061660766602, -24.078081130981445, 27.642322540283203, -2.878962516784668, 1.8255422115325928, -16.093637466430664, -12.332131385803223, -5.061375141143799, 44.437644958496094, 23.205007553100586, -2.1704890727996826, -13.477530479431152, 37.103309631347656, -9.352209091186523, 44.22842025756836, 28.101619720458984, -2.6166224479675293, 46.31971740722656, -0.25737181305885315, -0.25737181305885315, -8.765551567077637, -5.392277717590332, 47.64221954345703, -9.346351623535156, 24.895465850830078, 4.722662925720215, -6.862262725830078], \"yaxis\": \"y\"}],                        {\"coloraxis\": {\"colorbar\": {\"title\": {\"text\": \"color\"}}, \"colorscale\": [[0.0, \"#0d0887\"], [0.1111111111111111, \"#46039f\"], [0.2222222222222222, \"#7201a8\"], [0.3333333333333333, \"#9c179e\"], [0.4444444444444444, \"#bd3786\"], [0.5555555555555556, \"#d8576b\"], [0.6666666666666666, \"#ed7953\"], [0.7777777777777778, \"#fb9f3a\"], [0.8888888888888888, \"#fdca26\"], [1.0, \"#f0f921\"]]}, \"legend\": {\"tracegroupgap\": 0}, \"margin\": {\"t\": 60}, \"template\": {\"data\": {\"bar\": [{\"error_x\": {\"color\": \"#2a3f5f\"}, \"error_y\": {\"color\": \"#2a3f5f\"}, \"marker\": {\"line\": {\"color\": \"#E5ECF6\", \"width\": 0.5}}, \"type\": \"bar\"}], \"barpolar\": [{\"marker\": {\"line\": {\"color\": \"#E5ECF6\", \"width\": 0.5}}, \"type\": \"barpolar\"}], \"carpet\": [{\"aaxis\": {\"endlinecolor\": \"#2a3f5f\", \"gridcolor\": \"white\", \"linecolor\": \"white\", \"minorgridcolor\": \"white\", \"startlinecolor\": \"#2a3f5f\"}, \"baxis\": {\"endlinecolor\": \"#2a3f5f\", \"gridcolor\": \"white\", \"linecolor\": \"white\", \"minorgridcolor\": \"white\", \"startlinecolor\": \"#2a3f5f\"}, \"type\": \"carpet\"}], \"choropleth\": [{\"colorbar\": {\"outlinewidth\": 0, \"ticks\": \"\"}, \"type\": \"choropleth\"}], \"contour\": [{\"colorbar\": {\"outlinewidth\": 0, \"ticks\": \"\"}, \"colorscale\": [[0.0, \"#0d0887\"], [0.1111111111111111, \"#46039f\"], [0.2222222222222222, \"#7201a8\"], [0.3333333333333333, \"#9c179e\"], [0.4444444444444444, \"#bd3786\"], [0.5555555555555556, \"#d8576b\"], [0.6666666666666666, \"#ed7953\"], [0.7777777777777778, \"#fb9f3a\"], [0.8888888888888888, \"#fdca26\"], [1.0, \"#f0f921\"]], \"type\": \"contour\"}], \"contourcarpet\": [{\"colorbar\": {\"outlinewidth\": 0, \"ticks\": \"\"}, \"type\": \"contourcarpet\"}], \"heatmap\": [{\"colorbar\": {\"outlinewidth\": 0, \"ticks\": \"\"}, \"colorscale\": [[0.0, \"#0d0887\"], [0.1111111111111111, \"#46039f\"], [0.2222222222222222, \"#7201a8\"], [0.3333333333333333, \"#9c179e\"], [0.4444444444444444, \"#bd3786\"], [0.5555555555555556, \"#d8576b\"], [0.6666666666666666, \"#ed7953\"], [0.7777777777777778, \"#fb9f3a\"], [0.8888888888888888, \"#fdca26\"], [1.0, \"#f0f921\"]], \"type\": \"heatmap\"}], \"heatmapgl\": [{\"colorbar\": {\"outlinewidth\": 0, \"ticks\": \"\"}, \"colorscale\": [[0.0, \"#0d0887\"], [0.1111111111111111, \"#46039f\"], [0.2222222222222222, \"#7201a8\"], [0.3333333333333333, \"#9c179e\"], [0.4444444444444444, \"#bd3786\"], [0.5555555555555556, \"#d8576b\"], [0.6666666666666666, \"#ed7953\"], [0.7777777777777778, \"#fb9f3a\"], [0.8888888888888888, \"#fdca26\"], [1.0, \"#f0f921\"]], \"type\": \"heatmapgl\"}], \"histogram\": [{\"marker\": {\"colorbar\": {\"outlinewidth\": 0, \"ticks\": \"\"}}, \"type\": \"histogram\"}], \"histogram2d\": [{\"colorbar\": {\"outlinewidth\": 0, \"ticks\": \"\"}, \"colorscale\": [[0.0, \"#0d0887\"], [0.1111111111111111, \"#46039f\"], [0.2222222222222222, \"#7201a8\"], [0.3333333333333333, \"#9c179e\"], [0.4444444444444444, \"#bd3786\"], [0.5555555555555556, \"#d8576b\"], [0.6666666666666666, \"#ed7953\"], [0.7777777777777778, \"#fb9f3a\"], [0.8888888888888888, \"#fdca26\"], [1.0, \"#f0f921\"]], \"type\": \"histogram2d\"}], \"histogram2dcontour\": [{\"colorbar\": {\"outlinewidth\": 0, \"ticks\": \"\"}, \"colorscale\": [[0.0, \"#0d0887\"], [0.1111111111111111, \"#46039f\"], [0.2222222222222222, \"#7201a8\"], [0.3333333333333333, \"#9c179e\"], [0.4444444444444444, \"#bd3786\"], [0.5555555555555556, \"#d8576b\"], [0.6666666666666666, \"#ed7953\"], [0.7777777777777778, \"#fb9f3a\"], [0.8888888888888888, \"#fdca26\"], [1.0, \"#f0f921\"]], \"type\": \"histogram2dcontour\"}], \"mesh3d\": [{\"colorbar\": {\"outlinewidth\": 0, \"ticks\": \"\"}, \"type\": \"mesh3d\"}], \"parcoords\": [{\"line\": {\"colorbar\": {\"outlinewidth\": 0, \"ticks\": \"\"}}, \"type\": \"parcoords\"}], \"pie\": [{\"automargin\": true, \"type\": \"pie\"}], \"scatter\": [{\"marker\": {\"colorbar\": {\"outlinewidth\": 0, \"ticks\": \"\"}}, \"type\": \"scatter\"}], \"scatter3d\": [{\"line\": {\"colorbar\": {\"outlinewidth\": 0, \"ticks\": \"\"}}, \"marker\": {\"colorbar\": {\"outlinewidth\": 0, \"ticks\": \"\"}}, \"type\": \"scatter3d\"}], \"scattercarpet\": [{\"marker\": {\"colorbar\": {\"outlinewidth\": 0, \"ticks\": \"\"}}, \"type\": \"scattercarpet\"}], \"scattergeo\": [{\"marker\": {\"colorbar\": {\"outlinewidth\": 0, \"ticks\": \"\"}}, \"type\": \"scattergeo\"}], \"scattergl\": [{\"marker\": {\"colorbar\": {\"outlinewidth\": 0, \"ticks\": \"\"}}, \"type\": \"scattergl\"}], \"scattermapbox\": [{\"marker\": {\"colorbar\": {\"outlinewidth\": 0, \"ticks\": \"\"}}, \"type\": \"scattermapbox\"}], \"scatterpolar\": [{\"marker\": {\"colorbar\": {\"outlinewidth\": 0, \"ticks\": \"\"}}, \"type\": \"scatterpolar\"}], \"scatterpolargl\": [{\"marker\": {\"colorbar\": {\"outlinewidth\": 0, \"ticks\": \"\"}}, \"type\": \"scatterpolargl\"}], \"scatterternary\": [{\"marker\": {\"colorbar\": {\"outlinewidth\": 0, \"ticks\": \"\"}}, \"type\": \"scatterternary\"}], \"surface\": [{\"colorbar\": {\"outlinewidth\": 0, \"ticks\": \"\"}, \"colorscale\": [[0.0, \"#0d0887\"], [0.1111111111111111, \"#46039f\"], [0.2222222222222222, \"#7201a8\"], [0.3333333333333333, \"#9c179e\"], [0.4444444444444444, \"#bd3786\"], [0.5555555555555556, \"#d8576b\"], [0.6666666666666666, \"#ed7953\"], [0.7777777777777778, \"#fb9f3a\"], [0.8888888888888888, \"#fdca26\"], [1.0, \"#f0f921\"]], \"type\": \"surface\"}], \"table\": [{\"cells\": {\"fill\": {\"color\": \"#EBF0F8\"}, \"line\": {\"color\": \"white\"}}, \"header\": {\"fill\": {\"color\": \"#C8D4E3\"}, \"line\": {\"color\": \"white\"}}, \"type\": \"table\"}]}, \"layout\": {\"annotationdefaults\": {\"arrowcolor\": \"#2a3f5f\", \"arrowhead\": 0, \"arrowwidth\": 1}, \"autotypenumbers\": \"strict\", \"coloraxis\": {\"colorbar\": {\"outlinewidth\": 0, \"ticks\": \"\"}}, \"colorscale\": {\"diverging\": [[0, \"#8e0152\"], [0.1, \"#c51b7d\"], [0.2, \"#de77ae\"], [0.3, \"#f1b6da\"], [0.4, \"#fde0ef\"], [0.5, \"#f7f7f7\"], [0.6, \"#e6f5d0\"], [0.7, \"#b8e186\"], [0.8, \"#7fbc41\"], [0.9, \"#4d9221\"], [1, \"#276419\"]], \"sequential\": [[0.0, \"#0d0887\"], [0.1111111111111111, \"#46039f\"], [0.2222222222222222, \"#7201a8\"], [0.3333333333333333, \"#9c179e\"], [0.4444444444444444, \"#bd3786\"], [0.5555555555555556, \"#d8576b\"], [0.6666666666666666, \"#ed7953\"], [0.7777777777777778, \"#fb9f3a\"], [0.8888888888888888, \"#fdca26\"], [1.0, \"#f0f921\"]], \"sequentialminus\": [[0.0, \"#0d0887\"], [0.1111111111111111, \"#46039f\"], [0.2222222222222222, \"#7201a8\"], [0.3333333333333333, \"#9c179e\"], [0.4444444444444444, \"#bd3786\"], [0.5555555555555556, \"#d8576b\"], [0.6666666666666666, \"#ed7953\"], [0.7777777777777778, \"#fb9f3a\"], [0.8888888888888888, \"#fdca26\"], [1.0, \"#f0f921\"]]}, \"colorway\": [\"#636efa\", \"#EF553B\", \"#00cc96\", \"#ab63fa\", \"#FFA15A\", \"#19d3f3\", \"#FF6692\", \"#B6E880\", \"#FF97FF\", \"#FECB52\"], \"font\": {\"color\": \"#2a3f5f\"}, \"geo\": {\"bgcolor\": \"white\", \"lakecolor\": \"white\", \"landcolor\": \"#E5ECF6\", \"showlakes\": true, \"showland\": true, \"subunitcolor\": \"white\"}, \"hoverlabel\": {\"align\": \"left\"}, \"hovermode\": \"closest\", \"mapbox\": {\"style\": \"light\"}, \"paper_bgcolor\": \"white\", \"plot_bgcolor\": \"#E5ECF6\", \"polar\": {\"angularaxis\": {\"gridcolor\": \"white\", \"linecolor\": \"white\", \"ticks\": \"\"}, \"bgcolor\": \"#E5ECF6\", \"radialaxis\": {\"gridcolor\": \"white\", \"linecolor\": \"white\", \"ticks\": \"\"}}, \"scene\": {\"xaxis\": {\"backgroundcolor\": \"#E5ECF6\", \"gridcolor\": \"white\", \"gridwidth\": 2, \"linecolor\": \"white\", \"showbackground\": true, \"ticks\": \"\", \"zerolinecolor\": \"white\"}, \"yaxis\": {\"backgroundcolor\": \"#E5ECF6\", \"gridcolor\": \"white\", \"gridwidth\": 2, \"linecolor\": \"white\", \"showbackground\": true, \"ticks\": \"\", \"zerolinecolor\": \"white\"}, \"zaxis\": {\"backgroundcolor\": \"#E5ECF6\", \"gridcolor\": \"white\", \"gridwidth\": 2, \"linecolor\": \"white\", \"showbackground\": true, \"ticks\": \"\", \"zerolinecolor\": \"white\"}}, \"shapedefaults\": {\"line\": {\"color\": \"#2a3f5f\"}}, \"ternary\": {\"aaxis\": {\"gridcolor\": \"white\", \"linecolor\": \"white\", \"ticks\": \"\"}, \"baxis\": {\"gridcolor\": \"white\", \"linecolor\": \"white\", \"ticks\": \"\"}, \"bgcolor\": \"#E5ECF6\", \"caxis\": {\"gridcolor\": \"white\", \"linecolor\": \"white\", \"ticks\": \"\"}}, \"title\": {\"x\": 0.05}, \"xaxis\": {\"automargin\": true, \"gridcolor\": \"white\", \"linecolor\": \"white\", \"ticks\": \"\", \"title\": {\"standoff\": 15}, \"zerolinecolor\": \"white\", \"zerolinewidth\": 2}, \"yaxis\": {\"automargin\": true, \"gridcolor\": \"white\", \"linecolor\": \"white\", \"ticks\": \"\", \"title\": {\"standoff\": 15}, \"zerolinecolor\": \"white\", \"zerolinewidth\": 2}}}, \"xaxis\": {\"anchor\": \"y\", \"domain\": [0.0, 1.0], \"title\": {\"text\": \"x\"}}, \"yaxis\": {\"anchor\": \"x\", \"domain\": [0.0, 1.0], \"title\": {\"text\": \"y\"}}},                        {\"responsive\": true}                    ).then(function(){\n",
       "                            \n",
       "var gd = document.getElementById('c33fd80b-42b1-484b-944f-74305e9b19e0');\n",
       "var x = new MutationObserver(function (mutations, observer) {{\n",
       "        var display = window.getComputedStyle(gd).display;\n",
       "        if (!display || display === 'none') {{\n",
       "            console.log([gd, 'removed!']);\n",
       "            Plotly.purge(gd);\n",
       "            observer.disconnect();\n",
       "        }}\n",
       "}});\n",
       "\n",
       "// Listen for the removal of the full notebook cells\n",
       "var notebookContainer = gd.closest('#notebook-container');\n",
       "if (notebookContainer) {{\n",
       "    x.observe(notebookContainer, {childList: true});\n",
       "}}\n",
       "\n",
       "// Listen for the clearing of the current output cell\n",
       "var outputEl = gd.closest('.output');\n",
       "if (outputEl) {{\n",
       "    x.observe(outputEl, {childList: true});\n",
       "}}\n",
       "\n",
       "                        })                };                });            </script>        </div>"
      ]
     },
     "metadata": {},
     "output_type": "display_data"
    }
   ],
   "source": [
    "px.scatter(df2, x='x', y='y', hover_data=[df2.index], color=-np.log(df2['ci_pval_method2']))"
   ]
  },
  {
   "cell_type": "code",
   "execution_count": 260,
   "id": "alike-leonard",
   "metadata": {},
   "outputs": [
    {
     "data": {
      "application/vnd.plotly.v1+json": {
       "config": {
        "plotlyServerURL": "https://plotly.com"
       },
       "data": [
        {
         "alignmentgroup": "True",
         "customdata": [
          [
           "unenriched-inoculum"
          ],
          [
           "inoculum"
          ],
          [
           "inoculum"
          ],
          [
           "inoculum"
          ],
          [
           "inoculum"
          ],
          [
           "inoculum"
          ]
         ],
         "hovertemplate": "day=%{x}<br>norm_count=%{y}<br>mouse=%{customdata[0]}<extra></extra>",
         "legendgroup": "d0",
         "marker": {
          "color": "#1F77B4"
         },
         "name": "d0",
         "notched": false,
         "offsetgroup": "d0",
         "orientation": "v",
         "showlegend": true,
         "type": "box",
         "x": [
          "d0",
          "d0",
          "d0",
          "d0",
          "d0",
          "d0"
         ],
         "x0": " ",
         "xaxis": "x",
         "y": [
          10.4477537558095,
          10.547542550281,
          10.5495908875541,
          10.5010060393019,
          10.6385357302817,
          10.64801990627
         ],
         "y0": " ",
         "yaxis": "y"
        },
        {
         "alignmentgroup": "True",
         "customdata": [
          [
           "ad927"
          ],
          [
           "ad930"
          ],
          [
           "ad926"
          ],
          [
           "ad928"
          ],
          [
           "ad929"
          ],
          [
           "am484"
          ],
          [
           "am483"
          ],
          [
           "am488"
          ],
          [
           "am485"
          ],
          [
           "am486"
          ],
          [
           "am487"
          ],
          [
           "am729"
          ],
          [
           "am727"
          ],
          [
           "am730"
          ],
          [
           "am731"
          ],
          [
           "am728"
          ],
          [
           "am732"
          ]
         ],
         "hovertemplate": "day=%{x}<br>norm_count=%{y}<br>mouse=%{customdata[0]}<extra></extra>",
         "legendgroup": "d1",
         "marker": {
          "color": "#FF7F0E"
         },
         "name": "d1",
         "notched": false,
         "offsetgroup": "d1",
         "orientation": "v",
         "showlegend": true,
         "type": "box",
         "x": [
          "d1",
          "d1",
          "d1",
          "d1",
          "d1",
          "d1",
          "d1",
          "d1",
          "d1",
          "d1",
          "d1",
          "d1",
          "d1",
          "d1",
          "d1",
          "d1",
          "d1"
         ],
         "x0": " ",
         "xaxis": "x",
         "y": [
          8.690373515366991,
          9.674516893045473,
          9.763602265240179,
          9.25845033500837,
          9.612129199040801,
          10.8566060398209,
          11.1457019490571,
          9.9855771454585,
          11.380374042548802,
          9.303781832665141,
          8.26545272921855,
          10.6348242588031,
          10.8935882525652,
          11.0093460268398,
          6.3896114038753495,
          10.8041665397865,
          6.220011803909969
         ],
         "y0": " ",
         "yaxis": "y"
        },
        {
         "alignmentgroup": "True",
         "customdata": [
          [
           "ad927"
          ],
          [
           "ad926"
          ],
          [
           "ad928"
          ],
          [
           "ad930"
          ],
          [
           "am484"
          ],
          [
           "am486"
          ],
          [
           "am483"
          ],
          [
           "am485"
          ],
          [
           "am487"
          ],
          [
           "am488"
          ],
          [
           "am728"
          ],
          [
           "am732"
          ],
          [
           "am729"
          ],
          [
           "am730"
          ],
          [
           "am731"
          ],
          [
           "am727"
          ]
         ],
         "hovertemplate": "day=%{x}<br>norm_count=%{y}<br>mouse=%{customdata[0]}<extra></extra>",
         "legendgroup": "d2",
         "marker": {
          "color": "#2CA02C"
         },
         "name": "d2",
         "notched": false,
         "offsetgroup": "d2",
         "orientation": "v",
         "showlegend": true,
         "type": "box",
         "x": [
          "d2",
          "d2",
          "d2",
          "d2",
          "d2",
          "d2",
          "d2",
          "d2",
          "d2",
          "d2",
          "d2",
          "d2",
          "d2",
          "d2",
          "d2",
          "d2"
         ],
         "x0": " ",
         "xaxis": "x",
         "y": [
          8.78870620168391,
          9.7603621516671,
          9.04563699613645,
          9.87025448826744,
          5.54653431161705,
          8.992515822100358,
          10.1746204472409,
          10.0371051484326,
          9.37627410539573,
          9.24022935895282,
          10.045206456356901,
          5.17503934790055,
          10.183822499148901,
          9.10397188817128,
          5.81031329960105,
          9.95971762277914
         ],
         "y0": " ",
         "yaxis": "y"
        },
        {
         "alignmentgroup": "True",
         "customdata": [
          [
           "ad926"
          ],
          [
           "ad927"
          ],
          [
           "ad928"
          ],
          [
           "ad930"
          ],
          [
           "ad929"
          ],
          [
           "am485"
          ],
          [
           "am484"
          ],
          [
           "am483"
          ],
          [
           "am486"
          ],
          [
           "am487"
          ],
          [
           "am488"
          ],
          [
           "am729"
          ],
          [
           "am728"
          ],
          [
           "am727"
          ],
          [
           "am730"
          ],
          [
           "am731"
          ],
          [
           "am732"
          ]
         ],
         "hovertemplate": "day=%{x}<br>norm_count=%{y}<br>mouse=%{customdata[0]}<extra></extra>",
         "legendgroup": "d3",
         "marker": {
          "color": "#D62728"
         },
         "name": "d3",
         "notched": false,
         "offsetgroup": "d3",
         "orientation": "v",
         "showlegend": true,
         "type": "box",
         "x": [
          "d3",
          "d3",
          "d3",
          "d3",
          "d3",
          "d3",
          "d3",
          "d3",
          "d3",
          "d3",
          "d3",
          "d3",
          "d3",
          "d3",
          "d3",
          "d3",
          "d3"
         ],
         "x0": " ",
         "xaxis": "x",
         "y": [
          9.78689056718325,
          9.183642356270367,
          8.74075490223749,
          10.5694292817554,
          10.521600903013999,
          10.5325966971868,
          6.18605767201115,
          11.383329266610598,
          9.272170515839287,
          6.2711105673292895,
          9.01481850348707,
          11.0571339730931,
          11.691319957439196,
          10.149686458502801,
          8.60050452025716,
          6.18324280127513,
          5.17503934790055
         ],
         "y0": " ",
         "yaxis": "y"
        },
        {
         "alignmentgroup": "True",
         "customdata": [
          [
           "ad927"
          ],
          [
           "ad926"
          ],
          [
           "ad930"
          ],
          [
           "ad928"
          ],
          [
           "ad929"
          ],
          [
           "am487"
          ],
          [
           "am485"
          ],
          [
           "am483"
          ],
          [
           "am486"
          ],
          [
           "am488"
          ],
          [
           "am484"
          ],
          [
           "am731"
          ],
          [
           "am729"
          ],
          [
           "am730"
          ],
          [
           "am728"
          ],
          [
           "am732"
          ],
          [
           "am727"
          ]
         ],
         "hovertemplate": "day=%{x}<br>norm_count=%{y}<br>mouse=%{customdata[0]}<extra></extra>",
         "legendgroup": "d4",
         "marker": {
          "color": "#9467BD"
         },
         "name": "d4",
         "notched": false,
         "offsetgroup": "d4",
         "orientation": "v",
         "showlegend": true,
         "type": "box",
         "x": [
          "d4",
          "d4",
          "d4",
          "d4",
          "d4",
          "d4",
          "d4",
          "d4",
          "d4",
          "d4",
          "d4",
          "d4",
          "d4",
          "d4",
          "d4",
          "d4",
          "d4"
         ],
         "x0": " ",
         "xaxis": "x",
         "y": [
          8.88968911998857,
          9.44971631684428,
          10.3319575196059,
          8.629802273992869,
          11.190348734453304,
          6.901272035095558,
          10.182265080500901,
          8.89023566431742,
          8.24074701635099,
          8.75525977424237,
          5.66382144672867,
          6.16778055452121,
          11.800656915630901,
          8.29331157854569,
          12.3521280272947,
          5.17503934790055,
          10.775881789271901
         ],
         "y0": " ",
         "yaxis": "y"
        }
       ],
       "layout": {
        "annotations": [
         {
          "showarrow": false,
          "text": "Mean Inoculum Count",
          "x": 1,
          "xanchor": "right",
          "xref": "x domain",
          "y": 10.57693902273774,
          "yanchor": "bottom",
          "yref": "y"
         },
         {
          "showarrow": false,
          "text": "Detection Limit",
          "x": 1,
          "xanchor": "right",
          "xref": "x domain",
          "y": 5.2,
          "yanchor": "bottom",
          "yref": "y"
         }
        ],
        "boxmode": "overlay",
        "legend": {
         "title": {
          "text": "day"
         },
         "tracegroupgap": 0
        },
        "margin": {
         "t": 60
        },
        "shapes": [
         {
          "line": {
           "dash": "dash",
           "width": 3
          },
          "type": "line",
          "x0": 0,
          "x1": 1,
          "xref": "x domain",
          "y0": 10.57693902273774,
          "y1": 10.57693902273774,
          "yref": "y"
         },
         {
          "line": {
           "dash": "dash",
           "width": 3
          },
          "type": "line",
          "x0": 0,
          "x1": 1,
          "xref": "x domain",
          "y0": 5.2,
          "y1": 5.2,
          "yref": "y"
         }
        ],
        "template": {
         "data": {
          "bar": [
           {
            "error_x": {
             "color": "rgb(36,36,36)"
            },
            "error_y": {
             "color": "rgb(36,36,36)"
            },
            "marker": {
             "line": {
              "color": "white",
              "width": 0.5
             }
            },
            "type": "bar"
           }
          ],
          "barpolar": [
           {
            "marker": {
             "line": {
              "color": "white",
              "width": 0.5
             }
            },
            "type": "barpolar"
           }
          ],
          "carpet": [
           {
            "aaxis": {
             "endlinecolor": "rgb(36,36,36)",
             "gridcolor": "white",
             "linecolor": "white",
             "minorgridcolor": "white",
             "startlinecolor": "rgb(36,36,36)"
            },
            "baxis": {
             "endlinecolor": "rgb(36,36,36)",
             "gridcolor": "white",
             "linecolor": "white",
             "minorgridcolor": "white",
             "startlinecolor": "rgb(36,36,36)"
            },
            "type": "carpet"
           }
          ],
          "choropleth": [
           {
            "colorbar": {
             "outlinewidth": 1,
             "tickcolor": "rgb(36,36,36)",
             "ticks": "outside"
            },
            "type": "choropleth"
           }
          ],
          "contour": [
           {
            "colorbar": {
             "outlinewidth": 1,
             "tickcolor": "rgb(36,36,36)",
             "ticks": "outside"
            },
            "colorscale": [
             [
              0,
              "#440154"
             ],
             [
              0.1111111111111111,
              "#482878"
             ],
             [
              0.2222222222222222,
              "#3e4989"
             ],
             [
              0.3333333333333333,
              "#31688e"
             ],
             [
              0.4444444444444444,
              "#26828e"
             ],
             [
              0.5555555555555556,
              "#1f9e89"
             ],
             [
              0.6666666666666666,
              "#35b779"
             ],
             [
              0.7777777777777778,
              "#6ece58"
             ],
             [
              0.8888888888888888,
              "#b5de2b"
             ],
             [
              1,
              "#fde725"
             ]
            ],
            "type": "contour"
           }
          ],
          "contourcarpet": [
           {
            "colorbar": {
             "outlinewidth": 1,
             "tickcolor": "rgb(36,36,36)",
             "ticks": "outside"
            },
            "type": "contourcarpet"
           }
          ],
          "heatmap": [
           {
            "colorbar": {
             "outlinewidth": 1,
             "tickcolor": "rgb(36,36,36)",
             "ticks": "outside"
            },
            "colorscale": [
             [
              0,
              "#440154"
             ],
             [
              0.1111111111111111,
              "#482878"
             ],
             [
              0.2222222222222222,
              "#3e4989"
             ],
             [
              0.3333333333333333,
              "#31688e"
             ],
             [
              0.4444444444444444,
              "#26828e"
             ],
             [
              0.5555555555555556,
              "#1f9e89"
             ],
             [
              0.6666666666666666,
              "#35b779"
             ],
             [
              0.7777777777777778,
              "#6ece58"
             ],
             [
              0.8888888888888888,
              "#b5de2b"
             ],
             [
              1,
              "#fde725"
             ]
            ],
            "type": "heatmap"
           }
          ],
          "heatmapgl": [
           {
            "colorbar": {
             "outlinewidth": 1,
             "tickcolor": "rgb(36,36,36)",
             "ticks": "outside"
            },
            "colorscale": [
             [
              0,
              "#440154"
             ],
             [
              0.1111111111111111,
              "#482878"
             ],
             [
              0.2222222222222222,
              "#3e4989"
             ],
             [
              0.3333333333333333,
              "#31688e"
             ],
             [
              0.4444444444444444,
              "#26828e"
             ],
             [
              0.5555555555555556,
              "#1f9e89"
             ],
             [
              0.6666666666666666,
              "#35b779"
             ],
             [
              0.7777777777777778,
              "#6ece58"
             ],
             [
              0.8888888888888888,
              "#b5de2b"
             ],
             [
              1,
              "#fde725"
             ]
            ],
            "type": "heatmapgl"
           }
          ],
          "histogram": [
           {
            "marker": {
             "line": {
              "color": "white",
              "width": 0.6
             }
            },
            "type": "histogram"
           }
          ],
          "histogram2d": [
           {
            "colorbar": {
             "outlinewidth": 1,
             "tickcolor": "rgb(36,36,36)",
             "ticks": "outside"
            },
            "colorscale": [
             [
              0,
              "#440154"
             ],
             [
              0.1111111111111111,
              "#482878"
             ],
             [
              0.2222222222222222,
              "#3e4989"
             ],
             [
              0.3333333333333333,
              "#31688e"
             ],
             [
              0.4444444444444444,
              "#26828e"
             ],
             [
              0.5555555555555556,
              "#1f9e89"
             ],
             [
              0.6666666666666666,
              "#35b779"
             ],
             [
              0.7777777777777778,
              "#6ece58"
             ],
             [
              0.8888888888888888,
              "#b5de2b"
             ],
             [
              1,
              "#fde725"
             ]
            ],
            "type": "histogram2d"
           }
          ],
          "histogram2dcontour": [
           {
            "colorbar": {
             "outlinewidth": 1,
             "tickcolor": "rgb(36,36,36)",
             "ticks": "outside"
            },
            "colorscale": [
             [
              0,
              "#440154"
             ],
             [
              0.1111111111111111,
              "#482878"
             ],
             [
              0.2222222222222222,
              "#3e4989"
             ],
             [
              0.3333333333333333,
              "#31688e"
             ],
             [
              0.4444444444444444,
              "#26828e"
             ],
             [
              0.5555555555555556,
              "#1f9e89"
             ],
             [
              0.6666666666666666,
              "#35b779"
             ],
             [
              0.7777777777777778,
              "#6ece58"
             ],
             [
              0.8888888888888888,
              "#b5de2b"
             ],
             [
              1,
              "#fde725"
             ]
            ],
            "type": "histogram2dcontour"
           }
          ],
          "mesh3d": [
           {
            "colorbar": {
             "outlinewidth": 1,
             "tickcolor": "rgb(36,36,36)",
             "ticks": "outside"
            },
            "type": "mesh3d"
           }
          ],
          "parcoords": [
           {
            "line": {
             "colorbar": {
              "outlinewidth": 1,
              "tickcolor": "rgb(36,36,36)",
              "ticks": "outside"
             }
            },
            "type": "parcoords"
           }
          ],
          "pie": [
           {
            "automargin": true,
            "type": "pie"
           }
          ],
          "scatter": [
           {
            "marker": {
             "colorbar": {
              "outlinewidth": 1,
              "tickcolor": "rgb(36,36,36)",
              "ticks": "outside"
             }
            },
            "type": "scatter"
           }
          ],
          "scatter3d": [
           {
            "line": {
             "colorbar": {
              "outlinewidth": 1,
              "tickcolor": "rgb(36,36,36)",
              "ticks": "outside"
             }
            },
            "marker": {
             "colorbar": {
              "outlinewidth": 1,
              "tickcolor": "rgb(36,36,36)",
              "ticks": "outside"
             }
            },
            "type": "scatter3d"
           }
          ],
          "scattercarpet": [
           {
            "marker": {
             "colorbar": {
              "outlinewidth": 1,
              "tickcolor": "rgb(36,36,36)",
              "ticks": "outside"
             }
            },
            "type": "scattercarpet"
           }
          ],
          "scattergeo": [
           {
            "marker": {
             "colorbar": {
              "outlinewidth": 1,
              "tickcolor": "rgb(36,36,36)",
              "ticks": "outside"
             }
            },
            "type": "scattergeo"
           }
          ],
          "scattergl": [
           {
            "marker": {
             "colorbar": {
              "outlinewidth": 1,
              "tickcolor": "rgb(36,36,36)",
              "ticks": "outside"
             }
            },
            "type": "scattergl"
           }
          ],
          "scattermapbox": [
           {
            "marker": {
             "colorbar": {
              "outlinewidth": 1,
              "tickcolor": "rgb(36,36,36)",
              "ticks": "outside"
             }
            },
            "type": "scattermapbox"
           }
          ],
          "scatterpolar": [
           {
            "marker": {
             "colorbar": {
              "outlinewidth": 1,
              "tickcolor": "rgb(36,36,36)",
              "ticks": "outside"
             }
            },
            "type": "scatterpolar"
           }
          ],
          "scatterpolargl": [
           {
            "marker": {
             "colorbar": {
              "outlinewidth": 1,
              "tickcolor": "rgb(36,36,36)",
              "ticks": "outside"
             }
            },
            "type": "scatterpolargl"
           }
          ],
          "scatterternary": [
           {
            "marker": {
             "colorbar": {
              "outlinewidth": 1,
              "tickcolor": "rgb(36,36,36)",
              "ticks": "outside"
             }
            },
            "type": "scatterternary"
           }
          ],
          "surface": [
           {
            "colorbar": {
             "outlinewidth": 1,
             "tickcolor": "rgb(36,36,36)",
             "ticks": "outside"
            },
            "colorscale": [
             [
              0,
              "#440154"
             ],
             [
              0.1111111111111111,
              "#482878"
             ],
             [
              0.2222222222222222,
              "#3e4989"
             ],
             [
              0.3333333333333333,
              "#31688e"
             ],
             [
              0.4444444444444444,
              "#26828e"
             ],
             [
              0.5555555555555556,
              "#1f9e89"
             ],
             [
              0.6666666666666666,
              "#35b779"
             ],
             [
              0.7777777777777778,
              "#6ece58"
             ],
             [
              0.8888888888888888,
              "#b5de2b"
             ],
             [
              1,
              "#fde725"
             ]
            ],
            "type": "surface"
           }
          ],
          "table": [
           {
            "cells": {
             "fill": {
              "color": "rgb(237,237,237)"
             },
             "line": {
              "color": "white"
             }
            },
            "header": {
             "fill": {
              "color": "rgb(217,217,217)"
             },
             "line": {
              "color": "white"
             }
            },
            "type": "table"
           }
          ]
         },
         "layout": {
          "annotationdefaults": {
           "arrowhead": 0,
           "arrowwidth": 1
          },
          "autotypenumbers": "strict",
          "coloraxis": {
           "colorbar": {
            "outlinewidth": 1,
            "tickcolor": "rgb(36,36,36)",
            "ticks": "outside"
           }
          },
          "colorscale": {
           "diverging": [
            [
             0,
             "rgb(103,0,31)"
            ],
            [
             0.1,
             "rgb(178,24,43)"
            ],
            [
             0.2,
             "rgb(214,96,77)"
            ],
            [
             0.3,
             "rgb(244,165,130)"
            ],
            [
             0.4,
             "rgb(253,219,199)"
            ],
            [
             0.5,
             "rgb(247,247,247)"
            ],
            [
             0.6,
             "rgb(209,229,240)"
            ],
            [
             0.7,
             "rgb(146,197,222)"
            ],
            [
             0.8,
             "rgb(67,147,195)"
            ],
            [
             0.9,
             "rgb(33,102,172)"
            ],
            [
             1,
             "rgb(5,48,97)"
            ]
           ],
           "sequential": [
            [
             0,
             "#440154"
            ],
            [
             0.1111111111111111,
             "#482878"
            ],
            [
             0.2222222222222222,
             "#3e4989"
            ],
            [
             0.3333333333333333,
             "#31688e"
            ],
            [
             0.4444444444444444,
             "#26828e"
            ],
            [
             0.5555555555555556,
             "#1f9e89"
            ],
            [
             0.6666666666666666,
             "#35b779"
            ],
            [
             0.7777777777777778,
             "#6ece58"
            ],
            [
             0.8888888888888888,
             "#b5de2b"
            ],
            [
             1,
             "#fde725"
            ]
           ],
           "sequentialminus": [
            [
             0,
             "#440154"
            ],
            [
             0.1111111111111111,
             "#482878"
            ],
            [
             0.2222222222222222,
             "#3e4989"
            ],
            [
             0.3333333333333333,
             "#31688e"
            ],
            [
             0.4444444444444444,
             "#26828e"
            ],
            [
             0.5555555555555556,
             "#1f9e89"
            ],
            [
             0.6666666666666666,
             "#35b779"
            ],
            [
             0.7777777777777778,
             "#6ece58"
            ],
            [
             0.8888888888888888,
             "#b5de2b"
            ],
            [
             1,
             "#fde725"
            ]
           ]
          },
          "colorway": [
           "#1F77B4",
           "#FF7F0E",
           "#2CA02C",
           "#D62728",
           "#9467BD",
           "#8C564B",
           "#E377C2",
           "#7F7F7F",
           "#BCBD22",
           "#17BECF"
          ],
          "font": {
           "color": "rgb(36,36,36)"
          },
          "geo": {
           "bgcolor": "white",
           "lakecolor": "white",
           "landcolor": "white",
           "showlakes": true,
           "showland": true,
           "subunitcolor": "white"
          },
          "hoverlabel": {
           "align": "left"
          },
          "hovermode": "closest",
          "mapbox": {
           "style": "light"
          },
          "paper_bgcolor": "white",
          "plot_bgcolor": "white",
          "polar": {
           "angularaxis": {
            "gridcolor": "rgb(232,232,232)",
            "linecolor": "rgb(36,36,36)",
            "showgrid": false,
            "showline": true,
            "ticks": "outside"
           },
           "bgcolor": "white",
           "radialaxis": {
            "gridcolor": "rgb(232,232,232)",
            "linecolor": "rgb(36,36,36)",
            "showgrid": false,
            "showline": true,
            "ticks": "outside"
           }
          },
          "scene": {
           "xaxis": {
            "backgroundcolor": "white",
            "gridcolor": "rgb(232,232,232)",
            "gridwidth": 2,
            "linecolor": "rgb(36,36,36)",
            "showbackground": true,
            "showgrid": false,
            "showline": true,
            "ticks": "outside",
            "zeroline": false,
            "zerolinecolor": "rgb(36,36,36)"
           },
           "yaxis": {
            "backgroundcolor": "white",
            "gridcolor": "rgb(232,232,232)",
            "gridwidth": 2,
            "linecolor": "rgb(36,36,36)",
            "showbackground": true,
            "showgrid": false,
            "showline": true,
            "ticks": "outside",
            "zeroline": false,
            "zerolinecolor": "rgb(36,36,36)"
           },
           "zaxis": {
            "backgroundcolor": "white",
            "gridcolor": "rgb(232,232,232)",
            "gridwidth": 2,
            "linecolor": "rgb(36,36,36)",
            "showbackground": true,
            "showgrid": false,
            "showline": true,
            "ticks": "outside",
            "zeroline": false,
            "zerolinecolor": "rgb(36,36,36)"
           }
          },
          "shapedefaults": {
           "fillcolor": "black",
           "line": {
            "width": 0
           },
           "opacity": 0.3
          },
          "ternary": {
           "aaxis": {
            "gridcolor": "rgb(232,232,232)",
            "linecolor": "rgb(36,36,36)",
            "showgrid": false,
            "showline": true,
            "ticks": "outside"
           },
           "baxis": {
            "gridcolor": "rgb(232,232,232)",
            "linecolor": "rgb(36,36,36)",
            "showgrid": false,
            "showline": true,
            "ticks": "outside"
           },
           "bgcolor": "white",
           "caxis": {
            "gridcolor": "rgb(232,232,232)",
            "linecolor": "rgb(36,36,36)",
            "showgrid": false,
            "showline": true,
            "ticks": "outside"
           }
          },
          "title": {
           "x": 0.05
          },
          "xaxis": {
           "automargin": true,
           "gridcolor": "rgb(232,232,232)",
           "linecolor": "rgb(36,36,36)",
           "showgrid": false,
           "showline": true,
           "ticks": "outside",
           "title": {
            "standoff": 15
           },
           "zeroline": false,
           "zerolinecolor": "rgb(36,36,36)"
          },
          "yaxis": {
           "automargin": true,
           "gridcolor": "rgb(232,232,232)",
           "linecolor": "rgb(36,36,36)",
           "showgrid": false,
           "showline": true,
           "ticks": "outside",
           "title": {
            "standoff": 15
           },
           "zeroline": false,
           "zerolinecolor": "rgb(36,36,36)"
          }
         }
        },
        "xaxis": {
         "anchor": "y",
         "categoryarray": [
          "d0",
          "d1",
          "d2",
          "d3",
          "d4"
         ],
         "categoryorder": "array",
         "domain": [
          0,
          1
         ],
         "title": {
          "text": "day"
         }
        },
        "yaxis": {
         "anchor": "x",
         "domain": [
          0,
          1
         ],
         "title": {
          "text": "norm_count"
         }
        }
       }
      },
      "text/html": [
       "<div>                            <div id=\"dc518a4d-758f-4a53-8d54-d6886dc3fa0a\" class=\"plotly-graph-div\" style=\"height:525px; width:100%;\"></div>            <script type=\"text/javascript\">                require([\"plotly\"], function(Plotly) {                    window.PLOTLYENV=window.PLOTLYENV || {};                                    if (document.getElementById(\"dc518a4d-758f-4a53-8d54-d6886dc3fa0a\")) {                    Plotly.newPlot(                        \"dc518a4d-758f-4a53-8d54-d6886dc3fa0a\",                        [{\"alignmentgroup\": \"True\", \"customdata\": [[\"unenriched-inoculum\"], [\"inoculum\"], [\"inoculum\"], [\"inoculum\"], [\"inoculum\"], [\"inoculum\"]], \"hovertemplate\": \"day=%{x}<br>norm_count=%{y}<br>mouse=%{customdata[0]}<extra></extra>\", \"legendgroup\": \"d0\", \"marker\": {\"color\": \"#1F77B4\"}, \"name\": \"d0\", \"notched\": false, \"offsetgroup\": \"d0\", \"orientation\": \"v\", \"showlegend\": true, \"type\": \"box\", \"x\": [\"d0\", \"d0\", \"d0\", \"d0\", \"d0\", \"d0\"], \"x0\": \" \", \"xaxis\": \"x\", \"y\": [10.4477537558095, 10.547542550281, 10.5495908875541, 10.5010060393019, 10.6385357302817, 10.64801990627], \"y0\": \" \", \"yaxis\": \"y\"}, {\"alignmentgroup\": \"True\", \"customdata\": [[\"ad927\"], [\"ad930\"], [\"ad926\"], [\"ad928\"], [\"ad929\"], [\"am484\"], [\"am483\"], [\"am488\"], [\"am485\"], [\"am486\"], [\"am487\"], [\"am729\"], [\"am727\"], [\"am730\"], [\"am731\"], [\"am728\"], [\"am732\"]], \"hovertemplate\": \"day=%{x}<br>norm_count=%{y}<br>mouse=%{customdata[0]}<extra></extra>\", \"legendgroup\": \"d1\", \"marker\": {\"color\": \"#FF7F0E\"}, \"name\": \"d1\", \"notched\": false, \"offsetgroup\": \"d1\", \"orientation\": \"v\", \"showlegend\": true, \"type\": \"box\", \"x\": [\"d1\", \"d1\", \"d1\", \"d1\", \"d1\", \"d1\", \"d1\", \"d1\", \"d1\", \"d1\", \"d1\", \"d1\", \"d1\", \"d1\", \"d1\", \"d1\", \"d1\"], \"x0\": \" \", \"xaxis\": \"x\", \"y\": [8.690373515366991, 9.674516893045473, 9.763602265240179, 9.25845033500837, 9.612129199040801, 10.8566060398209, 11.1457019490571, 9.9855771454585, 11.380374042548802, 9.303781832665141, 8.26545272921855, 10.6348242588031, 10.8935882525652, 11.0093460268398, 6.3896114038753495, 10.8041665397865, 6.220011803909969], \"y0\": \" \", \"yaxis\": \"y\"}, {\"alignmentgroup\": \"True\", \"customdata\": [[\"ad927\"], [\"ad926\"], [\"ad928\"], [\"ad930\"], [\"am484\"], [\"am486\"], [\"am483\"], [\"am485\"], [\"am487\"], [\"am488\"], [\"am728\"], [\"am732\"], [\"am729\"], [\"am730\"], [\"am731\"], [\"am727\"]], \"hovertemplate\": \"day=%{x}<br>norm_count=%{y}<br>mouse=%{customdata[0]}<extra></extra>\", \"legendgroup\": \"d2\", \"marker\": {\"color\": \"#2CA02C\"}, \"name\": \"d2\", \"notched\": false, \"offsetgroup\": \"d2\", \"orientation\": \"v\", \"showlegend\": true, \"type\": \"box\", \"x\": [\"d2\", \"d2\", \"d2\", \"d2\", \"d2\", \"d2\", \"d2\", \"d2\", \"d2\", \"d2\", \"d2\", \"d2\", \"d2\", \"d2\", \"d2\", \"d2\"], \"x0\": \" \", \"xaxis\": \"x\", \"y\": [8.78870620168391, 9.7603621516671, 9.04563699613645, 9.87025448826744, 5.54653431161705, 8.992515822100358, 10.1746204472409, 10.0371051484326, 9.37627410539573, 9.24022935895282, 10.045206456356901, 5.17503934790055, 10.183822499148901, 9.10397188817128, 5.81031329960105, 9.95971762277914], \"y0\": \" \", \"yaxis\": \"y\"}, {\"alignmentgroup\": \"True\", \"customdata\": [[\"ad926\"], [\"ad927\"], [\"ad928\"], [\"ad930\"], [\"ad929\"], [\"am485\"], [\"am484\"], [\"am483\"], [\"am486\"], [\"am487\"], [\"am488\"], [\"am729\"], [\"am728\"], [\"am727\"], [\"am730\"], [\"am731\"], [\"am732\"]], \"hovertemplate\": \"day=%{x}<br>norm_count=%{y}<br>mouse=%{customdata[0]}<extra></extra>\", \"legendgroup\": \"d3\", \"marker\": {\"color\": \"#D62728\"}, \"name\": \"d3\", \"notched\": false, \"offsetgroup\": \"d3\", \"orientation\": \"v\", \"showlegend\": true, \"type\": \"box\", \"x\": [\"d3\", \"d3\", \"d3\", \"d3\", \"d3\", \"d3\", \"d3\", \"d3\", \"d3\", \"d3\", \"d3\", \"d3\", \"d3\", \"d3\", \"d3\", \"d3\", \"d3\"], \"x0\": \" \", \"xaxis\": \"x\", \"y\": [9.78689056718325, 9.183642356270367, 8.74075490223749, 10.5694292817554, 10.521600903013999, 10.5325966971868, 6.18605767201115, 11.383329266610598, 9.272170515839287, 6.2711105673292895, 9.01481850348707, 11.0571339730931, 11.691319957439196, 10.149686458502801, 8.60050452025716, 6.18324280127513, 5.17503934790055], \"y0\": \" \", \"yaxis\": \"y\"}, {\"alignmentgroup\": \"True\", \"customdata\": [[\"ad927\"], [\"ad926\"], [\"ad930\"], [\"ad928\"], [\"ad929\"], [\"am487\"], [\"am485\"], [\"am483\"], [\"am486\"], [\"am488\"], [\"am484\"], [\"am731\"], [\"am729\"], [\"am730\"], [\"am728\"], [\"am732\"], [\"am727\"]], \"hovertemplate\": \"day=%{x}<br>norm_count=%{y}<br>mouse=%{customdata[0]}<extra></extra>\", \"legendgroup\": \"d4\", \"marker\": {\"color\": \"#9467BD\"}, \"name\": \"d4\", \"notched\": false, \"offsetgroup\": \"d4\", \"orientation\": \"v\", \"showlegend\": true, \"type\": \"box\", \"x\": [\"d4\", \"d4\", \"d4\", \"d4\", \"d4\", \"d4\", \"d4\", \"d4\", \"d4\", \"d4\", \"d4\", \"d4\", \"d4\", \"d4\", \"d4\", \"d4\", \"d4\"], \"x0\": \" \", \"xaxis\": \"x\", \"y\": [8.88968911998857, 9.44971631684428, 10.3319575196059, 8.629802273992869, 11.190348734453304, 6.901272035095558, 10.182265080500901, 8.89023566431742, 8.24074701635099, 8.75525977424237, 5.66382144672867, 6.16778055452121, 11.800656915630901, 8.29331157854569, 12.3521280272947, 5.17503934790055, 10.775881789271901], \"y0\": \" \", \"yaxis\": \"y\"}],                        {\"annotations\": [{\"showarrow\": false, \"text\": \"Mean Inoculum Count\", \"x\": 1, \"xanchor\": \"right\", \"xref\": \"x domain\", \"y\": 10.57693902273774, \"yanchor\": \"bottom\", \"yref\": \"y\"}, {\"showarrow\": false, \"text\": \"Detection Limit\", \"x\": 1, \"xanchor\": \"right\", \"xref\": \"x domain\", \"y\": 5.2, \"yanchor\": \"bottom\", \"yref\": \"y\"}], \"boxmode\": \"overlay\", \"legend\": {\"title\": {\"text\": \"day\"}, \"tracegroupgap\": 0}, \"margin\": {\"t\": 60}, \"shapes\": [{\"line\": {\"dash\": \"dash\", \"width\": 3}, \"type\": \"line\", \"x0\": 0, \"x1\": 1, \"xref\": \"x domain\", \"y0\": 10.57693902273774, \"y1\": 10.57693902273774, \"yref\": \"y\"}, {\"line\": {\"dash\": \"dash\", \"width\": 3}, \"type\": \"line\", \"x0\": 0, \"x1\": 1, \"xref\": \"x domain\", \"y0\": 5.2, \"y1\": 5.2, \"yref\": \"y\"}], \"template\": {\"data\": {\"bar\": [{\"error_x\": {\"color\": \"rgb(36,36,36)\"}, \"error_y\": {\"color\": \"rgb(36,36,36)\"}, \"marker\": {\"line\": {\"color\": \"white\", \"width\": 0.5}}, \"type\": \"bar\"}], \"barpolar\": [{\"marker\": {\"line\": {\"color\": \"white\", \"width\": 0.5}}, \"type\": \"barpolar\"}], \"carpet\": [{\"aaxis\": {\"endlinecolor\": \"rgb(36,36,36)\", \"gridcolor\": \"white\", \"linecolor\": \"white\", \"minorgridcolor\": \"white\", \"startlinecolor\": \"rgb(36,36,36)\"}, \"baxis\": {\"endlinecolor\": \"rgb(36,36,36)\", \"gridcolor\": \"white\", \"linecolor\": \"white\", \"minorgridcolor\": \"white\", \"startlinecolor\": \"rgb(36,36,36)\"}, \"type\": \"carpet\"}], \"choropleth\": [{\"colorbar\": {\"outlinewidth\": 1, \"tickcolor\": \"rgb(36,36,36)\", \"ticks\": \"outside\"}, \"type\": \"choropleth\"}], \"contour\": [{\"colorbar\": {\"outlinewidth\": 1, \"tickcolor\": \"rgb(36,36,36)\", \"ticks\": \"outside\"}, \"colorscale\": [[0.0, \"#440154\"], [0.1111111111111111, \"#482878\"], [0.2222222222222222, \"#3e4989\"], [0.3333333333333333, \"#31688e\"], [0.4444444444444444, \"#26828e\"], [0.5555555555555556, \"#1f9e89\"], [0.6666666666666666, \"#35b779\"], [0.7777777777777778, \"#6ece58\"], [0.8888888888888888, \"#b5de2b\"], [1.0, \"#fde725\"]], \"type\": \"contour\"}], \"contourcarpet\": [{\"colorbar\": {\"outlinewidth\": 1, \"tickcolor\": \"rgb(36,36,36)\", \"ticks\": \"outside\"}, \"type\": \"contourcarpet\"}], \"heatmap\": [{\"colorbar\": {\"outlinewidth\": 1, \"tickcolor\": \"rgb(36,36,36)\", \"ticks\": \"outside\"}, \"colorscale\": [[0.0, \"#440154\"], [0.1111111111111111, \"#482878\"], [0.2222222222222222, \"#3e4989\"], [0.3333333333333333, \"#31688e\"], [0.4444444444444444, \"#26828e\"], [0.5555555555555556, \"#1f9e89\"], [0.6666666666666666, \"#35b779\"], [0.7777777777777778, \"#6ece58\"], [0.8888888888888888, \"#b5de2b\"], [1.0, \"#fde725\"]], \"type\": \"heatmap\"}], \"heatmapgl\": [{\"colorbar\": {\"outlinewidth\": 1, \"tickcolor\": \"rgb(36,36,36)\", \"ticks\": \"outside\"}, \"colorscale\": [[0.0, \"#440154\"], [0.1111111111111111, \"#482878\"], [0.2222222222222222, \"#3e4989\"], [0.3333333333333333, \"#31688e\"], [0.4444444444444444, \"#26828e\"], [0.5555555555555556, \"#1f9e89\"], [0.6666666666666666, \"#35b779\"], [0.7777777777777778, \"#6ece58\"], [0.8888888888888888, \"#b5de2b\"], [1.0, \"#fde725\"]], \"type\": \"heatmapgl\"}], \"histogram\": [{\"marker\": {\"line\": {\"color\": \"white\", \"width\": 0.6}}, \"type\": \"histogram\"}], \"histogram2d\": [{\"colorbar\": {\"outlinewidth\": 1, \"tickcolor\": \"rgb(36,36,36)\", \"ticks\": \"outside\"}, \"colorscale\": [[0.0, \"#440154\"], [0.1111111111111111, \"#482878\"], [0.2222222222222222, \"#3e4989\"], [0.3333333333333333, \"#31688e\"], [0.4444444444444444, \"#26828e\"], [0.5555555555555556, \"#1f9e89\"], [0.6666666666666666, \"#35b779\"], [0.7777777777777778, \"#6ece58\"], [0.8888888888888888, \"#b5de2b\"], [1.0, \"#fde725\"]], \"type\": \"histogram2d\"}], \"histogram2dcontour\": [{\"colorbar\": {\"outlinewidth\": 1, \"tickcolor\": \"rgb(36,36,36)\", \"ticks\": \"outside\"}, \"colorscale\": [[0.0, \"#440154\"], [0.1111111111111111, \"#482878\"], [0.2222222222222222, \"#3e4989\"], [0.3333333333333333, \"#31688e\"], [0.4444444444444444, \"#26828e\"], [0.5555555555555556, \"#1f9e89\"], [0.6666666666666666, \"#35b779\"], [0.7777777777777778, \"#6ece58\"], [0.8888888888888888, \"#b5de2b\"], [1.0, \"#fde725\"]], \"type\": \"histogram2dcontour\"}], \"mesh3d\": [{\"colorbar\": {\"outlinewidth\": 1, \"tickcolor\": \"rgb(36,36,36)\", \"ticks\": \"outside\"}, \"type\": \"mesh3d\"}], \"parcoords\": [{\"line\": {\"colorbar\": {\"outlinewidth\": 1, \"tickcolor\": \"rgb(36,36,36)\", \"ticks\": \"outside\"}}, \"type\": \"parcoords\"}], \"pie\": [{\"automargin\": true, \"type\": \"pie\"}], \"scatter\": [{\"marker\": {\"colorbar\": {\"outlinewidth\": 1, \"tickcolor\": \"rgb(36,36,36)\", \"ticks\": \"outside\"}}, \"type\": \"scatter\"}], \"scatter3d\": [{\"line\": {\"colorbar\": {\"outlinewidth\": 1, \"tickcolor\": \"rgb(36,36,36)\", \"ticks\": \"outside\"}}, \"marker\": {\"colorbar\": {\"outlinewidth\": 1, \"tickcolor\": \"rgb(36,36,36)\", \"ticks\": \"outside\"}}, \"type\": \"scatter3d\"}], \"scattercarpet\": [{\"marker\": {\"colorbar\": {\"outlinewidth\": 1, \"tickcolor\": \"rgb(36,36,36)\", \"ticks\": \"outside\"}}, \"type\": \"scattercarpet\"}], \"scattergeo\": [{\"marker\": {\"colorbar\": {\"outlinewidth\": 1, \"tickcolor\": \"rgb(36,36,36)\", \"ticks\": \"outside\"}}, \"type\": \"scattergeo\"}], \"scattergl\": [{\"marker\": {\"colorbar\": {\"outlinewidth\": 1, \"tickcolor\": \"rgb(36,36,36)\", \"ticks\": \"outside\"}}, \"type\": \"scattergl\"}], \"scattermapbox\": [{\"marker\": {\"colorbar\": {\"outlinewidth\": 1, \"tickcolor\": \"rgb(36,36,36)\", \"ticks\": \"outside\"}}, \"type\": \"scattermapbox\"}], \"scatterpolar\": [{\"marker\": {\"colorbar\": {\"outlinewidth\": 1, \"tickcolor\": \"rgb(36,36,36)\", \"ticks\": \"outside\"}}, \"type\": \"scatterpolar\"}], \"scatterpolargl\": [{\"marker\": {\"colorbar\": {\"outlinewidth\": 1, \"tickcolor\": \"rgb(36,36,36)\", \"ticks\": \"outside\"}}, \"type\": \"scatterpolargl\"}], \"scatterternary\": [{\"marker\": {\"colorbar\": {\"outlinewidth\": 1, \"tickcolor\": \"rgb(36,36,36)\", \"ticks\": \"outside\"}}, \"type\": \"scatterternary\"}], \"surface\": [{\"colorbar\": {\"outlinewidth\": 1, \"tickcolor\": \"rgb(36,36,36)\", \"ticks\": \"outside\"}, \"colorscale\": [[0.0, \"#440154\"], [0.1111111111111111, \"#482878\"], [0.2222222222222222, \"#3e4989\"], [0.3333333333333333, \"#31688e\"], [0.4444444444444444, \"#26828e\"], [0.5555555555555556, \"#1f9e89\"], [0.6666666666666666, \"#35b779\"], [0.7777777777777778, \"#6ece58\"], [0.8888888888888888, \"#b5de2b\"], [1.0, \"#fde725\"]], \"type\": \"surface\"}], \"table\": [{\"cells\": {\"fill\": {\"color\": \"rgb(237,237,237)\"}, \"line\": {\"color\": \"white\"}}, \"header\": {\"fill\": {\"color\": \"rgb(217,217,217)\"}, \"line\": {\"color\": \"white\"}}, \"type\": \"table\"}]}, \"layout\": {\"annotationdefaults\": {\"arrowhead\": 0, \"arrowwidth\": 1}, \"autotypenumbers\": \"strict\", \"coloraxis\": {\"colorbar\": {\"outlinewidth\": 1, \"tickcolor\": \"rgb(36,36,36)\", \"ticks\": \"outside\"}}, \"colorscale\": {\"diverging\": [[0.0, \"rgb(103,0,31)\"], [0.1, \"rgb(178,24,43)\"], [0.2, \"rgb(214,96,77)\"], [0.3, \"rgb(244,165,130)\"], [0.4, \"rgb(253,219,199)\"], [0.5, \"rgb(247,247,247)\"], [0.6, \"rgb(209,229,240)\"], [0.7, \"rgb(146,197,222)\"], [0.8, \"rgb(67,147,195)\"], [0.9, \"rgb(33,102,172)\"], [1.0, \"rgb(5,48,97)\"]], \"sequential\": [[0.0, \"#440154\"], [0.1111111111111111, \"#482878\"], [0.2222222222222222, \"#3e4989\"], [0.3333333333333333, \"#31688e\"], [0.4444444444444444, \"#26828e\"], [0.5555555555555556, \"#1f9e89\"], [0.6666666666666666, \"#35b779\"], [0.7777777777777778, \"#6ece58\"], [0.8888888888888888, \"#b5de2b\"], [1.0, \"#fde725\"]], \"sequentialminus\": [[0.0, \"#440154\"], [0.1111111111111111, \"#482878\"], [0.2222222222222222, \"#3e4989\"], [0.3333333333333333, \"#31688e\"], [0.4444444444444444, \"#26828e\"], [0.5555555555555556, \"#1f9e89\"], [0.6666666666666666, \"#35b779\"], [0.7777777777777778, \"#6ece58\"], [0.8888888888888888, \"#b5de2b\"], [1.0, \"#fde725\"]]}, \"colorway\": [\"#1F77B4\", \"#FF7F0E\", \"#2CA02C\", \"#D62728\", \"#9467BD\", \"#8C564B\", \"#E377C2\", \"#7F7F7F\", \"#BCBD22\", \"#17BECF\"], \"font\": {\"color\": \"rgb(36,36,36)\"}, \"geo\": {\"bgcolor\": \"white\", \"lakecolor\": \"white\", \"landcolor\": \"white\", \"showlakes\": true, \"showland\": true, \"subunitcolor\": \"white\"}, \"hoverlabel\": {\"align\": \"left\"}, \"hovermode\": \"closest\", \"mapbox\": {\"style\": \"light\"}, \"paper_bgcolor\": \"white\", \"plot_bgcolor\": \"white\", \"polar\": {\"angularaxis\": {\"gridcolor\": \"rgb(232,232,232)\", \"linecolor\": \"rgb(36,36,36)\", \"showgrid\": false, \"showline\": true, \"ticks\": \"outside\"}, \"bgcolor\": \"white\", \"radialaxis\": {\"gridcolor\": \"rgb(232,232,232)\", \"linecolor\": \"rgb(36,36,36)\", \"showgrid\": false, \"showline\": true, \"ticks\": \"outside\"}}, \"scene\": {\"xaxis\": {\"backgroundcolor\": \"white\", \"gridcolor\": \"rgb(232,232,232)\", \"gridwidth\": 2, \"linecolor\": \"rgb(36,36,36)\", \"showbackground\": true, \"showgrid\": false, \"showline\": true, \"ticks\": \"outside\", \"zeroline\": false, \"zerolinecolor\": \"rgb(36,36,36)\"}, \"yaxis\": {\"backgroundcolor\": \"white\", \"gridcolor\": \"rgb(232,232,232)\", \"gridwidth\": 2, \"linecolor\": \"rgb(36,36,36)\", \"showbackground\": true, \"showgrid\": false, \"showline\": true, \"ticks\": \"outside\", \"zeroline\": false, \"zerolinecolor\": \"rgb(36,36,36)\"}, \"zaxis\": {\"backgroundcolor\": \"white\", \"gridcolor\": \"rgb(232,232,232)\", \"gridwidth\": 2, \"linecolor\": \"rgb(36,36,36)\", \"showbackground\": true, \"showgrid\": false, \"showline\": true, \"ticks\": \"outside\", \"zeroline\": false, \"zerolinecolor\": \"rgb(36,36,36)\"}}, \"shapedefaults\": {\"fillcolor\": \"black\", \"line\": {\"width\": 0}, \"opacity\": 0.3}, \"ternary\": {\"aaxis\": {\"gridcolor\": \"rgb(232,232,232)\", \"linecolor\": \"rgb(36,36,36)\", \"showgrid\": false, \"showline\": true, \"ticks\": \"outside\"}, \"baxis\": {\"gridcolor\": \"rgb(232,232,232)\", \"linecolor\": \"rgb(36,36,36)\", \"showgrid\": false, \"showline\": true, \"ticks\": \"outside\"}, \"bgcolor\": \"white\", \"caxis\": {\"gridcolor\": \"rgb(232,232,232)\", \"linecolor\": \"rgb(36,36,36)\", \"showgrid\": false, \"showline\": true, \"ticks\": \"outside\"}}, \"title\": {\"x\": 0.05}, \"xaxis\": {\"automargin\": true, \"gridcolor\": \"rgb(232,232,232)\", \"linecolor\": \"rgb(36,36,36)\", \"showgrid\": false, \"showline\": true, \"ticks\": \"outside\", \"title\": {\"standoff\": 15}, \"zeroline\": false, \"zerolinecolor\": \"rgb(36,36,36)\"}, \"yaxis\": {\"automargin\": true, \"gridcolor\": \"rgb(232,232,232)\", \"linecolor\": \"rgb(36,36,36)\", \"showgrid\": false, \"showline\": true, \"ticks\": \"outside\", \"title\": {\"standoff\": 15}, \"zeroline\": false, \"zerolinecolor\": \"rgb(36,36,36)\"}}}, \"xaxis\": {\"anchor\": \"y\", \"categoryarray\": [\"d0\", \"d1\", \"d2\", \"d3\", \"d4\"], \"categoryorder\": \"array\", \"domain\": [0.0, 1.0], \"title\": {\"text\": \"day\"}}, \"yaxis\": {\"anchor\": \"x\", \"domain\": [0.0, 1.0], \"title\": {\"text\": \"norm_count\"}}},                        {\"responsive\": true}                    ).then(function(){\n",
       "                            \n",
       "var gd = document.getElementById('dc518a4d-758f-4a53-8d54-d6886dc3fa0a');\n",
       "var x = new MutationObserver(function (mutations, observer) {{\n",
       "        var display = window.getComputedStyle(gd).display;\n",
       "        if (!display || display === 'none') {{\n",
       "            console.log([gd, 'removed!']);\n",
       "            Plotly.purge(gd);\n",
       "            observer.disconnect();\n",
       "        }}\n",
       "}});\n",
       "\n",
       "// Listen for the removal of the full notebook cells\n",
       "var notebookContainer = gd.closest('#notebook-container');\n",
       "if (notebookContainer) {{\n",
       "    x.observe(notebookContainer, {childList: true});\n",
       "}}\n",
       "\n",
       "// Listen for the clearing of the current output cell\n",
       "var outputEl = gd.closest('.output');\n",
       "if (outputEl) {{\n",
       "    x.observe(outputEl, {childList: true});\n",
       "}}\n",
       "\n",
       "                        })                };                });            </script>        </div>"
      ]
     },
     "metadata": {},
     "output_type": "display_data"
    }
   ],
   "source": [
    "vst_gene_cnts = pd.read_csv(\"/Users/ansintsova/git_repos/avocado/data/vst_gene_counts.csv\")\n",
    "\n",
    "gene = 'gntK'\n",
    "test = vst_gene_cnts[(vst_gene_cnts.ShortName == gene)]\n",
    "test['dayN'] = test.day.replace({'d1':1, 'd2':2, 'd3':3, 'd4':4})\n",
    "test_inoculum = vst_gene_cnts[(vst_gene_cnts.ShortName == gene)& (vst_gene_cnts.mouse == 'inoculum')]\n",
    "fig = px.box(test, x='day', y=\"norm_count\", color='day',\n",
    "         hover_data=['mouse'],\n",
    "             template='simple_white'\n",
    "             )\n",
    "fig.add_hline(y=test_inoculum.norm_count.mean(), line_width=3, line_dash=\"dash\", annotation_text=\"Mean Inoculum Count\")\n",
    "fig.add_hline(y=5.2, line_width=3, line_dash=\"dash\", annotation_text=\"Detection Limit\")\n",
    "fig"
   ]
  },
  {
   "cell_type": "code",
   "execution_count": 151,
   "id": "chicken-firewall",
   "metadata": {},
   "outputs": [
    {
     "data": {
      "text/html": [
       "<div>\n",
       "<style scoped>\n",
       "    .dataframe tbody tr th:only-of-type {\n",
       "        vertical-align: middle;\n",
       "    }\n",
       "\n",
       "    .dataframe tbody tr th {\n",
       "        vertical-align: top;\n",
       "    }\n",
       "\n",
       "    .dataframe thead th {\n",
       "        text-align: right;\n",
       "    }\n",
       "</style>\n",
       "<table border=\"1\" class=\"dataframe\">\n",
       "  <thead>\n",
       "    <tr style=\"text-align: right;\">\n",
       "      <th></th>\n",
       "      <th>day</th>\n",
       "      <th>Fitness</th>\n",
       "    </tr>\n",
       "  </thead>\n",
       "  <tbody>\n",
       "    <tr>\n",
       "      <th>0</th>\n",
       "      <td>d1</td>\n",
       "      <td>0.579140</td>\n",
       "    </tr>\n",
       "    <tr>\n",
       "      <th>1</th>\n",
       "      <td>d2</td>\n",
       "      <td>0.390614</td>\n",
       "    </tr>\n",
       "    <tr>\n",
       "      <th>2</th>\n",
       "      <td>d3</td>\n",
       "      <td>0.521920</td>\n",
       "    </tr>\n",
       "    <tr>\n",
       "      <th>3</th>\n",
       "      <td>d4</td>\n",
       "      <td>0.323290</td>\n",
       "    </tr>\n",
       "  </tbody>\n",
       "</table>\n",
       "</div>"
      ],
      "text/plain": [
       "  day   Fitness\n",
       "0  d1  0.579140\n",
       "1  d2  0.390614\n",
       "2  d3  0.521920\n",
       "3  d4  0.323290"
      ]
     },
     "execution_count": 151,
     "metadata": {},
     "output_type": "execute_result"
    }
   ],
   "source": [
    "\n",
    "test"
   ]
  },
  {
   "cell_type": "code",
   "execution_count": 172,
   "id": "wanted-volunteer",
   "metadata": {},
   "outputs": [
    {
     "data": {
      "text/plain": [
       "Index(['SL1344_0342', 'SL1344_1189', 'SL1344_1469', 'SL1344_1560',\n",
       "       'SL1344_1563', 'SL1344_1565', 'SL1344_2109', 'SL1344_2673',\n",
       "       'SL1344_2698', 'SL1344_2710', 'SL1344_2752', 'SL1344_3057',\n",
       "       'SL1344_3227', 'SL1344_3598', 'SL1344_3655', 'SL1344_3740',\n",
       "       'SL1344_3745', 'SL1344_3751', 'SL1344_4014', 'SL1344_4052',\n",
       "       'SL1344_4053', 'SL1344_4146', 'SL1344_4247', 'SL1344_4364',\n",
       "       'SL1344_4433', 'SL1344_4453', 'SL1344_4523A', 'SL1344_RS24125',\n",
       "       'SL1344_RS24445', 'SL1344_RS24650', 'SL1344_RS24675', 'SL1344_RS26430',\n",
       "       'SL1344_RS27460', 'acrE', 'ampH', 'ccmF2', 'csgF', 'dbh', 'dpaL', 'ego',\n",
       "       'idnK', 'ilvI', 'leuA', 'lpfC', 'mglA', 'mig-14', 'mobB', 'pilL',\n",
       "       'pipB2', 'siiA', 'sprB', 'spvD', 'stcD', 'stfC', 'tnp', 'traY', 'uxaC',\n",
       "       'virK', 'ybfM', 'yddX', 'ydiV', 'yeaJ', 'yeaS', 'yeeN', 'yeeX', 'yigN',\n",
       "       'yijF', 'yjgN', 'yneA', 'ypfG'],\n",
       "      dtype='object')"
      ]
     },
     "execution_count": 172,
     "metadata": {},
     "output_type": "execute_result"
    }
   ],
   "source": [
    "ph = df2[(df2.x>-30)&(df2.y<40)&(df2.x<-20)&(df2.y>20)].index\n",
    "ph"
   ]
  },
  {
   "cell_type": "code",
   "execution_count": 173,
   "id": "widespread-explanation",
   "metadata": {},
   "outputs": [],
   "source": [
    "test = gene_fitness_annotated[gene_fitness_annotated.ShortName.isin(list(ph))].groupby(['ShortName', 'day']).Fitness.median().reset_index()\n"
   ]
  },
  {
   "cell_type": "code",
   "execution_count": 169,
   "id": "sitting-hindu",
   "metadata": {},
   "outputs": [
    {
     "data": {
      "text/html": [
       "<div>\n",
       "<style scoped>\n",
       "    .dataframe tbody tr th:only-of-type {\n",
       "        vertical-align: middle;\n",
       "    }\n",
       "\n",
       "    .dataframe tbody tr th {\n",
       "        vertical-align: top;\n",
       "    }\n",
       "\n",
       "    .dataframe thead th {\n",
       "        text-align: right;\n",
       "    }\n",
       "</style>\n",
       "<table border=\"1\" class=\"dataframe\">\n",
       "  <thead>\n",
       "    <tr style=\"text-align: right;\">\n",
       "      <th></th>\n",
       "      <th>ShortName</th>\n",
       "      <th>day</th>\n",
       "      <th>Fitness</th>\n",
       "    </tr>\n",
       "  </thead>\n",
       "  <tbody>\n",
       "    <tr>\n",
       "      <th>0</th>\n",
       "      <td>AAAGAGGTCACGAGCTG</td>\n",
       "      <td>d1</td>\n",
       "      <td>1.197874</td>\n",
       "    </tr>\n",
       "    <tr>\n",
       "      <th>1</th>\n",
       "      <td>AAAGAGGTCACGAGCTG</td>\n",
       "      <td>d2</td>\n",
       "      <td>1.089207</td>\n",
       "    </tr>\n",
       "    <tr>\n",
       "      <th>2</th>\n",
       "      <td>AAAGAGGTCACGAGCTG</td>\n",
       "      <td>d3</td>\n",
       "      <td>0.828976</td>\n",
       "    </tr>\n",
       "    <tr>\n",
       "      <th>3</th>\n",
       "      <td>AAAGAGGTCACGAGCTG</td>\n",
       "      <td>d4</td>\n",
       "      <td>1.075707</td>\n",
       "    </tr>\n",
       "    <tr>\n",
       "      <th>4</th>\n",
       "      <td>AAGAAAGAGTGATTGTG</td>\n",
       "      <td>d1</td>\n",
       "      <td>0.798558</td>\n",
       "    </tr>\n",
       "    <tr>\n",
       "      <th>...</th>\n",
       "      <td>...</td>\n",
       "      <td>...</td>\n",
       "      <td>...</td>\n",
       "    </tr>\n",
       "    <tr>\n",
       "      <th>303</th>\n",
       "      <td>yihG</td>\n",
       "      <td>d4</td>\n",
       "      <td>1.805418</td>\n",
       "    </tr>\n",
       "    <tr>\n",
       "      <th>304</th>\n",
       "      <td>yqjK</td>\n",
       "      <td>d1</td>\n",
       "      <td>0.988686</td>\n",
       "    </tr>\n",
       "    <tr>\n",
       "      <th>305</th>\n",
       "      <td>yqjK</td>\n",
       "      <td>d2</td>\n",
       "      <td>0.793141</td>\n",
       "    </tr>\n",
       "    <tr>\n",
       "      <th>306</th>\n",
       "      <td>yqjK</td>\n",
       "      <td>d3</td>\n",
       "      <td>1.035284</td>\n",
       "    </tr>\n",
       "    <tr>\n",
       "      <th>307</th>\n",
       "      <td>yqjK</td>\n",
       "      <td>d4</td>\n",
       "      <td>0.915791</td>\n",
       "    </tr>\n",
       "  </tbody>\n",
       "</table>\n",
       "<p>308 rows × 3 columns</p>\n",
       "</div>"
      ],
      "text/plain": [
       "             ShortName day   Fitness\n",
       "0    AAAGAGGTCACGAGCTG  d1  1.197874\n",
       "1    AAAGAGGTCACGAGCTG  d2  1.089207\n",
       "2    AAAGAGGTCACGAGCTG  d3  0.828976\n",
       "3    AAAGAGGTCACGAGCTG  d4  1.075707\n",
       "4    AAGAAAGAGTGATTGTG  d1  0.798558\n",
       "..                 ...  ..       ...\n",
       "303               yihG  d4  1.805418\n",
       "304               yqjK  d1  0.988686\n",
       "305               yqjK  d2  0.793141\n",
       "306               yqjK  d3  1.035284\n",
       "307               yqjK  d4  0.915791\n",
       "\n",
       "[308 rows x 3 columns]"
      ]
     },
     "execution_count": 169,
     "metadata": {},
     "output_type": "execute_result"
    }
   ],
   "source": [
    "test"
   ]
  },
  {
   "cell_type": "code",
   "execution_count": 199,
   "id": "ready-buddy",
   "metadata": {},
   "outputs": [
    {
     "ename": "ValueError",
     "evalue": "Value of 'y' is not the name of a column in 'data_frame'. Expected one of ['Unnamed: 0', 'ShortName', 'SampleID', 'norm_count', 'mouse', 'day', 'dnaid', 'experiment', 'dayN'] but received: Fitness",
     "output_type": "error",
     "traceback": [
      "\u001b[0;31m---------------------------------------------------------------------------\u001b[0m",
      "\u001b[0;31mValueError\u001b[0m                                Traceback (most recent call last)",
      "\u001b[0;32m<ipython-input-199-db54d2ad67e6>\u001b[0m in \u001b[0;36m<module>\u001b[0;34m\u001b[0m\n\u001b[1;32m      6\u001b[0m fig = px.line(test, x='day', y=\"Fitness\", \n\u001b[1;32m      7\u001b[0m \u001b[0;34m\u001b[0m\u001b[0m\n\u001b[0;32m----> 8\u001b[0;31m              \u001b[0mtemplate\u001b[0m\u001b[0;34m=\u001b[0m\u001b[0;34m'simple_white'\u001b[0m\u001b[0;34m,\u001b[0m \u001b[0mlog_y\u001b[0m\u001b[0;34m=\u001b[0m\u001b[0;32mTrue\u001b[0m\u001b[0;34m,\u001b[0m\u001b[0;34m\u001b[0m\u001b[0m\n\u001b[0m\u001b[1;32m      9\u001b[0m              )\n\u001b[1;32m     10\u001b[0m \u001b[0mfig\u001b[0m\u001b[0;34m.\u001b[0m\u001b[0madd_hline\u001b[0m\u001b[0;34m(\u001b[0m\u001b[0my\u001b[0m\u001b[0;34m=\u001b[0m\u001b[0;36m1\u001b[0m\u001b[0;34m,\u001b[0m \u001b[0mline_width\u001b[0m\u001b[0;34m=\u001b[0m\u001b[0;36m3\u001b[0m\u001b[0;34m,\u001b[0m \u001b[0mline_dash\u001b[0m\u001b[0;34m=\u001b[0m\u001b[0;34m\"dash\"\u001b[0m\u001b[0;34m,\u001b[0m \u001b[0mannotation_text\u001b[0m\u001b[0;34m=\u001b[0m\u001b[0;34m\"Fitness\"\u001b[0m\u001b[0;34m)\u001b[0m\u001b[0;34m\u001b[0m\u001b[0m\n",
      "\u001b[0;32m~/opt/miniconda3/envs/mi/lib/python3.6/site-packages/plotly/express/_chart_types.py\u001b[0m in \u001b[0;36mline\u001b[0;34m(data_frame, x, y, line_group, color, line_dash, hover_name, hover_data, custom_data, text, facet_row, facet_col, facet_col_wrap, facet_row_spacing, facet_col_spacing, error_x, error_x_minus, error_y, error_y_minus, animation_frame, animation_group, category_orders, labels, orientation, color_discrete_sequence, color_discrete_map, line_dash_sequence, line_dash_map, log_x, log_y, range_x, range_y, line_shape, render_mode, title, template, width, height)\u001b[0m\n\u001b[1;32m    250\u001b[0m     \u001b[0ma\u001b[0m \u001b[0mpolyline\u001b[0m \u001b[0mmark\u001b[0m \u001b[0;32min\u001b[0m \u001b[0;36m2\u001b[0m\u001b[0mD\u001b[0m \u001b[0mspace\u001b[0m\u001b[0;34m.\u001b[0m\u001b[0;34m\u001b[0m\u001b[0m\n\u001b[1;32m    251\u001b[0m     \"\"\"\n\u001b[0;32m--> 252\u001b[0;31m     \u001b[0;32mreturn\u001b[0m \u001b[0mmake_figure\u001b[0m\u001b[0;34m(\u001b[0m\u001b[0margs\u001b[0m\u001b[0;34m=\u001b[0m\u001b[0mlocals\u001b[0m\u001b[0;34m(\u001b[0m\u001b[0;34m)\u001b[0m\u001b[0;34m,\u001b[0m \u001b[0mconstructor\u001b[0m\u001b[0;34m=\u001b[0m\u001b[0mgo\u001b[0m\u001b[0;34m.\u001b[0m\u001b[0mScatter\u001b[0m\u001b[0;34m)\u001b[0m\u001b[0;34m\u001b[0m\u001b[0m\n\u001b[0m\u001b[1;32m    253\u001b[0m \u001b[0;34m\u001b[0m\u001b[0m\n\u001b[1;32m    254\u001b[0m \u001b[0;34m\u001b[0m\u001b[0m\n",
      "\u001b[0;32m~/opt/miniconda3/envs/mi/lib/python3.6/site-packages/plotly/express/_core.py\u001b[0m in \u001b[0;36mmake_figure\u001b[0;34m(args, constructor, trace_patch, layout_patch)\u001b[0m\n\u001b[1;32m   1859\u001b[0m     \u001b[0mapply_default_cascade\u001b[0m\u001b[0;34m(\u001b[0m\u001b[0margs\u001b[0m\u001b[0;34m)\u001b[0m\u001b[0;34m\u001b[0m\u001b[0m\n\u001b[1;32m   1860\u001b[0m \u001b[0;34m\u001b[0m\u001b[0m\n\u001b[0;32m-> 1861\u001b[0;31m     \u001b[0margs\u001b[0m \u001b[0;34m=\u001b[0m \u001b[0mbuild_dataframe\u001b[0m\u001b[0;34m(\u001b[0m\u001b[0margs\u001b[0m\u001b[0;34m,\u001b[0m \u001b[0mconstructor\u001b[0m\u001b[0;34m)\u001b[0m\u001b[0;34m\u001b[0m\u001b[0m\n\u001b[0m\u001b[1;32m   1862\u001b[0m     \u001b[0;32mif\u001b[0m \u001b[0mconstructor\u001b[0m \u001b[0;32min\u001b[0m \u001b[0;34m[\u001b[0m\u001b[0mgo\u001b[0m\u001b[0;34m.\u001b[0m\u001b[0mTreemap\u001b[0m\u001b[0;34m,\u001b[0m \u001b[0mgo\u001b[0m\u001b[0;34m.\u001b[0m\u001b[0mSunburst\u001b[0m\u001b[0;34m]\u001b[0m \u001b[0;32mand\u001b[0m \u001b[0margs\u001b[0m\u001b[0;34m[\u001b[0m\u001b[0;34m\"path\"\u001b[0m\u001b[0;34m]\u001b[0m \u001b[0;32mis\u001b[0m \u001b[0;32mnot\u001b[0m \u001b[0;32mNone\u001b[0m\u001b[0;34m:\u001b[0m\u001b[0;34m\u001b[0m\u001b[0m\n\u001b[1;32m   1863\u001b[0m         \u001b[0margs\u001b[0m \u001b[0;34m=\u001b[0m \u001b[0mprocess_dataframe_hierarchy\u001b[0m\u001b[0;34m(\u001b[0m\u001b[0margs\u001b[0m\u001b[0;34m)\u001b[0m\u001b[0;34m\u001b[0m\u001b[0m\n",
      "\u001b[0;32m~/opt/miniconda3/envs/mi/lib/python3.6/site-packages/plotly/express/_core.py\u001b[0m in \u001b[0;36mbuild_dataframe\u001b[0;34m(args, constructor)\u001b[0m\n\u001b[1;32m   1376\u001b[0m \u001b[0;34m\u001b[0m\u001b[0m\n\u001b[1;32m   1377\u001b[0m     df_output, wide_id_vars = process_args_into_dataframe(\n\u001b[0;32m-> 1378\u001b[0;31m         \u001b[0margs\u001b[0m\u001b[0;34m,\u001b[0m \u001b[0mwide_mode\u001b[0m\u001b[0;34m,\u001b[0m \u001b[0mvar_name\u001b[0m\u001b[0;34m,\u001b[0m \u001b[0mvalue_name\u001b[0m\u001b[0;34m\u001b[0m\u001b[0m\n\u001b[0m\u001b[1;32m   1379\u001b[0m     )\n\u001b[1;32m   1380\u001b[0m \u001b[0;34m\u001b[0m\u001b[0m\n",
      "\u001b[0;32m~/opt/miniconda3/envs/mi/lib/python3.6/site-packages/plotly/express/_core.py\u001b[0m in \u001b[0;36mprocess_args_into_dataframe\u001b[0;34m(args, wide_mode, var_name, value_name)\u001b[0m\n\u001b[1;32m   1181\u001b[0m                         \u001b[0;32mif\u001b[0m \u001b[0margument\u001b[0m \u001b[0;34m==\u001b[0m \u001b[0;34m\"index\"\u001b[0m\u001b[0;34m:\u001b[0m\u001b[0;34m\u001b[0m\u001b[0m\n\u001b[1;32m   1182\u001b[0m                             \u001b[0merr_msg\u001b[0m \u001b[0;34m+=\u001b[0m \u001b[0;34m\"\\n To use the index, pass it in directly as `df.index`.\"\u001b[0m\u001b[0;34m\u001b[0m\u001b[0m\n\u001b[0;32m-> 1183\u001b[0;31m                         \u001b[0;32mraise\u001b[0m \u001b[0mValueError\u001b[0m\u001b[0;34m(\u001b[0m\u001b[0merr_msg\u001b[0m\u001b[0;34m)\u001b[0m\u001b[0;34m\u001b[0m\u001b[0m\n\u001b[0m\u001b[1;32m   1184\u001b[0m                 \u001b[0;32melif\u001b[0m \u001b[0mlength\u001b[0m \u001b[0;32mand\u001b[0m \u001b[0mlen\u001b[0m\u001b[0;34m(\u001b[0m\u001b[0mdf_input\u001b[0m\u001b[0;34m[\u001b[0m\u001b[0margument\u001b[0m\u001b[0;34m]\u001b[0m\u001b[0;34m)\u001b[0m \u001b[0;34m!=\u001b[0m \u001b[0mlength\u001b[0m\u001b[0;34m:\u001b[0m\u001b[0;34m\u001b[0m\u001b[0m\n\u001b[1;32m   1185\u001b[0m                     raise ValueError(\n",
      "\u001b[0;31mValueError\u001b[0m: Value of 'y' is not the name of a column in 'data_frame'. Expected one of ['Unnamed: 0', 'ShortName', 'SampleID', 'norm_count', 'mouse', 'day', 'dnaid', 'experiment', 'dayN'] but received: Fitness"
     ]
    }
   ],
   "source": [
    "gene_fitness_annotated = pd.read_csv(\"/Users/ansintsova/git_repos/avocado/data/gene_fitness_annotated.csv\")\n",
    "gene = 'mig-14'\n",
    "#test = gene_fitness_annotated[gene_fitness_annotated.ShortName.isin(list(ph))].groupby('day').Fitness.median().reset_index()\n",
    "#test = gene_fitness_annotated[gene_fitness_annotated.ShortName == gene]\n",
    "#test['dayN'] = test.day.replace({'d1':1, 'd2':2, 'd3':3, 'd4':4})\n",
    "fig = px.line(test, x='day', y=\"Fitness\", \n",
    "         \n",
    "             template='simple_white', log_y=True, \n",
    "             )\n",
    "fig.add_hline(y=1, line_width=3, line_dash=\"dash\", annotation_text=\"Fitness\")\n",
    "fig.update_traces(mode='markers+lines')\n",
    "fig.update_yaxes(tickvals=[0.01, 0.1, 0.5,1,2, 10, 100])"
   ]
  },
  {
   "cell_type": "code",
   "execution_count": 203,
   "id": "adapted-reservation",
   "metadata": {},
   "outputs": [],
   "source": [
    "df = gene_fitness_annotated.pivot(index='ShortName', columns=['sampleID'], values=['Fitness'])"
   ]
  },
  {
   "cell_type": "code",
   "execution_count": 204,
   "id": "interesting-progressive",
   "metadata": {},
   "outputs": [
    {
     "data": {
      "text/html": [
       "<div>\n",
       "<style scoped>\n",
       "    .dataframe tbody tr th:only-of-type {\n",
       "        vertical-align: middle;\n",
       "    }\n",
       "\n",
       "    .dataframe tbody tr th {\n",
       "        vertical-align: top;\n",
       "    }\n",
       "\n",
       "    .dataframe thead tr th {\n",
       "        text-align: left;\n",
       "    }\n",
       "\n",
       "    .dataframe thead tr:last-of-type th {\n",
       "        text-align: right;\n",
       "    }\n",
       "</style>\n",
       "<table border=\"1\" class=\"dataframe\">\n",
       "  <thead>\n",
       "    <tr>\n",
       "      <th></th>\n",
       "      <th colspan=\"21\" halign=\"left\">Fitness</th>\n",
       "    </tr>\n",
       "    <tr>\n",
       "      <th>sampleID</th>\n",
       "      <th>ad926_d1_dnaid2017_TV4592A</th>\n",
       "      <th>ad926_d2_dnaid2017_TV4592A</th>\n",
       "      <th>ad926_d3_dnaid2018_TV4592A</th>\n",
       "      <th>ad926_d4_dnaid2018_TV4592A</th>\n",
       "      <th>ad927_d1_dnaid2017_TV4592A</th>\n",
       "      <th>ad927_d2_dnaid2017_TV4592A</th>\n",
       "      <th>ad927_d3_dnaid2018_TV4592A</th>\n",
       "      <th>ad927_d4_dnaid2018_TV4592A</th>\n",
       "      <th>ad928_d1_dnaid2017_TV4592A</th>\n",
       "      <th>ad928_d2_dnaid2017_TV4592A</th>\n",
       "      <th>...</th>\n",
       "      <th>am729_d3_dnaid2029_TV5585A</th>\n",
       "      <th>am730_d1_dnaid2028_TV5585A</th>\n",
       "      <th>am730_d2_dnaid2028_TV5585A</th>\n",
       "      <th>am730_d3_dnaid2029_TV5585A</th>\n",
       "      <th>am731_d1_dnaid2028_TV5585A</th>\n",
       "      <th>am731_d2_dnaid2028_TV5585A</th>\n",
       "      <th>am732_d1_dnaid2028_TV5585A</th>\n",
       "      <th>am732_d2_dnaid2028_TV5585A</th>\n",
       "      <th>am732_d3_dnaid2029_TV5585A</th>\n",
       "      <th>am732_d4_dnaid2029_TV5585A</th>\n",
       "    </tr>\n",
       "    <tr>\n",
       "      <th>ShortName</th>\n",
       "      <th></th>\n",
       "      <th></th>\n",
       "      <th></th>\n",
       "      <th></th>\n",
       "      <th></th>\n",
       "      <th></th>\n",
       "      <th></th>\n",
       "      <th></th>\n",
       "      <th></th>\n",
       "      <th></th>\n",
       "      <th></th>\n",
       "      <th></th>\n",
       "      <th></th>\n",
       "      <th></th>\n",
       "      <th></th>\n",
       "      <th></th>\n",
       "      <th></th>\n",
       "      <th></th>\n",
       "      <th></th>\n",
       "      <th></th>\n",
       "      <th></th>\n",
       "    </tr>\n",
       "  </thead>\n",
       "  <tbody>\n",
       "    <tr>\n",
       "      <th>AAAAACATGCCACACTG</th>\n",
       "      <td>1.119034</td>\n",
       "      <td>1.094435</td>\n",
       "      <td>1.189286</td>\n",
       "      <td>1.435143</td>\n",
       "      <td>0.268403</td>\n",
       "      <td>0.254559</td>\n",
       "      <td>0.346706</td>\n",
       "      <td>0.336408</td>\n",
       "      <td>0.800264</td>\n",
       "      <td>0.945766</td>\n",
       "      <td>...</td>\n",
       "      <td>0.618247</td>\n",
       "      <td>0.153358</td>\n",
       "      <td>0.091108</td>\n",
       "      <td>0.087467</td>\n",
       "      <td>1.652140</td>\n",
       "      <td>1.127133</td>\n",
       "      <td>13.001552</td>\n",
       "      <td>1.512017</td>\n",
       "      <td>1.374345</td>\n",
       "      <td>1.886909</td>\n",
       "    </tr>\n",
       "    <tr>\n",
       "      <th>AAAACGCAGCGCTTGCC</th>\n",
       "      <td>1.898760</td>\n",
       "      <td>1.812084</td>\n",
       "      <td>0.804508</td>\n",
       "      <td>0.804508</td>\n",
       "      <td>1.316736</td>\n",
       "      <td>1.585783</td>\n",
       "      <td>0.804508</td>\n",
       "      <td>0.804508</td>\n",
       "      <td>1.602933</td>\n",
       "      <td>2.071583</td>\n",
       "      <td>...</td>\n",
       "      <td>0.804508</td>\n",
       "      <td>0.804508</td>\n",
       "      <td>0.804508</td>\n",
       "      <td>0.804508</td>\n",
       "      <td>0.804508</td>\n",
       "      <td>0.804508</td>\n",
       "      <td>0.804508</td>\n",
       "      <td>0.804508</td>\n",
       "      <td>0.804508</td>\n",
       "      <td>0.804508</td>\n",
       "    </tr>\n",
       "    <tr>\n",
       "      <th>AAAACTTCATGTACAGA</th>\n",
       "      <td>0.938151</td>\n",
       "      <td>1.038236</td>\n",
       "      <td>0.882291</td>\n",
       "      <td>0.920560</td>\n",
       "      <td>0.133599</td>\n",
       "      <td>0.147326</td>\n",
       "      <td>0.155943</td>\n",
       "      <td>0.150899</td>\n",
       "      <td>1.290833</td>\n",
       "      <td>1.275135</td>\n",
       "      <td>...</td>\n",
       "      <td>0.588853</td>\n",
       "      <td>10.569764</td>\n",
       "      <td>8.725209</td>\n",
       "      <td>8.225906</td>\n",
       "      <td>0.598211</td>\n",
       "      <td>0.376912</td>\n",
       "      <td>4.406939</td>\n",
       "      <td>2.542410</td>\n",
       "      <td>2.105606</td>\n",
       "      <td>10.620136</td>\n",
       "    </tr>\n",
       "    <tr>\n",
       "      <th>AAAATTCTTTCTCCCCG</th>\n",
       "      <td>1.000000</td>\n",
       "      <td>1.000000</td>\n",
       "      <td>1.000000</td>\n",
       "      <td>1.000000</td>\n",
       "      <td>1.000000</td>\n",
       "      <td>1.185399</td>\n",
       "      <td>1.000000</td>\n",
       "      <td>1.000000</td>\n",
       "      <td>1.198761</td>\n",
       "      <td>1.457827</td>\n",
       "      <td>...</td>\n",
       "      <td>1.000000</td>\n",
       "      <td>1.000000</td>\n",
       "      <td>1.000000</td>\n",
       "      <td>1.000000</td>\n",
       "      <td>1.000000</td>\n",
       "      <td>1.000000</td>\n",
       "      <td>1.000000</td>\n",
       "      <td>1.000000</td>\n",
       "      <td>1.000000</td>\n",
       "      <td>1.000000</td>\n",
       "    </tr>\n",
       "    <tr>\n",
       "      <th>AAACAATAGGGGGGTAG</th>\n",
       "      <td>1.007408</td>\n",
       "      <td>0.813069</td>\n",
       "      <td>0.973590</td>\n",
       "      <td>1.122421</td>\n",
       "      <td>0.995898</td>\n",
       "      <td>1.090835</td>\n",
       "      <td>1.096420</td>\n",
       "      <td>1.212548</td>\n",
       "      <td>1.015054</td>\n",
       "      <td>0.813069</td>\n",
       "      <td>...</td>\n",
       "      <td>1.141852</td>\n",
       "      <td>0.813069</td>\n",
       "      <td>0.813069</td>\n",
       "      <td>0.813069</td>\n",
       "      <td>1.099298</td>\n",
       "      <td>0.813069</td>\n",
       "      <td>0.813069</td>\n",
       "      <td>1.279278</td>\n",
       "      <td>1.462745</td>\n",
       "      <td>1.828157</td>\n",
       "    </tr>\n",
       "    <tr>\n",
       "      <th>...</th>\n",
       "      <td>...</td>\n",
       "      <td>...</td>\n",
       "      <td>...</td>\n",
       "      <td>...</td>\n",
       "      <td>...</td>\n",
       "      <td>...</td>\n",
       "      <td>...</td>\n",
       "      <td>...</td>\n",
       "      <td>...</td>\n",
       "      <td>...</td>\n",
       "      <td>...</td>\n",
       "      <td>...</td>\n",
       "      <td>...</td>\n",
       "      <td>...</td>\n",
       "      <td>...</td>\n",
       "      <td>...</td>\n",
       "      <td>...</td>\n",
       "      <td>...</td>\n",
       "      <td>...</td>\n",
       "      <td>...</td>\n",
       "      <td>...</td>\n",
       "    </tr>\n",
       "    <tr>\n",
       "      <th>ytfF</th>\n",
       "      <td>0.938146</td>\n",
       "      <td>1.085316</td>\n",
       "      <td>1.336899</td>\n",
       "      <td>1.347725</td>\n",
       "      <td>3.305225</td>\n",
       "      <td>3.258267</td>\n",
       "      <td>3.458212</td>\n",
       "      <td>3.203906</td>\n",
       "      <td>0.801885</td>\n",
       "      <td>0.898766</td>\n",
       "      <td>...</td>\n",
       "      <td>2.599970</td>\n",
       "      <td>0.190010</td>\n",
       "      <td>0.153990</td>\n",
       "      <td>0.152835</td>\n",
       "      <td>0.072034</td>\n",
       "      <td>0.043099</td>\n",
       "      <td>0.055406</td>\n",
       "      <td>1.158844</td>\n",
       "      <td>2.166597</td>\n",
       "      <td>1.929222</td>\n",
       "    </tr>\n",
       "    <tr>\n",
       "      <th>ytfG</th>\n",
       "      <td>0.918936</td>\n",
       "      <td>0.735516</td>\n",
       "      <td>0.742321</td>\n",
       "      <td>0.709695</td>\n",
       "      <td>2.545667</td>\n",
       "      <td>3.149853</td>\n",
       "      <td>3.874386</td>\n",
       "      <td>3.572350</td>\n",
       "      <td>1.129385</td>\n",
       "      <td>1.257976</td>\n",
       "      <td>...</td>\n",
       "      <td>0.444159</td>\n",
       "      <td>0.155663</td>\n",
       "      <td>0.182492</td>\n",
       "      <td>0.237965</td>\n",
       "      <td>1.283419</td>\n",
       "      <td>0.910939</td>\n",
       "      <td>0.061037</td>\n",
       "      <td>0.008756</td>\n",
       "      <td>0.016631</td>\n",
       "      <td>0.014096</td>\n",
       "    </tr>\n",
       "    <tr>\n",
       "      <th>ytfJ</th>\n",
       "      <td>0.882163</td>\n",
       "      <td>0.792464</td>\n",
       "      <td>0.794107</td>\n",
       "      <td>0.728348</td>\n",
       "      <td>0.312446</td>\n",
       "      <td>0.330243</td>\n",
       "      <td>0.394426</td>\n",
       "      <td>0.364715</td>\n",
       "      <td>0.858195</td>\n",
       "      <td>0.903991</td>\n",
       "      <td>...</td>\n",
       "      <td>0.357330</td>\n",
       "      <td>8.030130</td>\n",
       "      <td>1.523836</td>\n",
       "      <td>0.866055</td>\n",
       "      <td>0.557939</td>\n",
       "      <td>0.369404</td>\n",
       "      <td>0.194159</td>\n",
       "      <td>0.025864</td>\n",
       "      <td>0.014454</td>\n",
       "      <td>0.014454</td>\n",
       "    </tr>\n",
       "    <tr>\n",
       "      <th>ytfM</th>\n",
       "      <td>0.496746</td>\n",
       "      <td>0.493012</td>\n",
       "      <td>0.339419</td>\n",
       "      <td>0.291279</td>\n",
       "      <td>0.120405</td>\n",
       "      <td>0.204477</td>\n",
       "      <td>0.204337</td>\n",
       "      <td>0.134240</td>\n",
       "      <td>0.588877</td>\n",
       "      <td>0.683710</td>\n",
       "      <td>...</td>\n",
       "      <td>0.260323</td>\n",
       "      <td>0.046687</td>\n",
       "      <td>0.059524</td>\n",
       "      <td>0.070176</td>\n",
       "      <td>0.669330</td>\n",
       "      <td>0.398057</td>\n",
       "      <td>0.069477</td>\n",
       "      <td>0.049840</td>\n",
       "      <td>0.044341</td>\n",
       "      <td>0.044341</td>\n",
       "    </tr>\n",
       "    <tr>\n",
       "      <th>zwf</th>\n",
       "      <td>1.334353</td>\n",
       "      <td>1.355407</td>\n",
       "      <td>0.962611</td>\n",
       "      <td>0.962611</td>\n",
       "      <td>1.216487</td>\n",
       "      <td>1.185391</td>\n",
       "      <td>0.962611</td>\n",
       "      <td>0.962611</td>\n",
       "      <td>1.349734</td>\n",
       "      <td>1.376724</td>\n",
       "      <td>...</td>\n",
       "      <td>0.962611</td>\n",
       "      <td>0.962611</td>\n",
       "      <td>0.962611</td>\n",
       "      <td>0.962611</td>\n",
       "      <td>0.962611</td>\n",
       "      <td>0.962611</td>\n",
       "      <td>0.962611</td>\n",
       "      <td>0.962611</td>\n",
       "      <td>0.962611</td>\n",
       "      <td>0.962611</td>\n",
       "    </tr>\n",
       "  </tbody>\n",
       "</table>\n",
       "<p>1888 rows × 52 columns</p>\n",
       "</div>"
      ],
      "text/plain": [
       "                                     Fitness                             \\\n",
       "sampleID          ad926_d1_dnaid2017_TV4592A ad926_d2_dnaid2017_TV4592A   \n",
       "ShortName                                                                 \n",
       "AAAAACATGCCACACTG                   1.119034                   1.094435   \n",
       "AAAACGCAGCGCTTGCC                   1.898760                   1.812084   \n",
       "AAAACTTCATGTACAGA                   0.938151                   1.038236   \n",
       "AAAATTCTTTCTCCCCG                   1.000000                   1.000000   \n",
       "AAACAATAGGGGGGTAG                   1.007408                   0.813069   \n",
       "...                                      ...                        ...   \n",
       "ytfF                                0.938146                   1.085316   \n",
       "ytfG                                0.918936                   0.735516   \n",
       "ytfJ                                0.882163                   0.792464   \n",
       "ytfM                                0.496746                   0.493012   \n",
       "zwf                                 1.334353                   1.355407   \n",
       "\n",
       "                                                                         \\\n",
       "sampleID          ad926_d3_dnaid2018_TV4592A ad926_d4_dnaid2018_TV4592A   \n",
       "ShortName                                                                 \n",
       "AAAAACATGCCACACTG                   1.189286                   1.435143   \n",
       "AAAACGCAGCGCTTGCC                   0.804508                   0.804508   \n",
       "AAAACTTCATGTACAGA                   0.882291                   0.920560   \n",
       "AAAATTCTTTCTCCCCG                   1.000000                   1.000000   \n",
       "AAACAATAGGGGGGTAG                   0.973590                   1.122421   \n",
       "...                                      ...                        ...   \n",
       "ytfF                                1.336899                   1.347725   \n",
       "ytfG                                0.742321                   0.709695   \n",
       "ytfJ                                0.794107                   0.728348   \n",
       "ytfM                                0.339419                   0.291279   \n",
       "zwf                                 0.962611                   0.962611   \n",
       "\n",
       "                                                                         \\\n",
       "sampleID          ad927_d1_dnaid2017_TV4592A ad927_d2_dnaid2017_TV4592A   \n",
       "ShortName                                                                 \n",
       "AAAAACATGCCACACTG                   0.268403                   0.254559   \n",
       "AAAACGCAGCGCTTGCC                   1.316736                   1.585783   \n",
       "AAAACTTCATGTACAGA                   0.133599                   0.147326   \n",
       "AAAATTCTTTCTCCCCG                   1.000000                   1.185399   \n",
       "AAACAATAGGGGGGTAG                   0.995898                   1.090835   \n",
       "...                                      ...                        ...   \n",
       "ytfF                                3.305225                   3.258267   \n",
       "ytfG                                2.545667                   3.149853   \n",
       "ytfJ                                0.312446                   0.330243   \n",
       "ytfM                                0.120405                   0.204477   \n",
       "zwf                                 1.216487                   1.185391   \n",
       "\n",
       "                                                                         \\\n",
       "sampleID          ad927_d3_dnaid2018_TV4592A ad927_d4_dnaid2018_TV4592A   \n",
       "ShortName                                                                 \n",
       "AAAAACATGCCACACTG                   0.346706                   0.336408   \n",
       "AAAACGCAGCGCTTGCC                   0.804508                   0.804508   \n",
       "AAAACTTCATGTACAGA                   0.155943                   0.150899   \n",
       "AAAATTCTTTCTCCCCG                   1.000000                   1.000000   \n",
       "AAACAATAGGGGGGTAG                   1.096420                   1.212548   \n",
       "...                                      ...                        ...   \n",
       "ytfF                                3.458212                   3.203906   \n",
       "ytfG                                3.874386                   3.572350   \n",
       "ytfJ                                0.394426                   0.364715   \n",
       "ytfM                                0.204337                   0.134240   \n",
       "zwf                                 0.962611                   0.962611   \n",
       "\n",
       "                                                                         ...  \\\n",
       "sampleID          ad928_d1_dnaid2017_TV4592A ad928_d2_dnaid2017_TV4592A  ...   \n",
       "ShortName                                                                ...   \n",
       "AAAAACATGCCACACTG                   0.800264                   0.945766  ...   \n",
       "AAAACGCAGCGCTTGCC                   1.602933                   2.071583  ...   \n",
       "AAAACTTCATGTACAGA                   1.290833                   1.275135  ...   \n",
       "AAAATTCTTTCTCCCCG                   1.198761                   1.457827  ...   \n",
       "AAACAATAGGGGGGTAG                   1.015054                   0.813069  ...   \n",
       "...                                      ...                        ...  ...   \n",
       "ytfF                                0.801885                   0.898766  ...   \n",
       "ytfG                                1.129385                   1.257976  ...   \n",
       "ytfJ                                0.858195                   0.903991  ...   \n",
       "ytfM                                0.588877                   0.683710  ...   \n",
       "zwf                                 1.349734                   1.376724  ...   \n",
       "\n",
       "                                                                         \\\n",
       "sampleID          am729_d3_dnaid2029_TV5585A am730_d1_dnaid2028_TV5585A   \n",
       "ShortName                                                                 \n",
       "AAAAACATGCCACACTG                   0.618247                   0.153358   \n",
       "AAAACGCAGCGCTTGCC                   0.804508                   0.804508   \n",
       "AAAACTTCATGTACAGA                   0.588853                  10.569764   \n",
       "AAAATTCTTTCTCCCCG                   1.000000                   1.000000   \n",
       "AAACAATAGGGGGGTAG                   1.141852                   0.813069   \n",
       "...                                      ...                        ...   \n",
       "ytfF                                2.599970                   0.190010   \n",
       "ytfG                                0.444159                   0.155663   \n",
       "ytfJ                                0.357330                   8.030130   \n",
       "ytfM                                0.260323                   0.046687   \n",
       "zwf                                 0.962611                   0.962611   \n",
       "\n",
       "                                                                         \\\n",
       "sampleID          am730_d2_dnaid2028_TV5585A am730_d3_dnaid2029_TV5585A   \n",
       "ShortName                                                                 \n",
       "AAAAACATGCCACACTG                   0.091108                   0.087467   \n",
       "AAAACGCAGCGCTTGCC                   0.804508                   0.804508   \n",
       "AAAACTTCATGTACAGA                   8.725209                   8.225906   \n",
       "AAAATTCTTTCTCCCCG                   1.000000                   1.000000   \n",
       "AAACAATAGGGGGGTAG                   0.813069                   0.813069   \n",
       "...                                      ...                        ...   \n",
       "ytfF                                0.153990                   0.152835   \n",
       "ytfG                                0.182492                   0.237965   \n",
       "ytfJ                                1.523836                   0.866055   \n",
       "ytfM                                0.059524                   0.070176   \n",
       "zwf                                 0.962611                   0.962611   \n",
       "\n",
       "                                                                         \\\n",
       "sampleID          am731_d1_dnaid2028_TV5585A am731_d2_dnaid2028_TV5585A   \n",
       "ShortName                                                                 \n",
       "AAAAACATGCCACACTG                   1.652140                   1.127133   \n",
       "AAAACGCAGCGCTTGCC                   0.804508                   0.804508   \n",
       "AAAACTTCATGTACAGA                   0.598211                   0.376912   \n",
       "AAAATTCTTTCTCCCCG                   1.000000                   1.000000   \n",
       "AAACAATAGGGGGGTAG                   1.099298                   0.813069   \n",
       "...                                      ...                        ...   \n",
       "ytfF                                0.072034                   0.043099   \n",
       "ytfG                                1.283419                   0.910939   \n",
       "ytfJ                                0.557939                   0.369404   \n",
       "ytfM                                0.669330                   0.398057   \n",
       "zwf                                 0.962611                   0.962611   \n",
       "\n",
       "                                                                         \\\n",
       "sampleID          am732_d1_dnaid2028_TV5585A am732_d2_dnaid2028_TV5585A   \n",
       "ShortName                                                                 \n",
       "AAAAACATGCCACACTG                  13.001552                   1.512017   \n",
       "AAAACGCAGCGCTTGCC                   0.804508                   0.804508   \n",
       "AAAACTTCATGTACAGA                   4.406939                   2.542410   \n",
       "AAAATTCTTTCTCCCCG                   1.000000                   1.000000   \n",
       "AAACAATAGGGGGGTAG                   0.813069                   1.279278   \n",
       "...                                      ...                        ...   \n",
       "ytfF                                0.055406                   1.158844   \n",
       "ytfG                                0.061037                   0.008756   \n",
       "ytfJ                                0.194159                   0.025864   \n",
       "ytfM                                0.069477                   0.049840   \n",
       "zwf                                 0.962611                   0.962611   \n",
       "\n",
       "                                                                         \n",
       "sampleID          am732_d3_dnaid2029_TV5585A am732_d4_dnaid2029_TV5585A  \n",
       "ShortName                                                                \n",
       "AAAAACATGCCACACTG                   1.374345                   1.886909  \n",
       "AAAACGCAGCGCTTGCC                   0.804508                   0.804508  \n",
       "AAAACTTCATGTACAGA                   2.105606                  10.620136  \n",
       "AAAATTCTTTCTCCCCG                   1.000000                   1.000000  \n",
       "AAACAATAGGGGGGTAG                   1.462745                   1.828157  \n",
       "...                                      ...                        ...  \n",
       "ytfF                                2.166597                   1.929222  \n",
       "ytfG                                0.016631                   0.014096  \n",
       "ytfJ                                0.014454                   0.014454  \n",
       "ytfM                                0.044341                   0.044341  \n",
       "zwf                                 0.962611                   0.962611  \n",
       "\n",
       "[1888 rows x 52 columns]"
      ]
     },
     "execution_count": 204,
     "metadata": {},
     "output_type": "execute_result"
    }
   ],
   "source": [
    "df"
   ]
  },
  {
   "cell_type": "code",
   "execution_count": null,
   "id": "reported-contract",
   "metadata": {},
   "outputs": [],
   "source": []
  }
 ],
 "metadata": {
  "kernelspec": {
   "display_name": "Python 3",
   "language": "python",
   "name": "python3"
  },
  "language_info": {
   "codemirror_mode": {
    "name": "ipython",
    "version": 3
   },
   "file_extension": ".py",
   "mimetype": "text/x-python",
   "name": "python",
   "nbconvert_exporter": "python",
   "pygments_lexer": "ipython3",
   "version": "3.6.6"
  }
 },
 "nbformat": 4,
 "nbformat_minor": 5
}
