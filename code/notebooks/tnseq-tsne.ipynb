{
 "cells": [
  {
   "cell_type": "code",
   "execution_count": null,
   "id": "violent-population",
   "metadata": {},
   "outputs": [],
   "source": [
    "import pandas as pd\n",
    "from pathlib import Path"
   ]
  },
  {
   "cell_type": "code",
   "execution_count": null,
   "id": "covered-transport",
   "metadata": {},
   "outputs": [],
   "source": [
    "df = pd.read_csv(\"/Users/ansintsova/git_repos/avocado/data/vst_gene_counts.csv\", index_col=0)"
   ]
  },
  {
   "cell_type": "code",
   "execution_count": null,
   "id": "sunrise-happening",
   "metadata": {},
   "outputs": [],
   "source": [
    "df.sample(5)\n",
    "to_filter = df[df.day == 'd0'].groupby('ShortName').norm_count.median().reset_index()\n",
    "to_filter = to_filter[to_filter.norm_count > 6].ShortName.values\n",
    "#.ShortName.values\n",
    "\n",
    "df= df[df.ShortName.isin(to_filter) ]"
   ]
  },
  {
   "cell_type": "code",
   "execution_count": null,
   "id": "ultimate-footage",
   "metadata": {},
   "outputs": [],
   "source": [
    "from sklearn.datasets import load_digits\n",
    "digits = load_digits()"
   ]
  },
  {
   "cell_type": "code",
   "execution_count": null,
   "id": "other-referral",
   "metadata": {},
   "outputs": [],
   "source": [
    "df = df.pivot(index='ShortName', columns=['SampleID'], values=['norm_count'])"
   ]
  },
  {
   "cell_type": "code",
   "execution_count": null,
   "id": "eleven-russia",
   "metadata": {},
   "outputs": [],
   "source": [
    "df"
   ]
  },
  {
   "cell_type": "code",
   "execution_count": null,
   "id": "continent-valuable",
   "metadata": {},
   "outputs": [],
   "source": [
    "from sklearn.preprocessing import RobustScaler\n",
    "\n",
    "scaler = RobustScaler()\n",
    "data_scaled = scaler.fit_transform(df)"
   ]
  },
  {
   "cell_type": "code",
   "execution_count": null,
   "id": "interesting-optics",
   "metadata": {},
   "outputs": [],
   "source": [
    "colors = [\"#476A2A\", \"#7851B8\", \"#BD3430\", \"#4A2D4E\", \"#875525\",\n",
    "          \"#A83683\", \"#4E655E\", \"#853541\", \"#3A3120\", \"#535D8E\"]"
   ]
  },
  {
   "cell_type": "code",
   "execution_count": null,
   "id": "corporate-proof",
   "metadata": {},
   "outputs": [],
   "source": [
    "import matplotlib.pyplot as plt\n",
    "plt.figure(figsize=(10, 10))\n",
    "#plt.xlim(digits_tsne[:, 0].min(), digits_tsne[:, 0].max() + 1)\n",
    "#plt.ylim(digits_tsne[:, 1].min(), digits_tsne[:, 1].max() + 1)\n",
    "# for i in range(len(digits.data)):\n",
    "#     # actually plot the digits as text instead of using scatter\n",
    "#     plt.text(digits_tsne[i, 0], digits_tsne[i, 1], str(digits.target[i]),\n",
    "#              color = colors[digits.target[i]],\n",
    "#              fontdict={'weight': 'bold', 'size': 9})\n",
    "plt.xlabel(\"t-SNE feature 0\")\n",
    "plt.ylabel(\"t-SNE feature 1\")"
   ]
  },
  {
   "cell_type": "code",
   "execution_count": null,
   "id": "dependent-desperate",
   "metadata": {},
   "outputs": [],
   "source": [
    "df3 = df[[c for c in df.columns if 'ad926' in c[1]]]"
   ]
  },
  {
   "cell_type": "code",
   "execution_count": null,
   "id": "arbitrary-brief",
   "metadata": {},
   "outputs": [],
   "source": [
    "from sklearn.manifold import TSNE\n",
    "tsne = TSNE(random_state=42)\n",
    "digits_tsne = tsne.fit_transform(df)"
   ]
  },
  {
   "cell_type": "code",
   "execution_count": null,
   "id": "palestinian-inspiration",
   "metadata": {},
   "outputs": [],
   "source": [
    "df2 = pd.DataFrame(digits_tsne, index=df.index)\n",
    "df2.columns = ['x', 'y']\n",
    "compare = pd.read_csv(\"/Users/ansintsova/git_repos/avocado/data/compare.csv\", index_col=1)\n",
    "compare = compare[compare.day=='d1']\n",
    "#df2 = df2.merge(compare, left_index\n",
    "df2 = df2.merge(compare[['median_CI_method2', 'ci_pval_method2']], left_index=True, right_index=True)"
   ]
  },
  {
   "cell_type": "code",
   "execution_count": null,
   "id": "protecting-sunrise",
   "metadata": {},
   "outputs": [],
   "source": [
    "import chart_studio\n",
    "import chart_studio.tools as tls\n",
    "import chart_studio.plotly as py\n",
    "import plotly.express as px\n",
    "%matplotlib inline\n",
    "import cufflinks as cf\n",
    "from plotly.offline import download_plotlyjs, init_notebook_mode, plot, iplot\n",
    "init_notebook_mode(connected=True)\n",
    "cf.go_offline()\n",
    "import dash_bio as dashbio\n",
    "import numpy as np"
   ]
  },
  {
   "cell_type": "code",
   "execution_count": null,
   "id": "dietary-brake",
   "metadata": {},
   "outputs": [],
   "source": [
    "df2['ci'] = np.log2(df2.median_CI_method2)"
   ]
  },
  {
   "cell_type": "code",
   "execution_count": null,
   "id": "backed-perry",
   "metadata": {},
   "outputs": [],
   "source": [
    "px.scatter(df2, x='x', y='y', hover_data=[df2.index], color=-np.log(df2['ci_pval_method2']))"
   ]
  },
  {
   "cell_type": "code",
   "execution_count": null,
   "id": "alike-leonard",
   "metadata": {},
   "outputs": [],
   "source": [
    "vst_gene_cnts = pd.read_csv(\"/Users/ansintsova/git_repos/avocado/data/vst_gene_counts.csv\")\n",
    "\n",
    "gene = 'gntK'\n",
    "test = vst_gene_cnts[(vst_gene_cnts.ShortName == gene)]\n",
    "test['dayN'] = test.day.replace({'d1':1, 'd2':2, 'd3':3, 'd4':4})\n",
    "test_inoculum = vst_gene_cnts[(vst_gene_cnts.ShortName == gene)& (vst_gene_cnts.mouse == 'inoculum')]\n",
    "fig = px.box(test, x='day', y=\"norm_count\", color='day',\n",
    "         hover_data=['mouse'],\n",
    "             template='simple_white'\n",
    "             )\n",
    "fig.add_hline(y=test_inoculum.norm_count.mean(), line_width=3, line_dash=\"dash\", annotation_text=\"Mean Inoculum Count\")\n",
    "fig.add_hline(y=5.2, line_width=3, line_dash=\"dash\", annotation_text=\"Detection Limit\")\n",
    "fig"
   ]
  },
  {
   "cell_type": "code",
   "execution_count": null,
   "id": "chicken-firewall",
   "metadata": {},
   "outputs": [],
   "source": [
    "\n",
    "test"
   ]
  },
  {
   "cell_type": "code",
   "execution_count": null,
   "id": "wanted-volunteer",
   "metadata": {},
   "outputs": [],
   "source": [
    "ph = df2[(df2.x>-30)&(df2.y<40)&(df2.x<-20)&(df2.y>20)].index\n",
    "ph"
   ]
  },
  {
   "cell_type": "code",
   "execution_count": null,
   "id": "widespread-explanation",
   "metadata": {},
   "outputs": [],
   "source": [
    "test = gene_fitness_annotated[gene_fitness_annotated.ShortName.isin(list(ph))].groupby(['ShortName', 'day']).Fitness.median().reset_index()\n"
   ]
  },
  {
   "cell_type": "code",
   "execution_count": null,
   "id": "sitting-hindu",
   "metadata": {},
   "outputs": [],
   "source": [
    "test"
   ]
  },
  {
   "cell_type": "code",
   "execution_count": null,
   "id": "ready-buddy",
   "metadata": {},
   "outputs": [],
   "source": [
    "gene_fitness_annotated = pd.read_csv(\"/Users/ansintsova/git_repos/avocado/data/gene_fitness_annotated.csv\")\n",
    "gene = 'mig-14'\n",
    "#test = gene_fitness_annotated[gene_fitness_annotated.ShortName.isin(list(ph))].groupby('day').Fitness.median().reset_index()\n",
    "#test = gene_fitness_annotated[gene_fitness_annotated.ShortName == gene]\n",
    "#test['dayN'] = test.day.replace({'d1':1, 'd2':2, 'd3':3, 'd4':4})\n",
    "fig = px.line(test, x='day', y=\"Fitness\", \n",
    "         \n",
    "             template='simple_white', log_y=True, \n",
    "             )\n",
    "fig.add_hline(y=1, line_width=3, line_dash=\"dash\", annotation_text=\"Fitness\")\n",
    "fig.update_traces(mode='markers+lines')\n",
    "fig.update_yaxes(tickvals=[0.01, 0.1, 0.5,1,2, 10, 100])"
   ]
  },
  {
   "cell_type": "code",
   "execution_count": null,
   "id": "adapted-reservation",
   "metadata": {},
   "outputs": [],
   "source": [
    "df = gene_fitness_annotated.pivot(index='ShortName', columns=['sampleID'], values=['Fitness'])"
   ]
  },
  {
   "cell_type": "code",
   "execution_count": null,
   "id": "interesting-progressive",
   "metadata": {},
   "outputs": [],
   "source": [
    "df"
   ]
  },
  {
   "cell_type": "code",
   "execution_count": null,
   "id": "reported-contract",
   "metadata": {},
   "outputs": [],
   "source": []
  }
 ],
 "metadata": {
  "kernelspec": {
   "display_name": "Python 3",
   "language": "python",
   "name": "python3"
  },
  "language_info": {
   "codemirror_mode": {
    "name": "ipython",
    "version": 3
   },
   "file_extension": ".py",
   "mimetype": "text/x-python",
   "name": "python",
   "nbconvert_exporter": "python",
   "pygments_lexer": "ipython3",
   "version": "3.6.6"
  }
 },
 "nbformat": 4,
 "nbformat_minor": 5
}
