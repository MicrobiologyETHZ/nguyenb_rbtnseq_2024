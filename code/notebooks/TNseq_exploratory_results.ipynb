{
 "cells": [
  {
   "cell_type": "code",
   "execution_count": null,
   "metadata": {},
   "outputs": [],
   "source": [
    "import pandas as pd\n",
    "import plotnine as p9\n",
    "from pathlib import Path\n",
    "from scipy import stats\n",
    "import numpy as np\n",
    "import seaborn as sns\n",
    "import matplotlib.pyplot as plt\n",
    "import plotnine as p9\n",
    "\n",
    "import skmisc\n",
    "from matplotlib.patches import Ellipse\n",
    "from sklearn.decomposition import PCA"
   ]
  },
  {
   "cell_type": "code",
   "execution_count": null,
   "metadata": {},
   "outputs": [],
   "source": [
    "def invnorm(x):\n",
    "    return stats.norm.ppf((x.rank() - 0.5)/x.count())"
   ]
  },
  {
   "cell_type": "code",
   "execution_count": null,
   "metadata": {},
   "outputs": [],
   "source": [
    "results_dir = \"../../data/processed/results\"\n",
    "sample = 'dnaid2023'\n"
   ]
  },
  {
   "cell_type": "code",
   "execution_count": null,
   "metadata": {},
   "outputs": [],
   "source": [
    "#TV5490A: library_13_1\n",
    "counts_file = \"/nfs/nas22/fs2202/biol_micro_bioinf_nccr/hardt/nguyenb/tnseq/\"\\\n",
    "              \"data/processed/results/dnaid2023/dnaid2023_counts_TV5490A.txt\"\n",
    "\n",
    "mapping_file = \"/nfs/nas22/fs2202/biol_micro_bioinf_nccr/hardt/nguyenb/tnseq/\"\\\n",
    "                \"data/processed/results/dnaid2023/dnaid2023_features_TV5490A.txt\"\n",
    "\n",
    "results_file = \"/nfs/nas22/fs2202/biol_micro_bioinf_nccr/hardt/nguyenb/tnseq/\"\\\n",
    "                \"data/processed/results/dnaid2023/dnaid2023_results_TV5490A.txt\"\n",
    "\n",
    "omapping_file = \"/nfs/cds-peta/exports/biol_micro_cds_gr_sunagawa/scratch/\"\\\n",
    "                \"chris/hardt/nguyenb/tnseq_mapping_2031/scratch/library_13_1/barcode_map.txt\""
   ]
  },
  {
   "cell_type": "code",
   "execution_count": null,
   "metadata": {},
   "outputs": [],
   "source": [
    "old_map = pd.read_table(omapping_file, header=None)\n",
    "df = (pd.read_csv(counts_file, sep=\" \")\n",
    "    .drop(['Position', 'Element', 'Strand', 'Feature', 'ShortName' ], axis=1))\n",
    "features = pd.read_csv(mapping_file, sep=\" \")\n",
    "results = pd.read_csv(results_file, sep=\" \")"
   ]
  },
  {
   "cell_type": "code",
   "execution_count": null,
   "metadata": {},
   "outputs": [],
   "source": []
  },
  {
   "cell_type": "code",
   "execution_count": null,
   "metadata": {},
   "outputs": [],
   "source": [
    "df2 = df.apply(lambda x: x/x.sum())"
   ]
  },
  {
   "cell_type": "code",
   "execution_count": null,
   "metadata": {},
   "outputs": [],
   "source": [
    "df2['al962-d1-feces'].hist(bins=50)"
   ]
  },
  {
   "cell_type": "code",
   "execution_count": null,
   "metadata": {},
   "outputs": [],
   "source": [
    "df3 = df2.apply(invnorm)"
   ]
  },
  {
   "cell_type": "code",
   "execution_count": null,
   "metadata": {},
   "outputs": [],
   "source": [
    "df3['al962-d1-feces'].hist(bins=50)"
   ]
  },
  {
   "cell_type": "code",
   "execution_count": null,
   "metadata": {},
   "outputs": [],
   "source": [
    "df4 = np.log2(df2+1)"
   ]
  },
  {
   "cell_type": "code",
   "execution_count": null,
   "metadata": {},
   "outputs": [],
   "source": [
    "df4['al962-d1-feces'].hist(bins=50)"
   ]
  },
  {
   "cell_type": "code",
   "execution_count": null,
   "metadata": {},
   "outputs": [],
   "source": [
    "df2.corr()"
   ]
  },
  {
   "cell_type": "code",
   "execution_count": null,
   "metadata": {},
   "outputs": [],
   "source": [
    "sns.set_style(\"white\")\n",
    "sns.set_context(\"notebook\", font_scale=2.0)\n",
    "g = sns.clustermap(df2.corr(), linewidths=0.5, linecolor='black',figsize=(15,15),vmin=0.6, vmax=1,\n",
    "            cbar_kws={'label': 'Correlation Coefficient'})"
   ]
  },
  {
   "cell_type": "code",
   "execution_count": null,
   "metadata": {},
   "outputs": [],
   "source": [
    "g = sns.clustermap(df.corr(), linewidths=0.5, linecolor='black',figsize=(15,15),vmin=0.6, vmax=1,\n",
    "            cbar_kws={'label': 'Correlation Coefficient'})"
   ]
  },
  {
   "cell_type": "code",
   "execution_count": null,
   "metadata": {},
   "outputs": [],
   "source": [
    "df1 = df.reset_index()\n",
    "fdf = pd.melt(df1, id_vars = 'index')\n",
    "expansion = fdf['variable'].str.split('-', expand=True)\n",
    "fdf['mouse'], fdf['day'],fdf['organ'] = expansion[0], expansion[1], expansion[2]\n",
    "meta = fdf.drop(['index', 'value'], axis=1).drop_duplicates().set_index('variable')\n",
    "#fdf = df2.merge(features[['Feature', 'ShortName']], how='left', left_index=True, right_index=True)\n",
    "#fdf = fdf.reset_index().rename({'index':'barcode'}, axis=1)"
   ]
  },
  {
   "cell_type": "code",
   "execution_count": null,
   "metadata": {},
   "outputs": [],
   "source": [
    "meta"
   ]
  },
  {
   "cell_type": "code",
   "execution_count": null,
   "metadata": {},
   "outputs": [],
   "source": [
    "def find_pc1_pc2(df, meta):\n",
    "    df = df.T\n",
    "    pca = PCA(n_components=2)\n",
    "    principalComponents = pca.fit_transform(df)\n",
    "    pDf = (pd.DataFrame(data=principalComponents, columns=['PC1', 'PC2'])\n",
    "           .set_index(df.index))\n",
    "    pc1_var = round(pca.explained_variance_ratio_[0] * 100, 2)\n",
    "    pc2_var = round(pca.explained_variance_ratio_[1] * 100, 2)\n",
    "    pDf2 = pDf.merge(meta, left_index=True, right_index=True)\n",
    "    return pDf2, pc1_var, pc2_var"
   ]
  },
  {
   "cell_type": "code",
   "execution_count": null,
   "metadata": {},
   "outputs": [],
   "source": [
    "pDF, pc1, pc2, = find_pc1_pc2(df3, meta)"
   ]
  },
  {
   "cell_type": "code",
   "execution_count": null,
   "metadata": {},
   "outputs": [],
   "source": [
    "pDF, pc1, pc2, = find_pc1_pc2(df3, meta)"
   ]
  },
  {
   "cell_type": "code",
   "execution_count": null,
   "metadata": {},
   "outputs": [],
   "source": [
    "pDF"
   ]
  },
  {
   "cell_type": "code",
   "execution_count": null,
   "metadata": {},
   "outputs": [],
   "source": [
    "plotPCA(pDF, pc1, pc2, colorby='day', nameby='mouse', col=['blue', 'green', 'red']);\n"
   ]
  },
  {
   "cell_type": "code",
   "execution_count": null,
   "metadata": {},
   "outputs": [],
   "source": [
    "\"\"\"\n",
    "Plotting PCA elipses:\n",
    "__author__:\n",
    "\"\"\"\n",
    "\n",
    "def plot_point_cov(points, nstd=2, ax=None, **kwargs):\n",
    "    \"\"\"\n",
    "    Plots an `nstd` sigma ellipse based on the mean and covariance of a point\n",
    "    \"cloud\" (points, an Nx2 array).\n",
    "    Parameters\n",
    "    ----------\n",
    "        points : An Nx2 array of the data points.\n",
    "        nstd : The radius of the ellipse in numbers of standard deviations.\n",
    "            Defaults to 2 standard deviations.\n",
    "        ax : The axis that the ellipse will be plotted on. Defaults to the\n",
    "            current axis.\n",
    "        Additional keyword arguments are pass on to the ellipse patch.\n",
    "    Returns\n",
    "    -------\n",
    "        A matplotlib ellipse artist\n",
    "    \"\"\"\n",
    "    pos = points.mean(axis=0)\n",
    "    cov = np.cov(points, rowvar=False)\n",
    "    return plot_cov_ellipse(cov, pos, nstd, ax, **kwargs)\n",
    "\n",
    "\n",
    "def plot_cov_ellipse(cov, pos, nstd=2, ax=None, **kwargs):\n",
    "    \"\"\"\n",
    "    Plots an `nstd` sigma error ellipse based on the specified covariance\n",
    "    matrix (`cov`). Additional keyword arguments are passed on to the\n",
    "    ellipse patch artist.\n",
    "    Parameters\n",
    "    ----------\n",
    "        cov : The 2x2 covariance matrix to base the ellipse on\n",
    "        pos : The location of the center of the ellipse. Expects a 2-element\n",
    "            sequence of [x0, y0].\n",
    "        nstd : The radius of the ellipse in numbers of standard deviations.\n",
    "            Defaults to 2 standard deviations.\n",
    "        ax : The axis that the ellipse will be plotted on. Defaults to the\n",
    "            current axis.\n",
    "        Additional keyword arguments are pass on to the ellipse patch.\n",
    "    Returns\n",
    "    -------\n",
    "        A matplotlib ellipse artist\n",
    "    \"\"\"\n",
    "    def eigsorted(cov):\n",
    "        vals, vecs = np.linalg.eigh(cov)\n",
    "        order = vals.argsort()[::-1]\n",
    "        return vals[order], vecs[:,order]\n",
    "\n",
    "    if ax is None:\n",
    "        ax = plt.gca()\n",
    "\n",
    "    vals, vecs = eigsorted(cov)\n",
    "    theta = np.degrees(np.arctan2(*vecs[:,0][::-1]))\n",
    "\n",
    "    # Width and height are \"full\" widths, not radius\n",
    "    width, height = 2 * nstd * np.sqrt(vals)\n",
    "    ellip = Ellipse(xy=pos, width=width, height=height, angle=theta, **kwargs)\n",
    "\n",
    "    ax.add_artist(ellip)\n",
    "    return ellip\n",
    "#____________________________________________________\n",
    "\n",
    "\n",
    "\n",
    "\n",
    "def plotPCA(pDf, pc1_var, pc2_var, colorby, col, nameby=\"\", el=False):\n",
    "    sns.set_style(\"ticks\")\n",
    "    sns.set_context(\"notebook\", font_scale=2.2)\n",
    "    group = pDf[colorby].unique()\n",
    "    assert len(group) <= len(col)\n",
    "    fig = plt.figure(figsize=(8, 8))\n",
    "    for g, c in zip(group, col):\n",
    "        df = pDf[pDf[colorby] == g]\n",
    "        x, y = df[[\"PC1\"]].values, df[[\"PC2\"]].values\n",
    "        ax = plt.scatter(x, y, c=c, s=150, label=g)\n",
    "        if el:\n",
    "            pts = np.asarray([[float(a), float(b)] for a, b in zip(x, y)])\n",
    "            plot_point_cov(pts, nstd=2, alpha=0.1, color=c)\n",
    "        if nameby:\n",
    "            labels = df[nameby]\n",
    "            for label, pc1, pc2 in zip(labels, x, y):\n",
    "                plt.annotate(label, xy=(pc1, pc2), xytext=(-5, 7), textcoords=\"offset points\",fontsize=14)\n",
    "        plt.xlabel('Principal Component 1, {} %'.format(pc1_var), )\n",
    "        plt.ylabel('Principal Component 2, {} %'.format(pc2_var), )\n",
    "        #plt.xticks(fontsize=16)\n",
    "        #plt.yticks(fontsize=16)\n",
    "        plt.legend(frameon=True)\n",
    "    return fig"
   ]
  },
  {
   "cell_type": "code",
   "execution_count": null,
   "metadata": {},
   "outputs": [],
   "source": []
  },
  {
   "cell_type": "code",
   "execution_count": null,
   "metadata": {},
   "outputs": [],
   "source": [
    "controls = pd.read_table('../../data/metadata/controls.txt', header=None, \n",
    "                        names = ['DN', 'BC', 'phenotype', 'conc']).set_index('BC')\n",
    "controls = controls.merge(df, how='left', left_index=True, right_index=True).fillna(0)\n",
    "\n",
    "controls = controls.melt(id_vars=['DN', 'phenotype', 'conc']).rename({'variable':'sample', 'value':'counts'}, axis=1)\n",
    "controls.head()"
   ]
  },
  {
   "cell_type": "code",
   "execution_count": null,
   "metadata": {},
   "outputs": [],
   "source": [
    "p9.options.figure_size = (15, 15)\n",
    "(p9.ggplot(controls[controls.phenotype == 'wt'], p9.aes(x='conc', y='counts'))\n",
    " #+ p9.geom_line()\n",
    " + p9.geom_point()\n",
    " +p9.geom_smooth(method = \"lm\")\n",
    " + p9.theme_classic()\n",
    " + p9.ylab(\"Count\")\n",
    " + p9.xlab(\"Conc\")\n",
    " + p9.scale_y_log10()\n",
    " + p9.scale_x_log10()\n",
    " + p9.facet_wrap('~ sample'))"
   ]
  },
  {
   "cell_type": "code",
   "execution_count": null,
   "metadata": {},
   "outputs": [],
   "source": [
    "controls['logConc'] = np.log10(controls['conc'])\n",
    "controls['logCounts'] = np.log10(controls['counts'])\n",
    "controls.groupby(['phenotype', 'sample'])[['conc', 'counts']].corr().loc['hyb']"
   ]
  },
  {
   "cell_type": "code",
   "execution_count": null,
   "metadata": {},
   "outputs": [],
   "source": [
    "p9.options.figure_size = (15, 15)\n",
    "(p9.ggplot(controls[controls.phenotype == 'hyb'], p9.aes(x='conc', y='counts'))\n",
    " #+ p9.geom_line()\n",
    " + p9.geom_point()\n",
    " +p9.geom_smooth(method = \"lm\")\n",
    " + p9.theme_classic()\n",
    " + p9.ylab(\"Count\")\n",
    " + p9.xlab(\"Conc\")\n",
    " + p9.scale_y_log10()\n",
    " + p9.scale_x_log10()\n",
    " + p9.facet_wrap('~ sample'))"
   ]
  },
  {
   "cell_type": "code",
   "execution_count": null,
   "metadata": {},
   "outputs": [],
   "source": [
    "wt_corr = controls.groupby(['phenotype', 'sample'])[['logConc', 'logCounts']].corr().loc['wt']\n",
    "wt_corr = wt_corr.reset_index()\n",
    "wt_corr = wt_corr[wt_corr['level_1'] == 'logCounts'].drop(['level_1','logCounts'], axis=1)\n",
    "#wt_corr = wt_corr.stack()\n",
    "#wt_corr.head()\n",
    "#wt_corr = wt_corr[wt_corr.index.get_level_values(0) != wt_corr.index.get_level_values(1)]\n",
    "#wt_corr.index = wt_corr.index.map('_'.join)\n",
    "#wt_corr = wt_corr.to_frame().drop_duplicates()"
   ]
  },
  {
   "cell_type": "code",
   "execution_count": null,
   "metadata": {},
   "outputs": [],
   "source": [
    "wt_corr.hist(bins=20)"
   ]
  },
  {
   "cell_type": "code",
   "execution_count": null,
   "metadata": {},
   "outputs": [],
   "source": [
    "wt_corr = wt_corr.set_index('sample')\n",
    "wt_corr"
   ]
  },
  {
   "cell_type": "code",
   "execution_count": null,
   "metadata": {},
   "outputs": [],
   "source": [
    "prop_corr = df2.corr()[['inoculum-d0-inoculum']]\n",
    "#prop_corr = prop_corr.merge(wt_corr, left_index=True, right_index=True)\n",
    "prop_corr.hist(bins=20)"
   ]
  },
  {
   "cell_type": "code",
   "execution_count": null,
   "metadata": {},
   "outputs": [],
   "source": [
    "sns.set_context(\"notebook\", font_scale=2.4)\n",
    "fig = plt.figure(figsize=(14,12))\n",
    "plt.yscale('log')\n",
    "#plt.xlim(-8, 8)\n",
    "plt.rcParams[\"lines.markersize\"] = 10.0\n",
    "plt.scatter(results.d1_zscore, results.d1_padj, color='green', alpha=0.5, label=\"Day 1\")\n",
    "plt.scatter(results.d2_zscore, results.d2_padj, color='red', alpha = 0.5, label=\"Day 2\")\n",
    "#plt.scatter(aa_transp_df.log2FoldChange, aa_transp_df.padj, color=\"#74d600\",  label=\"Amino Acid Transporters\")\n",
    "#plt.scatter(sugar_aa_met_df.log2FoldChange, sugar_aa_met_df.padj, color=col5, \n",
    "#            label=\"Sugar Catabolism/Amino Acid Biosynthesis\")\n",
    "#plt.scatter(sugar_tt_df.log2FoldChange, sugar_tt_df.padj, color=\"#00ced1\",  label=\"Sugar Transporters\")\n",
    "\n",
    "#plt.axvline(-2, color='k', linestyle=\"--\",)\n",
    "#plt.axvline(2, color='k', linestyle=\"--\")\n",
    "plt.axhline(0.05, color='k', linestyle=\"--\")\n",
    "plt.xlabel(\"Log$_2$(Fold Change)\", fontsize=36)\n",
    "plt.ylabel(\"Adjusted $\\itP$ value\", fontsize=36)\n",
    "plt.gca().invert_yaxis()\n",
    "\n",
    "#plt.legend(markerscale=1.5, frameon=True, facecolor=\"white\", framealpha=0.8, fontsize=24)\n",
    "\n",
    "#plt.legend(markerscale=1.5, frameon=True, facecolor=\"white\", framealpha=0.5)"
   ]
  },
  {
   "cell_type": "code",
   "execution_count": null,
   "metadata": {},
   "outputs": [],
   "source": [
    "results.sort_values(by='d1_padj')"
   ]
  },
  {
   "cell_type": "code",
   "execution_count": null,
   "metadata": {},
   "outputs": [],
   "source": [
    "pos_bias = df.merge(features, how='left', left_index =True, right_index = True)\n",
    "pos_bias = pos_bias[pos_bias.Element == 'FQ312003.1'].sort_values(by='Position')\n",
    "pos_bias['Position'] = pos_bias['Position']/1000000\n",
    "pos_bias = pos_bias[pos_bias.sum(axis=1) > 10]"
   ]
  },
  {
   "cell_type": "code",
   "execution_count": null,
   "metadata": {},
   "outputs": [],
   "source": [
    "p9.options.figure_size = (10, 10)\n",
    "(p9.ggplot(pos_bias, p9.aes(x='Position', y='inoculum-d0-inoculum'))\n",
    " #+ p9.geom_line()\n",
    " + p9.geom_point()\n",
    " + p9.geom_segment(p9.aes(x='Position', xend='Position', y='inoculum-d0-inoculum', yend=0), alpha=0.5)\n",
    " + p9.theme_classic()\n",
    " + p9.geom_smooth(method='loess', color='red')\n",
    "#  + p9.ylab(\"Count\")\n",
    "#  + p9.xlab(\"Conc\")\n",
    "  + p9.scale_y_log10()\n",
    ")\n",
    " #+ p9.scale_color_distiller(palette=1, ))\n",
    "#  + p9.facet_wrap('~ sample'))"
   ]
  },
  {
   "cell_type": "code",
   "execution_count": null,
   "metadata": {},
   "outputs": [],
   "source": [
    "p9.options.figure_size = (10, 10)\n",
    "(p9.ggplot(pos_bias, p9.aes(x='Position', y='al966-d1-feces'))\n",
    " #+ p9.geom_line()\n",
    " + p9.geom_point()\n",
    " + p9.geom_segment(p9.aes(x='Position', xend='Position', y='al966-d1-feces', yend=0), alpha=0.5)\n",
    " + p9.theme_classic()\n",
    " + p9.geom_smooth(method='loess', color='red')\n",
    "#  + p9.ylab(\"Count\")\n",
    "#  + p9.xlab(\"Conc\")\n",
    "  + p9.scale_y_log10()\n",
    " #+ p9.scale_color_distiller(palette=1, ))\n",
    "#  + p9.facet_wrap('~ sample'))\n",
    ")"
   ]
  },
  {
   "cell_type": "code",
   "execution_count": null,
   "metadata": {},
   "outputs": [],
   "source": [
    "p9.options.figure_size = (10, 10)\n",
    "(p9.ggplot(pos_bias, p9.aes(x='Position', y='al966-d2-feces'))\n",
    " #+ p9.geom_line()\n",
    " + p9.geom_point()\n",
    " + p9.geom_segment(p9.aes(x='Position', xend='Position', y='al966-d2-feces', yend=0), alpha=0.5)\n",
    " + p9.theme_classic()\n",
    " + p9.geom_smooth(method='loess', color='red')\n",
    "#  + p9.ylab(\"Count\")\n",
    "#  + p9.xlab(\"Conc\")\n",
    "  + p9.scale_y_log10()\n",
    ")\n",
    " #+ p9.scale_color_distiller(palette=1, ))\n",
    "#  + p9.facet_wrap('~ sample'))"
   ]
  },
  {
   "cell_type": "code",
   "execution_count": null,
   "metadata": {},
   "outputs": [],
   "source": [
    "(p9.ggplot(geneInfo, p9.aes('Feature'))\n",
    " + p9.geom_histogram(bins=50, fill='#428bca')\n",
    " + p9.theme_classic()\n",
    " + p9.ylab(\"Count\")\n",
    " + p9.xlab(\"# of barcodes per feature\"))"
   ]
  },
  {
   "cell_type": "code",
   "execution_count": null,
   "metadata": {},
   "outputs": [],
   "source": [
    "c1 = abs(results['d1_zscore']) > 2\n",
    "c2 = results['d1_padj']< 0.05\n",
    "results['d1_hit'] = c1 & c2\n",
    "results['d1_-log10Pval'] = -np.log10(results.d1_padj)"
   ]
  },
  {
   "cell_type": "code",
   "execution_count": null,
   "metadata": {},
   "outputs": [],
   "source": [
    "\n",
    "(p9.ggplot(results, p9.aes(x = 'd1_zscore', y = 'd1_-log10Pval', fill='d1_hit')) +\n",
    " p9.geom_point(size = 2, shape = 'o', colour = \"grey\")+\n",
    " p9.labs(x = 'Z-Score', y = '-log10(Pval)')+\n",
    " p9.scale_x_continuous(limits = [-12, 6], breaks = range(-12, 6, 2)) + \n",
    " p9.scale_y_continuous(limits = [0, 25], breaks = range(0, 26, 5))+\n",
    " p9.ggtitle(\"Title\")+\n",
    " p9.theme(\n",
    "    plot_title = p9.element_text(family = \"Arial\", size = 11, hjust = 0), # Title size and font.\n",
    "    \n",
    "    axis_text = p9.element_text(family = \"Arial\", size = 10), # Size and font of x and y values.\n",
    "    axis_title = p9.element_text(family = \"Arial\", size = 10), # Size and font of x and y axes.\n",
    "    panel_border = p9.element_rect(colour = \"black\", fill = np.nan, size = 1), # Black border around the plot area.\n",
    "    axis_ticks = p9.element_line(colour = \"black\", size = 1), # Style of x and y ticks.\n",
    "    legend_position = \"none\"\n",
    "  )+\n",
    "   p9.geom_label(p9.aes(label=label), label_size=0.01, nudge_x=2,))#, adjust_text={'expand_points': (1.5, 1.5), 'arrowprops': {'arrowstyle': '-'}}))\n",
    "  #p9.scale_fill_manual(breaks = [\"blue\", \"red\"], values = [\"deepskyblue3\", \"firebrick1\"]))\n",
    "\n"
   ]
  },
  {
   "cell_type": "code",
   "execution_count": null,
   "metadata": {},
   "outputs": [],
   "source": [
    "\n",
    "\n",
    "\n",
    "  #geom_hline(yintercept = 1.30103, colour = \"black\", linetype = \"dashed\", size = 0.75) + # Horizontal significance cut-off line.\n",
    "  #geom_vline(xintercept = 0.584963, colour = \"black\", linetype = \"dashed\", size = 0.75) + # Vertical significance cut-off line (+).\n",
    "  # geom_vline (xintercept = -0.584963, colour = \"black\", linetype = \"dashed\", size = 0.75) #Vertical significance cut-off line (-)\n",
    "\n",
    "  #scale_fill_manual(breaks = c(\"blue\", \"red\"), values = c(\"deepskyblue3\", \"firebrick1\")) + # Costum colors of data points based on \"PursFur\" column.\n",
    "\n",
    "  #geom_text(aes(label = ifelse(PursFur == 1, as.character(Protein.ID), \"\")), hjust = 0, vjust = -0.25) + # Add identifiers to a subset of data points.\n",
    "\n",
    "  #annotate(\"text\", x = 2.9, y = 1.45, label = \"P = 0.05\", size = 4, fontface = \"bold\") + # Label to horizontal cut-off line.\n",
    "  #annotate(\"text\", x = 0.68, y = 5.9, label = \"1.5-fold\", size = 4, fontface = \"bold\", srt = 90) + # Label to vertical cut-off line.\n",
    "  #annotate(\"rect\", xmin = 0.584963, xmax = 3, ymin = 1.30103, ymax = 6, alpha = .2)) # Shade plot subregion."
   ]
  },
  {
   "cell_type": "code",
   "execution_count": null,
   "metadata": {},
   "outputs": [],
   "source": [
    "results.loc['gene-SL1344_RS24690']['d1_hit']"
   ]
  },
  {
   "cell_type": "code",
   "execution_count": null,
   "metadata": {},
   "outputs": [],
   "source": [
    "label = [results.loc[i]['short_name'] if results.loc[i]['d1_hit'] else '' for i in results.index  ]"
   ]
  },
  {
   "cell_type": "code",
   "execution_count": null,
   "metadata": {},
   "outputs": [],
   "source": [
    "label"
   ]
  },
  {
   "cell_type": "code",
   "execution_count": null,
   "metadata": {},
   "outputs": [],
   "source": []
  }
 ],
 "metadata": {
  "kernelspec": {
   "display_name": "Python 3",
   "language": "python",
   "name": "python3"
  },
  "language_info": {
   "codemirror_mode": {
    "name": "ipython",
    "version": 3
   },
   "file_extension": ".py",
   "mimetype": "text/x-python",
   "name": "python",
   "nbconvert_exporter": "python",
   "pygments_lexer": "ipython3",
   "version": "3.6.6"
  }
 },
 "nbformat": 4,
 "nbformat_minor": 4
}
