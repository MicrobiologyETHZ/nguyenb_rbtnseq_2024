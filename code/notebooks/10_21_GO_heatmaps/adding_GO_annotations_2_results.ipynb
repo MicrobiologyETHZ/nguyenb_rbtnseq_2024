{
 "cells": [
  {
   "cell_type": "code",
   "execution_count": null,
   "id": "married-visitor",
   "metadata": {
    "ExecuteTime": {
     "end_time": "2022-03-04T09:53:24.643150Z",
     "start_time": "2022-03-04T09:53:23.992479Z"
    }
   },
   "outputs": [],
   "source": [
    "import pandas as pd\n",
    "from pathlib import Path\n",
    "import numpy as np"
   ]
  },
  {
   "cell_type": "code",
   "execution_count": null,
   "id": "injured-cartoon",
   "metadata": {
    "ExecuteTime": {
     "end_time": "2022-03-04T09:53:27.226676Z",
     "start_time": "2022-03-04T09:53:27.067170Z"
    }
   },
   "outputs": [],
   "source": [
    "%ls ../../../data/09_21"
   ]
  },
  {
   "cell_type": "code",
   "execution_count": null,
   "id": "everyday-operator",
   "metadata": {
    "ExecuteTime": {
     "end_time": "2022-03-04T09:53:32.575807Z",
     "start_time": "2022-03-04T09:53:32.570739Z"
    }
   },
   "outputs": [],
   "source": [
    "dataDir = \"../../../data/09_21/\"\n",
    "gff_file = Path(dataDir)/\"GCA_000210855.2_ASM21085v2_genomic.gff\"\n",
    "emap_file = Path(dataDir)/\"SL1344.emapper.annotations\""
   ]
  },
  {
   "cell_type": "code",
   "execution_count": null,
   "id": "adolescent-pencil",
   "metadata": {
    "ExecuteTime": {
     "end_time": "2022-03-04T09:53:35.021306Z",
     "start_time": "2022-03-04T09:53:34.965469Z"
    }
   },
   "outputs": [],
   "source": [
    "gff = pd.read_table(gff_file, skiprows=7, header=None)\n",
    "gff.columns = ['chr', 'loc', 'feat', 'start', 'end', 'dn', 'strand', 'dn2', 'desc']"
   ]
  },
  {
   "cell_type": "code",
   "execution_count": null,
   "id": "statutory-camel",
   "metadata": {
    "ExecuteTime": {
     "end_time": "2022-03-04T09:53:36.682460Z",
     "start_time": "2022-03-04T09:53:36.655871Z"
    }
   },
   "outputs": [],
   "source": [
    "gff.head()"
   ]
  },
  {
   "cell_type": "code",
   "execution_count": null,
   "id": "consolidated-messenger",
   "metadata": {
    "ExecuteTime": {
     "end_time": "2022-03-04T09:53:40.907055Z",
     "start_time": "2022-03-04T09:53:40.897955Z"
    }
   },
   "outputs": [],
   "source": [
    "def get_feat_id(x):\n",
    "    if x is np.nan:\n",
    "        return x\n",
    "    elif 'gene-' in x or 'cds-' in x:\n",
    "        return x.split(';')[0].split('-')[1]\n",
    "    else:\n",
    "        return x.split(';')[0]\n",
    "    \n",
    "def get_gene_name(x):\n",
    "    if x is np.nan:\n",
    "        return x\n",
    "    elif 'ID=gene' in x:\n",
    "        return x.split('Name=')[1].split(';')[0]\n",
    "    elif 'ID=cds' in x and 'gene=' in x:\n",
    "        return x.split('gene=')[1].split(';')[0]\n",
    "    elif 'ID=cds' in x and 'Parent=' in x:\n",
    "        return x.split('Parent=')[1].split(';')[0].split('-')[1]\n",
    "    else:\n",
    "        return x.split(';')[0].strip('ID=')"
   ]
  },
  {
   "cell_type": "code",
   "execution_count": null,
   "id": "supported-patient",
   "metadata": {
    "ExecuteTime": {
     "end_time": "2022-03-04T09:53:42.778183Z",
     "start_time": "2022-03-04T09:53:42.741042Z"
    }
   },
   "outputs": [],
   "source": [
    "gff['feat_id'] = gff['desc'].apply(get_feat_id)\n",
    "gff['Name'] = gff['desc'].apply(get_gene_name)"
   ]
  },
  {
   "cell_type": "code",
   "execution_count": null,
   "id": "descending-blood",
   "metadata": {
    "ExecuteTime": {
     "end_time": "2022-03-04T09:53:44.590649Z",
     "start_time": "2022-03-04T09:53:44.573466Z"
    }
   },
   "outputs": [],
   "source": [
    "gff[['feat','feat_id', 'Name']]"
   ]
  },
  {
   "cell_type": "code",
   "execution_count": null,
   "id": "accessory-painting",
   "metadata": {
    "ExecuteTime": {
     "end_time": "2022-03-04T09:53:51.513094Z",
     "start_time": "2022-03-04T09:53:51.456035Z"
    }
   },
   "outputs": [],
   "source": [
    "emap = pd.read_table(emap_file, skiprows=4)"
   ]
  },
  {
   "cell_type": "code",
   "execution_count": null,
   "id": "electric-married",
   "metadata": {
    "ExecuteTime": {
     "end_time": "2022-03-04T09:53:52.157959Z",
     "start_time": "2022-03-04T09:53:52.129846Z"
    }
   },
   "outputs": [],
   "source": [
    "emap.head()"
   ]
  },
  {
   "cell_type": "code",
   "execution_count": null,
   "id": "quarterly-cedar",
   "metadata": {},
   "outputs": [],
   "source": [
    "gene_to_cds = gff[gff.feat == 'CDS'][['feat_id', 'Name', 'start']]"
   ]
  },
  {
   "cell_type": "code",
   "execution_count": null,
   "id": "similar-perspective",
   "metadata": {},
   "outputs": [],
   "source": [
    "go_map = gene_to_cds.merge(emap, left_on='feat_id', right_on='#query', how='outer')"
   ]
  },
  {
   "cell_type": "code",
   "execution_count": null,
   "id": "completed-cameroon",
   "metadata": {},
   "outputs": [],
   "source": [
    "go_map = go_map.drop(go_map.tail(3).index)"
   ]
  },
  {
   "cell_type": "code",
   "execution_count": null,
   "id": "alive-kingston",
   "metadata": {},
   "outputs": [],
   "source": [
    "go_map[go_map['KEGG_Pathway'].apply(term_in_gene, term='ko00010') == True]"
   ]
  },
  {
   "cell_type": "code",
   "execution_count": null,
   "id": "conditional-fight",
   "metadata": {},
   "outputs": [],
   "source": [
    "def term_in_gene(x, term):\n",
    "    if x is np.nan:\n",
    "        return False\n",
    "    return term in x\n",
    "\n",
    "#def get_pathway_genes(df, ann_column='KEGG_Pathway', pathway='ko00010'):\n",
    "    "
   ]
  },
  {
   "cell_type": "code",
   "execution_count": null,
   "id": "designing-nirvana",
   "metadata": {},
   "outputs": [],
   "source": [
    "results = pd.read_csv('/Users/ansintsova/git_repos/nguyenb_tnseq/data/07_06_results/26-07-final-results.csv', index_col=0)"
   ]
  },
  {
   "cell_type": "code",
   "execution_count": null,
   "id": "enabling-stopping",
   "metadata": {},
   "outputs": [],
   "source": [
    "results"
   ]
  },
  {
   "cell_type": "code",
   "execution_count": null,
   "id": "vietnamese-vienna",
   "metadata": {},
   "outputs": [],
   "source": [
    "res_ann = results.merge(go_map,  left_on='gene', right_on='Name')"
   ]
  },
  {
   "cell_type": "code",
   "execution_count": null,
   "id": "creative-explanation",
   "metadata": {},
   "outputs": [],
   "source": [
    "res_ann.columns"
   ]
  },
  {
   "cell_type": "code",
   "execution_count": null,
   "id": "engaged-cotton",
   "metadata": {},
   "outputs": [],
   "source": [
    "t1 = res_ann[['gene', 'day', 'library','start', 'z-score', 'GOs', 'KEGG_Pathway', 'KEGG_Module']]\n"
   ]
  },
  {
   "cell_type": "code",
   "execution_count": null,
   "id": "behind-monthly",
   "metadata": {},
   "outputs": [],
   "source": [
    "t1.sample(20)"
   ]
  },
  {
   "cell_type": "code",
   "execution_count": null,
   "id": "understanding-shore",
   "metadata": {},
   "outputs": [],
   "source": [
    "c('thiM', 'thiC', 'bioB', 'bioF', 'bioDb', 'ybiV(2)', 'ybiV(1)', 'pdxAa', 'pdxB')"
   ]
  },
  {
   "cell_type": "code",
   "execution_count": null,
   "id": "suburban-messenger",
   "metadata": {},
   "outputs": [],
   "source": [
    "t1[t1.KEGG_Pathway.apply(lambda x: False if x is np.nan else 'ko00750' in x)].sort_values('start').gene.unique()"
   ]
  },
  {
   "cell_type": "code",
   "execution_count": null,
   "id": "million-twist",
   "metadata": {},
   "outputs": [],
   "source": [
    "t1[t1.KEGG_Module.apply(lambda x: False if x is np.nan else 'M00125' in x)].sort_values('start').gene.unique()"
   ]
  },
  {
   "cell_type": "code",
   "execution_count": null,
   "id": "pressed-confidence",
   "metadata": {},
   "outputs": [],
   "source": [
    "t1[t1.KEGG_Module.apply(lambda x: False if x is np.nan else 'M00123' in x)].sort_values('start').gene.unique()"
   ]
  },
  {
   "cell_type": "code",
   "execution_count": null,
   "id": "afraid-nomination",
   "metadata": {},
   "outputs": [],
   "source": [
    "t1[t1.KEGG_Module.apply(lambda x: False if x is np.nan else 'M00127' in x)].sort_values('start').gene.unique()"
   ]
  },
  {
   "cell_type": "code",
   "execution_count": null,
   "id": "effective-valentine",
   "metadata": {},
   "outputs": [],
   "source": [
    "t1[t1.KEGG_Pathway.apply(lambda x: False if x is np.nan else 'ko01212' in x)].sort_values('start').gene.unique()"
   ]
  },
  {
   "cell_type": "code",
   "execution_count": null,
   "id": "behind-forth",
   "metadata": {},
   "outputs": [],
   "source": [
    "t1[t1.KEGG_Pathway.apply(lambda x: False if x is np.nan else 'ko00230' in x)].sort_values('start').gene.unique()"
   ]
  },
  {
   "cell_type": "code",
   "execution_count": null,
   "id": "atmospheric-composer",
   "metadata": {},
   "outputs": [],
   "source": [
    "t1[t1.KEGG_Pathway.apply(lambda x: False if x is np.nan else 'ko00240' in x)].sort_values('start').gene.unique()"
   ]
  },
  {
   "cell_type": "code",
   "execution_count": null,
   "id": "established-trout",
   "metadata": {},
   "outputs": [],
   "source": [
    "#t1[t1.KEGG_Pathway.apply(lambda x: False if x is np.nan else 'ko00410' in x)].sort_values('start').gene.unique()"
   ]
  },
  {
   "cell_type": "code",
   "execution_count": null,
   "id": "ceramic-terry",
   "metadata": {},
   "outputs": [],
   "source": [
    "t1[t1.KEGG_Pathway.apply(lambda x: False if x is np.nan else 'ko01230' in x)].sort_values('start').gene.unique()\n"
   ]
  },
  {
   "cell_type": "code",
   "execution_count": null,
   "id": "recovered-arizona",
   "metadata": {},
   "outputs": [],
   "source": [
    "t1[t1.GOs.apply(lambda x: False if x is np.nan else 'GO:0043602' in x)].sort_values('start').gene.unique()"
   ]
  },
  {
   "cell_type": "code",
   "execution_count": null,
   "id": "cooperative-examination",
   "metadata": {},
   "outputs": [],
   "source": [
    "t1[t1.GOs.apply(lambda x: False if x is np.nan else 'GO:0009061' in x)].sort_values('start').gene.unique()"
   ]
  },
  {
   "cell_type": "code",
   "execution_count": null,
   "id": "parental-driving",
   "metadata": {},
   "outputs": [],
   "source": [
    "res_ann.to_csv(Path(dataDir)/'final_results_annotated.csv')"
   ]
  },
  {
   "cell_type": "code",
   "execution_count": null,
   "id": "stock-incidence",
   "metadata": {},
   "outputs": [],
   "source": [
    "t1[t1.gene == 'nudF']"
   ]
  },
  {
   "cell_type": "code",
   "execution_count": null,
   "id": "certified-plaza",
   "metadata": {},
   "outputs": [],
   "source": [
    "ko_pathways = list(t1.KEGG_Pathway.dropna().unique())\n",
    "ko_pathways = [g.split(\",\") for g in ko_pathways]\n",
    "ko_pathways = set([p for path in ko_pathways for p in path  if p.startswith('ko')])"
   ]
  },
  {
   "cell_type": "code",
   "execution_count": null,
   "id": "vital-overall",
   "metadata": {},
   "outputs": [],
   "source": [
    "len(ko_pathways)"
   ]
  },
  {
   "cell_type": "code",
   "execution_count": null,
   "id": "forced-darkness",
   "metadata": {},
   "outputs": [],
   "source": [
    "p = 'ko00010'"
   ]
  },
  {
   "cell_type": "code",
   "execution_count": null,
   "id": "applicable-place",
   "metadata": {},
   "outputs": [],
   "source": [
    "t1[t1.KEGG_Pathway.apply(lambda x: False if x is np.nan else p in x)].gene.unique()"
   ]
  },
  {
   "cell_type": "code",
   "execution_count": null,
   "id": "dependent-sentence",
   "metadata": {},
   "outputs": [],
   "source": [
    "ko_gmt = {}\n",
    "for path in ko_pathways:\n",
    "    ko_gmt[path] = list(t1[t1.KEGG_Pathway.apply(lambda x: False if x is np.nan else path in x)].gene.unique())"
   ]
  },
  {
   "cell_type": "code",
   "execution_count": null,
   "id": "saving-utilization",
   "metadata": {},
   "outputs": [],
   "source": [
    "with open(Path(dataDir)/'07-10-ko.gmt', 'w') as fh:\n",
    "    for ko, genes in ko_gmt.items():\n",
    "        gene_str = \"\\t\".join(genes)\n",
    "        fh.write(f\"{ko}\\t{gene_str}\\n\")"
   ]
  },
  {
   "cell_type": "code",
   "execution_count": null,
   "id": "demographic-liver",
   "metadata": {},
   "outputs": [],
   "source": [
    "ko_gmt"
   ]
  },
  {
   "cell_type": "code",
   "execution_count": null,
   "id": "isolated-aaron",
   "metadata": {},
   "outputs": [],
   "source": [
    "results"
   ]
  },
  {
   "cell_type": "code",
   "execution_count": null,
   "id": "conceptual-vietnam",
   "metadata": {},
   "outputs": [],
   "source": [
    "import matplotlib.pyplot as plt\n",
    "plt.figure(figsize=(10,10))\n",
    "plt.scatter(results['z-score'], np.log2(results.CI))"
   ]
  },
  {
   "cell_type": "code",
   "execution_count": null,
   "id": "worst-dylan",
   "metadata": {},
   "outputs": [],
   "source": []
  }
 ],
 "metadata": {
  "kernelspec": {
   "display_name": "Python 3",
   "language": "python",
   "name": "python3"
  },
  "language_info": {
   "codemirror_mode": {
    "name": "ipython",
    "version": 3
   },
   "file_extension": ".py",
   "mimetype": "text/x-python",
   "name": "python",
   "nbconvert_exporter": "python",
   "pygments_lexer": "ipython3",
   "version": "3.6.6"
  },
  "toc": {
   "base_numbering": 1,
   "nav_menu": {},
   "number_sections": true,
   "sideBar": true,
   "skip_h1_title": false,
   "title_cell": "Table of Contents",
   "title_sidebar": "Contents",
   "toc_cell": false,
   "toc_position": {},
   "toc_section_display": true,
   "toc_window_display": false
  }
 },
 "nbformat": 4,
 "nbformat_minor": 5
}
