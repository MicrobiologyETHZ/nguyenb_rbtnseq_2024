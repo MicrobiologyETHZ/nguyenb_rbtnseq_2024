{
 "cells": [
  {
   "cell_type": "code",
   "execution_count": null,
   "id": "b441ecf3",
   "metadata": {},
   "outputs": [],
   "source": [
    "library(ggplot2)\n",
    "library(tidyverse)\n",
    "library(repr)"
   ]
  },
  {
   "cell_type": "code",
   "execution_count": null,
   "id": "588c2971",
   "metadata": {},
   "outputs": [],
   "source": [
    "results <- read.csv(\"final_results_annotated.csv\", row.names=1)"
   ]
  },
  {
   "cell_type": "code",
   "execution_count": null,
   "id": "fdb45eac",
   "metadata": {},
   "outputs": [],
   "source": [
    "results %>% head()"
   ]
  },
  {
   "cell_type": "code",
   "execution_count": null,
   "id": "2ddf6aa1",
   "metadata": {},
   "outputs": [],
   "source": [
    "draw_path<- function(df, term, term_col, title, limits){\n",
    "   path.df <- df %>% filter(grepl(term, !! sym(term_col)))\n",
    "   path.df <- path.df %>% arrange(desc(start)) %>% mutate(gene=factor(gene, levels=unique(gene))) %>% group_by(gene, day) %>% summarise(medCI = log2(median(CI, na.rm=TRUE)), hits=ifelse(sum(ifelse(zscore_padj<0.05, 1,0)) > 0, 'black','white'), medZscore = median(z.score, na.rm=TRUE))\n",
    "  minval = floor(path.df$medZscore %>% min())\n",
    "  maxval = ceiling(path.df$medZscore %>% max())\n",
    "  g <- path.df %>% ggplot(aes(day, gene)) +\n",
    "  geom_point(aes (color=medZscore), shape=15, size=5)+\n",
    "    geom_point(shape = 0,alpha=1, size = 6,colour = path.df$hits)+\n",
    "  labs(x = NULL, y = NULL, col = \"Median Z-score\", title=title, fontsize=14)+\n",
    "  theme_classic() +\n",
    "  scale_color_gradient2(mid=\"#FBFEF9\",low=\"#0C6291\",high=\"#A63446\", limits=c(minval, maxval))+\n",
    "    coord_fixed(ratio=1)\n",
    "  g\n",
    "}"
   ]
  },
  {
   "cell_type": "code",
   "execution_count": null,
   "id": "824bf889",
   "metadata": {},
   "outputs": [],
   "source": [
    "ppp <- draw_path(results, 'GO:0006098', 'GOs', 'Pentose Phosphate', c(-2,1))"
   ]
  },
  {
   "cell_type": "code",
   "execution_count": null,
   "id": "c320b57f",
   "metadata": {},
   "outputs": [],
   "source": [
    "options(repr.plot.width=8, repr.plot.height=8)\n",
    "ppp"
   ]
  },
  {
   "cell_type": "code",
   "execution_count": null,
   "id": "8af9937e",
   "metadata": {},
   "outputs": [],
   "source": []
  }
 ],
 "metadata": {
  "kernelspec": {
   "display_name": "R",
   "language": "R",
   "name": "ir"
  },
  "language_info": {
   "codemirror_mode": "r",
   "file_extension": ".r",
   "mimetype": "text/x-r-source",
   "name": "R",
   "pygments_lexer": "r",
   "version": "4.1.1"
  }
 },
 "nbformat": 4,
 "nbformat_minor": 5
}
