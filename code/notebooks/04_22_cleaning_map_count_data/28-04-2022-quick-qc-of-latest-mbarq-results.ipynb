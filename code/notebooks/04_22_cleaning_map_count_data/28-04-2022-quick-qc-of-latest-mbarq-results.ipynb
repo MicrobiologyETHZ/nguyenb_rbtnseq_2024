{
 "cells": [
  {
   "cell_type": "code",
   "execution_count": null,
   "metadata": {
    "ExecuteTime": {
     "end_time": "2022-04-28T12:30:40.805645Z",
     "start_time": "2022-04-28T12:30:19.891718Z"
    }
   },
   "outputs": [],
   "source": [
    "# %load ../snippets/basic_settings.py\n",
    "import pandas as pd\n",
    "import numpy as np\n",
    "import matplotlib.pyplot as plt\n",
    "import os\n",
    "from pathlib import Path\n",
    "import seaborn as sns\n",
    "import sys\n",
    "import plotly.express as px\n",
    "import yaml\n",
    "\n",
    "sns.set_context(\"notebook\", font_scale=1.1)\n",
    "pd.set_option(\"display.max_columns\", 100)\n",
    "pd.set_option(\"display.max_rows\", 100)\n",
    "plt.rcParams[\"figure.figsize\"] = (16, 12)\n",
    "plt.rcParams['savefig.dpi'] = 200\n",
    "plt.rcParams['figure.autolayout'] = False\n",
    "plt.rcParams['axes.labelsize'] = 18\n",
    "plt.rcParams['axes.titlesize'] = 20\n",
    "plt.rcParams['font.size'] = 16\n",
    "plt.rcParams['lines.linewidth'] = 2.0\n",
    "plt.rcParams['lines.markersize'] = 8\n",
    "plt.rcParams['legend.fontsize'] = 14\n",
    "plt.rcParams['text.usetex'] = False  # True activates latex output in fonts!\n",
    "plt.rcParams['font.family'] = \"serif\"\n",
    "plt.rcParams['font.serif'] = \"cm\"\n",
    "pd.set_option('display.float_format', lambda x: '{:,.2f}'.format(x))"
   ]
  },
  {
   "cell_type": "markdown",
   "metadata": {
    "ExecuteTime": {
     "end_time": "2022-04-28T12:34:35.931708Z",
     "start_time": "2022-04-28T12:34:35.926615Z"
    }
   },
   "source": [
    "# Load project configurations and set up data files"
   ]
  },
  {
   "cell_type": "code",
   "execution_count": null,
   "metadata": {
    "ExecuteTime": {
     "end_time": "2022-04-28T12:43:33.481560Z",
     "start_time": "2022-04-28T12:43:33.470166Z"
    }
   },
   "outputs": [],
   "source": [
    "config_file = \"../nguyenb_config.yaml\"\n",
    "with open(config_file) as file:\n",
    "    # The FullLoader parameter handles the conversion from YAML\n",
    "    # scalar values to Python the dictionary format\n",
    "    configs = yaml.load(file, Loader=yaml.FullLoader)"
   ]
  },
  {
   "cell_type": "code",
   "execution_count": null,
   "metadata": {},
   "outputs": [],
   "source": [
    "# # Run locally:\n",
    "# root = Path(configs['root']['local'])\n",
    "# scratchDir = configs['scratchDir']['local']"
   ]
  },
  {
   "cell_type": "code",
   "execution_count": null,
   "metadata": {
    "ExecuteTime": {
     "end_time": "2022-04-28T12:43:34.870429Z",
     "start_time": "2022-04-28T12:43:34.865494Z"
    }
   },
   "outputs": [],
   "source": [
    "# Run on server:\n",
    "root = Path(configs['root']['server'])\n",
    "scratchDir = configs['scratchDir']['server']"
   ]
  },
  {
   "cell_type": "code",
   "execution_count": null,
   "metadata": {
    "ExecuteTime": {
     "end_time": "2022-04-28T13:19:16.176220Z",
     "start_time": "2022-04-28T13:19:16.115420Z"
    }
   },
   "outputs": [],
   "source": [
    "mapDir = root/configs['mapDir']\n",
    "countDir = root/configs['libraryCountsDir']\n",
    "resultDir = root/configs['resultDir']\n",
    "sampleData = pd.read_csv(root/configs['sampleData'])"
   ]
  },
  {
   "cell_type": "markdown",
   "metadata": {},
   "source": [
    "# QC Maps\n",
    "## Load new and old maps"
   ]
  },
  {
   "cell_type": "code",
   "execution_count": null,
   "metadata": {
    "ExecuteTime": {
     "end_time": "2022-04-28T12:52:52.424298Z",
     "start_time": "2022-04-28T12:52:51.705838Z"
    }
   },
   "outputs": [],
   "source": [
    "new_maps = pd.read_csv(mapDir/\"14-04-22-concatenated_map.csv\")\n",
    "oldMapDir = Path(\"/nfs/nas22/fs2202/biol_micro_bioinf_nccr/hardt/nguyenb/tnseq/scratch/08_21/maps\")\n",
    "old_map_files = [f for f in oldMapDir.glob(\"*/*annotated.csv\")]\n",
    "old_maps =  pd.concat([pd.read_csv(f).assign(library=f.stem.split('.')[0]) for f in old_map_files])"
   ]
  },
  {
   "cell_type": "code",
   "execution_count": null,
   "metadata": {
    "ExecuteTime": {
     "end_time": "2022-04-28T12:46:21.683937Z",
     "start_time": "2022-04-28T12:46:21.664704Z"
    }
   },
   "outputs": [],
   "source": [
    "new_maps.sample(5)"
   ]
  },
  {
   "cell_type": "code",
   "execution_count": null,
   "metadata": {
    "ExecuteTime": {
     "end_time": "2022-04-28T12:52:58.584403Z",
     "start_time": "2022-04-28T12:52:58.561465Z"
    }
   },
   "outputs": [],
   "source": [
    "old_maps.sample(5)"
   ]
  },
  {
   "cell_type": "code",
   "execution_count": null,
   "metadata": {
    "ExecuteTime": {
     "end_time": "2022-04-28T12:53:55.971864Z",
     "start_time": "2022-04-28T12:53:55.901402Z"
    }
   },
   "outputs": [],
   "source": [
    "merged_map = new_maps.merge(old_maps, how='outer', on=['barcode', 'library'])"
   ]
  },
  {
   "cell_type": "code",
   "execution_count": null,
   "metadata": {
    "ExecuteTime": {
     "end_time": "2022-04-28T12:59:28.850328Z",
     "start_time": "2022-04-28T12:59:28.845219Z"
    }
   },
   "outputs": [],
   "source": [
    "to_show = ['barcode', 'cnt', 'number_of_reads', 'insertion_site', 'chr', 'sseqid', 'sstart', 'library']"
   ]
  },
  {
   "cell_type": "code",
   "execution_count": null,
   "metadata": {
    "ExecuteTime": {
     "end_time": "2022-04-28T12:59:37.157817Z",
     "start_time": "2022-04-28T12:59:37.135662Z"
    }
   },
   "outputs": [],
   "source": [
    "merged_map[to_show].sample(5)"
   ]
  },
  {
   "cell_type": "markdown",
   "metadata": {
    "ExecuteTime": {
     "end_time": "2022-04-28T13:17:12.885997Z",
     "start_time": "2022-04-28T13:17:12.881696Z"
    }
   },
   "source": [
    "## See if any barcode are missing from new maps"
   ]
  },
  {
   "cell_type": "code",
   "execution_count": null,
   "metadata": {
    "ExecuteTime": {
     "end_time": "2022-04-28T13:00:23.889540Z",
     "start_time": "2022-04-28T13:00:23.872300Z"
    }
   },
   "outputs": [],
   "source": [
    "merged_map[merged_map.insertion_site.isna()][to_show]"
   ]
  },
  {
   "cell_type": "markdown",
   "metadata": {},
   "source": [
    "## See if there are new barcodes in the new maps"
   ]
  },
  {
   "cell_type": "code",
   "execution_count": null,
   "metadata": {
    "ExecuteTime": {
     "end_time": "2022-04-28T13:06:09.807419Z",
     "start_time": "2022-04-28T13:06:09.635293Z"
    }
   },
   "outputs": [],
   "source": [
    "merged_map[merged_map.sstart.isna()].number_of_reads.hist(bins=50)"
   ]
  },
  {
   "cell_type": "code",
   "execution_count": null,
   "metadata": {
    "ExecuteTime": {
     "end_time": "2022-04-28T13:07:03.051193Z",
     "start_time": "2022-04-28T13:07:03.036598Z"
    }
   },
   "outputs": [],
   "source": [
    "merged_map[(merged_map.sstart.isna()) & (merged_map.number_of_reads > 1000)][to_show]"
   ]
  },
  {
   "cell_type": "markdown",
   "metadata": {},
   "source": [
    "## See if the locations are consistent between maps"
   ]
  },
  {
   "cell_type": "code",
   "execution_count": null,
   "metadata": {
    "ExecuteTime": {
     "end_time": "2022-04-28T13:11:56.806271Z",
     "start_time": "2022-04-28T13:11:56.780653Z"
    }
   },
   "outputs": [],
   "source": [
    "mmap = merged_map[to_show].dropna()"
   ]
  },
  {
   "cell_type": "code",
   "execution_count": null,
   "metadata": {
    "ExecuteTime": {
     "end_time": "2022-04-28T13:11:58.791215Z",
     "start_time": "2022-04-28T13:11:58.785167Z"
    }
   },
   "outputs": [],
   "source": [
    "mmap.shape"
   ]
  },
  {
   "cell_type": "code",
   "execution_count": null,
   "metadata": {
    "ExecuteTime": {
     "end_time": "2022-04-28T13:10:40.226404Z",
     "start_time": "2022-04-28T13:10:40.220056Z"
    }
   },
   "outputs": [],
   "source": [
    "merged_map.shape"
   ]
  },
  {
   "cell_type": "code",
   "execution_count": null,
   "metadata": {
    "ExecuteTime": {
     "end_time": "2022-04-28T13:15:33.875995Z",
     "start_time": "2022-04-28T13:15:33.725616Z"
    }
   },
   "outputs": [],
   "source": [
    "mmap[mmap.library == 'library_9_1'].plot(\"sstart\", \"insertion_site\", 'scatter')"
   ]
  },
  {
   "cell_type": "markdown",
   "metadata": {},
   "source": [
    "# QC Counts"
   ]
  },
  {
   "cell_type": "markdown",
   "metadata": {},
   "source": [
    "## Load new and old counts"
   ]
  },
  {
   "cell_type": "code",
   "execution_count": null,
   "metadata": {
    "ExecuteTime": {
     "end_time": "2022-04-28T13:43:37.644608Z",
     "start_time": "2022-04-28T13:43:32.696362Z"
    }
   },
   "outputs": [],
   "source": [
    "new_count_files = [f for f in countDir.glob(\"*mbarq_merged_counts.csv\")]\n",
    "newCounts = pd.concat([pd.read_csv(f).assign(library=f.stem.split('_mbarq')[0]) for f in new_count_files])\n",
    "#oldMapDir = Path(\"/nfs/nas22/fs2202/biol_micro_bioinf_nccr/hardt/nguyenb/tnseq/scratch/08_21/maps\")\n",
    "\n",
    "#old_maps =  pd.concat([pd.read_csv(f).assign(library=f.stem.split('.')[0]) for f in old_map_files])"
   ]
  },
  {
   "cell_type": "code",
   "execution_count": null,
   "metadata": {
    "ExecuteTime": {
     "end_time": "2022-04-28T13:43:42.383111Z",
     "start_time": "2022-04-28T13:43:37.646889Z"
    }
   },
   "outputs": [],
   "source": [
    "newCounts.sample(5)"
   ]
  },
  {
   "cell_type": "code",
   "execution_count": null,
   "metadata": {
    "ExecuteTime": {
     "end_time": "2022-04-28T13:43:50.978413Z",
     "start_time": "2022-04-28T13:43:42.387178Z"
    }
   },
   "outputs": [],
   "source": [
    "old_root = Path(\"/nfs/nas22/fs2202/biol_micro_bioinf_nccr/hardt/nguyenb/tnseq\")\n",
    "old_dataDir = old_root/\"scratch/08_21/counts/\"\n",
    "controls_file = old_root/\"data/metadata/controls.txt\"\n",
    "metafile = old_root/\"scratch/08_21/complete_metadata.tsv\"\n",
    "files = [f for f in old_dataDir.glob(\"*/*_mapped.csv\")]\n",
    "files_unmapped = [f for f in old_dataDir.glob(\"*/*_unmapped.csv\")]\n",
    "metadata = pd.read_table(metafile,index_col=0, header=None)\n",
    "metadata.columns = [\"library\", \"experiment\", \"mouse\", \"day\", \"tissue\", \"dnaid\", \"sampleID\"]\n",
    "df = pd.concat([pd.read_csv(f, index_col=0).assign(sampleID=f.stem.split('_counts')[0]) for f in files])\n",
    "df = df.merge(metadata, how='left', on='sampleID').dropna(subset=['mouse'])\n",
    "old_counts = (df[['sampleID', 'barcode', 'barcode_cnt']]\n",
    "              .drop_duplicates()\n",
    "              .pivot(index='barcode', columns='sampleID')\n",
    "             .reset_index())"
   ]
  },
  {
   "cell_type": "code",
   "execution_count": null,
   "metadata": {
    "ExecuteTime": {
     "end_time": "2022-04-28T13:43:51.695445Z",
     "start_time": "2022-04-28T13:43:50.982291Z"
    }
   },
   "outputs": [],
   "source": [
    "sampleID = 'dnaid2019_65'\n",
    "left = newCounts[['barcode', sampleID]]\n",
    "right = old_counts[[('barcode',''), ('barcode_cnt', sampleID)]]\n",
    "right.columns = ['barcode', f\"{sampleID}_old\"]\n",
    "df2 = left.merge(right, how='inner', on='barcode')\n",
    "plt.plot(df2[sampleID], df2[f\"{sampleID}_old\"], 'k.')\n",
    "plt.xscale('log')\n",
    "plt.yscale('log')"
   ]
  }
 ],
 "metadata": {
  "kernelspec": {
   "display_name": "Python 3 (ipykernel)",
   "language": "python",
   "name": "python3"
  },
  "language_info": {
   "codemirror_mode": {
    "name": "ipython",
    "version": 3
   },
   "file_extension": ".py",
   "mimetype": "text/x-python",
   "name": "python",
   "nbconvert_exporter": "python",
   "pygments_lexer": "ipython3",
   "version": "3.8.12"
  },
  "toc": {
   "base_numbering": 1,
   "nav_menu": {},
   "number_sections": true,
   "sideBar": true,
   "skip_h1_title": false,
   "title_cell": "Table of Contents",
   "title_sidebar": "Contents",
   "toc_cell": false,
   "toc_position": {},
   "toc_section_display": true,
   "toc_window_display": true
  }
 },
 "nbformat": 4,
 "nbformat_minor": 4
}
