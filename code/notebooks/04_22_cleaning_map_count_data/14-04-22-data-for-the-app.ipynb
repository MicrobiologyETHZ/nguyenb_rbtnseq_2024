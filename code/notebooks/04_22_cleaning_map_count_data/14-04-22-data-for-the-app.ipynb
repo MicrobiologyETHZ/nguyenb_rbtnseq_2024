{
 "cells": [
  {
   "cell_type": "code",
   "execution_count": null,
   "metadata": {
    "ExecuteTime": {
     "end_time": "2022-04-14T12:37:42.383015Z",
     "start_time": "2022-04-14T12:37:38.601466Z"
    }
   },
   "outputs": [],
   "source": [
    "# %load ../snippets/basic_settings.py\n",
    "import pandas as pd\n",
    "import numpy as np\n",
    "import matplotlib.pyplot as plt\n",
    "import os\n",
    "from pathlib import Path\n",
    "import seaborn as sns\n",
    "import sys\n",
    "import plotly.express as px\n",
    "import yaml\n",
    "\n",
    "sns.set_context(\"notebook\", font_scale=1.1)\n",
    "pd.set_option(\"display.max_columns\", 100)\n",
    "pd.set_option(\"display.max_rows\", 100)\n",
    "plt.rcParams[\"figure.figsize\"] = (16, 12)\n",
    "plt.rcParams['savefig.dpi'] = 200\n",
    "plt.rcParams['figure.autolayout'] = False\n",
    "plt.rcParams['axes.labelsize'] = 18\n",
    "plt.rcParams['axes.titlesize'] = 20\n",
    "plt.rcParams['font.size'] = 16\n",
    "plt.rcParams['lines.linewidth'] = 2.0\n",
    "plt.rcParams['lines.markersize'] = 8\n",
    "plt.rcParams['legend.fontsize'] = 14\n",
    "plt.rcParams['text.usetex'] = False  # True activates latex output in fonts!\n",
    "plt.rcParams['font.family'] = \"serif\"\n",
    "plt.rcParams['font.serif'] = \"cm\"\n",
    "pd.set_option('display.float_format', lambda x: '{:,.2f}'.format(x))"
   ]
  },
  {
   "cell_type": "code",
   "execution_count": null,
   "metadata": {
    "ExecuteTime": {
     "end_time": "2022-04-14T13:00:13.546732Z",
     "start_time": "2022-04-14T13:00:13.543757Z"
    }
   },
   "outputs": [],
   "source": [
    "import subprocess\n",
    "import shlex"
   ]
  },
  {
   "cell_type": "code",
   "execution_count": null,
   "metadata": {
    "ExecuteTime": {
     "end_time": "2022-04-14T12:37:45.322836Z",
     "start_time": "2022-04-14T12:37:45.312640Z"
    }
   },
   "outputs": [],
   "source": [
    "config_file = \"../nguyenb_config.yaml\"\n",
    "with open(config_file) as file:\n",
    "    # The FullLoader parameter handles the conversion from YAML\n",
    "    # scalar values to Python the dictionary format\n",
    "    configs = yaml.load(file, Loader=yaml.FullLoader)"
   ]
  },
  {
   "cell_type": "code",
   "execution_count": null,
   "metadata": {
    "ExecuteTime": {
     "end_time": "2022-04-14T12:37:46.295511Z",
     "start_time": "2022-04-14T12:37:46.291030Z"
    }
   },
   "outputs": [],
   "source": [
    "# Run locally:\n",
    "root = Path(configs['root']['local'])\n",
    "scratchDir = configs['scratchDir']['local']"
   ]
  },
  {
   "cell_type": "code",
   "execution_count": null,
   "metadata": {
    "ExecuteTime": {
     "end_time": "2022-04-14T09:57:25.746458Z",
     "start_time": "2022-04-14T09:57:25.741559Z"
    }
   },
   "outputs": [],
   "source": [
    "# Run on server:\n",
    "#root = Path(configs['root']['server'])\n",
    "#scratchDir = configs['scratchDir']['server']"
   ]
  },
  {
   "cell_type": "markdown",
   "metadata": {},
   "source": [
    "# Set up data files"
   ]
  },
  {
   "cell_type": "code",
   "execution_count": null,
   "metadata": {
    "ExecuteTime": {
     "end_time": "2022-04-14T12:37:53.346672Z",
     "start_time": "2022-04-14T12:37:53.322260Z"
    }
   },
   "outputs": [],
   "source": [
    "mapDir = root/configs['mapDir']\n",
    "countDir = root/configs['countDir']\n",
    "resultDir = root/configs['resultDir']\n",
    "sampleData = pd.read_table(root/configs['sampleDataOriginal'], header=None)\n",
    "sampleData.columns = ['demux_code', 'library', 'experiment', 'mouse', 'day', 'tissue', 'dnaid', 'sampleID']\n",
    "sampleData = sampleData[['sampleID', 'mouse', 'day', 'tissue', 'experiment', 'dnaid', 'library', 'demux_code']]"
   ]
  },
  {
   "cell_type": "code",
   "execution_count": null,
   "metadata": {
    "ExecuteTime": {
     "end_time": "2022-04-14T12:39:13.591538Z",
     "start_time": "2022-04-14T12:39:13.581414Z"
    }
   },
   "outputs": [],
   "source": [
    "sampleData.to_csv(root/\"14-04-22-sample-data.csv\", index=False)"
   ]
  },
  {
   "cell_type": "code",
   "execution_count": null,
   "metadata": {
    "ExecuteTime": {
     "end_time": "2022-04-14T12:39:14.903034Z",
     "start_time": "2022-04-14T12:39:14.882669Z"
    }
   },
   "outputs": [],
   "source": [
    "sampleData"
   ]
  },
  {
   "cell_type": "markdown",
   "metadata": {},
   "source": [
    "# Merge counts by library"
   ]
  },
  {
   "cell_type": "code",
   "execution_count": null,
   "metadata": {
    "ExecuteTime": {
     "end_time": "2022-04-14T13:08:46.181107Z",
     "start_time": "2022-04-14T13:08:08.564615Z"
    }
   },
   "outputs": [],
   "source": [
    "for library, df in sampleData.groupby('library'):\n",
    "    print(library)\n",
    "    files = [str(countDir/f\"{f}_mbarq_counts.csv\") for f in df.sampleID.values]\n",
    "    files = \",\".join(files)\n",
    "    cmd = f\"mbarq merge -i {files} -a Name -o {root/'counts_by_library'} -n {library}\"\n",
    "    subprocess.call(shlex.split(cmd))\n",
    "    "
   ]
  },
  {
   "cell_type": "markdown",
   "metadata": {
    "ExecuteTime": {
     "end_time": "2022-04-14T12:42:06.314269Z",
     "start_time": "2022-04-14T12:42:06.306835Z"
    }
   },
   "source": [
    "# Merge all library maps"
   ]
  },
  {
   "cell_type": "code",
   "execution_count": null,
   "metadata": {
    "ExecuteTime": {
     "end_time": "2022-04-14T13:09:57.368892Z",
     "start_time": "2022-04-14T13:09:57.362221Z"
    }
   },
   "outputs": [],
   "source": [
    "maps = [f for f in mapDir.iterdir() if 'annotated.csv' in f.name]"
   ]
  },
  {
   "cell_type": "code",
   "execution_count": null,
   "metadata": {
    "ExecuteTime": {
     "end_time": "2022-04-14T13:11:15.369566Z",
     "start_time": "2022-04-14T13:11:15.158836Z"
    }
   },
   "outputs": [],
   "source": [
    "fmap = pd.concat([pd.read_csv(f).assign(library=f.stem.split('.')[0]) for f in maps])"
   ]
  },
  {
   "cell_type": "code",
   "execution_count": null,
   "metadata": {
    "ExecuteTime": {
     "end_time": "2022-04-14T13:12:04.918914Z",
     "start_time": "2022-04-14T13:12:04.744801Z"
    }
   },
   "outputs": [],
   "source": [
    "fmap.to_csv(mapDir/\"14-04-22-concatenated_map.csv\", index=False)"
   ]
  }
 ],
 "metadata": {
  "kernelspec": {
   "display_name": "Python 3 (ipykernel)",
   "language": "python",
   "name": "python3"
  },
  "language_info": {
   "codemirror_mode": {
    "name": "ipython",
    "version": 3
   },
   "file_extension": ".py",
   "mimetype": "text/x-python",
   "name": "python",
   "nbconvert_exporter": "python",
   "pygments_lexer": "ipython3",
   "version": "3.8.12"
  },
  "toc": {
   "base_numbering": 1,
   "nav_menu": {},
   "number_sections": true,
   "sideBar": true,
   "skip_h1_title": false,
   "title_cell": "Table of Contents",
   "title_sidebar": "Contents",
   "toc_cell": false,
   "toc_position": {},
   "toc_section_display": true,
   "toc_window_display": true
  }
 },
 "nbformat": 4,
 "nbformat_minor": 5
}
