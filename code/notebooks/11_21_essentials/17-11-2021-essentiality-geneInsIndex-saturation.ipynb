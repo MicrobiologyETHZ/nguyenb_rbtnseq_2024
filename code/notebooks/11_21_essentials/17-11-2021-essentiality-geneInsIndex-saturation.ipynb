{
 "cells": [
  {
   "cell_type": "code",
   "execution_count": null,
   "metadata": {
    "ExecuteTime": {
     "end_time": "2021-11-17T12:27:53.822974Z",
     "start_time": "2021-11-17T12:27:50.823701Z"
    }
   },
   "outputs": [],
   "source": [
    "# %load ../snippets/basic_settings.py\n",
    "import pandas as pd\n",
    "import numpy as np\n",
    "import matplotlib.pyplot as plt\n",
    "import seaborn as sns\n",
    "from pathlib import Path\n",
    "\n",
    "\n",
    "sns.set_context(\"notebook\", font_scale=1.1)\n",
    "pd.set_option(\"display.max_columns\", 100)\n",
    "pd.set_option(\"display.max_rows\", 100)\n",
    "plt.rcParams[\"figure.figsize\"] = (16, 12)\n",
    "plt.rcParams['savefig.dpi'] = 200\n",
    "plt.rcParams['figure.autolayout'] = False\n",
    "plt.rcParams['axes.labelsize'] = 18\n",
    "plt.rcParams['axes.titlesize'] = 20\n",
    "plt.rcParams['font.size'] = 16\n",
    "plt.rcParams['lines.linewidth'] = 2.0\n",
    "plt.rcParams['lines.markersize'] = 8\n",
    "plt.rcParams['legend.fontsize'] = 14\n",
    "plt.rcParams['text.usetex'] = False  # True activates latex output in fonts!\n",
    "plt.rcParams['font.family'] = \"serif\"\n",
    "plt.rcParams['font.serif'] = \"cm\"\n",
    "pd.set_option('display.float_format', lambda x: '{:,.2f}'.format(x))"
   ]
  },
  {
   "cell_type": "code",
   "execution_count": null,
   "metadata": {
    "ExecuteTime": {
     "end_time": "2021-11-17T12:27:56.000032Z",
     "start_time": "2021-11-17T12:27:54.870735Z"
    }
   },
   "outputs": [],
   "source": [
    "root =Path(\"/nfs/nas22/fs2202/biol_micro_bioinf_nccr/hardt/nguyenb/tnseq\")\n",
    "dataDir = root/\"scratch/08_21/\"\n",
    "mapFiles = [f for f in (dataDir/'maps').glob('*/*barcode_map.annotated.csv')]\n",
    "mapFilesUnFiltered = [f for f in (dataDir/'l0/maps').glob('*/*barcode_map.annotated.csv') ]"
   ]
  },
  {
   "cell_type": "markdown",
   "metadata": {},
   "source": [
    "# Loading mapping files"
   ]
  },
  {
   "cell_type": "code",
   "execution_count": null,
   "metadata": {
    "ExecuteTime": {
     "end_time": "2021-11-17T12:29:26.700384Z",
     "start_time": "2021-11-17T12:29:26.120671Z"
    }
   },
   "outputs": [],
   "source": [
    "mapsDf = pd.concat([pd.read_csv(f).assign(library=f.name.split('.barcode_map.annotated.csv')[0]) for f in mapFiles])"
   ]
  },
  {
   "cell_type": "code",
   "execution_count": null,
   "metadata": {
    "ExecuteTime": {
     "end_time": "2021-11-17T13:00:56.154800Z",
     "start_time": "2021-11-17T13:00:56.134637Z"
    }
   },
   "outputs": [],
   "source": [
    "mapsDf = mapsDf[mapsDf.sseqid == 'FQ312003.1']"
   ]
  },
  {
   "cell_type": "code",
   "execution_count": null,
   "metadata": {
    "ExecuteTime": {
     "end_time": "2021-11-17T13:00:57.595359Z",
     "start_time": "2021-11-17T13:00:57.578251Z"
    }
   },
   "outputs": [],
   "source": [
    "mapsDf.sample(5)"
   ]
  },
  {
   "cell_type": "markdown",
   "metadata": {},
   "source": [
    "# Count number of insertions per gene"
   ]
  },
  {
   "cell_type": "code",
   "execution_count": null,
   "metadata": {
    "ExecuteTime": {
     "end_time": "2021-11-17T13:01:00.866062Z",
     "start_time": "2021-11-17T13:01:00.839161Z"
    }
   },
   "outputs": [],
   "source": [
    "num_insertions = mapsDf.groupby('ShortName').agg({'barcode':['nunique']}).reset_index()\n",
    "num_insertions.columns = [\"ShortName\", 'numIns']"
   ]
  },
  {
   "cell_type": "code",
   "execution_count": null,
   "metadata": {
    "ExecuteTime": {
     "end_time": "2021-11-17T13:01:08.992607Z",
     "start_time": "2021-11-17T13:01:08.986688Z"
    }
   },
   "outputs": [],
   "source": [
    "num_insertions.shape"
   ]
  },
  {
   "cell_type": "markdown",
   "metadata": {},
   "source": [
    "# Get all genes and gene length"
   ]
  },
  {
   "cell_type": "code",
   "execution_count": null,
   "metadata": {
    "ExecuteTime": {
     "end_time": "2021-11-17T13:01:13.210165Z",
     "start_time": "2021-11-17T13:01:13.205544Z"
    }
   },
   "outputs": [],
   "source": [
    "gff_file = Path(\"/nfs/cds-peta/exports/biol_micro_cds_gr_sunagawa/scratch/Projects_NCCR/\"+\n",
    "                \"ref/SL1344/ncbi-genomes-2021-08-25/GCA_000210855.2_ASM21085v2_genomic.gff\")"
   ]
  },
  {
   "cell_type": "code",
   "execution_count": null,
   "metadata": {
    "ExecuteTime": {
     "end_time": "2021-11-17T13:01:42.700439Z",
     "start_time": "2021-11-17T13:01:42.651942Z"
    }
   },
   "outputs": [],
   "source": [
    "gffDf = pd.read_table(gff_file, skiprows=7, header=None)\n",
    "gffDf.columns = ['chr', 'src', 'feat_id', 'start', 'end', 'DN', 'strand', 'DN2', 'attribute']\n",
    "gffDf = gffDf[['chr', 'feat_id', 'start', 'end', 'strand' , 'attribute']]\n",
    "gffDf = gffDf[gffDf.chr == 'FQ312003.1']\n",
    "gffDf = gffDf[gffDf.feat_id == 'gene']\n",
    "gffDf['geneLen'] = abs(gffDf['end'] - gffDf['start'])/1000"
   ]
  },
  {
   "cell_type": "code",
   "execution_count": null,
   "metadata": {
    "ExecuteTime": {
     "end_time": "2021-11-17T13:01:48.857201Z",
     "start_time": "2021-11-17T13:01:48.832085Z"
    }
   },
   "outputs": [],
   "source": [
    "gffDf['ShortName'] = gffDf.attribute.apply(lambda x: x.split(\"Name=\")[1].split(\";\")[0])\n",
    "gffDf['locus_tag'] = gffDf.attribute.apply(lambda x: x.split(\"locus_tag=\")[1].split(\";\")[0] if 'locus_tag' in x else None)\n",
    "gffDf.sample(5)"
   ]
  },
  {
   "cell_type": "code",
   "execution_count": null,
   "metadata": {
    "ExecuteTime": {
     "end_time": "2021-11-17T13:03:10.676712Z",
     "start_time": "2021-11-17T13:03:10.670777Z"
    }
   },
   "outputs": [],
   "source": [
    "gffDf.shape"
   ]
  },
  {
   "cell_type": "markdown",
   "metadata": {},
   "source": [
    "# Calculate geneInsertion index"
   ]
  },
  {
   "cell_type": "code",
   "execution_count": null,
   "metadata": {
    "ExecuteTime": {
     "end_time": "2021-11-17T13:03:35.033292Z",
     "start_time": "2021-11-17T13:03:35.016614Z"
    }
   },
   "outputs": [],
   "source": [
    "df = num_insertions.merge(gffDf,how='outer', on=['ShortName'])\n",
    "df['numIns'] = df['numIns'].fillna(0)"
   ]
  },
  {
   "cell_type": "code",
   "execution_count": null,
   "metadata": {
    "ExecuteTime": {
     "end_time": "2021-11-17T13:03:36.040920Z",
     "start_time": "2021-11-17T13:03:36.034966Z"
    }
   },
   "outputs": [],
   "source": [
    "df['geneIns'] = df['numIns']/df['geneLen']"
   ]
  },
  {
   "cell_type": "code",
   "execution_count": null,
   "metadata": {
    "ExecuteTime": {
     "end_time": "2021-11-17T13:03:37.009488Z",
     "start_time": "2021-11-17T13:03:37.004075Z"
    }
   },
   "outputs": [],
   "source": [
    "df.shape"
   ]
  },
  {
   "cell_type": "code",
   "execution_count": null,
   "metadata": {
    "ExecuteTime": {
     "end_time": "2021-11-17T13:03:44.897610Z",
     "start_time": "2021-11-17T13:03:42.585141Z"
    }
   },
   "outputs": [],
   "source": [
    "df.geneIns.hist(bins=2000)\n",
    "plt.xlim(0, 10)"
   ]
  },
  {
   "cell_type": "code",
   "execution_count": null,
   "metadata": {
    "ExecuteTime": {
     "end_time": "2021-11-17T13:07:47.940572Z",
     "start_time": "2021-11-17T13:07:47.807980Z"
    }
   },
   "outputs": [],
   "source": [
    "plt.figure(figsize=(25, 5))\n",
    "lotsInsertion = df[df.geneIns >50]\n",
    "plt.eventplot(lotsInsertion.start, orientation=\"horizontal\")"
   ]
  },
  {
   "cell_type": "code",
   "execution_count": null,
   "metadata": {
    "ExecuteTime": {
     "end_time": "2021-11-17T13:07:56.130964Z",
     "start_time": "2021-11-17T13:07:55.994842Z"
    }
   },
   "outputs": [],
   "source": [
    "plt.figure(figsize=(25, 5))\n",
    "noInsertion = df[df.geneIns == 0]\n",
    "plt.eventplot(noInsertion.start, orientation=\"horizontal\")"
   ]
  },
  {
   "cell_type": "code",
   "execution_count": null,
   "metadata": {
    "ExecuteTime": {
     "end_time": "2021-11-17T13:11:20.427922Z",
     "start_time": "2021-11-17T13:11:20.414717Z"
    }
   },
   "outputs": [],
   "source": [
    "df.start.describe()"
   ]
  },
  {
   "cell_type": "code",
   "execution_count": null,
   "metadata": {
    "ExecuteTime": {
     "end_time": "2021-11-17T16:05:58.620607Z",
     "start_time": "2021-11-17T16:05:58.599702Z"
    }
   },
   "outputs": [],
   "source": [
    "dfq1 = df[df.start < 1500000]\n",
    "dfq2 = df[(df.start > 1500000) & (df.start < 2000000)]\n",
    "dfq3 = df[(df.start > 3900000) & (df.start < 4100000)]"
   ]
  },
  {
   "cell_type": "code",
   "execution_count": null,
   "metadata": {
    "ExecuteTime": {
     "end_time": "2021-11-17T16:06:07.524241Z",
     "start_time": "2021-11-17T16:06:01.521162Z"
    }
   },
   "outputs": [],
   "source": [
    "dfq1.geneIns.hist(bins=1000, alpha=0.7, label='1')\n",
    "#dfq2.geneIns.hist(bins=1000, alpha=0.7, label='2')\n",
    "dfq3.geneIns.hist(bins=1000, alpha=0.7, label='3')\n",
    "plt.xlim(0,10);\n",
    "plt.yscale('log')\n",
    "plt.legend()"
   ]
  },
  {
   "cell_type": "code",
   "execution_count": null,
   "metadata": {
    "ExecuteTime": {
     "end_time": "2021-11-17T13:35:34.633562Z",
     "start_time": "2021-11-17T13:35:34.621717Z"
    }
   },
   "outputs": [],
   "source": [
    "df['rolAvIns'] = df.geneIns.rolling(window=300).mean()"
   ]
  },
  {
   "cell_type": "code",
   "execution_count": null,
   "metadata": {
    "ExecuteTime": {
     "end_time": "2021-11-17T13:35:35.341847Z",
     "start_time": "2021-11-17T13:35:35.200925Z"
    }
   },
   "outputs": [],
   "source": [
    "df = df.sort_values('start')\n",
    "plt.plot(df.start, df.rolAvIns, 'k')"
   ]
  },
  {
   "cell_type": "code",
   "execution_count": null,
   "metadata": {
    "ExecuteTime": {
     "end_time": "2021-11-17T13:41:05.316390Z",
     "start_time": "2021-11-17T13:41:05.291341Z"
    }
   },
   "outputs": [],
   "source": [
    "dfq3"
   ]
  },
  {
   "cell_type": "markdown",
   "metadata": {},
   "source": [
    "# Calculate permutations"
   ]
  },
  {
   "cell_type": "code",
   "execution_count": null,
   "metadata": {
    "ExecuteTime": {
     "end_time": "2021-11-17T15:31:06.572075Z",
     "start_time": "2021-11-17T15:31:06.567872Z"
    }
   },
   "outputs": [],
   "source": [
    "import random"
   ]
  },
  {
   "cell_type": "code",
   "execution_count": null,
   "metadata": {
    "ExecuteTime": {
     "end_time": "2021-11-17T16:06:29.702519Z",
     "start_time": "2021-11-17T16:06:28.762150Z"
    }
   },
   "outputs": [],
   "source": [
    "dfq3_shuffle = pd.DataFrame()\n",
    "l = dfq3.geneIns.values\n",
    "dfq3_shuffle['gene'] = dfq3['ShortName']\n",
    "shuffles = []\n",
    "for i in range(10000):\n",
    "    random.shuffle(l)\n",
    "    shuffled = l.copy()\n",
    "    shuffles.append(shuffled)\n",
    "shDf = pd.DataFrame(shuffles).T\n",
    "shDf['ShortName'] = dfq3.ShortName.values\n",
    "shDf = shDf.set_index('ShortName').T\n",
    "x = 0\n",
    "sum(shDf.sadA<=x)/10000\n",
    "shDf = pd.DataFrame(shuffles).T\n",
    "shDf['ShortName'] = dfq3.ShortName.values\n",
    "shDf = shDf.set_index('ShortName').T\n",
    "x = 0\n",
    "sum(shDf.sadA<=x)/10000"
   ]
  },
  {
   "cell_type": "code",
   "execution_count": null,
   "metadata": {
    "ExecuteTime": {
     "end_time": "2021-11-17T16:06:31.939671Z",
     "start_time": "2021-11-17T16:06:31.473233Z"
    }
   },
   "outputs": [],
   "source": [
    "shDf = pd.DataFrame(shuffles).T\n",
    "shDf['ShortName'] = dfq3.ShortName.values\n",
    "shDf = shDf.set_index('ShortName').T\n",
    "x = 0\n",
    "sum(shDf.sadA<=x)/10000"
   ]
  },
  {
   "cell_type": "code",
   "execution_count": null,
   "metadata": {
    "ExecuteTime": {
     "end_time": "2021-11-17T16:06:33.695101Z",
     "start_time": "2021-11-17T16:06:33.639292Z"
    }
   },
   "outputs": [],
   "source": [
    "shDf"
   ]
  },
  {
   "cell_type": "code",
   "execution_count": null,
   "metadata": {
    "ExecuteTime": {
     "end_time": "2021-11-17T16:06:39.575603Z",
     "start_time": "2021-11-17T16:06:39.377480Z"
    }
   },
   "outputs": [],
   "source": [
    "shDf.sadA.hist(bins=100)"
   ]
  },
  {
   "cell_type": "code",
   "execution_count": null,
   "metadata": {
    "ExecuteTime": {
     "end_time": "2021-11-17T15:36:45.190163Z",
     "start_time": "2021-11-17T15:36:45.142799Z"
    }
   },
   "outputs": [],
   "source": [
    "shDf"
   ]
  },
  {
   "cell_type": "code",
   "execution_count": null,
   "metadata": {
    "ExecuteTime": {
     "end_time": "2021-11-17T16:06:48.063330Z",
     "start_time": "2021-11-17T16:06:48.053557Z"
    }
   },
   "outputs": [],
   "source": [
    "x = 0\n",
    "sum(shDf.sadA<=x)/10000"
   ]
  },
  {
   "cell_type": "code",
   "execution_count": null,
   "metadata": {},
   "outputs": [],
   "source": []
  }
 ],
 "metadata": {
  "kernelspec": {
   "display_name": "Python 3 (ipykernel)",
   "language": "python",
   "name": "python3"
  },
  "language_info": {
   "codemirror_mode": {
    "name": "ipython",
    "version": 3
   },
   "file_extension": ".py",
   "mimetype": "text/x-python",
   "name": "python",
   "nbconvert_exporter": "python",
   "pygments_lexer": "ipython3",
   "version": "3.8.12"
  },
  "toc": {
   "base_numbering": 1,
   "nav_menu": {},
   "number_sections": true,
   "sideBar": true,
   "skip_h1_title": false,
   "title_cell": "Table of Contents",
   "title_sidebar": "Contents",
   "toc_cell": false,
   "toc_position": {},
   "toc_section_display": true,
   "toc_window_display": true
  }
 },
 "nbformat": 4,
 "nbformat_minor": 4
}
