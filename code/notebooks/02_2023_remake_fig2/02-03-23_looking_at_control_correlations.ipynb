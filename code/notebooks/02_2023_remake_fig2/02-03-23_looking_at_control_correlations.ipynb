{
 "cells": [
  {
   "cell_type": "code",
   "execution_count": null,
   "metadata": {
    "ExecuteTime": {
     "end_time": "2023-03-02T15:48:21.280956Z",
     "start_time": "2023-03-02T15:48:16.967414Z"
    }
   },
   "outputs": [],
   "source": [
    "# %load load_manuscript_data.py\n",
    "import pandas as pd\n",
    "import numpy as np\n",
    "import matplotlib.pyplot as plt\n",
    "import os\n",
    "from pathlib import Path\n",
    "import seaborn as sns\n",
    "import sys\n",
    "import plotly.express as px\n",
    "import plotly.io as pio\n",
    "import yaml\n",
    "\n",
    "sns.set_context(\"notebook\", font_scale=1.4)\n",
    "pd.set_option(\"display.max_columns\", 100)\n",
    "pd.set_option(\"display.max_rows\", 100)\n",
    "plt.rcParams[\"figure.figsize\"] = (16, 12)\n",
    "plt.rcParams['savefig.dpi'] = 200\n",
    "plt.rcParams['figure.autolayout'] = False\n",
    "plt.rcParams['axes.labelsize'] = 18\n",
    "plt.rcParams['axes.titlesize'] = 20\n",
    "plt.rcParams['font.size'] = 16\n",
    "plt.rcParams['lines.linewidth'] = 2.0\n",
    "plt.rcParams['lines.markersize'] = 8\n",
    "plt.rcParams['legend.fontsize'] = 14\n",
    "pd.set_option('display.float_format', lambda x: '{:,.4f}'.format(x))\n",
    "\n",
    "\n",
    "config_file = \"manuscript_config.yaml\"\n",
    "with open(config_file) as file:\n",
    "    # The FullLoader parameter handles the conversion from YAML\n",
    "    # scalar values to Python the dictionary format\n",
    "    configs = yaml.load(file, Loader=yaml.FullLoader)\n",
    "    \n",
    "# Run on server:\n",
    "run_on = \"server\"\n",
    "root = Path(configs['root'][run_on])\n",
    "scratchDir = Path(configs['scratchDir'][run_on])\n",
    "figuresDir = Path(configs['figuresDir'][run_on])\n",
    "\n",
    "alphabetClrs = px.colors.qualitative.Alphabet\n",
    "clrs = [\"#f7ba65\", \"#bf4713\", \"#9c002f\", \"#d73d00\", \"#008080\", \"#004c4c\"]\n",
    "colors = {'grey': alphabetClrs[8], \n",
    "        'light_yellow': clrs[0],\n",
    "        'darko': clrs[1],\n",
    "        'maroon':clrs[2],\n",
    "        'brighto': clrs[3],\n",
    "        'teal':clrs[4],\n",
    "        'darkteal':clrs[5]\n",
    "       }\n",
    "\n",
    "sushi_colors = {'red': '#C0504D',\n",
    "             'orange': '#F79646',\n",
    "             'medSea': '#4BACC6', \n",
    "             'black': '#000000',\n",
    "             'dgreen': '#00B04E',\n",
    "             'lgreen': '#92D050',\n",
    "             'dblue': '#366092',\n",
    "             'lblue': '#95B3D7'}"
   ]
  },
  {
   "cell_type": "code",
   "execution_count": null,
   "metadata": {
    "ExecuteTime": {
     "end_time": "2023-03-02T15:48:21.316775Z",
     "start_time": "2023-03-02T15:48:21.309000Z"
    }
   },
   "outputs": [],
   "source": [
    "nguyenConfig = configs['nguyen']\n",
    "countsFile = root/nguyenConfig['countsFile']\n",
    "resultsFile = root/nguyenConfig['resultsFile']\n",
    "#resultsFileName = root/nguyenConfig['resultsFileName']\n",
    "sampleDataFile = root/nguyenConfig['sampleDataFile']\n",
    "publishedResultsFile = root/nguyenConfig['publishedResultsFile']\n",
    "publishedPhenotypesFile = root/nguyenConfig['publishedPhenotypesFile']\n",
    "mapFile = root/nguyenConfig['mapFile']['filtered']"
   ]
  },
  {
   "cell_type": "code",
   "execution_count": null,
   "metadata": {
    "ExecuteTime": {
     "end_time": "2023-03-02T15:48:21.335805Z",
     "start_time": "2023-03-02T15:48:21.322354Z"
    }
   },
   "outputs": [],
   "source": [
    "resultsFile"
   ]
  },
  {
   "cell_type": "code",
   "execution_count": null,
   "metadata": {
    "ExecuteTime": {
     "end_time": "2023-03-02T15:48:21.593331Z",
     "start_time": "2023-03-02T15:48:21.342230Z"
    }
   },
   "outputs": [],
   "source": [
    "%ls /nfs/cds-peta/exports/biol_micro_cds_gr_sunagawa/scratch/lifeer/14_02_23_rerunning_mbarq/data/results"
   ]
  },
  {
   "cell_type": "code",
   "execution_count": null,
   "metadata": {
    "ExecuteTime": {
     "end_time": "2023-03-02T15:48:21.616372Z",
     "start_time": "2023-03-02T15:48:21.600547Z"
    }
   },
   "outputs": [],
   "source": [
    "sample_data = pd.read_csv(sampleDataFile)\n",
    "samples = list(sample_data.sampleID.values)"
   ]
  },
  {
   "cell_type": "code",
   "execution_count": null,
   "metadata": {
    "ExecuteTime": {
     "end_time": "2023-03-02T15:48:56.115951Z",
     "start_time": "2023-03-02T15:48:56.096977Z"
    }
   },
   "outputs": [],
   "source": [
    "controls = pd.read_csv(\"/nfs/cds-peta/exports/biol_micro_cds_gr_sunagawa/scratch/lifeer/14_02_23_rerunning_mbarq/data/results/nguyen_2020_l50_mbarq_merged_counts_control_counts.csv\",\n",
    "                      index_col=0)"
   ]
  },
  {
   "cell_type": "code",
   "execution_count": null,
   "metadata": {
    "ExecuteTime": {
     "end_time": "2023-03-02T15:48:56.441158Z",
     "start_time": "2023-03-02T15:48:56.431780Z"
    }
   },
   "outputs": [],
   "source": [
    "controls  = controls[['barcode', 'concentration']+samples]"
   ]
  },
  {
   "cell_type": "code",
   "execution_count": null,
   "metadata": {
    "ExecuteTime": {
     "end_time": "2023-03-02T15:48:57.187971Z",
     "start_time": "2023-03-02T15:48:57.164963Z"
    }
   },
   "outputs": [],
   "source": [
    "controls"
   ]
  },
  {
   "cell_type": "code",
   "execution_count": null,
   "metadata": {
    "ExecuteTime": {
     "end_time": "2023-03-02T15:48:22.909187Z",
     "start_time": "2023-03-02T15:48:22.887128Z"
    }
   },
   "outputs": [],
   "source": [
    "correlations = pd.read_csv(\"/nfs/cds-peta/exports/biol_micro_cds_gr_sunagawa/scratch/lifeer/14_02_23_rerunning_mbarq/data/results/nguyen_2020_l50_mbarq_merged_counts_correlations.csv\",\n",
    "                          index_col=0)"
   ]
  },
  {
   "cell_type": "code",
   "execution_count": null,
   "metadata": {
    "ExecuteTime": {
     "end_time": "2023-03-02T15:48:23.374868Z",
     "start_time": "2023-03-02T15:48:23.367000Z"
    }
   },
   "outputs": [],
   "source": [
    " correlations = correlations.loc[samples]"
   ]
  },
  {
   "cell_type": "code",
   "execution_count": null,
   "metadata": {
    "ExecuteTime": {
     "end_time": "2023-03-02T15:48:23.902668Z",
     "start_time": "2023-03-02T15:48:23.873975Z"
    }
   },
   "outputs": [],
   "source": [
    "sample_data"
   ]
  },
  {
   "cell_type": "code",
   "execution_count": null,
   "metadata": {
    "ExecuteTime": {
     "end_time": "2023-03-02T15:48:24.332935Z",
     "start_time": "2023-03-02T15:48:24.324061Z"
    }
   },
   "outputs": [],
   "source": [
    "def plot_cor(sample):\n",
    "    t = \" \".join(list(sample_data[sample_data.sampleID==sample].values[0]))\n",
    "    fig = px.scatter(x=np.log2(controls['concentration']), y=controls[sample],\n",
    "                     trendline='ols', title=t, width=400, height=400)\n",
    "    return fig"
   ]
  },
  {
   "cell_type": "code",
   "execution_count": null,
   "metadata": {
    "ExecuteTime": {
     "end_time": "2023-03-02T15:48:24.786337Z",
     "start_time": "2023-03-02T15:48:24.756804Z"
    }
   },
   "outputs": [],
   "source": [
    "import plotly.offline as ofl"
   ]
  },
  {
   "cell_type": "code",
   "execution_count": null,
   "metadata": {
    "ExecuteTime": {
     "end_time": "2023-03-02T15:48:25.563154Z",
     "start_time": "2023-03-02T15:48:25.556281Z"
    }
   },
   "outputs": [],
   "source": [
    "samples = [c for c in controls.columns if 'dnaid' in c]"
   ]
  },
  {
   "cell_type": "code",
   "execution_count": null,
   "metadata": {
    "ExecuteTime": {
     "end_time": "2023-03-02T15:48:26.086536Z",
     "start_time": "2023-03-02T15:48:26.077659Z"
    }
   },
   "outputs": [],
   "source": [
    "samples"
   ]
  },
  {
   "cell_type": "code",
   "execution_count": null,
   "metadata": {
    "ExecuteTime": {
     "end_time": "2023-03-02T15:49:01.609653Z",
     "start_time": "2023-03-02T15:49:01.591132Z"
    }
   },
   "outputs": [],
   "source": [
    " filter_one = [s for s in samples if (controls[s]==-1).sum()/controls.shape[0] <= 0.2]\n"
   ]
  },
  {
   "cell_type": "code",
   "execution_count": null,
   "metadata": {
    "ExecuteTime": {
     "end_time": "2023-03-02T15:49:01.810903Z",
     "start_time": "2023-03-02T15:49:01.800633Z"
    }
   },
   "outputs": [],
   "source": [
    "len(filter_one)"
   ]
  },
  {
   "cell_type": "code",
   "execution_count": null,
   "metadata": {
    "ExecuteTime": {
     "end_time": "2023-03-02T16:01:49.700701Z",
     "start_time": "2023-03-02T16:01:49.693272Z"
    }
   },
   "outputs": [],
   "source": [
    "egs =['dnaid1315_10', 'dnaid1315_107', 'dnaid1315_117', 'dnaid1315_124', 'dnaid1315_128',\n",
    "                             'dnaid1315_129', 'dnaid1315_131', 'dnaid1315_136', 'dnaid1315_17', 'dnaid1315_18',\n",
    "                             'dnaid1315_19', 'dnaid1315_20', 'dnaid1315_28', 'dnaid1315_40', 'dnaid1315_42',\n",
    "                             'dnaid1315_50', 'dnaid1315_52', 'dnaid1315_66', 'dnaid1315_81', 'dnaid1315_90',\n",
    "                             'dnaid1315_92', 'dnaid1315_94']"
   ]
  },
  {
   "cell_type": "code",
   "execution_count": null,
   "metadata": {
    "ExecuteTime": {
     "end_time": "2023-03-02T16:01:53.381110Z",
     "start_time": "2023-03-02T16:01:53.373260Z"
    }
   },
   "outputs": [],
   "source": [
    "len(egs)"
   ]
  },
  {
   "cell_type": "code",
   "execution_count": null,
   "metadata": {
    "ExecuteTime": {
     "end_time": "2023-03-02T15:49:09.327556Z",
     "start_time": "2023-03-02T15:49:02.352382Z"
    }
   },
   "outputs": [],
   "source": [
    "for sample in filter_one:\n",
    "    fig = plot_cor(sample)\n",
    "    ofl.iplot(fig)"
   ]
  },
  {
   "cell_type": "code",
   "execution_count": null,
   "metadata": {
    "ExecuteTime": {
     "end_time": "2023-03-02T13:25:07.728322Z",
     "start_time": "2023-03-02T13:25:07.718734Z"
    }
   },
   "outputs": [],
   "source": [
    "sample_data[sample_data.sampleID==samples[0]].values[0]"
   ]
  },
  {
   "cell_type": "code",
   "execution_count": null,
   "metadata": {},
   "outputs": [],
   "source": [
    "dnaid1315_53, dnaid1315_137, dnaid1315_139"
   ]
  },
  {
   "cell_type": "code",
   "execution_count": null,
   "metadata": {
    "ExecuteTime": {
     "end_time": "2023-03-02T13:30:24.070818Z",
     "start_time": "2023-03-02T13:30:24.057200Z"
    }
   },
   "outputs": [],
   "source": [
    "correlations"
   ]
  },
  {
   "cell_type": "code",
   "execution_count": null,
   "metadata": {
    "ExecuteTime": {
     "end_time": "2023-03-02T13:32:40.354532Z",
     "start_time": "2023-03-02T13:32:40.334844Z"
    }
   },
   "outputs": [],
   "source": [
    "sample_data"
   ]
  },
  {
   "cell_type": "code",
   "execution_count": null,
   "metadata": {
    "ExecuteTime": {
     "end_time": "2023-03-02T13:47:32.954120Z",
     "start_time": "2023-03-02T13:47:28.030735Z"
    }
   },
   "outputs": [],
   "source": [
    "c_data = pd.read_csv(countsFile, low_memory=False)"
   ]
  },
  {
   "cell_type": "code",
   "execution_count": null,
   "metadata": {
    "ExecuteTime": {
     "end_time": "2023-03-02T13:47:36.802533Z",
     "start_time": "2023-03-02T13:47:36.706067Z"
    }
   },
   "outputs": [],
   "source": [
    "c_data = c_data[['barcode', 'locus_tag', 'dnaid1315_96', 'dnaid1315_66']+'dnaid1315_10,dnaid1315_107,dnaid1315_81'.split(',')]"
   ]
  },
  {
   "cell_type": "code",
   "execution_count": null,
   "metadata": {
    "ExecuteTime": {
     "end_time": "2023-03-02T13:47:41.114274Z",
     "start_time": "2023-03-02T13:47:40.335112Z"
    }
   },
   "outputs": [],
   "source": [
    "c_data = c_data.set_index(['barcode', 'locus_tag'])"
   ]
  },
  {
   "cell_type": "code",
   "execution_count": null,
   "metadata": {
    "ExecuteTime": {
     "end_time": "2023-03-02T13:47:42.262710Z",
     "start_time": "2023-03-02T13:47:42.180041Z"
    }
   },
   "outputs": [],
   "source": [
    "c_data.loc[('TTTTTTTGTAACGCTGC', np.nan)]"
   ]
  },
  {
   "cell_type": "code",
   "execution_count": null,
   "metadata": {
    "ExecuteTime": {
     "end_time": "2023-03-02T13:49:53.634126Z",
     "start_time": "2023-03-02T13:49:53.611814Z"
    }
   },
   "outputs": [],
   "source": [
    "hi = c_data[c_data.sum(axis=1) > 100]"
   ]
  },
  {
   "cell_type": "code",
   "execution_count": null,
   "metadata": {
    "ExecuteTime": {
     "end_time": "2023-03-02T13:51:56.657449Z",
     "start_time": "2023-03-02T13:51:56.645736Z"
    }
   },
   "outputs": [],
   "source": [
    "c_data.loc[('ACTACAAGACTGGTTAA', np.nan)]"
   ]
  },
  {
   "cell_type": "code",
   "execution_count": null,
   "metadata": {
    "ExecuteTime": {
     "end_time": "2023-03-02T13:50:09.349414Z",
     "start_time": "2023-03-02T13:50:09.322351Z"
    }
   },
   "outputs": [],
   "source": [
    "hi"
   ]
  },
  {
   "cell_type": "code",
   "execution_count": null,
   "metadata": {
    "ExecuteTime": {
     "end_time": "2023-03-02T13:50:18.011347Z",
     "start_time": "2023-03-02T13:50:18.004245Z"
    }
   },
   "outputs": [],
   "source": [
    "hi.shape[0]"
   ]
  },
  {
   "cell_type": "code",
   "execution_count": null,
   "metadata": {
    "ExecuteTime": {
     "end_time": "2023-03-02T13:50:27.154064Z",
     "start_time": "2023-03-02T13:50:27.145170Z"
    }
   },
   "outputs": [],
   "source": [
    "200/hi.shape[0]"
   ]
  },
  {
   "cell_type": "code",
   "execution_count": null,
   "metadata": {
    "ExecuteTime": {
     "end_time": "2023-03-02T13:50:20.999375Z",
     "start_time": "2023-03-02T13:50:20.972605Z"
    }
   },
   "outputs": [],
   "source": [
    "hi[hi.dnaid1315_66 < 1]"
   ]
  },
  {
   "cell_type": "code",
   "execution_count": null,
   "metadata": {
    "ExecuteTime": {
     "end_time": "2023-03-02T13:45:32.656195Z",
     "start_time": "2023-03-02T13:45:32.613611Z"
    }
   },
   "outputs": [],
   "source": [
    "c_data[c_data.dnaid1315_96 < 1]"
   ]
  },
  {
   "cell_type": "code",
   "execution_count": null,
   "metadata": {
    "ExecuteTime": {
     "end_time": "2023-03-02T14:14:46.289963Z",
     "start_time": "2023-03-02T14:14:46.282081Z"
    }
   },
   "outputs": [],
   "source": [
    "x =0\n",
    "if x:\n",
    "    print('bla')\n",
    "else:\n",
    "    print('no bla')"
   ]
  },
  {
   "cell_type": "code",
   "execution_count": null,
   "metadata": {},
   "outputs": [],
   "source": [
    "results_filtered_100/nguyen_2020_l50_mbarq_merged_counts_d4_vs_d0.txt"
   ]
  },
  {
   "cell_type": "code",
   "execution_count": null,
   "metadata": {
    "ExecuteTime": {
     "end_time": "2023-03-02T14:47:54.220412Z",
     "start_time": "2023-03-02T14:47:54.205127Z"
    }
   },
   "outputs": [],
   "source": [
    "df = pd.read_table(wdir/\"nguyen_2020_l50_mbarq_merged_counts_d4_vs_d0.txt\")"
   ]
  },
  {
   "cell_type": "code",
   "execution_count": null,
   "metadata": {
    "ExecuteTime": {
     "end_time": "2023-03-02T14:47:54.778399Z",
     "start_time": "2023-03-02T14:47:54.763032Z"
    }
   },
   "outputs": [],
   "source": [
    "df.head()"
   ]
  },
  {
   "cell_type": "code",
   "execution_count": null,
   "metadata": {
    "ExecuteTime": {
     "end_time": "2023-03-02T14:50:20.010542Z",
     "start_time": "2023-03-02T14:50:19.978272Z"
    }
   },
   "outputs": [],
   "source": [
    "controls"
   ]
  },
  {
   "cell_type": "code",
   "execution_count": null,
   "metadata": {
    "ExecuteTime": {
     "end_time": "2023-03-02T14:50:47.009327Z",
     "start_time": "2023-03-02T14:50:47.001935Z"
    }
   },
   "outputs": [],
   "source": [
    "2/5"
   ]
  },
  {
   "cell_type": "code",
   "execution_count": null,
   "metadata": {
    "ExecuteTime": {
     "end_time": "2023-03-02T14:50:29.694872Z",
     "start_time": "2023-03-02T14:50:29.675479Z"
    }
   },
   "outputs": [],
   "source": [
    "df[df.barcode.isin(controls.barcode.values)]"
   ]
  },
  {
   "cell_type": "code",
   "execution_count": null,
   "metadata": {},
   "outputs": [],
   "source": []
  },
  {
   "cell_type": "code",
   "execution_count": null,
   "metadata": {
    "ExecuteTime": {
     "end_time": "2023-03-02T14:44:50.047946Z",
     "start_time": "2023-03-02T14:44:50.041624Z"
    }
   },
   "outputs": [],
   "source": [
    "wdir = Path(\"/nfs/cds-peta/exports/biol_micro_cds_gr_sunagawa/scratch/lifeer/14_02_23_rerunning_mbarq/data/results_filtered_100\")"
   ]
  },
  {
   "cell_type": "code",
   "execution_count": null,
   "metadata": {
    "ExecuteTime": {
     "end_time": "2023-03-02T15:38:57.287605Z",
     "start_time": "2023-03-02T15:38:57.267639Z"
    }
   },
   "outputs": [],
   "source": [
    "df = pd.read_table(wdir/\"nguyen_2020_l50_mbarq_merged_counts_d4_vs_d0.gene_summary.txt\")"
   ]
  },
  {
   "cell_type": "code",
   "execution_count": null,
   "metadata": {
    "ExecuteTime": {
     "end_time": "2023-03-02T15:38:58.269117Z",
     "start_time": "2023-03-02T15:38:58.250206Z"
    }
   },
   "outputs": [],
   "source": [
    "df.head()"
   ]
  },
  {
   "cell_type": "code",
   "execution_count": null,
   "metadata": {
    "ExecuteTime": {
     "end_time": "2023-03-02T15:39:02.771228Z",
     "start_time": "2023-03-02T15:39:02.270556Z"
    }
   },
   "outputs": [],
   "source": [
    "df['neg|lfc'].hist(bins=100)"
   ]
  },
  {
   "cell_type": "code",
   "execution_count": null,
   "metadata": {},
   "outputs": [],
   "source": []
  }
 ],
 "metadata": {
  "kernelspec": {
   "display_name": "Python 3 (ipykernel)",
   "language": "python",
   "name": "python3"
  },
  "language_info": {
   "codemirror_mode": {
    "name": "ipython",
    "version": 3
   },
   "file_extension": ".py",
   "mimetype": "text/x-python",
   "name": "python",
   "nbconvert_exporter": "python",
   "pygments_lexer": "ipython3",
   "version": "3.8.12"
  },
  "toc": {
   "base_numbering": 1,
   "nav_menu": {},
   "number_sections": true,
   "sideBar": true,
   "skip_h1_title": false,
   "title_cell": "Table of Contents",
   "title_sidebar": "Contents",
   "toc_cell": false,
   "toc_position": {},
   "toc_section_display": true,
   "toc_window_display": false
  }
 },
 "nbformat": 4,
 "nbformat_minor": 4
}
