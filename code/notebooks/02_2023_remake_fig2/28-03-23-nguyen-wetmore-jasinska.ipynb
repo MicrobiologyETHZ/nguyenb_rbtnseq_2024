{
 "cells": [
  {
   "cell_type": "markdown",
   "metadata": {
    "ExecuteTime": {
     "end_time": "2022-09-26T13:49:07.480962Z",
     "start_time": "2022-09-26T13:49:07.476676Z"
    }
   },
   "source": [
    "# Load Settings and Configs"
   ]
  },
  {
   "cell_type": "code",
   "execution_count": null,
   "metadata": {
    "ExecuteTime": {
     "end_time": "2023-04-13T13:14:06.676783Z",
     "start_time": "2023-04-13T13:14:03.200752Z"
    }
   },
   "outputs": [],
   "source": [
    "# %load load_manuscript_data.py\n",
    "from datetime import date\n",
    "import pandas as pd\n",
    "import numpy as np\n",
    "import matplotlib.pyplot as plt\n",
    "import os\n",
    "from pathlib import Path\n",
    "import seaborn as sns\n",
    "import sys\n",
    "import plotly.express as px\n",
    "import plotly.io as pio\n",
    "import yaml\n",
    "\n",
    "sns.set_context(\"notebook\", font_scale=1.4)\n",
    "pd.set_option(\"display.max_columns\", 100)\n",
    "pd.set_option(\"display.max_rows\", 100)\n",
    "plt.rcParams[\"figure.figsize\"] = (16, 12)\n",
    "plt.rcParams['savefig.dpi'] = 200\n",
    "plt.rcParams['figure.autolayout'] = False\n",
    "plt.rcParams['axes.labelsize'] = 18\n",
    "plt.rcParams['axes.titlesize'] = 20\n",
    "plt.rcParams['font.size'] = 16\n",
    "plt.rcParams['lines.linewidth'] = 2.0\n",
    "plt.rcParams['lines.markersize'] = 8\n",
    "plt.rcParams['legend.fontsize'] = 14\n",
    "pd.set_option('display.float_format', lambda x: '{:,.4f}'.format(x))\n",
    "\n",
    "\n",
    "config_file = \"manuscript_config.yaml\"\n",
    "with open(config_file) as file:\n",
    "    # The FullLoader parameter handles the conversion from YAML\n",
    "    # scalar values to Python the dictionary format\n",
    "    configs = yaml.load(file, Loader=yaml.FullLoader)\n",
    "    \n",
    "root = Path(configs['root'])\n",
    "scratchDir = Path(configs['scratchDir'])\n",
    "figuresDir = Path(configs['figuresDir'])\n",
    "\n",
    "alphabetClrs = px.colors.qualitative.Alphabet\n",
    "clrs = [\"#f7ba65\", \"#bf4713\", \"#9c002f\", \"#d73d00\", \"#008080\", \"#004c4c\"]\n",
    "colors = {'grey': alphabetClrs[8], \n",
    "        'light_yellow': clrs[0],\n",
    "        'darko': clrs[1],\n",
    "        'maroon':clrs[2],\n",
    "        'brighto': clrs[3],\n",
    "        'teal':clrs[4],\n",
    "        'darkteal':clrs[5]\n",
    "       }\n",
    "\n",
    "sushi_colors = {'red': '#C0504D',\n",
    "             'orange': '#F79646',\n",
    "             'medSea': '#4BACC6', \n",
    "             'black': '#000000',\n",
    "             'dgreen': '#4DAF4A', #'#00B04E',\n",
    "             'lgreen': '#92D050',\n",
    "             'dblue': '#366092',\n",
    "             'lblue': '#95B3D7'}\n",
    "today = date.today().strftime(\"%d-%m-%y\")"
   ]
  },
  {
   "cell_type": "markdown",
   "metadata": {},
   "source": [
    "# Nguyen et al 2020"
   ]
  },
  {
   "cell_type": "markdown",
   "metadata": {},
   "source": [
    "## Load the data"
   ]
  },
  {
   "cell_type": "code",
   "execution_count": null,
   "metadata": {
    "ExecuteTime": {
     "end_time": "2023-04-10T10:54:29.409840Z",
     "start_time": "2023-04-10T10:54:29.402458Z"
    }
   },
   "outputs": [],
   "source": [
    "nguyenConfig = configs['nguyen']\n",
    "countsFile = root/nguyenConfig['countsFile']\n",
    "resultsFile = root/nguyenConfig['resultsFile']\n",
    "sampleDataFile = root/nguyenConfig['sampleDataFile']\n",
    "publishedResultsFile = root/nguyenConfig['publishedResultsFile']\n",
    "publishedPhenotypesFile = root/nguyenConfig['publishedPhenotypesFile']\n",
    "mapFile = root/nguyenConfig['mapFile']['filtered']"
   ]
  },
  {
   "cell_type": "markdown",
   "metadata": {},
   "source": [
    "## Define hits"
   ]
  },
  {
   "cell_type": "code",
   "execution_count": null,
   "metadata": {
    "ExecuteTime": {
     "end_time": "2023-04-10T11:14:21.937426Z",
     "start_time": "2023-04-10T11:14:21.772413Z"
    }
   },
   "outputs": [],
   "source": [
    "publishedResults = pd.read_csv(publishedResultsFile, skiprows=1)\n",
    "results = pd.read_csv(resultsFile)\n",
    "# What is a hit?\n",
    "results = results.rename({'Name': 'locus_tag'}, axis=1)\n",
    "results['LFC'] = round(results['LFC'], 1)\n",
    "results['mbarq_hit'] = ((results['neg_selection_fdr'] <= 0.05) | (results['pos_selection_fdr'] <= 0.05)) & (abs(results.LFC) >= 0.6)\n",
    "\n",
    "annotations = (pd.read_csv(mapFile)[['Name', 'locus_tag']]\n",
    "               .drop_duplicates())\n",
    "results = results.merge(annotations, how='left', on='locus_tag')\n",
    "\n",
    "publishedCI = (publishedResults.melt(id_vars=['locus', 'gene'], \n",
    "                                    value_vars=[c for c in publishedResults.columns if 'median_CI' in c],\n",
    "                                    value_name='median_CI', \n",
    "                                    var_name=['contrast'])\n",
    "                               .rename({'locus': 'locus_tag'}, axis=1))\n",
    "\n",
    "\n",
    "publishedCI['contrast'] = publishedCI.contrast.str.split(\"_\", expand=True)[0]\n",
    "publishedCI['log_median_CI'] = round(np.log2(publishedCI.median_CI), 1)\n",
    "\n",
    "publishedHits = (publishedResults.melt(id_vars=['locus'], var_name=['contrast'],\n",
    "                                     value_vars=[c for c in publishedResults.columns if 'adj_p_value_CI'in c],\n",
    "                                     value_name='adj_pvalue')\n",
    "                                 .rename({'locus': 'locus_tag'}, axis=1))\n",
    "publishedHits['contrast'] = publishedCI.contrast.str.split(\"_\", expand=True)[0]\n",
    "publishedDf = publishedCI.merge(publishedHits, on=['locus_tag', 'contrast'])\n",
    "\n",
    "# # What is a hit?\n",
    "publishedDf['published_hit'] = ((publishedDf.adj_pvalue <= 0.05) & (abs(publishedDf.log_median_CI) >= 0.6)).astype(int)*2\n",
    "\n",
    "compCntrl = results.merge(publishedDf, on=['locus_tag', 'contrast'], how='outer')\n",
    "compCntrl['mbarq_hit'] = compCntrl.mbarq_hit.fillna(0)\n",
    "compCntrl['published_hit'] = compCntrl.published_hit.fillna(0)\n",
    "compCntrl['hit'] = (compCntrl['mbarq_hit'] + compCntrl['published_hit']).astype(int).astype(str)\n",
    "compCntrl.hit.replace({'0': 'None', '1': 'mBARq only', '2': 'Original analysis only', '3': 'Both methods'}, inplace=True)\n",
    "compCntrl = compCntrl[compCntrl.locus_tag.str.startswith('SL1344')]"
   ]
  },
  {
   "cell_type": "markdown",
   "metadata": {},
   "source": [
    "## Compare CIs"
   ]
  },
  {
   "cell_type": "code",
   "execution_count": null,
   "metadata": {
    "ExecuteTime": {
     "end_time": "2023-04-10T11:14:24.035574Z",
     "start_time": "2023-04-10T11:14:24.021149Z"
    }
   },
   "outputs": [],
   "source": [
    "def compare_CIs(df, contrast):\n",
    "    \n",
    "    legend_title = 'Significant change in fitness <br> detected by:'\n",
    "    to_plot = df[df.contrast == contrast]\n",
    "    to_plot = to_plot.rename({'hit': legend_title}, axis=1)\n",
    "    fig = px.scatter(to_plot, x='LFC', y='log_median_CI', color=legend_title,\n",
    "                     height=800, width=1000,\n",
    "    \n",
    "                     template = 'plotly_white', \n",
    "                     labels = {'log_median_CI': 'log(CI) (original analysis)', 'LFC': 'LFC (mBARq analysis)'},\n",
    "                     color_discrete_map = {'None': colors['grey'], \n",
    "                                           'Both methods': sushi_colors['dgreen'], \n",
    "                                           'mBARq only': sushi_colors['dblue'], \n",
    "                                           'Original analysis only': sushi_colors['orange']},\n",
    "                     hover_data=['Name', 'gene'],\n",
    "                     category_orders = {legend_title:[ 'None',\n",
    "                                                       'Original analysis only', \n",
    "                                                       'mBARq only',\n",
    "                                                       'Both methods']},)\n",
    "\n",
    "    fig.update_traces(marker=dict(size=20,\n",
    "                        line=dict(width=1,\n",
    "                                                    color='DarkSlateGrey'), opacity=0.9),\n",
    "                              selector=dict(mode='markers'))\n",
    "    fig.update_layout(font={'size':16})\n",
    "    return fig"
   ]
  },
  {
   "cell_type": "code",
   "execution_count": null,
   "metadata": {
    "ExecuteTime": {
     "end_time": "2023-04-10T11:14:24.593348Z",
     "start_time": "2023-04-10T11:14:24.582736Z"
    }
   },
   "outputs": [],
   "source": [
    "sig_df = compCntrl[((compCntrl.hit != 'None') & (compCntrl.contrast == 'd1')) & ((compCntrl.LFC < 0)| (compCntrl.median_CI < 1))]"
   ]
  },
  {
   "cell_type": "code",
   "execution_count": null,
   "metadata": {
    "ExecuteTime": {
     "end_time": "2023-04-10T11:14:25.198684Z",
     "start_time": "2023-04-10T11:14:25.177788Z"
    }
   },
   "outputs": [],
   "source": [
    "sig_df[sig_df.Name == 'yjfQ']"
   ]
  },
  {
   "cell_type": "code",
   "execution_count": null,
   "metadata": {
    "ExecuteTime": {
     "end_time": "2023-04-10T10:54:29.913407Z",
     "start_time": "2023-04-10T10:54:29.910194Z"
    }
   },
   "outputs": [],
   "source": [
    "# for g in sig_df.Name.values:\n",
    "#     print(g)"
   ]
  },
  {
   "cell_type": "code",
   "execution_count": null,
   "metadata": {
    "ExecuteTime": {
     "end_time": "2023-04-10T11:14:49.692343Z",
     "start_time": "2023-04-10T11:14:49.683958Z"
    }
   },
   "outputs": [],
   "source": [
    "early = compCntrl[compCntrl.contrast.isin(['d1', 'd2'])]"
   ]
  },
  {
   "cell_type": "code",
   "execution_count": null,
   "metadata": {
    "ExecuteTime": {
     "end_time": "2023-04-10T11:14:50.416615Z",
     "start_time": "2023-04-10T11:14:50.405934Z"
    }
   },
   "outputs": [],
   "source": [
    "early[early.hit == 'Original analysis only'].locus_tag.nunique()\n"
   ]
  },
  {
   "cell_type": "code",
   "execution_count": null,
   "metadata": {
    "ExecuteTime": {
     "end_time": "2023-04-10T11:14:51.540972Z",
     "start_time": "2023-04-10T11:14:51.531622Z"
    }
   },
   "outputs": [],
   "source": [
    "early[early.hit == 'Both methods'].locus_tag.nunique()"
   ]
  },
  {
   "cell_type": "code",
   "execution_count": null,
   "metadata": {
    "ExecuteTime": {
     "end_time": "2023-04-10T11:15:01.151946Z",
     "start_time": "2023-04-10T11:15:01.140963Z"
    }
   },
   "outputs": [],
   "source": [
    "early[early.hit == 'mBARq only'].locus_tag.nunique()"
   ]
  },
  {
   "cell_type": "code",
   "execution_count": null,
   "metadata": {
    "ExecuteTime": {
     "end_time": "2023-04-10T10:55:05.304760Z",
     "start_time": "2023-04-10T10:55:00.343724Z"
    }
   },
   "outputs": [],
   "source": [
    "fig = compare_CIs(compCntrl, 'd1')\n",
    "fig.write_image(figuresDir/f\"{today}_Figure2C.png\", format ='png', scale=2)\n",
    "fig"
   ]
  },
  {
   "cell_type": "code",
   "execution_count": null,
   "metadata": {
    "ExecuteTime": {
     "end_time": "2023-03-28T11:21:12.411817Z",
     "start_time": "2023-03-28T11:21:12.408127Z"
    }
   },
   "outputs": [],
   "source": [
    "# can specify width, height, and scale to improve resolution"
   ]
  },
  {
   "cell_type": "code",
   "execution_count": null,
   "metadata": {
    "ExecuteTime": {
     "end_time": "2023-03-28T11:21:12.824811Z",
     "start_time": "2023-03-28T11:21:12.820141Z"
    }
   },
   "outputs": [],
   "source": [
    "#compare_CIs(compCntrl, 'd2')"
   ]
  },
  {
   "cell_type": "code",
   "execution_count": null,
   "metadata": {
    "ExecuteTime": {
     "end_time": "2023-03-28T11:21:13.175584Z",
     "start_time": "2023-03-28T11:21:13.170829Z"
    }
   },
   "outputs": [],
   "source": [
    "#compare_CIs(compCntrl, 'd3')"
   ]
  },
  {
   "cell_type": "markdown",
   "metadata": {},
   "source": [
    "### Calculate CI correlations"
   ]
  },
  {
   "cell_type": "code",
   "execution_count": null,
   "metadata": {
    "ExecuteTime": {
     "end_time": "2023-04-10T10:55:06.187103Z",
     "start_time": "2023-04-10T10:55:06.166182Z"
    }
   },
   "outputs": [],
   "source": [
    "corr_df = compCntrl.groupby('contrast')[['LFC', 'log_median_CI']].corr().iloc[0::2,-1].reset_index()\n",
    "corr_df.columns = ['contrast', 'LFC', 'R']\n",
    "corr_df['contrast'] = corr_df.contrast.replace({'d1': 'Day 1 p.i.',\n",
    "                                               'd2': 'Day 2 p.i.',\n",
    "                                               'd3': 'Day 3 p.i.',\n",
    "                                               'd4': 'Day 4 p.i.'})"
   ]
  },
  {
   "cell_type": "code",
   "execution_count": null,
   "metadata": {
    "ExecuteTime": {
     "end_time": "2023-04-10T10:55:07.585514Z",
     "start_time": "2023-04-10T10:55:07.310551Z"
    }
   },
   "outputs": [],
   "source": [
    "#corr_df = corr_df[corr_df.contrast != 'd4']\n",
    "fig = px.bar(corr_df, x=\"R\", y='contrast', color='contrast',\n",
    "      color_discrete_sequence = ['black']*4,\n",
    "             labels={\"contrast\":'', 'R': \"Pearson's <i>r</i>\"},\n",
    "      height=350, width=500, text_auto='.2f', template='plotly_white', orientation='h')\n",
    "fig.update_layout(showlegend=False)\n",
    "fig.write_image(figuresDir/f\"{today}_Figure2D.png\", format ='png', scale=2)\n",
    "fig"
   ]
  },
  {
   "cell_type": "markdown",
   "metadata": {},
   "source": [
    "### Calculate recall, precision, balanced accuracy "
   ]
  },
  {
   "cell_type": "code",
   "execution_count": null,
   "metadata": {
    "ExecuteTime": {
     "end_time": "2023-04-10T10:55:11.331103Z",
     "start_time": "2023-04-10T10:55:09.271557Z"
    }
   },
   "outputs": [],
   "source": [
    "from sklearn.metrics import recall_score, precision_score, balanced_accuracy_score\n",
    "phenotypes = pd.read_csv(root/nguyenConfig[\"publishedPhenotypesFile\"])\n",
    "phenotypes = phenotypes.rename({'locus': 'locus_tag', 'day': 'contrast'}, axis=1)\n",
    "phenotypes = phenotypes.merge(compCntrl, how='left', on=['locus_tag', 'contrast'])\n",
    "# # Same definition of hit as for mbarq\n",
    "phenotypes['pheno_hit'] = ((phenotypes['adjusted p value (C.I.)'] <= 0.05) & (abs(np.log2(phenotypes['median'])) >= 0.5)).astype(int)\n",
    "phenotypes = phenotypes[['Name', 'gene_x', 'contrast', 'pheno_hit', 'mbarq_hit', 'published_hit']].dropna()\n",
    "phenotypes['mbarq_hit'] = phenotypes.mbarq_hit.astype(int)\n",
    "phenotypes['published_hit'] = (phenotypes.published_hit/2).astype(int)\n",
    "#phenotypes = phenotypes[phenotypes.contrast != 'd4']\n",
    "\n",
    "metrics = {'mBARq': (precision_score(phenotypes.pheno_hit, phenotypes.mbarq_hit), \n",
    "                     recall_score(phenotypes.pheno_hit, phenotypes.mbarq_hit), \n",
    "                     balanced_accuracy_score(phenotypes.pheno_hit, phenotypes.mbarq_hit)), \n",
    "          'Original analysis': (precision_score(phenotypes.pheno_hit, phenotypes.published_hit), \n",
    "                       recall_score(phenotypes.pheno_hit, phenotypes.published_hit), \n",
    "                       balanced_accuracy_score(phenotypes.pheno_hit, phenotypes.published_hit) )}\n",
    "\n",
    "metricDf = (pd.DataFrame(metrics, index=['Precision', 'Recall', 'Balanced Accuracy'])\n",
    "              .T\n",
    "            .reset_index()\n",
    "            .rename({'index':'Method'}, axis=1)\n",
    "              .melt(id_vars=['Method'], var_name='Metric', value_name='Score'))"
   ]
  },
  {
   "cell_type": "code",
   "execution_count": null,
   "metadata": {},
   "outputs": [],
   "source": []
  },
  {
   "cell_type": "code",
   "execution_count": null,
   "metadata": {
    "ExecuteTime": {
     "end_time": "2023-04-10T11:23:40.899942Z",
     "start_time": "2023-04-10T11:23:40.886733Z"
    }
   },
   "outputs": [],
   "source": [
    "phenotypes[['Name', 'contrast']].drop_duplicates().shape"
   ]
  },
  {
   "cell_type": "code",
   "execution_count": null,
   "metadata": {
    "ExecuteTime": {
     "end_time": "2023-03-28T11:21:15.663531Z",
     "start_time": "2023-03-28T11:21:15.653914Z"
    }
   },
   "outputs": [],
   "source": [
    "phenotypes.pheno_hit.value_counts()"
   ]
  },
  {
   "cell_type": "code",
   "execution_count": null,
   "metadata": {
    "ExecuteTime": {
     "end_time": "2023-03-28T11:21:16.098241Z",
     "start_time": "2023-03-28T11:21:16.089103Z"
    }
   },
   "outputs": [],
   "source": [
    "phenotypes.mbarq_hit.value_counts()"
   ]
  },
  {
   "cell_type": "code",
   "execution_count": null,
   "metadata": {
    "ExecuteTime": {
     "end_time": "2023-03-28T11:21:16.852718Z",
     "start_time": "2023-03-28T11:21:16.702318Z"
    }
   },
   "outputs": [],
   "source": [
    "fig = px.bar(metricDf, x='Metric', y='Score', \n",
    "       color='Method', barmode='group', text_auto='.2f', \n",
    "       height=400, width=400, \n",
    "        labels = {'Metric':''},\n",
    "      template='plotly_white', \n",
    "      color_discrete_map = {'mBARq':'black' , 'Original analysis': colors['grey']})\n",
    "fig.write_image(figuresDir/f\"{today}_Figure2E.png\", format ='png', scale=2 )\n",
    "fig"
   ]
  },
  {
   "cell_type": "code",
   "execution_count": null,
   "metadata": {
    "ExecuteTime": {
     "end_time": "2023-03-28T11:23:15.821569Z",
     "start_time": "2023-03-28T11:23:15.814358Z"
    }
   },
   "outputs": [],
   "source": [
    "allD1 = compCntrl[compCntrl.contrast == 'd1']"
   ]
  },
  {
   "cell_type": "code",
   "execution_count": null,
   "metadata": {
    "ExecuteTime": {
     "end_time": "2023-03-28T11:23:22.002349Z",
     "start_time": "2023-03-28T11:23:21.983448Z"
    }
   },
   "outputs": [],
   "source": [
    "allD1[((allD1.mbarq_hit == True) | (allD1.published_hit == 2)) & (allD1.LFC < 0)][['Name', 'mbarq_hit', 'published_hit']]"
   ]
  },
  {
   "cell_type": "markdown",
   "metadata": {},
   "source": [
    "# Wetmore et al 2015"
   ]
  },
  {
   "cell_type": "markdown",
   "metadata": {},
   "source": [
    "## Load the data"
   ]
  },
  {
   "cell_type": "code",
   "execution_count": null,
   "metadata": {
    "ExecuteTime": {
     "end_time": "2023-04-10T12:17:39.283748Z",
     "start_time": "2023-04-10T12:17:39.276598Z"
    }
   },
   "outputs": [],
   "source": [
    "def get_bigger_tstat(x):\n",
    "    a =[abs(i) for i in x.values]\n",
    "    return x.values[a.index(max(a))]"
   ]
  },
  {
   "cell_type": "code",
   "execution_count": null,
   "metadata": {
    "ExecuteTime": {
     "end_time": "2023-04-10T12:17:39.925655Z",
     "start_time": "2023-04-10T12:17:39.916884Z"
    }
   },
   "outputs": [],
   "source": [
    "wetmoreConfig = configs['wetmore']\n",
    "wcountsFile = root/wetmoreConfig['countsFile']\n",
    "wresultsFile = root/wetmoreConfig['resultsFile']\n",
    "wsampleDataFile = root/wetmoreConfig['sampleDataFile']\n",
    "wpublishedResultsFile = root/wetmoreConfig['publishedResultsFile']\n",
    "wpublishedCountsFile = root/wetmoreConfig['publishedCountsFile']\n",
    "wmapFile = root/wetmoreConfig['mapFile']['filtered']\n",
    "wpublishedStatsFile = root/wetmoreConfig['publishedStatsFile']"
   ]
  },
  {
   "cell_type": "code",
   "execution_count": null,
   "metadata": {
    "ExecuteTime": {
     "end_time": "2023-04-10T12:17:40.615171Z",
     "start_time": "2023-04-10T12:17:40.606121Z"
    }
   },
   "outputs": [],
   "source": [
    "contrast_map = {'D-Maltose_monohydrate': 'D-Maltose',\n",
    "                'a-Ketoglutaric_acid_disodium_salt_hydrate': 'a-Ketoglutaric acid',\n",
    "                'a-Ketoglutaric': 'a-Ketoglutaric acid',\n",
    "                'Potassium_acetate': 'Acetate',\n",
    "                'acetate': 'Acetate',\n",
    "                'CAS_amino_acids': 'CAS amino acids',\n",
    "                'CAS': 'CAS amino acids',\n",
    "                'Tween_20': 'Tween',\n",
    "                'Sodium_L-Lactate': 'L-Lactate',\n",
    "                'Sodium_D,L-Lactate': 'D,L-Lactate',\n",
    "                'Sodium_pyruvate': 'Pyruvate',\n",
    "                'pyruvate': 'Pyruvate',\n",
    "                'Putrescine_Dihydrochloride': 'Putrescine',\n",
    "                'N-Acetyl-D-Glucosamine': 'NAG',\n",
    "                'L-Glutamic_acid_monopotassium_salt_monohydrate': 'L-Glutamic acid',\n",
    "                'L-Glutamic': 'L-Glutamic acid',\n",
    "                'Sodium_Fumarate_dibasic': 'Fumarate',\n",
    "                'L-Malic_acid_disodium_salt_monohydrate': 'L-Malic acid',\n",
    "                'Sodium_Fumarate_dibasic': 'Fumarate', \n",
    "                'Sodium_succinate_dibasic_hexahydrate': 'Succinate'\n",
    "               }"
   ]
  },
  {
   "cell_type": "code",
   "execution_count": null,
   "metadata": {
    "ExecuteTime": {
     "end_time": "2023-01-16T15:01:59.813978Z",
     "start_time": "2023-01-16T15:01:59.806993Z"
    }
   },
   "outputs": [],
   "source": []
  },
  {
   "cell_type": "markdown",
   "metadata": {},
   "source": [
    "## Clean published results"
   ]
  },
  {
   "cell_type": "code",
   "execution_count": null,
   "metadata": {
    "ExecuteTime": {
     "end_time": "2023-04-10T12:17:43.605085Z",
     "start_time": "2023-04-10T12:17:43.446858Z"
    }
   },
   "outputs": [],
   "source": [
    "wsampleData = pd.read_csv(wsampleDataFile)"
   ]
  },
  {
   "cell_type": "code",
   "execution_count": null,
   "metadata": {
    "ExecuteTime": {
     "end_time": "2023-04-10T12:17:44.277223Z",
     "start_time": "2023-04-10T12:17:44.271893Z"
    }
   },
   "outputs": [],
   "source": [
    "#wsampleData"
   ]
  },
  {
   "cell_type": "code",
   "execution_count": null,
   "metadata": {
    "ExecuteTime": {
     "end_time": "2023-04-10T12:17:44.838651Z",
     "start_time": "2023-04-10T12:17:44.770769Z"
    }
   },
   "outputs": [],
   "source": [
    "wsampleData.groupby('condition').filter(lambda x: len(x) > 1).to_csv(wsampleDataFile.with_suffix('.replicates.csv'),\n",
    "                                                                    index=False)"
   ]
  },
  {
   "cell_type": "code",
   "execution_count": null,
   "metadata": {
    "ExecuteTime": {
     "end_time": "2023-04-10T12:19:04.640888Z",
     "start_time": "2023-04-10T12:17:48.708011Z"
    }
   },
   "outputs": [],
   "source": [
    "pcounts = pd.read_table(wpublishedCountsFile).drop(['scaffold', 'strand', 'pos', 'locusId', 'f'], axis=1)\n",
    "pcounts = pcounts.melt(id_vars=['barcode', 'rcbarcode'], value_name='cnt', var_name='sampleID')\n",
    "pcounts = pcounts[pcounts.sampleID.str.contains('set1')]\n",
    "pcounts['sampleID'] = pcounts['sampleID'].str.split('.', expand=True)[1]"
   ]
  },
  {
   "cell_type": "code",
   "execution_count": null,
   "metadata": {
    "ExecuteTime": {
     "end_time": "2023-04-10T12:19:09.334003Z",
     "start_time": "2023-04-10T12:19:04.645608Z"
    }
   },
   "outputs": [],
   "source": [
    "wpublishedResults = pd.read_table(wpublishedResultsFile).drop(['locusId', 'desc', 'comb'], axis=1)\n",
    "wpublishedResults = wpublishedResults.melt(id_vars=['sysName'],  \n",
    "                                         var_name='contrast', \n",
    "                                         value_name='LFC')\n",
    "wpublishedResults['set'] = wpublishedResults.contrast.str.split(expand=True)[0]\n",
    "wpublishedResults['contrast'] = wpublishedResults.contrast.str.split(expand=True)[1]\n",
    "wpublishedStats = pd.read_table(wpublishedStatsFile).drop(['locusId', 'desc'], axis=1)\n",
    "wpublishedStats = wpublishedStats.melt(id_vars=['sysName'],  \n",
    "                                         var_name='contrast', \n",
    "                                         value_name='tstat')\n",
    "wpublishedStats['set'] = wpublishedStats.contrast.str.split(expand=True)[0]\n",
    "wpublishedStats['contrast'] = wpublishedStats.contrast.str.split(expand=True)[1]\n",
    "wpublishedDf = wpublishedResults.merge(wpublishedStats, on=['sysName', 'contrast', 'set'])\n",
    "wpublishedDf = wpublishedDf[wpublishedDf.set.str.contains('set1')]\n",
    "wpublishedDf = wpublishedDf.rename({'sysName':'Name'}, axis=1)\n",
    "wpublishedDf = (wpublishedDf.groupby(['contrast', 'Name']).agg({'LFC': ['median'], \n",
    "                                                               'tstat':[get_bigger_tstat]})\n",
    "                            .reset_index())\n",
    "wpublishedDf.columns = ['contrast', 'Name', 'published_LFC', 'tstat']\n",
    "wpublishedDf['contrast'] =wpublishedDf['contrast'].replace(contrast_map)"
   ]
  },
  {
   "cell_type": "code",
   "execution_count": null,
   "metadata": {
    "ExecuteTime": {
     "end_time": "2023-03-30T09:16:25.470304Z",
     "start_time": "2023-03-30T09:16:25.459376Z"
    }
   },
   "outputs": [],
   "source": [
    "wpublishedDf.contrast.unique()"
   ]
  },
  {
   "cell_type": "code",
   "execution_count": null,
   "metadata": {
    "ExecuteTime": {
     "end_time": "2023-04-10T12:19:09.356012Z",
     "start_time": "2023-04-10T12:19:09.338092Z"
    }
   },
   "outputs": [],
   "source": [
    "nag_genes = ['Sama_0944', 'Sama_0945', 'Sama_0946', 'Sama_0948']\n",
    "mannose_genes = ['Sama_0561', 'Sama_0562', 'Sama_0563', 'Sama_0564']\n",
    "wpublishedDf[(wpublishedDf.Name.isin(mannose_genes)) & (wpublishedDf.contrast == 'D-Mannitol')]"
   ]
  },
  {
   "cell_type": "markdown",
   "metadata": {},
   "source": [
    "## Look at the count data"
   ]
  },
  {
   "cell_type": "code",
   "execution_count": null,
   "metadata": {
    "ExecuteTime": {
     "end_time": "2023-03-28T12:24:59.394019Z",
     "start_time": "2023-03-28T12:24:50.138580Z"
    }
   },
   "outputs": [],
   "source": [
    "#wcnts = pd.read_csv(wcountsFile)\n",
    "#wcnts_annotated = wcnts[~wcnts.old_locus_tag.isna()]\n",
    "#wcnts_annotated.to_csv(wcountsFile.with_suffix(\".annotated.csv\"), index=False)"
   ]
  },
  {
   "cell_type": "code",
   "execution_count": null,
   "metadata": {
    "ExecuteTime": {
     "end_time": "2023-04-10T12:19:10.680701Z",
     "start_time": "2023-04-10T12:19:09.359638Z"
    }
   },
   "outputs": [],
   "source": [
    "wcnts_annotated = pd.read_csv(wcountsFile.with_suffix(\".annotated.csv\"))"
   ]
  },
  {
   "cell_type": "code",
   "execution_count": null,
   "metadata": {
    "ExecuteTime": {
     "end_time": "2023-04-10T12:19:12.479407Z",
     "start_time": "2023-04-10T12:19:10.683613Z"
    }
   },
   "outputs": [],
   "source": [
    "ncounts = wcnts_annotated.rename({'barcode':'rcbarcode'}, axis=1)\n",
    "ncounts = ncounts.melt(id_vars=['rcbarcode', 'old_locus_tag'], var_name='sampleID', value_name='new_count')"
   ]
  },
  {
   "cell_type": "code",
   "execution_count": null,
   "metadata": {
    "ExecuteTime": {
     "end_time": "2023-04-10T12:19:33.754572Z",
     "start_time": "2023-04-10T12:19:12.482470Z"
    }
   },
   "outputs": [],
   "source": [
    "cnts = ncounts.merge(pcounts, on=['rcbarcode', 'sampleID'], how='inner')"
   ]
  },
  {
   "cell_type": "code",
   "execution_count": null,
   "metadata": {
    "ExecuteTime": {
     "end_time": "2023-04-10T12:19:34.463902Z",
     "start_time": "2023-04-10T12:19:33.758802Z"
    }
   },
   "outputs": [],
   "source": [
    "cnts['logCnt'] = np.log2(cnts['cnt'] +1)\n",
    "cnts['logNewCnt'] = np.log2(cnts['new_count'] +1)"
   ]
  },
  {
   "cell_type": "code",
   "execution_count": null,
   "metadata": {
    "ExecuteTime": {
     "end_time": "2023-04-10T12:19:38.401812Z",
     "start_time": "2023-04-10T12:19:34.467667Z"
    }
   },
   "outputs": [],
   "source": [
    "wcntCor = cnts.groupby('sampleID')[['logNewCnt', 'logCnt']].corr().iloc[0::2,-1].reset_index()\n",
    "wcntCor.columns = ['contrast', 'comparison', 'R']\n",
    "wcntCor['R2'] = round(wcntCor['R']**2, 3)"
   ]
  },
  {
   "cell_type": "code",
   "execution_count": null,
   "metadata": {
    "ExecuteTime": {
     "end_time": "2023-03-30T09:16:50.609906Z",
     "start_time": "2023-03-30T09:16:50.600972Z"
    }
   },
   "outputs": [],
   "source": [
    "wcntCor"
   ]
  },
  {
   "cell_type": "markdown",
   "metadata": {},
   "source": [
    "## Look at the results"
   ]
  },
  {
   "cell_type": "code",
   "execution_count": null,
   "metadata": {
    "ExecuteTime": {
     "end_time": "2023-04-10T12:19:38.580182Z",
     "start_time": "2023-04-10T12:19:38.405044Z"
    }
   },
   "outputs": [],
   "source": [
    "wresults = pd.read_csv(wresultsFile)\n",
    "wresults = wresults[~wresults.Name.str.contains(\":\")]\n",
    "wresults['contrast'] = wresults['contrast'].replace(contrast_map)"
   ]
  },
  {
   "cell_type": "code",
   "execution_count": null,
   "metadata": {
    "ExecuteTime": {
     "end_time": "2023-04-10T12:19:38.592033Z",
     "start_time": "2023-04-10T12:19:38.586594Z"
    }
   },
   "outputs": [],
   "source": [
    "carbon_sources =['D-Glucose', 'D-Maltose', 'a-Ketoglutaric acid', 'Acetate',\n",
    "       'D-Cellobiose', 'L-Lactate', 'D,L-Lactate', 'Pyruvate',\n",
    "       'D-Mannitol', 'Tween', 'L-Glutamic acid', 'L-Glutamine', 'Gly-Glu',\n",
    "       'Gelatin', 'CAS amino acids', 'Putrescine', 'NAG', 'Adenosine',\n",
    "       'Uridine', 'Thymidine', 'Inosine', 'Cytidine', 'D-Mannose',\n",
    "       'Sucrose', 'L-Serine']"
   ]
  },
  {
   "cell_type": "code",
   "execution_count": null,
   "metadata": {
    "ExecuteTime": {
     "end_time": "2023-04-10T12:19:38.615833Z",
     "start_time": "2023-04-10T12:19:38.595982Z"
    }
   },
   "outputs": [],
   "source": [
    "final_results = wresults[wresults.contrast.isin(carbon_sources)]"
   ]
  },
  {
   "cell_type": "code",
   "execution_count": null,
   "metadata": {
    "ExecuteTime": {
     "end_time": "2023-03-30T09:16:50.939669Z",
     "start_time": "2023-03-30T09:16:50.933205Z"
    }
   },
   "outputs": [],
   "source": [
    "#final_results.to_csv(root/'wetmore_2015/results_1/Set1_rra_results_contrasts_edited.csv', index=False)"
   ]
  },
  {
   "cell_type": "code",
   "execution_count": null,
   "metadata": {},
   "outputs": [],
   "source": [
    "{'0': 'None', '1': 'mBARq only', '2': 'Original analysis only', '3': 'Both methods'}"
   ]
  },
  {
   "cell_type": "code",
   "execution_count": null,
   "metadata": {
    "ExecuteTime": {
     "end_time": "2023-04-10T12:19:38.660280Z",
     "start_time": "2023-04-10T12:19:38.618311Z"
    }
   },
   "outputs": [],
   "source": [
    "wcomp = wresults.merge(wpublishedDf, on=['Name', 'contrast'], how='inner')\n",
    "wcomp['mbarq_hits'] = ((abs(wcomp.LFC) >= 0.6) & ((wcomp.neg_selection_fdr < 0.05)| (wcomp.pos_selection_fdr < 0.05)))\n",
    "wcomp['feba_hits'] = (abs(wcomp.tstat) >= 4).astype(int)*2\n",
    "wcomp['hits'] = wcomp['mbarq_hits'].astype(int) + wcomp['feba_hits']\n",
    "wcomp.hits.replace({0: 'None', 1: 'mBARq only', 2: 'Original analysis only', 3: 'Both methods'}, inplace=True)"
   ]
  },
  {
   "cell_type": "code",
   "execution_count": null,
   "metadata": {
    "ExecuteTime": {
     "end_time": "2023-04-10T12:19:38.685804Z",
     "start_time": "2023-04-10T12:19:38.668053Z"
    }
   },
   "outputs": [],
   "source": [
    "wcomp.sample(5)"
   ]
  },
  {
   "cell_type": "code",
   "execution_count": null,
   "metadata": {
    "ExecuteTime": {
     "end_time": "2023-03-30T09:16:51.030476Z",
     "start_time": "2023-03-30T09:16:50.986711Z"
    }
   },
   "outputs": [],
   "source": [
    "def compare_CIs_db(df, contrast):\n",
    "    legend_title = 'Significant change in fitness <br> detected by:'\n",
    "    to_plot = df[df.contrast == contrast]\n",
    "    to_plot = to_plot.rename({'hits': legend_title}, axis=1)\n",
    "    fig = px.scatter(to_plot, x='LFC', y='published_LFC', color=legend_title, height=800, width=1000,\n",
    "              template = 'plotly_white', \n",
    "                labels = {'published_LFC': 'LFC (original analysis)', 'LFC': 'LFC (mBARq analysis)'},\n",
    "               color_discrete_map = {'None': colors['grey'], 'Both methods': sushi_colors['dgreen'], \n",
    "                                     'mBARq only': sushi_colors['dblue'], 'Original analysis only': sushi_colors['orange']},\n",
    "                hover_data=['Name'],\n",
    "                category_orders = {legend_title:['None', 'Original analysis only', 'mBARq only', 'Both methods']},)\n",
    "\n",
    "\n",
    "    fig.update_traces(marker=dict(size=20,\n",
    "                        line=dict(width=1,\n",
    "                                                    color='DarkSlateGrey'), opacity=0.8),\n",
    "                              selector=dict(mode='markers'))\n",
    "\n",
    "    fig.update_layout(font={'size':22})\n",
    "    return fig\n"
   ]
  },
  {
   "cell_type": "code",
   "execution_count": null,
   "metadata": {
    "ExecuteTime": {
     "end_time": "2023-03-28T12:42:34.248279Z",
     "start_time": "2023-03-28T12:42:34.244011Z"
    }
   },
   "outputs": [],
   "source": [
    "#pio.write_image(fig, figuresDir/'26-09-22-nag_ci.png', width=1000, height=600, scale=2)"
   ]
  },
  {
   "cell_type": "code",
   "execution_count": null,
   "metadata": {
    "ExecuteTime": {
     "end_time": "2023-04-10T12:19:39.080682Z",
     "start_time": "2023-04-10T12:19:38.688530Z"
    }
   },
   "outputs": [],
   "source": [
    "fig = compare_CIs_db(wcomp, 'Tween')\n",
    "fig"
   ]
  },
  {
   "cell_type": "code",
   "execution_count": null,
   "metadata": {
    "ExecuteTime": {
     "end_time": "2023-03-28T12:42:38.965920Z",
     "start_time": "2023-03-28T12:42:35.072842Z"
    }
   },
   "outputs": [],
   "source": [
    "fig.write_image(figuresDir/f\"{today}_Figure3C.png\", format ='png', scale=2 )"
   ]
  },
  {
   "cell_type": "code",
   "execution_count": null,
   "metadata": {
    "ExecuteTime": {
     "end_time": "2023-03-28T12:42:38.995422Z",
     "start_time": "2023-03-28T12:42:38.970434Z"
    }
   },
   "outputs": [],
   "source": [
    "wcomp[wcomp.contrast == 'D-Glucose']"
   ]
  },
  {
   "cell_type": "code",
   "execution_count": null,
   "metadata": {
    "ExecuteTime": {
     "end_time": "2023-04-10T12:19:39.084638Z",
     "start_time": "2023-04-10T12:19:39.084619Z"
    }
   },
   "outputs": [],
   "source": [
    "wcorr_df = wcomp.groupby('contrast')[['LFC', 'published_LFC']].corr().iloc[0::2,-1].reset_index()\n",
    "wcorr_df.columns = ['contrast', 'comparison', 'R']"
   ]
  },
  {
   "cell_type": "code",
   "execution_count": null,
   "metadata": {
    "ExecuteTime": {
     "end_time": "2023-04-10T12:19:39.087853Z",
     "start_time": "2023-04-10T12:19:39.087821Z"
    }
   },
   "outputs": [],
   "source": [
    "wcorr_df"
   ]
  },
  {
   "cell_type": "code",
   "execution_count": null,
   "metadata": {
    "ExecuteTime": {
     "end_time": "2023-04-10T12:19:39.094330Z",
     "start_time": "2023-04-10T12:19:39.094311Z"
    }
   },
   "outputs": [],
   "source": [
    "cor_df = pd.concat([wcorr_df, wcntCor])\n",
    "cor_df.replace({'logNewCnt': 'Counts'}, inplace=True)"
   ]
  },
  {
   "cell_type": "code",
   "execution_count": null,
   "metadata": {
    "ExecuteTime": {
     "end_time": "2023-04-10T12:19:39.096145Z",
     "start_time": "2023-04-10T12:19:39.096129Z"
    }
   },
   "outputs": [],
   "source": [
    "fig = px.box(cor_df, x='comparison', y='R', width=400, height=400, color='comparison',\n",
    "      color_discrete_map = {'LFC': 'black' ,'Counts': 'black'\n",
    "                           },\n",
    "             labels={'comparison': ''},\n",
    "        category_orders = {'comparison': ['Counts', 'LFC']},\n",
    "      template='plotly_white', hover_data=['contrast'])\n",
    "fig.update_yaxes(range=[0, 1.1])\n",
    "fig.update_layout(showlegend=False, font=dict(size=20))"
   ]
  },
  {
   "cell_type": "code",
   "execution_count": null,
   "metadata": {
    "ExecuteTime": {
     "end_time": "2023-03-28T12:42:40.222960Z",
     "start_time": "2023-03-28T12:42:39.865868Z"
    }
   },
   "outputs": [],
   "source": [
    "fig.write_image(figuresDir/f\"{today}_Figure3D.png\", format ='png', scale=2 )"
   ]
  },
  {
   "cell_type": "code",
   "execution_count": null,
   "metadata": {
    "ExecuteTime": {
     "end_time": "2023-03-28T12:42:40.353182Z",
     "start_time": "2023-03-28T12:42:40.346788Z"
    }
   },
   "outputs": [],
   "source": [
    "gois = [\"Sama_2129\", \"Sama_2132\", \"Sama_2134\", \"Sama_1943\", \"Sama_1942\", \"Sama_1944\", \"Sama_1946\",  \"Sama_2129\", \"Sama_2134\",\n",
    "       \"Sama_2131\", \"Sama_2133\", \"Sama_1941\", \"Sama_1948\", \"Sama_1947\"]\n",
    "#gois = [\"\"]"
   ]
  },
  {
   "cell_type": "code",
   "execution_count": null,
   "metadata": {
    "ExecuteTime": {
     "end_time": "2023-03-28T12:42:40.806453Z",
     "start_time": "2023-03-28T12:42:40.773784Z"
    }
   },
   "outputs": [],
   "source": [
    "wcomp[(wcomp.Name.isin(gois)) & ((wcomp.contrast == 'D-Glucose')) ]"
   ]
  },
  {
   "cell_type": "code",
   "execution_count": null,
   "metadata": {
    "ExecuteTime": {
     "end_time": "2023-03-28T12:42:41.391351Z",
     "start_time": "2023-03-28T12:42:41.259854Z"
    }
   },
   "outputs": [],
   "source": [
    "fig = px.bar(wcorr_df, x=\"contrast\", y='R', color='contrast',\n",
    "      color_discrete_sequence = ['black']*3,\n",
    "      height=400, width=800, text_auto='.2f', template='plotly_white')\n",
    "fig.update_layout(showlegend=False)"
   ]
  },
  {
   "cell_type": "code",
   "execution_count": null,
   "metadata": {
    "ExecuteTime": {
     "end_time": "2023-03-28T12:42:42.086354Z",
     "start_time": "2023-03-28T12:42:41.847804Z"
    }
   },
   "outputs": [],
   "source": [
    "fig.write_image(figuresDir/f\"{today}_Figure3D_v2.png\", format ='png', scale=2 )"
   ]
  },
  {
   "cell_type": "code",
   "execution_count": null,
   "metadata": {
    "ExecuteTime": {
     "end_time": "2023-04-10T12:20:24.711587Z",
     "start_time": "2023-04-10T12:20:24.682735Z"
    }
   },
   "outputs": [],
   "source": [
    "x = wcomp[wcomp.hits != 'None'].groupby('contrast').hits.value_counts(normalize=True)\n",
    "#x = wcomp.groupby('contrast').hits.value_counts(normalize=True)\n",
    "x.name = 'hit_props'\n",
    "x = x.reset_index()"
   ]
  },
  {
   "cell_type": "code",
   "execution_count": null,
   "metadata": {
    "ExecuteTime": {
     "end_time": "2023-04-10T12:20:26.043375Z",
     "start_time": "2023-04-10T12:20:25.808160Z"
    }
   },
   "outputs": [],
   "source": [
    "fig = px.box(x, x='hits', y='hit_props', color='hits', width=500, height=500, \n",
    "    labels = {'hit_props': 'Proportion of Hits', 'hits':''},\n",
    "      color_discrete_map = {'Both methods': sushi_colors['dgreen'] ,'Original analysis only': sushi_colors['orange'], \n",
    "                            'mBARq only': sushi_colors['dblue']}, hover_data=['contrast'], \n",
    "      template='plotly_white')\n",
    "fig.update_layout(showlegend=False, font=dict(size=20))"
   ]
  },
  {
   "cell_type": "code",
   "execution_count": null,
   "metadata": {
    "ExecuteTime": {
     "end_time": "2023-03-28T12:43:35.918832Z",
     "start_time": "2023-03-28T12:43:35.691395Z"
    }
   },
   "outputs": [],
   "source": [
    "fig.write_image(figuresDir/f\"{today}_Figure3E.png\", format ='png', scale=2 )"
   ]
  },
  {
   "cell_type": "code",
   "execution_count": null,
   "metadata": {},
   "outputs": [],
   "source": []
  },
  {
   "cell_type": "code",
   "execution_count": null,
   "metadata": {
    "ExecuteTime": {
     "end_time": "2023-04-10T12:20:29.318578Z",
     "start_time": "2023-04-10T12:20:29.260159Z"
    }
   },
   "outputs": [],
   "source": [
    "legend_title = 'Significant change in fitness <br> detected by:'\n",
    "x = x.rename({'hits':legend_title}, axis=1)\n",
    "fig = px.bar(x, x='contrast', y='hit_props', color=legend_title, \n",
    "             labels = {'hit_props': 'Proportion of hits', 'contrast':''},\n",
    "       color_discrete_map = {'Both methods': sushi_colors['dgreen'] ,'Original analysis only': sushi_colors['orange'], \n",
    "                            'mBARq only': sushi_colors['dblue']}, \n",
    "      template='plotly_white')\n",
    "fig "
   ]
  },
  {
   "cell_type": "code",
   "execution_count": null,
   "metadata": {
    "ExecuteTime": {
     "end_time": "2023-04-10T12:20:59.125583Z",
     "start_time": "2023-04-10T12:20:59.112606Z"
    }
   },
   "outputs": [],
   "source": [
    "x.groupby(\"Significant change in fitness <br> detected by:\").hit_props.mean()"
   ]
  },
  {
   "cell_type": "code",
   "execution_count": null,
   "metadata": {
    "ExecuteTime": {
     "end_time": "2023-03-30T09:36:33.816296Z",
     "start_time": "2023-03-30T09:36:31.951527Z"
    }
   },
   "outputs": [],
   "source": [
    "fig.write_image(figuresDir/f\"{today}_Figure3E_v2.png\", format ='png', scale=2 )"
   ]
  },
  {
   "cell_type": "markdown",
   "metadata": {},
   "source": [
    "# Testing"
   ]
  },
  {
   "cell_type": "code",
   "execution_count": null,
   "metadata": {
    "ExecuteTime": {
     "end_time": "2023-03-30T11:22:35.914850Z",
     "start_time": "2023-03-30T11:22:35.888543Z"
    }
   },
   "outputs": [],
   "source": []
  },
  {
   "cell_type": "code",
   "execution_count": null,
   "metadata": {
    "ExecuteTime": {
     "end_time": "2023-03-30T11:25:00.876458Z",
     "start_time": "2023-03-30T11:25:00.146120Z"
    }
   },
   "outputs": [],
   "source": [
    "anot = pd.read_csv(wmapFile)[['Name', 'old_locus_tag']].drop_duplicates().rename({})"
   ]
  },
  {
   "cell_type": "code",
   "execution_count": null,
   "metadata": {
    "ExecuteTime": {
     "end_time": "2023-03-30T11:25:38.741033Z",
     "start_time": "2023-03-30T11:25:38.729355Z"
    }
   },
   "outputs": [],
   "source": [
    "wcomp = wcomp.rename({'Name': 'old_locus_tag'}, axis=1)"
   ]
  },
  {
   "cell_type": "code",
   "execution_count": null,
   "metadata": {
    "ExecuteTime": {
     "end_time": "2023-03-30T11:25:55.984374Z",
     "start_time": "2023-03-30T11:25:55.951659Z"
    }
   },
   "outputs": [],
   "source": [
    "wcomp = wcomp.merge(anot, on='old_locus_tag', how='left')"
   ]
  },
  {
   "cell_type": "code",
   "execution_count": null,
   "metadata": {
    "ExecuteTime": {
     "end_time": "2023-03-30T11:28:27.380173Z",
     "start_time": "2023-03-30T11:28:27.357842Z"
    }
   },
   "outputs": [],
   "source": [
    "goi = set([c for c in wcomp.Name if 'his' in c or 'trp' in c]+['SAMA_RS11125'])"
   ]
  },
  {
   "cell_type": "code",
   "execution_count": null,
   "metadata": {
    "ExecuteTime": {
     "end_time": "2023-03-30T11:28:28.376484Z",
     "start_time": "2023-03-30T11:28:28.371966Z"
    }
   },
   "outputs": [],
   "source": [
    "goi"
   ]
  },
  {
   "cell_type": "code",
   "execution_count": null,
   "metadata": {
    "ExecuteTime": {
     "end_time": "2023-03-30T11:28:34.686041Z",
     "start_time": "2023-03-30T11:28:34.655731Z"
    }
   },
   "outputs": [],
   "source": [
    "wcomp[(wcomp.contrast == 'D-Glucose') & (wcomp.Name.isin(goi))]"
   ]
  },
  {
   "cell_type": "code",
   "execution_count": null,
   "metadata": {
    "ExecuteTime": {
     "end_time": "2023-03-30T11:21:15.142205Z",
     "start_time": "2023-03-30T11:21:13.932812Z"
    }
   },
   "outputs": [],
   "source": [
    "df = pd.read_table(root/\"wetmore_2015/glucose_results/TestNew_D-Glucose_vs_Time0.gene_summary.txt\")"
   ]
  },
  {
   "cell_type": "code",
   "execution_count": null,
   "metadata": {
    "ExecuteTime": {
     "end_time": "2023-01-05T09:39:54.487015Z",
     "start_time": "2023-01-05T09:39:54.476925Z"
    }
   },
   "outputs": [],
   "source": [
    "df = df[['id', 'neg|lfc', 'neg|fdr', 'pos|fdr']].copy()\n",
    "df['contrast'] = 'D-Glucose'"
   ]
  },
  {
   "cell_type": "code",
   "execution_count": null,
   "metadata": {
    "ExecuteTime": {
     "end_time": "2023-01-05T09:39:55.357851Z",
     "start_time": "2023-01-05T09:39:55.348751Z"
    }
   },
   "outputs": [],
   "source": [
    "df = df.rename({'id': 'Name', 'neg|lfc': 'LFC', 'neg|fdr': 'neg_selection_fdr', \n",
    "                'pos|fdr': 'pos_selection_fdr'}, axis=1)"
   ]
  },
  {
   "cell_type": "code",
   "execution_count": null,
   "metadata": {
    "ExecuteTime": {
     "end_time": "2023-01-05T09:39:55.859965Z",
     "start_time": "2023-01-05T09:39:55.833932Z"
    }
   },
   "outputs": [],
   "source": [
    "df = df[~df.Name.str.contains(\":\")]"
   ]
  },
  {
   "cell_type": "code",
   "execution_count": null,
   "metadata": {
    "ExecuteTime": {
     "end_time": "2023-01-05T09:39:56.322052Z",
     "start_time": "2023-01-05T09:39:56.308268Z"
    }
   },
   "outputs": [],
   "source": [
    "df.head()"
   ]
  },
  {
   "cell_type": "code",
   "execution_count": null,
   "metadata": {
    "ExecuteTime": {
     "end_time": "2023-01-05T09:40:00.216718Z",
     "start_time": "2023-01-05T09:39:59.655026Z"
    }
   },
   "outputs": [],
   "source": [
    "df.LFC.hist(bins=100)"
   ]
  },
  {
   "cell_type": "code",
   "execution_count": null,
   "metadata": {
    "ExecuteTime": {
     "end_time": "2023-01-05T09:40:03.252300Z",
     "start_time": "2023-01-05T09:40:03.218567Z"
    }
   },
   "outputs": [],
   "source": [
    "wcomp2 = df.merge(wpublishedDf, on=['Name', 'contrast'], how='inner')\n",
    "wcomp2['New'] = ((abs(wcomp2.LFC) > 0.6) & ((wcomp2.neg_selection_fdr < 0.05)| (wcomp2.pos_selection_fdr < 0.05)))\n",
    "wcomp2['Original'] = (abs(wcomp2.tstat) > 4).astype(int)*2\n",
    "wcomp2['Hits'] = wcomp2['New'].astype(int) + wcomp2['Original']\n",
    "wcomp2.Hits.replace({0: 'No defect', 1: 'New', 2: 'Original', 3: 'Confirmed'}, inplace=True)"
   ]
  },
  {
   "cell_type": "code",
   "execution_count": null,
   "metadata": {
    "ExecuteTime": {
     "end_time": "2022-09-23T10:32:47.987152Z",
     "start_time": "2022-09-23T10:32:47.971693Z"
    }
   },
   "outputs": [],
   "source": [
    "wcorr_df2 = wcomp2.groupby('contrast')[['LFC', 'published_LFC']].corr().iloc[0::2,-1].reset_index()\n",
    "wcorr_df2.columns = ['contrast', 'LFC', 'R']"
   ]
  },
  {
   "cell_type": "code",
   "execution_count": null,
   "metadata": {
    "ExecuteTime": {
     "end_time": "2022-09-23T10:32:51.969025Z",
     "start_time": "2022-09-23T10:32:51.956967Z"
    }
   },
   "outputs": [],
   "source": [
    "wcorr_df2"
   ]
  },
  {
   "cell_type": "code",
   "execution_count": null,
   "metadata": {
    "ExecuteTime": {
     "end_time": "2022-09-23T10:32:57.020599Z",
     "start_time": "2022-09-23T10:32:56.911389Z"
    }
   },
   "outputs": [],
   "source": [
    "compare_CIs_db(wcomp2, 'D-Glucose')"
   ]
  },
  {
   "cell_type": "code",
   "execution_count": null,
   "metadata": {
    "ExecuteTime": {
     "end_time": "2022-09-23T10:33:03.509198Z",
     "start_time": "2022-09-23T10:33:03.496977Z"
    }
   },
   "outputs": [],
   "source": [
    "x = wcomp2[wcomp2.Hits != 'No defect'].groupby('contrast').Hits.value_counts(normalize=True)\n",
    "x.name = 'hit_props'\n",
    "x = x.reset_index()"
   ]
  },
  {
   "cell_type": "code",
   "execution_count": null,
   "metadata": {
    "ExecuteTime": {
     "end_time": "2022-09-23T10:33:03.902662Z",
     "start_time": "2022-09-23T10:33:03.891388Z"
    }
   },
   "outputs": [],
   "source": [
    "x"
   ]
  },
  {
   "cell_type": "markdown",
   "metadata": {},
   "source": [
    "# Jasinska 2020"
   ]
  },
  {
   "cell_type": "markdown",
   "metadata": {},
   "source": [
    "## Load data "
   ]
  },
  {
   "cell_type": "code",
   "execution_count": null,
   "metadata": {
    "ExecuteTime": {
     "end_time": "2023-04-13T13:28:32.400686Z",
     "start_time": "2023-04-13T13:28:32.394333Z"
    }
   },
   "outputs": [],
   "source": [
    "jasinska_config = configs['jasinska']\n",
    "jasinska_root = Path(jasinskaConfig['root'])\n",
    "jasinska_sample_data_file = jroot/jasinska_config['sampleDataFile']\n",
    "jasinska_published_freq_file = jroot/jasinska_config['publishedFrequency']"
   ]
  },
  {
   "cell_type": "code",
   "execution_count": null,
   "metadata": {
    "ExecuteTime": {
     "end_time": "2023-04-13T13:31:19.494080Z",
     "start_time": "2023-04-13T13:31:19.447619Z"
    }
   },
   "outputs": [],
   "source": [
    "jasinska_sample_data = pd.read_csv(jroot/jasinska_sample_data_file)\n",
    "jasinska_sample_data = jasinska_sample_data[[\"Run\", \"Drug_condition_and_replicate\",  \"Sample Name\"]]\n",
    "drugs_and_reps = jasinska_sample_data[\"Drug_condition_and_replicate\"].str.split(\" r\", expand=True)\n",
    "drugs_and_reps.columns = ['drug_condition', 'replicate']\n",
    "drugs_and_reps['replicate'] = drugs_and_reps['replicate'].replace({'1': 'Replicate 1', \n",
    "                                                                  '2': 'Replicate 2', \n",
    "                                                                  '3': 'Replicate 3'})\n",
    "names = jasinska_sample_data['Sample Name'].str.split('_', expand=True)\n",
    "names.columns = ['exp', 'well', 'passage', 'subsample']\n",
    "jasinska_sample_data = pd.concat([jasinska_sample_data, drugs_and_reps, names], axis=1)\n",
    "jasinska_sample_data = jasinska_sample_data.drop(['Drug_condition_and_replicate', 'Sample Name'], axis=1)\n",
    "jasinska_sample_data['passage'] = jasinska_sample_data['passage'].str.split(\"-\", expand=True)[1].astype(int)\n",
    "jasinska_sample_data['generation'] = jasinska_sample_data['passage']*6 # from the paper\n",
    "\n",
    "no_drug_sample_data = jasinska_sample_data[jasinska_sample_data.drug_condition == 'No drug']"
   ]
  },
  {
   "cell_type": "code",
   "execution_count": null,
   "metadata": {
    "ExecuteTime": {
     "end_time": "2023-04-13T13:06:15.639372Z",
     "start_time": "2023-04-13T13:06:15.634132Z"
    }
   },
   "outputs": [],
   "source": [
    "# Selecting only no drug samples to analyze\n",
    "\n",
    "# no_drug_samples = jasinska_sample_data[jasinska_sample_data.drug_condition == 'No drug'].Run.unique()\n",
    "# with open(root/\"jasinska_2020/no_drug_samples.tsv\", 'w') as fo:\n",
    "#     for s in no_drug_samples:\n",
    "#         fo.write(f\"{s}_mbarq_counts.csv\\n\")\n",
    "\n",
    "# tmp_samples = jsampleData[jsampleData.drug_condition == 'Low TMP'].Run.unique()\n",
    "# with open(root/\"jasinska_2020/low_tmp_samples.tsv\", 'w') as fo:\n",
    "#     for s in tmp_samples:\n",
    "#         fo.write(f\"{s}_mbarq_counts.csv\\n\")\n",
    "# Running merge on each of these seperately"
   ]
  },
  {
   "cell_type": "code",
   "execution_count": null,
   "metadata": {
    "ExecuteTime": {
     "end_time": "2023-04-13T13:28:35.702493Z",
     "start_time": "2023-04-13T13:28:35.697270Z"
    }
   },
   "outputs": [],
   "source": [
    "no_drugs_file = jasinska_root/jasinska_config['noDrugsFile']"
   ]
  },
  {
   "cell_type": "code",
   "execution_count": null,
   "metadata": {
    "ExecuteTime": {
     "end_time": "2023-04-13T13:45:26.131449Z",
     "start_time": "2023-04-13T13:45:26.038112Z"
    }
   },
   "outputs": [],
   "source": [
    "jasinska_published_freq = pd.read_csv(jasinska_published_freq_file)\n",
    "jasinska_published_freq['replicate'] = jasinska_published_freq['replicate'].replace({'Rep1': 'Replicate 1', \n",
    "                                                                  'Rep2': 'Replicate 2', \n",
    "                                                                  'Rep3': 'Replicate 3'})\n",
    "jasinska_pub_barcodes = published.barcode.values\n",
    "jasinska_color_map = jasinska_published_freq[['barcode', 'color']].set_index('barcode').to_dict()['color']"
   ]
  },
  {
   "cell_type": "code",
   "execution_count": null,
   "metadata": {
    "ExecuteTime": {
     "end_time": "2023-04-13T13:29:48.856153Z",
     "start_time": "2023-04-13T13:29:44.633082Z"
    }
   },
   "outputs": [],
   "source": [
    "jasinska_counts = None\n",
    "for chunk in pd.read_csv(no_drugs_file, chunksize=1000000):\n",
    "    chunk_result = chunk.set_index(\"barcode\")\n",
    "    chunk_result = chunk_result[chunk_result.sum(axis=1) > 10]\n",
    "    if jasinska_counts is None:\n",
    "        jasinska_counts = chunk_result\n",
    "    else:\n",
    "        jasinska_counts = jasinska_counts.add(chunk_result, fill_value=0)"
   ]
  },
  {
   "cell_type": "code",
   "execution_count": null,
   "metadata": {
    "ExecuteTime": {
     "end_time": "2023-04-13T13:30:38.144240Z",
     "start_time": "2023-04-13T13:30:37.851644Z"
    }
   },
   "outputs": [],
   "source": [
    "jasinska_counts = jasinska_counts/jasinska_counts.sum()"
   ]
  },
  {
   "cell_type": "code",
   "execution_count": null,
   "metadata": {
    "ExecuteTime": {
     "end_time": "2023-04-13T13:32:14.682814Z",
     "start_time": "2023-04-13T13:32:14.306839Z"
    }
   },
   "outputs": [],
   "source": [
    "jasinska_counts = jasinska_counts.reset_index()"
   ]
  },
  {
   "cell_type": "markdown",
   "metadata": {},
   "source": [
    "## Graph frequencies overtime"
   ]
  },
  {
   "cell_type": "code",
   "execution_count": null,
   "metadata": {
    "ExecuteTime": {
     "end_time": "2023-04-13T13:37:08.853693Z",
     "start_time": "2023-04-13T13:37:08.823304Z"
    }
   },
   "outputs": [],
   "source": [
    "hi_freq = jasinska_counts[jasinska_counts.barcode.isin(jasinska_pub_barcodes)]\n",
    "hi_freq  = hi_freq.melt(id_vars='barcode', value_name = 'Frequency', var_name = 'Run')\n",
    "hi_freq_full = no_drug_sample_data.merge(hi_freq, on='Run', how='left')\n",
    "freq_overtime = hi_freq_full.groupby(['barcode', 'replicate', 'generation']).Frequency.mean().reset_index()"
   ]
  },
  {
   "cell_type": "code",
   "execution_count": null,
   "metadata": {
    "ExecuteTime": {
     "end_time": "2023-04-13T14:06:48.567113Z",
     "start_time": "2023-04-13T14:06:48.552827Z"
    }
   },
   "outputs": [],
   "source": [
    "def graph_frequency_over_time(df, time_col, freq_col, color_dict, barcode_col='barcode', \n",
    "                              filter_by_col='', filter_by_value='' ):\n",
    "    if filter_by_col:\n",
    "        df = df[df[filter_by_col] == filter_by_value]\n",
    "    barcode_order = list(df.groupby([barcode_col])[freq_col].sum().sort_values(ascending=False).index)\n",
    "    df = (df[[barcode_col, freq_col, time_col]].drop_duplicates()\n",
    "          .pivot(index = time_col, columns = barcode_col))\n",
    "    df.columns = [c[1] for c in list(df.columns)]\n",
    "    df = df.reset_index()\n",
    "    df = df[[time_col] + barcode_order]\n",
    "    y = [df[c] for c in df.columns[1:]]\n",
    "    color_map = [color_dict[c] for c in df.columns[1:]]\n",
    "    sns.set_style('ticks')\n",
    "    fig = plt.figure(figsize=(5,4))\n",
    "    #create area chart\n",
    "    plt.stackplot(df[time_col], y, colors=color_map)\n",
    "    #add axis labels\n",
    "    plt.xlabel('Time (generations)')\n",
    "    plt.ylabel('Lineage frequency')\n",
    "\n",
    "    return fig"
   ]
  },
  {
   "cell_type": "code",
   "execution_count": null,
   "metadata": {
    "ExecuteTime": {
     "end_time": "2023-04-13T14:06:49.948281Z",
     "start_time": "2023-04-13T14:06:49.584525Z"
    }
   },
   "outputs": [],
   "source": [
    "fig = graph_frequency_over_time(freq_overtime, 'generation', 'Frequency', jasinska_color_map, \n",
    "                                'barcode', 'replicate', 'Replicate 1')\n",
    "fig.savefig(figuresDir/f\"{today}_Figure4A_i.png\", dpi=150, bbox_inches = \"tight\")"
   ]
  },
  {
   "cell_type": "code",
   "execution_count": null,
   "metadata": {
    "ExecuteTime": {
     "end_time": "2023-04-13T14:06:52.062007Z",
     "start_time": "2023-04-13T14:06:51.713214Z"
    }
   },
   "outputs": [],
   "source": [
    "fig = graph_frequency_over_time(freq_overtime, 'generation', 'Frequency', jasinska_color_map, \n",
    "                                'barcode', 'replicate', 'Replicate 2')\n",
    "fig.savefig(figuresDir/f\"{today}_Figure4A_ii.png\", dpi=150, bbox_inches = \"tight\")"
   ]
  },
  {
   "cell_type": "code",
   "execution_count": null,
   "metadata": {
    "ExecuteTime": {
     "end_time": "2023-04-13T14:06:53.383713Z",
     "start_time": "2023-04-13T14:06:53.053878Z"
    }
   },
   "outputs": [],
   "source": [
    "fig = graph_frequency_over_time(freq_overtime, 'generation', 'Frequency', jasinska_color_map, \n",
    "                                'barcode', 'replicate', 'Replicate 3')\n",
    "\n",
    "fig.savefig(figuresDir/f\"{today}_Figure4A_iii.png\", dpi=150, bbox_inches = \"tight\")"
   ]
  },
  {
   "cell_type": "markdown",
   "metadata": {},
   "source": [
    "## Graph final frequencies"
   ]
  },
  {
   "cell_type": "code",
   "execution_count": null,
   "metadata": {
    "ExecuteTime": {
     "end_time": "2023-04-13T13:45:30.885636Z",
     "start_time": "2023-04-13T13:45:30.857225Z"
    }
   },
   "outputs": [],
   "source": [
    "mbarq_result_mean = hi_freq_full.groupby(['barcode', 'replicate']).Frequency.mean().reset_index()\n",
    "mbarq_result_mean.columns = ['barcode', 'replicate', 'mbarq_av_freq']\n",
    "mbarq_result_final = (hi_freq_full[hi_freq_full.generation == 420]\n",
    "                      .groupby(['barcode', 'replicate'])\n",
    "                      .Frequency.mean()\n",
    "                      .reset_index())\n",
    "mbarq_result_final.columns = ['barcode', 'replicate', 'mbarq_final_freq']\n",
    "\n",
    "mbarq_result = (mbarq_result_mean.merge(mbarq_result_final, on=['barcode', 'replicate'])\n",
    "                .merge(jasinska_published_freq, on=['barcode', 'replicate']))"
   ]
  },
  {
   "cell_type": "code",
   "execution_count": null,
   "metadata": {
    "ExecuteTime": {
     "end_time": "2023-04-13T13:48:57.753862Z",
     "start_time": "2023-04-13T13:48:55.291990Z"
    }
   },
   "outputs": [],
   "source": [
    "final_freq_df = (mbarq_result[['barcode', 'replicate', 'mbarq_final_freq', 'final_freq']]\n",
    "                 .melt(id_vars=['barcode', 'replicate'], value_name = 'Frequency', var_name ='method'))\n",
    "final_freq_df['method'] = final_freq_df['method'].replace({'mbarq_final_freq': 'mBARq',\n",
    "                                                          'final_freq': 'Original analysis'})\n",
    "fig = px.bar(final_freq_df, x=\"method\", y=\"Frequency\", color=\"barcode\", log_y=True, color_discrete_map = cdict, \n",
    "       facet_col='replicate', template=\"plotly_white\",\n",
    "       category_orders = {'replicate': ['Replicate 1', 'Replicate 2', 'Replicate 3']},\n",
    "             labels = { 'Frequency': 'Lineage frequency','method':''},\n",
    "            width=600, height=600\n",
    "      )\n",
    "fig.for_each_annotation(lambda a: a.update(text=a.text.split(\"=\")[-1]))\n",
    "fig.update_layout(showlegend=False)\n",
    "\n",
    "fig.write_image(figuresDir/f\"{today}_Figure4C.png\", format ='png', scale=2 )"
   ]
  },
  {
   "cell_type": "markdown",
   "metadata": {
    "ExecuteTime": {
     "end_time": "2023-04-13T13:14:36.439477Z",
     "start_time": "2023-04-13T13:14:36.428387Z"
    }
   },
   "source": [
    "## Graph correlation for average frequencies"
   ]
  },
  {
   "cell_type": "code",
   "execution_count": null,
   "metadata": {
    "ExecuteTime": {
     "end_time": "2023-04-13T13:55:36.028352Z",
     "start_time": "2023-04-13T13:55:36.008765Z"
    }
   },
   "outputs": [],
   "source": [
    "mbarq_result[['average_freq', 'mbarq_av_freq']].corr()"
   ]
  },
  {
   "cell_type": "code",
   "execution_count": null,
   "metadata": {
    "ExecuteTime": {
     "end_time": "2023-04-13T13:55:53.023327Z",
     "start_time": "2023-04-13T13:55:53.014006Z"
    }
   },
   "outputs": [],
   "source": [
    "0.9991**2"
   ]
  },
  {
   "cell_type": "code",
   "execution_count": null,
   "metadata": {
    "ExecuteTime": {
     "end_time": "2023-04-13T13:56:15.303219Z",
     "start_time": "2023-04-13T13:56:14.849639Z"
    }
   },
   "outputs": [],
   "source": [
    "fig = px.scatter(mbarq_result, x='average_freq', y='mbarq_av_freq', log_x=True, log_y=True, \n",
    "                 labels={'mbarq_av_freq': 'Average lineage frequency (mBARq)',\n",
    "                        'average_freq': 'Average lineage frequency (original analysis)'},\n",
    "           color='barcode', template='plotly_white', width=500, height=500, color_discrete_map=cdict)\n",
    "fig.update_layout(showlegend=False)\n",
    "fig.update_traces(marker=dict(size=14,\n",
    "                              line=dict(width=1,\n",
    "                                        color='DarkSlateGrey')),\n",
    "                  selector=dict(mode='markers'))\n",
    "fig.update_xaxes(range=[-3.5, 0.0])\n",
    "fig.update_yaxes(range=[-3.5, 0.0])\n",
    "fig.write_image(figuresDir/f\"{today}_Figure4B.png\", format ='png', scale=2 )"
   ]
  },
  {
   "cell_type": "markdown",
   "metadata": {},
   "source": [
    "## Graph Low TMP Condition"
   ]
  },
  {
   "cell_type": "code",
   "execution_count": null,
   "metadata": {
    "ExecuteTime": {
     "end_time": "2022-09-26T10:05:38.929417Z",
     "start_time": "2022-09-26T10:04:09.442037Z"
    }
   },
   "outputs": [],
   "source": [
    "low_tmp = process_frequency_df(lowTMPFile, jsampleData)"
   ]
  },
  {
   "cell_type": "code",
   "execution_count": null,
   "metadata": {
    "ExecuteTime": {
     "end_time": "2022-09-26T10:16:41.355161Z",
     "start_time": "2022-09-26T10:16:41.346618Z"
    }
   },
   "outputs": [],
   "source": [
    "color_seq4 = [px.colors.qualitative.Light24[0], px.colors.qualitative.Light24[5], \n",
    "              px.colors.qualitative.Dark24[19], px.colors.qualitative.Light24[11], \n",
    "              px.colors.qualitative.Light24[9]] +  alphabetClrs + ['grey']*997"
   ]
  },
  {
   "cell_type": "code",
   "execution_count": null,
   "metadata": {},
   "outputs": [],
   "source": []
  },
  {
   "cell_type": "code",
   "execution_count": null,
   "metadata": {
    "ExecuteTime": {
     "end_time": "2022-09-26T10:37:55.110571Z",
     "start_time": "2022-09-26T10:35:34.445705Z"
    }
   },
   "outputs": [],
   "source": [
    "fig = graph_replicate(low_tmp, color_seq4, '1', f=0.01)"
   ]
  },
  {
   "cell_type": "code",
   "execution_count": null,
   "metadata": {
    "ExecuteTime": {
     "end_time": "2022-09-26T10:44:38.785626Z",
     "start_time": "2022-09-26T10:44:37.228995Z"
    }
   },
   "outputs": [],
   "source": [
    "fig"
   ]
  },
  {
   "cell_type": "code",
   "execution_count": null,
   "metadata": {
    "ExecuteTime": {
     "end_time": "2022-09-26T10:25:56.992803Z",
     "start_time": "2022-09-26T10:24:05.616812Z"
    }
   },
   "outputs": [],
   "source": [
    "fig = graph_replicate(low_tmp, color_seq4, '2')"
   ]
  },
  {
   "cell_type": "code",
   "execution_count": null,
   "metadata": {},
   "outputs": [],
   "source": []
  },
  {
   "cell_type": "code",
   "execution_count": null,
   "metadata": {
    "ExecuteTime": {
     "end_time": "2022-09-26T10:26:00.673313Z",
     "start_time": "2022-09-26T10:26:00.555897Z"
    }
   },
   "outputs": [],
   "source": [
    "fig"
   ]
  },
  {
   "cell_type": "code",
   "execution_count": null,
   "metadata": {
    "ExecuteTime": {
     "end_time": "2022-09-26T10:28:28.611504Z",
     "start_time": "2022-09-26T10:26:43.634590Z"
    }
   },
   "outputs": [],
   "source": [
    "fig = graph_replicate(low_tmp, color_seq4, '3')"
   ]
  },
  {
   "cell_type": "code",
   "execution_count": null,
   "metadata": {
    "ExecuteTime": {
     "end_time": "2022-09-26T10:34:41.431914Z",
     "start_time": "2022-09-26T10:34:41.380664Z"
    }
   },
   "outputs": [],
   "source": [
    "fig"
   ]
  },
  {
   "cell_type": "code",
   "execution_count": null,
   "metadata": {},
   "outputs": [],
   "source": []
  }
 ],
 "metadata": {
  "kernelspec": {
   "display_name": "Python 3 (ipykernel)",
   "language": "python",
   "name": "python3"
  },
  "language_info": {
   "codemirror_mode": {
    "name": "ipython",
    "version": 3
   },
   "file_extension": ".py",
   "mimetype": "text/x-python",
   "name": "python",
   "nbconvert_exporter": "python",
   "pygments_lexer": "ipython3",
   "version": "3.8.12"
  },
  "toc": {
   "base_numbering": 1,
   "nav_menu": {},
   "number_sections": true,
   "sideBar": true,
   "skip_h1_title": false,
   "title_cell": "Table of Contents",
   "title_sidebar": "Contents",
   "toc_cell": false,
   "toc_position": {},
   "toc_section_display": true,
   "toc_window_display": true
  }
 },
 "nbformat": 4,
 "nbformat_minor": 4
}
