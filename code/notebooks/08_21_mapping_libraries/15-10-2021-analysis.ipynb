{
 "cells": [
  {
   "cell_type": "code",
   "execution_count": null,
   "id": "dynamic-minutes",
   "metadata": {},
   "outputs": [],
   "source": [
    "import pandas as pd\n",
    "import numpy as np\n",
    "import matplotlib.pyplot as plt\n",
    "import seaborn as sns\n",
    "from pathlib import Path\n",
    "import plotnine as p9\n",
    "import sys\n",
    "sys.path.append(\"/Users/ansintsova/git_repos/nguyenb_tnseq/code/mbarq_analysis\")\n",
    "import quality_control as qc\n",
    "import method1_analysis as m1\n",
    "import os\n",
    "import scipy \n",
    "from  statsmodels.stats.multitest import multipletests"
   ]
  },
  {
   "cell_type": "code",
   "execution_count": null,
   "id": "wireless-cleaner",
   "metadata": {},
   "outputs": [],
   "source": [
    "dataDir = Path(\"/Users/ansintsova/git_repos/nguyenb_tnseq/data/08_21\")\n",
    "controlFile = dataDir/\"controls.txt\"\n",
    "geneDf = pd.read_csv(dataDir/\"15-10-filtered-gene-level.csv\", index_col=0)\n",
    "bcDf = pd.read_csv(dataDir/\"15-10-filtered-barcode-level.csv\", index_col=0)"
   ]
  },
  {
   "cell_type": "code",
   "execution_count": null,
   "id": "binding-bankruptcy",
   "metadata": {},
   "outputs": [],
   "source": [
    "geneDf['experiment'] = geneDf['dnaid'] + \"-\" + geneDf['experiment']\n",
    "geneDf.head()"
   ]
  },
  {
   "cell_type": "code",
   "execution_count": null,
   "id": "impaired-wednesday",
   "metadata": {},
   "outputs": [],
   "source": [
    "test = geneDf[geneDf.library == 'library_14_2']\n",
    "t = test[['sampleName', 'ShortName', 'barcode_cnt']].pivot(index='ShortName', columns='sampleName').head()\n",
    "t.columns = [c[1] for c in t.columns]\n",
    "t"
   ]
  },
  {
   "cell_type": "code",
   "execution_count": null,
   "id": "stylish-choice",
   "metadata": {},
   "outputs": [],
   "source": [
    "# Takes already pre-filtered dataset, and sets up input for DESeq2\n",
    "\n",
    "def generate_DE_dataset(exp_df, sample_id='sampleID', feat_id = 'ShortName'):\n",
    "\n",
    "    sample_data = (exp_df[[sample_id, 'mouse', 'day', 'tissue', 'dnaid', 'experiment']]\n",
    "                   .set_index(sample_id).drop_duplicates())\n",
    "    sample_data, design = qc.check_sdf(sample_data)\n",
    "    \n",
    "    expr_data = exp_df[[sample_id, feat_id, 'barcode_cnt']].drop_duplicates().pivot(index=feat_id, columns=sample_id).fillna(0)\n",
    "    expr_data.columns = [c[1] for c in expr_data.columns]\n",
    "    expr_data = expr_data[list(sample_data.index)].reset_index()\n",
    "    print(f\"Number of unique experiments after filtering: {sample_data.experiment.nunique()}\")\n",
    "    print(f\"Design: {design}\")\n",
    "    return sample_data, expr_data, design"
   ]
  },
  {
   "cell_type": "code",
   "execution_count": null,
   "id": "english-strap",
   "metadata": {},
   "outputs": [],
   "source": [
    "a,b,c= generate_DE_dataset(test, sample_id='sampleName', feat_id = 'ShortName')"
   ]
  },
  {
   "cell_type": "code",
   "execution_count": null,
   "id": "unlikely-preparation",
   "metadata": {},
   "outputs": [],
   "source": [
    "a[['day', 'experiment']].sample(5)"
   ]
  },
  {
   "cell_type": "code",
   "execution_count": null,
   "id": "injured-jordan",
   "metadata": {},
   "outputs": [],
   "source": [
    "def get_fitness_results(fitness_dir, experiment, sdf, edf, design, feat_id):\n",
    "    sdf_path = Path(fitness_dir) / f\"{experiment}_sdf.csv\"\n",
    "    edf_path = Path(fitness_dir) / f\"{experiment}_edf.csv\"\n",
    "    sdf.to_csv(sdf_path)\n",
    "    edf.set_index(feat_id).to_csv(edf_path)\n",
    "    #rpath = Path(__file__).parent.absolute()\n",
    "    rscript = '/Users/ansintsova/git_repos/nguyenb_tnseq/code/notebooks/07_2021/DEseq.R'\n",
    "    cmd = f'Rscript {rscript} {sdf_path} {edf_path} {design}'\n",
    "    print(cmd)\n",
    "    r = qc.run_command(cmd.split())\n",
    "    fitness = pd.concat(\n",
    "        [pd.read_table(f, sep=' ').assign(day=f.stem.split(\"_\")[-1]) for f in Path(fitness_dir).iterdir() if\n",
    "         f\"{experiment}_fitness\" in f.stem])\n",
    "    vst_counts = pd.read_csv(Path(fitness_dir)/f\"{experiment}_vst.csv\")\n",
    "    for file in [f for f in Path(fitness_dir).iterdir() if f\"{experiment}_fitness\" in f.stem]:\n",
    "        os.remove(file)\n",
    "    os.remove(sdf_path)\n",
    "    os.remove(edf_path)\n",
    "    os.remove(Path(fitness_dir)/f\"{experiment}_vst.csv\")\n",
    "    n_samples = sdf.groupby('day').mouse.nunique().to_dict()\n",
    "    fitness['n_samples'] = fitness.day.map(n_samples)\n",
    "    fitness = fitness.reset_index().rename({'index': 'barcode'}, axis=1)\n",
    "    return fitness, vst_counts"
   ]
  },
  {
   "cell_type": "code",
   "execution_count": null,
   "id": "greek-democracy",
   "metadata": {},
   "outputs": [],
   "source": [
    "f, c = get_fitness_results(dataDir, 'library_14_2', a,b,c,'ShortName')"
   ]
  },
  {
   "cell_type": "code",
   "execution_count": null,
   "id": "fatal-silver",
   "metadata": {},
   "outputs": [],
   "source": [
    "f =f.rename({'gene':'barcode'}, axis=1)"
   ]
  },
  {
   "cell_type": "code",
   "execution_count": null,
   "id": "distinct-conspiracy",
   "metadata": {},
   "outputs": [],
   "source": [
    "f[(f.padj<0.1) &(len(f.gene)) < 10].sample(5)"
   ]
  },
  {
   "cell_type": "code",
   "execution_count": null,
   "id": "narrative-manner",
   "metadata": {},
   "outputs": [],
   "source": [
    "def sigma(lfcSE):\n",
    "    return np.sqrt(lfcSE.pow(2).sum()) / len(lfcSE)\n",
    "\n",
    "\n",
    "def calculate_2dist_zscore(u1, s1, u2, s2):\n",
    "    return (u1 - u2) / np.sqrt((s1 ** 2) + (s2 ** 2))\n",
    "\n",
    "\n",
    "def to_list(x):\n",
    "    bc_list = list(x)\n",
    "    if len(bc_list) == 1:\n",
    "        return bc_list[0]\n",
    "    return \", \".join(list(set(x)))\n",
    "\n",
    "\n",
    "def calculate_comparisons2(fitness, df, control_file):\n",
    "    \"\"\"\n",
    "\n",
    "    fitness: DESeq2 output, log2FoldChange value for each barcode comparing each time point with inoculum\n",
    "    df: df for 1 experiment and 1 dnaid\n",
    "    controls: control meta df?\n",
    "    \"\"\"\n",
    "    days = sorted(list(fitness['day'].unique()))\n",
    "    # days.remove('d0')\n",
    "    controls = pd.read_table(control_file, names=['barcode', 'phenotype', 'conc'])\n",
    "\n",
    "    controls = pd.read_table(control_file, names=['barcode', 'phenotype', 'conc'])\n",
    "    \n",
    "    controls['CntrlName']= controls['phenotype'] + controls['conc'].astype(str)\n",
    "    controls_bc = controls[controls.phenotype == 'wt'].barcode.values\n",
    "\n",
    "    cntrl_df = fitness[fitness.barcode.isin(controls_bc)]\n",
    "    \n",
    "    gene_df = fitness[~fitness.barcode.isin(controls_bc)].rename({'barcode':'ShortName'}, axis=1)\n",
    "    gene_mean = gene_df.groupby(['ShortName', 'day']).agg(\n",
    "            {'log2FoldChange': ['mean', 'median'], 'lfcSE': [sigma]}).reset_index()\n",
    "    gene_mean.columns = ['gene', 'day', 'gene_FC', 'gene_FC_median', 'sigma']\n",
    "    cntrl_mean = cntrl_df.groupby(['day']).agg({'log2FoldChange': ['mean', 'median'], 'lfcSE': [sigma]})\n",
    "    cntrl_mean.columns = ['cntrl_FC', 'cntrl_FC_median', 'cntrl_sigma']\n",
    "    cntrl_mean = cntrl_mean.reset_index()\n",
    "    gene_mean = gene_mean.merge(cntrl_mean, how='left', on='day')\n",
    "    \n",
    "    gene_mean['zscore'] = gene_mean.apply(\n",
    "            lambda x: calculate_2dist_zscore(x['gene_FC'], x['sigma'], x['cntrl_FC'], x['cntrl_sigma']), axis=1)\n",
    "\n",
    "    gene_mean['ci'] = gene_mean.apply(lambda x: 2 ** x['gene_FC'] / 2 ** x['cntrl_FC'], axis=1)\n",
    "    gene_mean = gene_mean[['gene', 'day', 'gene_FC',  'sigma', 'zscore', 'ci']]\n",
    "    results = gene_mean.copy()\n",
    "    results['pval'] = results.zscore.apply(lambda x: scipy.stats.norm.sf(abs(x)) * 2)\n",
    "    results['padj'] = results.groupby('day').pval.transform(lambda x: multipletests(x, alpha=0.05, method='fdr_bh')[1])\n",
    "    return results\n",
    "\n",
    "def final_fitness_table(fitness, exp_df, control_file, results):\n",
    "    barcode_info = exp_df[['barcode', 'locus_tag', 'ShortName', 'library']].drop_duplicates()\n",
    "    fitness = fitness.merge(barcode_info, how='left', on=['barcode'])\n",
    "    bc_per_gene = fitness.groupby(['library', 'ShortName']).agg({'barcode': ['nunique', to_list]}).reset_index()\n",
    "    bc_per_gene.columns = ['library', 'ShortName', 'num_barcodes', 'barcode']\n",
    "    num_samples = fitness[['day', 'n_samples']].drop_duplicates()\n",
    "    control_fit = get_control_fitness(fitness, control_file)\n",
    "\n",
    "    fit_summary = (results.merge(num_samples, how='left', on='day')\n",
    "                   .merge(bc_per_gene, how='left', left_on='gene', right_on='ShortName')\n",
    "                   )\n",
    "    return pd.concat([fit_summary, control_fit])"
   ]
  },
  {
   "cell_type": "code",
   "execution_count": null,
   "id": "promotional-julian",
   "metadata": {},
   "outputs": [],
   "source": [
    "results = calculate_comparisons2(f, test, controlFile)\n",
    "\n",
    "#final = final_fitness_table(f, test, controlFile, results)"
   ]
  },
  {
   "cell_type": "code",
   "execution_count": null,
   "id": "current-tactics",
   "metadata": {},
   "outputs": [],
   "source": [
    "results[(results.day =='d1') & (results.padj < 0.05)]"
   ]
  },
  {
   "cell_type": "code",
   "execution_count": null,
   "id": "saving-librarian",
   "metadata": {},
   "outputs": [],
   "source": [
    "def calculte_comparisons(fitness, df, control_file):\n",
    "    \"\"\"\n",
    "\n",
    "    fitness: DESeq2 output, log2FoldChange value for each barcode comparing each time point with inoculum\n",
    "    df: df for 1 experiment and 1 dnaid\n",
    "    controls: control meta df?\n",
    "    \"\"\"\n",
    "    days = sorted(list(fitness['day'].unique()))\n",
    "    # days.remove('d0')\n",
    "    controls = pd.read_table(control_file, names=['barcode', 'phenotype', 'conc'])\n",
    "\n",
    "    # Get all entries that were mapped to a gene\n",
    "    gene_bc = df[df.phenotype.isna()].barcode.values\n",
    "    gene_df = fitness[fitness.barcode.isin(gene_bc)]  # subsetting only on barcodes present in fitness table\n",
    "    # Add gene annotation to the fitness table\n",
    "    gene_df = gene_df.merge(df[['barcode', 'ShortName']], how='left', on='barcode').drop_duplicates()\n",
    "    \n",
    "    # Calculate mean log2FoldChange and sigma for each gene (for all )\n",
    "    \n",
    "    gene_mean = gene_df.groupby(['ShortName', 'day']).agg(\n",
    "        {'log2FoldChange': ['mean', 'median'], 'lfcSE': [sigma]}).reset_index()\n",
    "    gene_mean.columns = ['gene', 'day', 'gene_FC', 'gene_FC_median', 'sigma']\n",
    "    # Get all the WITS barcodes\n",
    "    controls_bc = controls[controls.phenotype == 'wt'].barcode.values\n",
    "   \n",
    "    cntrl_df = fitness[fitness.barcode.isin(controls_bc)]\n",
    "    \n",
    "    # Calculate mean log2FoldChange and sigma for the control barcodes (for all barcodes)\n",
    "    cntrl_mean = cntrl_df.groupby(['day']).agg({'log2FoldChange': ['mean', 'median'], 'lfcSE': [sigma]})\n",
    "    cntrl_mean.columns = ['cntrl_FC', 'cntrl_FC_median', 'cntrl_sigma']\n",
    "    cntrl_mean = cntrl_mean.reset_index()\n",
    "    \n",
    "    # Calculate zscore and competitive index (CI) for each gene\n",
    "    gene_mean = gene_mean.merge(cntrl_mean, how='left', on='day')\n",
    "    gene_mean['zscore'] = gene_mean.apply(\n",
    "        lambda x: calculate_2dist_zscore(x['gene_FC'], x['sigma'], x['cntrl_FC'], x['cntrl_sigma']), axis=1)\n",
    "    gene_mean['ci'] = gene_mean.apply(lambda x: 2 ** x['gene_FC'] / 2 ** x['cntrl_FC'], axis=1)\n",
    "    gene_mean = gene_mean[['gene', 'day', 'gene_FC', 'gene_FC_median', 'sigma', 'zscore', 'ci']]\n",
    "    \n",
    "    # Get all barcodes that were not mapped to a gene\n",
    "    all_cntrl_bc = controls.barcode.values\n",
    "    others_bc = df[(df.locus_tag.isna()) & ~(df.barcode.isin(all_cntrl_bc))].barcode.values\n",
    "    other_df = fitness[fitness.barcode.isin(others_bc)]\n",
    "    if not other_df.empty:\n",
    "        other_df = other_df.merge(cntrl_mean, how='left', on='day')\n",
    "\n",
    "        # Calculate zscore and CI for each barcode\n",
    "        other_df['zscore'] = other_df.apply(\n",
    "            lambda x: calculate_2dist_zscore(x['log2FoldChange'], x['lfcSE'], x['cntrl_FC'], x['cntrl_sigma']), axis=1)\n",
    "        other_df['ci'] = other_df.apply(lambda x: 2 ** x['log2FoldChange'] / 2 ** x['cntrl_FC'], axis=1)\n",
    "        other_df['gene_FC'] = other_df['gene_FC_median'] = other_df['log2FoldChange']\n",
    "        other_df['sigma'] = other_df['lfcSE']\n",
    "        other_df = other_df[['barcode', 'day', 'gene_FC', 'gene_FC_median', 'sigma','zscore', 'ci']].rename({'barcode': 'gene'}, axis=1)\n",
    "        \n",
    "    # Concatenate the gene and barcode results\n",
    "        results = pd.concat([gene_mean, other_df])\n",
    "    else:\n",
    "        results = gene_mean.copy()\n",
    "    # Calculate p-values for the genes/barcodes\n",
    "    results['pval'] = results.zscore.apply(lambda x: scipy.stats.norm.sf(abs(x)) * 2)\n",
    "    results['padj'] = results.groupby('day').pval.transform(lambda x: multipletests(x, alpha=0.05, method='fdr_bh')[1])\n",
    "    return results"
   ]
  },
  {
   "cell_type": "code",
   "execution_count": null,
   "id": "distributed-castle",
   "metadata": {},
   "outputs": [],
   "source": [
    "bcDf['experiment'] = bcDf['dnaid'] + \"-\" + bcDf['experiment']\n",
    "bcDf.head()\n",
    "\n",
    "test2 = bcDf[bcDf.library == 'library_14_2']\n",
    "t = test2[['sampleName', 'barcode', 'barcode_cnt']].drop_duplicates().pivot(index='barcode', columns='sampleName').head()\n",
    "t.columns = [c[1] for c in t.columns]\n",
    "t"
   ]
  },
  {
   "cell_type": "code",
   "execution_count": null,
   "id": "appreciated-faculty",
   "metadata": {},
   "outputs": [],
   "source": [
    "a,b,c= generate_DE_dataset(test2, sample_id='sampleName', feat_id = 'barcode')\n"
   ]
  },
  {
   "cell_type": "code",
   "execution_count": null,
   "id": "above-departure",
   "metadata": {},
   "outputs": [],
   "source": [
    "f, c = get_fitness_results(dataDir, 'library_14_2', a,b,c, 'barcode')"
   ]
  },
  {
   "cell_type": "code",
   "execution_count": null,
   "id": "sunset-movement",
   "metadata": {},
   "outputs": [],
   "source": [
    "test3 = test2.set_index('ShortName')"
   ]
  },
  {
   "cell_type": "code",
   "execution_count": null,
   "id": "sacred-boating",
   "metadata": {},
   "outputs": [],
   "source": [
    "results2 = calculte_comparisons(f, test2, controlFile)"
   ]
  },
  {
   "cell_type": "code",
   "execution_count": null,
   "id": "forced-consolidation",
   "metadata": {},
   "outputs": [],
   "source": [
    "results2[(results.day =='d1') & (results.padj < 0.05)]"
   ]
  },
  {
   "cell_type": "code",
   "execution_count": null,
   "id": "dated-clinic",
   "metadata": {},
   "outputs": [],
   "source": [
    "comp = results.merge(results2, on=['gene', 'day'], how='inner')\n",
    "comp_sig = comp[(comp.padj_x<0.05) | (comp.padj_y < 0.05)]"
   ]
  },
  {
   "cell_type": "code",
   "execution_count": null,
   "id": "processed-diagnosis",
   "metadata": {},
   "outputs": [],
   "source": [
    "plt.figure(figsize=(8,8))\n",
    "sns.regplot(data=comp, x='zscore_x', y='zscore_y', )\n",
    "plt.hlines(0, -15, 8, color='gray', alpha=0.3)\n",
    "plt.vlines(0, -22, 8, color='gray', alpha=0.3)\n",
    "plt.xlim(-15, 8)\n",
    "plt.ylim(-21, 7)\n",
    "plt.xlabel('Z-scores (gene level)')\n",
    "plt.ylabel('Z-scores (barcode level)')"
   ]
  },
  {
   "cell_type": "code",
   "execution_count": null,
   "id": "controversial-reduction",
   "metadata": {},
   "outputs": [],
   "source": []
  }
 ],
 "metadata": {
  "kernelspec": {
   "display_name": "Python 3 (ipykernel)",
   "language": "python",
   "name": "python3"
  },
  "language_info": {
   "codemirror_mode": {
    "name": "ipython",
    "version": 3
   },
   "file_extension": ".py",
   "mimetype": "text/x-python",
   "name": "python",
   "nbconvert_exporter": "python",
   "pygments_lexer": "ipython3",
   "version": "3.8.12"
  },
  "toc": {
   "base_numbering": 1,
   "nav_menu": {},
   "number_sections": true,
   "sideBar": true,
   "skip_h1_title": false,
   "title_cell": "Table of Contents",
   "title_sidebar": "Contents",
   "toc_cell": false,
   "toc_position": {},
   "toc_section_display": true,
   "toc_window_display": false
  }
 },
 "nbformat": 4,
 "nbformat_minor": 5
}
