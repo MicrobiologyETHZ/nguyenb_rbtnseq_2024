{
 "cells": [
  {
   "cell_type": "code",
   "execution_count": null,
   "id": "hungry-bedroom",
   "metadata": {},
   "outputs": [],
   "source": [
    "import pandas as pd\n",
    "import numpy as np\n",
    "import matplotlib.pyplot as plt\n",
    "import seaborn as sns\n",
    "from pathlib import Path\n",
    "import plotnine as p9"
   ]
  },
  {
   "cell_type": "code",
   "execution_count": null,
   "id": "stuck-capital",
   "metadata": {},
   "outputs": [],
   "source": [
    "dataDir = Path(\"/Users/ansintsova/git_repos/nguyenb_tnseq/data/08_21\")\n",
    "mapFiles = [f for f in (dataDir/'maps').iterdir() if 'barcode_map.annotated.csv' in f.name]\n",
    "mapFilesUnFiltered = [f for f in (dataDir/'maps/l0').iterdir() if 'barcode_map.annotated.csv' in f.name]"
   ]
  },
  {
   "cell_type": "markdown",
   "id": "interesting-wrist",
   "metadata": {},
   "source": [
    "- For each library, number of insertions, number of genes disrupted, histogram of # of insertions per gene. What are the genes with most insertions? "
   ]
  },
  {
   "cell_type": "code",
   "execution_count": null,
   "id": "understood-tribute",
   "metadata": {},
   "outputs": [],
   "source": [
    "mapsDf = pd.concat([pd.read_csv(f).assign(library=f.name.split('.barcode_map.annotated.csv')[0]) for f in mapFiles])"
   ]
  },
  {
   "cell_type": "code",
   "execution_count": null,
   "id": "compatible-christmas",
   "metadata": {},
   "outputs": [],
   "source": [
    "mapsDf.sample(5)"
   ]
  },
  {
   "cell_type": "code",
   "execution_count": null,
   "id": "collectible-density",
   "metadata": {
    "code_folding": []
   },
   "outputs": [],
   "source": [
    "table1 = (mapsDf.groupby('library')\n",
    "          .agg({'barcode':['nunique'], 'ShortName':['nunique', lambda x: x.isna().sum()],\n",
    "               'multimap':['sum']})\n",
    "          .reset_index())\n",
    "table1.columns = [\"Library\", '# of insertions', '# of genes with insertion', \n",
    "                  '# of insertions outside of CDS', '# of barcodes mapped to multiple locations']\n",
    "table1['Library'] = table1.Library.str.replace(\"_\", '-')"
   ]
  },
  {
   "cell_type": "code",
   "execution_count": null,
   "id": "criminal-rhythm",
   "metadata": {},
   "outputs": [],
   "source": [
    "table1.to_csv(dataDir/\"14-10-2021-table1.csv\")"
   ]
  },
  {
   "cell_type": "code",
   "execution_count": null,
   "id": "fantastic-element",
   "metadata": {},
   "outputs": [],
   "source": [
    "table1"
   ]
  },
  {
   "cell_type": "code",
   "execution_count": null,
   "id": "subjective-buddy",
   "metadata": {},
   "outputs": [],
   "source": [
    "y = (mapsDf.groupby(['library', 'ShortName'])\n",
    "          .barcode.count().reset_index()).groupby('library').barcode.value_counts(normalize=True)\n",
    "y.name = 'num_b'\n",
    "y = y.reset_index()\n",
    "y[y.barcode == 1].num_b"
   ]
  },
  {
   "cell_type": "code",
   "execution_count": null,
   "id": "sacred-invite",
   "metadata": {},
   "outputs": [],
   "source": [
    "table2 = (mapsDf.groupby(['library', 'ShortName'])\n",
    "          .barcode.count().reset_index().groupby('library')\n",
    "          .agg({'barcode': ['median', lambda x: round(x.mean(), 2),'min', 'max']})\n",
    "          .reset_index())\n",
    "table2.columns = ['Library', 'Median insertions per gene', 'Mean insertions per gene', \n",
    "                  'Min insertions per gene', 'Max insertions per gene' ]\n",
    "table2['Library'] = table2.Library.str.replace(\"_\", '-')"
   ]
  },
  {
   "cell_type": "code",
   "execution_count": null,
   "id": "square-image",
   "metadata": {},
   "outputs": [],
   "source": [
    "table2[['Library','Median insertions per gene', 'Max insertions per gene']]"
   ]
  },
  {
   "cell_type": "code",
   "execution_count": null,
   "id": "indonesian-appraisal",
   "metadata": {},
   "outputs": [],
   "source": [
    "insertionSum = (mapsDf.groupby(['library', 'locus_tag'])\n",
    "                .barcode.count().reset_index())\n",
    "hiDisrupt = insertionSum[insertionSum.barcode >= 10]\n",
    "table3 = (hiDisrupt.groupby('locus_tag')\n",
    "          .agg({'library': ['nunique'], 'barcode': ['median']})\n",
    "          .reset_index())\n",
    "table3.columns = [\"Locus Tag\",\n",
    "                  \"# of libraries with insertion\", \"Median # of insertions\"]\n",
    "gene_loc = (mapsDf[['locus_tag', 'ShortName', 'sseqid', 'sstart']].drop_duplicates()\n",
    "            .groupby(['locus_tag', 'ShortName', 'sseqid']).sstart.min()\n",
    "            .reset_index())\n",
    "table3 = table3.merge(gene_loc, left_on='Locus Tag',\n",
    "                      right_on='locus_tag', how='left')\n",
    "table3 = table3[['ShortName', \"# of libraries with insertion\", \"Median # of insertions\",\n",
    "                 'sseqid', 'sstart']].sort_values(['sseqid', 'sstart'])"
   ]
  },
  {
   "cell_type": "code",
   "execution_count": null,
   "id": "least-northeast",
   "metadata": {},
   "outputs": [],
   "source": [
    "table3"
   ]
  },
  {
   "cell_type": "code",
   "execution_count": null,
   "id": "finite-savannah",
   "metadata": {},
   "outputs": [],
   "source": [
    "table3_fq "
   ]
  },
  {
   "cell_type": "code",
   "execution_count": null,
   "id": "transparent-prague",
   "metadata": {
    "code_folding": []
   },
   "outputs": [],
   "source": [
    "table3_fq = table3[table3.sseqid == 'HE654725.1'].copy()\n",
    "table3_fq['sstart'] = table3_fq.sstart/1000000\n",
    "\n",
    "(p9.ggplot(table3_fq, p9.aes(x='sstart', y='Median # of insertions', color='# of libraries with insertion'))\n",
    " + p9.geom_point(size=6)\n",
    " + p9.geom_segment(p9.aes(x='sstart', xend='sstart',\n",
    "                   y='Median # of insertions', yend=0), size=3, alpha=0.8)\n",
    " + p9.theme_classic()\n",
    " + p9.theme(text=p9.element_text(size=24), figure_size=(20, 10))\n",
    " + p9.xlab(f\"Postion, Mb\")\n",
    " + p9.scale_color_gradientn(colors=sns.color_palette('rocket_r'))\n",
    "    + p9.scale_y_log10())"
   ]
  },
  {
   "cell_type": "code",
   "execution_count": null,
   "id": "stone-collect",
   "metadata": {},
   "outputs": [],
   "source": [
    "table3_fq = table3[table3.sseqid == 'FQ312003.1'].copy()\n",
    "table3_fq['sstart'] = table3_fq.sstart/1000000\n",
    "\n",
    "(p9.ggplot(table3_fq, p9.aes(x='sstart', y='Median # of insertions', color='# of libraries with insertion'))\n",
    " + p9.geom_point(size=6)\n",
    " + p9.geom_segment(p9.aes(x='sstart', xend='sstart',\n",
    "                   y='Median # of insertions', yend=0), size=3, alpha=0.8)\n",
    " + p9.theme_classic()\n",
    " + p9.theme(text=p9.element_text(size=24), figure_size=(20, 10))\n",
    " + p9.xlab(f\"Postion, Mb\")\n",
    " + p9.scale_color_gradientn(colors=sns.color_palette('rocket_r'))\n",
    "    + p9.scale_y_log10())"
   ]
  },
  {
   "cell_type": "code",
   "execution_count": null,
   "id": "guided-graham",
   "metadata": {},
   "outputs": [],
   "source": [
    "sns.set(font_scale=2)\n",
    "sns.set_style('ticks')\n",
    "fig, ax = plt.subplots(figsize=(20,10))\n",
    "sns.histplot(data=insertionSum[insertionSum['library'] == 'library_16_2'], \n",
    "             x='barcode',  color=(0.20973515, 0.09747934, 0.24238489))\n",
    "ax.set_xticks([1, 2, 3, 4, 5, 10]);\n",
    "plt.title(\"Library 16-2\")\n",
    "plt.xlabel('Number of insertions per gene')\n",
    "plt.xlim(0, 10);"
   ]
  },
  {
   "cell_type": "code",
   "execution_count": null,
   "id": "nominated-ratio",
   "metadata": {},
   "outputs": [],
   "source": [
    "sns.set(font_scale=1.5)\n",
    "sns.set_style('ticks')\n",
    "fig, ax = plt.subplots(figsize=(15,5))\n",
    "sns.histplot(data=insertionSum, x='barcode', hue='library',multiple='stack', palette='rocket')\n",
    "ax.set_xticks([1, 2, 3, 4, 5, 10]);\n",
    "plt.xlim(0, 10);"
   ]
  },
  {
   "cell_type": "code",
   "execution_count": null,
   "id": "modified-discipline",
   "metadata": {},
   "outputs": [],
   "source": [
    "mapsDf"
   ]
  },
  {
   "cell_type": "markdown",
   "id": "maritime-abortion",
   "metadata": {},
   "source": [
    "Overlaps at gene level: histogram of # of insertions per gene across all libraries. Genes that were disrupted in most libraries."
   ]
  },
  {
   "cell_type": "code",
   "execution_count": null,
   "id": "norwegian-runner",
   "metadata": {},
   "outputs": [],
   "source": [
    "geneDisruption = mapsDf.groupby('locus_tag').library.nunique().reset_index()"
   ]
  },
  {
   "cell_type": "code",
   "execution_count": null,
   "id": "heavy-bachelor",
   "metadata": {},
   "outputs": [],
   "source": [
    "sns.set(font_scale=2)\n",
    "sns.set_style('ticks')\n",
    "fig, ax = plt.subplots(figsize=(20,10))\n",
    "sns.histplot(data=geneDisruption, \n",
    "             x='library',  color=(0.20973515, 0.09747934, 0.24238489), bins=20)\n",
    "ax.set_xticks(range(1,21));\n",
    "plt.title(\"Number of libraries with gene disruption\")\n",
    "plt.xlabel('Number of libraries with gene disruption')\n",
    "plt.xlim(0, 21);\n",
    "\n",
    "\n"
   ]
  },
  {
   "cell_type": "code",
   "execution_count": null,
   "id": "drawn-luxembourg",
   "metadata": {},
   "outputs": [],
   "source": [
    "geneDisruption[geneDisruption.library >2].locus_tag.nunique()"
   ]
  },
  {
   "cell_type": "code",
   "execution_count": null,
   "id": "pregnant-satisfaction",
   "metadata": {},
   "outputs": [],
   "source": []
  },
  {
   "cell_type": "code",
   "execution_count": null,
   "id": "prostate-kuwait",
   "metadata": {},
   "outputs": [],
   "source": [
    "geneDisruption[geneDisruption.library == 20]"
   ]
  },
  {
   "cell_type": "code",
   "execution_count": null,
   "id": "major-allah",
   "metadata": {},
   "outputs": [],
   "source": [
    "mapsDf[['barcode', 'sseqid', 'sstart']].drop_duplicates()"
   ]
  },
  {
   "cell_type": "code",
   "execution_count": null,
   "id": "rural-location",
   "metadata": {},
   "outputs": [],
   "source": []
  },
  {
   "cell_type": "code",
   "execution_count": null,
   "id": "greatest-belle",
   "metadata": {},
   "outputs": [],
   "source": []
  }
 ],
 "metadata": {
  "kernelspec": {
   "display_name": "Python 3",
   "language": "python",
   "name": "python3"
  },
  "language_info": {
   "codemirror_mode": {
    "name": "ipython",
    "version": 3
   },
   "file_extension": ".py",
   "mimetype": "text/x-python",
   "name": "python",
   "nbconvert_exporter": "python",
   "pygments_lexer": "ipython3",
   "version": "3.6.6"
  },
  "toc": {
   "base_numbering": 1,
   "nav_menu": {},
   "number_sections": true,
   "sideBar": true,
   "skip_h1_title": false,
   "title_cell": "Table of Contents",
   "title_sidebar": "Contents",
   "toc_cell": false,
   "toc_position": {},
   "toc_section_display": true,
   "toc_window_display": false
  }
 },
 "nbformat": 4,
 "nbformat_minor": 5
}
