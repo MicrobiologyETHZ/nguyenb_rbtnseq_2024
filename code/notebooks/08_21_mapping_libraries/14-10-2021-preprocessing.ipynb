{
 "cells": [
  {
   "cell_type": "code",
   "execution_count": null,
   "metadata": {},
   "outputs": [],
   "source": [
    "import pandas as pd\n",
    "import numpy as np\n",
    "import matplotlib.pyplot as plt\n",
    "import seaborn as sns\n",
    "from pathlib import Path\n",
    "import plotnine as p9\n",
    "import sys\n",
    "sys.path.append(\"/Users/ansintsova/git_repos/nguyenb_tnseq/code/mbarq_analysis\")\n",
    "import quality_control as qc"
   ]
  },
  {
   "cell_type": "code",
   "execution_count": null,
   "metadata": {},
   "outputs": [],
   "source": [
    "dataDir = Path(\"/Users/ansintsova/git_repos/nguyenb_tnseq/data/08_21\")\n",
    "mappedFiles = [f for f in (dataDir/'counts').iterdir() if 'counts_mapped.csv' in f.name]\n",
    "unmappedFiles = [f for f in (dataDir/'counts').iterdir() if 'counts_unmapped.csv' in f.name]\n",
    "metadataFiles = [f for f in (dataDir/'metadata').iterdir() if \"metadata.edited.txt\" in f.name]\n",
    "controlFile = dataDir/\"controls.txt\"\n",
    "metadata = pd.concat(pd.read_table(f) for f in metadataFiles)"
   ]
  },
  {
   "cell_type": "code",
   "execution_count": null,
   "metadata": {},
   "outputs": [],
   "source": [
    "df, controlDf = qc.load_samples(mappedFiles, metadata, unmappedFiles, controlFile)"
   ]
  },
  {
   "cell_type": "code",
   "execution_count": null,
   "metadata": {},
   "outputs": [],
   "source": [
    "old_cnts = pd.read_csv(dataDir/'old_counts.csv')\n",
    "df = old_cnts[old_cnts.phenotype.isna()].copy().rename({'cnt':'barcode_cnt'}, axis=1)\n",
    "controlDf = old_cnts[old_cnts.phenotype.notnull()].copy().rename({'cnt':'barcode_cnt'}, axis=1)"
   ]
  },
  {
   "cell_type": "code",
   "execution_count": null,
   "metadata": {},
   "outputs": [],
   "source": [
    "inoculum = df[df.mouse == 'inoculum']\n",
    "total_cnt = inoculum.groupby('sampleName').barcode_cnt.sum().reset_index()\n",
    "total_cnt.columns = ['sampleName', 'total_cnt']\n",
    "inoculum = inoculum.merge(total_cnt, on='sampleName', how='left')\n",
    "inoculum.groupby('library').sampleName.nunique()\n",
    "\n",
    "# Dropping Library 14_1, not enough samples\n",
    "df =df[df.library!='library_14_1']"
   ]
  },
  {
   "cell_type": "code",
   "execution_count": null,
   "metadata": {},
   "outputs": [],
   "source": [
    "# sns.set(font_scale=1.2)\n",
    "# sns.set_style('ticks')\n",
    "# fig, axes = plt.subplots(4,3, figsize=(20, 15))\n",
    "# axes = axes.flatten()\n",
    "# colors = sns.color_palette(\"rocket\", 12)\n",
    "# libraries = list(inoculum.library.unique())\n",
    "# for i, lib in enumerate(libraries):\n",
    "#     c = colors[i]\n",
    "#     sns.histplot(data=inoculum[inoculum.library == lib], x='barcode_cnt', hue='experiment', bins=500, ax=axes[i])\n",
    "#     axes[i].set_title(lib)\n",
    "#     axes[i].set_xlim(0, 10000)\n",
    "# plt.subplots_adjust(left=None, bottom=None, right=None, top=None, wspace=0.2, hspace=1)\n"
   ]
  },
  {
   "cell_type": "code",
   "execution_count": null,
   "metadata": {},
   "outputs": [],
   "source": [
    "corr_df, good_samples = qc.calculate_correlation(controlDf, concentration_col='conc',\n",
    "                          cnt_col='barcode_cnt', phenotype_col='phenotype',\n",
    "                          for_each='sampleName', how='log', wt_phenotype='wt', cutoff=0.8)"
   ]
  },
  {
   "cell_type": "code",
   "execution_count": null,
   "metadata": {},
   "outputs": [],
   "source": [
    "good_df = df[df.sampleName.isin(good_samples)]\n",
    "good_control = controlDf[controlDf.sampleName.isin(good_samples)].copy()\n",
    "good_inoculum = good_df[good_df.mouse == 'inoculum']"
   ]
  },
  {
   "cell_type": "code",
   "execution_count": null,
   "metadata": {},
   "outputs": [],
   "source": [
    "# sns.set(font_scale=1.2)\n",
    "# sns.set_style('ticks')\n",
    "# fig, axes = plt.subplots(4,3, figsize=(20, 15))\n",
    "# axes = axes.flatten()\n",
    "# colors = sns.color_palette(\"rocket\", 12)\n",
    "# libraries = list(good_inoculum.library.unique())\n",
    "# for i, lib in enumerate(libraries):\n",
    "#     c = colors[i]\n",
    "#     sns.histplot(data=good_inoculum[good_inoculum.library == lib], x='barcode_cnt', hue='experiment', bins=500, ax=axes[i])\n",
    "#     axes[i].set_title(lib)\n",
    "#     axes[i].set_xlim(0, 10000)\n",
    "# plt.subplots_adjust(left=None, bottom=None, right=None, top=None, wspace=0.2, hspace=1)"
   ]
  },
  {
   "cell_type": "code",
   "execution_count": null,
   "metadata": {},
   "outputs": [],
   "source": [
    "experiments_to_keep = good_inoculum.experiment.unique()\n",
    "good_df = good_df[good_df.experiment.isin(experiments_to_keep)]\n",
    "# inoculum = inoculum[~inoculum.experiment.isin(experiments_to_drop)]"
   ]
  },
  {
   "cell_type": "code",
   "execution_count": null,
   "metadata": {},
   "outputs": [],
   "source": [
    "relAb = (good_inoculum[['barcode', 'sampleName', 'barcode_cnt']]\n",
    "         .drop_duplicates().pivot(index='barcode', columns='sampleName'))\n",
    "relAb = (relAb/relAb.sum()*100).reset_index().melt(id_vars='barcode', value_name='relAb')\n",
    "relAb = relAb[['barcode', 'sampleName', 'relAb']]"
   ]
  },
  {
   "cell_type": "code",
   "execution_count": null,
   "metadata": {},
   "outputs": [],
   "source": [
    "good_inoculum = good_inoculum.merge(relAb, on=['barcode', 'sampleName'], how='left')"
   ]
  },
  {
   "cell_type": "code",
   "execution_count": null,
   "metadata": {},
   "outputs": [],
   "source": [
    "good_inoculum.sample(10)"
   ]
  },
  {
   "cell_type": "code",
   "execution_count": null,
   "metadata": {},
   "outputs": [],
   "source": [
    "# sns.set(font_scale=1.2)\n",
    "# sns.set_style('ticks')\n",
    "# fig, axes = plt.subplots(4,3, figsize=(20, 15))\n",
    "# axes = axes.flatten()\n",
    "# colors = sns.color_palette(\"rocket\", 12)\n",
    "# libraries = list(good_inoculum.library.unique())\n",
    "# for i, lib in enumerate(libraries):\n",
    "#     c = colors[i]\n",
    "#     sns.histplot(data=good_inoculum[good_inoculum.library == lib], x='relAb', hue='experiment', bins=500, ax=axes[i])\n",
    "#     axes[i].set_title(lib)\n",
    "# plt.subplots_adjust(left=None, bottom=None, right=None, top=None, wspace=0.2, hspace=1)"
   ]
  },
  {
   "cell_type": "code",
   "execution_count": null,
   "metadata": {},
   "outputs": [],
   "source": [
    "good_inoculum.locus_tag.nunique()"
   ]
  },
  {
   "cell_type": "code",
   "execution_count": null,
   "metadata": {},
   "outputs": [],
   "source": [
    "inoculumFilt = good_inoculum[good_inoculum.relAb > 0.01]"
   ]
  },
  {
   "cell_type": "code",
   "execution_count": null,
   "metadata": {},
   "outputs": [],
   "source": [
    "inoculumFilt.locus_tag.nunique()"
   ]
  },
  {
   "cell_type": "code",
   "execution_count": null,
   "metadata": {},
   "outputs": [],
   "source": [
    "inoculumFilt.barcode.nunique()"
   ]
  },
  {
   "cell_type": "code",
   "execution_count": null,
   "metadata": {},
   "outputs": [],
   "source": [
    "inoc_table1 = (inoculumFilt.groupby(['library', 'experiment', 'dnaid'])\n",
    "               .agg({\"locus_tag\":['nunique', lambda x: x.isna().sum()]})\n",
    "              .reset_index())\n",
    "inoc_table1.columns = ['Library', 'Experiment', 'dnaid', '# of disrupted genes', '# of insertions outside of CDS']\n",
    "inoc_table1['Library'] = inoc_table1['Library'].str.replace(\"_\", '-')"
   ]
  },
  {
   "cell_type": "code",
   "execution_count": null,
   "metadata": {},
   "outputs": [],
   "source": [
    "map_table1 = pd.read_csv(dataDir/\"14-10-2021-table1.csv\", index_col=0)\n",
    "map_table1.columns = [\"Library\"] + [f\"{c} (map)\" for c in map_table1.columns if 'Library' not in c]\n",
    "\n",
    "inoc_table1 = inoc_table1.merge(map_table1, on='Library')"
   ]
  },
  {
   "cell_type": "code",
   "execution_count": null,
   "metadata": {},
   "outputs": [],
   "source": [
    "inoc_table1"
   ]
  },
  {
   "cell_type": "code",
   "execution_count": null,
   "metadata": {},
   "outputs": [],
   "source": [
    "inocSum = (inoculumFilt.groupby(['locus_tag', 'sseqid',])\n",
    "           .agg({'library':['nunique'], 'sstart':['min'], 'relAb':['mean']})\n",
    "           .reset_index())\n",
    "inocSum.columns = ['locus_tag', 'sseqid',  'num_lib', 'sstart', 'mean_relAb']"
   ]
  },
  {
   "cell_type": "code",
   "execution_count": null,
   "metadata": {},
   "outputs": [],
   "source": [
    "sns.set(font_scale=2)\n",
    "sns.set_style('ticks')\n",
    "fig, ax = plt.subplots(figsize=(20,10))\n",
    "sns.histplot(data=inocSum, \n",
    "             x='num_lib',  color=(0.20973515, 0.09747934, 0.24238489), bins=10)\n",
    "ax.set_xticks(range(1,11));\n",
    "plt.title(\"How many libraries was a mutation found in?\")\n",
    "plt.xlabel('Number of libraries with gene disruption')\n",
    "plt.xlim(0, 12);"
   ]
  },
  {
   "cell_type": "code",
   "execution_count": null,
   "metadata": {},
   "outputs": [],
   "source": [
    "inocSum"
   ]
  },
  {
   "cell_type": "code",
   "execution_count": null,
   "metadata": {},
   "outputs": [],
   "source": [
    "36+58"
   ]
  },
  {
   "cell_type": "code",
   "execution_count": null,
   "metadata": {},
   "outputs": [],
   "source": [
    "inocSum[inocSum[\"num_lib\"] > 1].locus_tag.nunique()/2984"
   ]
  },
  {
   "cell_type": "code",
   "execution_count": null,
   "metadata": {},
   "outputs": [],
   "source": [
    "inocFQ = inocSum[inocSum.sseqid == 'FQ312003.1'].copy()\n",
    "inocFQ['sstart'] = inocFQ.sstart/1000000\n",
    "\n",
    "(p9.ggplot(inocFQ, p9.aes(x='sstart', y='mean_relAb', color='num_lib'))\n",
    "     + p9.geom_point(size=4, )\n",
    "     + p9.geom_segment(p9.aes(x='sstart', xend='sstart', y='mean_relAb', yend=0), size=1, alpha=0.4)\n",
    "     + p9.theme_classic()\n",
    "     + p9.theme( text = p9.element_text(size=24), figure_size=(25,10), )\n",
    "     + p9.xlab(f\"Postion, Mb\")\n",
    "     +p9.labs(title='FQ312003.1')\n",
    "     +p9.ylab('Mean relative abundance in the inoculum')\n",
    "     + p9.scale_color_gradientn(colors=sns.color_palette('rocket_r') )\n",
    "    + p9.scale_y_log10())"
   ]
  },
  {
   "cell_type": "code",
   "execution_count": null,
   "metadata": {},
   "outputs": [],
   "source": [
    "# inocFQ = inocSum[inocSum.sseqid == 'HE654726.1'].copy()\n",
    "# inocFQ['sstart'] = inocFQ.sstart/1000000\n",
    "\n",
    "# (p9.ggplot(inocFQ, p9.aes(x='sstart', y='mean_relAb', color='num_lib'))\n",
    "#      + p9.geom_point(size=4, )\n",
    "#      + p9.geom_segment(p9.aes(x='sstart', xend='sstart', y='mean_relAb', yend=0), size=1, alpha=0.4)\n",
    "#      + p9.theme_classic()\n",
    "#      + p9.theme( text = p9.element_text(size=24), figure_size=(25,10), )\n",
    "#      + p9.xlab(f\"Postion, Mb\")\n",
    "#      +p9.labs(title='HE654726.1')\n",
    "#      + p9.scale_color_gradientn(colors=sns.color_palette('rocket_r') )\n",
    "#     + p9.scale_y_log10())"
   ]
  },
  {
   "cell_type": "code",
   "execution_count": null,
   "metadata": {},
   "outputs": [],
   "source": [
    "inocFQ = inocSum[inocSum.sseqid == 'HE654725.1'].copy()\n",
    "inocFQ['sstart'] = inocFQ.sstart/1000000\n",
    "\n",
    "(p9.ggplot(inocFQ, p9.aes(x='sstart', y='mean_relAb', color='num_lib'))\n",
    "     + p9.geom_point(size=4, )\n",
    "     + p9.geom_segment(p9.aes(x='sstart', xend='sstart', y='mean_relAb', yend=0), size=1, alpha=0.4)\n",
    "     + p9.theme_classic()\n",
    "     + p9.theme( text = p9.element_text(size=24), figure_size=(25,10), )\n",
    "     + p9.xlab(f\"Postion, Mb\")\n",
    "     +p9.labs(title='HE654725.1')\n",
    "     + p9.scale_color_gradientn(colors=sns.color_palette('rocket_r') )\n",
    "    + p9.scale_y_log10())"
   ]
  },
  {
   "cell_type": "code",
   "execution_count": null,
   "metadata": {},
   "outputs": [],
   "source": [
    "inocFQ = inocSum[inocSum.sseqid == 'HE654724.1'].copy()\n",
    "inocFQ['sstart'] = inocFQ.sstart/1000000\n",
    "\n",
    "(p9.ggplot(inocFQ, p9.aes(x='sstart', y='mean_relAb', color='num_lib'))\n",
    "     + p9.geom_point(size=4, )\n",
    "     + p9.geom_segment(p9.aes(x='sstart', xend='sstart', y='mean_relAb', yend=0), size=1, alpha=0.4)\n",
    "     + p9.theme_classic()\n",
    "     + p9.theme( text = p9.element_text(size=24), figure_size=(25,10), )\n",
    "     + p9.xlab(f\"Postion, Mb\")\n",
    "     +p9.labs(title='HE654724.1')\n",
    "     + p9.scale_color_gradientn(colors=sns.color_palette('rocket_r') )\n",
    "    + p9.scale_y_log10())"
   ]
  },
  {
   "cell_type": "code",
   "execution_count": null,
   "metadata": {},
   "outputs": [],
   "source": [
    "corr_df[corr_df.phenotype=='wt'].sample(20)"
   ]
  },
  {
   "cell_type": "code",
   "execution_count": null,
   "metadata": {},
   "outputs": [],
   "source": [
    "corr_df[corr_df.phenotype == 'wt'].sort_values('R', ascending=False).head(16)"
   ]
  },
  {
   "cell_type": "code",
   "execution_count": null,
   "metadata": {},
   "outputs": [],
   "source": [
    "controlDf[(controlDf.sampleName == 'dnaid2024_9') & (controlDf.phenotype == 'wt')]"
   ]
  },
  {
   "cell_type": "code",
   "execution_count": null,
   "metadata": {},
   "outputs": [],
   "source": [
    "plt.figure(figsize=(6,6))\n",
    "ex_inoc = controlDf[(controlDf.sampleName == 'dnaid2024_9') & (controlDf.phenotype == 'wt')]\n",
    "sns.regplot(data=ex_inoc, x='logConc', y='logCnts')\n",
    "plt.title(\"Inoculum, dnaid2024_9\")\n",
    "plt.xlim(-5, -2.5)"
   ]
  },
  {
   "cell_type": "code",
   "execution_count": null,
   "metadata": {},
   "outputs": [],
   "source": [
    "plt.figure(figsize=(6,6))\n",
    "ex_good = controlDf[(controlDf.sampleName == 'dnaid2028_73') & (controlDf.phenotype == 'wt')]\n",
    "sns.regplot(data=ex_good, x='logConc', y='logCnts')\n",
    "plt.title(\"Good Sample, dnaid2028_73\")\n",
    "plt.xlim(-5, -2.5)\n",
    "\n"
   ]
  },
  {
   "cell_type": "code",
   "execution_count": null,
   "metadata": {},
   "outputs": [],
   "source": [
    "\n",
    "plt.figure(figsize=(6,6))\n",
    "ex_bad = controlDf[(controlDf.sampleName == 'dnaid2016_17') & (controlDf.phenotype == 'wt')]\n",
    "sns.regplot(data=ex_bad, x='logConc', y='logCnts')\n",
    "plt.title(\"Bad Sample, dnaid2016_17\")\n",
    "plt.xlim(-4.5, -2.5)\n",
    "\n",
    "#\n",
    "#dnaid2016_17"
   ]
  },
  {
   "cell_type": "code",
   "execution_count": null,
   "metadata": {},
   "outputs": [],
   "source": [
    "corr_df['r2'] = corr_df['R']**2\n",
    "corr_df[(corr_df.phenotype == 'wt') & (corr_df.sampleName.isin(['dnaid2016_17', 'dnaid2028_73', 'dnaid1315_10']))]"
   ]
  },
  {
   "cell_type": "code",
   "execution_count": null,
   "metadata": {},
   "outputs": [],
   "source": [
    "# mice = controlDf[(controlDf.sampleName.isin(good_samples)) & (controlDf.tissue != 'inoculum')].mouse.unique()"
   ]
  },
  {
   "cell_type": "code",
   "execution_count": null,
   "metadata": {},
   "outputs": [],
   "source": [
    "# fig, axes = plt.subplots(32, 3, figsize=(15,150))\n",
    "# axes = axes.flatten()\n",
    "# for i, mouse in enumerate(mice):\n",
    "#     test = controlDf[controlDf.mouse == mouse].sort_values('day')\n",
    "#     sns.lineplot(data=test, x='day', y='logCnts', hue='conc', palette='rocket_r', ax=axes[i])\n",
    "#     axes[i].set_title(mouse)\n",
    "#     axes[i].legend([],[], frameon=False)"
   ]
  },
  {
   "cell_type": "code",
   "execution_count": null,
   "metadata": {},
   "outputs": [],
   "source": [
    "columns_in_clean = ['barcode', 'barcode_cnt',  'library', \n",
    "              'experiment', 'dnaid', 'sampleName', 'mouse', 'day', 'tissue']\n",
    "columns_in_control = columns_in_clean + ['phenotype', 'conc']\n",
    "cleanDf = pd.concat([good_df[columns_in_clean].copy(), good_control[columns_in_control].copy()]).drop_duplicates()\n",
    "cleanDfnc = good_df[columns_in_clean].copy().drop_duplicates()\n",
    "cleanDfnc = cleanDfnc[cleanDfnc.sampleName.isin(good_samples)]\n",
    "cleanDfnc = cleanDfnc[cleanDfnc.mouse != 'unenriched_inoculum']\n",
    "\n",
    "cleanDfnc['relAb'] = cleanDfnc.groupby('sampleName').barcode_cnt.apply(lambda x: x/x.sum()*100).values\n",
    "#control_bcs = controlDf.barcode.values\n",
    "#controlRelAb = cleanDf[cleanDf.barcode.isin(control_bcs)]"
   ]
  },
  {
   "cell_type": "code",
   "execution_count": null,
   "metadata": {},
   "outputs": [],
   "source": [
    "good_control['ShortName']  = good_control['barcode'] \n",
    "good_control['locus_tag']  = good_control['phenotype'] + '-' + good_control['conc'].astype(str)"
   ]
  },
  {
   "cell_type": "code",
   "execution_count": null,
   "metadata": {},
   "outputs": [],
   "source": [
    "good_control"
   ]
  },
  {
   "cell_type": "code",
   "execution_count": null,
   "metadata": {},
   "outputs": [],
   "source": [
    "# controlRelAb"
   ]
  },
  {
   "cell_type": "code",
   "execution_count": null,
   "metadata": {},
   "outputs": [],
   "source": [
    "# fig, axes = plt.subplots(29, 3, figsize=(15,150))\n",
    "# axes = axes.flatten()\n",
    "# for i, mouse in enumerate(mice):\n",
    "#     test = controlRelAb[controlRelAb.mouse == mouse].sort_values('day')\n",
    "#     sns.lineplot(data=test, x='day', y='relAb', hue='conc', palette='rocket_r', ax=axes[i])\n",
    "#     axes[i].set_title(mouse)\n",
    "#     axes[i].legend([],[], frameon=False)\n",
    "#     axes[i].set_yscale('log')\n",
    "#     axes[i].set_ylim(0.001, 1)\n",
    "# plt.subplots_adjust(left=None, bottom=None, right=None, top=None, wspace=0.2, hspace=.5)"
   ]
  },
  {
   "cell_type": "code",
   "execution_count": null,
   "metadata": {},
   "outputs": [],
   "source": [
    "plt.figure(figsize=(10,6))\n",
    "cleanDf.groupby('sampleName').barcode_cnt.sum().hist(bins=100)"
   ]
  },
  {
   "cell_type": "code",
   "execution_count": null,
   "metadata": {},
   "outputs": [],
   "source": [
    "depth = cleanDf.groupby('sampleName').barcode_cnt.sum().reset_index()\n",
    "depth[depth.barcode_cnt < 1000000]"
   ]
  },
  {
   "cell_type": "code",
   "execution_count": null,
   "metadata": {},
   "outputs": [],
   "source": [
    "cleanDf.groupby(['library', 'day']).sampleName.nunique()"
   ]
  },
  {
   "cell_type": "code",
   "execution_count": null,
   "metadata": {},
   "outputs": [],
   "source": [
    "def filter_inoculum(exp_df, filter_below=0, filter_col='relAb', sample_id='sampleID'):\n",
    "    filt_df = exp_df.copy()\n",
    "    if 'ShortName' in filt_df.columns:\n",
    "        filt_df = filt_df.drop(['ShortName'], axis=1)\n",
    "    if 'locus_tag' in filt_df.columns:\n",
    "        filt_df = filt_df.drop(['locus_tag'], axis=1)\n",
    "    to_filter=filt_df[filt_df.mouse == 'inoculum'][sample_id].unique()\n",
    "    filt_df = (filt_df[['barcode', sample_id, filter_col]]\n",
    "            .drop_duplicates().pivot(index='barcode', columns=sample_id, values=filter_col))\n",
    "    filt_df = filt_df[(filt_df[to_filter] >= filter_below).all(1)].reset_index()\n",
    "    filt_df = filt_df.melt(id_vars='barcode', value_name = filter_col)\n",
    "    filt_df = filt_df.merge(exp_df, on=['barcode', sample_id, filter_col], how='left')\n",
    "    return filt_df"
   ]
  },
  {
   "cell_type": "code",
   "execution_count": null,
   "metadata": {},
   "outputs": [],
   "source": []
  },
  {
   "cell_type": "code",
   "execution_count": null,
   "metadata": {},
   "outputs": [],
   "source": [
    "# Unfiltered not gene level\n",
    "df.head()"
   ]
  },
  {
   "cell_type": "code",
   "execution_count": null,
   "metadata": {},
   "outputs": [],
   "source": [
    "# Filtered not gene level\n",
    "filtDf = cleanDfnc.groupby('library').apply(filter_inoculum, filter_below=0.01, sample_id='sampleName')\n",
    "filtDf = filtDf.drop('library', axis=1).reset_index().drop('level_1', axis=1)\n",
    "filtDf = filtDf.merge(df[['barcode', 'ShortName', 'locus_tag', 'sampleName']].drop_duplicates(), \n",
    "                      on=['barcode', 'sampleName'], how='left')\n",
    "\n",
    "filtDf = pd.concat([filtDf, good_control[columns_in_control]])"
   ]
  },
  {
   "cell_type": "code",
   "execution_count": null,
   "metadata": {},
   "outputs": [],
   "source": [
    "# unfiltered gene level\n",
    "geneDf = (cleanDfnc.merge(good_df[['barcode', 'sampleName', 'sseqid', \n",
    "                         'sstart', 'ShortName', 'locus_tag']], on=['barcode', 'sampleName'], how='left')\n",
    "          .groupby(['library', 'sampleName', 'ShortName', 'mouse', 'day', 'tissue'])\n",
    "          .barcode_cnt.sum().reset_index())\n",
    "geneDf = pd.concat([geneDf, good_control[columns_in_control + ['locus_tag', 'ShortName']]])"
   ]
  },
  {
   "cell_type": "code",
   "execution_count": null,
   "metadata": {},
   "outputs": [],
   "source": [
    "# filtered gene levele\n",
    "\n",
    "geneFilt = (filtDf.merge(good_df[['barcode', 'sampleName', 'sseqid', \n",
    "                         'sstart', 'ShortName', 'locus_tag']], on=['barcode', 'sampleName'], how='left')\n",
    "          .groupby(['library', 'sampleName', 'ShortName', 'mouse', 'day', 'tissue', 'dnaid', 'experiment'])\n",
    "          .barcode_cnt.sum().reset_index())\n",
    "geneFilt = pd.concat([geneFilt, good_control[columns_in_control + ['locus_tag', 'ShortName']]])"
   ]
  },
  {
   "cell_type": "code",
   "execution_count": null,
   "metadata": {},
   "outputs": [],
   "source": [
    "filtDf"
   ]
  },
  {
   "cell_type": "code",
   "execution_count": null,
   "metadata": {},
   "outputs": [],
   "source": [
    "len(good_samples)"
   ]
  },
  {
   "cell_type": "code",
   "execution_count": null,
   "metadata": {},
   "outputs": [],
   "source": [
    "geneDf"
   ]
  },
  {
   "cell_type": "code",
   "execution_count": null,
   "metadata": {},
   "outputs": [],
   "source": [
    "geneFilt.to_csv(dataDir/\"15-10-filtered-gene-level.csv\")\n",
    "filtDf.to_csv(dataDir/\"15-10-filtered-barcode-level.csv\")"
   ]
  },
  {
   "cell_type": "code",
   "execution_count": null,
   "metadata": {},
   "outputs": [],
   "source": [
    "good_df[(good_df.barcode == 'AAAACAATCTATCGACC') & (good_df.sampleName == 'dnaid1315_17')]"
   ]
  },
  {
   "cell_type": "code",
   "execution_count": null,
   "metadata": {},
   "outputs": [],
   "source": []
  }
 ],
 "metadata": {
  "kernelspec": {
   "display_name": "Python 3 (ipykernel)",
   "language": "python",
   "name": "python3"
  },
  "language_info": {
   "codemirror_mode": {
    "name": "ipython",
    "version": 3
   },
   "file_extension": ".py",
   "mimetype": "text/x-python",
   "name": "python",
   "nbconvert_exporter": "python",
   "pygments_lexer": "ipython3",
   "version": "3.8.12"
  },
  "toc": {
   "base_numbering": 1,
   "nav_menu": {},
   "number_sections": true,
   "sideBar": true,
   "skip_h1_title": false,
   "title_cell": "Table of Contents",
   "title_sidebar": "Contents",
   "toc_cell": false,
   "toc_position": {},
   "toc_section_display": true,
   "toc_window_display": false
  }
 },
 "nbformat": 4,
 "nbformat_minor": 5
}
