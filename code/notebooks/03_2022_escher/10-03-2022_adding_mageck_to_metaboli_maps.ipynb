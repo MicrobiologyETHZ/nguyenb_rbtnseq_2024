{
 "cells": [
  {
   "cell_type": "code",
   "execution_count": null,
   "id": "attached-thumb",
   "metadata": {
    "ExecuteTime": {
     "end_time": "2022-05-16T13:10:20.576871Z",
     "start_time": "2022-05-16T13:10:16.649652Z"
    }
   },
   "outputs": [],
   "source": [
    "# %load /Users/ansintsova/git_repos/snippets/basic_settings.py\n",
    "import pandas as pd\n",
    "import numpy as np\n",
    "import matplotlib.pyplot as plt\n",
    "import seaborn as sns\n",
    "from pathlib import Path\n",
    "import plotly.express as px\n",
    "\n",
    "sns.set_context(\"notebook\", font_scale=1.1)\n",
    "pd.set_option(\"display.max_columns\", 100)\n",
    "pd.set_option(\"display.max_rows\", 100)\n",
    "plt.rcParams[\"figure.figsize\"] = (16, 12)\n",
    "plt.rcParams['savefig.dpi'] = 200\n",
    "plt.rcParams['figure.autolayout'] = False\n",
    "plt.rcParams['axes.labelsize'] = 18\n",
    "plt.rcParams['axes.titlesize'] = 20\n",
    "plt.rcParams['font.size'] = 16\n",
    "plt.rcParams['lines.linewidth'] = 2.0\n",
    "plt.rcParams['lines.markersize'] = 8\n",
    "plt.rcParams['legend.fontsize'] = 18\n",
    "\n",
    "\n",
    "#pd.set_option('display.float_format', lambda x: '{:,.2f}'.format(x))\n"
   ]
  },
  {
   "cell_type": "code",
   "execution_count": null,
   "id": "forty-profession",
   "metadata": {
    "ExecuteTime": {
     "end_time": "2022-05-16T13:10:22.019916Z",
     "start_time": "2022-05-16T13:10:21.981549Z"
    }
   },
   "outputs": [],
   "source": [
    "# %load ../snippets/load_server_config.py\n",
    "import yaml\n",
    "\n",
    "\n",
    "config_file = \"../nguyenb_config.yaml\"\n",
    "with open(config_file) as file:\n",
    "    # The FullLoader parameter handles the conversion from YAML\n",
    "    # scalar values to Python the dictionary format\n",
    "    configs = yaml.load(file, Loader=yaml.FullLoader)\n",
    "    \n",
    "# Run on server:\n",
    "root = Path(configs['root']['server'])\n",
    "scratchDir = Path(configs['scratchDir']['server'])\n",
    "mapDir = root/configs['mapDir']\n",
    "countDir = root/configs['libraryCountsDir']\n",
    "resultDir = root/configs['resultDir']\n",
    "metMaps = root/configs['metMapsDir']\n",
    "sample_data_file = root/configs['sampleData']\n"
   ]
  },
  {
   "cell_type": "markdown",
   "id": "brutal-arrival",
   "metadata": {},
   "source": [
    "# Process the mageck data"
   ]
  },
  {
   "cell_type": "code",
   "execution_count": null,
   "id": "complete-tooth",
   "metadata": {
    "ExecuteTime": {
     "end_time": "2022-05-16T13:10:24.631031Z",
     "start_time": "2022-05-16T13:10:24.581593Z"
    }
   },
   "outputs": [],
   "source": [
    "results = pd.read_csv(resultDir/\"05-05-2022-concatenated-results-10-libraries.csv\")"
   ]
  },
  {
   "cell_type": "code",
   "execution_count": null,
   "id": "joined-terminology",
   "metadata": {
    "ExecuteTime": {
     "end_time": "2022-05-16T13:10:24.904876Z",
     "start_time": "2022-05-16T13:10:24.886160Z"
    }
   },
   "outputs": [],
   "source": [
    "results.head()"
   ]
  },
  {
   "cell_type": "code",
   "execution_count": null,
   "id": "pleasant-fiber",
   "metadata": {
    "ExecuteTime": {
     "end_time": "2022-05-16T13:10:25.223486Z",
     "start_time": "2022-05-16T13:10:25.218853Z"
    }
   },
   "outputs": [],
   "source": [
    "annot_col = 'Name'\n",
    "lfc_col = 'LFC'\n",
    "contrast_col = 'contrast'\n",
    "lib_col = 'library'"
   ]
  },
  {
   "cell_type": "code",
   "execution_count": null,
   "id": "seasonal-hungarian",
   "metadata": {
    "ExecuteTime": {
     "end_time": "2022-05-16T13:10:25.555730Z",
     "start_time": "2022-05-16T13:10:25.512835Z"
    }
   },
   "outputs": [],
   "source": [
    "results = results[[annot_col, lfc_col, contrast_col, lib_col]]\n",
    "sumResults = results.groupby([contrast_col, annot_col]).agg({lfc_col: ['median']}).reset_index()\n",
    "sumResults.columns = [contrast_col, annot_col, lfc_col]"
   ]
  },
  {
   "cell_type": "code",
   "execution_count": null,
   "id": "prepared-flashing",
   "metadata": {
    "ExecuteTime": {
     "end_time": "2022-05-16T13:10:26.076505Z",
     "start_time": "2022-05-16T13:10:25.931500Z"
    }
   },
   "outputs": [],
   "source": [
    "sumResults.to_csv(scratchDir/\"16-05-2022-summarized_mageck_results.csv\", index=False)"
   ]
  },
  {
   "cell_type": "code",
   "execution_count": null,
   "id": "working-clause",
   "metadata": {
    "ExecuteTime": {
     "end_time": "2022-05-16T13:42:21.480009Z",
     "start_time": "2022-05-16T13:42:21.465516Z"
    }
   },
   "outputs": [],
   "source": [
    "d1 = sumResults[sumResults[contrast_col] == 'd2'][[annot_col, lfc_col]]"
   ]
  },
  {
   "cell_type": "code",
   "execution_count": null,
   "id": "eligible-matrix",
   "metadata": {},
   "outputs": [],
   "source": [
    "#day1.to_csv(outDir/\"day1_genedata.csv\", index=False)"
   ]
  },
  {
   "cell_type": "markdown",
   "id": "colored-serbia",
   "metadata": {},
   "source": [
    "# Escher"
   ]
  },
  {
   "cell_type": "code",
   "execution_count": null,
   "id": "oriented-metro",
   "metadata": {
    "ExecuteTime": {
     "end_time": "2022-05-16T13:10:42.226210Z",
     "start_time": "2022-05-16T13:10:42.220938Z"
    }
   },
   "outputs": [],
   "source": [
    "import escher\n",
    "from escher import Builder\n",
    "import cobra\n",
    "from time import sleep\n",
    "escher.rc['never_ask_before_quit'] = True"
   ]
  },
  {
   "cell_type": "code",
   "execution_count": null,
   "id": "foreign-style",
   "metadata": {
    "ExecuteTime": {
     "end_time": "2022-05-16T13:42:24.934451Z",
     "start_time": "2022-05-16T13:42:24.927729Z"
    }
   },
   "outputs": [],
   "source": [
    "d1 = d1.set_index(annot_col)"
   ]
  },
  {
   "cell_type": "code",
   "execution_count": null,
   "id": "exotic-variety",
   "metadata": {
    "ExecuteTime": {
     "end_time": "2022-05-16T13:11:47.326040Z",
     "start_time": "2022-05-16T13:11:47.303901Z"
    }
   },
   "outputs": [],
   "source": [
    "builder = Builder(map_json=str(metMaps/\"sl1344-core-first-try.json\"))\n",
    "builder.show_gene_reaction_rules = True"
   ]
  },
  {
   "cell_type": "code",
   "execution_count": null,
   "id": "drawn-palestinian",
   "metadata": {
    "ExecuteTime": {
     "end_time": "2022-05-16T13:42:33.362926Z",
     "start_time": "2022-05-16T13:42:33.348940Z"
    }
   },
   "outputs": [],
   "source": [
    "builder"
   ]
  },
  {
   "cell_type": "code",
   "execution_count": null,
   "id": "german-adventure",
   "metadata": {
    "ExecuteTime": {
     "end_time": "2022-05-16T13:42:30.538382Z",
     "start_time": "2022-05-16T13:42:30.495247Z"
    }
   },
   "outputs": [],
   "source": [
    "builder.gene_data = d1\n",
    "builder.reaction_scale = [{ 'type': 'min', 'color': '#2389da', 'size': 12 },\n",
    "                                 { 'type': 'max', 'color': '#ffc425', 'size': 12 },\n",
    "                                  { 'type': 'value','value':0,  'color': 'white', 'size': 8 }]\n",
    "\n"
   ]
  },
  {
   "cell_type": "code",
   "execution_count": null,
   "id": "monthly-scientist",
   "metadata": {
    "ExecuteTime": {
     "end_time": "2022-03-10T10:24:53.983070Z",
     "start_time": "2022-03-10T10:24:53.976280Z"
    }
   },
   "outputs": [],
   "source": [
    "day1.loc['aceA']"
   ]
  },
  {
   "cell_type": "code",
   "execution_count": null,
   "id": "sophisticated-beast",
   "metadata": {
    "ExecuteTime": {
     "end_time": "2022-05-16T13:28:59.075569Z",
     "start_time": "2022-05-16T13:28:59.065469Z"
    }
   },
   "outputs": [],
   "source": [
    "d1.loc['fumB"
   ]
  },
  {
   "cell_type": "code",
   "execution_count": null,
   "id": "activated-indonesian",
   "metadata": {},
   "outputs": [],
   "source": []
  }
 ],
 "metadata": {
  "kernelspec": {
   "display_name": "Python 3 (ipykernel)",
   "language": "python",
   "name": "python3"
  },
  "language_info": {
   "codemirror_mode": {
    "name": "ipython",
    "version": 3
   },
   "file_extension": ".py",
   "mimetype": "text/x-python",
   "name": "python",
   "nbconvert_exporter": "python",
   "pygments_lexer": "ipython3",
   "version": "3.8.12"
  },
  "toc": {
   "base_numbering": 1,
   "nav_menu": {},
   "number_sections": true,
   "sideBar": true,
   "skip_h1_title": false,
   "title_cell": "Table of Contents",
   "title_sidebar": "Contents",
   "toc_cell": false,
   "toc_position": {},
   "toc_section_display": true,
   "toc_window_display": false
  }
 },
 "nbformat": 4,
 "nbformat_minor": 5
}
