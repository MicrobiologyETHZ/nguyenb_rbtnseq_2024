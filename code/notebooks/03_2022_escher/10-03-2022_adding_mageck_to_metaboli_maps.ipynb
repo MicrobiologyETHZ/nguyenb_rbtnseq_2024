{
 "cells": [
  {
   "cell_type": "code",
   "execution_count": null,
   "id": "micro-revelation",
   "metadata": {
    "ExecuteTime": {
     "end_time": "2022-03-10T10:04:43.569315Z",
     "start_time": "2022-03-10T10:04:39.377802Z"
    }
   },
   "outputs": [],
   "source": [
    "# %load /Users/ansintsova/git_repos/snippets/basic_settings.py\n",
    "import pandas as pd\n",
    "import numpy as np\n",
    "import matplotlib.pyplot as plt\n",
    "import seaborn as sns\n",
    "from pathlib import Path\n",
    "import plotly.express as px\n",
    "\n",
    "sns.set_context(\"notebook\", font_scale=1.1)\n",
    "pd.set_option(\"display.max_columns\", 100)\n",
    "pd.set_option(\"display.max_rows\", 100)\n",
    "plt.rcParams[\"figure.figsize\"] = (16, 12)\n",
    "plt.rcParams['savefig.dpi'] = 200\n",
    "plt.rcParams['figure.autolayout'] = False\n",
    "plt.rcParams['axes.labelsize'] = 18\n",
    "plt.rcParams['axes.titlesize'] = 20\n",
    "plt.rcParams['font.size'] = 16\n",
    "plt.rcParams['lines.linewidth'] = 2.0\n",
    "plt.rcParams['lines.markersize'] = 8\n",
    "plt.rcParams['legend.fontsize'] = 14\n",
    "plt.rcParams['text.usetex'] = False  # True activates latex output in fonts!\n",
    "\n",
    "#pd.set_option('display.float_format', lambda x: '{:,.2f}'.format(x))\n"
   ]
  },
  {
   "cell_type": "markdown",
   "id": "iraqi-specific",
   "metadata": {},
   "source": [
    "# Process the mageck data"
   ]
  },
  {
   "cell_type": "code",
   "execution_count": null,
   "id": "harmful-defeat",
   "metadata": {
    "ExecuteTime": {
     "end_time": "2022-03-10T10:07:41.147313Z",
     "start_time": "2022-03-10T10:07:41.143150Z"
    }
   },
   "outputs": [],
   "source": [
    "outDir = Path(\"/Users/ansintsova/git_repos/nguyenb_tnseq/data/03_2022_escher\")"
   ]
  },
  {
   "cell_type": "code",
   "execution_count": null,
   "id": "urban-above",
   "metadata": {
    "ExecuteTime": {
     "end_time": "2022-03-10T10:08:08.714447Z",
     "start_time": "2022-03-10T10:08:08.616312Z"
    }
   },
   "outputs": [],
   "source": [
    "results = pd.read_csv(outDir/\"16-02-2022-batch-corrected-9-libraries.csv\")"
   ]
  },
  {
   "cell_type": "code",
   "execution_count": null,
   "id": "parental-syria",
   "metadata": {
    "ExecuteTime": {
     "end_time": "2022-03-10T11:17:32.082079Z",
     "start_time": "2022-03-10T11:17:32.047765Z"
    }
   },
   "outputs": [],
   "source": [
    "results = results[['id', 'neg|lfc', 'contrast', 'library']]\n",
    "sumResults = results.groupby(['contrast', 'id']).agg({'neg|lfc': ['median']}).reset_index()\n",
    "sumResults.columns = ['contrast', 'gene', 'logCI']"
   ]
  },
  {
   "cell_type": "code",
   "execution_count": null,
   "id": "damaged-ownership",
   "metadata": {
    "ExecuteTime": {
     "end_time": "2022-03-10T11:14:28.993699Z",
     "start_time": "2022-03-10T11:14:28.884557Z"
    }
   },
   "outputs": [],
   "source": [
    "sumResults.to_csv(outDir/\"summarized_mageck_results.csv\", index=False)"
   ]
  },
  {
   "cell_type": "code",
   "execution_count": null,
   "id": "tough-valuable",
   "metadata": {
    "ExecuteTime": {
     "end_time": "2022-03-10T11:17:34.483887Z",
     "start_time": "2022-03-10T11:17:34.468327Z"
    }
   },
   "outputs": [],
   "source": [
    "sumResults['CI'] = 2**sumResults.logCI\n",
    "day1 = sumResults[sumResults.contrast == 'd1'][['gene', 'logCI']]"
   ]
  },
  {
   "cell_type": "markdown",
   "id": "lovely-gossip",
   "metadata": {},
   "source": [
    "# Escher"
   ]
  },
  {
   "cell_type": "code",
   "execution_count": null,
   "id": "published-chemistry",
   "metadata": {
    "ExecuteTime": {
     "end_time": "2022-03-10T10:12:15.731570Z",
     "start_time": "2022-03-10T10:12:12.723088Z"
    }
   },
   "outputs": [],
   "source": [
    "import escher\n",
    "from escher import Builder\n",
    "import cobra\n",
    "from time import sleep"
   ]
  },
  {
   "cell_type": "code",
   "execution_count": null,
   "id": "enormous-philadelphia",
   "metadata": {
    "ExecuteTime": {
     "end_time": "2022-03-10T10:12:22.464171Z",
     "start_time": "2022-03-10T10:12:22.459168Z"
    }
   },
   "outputs": [],
   "source": [
    "escher.rc['never_ask_before_quit'] = True"
   ]
  },
  {
   "cell_type": "code",
   "execution_count": null,
   "id": "czech-heather",
   "metadata": {
    "ExecuteTime": {
     "end_time": "2022-03-10T10:13:49.445843Z",
     "start_time": "2022-03-10T10:13:49.289315Z"
    }
   },
   "outputs": [],
   "source": [
    "%ls /Users/ansintsova/git_repos/nguyenb_tnseq/data/03_2022_escher"
   ]
  },
  {
   "cell_type": "code",
   "execution_count": null,
   "id": "vertical-college",
   "metadata": {
    "ExecuteTime": {
     "end_time": "2022-03-10T10:21:30.435777Z",
     "start_time": "2022-03-10T10:21:30.404054Z"
    }
   },
   "outputs": [],
   "source": [
    "day1.to_csv(outDir/\"day1_genedata.csv\", index=False)"
   ]
  },
  {
   "cell_type": "code",
   "execution_count": null,
   "id": "subjective-imagination",
   "metadata": {
    "ExecuteTime": {
     "end_time": "2022-03-10T11:17:37.400756Z",
     "start_time": "2022-03-10T11:17:37.396200Z"
    }
   },
   "outputs": [],
   "source": [
    "day1 = day1.set_index('gene')"
   ]
  },
  {
   "cell_type": "code",
   "execution_count": null,
   "id": "obvious-praise",
   "metadata": {
    "ExecuteTime": {
     "end_time": "2022-03-10T10:34:25.279864Z",
     "start_time": "2022-03-10T10:34:25.264918Z"
    }
   },
   "outputs": [],
   "source": [
    "builder = Builder(map_json=str(outDir/\"sl1344-core-first-try.json\"))"
   ]
  },
  {
   "cell_type": "code",
   "execution_count": null,
   "id": "psychological-apollo",
   "metadata": {
    "ExecuteTime": {
     "end_time": "2022-03-10T10:34:26.926462Z",
     "start_time": "2022-03-10T10:34:26.920325Z"
    }
   },
   "outputs": [],
   "source": [
    "builder"
   ]
  },
  {
   "cell_type": "code",
   "execution_count": null,
   "id": "written-trial",
   "metadata": {
    "ExecuteTime": {
     "end_time": "2022-03-10T11:17:55.363544Z",
     "start_time": "2022-03-10T11:17:55.333114Z"
    }
   },
   "outputs": [],
   "source": [
    "builder.gene_data = day1\n",
    "builder.reaction_scale = [{ 'type': 'min', 'color': 'red', 'size': 12 },\n",
    "                                 { 'type': 'max', 'color': 'blue', 'size': 12 },\n",
    "                                  { 'type': 'value','value':0,  'color': 'white', 'size': 8 }]\n",
    "\n"
   ]
  },
  {
   "cell_type": "code",
   "execution_count": null,
   "id": "monetary-colony",
   "metadata": {
    "ExecuteTime": {
     "end_time": "2022-03-10T10:24:53.983070Z",
     "start_time": "2022-03-10T10:24:53.976280Z"
    }
   },
   "outputs": [],
   "source": [
    "day1.loc['aceA']"
   ]
  },
  {
   "cell_type": "code",
   "execution_count": null,
   "id": "apart-calgary",
   "metadata": {},
   "outputs": [],
   "source": []
  }
 ],
 "metadata": {
  "kernelspec": {
   "display_name": "Python 3",
   "language": "python",
   "name": "python3"
  },
  "language_info": {
   "codemirror_mode": {
    "name": "ipython",
    "version": 3
   },
   "file_extension": ".py",
   "mimetype": "text/x-python",
   "name": "python",
   "nbconvert_exporter": "python",
   "pygments_lexer": "ipython3",
   "version": "3.6.6"
  },
  "toc": {
   "base_numbering": 1,
   "nav_menu": {},
   "number_sections": true,
   "sideBar": true,
   "skip_h1_title": false,
   "title_cell": "Table of Contents",
   "title_sidebar": "Contents",
   "toc_cell": false,
   "toc_position": {},
   "toc_section_display": true,
   "toc_window_display": false
  }
 },
 "nbformat": 4,
 "nbformat_minor": 5
}
