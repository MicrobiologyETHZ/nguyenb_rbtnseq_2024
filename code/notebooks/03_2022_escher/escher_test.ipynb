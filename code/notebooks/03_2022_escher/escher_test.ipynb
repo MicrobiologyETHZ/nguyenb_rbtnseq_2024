{
 "cells": [
  {
   "cell_type": "code",
   "execution_count": null,
   "id": "03af7cf9",
   "metadata": {
    "ExecuteTime": {
     "end_time": "2022-02-12T15:47:26.252501Z",
     "start_time": "2022-02-12T15:47:17.965668Z"
    }
   },
   "outputs": [],
   "source": [
    "import escher\n",
    "from escher import Builder\n",
    "import cobra\n",
    "import pandas as pd\n",
    "escher.rc['never_ask_before_quit'] = True"
   ]
  },
  {
   "cell_type": "code",
   "execution_count": null,
   "id": "773168b8",
   "metadata": {},
   "outputs": [],
   "source": [
    "!curl -O http://bigg.ucsd.edu/static/models/iAB_RBC_283.json"
   ]
  },
  {
   "cell_type": "code",
   "execution_count": null,
   "id": "0cb89af7",
   "metadata": {},
   "outputs": [],
   "source": [
    "ls /Users/ansintsova/Downloads/iNTS_SL1344v1.json\n"
   ]
  },
  {
   "cell_type": "code",
   "execution_count": null,
   "id": "6c8b8722",
   "metadata": {},
   "outputs": [],
   "source": [
    "builder = Builder(\n",
    "    model_json='/Users/ansintsova/Downloads/iNTS_SL1344v1.json',\n",
    "    map_name= \"new_map.json\",\n",
    "    show_gene_reaction_rules = True,\n",
    "    gene_info=x\n",
    ")"
   ]
  },
  {
   "cell_type": "code",
   "execution_count": null,
   "id": "664c9491",
   "metadata": {},
   "outputs": [],
   "source": [
    "x = pd.DataFrame([['pta', 'tdcD'], [-4.34, 0.19]], index=['gene', 'lfc']).T"
   ]
  },
  {
   "cell_type": "code",
   "execution_count": null,
   "id": "cc739d4b",
   "metadata": {},
   "outputs": [],
   "source": [
    "x"
   ]
  },
  {
   "cell_type": "code",
   "execution_count": null,
   "id": "3fb57fbc",
   "metadata": {},
   "outputs": [],
   "source": [
    "builder"
   ]
  },
  {
   "cell_type": "code",
   "execution_count": null,
   "id": "d57ac97d",
   "metadata": {},
   "outputs": [],
   "source": [
    "gene_info.min()"
   ]
  },
  {
   "cell_type": "code",
   "execution_count": null,
   "id": "9eb5a342",
   "metadata": {
    "ExecuteTime": {
     "end_time": "2022-02-12T15:49:29.189844Z",
     "start_time": "2022-02-12T15:49:28.853544Z"
    }
   },
   "outputs": [],
   "source": [
    "gene_info = pd.read_csv('./data/SL1344_test/Path/S6_RNA-seq_aerobic_to_anaerobic.csv', index_col=0)\n",
    "builder = Builder(\n",
    "    map_name= 'iJO1366.Fatty acid beta-oxidation',\n",
    "    show_gene_reaction_rules = True,\n",
    "    gene_data = gene_info\n",
    ")\n",
    "#builder.gene_info = gene_info\n",
    "    #builder.save_html('./data/example_map.html')"
   ]
  },
  {
   "cell_type": "code",
   "execution_count": null,
   "id": "689a2fbe",
   "metadata": {
    "ExecuteTime": {
     "end_time": "2022-02-12T15:49:30.976253Z",
     "start_time": "2022-02-12T15:49:30.971886Z"
    }
   },
   "outputs": [],
   "source": [
    "builder"
   ]
  },
  {
   "cell_type": "code",
   "execution_count": null,
   "id": "9af092fe",
   "metadata": {
    "ExecuteTime": {
     "end_time": "2022-02-12T15:49:34.705450Z",
     "start_time": "2022-02-12T15:49:34.692385Z"
    }
   },
   "outputs": [],
   "source": [
    "\n",
    "builder = Builder()"
   ]
  },
  {
   "cell_type": "code",
   "execution_count": null,
   "id": "f8b0e591",
   "metadata": {},
   "outputs": [],
   "source": [
    "builder"
   ]
  },
  {
   "cell_type": "code",
   "execution_count": null,
   "id": "ec4cb63e",
   "metadata": {},
   "outputs": [],
   "source": [
    "builder.map_name = 'iJO1366.Central metabolism'\n",
    "builder.model_name = 'e_coli_core'\n",
    "#builder.highlight_missing = True\n",
    "builder.show_gene_reaction_rules = True\n",
    "#!curl -O http://bigg.ucsd.edu/static/models/iJO1366.json\n",
    "builder.model = cobra.io.load_json_model('iJO1366.json')"
   ]
  },
  {
   "cell_type": "code",
   "execution_count": null,
   "id": "342ba35e",
   "metadata": {},
   "outputs": [],
   "source": [
    "gi = pd.Series([10, 5, -5], index=['b3236', 'b2210', 'b0720'])"
   ]
  },
  {
   "cell_type": "code",
   "execution_count": null,
   "id": "1188b4ac",
   "metadata": {},
   "outputs": [],
   "source": [
    "builder.gene_data = gi"
   ]
  },
  {
   "cell_type": "code",
   "execution_count": null,
   "id": "1b11e9fb",
   "metadata": {},
   "outputs": [],
   "source": [
    "solution = builder.model.optimize()\n",
    "builder.reaction_data = solution.fluxes\n"
   ]
  },
  {
   "cell_type": "code",
   "execution_count": null,
   "id": "6ed668a5",
   "metadata": {},
   "outputs": [],
   "source": [
    "builder.metabolite_data = solution.shadow_prices"
   ]
  },
  {
   "cell_type": "code",
   "execution_count": null,
   "id": "6349951b",
   "metadata": {},
   "outputs": [],
   "source": [
    "\n",
    "builder = Builder()\n",
    "# Load an Escher map\n",
    "builder.map_name = 'iJO1366.Central metabolism'\n",
    "\n",
    "\n",
    "# Load a COBRA model\n",
    "builder.model_name = 'e_coli_core'\n",
    "builder.highlight_missing = False"
   ]
  },
  {
   "cell_type": "code",
   "execution_count": null,
   "id": "b13e8329",
   "metadata": {},
   "outputs": [],
   "source": [
    "builder"
   ]
  },
  {
   "cell_type": "code",
   "execution_count": null,
   "id": "0d2338c9",
   "metadata": {},
   "outputs": [],
   "source": [
    "builder.gene_info = gene_info"
   ]
  },
  {
   "cell_type": "code",
   "execution_count": null,
   "id": "375b6083",
   "metadata": {},
   "outputs": [],
   "source": [
    "builder"
   ]
  },
  {
   "cell_type": "code",
   "execution_count": null,
   "id": "905a0786",
   "metadata": {},
   "outputs": [],
   "source": []
  }
 ],
 "metadata": {
  "kernelspec": {
   "display_name": "Python 3 (ipykernel)",
   "language": "python",
   "name": "python3"
  },
  "language_info": {
   "codemirror_mode": {
    "name": "ipython",
    "version": 3
   },
   "file_extension": ".py",
   "mimetype": "text/x-python",
   "name": "python",
   "nbconvert_exporter": "python",
   "pygments_lexer": "ipython3",
   "version": "3.8.0"
  },
  "toc": {
   "base_numbering": 1,
   "nav_menu": {},
   "number_sections": true,
   "sideBar": true,
   "skip_h1_title": false,
   "title_cell": "Table of Contents",
   "title_sidebar": "Contents",
   "toc_cell": false,
   "toc_position": {},
   "toc_section_display": true,
   "toc_window_display": false
  }
 },
 "nbformat": 4,
 "nbformat_minor": 5
}
