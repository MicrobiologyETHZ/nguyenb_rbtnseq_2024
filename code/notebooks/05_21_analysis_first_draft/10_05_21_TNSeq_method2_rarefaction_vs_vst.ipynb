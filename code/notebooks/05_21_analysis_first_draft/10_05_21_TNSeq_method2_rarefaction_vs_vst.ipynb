{
 "cells": [
  {
   "cell_type": "code",
   "execution_count": null,
   "id": "surprised-smoke",
   "metadata": {},
   "outputs": [],
   "source": [
    "import pandas as pd\n",
    "from pathlib import Path\n",
    "from tnseq2.src.analysis import *\n",
    "from tnseq2.src.method2_analysis import *\n",
    "import numpy as np\n",
    "from scipy.stats import ranksums\n",
    "import matplotlib.pyplot as plt\n",
    "import chart_studio\n",
    "import chart_studio.tools as tls\n",
    "import chart_studio.plotly as py\n",
    "import plotly.express as px\n",
    "%matplotlib inline\n",
    "import cufflinks as cf\n",
    "from plotly.offline import download_plotlyjs, init_notebook_mode, plot, iplot\n",
    "init_notebook_mode(connected=True)\n",
    "cf.go_offline()\n",
    "import dash_bio as dashbio"
   ]
  },
  {
   "cell_type": "markdown",
   "id": "working-politics",
   "metadata": {},
   "source": [
    "## Data Normalization\n",
    "\n",
    "- Count data normalization is essential to get valid results from the analysis.\n",
    "- I have looked at a number of different transformations, and suggest VST (implemented in DESeq2 package) as the most appropriate transformation for this data set.\n",
    "- Here I compare VST transformation to rarefaction (which is not a good way to normalize data for this experiment, and produces unstable results, i.e. results vary depending on the rarefaction level) as well as the original analysis already presented. \n",
    "\n",
    "\n",
    "### Data Used:\n",
    "\n",
    "- All experiments using library 10_2 are being analyzed together\n",
    "\n",
    "\n",
    "### Filtering bottleneck samples:\n",
    "\n",
    "- as before\n"
   ]
  },
  {
   "cell_type": "code",
   "execution_count": null,
   "id": "silent-carpet",
   "metadata": {},
   "outputs": [],
   "source": [
    "root =\"/Users/ansintsova/git_repos/nguyenb_tnseq/data/13_04_results\"\n",
    "results = \"results\"\n",
    "counts = \"counts\"\n",
    "control_file = Path(root)/'controls.txt'\n",
    "dnaids = ['dnaid1315', 'dnaid1428', 'dnaid1429', 'dnaid2015', 'dnaid2016', 'dnaid2017', 'dnaid2018', 'dnaid2019',\n",
    "         'dnaid2023', 'dnaid2024', 'dnaid2025', 'dnaid2026', 'dnaid2027', 'dnaid2028', 'dnaid2029' ]\n",
    "cnt_df = load_files(dnaids, Path(root)/counts)\n",
    "lib10_cnt = cnt_df[cnt_df.library == 'library_10_2'].copy()\n",
    "lib10_cnt['sampleIDExp'] = lib10_cnt['sampleID'] + \"_\"+ lib10_cnt['dnaid'] + \"_\" + lib10_cnt['experiment']\n",
    "\n",
    "annotation_df = cnt_df[['barcode', 'ShortName', 'locus_tag', 'phenotype', 'conc']].drop_duplicates()\n",
    "\n",
    "control_file = Path(root)/'controls.txt'\n",
    "corr_df, good_samples = calculate_correlation(lib10_cnt, control_file, for_each='sampleIDExp')\n",
    "good_samples = list(good_samples)\n",
    "good_samples.remove('unenriched_inoculum_d0_dnaid2017_TV4592A')\n",
    "#good_samples"
   ]
  },
  {
   "cell_type": "code",
   "execution_count": null,
   "id": "checked-brazil",
   "metadata": {},
   "outputs": [],
   "source": [
    "lib10_cnt"
   ]
  },
  {
   "cell_type": "code",
   "execution_count": null,
   "id": "capable-quantity",
   "metadata": {},
   "outputs": [],
   "source": [
    "outdir = '/Users/ansintsova/git_repos/nguyenb_tnseq/data/01_06'\n",
    "\n",
    "_, final = analyze_library(lib10_cnt, sample_id=\"sampleIDExp\", \n",
    "                          good_samples=good_samples, \n",
    "                          dnaid='library10', experiment='2', \n",
    "                          control_file=control_file, cutoff=0.8, \n",
    "                          to_filter=1000, outdir=outdir)"
   ]
  },
  {
   "cell_type": "markdown",
   "id": "about-consumption",
   "metadata": {},
   "source": [
    "## VST Transformation"
   ]
  },
  {
   "cell_type": "code",
   "execution_count": null,
   "id": "standard-transport",
   "metadata": {},
   "outputs": [],
   "source": [
    "import datetime as dt\n",
    "dt.date.today().strftime(\"%Y-%m-%d\")"
   ]
  },
  {
   "cell_type": "code",
   "execution_count": null,
   "id": "floral-portfolio",
   "metadata": {},
   "outputs": [],
   "source": []
  },
  {
   "cell_type": "code",
   "execution_count": null,
   "id": "greek-blues",
   "metadata": {},
   "outputs": [],
   "source": [
    "tvst = run_VST_transformation(lib10_cnt, 'lib10_tst', good_samples, '/Users/ansintsova/git_repos/nguyenb_tnseq/data/01_06',\n",
    "                       sample_id='sampleIDExp')"
   ]
  },
  {
   "cell_type": "code",
   "execution_count": null,
   "id": "affecting-metro",
   "metadata": {},
   "outputs": [],
   "source": [
    "tvst.head()"
   ]
  },
  {
   "cell_type": "code",
   "execution_count": null,
   "id": "brutal-involvement",
   "metadata": {},
   "outputs": [],
   "source": [
    "# sdf = lib10_cnt[['sampleID', 'mouse', 'day', 'tissue', 'dnaid', 'experiment', 'sampleIDExp']].set_index('sampleIDExp').drop_duplicates()\n",
    "# edf = (lib10_cnt[['barcode', 'sampleIDExp', 'experiment', 'mouse', 'day', 'tissue', 'dnaid', 'cnt']].drop_duplicates()\n",
    "#        .pivot(index='barcode', columns='sampleIDExp', values='cnt'))\n",
    "# edf = edf[list(sdf.index)]\n",
    "# edf = edf.fillna(0)\n",
    "# sdf.to_csv(Path(root)/results/'30_04_lib10_sdf.csv')\n",
    "# edf.to_csv(Path(root)/results/'30_04_lib10_edf.csv')\n",
    "# Run DESeq2 script\n",
    "vst = pd.read_csv(Path(root)/'results/30_14_lib10_vsd.csv').rename({'Unnamed: 0':'barcode'}, axis=1).set_index('barcode')\n",
    "vst = vst.drop('unenriched_inoculum_d0_dnaid2017_TV4592A', axis=1)\n"
   ]
  },
  {
   "cell_type": "code",
   "execution_count": null,
   "id": "velvet-badge",
   "metadata": {},
   "outputs": [],
   "source": [
    "vst.head()"
   ]
  },
  {
   "cell_type": "markdown",
   "id": "stopped-cleaning",
   "metadata": {},
   "source": [
    "## Rarefaction"
   ]
  },
  {
   "cell_type": "code",
   "execution_count": null,
   "id": "average-receiver",
   "metadata": {},
   "outputs": [],
   "source": [
    "samples = [c.strip() for c in lib10_cnt.sampleIDExp.unique()]\n",
    "samples.remove('am487_d1_dnaid2027_TV5563A')\n",
    "samples.remove('unenriched_inoculum_d0_dnaid2017_TV4592A')\n",
    "lib10_cnt_rare = lib10_cnt[lib10_cnt.sampleIDExp.isin(samples)]\n",
    "edf_rare = (lib10_cnt_rare[['barcode', 'sampleIDExp', 'experiment', 'mouse', 'day', 'tissue', 'dnaid', 'cnt']].drop_duplicates()\n",
    "       .pivot(index='barcode', columns='sampleIDExp', values='cnt'))\n",
    "edf_rare = edf_rare.fillna(0)\n",
    "edf_rare.to_csv(Path(root)/'results/03_05_lib10_rare_edf.csv')\n",
    "\n",
    "## Rarefy with vegan in R\n",
    "\n",
    "rare = (pd.read_csv(Path(root)/'results/05_05_lib10_rarefied_edf.csv')\n",
    "        .set_index('Unnamed: 0').T)\n",
    "rare.index.name = 'barcode'\n",
    "rare = rare.drop('unenriched_inoculum_d0_dnaid2017_TV4592A', axis =1)\n"
   ]
  },
  {
   "cell_type": "code",
   "execution_count": null,
   "id": "amended-camel",
   "metadata": {},
   "outputs": [],
   "source": [
    "rarevsvst = px.scatter(x=rare.ad926_d1_dnaid2017_TV4592A, y=vst.ad926_d1_dnaid2017_TV4592A, \n",
    "          log_x=True, color_discrete_sequence= [px.colors.qualitative.Plotly[3]],\n",
    "          labels= {'x': 'Rarefied Counts', 'y': 'VST Counts'},\n",
    "          template = \"simple_white\")\n",
    "\n",
    "rarevsvst.write_html(\"/Users/ansintsova/Documents/SushiLab/31-05-2021-Lab-Meeting/Rare_vs_VST.html\")"
   ]
  },
  {
   "cell_type": "code",
   "execution_count": null,
   "id": "serious-philippines",
   "metadata": {},
   "outputs": [],
   "source": [
    "import numpy as np\n",
    "from skbio.stats.composition import clr\n",
    "\n",
    "def clr_on_array_with_0(a):\n",
    "    a = np.ma.masked_equal(a, 0)\n",
    "    transformed = clr(a)\n",
    "    transformed[transformed.mask] = a.fill_value\n",
    "    transformed = transformed.data\n",
    "    return transformed\n",
    "\n",
    "\n",
    "def clr_on_array_with_pseudocount(a):\n",
    "    transformed = clr(a+1)\n",
    "    return transformed\n",
    "\n",
    "clr_df= edf.copy().apply(clr_on_array_with_0)\n",
    "clr2_df = edf.copy().apply(clr_on_array_with_pseudocount)"
   ]
  },
  {
   "cell_type": "code",
   "execution_count": null,
   "id": "stupid-robertson",
   "metadata": {},
   "outputs": [],
   "source": [
    "clrvsvst = px.scatter(x=clr2_df.ad926_d1_dnaid2017_TV4592A, y=vst.ad926_d1_dnaid2017_TV4592A, \n",
    "          color_discrete_sequence= [px.colors.qualitative.Plotly[3]],\n",
    "          labels= {'x': 'CLR Norm Counts', 'y': 'VST Counts'},\n",
    "          template = \"simple_white\")\n",
    "clrvsvst.write_html(\"/Users/ansintsova/Documents/SushiLab/31-05-2021-Lab-Meeting/CLR_vs_VST.html\")"
   ]
  },
  {
   "cell_type": "markdown",
   "id": "sexual-collaboration",
   "metadata": {},
   "source": [
    "## Load DESeq2 results"
   ]
  },
  {
   "cell_type": "code",
   "execution_count": null,
   "id": "aging-study",
   "metadata": {},
   "outputs": [],
   "source": [
    "deseq1 = (pd.read_csv('/Users/ansintsova/git_repos/nguyenb_tnseq/data/13_04_results/results/d0_d1_deseq_results.csv')\n",
    "          .rename({'Unnamed: 0': 'barcode'}, axis=1))\n",
    "\n",
    "deseq1 = deseq1.merge(annotation_df, on='barcode')\n",
    "deseqhits = deseq1[deseq1.padj < 0.05].ShortName.dropna().values\n",
    "deseq1 = deseq1.groupby('ShortName').log2FoldChange.median().reset_index()\n",
    "deseq1['fitness'] = 2**deseq1.log2FoldChange\n",
    "deseq1.log2FoldChange.hist(bins=50)"
   ]
  },
  {
   "cell_type": "markdown",
   "id": "artificial-favorite",
   "metadata": {},
   "source": [
    "## Analysis: \n",
    "\n",
    "- Calculate mean inoculum value for each barcode based on all inoculum (d0) samples (drop the uneriched sample).\n",
    "- **For rarefied data, drop any barcodes with mean 0 in the inoculum**\n",
    "- Caclulate fitness for each barcode, for rarefied data as counts on specific day/ counts in the inoculum, for VST data (which is on log2 scale) 2^counts on specific day/ 2^counts in teh inoculum \n",
    "- To get gene fitness, take median fitness of barcodes mapped to that gene\n",
    "- WT fitness is the median fitness of all wt WITS barcodes\n",
    "- Use Mann–Whitney U test (also called the Mann–Whitney–Wilcoxon (MWW), Wilcoxon rank-sum test) to test for significance of each gene \n",
    "- multi-test correction using Benjamini/Hochberg (non-negative)\n",
    "\n",
    "- calculate CI at gene fitness/ wt fitness\n",
    "- test for significane as before using ssaV_invG barcodes as controls\n",
    "- calculate median/mean fitness/CI for each gene across all mice\n",
    "\n"
   ]
  },
  {
   "cell_type": "code",
   "execution_count": null,
   "id": "suspected-vinyl",
   "metadata": {},
   "outputs": [],
   "source": [
    "import statsmodels\n",
    "def gene_ranksums(gene_values, wt_values):\n",
    "    return ranksums(gene_values, wt_values)[1]\n",
    "\n",
    "def fdr_correction(pvals):\n",
    "    return statsmodels.stats.multitest.multipletests(pvals, alpha=0.05, method='fdr_bh')[1]\n",
    "\n",
    "\n",
    "def get_median_for_gene_on_a_day(df, annotation, day, grp_by='ShortName'):\n",
    "    df = df.merge(annotation, on='barcode')\n",
    "    samples = dict.fromkeys(([c for c in df.columns if day in c]), ['median'])\n",
    "    day_median_value = df.groupby('ShortName').agg(samples)\n",
    "    day_median_value.columns = [c[0] for c in day_median_value.columns]\n",
    "    return day_median_value\n",
    "\n",
    "\n",
    "def get_fitness(cnts, annotation, day, good_samples, hits=0.01, rare=False):\n",
    "    # Calculate a mean value for all inoculum samples\n",
    "    \n",
    "    cnts['inoculum'] = cnts[[c for c in cnts.columns if 'd0' in c and 'unenriched' not in c]].mean(axis=1)\n",
    "    cnts = cnts.dropna(subset=['inoculum']) # do I have any NAs?\n",
    "    cnts = cnts[cnts.inoculum > 0]\n",
    "    # Caclucalte fitness for each barcode\n",
    "    if rare:\n",
    "        fitness = cnts.apply(lambda x: x/cnts['inoculum']).reset_index()\n",
    "    else:\n",
    "        fitness = cnts.apply(lambda x: 2**x/2**cnts['inoculum']).reset_index()\n",
    "    # Add gene annotation\n",
    "    \n",
    "    fitness = fitness.merge(annotation, on='barcode')\n",
    "    # Calculate fitness for each gene\n",
    "    # Drop controls for now\n",
    "    gene_df = fitness[fitness.phenotype.isna()]\n",
    "    # Calculate median value for each ShortName\n",
    "    samples = dict.fromkeys(([c for c in good_samples if day in c]), ['median'])\n",
    "    day_fitness = gene_df.groupby('ShortName').agg(samples)\n",
    "    day_fitness.columns = [c[0] for c in day_fitness.columns]\n",
    "\n",
    "    # Calculate median fitness for wt barcodes\n",
    "    wt_fitness = fitness[fitness.phenotype == 'wt'][[c for c in good_samples if day in c]].median()\n",
    "    \n",
    "    # Calculate rnasksums test for wt vs each gene, multi-test correction using Benjamini/Hochberg (non-negative)\n",
    "    pvals = day_fitness.apply(gene_ranksums,  axis=1, wt_values = wt_fitness)\n",
    "    padj = fdr_correction(pvals.values)\n",
    "    results = pd.DataFrame([pvals.values, padj], columns=pvals.index, index=['pval', 'padj']).T\n",
    "    \n",
    "    # Calculate CI\n",
    "    day_ci = day_fitness.apply(lambda x: x/wt_fitness[x.name])\n",
    "    ssa_fitness = fitness[fitness.phenotype == 'ssaV_invG'][[c for c in good_samples if day in c]].median()\n",
    "    ssa_ci = ssa_fitness/wt_fitness\n",
    "    \n",
    "    pvals_ci = day_ci.apply(gene_ranksums,  axis=1, wt_values = ssa_ci)\n",
    "    ci_res = pd.DataFrame([pvals_ci.values, fdr_correction(pvals_ci.values)], columns=pvals.index, index=['ci_pval', 'ci_padj']).T\n",
    "    results = results.merge(ci_res, left_index=True, right_index=True)\n",
    "    # Calculate median and mean fitness and median and mean CI\n",
    "    \n",
    "    results['median_fitness'] = day_fitness.median(axis=1)\n",
    "    results['mean_fitness'] =  day_fitness.mean(axis=1)\n",
    "    results['median_CI'] = day_ci.median(axis=1)\n",
    "    results['mean_CI'] = day_ci.mean(axis=1)\n",
    "    \n",
    "    #day_ci = day_ci.merge(ci_res, left_index=True, right_index=True)\n",
    "    controls = pd.concat([wt_fitness, ssa_fitness], axis=1)\n",
    "    controls.columns = ['wt', 'ssaV_invG']\n",
    "    controls['day'] = day.strip('_')\n",
    "    ssa_ci = pd.DataFrame(ssa_ci).assign(day=day.strip(\"_\"))\n",
    "    ssa_ci.columns = ['CI', 'day']\n",
    "    results['hits'] = results['padj'] < hits\n",
    "    results['ci_hits'] = results['ci_padj'] < hits\n",
    "    return fitness, day_fitness, day_ci, results, controls, ssa_ci"
   ]
  },
  {
   "cell_type": "code",
   "execution_count": null,
   "id": "peaceful-photographer",
   "metadata": {},
   "outputs": [],
   "source": [
    "# VST\n",
    "\n",
    "vst_cnt_d0 = get_median_for_gene_on_a_day(vst[good_samples], annotation_df, 'd0')\n",
    "vst_inoculum_cnts = vst_cnt_d0.median(axis=1)\n",
    "vst_inoculum_cnts.name = 'median_inoculum_value'\n",
    "\n",
    "# Rare\n",
    "rare_cnt_d0 = get_median_for_gene_on_a_day(rare[samples], annotation_df, 'd0')\n",
    "rare_inoculum_cnts = rare_cnt_d0.median(axis=1)\n",
    "rare_inoculum_cnts.name = 'median_inoculum_value'\n"
   ]
  },
  {
   "cell_type": "code",
   "execution_count": null,
   "id": "varying-fourth",
   "metadata": {},
   "outputs": [],
   "source": [
    "days = ['_d0', '_d1', '_d2', '_d3', '_d4']\n",
    "vst_cnt_genes = []\n",
    "for day in days:\n",
    "    print(day)\n",
    "    df = get_median_for_gene_on_a_day(vst[good_samples], annotation_df, day)\n",
    "    vst_cnt_genes.append(df)\n",
    "fdf = pd.concat(vst_cnt_genes, axis=1)\n",
    "fdf.sample(5)"
   ]
  },
  {
   "cell_type": "code",
   "execution_count": null,
   "id": "diverse-nudist",
   "metadata": {},
   "outputs": [],
   "source": [
    "fdf.to_csv(Path(root)/\"results/gene_counts_vst_transform.csv\")"
   ]
  },
  {
   "cell_type": "markdown",
   "id": "tropical-anderson",
   "metadata": {},
   "source": [
    "## Day 1"
   ]
  },
  {
   "cell_type": "code",
   "execution_count": null,
   "id": "informational-socket",
   "metadata": {},
   "outputs": [],
   "source": [
    "# VST\n",
    "fitness, vst_fit_d1, vst_ci_d1, vst_d1_results, vst_controls_d1, vst_ssa_ci_d1 = get_fitness(vst, annotation_df, 'd1', good_samples=good_samples,  hits=0.05)\n",
    "\n",
    "#vst_fit_d1 = vst_fit_d1.merge(2**vst_inoculum_cnts, on='ShortName')\n",
    "\n",
    "# RARE\n",
    "\n",
    "f, rare_fit_d1, rare_ci_d1, rare_day1_results, rare_controls_d1, rare_ssa_ci_d1 = get_fitness(rare, annotation_df, 'd1', good_samples=samples, rare=True,  hits=0.05)\n",
    "\n",
    "rare_fit_d1 = rare_fit_d1.merge(rare_inoculum_cnts, on='ShortName')\n",
    "\n",
    "d1_cntrl = vst_controls_d1.merge(rare_controls_d1, left_index=True, right_index=True, on='day')\n",
    "d1_cntrl.columns = ['vst_wt', 'vst_ssaV', 'day', 'rare_wt', 'rare_ssaV', ]\n",
    "d1_cntrl.melt(id_vars='day')\n",
    "\n",
    "#px.box(d1_cntrl.melt(), x=\"variable\", y=\"value\",  color='variable')"
   ]
  },
  {
   "cell_type": "code",
   "execution_count": null,
   "id": "comparable-ukraine",
   "metadata": {},
   "outputs": [],
   "source": [
    "fitness.head()"
   ]
  },
  {
   "cell_type": "code",
   "execution_count": null,
   "id": "christian-brisbane",
   "metadata": {},
   "outputs": [],
   "source": [
    "?pd.melt"
   ]
  },
  {
   "cell_type": "code",
   "execution_count": null,
   "id": "crazy-destruction",
   "metadata": {},
   "outputs": [],
   "source": [
    "def get_control_df(fitness, phenotype='wt'):\n",
    "    wt = fitness[fitness.phenotype == phenotype].dropna(axis=1).drop(['inoculum'], axis=1)\n",
    "    wt = wt.melt(id_vars=['barcode', 'phenotype', 'conc'], var_name='sampleExpID', value_name='fitness')\n",
    "    new = wt.sampleExpID.str.split(\"_\", expand=True)\n",
    "    new.columns = ['mouse', 'day', 'dnaid', 'experiment']\n",
    "    wt = wt.merge(new, left_index=True, right_index=True)\n",
    "    return wt"
   ]
  },
  {
   "cell_type": "code",
   "execution_count": null,
   "id": "chinese-shaft",
   "metadata": {},
   "outputs": [],
   "source": [
    "wt = fitness[fitness.phenotype == 'wt'].dropna(axis=1).drop(['inoculum'], axis=1)\n",
    "wt = wt.melt(id_vars=['barcode', 'phenotype', 'conc'], var_name='sampleExpID', value_name='fitness')\n",
    "new = wt.sampleExpID.str.split(\"_\", expand=True)\n",
    "new.columns = ['mouse', 'day', 'dnaid', 'experiment']\n",
    "wt = wt.merge(new, left_index=True, right_index=True)\n",
    "wt_d1 = wt[wt.day == 'd1']\n"
   ]
  },
  {
   "cell_type": "code",
   "execution_count": null,
   "id": "mediterranean-safety",
   "metadata": {},
   "outputs": [],
   "source": [
    "hyb = get_control_df(fitness, phenotype='hyb')\n",
    "hyb"
   ]
  },
  {
   "cell_type": "code",
   "execution_count": null,
   "id": "committed-external",
   "metadata": {},
   "outputs": [],
   "source": [
    "px.box(wt_d1, x='mouse', y=np.log2(wt_d1['fitness']), color= 'conc', hover_data=['conc'])"
   ]
  },
  {
   "cell_type": "code",
   "execution_count": null,
   "id": "imported-twenty",
   "metadata": {},
   "outputs": [],
   "source": [
    "wt"
   ]
  },
  {
   "cell_type": "code",
   "execution_count": null,
   "id": "entitled-kuwait",
   "metadata": {},
   "outputs": [],
   "source": [
    "px.box(wt, x='day', y=np.log2(wt['fitness']), color= 'mouse', hover_data=['conc'])"
   ]
  },
  {
   "cell_type": "code",
   "execution_count": null,
   "id": "public-banking",
   "metadata": {},
   "outputs": [],
   "source": [
    "hyb_d1 = hyb[hyb.day == 'd1']"
   ]
  },
  {
   "cell_type": "code",
   "execution_count": null,
   "id": "exact-overview",
   "metadata": {},
   "outputs": [],
   "source": [
    "hyb_d1"
   ]
  },
  {
   "cell_type": "code",
   "execution_count": null,
   "id": "continental-entrepreneur",
   "metadata": {},
   "outputs": [],
   "source": [
    "px.box(hyb, x='day', y=np.log2(hyb['fitness']),  color='mouse', hover_data=['mouse'])"
   ]
  },
  {
   "cell_type": "code",
   "execution_count": null,
   "id": "faced-survey",
   "metadata": {},
   "outputs": [],
   "source": [
    "lib10_wt = lib10_cnt[lib10_cnt.phenotype == 'wt'][['barcode','cnt', 'conc', 'mouse', 'day', 'experiment']]"
   ]
  },
  {
   "cell_type": "code",
   "execution_count": null,
   "id": "blond-pizza",
   "metadata": {},
   "outputs": [],
   "source": [
    "lib10_cnt.groupby('sampleIDExp').cnt.sum().sort_values()"
   ]
  },
  {
   "cell_type": "code",
   "execution_count": null,
   "id": "greek-seeking",
   "metadata": {},
   "outputs": [],
   "source": [
    "wt"
   ]
  },
  {
   "cell_type": "code",
   "execution_count": null,
   "id": "square-blame",
   "metadata": {},
   "outputs": [],
   "source": [
    "px.strip(wt[wt.day == 'd1'], x='mouse', y='fitness', color= 'conc', hover_data=['conc'])"
   ]
  },
  {
   "cell_type": "code",
   "execution_count": null,
   "id": "protective-reform",
   "metadata": {},
   "outputs": [],
   "source": [
    "px.strip(wt[wt.day == 'd1'], x='mouse', y='fitness', color= 'conc', hover_data=['conc'])"
   ]
  },
  {
   "cell_type": "code",
   "execution_count": null,
   "id": "innovative-travel",
   "metadata": {},
   "outputs": [],
   "source": [
    "test = vst[[c for c in vst if 'am732_d1' in c]].reset_index()\n",
    "test.head()"
   ]
  },
  {
   "cell_type": "code",
   "execution_count": null,
   "id": "tracked-liverpool",
   "metadata": {},
   "outputs": [],
   "source": [
    "lib10_wt[(lib10_wt.experiment == 'TV5585A') & (lib10_wt.day == 'd0')].sort_values('conc')"
   ]
  },
  {
   "cell_type": "code",
   "execution_count": null,
   "id": "reduced-eleven",
   "metadata": {},
   "outputs": [],
   "source": [
    "t2  = lib10_wt[(lib10_wt.mouse == 'am732') & (lib10_wt.day == 'd1')].sort_values('conc').merge(test, how='left', on='barcode' )"
   ]
  },
  {
   "cell_type": "code",
   "execution_count": null,
   "id": "sized-applicant",
   "metadata": {},
   "outputs": [],
   "source": [
    "t2"
   ]
  },
  {
   "cell_type": "code",
   "execution_count": null,
   "id": "polish-combat",
   "metadata": {},
   "outputs": [],
   "source": [
    "px.scatter(t2, x=np.log2(t2['conc']), y='am732_d1_dnaid2028_TV5585A', trendline='ols', )"
   ]
  },
  {
   "cell_type": "code",
   "execution_count": null,
   "id": "alpha-imagination",
   "metadata": {},
   "outputs": [],
   "source": [
    "data = lib10_wt[lib10_wt.experiment =='TV5585A']\n",
    "x = lib10_wt.day.nunique()\n",
    "y = lib10_wt.mouse.nunique()\n",
    "p9.options.figure_size = (x*3, y*2.5)\n",
    "g = (p9.ggplot(data, p9.aes(x='conc', y='cnt'))\n",
    "  + p9.geom_point()\n",
    "  + p9.geom_smooth(method=\"lm\")\n",
    "  + p9.theme_classic()\n",
    "  + p9.theme(text=p9.element_text(size=14),\n",
    "             axis_text_x=p9.element_text(rotation=90, hjust=1))\n",
    "    #+ p9.geom_text(p9.aes(label='Rlab', x=0.0001, y=.1))\n",
    "  + p9.ylab(\"Count\")\n",
    "  + p9.xlab(\"Expected Abundance\")\n",
    "  + p9.scale_y_log10()\n",
    "  + p9.scale_x_log10()\n",
    "  + p9.facet_grid('mouse~day'))\n",
    "g"
   ]
  },
  {
   "cell_type": "code",
   "execution_count": null,
   "id": "designing-warner",
   "metadata": {},
   "outputs": [],
   "source": [
    "final"
   ]
  },
  {
   "cell_type": "code",
   "execution_count": null,
   "id": "exterior-change",
   "metadata": {},
   "outputs": [],
   "source": [
    "final= final.set_index('gene')\n",
    "final"
   ]
  },
  {
   "cell_type": "code",
   "execution_count": null,
   "id": "changing-default",
   "metadata": {},
   "outputs": [],
   "source": [
    "lib10_cnt[lib10_cnt.ShortName == 'zwf']"
   ]
  },
  {
   "cell_type": "code",
   "execution_count": null,
   "id": "lasting-honolulu",
   "metadata": {},
   "outputs": [],
   "source": [
    "test = vst_d1_results[['mean_CI', 'ci_hits']].merge(final.d1_ci, left_index=True, right_index=True, )\n",
    "test"
   ]
  },
  {
   "cell_type": "code",
   "execution_count": null,
   "id": "nearby-cliff",
   "metadata": {},
   "outputs": [],
   "source": [
    "compare = vst_d1_results.merge(final, left_index=True, right_index=True).reset_index()\n",
    "compare = compare[['index', 'padj', 'ci_padj', 'mean_fitness', 'mean_CI', 'hits', 'ci_hits',\n",
    "                    'd1_fitness_mean', 'd1_ci', 'd1_zscore', 'd1_padj']]\n",
    "compare.columns = ['index', 'method2_padj', 'method2_padj_ci', 'method2_fitness', 'method2_ci', 'method2_hits', \n",
    "                  'method2_ci_hits', 'method1_fitness', 'method1_ci', 'method1_zscore', 'method1_padj']\n",
    "compare['method1_hits'] = compare['method1_padj'] < 0.05\n",
    "compare.sample(10)"
   ]
  },
  {
   "cell_type": "code",
   "execution_count": null,
   "id": "serious-blackjack",
   "metadata": {},
   "outputs": [],
   "source": [
    "compare.method2_hits.sum()"
   ]
  },
  {
   "cell_type": "code",
   "execution_count": null,
   "id": "inside-cursor",
   "metadata": {},
   "outputs": [],
   "source": [
    "fig = px.density_heatmap(compare, x='method1_fitness',y=np.log2(compare.method2_fitness),\n",
    "                        labels= {'method1_fitness': 'Method 1 Fitness (DESeq log2FoldChange)',\n",
    "                                'y': 'log2(Method 2 Fitness)'})\n",
    "fig"
   ]
  },
  {
   "cell_type": "code",
   "execution_count": null,
   "id": "taken-composite",
   "metadata": {},
   "outputs": [],
   "source": [
    "lib10_cnt[lib10_cnt.day == 'd0'].head()"
   ]
  },
  {
   "cell_type": "code",
   "execution_count": null,
   "id": "prostate-disney",
   "metadata": {},
   "outputs": [],
   "source": [
    "lib10_cnt[lib10_cnt.ShortName== 'yneB']"
   ]
  },
  {
   "cell_type": "code",
   "execution_count": null,
   "id": "interpreted-anthony",
   "metadata": {},
   "outputs": [],
   "source": [
    "lib10_cnt[(lib10_cnt.ShortName == 'SL1344_0033') & (lib10_cnt.day == 'd0')].cnt.hist(bins=20)"
   ]
  },
  {
   "cell_type": "code",
   "execution_count": null,
   "id": "vital-concern",
   "metadata": {},
   "outputs": [],
   "source": [
    "x = final[['d1_fitness_mean', 'num_barcodes']].drop_duplicates()\n",
    "x[x.num_barcodes>1].sort_values('num_barcodes')"
   ]
  },
  {
   "cell_type": "code",
   "execution_count": null,
   "id": "valued-obligation",
   "metadata": {},
   "outputs": [],
   "source": [
    "compare"
   ]
  },
  {
   "cell_type": "code",
   "execution_count": null,
   "id": "common-corporation",
   "metadata": {},
   "outputs": [],
   "source": [
    "fig = px.scatter(compare, x='method1_zscore', y=compare['method2_ci'],hover_data=['index'], log_y=True,\n",
    "             template='simple_white', color='method2_ci_hits', symbol='method1_hits',\n",
    "          labels={'method1_fitness': 'log2FC as calculated by DESeq',\n",
    "                 'method1_zscore': 'Method 1 Z-Score',\n",
    "                  'method2_hits': 'Method 2 padj < 0.05',\n",
    "                  'method1_hits': 'Method 1 padj < 0.05',\n",
    "                 'index': 'gene'}, trendline='ols')\n",
    "\n",
    "\n",
    "fig.update_traces(marker=dict(size=12,\n",
    "                              line=dict(width=2,\n",
    "                                        color='DarkSlateGrey')),\n",
    "                  selector=dict(mode='markers'))"
   ]
  },
  {
   "cell_type": "code",
   "execution_count": null,
   "id": "composed-venue",
   "metadata": {},
   "outputs": [],
   "source": [
    "fig = px.scatter(compare, x='method1_fitness', y=np.log2(compare.method2_fitness),hover_data=['index'], \n",
    "           color='method2_hits', symbol = 'method1_hits', template='simple_white', \n",
    "          labels={'method1_fitness': 'log2FC as calculated by DESeq',\n",
    "                 'y': 'log2(Method 2 Fitness)',\n",
    "                  'method2_hits': 'Method 2 padj < 0.05',\n",
    "                  'method1_hits': 'Method 1 padj < 0.05',\n",
    "                 'index': 'gene'})\n",
    "\n",
    "\n",
    "fig.update_traces(marker=dict(size=12,\n",
    "                              line=dict(width=2,\n",
    "                                        color='DarkSlateGrey')),\n",
    "                  selector=dict(mode='markers'))"
   ]
  },
  {
   "cell_type": "code",
   "execution_count": null,
   "id": "dress-residence",
   "metadata": {},
   "outputs": [],
   "source": [
    "compare.method2_ci_hits.sum()"
   ]
  },
  {
   "cell_type": "code",
   "execution_count": null,
   "id": "bearing-carter",
   "metadata": {},
   "outputs": [],
   "source": [
    "fig = px.density_heatmap(compare, x='method1_ci',y='method2_ci')\n",
    "fig"
   ]
  },
  {
   "cell_type": "code",
   "execution_count": null,
   "id": "unlikely-prairie",
   "metadata": {},
   "outputs": [],
   "source": [
    "fig = px.scatter(compare, x='method1_ci', y='method2_ci', color='method2_ci_hits', \n",
    "                 log_x=True, log_y=True, hover_data=['index'], \n",
    "                template='simple_white', \n",
    "                labels={'method1_ci': 'Method 1 CI', 'method2_ci': 'Method 2 CI', \n",
    "                       'method2_ci_hits': 'Method 2 CI padj < 0.05', 'index': 'gene'})\n",
    "fig.update_traces(marker=dict(size=12,\n",
    "                              line=dict(width=2,\n",
    "                                        color='DarkSlateGrey')),\n",
    "                  selector=dict(mode='markers'))\n",
    "fig"
   ]
  },
  {
   "cell_type": "code",
   "execution_count": null,
   "id": "tired-london",
   "metadata": {},
   "outputs": [],
   "source": []
  },
  {
   "cell_type": "code",
   "execution_count": null,
   "id": "treated-thread",
   "metadata": {},
   "outputs": [],
   "source": [
    "vst_fit_d1.sample(10)"
   ]
  },
  {
   "cell_type": "code",
   "execution_count": null,
   "id": "quarterly-evanescence",
   "metadata": {},
   "outputs": [],
   "source": [
    "vst_d1_results"
   ]
  },
  {
   "cell_type": "markdown",
   "id": "suited-vertical",
   "metadata": {},
   "source": [
    "# Analysis"
   ]
  },
  {
   "cell_type": "code",
   "execution_count": null,
   "id": "psychological-bridge",
   "metadata": {},
   "outputs": [],
   "source": [
    "vst_fit_d1.head()"
   ]
  },
  {
   "cell_type": "code",
   "execution_count": null,
   "id": "hired-lafayette",
   "metadata": {},
   "outputs": [],
   "source": [
    "\n",
    "days = ['_d1', '_d2', '_d3', '_d4']\n",
    "\n",
    "fitness_dfs = []\n",
    "ci_dfs = []\n",
    "results_dfs = []\n",
    "wt_fitness = []\n",
    "ssa_ci = []\n",
    "ci_notmelted = []\n",
    "for day in days:\n",
    "    print(day)\n",
    "    vst_fit, vst_ci, results, vst_controls, vst_ssa_ci = get_fitness(vst, annotation_df, day, \n",
    "                                                                        good_samples=good_samples,  hits=0.05)\n",
    "      \n",
    "    df = vst_fit.reset_index().melt( id_vars = ['ShortName'], var_name='sampleID', value_name='Fitness')    \n",
    "    #df['sampleID'] = df['sampleID'].str.replace(day, '')\n",
    "    df['day'] = day.strip('_')\n",
    "    \n",
    "    fitness_dfs.append(df)\n",
    "    \n",
    "    ci_notmelted.append(vst_ci)\n",
    "    df2 = vst_ci.reset_index().melt(id_vars = ['ShortName'], var_name='sampleID', value_name='CI')    \n",
    "    #df2['sampleID'] = df2['sampleID'].str.replace(day, '')\n",
    "    df2['day'] = day.strip('_')\n",
    "    \n",
    "    ci_dfs.append(df2)\n",
    "    \n",
    "    results['day'] = day.strip(\"_\")\n",
    "    results_dfs.append(results)\n",
    "\n",
    "    wt_fitness.append(vst_controls)\n",
    "    ssa_ci.append(vst_ssa_ci)\n",
    "\n",
    "fitness_df = pd.concat(fitness_dfs)\n",
    "ci_df = pd.concat(ci_dfs)\n",
    "results_df = pd.concat(results_dfs)\n",
    "wt_fitness_df = pd.concat(wt_fitness)\n",
    "ssa_ci_df = pd.concat(ssa_ci)\n"
   ]
  },
  {
   "cell_type": "code",
   "execution_count": null,
   "id": "adult-forth",
   "metadata": {},
   "outputs": [],
   "source": [
    "days = ['_d1', '_d2', '_d3', '_d4']\n",
    "\n",
    "rare_fitness_dfs = []\n",
    "rare_ci_dfs = []\n",
    "rare_results_dfs = []\n",
    "rare_wt_fitness = []\n",
    "rare_ssa_ci = []\n",
    "\n",
    "for day in days:\n",
    "    print(day)\n",
    "    vst_fit, vst_ci, results, vst_controls, vst_ssa_ci = get_fitness(rare, annotation_df, 'd1', good_samples=samples, rare=True,  hits=0.05)\n",
    "      \n",
    "    df = vst_fit.reset_index().melt( id_vars = ['ShortName'], var_name='sampleID', value_name='Fitness')    \n",
    "    #df['sampleID'] = df['sampleID'].str.replace(day, '')\n",
    "    df['day'] = day.strip('_')\n",
    "    \n",
    "    fitness_dfs.append(df)\n",
    "    \n",
    "    \n",
    "    df2 = vst_ci.reset_index().melt(id_vars = ['ShortName'], var_name='sampleID', value_name='CI')    \n",
    "    #df2['sampleID'] = df2['sampleID'].str.replace(day, '')\n",
    "    df2['day'] = day.strip('_')\n",
    "    \n",
    "    ci_dfs.append(df2)\n",
    "    \n",
    "    results['day'] = day.strip(\"_\")\n",
    "    results_dfs.append(results)\n",
    "\n",
    "    wt_fitness.append(vst_controls)\n",
    "    ssa_ci.append(vst_ssa_ci)\n",
    "\n",
    "rare_fitness_df = pd.concat(fitness_dfs)\n",
    "rare_ci_df = pd.concat(ci_dfs)\n",
    "rare_results_df = pd.concat(results_dfs)\n",
    "rare_wt_fitness_df = pd.concat(wt_fitness)\n",
    "rare_ssa_ci_df = pd.concat(ssa_ci)"
   ]
  },
  {
   "cell_type": "code",
   "execution_count": null,
   "id": "reverse-baseline",
   "metadata": {},
   "outputs": [],
   "source": [
    "fitness_df.to_csv(Path(\"/Users/ansintsova/git_repos/nguyenb_tnseq/data/28_05_results\")/\"library_10_2.fitness.csv\")\n",
    "ci_df.to_csv(Path(\"/Users/ansintsova/git_repos/nguyenb_tnseq/data/28_05_results\")/\"library_10_2.ci.csv\")\n",
    "wt_fitness_df.to_csv(Path(\"/Users/ansintsova/git_repos/nguyenb_tnseq/data/28_05_results\")/\"library_10_2.wt_fitness.csv\")\n",
    "ssa_ci_df.to_csv(Path(\"/Users/ansintsova/git_repos/nguyenb_tnseq/data/28_05_results\")/\"library_10_2.ssa_ci.csv\")"
   ]
  },
  {
   "cell_type": "code",
   "execution_count": null,
   "id": "under-endorsement",
   "metadata": {},
   "outputs": [],
   "source": [
    "results_df = results_df.reset_index()\n",
    "rare_results_df = rare_results_df.reset_index()"
   ]
  },
  {
   "cell_type": "code",
   "execution_count": null,
   "id": "czech-canada",
   "metadata": {},
   "outputs": [],
   "source": [
    "deseq1"
   ]
  },
  {
   "cell_type": "code",
   "execution_count": null,
   "id": "characteristic-telephone",
   "metadata": {},
   "outputs": [],
   "source": [
    "rd1 = results_df[results_df.day == 'd1'].merge(rare_results_df[rare_results_df.day == 'd1'], on='ShortName').merge(deseq1, on='ShortName')\n",
    "rd1 = rd1.merge(vst_inoculum_cnts, on='ShortName')\n",
    "rd1['median_inoculum'] = 2**rd1['median_inoculum_value']\n",
    "rd1.columns= [c.replace('_x', '_vst').replace(\"_y\", '_rare') for c in rd1.columns]\n",
    "rd1['deseq_hit'] = rd1.ShortName.apply(lambda x: True if x in deseqhits else False)\n",
    "rd1['rareDeseq'] = rd1['deseq_hit'].astype(int)*3 + rd1['hits_rare'].astype(int)\n",
    "rd1['rareDeseq'] = rd1['rareDeseq'].replace({0: 'Not a hit', 1: 'RARE hit', 3: 'DESEQ hit', 4: 'DESEQ and RARE hit'})\n",
    "rd1['vstDeseq'] = rd1['deseq_hit'].astype(int)*3 + rd1['hits_vst'].astype(int)\n",
    "rd1['vstDeseq'] = rd1['vstDeseq'].replace({0: 'Not a hit', 1: 'VST hit', 3: 'DESEQ hit', 4: 'DESEQ and VST hit'})\n",
    "fig6 = px.scatter(x=rd1.median_fitness_rare, template=\"simple_white\",\n",
    "                 labels = {'x': 'Median Fitness','y':'log2FoldChange'},\n",
    "           y=rd1.log2FoldChange, color=rd1.rareDeseq,  hover_data=[rd1.ShortName], )\n",
    "#fig.update_xaxes(range=[-10, 5])\n",
    "fig6"
   ]
  },
  {
   "cell_type": "code",
   "execution_count": null,
   "id": "cardiovascular-drama",
   "metadata": {},
   "outputs": [],
   "source": [
    "fig5 = px.scatter(x=rd1.median_fitness_vst, \n",
    "           y=rd1.log2FoldChange, color=rd1.vstDeseq,  hover_data=[rd1.ShortName], template='simple_white',\n",
    "                labels = {'x': 'Median Fitness','y':'log2FoldChange'},)\n",
    "#fig.update_xaxes(range=[-10, 5])\n",
    "fig5"
   ]
  },
  {
   "cell_type": "code",
   "execution_count": null,
   "id": "listed-titanium",
   "metadata": {},
   "outputs": [],
   "source": [
    "rd1.head()"
   ]
  },
  {
   "cell_type": "code",
   "execution_count": null,
   "id": "static-revolution",
   "metadata": {},
   "outputs": [],
   "source": [
    "fig1 = px.scatter(rd1, x='median_fitness_vst', y='padj_vst', color='hits_vst',\n",
    "                color_discrete_map={True: px.colors.qualitative.Plotly[1], False:px.colors.qualitative.Plotly[0]}, size='median_inoculum',\n",
    "                  labels= {'median_fitness_vst': 'Median Fitness', 'padj_vst': 'Adjusted p-value',\n",
    "                           'hits_vst': 'Adjusted p-vaue < 0.05'},\n",
    "                  template = 'simple_white',\n",
    "                  title = 'Fitness (VST Data)',\n",
    "                      log_y=True,  hover_data={'gene':rd1.ShortName})\n",
    "fig1.update_yaxes(autorange=\"reversed\")\n",
    "\n",
    "\n",
    "fig1.show()"
   ]
  },
  {
   "cell_type": "code",
   "execution_count": null,
   "id": "expired-testament",
   "metadata": {},
   "outputs": [],
   "source": [
    "fig2 = px.scatter(rd1, x='median_fitness_rare', y='padj_rare', color='hits_rare',\n",
    "                color_discrete_map={True: px.colors.qualitative.Plotly[1], False:px.colors.qualitative.Plotly[0]}, size='median_inoculum',\n",
    "                  labels= {'median_fitness_rare': 'Median Fitness', 'padj_rare': 'Adjusted p-value',\n",
    "                           'hits_rare': 'Adjusted p-vaue < 0.05'},\n",
    "                  template = 'simple_white',\n",
    "                  title = 'Fitness (Rarefied Data)',\n",
    "                      log_y=True,  hover_data={'gene':rd1.ShortName})\n",
    "fig2.update_yaxes(autorange=\"reversed\")\n",
    "fig2.show()"
   ]
  },
  {
   "cell_type": "code",
   "execution_count": null,
   "id": "alternate-german",
   "metadata": {},
   "outputs": [],
   "source": [
    "rd1.head()"
   ]
  },
  {
   "cell_type": "code",
   "execution_count": null,
   "id": "durable-nursing",
   "metadata": {},
   "outputs": [],
   "source": [
    "fig3 = px.scatter(rd1, x='median_CI_rare', y='ci_padj_rare', color='ci_hits_rare',\n",
    "                color_discrete_map={True: px.colors.qualitative.D3[1], False:px.colors.qualitative.D3[0]}, size='median_inoculum',\n",
    "                  labels= {'median_CI_rare': 'Median CI', 'ci_padj_rare': 'Adjusted p-value',\n",
    "                           'ci_hits_rare': 'Adjusted p-vaue < 0.05'},\n",
    "                  title = 'Comptetive Indices (Rarefied Data)',\n",
    "                  template = 'simple_white',\n",
    "                      log_y=True,  hover_data={'gene':rd1.ShortName})\n",
    "fig3.update_yaxes(autorange=\"reversed\")\n",
    "fig3.show()"
   ]
  },
  {
   "cell_type": "code",
   "execution_count": null,
   "id": "uniform-staff",
   "metadata": {},
   "outputs": [],
   "source": [
    "((rd1['ci_hits_vst'].astype(int)+rd1['ci_hits_rare'].astype(int))==2).sum()"
   ]
  },
  {
   "cell_type": "code",
   "execution_count": null,
   "id": "italic-environment",
   "metadata": {},
   "outputs": [],
   "source": [
    "311/rd1['ci_hits_vst'].sum()"
   ]
  },
  {
   "cell_type": "code",
   "execution_count": null,
   "id": "documentary-administrator",
   "metadata": {},
   "outputs": [],
   "source": [
    "fig4 = px.scatter(rd1, x='median_CI_vst', y='ci_padj_vst', color='ci_hits_vst',\n",
    "                color_discrete_map={True: px.colors.qualitative.D3[1], False:px.colors.qualitative.D3[0]}, size='median_inoculum',\n",
    "                  labels= {'median_CI_vst': 'Median CI', 'ci_padj_vst': 'Adjusted p-value',\n",
    "                           'ci_hits_vst': 'Adjusted p-vaue < 0.05'},\n",
    "                  template = 'simple_white',\n",
    "                  title = 'Comptetive Indices (VST Data)',\n",
    "                      log_y=True,  hover_data={'gene':rd1.ShortName})\n",
    "fig4.update_yaxes(autorange=\"reversed\")\n",
    "fig4.show()"
   ]
  },
  {
   "cell_type": "code",
   "execution_count": null,
   "id": "novel-success",
   "metadata": {},
   "outputs": [],
   "source": [
    "with open('/Users/ansintsova/Documents/SushiLab/31-05-2021-Lab-Meeting/volcanos.html', 'a') as f:\n",
    "    f.write(fig1.to_html(full_html=False, include_plotlyjs='cdn'))\n",
    "    f.write(fig2.to_html(full_html=False, include_plotlyjs='cdn'))\n",
    "    f.write(fig3.to_html(full_html=False, include_plotlyjs='cdn'))\n",
    "    f.write(fig4.to_html(full_html=False, include_plotlyjs='cdn'))\n",
    "    f.write(fig5.to_html(full_html=False, include_plotlyjs='cdn'))\n",
    "    f.write(fig6.to_html(full_html=False, include_plotlyjs='cdn'))"
   ]
  },
  {
   "cell_type": "markdown",
   "id": "recognized-cathedral",
   "metadata": {},
   "source": [
    "## Visualize Fitness Results : Day 1\n",
    "\n",
    "### VST\n"
   ]
  },
  {
   "cell_type": "code",
   "execution_count": null,
   "id": "retired-sewing",
   "metadata": {},
   "outputs": [],
   "source": [
    "fig = px.scatter(vst_fit_d1, x='median_fitness', y='padj',color='hits', size='median_inoculum_value', \n",
    "                 log_y=True, log_x=True, hover_data=[vst_fit_d1.index, vst_fit_d1.median_inoculum_value], \n",
    "                color_discrete_sequence=['blue', \"red\"],)\n",
    "fig.update_yaxes(autorange=\"reversed\")\n",
    "fig.show()"
   ]
  },
  {
   "cell_type": "code",
   "execution_count": null,
   "id": "stretch-panama",
   "metadata": {},
   "outputs": [],
   "source": [
    "fig = px.scatter(rare_fit_d1, x='median_fitness', y='padj',color='hits', size='median_inoculum_value', \n",
    "                 log_y=True, log_x=True, hover_data=[rare_fit_d1.index, rare_fit_d1.median_inoculum_value], \n",
    "                color_discrete_sequence=[\"red\", \"blue\"])\n",
    "fig.update_yaxes(autorange=\"reversed\")\n",
    "fig.show()"
   ]
  },
  {
   "cell_type": "markdown",
   "id": "revised-witness",
   "metadata": {},
   "source": [
    "## Visualize CI Results :\n",
    "\n",
    "### VST"
   ]
  },
  {
   "cell_type": "code",
   "execution_count": null,
   "id": "informal-hampshire",
   "metadata": {},
   "outputs": [],
   "source": [
    "fig = px.scatter(vst_ci_d1, x='median_CI', y='ci_padj',color='hits', \n",
    "                 log_y=True, log_x=True, hover_data=[vst_ci_d1.index], \n",
    "                color_discrete_sequence=['blue', \"red\"],)\n",
    "fig.update_yaxes(autorange=\"reversed\")\n",
    "fig.show()"
   ]
  },
  {
   "cell_type": "markdown",
   "id": "technical-strength",
   "metadata": {},
   "source": [
    "### Rarefied"
   ]
  },
  {
   "cell_type": "code",
   "execution_count": null,
   "id": "blank-reunion",
   "metadata": {},
   "outputs": [],
   "source": [
    "fig = px.scatter(rare_ci_d1, x='median_CI', y='ci_padj',color='hits', \n",
    "                 log_y=True, log_x=True, hover_data=[rare_ci_d1.index], \n",
    "                color_discrete_sequence=['blue', \"red\"],)\n",
    "fig.update_yaxes(autorange=\"reversed\")\n",
    "fig.show()"
   ]
  },
  {
   "cell_type": "markdown",
   "id": "roman-mirror",
   "metadata": {},
   "source": [
    "### Visualize Fitness Results : Day 2\n",
    "## VST"
   ]
  },
  {
   "cell_type": "code",
   "execution_count": null,
   "id": "corporate-maria",
   "metadata": {},
   "outputs": [],
   "source": [
    "fig = px.scatter(vst_fit_d1, x='median_fitness', y='padj',color='hits', size='median_inoculum_value', \n",
    "                 log_y=True, log_x=True, hover_data=[vst_fit_d1.index, vst_fit_d1.median_inoculum_value], \n",
    "                color_discrete_sequence=['blue', \"red\"],)\n",
    "fig.update_yaxes(autorange=\"reversed\")\n",
    "fig.show()"
   ]
  },
  {
   "cell_type": "code",
   "execution_count": null,
   "id": "derived-citizenship",
   "metadata": {},
   "outputs": [],
   "source": []
  },
  {
   "cell_type": "code",
   "execution_count": null,
   "id": "ethical-denmark",
   "metadata": {},
   "outputs": [],
   "source": [
    "sample_info = ci_df.sampleID.str.split(\"_\", expand=True)\n",
    "sample_info.columns = ['mouse', 'dnaid', 'experiment']"
   ]
  },
  {
   "cell_type": "code",
   "execution_count": null,
   "id": "fifty-jefferson",
   "metadata": {},
   "outputs": [],
   "source": [
    "ci= ci_df.merge(sample_info, left_index=True, right_index=True)"
   ]
  },
  {
   "cell_type": "code",
   "execution_count": null,
   "id": "legal-operations",
   "metadata": {},
   "outputs": [],
   "source": [
    "ci.sample(5)"
   ]
  },
  {
   "cell_type": "code",
   "execution_count": null,
   "id": "chemical-space",
   "metadata": {},
   "outputs": [],
   "source": [
    "?ci.pivot"
   ]
  },
  {
   "cell_type": "code",
   "execution_count": null,
   "id": "wooden-acoustic",
   "metadata": {},
   "outputs": [],
   "source": [
    "sdf = ci[['sampleID', 'mouse', 'day', 'dnaid', 'experiment']].drop_duplicates().set_index('sampleID')\n",
    "sdf"
   ]
  },
  {
   "cell_type": "code",
   "execution_count": null,
   "id": "celtic-drive",
   "metadata": {},
   "outputs": [],
   "source": [
    "edf = pd.concat(ci_notmelted, axis=1)"
   ]
  },
  {
   "cell_type": "code",
   "execution_count": null,
   "id": "expected-firewall",
   "metadata": {},
   "outputs": [],
   "source": [
    "edf.head()"
   ]
  },
  {
   "cell_type": "code",
   "execution_count": null,
   "id": "criminal-spending",
   "metadata": {},
   "outputs": [],
   "source": [
    "#import skmisc\n",
    "from matplotlib.patches import Ellipse\n",
    "from sklearn.decomposition import PCA\n",
    "from matplotlib.patches import Ellipse\n",
    "from sklearn.decomposition import PCA\n",
    "\n",
    "\"\"\"\n",
    "Plotting PCA elipses:\n",
    "__author__:\n",
    "\"\"\"\n",
    "\n",
    "def plot_point_cov(points, nstd=2, ax=None, **kwargs):\n",
    "    \"\"\"\n",
    "    Plots an `nstd` sigma ellipse based on the mean and covariance of a point\n",
    "    \"cloud\" (points, an Nx2 array).\n",
    "    Parameters\n",
    "    ----------\n",
    "        points : An Nx2 array of the data points.\n",
    "        nstd : The radius of the ellipse in numbers of standard deviations.\n",
    "            Defaults to 2 standard deviations.\n",
    "        ax : The axis that the ellipse will be plotted on. Defaults to the\n",
    "            current axis.\n",
    "        Additional keyword arguments are pass on to the ellipse patch.\n",
    "    Returns\n",
    "    -------\n",
    "        A matplotlib ellipse artist\n",
    "    \"\"\"\n",
    "    pos = points.mean(axis=0)\n",
    "    cov = np.cov(points, rowvar=False)\n",
    "    return plot_cov_ellipse(cov, pos, nstd, ax, **kwargs)\n",
    "\n",
    "\n",
    "def plot_cov_ellipse(cov, pos, nstd=2, ax=None, **kwargs):\n",
    "    \"\"\"\n",
    "    Plots an `nstd` sigma error ellipse based on the specified covariance\n",
    "    matrix (`cov`). Additional keyword arguments are passed on to the\n",
    "    ellipse patch artist.\n",
    "    Parameters\n",
    "    ----------\n",
    "        cov : The 2x2 covariance matrix to base the ellipse on\n",
    "        pos : The location of the center of the ellipse. Expects a 2-element\n",
    "            sequence of [x0, y0].\n",
    "        nstd : The radius of the ellipse in numbers of standard deviations.\n",
    "            Defaults to 2 standard deviations.\n",
    "        ax : The axis that the ellipse will be plotted on. Defaults to the\n",
    "            current axis.\n",
    "        Additional keyword arguments are pass on to the ellipse patch.\n",
    "    Returns\n",
    "    -------\n",
    "        A matplotlib ellipse artist\n",
    "    \"\"\"\n",
    "    def eigsorted(cov):\n",
    "        vals, vecs = np.linalg.eigh(cov)\n",
    "        order = vals.argsort()[::-1]\n",
    "        return vals[order], vecs[:,order]\n",
    "\n",
    "    if ax is None:\n",
    "        ax = plt.gca()\n",
    "\n",
    "    vals, vecs = eigsorted(cov)\n",
    "    theta = np.degrees(np.arctan2(*vecs[:,0][::-1]))\n",
    "\n",
    "    # Width and height are \"full\" widths, not radius\n",
    "    width, height = 2 * nstd * np.sqrt(vals)\n",
    "    ellip = Ellipse(xy=pos, width=width, height=height, angle=theta, **kwargs)\n",
    "\n",
    "    ax.add_artist(ellip)\n",
    "    return ellip\n",
    "#____________________________________________________\n",
    "\n",
    "\n",
    "\n",
    "\n",
    "def plotPCA(pDf, pc1_var, pc2_var, colorby, col, nameby=\"\", el=False):\n",
    "    sns.set_style(\"ticks\")\n",
    "    sns.set_context(\"notebook\", font_scale=2.2)\n",
    "    group = pDf[colorby].unique()\n",
    "    assert len(group) <= len(col)\n",
    "    fig = plt.figure(figsize=(8, 8))\n",
    "    for g, c in zip(group, col):\n",
    "        df = pDf[pDf[colorby] == g]\n",
    "        x, y = df[[\"PC1\"]].values, df[[\"PC2\"]].values\n",
    "        ax = plt.scatter(x, y, c=c, s=150, label=g)\n",
    "        if el:\n",
    "            pts = np.asarray([[float(a), float(b)] for a, b in zip(x, y)])\n",
    "            plot_point_cov(pts, nstd=2, alpha=0.1, color=c)\n",
    "        if nameby:\n",
    "            labels = df[nameby]\n",
    "            for label, pc1, pc2 in zip(labels, x, y):\n",
    "                plt.annotate(label, xy=(pc1, pc2), xytext=(-5, 7), textcoords=\"offset points\",fontsize=14)\n",
    "        plt.xlabel('Principal Component 1, {} %'.format(pc1_var), )\n",
    "        plt.ylabel('Principal Component 2, {} %'.format(pc2_var), )\n",
    "        #plt.xticks(fontsize=16)\n",
    "        #plt.yticks(fontsize=16)\n",
    "        plt.legend(frameon=True)\n",
    "    return fig\n",
    "\n",
    "def find_pc1_pc2(df, meta):\n",
    "    df = df.T\n",
    "    pca = PCA(n_components=2)\n",
    "    principalComponents = pca.fit_transform(df)\n",
    "    \n",
    "    pDf = (pd.DataFrame(data=principalComponents, columns=['PC1', 'PC2'])\n",
    "           .set_index(df.index))\n",
    "    pc1_var = round(pca.explained_variance_ratio_[0] * 100, 2)\n",
    "    pc2_var = round(pca.explained_variance_ratio_[1] * 100, 2)\n",
    "    pDf2 = pDf.merge(meta, left_index=True, right_index=True)\n",
    "    return pDf2, pc1_var, pc2_var"
   ]
  },
  {
   "cell_type": "code",
   "execution_count": null,
   "id": "municipal-raleigh",
   "metadata": {},
   "outputs": [],
   "source": [
    "pDf, pc1, pc2 = find_pc1_pc2(edf, sdf)"
   ]
  },
  {
   "cell_type": "code",
   "execution_count": null,
   "id": "connected-decline",
   "metadata": {},
   "outputs": [],
   "source": [
    "pDf"
   ]
  },
  {
   "cell_type": "code",
   "execution_count": null,
   "id": "caring-belly",
   "metadata": {},
   "outputs": [],
   "source": [
    "pca = px.scatter(pDf, x='PC1', y='PC2', color='mouse', symbol='day', \n",
    "          color_discrete_sequence= px.colors.qualitative.Dark24, \n",
    "                hover_data=[pDf.experiment], )\n",
    "\n",
    "\n",
    "pca.update_traces(marker=dict(size=14,\n",
    "                              line=dict(width=2,\n",
    "                                        color='DarkSlateGrey')),\n",
    "                  selector=dict(mode='markers')\n",
    "                 )"
   ]
  },
  {
   "cell_type": "code",
   "execution_count": null,
   "id": "automated-event",
   "metadata": {},
   "outputs": [],
   "source": [
    "pca.write_html(\"/Users/ansintsova/Documents/SushiLab/31-05-2021-Lab-Meeting/PCA.html\")"
   ]
  },
  {
   "cell_type": "code",
   "execution_count": null,
   "id": "matched-software",
   "metadata": {},
   "outputs": [],
   "source": [
    "sdf = pd.Series(fdf.columns).str.split('_', expand = True)\n",
    "sdf.columns = ['mouse', 'day', 'dnaid', 'experiment']\n",
    "sdf = pd.DataFrame(fdf.columns).merge(sdf, left_index=True, right_index=True).set_index(0)"
   ]
  },
  {
   "cell_type": "code",
   "execution_count": null,
   "id": "deadly-millennium",
   "metadata": {},
   "outputs": [],
   "source": [
    "pDf, pc1, pc2 = find_pc1_pc2(fdf, sdf)"
   ]
  },
  {
   "cell_type": "code",
   "execution_count": null,
   "id": "nominated-antigua",
   "metadata": {},
   "outputs": [],
   "source": [
    "?px.scatter"
   ]
  },
  {
   "cell_type": "code",
   "execution_count": null,
   "id": "rocky-jerusalem",
   "metadata": {},
   "outputs": [],
   "source": []
  }
 ],
 "metadata": {
  "kernelspec": {
   "display_name": "Python 3",
   "language": "python",
   "name": "python3"
  },
  "language_info": {
   "codemirror_mode": {
    "name": "ipython",
    "version": 3
   },
   "file_extension": ".py",
   "mimetype": "text/x-python",
   "name": "python",
   "nbconvert_exporter": "python",
   "pygments_lexer": "ipython3",
   "version": "3.6.6"
  }
 },
 "nbformat": 4,
 "nbformat_minor": 5
}
