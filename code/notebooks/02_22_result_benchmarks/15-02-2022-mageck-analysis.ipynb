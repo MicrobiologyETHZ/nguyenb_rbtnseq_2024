{
 "cells": [
  {
   "cell_type": "code",
   "execution_count": null,
   "metadata": {
    "ExecuteTime": {
     "end_time": "2022-02-15T12:20:19.279020Z",
     "start_time": "2022-02-15T12:20:16.450238Z"
    }
   },
   "outputs": [],
   "source": [
    "# %load ../snippets/basic_settings.py\n",
    "import pandas as pd\n",
    "import numpy as np\n",
    "import matplotlib.pyplot as plt\n",
    "import os\n",
    "from pathlib import Path\n",
    "import seaborn as sns\n",
    "import sys\n",
    "\n",
    "\n",
    "sns.set_context(\"notebook\", font_scale=1.1)\n",
    "pd.set_option(\"display.max_columns\", 100)\n",
    "pd.set_option(\"display.max_rows\", 100)\n",
    "plt.rcParams[\"figure.figsize\"] = (16, 12)\n",
    "plt.rcParams['savefig.dpi'] = 200\n",
    "plt.rcParams['figure.autolayout'] = False\n",
    "plt.rcParams['axes.labelsize'] = 18\n",
    "plt.rcParams['axes.titlesize'] = 20\n",
    "plt.rcParams['font.size'] = 16\n",
    "plt.rcParams['lines.linewidth'] = 2.0\n",
    "plt.rcParams['lines.markersize'] = 8\n",
    "plt.rcParams['legend.fontsize'] = 14\n",
    "plt.rcParams['text.usetex'] = False  # True activates latex output in fonts!\n",
    "#pd.set_option('display.float_format', lambda x: '{:,.2f}'.format(x))"
   ]
  },
  {
   "cell_type": "markdown",
   "metadata": {
    "ExecuteTime": {
     "end_time": "2022-02-15T12:42:57.567615Z",
     "start_time": "2022-02-15T12:42:57.564280Z"
    }
   },
   "source": [
    "# Loading metadata"
   ]
  },
  {
   "cell_type": "code",
   "execution_count": null,
   "metadata": {
    "ExecuteTime": {
     "end_time": "2022-02-15T12:45:59.032964Z",
     "start_time": "2022-02-15T12:45:59.027388Z"
    }
   },
   "outputs": [],
   "source": [
    "root = Path(\"/nfs/nas22/fs2202/biol_micro_bioinf_nccr/hardt/nguyenb/tnseq\")\n",
    "dataDir = root/\"scratch/08_21/counts/\"\n",
    "controls_file = root/\"data/metadata/controls.txt\"\n",
    "outDir = root/\"scratch/02_22_mageck\"\n",
    "metafile = root/\"scratch/08_21/complete_metadata.tsv\""
   ]
  },
  {
   "cell_type": "code",
   "execution_count": null,
   "metadata": {
    "ExecuteTime": {
     "end_time": "2022-02-15T12:45:00.686181Z",
     "start_time": "2022-02-15T12:45:00.623415Z"
    }
   },
   "outputs": [],
   "source": [
    "meat = pd.read_table(metafile, index_col=0, header=None, \n",
    "                     names=['library', 'experiment', 'mouse', 'day', 'tissue', 'dnaid', 'sampleID'])\n",
    "meat['batch'] = meat['experiment'] + '_' + meat['dnaid']\n"
   ]
  },
  {
   "cell_type": "code",
   "execution_count": null,
   "metadata": {
    "ExecuteTime": {
     "end_time": "2022-02-15T12:58:54.605221Z",
     "start_time": "2022-02-15T12:58:54.602067Z"
    }
   },
   "outputs": [],
   "source": [
    "# Get good samples from 20-01-2022-creating-test-data-for-mageck"
   ]
  },
  {
   "cell_type": "code",
   "execution_count": null,
   "metadata": {
    "ExecuteTime": {
     "end_time": "2022-02-15T13:05:09.714020Z",
     "start_time": "2022-02-15T13:05:09.201298Z"
    }
   },
   "outputs": [],
   "source": [
    "%store -r good_samples\n",
    "%store -r clean_df"
   ]
  },
  {
   "cell_type": "code",
   "execution_count": null,
   "metadata": {
    "ExecuteTime": {
     "end_time": "2022-02-15T12:59:13.701595Z",
     "start_time": "2022-02-15T12:59:13.693450Z"
    }
   },
   "outputs": [],
   "source": [
    "meat = meat[meat.sampleID.isin(good_samples)]"
   ]
  },
  {
   "cell_type": "markdown",
   "metadata": {},
   "source": [
    "# Write out control barcodes"
   ]
  },
  {
   "cell_type": "code",
   "execution_count": null,
   "metadata": {
    "ExecuteTime": {
     "end_time": "2022-02-15T13:07:59.224686Z",
     "start_time": "2022-02-15T13:07:59.201632Z"
    }
   },
   "outputs": [],
   "source": [
    "negCntrl = clean_df[clean_df.phenotype == 'wt'].barcode.unique()\n",
    "negCntrl\n",
    "with open(outDir/'control-sgrna.txt', 'w') as fc:\n",
    "    for c in negCntrl:\n",
    "        fc.write(f\"{c}\\n\")"
   ]
  },
  {
   "cell_type": "markdown",
   "metadata": {},
   "source": [
    "# Write out batch and count files"
   ]
  },
  {
   "cell_type": "code",
   "execution_count": null,
   "metadata": {
    "ExecuteTime": {
     "end_time": "2022-02-15T13:14:03.730124Z",
     "start_time": "2022-02-15T13:14:03.724539Z"
    }
   },
   "outputs": [],
   "source": [
    "def prepare_mageck_dataset(clean_df, meta_df, library):\n",
    "    batch_file = outDir/f\"{library}_batch.txt\"\n",
    "    count_file = outDir/f\"{library}_count.txt\"\n",
    "    batch_df = meta_df[meta_df.library == library][['sampleID', 'batch', 'day']].sort_values(['day', 'batch'])\n",
    "    batch_df.to_csv(batch_file, index=False, sep='\\t')\n",
    "    magDf = clean_df[clean_df.library == library]\n",
    "    magDf2 = magDf[['barcode', 'ShortName', 'barcode_cnt', 'sampleID']]\n",
    "    magDf2 = (magDf2.pivot(index=['barcode', 'ShortName'], columns='sampleID', values = 'barcode_cnt')\n",
    "         .reset_index().rename({'ShortName': 'gene'}, axis=1)\n",
    "          .fillna(0))\n",
    "    magDf2.to_csv(count_file, index=False, sep='\\t')\n",
    "    return batch_file, count_file"
   ]
  },
  {
   "cell_type": "code",
   "execution_count": null,
   "metadata": {
    "ExecuteTime": {
     "end_time": "2022-02-15T13:14:23.213616Z",
     "start_time": "2022-02-15T13:14:21.737576Z"
    }
   },
   "outputs": [],
   "source": [
    "libraries = {}\n",
    "for library, g in meat.groupby('library'):\n",
    "    print(library)\n",
    "    libraries[library] = prepare_mageck_dataset(clean_df, meat, library)"
   ]
  },
  {
   "cell_type": "code",
   "execution_count": null,
   "metadata": {},
   "outputs": [],
   "source": [
    "# run batch correction if needed\n",
    "def prepare_mageck_dataset(clean_df, meta_df, library):\n",
    "    batch_file = outDir/f\"{library}_batch.txt\"\n",
    "    count_file = outDir/f\"{library}_count.txt\"\n",
    "    batch_df = meta_df[meta_df.library == library][['sampleID', 'batch', 'day']].sort_values(['day', 'batch'])\n",
    "    batch_df.to_csv(batch_file, index=False, sep='\\t')\n",
    "    magDf = clean_df[clean_df.library == library]\n",
    "    magDf2 = magDf[['barcode', 'ShortName', 'barcode_cnt', 'sampleID']]\n",
    "    magDf2 = (magDf2.pivot(index=['barcode', 'ShortName'], columns='sampleID', values = 'barcode_cnt')\n",
    "         .reset_index().rename({'ShortName': 'gene'}, axis=1)\n",
    "          .fillna(0))\n",
    "    magDf2.to_csv(count_file, index=False, sep='\\t')\n",
    "    return batch_file, count_file\n",
    "\n",
    "\n",
    "def run_command(args):\n",
    "    \"\"\"Run command, transfer stdout/stderr\"\"\"\n",
    "    result = subprocess.run(args)\n",
    "    try:\n",
    "        result.check_returncode()\n",
    "    except subprocess.CalledProcessError as e:\n",
    "        raise e\n",
    "        \n",
    "\n",
    "def batch_correct(outDir, library,  r_path):\n",
    "    count_path = outDir / f\"{library}_count.txt\"\n",
    "    batch_path = outDir / f\"{library}_batch.txt\"\n",
    "    cmd = f'Rscript {r_path} {count_path} {batch_path} {library} {outDir}'\n",
    "    print(cmd)\n",
    "    r = run_command(cmd.split())\n",
    "\n",
    "\n",
    "\n",
    "def get_contrast_samples(library_df, treat_col = 'day', treatment='d1', control='d0', sampleID = 'sampleID'):\n",
    "    controls = \",\".join(library_df[library_df[treat_col] == control].sampleID.unique())\n",
    "    treats = \",\".join(library_df[library_df[treat_col] == treatment].sampleID.unique())\n",
    "    return controls, treats\n",
    "\n",
    "\n",
    "\n",
    "all_contrasts = {lib:{} for lib in meat.library.unique()}\n",
    "for library in meat.library.unique():\n",
    "    for day in ['d1', 'd2', 'd3', 'd4']:\n",
    "        all_contrasts[library][day] = get_contrast_samples(meat[meat.library == library], 'day', day)\n",
    "count_file = outDir/\"library_14_2_count_batchcorrected.txt\"\n",
    "treated = all_contrasts['library_14_2']['d1'][1]\n",
    "controls = all_contrasts['library_14_2']['d1'][0]\n",
    "control_barcode_file = outDir/'control-sgrna.txt'\n",
    "library=\"library_14_2\"\n",
    "cmd = f\"mageck test -k {count_file} -t {treated} -c {controls}  -n {outDir/library} --control-sgrna {control_barcode_file}  --normcounts-to-file\"\n"
   ]
  },
  {
   "cell_type": "code",
   "execution_count": null,
   "metadata": {},
   "outputs": [],
   "source": [
    "# run MAGeCK"
   ]
  }
 ],
 "metadata": {
  "kernelspec": {
   "display_name": "Python 3",
   "language": "python",
   "name": "python3"
  },
  "language_info": {
   "codemirror_mode": {
    "name": "ipython",
    "version": 3
   },
   "file_extension": ".py",
   "mimetype": "text/x-python",
   "name": "python",
   "nbconvert_exporter": "python",
   "pygments_lexer": "ipython3",
   "version": "3.6.6"
  },
  "toc": {
   "base_numbering": 1,
   "nav_menu": {},
   "number_sections": true,
   "sideBar": true,
   "skip_h1_title": false,
   "title_cell": "Table of Contents",
   "title_sidebar": "Contents",
   "toc_cell": false,
   "toc_position": {},
   "toc_section_display": true,
   "toc_window_display": true
  }
 },
 "nbformat": 4,
 "nbformat_minor": 4
}
