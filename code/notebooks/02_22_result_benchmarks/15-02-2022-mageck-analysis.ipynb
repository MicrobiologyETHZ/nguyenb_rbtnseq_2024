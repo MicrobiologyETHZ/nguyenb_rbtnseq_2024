{
 "cells": [
  {
   "cell_type": "code",
   "execution_count": null,
   "metadata": {
    "ExecuteTime": {
     "end_time": "2022-02-16T13:13:58.272670Z",
     "start_time": "2022-02-16T13:13:58.261550Z"
    }
   },
   "outputs": [],
   "source": [
    "# %load ../snippets/basic_settings.py\n",
    "import pandas as pd\n",
    "import numpy as np\n",
    "import matplotlib.pyplot as plt\n",
    "import os\n",
    "from pathlib import Path\n",
    "import seaborn as sns\n",
    "import sys\n",
    "import subprocess \n",
    "\n",
    "\n",
    "sns.set_context(\"notebook\", font_scale=1.1)\n",
    "pd.set_option(\"display.max_columns\", 100)\n",
    "pd.set_option(\"display.max_rows\", 100)\n",
    "plt.rcParams[\"figure.figsize\"] = (16, 12)\n",
    "plt.rcParams['savefig.dpi'] = 200\n",
    "plt.rcParams['figure.autolayout'] = False\n",
    "plt.rcParams['axes.labelsize'] = 18\n",
    "plt.rcParams['axes.titlesize'] = 20\n",
    "plt.rcParams['font.size'] = 16\n",
    "plt.rcParams['lines.linewidth'] = 2.0\n",
    "plt.rcParams['lines.markersize'] = 8\n",
    "plt.rcParams['legend.fontsize'] = 14\n",
    "plt.rcParams['text.usetex'] = False  # True activates latex output in fonts!\n",
    "#pd.set_option('display.float_format', lambda x: '{:,.2f}'.format(x))"
   ]
  },
  {
   "cell_type": "markdown",
   "metadata": {
    "ExecuteTime": {
     "end_time": "2022-02-15T12:42:57.567615Z",
     "start_time": "2022-02-15T12:42:57.564280Z"
    }
   },
   "source": [
    "# Loading metadata"
   ]
  },
  {
   "cell_type": "code",
   "execution_count": null,
   "metadata": {
    "ExecuteTime": {
     "end_time": "2022-02-16T12:46:56.211219Z",
     "start_time": "2022-02-16T12:46:56.206709Z"
    }
   },
   "outputs": [],
   "source": [
    "root = Path(\"/nfs/nas22/fs2202/biol_micro_bioinf_nccr/hardt/nguyenb/tnseq\")\n",
    "dataDir = root/\"scratch/08_21/counts/\"\n",
    "controls_file = root/\"data/metadata/controls.txt\"\n",
    "outDir = root/\"scratch/02_22_mageck\"\n",
    "metafile = root/\"scratch/08_21/complete_metadata.tsv\""
   ]
  },
  {
   "cell_type": "code",
   "execution_count": null,
   "metadata": {
    "ExecuteTime": {
     "end_time": "2022-02-16T12:46:56.318012Z",
     "start_time": "2022-02-16T12:46:56.213940Z"
    }
   },
   "outputs": [],
   "source": [
    "meat = pd.read_table(metafile, index_col=0, header=None, \n",
    "                     names=['library', 'experiment', 'mouse', 'day', 'tissue', 'dnaid', 'sampleID'])\n",
    "meat['batch'] = meat['experiment'] + '_' + meat['dnaid']"
   ]
  },
  {
   "cell_type": "code",
   "execution_count": null,
   "metadata": {
    "ExecuteTime": {
     "end_time": "2022-02-15T12:58:54.605221Z",
     "start_time": "2022-02-15T12:58:54.602067Z"
    }
   },
   "outputs": [],
   "source": [
    "# Get good samples from 20-01-2022-creating-test-data-for-mageck"
   ]
  },
  {
   "cell_type": "code",
   "execution_count": null,
   "metadata": {
    "ExecuteTime": {
     "end_time": "2022-02-16T12:47:04.573208Z",
     "start_time": "2022-02-16T12:47:04.093441Z"
    }
   },
   "outputs": [],
   "source": [
    "%store -r good_samples\n",
    "%store -r clean_df"
   ]
  },
  {
   "cell_type": "code",
   "execution_count": null,
   "metadata": {
    "ExecuteTime": {
     "end_time": "2022-02-16T12:47:19.647843Z",
     "start_time": "2022-02-16T12:47:19.637185Z"
    }
   },
   "outputs": [],
   "source": [
    "meat = meat[meat.sampleID.isin(good_samples)]"
   ]
  },
  {
   "cell_type": "markdown",
   "metadata": {},
   "source": [
    "# Write out control barcodes"
   ]
  },
  {
   "cell_type": "code",
   "execution_count": null,
   "metadata": {
    "ExecuteTime": {
     "end_time": "2022-02-16T12:47:22.905457Z",
     "start_time": "2022-02-16T12:47:22.877151Z"
    }
   },
   "outputs": [],
   "source": [
    "negCntrl = clean_df[clean_df.phenotype == 'wt'].barcode.unique()\n",
    "negCntrl\n",
    "with open(outDir/'control-sgrna.txt', 'w') as fc:\n",
    "    for c in negCntrl:\n",
    "        fc.write(f\"{c}\\n\")"
   ]
  },
  {
   "cell_type": "markdown",
   "metadata": {},
   "source": [
    "# Write out batch and count files"
   ]
  },
  {
   "cell_type": "code",
   "execution_count": null,
   "metadata": {
    "ExecuteTime": {
     "end_time": "2022-02-16T12:47:29.063003Z",
     "start_time": "2022-02-16T12:47:29.052314Z"
    }
   },
   "outputs": [],
   "source": [
    "def prepare_mageck_dataset(clean_df, meta_df, library):\n",
    "    batch_file = outDir/f\"{library}_batch.txt\"\n",
    "    count_file = outDir/f\"{library}_count.txt\"\n",
    "    batch_df = meta_df[meta_df.library == library][['sampleID', 'batch', 'day']].sort_values(['day', 'batch'])\n",
    "    batch_df.to_csv(batch_file, index=False, sep='\\t')\n",
    "    magDf = clean_df[clean_df.library == library]\n",
    "    magDf2 = magDf[['barcode', 'ShortName', 'barcode_cnt', 'sampleID']]\n",
    "    magDf2 = (magDf2.pivot(index=['barcode', 'ShortName'], columns='sampleID', values = 'barcode_cnt')\n",
    "         .reset_index().rename({'ShortName': 'gene'}, axis=1)\n",
    "          .fillna(0))\n",
    "    magDf2.to_csv(count_file, index=False, sep='\\t')\n",
    "    return batch_file, count_file"
   ]
  },
  {
   "cell_type": "code",
   "execution_count": null,
   "metadata": {
    "ExecuteTime": {
     "end_time": "2022-02-16T12:47:37.454057Z",
     "start_time": "2022-02-16T12:47:36.590216Z"
    }
   },
   "outputs": [],
   "source": [
    "libraries = {}\n",
    "for library, g in meat.groupby('library'):\n",
    "    print(library)\n",
    "    libraries[library] = prepare_mageck_dataset(clean_df, meat, library)"
   ]
  },
  {
   "cell_type": "markdown",
   "metadata": {},
   "source": [
    "# Run Batch Correction (if needed)"
   ]
  },
  {
   "cell_type": "code",
   "execution_count": null,
   "metadata": {
    "ExecuteTime": {
     "end_time": "2022-02-16T13:24:05.373921Z",
     "start_time": "2022-02-16T13:24:05.360919Z"
    }
   },
   "outputs": [],
   "source": [
    "\n",
    "def run_command(args):\n",
    "    \"\"\"Run command, transfer stdout/stderr\"\"\"\n",
    "    result = subprocess.run(args)\n",
    "    try:\n",
    "        result.check_returncode()\n",
    "    except subprocess.CalledProcessError as e:\n",
    "        raise e\n",
    "        \n",
    "\n",
    "def batch_correct(outDir, library,  r_path=\"./batchCorrect.R\"):\n",
    "    count_path = outDir / f\"{library}_count.txt\"\n",
    "    batch_path = outDir / f\"{library}_batch.txt\"\n",
    "    cmd = f'Rscript {r_path} {count_path} {batch_path} {library} {outDir}'\n",
    "    print(cmd)\n",
    "    r = run_command(cmd.split())\n",
    "\n",
    "\n",
    "def get_contrast_samples(library_df, treat_col = 'day', treatment='d1', control='d0', sampleID = 'sampleID'):\n",
    "    controls = \",\".join(library_df[library_df[treat_col] == control][sampleID].unique())\n",
    "    treats = \",\".join(library_df[library_df[treat_col] == treatment][sampleID].unique())\n",
    "    return controls, treats\n",
    "\n",
    "\n",
    "def run_mageck(count_file, treated, controls, out_prefix, control_barcode_file):\n",
    "    cmd = (f\"mageck test -k {count_file} -t {treated} \"\n",
    "          f\"-c {controls}  -n {out_prefix} \"  \n",
    "          f\"--control-sgrna {control_barcode_file}  --normcounts-to-file\")\n",
    "    print(cmd)\n",
    "    r = run_command(cmd.split())\n"
   ]
  },
  {
   "cell_type": "code",
   "execution_count": null,
   "metadata": {
    "ExecuteTime": {
     "end_time": "2022-02-16T12:57:34.876705Z",
     "start_time": "2022-02-16T12:57:34.823724Z"
    }
   },
   "outputs": [],
   "source": [
    "all_contrasts = {lib:{} for lib in meat.library.unique()}\n",
    "for library in meat.library.unique():\n",
    "    for day in ['d1', 'd2', 'd3', 'd4']:\n",
    "        all_contrasts[library][day] = get_contrast_samples(meat[meat.library == library], 'day', day)"
   ]
  },
  {
   "cell_type": "code",
   "execution_count": null,
   "metadata": {
    "ExecuteTime": {
     "end_time": "2022-02-16T13:38:05.195429Z",
     "start_time": "2022-02-16T13:38:05.180094Z"
    }
   },
   "outputs": [],
   "source": [
    "# For each library:\n",
    "library='library_12_2'\n",
    "meta = meat[meat.library == library]\n",
    "c = all_contrasts[library]\n",
    "\n",
    "\n",
    "def mageck_library(library, meta, outDir, contrasts, control_barcode_file, batch_corr=True, batch_col='batch'):\n",
    "    \n",
    "    \"\"\"\n",
    "    1. Check if batch correction is needed, run if yes -> different count file as input for mageck\n",
    "    2. For each contrast check if threr are samples, run mageck\n",
    "    3. Concatenate results for multiple days\n",
    "\n",
    "    \"\"\"\n",
    "    print(meta[batch_col].nunique())\n",
    "    if batch_corr is True and meta[batch_col].nunique() > 1:\n",
    "        batch_correct(outDir, library,  r_path=\"./batchCorrect.R\")\n",
    "        count_file = outDir/f\"{library}_count_batchcorrected.txt\"\n",
    "    else:\n",
    "        count_file = outDir/f\"{library}_count.txt\"\n",
    "        \n",
    "    result_dfs = []\n",
    "    for contrast, samples in contrasts.items():\n",
    "        print(contrast)\n",
    "        if len(samples[0]) == 0 or len(samples[1]) == 0:\n",
    "            continue\n",
    "        else:\n",
    "            treated = samples[1] \n",
    "            controls = samples[0]\n",
    "        out_prefix = outDir/f\"{library}-{contrast}\"\n",
    "        run_mageck(count_file, treated, controls, out_prefix, control_barcode_file)\n",
    "        res = pd.read_table(f'{out_prefix}.gene_summary.txt').assign(contrast=contrast)\n",
    "        result_dfs.append(res)\n",
    "    results = pd.concat(result_dfs).assign(library=library)\n",
    "    return results\n",
    "\n"
   ]
  },
  {
   "cell_type": "code",
   "execution_count": null,
   "metadata": {
    "ExecuteTime": {
     "end_time": "2022-02-16T13:28:35.936761Z",
     "start_time": "2022-02-16T13:28:35.926825Z"
    }
   },
   "outputs": [],
   "source": [
    "libraries"
   ]
  },
  {
   "cell_type": "code",
   "execution_count": null,
   "metadata": {
    "ExecuteTime": {
     "end_time": "2022-02-16T13:42:11.054578Z",
     "start_time": "2022-02-16T13:38:08.405390Z"
    }
   },
   "outputs": [],
   "source": [
    "baseline = 'd0'\n",
    "treat_col = 'day'\n",
    "sampleID = 'sampleID'\n",
    "control_barcode_file = outDir/'control-sgrna.txt'\n",
    "batch_col = 'batch'\n",
    "\n",
    "all_results = []\n",
    "for library, files in libraries.items():\n",
    "    print(library)\n",
    "    meta = pd.read_table(files[0])\n",
    "    treatments = [c for c in meta[treat_col].unique() if c != baseline]\n",
    "    contrasts = {}\n",
    "    # get all comps\n",
    "    for treat in treatments:\n",
    "        contrasts[treat] = get_contrast_samples(meta, treat_col, treatment=treat,\n",
    "                                                control=baseline, sampleID=sampleID)\n",
    "    results = mageck_library(library, meta, outDir, contrasts, \n",
    "                             control_barcode_file, True, batch_col)\n",
    "    all_results.append(results)\n",
    "    \n",
    "    \n",
    "fdf = pd.concat(all_results)"
   ]
  },
  {
   "cell_type": "code",
   "execution_count": null,
   "metadata": {
    "ExecuteTime": {
     "end_time": "2022-02-16T13:43:42.467369Z",
     "start_time": "2022-02-16T13:43:42.459981Z"
    }
   },
   "outputs": [],
   "source": [
    "len(libraries)"
   ]
  },
  {
   "cell_type": "code",
   "execution_count": null,
   "metadata": {
    "ExecuteTime": {
     "end_time": "2022-02-16T13:43:50.610075Z",
     "start_time": "2022-02-16T13:43:50.578639Z"
    }
   },
   "outputs": [],
   "source": []
  },
  {
   "cell_type": "code",
   "execution_count": null,
   "metadata": {
    "ExecuteTime": {
     "end_time": "2022-02-16T13:47:17.176686Z",
     "start_time": "2022-02-16T13:47:16.911388Z"
    }
   },
   "outputs": [],
   "source": [
    "fdf.to_csv(outDir/'16-02-2022-batch-corrected-9-libraries.csv', index=False)"
   ]
  },
  {
   "cell_type": "code",
   "execution_count": null,
   "metadata": {
    "ExecuteTime": {
     "end_time": "2022-02-16T14:03:21.820554Z",
     "start_time": "2022-02-16T14:00:19.784231Z"
    }
   },
   "outputs": [],
   "source": [
    "baseline = 'd0'\n",
    "treat_col = 'day'\n",
    "sampleID = 'sampleID'\n",
    "control_barcode_file = outDir/'control-sgrna.txt'\n",
    "batch_col = 'batch'\n",
    "\n",
    "all_results = []\n",
    "for library, files in libraries.items():\n",
    "    print(library)\n",
    "    meta = pd.read_table(files[0])\n",
    "    treatments = [c for c in meta[treat_col].unique() if c != baseline]\n",
    "    contrasts = {}\n",
    "    # get all comps\n",
    "    for treat in treatments:\n",
    "        contrasts[treat] = get_contrast_samples(meta, treat_col, treatment=treat,\n",
    "                                                control=baseline, sampleID=sampleID)\n",
    "    results = mageck_library(library, meta, outDir, contrasts, \n",
    "                             control_barcode_file, False, batch_col)\n",
    "    all_results.append(results)\n",
    "    \n",
    "    \n",
    "fdf = pd.concat(all_results)\n",
    "fdf.to_csv(outDir/'16-02-2022-not-batch-corrected-9-libraries.csv', index=False)"
   ]
  },
  {
   "cell_type": "code",
   "execution_count": null,
   "metadata": {
    "ExecuteTime": {
     "end_time": "2022-02-16T13:26:01.946489Z",
     "start_time": "2022-02-16T13:26:01.919973Z"
    }
   },
   "outputs": [],
   "source": [
    "res12_1"
   ]
  },
  {
   "cell_type": "code",
   "execution_count": null,
   "metadata": {},
   "outputs": [],
   "source": [
    "all_contrasts = {lib:{} for lib in meat.library.unique()}\n",
    "for library in meat.library.unique():\n",
    "    for day in ['d1', 'd2', 'd3', 'd4']:\n",
    "        all_contrasts[library][day] = get_contrast_samples(meat[meat.library == library], 'day', day)\n",
    "        \n",
    "count_file = outDir/\"library_14_2_count_batchcorrected.txt\"\n",
    "treated = all_contrasts['library_14_2']['d1'][1]\n",
    "controls = all_contrasts['library_14_2']['d1'][0]\n",
    "control_barcode_file = outDir/'control-sgrna.txt'\n",
    "library=\"library_14_2\""
   ]
  }
 ],
 "metadata": {
  "kernelspec": {
   "display_name": "Python 3 (ipykernel)",
   "language": "python",
   "name": "python3"
  },
  "language_info": {
   "codemirror_mode": {
    "name": "ipython",
    "version": 3
   },
   "file_extension": ".py",
   "mimetype": "text/x-python",
   "name": "python",
   "nbconvert_exporter": "python",
   "pygments_lexer": "ipython3",
   "version": "3.8.12"
  },
  "toc": {
   "base_numbering": 1,
   "nav_menu": {},
   "number_sections": true,
   "sideBar": true,
   "skip_h1_title": false,
   "title_cell": "Table of Contents",
   "title_sidebar": "Contents",
   "toc_cell": false,
   "toc_position": {},
   "toc_section_display": true,
   "toc_window_display": true
  }
 },
 "nbformat": 4,
 "nbformat_minor": 4
}
