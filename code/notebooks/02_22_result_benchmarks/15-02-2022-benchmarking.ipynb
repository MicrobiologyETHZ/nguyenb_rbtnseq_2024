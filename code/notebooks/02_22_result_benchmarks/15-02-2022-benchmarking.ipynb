{
 "cells": [
  {
   "cell_type": "code",
   "execution_count": null,
   "metadata": {
    "ExecuteTime": {
     "end_time": "2022-02-17T09:48:43.460682Z",
     "start_time": "2022-02-17T09:48:41.279640Z"
    }
   },
   "outputs": [],
   "source": [
    "# %load ../snippets/basic_settings.py\n",
    "import pandas as pd\n",
    "import numpy as np\n",
    "import matplotlib.pyplot as plt\n",
    "import os\n",
    "from pathlib import Path\n",
    "import seaborn as sns\n",
    "import sys\n",
    "import plotly.express as px\n",
    "\n",
    "sns.set_context(\"notebook\", font_scale=1.1)\n",
    "pd.set_option(\"display.max_columns\", 100)\n",
    "pd.set_option(\"display.max_rows\", 100)\n",
    "plt.rcParams[\"figure.figsize\"] = (16, 12)\n",
    "plt.rcParams['savefig.dpi'] = 200\n",
    "plt.rcParams['figure.autolayout'] = False\n",
    "plt.rcParams['axes.labelsize'] = 18\n",
    "plt.rcParams['axes.titlesize'] = 20\n",
    "plt.rcParams['font.size'] = 16\n",
    "plt.rcParams['lines.linewidth'] = 2.0\n",
    "plt.rcParams['lines.markersize'] = 8\n",
    "plt.rcParams['legend.fontsize'] = 14\n",
    "plt.rcParams['text.usetex'] = False  # True activates latex output in fonts!\n",
    "#pd.set_option('display.float_format', lambda x: '{:,.2f}'.format(x))"
   ]
  },
  {
   "cell_type": "code",
   "execution_count": null,
   "metadata": {
    "ExecuteTime": {
     "end_time": "2022-02-17T10:49:31.514384Z",
     "start_time": "2022-02-17T10:49:31.491015Z"
    }
   },
   "outputs": [],
   "source": [
    "clrs = px.colors.qualitative.Safe\n",
    "libraries = resDf.library.unique()\n",
    "library_clrs = {lib:col for lib, col in zip(libraries, clrs)}\n",
    "\n",
    "\n",
    "def get_ci_corr(comp, gt_CI, exp_CI, method):\n",
    "    corr_df = comp.groupby(['library', 'day'])[[gt_CI, exp_CI]].corr().unstack().iloc[:,1].reset_index()\n",
    "    corr_df.columns = ['library', 'day', 'R2']\n",
    "    r2mean = corr_df.groupby('library').R2.mean()\n",
    "    corr_df = corr_df.set_index('library').assign(method=method)\n",
    "    corr_df['r2lib'] = r2mean\n",
    "    corr_df = corr_df.reset_index()\n",
    "    return corr_df\n",
    "\n",
    "\n",
    "\n",
    "def compare_to_gt(compDf, gt_padj = \"gt_padj\", exp_padj = 'padj'):\n",
    "    compDf['gt_hits'] = compDf[gt_padj]<0.05\n",
    "    compDf['screen_hits'] = compDf[exp_padj]<0.05\n",
    "    compDf['TP'] = (compDf.gt_hits & compDf.screen_hits) == True\n",
    "    compDf['TN'] = (compDf.gt_hits == False) & (compDf.screen_hits == False)\n",
    "    compDf['FP'] = (compDf.gt_hits == False) & (compDf.screen_hits == True)\n",
    "    compDf['FN'] = (compDf.gt_hits == True) & (compDf.screen_hits == False)\n",
    "    confMat = (pd.DataFrame(compDf[['TP', 'FN',  'FP', 'TN', ]].sum()\n",
    "                            .values\n",
    "                            .reshape((2,2)), index=['Real Pos', 'Real Neg'],\n",
    "                      columns=['Pred Pos', 'Pred Neg']))\n",
    "    prec = confMat.loc['Real Pos', 'Pred Pos']/confMat.sum()['Pred Pos']\n",
    "    recall = confMat.loc['Real Pos', 'Pred Pos']/confMat.sum(axis=1)['Real Pos']\n",
    "    return compDf, confMat, prec, recall\n",
    "\n",
    "\n",
    "def get_stats(comp, method, gt_padj, exp_padj):\n",
    "    pr = []\n",
    "    for lib, g in comp.groupby('library'):\n",
    "        print(lib)\n",
    "        df, mat, prec, recall = compare_to_gt(g, gt_padj, exp_padj)\n",
    "        pr.append([lib, prec, recall])\n",
    "        print(mat)\n",
    "    pr_df = pd.DataFrame(pr, columns = ['library', 'precision', 'recall']).assign(method=method)\n",
    "    return pr_df\n",
    "\n",
    "\n",
    "def get_numHits(res, pval_col, method, pval_cutoff=0.05):\n",
    "    return (res[res[pval_col] < pval_cutoff].copy()\n",
    "           .groupby(['library', 'day']).gene.nunique()\n",
    "           .reset_index()\n",
    "            .assign(method=method))\n",
    "\n",
    "def plot_correlations(corr_df):\n",
    "    per_lib_corr = corr_df[['library', 'r2lib', 'method']].drop_duplicates()\n",
    "    fig = px.bar(per_lib_corr, template='simple_white',\n",
    "       color_discrete_map= library_clrs,\n",
    "       category_orders={'library': per_lib_corr.sort_values('r2lib').library.values},\n",
    "       x='library', y='r2lib', color='library', \n",
    "      labels={'library':'Library', 'r2lib': 'R2'},\n",
    "      title=\"R2 between RBSeq CIs and experimental CIs\", hover_data=['method'])\n",
    "\n",
    "    fig.update_layout(\n",
    "\n",
    "        font_size=14,\n",
    "        title={\n",
    "            'y':0.9,\n",
    "            'x':0.5,\n",
    "            'xanchor': 'center',\n",
    "            'yanchor': 'top'},\n",
    "        yaxis_range=[0,1]\n",
    "    )\n",
    "    fig.update_xaxes(showticklabels=False)\n",
    "    return fig\n"
   ]
  },
  {
   "cell_type": "markdown",
   "metadata": {
    "ExecuteTime": {
     "end_time": "2022-02-15T09:15:18.829823Z",
     "start_time": "2022-02-15T09:15:18.827309Z"
    }
   },
   "source": [
    "# Load Ground Truth data"
   ]
  },
  {
   "cell_type": "code",
   "execution_count": null,
   "metadata": {
    "ExecuteTime": {
     "end_time": "2022-02-16T13:44:47.928529Z",
     "start_time": "2022-02-16T13:44:47.774248Z"
    }
   },
   "outputs": [],
   "source": [
    "%ls /nfs/nas22/fs2202/biol_micro_bioinf_nccr/hardt/nguyenb/tnseq/scratch/02_22_result_benchmarks/"
   ]
  },
  {
   "cell_type": "code",
   "execution_count": null,
   "metadata": {
    "ExecuteTime": {
     "end_time": "2022-02-17T09:48:45.833741Z",
     "start_time": "2022-02-17T09:48:45.814405Z"
    }
   },
   "outputs": [],
   "source": [
    "outDir = Path(\"/nfs/nas22/fs2202/biol_micro_bioinf_nccr/hardt/nguyenb/tnseq/scratch/02_22_result_benchmarks\")\n",
    "gt_file = outDir/\"15-02-2022-ground_truth.csv\"\n",
    "gtDf = pd.read_csv(gt_file).iloc[:,:6]\n",
    "gtDf['log_gt_CI'] = np.log2(gtDf.gt_CI)"
   ]
  },
  {
   "cell_type": "markdown",
   "metadata": {},
   "source": [
    "# Load June results"
   ]
  },
  {
   "cell_type": "code",
   "execution_count": null,
   "metadata": {
    "ExecuteTime": {
     "end_time": "2022-02-17T09:59:35.159091Z",
     "start_time": "2022-02-17T09:59:34.993534Z"
    }
   },
   "outputs": [],
   "source": [
    "resDirJune = Path(\"/nfs/nas22/fs2202/biol_micro_bioinf_nccr/hardt/nguyenb/tnseq/scratch/08_21/results/nguyenb\")\n",
    "res_file_june = resDir/\"27_07/26-07-final-results.csv\"\n",
    "resJun = pd.read_csv(res_file_june, index_col=0)\n",
    "resJun['log_CI'] = np.log2(resJun.CI)\n",
    "comp0 = resJun.merge(gtDf, on=['gene', 'day'])"
   ]
  },
  {
   "cell_type": "code",
   "execution_count": null,
   "metadata": {
    "ExecuteTime": {
     "end_time": "2022-02-17T10:46:48.949740Z",
     "start_time": "2022-02-17T10:46:48.943288Z"
    }
   },
   "outputs": [],
   "source": [
    "\n"
   ]
  },
  {
   "cell_type": "code",
   "execution_count": null,
   "metadata": {
    "ExecuteTime": {
     "end_time": "2022-02-17T10:47:12.481865Z",
     "start_time": "2022-02-17T10:47:12.452597Z"
    }
   },
   "outputs": [],
   "source": []
  },
  {
   "cell_type": "code",
   "execution_count": null,
   "metadata": {
    "ExecuteTime": {
     "end_time": "2022-02-17T09:59:41.551769Z",
     "start_time": "2022-02-17T09:59:41.543828Z"
    }
   },
   "outputs": [],
   "source": [
    "zscoreJun_pr"
   ]
  },
  {
   "cell_type": "code",
   "execution_count": null,
   "metadata": {
    "ExecuteTime": {
     "end_time": "2022-02-17T10:05:18.640423Z",
     "start_time": "2022-02-17T10:05:18.368163Z"
    }
   },
   "outputs": [],
   "source": [
    "gt_CI = \"log_gt_CI\"\n",
    "gt_padj = \"gt_padj\"\n",
    "exp_CI = \"log_CI\"\n",
    "exp_padj = \"zscore_padj\"\n",
    "\n",
    "zscoreJun_corr = get_ci_corr(comp0, gt_CI, exp_CI, \"zscore-original\")\n",
    "zscoreJune_stats = get_stats(comp0, \"zscore-original\", gt_padj, exp_padj)\n",
    "fig = plot_correlations(zscoreJun_corr)\n",
    "fig"
   ]
  },
  {
   "cell_type": "markdown",
   "metadata": {},
   "source": [
    "# Load current results"
   ]
  },
  {
   "cell_type": "code",
   "execution_count": null,
   "metadata": {
    "ExecuteTime": {
     "end_time": "2022-02-17T10:01:41.048240Z",
     "start_time": "2022-02-17T10:01:40.880312Z"
    }
   },
   "outputs": [],
   "source": [
    "resDir = Path(\"/nfs/nas22/fs2202/biol_micro_bioinf_nccr/hardt/nguyenb/tnseq/scratch/08_21/results/nguyenb\")\n",
    "res_file = resDir/'24-11-2021-all-libraries-zscores.csv'\n",
    "resDf = pd.read_csv(res_file, index_col=0).rename({'ci': 'CI'}, axis=1)\n",
    "resDf['log_CI'] = np.log2(resDf.CI)\n",
    "\n",
    "comp = resDf.merge(gtDf, on=['gene', 'day'])\n",
    "comp.head()"
   ]
  },
  {
   "cell_type": "code",
   "execution_count": null,
   "metadata": {
    "ExecuteTime": {
     "end_time": "2022-02-17T10:05:51.516271Z",
     "start_time": "2022-02-17T10:05:51.164450Z"
    }
   },
   "outputs": [],
   "source": [
    "gt_CI = \"log_gt_CI\"\n",
    "gt_padj = \"gt_padj\"\n",
    "exp_CI = \"log_CI\"\n",
    "exp_padj = \"padj\"\n",
    "\n",
    "zscoreNov_corr = get_ci_corr(comp, gt_CI, exp_CI, \"zscore-current\")\n",
    "zscoreNov_stats = get_stats(comp, \"zscore-current\", gt_padj, exp_padj)\n",
    "fig = plot_correlations(zscoreNov_corr)\n",
    "fig"
   ]
  },
  {
   "cell_type": "markdown",
   "metadata": {},
   "source": [
    "# Load MAGeCK resuts"
   ]
  },
  {
   "cell_type": "code",
   "execution_count": null,
   "metadata": {
    "ExecuteTime": {
     "end_time": "2022-02-17T10:08:38.612822Z",
     "start_time": "2022-02-17T10:08:38.445508Z"
    }
   },
   "outputs": [],
   "source": [
    "maDir = Path(\"/nfs/nas22/fs2202/biol_micro_bioinf_nccr/hardt/nguyenb/tnseq/scratch/02_22_mageck\")\n",
    "mres = maDir/'16-02-2022-batch-corrected-9-libraries.csv'\n",
    "maDf = pd.read_csv(mres)[['id', 'neg|fdr', 'neg|lfc', 'pos|fdr', 'contrast', 'library']]\n",
    "maDf['fdr'] = maDf[['neg|fdr', 'pos|fdr']].min(axis=1)\n",
    "maDf = maDf.rename({'id':'gene', 'contrast':'day'}, axis=1)\n",
    "comp2 = maDf.merge(gtDf, on=['gene', 'day'])"
   ]
  },
  {
   "cell_type": "code",
   "execution_count": null,
   "metadata": {
    "ExecuteTime": {
     "end_time": "2022-02-16T16:03:35.672766Z",
     "start_time": "2022-02-16T16:03:35.635236Z"
    }
   },
   "outputs": [],
   "source": [
    "\n",
    "mageck_corr = get_ci_corr(comp2,\"log_gt_CI\", \"neg|lfc\", 'mageck' )\n"
   ]
  },
  {
   "cell_type": "code",
   "execution_count": null,
   "metadata": {
    "ExecuteTime": {
     "end_time": "2022-02-17T10:11:44.835455Z",
     "start_time": "2022-02-17T10:11:44.600271Z"
    }
   },
   "outputs": [],
   "source": [
    "gt_CI = \"log_gt_CI\"\n",
    "gt_padj = \"gt_padj\"\n",
    "exp_CI = \"neg|lfc\"\n",
    "exp_padj = \"fdr\"\n",
    "\n",
    "mageck_corr = get_ci_corr(comp2, gt_CI, exp_CI, \"mageck\")\n",
    "mageck_stats = get_stats(comp2, \"mageck\", gt_padj, exp_padj)\n",
    "fig = plot_correlations(mageck_corr)\n",
    "fig"
   ]
  },
  {
   "cell_type": "code",
   "execution_count": null,
   "metadata": {
    "ExecuteTime": {
     "end_time": "2022-02-17T11:10:04.332102Z",
     "start_time": "2022-02-17T11:10:04.311316Z"
    }
   },
   "outputs": [],
   "source": [
    "comp2.head()"
   ]
  },
  {
   "cell_type": "code",
   "execution_count": null,
   "metadata": {
    "ExecuteTime": {
     "end_time": "2022-02-17T11:14:14.805919Z",
     "start_time": "2022-02-17T11:14:14.716155Z"
    }
   },
   "outputs": [],
   "source": [
    "px.scatter(comp2[comp2.library=='library_15_1'],\n",
    "        x='log_gt_CI', y='neg|lfc', facet_row='day', trendline='ols', width=400,\n",
    "           height=1000, color='day', template='simple_white'\n",
    "          )"
   ]
  },
  {
   "cell_type": "code",
   "execution_count": null,
   "metadata": {
    "ExecuteTime": {
     "end_time": "2022-02-17T10:11:25.476734Z",
     "start_time": "2022-02-17T10:11:25.245442Z"
    }
   },
   "outputs": [],
   "source": [
    "mresnoBatch = maDir/'16-02-2022-not-batch-corrected-9-libraries.csv'\n",
    "maDf2 = pd.read_csv(mresnoBatch)[['id', 'neg|fdr', 'neg|lfc', 'pos|fdr', 'contrast', 'library']]\n",
    "maDf2['fdr'] = maDf2[['neg|fdr', 'pos|fdr']].min(axis=1)\n",
    "maDf2 = maDf2.rename({'id':'gene', 'contrast':'day'}, axis=1)\n",
    "comp3 = maDf2.merge(gtDf, on=['gene', 'day'])"
   ]
  },
  {
   "cell_type": "code",
   "execution_count": null,
   "metadata": {
    "ExecuteTime": {
     "end_time": "2022-02-17T10:12:07.802965Z",
     "start_time": "2022-02-17T10:12:07.525039Z"
    }
   },
   "outputs": [],
   "source": [
    "gt_CI = \"log_gt_CI\"\n",
    "gt_padj = \"gt_padj\"\n",
    "exp_CI = \"neg|lfc\"\n",
    "exp_padj = \"fdr\"\n",
    "\n",
    "mageck_no_batch_corr = get_ci_corr(comp3, gt_CI, exp_CI, \"mageck-no-batch\")\n",
    "mageck_no_batch_stats = get_stats(comp3, \"mageck-no-batch\", gt_padj, exp_padj)\n",
    "fig = plot_correlations(mageck_no_batch_corr)\n",
    "fig"
   ]
  },
  {
   "cell_type": "code",
   "execution_count": null,
   "metadata": {
    "ExecuteTime": {
     "end_time": "2022-02-16T15:05:36.539965Z",
     "start_time": "2022-02-16T15:05:36.467053Z"
    }
   },
   "outputs": [],
   "source": [
    "#px.line(corr_df_mageck2, x='day', y='R2', color='library', markers=True)"
   ]
  },
  {
   "cell_type": "code",
   "execution_count": null,
   "metadata": {
    "ExecuteTime": {
     "end_time": "2022-02-17T10:14:06.033947Z",
     "start_time": "2022-02-17T10:14:06.013841Z"
    }
   },
   "outputs": [],
   "source": [
    "precision_all = pd.concat([zscoreJune_stats, zscoreNov_stats, mageck_stats,mageck_no_batch_stats])\n",
    "\n",
    "precision_all = precision_all.melt(id_vars=['library', 'method'], var_name='metric', \n",
    "                                   value_name='prop',\n",
    "                                  )"
   ]
  },
  {
   "cell_type": "code",
   "execution_count": null,
   "metadata": {
    "ExecuteTime": {
     "end_time": "2022-02-17T10:14:37.110092Z",
     "start_time": "2022-02-17T10:14:36.876523Z"
    }
   },
   "outputs": [],
   "source": [
    "\n",
    "fig = px.box(precision_all, x='method', y='prop', template=\"simple_white\", \n",
    "             facet_col='metric', color='method', height=600, width=700)\n",
    "fig.update_layout(yaxis_range = [0,1] )"
   ]
  },
  {
   "cell_type": "code",
   "execution_count": null,
   "metadata": {
    "ExecuteTime": {
     "end_time": "2022-02-17T11:17:14.637879Z",
     "start_time": "2022-02-17T11:17:14.632308Z"
    }
   },
   "outputs": [],
   "source": [
    "30/40"
   ]
  },
  {
   "cell_type": "code",
   "execution_count": null,
   "metadata": {
    "ExecuteTime": {
     "end_time": "2022-02-17T10:26:03.455475Z",
     "start_time": "2022-02-17T10:26:03.016360Z"
    }
   },
   "outputs": [],
   "source": [
    "f, axes =plt.subplots(1, 2, figsize=(8,6))\n",
    "sns.boxplot(data=precision_all[precision_all.metric == 'precision'], \n",
    "                  x='method', y='prop', ax=axes[0])\n",
    "sns.stripplot(data=precision_all[precision_all.metric == 'precision'], \n",
    "                  x='method', y='prop', ax=axes[0], color='black')\n",
    "sns.boxplot(data=precision_all[precision_all.metric == 'recall'], \n",
    "                  x='method', y='prop', ax=axes[1])\n",
    "sns.stripplot(data=precision_all[precision_all.metric == 'recall'], \n",
    "                  x='method', y='prop', ax=axes[1], color='black')\n",
    "\n",
    "#sns.stripplot(data=precision_all, x='metric', y='prop', hue='method', )"
   ]
  },
  {
   "cell_type": "code",
   "execution_count": null,
   "metadata": {
    "ExecuteTime": {
     "end_time": "2022-02-17T10:34:07.270416Z",
     "start_time": "2022-02-17T10:34:07.260439Z"
    }
   },
   "outputs": [],
   "source": [
    "all_corr = pd.concat([zscoreJun_corr, zscoreNov_corr, mageck_corr, mageck_no_batch_corr])"
   ]
  },
  {
   "cell_type": "code",
   "execution_count": null,
   "metadata": {
    "ExecuteTime": {
     "end_time": "2022-02-17T10:34:39.252471Z",
     "start_time": "2022-02-17T10:34:39.231637Z"
    }
   },
   "outputs": [],
   "source": [
    "mageck_corr"
   ]
  },
  {
   "cell_type": "code",
   "execution_count": null,
   "metadata": {
    "ExecuteTime": {
     "end_time": "2022-02-17T10:38:29.597608Z",
     "start_time": "2022-02-17T10:38:29.438859Z"
    }
   },
   "outputs": [],
   "source": [
    "all_corr = all_corr[['library', 'method', 'r2lib']].drop_duplicates()\n",
    "px.line(all_corr, x='method', y='r2lib', color = 'library', markers=True,\n",
    "        color_discrete_map=library_clrs,\n",
    "       hover_data=['library', 'method'])\n",
    "            "
   ]
  },
  {
   "cell_type": "code",
   "execution_count": null,
   "metadata": {
    "ExecuteTime": {
     "end_time": "2022-02-17T10:32:12.432756Z",
     "start_time": "2022-02-17T10:32:12.404377Z"
    }
   },
   "outputs": [],
   "source": [
    "all_corr"
   ]
  },
  {
   "cell_type": "code",
   "execution_count": null,
   "metadata": {
    "ExecuteTime": {
     "end_time": "2022-02-17T10:31:56.309993Z",
     "start_time": "2022-02-17T10:31:56.172733Z"
    }
   },
   "outputs": [],
   "source": [
    "px.line(mageck_corr, x='day', y='R2', color='library', markers=True)"
   ]
  },
  {
   "cell_type": "code",
   "execution_count": null,
   "metadata": {
    "ExecuteTime": {
     "end_time": "2022-02-17T11:04:34.306562Z",
     "start_time": "2022-02-17T11:04:34.231509Z"
    }
   },
   "outputs": [],
   "source": [
    "resJun = resJun[resJun.gene.str.len() < 15]\n",
    "numHit1 = get_numHits(resJun, 'zscore_padj', 'zscore-original', pval_cutoff=0.05)\n",
    "resNov = resDf[resDf.gene.str.len() < 15]\n",
    "numHit2 = get_numHits(resNov, 'padj', 'zscore-current', pval_cutoff=0.05)\n",
    "maDf = maDf[maDf.gene.str.len() < 15]\n",
    "numHit3 = get_numHits(maDf, 'fdr','mageck', pval_cutoff=0.05)\n",
    "maDf2 = maDf2[maDf2.gene.str.len() < 15]\n",
    "numHit4 = get_numHits(maDf2, 'fdr','mageck-no-batch', pval_cutoff=0.05)\n",
    "hits = pd.concat([numHit1, numHit2, numHit3, numHit4])"
   ]
  },
  {
   "cell_type": "code",
   "execution_count": null,
   "metadata": {
    "ExecuteTime": {
     "end_time": "2022-02-17T11:04:35.462848Z",
     "start_time": "2022-02-17T11:04:35.452681Z"
    }
   },
   "outputs": [],
   "source": [
    "numHit1.groupby('day').gene.median()"
   ]
  },
  {
   "cell_type": "code",
   "execution_count": null,
   "metadata": {
    "ExecuteTime": {
     "end_time": "2022-02-17T11:04:36.837880Z",
     "start_time": "2022-02-17T11:04:36.828171Z"
    }
   },
   "outputs": [],
   "source": [
    "numHit2.groupby('day').gene.median()"
   ]
  },
  {
   "cell_type": "code",
   "execution_count": null,
   "metadata": {
    "ExecuteTime": {
     "end_time": "2022-02-17T11:04:38.551392Z",
     "start_time": "2022-02-17T11:04:38.542155Z"
    }
   },
   "outputs": [],
   "source": [
    "numHit3.groupby('day').gene.median()"
   ]
  },
  {
   "cell_type": "code",
   "execution_count": null,
   "metadata": {
    "ExecuteTime": {
     "end_time": "2022-02-17T11:04:40.943466Z",
     "start_time": "2022-02-17T11:04:40.934176Z"
    }
   },
   "outputs": [],
   "source": [
    "numHit4.groupby('day').gene.median()"
   ]
  },
  {
   "cell_type": "code",
   "execution_count": null,
   "metadata": {
    "ExecuteTime": {
     "end_time": "2022-02-17T11:02:06.507475Z",
     "start_time": "2022-02-17T11:02:06.502962Z"
    }
   },
   "outputs": [],
   "source": [
    "good_libraries = ['library_11_2', 'library_14_2', 'library_15_1', 'library_11_2']"
   ]
  },
  {
   "cell_type": "code",
   "execution_count": null,
   "metadata": {
    "ExecuteTime": {
     "end_time": "2022-02-17T11:02:17.736765Z",
     "start_time": "2022-02-17T11:02:17.730636Z"
    }
   },
   "outputs": [],
   "source": [
    "good_hits = hits[hits.library.isin(good_libraries)]"
   ]
  },
  {
   "cell_type": "code",
   "execution_count": null,
   "metadata": {
    "ExecuteTime": {
     "end_time": "2022-02-17T11:00:55.934850Z",
     "start_time": "2022-02-17T11:00:55.877703Z"
    }
   },
   "outputs": [],
   "source": [
    "px.scatter(hits, x='method', y='gene', color='day', hover_data=['library'])"
   ]
  },
  {
   "cell_type": "code",
   "execution_count": null,
   "metadata": {
    "ExecuteTime": {
     "end_time": "2022-02-17T11:03:43.099971Z",
     "start_time": "2022-02-17T11:03:43.025572Z"
    }
   },
   "outputs": [],
   "source": [
    "px.box(good_hits, x='method', y='gene', facet_col='day', height=400)"
   ]
  },
  {
   "cell_type": "code",
   "execution_count": null,
   "metadata": {
    "ExecuteTime": {
     "end_time": "2022-02-17T10:58:25.820782Z",
     "start_time": "2022-02-17T10:58:25.774799Z"
    }
   },
   "outputs": [],
   "source": [
    "px.box(hits[hits.day == 'd2'], x='method', y='gene')"
   ]
  },
  {
   "cell_type": "code",
   "execution_count": null,
   "metadata": {},
   "outputs": [],
   "source": []
  }
 ],
 "metadata": {
  "kernelspec": {
   "display_name": "Python 3 (ipykernel)",
   "language": "python",
   "name": "python3"
  },
  "language_info": {
   "codemirror_mode": {
    "name": "ipython",
    "version": 3
   },
   "file_extension": ".py",
   "mimetype": "text/x-python",
   "name": "python",
   "nbconvert_exporter": "python",
   "pygments_lexer": "ipython3",
   "version": "3.8.12"
  },
  "toc": {
   "base_numbering": 1,
   "nav_menu": {},
   "number_sections": true,
   "sideBar": true,
   "skip_h1_title": false,
   "title_cell": "Table of Contents",
   "title_sidebar": "Contents",
   "toc_cell": false,
   "toc_position": {},
   "toc_section_display": true,
   "toc_window_display": false
  }
 },
 "nbformat": 4,
 "nbformat_minor": 4
}
