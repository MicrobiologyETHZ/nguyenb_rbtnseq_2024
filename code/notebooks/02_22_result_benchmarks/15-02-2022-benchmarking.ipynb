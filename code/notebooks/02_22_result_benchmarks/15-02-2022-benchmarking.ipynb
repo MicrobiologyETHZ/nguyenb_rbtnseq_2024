{
 "cells": [
  {
   "cell_type": "code",
   "execution_count": null,
   "metadata": {
    "ExecuteTime": {
     "end_time": "2022-02-15T09:27:47.619879Z",
     "start_time": "2022-02-15T09:27:47.264191Z"
    }
   },
   "outputs": [],
   "source": [
    "# %load ../snippets/basic_settings.py\n",
    "import pandas as pd\n",
    "import numpy as np\n",
    "import matplotlib.pyplot as plt\n",
    "import os\n",
    "from pathlib import Path\n",
    "import seaborn as sns\n",
    "import sys\n",
    "import plotly.express as px\n",
    "\n",
    "sns.set_context(\"notebook\", font_scale=1.1)\n",
    "pd.set_option(\"display.max_columns\", 100)\n",
    "pd.set_option(\"display.max_rows\", 100)\n",
    "plt.rcParams[\"figure.figsize\"] = (16, 12)\n",
    "plt.rcParams['savefig.dpi'] = 200\n",
    "plt.rcParams['figure.autolayout'] = False\n",
    "plt.rcParams['axes.labelsize'] = 18\n",
    "plt.rcParams['axes.titlesize'] = 20\n",
    "plt.rcParams['font.size'] = 16\n",
    "plt.rcParams['lines.linewidth'] = 2.0\n",
    "plt.rcParams['lines.markersize'] = 8\n",
    "plt.rcParams['legend.fontsize'] = 14\n",
    "plt.rcParams['text.usetex'] = False  # True activates latex output in fonts!\n",
    "#pd.set_option('display.float_format', lambda x: '{:,.2f}'.format(x))"
   ]
  },
  {
   "cell_type": "markdown",
   "metadata": {
    "ExecuteTime": {
     "end_time": "2022-02-15T09:15:18.829823Z",
     "start_time": "2022-02-15T09:15:18.827309Z"
    }
   },
   "source": [
    "# Load Ground Truth data"
   ]
  },
  {
   "cell_type": "code",
   "execution_count": null,
   "metadata": {
    "ExecuteTime": {
     "end_time": "2022-02-15T10:17:11.930446Z",
     "start_time": "2022-02-15T10:17:11.789713Z"
    }
   },
   "outputs": [],
   "source": [
    "%ls /nfs/nas22/fs2202/biol_micro_bioinf_nccr/hardt/nguyenb/tnseq/scratch/02_22_result_benchmarks/"
   ]
  },
  {
   "cell_type": "code",
   "execution_count": null,
   "metadata": {
    "ExecuteTime": {
     "end_time": "2022-02-15T10:45:23.119860Z",
     "start_time": "2022-02-15T10:45:23.112386Z"
    }
   },
   "outputs": [],
   "source": [
    "outDir = Path(\"/nfs/nas22/fs2202/biol_micro_bioinf_nccr/hardt/nguyenb/tnseq/scratch/02_22_result_benchmarks\")\n",
    "gt_file = outDir/\"15-02-2022-ground_truth.csv\"\n",
    "gtDf = pd.read_csv(gt_file).iloc[:,:6]\n",
    "gtDf['log_gt_CI'] = np.log2(gtDf.gt_CI)"
   ]
  },
  {
   "cell_type": "markdown",
   "metadata": {},
   "source": [
    "# Load current results"
   ]
  },
  {
   "cell_type": "code",
   "execution_count": null,
   "metadata": {
    "ExecuteTime": {
     "end_time": "2022-02-15T10:45:26.917034Z",
     "start_time": "2022-02-15T10:45:26.914179Z"
    }
   },
   "outputs": [],
   "source": [
    "resDir = Path(\"/nfs/nas22/fs2202/biol_micro_bioinf_nccr/hardt/nguyenb/tnseq/scratch/08_21/results/nguyenb\")\n",
    "res_file = resDir/'24-11-2021-all-libraries-zscores.csv'"
   ]
  },
  {
   "cell_type": "code",
   "execution_count": null,
   "metadata": {
    "ExecuteTime": {
     "end_time": "2022-02-15T10:46:06.825536Z",
     "start_time": "2022-02-15T10:46:06.746267Z"
    }
   },
   "outputs": [],
   "source": [
    "resDf = pd.read_csv(res_file, index_col=0).rename({'ci': 'CI'}, axis=1)\n",
    "resDf['log_CI'] = np.log2(resDf.CI)"
   ]
  },
  {
   "cell_type": "code",
   "execution_count": null,
   "metadata": {
    "ExecuteTime": {
     "end_time": "2022-02-15T10:46:08.603365Z",
     "start_time": "2022-02-15T10:46:08.589270Z"
    }
   },
   "outputs": [],
   "source": [
    "resDf.sample(5)"
   ]
  },
  {
   "cell_type": "code",
   "execution_count": null,
   "metadata": {
    "ExecuteTime": {
     "end_time": "2022-02-15T10:51:40.401086Z",
     "start_time": "2022-02-15T10:51:40.394511Z"
    }
   },
   "outputs": [],
   "source": [
    "# Try for one library\n"
   ]
  },
  {
   "cell_type": "code",
   "execution_count": null,
   "metadata": {
    "ExecuteTime": {
     "end_time": "2022-02-15T10:54:53.123754Z",
     "start_time": "2022-02-15T10:54:53.116134Z"
    }
   },
   "outputs": [],
   "source": [
    "def compare_to_gt(gtDf, results):\n",
    "    \n",
    "    compDf = results.merge(gtDf, on=['gene', 'day'])\n",
    "    if sum([c in compDf.columns for c in ['gene', 'day', 'log_CI', \n",
    "                                      'log_gt_CI', 'gt_padj', 'padj']]) < 6:\n",
    "        print('Some of the columns are missing')\n",
    "    else:\n",
    "        compDf['gt_hits'] = compDf.gt_padj<0.05\n",
    "        compDf['screen_hits'] = compDf.padj<0.05\n",
    "        compDf['TP'] = (compDf.gt_hits & compDf.screen_hits) == True\n",
    "        compDf['TN'] = (compDf.gt_hits == False) & (compDf.screen_hits == False)\n",
    "        compDf['FP'] = (compDf.gt_hits == False) & (compDf.screen_hits == True)\n",
    "        compDf['FN'] = (compDf.gt_hits == True) & (compDf.screen_hits == False)\n",
    "        confMat = (pd.DataFrame(compDf[['TP', 'FN',  'FP', 'TN', ]].sum()\n",
    "                                .values\n",
    "                                .reshape((2,2)), index=['Real Pos', 'Real Neg'],\n",
    "                          columns=['Pred Pos', 'Pred Neg']))\n",
    "        prec = confMat.loc['Real Pos', 'Pred Pos']/confMat.sum()['Pred Pos']\n",
    "        recall = confMat.loc['Real Pos', 'Pred Pos']/confMat.sum(axis=1)['Real Pos']\n",
    "        return compDf, confMat, prec, recall"
   ]
  },
  {
   "cell_type": "code",
   "execution_count": null,
   "metadata": {
    "ExecuteTime": {
     "end_time": "2022-02-15T10:54:55.316778Z",
     "start_time": "2022-02-15T10:54:55.220580Z"
    }
   },
   "outputs": [],
   "source": [
    "rdict = {}\n",
    "for i, g  in resDf.groupby('library'):\n",
    "    print(i)\n",
    "    rdict[i] = compare_to_gt(gtDf, g)"
   ]
  },
  {
   "cell_type": "code",
   "execution_count": null,
   "metadata": {
    "ExecuteTime": {
     "end_time": "2022-02-15T10:56:19.750168Z",
     "start_time": "2022-02-15T10:56:19.744652Z"
    }
   },
   "outputs": [],
   "source": [
    "for k, v in rdict.items():\n",
    "    print(k)\n",
    "    print(f\"Precision: {v[2]}\")\n",
    "    print(f\"Recall: {v[3]}\")"
   ]
  },
  {
   "cell_type": "code",
   "execution_count": null,
   "metadata": {
    "ExecuteTime": {
     "end_time": "2022-02-15T10:09:35.861714Z",
     "start_time": "2022-02-15T10:09:35.844760Z"
    }
   },
   "outputs": [],
   "source": [
    "comp = res14_2.merge(gtDf, on=['gene', 'day'])\n",
    "comp['gt_CI_log'] = np.log2(comp.gt_CI)\n",
    "comp['ci_log'] = np.log2(comp.ci)\n",
    "comp['gt_hits'] = comp.gt_padj<0.05\n",
    "comp['screen_hits'] = comp.padj<0.05\n",
    "comp['TP'] = (comp.gt_hits & comp.screen_hits) == True\n",
    "comp['TN'] = (comp.gt_hits == False) & (comp.screen_hits == False)\n",
    "comp['FP'] = (comp.gt_hits == False) & (comp.screen_hits == True)\n",
    "comp['FN'] = (comp.gt_hits == True) & (comp.screen_hits == False)\n",
    "confMat = pd.DataFrame(comp[['TP', 'FN',  'FP', 'TN', ]].sum().values.reshape((2,2)), index=['Real Pos', 'Real Neg'],\n",
    "                      columns=['Pred Pos', 'Pred Neg'])\n",
    "prec = confMat.loc['Real Pos', 'Pred Pos']/confMat.sum()['Pred Pos']\n",
    "recall = confMat.loc['Real Pos', 'Pred Pos']/confMat.sum(axis=1)['Real Pos']"
   ]
  },
  {
   "cell_type": "code",
   "execution_count": null,
   "metadata": {
    "ExecuteTime": {
     "end_time": "2022-02-15T10:07:02.896095Z",
     "start_time": "2022-02-15T10:07:02.890366Z"
    }
   },
   "outputs": [],
   "source": [
    "comp[['gt_hits', 'screen_hits', 'TP', 'TN', 'FP', 'FN']].sum()"
   ]
  },
  {
   "cell_type": "code",
   "execution_count": null,
   "metadata": {
    "ExecuteTime": {
     "end_time": "2022-02-15T10:09:38.529907Z",
     "start_time": "2022-02-15T10:09:38.524343Z"
    }
   },
   "outputs": [],
   "source": [
    "confMat"
   ]
  },
  {
   "cell_type": "code",
   "execution_count": null,
   "metadata": {
    "ExecuteTime": {
     "end_time": "2022-02-15T10:09:39.965691Z",
     "start_time": "2022-02-15T10:09:39.962120Z"
    }
   },
   "outputs": [],
   "source": [
    "prec"
   ]
  },
  {
   "cell_type": "code",
   "execution_count": null,
   "metadata": {
    "ExecuteTime": {
     "end_time": "2022-02-15T10:09:47.429494Z",
     "start_time": "2022-02-15T10:09:47.426277Z"
    }
   },
   "outputs": [],
   "source": [
    "recall"
   ]
  },
  {
   "cell_type": "code",
   "execution_count": null,
   "metadata": {
    "ExecuteTime": {
     "end_time": "2022-02-15T10:10:38.756189Z",
     "start_time": "2022-02-15T10:10:38.487454Z"
    }
   },
   "outputs": [],
   "source": [
    "px.scatter(comp, x='gt_CI_log', y='ci_log', trendline=\"ols\", color='day', height=800)"
   ]
  },
  {
   "cell_type": "markdown",
   "metadata": {},
   "source": [
    "# Load MAGeCK resuts"
   ]
  },
  {
   "cell_type": "code",
   "execution_count": null,
   "metadata": {
    "ExecuteTime": {
     "end_time": "2022-02-15T10:20:45.406025Z",
     "start_time": "2022-02-15T10:20:45.395827Z"
    }
   },
   "outputs": [],
   "source": [
    "mres = outDir/'test8.gene_summary.txt'\n",
    "maDf = pd.read_table(mres)[['id', 'neg|fdr', 'neg|lfc', 'pos|fdr']]\n",
    "maDf['fdr'] = maDf[['neg|fdr', 'pos|fdr']].min(axis=1)\n",
    "maDf = maDf.rename({'id':'gene'}, axis=1).assign(day='d1')"
   ]
  },
  {
   "cell_type": "code",
   "execution_count": null,
   "metadata": {
    "ExecuteTime": {
     "end_time": "2022-02-15T10:21:50.996629Z",
     "start_time": "2022-02-15T10:21:50.990039Z"
    }
   },
   "outputs": [],
   "source": [
    "comp2 = maDf.merge(gtDf, on=['gene', 'day'])\n",
    "comp2['gt_CI_log'] = np.log2(comp2.gt_CI)"
   ]
  },
  {
   "cell_type": "code",
   "execution_count": null,
   "metadata": {
    "ExecuteTime": {
     "end_time": "2022-02-15T10:22:06.049322Z",
     "start_time": "2022-02-15T10:22:05.991393Z"
    }
   },
   "outputs": [],
   "source": [
    "px.scatter(comp2, x='gt_CI_log', y='neg|lfc', trendline=\"ols\", color='day', height=800)"
   ]
  },
  {
   "cell_type": "code",
   "execution_count": null,
   "metadata": {},
   "outputs": [],
   "source": []
  }
 ],
 "metadata": {
  "kernelspec": {
   "display_name": "Python 3",
   "language": "python",
   "name": "python3"
  },
  "language_info": {
   "codemirror_mode": {
    "name": "ipython",
    "version": 3
   },
   "file_extension": ".py",
   "mimetype": "text/x-python",
   "name": "python",
   "nbconvert_exporter": "python",
   "pygments_lexer": "ipython3",
   "version": "3.6.6"
  },
  "toc": {
   "base_numbering": 1,
   "nav_menu": {},
   "number_sections": true,
   "sideBar": true,
   "skip_h1_title": false,
   "title_cell": "Table of Contents",
   "title_sidebar": "Contents",
   "toc_cell": false,
   "toc_position": {},
   "toc_section_display": true,
   "toc_window_display": false
  }
 },
 "nbformat": 4,
 "nbformat_minor": 4
}
