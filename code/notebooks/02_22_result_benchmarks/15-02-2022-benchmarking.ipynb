{
 "cells": [
  {
   "cell_type": "code",
   "execution_count": null,
   "metadata": {
    "ExecuteTime": {
     "end_time": "2022-02-16T13:44:47.771707Z",
     "start_time": "2022-02-16T13:44:44.499985Z"
    }
   },
   "outputs": [],
   "source": [
    "# %load ../snippets/basic_settings.py\n",
    "import pandas as pd\n",
    "import numpy as np\n",
    "import matplotlib.pyplot as plt\n",
    "import os\n",
    "from pathlib import Path\n",
    "import seaborn as sns\n",
    "import sys\n",
    "import plotly.express as px\n",
    "\n",
    "sns.set_context(\"notebook\", font_scale=1.1)\n",
    "pd.set_option(\"display.max_columns\", 100)\n",
    "pd.set_option(\"display.max_rows\", 100)\n",
    "plt.rcParams[\"figure.figsize\"] = (16, 12)\n",
    "plt.rcParams['savefig.dpi'] = 200\n",
    "plt.rcParams['figure.autolayout'] = False\n",
    "plt.rcParams['axes.labelsize'] = 18\n",
    "plt.rcParams['axes.titlesize'] = 20\n",
    "plt.rcParams['font.size'] = 16\n",
    "plt.rcParams['lines.linewidth'] = 2.0\n",
    "plt.rcParams['lines.markersize'] = 8\n",
    "plt.rcParams['legend.fontsize'] = 14\n",
    "plt.rcParams['text.usetex'] = False  # True activates latex output in fonts!\n",
    "#pd.set_option('display.float_format', lambda x: '{:,.2f}'.format(x))"
   ]
  },
  {
   "cell_type": "markdown",
   "metadata": {
    "ExecuteTime": {
     "end_time": "2022-02-15T09:15:18.829823Z",
     "start_time": "2022-02-15T09:15:18.827309Z"
    }
   },
   "source": [
    "# Load Ground Truth data"
   ]
  },
  {
   "cell_type": "code",
   "execution_count": null,
   "metadata": {
    "ExecuteTime": {
     "end_time": "2022-02-16T13:44:47.928529Z",
     "start_time": "2022-02-16T13:44:47.774248Z"
    }
   },
   "outputs": [],
   "source": [
    "%ls /nfs/nas22/fs2202/biol_micro_bioinf_nccr/hardt/nguyenb/tnseq/scratch/02_22_result_benchmarks/"
   ]
  },
  {
   "cell_type": "code",
   "execution_count": null,
   "metadata": {
    "ExecuteTime": {
     "end_time": "2022-02-16T13:44:47.952082Z",
     "start_time": "2022-02-16T13:44:47.933065Z"
    }
   },
   "outputs": [],
   "source": [
    "outDir = Path(\"/nfs/nas22/fs2202/biol_micro_bioinf_nccr/hardt/nguyenb/tnseq/scratch/02_22_result_benchmarks\")\n",
    "gt_file = outDir/\"15-02-2022-ground_truth.csv\"\n",
    "gtDf = pd.read_csv(gt_file).iloc[:,:6]\n",
    "gtDf['log_gt_CI'] = np.log2(gtDf.gt_CI)"
   ]
  },
  {
   "cell_type": "markdown",
   "metadata": {},
   "source": [
    "# Load current results"
   ]
  },
  {
   "cell_type": "code",
   "execution_count": null,
   "metadata": {
    "ExecuteTime": {
     "end_time": "2022-02-16T13:53:04.527525Z",
     "start_time": "2022-02-16T13:53:04.522217Z"
    }
   },
   "outputs": [],
   "source": [
    "resDir = Path(\"/nfs/nas22/fs2202/biol_micro_bioinf_nccr/hardt/nguyenb/tnseq/scratch/08_21/results/nguyenb\")\n",
    "res_file = resDir/'24-11-2021-all-libraries-zscores.csv'"
   ]
  },
  {
   "cell_type": "code",
   "execution_count": null,
   "metadata": {
    "ExecuteTime": {
     "end_time": "2022-02-16T13:53:07.069828Z",
     "start_time": "2022-02-16T13:53:06.990724Z"
    }
   },
   "outputs": [],
   "source": [
    "resDf = pd.read_csv(res_file, index_col=0).rename({'ci': 'CI'}, axis=1)\n",
    "resDf['log_CI'] = np.log2(resDf.CI)"
   ]
  },
  {
   "cell_type": "code",
   "execution_count": null,
   "metadata": {
    "ExecuteTime": {
     "end_time": "2022-02-16T13:53:08.775838Z",
     "start_time": "2022-02-16T13:53:08.755096Z"
    }
   },
   "outputs": [],
   "source": [
    "resDf.sample(5)"
   ]
  },
  {
   "cell_type": "code",
   "execution_count": null,
   "metadata": {
    "ExecuteTime": {
     "end_time": "2022-02-16T14:00:56.454367Z",
     "start_time": "2022-02-16T14:00:56.427069Z"
    }
   },
   "outputs": [],
   "source": [
    "# Try for all\n",
    "comp = resDf.merge(gtDf, on=['gene', 'day'])\n",
    "comp.head()\n"
   ]
  },
  {
   "cell_type": "code",
   "execution_count": null,
   "metadata": {
    "ExecuteTime": {
     "end_time": "2022-02-16T15:18:42.410769Z",
     "start_time": "2022-02-16T15:18:42.383655Z"
    }
   },
   "outputs": [],
   "source": [
    "# 1. correlation between CI for each library / day\n",
    "gt_CI = \"log_gt_CI\"\n",
    "exp_CI = \"log_CI\"\n"
   ]
  },
  {
   "cell_type": "code",
   "execution_count": null,
   "metadata": {
    "ExecuteTime": {
     "end_time": "2022-02-16T16:01:51.060549Z",
     "start_time": "2022-02-16T16:01:51.052284Z"
    }
   },
   "outputs": [],
   "source": [
    "def get_ci_corr(comp, gt_CI, exp_CI, method):\n",
    "    corr_df = comp.groupby(['library', 'day'])[[gt_CI, exp_CI]].corr().unstack().iloc[:,1].reset_index()\n",
    "    corr_df.columns = ['library', 'day', 'R2']\n",
    "    r2mean = corr_df.groupby('library').R2.mean()\n",
    "    corr_df = corr_df.set_index('library').assign(method=method)\n",
    "    corr_df['r2lib'] = r2mean\n",
    "    corr_df = corr_df.reset_index()\n",
    "    \n",
    "    return corr_df"
   ]
  },
  {
   "cell_type": "code",
   "execution_count": null,
   "metadata": {
    "ExecuteTime": {
     "end_time": "2022-02-16T16:01:54.676511Z",
     "start_time": "2022-02-16T16:01:54.645039Z"
    }
   },
   "outputs": [],
   "source": [
    "zscore_corr = get_ci_corr(comp,\"log_gt_CI\", \"log_CI\", 'zscore' )"
   ]
  },
  {
   "cell_type": "code",
   "execution_count": null,
   "metadata": {
    "ExecuteTime": {
     "end_time": "2022-02-16T15:57:04.790334Z",
     "start_time": "2022-02-16T15:57:04.777700Z"
    }
   },
   "outputs": [],
   "source": [
    "def compare_to_gt(compDf, gt_padj = \"gt_padj\", exp_padj = 'padj'):\n",
    "    compDf['gt_hits'] = compDf[gt_padj]<0.05\n",
    "    compDf['screen_hits'] = compDf[exp_padj]<0.05\n",
    "    compDf['TP'] = (compDf.gt_hits & compDf.screen_hits) == True\n",
    "    compDf['TN'] = (compDf.gt_hits == False) & (compDf.screen_hits == False)\n",
    "    compDf['FP'] = (compDf.gt_hits == False) & (compDf.screen_hits == True)\n",
    "    compDf['FN'] = (compDf.gt_hits == True) & (compDf.screen_hits == False)\n",
    "    confMat = (pd.DataFrame(compDf[['TP', 'FN',  'FP', 'TN', ]].sum()\n",
    "                            .values\n",
    "                            .reshape((2,2)), index=['Real Pos', 'Real Neg'],\n",
    "                      columns=['Pred Pos', 'Pred Neg']))\n",
    "    prec = confMat.loc['Real Pos', 'Pred Pos']/confMat.sum()['Pred Pos']\n",
    "    recall = confMat.loc['Real Pos', 'Pred Pos']/confMat.sum(axis=1)['Real Pos']\n",
    "    return compDf, confMat, prec, recall"
   ]
  },
  {
   "cell_type": "code",
   "execution_count": null,
   "metadata": {
    "ExecuteTime": {
     "end_time": "2022-02-16T15:47:24.536442Z",
     "start_time": "2022-02-16T15:47:24.522797Z"
    }
   },
   "outputs": [],
   "source": [
    "clrs = px.colors.qualitative.Safe\n",
    "libraries = resDf.library.unique()\n",
    "library_clrs = {lib:col for lib, col in zip(libraries, clrs)}"
   ]
  },
  {
   "cell_type": "code",
   "execution_count": null,
   "metadata": {
    "ExecuteTime": {
     "end_time": "2022-02-16T16:02:22.681889Z",
     "start_time": "2022-02-16T16:02:22.591405Z"
    }
   },
   "outputs": [],
   "source": [
    "per_lib_corr = zscore_corr[['library', 'r2lib', 'method']].drop_duplicates()\n",
    "fig = px.bar(per_lib_corr, template='simple_white',\n",
    "       color_discrete_map= library_clrs,\n",
    "       category_orders={'library': per_lib_corr.sort_values('r2lib').library.values},\n",
    "       x='library', y='r2lib', color='library', \n",
    "      labels={'library':'Library', 'r2lib': 'R2'},\n",
    "      title=\"R2 between RBSeq CIs and experimental CIs\", hover_data=['method'])\n",
    "\n",
    "fig.update_layout(\n",
    "    \n",
    "    font_size=14,\n",
    "    title={\n",
    "        'y':0.9,\n",
    "        'x':0.5,\n",
    "        'xanchor': 'center',\n",
    "        'yanchor': 'top'}\n",
    ")\n",
    "fig.update_xaxes(showticklabels=False)\n",
    "fig"
   ]
  },
  {
   "cell_type": "code",
   "execution_count": null,
   "metadata": {
    "ExecuteTime": {
     "end_time": "2022-02-16T15:59:02.389039Z",
     "start_time": "2022-02-16T15:59:02.380881Z"
    }
   },
   "outputs": [],
   "source": [
    "def get_stats(comp, method, gt_padj, exp_padj):\n",
    "    pr = []\n",
    "    for lib, g in comp.groupby('library'):\n",
    "        print(lib)\n",
    "        df, mat, prec, recall = compare_to_gt(g, gt_padj, exp_padj)\n",
    "        pr.append([lib, prec, recall])\n",
    "        print(mat)\n",
    "    pr_df = pd.DataFrame(pr, columns = ['library', 'precision', 'recall']).assign(method=method)\n",
    "    return pr_df\n"
   ]
  },
  {
   "cell_type": "code",
   "execution_count": null,
   "metadata": {
    "ExecuteTime": {
     "end_time": "2022-02-16T16:06:09.103704Z",
     "start_time": "2022-02-16T16:06:08.930121Z"
    }
   },
   "outputs": [],
   "source": [
    "prec_zscore = get_stats(comp, 'zscore', \"gt_padj\", \"padj\")\n",
    "prec_mageck = get_stats(comp2, 'mageck', \"gt_padj\", \"fdr\")\n",
    "prec_magnobatch = get_stats(comp3, 'mageck-noBatch', \"gt_padj\", \"fdr\")"
   ]
  },
  {
   "cell_type": "code",
   "execution_count": null,
   "metadata": {
    "ExecuteTime": {
     "end_time": "2022-02-16T15:58:29.713879Z",
     "start_time": "2022-02-16T15:58:29.697905Z"
    }
   },
   "outputs": [],
   "source": [
    "prec_zscore"
   ]
  },
  {
   "cell_type": "code",
   "execution_count": null,
   "metadata": {
    "ExecuteTime": {
     "end_time": "2022-02-16T15:59:53.925201Z",
     "start_time": "2022-02-16T15:59:53.921094Z"
    }
   },
   "outputs": [],
   "source": [
    "# px.scatter(comp, x='log_gt_CI', y='log_CI', trendline=\"ols\", color='day', height=800, \n",
    "#           hover_data=['gene', 'library'])"
   ]
  },
  {
   "cell_type": "markdown",
   "metadata": {},
   "source": [
    "# Load MAGeCK resuts"
   ]
  },
  {
   "cell_type": "code",
   "execution_count": null,
   "metadata": {
    "ExecuteTime": {
     "end_time": "2022-02-16T16:02:35.853644Z",
     "start_time": "2022-02-16T16:02:35.751493Z"
    }
   },
   "outputs": [],
   "source": [
    "maDir = Path(\"/nfs/nas22/fs2202/biol_micro_bioinf_nccr/hardt/nguyenb/tnseq/scratch/02_22_mageck\")\n",
    "mres = maDir/'16-02-2022-batch-corrected-9-libraries.csv'\n",
    "maDf = pd.read_csv(mres)[['id', 'neg|fdr', 'neg|lfc', 'pos|fdr', 'contrast', 'library']]\n",
    "maDf['fdr'] = maDf[['neg|fdr', 'pos|fdr']].min(axis=1)\n",
    "maDf = maDf.rename({'id':'gene', 'contrast':'day'}, axis=1)"
   ]
  },
  {
   "cell_type": "code",
   "execution_count": null,
   "metadata": {
    "ExecuteTime": {
     "end_time": "2022-02-16T16:03:35.672766Z",
     "start_time": "2022-02-16T16:03:35.635236Z"
    }
   },
   "outputs": [],
   "source": [
    "comp2 = maDf.merge(gtDf, on=['gene', 'day'])\n",
    "mageck_corr = get_ci_corr(comp2,\"log_gt_CI\", \"neg|lfc\", 'mageck' )\n"
   ]
  },
  {
   "cell_type": "code",
   "execution_count": null,
   "metadata": {
    "ExecuteTime": {
     "end_time": "2022-02-16T16:04:15.560600Z",
     "start_time": "2022-02-16T16:04:15.476411Z"
    }
   },
   "outputs": [],
   "source": [
    "per_lib_corr_mageck = mageck_corr[['library', 'r2lib', 'method']].drop_duplicates()\n",
    "fig = px.bar(per_lib_corr_mageck, template='simple_white',\n",
    "       color_discrete_map= library_clrs,\n",
    "       category_orders={'library': per_lib_corr_mageck.sort_values('r2lib').library.values},\n",
    "       x='library', y='r2lib', color='library', \n",
    "      labels={'library':'Library', 'r2lib': 'R2'},\n",
    "      title=\"R2 between RBSeq CIs and experimental CIs\", hover_data=['method'])\n",
    "\n",
    "fig.update_layout(\n",
    "    \n",
    "    font_size=14,\n",
    "    title={\n",
    "        'y':0.9,\n",
    "        'x':0.5,\n",
    "        'xanchor': 'center',\n",
    "        'yanchor': 'top'}\n",
    ")\n",
    "fig.update_xaxes(showticklabels=False)\n",
    "fig"
   ]
  },
  {
   "cell_type": "code",
   "execution_count": null,
   "metadata": {
    "ExecuteTime": {
     "end_time": "2022-02-16T14:28:52.771895Z",
     "start_time": "2022-02-16T14:28:52.698642Z"
    }
   },
   "outputs": [],
   "source": [
    "#px.line(corr_df_mageck, x='day', y='R2', color='library', markers=True)"
   ]
  },
  {
   "cell_type": "code",
   "execution_count": null,
   "metadata": {
    "ExecuteTime": {
     "end_time": "2022-02-16T15:05:09.195877Z",
     "start_time": "2022-02-16T15:05:09.098909Z"
    }
   },
   "outputs": [],
   "source": [
    "mresnoBatch = maDir/'16-02-2022-not-batch-corrected-9-libraries.csv'\n",
    "maDf2 = pd.read_csv(mresnoBatch)[['id', 'neg|fdr', 'neg|lfc', 'pos|fdr', 'contrast', 'library']]\n",
    "maDf2['fdr'] = maDf2[['neg|fdr', 'pos|fdr']].min(axis=1)\n",
    "maDf2 = maDf2.rename({'id':'gene', 'contrast':'day'}, axis=1)"
   ]
  },
  {
   "cell_type": "code",
   "execution_count": null,
   "metadata": {
    "ExecuteTime": {
     "end_time": "2022-02-16T15:05:28.776792Z",
     "start_time": "2022-02-16T15:05:28.737008Z"
    }
   },
   "outputs": [],
   "source": [
    "comp3 = maDf2.merge(gtDf, on=['gene', 'day'])\n",
    "exp_CI = 'neg|lfc'\n",
    "corr_df_mageck2 = comp3.groupby(['library', 'day'])[[gt_CI, exp_CI]].corr().unstack().iloc[:,1].reset_index()\n",
    "corr_df_mageck2.columns = ['library', 'day', 'R2']"
   ]
  },
  {
   "cell_type": "code",
   "execution_count": null,
   "metadata": {
    "ExecuteTime": {
     "end_time": "2022-02-16T15:05:36.539965Z",
     "start_time": "2022-02-16T15:05:36.467053Z"
    }
   },
   "outputs": [],
   "source": [
    "px.line(corr_df_mageck2, x='day', y='R2', color='library', markers=True)"
   ]
  },
  {
   "cell_type": "code",
   "execution_count": null,
   "metadata": {
    "ExecuteTime": {
     "end_time": "2022-02-16T16:07:04.419201Z",
     "start_time": "2022-02-16T16:07:04.244634Z"
    }
   },
   "outputs": [],
   "source": [
    "prec_zscore = get_stats(comp, 'zscore', \"gt_padj\", \"padj\")\n",
    "prec_mageck = get_stats(comp2, 'mageck', \"gt_padj\", \"fdr\")\n",
    "prec_magnobatch = get_stats(comp3, 'mageck-noBatch', \"gt_padj\", \"fdr\")\n",
    "precision_all = pd.concat([prec_zscore, prec_mageck, prec_magnobatch])"
   ]
  },
  {
   "cell_type": "code",
   "execution_count": null,
   "metadata": {
    "ExecuteTime": {
     "end_time": "2022-02-16T16:10:14.008634Z",
     "start_time": "2022-02-16T16:10:13.934389Z"
    }
   },
   "outputs": [],
   "source": [
    "px.bar(precision_all, template = 'simple_white',\n",
    "       x='method', y='precision', color='library', barmode='group', \n",
    "       color_discrete_map= library_clrs,\n",
    "       category_orders={'library': precision_all.sort_values('precision').library.values})"
   ]
  },
  {
   "cell_type": "code",
   "execution_count": null,
   "metadata": {
    "ExecuteTime": {
     "end_time": "2022-02-16T16:10:55.504918Z",
     "start_time": "2022-02-16T16:10:55.430535Z"
    }
   },
   "outputs": [],
   "source": [
    "px.bar(precision_all, template = 'simple_white',\n",
    "       x='method', y='recall', color='library', barmode='group', \n",
    "       color_discrete_map= library_clrs,\n",
    "       category_orders={'library': precision_all.sort_values('recall').library.values})"
   ]
  },
  {
   "cell_type": "code",
   "execution_count": null,
   "metadata": {
    "ExecuteTime": {
     "end_time": "2022-02-16T16:18:49.854145Z",
     "start_time": "2022-02-16T16:18:49.842716Z"
    }
   },
   "outputs": [],
   "source": [
    "precision_all = precision_all.melt(id_vars=['library', 'method'], var_name='metric', \n",
    "                                   value_name='prop',\n",
    "                                  )"
   ]
  },
  {
   "cell_type": "code",
   "execution_count": null,
   "metadata": {
    "ExecuteTime": {
     "end_time": "2022-02-16T16:20:08.856831Z",
     "start_time": "2022-02-16T16:20:08.785689Z"
    }
   },
   "outputs": [],
   "source": [
    "\n",
    "fig = px.box(precision_all, x='method', y='prop', template=\"simple_white\", \n",
    "             facet_col='metric', color='method', height=600, width=700)\n",
    "fig.update_yaxes(tickvals=[0, 0.25, 0.5, 0.75, 1] )"
   ]
  },
  {
   "cell_type": "code",
   "execution_count": null,
   "metadata": {
    "ExecuteTime": {
     "end_time": "2022-02-16T15:16:40.593024Z",
     "start_time": "2022-02-16T15:16:40.577750Z"
    }
   },
   "outputs": [],
   "source": [
    "precision_all[precision_all.library == 'library_10_1']"
   ]
  },
  {
   "cell_type": "code",
   "execution_count": null,
   "metadata": {},
   "outputs": [],
   "source": []
  }
 ],
 "metadata": {
  "kernelspec": {
   "display_name": "Python 3 (ipykernel)",
   "language": "python",
   "name": "python3"
  },
  "language_info": {
   "codemirror_mode": {
    "name": "ipython",
    "version": 3
   },
   "file_extension": ".py",
   "mimetype": "text/x-python",
   "name": "python",
   "nbconvert_exporter": "python",
   "pygments_lexer": "ipython3",
   "version": "3.8.12"
  },
  "toc": {
   "base_numbering": 1,
   "nav_menu": {},
   "number_sections": true,
   "sideBar": true,
   "skip_h1_title": false,
   "title_cell": "Table of Contents",
   "title_sidebar": "Contents",
   "toc_cell": false,
   "toc_position": {},
   "toc_section_display": true,
   "toc_window_display": false
  }
 },
 "nbformat": 4,
 "nbformat_minor": 4
}
