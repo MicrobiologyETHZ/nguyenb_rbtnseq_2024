{
 "cells": [
  {
   "cell_type": "code",
   "execution_count": null,
   "metadata": {
    "ExecuteTime": {
     "end_time": "2022-10-17T12:45:12.615695Z",
     "start_time": "2022-10-17T12:45:12.599092Z"
    },
    "slideshow": {
     "slide_type": "skip"
    }
   },
   "outputs": [],
   "source": [
    "# %load ../snippets/basic_settings.py\n",
    "import pandas as pd\n",
    "import numpy as np\n",
    "import matplotlib.pyplot as plt\n",
    "import os\n",
    "from pathlib import Path\n",
    "import seaborn as sns\n",
    "import sys\n",
    "import plotly.express as px\n",
    "\n",
    "sns.set_context(\"notebook\", font_scale=1.1)\n",
    "pd.set_option(\"display.max_columns\", 100)\n",
    "pd.set_option(\"display.max_rows\", 100)\n",
    "plt.rcParams[\"figure.figsize\"] = (16, 12)\n",
    "plt.rcParams['savefig.dpi'] = 200\n",
    "plt.rcParams['figure.autolayout'] = False\n",
    "plt.rcParams['axes.labelsize'] = 18\n",
    "plt.rcParams['axes.titlesize'] = 20\n",
    "plt.rcParams['font.size'] = 16\n",
    "plt.rcParams['lines.linewidth'] = 2.0\n",
    "plt.rcParams['lines.markersize'] = 8\n",
    "plt.rcParams['legend.fontsize'] = 14\n",
    "plt.rcParams['text.usetex'] = False  # True activates latex output in fonts!\n",
    "#pd.set_option('display.float_format', lambda x: '{:,.2f}'.format(x))"
   ]
  },
  {
   "cell_type": "code",
   "execution_count": null,
   "metadata": {
    "ExecuteTime": {
     "end_time": "2022-10-17T12:45:12.799470Z",
     "start_time": "2022-10-17T12:45:12.793641Z"
    }
   },
   "outputs": [],
   "source": [
    "from scipy.stats import wilcoxon"
   ]
  },
  {
   "cell_type": "code",
   "execution_count": null,
   "metadata": {
    "ExecuteTime": {
     "end_time": "2022-10-17T12:45:13.038434Z",
     "start_time": "2022-10-17T12:45:13.015511Z"
    },
    "slideshow": {
     "slide_type": "skip"
    }
   },
   "outputs": [],
   "source": [
    "clrs = px.colors.qualitative.Safe\n",
    "libraries = sorted(['library_15_1', 'library_13_2', 'library_9_1', \n",
    "             'library_10_1', 'library_11_2', 'library_12_1',\n",
    "             'library_12_2', 'library_13_1', 'library_10_2',\n",
    "             'library_14_2'])\n",
    "\n",
    "library_clrs = {lib:col for lib, col in zip(libraries, clrs)}\n",
    "\n",
    "\n",
    "def get_ci_corr(comp, gt_CI, exp_CI, method):\n",
    "    corr_df = comp.groupby(['library', 'day'])[[gt_CI, exp_CI]].corr().unstack().iloc[:,1].reset_index()\n",
    "    corr_df.columns = ['library', 'day', 'R']\n",
    "    corr_df['R2'] = corr_df['R']**2\n",
    "    r2mean = corr_df.groupby('library').R2.mean()\n",
    "    rmean = corr_df.groupby('library').R.mean()\n",
    "    corr_df = corr_df.set_index('library').assign(method=method)\n",
    "    corr_df['r2lib'] = r2mean\n",
    "    corr_df['rlib'] = rmean\n",
    "    corr_df = corr_df.reset_index()\n",
    "    return corr_df\n",
    "\n",
    "\n",
    "def compare_to_gt(compDf, gt_padj = \"gt_padj\", exp_padj = 'padj'):\n",
    "    compDf['gt_hits'] = compDf[gt_padj]<0.05\n",
    "    compDf['screen_hits'] = compDf[exp_padj]<0.05\n",
    "    compDf['TP'] = (compDf.gt_hits & compDf.screen_hits) == True\n",
    "    compDf['TN'] = (compDf.gt_hits == False) & (compDf.screen_hits == False)\n",
    "    compDf['FP'] = (compDf.gt_hits == False) & (compDf.screen_hits == True)\n",
    "    compDf['FN'] = (compDf.gt_hits == True) & (compDf.screen_hits == False)\n",
    "    confMat = (pd.DataFrame(compDf[['TP', 'FN',  'FP', 'TN', ]].sum()\n",
    "                            .values\n",
    "                            .reshape((2,2)), index=['Real Pos', 'Real Neg'],\n",
    "                      columns=['Pred Pos', 'Pred Neg']))\n",
    "    prec = confMat.loc['Real Pos', 'Pred Pos']/confMat.sum()['Pred Pos']\n",
    "    recall = confMat.loc['Real Pos', 'Pred Pos']/confMat.sum(axis=1)['Real Pos']\n",
    "    return compDf, confMat, prec, recall\n",
    "\n",
    "\n",
    "def get_stats(comp, method, gt_padj, exp_padj):\n",
    "    pr = []\n",
    "    for lib, g in comp.groupby('library'):\n",
    "        print(lib)\n",
    "        df, mat, prec, recall = compare_to_gt(g, gt_padj, exp_padj)\n",
    "        pr.append([lib, prec, recall])\n",
    "        print(mat)\n",
    "    pr_df = pd.DataFrame(pr, columns = ['library', 'precision', 'recall']).assign(method=method)\n",
    "    return pr_df\n",
    "\n",
    "\n",
    "def get_numHits(res, pval_col, method, pval_cutoff=0.05):\n",
    "    return (res[res[pval_col] < pval_cutoff].copy()\n",
    "           .groupby(['library', 'day']).gene.nunique()\n",
    "           .reset_index()\n",
    "            .assign(method=method))\n",
    "\n",
    "def plot_correlations(corr_df):\n",
    "    per_lib_corr = corr_df[['library', 'rlib', 'method']].drop_duplicates()\n",
    "    fig = px.bar(per_lib_corr, template='simple_white',\n",
    "       color_discrete_map= library_clrs,\n",
    "       category_orders={'library': per_lib_corr.sort_values('rlib').library.values},\n",
    "       x='library', y='rlib', color='library', \n",
    "      labels={'library':'Library', 'rlib': 'R'},\n",
    "      title=\"R between RBSeq CIs and experimental CIs\", hover_data=['method'])\n",
    "\n",
    "    fig.update_layout(\n",
    "\n",
    "        font_size=14,\n",
    "        title={\n",
    "            'y':0.9,\n",
    "            'x':0.5,\n",
    "            'xanchor': 'center',\n",
    "            'yanchor': 'top'},\n",
    "        yaxis_range=[0,1]\n",
    "    )\n",
    "    fig.update_xaxes(showticklabels=False)\n",
    "    return fig\n"
   ]
  },
  {
   "cell_type": "markdown",
   "metadata": {},
   "source": [
    "# Process Bidong's Data"
   ]
  },
  {
   "cell_type": "code",
   "execution_count": null,
   "metadata": {
    "ExecuteTime": {
     "end_time": "2022-10-17T12:45:13.461032Z",
     "start_time": "2022-10-17T12:45:13.427701Z"
    }
   },
   "outputs": [],
   "source": [
    "outDir = Path(\"/nfs/nas22/fs2202/biol_micro_bioinf_nccr/hardt/nguyenb/tnseq/scratch/02_22_result_benchmarks\")\n",
    "exp_file = outDir/\"CI_for_TCA_for_Anna_edited.csv\"\n",
    "exp_df = pd.read_csv(exp_file).dropna()"
   ]
  },
  {
   "cell_type": "code",
   "execution_count": null,
   "metadata": {
    "ExecuteTime": {
     "end_time": "2022-10-17T12:45:13.663743Z",
     "start_time": "2022-10-17T12:45:13.628201Z"
    }
   },
   "outputs": [],
   "source": [
    "hypMed = 1.0\n",
    "pval = exp_df.groupby(['gene', 'day']).apply(lambda x: wilcoxon(x.CI.values-hypMed)[1]).reset_index()\n",
    "pval.columns = [\n",
    "    'gene', 'day', 'gt_pval'\n",
    "]\n",
    "med = exp_df.groupby(['gene', 'day']).agg({'CI':['median', 'count']}).reset_index()\n",
    "med.columns = ['gene', 'day', 'gt_CI', 'num_mice']"
   ]
  },
  {
   "cell_type": "code",
   "execution_count": null,
   "metadata": {
    "ExecuteTime": {
     "end_time": "2022-10-17T12:45:13.812606Z",
     "start_time": "2022-10-17T12:45:13.802276Z"
    }
   },
   "outputs": [],
   "source": [
    "gt_truth2 = pval.merge(med, on=['gene', 'day'])\n",
    "gt_truth2['log_gt_CI'] = np.log2(gt_truth2.gt_CI)"
   ]
  },
  {
   "cell_type": "code",
   "execution_count": null,
   "metadata": {
    "ExecuteTime": {
     "end_time": "2022-10-17T12:45:13.995194Z",
     "start_time": "2022-10-17T12:45:13.983968Z"
    }
   },
   "outputs": [],
   "source": [
    "gt_truth2[gt_truth2.gt_pval >=0.05].shape"
   ]
  },
  {
   "cell_type": "markdown",
   "metadata": {
    "ExecuteTime": {
     "end_time": "2022-02-15T09:15:18.829823Z",
     "start_time": "2022-02-15T09:15:18.827309Z"
    },
    "slideshow": {
     "slide_type": "skip"
    }
   },
   "source": [
    "# Load Ground Truth data"
   ]
  },
  {
   "cell_type": "code",
   "execution_count": null,
   "metadata": {
    "ExecuteTime": {
     "end_time": "2022-10-17T12:45:14.539495Z",
     "start_time": "2022-10-17T12:45:14.349983Z"
    },
    "slideshow": {
     "slide_type": "skip"
    }
   },
   "outputs": [],
   "source": [
    "%ls /nfs/nas22/fs2202/biol_micro_bioinf_nccr/hardt/nguyenb/tnseq/scratch/02_22_result_benchmarks/"
   ]
  },
  {
   "cell_type": "code",
   "execution_count": null,
   "metadata": {
    "ExecuteTime": {
     "end_time": "2022-10-17T12:45:14.620637Z",
     "start_time": "2022-10-17T12:45:14.593362Z"
    },
    "slideshow": {
     "slide_type": "skip"
    }
   },
   "outputs": [],
   "source": [
    "gt_file = outDir/\"15-02-2022-ground_truth.csv\"\n",
    "gtDf = pd.read_csv(gt_file).iloc[:,:6]\n",
    "gtDf['log_gt_CI'] = np.log2(gtDf.gt_CI)\n",
    "gtDf = pd.concat([gtDf, gt_truth2])"
   ]
  },
  {
   "cell_type": "code",
   "execution_count": null,
   "metadata": {
    "ExecuteTime": {
     "end_time": "2022-10-17T12:45:14.832558Z",
     "start_time": "2022-10-17T12:45:14.820995Z"
    }
   },
   "outputs": [],
   "source": [
    "gtDf[gtDf.gt_pval < 0.05].shape"
   ]
  },
  {
   "cell_type": "code",
   "execution_count": null,
   "metadata": {
    "ExecuteTime": {
     "end_time": "2022-10-17T12:45:15.045561Z",
     "start_time": "2022-10-17T12:45:15.036681Z"
    }
   },
   "outputs": [],
   "source": [
    "gtDf[gtDf.gt_pval >= 0.05].shape"
   ]
  },
  {
   "cell_type": "markdown",
   "metadata": {
    "slideshow": {
     "slide_type": "skip"
    }
   },
   "source": [
    "# Load June results"
   ]
  },
  {
   "cell_type": "code",
   "execution_count": null,
   "metadata": {
    "ExecuteTime": {
     "end_time": "2022-10-17T12:45:15.751003Z",
     "start_time": "2022-10-17T12:45:15.483149Z"
    },
    "slideshow": {
     "slide_type": "skip"
    }
   },
   "outputs": [],
   "source": [
    "resDirJune = Path(\"/nfs/nas22/fs2202/biol_micro_bioinf_nccr/hardt/nguyenb/tnseq/scratch/08_21/results/nguyenb\")\n",
    "res_file_june = resDirJune/\"27_07/26-07-final-results.csv\"\n",
    "resJun = pd.read_csv(res_file_june, index_col=0)\n",
    "resJun['log_CI'] = np.log2(resJun.CI)\n",
    "comp0 = resJun.merge(gtDf, on=['gene', 'day'])"
   ]
  },
  {
   "cell_type": "code",
   "execution_count": null,
   "metadata": {
    "ExecuteTime": {
     "end_time": "2022-10-17T12:45:15.900866Z",
     "start_time": "2022-10-17T12:45:15.754494Z"
    },
    "slideshow": {
     "slide_type": "skip"
    }
   },
   "outputs": [],
   "source": [
    "gt_CI = \"log_gt_CI\"\n",
    "gt_padj = \"gt_pval\"\n",
    "exp_CI = \"log_CI\"\n",
    "exp_padj = \"zscore_padj\"\n",
    "\n",
    "zscoreJun_corr = get_ci_corr(comp0, gt_CI, exp_CI, \"zscore-original\")\n",
    "zscoreJune_stats = get_stats(comp0, \"zscore-original\", gt_padj, exp_padj)\n",
    "fig = plot_correlations(zscoreJun_corr)\n"
   ]
  },
  {
   "cell_type": "code",
   "execution_count": null,
   "metadata": {
    "ExecuteTime": {
     "end_time": "2022-10-17T12:45:15.911440Z",
     "start_time": "2022-10-17T12:45:15.903145Z"
    },
    "slideshow": {
     "slide_type": "slide"
    }
   },
   "outputs": [],
   "source": [
    "display(fig)"
   ]
  },
  {
   "cell_type": "markdown",
   "metadata": {
    "slideshow": {
     "slide_type": "skip"
    }
   },
   "source": [
    "# Load current results"
   ]
  },
  {
   "cell_type": "code",
   "execution_count": null,
   "metadata": {
    "ExecuteTime": {
     "end_time": "2022-10-17T12:45:16.544253Z",
     "start_time": "2022-10-17T12:45:16.327612Z"
    }
   },
   "outputs": [],
   "source": [
    "%ls /nfs/nas22/fs2202/biol_micro_bioinf_nccr/hardt/nguyenb/tnseq/scratch/08_21/maps/library_15_1/library_15_1.barcode_map.annotated.csv "
   ]
  },
  {
   "cell_type": "code",
   "execution_count": null,
   "metadata": {
    "ExecuteTime": {
     "end_time": "2022-10-17T12:45:16.758374Z",
     "start_time": "2022-10-17T12:45:16.551364Z"
    },
    "slideshow": {
     "slide_type": "skip"
    }
   },
   "outputs": [],
   "source": [
    "resDir = Path(\"/nfs/nas22/fs2202/biol_micro_bioinf_nccr/hardt/nguyenb/tnseq/scratch/08_21/results/nguyenb\")\n",
    "res_file = resDir/'24-11-2021-all-libraries-zscores.csv'\n",
    "resDf = pd.read_csv(res_file, index_col=0).rename({'ci': 'CI'}, axis=1)\n",
    "resDf['log_CI'] = np.log2(resDf.CI)\n",
    "\n",
    "comp = resDf.merge(gtDf, on=['gene', 'day'])\n",
    "comp.head()"
   ]
  },
  {
   "cell_type": "code",
   "execution_count": null,
   "metadata": {
    "ExecuteTime": {
     "end_time": "2022-10-17T12:45:16.916783Z",
     "start_time": "2022-10-17T12:45:16.762106Z"
    },
    "slideshow": {
     "slide_type": "skip"
    }
   },
   "outputs": [],
   "source": [
    "gt_CI = \"log_gt_CI\"\n",
    "gt_padj = \"gt_pval\"\n",
    "exp_CI = \"log_CI\"\n",
    "exp_padj = \"padj\"\n",
    "\n",
    "zscoreNov_corr = get_ci_corr(comp, gt_CI, exp_CI, \"zscore-current\")\n",
    "zscoreNov_stats = get_stats(comp, \"zscore-current\", gt_padj, exp_padj)\n",
    "fig = plot_correlations(zscoreNov_corr)"
   ]
  },
  {
   "cell_type": "code",
   "execution_count": null,
   "metadata": {
    "ExecuteTime": {
     "end_time": "2022-10-17T12:45:16.968956Z",
     "start_time": "2022-10-17T12:45:16.956950Z"
    },
    "slideshow": {
     "slide_type": "slide"
    }
   },
   "outputs": [],
   "source": [
    "fig"
   ]
  },
  {
   "cell_type": "markdown",
   "metadata": {
    "slideshow": {
     "slide_type": "skip"
    }
   },
   "source": [
    "# Load MAGeCK resuts"
   ]
  },
  {
   "cell_type": "code",
   "execution_count": null,
   "metadata": {
    "ExecuteTime": {
     "end_time": "2022-10-17T12:45:17.610159Z",
     "start_time": "2022-10-17T12:45:17.605674Z"
    },
    "slideshow": {
     "slide_type": "skip"
    }
   },
   "outputs": [],
   "source": [
    "maDir = Path(\"/nfs/nas22/fs2202/biol_micro_bioinf_nccr/hardt/nguyenb/tnseq/scratch/02_22_mageck\")\n",
    "# mres = maDir/'16-02-2022-batch-corrected-9-libraries.csv'\n",
    "# maDf = pd.read_csv(mres)[['id', 'neg|fdr', 'neg|lfc', 'pos|fdr', 'contrast', 'library']]\n",
    "# maDf['fdr'] = maDf[['neg|fdr', 'pos|fdr']].min(axis=1)\n",
    "# maDf = maDf.rename({'id':'gene', 'contrast':'day'}, axis=1)\n",
    "# comp2 = maDf.merge(gtDf, on=['gene', 'day'])"
   ]
  },
  {
   "cell_type": "code",
   "execution_count": null,
   "metadata": {
    "ExecuteTime": {
     "end_time": "2022-10-17T12:45:17.872477Z",
     "start_time": "2022-10-17T12:45:17.801099Z"
    }
   },
   "outputs": [],
   "source": [
    "mres = \"/nfs/nas22/fs2202/biol_micro_bioinf_nccr/hardt/nguyenb/tnseq/scratch/04_22/results/05-05-2022-concatenated-results-10-libraries.csv\"\n",
    "maDf = pd.read_csv(mres)\n",
    "maDf['fdr'] = maDf[['neg_selection_fdr', 'pos_selection_fdr']].min(axis=1)\n",
    "maDf = maDf.rename({'Name':'gene', 'contrast':'day'}, axis=1)\n",
    "comp2 = maDf.merge(gtDf, on=['gene', 'day'])"
   ]
  },
  {
   "cell_type": "code",
   "execution_count": null,
   "metadata": {
    "ExecuteTime": {
     "end_time": "2022-10-17T12:45:18.023804Z",
     "start_time": "2022-10-17T12:45:17.996782Z"
    }
   },
   "outputs": [],
   "source": [
    "comp2"
   ]
  },
  {
   "cell_type": "code",
   "execution_count": null,
   "metadata": {
    "ExecuteTime": {
     "end_time": "2022-10-17T12:45:18.286355Z",
     "start_time": "2022-10-17T12:45:18.187392Z"
    }
   },
   "outputs": [],
   "source": [
    "%store maDf"
   ]
  },
  {
   "cell_type": "code",
   "execution_count": null,
   "metadata": {
    "ExecuteTime": {
     "end_time": "2022-10-17T12:45:18.694122Z",
     "start_time": "2022-10-17T12:45:18.541782Z"
    },
    "slideshow": {
     "slide_type": "skip"
    }
   },
   "outputs": [],
   "source": [
    "gt_CI = \"log_gt_CI\"\n",
    "gt_padj = \"gt_pval\"\n",
    "exp_CI = \"LFC\"\n",
    "exp_padj = \"fdr\"\n",
    "\n",
    "mageck_corr = get_ci_corr(comp2, gt_CI, exp_CI, \"mageck-new\")\n",
    "mageck_stats = get_stats(comp2, \"mageck\", gt_padj, exp_padj)\n",
    "fig = plot_correlations(mageck_corr)\n"
   ]
  },
  {
   "cell_type": "code",
   "execution_count": null,
   "metadata": {
    "ExecuteTime": {
     "end_time": "2022-10-17T12:45:18.746587Z",
     "start_time": "2022-10-17T12:45:18.732568Z"
    }
   },
   "outputs": [],
   "source": [
    "mageck_stats"
   ]
  },
  {
   "cell_type": "code",
   "execution_count": null,
   "metadata": {
    "ExecuteTime": {
     "end_time": "2022-10-17T12:45:18.979331Z",
     "start_time": "2022-10-17T12:45:18.963568Z"
    },
    "slideshow": {
     "slide_type": "slide"
    }
   },
   "outputs": [],
   "source": [
    "fig"
   ]
  },
  {
   "cell_type": "code",
   "execution_count": null,
   "metadata": {
    "ExecuteTime": {
     "end_time": "2022-10-17T12:45:19.230855Z",
     "start_time": "2022-10-17T12:45:19.207912Z"
    },
    "slideshow": {
     "slide_type": "skip"
    }
   },
   "outputs": [],
   "source": [
    "comp2.head()"
   ]
  },
  {
   "cell_type": "code",
   "execution_count": null,
   "metadata": {
    "ExecuteTime": {
     "end_time": "2022-10-17T12:45:19.532255Z",
     "start_time": "2022-10-17T12:45:19.512809Z"
    },
    "slideshow": {
     "slide_type": "skip"
    }
   },
   "outputs": [],
   "source": [
    "comp0.head()"
   ]
  },
  {
   "cell_type": "code",
   "execution_count": null,
   "metadata": {
    "ExecuteTime": {
     "end_time": "2022-10-17T12:45:19.782170Z",
     "start_time": "2022-10-17T12:45:19.764829Z"
    }
   },
   "outputs": [],
   "source": [
    "zscoreNov_corr"
   ]
  },
  {
   "cell_type": "code",
   "execution_count": null,
   "metadata": {
    "ExecuteTime": {
     "end_time": "2022-10-17T12:45:20.118454Z",
     "start_time": "2022-10-17T12:45:20.111315Z"
    }
   },
   "outputs": [],
   "source": [
    "0.89**2"
   ]
  },
  {
   "cell_type": "code",
   "execution_count": null,
   "metadata": {
    "ExecuteTime": {
     "end_time": "2022-10-17T13:02:58.916029Z",
     "start_time": "2022-10-17T13:02:58.817645Z"
    },
    "slideshow": {
     "slide_type": "slide"
    }
   },
   "outputs": [],
   "source": [
    "fig = px.scatter(comp[comp.library=='library_15_1'],\n",
    "        x='log_CI', y='log_gt_CI', facet_row='day', trendline='ols', width=400,\n",
    "           height=1000, color='day', template='simple_white', \n",
    "           title='Z-score Analysis', \n",
    "           labels = {'log_CI': 'RBSeq CI', 'log_gt_CI': 'Validated CI'}\n",
    "          )\n",
    "\n",
    "fig"
   ]
  },
  {
   "cell_type": "code",
   "execution_count": null,
   "metadata": {
    "ExecuteTime": {
     "end_time": "2022-10-17T12:45:49.154520Z",
     "start_time": "2022-10-17T12:45:49.057939Z"
    },
    "slideshow": {
     "slide_type": "slide"
    }
   },
   "outputs": [],
   "source": [
    "fig = px.scatter(comp2[comp2.library=='library_15_1'],\n",
    "        x='log_gt_CI', y='LFC', facet_row='day', trendline='ols', width=400,\n",
    "           height=1000, color='day', template='simple_white',\n",
    "                 title='MAGeCK Analysis', \n",
    "           labels = {'log_CI': 'RBSeq CI', 'log_gt_CI': 'Validated CI'}\n",
    "          )\n",
    "\n",
    "fig\n",
    "#fig.write_html(outDir/\"mageck-15-1-correlations.html\")"
   ]
  },
  {
   "cell_type": "code",
   "execution_count": null,
   "metadata": {
    "ExecuteTime": {
     "end_time": "2022-10-17T12:46:00.159367Z",
     "start_time": "2022-10-17T12:45:59.888956Z"
    },
    "slideshow": {
     "slide_type": "skip"
    }
   },
   "outputs": [],
   "source": [
    "mresnoBatch = maDir/'16-02-2022-not-batch-corrected-9-libraries.csv'\n",
    "maDf2 = pd.read_csv(mresnoBatch)[['id', 'neg|fdr', 'neg|lfc', 'pos|fdr', 'contrast', 'library']]\n",
    "maDf2['fdr'] = maDf2[['neg|fdr', 'pos|fdr']].min(axis=1)\n",
    "maDf2 = maDf2.rename({'id':'gene', 'contrast':'day'}, axis=1)\n",
    "comp3 = maDf2.merge(gtDf, on=['gene', 'day'])"
   ]
  },
  {
   "cell_type": "code",
   "execution_count": null,
   "metadata": {
    "ExecuteTime": {
     "end_time": "2022-10-17T12:46:00.414327Z",
     "start_time": "2022-10-17T12:46:00.269351Z"
    },
    "slideshow": {
     "slide_type": "skip"
    }
   },
   "outputs": [],
   "source": [
    "gt_CI = \"log_gt_CI\"\n",
    "gt_padj = \"gt_pval\"\n",
    "exp_CI = \"neg|lfc\"\n",
    "exp_padj = \"fdr\"\n",
    "\n",
    "mageck_no_batch_corr = get_ci_corr(comp3, gt_CI, exp_CI, \"mageck-no-batch\")\n",
    "mageck_no_batch_stats = get_stats(comp3, \"mageck-no-batch\", gt_padj, exp_padj)\n",
    "fig = plot_correlations(mageck_no_batch_corr)\n"
   ]
  },
  {
   "cell_type": "code",
   "execution_count": null,
   "metadata": {
    "ExecuteTime": {
     "end_time": "2022-10-17T12:46:00.684862Z",
     "start_time": "2022-10-17T12:46:00.669593Z"
    },
    "slideshow": {
     "slide_type": "slide"
    }
   },
   "outputs": [],
   "source": [
    "fig"
   ]
  },
  {
   "cell_type": "code",
   "execution_count": null,
   "metadata": {
    "ExecuteTime": {
     "end_time": "2022-10-17T12:46:01.211811Z",
     "start_time": "2022-10-17T12:46:01.207384Z"
    },
    "slideshow": {
     "slide_type": "skip"
    }
   },
   "outputs": [],
   "source": [
    "#px.line(corr_df_mageck2, x='day', y='R2', color='library', markers=True)"
   ]
  },
  {
   "cell_type": "code",
   "execution_count": null,
   "metadata": {
    "ExecuteTime": {
     "end_time": "2022-10-17T12:46:01.632935Z",
     "start_time": "2022-10-17T12:46:01.619976Z"
    },
    "slideshow": {
     "slide_type": "skip"
    }
   },
   "outputs": [],
   "source": [
    "precision_all = pd.concat([zscoreJune_stats, zscoreNov_stats, mageck_stats,mageck_no_batch_stats])\n",
    "\n",
    "precision_all = precision_all.melt(id_vars=['library', 'method'], var_name='metric', \n",
    "                                   value_name='prop',\n",
    "                                  )"
   ]
  },
  {
   "cell_type": "code",
   "execution_count": null,
   "metadata": {
    "ExecuteTime": {
     "end_time": "2022-10-17T12:46:02.227381Z",
     "start_time": "2022-10-17T12:46:02.097408Z"
    },
    "slideshow": {
     "slide_type": "slide"
    }
   },
   "outputs": [],
   "source": [
    "\n",
    "fig = px.box(precision_all, x='method', y='prop', template=\"simple_white\", \n",
    "             facet_col='metric', color='method', height=600, width=700)\n",
    "fig.update_layout(yaxis_range = [0,1.1] )"
   ]
  },
  {
   "cell_type": "code",
   "execution_count": null,
   "metadata": {
    "ExecuteTime": {
     "end_time": "2022-05-05T10:44:20.367709Z",
     "start_time": "2022-05-05T10:44:20.355762Z"
    }
   },
   "outputs": [],
   "source": [
    "f1 = precision_all.pivot(index=['library', 'method'], columns='metric', values='prop')\n",
    "f1['F1'] = 2*f1.precision*f1.recall/(f1.precision + f1.recall)"
   ]
  },
  {
   "cell_type": "code",
   "execution_count": null,
   "metadata": {
    "ExecuteTime": {
     "end_time": "2022-05-05T10:44:22.063154Z",
     "start_time": "2022-05-05T10:44:22.055578Z"
    }
   },
   "outputs": [],
   "source": [
    "f1 = f1.reset_index()"
   ]
  },
  {
   "cell_type": "code",
   "execution_count": null,
   "metadata": {
    "ExecuteTime": {
     "end_time": "2022-05-05T10:44:23.042610Z",
     "start_time": "2022-05-05T10:44:22.745608Z"
    }
   },
   "outputs": [],
   "source": [
    "sns.boxplot(data=f1, x='method', y='F1')"
   ]
  },
  {
   "cell_type": "code",
   "execution_count": null,
   "metadata": {
    "ExecuteTime": {
     "end_time": "2022-05-05T10:45:31.019499Z",
     "start_time": "2022-05-05T10:45:30.997708Z"
    }
   },
   "outputs": [],
   "source": [
    "precision_all"
   ]
  },
  {
   "cell_type": "code",
   "execution_count": null,
   "metadata": {
    "ExecuteTime": {
     "end_time": "2022-05-05T10:49:40.864897Z",
     "start_time": "2022-05-05T10:49:40.854311Z"
    }
   },
   "outputs": [],
   "source": [
    "methods = ['zscore-current', 'mageck']\n",
    "to_plot_prec = precision_all[(precision_all.metric == 'precision') & (precision_all.method.isin(methods))]\n",
    "to_plot_recall = precision_all[(precision_all.metric == 'recall') & (precision_all.method.isin(methods))]\n",
    "to_plot_f1 = f1[f1.method.isin(methods)]"
   ]
  },
  {
   "cell_type": "code",
   "execution_count": null,
   "metadata": {
    "ExecuteTime": {
     "end_time": "2022-05-05T10:51:22.241533Z",
     "start_time": "2022-05-05T10:51:22.222051Z"
    }
   },
   "outputs": [],
   "source": [
    "to_plot_f1"
   ]
  },
  {
   "cell_type": "code",
   "execution_count": null,
   "metadata": {
    "ExecuteTime": {
     "end_time": "2022-05-05T10:55:24.378875Z",
     "start_time": "2022-05-05T10:55:24.140413Z"
    },
    "slideshow": {
     "slide_type": "slide"
    }
   },
   "outputs": [],
   "source": [
    "f, axes =plt.subplots(1, 3, figsize=(12,6))\n",
    "sns.boxplot(data=to_plot_prec, \n",
    "                  x='method', y='prop', ax=axes[0])\n",
    "sns.stripplot(data=to_plot_prec, \n",
    "                  x='method', y='prop', ax=axes[0], color='black')\n",
    "axes[0].tick_params(axis='x', rotation=45)\n",
    "axes[0].set_title('Precision')\n",
    "axes[0].set_ylim(0, 1.1)\n",
    "sns.boxplot(data=to_plot_recall, \n",
    "                  x='method', y='prop', ax=axes[1])\n",
    "\n",
    "sns.stripplot(data=to_plot_recall, \n",
    "                  x='method', y='prop', ax=axes[1], color='black')\n",
    "\n",
    "sns.boxplot(data=to_plot_f1, x='method', y='F1', ax=axes[2], order=['zscore-current', 'mageck'])\n",
    "\n",
    "sns.stripplot(data=to_plot_f1, \n",
    "                  x='method', y='F1', ax=axes[2], color='black', order=['zscore-current', 'mageck'])\n",
    "plt.subplots_adjust(left=0.05, bottom=0.1, right=0.9, top=0.9, wspace=0.5, hspace=0.2)\n",
    "axes[1].tick_params(axis='x', rotation=45)\n",
    "axes[1].set_title('Recall')\n",
    "axes[1].set_ylim(0, 1.1)\n",
    "axes[2].tick_params(axis='x', rotation=45)\n",
    "axes[2].set_title('F1')\n",
    "axes[2].set_ylim(0, 1.1)\n",
    "#sns.stripplot(data=precision_all, x='metric', y='prop', hue='method', )"
   ]
  },
  {
   "cell_type": "code",
   "execution_count": null,
   "metadata": {
    "ExecuteTime": {
     "end_time": "2022-05-05T10:45:10.310798Z",
     "start_time": "2022-05-05T10:45:10.302007Z"
    },
    "slideshow": {
     "slide_type": "skip"
    }
   },
   "outputs": [],
   "source": [
    "all_corr = pd.concat([zscoreJun_corr, zscoreNov_corr, mageck_corr, mageck_no_batch_corr])"
   ]
  },
  {
   "cell_type": "code",
   "execution_count": null,
   "metadata": {
    "ExecuteTime": {
     "end_time": "2022-05-05T10:45:10.968698Z",
     "start_time": "2022-05-05T10:45:10.946902Z"
    },
    "slideshow": {
     "slide_type": "skip"
    }
   },
   "outputs": [],
   "source": [
    "mageck_corr"
   ]
  },
  {
   "cell_type": "code",
   "execution_count": null,
   "metadata": {
    "ExecuteTime": {
     "end_time": "2022-05-05T10:44:46.500520Z",
     "start_time": "2022-05-05T10:44:46.390707Z"
    },
    "slideshow": {
     "slide_type": "slide"
    }
   },
   "outputs": [],
   "source": [
    "all_corr = all_corr[['library', 'method', 'r2lib']].drop_duplicates()\n",
    "px.line(all_corr, x='method', y='r2lib', color = 'library', markers=True,\n",
    "        color_discrete_map=library_clrs,\n",
    "       hover_data=['library', 'method'])\n",
    "            "
   ]
  },
  {
   "cell_type": "code",
   "execution_count": null,
   "metadata": {
    "ExecuteTime": {
     "end_time": "2022-02-22T12:10:50.701127Z",
     "start_time": "2022-02-22T12:10:50.684751Z"
    },
    "slideshow": {
     "slide_type": "skip"
    }
   },
   "outputs": [],
   "source": [
    "all_corr"
   ]
  },
  {
   "cell_type": "code",
   "execution_count": null,
   "metadata": {
    "ExecuteTime": {
     "end_time": "2022-02-22T12:10:51.032729Z",
     "start_time": "2022-02-22T12:10:50.962425Z"
    },
    "slideshow": {
     "slide_type": "slide"
    }
   },
   "outputs": [],
   "source": [
    "px.line(mageck_corr, x='day', y='R2', color='library', markers=True)"
   ]
  },
  {
   "cell_type": "code",
   "execution_count": null,
   "metadata": {
    "ExecuteTime": {
     "end_time": "2022-05-05T10:45:04.916032Z",
     "start_time": "2022-05-05T10:45:04.814193Z"
    },
    "slideshow": {
     "slide_type": "skip"
    }
   },
   "outputs": [],
   "source": [
    "resJun = resJun[resJun.gene.str.len() < 15]\n",
    "numHit1 = get_numHits(resJun, 'zscore_padj', 'zscore-original', pval_cutoff=0.05)\n",
    "resNov = resDf[resDf.gene.str.len() < 15]\n",
    "numHit2 = get_numHits(resNov, 'padj', 'zscore-current', pval_cutoff=0.05)\n",
    "maDf = maDf[maDf.gene.str.len() < 15]\n",
    "numHit3 = get_numHits(maDf, 'fdr','mageck', pval_cutoff=0.05)\n",
    "maDf2 = maDf2[maDf2.gene.str.len() < 15]\n",
    "numHit4 = get_numHits(maDf2, 'fdr','mageck-no-batch', pval_cutoff=0.05)\n",
    "hits = pd.concat([numHit1, numHit2, numHit3, numHit4])"
   ]
  },
  {
   "cell_type": "code",
   "execution_count": null,
   "metadata": {
    "ExecuteTime": {
     "end_time": "2022-02-22T12:10:51.551070Z",
     "start_time": "2022-02-22T12:10:51.540549Z"
    },
    "slideshow": {
     "slide_type": "skip"
    }
   },
   "outputs": [],
   "source": [
    "numHit1.groupby('day').gene.median()"
   ]
  },
  {
   "cell_type": "code",
   "execution_count": null,
   "metadata": {
    "ExecuteTime": {
     "end_time": "2022-02-22T12:10:51.893119Z",
     "start_time": "2022-02-22T12:10:51.881645Z"
    },
    "slideshow": {
     "slide_type": "skip"
    }
   },
   "outputs": [],
   "source": [
    "numHit2.groupby('day').gene.median()"
   ]
  },
  {
   "cell_type": "code",
   "execution_count": null,
   "metadata": {
    "ExecuteTime": {
     "end_time": "2022-02-22T12:10:52.134715Z",
     "start_time": "2022-02-22T12:10:52.123743Z"
    },
    "slideshow": {
     "slide_type": "skip"
    }
   },
   "outputs": [],
   "source": [
    "numHit3.groupby('day').gene.median()"
   ]
  },
  {
   "cell_type": "code",
   "execution_count": null,
   "metadata": {
    "ExecuteTime": {
     "end_time": "2022-02-22T12:10:52.451325Z",
     "start_time": "2022-02-22T12:10:52.439251Z"
    },
    "slideshow": {
     "slide_type": "skip"
    }
   },
   "outputs": [],
   "source": [
    "numHit4.groupby('day').gene.median()"
   ]
  },
  {
   "cell_type": "code",
   "execution_count": null,
   "metadata": {
    "ExecuteTime": {
     "end_time": "2022-02-22T12:10:52.705213Z",
     "start_time": "2022-02-22T12:10:52.700817Z"
    },
    "slideshow": {
     "slide_type": "skip"
    }
   },
   "outputs": [],
   "source": [
    "good_libraries = ['library_11_2', 'library_14_2', 'library_15_1', 'library_11_2']"
   ]
  },
  {
   "cell_type": "code",
   "execution_count": null,
   "metadata": {
    "ExecuteTime": {
     "end_time": "2022-02-22T12:10:53.018053Z",
     "start_time": "2022-02-22T12:10:53.011215Z"
    },
    "slideshow": {
     "slide_type": "skip"
    }
   },
   "outputs": [],
   "source": [
    "good_hits = hits[hits.library.isin(good_libraries)]"
   ]
  },
  {
   "cell_type": "code",
   "execution_count": null,
   "metadata": {
    "ExecuteTime": {
     "end_time": "2022-02-22T12:10:53.306010Z",
     "start_time": "2022-02-22T12:10:53.240313Z"
    },
    "slideshow": {
     "slide_type": "slide"
    }
   },
   "outputs": [],
   "source": [
    "px.scatter(hits, x='method', y='gene', color='day', hover_data=['library'])"
   ]
  },
  {
   "cell_type": "code",
   "execution_count": null,
   "metadata": {
    "ExecuteTime": {
     "end_time": "2022-02-22T12:10:53.619304Z",
     "start_time": "2022-02-22T12:10:53.523189Z"
    },
    "slideshow": {
     "slide_type": "slide"
    }
   },
   "outputs": [],
   "source": [
    "px.box(good_hits, x='method', y='gene', facet_col='day', height=400)"
   ]
  },
  {
   "cell_type": "code",
   "execution_count": null,
   "metadata": {
    "ExecuteTime": {
     "end_time": "2022-02-22T12:10:54.200653Z",
     "start_time": "2022-02-22T12:10:54.153313Z"
    },
    "slideshow": {
     "slide_type": "slide"
    }
   },
   "outputs": [],
   "source": [
    "px.box(hits[hits.day == 'd2'], x='method', y='gene')"
   ]
  },
  {
   "cell_type": "code",
   "execution_count": null,
   "metadata": {},
   "outputs": [],
   "source": []
  },
  {
   "cell_type": "code",
   "execution_count": null,
   "metadata": {},
   "outputs": [],
   "source": []
  }
 ],
 "metadata": {
  "kernelspec": {
   "display_name": "Python 3 (ipykernel)",
   "language": "python",
   "name": "python3"
  },
  "language_info": {
   "codemirror_mode": {
    "name": "ipython",
    "version": 3
   },
   "file_extension": ".py",
   "mimetype": "text/x-python",
   "name": "python",
   "nbconvert_exporter": "python",
   "pygments_lexer": "ipython3",
   "version": "3.8.12"
  },
  "toc": {
   "base_numbering": 1,
   "nav_menu": {},
   "number_sections": true,
   "sideBar": true,
   "skip_h1_title": false,
   "title_cell": "Table of Contents",
   "title_sidebar": "Contents",
   "toc_cell": false,
   "toc_position": {},
   "toc_section_display": true,
   "toc_window_display": false
  }
 },
 "nbformat": 4,
 "nbformat_minor": 4
}
