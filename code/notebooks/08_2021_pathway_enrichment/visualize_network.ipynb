{
 "cells": [
  {
   "cell_type": "code",
   "execution_count": null,
   "id": "457cd42d",
   "metadata": {},
   "outputs": [],
   "source": [
    "import pandas as pd\n",
    "import networkx\n",
    "import matplotlib.pyplot as plt\n",
    "import numpy as np\n",
    "from bokeh.io import output_notebook, show, save\n",
    "\n",
    "from bokeh.models import Range1d, Circle, ColumnDataSource, MultiLine\n",
    "from bokeh.plotting import figure\n",
    "from bokeh.plotting import from_networkx"
   ]
  },
  {
   "cell_type": "code",
   "execution_count": null,
   "id": "5e6fc0c8",
   "metadata": {},
   "outputs": [],
   "source": [
    "output_notebook()"
   ]
  },
  {
   "cell_type": "code",
   "execution_count": null,
   "id": "60f13a76",
   "metadata": {},
   "outputs": [],
   "source": [
    "got_df = pd.read_csv('stormofswords.csv')\n",
    "got_df"
   ]
  },
  {
   "cell_type": "code",
   "execution_count": null,
   "id": "b7220fc2",
   "metadata": {},
   "outputs": [],
   "source": [
    "G = networkx.from_pandas_edgelist(got_df, 'Source', 'Target', 'Weight')"
   ]
  },
  {
   "cell_type": "code",
   "execution_count": null,
   "id": "b348132b",
   "metadata": {},
   "outputs": [],
   "source": [
    "G = networkx.from_pandas_edgelist(df_to_graph, 'node1', 'node2', 'combined_score')\n",
    "edge_width = dict([((a, b), G.get_edge_data(a,b)['combined_score']*5) for a, b in G.edges()])\n",
    "networkx.set_edge_attributes(G, name =\"edge_width\", values =edge_width)"
   ]
  },
  {
   "cell_type": "code",
   "execution_count": null,
   "id": "a6b26dc3",
   "metadata": {},
   "outputs": [],
   "source": [
    "from bokeh.palettes import Blues8, Reds8, Purples8, Oranges8, Viridis8, Spectral8, PiYG\n",
    "from bokeh.transform import linear_cmap"
   ]
  },
  {
   "cell_type": "code",
   "execution_count": null,
   "id": "52198662",
   "metadata": {},
   "outputs": [],
   "source": [
    "degrees = dict(networkx.degree(G))\n",
    "networkx.set_node_attributes(G, name='degree', values=degrees)"
   ]
  },
  {
   "cell_type": "code",
   "execution_count": null,
   "id": "aafef1cb",
   "metadata": {},
   "outputs": [],
   "source": [
    "number_to_adjust_by = 5\n",
    "adjusted_node_size = dict([(node, degree+number_to_adjust_by) for node, degree in networkx.degree(G)])\n",
    "networkx.set_node_attributes(G, name='adjusted_node_size', values=adjusted_node_size)"
   ]
  },
  {
   "cell_type": "code",
   "execution_count": null,
   "id": "96b629ee",
   "metadata": {},
   "outputs": [],
   "source": [
    "#Choose attributes from G network to size and color by — setting manual size (e.g. 10) or color (e.g. 'skyblue') also allowed\n",
    "size_by_this_attribute = 'adjusted_node_size'\n",
    "color_by_this_attribute = 'adjusted_node_size'\n",
    "\n",
    "#Pick a color palette — Blues8, Reds8, Purples8, Oranges8, Viridis8\n",
    "color_palette = Blues8\n",
    "\n",
    "#Choose a title!\n",
    "title = 'Game of Thrones Network'\n",
    "\n",
    "#Establish which categories will appear when hovering over each node\n",
    "HOVER_TOOLTIPS = [\n",
    "       (\"Character\", \"@index\"),\n",
    "        (\"Degree\", \"@degree\")\n",
    "]\n",
    "\n",
    "#Create a plot — set dimensions, toolbar, and title\n",
    "plot = figure(tooltips = HOVER_TOOLTIPS,\n",
    "              tools=\"pan,wheel_zoom,save,reset\", active_scroll='wheel_zoom',\n",
    "            x_range=Range1d(-10.1, 10.1), y_range=Range1d(-10.1, 10.1), title=title)\n",
    "\n",
    "#Create a network graph object\n",
    "# https://networkx.github.io/documentation/networkx-1.9/reference/generated/networkx.drawing.layout.spring_layout.html\\\n",
    "network_graph = from_networkx(G, networkx.spring_layout, scale=10, center=(0, 0))\n",
    "\n",
    "#Set node sizes and colors according to node degree (color as spectrum of color palette)\n",
    "minimum_value_color = min(network_graph.node_renderer.data_source.data[color_by_this_attribute])\n",
    "maximum_value_color = max(network_graph.node_renderer.data_source.data[color_by_this_attribute])\n",
    "network_graph.node_renderer.glyph = Circle(size=size_by_this_attribute, line_color=\"red\", fill_color=linear_cmap(color_by_this_attribute, color_palette, minimum_value_color, maximum_value_color))\n",
    "#network_graph.node_renderer.glyph = Circle(size=15, line_color=\"red\", fill_color='skyblue')\n",
    "#Set edge opacity and width\n",
    "\n",
    "network_graph.edge_renderer.glyph = MultiLine(line_alpha=0.5, line_width=\"edge_width\")\n",
    "\n",
    "plot.renderers.append(network_graph)\n",
    "\n",
    "show(plot)\n",
    "#save(plot, filename=f\"{title}.html\")"
   ]
  },
  {
   "cell_type": "code",
   "execution_count": null,
   "id": "cbd7fab1",
   "metadata": {},
   "outputs": [],
   "source": [
    "# Cluster dataset\n",
    "cl_df = pd.read_csv(\"string_MCL_clusters.tsv\", sep=\"\\t\")\n",
    "cl_df.sample(5)"
   ]
  },
  {
   "cell_type": "code",
   "execution_count": null,
   "id": "59813349",
   "metadata": {},
   "outputs": [],
   "source": [
    "full_df = pd.read_table(\"string_interactions_short.tsv\")\n",
    "full_df = full_df.rename(columns={'#node1': 'node1'})\n",
    "full_df.sample(5)\n",
    "df_to_graph = full_df[[\"node1\", \"node2\", \"combined_score\"]]\n",
    "cluster=cl_df[['protein name', 'cluster number']].set_index('protein name').to_dict()['cluster number']\n",
    "results_full = pd.read_csv(\"../../results/26-07-final-results.csv\", index_col=0)\n",
    "results = results_full[results_full.day == 'd1']\n",
    "results = results.groupby('gene').CI.median().reset_index()\n",
    "\n",
    "genes_in_graph = set(list(df_to_graph.node1.unique())+ list(df_to_graph.node2.unique())).intersection(results.gene)"
   ]
  },
  {
   "cell_type": "code",
   "execution_count": null,
   "id": "b7b085b0",
   "metadata": {},
   "outputs": [],
   "source": [
    "df_to_graph = df_to_graph[(df_to_graph.node1.isin(genes_in_graph)) & (df_to_graph.node2.isin(genes_in_graph))]"
   ]
  },
  {
   "cell_type": "code",
   "execution_count": null,
   "id": "688577a1",
   "metadata": {},
   "outputs": [],
   "source": [
    "ci = results[results.gene.isin(genes_in_graph)].set_index('gene').to_dict()['CI']\n"
   ]
  },
  {
   "cell_type": "code",
   "execution_count": null,
   "id": "37bd0ae8",
   "metadata": {},
   "outputs": [],
   "source": [
    "G = networkx.from_pandas_edgelist(dtg, 'node1', 'node2', 'combined_score')\n",
    "edge_width = dict([((a, b), G.get_edge_data(a,b)['combined_score']*5) for a, b in G.edges()])\n",
    "networkx.set_edge_attributes(G, name =\"edge_width\", values =edge_width)"
   ]
  },
  {
   "cell_type": "code",
   "execution_count": null,
   "id": "c2de7cbb",
   "metadata": {},
   "outputs": [],
   "source": [
    "adjusted_node_size = ci\n",
    "networkx.set_node_attributes(G, name='adjusted_node_size', values=adjusted_node_size)"
   ]
  },
  {
   "cell_type": "code",
   "execution_count": null,
   "id": "2e435a7f",
   "metadata": {},
   "outputs": [],
   "source": [
    "#Choose attributes from G network to size and color by — setting manual size (e.g. 10) or color (e.g. 'skyblue') also allowed\n",
    "color_by_this_attribute = 'adjusted_node_size'\n",
    "\n",
    "#Pick a color palette — Blues8, Reds8, Purples8, Oranges8, Viridis8\n",
    "color_palette = Viridis8\n",
    "\n",
    "#Choose a title!\n",
    "title = 'Testing'\n",
    "\n",
    "#Establish which categories will appear when hovering over each node\n",
    "HOVER_TOOLTIPS = [\n",
    "       (\"Gene\", \"@index\"),\n",
    "        \n",
    "]\n",
    "\n",
    "#Create a plot — set dimensions, toolbar, and title\n",
    "plot = figure(tooltips = HOVER_TOOLTIPS,\n",
    "              tools=\"pan,wheel_zoom,save,reset\", active_scroll='wheel_zoom',\n",
    "            x_range=Range1d(-10.1, 10.1), y_range=Range1d(-10.1, 10.1), title=title)\n",
    "\n",
    "#Create a network graph object\n",
    "# https://networkx.github.io/documentation/networkx-1.9/reference/generated/networkx.drawing.layout.spring_layout.html\\\n",
    "network_graph = from_networkx(G, networkx.spring_layout, scale=10, center=(0, 0))\n",
    "\n",
    "#Set node sizes and colors according to node degree (color as spectrum of color palette)\n",
    "minimum_value_color = min(network_graph.node_renderer.data_source.data[color_by_this_attribute])\n",
    "maximum_value_color = max(network_graph.node_renderer.data_source.data[color_by_this_attribute])\n",
    "network_graph.node_renderer.glyph = Circle(size=10, fill_color=linear_cmap(color_by_this_attribute, color_palette, minimum_value_color, maximum_value_color))\n",
    "\n",
    "#Set edge opacity and width\n",
    "\n",
    "network_graph.edge_renderer.glyph = MultiLine(line_alpha=0.5, line_width=\"edge_width\")\n",
    "\n",
    "plot.renderers.append(network_graph)\n",
    "\n",
    "show(plot)\n",
    "#save(plot, filename=f\"{title}.html\")"
   ]
  },
  {
   "cell_type": "code",
   "execution_count": null,
   "id": "2de6c79a",
   "metadata": {},
   "outputs": [],
   "source": [
    "c1 = list(cl_df[cl_df['cluster number'] == 1][\"protein name\"].values)\n",
    "dtg = full_df[(full_df.node1.isin(c1)) | (full_df.node2.isin(c1))][['node1', 'node2', 'combined_score']]\n",
    "genes_in_graph = set(list(dtg.node1.unique())+ list(dtg.node2.unique())).intersection(results.gene)\n",
    "dtg = dtg[(dtg.node1.isin(genes_in_graph)) & (dtg.node2.isin(genes_in_graph))]\n",
    "ci = results[results.gene.isin(genes_in_graph)].set_index('gene').to_dict()['CI']\n",
    "G = networkx.from_pandas_edgelist(dtg, 'node1', 'node2', 'combined_score')\n",
    "edge_width = dict([((a, b), G.get_edge_data(a,b)['combined_score']*5) for a, b in G.edges()])\n",
    "networkx.set_edge_attributes(G, name =\"edge_width\", values =edge_width)\n",
    "adjusted_node_size = ci\n",
    "networkx.set_node_attributes(G, name='adjusted_node_size', values=adjusted_node_size)"
   ]
  },
  {
   "cell_type": "code",
   "execution_count": null,
   "id": "9eed2873",
   "metadata": {},
   "outputs": [],
   "source": [
    "#Choose attributes from G network to size and color by — setting manual size (e.g. 10) or color (e.g. 'skyblue') also allowed\n",
    "color_by_this_attribute = 'adjusted_node_size'\n",
    "\n",
    "#Pick a color palette — Blues8, Reds8, Purples8, Oranges8, Viridis8\n",
    "color_palette = Viridis8\n",
    "\n",
    "#Choose a title!\n",
    "title = 'Testing'\n",
    "\n",
    "#Establish which categories will appear when hovering over each node\n",
    "HOVER_TOOLTIPS = [\n",
    "       (\"Gene\", \"@index\"),\n",
    "        \n",
    "]\n",
    "\n",
    "#Create a plot — set dimensions, toolbar, and title\n",
    "plot = figure(tooltips = HOVER_TOOLTIPS,\n",
    "              tools=\"pan,wheel_zoom,save,reset\", active_scroll='wheel_zoom',\n",
    "            x_range=Range1d(-10.1, 10.1), y_range=Range1d(-10.1, 10.1), title=title)\n",
    "\n",
    "#Create a network graph object\n",
    "# https://networkx.github.io/documentation/networkx-1.9/reference/generated/networkx.drawing.layout.spring_layout.html\\\n",
    "network_graph = from_networkx(G, networkx.spring_layout, scale=10, center=(0, 0))\n",
    "\n",
    "#Set node sizes and colors according to node degree (color as spectrum of color palette)\n",
    "minimum_value_color = 0.0002 #min(network_graph.node_renderer.data_source.data[color_by_this_attribute])\n",
    "maximum_value_color = 13#max(network_graph.node_renderer.data_source.data[color_by_this_attribute])\n",
    "network_graph.node_renderer.glyph = Circle(size=15, fill_color=linear_cmap(color_by_this_attribute, color_palette, minimum_value_color, maximum_value_color))\n",
    "\n",
    "#Set edge opacity and width\n",
    "\n",
    "network_graph.edge_renderer.glyph = MultiLine(line_alpha=0.5, line_width=\"edge_width\")\n",
    "\n",
    "plot.renderers.append(network_graph)\n",
    "\n",
    "show(plot)\n",
    "#save(plot, filename=f\"{title}.html\")"
   ]
  },
  {
   "cell_type": "code",
   "execution_count": null,
   "id": "bad5df6e",
   "metadata": {},
   "outputs": [],
   "source": [
    "results.CI.max()"
   ]
  },
  {
   "cell_type": "code",
   "execution_count": null,
   "id": "0918f580",
   "metadata": {},
   "outputs": [],
   "source": [
    "c1 = list(cl_df[cl_df['cluster number'] == 1][\"protein name\"].values)\n",
    "dtg = full_df[(full_df.node1.isin(c1)) | (full_df.node2.isin(c1))][['node1', 'node2', 'combined_score']]\n",
    "genes_in_graph = set(list(dtg.node1.unique())+ list(dtg.node2.unique())).intersection(results.gene)\n",
    "dtg = dtg[(dtg.node1.isin(genes_in_graph)) & (dtg.node2.isin(genes_in_graph))]\n",
    "ci = results[results.gene.isin(genes_in_graph)].set_index('gene').to_dict()['CI']\n",
    "G = networkx.from_pandas_edgelist(dtg, 'node1', 'node2', 'combined_score')\n",
    "edge_width = dict([((a, b), G.get_edge_data(a,b)['combined_score']*5) for a, b in G.edges()])\n",
    "networkx.set_edge_attributes(G, name =\"edge_width\", values =edge_width)\n",
    "adjusted_node_size = ci\n",
    "networkx.set_node_attributes(G, name='adjusted_node_size', values=adjusted_node_size)"
   ]
  },
  {
   "cell_type": "code",
   "execution_count": null,
   "id": "bc4af033",
   "metadata": {},
   "outputs": [],
   "source": [
    "ci"
   ]
  },
  {
   "cell_type": "code",
   "execution_count": null,
   "id": "55ee5b51",
   "metadata": {},
   "outputs": [],
   "source": [
    "networkx.get_node_attributes(G, 'adjusted_node_size').values()"
   ]
  },
  {
   "cell_type": "code",
   "execution_count": null,
   "id": "293dbb9d",
   "metadata": {},
   "outputs": [],
   "source": [
    "pos = nx.kamada_kawai_layout(G)\n",
    "ew = list(nx.get_node_attributes(G, 'adjusted_node_size').values())\n",
    "ncolor = list(networkx.get_node_attributes(G, 'adjusted_node_size').values())"
   ]
  },
  {
   "cell_type": "code",
   "execution_count": null,
   "id": "077d0908",
   "metadata": {},
   "outputs": [],
   "source": [
    "cmap = plt.cm.summer\n",
    "fig, ax = plt.subplots(figsize=(14, 12))\n",
    "nx.draw_networkx_edges(G, pos, alpha=0.4, width=ew, )\n",
    "nx.draw_networkx_nodes(G, pos, node_size=2000, node_color=ncolor, vmin=min(ncolor),\n",
    "                       vmax=max(ncolor), cmap=cmap, alpha=0.9)\n",
    "label_options = {\"ec\": \"k\", \"fc\": \"white\", \"alpha\": 0.5}\n",
    "nx.draw_networkx_labels(G, pos, font_size=14, bbox=label_options);\n",
    "sm = plt.cm.ScalarMappable(cmap=cmap,norm=plt.Normalize(vmin=min(ncolor), vmax=max(ncolor)) )\n",
    "plt.colorbar(sm);\n",
    "plt.title('Cluster 2');"
   ]
  },
  {
   "cell_type": "code",
   "execution_count": null,
   "id": "0236f9bf",
   "metadata": {},
   "outputs": [],
   "source": [
    "import matplotlib.pyplot as plt\n",
    "import networkx as nx\n",
    "\n",
    "# Use seed when creating the graph for reproducibility\n",
    "G = nx.random_geometric_graph(200, 0.125, seed=896803)\n",
    "# position is stored as node attribute data for random_geometric_graph\n",
    "pos = nx.get_node_attributes(G, \"pos\")\n",
    "\n",
    "# find node near center (0.5,0.5)\n",
    "dmin = 1\n",
    "ncenter = 0\n",
    "for n in pos:\n",
    "    x, y = pos[n]\n",
    "    d = (x - 0.5) ** 2 + (y - 0.5) ** 2\n",
    "    if d < dmin:\n",
    "        ncenter = n\n",
    "        dmin = d\n",
    "\n",
    "# color by path length from node near center\n",
    "p = dict(nx.single_source_shortest_path_length(G, ncenter))"
   ]
  },
  {
   "cell_type": "code",
   "execution_count": null,
   "id": "57836fd3",
   "metadata": {},
   "outputs": [],
   "source": [
    "cl_df"
   ]
  },
  {
   "cell_type": "code",
   "execution_count": null,
   "id": "076d1a44",
   "metadata": {},
   "outputs": [],
   "source": [
    "r = results_full[results_full.day == \"d1\"]"
   ]
  },
  {
   "cell_type": "code",
   "execution_count": null,
   "id": "c67d413f",
   "metadata": {},
   "outputs": [],
   "source": [
    "r[r.gene == 'spaO']"
   ]
  },
  {
   "cell_type": "code",
   "execution_count": null,
   "id": "98989b40",
   "metadata": {},
   "outputs": [],
   "source": [
    "#Look at cluster sizes\n",
    "cl_df.columns = [c.replace(\" \", \"_\") for c in cl_df.columns]"
   ]
  },
  {
   "cell_type": "code",
   "execution_count": null,
   "id": "a714715a",
   "metadata": {},
   "outputs": [],
   "source": [
    "cl_df.head()"
   ]
  },
  {
   "cell_type": "code",
   "execution_count": null,
   "id": "4d79428d",
   "metadata": {},
   "outputs": [],
   "source": [
    "cl_size = cl_df.groupby(\"cluster_number\").protein_name.nunique().reset_index()\n",
    "cl_size[cl_size.protein_name > 4]\n",
    "# Want to look at clusters 1 through 9 \n",
    "\n"
   ]
  },
  {
   "cell_type": "code",
   "execution_count": null,
   "id": "f6141dd4",
   "metadata": {},
   "outputs": [],
   "source": [
    "# Colors\n",
    "vmin= -3.5\n",
    "vmax=0.5\n",
    "cmap = plt.cm.coolwarm\n",
    "from matplotlib import colors\n",
    "divnorm=colors.TwoSlopeNorm(vmin=vmin, vcenter=0., vmax=vmax)\n",
    "sm = plt.cm.ScalarMappable(cmap=cmap,norm=divnorm)"
   ]
  },
  {
   "cell_type": "code",
   "execution_count": null,
   "id": "cc31c1a6",
   "metadata": {},
   "outputs": [],
   "source": [
    "def get_graph_for_cluster(results_df, cluster_df, interaction_df, day='d1', cluster=1):\n",
    "    results = results_df[results_df.day == day].copy()\n",
    "    results['logCI'] = np.log10(results['CI'])\n",
    "    cl_genes = list(cluster_df[cluster_df['cluster_number'] == cluster][\"protein_name\"].values)\n",
    "    dtg = interaction_df[(interaction_df.node1.isin(cl_genes)) | (interaction_df.node2.isin(cl_genes))][['node1', 'node2', 'combined_score']]\n",
    "    genes_in_graph = set(list(dtg.node1.unique())+ list(dtg.node2.unique())).intersection(results.gene)\n",
    "    dtg = dtg[(dtg.node1.isin(genes_in_graph)) & (dtg.node2.isin(genes_in_graph))]\n",
    "    ci = results[results.gene.isin(genes_in_graph)].set_index('gene').to_dict()['logCI']\n",
    "    G = networkx.from_pandas_edgelist(dtg, 'node1', 'node2', 'combined_score')\n",
    "    edge_width = dict([((a, b), G.get_edge_data(a,b)['combined_score']*5) for a, b in G.edges()])\n",
    "    networkx.set_edge_attributes(G, name =\"edge_width\", values =edge_width)\n",
    "    networkx.set_node_attributes(G, name='ci', values=ci)\n",
    "    return G"
   ]
  },
  {
   "cell_type": "code",
   "execution_count": null,
   "id": "bcf9c6bd",
   "metadata": {},
   "outputs": [],
   "source": [
    "def plot_cluster(graph, ax, sm):\n",
    "    pos = nx.kamada_kawai_layout(graph)\n",
    "    edge_width = list(nx.get_edge_attributes(graph, 'edge_width').values())\n",
    "    ncolor = list(networkx.get_node_attributes(graph, 'ci').values())\n",
    "    ncolor = [sm.to_rgba(x) for x in ncolor]\n",
    "    nx.draw_networkx_edges(graph, pos, alpha=0.8, width=edge_width, ax=ax )\n",
    "    nx.draw_networkx_nodes(graph, pos, node_size=2000, node_color=ncolor,  \n",
    "                         alpha=0.9, ax=ax)\n",
    "    label_options = {\"ec\": \"k\", \"fc\": \"white\", \"alpha\": 0.5}\n",
    "    nx.draw_networkx_labels(graph, pos, font_size=14, bbox=label_options, ax=ax);\n"
   ]
  },
  {
   "cell_type": "code",
   "execution_count": null,
   "id": "a3afa9c2",
   "metadata": {},
   "outputs": [],
   "source": [
    "# Make a graph\n",
    "G = get_graph_for_cluster(results_full, cl_df, full_df, day='d1', cluster=1)\n"
   ]
  },
  {
   "cell_type": "code",
   "execution_count": null,
   "id": "392c2710",
   "metadata": {},
   "outputs": [],
   "source": [
    "\n",
    "fig, axs = plt.subplots(1,3, figsize=(25,7))\n",
    "for i, ax in enumerate(axs):\n",
    "    G = get_graph_for_cluster(results_full, cl_df, full_df, day='d1', cluster=i+1)\n",
    "    plot_cluster(G, ax, sm)\n",
    "    ax.set_title(f'Cluster {i+1}')\n",
    "# nx.draw_networkx_edges(G, pos, alpha=0.8, width=ew, ax=ax )\n",
    "# nx.draw_networkx_nodes(G, pos, node_size=2000, node_color=tcolor,  \n",
    "#                          alpha=0.9)\n",
    "# label_options = {\"ec\": \"k\", \"fc\": \"white\", \"alpha\": 0.5}\n",
    "# nx.draw_networkx_labels(G, pos, font_size=14, bbox=label_options);\n",
    "\n",
    "plt.colorbar(sm);\n",
    "#plt.title('Cluster ');"
   ]
  },
  {
   "cell_type": "code",
   "execution_count": null,
   "id": "9e231826",
   "metadata": {},
   "outputs": [],
   "source": [
    "ci"
   ]
  },
  {
   "cell_type": "code",
   "execution_count": null,
   "id": "2914469f",
   "metadata": {},
   "outputs": [],
   "source": []
  }
 ],
 "metadata": {
  "kernelspec": {
   "display_name": "Python 3 (ipykernel)",
   "language": "python",
   "name": "python3"
  },
  "language_info": {
   "codemirror_mode": {
    "name": "ipython",
    "version": 3
   },
   "file_extension": ".py",
   "mimetype": "text/x-python",
   "name": "python",
   "nbconvert_exporter": "python",
   "pygments_lexer": "ipython3",
   "version": "3.8.10"
  }
 },
 "nbformat": 4,
 "nbformat_minor": 5
}
