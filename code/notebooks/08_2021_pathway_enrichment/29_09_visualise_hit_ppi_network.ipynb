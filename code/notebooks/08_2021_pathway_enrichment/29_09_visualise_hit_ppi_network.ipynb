{
 "cells": [
  {
   "cell_type": "code",
   "execution_count": null,
   "id": "artistic-montgomery",
   "metadata": {},
   "outputs": [],
   "source": [
    "import pandas as pd\n",
    "import networkx\n",
    "import matplotlib.pyplot as plt\n",
    "import numpy as np\n",
    "from bokeh.io import output_notebook, show, save\n",
    "from pathlib import Path\n",
    "from bokeh.models import Range1d, Circle, ColumnDataSource, MultiLine\n",
    "from bokeh.plotting import figure\n",
    "from bokeh.plotting import from_networkx"
   ]
  },
  {
   "cell_type": "code",
   "execution_count": null,
   "id": "compressed-validation",
   "metadata": {},
   "outputs": [],
   "source": [
    "output_notebook()"
   ]
  },
  {
   "cell_type": "code",
   "execution_count": null,
   "id": "romance-disabled",
   "metadata": {},
   "outputs": [],
   "source": [
    "%pwd"
   ]
  },
  {
   "cell_type": "code",
   "execution_count": null,
   "id": "enormous-characterization",
   "metadata": {},
   "outputs": [],
   "source": [
    "# Load the final results table\n",
    "\n",
    "results_full = pd.read_csv(\"../../../data/results/26-07-final-results.csv\", index_col=0)\n",
    "\n",
    "# Separate by day and write all hits for each day into a tsv file\n",
    "# Using shortNames for this\n",
    "results_hits = results_full[results_full.zscore_padj < 0.05]\n",
    "for day in results_hits.day.unique():\n",
    "    df = results_hits[results_hits.day == day]\n",
    "    genes = [gene for gene in df.gene.unique() if len(gene)<10]\n",
    "    with open(f\"../../../data/results/29-09-hits-{day}.tsv\", 'w') as fo:\n",
    "        for gene in genes:\n",
    "            fo.write(f\"{gene}\\n\")"
   ]
  },
  {
   "cell_type": "code",
   "execution_count": null,
   "id": "judicial-advice",
   "metadata": {},
   "outputs": [],
   "source": [
    "# Run through STRING, right now manual, could work on API"
   ]
  },
  {
   "cell_type": "code",
   "execution_count": null,
   "id": "earlier-salem",
   "metadata": {},
   "outputs": [],
   "source": [
    "# Colors\n",
    "vmin= -3\n",
    "vmax=0.5\n",
    "cmap = plt.cm.coolwarm\n",
    "from matplotlib import colors\n",
    "divnorm=colors.TwoSlopeNorm(vmin=vmin, vcenter=0., vmax=vmax)\n",
    "sm = plt.cm.ScalarMappable(cmap=cmap,norm=divnorm)"
   ]
  },
  {
   "cell_type": "code",
   "execution_count": null,
   "id": "special-tiger",
   "metadata": {},
   "outputs": [],
   "source": [
    "def get_graph_for_cluster(results_df, cluster_df, interaction_df, day='d1', cluster=1):\n",
    "    results = results_df[results_df.day == day].copy()\n",
    "    results['logCI'] = np.log10(results['CI'])\n",
    "    cl_genes = list(cluster_df[cluster_df['cluster_number'] == cluster][\"protein_name\"].values)\n",
    "    #dtg = interaction_df[(interaction_df.node1.isin(cl_genes)) | (interaction_df.node2.isin(cl_genes))][['node1', 'node2', 'combined_score']]\n",
    "    dtg = interaction_df[(interaction_df.node1.isin(cl_genes)) & (interaction_df.node2.isin(cl_genes))][['node1', 'node2', 'combined_score']]\n",
    "    genes_in_graph = set(list(dtg.node1.unique())+ list(dtg.node2.unique())).intersection(results.gene)\n",
    "    in_cluster = {c:2000 if c in cl_genes else 500 for c in genes_in_graph}\n",
    "    dtg = dtg[(dtg.node1.isin(genes_in_graph)) & (dtg.node2.isin(genes_in_graph))]\n",
    "    ci = results[results.gene.isin(genes_in_graph)].set_index('gene').to_dict()['logCI']\n",
    "    G = networkx.from_pandas_edgelist(dtg, 'node1', 'node2', 'combined_score')\n",
    "    edge_width = dict([((a, b), G.get_edge_data(a,b)['combined_score']*5) for a, b in G.edges()])\n",
    "    networkx.set_edge_attributes(G, name =\"edge_width\", values =edge_width)\n",
    "    networkx.set_node_attributes(G, name='day_ci', values=ci)\n",
    "    networkx.set_node_attributes(G, name='in_cluster', values=in_cluster)\n",
    "    return G"
   ]
  },
  {
   "cell_type": "code",
   "execution_count": null,
   "id": "checked-modem",
   "metadata": {},
   "outputs": [],
   "source": [
    "import networkx as nx\n",
    "def plot_cluster(graph, ax, sm):\n",
    "    pos = nx.kamada_kawai_layout(graph)\n",
    "    edge_width = list(nx.get_edge_attributes(graph, 'edge_width').values())\n",
    "    node_size = list(networkx.get_node_attributes(graph, 'in_cluster').values())\n",
    "    ncolor = list(networkx.get_node_attributes(graph, 'day_ci').values())\n",
    "    ncolor = [sm.to_rgba(x) for x in ncolor]\n",
    "    nx.draw_networkx_edges(graph, pos, alpha=0.8, width=edge_width, ax=ax )\n",
    "    nx.draw_networkx_nodes(graph, pos, node_size=node_size, node_color=ncolor,  \n",
    "                         alpha=0.9, ax=ax)\n",
    "    label_options = {\"ec\": \"k\", \"fc\": \"white\", \"alpha\": 0.5}\n",
    "    nx.draw_networkx_labels(graph, pos, font_size=16, bbox=label_options, ax=ax);"
   ]
  },
  {
   "cell_type": "code",
   "execution_count": null,
   "id": "blocked-thing",
   "metadata": {},
   "outputs": [],
   "source": [
    "# Day 1\n",
    "\n",
    "#Set up all the data\n",
    "\n",
    "resultsDir = \"../../../data/results\"\n",
    "day = 'd1'\n",
    "\n",
    "ppis = pd.read_table(Path(resultsDir)/f\"{day}_string_interactions_short.tsv\")\n",
    "ppis = ppis.rename(columns={'#node1': 'node1'})\n",
    "ppis_to_graph = ppis[[\"node1\", \"node2\", \"combined_score\"]]\n",
    "\n",
    "ppi_clusters = pd.read_table(Path(resultsDir)/f\"{day}_string_MCL_clusters.tsv\")\n",
    "ppi_clusters.columns = [c.replace(\" \", \"_\") for c in ppi_clusters.columns]\n",
    "ppi_cluster_dict=ppi_clusters[['protein_name', 'cluster_number']].set_index('protein_name').to_dict()['cluster_number']\n",
    "day_res = results_full[results_full.day == day]\n",
    "day_res = day_res.groupby('gene').CI.median().reset_index()\n",
    "\n",
    "\n",
    "\n",
    "fig, axs = plt.subplots(5,3, figsize=(40,50))\n",
    "axs = axs.flatten()\n",
    "\n",
    "for i, ax in enumerate(axs):\n",
    "    G = get_graph_for_cluster(results_full, ppi_clusters, ppis, day=day, cluster=i+1)\n",
    "    plot_cluster(G, ax, sm)\n",
    "    ax.set_title(f'Cluster {i+1}', fontsize=24)\n",
    "    \n",
    "fig.subplots_adjust(right=0.8)\n",
    "cbar_ax = fig.add_axes([0.90, 0.15, 0.02, 0.7])\n",
    "cb = fig.colorbar(sm, cax=cbar_ax);\n",
    "cb.ax.tick_params(labelsize=20)\n",
    "cb.set_label(label='log(CI)', size=32)\n",
    "# Add legend to color bar and save \n",
    "fig.suptitle(\"Day 1 Hits\", fontsize=32)\n",
    "plt.savefig(Path(resultsDir)/f\"{day}-ppi-clusters.pdf\")"
   ]
  },
  {
   "cell_type": "code",
   "execution_count": null,
   "id": "varied-thought",
   "metadata": {},
   "outputs": [],
   "source": [
    "# Day 2\n",
    "\n",
    "#Set up all the data\n",
    "\n",
    "resultsDir = \"../../../data/results\"\n",
    "day = 'd2'\n",
    "\n",
    "ppis = pd.read_table(Path(resultsDir)/f\"{day}_string_interactions_short.tsv\")\n",
    "ppis = ppis.rename(columns={'#node1': 'node1'})\n",
    "ppis_to_graph = ppis[[\"node1\", \"node2\", \"combined_score\"]]\n",
    "\n",
    "ppi_clusters = pd.read_table(Path(resultsDir)/f\"{day}_string_MCL_clusters.tsv\")\n",
    "ppi_clusters.columns = [c.replace(\" \", \"_\") for c in ppi_clusters.columns]\n",
    "ppi_cluster_dict=ppi_clusters[['protein_name', 'cluster_number']].set_index('protein_name').to_dict()['cluster_number']\n",
    "day_res = results_full[results_full.day == day]\n",
    "day_res = day_res.groupby('gene').CI.median().reset_index()\n",
    "\n",
    "\n",
    "\n",
    "fig, axs = plt.subplots(5,4, figsize=(40,50))\n",
    "axs = axs.flatten()\n",
    "\n",
    "for i, ax in enumerate(axs):\n",
    "    G = get_graph_for_cluster(results_full, ppi_clusters, ppis, day=day, cluster=i+1)\n",
    "    plot_cluster(G, ax, sm)\n",
    "    ax.set_title(f'Cluster {i+1}', fontsize=24)\n",
    "    \n",
    "fig.subplots_adjust(right=0.8)\n",
    "cbar_ax = fig.add_axes([0.90, 0.15, 0.02, 0.7])\n",
    "cb = fig.colorbar(sm, cax=cbar_ax);\n",
    "cb.ax.tick_params(labelsize=20)\n",
    "cb.set_label(label='log(CI)', size=32)\n",
    "# Add legend to color bar and save \n",
    "fig.suptitle(\"Day 2 Hits\", fontsize=32)\n",
    "plt.savefig(Path(resultsDir)/f\"{day}-ppi-clusters.pdf\")"
   ]
  },
  {
   "cell_type": "code",
   "execution_count": null,
   "id": "swedish-remains",
   "metadata": {},
   "outputs": [],
   "source": [
    "# Day 3\n",
    "\n",
    "#Set up all the data\n",
    "\n",
    "resultsDir = \"../../../data/results\"\n",
    "day = 'd3'\n",
    "\n",
    "ppis = pd.read_table(Path(resultsDir)/f\"{day}_string_interactions_short.tsv\")\n",
    "ppis = ppis.rename(columns={'#node1': 'node1'})\n",
    "ppis_to_graph = ppis[[\"node1\", \"node2\", \"combined_score\"]]\n",
    "\n",
    "ppi_clusters = pd.read_table(Path(resultsDir)/f\"{day}_string_MCL_clusters.tsv\")\n",
    "ppi_clusters.columns = [c.replace(\" \", \"_\") for c in ppi_clusters.columns]\n",
    "ppi_cluster_dict=ppi_clusters[['protein_name', 'cluster_number']].set_index('protein_name').to_dict()['cluster_number']\n",
    "day_res = results_full[results_full.day == day]\n",
    "day_res = day_res.groupby('gene').CI.median().reset_index()\n",
    "\n",
    "\n",
    "\n",
    "fig, axs = plt.subplots(5,4, figsize=(40,50))\n",
    "axs = axs.flatten()\n",
    "\n",
    "for i, ax in enumerate(axs):\n",
    "    G = get_graph_for_cluster(results_full, ppi_clusters, ppis, day=day, cluster=i+1)\n",
    "    plot_cluster(G, ax, sm)\n",
    "    ax.set_title(f'Cluster {i+1}', fontsize=24)\n",
    "    \n",
    "fig.subplots_adjust(right=0.8)\n",
    "cbar_ax = fig.add_axes([0.90, 0.15, 0.02, 0.7])\n",
    "cb = fig.colorbar(sm, cax=cbar_ax);\n",
    "cb.ax.tick_params(labelsize=20)\n",
    "cb.set_label(label='log(CI)', size=32)\n",
    "# Add legend to color bar and save \n",
    "fig.suptitle(\"Day 3 Hits\", fontsize=32)\n",
    "plt.savefig(Path(resultsDir)/f\"{day}-ppi-clusters.pdf\")"
   ]
  },
  {
   "cell_type": "code",
   "execution_count": null,
   "id": "duplicate-tanzania",
   "metadata": {},
   "outputs": [],
   "source": [
    "# Day 4\n",
    "\n",
    "#Set up all the data\n",
    "\n",
    "resultsDir = \"../../../data/results\"\n",
    "day = 'd4'\n",
    "\n",
    "ppis = pd.read_table(Path(resultsDir)/f\"{day}_string_interactions_short.tsv\")\n",
    "ppis = ppis.rename(columns={'#node1': 'node1'})\n",
    "ppis_to_graph = ppis[[\"node1\", \"node2\", \"combined_score\"]]\n",
    "\n",
    "ppi_clusters = pd.read_table(Path(resultsDir)/f\"{day}_string_MCL_clusters.tsv\")\n",
    "ppi_clusters.columns = [c.replace(\" \", \"_\") for c in ppi_clusters.columns]\n",
    "ppi_cluster_dict=ppi_clusters[['protein_name', 'cluster_number']].set_index('protein_name').to_dict()['cluster_number']\n",
    "day_res = results_full[results_full.day == day]\n",
    "day_res = day_res.groupby('gene').CI.median().reset_index()\n",
    "\n",
    "\n",
    "\n",
    "fig, axs = plt.subplots(5,4, figsize=(40,50))\n",
    "axs = axs.flatten()\n",
    "\n",
    "for i, ax in enumerate(axs):\n",
    "    G = get_graph_for_cluster(results_full, ppi_clusters, ppis, day=day, cluster=i+1)\n",
    "    plot_cluster(G, ax, sm)\n",
    "    ax.set_title(f'Cluster {i+1}', fontsize=24)\n",
    "    \n",
    "fig.subplots_adjust(right=0.8)\n",
    "cbar_ax = fig.add_axes([0.90, 0.15, 0.02, 0.7])\n",
    "cb = fig.colorbar(sm, cax=cbar_ax);\n",
    "cb.ax.tick_params(labelsize=20)\n",
    "cb.set_label(label='log(CI)', size=32)\n",
    "# Add legend to color bar and save \n",
    "fig.suptitle(\"Day 4 Hits\", fontsize=32)\n",
    "plt.savefig(Path(resultsDir)/f\"{day}-ppi-clusters.pdf\")"
   ]
  },
  {
   "cell_type": "code",
   "execution_count": null,
   "id": "fifteen-principal",
   "metadata": {},
   "outputs": [],
   "source": [
    "fig2, axs = plt.subplots(1,3, figsize=(25,7))\n",
    "for i, ax in enumerate(axs):\n",
    "    G = get_graph_for_cluster(results_full, ppi_clusters, ppis, day='d2', cluster=i+4)\n",
    "    plot_cluster(G, ax, sm)\n",
    "    ax.set_title(f'Cluster {i+4}')\n",
    "plt.colorbar(sm);"
   ]
  },
  {
   "cell_type": "code",
   "execution_count": null,
   "id": "accessible-buffer",
   "metadata": {},
   "outputs": [],
   "source": [
    "fig3, axs = plt.subplots(1,3, figsize=(25,7))\n",
    "for i, ax in enumerate(axs):\n",
    "    G = get_graph_for_cluster(results_full, ppi_clusters, ppis, day='d2', cluster=i+7)\n",
    "    plot_cluster(G, ax, sm)\n",
    "    ax.set_title(f'Cluster {i+7}')\n",
    "plt.colorbar(sm);"
   ]
  },
  {
   "cell_type": "code",
   "execution_count": null,
   "id": "unlimited-delicious",
   "metadata": {},
   "outputs": [],
   "source": [
    "fig4, axs = plt.subplots(1,3, figsize=(25,7))\n",
    "for i, ax in enumerate(axs):\n",
    "    G = get_graph_for_cluster(results_full, ppi_clusters, ppis, day='d2', cluster=i+10)\n",
    "    plot_cluster(G, ax, sm)\n",
    "    ax.set_title(f'Cluster {i+10}')\n",
    "plt.colorbar(sm);"
   ]
  },
  {
   "cell_type": "code",
   "execution_count": null,
   "id": "prerequisite-tower",
   "metadata": {},
   "outputs": [],
   "source": [
    "fig5, axs = plt.subplots(1,3, figsize=(25,7))\n",
    "for i, ax in enumerate(axs):\n",
    "    G = get_graph_for_cluster(results_full, ppi_clusters, ppis, day='d2', cluster=i+13)\n",
    "    plot_cluster(G, ax, sm)\n",
    "    ax.set_title(f'Cluster {i+13}')\n",
    "plt.colorbar(sm);"
   ]
  },
  {
   "cell_type": "code",
   "execution_count": null,
   "id": "major-convenience",
   "metadata": {},
   "outputs": [],
   "source": [
    "fig6, axs = plt.subplots(3,3, figsize=(25,7))\n",
    "axs = axs.flatten()\n",
    "for i, ax in enumerate(axs):\n",
    "    G = get_graph_for_cluster(results_full, ppi_clusters, ppis, day='d2', cluster=i+16)\n",
    "    plot_cluster(G, ax, sm)\n",
    "    ax.set_title(f'Cluster {i+16}')\n",
    "plt.colorbar(sm);"
   ]
  },
  {
   "cell_type": "code",
   "execution_count": null,
   "id": "musical-desert",
   "metadata": {},
   "outputs": [],
   "source": [
    "import matplotlib.backends.backend_pdf\n",
    "pdf = matplotlib.backends.backend_pdf.PdfPages(\"output.pdf\")\n",
    "for fig in range(1,plt.figure().number): ## will open an empty extra figure :(\n",
    "    print(fig)"
   ]
  },
  {
   "cell_type": "code",
   "execution_count": null,
   "id": "joint-hammer",
   "metadata": {},
   "outputs": [],
   "source": [
    "plt.figure().number"
   ]
  },
  {
   "cell_type": "code",
   "execution_count": null,
   "id": "usual-possession",
   "metadata": {},
   "outputs": [],
   "source": [
    "ppi_clusters[ppi_clusters.cluster_number == 9]"
   ]
  },
  {
   "cell_type": "code",
   "execution_count": null,
   "id": "instrumental-tomorrow",
   "metadata": {},
   "outputs": [],
   "source": [
    "ppi_clusters[ppi_clusters['gene_count'] > 5].drop_duplicates()"
   ]
  },
  {
   "cell_type": "code",
   "execution_count": null,
   "id": "material-buddy",
   "metadata": {},
   "outputs": [],
   "source": []
  }
 ],
 "metadata": {
  "kernelspec": {
   "display_name": "Python 3 (ipykernel)",
   "language": "python",
   "name": "python3"
  },
  "language_info": {
   "codemirror_mode": {
    "name": "ipython",
    "version": 3
   },
   "file_extension": ".py",
   "mimetype": "text/x-python",
   "name": "python",
   "nbconvert_exporter": "python",
   "pygments_lexer": "ipython3",
   "version": "3.8.12"
  },
  "toc": {
   "base_numbering": 1,
   "nav_menu": {},
   "number_sections": true,
   "sideBar": true,
   "skip_h1_title": false,
   "title_cell": "Table of Contents",
   "title_sidebar": "Contents",
   "toc_cell": false,
   "toc_position": {},
   "toc_section_display": true,
   "toc_window_display": false
  }
 },
 "nbformat": 4,
 "nbformat_minor": 5
}
