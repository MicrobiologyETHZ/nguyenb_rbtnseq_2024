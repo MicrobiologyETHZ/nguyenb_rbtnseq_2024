{
 "cells": [
  {
   "cell_type": "code",
   "execution_count": 2,
   "id": "a53d97ba-ce8b-4f42-a7bc-a72e050dd824",
   "metadata": {},
   "outputs": [],
   "source": [
    "import pandas as pd\n",
    "import plotly.express as px\n",
    "import numpy as np\n",
    "from pathlib import Path"
   ]
  },
  {
   "cell_type": "code",
   "execution_count": 1,
   "id": "likely-flower",
   "metadata": {},
   "outputs": [
    {
     "name": "stdout",
     "output_type": "stream",
     "text": [
      "26-07-final-results.csv       final_results_d2_0.05_1.pdf\r\n",
      "final_results_d1_0.05_0.pdf   final_results_d3_0.05_1.html\r\n",
      "final_results_d1_0.05_1.html  final_results_d3_0.05_1.pdf\r\n",
      "final_results_d1_0.05_1.pdf   final_results_d4_0.05_1.html\r\n",
      "final_results_d2_0.05_1.html  final_results_d4_0.05_1.pdf\r\n"
     ]
    }
   ],
   "source": [
    "%ls ../../../data/27_07_results_and_figures/final_results/\n",
    "\n"
   ]
  },
  {
   "cell_type": "code",
   "execution_count": 8,
   "id": "informative-orchestra",
   "metadata": {},
   "outputs": [
    {
     "name": "stderr",
     "output_type": "stream",
     "text": [
      "/Users/ansintsova/opt/miniconda3/envs/mi/lib/python3.6/site-packages/IPython/core/interactiveshell.py:3263: DtypeWarning:\n",
      "\n",
      "Columns (8) have mixed types.Specify dtype option on import or set low_memory=False.\n",
      "\n"
     ]
    },
    {
     "name": "stdout",
     "output_type": "stream",
     "text": [
      "11\n"
     ]
    }
   ],
   "source": [
    "# Getting annotations ... -> not ideal needs to be refactores\n",
    "\n",
    "# Todo: move file directories to config files, so that can be re-run with different counts\n",
    "\n",
    "\n",
    "def load_files(samples, results_dir):\n",
    "    df_list = []\n",
    "    cntrl_list = []\n",
    "    for sample in samples:\n",
    "        df_list.append(pd.read_csv(Path(results_dir)/sample/\"merged_counts.csv\", index_col=0))\n",
    "        cntrl_list.append(pd.read_csv(Path(results_dir)/sample/\"merged_controls.csv\", index_col=0))\n",
    "    return pd.concat([pd.concat(df_list), pd.concat(cntrl_list)])\n",
    "\n",
    "\n",
    "counts_dir =\"/Users/ansintsova/git_repos/nguyenb_tnseq/data/13_04_results/counts\"\n",
    "outdir = '/Users/ansintsova/git_repos/nguyenb_tnseq/data/07_06_results/'\n",
    "control_file = Path(\"/Users/ansintsova/git_repos/nguyenb_tnseq/data/13_04_results\")/'controls.txt'\n",
    "\n",
    "# Load\n",
    "dnaids = ['dnaid1315', 'dnaid1428', 'dnaid1429', 'dnaid1457', 'dnaid2015', 'dnaid2016', 'dnaid2017', 'dnaid2018', 'dnaid2019',\n",
    "         'dnaid2023', 'dnaid2024', 'dnaid2025', 'dnaid2026', 'dnaid2027', 'dnaid2028', 'dnaid2029' ]\n",
    "\n",
    "cnt_df = load_files(dnaids, Path(counts_dir))\n",
    "# Create unique identifier for each sample\n",
    "cnt_df['sampleID'] = cnt_df['sampleID'] + \"_\" + cnt_df['dnaid'] + \"_\" + cnt_df['experiment']\n",
    "cnt_df = cnt_df[cnt_df.sampleID.notnull()]\n",
    "cnt_df['CntrlName'] = cnt_df['phenotype'] + cnt_df['conc'].astype(str)\n",
    "cnt_df['ShortName'] = cnt_df.ShortName.fillna(cnt_df.CntrlName)\n",
    "\n",
    "# Dropping Unenriched samples\n",
    "cnt_df = cnt_df[~cnt_df.sampleID.str.contains('unenriched')]\n",
    "annotation_df = cnt_df[['barcode', 'ShortName', 'locus_tag', 'phenotype', 'conc']].drop_duplicates()\n",
    "\n",
    "libraries = [lib for lib in cnt_df.library.unique() if type(lib) == str]\n",
    "libraries.remove('library_14_1')\n",
    "print(len(libraries))\n",
    "days = ['_d1', '_d2', '_d3', '_d4']\n",
    "\n",
    "\n"
   ]
  },
  {
   "cell_type": "code",
   "execution_count": 21,
   "id": "veterinary-macintosh",
   "metadata": {},
   "outputs": [
    {
     "data": {
      "text/html": [
       "<div>\n",
       "<style scoped>\n",
       "    .dataframe tbody tr th:only-of-type {\n",
       "        vertical-align: middle;\n",
       "    }\n",
       "\n",
       "    .dataframe tbody tr th {\n",
       "        vertical-align: top;\n",
       "    }\n",
       "\n",
       "    .dataframe thead th {\n",
       "        text-align: right;\n",
       "    }\n",
       "</style>\n",
       "<table border=\"1\" class=\"dataframe\">\n",
       "  <thead>\n",
       "    <tr style=\"text-align: right;\">\n",
       "      <th></th>\n",
       "      <th>ShortName</th>\n",
       "      <th>locus_tag</th>\n",
       "    </tr>\n",
       "  </thead>\n",
       "  <tbody>\n",
       "    <tr>\n",
       "      <th>48</th>\n",
       "      <td>yfiA</td>\n",
       "      <td>SL1344_2624</td>\n",
       "    </tr>\n",
       "    <tr>\n",
       "      <th>891</th>\n",
       "      <td>cpxA</td>\n",
       "      <td>SL1344_4007</td>\n",
       "    </tr>\n",
       "    <tr>\n",
       "      <th>956</th>\n",
       "      <td>tktA</td>\n",
       "      <td>SL1344_3052</td>\n",
       "    </tr>\n",
       "    <tr>\n",
       "      <th>1131</th>\n",
       "      <td>yjcH</td>\n",
       "      <td>SL1344_4210</td>\n",
       "    </tr>\n",
       "    <tr>\n",
       "      <th>5085</th>\n",
       "      <td>ydiT</td>\n",
       "      <td>SL1344_1285</td>\n",
       "    </tr>\n",
       "    <tr>\n",
       "      <th>1165</th>\n",
       "      <td>treR</td>\n",
       "      <td>SL1344_4386</td>\n",
       "    </tr>\n",
       "    <tr>\n",
       "      <th>20</th>\n",
       "      <td>wcaF</td>\n",
       "      <td>SL1344_2087</td>\n",
       "    </tr>\n",
       "    <tr>\n",
       "      <th>774</th>\n",
       "      <td>pilM</td>\n",
       "      <td>SL1344_RS24640;old_SL1344_P2_0094</td>\n",
       "    </tr>\n",
       "    <tr>\n",
       "      <th>1006</th>\n",
       "      <td>csgG</td>\n",
       "      <td>SL1344_1076</td>\n",
       "    </tr>\n",
       "    <tr>\n",
       "      <th>18326</th>\n",
       "      <td>yebU</td>\n",
       "      <td>SL1344_1779</td>\n",
       "    </tr>\n",
       "    <tr>\n",
       "      <th>41064</th>\n",
       "      <td>pagD</td>\n",
       "      <td>SL1344_1183</td>\n",
       "    </tr>\n",
       "    <tr>\n",
       "      <th>66</th>\n",
       "      <td>argG</td>\n",
       "      <td>SL1344_3262</td>\n",
       "    </tr>\n",
       "    <tr>\n",
       "      <th>144</th>\n",
       "      <td>fimH</td>\n",
       "      <td>SL1344_0540</td>\n",
       "    </tr>\n",
       "    <tr>\n",
       "      <th>2916</th>\n",
       "      <td>smvA</td>\n",
       "      <td>SL1344_1505</td>\n",
       "    </tr>\n",
       "    <tr>\n",
       "      <th>3414</th>\n",
       "      <td>safC</td>\n",
       "      <td>SL1344_0297</td>\n",
       "    </tr>\n",
       "    <tr>\n",
       "      <th>1351</th>\n",
       "      <td>yegB</td>\n",
       "      <td>SL1344_2106</td>\n",
       "    </tr>\n",
       "    <tr>\n",
       "      <th>8719</th>\n",
       "      <td>hisH</td>\n",
       "      <td>SL1344_2052</td>\n",
       "    </tr>\n",
       "    <tr>\n",
       "      <th>1437</th>\n",
       "      <td>orgC</td>\n",
       "      <td>SL1344_2848</td>\n",
       "    </tr>\n",
       "    <tr>\n",
       "      <th>11022</th>\n",
       "      <td>idi</td>\n",
       "      <td>SL1344_3015</td>\n",
       "    </tr>\n",
       "    <tr>\n",
       "      <th>1493</th>\n",
       "      <td>ychM</td>\n",
       "      <td>SL1344_1709</td>\n",
       "    </tr>\n",
       "    <tr>\n",
       "      <th>21145</th>\n",
       "      <td>pta</td>\n",
       "      <td>SL1344_2307</td>\n",
       "    </tr>\n",
       "    <tr>\n",
       "      <th>3071</th>\n",
       "      <td>xylR</td>\n",
       "      <td>SL1344_3627</td>\n",
       "    </tr>\n",
       "    <tr>\n",
       "      <th>1573</th>\n",
       "      <td>marT</td>\n",
       "      <td>SL1344_3725</td>\n",
       "    </tr>\n",
       "    <tr>\n",
       "      <th>18167</th>\n",
       "      <td>hisM</td>\n",
       "      <td>SL1344_2321</td>\n",
       "    </tr>\n",
       "    <tr>\n",
       "      <th>1947</th>\n",
       "      <td>dhaF</td>\n",
       "      <td>SL1344_0320;pseudo=true</td>\n",
       "    </tr>\n",
       "  </tbody>\n",
       "</table>\n",
       "</div>"
      ],
      "text/plain": [
       "      ShortName                          locus_tag\n",
       "48         yfiA                        SL1344_2624\n",
       "891        cpxA                        SL1344_4007\n",
       "956        tktA                        SL1344_3052\n",
       "1131       yjcH                        SL1344_4210\n",
       "5085       ydiT                        SL1344_1285\n",
       "1165       treR                        SL1344_4386\n",
       "20         wcaF                        SL1344_2087\n",
       "774        pilM  SL1344_RS24640;old_SL1344_P2_0094\n",
       "1006       csgG                        SL1344_1076\n",
       "18326      yebU                        SL1344_1779\n",
       "41064      pagD                        SL1344_1183\n",
       "66         argG                        SL1344_3262\n",
       "144        fimH                        SL1344_0540\n",
       "2916       smvA                        SL1344_1505\n",
       "3414       safC                        SL1344_0297\n",
       "1351       yegB                        SL1344_2106\n",
       "8719       hisH                        SL1344_2052\n",
       "1437       orgC                        SL1344_2848\n",
       "11022       idi                        SL1344_3015\n",
       "1493       ychM                        SL1344_1709\n",
       "21145       pta                        SL1344_2307\n",
       "3071       xylR                        SL1344_3627\n",
       "1573       marT                        SL1344_3725\n",
       "18167      hisM                        SL1344_2321\n",
       "1947       dhaF            SL1344_0320;pseudo=true"
      ]
     },
     "execution_count": 21,
     "metadata": {},
     "output_type": "execute_result"
    }
   ],
   "source": [
    "ann = cnt_df[['ShortName', 'locus_tag']].drop_duplicates()\n",
    "#ann = ann[ann.ShortName]\n",
    "ann = ann[ann.ShortName.apply(lambda x: len(x) < 10)]\n",
    "ann.sample(25)"
   ]
  },
  {
   "cell_type": "code",
   "execution_count": 6,
   "id": "mysterious-right",
   "metadata": {},
   "outputs": [
    {
     "data": {
      "text/html": [
       "<div>\n",
       "<style scoped>\n",
       "    .dataframe tbody tr th:only-of-type {\n",
       "        vertical-align: middle;\n",
       "    }\n",
       "\n",
       "    .dataframe tbody tr th {\n",
       "        vertical-align: top;\n",
       "    }\n",
       "\n",
       "    .dataframe thead th {\n",
       "        text-align: right;\n",
       "    }\n",
       "</style>\n",
       "<table border=\"1\" class=\"dataframe\">\n",
       "  <thead>\n",
       "    <tr style=\"text-align: right;\">\n",
       "      <th></th>\n",
       "      <th>gene</th>\n",
       "      <th>day</th>\n",
       "      <th>log2FC</th>\n",
       "      <th>lfcSE</th>\n",
       "      <th>lfc_pvalue</th>\n",
       "      <th>lfc_padj</th>\n",
       "      <th>z-score</th>\n",
       "      <th>CI</th>\n",
       "      <th>zscore_pval</th>\n",
       "      <th>zscore_padj</th>\n",
       "      <th>library</th>\n",
       "    </tr>\n",
       "  </thead>\n",
       "  <tbody>\n",
       "    <tr>\n",
       "      <th>2088</th>\n",
       "      <td>rfbK</td>\n",
       "      <td>d3</td>\n",
       "      <td>-1.436787</td>\n",
       "      <td>0.508003</td>\n",
       "      <td>0.004680</td>\n",
       "      <td>0.044893</td>\n",
       "      <td>-2.709445</td>\n",
       "      <td>0.370170</td>\n",
       "      <td>0.006740</td>\n",
       "      <td>0.068145</td>\n",
       "      <td>library_10_2</td>\n",
       "    </tr>\n",
       "    <tr>\n",
       "      <th>4076</th>\n",
       "      <td>pgtP</td>\n",
       "      <td>d1</td>\n",
       "      <td>-0.163652</td>\n",
       "      <td>0.295492</td>\n",
       "      <td>0.579696</td>\n",
       "      <td>0.999108</td>\n",
       "      <td>-0.365373</td>\n",
       "      <td>0.923908</td>\n",
       "      <td>0.714833</td>\n",
       "      <td>0.997845</td>\n",
       "      <td>library_14_2</td>\n",
       "    </tr>\n",
       "    <tr>\n",
       "      <th>2728</th>\n",
       "      <td>hyb0.0005</td>\n",
       "      <td>d3</td>\n",
       "      <td>-2.384382</td>\n",
       "      <td>0.973504</td>\n",
       "      <td>0.014314</td>\n",
       "      <td>0.402436</td>\n",
       "      <td>-2.693513</td>\n",
       "      <td>0.152764</td>\n",
       "      <td>0.007070</td>\n",
       "      <td>0.196632</td>\n",
       "      <td>library_13_1</td>\n",
       "    </tr>\n",
       "    <tr>\n",
       "      <th>1689</th>\n",
       "      <td>SL1344_RS23770</td>\n",
       "      <td>d3</td>\n",
       "      <td>0.710609</td>\n",
       "      <td>0.270521</td>\n",
       "      <td>0.008619</td>\n",
       "      <td>0.068601</td>\n",
       "      <td>1.128200</td>\n",
       "      <td>1.275022</td>\n",
       "      <td>0.259235</td>\n",
       "      <td>0.555152</td>\n",
       "      <td>library_9_1</td>\n",
       "    </tr>\n",
       "    <tr>\n",
       "      <th>675</th>\n",
       "      <td>cadB</td>\n",
       "      <td>d1</td>\n",
       "      <td>-0.209595</td>\n",
       "      <td>0.413886</td>\n",
       "      <td>0.612570</td>\n",
       "      <td>0.995191</td>\n",
       "      <td>-0.518177</td>\n",
       "      <td>0.855412</td>\n",
       "      <td>0.604335</td>\n",
       "      <td>0.999790</td>\n",
       "      <td>library_10_2</td>\n",
       "    </tr>\n",
       "  </tbody>\n",
       "</table>\n",
       "</div>"
      ],
      "text/plain": [
       "                gene day    log2FC     lfcSE  lfc_pvalue  lfc_padj   z-score  \\\n",
       "2088            rfbK  d3 -1.436787  0.508003    0.004680  0.044893 -2.709445   \n",
       "4076            pgtP  d1 -0.163652  0.295492    0.579696  0.999108 -0.365373   \n",
       "2728       hyb0.0005  d3 -2.384382  0.973504    0.014314  0.402436 -2.693513   \n",
       "1689  SL1344_RS23770  d3  0.710609  0.270521    0.008619  0.068601  1.128200   \n",
       "675             cadB  d1 -0.209595  0.413886    0.612570  0.995191 -0.518177   \n",
       "\n",
       "            CI  zscore_pval  zscore_padj       library  \n",
       "2088  0.370170     0.006740     0.068145  library_10_2  \n",
       "4076  0.923908     0.714833     0.997845  library_14_2  \n",
       "2728  0.152764     0.007070     0.196632  library_13_1  \n",
       "1689  1.275022     0.259235     0.555152   library_9_1  \n",
       "675   0.855412     0.604335     0.999790  library_10_2  "
      ]
     },
     "execution_count": 6,
     "metadata": {},
     "output_type": "execute_result"
    }
   ],
   "source": [
    "# Ranking should be done within each day, within each library, then take median rank for each gene\n",
    "df = pd.read_csv(\"../../../data/27_07_results_and_figures/final_results/26-07-final-results.csv\", index_col=0)\n",
    "df['dir_change'] = df['z-score'].apply(lambda x: 1 if x > 0 else -1)\n",
    "df.sample(5)"
   ]
  },
  {
   "cell_type": "code",
   "execution_count": 28,
   "id": "6201918f-9ff4-4f60-98bd-92edaca5f7ec",
   "metadata": {},
   "outputs": [],
   "source": [
    "# Read in final results table\n",
    "#df = pd.read_csv(\"../../results/26-07-final-results.csv\", index_col=0)\n",
    "#df = pd.read_csv(\"../../../data/27_07_results_and_figures/final_results/26-07-final-results.csv\", index_col=0)\n",
    "# Rank all genes based on direction of change and adjusted p-value\n",
    "\n",
    "df['dir_change'] = df['z-score'].apply(lambda x: 1 if x > 0 else -1)\n",
    "df['rank'] = -1*np.log10(df['zscore_padj'])*df['dir_change']\n",
    "df = df.merge(ann, how='left', left_on = 'gene', right_on ='ShortName').dropna()\n"
   ]
  },
  {
   "cell_type": "code",
   "execution_count": 59,
   "id": "abbd2edd-f99f-42df-aed1-bd20fbb491c8",
   "metadata": {},
   "outputs": [
    {
     "data": {
      "text/html": [
       "<div>\n",
       "<style scoped>\n",
       "    .dataframe tbody tr th:only-of-type {\n",
       "        vertical-align: middle;\n",
       "    }\n",
       "\n",
       "    .dataframe tbody tr th {\n",
       "        vertical-align: top;\n",
       "    }\n",
       "\n",
       "    .dataframe thead th {\n",
       "        text-align: right;\n",
       "    }\n",
       "</style>\n",
       "<table border=\"1\" class=\"dataframe\">\n",
       "  <thead>\n",
       "    <tr style=\"text-align: right;\">\n",
       "      <th></th>\n",
       "      <th>gene</th>\n",
       "      <th>day</th>\n",
       "      <th>log2FC</th>\n",
       "      <th>lfcSE</th>\n",
       "      <th>lfc_pvalue</th>\n",
       "      <th>lfc_padj</th>\n",
       "      <th>z-score</th>\n",
       "      <th>CI</th>\n",
       "      <th>zscore_pval</th>\n",
       "      <th>zscore_padj</th>\n",
       "      <th>library</th>\n",
       "      <th>dir_change</th>\n",
       "      <th>rank</th>\n",
       "      <th>ShortName</th>\n",
       "      <th>locus_tag</th>\n",
       "    </tr>\n",
       "  </thead>\n",
       "  <tbody>\n",
       "    <tr>\n",
       "      <th>1701</th>\n",
       "      <td>mglC</td>\n",
       "      <td>d2</td>\n",
       "      <td>-0.154132</td>\n",
       "      <td>0.202385</td>\n",
       "      <td>0.446311</td>\n",
       "      <td>0.752251</td>\n",
       "      <td>1.741626</td>\n",
       "      <td>1.357600</td>\n",
       "      <td>0.081574</td>\n",
       "      <td>0.108256</td>\n",
       "      <td>library_11_1</td>\n",
       "      <td>1</td>\n",
       "      <td>0.965550</td>\n",
       "      <td>mglC</td>\n",
       "      <td>SL1344_2165</td>\n",
       "    </tr>\n",
       "    <tr>\n",
       "      <th>33931</th>\n",
       "      <td>sptP</td>\n",
       "      <td>d4</td>\n",
       "      <td>2.278636</td>\n",
       "      <td>0.603004</td>\n",
       "      <td>0.000158</td>\n",
       "      <td>0.001963</td>\n",
       "      <td>1.220034</td>\n",
       "      <td>1.732626</td>\n",
       "      <td>0.222452</td>\n",
       "      <td>0.291225</td>\n",
       "      <td>library_13_1</td>\n",
       "      <td>1</td>\n",
       "      <td>0.535771</td>\n",
       "      <td>sptP</td>\n",
       "      <td>SL1344_2858</td>\n",
       "    </tr>\n",
       "    <tr>\n",
       "      <th>19655</th>\n",
       "      <td>mppA</td>\n",
       "      <td>d3</td>\n",
       "      <td>0.636729</td>\n",
       "      <td>0.307556</td>\n",
       "      <td>0.038425</td>\n",
       "      <td>0.211014</td>\n",
       "      <td>0.630162</td>\n",
       "      <td>1.166251</td>\n",
       "      <td>0.528589</td>\n",
       "      <td>0.725221</td>\n",
       "      <td>library_11_2</td>\n",
       "      <td>1</td>\n",
       "      <td>0.139530</td>\n",
       "      <td>mppA</td>\n",
       "      <td>SL1344_1609</td>\n",
       "    </tr>\n",
       "    <tr>\n",
       "      <th>6232</th>\n",
       "      <td>yeeN</td>\n",
       "      <td>d1</td>\n",
       "      <td>0.798020</td>\n",
       "      <td>0.546022</td>\n",
       "      <td>0.143874</td>\n",
       "      <td>0.680058</td>\n",
       "      <td>1.238896</td>\n",
       "      <td>1.745667</td>\n",
       "      <td>0.215384</td>\n",
       "      <td>0.843795</td>\n",
       "      <td>library_15_1</td>\n",
       "      <td>1</td>\n",
       "      <td>0.073763</td>\n",
       "      <td>yeeN</td>\n",
       "      <td>SL1344_4429</td>\n",
       "    </tr>\n",
       "    <tr>\n",
       "      <th>36949</th>\n",
       "      <td>bapA</td>\n",
       "      <td>d2</td>\n",
       "      <td>0.332939</td>\n",
       "      <td>0.164184</td>\n",
       "      <td>0.042576</td>\n",
       "      <td>0.371902</td>\n",
       "      <td>1.120657</td>\n",
       "      <td>1.162638</td>\n",
       "      <td>0.262434</td>\n",
       "      <td>0.929924</td>\n",
       "      <td>library_14_2</td>\n",
       "      <td>1</td>\n",
       "      <td>0.031553</td>\n",
       "      <td>bapA</td>\n",
       "      <td>SL1344_2661</td>\n",
       "    </tr>\n",
       "    <tr>\n",
       "      <th>8122</th>\n",
       "      <td>phnU</td>\n",
       "      <td>d3</td>\n",
       "      <td>0.822090</td>\n",
       "      <td>0.793819</td>\n",
       "      <td>0.300382</td>\n",
       "      <td>0.994841</td>\n",
       "      <td>0.531156</td>\n",
       "      <td>1.357334</td>\n",
       "      <td>0.595311</td>\n",
       "      <td>0.965488</td>\n",
       "      <td>library_13_2</td>\n",
       "      <td>1</td>\n",
       "      <td>0.015253</td>\n",
       "      <td>phnU</td>\n",
       "      <td>SL1344_0421</td>\n",
       "    </tr>\n",
       "    <tr>\n",
       "      <th>22945</th>\n",
       "      <td>rmbA</td>\n",
       "      <td>d1</td>\n",
       "      <td>0.178660</td>\n",
       "      <td>0.437051</td>\n",
       "      <td>0.682697</td>\n",
       "      <td>0.997870</td>\n",
       "      <td>0.571605</td>\n",
       "      <td>1.199998</td>\n",
       "      <td>0.567589</td>\n",
       "      <td>0.998001</td>\n",
       "      <td>library_12_1</td>\n",
       "      <td>1</td>\n",
       "      <td>0.000869</td>\n",
       "      <td>rmbA</td>\n",
       "      <td>SL1344_3722</td>\n",
       "    </tr>\n",
       "    <tr>\n",
       "      <th>10471</th>\n",
       "      <td>ssaP</td>\n",
       "      <td>d4</td>\n",
       "      <td>0.447055</td>\n",
       "      <td>0.373020</td>\n",
       "      <td>0.230732</td>\n",
       "      <td>0.448300</td>\n",
       "      <td>-0.294005</td>\n",
       "      <td>0.921210</td>\n",
       "      <td>0.768754</td>\n",
       "      <td>0.877560</td>\n",
       "      <td>library_10_1</td>\n",
       "      <td>-1</td>\n",
       "      <td>-0.056723</td>\n",
       "      <td>ssaP</td>\n",
       "      <td>SL1344_1351</td>\n",
       "    </tr>\n",
       "    <tr>\n",
       "      <th>24969</th>\n",
       "      <td>argC</td>\n",
       "      <td>d3</td>\n",
       "      <td>-0.041887</td>\n",
       "      <td>0.215484</td>\n",
       "      <td>0.845873</td>\n",
       "      <td>0.931249</td>\n",
       "      <td>-2.086432</td>\n",
       "      <td>0.683917</td>\n",
       "      <td>0.036939</td>\n",
       "      <td>0.125616</td>\n",
       "      <td>library_12_1</td>\n",
       "      <td>-1</td>\n",
       "      <td>-0.900954</td>\n",
       "      <td>argC</td>\n",
       "      <td>SL1344_4071</td>\n",
       "    </tr>\n",
       "    <tr>\n",
       "      <th>34098</th>\n",
       "      <td>yhjS</td>\n",
       "      <td>d4</td>\n",
       "      <td>-0.143317</td>\n",
       "      <td>0.441039</td>\n",
       "      <td>0.745217</td>\n",
       "      <td>0.878873</td>\n",
       "      <td>-3.236464</td>\n",
       "      <td>0.323314</td>\n",
       "      <td>0.001210</td>\n",
       "      <td>0.004124</td>\n",
       "      <td>library_13_1</td>\n",
       "      <td>-1</td>\n",
       "      <td>-2.384733</td>\n",
       "      <td>yhjS</td>\n",
       "      <td>SL1344_3587</td>\n",
       "    </tr>\n",
       "  </tbody>\n",
       "</table>\n",
       "</div>"
      ],
      "text/plain": [
       "       gene day    log2FC     lfcSE  lfc_pvalue  lfc_padj   z-score        CI  \\\n",
       "1701   mglC  d2 -0.154132  0.202385    0.446311  0.752251  1.741626  1.357600   \n",
       "33931  sptP  d4  2.278636  0.603004    0.000158  0.001963  1.220034  1.732626   \n",
       "19655  mppA  d3  0.636729  0.307556    0.038425  0.211014  0.630162  1.166251   \n",
       "6232   yeeN  d1  0.798020  0.546022    0.143874  0.680058  1.238896  1.745667   \n",
       "36949  bapA  d2  0.332939  0.164184    0.042576  0.371902  1.120657  1.162638   \n",
       "8122   phnU  d3  0.822090  0.793819    0.300382  0.994841  0.531156  1.357334   \n",
       "22945  rmbA  d1  0.178660  0.437051    0.682697  0.997870  0.571605  1.199998   \n",
       "10471  ssaP  d4  0.447055  0.373020    0.230732  0.448300 -0.294005  0.921210   \n",
       "24969  argC  d3 -0.041887  0.215484    0.845873  0.931249 -2.086432  0.683917   \n",
       "34098  yhjS  d4 -0.143317  0.441039    0.745217  0.878873 -3.236464  0.323314   \n",
       "\n",
       "       zscore_pval  zscore_padj       library  dir_change      rank ShortName  \\\n",
       "1701      0.081574     0.108256  library_11_1           1  0.965550      mglC   \n",
       "33931     0.222452     0.291225  library_13_1           1  0.535771      sptP   \n",
       "19655     0.528589     0.725221  library_11_2           1  0.139530      mppA   \n",
       "6232      0.215384     0.843795  library_15_1           1  0.073763      yeeN   \n",
       "36949     0.262434     0.929924  library_14_2           1  0.031553      bapA   \n",
       "8122      0.595311     0.965488  library_13_2           1  0.015253      phnU   \n",
       "22945     0.567589     0.998001  library_12_1           1  0.000869      rmbA   \n",
       "10471     0.768754     0.877560  library_10_1          -1 -0.056723      ssaP   \n",
       "24969     0.036939     0.125616  library_12_1          -1 -0.900954      argC   \n",
       "34098     0.001210     0.004124  library_13_1          -1 -2.384733      yhjS   \n",
       "\n",
       "         locus_tag  \n",
       "1701   SL1344_2165  \n",
       "33931  SL1344_2858  \n",
       "19655  SL1344_1609  \n",
       "6232   SL1344_4429  \n",
       "36949  SL1344_2661  \n",
       "8122   SL1344_0421  \n",
       "22945  SL1344_3722  \n",
       "10471  SL1344_1351  \n",
       "24969  SL1344_4071  \n",
       "34098  SL1344_3587  "
      ]
     },
     "execution_count": 59,
     "metadata": {},
     "output_type": "execute_result"
    }
   ],
   "source": [
    "df.sample(10).sort_values('rank', ascending=False)"
   ]
  },
  {
   "cell_type": "code",
   "execution_count": 63,
   "id": "dirty-copyright",
   "metadata": {},
   "outputs": [],
   "source": [
    "# Subset by days\n",
    "df1 = df[df.day == 'd1']\n",
    "# Calculate mean, median, min, max rank for each gene\n",
    "ranked = df1.groupby('locus_tag').agg({'rank':['mean', 'median', 'min', 'max']}).dropna().reset_index()\n",
    "ranked.columns = ['locus_tag', 'rank_mean', 'rank_median','rank_min', 'rank_max']\n",
    "\n",
    "# Test these with fgsea\n",
    "\n",
    "# Mean performed the best\n",
    "ranked_mean = ranked[['locus_tag', 'rank_mean']]\n",
    "ranked_mean.to_csv(\"./day1_ranked_mean.csv\")\n",
    "\n",
    "\n",
    "\n",
    "df2 = df[df.day == 'd2']\n",
    "\n",
    "ranked = df2.groupby('locus_tag').agg({'rank':['mean', 'median', 'min', 'max']}).dropna().reset_index()\n",
    "ranked.columns = ['locus_tag', 'rank_mean', 'rank_median','rank_min', 'rank_max']\n",
    "\n",
    "ranked_mean = ranked[['locus_tag', 'rank_mean']]\n",
    "ranked_mean.to_csv(\"./day2_ranked_mean.csv\")\n",
    "\n",
    "\n",
    "df3 = df[df.day == 'd3']\n",
    "\n",
    "ranked = df3.groupby('locus_tag').agg({'rank':['mean', 'median', 'min', 'max']}).dropna().reset_index()\n",
    "ranked.columns = ['locus_tag', 'rank_mean', 'rank_median','rank_min', 'rank_max']\n",
    "\n",
    "ranked_mean = ranked[['locus_tag', 'rank_mean']]\n",
    "ranked_mean.to_csv(\"./day3_ranked_mean.csv\")\n",
    "\n",
    "\n",
    "\n",
    "df4 = df[df.day == 'd4']\n",
    "\n",
    "ranked = df4.groupby('locus_tag').agg({'rank':['mean', 'median', 'min', 'max']}).dropna().reset_index()\n",
    "ranked.columns = ['locus_tag', 'rank_mean', 'rank_median','rank_min', 'rank_max']\n",
    "\n",
    "ranked_mean = ranked[['locus_tag', 'rank_mean']]\n",
    "ranked_mean.to_csv(\"./day4_ranked_mean.csv\")"
   ]
  },
  {
   "cell_type": "code",
   "execution_count": 71,
   "id": "italic-collaboration",
   "metadata": {},
   "outputs": [
    {
     "name": "stdout",
     "output_type": "stream",
     "text": [
      "STM3026\n",
      "acrE\n",
      "allP\n",
      "amiC\n",
      "anmK\n",
      "argG\n",
      "aroA\n",
      "aroP\n",
      "assT\n",
      "avrA\n",
      "bapA\n",
      "bcsA\n",
      "bigA\n",
      "citA2\n",
      "cpxA\n",
      "csgB\n",
      "csgG\n",
      "cysG\n",
      "dcoC\n",
      "dgt\n",
      "fadB\n",
      "fadH\n",
      "fepA\n",
      "fidL\n",
      "fimH\n",
      "garD\n",
      "garL\n",
      "gcd\n",
      "glpQ\n",
      "glpT\n",
      "gnd\n",
      "gogB\n",
      "gor\n",
      "gpD\n",
      "gpF\n",
      "gtrAb\n",
      "gtrBb\n",
      "hsdS\n",
      "hypD\n",
      "idnK\n",
      "invA\n",
      "invC\n",
      "invE\n",
      "iolE\n",
      "iolH\n",
      "iolT1\n",
      "katG\n",
      "kdgT\n",
      "kduD\n",
      "lctP\n",
      "lpfD\n",
      "marT\n",
      "metF\n",
      "mglA\n",
      "mgtB\n",
      "mgtC\n",
      "mgtR\n",
      "nepI\n",
      "nrfE\n",
      "ompL\n",
      "otsA\n",
      "pduF\n",
      "phoB\n",
      "pipB2\n",
      "prlC\n",
      "psiF\n",
      "ptr\n",
      "pyrE\n",
      "radC\n",
      "rfaG\n",
      "rfaI\n",
      "rfaP\n",
      "rfbH\n",
      "rfbV\n",
      "rhtB\n",
      "rmbA\n",
      "safA\n",
      "sciH\n",
      "sdaC\n",
      "sgaB\n",
      "siiC\n",
      "siiF\n",
      "sipC\n",
      "sipD\n",
      "slsA\n",
      "sopB\n",
      "sopD\n",
      "spaO\n",
      "speF\n",
      "ssaU\n",
      "sseK1\n",
      "stbA\n",
      "stbC\n",
      "stcA\n",
      "sthA\n",
      "stjC\n",
      "sxy\n",
      "symE\n",
      "tctD\n",
      "tdcB\n",
      "tdcD\n",
      "traU\n",
      "trmA\n",
      "tyrB\n",
      "udg\n",
      "uvrD\n",
      "virK\n",
      "wcaD\n",
      "wcaK\n",
      "xylB\n",
      "yaiB\n",
      "ybbY\n",
      "ybdO\n",
      "ybdZ\n",
      "ydiF\n",
      "yeaJ\n",
      "yeeN\n",
      "yegO\n",
      "yegT\n",
      "yehE\n",
      "yeiA\n",
      "yfiN\n",
      "ygaU\n",
      "ygcY\n",
      "yggB\n",
      "ygjT\n",
      "yhjS\n",
      "yhjV\n",
      "yiaB\n",
      "yiaE\n",
      "yiaL\n",
      "yibD\n",
      "yibK\n",
      "yicE\n",
      "yicL\n",
      "yidA\n",
      "yidZ\n",
      "yieM\n",
      "yihO\n",
      "yihX\n",
      "yiiG\n",
      "yjeK\n",
      "yjeM\n",
      "yjfJ\n",
      "yjfL\n",
      "yjjI\n",
      "yjjU\n",
      "ykgB\n",
      "ymbA\n",
      "ytfG\n",
      "acrB\n",
      "hha\n",
      "hybC\n",
      "lpp\n",
      "pstS\n",
      "hypE\n",
      "rfaB\n",
      "rfbA\n",
      "aroC\n",
      "ccmF2\n",
      "cpsB2\n",
      "fdhD\n",
      "hydA\n",
      "iroN\n",
      "mdoH\n",
      "pefC\n",
      "pmbA\n",
      "proW\n",
      "rfbC\n",
      "rfbF\n",
      "rfbI\n",
      "rfbJ\n",
      "rfbN\n",
      "rfbU\n",
      "rtsA\n",
      "sgaH\n",
      "siiB\n",
      "siiE\n",
      "spvA\n",
      "spvB\n",
      "spvR\n",
      "sugR\n",
      "sul2\n",
      "torA\n",
      "torD\n",
      "traD\n",
      "traE\n",
      "traN\n",
      "yafP\n",
      "yggM\n",
      "ygiK\n",
      "yhhJ\n",
      "yhjA\n",
      "yiaM\n",
      "yidE\n",
      "yidH\n",
      "yijF\n",
      "acnB\n",
      "adh\n",
      "adiY\n",
      "adrA\n",
      "agaR\n",
      "aidB\n",
      "aphA\n",
      "argH\n",
      "bcfA\n",
      "fixB\n",
      "fpr\n",
      "frwC\n",
      "gip\n",
      "glgB\n",
      "glgX\n",
      "gudT\n",
      "hflC\n",
      "hsdR\n",
      "hslS\n",
      "hybB\n",
      "invJ\n",
      "lpfC\n",
      "lrhA\n",
      "malT\n",
      "misL\n",
      "mtlA\n",
      "nagB\n",
      "nanK\n",
      "pflF\n",
      "proP\n",
      "proV\n",
      "purE\n",
      "rfbG\n",
      "rffC\n",
      "rnfA\n",
      "safB\n",
      "sciY\n",
      "siiD\n",
      "sopE\n",
      "spvC\n",
      "stfA\n",
      "stjB\n",
      "tcp\n",
      "tdcE\n",
      "traA\n",
      "traC\n",
      "traG\n",
      "traI\n",
      "traM\n",
      "traP\n",
      "traR\n",
      "traT\n",
      "traV\n",
      "traX\n",
      "trbC\n",
      "trbE\n",
      "trkH\n",
      "ugpC\n",
      "ugpE\n",
      "uxuA\n",
      "yaiU\n",
      "yhiR\n",
      "yhjB\n",
      "yibP\n",
      "yicC\n",
      "yicH\n",
      "yidY\n",
      "yieO\n",
      "yigF\n",
      "yijO\n",
      "yjbC\n",
      "yjdB\n",
      "yjiA\n",
      "yjjW\n",
      "yqjK\n",
      "yrdB\n",
      "zntA\n",
      "focA\n",
      "hybA\n",
      "hybE\n",
      "ptsA\n",
      "purD\n",
      "purF\n",
      "dgkA\n",
      "dnaJ\n",
      "metB\n",
      "manA\n",
      "cvpA\n",
      "hybD\n",
      "rfaJ\n",
      "ilvD\n",
      "ilvE\n",
      "iolR\n",
      "frdC\n",
      "yjiH\n"
     ]
    }
   ],
   "source": [
    "# For STRING get all the hits by day\n",
    "# Day 1\n",
    "print(\"\\n\".join(list(df[(df.zscore_padj < 0.05) & (df.day == 'd1')].gene.unique())))"
   ]
  },
  {
   "cell_type": "code",
   "execution_count": 15,
   "id": "124ee83f-36fb-41bf-b765-270a96eb1e6f",
   "metadata": {},
   "outputs": [],
   "source": [
    "l102d1[['gene', 'z-score']].to_csv('../../results/25-08-l102d1-gene-zscore.csv', index=None)\n",
    "# No enrichment detected\n",
    "l102d1[['gene', 'log2FC']].to_csv('../../results/25-08-l102d1-gene-log2fc.csv', index=None)\n",
    "# Nothing\n",
    "#Try day 2\n",
    "l102d2[['gene', 'z-score']].to_csv('../../results/25-08-l102d2-gene-zscore.csv', index=None)"
   ]
  },
  {
   "cell_type": "code",
   "execution_count": 69,
   "id": "432402e6-69e9-4220-b9a7-7f24ea527768",
   "metadata": {},
   "outputs": [],
   "source": [
    "# only hits\n",
    "l102d1[l102d1.zscore_padj < 0.05][['gene']].to_csv('../../results/25-08-l102d1-gene-hits.csv', index=None, header=None)\n",
    "# all hits\n",
    "pd.Series(df1[df1.zscore_padj < 0.05].gene.unique()).to_csv('../../results/25-08-d1-gene-hits.csv', index=None, header=None)"
   ]
  },
  {
   "cell_type": "code",
   "execution_count": 32,
   "id": "575ef175-1e9a-4582-a3cb-8b39ce0bdd12",
   "metadata": {},
   "outputs": [],
   "source": [
    "genes = [g for g in df.gene if len(g) < 10]\n",
    "# day 1\n",
    "df1 = df[df.day == 'd1']\n",
    "#Explore consitency in the resutls\n",
    "#df1_exp = df1[df1.gene.isin(genes)].groupby(['gene']).agg({'z-score':['mean', 'std', 'median'], 'log2FC':['mean', 'std', 'median']}).dropna()\n",
    "#df1_exp.columns = ['zscore_mean', 'zscore_std', 'zscore_median', 'fc_mean', 'fc_std', 'fc_median']"
   ]
  },
  {
   "cell_type": "code",
   "execution_count": 56,
   "id": "c80f7bf7-d6cf-4bb0-9576-8bcc04a79ccb",
   "metadata": {},
   "outputs": [
    {
     "data": {
      "application/vnd.plotly.v1+json": {
       "config": {
        "plotlyServerURL": "https://plot.ly"
       },
       "data": [
        {
         "customdata": [
          [
           "GlmZ"
          ],
          [
           "InvR"
          ],
          [
           "IsrA"
          ],
          [
           "IsrC"
          ],
          [
           "IsrH_1"
          ],
          [
           "IsrH_2"
          ],
          [
           "RybD"
          ],
          [
           "RygC"
          ],
          [
           "STM2208"
          ],
          [
           "STM3026"
          ],
          [
           "STnc1470"
          ],
          [
           "STnc440"
          ],
          [
           "STnc490"
          ],
          [
           "STnc780"
          ],
          [
           "aadA"
          ],
          [
           "aas"
          ],
          [
           "aceB"
          ],
          [
           "aceK"
          ],
          [
           "acnB"
          ],
          [
           "acpT"
          ],
          [
           "acrB"
          ],
          [
           "acrE"
          ],
          [
           "acrF"
          ],
          [
           "acrR"
          ],
          [
           "acs"
          ],
          [
           "actP"
          ],
          [
           "adhP"
          ],
          [
           "adi"
          ],
          [
           "adiY"
          ],
          [
           "aefA"
          ],
          [
           "aegA"
          ],
          [
           "aes"
          ],
          [
           "agaR"
          ],
          [
           "aidB"
          ],
          [
           "ais"
          ],
          [
           "aldB"
          ],
          [
           "alkA"
          ],
          [
           "allB"
          ],
          [
           "allC"
          ],
          [
           "allD"
          ],
          [
           "allP"
          ],
          [
           "alr-b"
          ],
          [
           "amiC"
          ],
          [
           "ampH"
          ],
          [
           "amyA"
          ],
          [
           "apt"
          ],
          [
           "araA"
          ],
          [
           "araD"
          ],
          [
           "araH"
          ],
          [
           "araJ"
          ],
          [
           "argB"
          ],
          [
           "argDb"
          ],
          [
           "argE"
          ],
          [
           "argG"
          ],
          [
           "argH"
          ],
          [
           "argI"
          ],
          [
           "aroA"
          ],
          [
           "aroE"
          ],
          [
           "aroF"
          ],
          [
           "aroQ"
          ],
          [
           "asnB"
          ],
          [
           "aspA"
          ],
          [
           "asrA"
          ],
          [
           "asrC"
          ],
          [
           "assT"
          ],
          [
           "astB"
          ],
          [
           "astD"
          ],
          [
           "avrA"
          ],
          [
           "avtA"
          ],
          [
           "bapA"
          ],
          [
           "barA"
          ],
          [
           "bax"
          ],
          [
           "bcfA"
          ],
          [
           "bcfB"
          ],
          [
           "bcfC"
          ],
          [
           "bcfH"
          ],
          [
           "bcsA"
          ],
          [
           "bcsC"
          ],
          [
           "bglA"
          ],
          [
           "bigA"
          ],
          [
           "bioF"
          ],
          [
           "bioH"
          ],
          [
           "bisC"
          ],
          [
           "blc"
          ],
          [
           "bssS"
          ],
          [
           "btuB"
          ],
          [
           "btuF"
          ],
          [
           "cadB"
          ],
          [
           "cadC"
          ],
          [
           "caiA"
          ],
          [
           "caiC"
          ],
          [
           "caiF"
          ],
          [
           "caiT"
          ],
          [
           "carB"
          ],
          [
           "cbiC"
          ],
          [
           "ccmF2"
          ],
          [
           "ccmH1"
          ],
          [
           "cdd"
          ],
          [
           "celA"
          ],
          [
           "celB"
          ],
          [
           "celC"
          ],
          [
           "celD"
          ],
          [
           "celF"
          ],
          [
           "chaA"
          ],
          [
           "chiA"
          ],
          [
           "cigR"
          ],
          [
           "citA"
          ],
          [
           "citA2"
          ],
          [
           "citB"
          ],
          [
           "citB2"
          ],
          [
           "citC"
          ],
          [
           "citC2"
          ],
          [
           "citE"
          ],
          [
           "citT"
          ],
          [
           "clcA"
          ],
          [
           "clpA"
          ],
          [
           "clpB"
          ],
          [
           "cobD"
          ],
          [
           "codA"
          ],
          [
           "comA"
          ],
          [
           "comD"
          ],
          [
           "comE"
          ],
          [
           "comM"
          ],
          [
           "copA"
          ],
          [
           "copS"
          ],
          [
           "cpaF"
          ],
          [
           "cpdB"
          ],
          [
           "cpsB2"
          ],
          [
           "cpxR"
          ],
          [
           "creB"
          ],
          [
           "csgA"
          ],
          [
           "csgB"
          ],
          [
           "csgC"
          ],
          [
           "csgD"
          ],
          [
           "csgE"
          ],
          [
           "csgF"
          ],
          [
           "csgG"
          ],
          [
           "cstAb"
          ],
          [
           "cvrA"
          ],
          [
           "cyaA"
          ],
          [
           "cybB"
          ],
          [
           "cybC"
          ],
          [
           "cyoA"
          ],
          [
           "cyoE"
          ],
          [
           "cypD"
          ],
          [
           "cysA"
          ],
          [
           "cysG"
          ],
          [
           "cysJ"
          ],
          [
           "cysN"
          ],
          [
           "dacB"
          ],
          [
           "dbh"
          ],
          [
           "dcm"
          ],
          [
           "dcoC"
          ],
          [
           "dcp"
          ],
          [
           "dcuA"
          ],
          [
           "dcuB"
          ],
          [
           "dcuC"
          ],
          [
           "dcuR"
          ],
          [
           "dcuS"
          ],
          [
           "deaD"
          ],
          [
           "degQ"
          ],
          [
           "deoA"
          ],
          [
           "deoB"
          ],
          [
           "deoD"
          ],
          [
           "dgoD"
          ],
          [
           "dgoR"
          ],
          [
           "dgt"
          ],
          [
           "dinF"
          ],
          [
           "div"
          ],
          [
           "dmsA1"
          ],
          [
           "dpaL"
          ],
          [
           "dppA"
          ],
          [
           "dppC"
          ],
          [
           "dppD"
          ],
          [
           "dppF"
          ],
          [
           "dprA"
          ],
          [
           "dsdX"
          ],
          [
           "edd"
          ],
          [
           "ego"
          ],
          [
           "emrD"
          ],
          [
           "entA"
          ],
          [
           "entF"
          ],
          [
           "envE"
          ],
          [
           "envF"
          ],
          [
           "envR"
          ],
          [
           "envZ"
          ],
          [
           "eutJ"
          ],
          [
           "eutP"
          ],
          [
           "eutS"
          ],
          [
           "excA"
          ],
          [
           "fadB"
          ],
          [
           "fadE"
          ],
          [
           "fadH"
          ],
          [
           "fbaB"
          ],
          [
           "fbp"
          ],
          [
           "fdhD"
          ],
          [
           "fdnG"
          ],
          [
           "fdnI"
          ],
          [
           "fdoG"
          ],
          [
           "fdoI"
          ],
          [
           "fdrA"
          ],
          [
           "feoA"
          ],
          [
           "feoB"
          ],
          [
           "fepA"
          ],
          [
           "fepE"
          ],
          [
           "fhlA"
          ],
          [
           "fhuA"
          ],
          [
           "fhuB"
          ],
          [
           "fhuD"
          ],
          [
           "fhuE"
          ],
          [
           "fidL"
          ],
          [
           "fimA"
          ],
          [
           "fimC"
          ],
          [
           "fimD"
          ],
          [
           "fimF"
          ],
          [
           "fimH"
          ],
          [
           "fimW"
          ],
          [
           "fimY"
          ],
          [
           "fimZ"
          ],
          [
           "fixB"
          ],
          [
           "fixC"
          ],
          [
           "fkpA"
          ],
          [
           "flgE"
          ],
          [
           "flgK"
          ],
          [
           "flhAb"
          ],
          [
           "fliD"
          ],
          [
           "fliR"
          ],
          [
           "fljA"
          ],
          [
           "fljB"
          ],
          [
           "focA"
          ],
          [
           "foxA"
          ],
          [
           "fpr"
          ],
          [
           "frdA"
          ],
          [
           "frdC"
          ],
          [
           "fruA"
          ],
          [
           "frwD"
          ],
          [
           "fucA"
          ],
          [
           "fucP"
          ],
          [
           "fumB"
          ],
          [
           "fumC"
          ],
          [
           "gabP"
          ],
          [
           "galF"
          ],
          [
           "galS"
          ],
          [
           "garD"
          ],
          [
           "garL"
          ],
          [
           "garRa"
          ],
          [
           "gatC"
          ],
          [
           "gatD"
          ],
          [
           "gatY"
          ],
          [
           "gcd"
          ],
          [
           "gcvP"
          ],
          [
           "gcvT"
          ],
          [
           "gip"
          ],
          [
           "gipA"
          ],
          [
           "gldA"
          ],
          [
           "glgA"
          ],
          [
           "glgB"
          ],
          [
           "glgC"
          ],
          [
           "glgP"
          ],
          [
           "glgX"
          ],
          [
           "glk"
          ],
          [
           "glnE"
          ],
          [
           "glpD"
          ],
          [
           "glpG"
          ],
          [
           "glpK"
          ],
          [
           "glpQ"
          ],
          [
           "glpT"
          ],
          [
           "gltA"
          ],
          [
           "gltB"
          ],
          [
           "gltK"
          ],
          [
           "gltP"
          ],
          [
           "gltS"
          ],
          [
           "gnd"
          ],
          [
           "gntT"
          ],
          [
           "gntU"
          ],
          [
           "gogB"
          ],
          [
           "gor"
          ],
          [
           "gpD"
          ],
          [
           "gpP"
          ],
          [
           "gppA"
          ],
          [
           "gsp"
          ],
          [
           "gtgA"
          ],
          [
           "gtgE"
          ],
          [
           "gtrAb"
          ],
          [
           "gtrBa"
          ],
          [
           "gtrBb"
          ],
          [
           "gudT"
          ],
          [
           "hdeB"
          ],
          [
           "hemF"
          ],
          [
           "hemN"
          ],
          [
           "hemY"
          ],
          [
           "hflC"
          ],
          [
           "hflK"
          ],
          [
           "hilA"
          ],
          [
           "hilC"
          ],
          [
           "hilD"
          ],
          [
           "hin"
          ],
          [
           "hisC"
          ],
          [
           "hisD"
          ],
          [
           "hmpA"
          ],
          [
           "hpaD"
          ],
          [
           "hrpA"
          ],
          [
           "hrpB"
          ],
          [
           "hscC"
          ],
          [
           "hsdM"
          ],
          [
           "hsdR"
          ],
          [
           "hsdS"
          ],
          [
           "htrA"
          ],
          [
           "hyaF2"
          ],
          [
           "hyb0.0005"
          ],
          [
           "hyb0.0015"
          ],
          [
           "hybA"
          ],
          [
           "hybC"
          ],
          [
           "hybE"
          ],
          [
           "hybG"
          ],
          [
           "hycC"
          ],
          [
           "hycD"
          ],
          [
           "hycE"
          ],
          [
           "hypA"
          ],
          [
           "hypE"
          ],
          [
           "iacP"
          ],
          [
           "iadA"
          ],
          [
           "iagB"
          ],
          [
           "iap"
          ],
          [
           "idnD"
          ],
          [
           "idnK"
          ],
          [
           "idnR"
          ],
          [
           "ilvD"
          ],
          [
           "ilvE"
          ],
          [
           "ilvG"
          ],
          [
           "ilvI"
          ],
          [
           "intA"
          ],
          [
           "invA"
          ],
          [
           "invB"
          ],
          [
           "invC"
          ],
          [
           "invE"
          ],
          [
           "invF"
          ],
          [
           "invG"
          ],
          [
           "invH"
          ],
          [
           "invI"
          ],
          [
           "invJ"
          ],
          [
           "iolA"
          ],
          [
           "iolC"
          ],
          [
           "iolD"
          ],
          [
           "iolE"
          ],
          [
           "iolG1"
          ],
          [
           "iolG2"
          ],
          [
           "iolH"
          ],
          [
           "iolI2"
          ],
          [
           "iolR"
          ],
          [
           "iolT1"
          ],
          [
           "iolT2"
          ],
          [
           "iraD"
          ],
          [
           "iroB"
          ],
          [
           "iroC"
          ],
          [
           "iroN"
          ],
          [
           "katG"
          ],
          [
           "katN"
          ],
          [
           "kbl"
          ],
          [
           "kdpA"
          ],
          [
           "kdpB"
          ],
          [
           "kdpD"
          ],
          [
           "kdpE"
          ],
          [
           "kduD"
          ],
          [
           "kduI"
          ],
          [
           "kefB"
          ],
          [
           "kup"
          ],
          [
           "lamB"
          ],
          [
           "lctD"
          ],
          [
           "lctP"
          ],
          [
           "lctR"
          ],
          [
           "ldcC"
          ],
          [
           "ldhA"
          ],
          [
           "leuA"
          ],
          [
           "leuC2"
          ],
          [
           "leuL"
          ],
          [
           "leuO"
          ],
          [
           "ligB"
          ],
          [
           "livH"
          ],
          [
           "livJ"
          ],
          [
           "livK"
          ],
          [
           "lpfA"
          ],
          [
           "lpfB"
          ],
          [
           "lpfC"
          ],
          [
           "lpfD"
          ],
          [
           "lplA"
          ],
          [
           "lpp"
          ],
          [
           "lrhA"
          ],
          [
           "luxS"
          ],
          [
           "lysC"
          ],
          [
           "lysR"
          ],
          [
           "lyxK"
          ],
          [
           "maa"
          ],
          [
           "malE"
          ],
          [
           "malM"
          ],
          [
           "malP"
          ],
          [
           "malQ"
          ],
          [
           "malS"
          ],
          [
           "malT"
          ],
          [
           "malZ"
          ],
          [
           "manA"
          ],
          [
           "manY"
          ],
          [
           "marT"
          ],
          [
           "mazG"
          ],
          [
           "mdaA"
          ],
          [
           "mdfA"
          ],
          [
           "mdh"
          ],
          [
           "mdoC"
          ],
          [
           "mdoG"
          ],
          [
           "mdoH"
          ],
          [
           "melA"
          ],
          [
           "melB"
          ],
          [
           "menD"
          ],
          [
           "metB"
          ],
          [
           "metE"
          ],
          [
           "metF"
          ],
          [
           "metH"
          ],
          [
           "metL"
          ],
          [
           "metQ"
          ],
          [
           "metR"
          ],
          [
           "mglA"
          ],
          [
           "mglC"
          ],
          [
           "mgtA"
          ],
          [
           "mgtB"
          ],
          [
           "mgtC"
          ],
          [
           "mgtR"
          ],
          [
           "miaE"
          ],
          [
           "mig-14"
          ],
          [
           "mig-3"
          ],
          [
           "minC"
          ],
          [
           "misL"
          ],
          [
           "mltB"
          ],
          [
           "mltC"
          ],
          [
           "mngB"
          ],
          [
           "mnmC"
          ],
          [
           "mobB"
          ],
          [
           "mod"
          ],
          [
           "modE"
          ],
          [
           "modF"
          ],
          [
           "mppA"
          ],
          [
           "mrcA"
          ],
          [
           "msrA"
          ],
          [
           "mtlA"
          ],
          [
           "mtr"
          ],
          [
           "murQ"
          ],
          [
           "mutS"
          ],
          [
           "mutY"
          ],
          [
           "nadB"
          ],
          [
           "nadR"
          ],
          [
           "nagE"
          ],
          [
           "nanA"
          ],
          [
           "nanT"
          ],
          [
           "narG"
          ],
          [
           "narK"
          ],
          [
           "narQ"
          ],
          [
           "narU"
          ],
          [
           "narZ"
          ],
          [
           "nepI"
          ],
          [
           "nfi"
          ],
          [
           "nhaR"
          ],
          [
           "nifJ"
          ],
          [
           "nikB"
          ],
          [
           "nirB"
          ],
          [
           "nirC"
          ],
          [
           "nixA"
          ],
          [
           "nlpD"
          ],
          [
           "norM"
          ],
          [
           "nrdD"
          ],
          [
           "nrdF"
          ],
          [
           "nrfA"
          ],
          [
           "nrfE"
          ],
          [
           "nsrR"
          ],
          [
           "nudC"
          ],
          [
           "oafA"
          ],
          [
           "ompD"
          ],
          [
           "ompL"
          ],
          [
           "ompN"
          ],
          [
           "ompR"
          ],
          [
           "opdB"
          ],
          [
           "oppA"
          ],
          [
           "ordL"
          ],
          [
           "orf242"
          ],
          [
           "orf245"
          ],
          [
           "orf32"
          ],
          [
           "orf408"
          ],
          [
           "orf48"
          ],
          [
           "orfX"
          ],
          [
           "orgA"
          ],
          [
           "orgB"
          ],
          [
           "orgC"
          ],
          [
           "osmB"
          ],
          [
           "otsA"
          ],
          [
           "oxyR"
          ],
          [
           "pabB"
          ],
          [
           "pagC"
          ],
          [
           "pagD"
          ],
          [
           "pagK"
          ],
          [
           "pagN"
          ],
          [
           "pagO"
          ],
          [
           "pagP"
          ],
          [
           "panC"
          ],
          [
           "panD"
          ],
          [
           "panF"
          ],
          [
           "pbpC"
          ],
          [
           "pckA"
          ],
          [
           "pdgL"
          ],
          [
           "pduA"
          ],
          [
           "pduD"
          ],
          [
           "pduF"
          ],
          [
           "pduK"
          ],
          [
           "pdxAa"
          ],
          [
           "pefA"
          ],
          [
           "pefB"
          ],
          [
           "pefC"
          ],
          [
           "pefI"
          ],
          [
           "pepD"
          ],
          [
           "pepE"
          ],
          [
           "pepN"
          ],
          [
           "pepQ"
          ],
          [
           "pflB"
          ],
          [
           "pflD"
          ],
          [
           "pflF"
          ],
          [
           "pgtA"
          ],
          [
           "pgtB"
          ],
          [
           "pgtC"
          ],
          [
           "pgtE"
          ],
          [
           "pgtP"
          ],
          [
           "pheA"
          ],
          [
           "pheP"
          ],
          [
           "phoE"
          ],
          [
           "phoN"
          ],
          [
           "phoP"
          ],
          [
           "phoR"
          ],
          [
           "phsA"
          ],
          [
           "pilC"
          ],
          [
           "pilL"
          ],
          [
           "pilM"
          ],
          [
           "pilO2"
          ],
          [
           "pilP"
          ],
          [
           "pilV"
          ],
          [
           "pipA"
          ],
          [
           "pipB"
          ],
          [
           "pipB2"
          ],
          [
           "pipC"
          ],
          [
           "pipD"
          ],
          [
           "pldA"
          ],
          [
           "pldB"
          ],
          [
           "pliC"
          ],
          [
           "pmbA"
          ],
          [
           "pmgI"
          ],
          [
           "pncB"
          ],
          [
           "pocR"
          ],
          [
           "polB"
          ],
          [
           "potB"
          ],
          [
           "ppc"
          ],
          [
           "pphA"
          ],
          [
           "pphB"
          ],
          [
           "ppiA"
          ],
          [
           "ppk"
          ],
          [
           "pps"
          ],
          [
           "pqaA"
          ],
          [
           "prfC"
          ],
          [
           "prgH"
          ],
          [
           "prgI"
          ],
          [
           "prgJ"
          ],
          [
           "prgK"
          ],
          [
           "prlC"
          ],
          [
           "proA"
          ],
          [
           "proB"
          ],
          [
           "proP"
          ],
          [
           "proV"
          ],
          [
           "proW"
          ],
          [
           "proX"
          ],
          [
           "prpD"
          ],
          [
           "pspE"
          ],
          [
           "ptr"
          ],
          [
           "ptsA"
          ],
          [
           "purD"
          ],
          [
           "putA"
          ],
          [
           "pyrI"
          ],
          [
           "radC"
          ],
          [
           "ramA"
          ],
          [
           "ramR"
          ],
          [
           "rarD"
          ],
          [
           "ratA"
          ],
          [
           "ratB"
          ],
          [
           "rbsR"
          ],
          [
           "rcsA"
          ],
          [
           "rcsC"
          ],
          [
           "rec2"
          ],
          [
           "recEa"
          ],
          [
           "recEb"
          ],
          [
           "recO"
          ],
          [
           "recQ"
          ],
          [
           "relA"
          ],
          [
           "res"
          ],
          [
           "rfaB"
          ],
          [
           "rfaG"
          ],
          [
           "rfaI"
          ],
          [
           "rfaJ"
          ],
          [
           "rfaK"
          ],
          [
           "rfaL"
          ],
          [
           "rfaP"
          ],
          [
           "rfaY"
          ],
          [
           "rfaZ"
          ],
          [
           "rfbB"
          ],
          [
           "rfbC"
          ],
          [
           "rfbD"
          ],
          [
           "rfbF"
          ],
          [
           "rfbG"
          ],
          [
           "rfbH"
          ],
          [
           "rfbI"
          ],
          [
           "rfbJ"
          ],
          [
           "rfbK"
          ],
          [
           "rfbN"
          ],
          [
           "rfbP"
          ],
          [
           "rfbU"
          ],
          [
           "rfbV"
          ],
          [
           "rfc"
          ],
          [
           "rffA"
          ],
          [
           "rffD"
          ],
          [
           "rffE"
          ],
          [
           "rhaA"
          ],
          [
           "rhaD"
          ],
          [
           "rhaR"
          ],
          [
           "rhaS"
          ],
          [
           "rhlB"
          ],
          [
           "rhuM"
          ],
          [
           "rimJ"
          ],
          [
           "rlpA"
          ],
          [
           "rmbA"
          ],
          [
           "rna"
          ],
          [
           "rpoC"
          ],
          [
           "rpoS"
          ],
          [
           "rspA"
          ],
          [
           "rstA"
          ],
          [
           "rstB"
          ],
          [
           "rtcA"
          ],
          [
           "rtn"
          ],
          [
           "rtsA"
          ],
          [
           "rumA"
          ],
          [
           "sadA"
          ],
          [
           "safA"
          ],
          [
           "safB"
          ],
          [
           "safC"
          ],
          [
           "safD"
          ],
          [
           "sanA"
          ],
          [
           "sbcC"
          ],
          [
           "sbp"
          ],
          [
           "sciC"
          ],
          [
           "sciE"
          ],
          [
           "sciF"
          ],
          [
           "sciG"
          ],
          [
           "sciH"
          ],
          [
           "sciJ"
          ],
          [
           "sciK"
          ],
          [
           "sciK1"
          ],
          [
           "sciQ"
          ],
          [
           "sciR"
          ],
          [
           "sciS"
          ],
          [
           "sciT"
          ],
          [
           "sciV"
          ],
          [
           "sciY"
          ],
          [
           "sdaA"
          ],
          [
           "sdiA"
          ],
          [
           "selB"
          ],
          [
           "serA"
          ],
          [
           "setB"
          ],
          [
           "sfbB"
          ],
          [
           "sfcA"
          ],
          [
           "sfsA"
          ],
          [
           "sgaT"
          ],
          [
           "shdA"
          ],
          [
           "sicA"
          ],
          [
           "sicP"
          ],
          [
           "sifA"
          ],
          [
           "sifB"
          ],
          [
           "siiA"
          ],
          [
           "siiB"
          ],
          [
           "siiC"
          ],
          [
           "siiD"
          ],
          [
           "siiE"
          ],
          [
           "siiF"
          ],
          [
           "sinH"
          ],
          [
           "sinR"
          ],
          [
           "sipA"
          ],
          [
           "sipB"
          ],
          [
           "sipC"
          ],
          [
           "sipD"
          ],
          [
           "sitD"
          ],
          [
           "slrP"
          ],
          [
           "slsA"
          ],
          [
           "slyD"
          ],
          [
           "smpA"
          ],
          [
           "solA"
          ],
          [
           "sopA"
          ],
          [
           "sopB"
          ],
          [
           "sopD"
          ],
          [
           "sopD2"
          ],
          [
           "sopE"
          ],
          [
           "sopE2"
          ],
          [
           "soxR"
          ],
          [
           "spaO"
          ],
          [
           "spaP"
          ],
          [
           "spaR"
          ],
          [
           "spaS"
          ],
          [
           "speA"
          ],
          [
           "speC"
          ],
          [
           "speF"
          ],
          [
           "sprB"
          ],
          [
           "sptP"
          ],
          [
           "spvA"
          ],
          [
           "spvB"
          ],
          [
           "spvC"
          ],
          [
           "spvD"
          ],
          [
           "spvR"
          ],
          [
           "srcA"
          ],
          [
           "srfC"
          ],
          [
           "srfJ"
          ],
          [
           "srlA"
          ],
          [
           "srmB"
          ],
          [
           "ssaB"
          ],
          [
           "ssaC"
          ],
          [
           "ssaD"
          ],
          [
           "ssaE"
          ],
          [
           "ssaG"
          ],
          [
           "ssaI"
          ],
          [
           "ssaJ"
          ],
          [
           "ssaK"
          ],
          [
           "ssaL"
          ],
          [
           "ssaM"
          ],
          [
           "ssaN"
          ],
          [
           "ssaO"
          ],
          [
           "ssaP"
          ],
          [
           "ssaQ"
          ],
          [
           "ssaR"
          ],
          [
           "ssaS"
          ],
          [
           "ssaT"
          ],
          [
           "ssaU"
          ],
          [
           "ssaV"
          ],
          [
           "sscB"
          ],
          [
           "sseA"
          ],
          [
           "sseBa"
          ],
          [
           "sseC"
          ],
          [
           "sseD"
          ],
          [
           "sseE"
          ],
          [
           "sseF"
          ],
          [
           "sseG"
          ],
          [
           "sseI"
          ],
          [
           "sseJ"
          ],
          [
           "sseK1"
          ],
          [
           "sseK2"
          ],
          [
           "sseK3"
          ],
          [
           "sseL"
          ],
          [
           "sspB"
          ],
          [
           "sspH2"
          ],
          [
           "ssrA"
          ],
          [
           "ssrB"
          ],
          [
           "stbA"
          ],
          [
           "stbB"
          ],
          [
           "stbC"
          ],
          [
           "stbD"
          ],
          [
           "stbE"
          ],
          [
           "stcA"
          ],
          [
           "stcB"
          ],
          [
           "stcC"
          ],
          [
           "stcD"
          ],
          [
           "stdA"
          ],
          [
           "stdB"
          ],
          [
           "steB"
          ],
          [
           "steC"
          ],
          [
           "stfA"
          ],
          [
           "stfC"
          ],
          [
           "stfD"
          ],
          [
           "sthA"
          ],
          [
           "sthB"
          ],
          [
           "sthD"
          ],
          [
           "stiA"
          ],
          [
           "stiC"
          ],
          [
           "stjA"
          ],
          [
           "stjB"
          ],
          [
           "stjC"
          ],
          [
           "sufD"
          ],
          [
           "sufI"
          ],
          [
           "sugR"
          ],
          [
           "sul2"
          ],
          [
           "symE"
          ],
          [
           "tatD"
          ],
          [
           "tcp"
          ],
          [
           "tctE"
          ],
          [
           "tdcA"
          ],
          [
           "tdcB"
          ],
          [
           "tdcC"
          ],
          [
           "tdcD"
          ],
          [
           "tdcE"
          ],
          [
           "tdh"
          ],
          [
           "tdk"
          ],
          [
           "tehB"
          ],
          [
           "thiC"
          ],
          [
           "thiH"
          ],
          [
           "thiP"
          ],
          [
           "tktB"
          ],
          [
           "tldD"
          ],
          [
           "tnp"
          ],
          [
           "tnpA"
          ],
          [
           "torA"
          ],
          [
           "torC"
          ],
          [
           "torD"
          ],
          [
           "torS"
          ],
          [
           "tpx"
          ],
          [
           "tqsA"
          ],
          [
           "traA"
          ],
          [
           "traC"
          ],
          [
           "traD"
          ],
          [
           "traE"
          ],
          [
           "traF"
          ],
          [
           "traG"
          ],
          [
           "traH"
          ],
          [
           "traI"
          ],
          [
           "traJ"
          ],
          [
           "traL"
          ],
          [
           "traM"
          ],
          [
           "traN"
          ],
          [
           "traO"
          ],
          [
           "traP"
          ],
          [
           "traQ"
          ],
          [
           "traR"
          ],
          [
           "traT"
          ],
          [
           "traU"
          ],
          [
           "traV"
          ],
          [
           "traX"
          ],
          [
           "traY"
          ],
          [
           "trbA"
          ],
          [
           "trbB"
          ],
          [
           "trbC"
          ],
          [
           "treF"
          ],
          [
           "treR"
          ],
          [
           "trmA"
          ],
          [
           "trmB"
          ],
          [
           "trpC"
          ],
          [
           "trpD"
          ],
          [
           "truB"
          ],
          [
           "tsr"
          ],
          [
           "ttdA"
          ],
          [
           "ttdB"
          ],
          [
           "ttrA"
          ],
          [
           "ttrB"
          ],
          [
           "ttrS"
          ],
          [
           "typA"
          ],
          [
           "udg"
          ],
          [
           "ugpB"
          ],
          [
           "ugpC"
          ],
          [
           "ugpE"
          ],
          [
           "ugpQ"
          ],
          [
           "ugtL"
          ],
          [
           "uhpB"
          ],
          [
           "uhpC"
          ],
          [
           "uraA"
          ],
          [
           "ushA"
          ],
          [
           "uspB"
          ],
          [
           "uvrA"
          ],
          [
           "uvrC"
          ],
          [
           "uvrD"
          ],
          [
           "uxaC"
          ],
          [
           "uxuA"
          ],
          [
           "uxuB"
          ],
          [
           "vapB"
          ],
          [
           "vgrS"
          ],
          [
           "virK"
          ],
          [
           "wcaA"
          ],
          [
           "wcaC"
          ],
          [
           "wcaD"
          ],
          [
           "wcaE"
          ],
          [
           "wcaF"
          ],
          [
           "wcaK"
          ],
          [
           "wcaM"
          ],
          [
           "wza"
          ],
          [
           "wzx"
          ],
          [
           "wzzB"
          ],
          [
           "xapB"
          ],
          [
           "xapR"
          ],
          [
           "xylA"
          ],
          [
           "xylB"
          ],
          [
           "xylR"
          ],
          [
           "yaaA"
          ],
          [
           "yaaJ"
          ],
          [
           "yaaU"
          ],
          [
           "yabN"
          ],
          [
           "yadE"
          ],
          [
           "yadI"
          ],
          [
           "yaeE"
          ],
          [
           "yafJ"
          ],
          [
           "yafP"
          ],
          [
           "yahO"
          ],
          [
           "yaiB"
          ],
          [
           "yaiU"
          ],
          [
           "yaiV"
          ],
          [
           "ybaJ"
          ],
          [
           "ybaX"
          ],
          [
           "ybbL"
          ],
          [
           "ybbM"
          ],
          [
           "ybbP"
          ],
          [
           "ybbY"
          ],
          [
           "ybdG"
          ],
          [
           "ybdN"
          ],
          [
           "ybdO"
          ],
          [
           "ybeF"
          ],
          [
           "ybeJ"
          ],
          [
           "ybeQ"
          ],
          [
           "ybeR"
          ],
          [
           "ybeV"
          ],
          [
           "ybfM"
          ],
          [
           "ybgJ"
          ],
          [
           "ybhL"
          ],
          [
           "ybhM"
          ],
          [
           "ybiP"
          ],
          [
           "ybiT"
          ],
          [
           "ybiV(2)"
          ],
          [
           "ybjX"
          ],
          [
           "ycaD"
          ],
          [
           "ycaJ"
          ],
          [
           "ycaL"
          ],
          [
           "ycaM"
          ],
          [
           "ycaO"
          ],
          [
           "yccD"
          ],
          [
           "yccW"
          ],
          [
           "ycdZ"
          ],
          [
           "yceJ"
          ],
          [
           "ycgL"
          ],
          [
           "ychP"
          ],
          [
           "yciA"
          ],
          [
           "yciC"
          ],
          [
           "yciE"
          ],
          [
           "yciR"
          ],
          [
           "yciT"
          ],
          [
           "ycjE"
          ],
          [
           "ycjF"
          ],
          [
           "ydbH"
          ],
          [
           "ydbL"
          ],
          [
           "ydcG"
          ],
          [
           "ydcK"
          ],
          [
           "ydcP"
          ],
          [
           "yddG"
          ],
          [
           "yddX"
          ],
          [
           "ydeE"
          ],
          [
           "ydeJ"
          ],
          [
           "ydeV"
          ],
          [
           "ydeW"
          ],
          [
           "ydeY"
          ],
          [
           "ydeZ"
          ],
          [
           "ydfJ"
          ],
          [
           "ydgA"
          ],
          [
           "ydgF"
          ],
          [
           "ydgI"
          ],
          [
           "ydiF"
          ],
          [
           "ydiJ"
          ],
          [
           "ydiL"
          ],
          [
           "ydiM"
          ],
          [
           "ydiN"
          ],
          [
           "ydiO"
          ],
          [
           "ydiP"
          ],
          [
           "ydiS"
          ],
          [
           "ydiV"
          ],
          [
           "ydiY"
          ],
          [
           "yeaH"
          ],
          [
           "yeaJ"
          ],
          [
           "yeaM"
          ],
          [
           "yeaS"
          ],
          [
           "yebB"
          ],
          [
           "yebC"
          ],
          [
           "yebU"
          ],
          [
           "yecA"
          ],
          [
           "yecE"
          ],
          [
           "yedE"
          ],
          [
           "yeeF"
          ],
          [
           "yeeI"
          ],
          [
           "yeeN"
          ],
          [
           "yeeX"
          ],
          [
           "yegD"
          ],
          [
           "yegE"
          ],
          [
           "yegN"
          ],
          [
           "yegO"
          ],
          [
           "yegQ"
          ],
          [
           "yegT"
          ],
          [
           "yegU"
          ],
          [
           "yehE"
          ],
          [
           "yehR"
          ],
          [
           "yeiE"
          ],
          [
           "yeiH"
          ],
          [
           "yeiU"
          ],
          [
           "yejB"
          ],
          [
           "yejF"
          ],
          [
           "yejH"
          ],
          [
           "yfaO"
          ],
          [
           "yfaV"
          ],
          [
           "yfbG"
          ],
          [
           "yfbK"
          ],
          [
           "yfbS"
          ],
          [
           "yfbU"
          ],
          [
           "yfdC"
          ],
          [
           "yfeN"
          ],
          [
           "yffH"
          ],
          [
           "yfhK"
          ],
          [
           "yfiN"
          ],
          [
           "yfiR"
          ],
          [
           "ygaE"
          ],
          [
           "ygaU"
          ],
          [
           "ygcB"
          ],
          [
           "ygdH"
          ],
          [
           "yggA"
          ],
          [
           "yggB"
          ],
          [
           "yggL"
          ],
          [
           "yggX"
          ],
          [
           "ygiK"
          ],
          [
           "ygiR"
          ],
          [
           "ygjO"
          ],
          [
           "ygjT"
          ],
          [
           "yhcK"
          ],
          [
           "yhcM"
          ],
          [
           "yhcP"
          ],
          [
           "yhcQ"
          ],
          [
           "yhdP"
          ],
          [
           "yhdV"
          ],
          [
           "yheR"
          ],
          [
           "yhfC"
          ],
          [
           "yhfK"
          ],
          [
           "yhfL"
          ],
          [
           "yhgE"
          ],
          [
           "yhgF"
          ],
          [
           "yhgG"
          ],
          [
           "yhhJ"
          ],
          [
           "yhhK"
          ],
          [
           "yhhN"
          ],
          [
           "yhhS"
          ],
          [
           "yhhT"
          ],
          [
           "yhhW"
          ],
          [
           "yhiH"
          ],
          [
           "yhiN"
          ],
          [
           "yhiP"
          ],
          [
           "yhiR"
          ],
          [
           "yhjA"
          ],
          [
           "yhjB"
          ],
          [
           "yhjD"
          ],
          [
           "yhjE"
          ],
          [
           "yhjL"
          ],
          [
           "yhjR"
          ],
          [
           "yhjS"
          ],
          [
           "yhjV"
          ],
          [
           "yhjW"
          ],
          [
           "yhjY"
          ],
          [
           "yiaB"
          ],
          [
           "yiaE"
          ],
          [
           "yiaH"
          ],
          [
           "yiaL"
          ],
          [
           "yiaM"
          ],
          [
           "yiaN"
          ],
          [
           "yiaO"
          ],
          [
           "yibD"
          ],
          [
           "yibL"
          ],
          [
           "yibP"
          ],
          [
           "yicC"
          ],
          [
           "yicE"
          ],
          [
           "yicH"
          ],
          [
           "yicI"
          ],
          [
           "yicL"
          ],
          [
           "yidA"
          ],
          [
           "yidE"
          ],
          [
           "yidR"
          ],
          [
           "yidY"
          ],
          [
           "yidZ"
          ],
          [
           "yieG"
          ],
          [
           "yieM"
          ],
          [
           "yieN"
          ],
          [
           "yieO"
          ],
          [
           "yigF"
          ],
          [
           "yigG"
          ],
          [
           "yigL"
          ],
          [
           "yigM"
          ],
          [
           "yigN"
          ],
          [
           "yihO"
          ],
          [
           "yihQ"
          ],
          [
           "yihR"
          ],
          [
           "yihS"
          ],
          [
           "yihU"
          ],
          [
           "yihX"
          ],
          [
           "yiiD"
          ],
          [
           "yiiG"
          ],
          [
           "yiiL"
          ],
          [
           "yijC"
          ],
          [
           "yijD"
          ],
          [
           "yijF"
          ],
          [
           "yijP"
          ],
          [
           "yjbA"
          ],
          [
           "yjbC"
          ],
          [
           "yjbH"
          ],
          [
           "yjbQ"
          ],
          [
           "yjcC"
          ],
          [
           "yjdB"
          ],
          [
           "yjeF"
          ],
          [
           "yjeJ"
          ],
          [
           "yjeK"
          ],
          [
           "yjeM"
          ],
          [
           "yjeP"
          ],
          [
           "yjeS"
          ],
          [
           "yjfI"
          ],
          [
           "yjfJ"
          ],
          [
           "yjfK"
          ],
          [
           "yjfL"
          ],
          [
           "yjfM"
          ],
          [
           "yjfQ"
          ],
          [
           "yjfY"
          ],
          [
           "yjgM"
          ],
          [
           "yjgN"
          ],
          [
           "yjhP"
          ],
          [
           "yjiS"
          ],
          [
           "yjjI"
          ],
          [
           "yjjP"
          ],
          [
           "yjjQ"
          ],
          [
           "yjjU"
          ],
          [
           "yjjW"
          ],
          [
           "ykgB"
          ],
          [
           "ykgC"
          ],
          [
           "ylaB"
          ],
          [
           "ylbA"
          ],
          [
           "yliB"
          ],
          [
           "yliJ"
          ],
          [
           "ymdA"
          ],
          [
           "ymdC"
          ],
          [
           "ynaF"
          ],
          [
           "ynaI"
          ],
          [
           "yncB"
          ],
          [
           "yncC"
          ],
          [
           "yncD"
          ],
          [
           "yneA"
          ],
          [
           "yneB"
          ],
          [
           "ynhG"
          ],
          [
           "yoaA"
          ],
          [
           "yohF"
          ],
          [
           "yohI"
          ],
          [
           "yohL"
          ],
          [
           "yohM"
          ],
          [
           "yojN"
          ],
          [
           "ypfG"
          ],
          [
           "ypfI"
          ],
          [
           "yqeF"
          ],
          [
           "yqgD"
          ],
          [
           "yqhA"
          ],
          [
           "yqjF"
          ],
          [
           "yqjG"
          ],
          [
           "yqjI"
          ],
          [
           "yqjK"
          ],
          [
           "yraM"
          ],
          [
           "yraO"
          ],
          [
           "yrbG"
          ],
          [
           "ysaA"
          ],
          [
           "ytfE"
          ],
          [
           "ytfG"
          ],
          [
           "ytfL"
          ],
          [
           "ytfM"
          ],
          [
           "ytfN"
          ],
          [
           "ytgA"
          ],
          [
           "zntA"
          ],
          [
           "zntB"
          ],
          [
           "zwf"
          ]
         ],
         "hovertemplate": "zscore_mean=%{x}<br>normstd=%{y}<br>gene=%{customdata[0]}<extra></extra>",
         "legendgroup": "",
         "marker": {
          "color": "#636efa",
          "symbol": "circle"
         },
         "mode": "markers",
         "name": "",
         "showlegend": false,
         "type": "scattergl",
         "x": [
          1.1248786202181127,
          0.1628713220716694,
          0.8107204377627699,
          0.37512897860366123,
          0.1673059202153985,
          0.21432014192438206,
          -0.42750693493245934,
          0.23848246616131097,
          0.3625043154124176,
          1.1798112777664962,
          1.0144584224381918,
          1.1048963717009883,
          -0.06793941380157956,
          1.5489219006185786,
          0.09787818782081474,
          0.4854027141611319,
          0.5336346865019131,
          1.153494440925811,
          1.7002271560185644,
          0.15998869841206798,
          -1.7234070297789303,
          1.4773235772378837,
          0.9924273858294217,
          0.2723219504418991,
          0.5787561941337329,
          0.8164339005462424,
          -1.4956598252507716,
          0.945357276208283,
          1.6843762918143288,
          0.502464825811181,
          1.1842729061535606,
          0.18969097362501755,
          1.6106763265598751,
          1.6367738249744745,
          0.10508529663544726,
          0.7314522737226846,
          0.0250549750133242,
          0.7761206136629056,
          0.4602694423363798,
          0.43832045720520585,
          0.4294790103905252,
          -1.2386657789780486,
          2.2073628601736357,
          0.09440702465056257,
          -0.0009498224222097007,
          0.060349430311459354,
          -0.31033470133179364,
          1.0172120528912956,
          0.49980278998234395,
          0.024497116498916054,
          0.103064493619356,
          0.975833815899826,
          0.6706311641214787,
          1.870148593991045,
          1.4477995380265316,
          0.7144281550797434,
          -3.9284744820535344,
          -0.289308569923403,
          0.49639908302518004,
          0.0732872657474254,
          0.4985998070462057,
          -1.9713570582189381,
          0.3535769471663883,
          0.1986066702701299,
          1.0912817145927456,
          0.16404733054786252,
          -0.1276308896078242,
          0.9992735093111593,
          0.16840701930817498,
          0.8762173190627284,
          0.7453781446518374,
          0.6178334961503126,
          1.0006969481046881,
          0.9923159503523605,
          0.6854621495104543,
          0.6312803717911893,
          2.149328369661464,
          0.6996173266704445,
          1.580302289852016,
          0.9855062360911435,
          0.5640203680839373,
          0.6733930374750337,
          0.889173176051374,
          0.7607071622039303,
          -0.00129097001171935,
          0.6026202495977357,
          0.7053908688235953,
          0.3191260509072268,
          0.433750211222811,
          1.2152338623898737,
          -0.19755530425180598,
          0.7979879227105835,
          -0.10452085063443929,
          0.4999980470633837,
          0.3921246812597392,
          2.887766776225046,
          1.7906482928362242,
          -0.25028172532394066,
          -0.5714611538000542,
          -0.2718319896916941,
          -0.060003044829485874,
          -0.697777354881248,
          -0.6239270041670538,
          -0.6764244665046311,
          1.510222874487193,
          1.006360195587366,
          0.44078305768616605,
          0.9658829337006924,
          1.3161972566010745,
          0.6605591082348728,
          0.42182192005084956,
          1.4683700105491757,
          1.0672636342485322,
          1.1811416540681936,
          1.7611984081059766,
          -0.5723747172338175,
          1.2473166024241795,
          2.305042232862678,
          0.4158423571875619,
          0.2509199286986601,
          1.2060142838493888,
          0.8833164016237778,
          0.7085593651755975,
          1.197760140998243,
          0.10061571176979234,
          0.3995267787066194,
          1.0314811228542768,
          -1.7140750476231048,
          -0.706906107680632,
          0.389986053094501,
          0.5751961931610662,
          0.3960191188630482,
          0.06629371924589,
          0.19329580130924703,
          -0.2097916692408925,
          0.10028052043102767,
          0.39545529663896173,
          -0.04880567092012775,
          0.8710901347968579,
          0.37360785122297274,
          -0.6634900463956648,
          1.1644741800046297,
          -0.28128379577819357,
          0.35025816750509986,
          0.09096600527775005,
          -0.14478566675760346,
          1.3671047922108646,
          -0.34730534507205896,
          0.8324025461499627,
          0.4605680331804604,
          0.8116519249045027,
          -0.2790520706850757,
          0.7489483568473457,
          -0.009306104265586665,
          0.8666738806620045,
          -1.4164318311702995,
          0.1664003939465645,
          -1.1678926097151037,
          -1.3276067377240757,
          0.03370683139209285,
          0.04397657397047341,
          0.2991362142868706,
          0.28343493998879427,
          0.6327845498362447,
          1.3830999259935992,
          -0.0896434275052911,
          0.8326104456489475,
          0.7274786179492813,
          1.1556176954266606,
          0.24343488661545004,
          0.21638764739395372,
          0.3268966220235023,
          0.3588346069144978,
          0.6663981567156275,
          1.4589831405459202,
          0.26369613855840335,
          0.6074866725684953,
          0.1389822769700583,
          1.6483126924142302,
          1.485549732409542,
          1.5536005576948038,
          1.29632451041174,
          -0.02936408504744837,
          0.45533946383972934,
          0.40921773102812986,
          1.396327965324639,
          0.936501136347554,
          0.16280023719717845,
          1.1335204139270496,
          0.14817351307297053,
          1.82097605952691,
          0.5033594128966431,
          0.7378230201272581,
          -0.3394864910668191,
          -0.6182297611246106,
          1.7249898539192925,
          -0.6657840561642498,
          -0.40830290018160037,
          0.48865434187938905,
          2.0969523265775734,
          -0.29858821556458615,
          0.35218111454807444,
          0.5955640862940361,
          1.7099364618780752,
          1.029307726138195,
          0.41356137877351934,
          0.5960491223213218,
          1.0057167633122546,
          0.430289928263425,
          -0.37174912314876446,
          0.7342255907355164,
          1.1605008251796207,
          0.8608250585724531,
          1.227108615568865,
          0.7250320765303885,
          1.4403263911382156,
          -0.038111546972482424,
          0.3003907848716264,
          0.4611317196551842,
          1.375488032844714,
          0.3421568237628305,
          0.22358550968749955,
          0.0705607077432287,
          0.25812228960365335,
          0.465303631178085,
          0.4586011274222638,
          -0.2282375419654551,
          0.888819580389344,
          0.4917510789299556,
          -2.8102360743097945,
          0.7061841682250662,
          3.690107137119588,
          -3.276914426664649,
          -2.4695995157227144,
          0.7338529280754972,
          0.14132064748376316,
          0.633773729901665,
          0.7178835393374995,
          -0.3542703594242875,
          1.116102973598437,
          0.6032871229107822,
          -0.3169923265360491,
          0.591620577611479,
          1.0000263401726261,
          1.220604144680207,
          0.8950653913484444,
          0.17873422786563492,
          -0.1682326215546052,
          -0.07474879828911035,
          2.235935128439763,
          -0.17971755494482003,
          0.2791685267544529,
          -0.2630468138166223,
          -0.19727791337165884,
          0.08352464209044463,
          -1.1022675546148686,
          0.8734096132514892,
          0.1938648358572277,
          -0.035534658152039454,
          0.9137191204203656,
          -0.11956627530377675,
          0.06252206999132831,
          -1.395999799210728,
          0.6838257616580475,
          -0.6848134201413104,
          1.6368353780188183,
          2.383540171848057,
          0.9163132876800014,
          0.7446919646689871,
          0.347502235060558,
          1.7124789286082305,
          1.0318904062154353,
          0.7918073010110777,
          1.1545735365275056,
          -0.3658696391126941,
          0.5324367848083936,
          -5.561590149722409,
          1.578735294028081,
          0.540234394647096,
          0.5425046637186577,
          0.7705393985856441,
          0.06100302861331182,
          -0.1301247539416745,
          0.8974458763428425,
          0.816351900203892,
          1.278084930321693,
          0.9848990264583725,
          0.4762104937787157,
          -0.3333418624394352,
          -0.9195278956429347,
          0.03213290325246754,
          0.4857557741639882,
          0.5319293644679484,
          0.9355803408326447,
          0.8466647433264874,
          1.4724287510756753,
          0.8374916782203531,
          -0.152179688251849,
          -0.9163198354875141,
          0.19788397516693113,
          0.435528029094997,
          0.285012711057661,
          0.2254470006501742,
          0.2860314643219105,
          0.4422712934439434,
          0.5252819176281652,
          1.230623860311038,
          -0.40639830519795067,
          0.4734798776343927,
          -3.5424499239643747,
          -4.472074430883072,
          -3.8761833310892033,
          -3.593829660993665,
          -3.581032168845861,
          -0.29390730144438393,
          0.631965511180415,
          0.29172206442094395,
          0.37491390041425166,
          0.6302715171376146,
          -3.6623083514120203,
          0.8238991961092853,
          -1.2199849348918483,
          0.43954173729758295,
          0.2988651234480403,
          0.693526567620428,
          1.2030333375657722,
          0.4980818792840851,
          -2.210721543643997,
          -1.5657916828800755,
          -1.3139975189252007,
          0.246072232187844,
          1.014059830702704,
          1.507242262809938,
          0.09933423127842593,
          1.0877623839918797,
          1.1062363811454246,
          0.5199755079725259,
          1.3026572736267221,
          0.6153909312330866,
          0.071058014967281,
          1.1774615466161176,
          0.29211281182742405,
          1.1682809739311208,
          0.7161726847454478,
          1.2328410892253507,
          0.38493491191639484,
          0.6867411984876035,
          0.6777987679438882,
          0.3768983148217222,
          -4.892147702523977,
          0.828907890145896,
          0.7620606199373027,
          0.036625308420298264,
          -0.3735308001305002,
          0.09726840335614195,
          0.6797830592510193,
          1.4224122967434987,
          -0.29719142672730764,
          -0.6039011230923462,
          0.5690997882812553,
          0.7857645759010872,
          0.7333679235699491,
          0.7355353909774798,
          1.2783998612927854,
          0.28062774751179614,
          1.009888349434049,
          0.06239969616179919,
          0.25427417311401074,
          0.7557289980110137,
          2.7630807341700656,
          1.174012942797799,
          0.35409065973155246,
          -0.44436112001105216,
          1.0876303504494813,
          0.18336308993117117,
          0.5906510121879287,
          0.8646613749052054,
          0.8605104743313804,
          0.33624661594165806,
          0.6009123190567947,
          0.13526931834514444,
          0.7240466089619731,
          0.822997101621492,
          1.186356502782296,
          1.4585424885704898,
          0.5544239597726215,
          -4.792836272650012,
          -3.3293969529028518,
          -0.3098331937682555,
          -0.5630929791216563,
          -0.8360155772989035,
          0.20539807084829462,
          1.026155214758947,
          0.19454935270505613,
          0.9173862495806099,
          -0.15935057068141925,
          -0.38373596312582153,
          1.3481891099726038,
          0.8324905794643991,
          0.3644123546411793,
          -3.95766692677502,
          0.8209537483687912,
          1.1541946420254956,
          1.6607010015959847,
          0.3855158273187198,
          0.5583492673540386,
          0.6971243674206992,
          -0.3234391289191126,
          -3.013199508707229,
          -1.6403590110777873,
          0.6115817166501576,
          0.8067780567497826,
          -0.8250099840514958,
          -1.281005815240858,
          2.3484133764760506,
          1.498101779174825,
          0.4050512256580134,
          -0.7356866710961297,
          0.30786217860197657,
          0.7644597603359983,
          0.6153636767060268,
          0.44308776772456954,
          1.160576525513854,
          1.2807215047242524,
          1.582113732297332,
          2.067095390137274,
          -0.40907827243994294,
          0.8852371937432105,
          0.26188492563809534,
          -1.123888293481537,
          0.8766180486324108,
          -0.5305147459170803,
          0.3418613776389302,
          0.3935005459626553,
          0.5683532208100494,
          0.8494091896787511,
          1.3203688338389563,
          -0.9763086367823057,
          0.6361338779253297,
          0.03767641753094903,
          1.5540742052337928,
          0.49228823814788275,
          1.0699370148458847,
          0.9461569618935847,
          1.4064177096845956,
          -0.0970163294835528,
          1.3419484810204205,
          0.05107681679831377,
          0.20892042890031182,
          0.6533060471371075,
          0.34319228154218717,
          0.5947338756998342,
          -1.1371872388732631,
          0.26781966337385704,
          -0.028251676147912436,
          -0.24987879193357282,
          -0.7467933451053632,
          1.8029286583832842,
          0.4391772808237068,
          0.44530132012958124,
          -0.8541000883980832,
          0.06336929289058278,
          -0.037447956612914765,
          0.8151958361884435,
          0.2955231290656292,
          0.6451411335874919,
          -0.7767675987888162,
          -3.3014202966481356,
          0.7248625011214149,
          1.0379040642454544,
          2.1757964758408908,
          -0.6433734366466994,
          0.21962260904304445,
          0.5176368429649649,
          -1.9197905025914983,
          1.1689934151295451,
          -0.5153994773784187,
          0.7631271813159737,
          -0.6710407001845002,
          0.09383321473060806,
          0.2903997058233145,
          0.42622355570993736,
          0.1879914873310605,
          -0.002005201581897098,
          -0.2506915331700935,
          0.10091064136321916,
          -0.1679876322287105,
          0.6789961801368491,
          0.18606896919279362,
          -0.12481301910192936,
          -0.4900178865089584,
          0.8955937487899948,
          -0.2511006175492231,
          0.05559000589103601,
          -0.44162761075436724,
          -0.4473395013591893,
          0.27631487551355505,
          0.5384176550932696,
          0.4127588294245728,
          1.0663446400998022,
          0.802500966522337,
          0.1726140700416499,
          -1.447995998819605,
          0.5202297198948699,
          -0.7109449132129777,
          -0.5648418612308228,
          0.202223787040828,
          -0.7253278850824038,
          1.0704222472097518,
          0.3391586770231384,
          0.7974296982257064,
          1.0490343563519509,
          1.3507585972017175,
          1.028010623382143,
          0.08274225554483236,
          -0.7123901963809847,
          0.3259391649311245,
          -0.17032988444128339,
          0.1356191006314632,
          -1.3387351233241458,
          0.32650069323038206,
          -2.280190159330161,
          0.10046635411237888,
          0.2610245623372392,
          0.5992858059006512,
          0.7588169680671626,
          0.26754810725078526,
          0.6629780821047228,
          0.09511448583076391,
          0.6017245477262722,
          0.6356443593373378,
          0.6476155500146149,
          -1.3954900562487076,
          -0.16761287146580173,
          0.15756787080290977,
          0.32137981103799645,
          -0.07946111365695882,
          0.3383237786438967,
          0.15059893406345684,
          0.46895312682652507,
          0.3547541534933437,
          0.16140354439997912,
          0.8816310110832241,
          -0.07937477049000081,
          0.36109755483360956,
          1.6388076758449877,
          0.49834192363059787,
          -0.4664269083307352,
          1.3273672666482705,
          -0.6247572945805787,
          -0.7264995636210776,
          -0.11604551903830292,
          0.8794727068740141,
          -0.6133441624047615,
          0.36738935705556885,
          -0.7843947292055189,
          0.53160313462732,
          0.49894215067722225,
          -0.5558254024131076,
          -0.4118407933354084,
          -0.42735242510901333,
          -2.323598676140299,
          -1.0384866600805236,
          1.0916660906816154,
          0.22178671638130656,
          -0.4954807715835966,
          1.4124834714691423,
          -0.9197683572997628,
          -1.3923307232528197,
          1.2779363964326553,
          1.0213890220205957,
          2.732779631496837,
          0.23362174289275536,
          0.10541156721492254,
          0.36573022513324727,
          0.8192444650585372,
          -1.9027811747591121,
          -6.983464430139943,
          -0.12763788238813495,
          1.075618584553948,
          2.0488395792613208,
          0.7944641976051159,
          -0.4126146056036566,
          0.942295836411807,
          1.18971280186648,
          1.3593620740046006,
          -2.1022382381767017,
          -0.2589587050518723,
          0.8487739504788027,
          -0.04526355627968996,
          -0.26918082733763987,
          1.03416416928297,
          -1.6208118662085034,
          0.5936455021771805,
          -1.2998982788788849,
          0.6587234783765202,
          -2.9849882138422172,
          -7.468638411572411,
          -5.5840497896395185,
          -3.001114780274326,
          -1.395417061658095,
          -1.9730047087802411,
          -5.299204172878874,
          -0.3258890774598003,
          0.6440936273967789,
          -0.6535050612788069,
          -2.2047969253036417,
          -2.203086955879948,
          -3.6340182384804316,
          -3.6163292312889577,
          -4.208648822347438,
          -2.3842239625262134,
          -2.0387986554955835,
          -0.9717198639208731,
          -2.835148258100995,
          -2.0958118932406573,
          -2.1412080493993604,
          -2.4053250345122152,
          -0.14244265189744026,
          -1.4129669584372353,
          0.23049186920345774,
          0.033312241555419106,
          -0.02137010241488413,
          0.569466385391844,
          0.2837208152053058,
          0.7579828983122733,
          0.8772869885587498,
          1.6930275913705972,
          -0.23979959156123015,
          0.12503776392362037,
          1.2700793669236394,
          1.1996706971494904,
          -0.40300212781233313,
          0.5743439428173885,
          -0.9289479804376983,
          -0.6973733882147203,
          -0.6335847025760049,
          1.8804545005795965,
          0.6454805736976046,
          0.9910624726120619,
          0.22073312749860546,
          1.0147612617580641,
          0.9467647555204375,
          2.35955661107418,
          0.6301720725888567,
          0.5716819597809347,
          -1.0355602237137365,
          0.21912111735041198,
          0.8209948378435883,
          1.965642491545753,
          0.3344529221681142,
          0.5827045234942717,
          0.5890489385311795,
          2.287212156012053,
          0.21609750619621781,
          0.9578863787910549,
          0.7185240470222071,
          1.0864277200362509,
          0.6867928593810025,
          0.7663229175575897,
          0.5514832051582484,
          0.736498746674771,
          1.0242492904328615,
          0.35354133760806095,
          -0.012958773575498975,
          0.17218865989472468,
          0.3966798690800011,
          0.8953234299770563,
          0.5605375004693994,
          -0.5073547972017746,
          0.39714839641947774,
          0.8109318228108636,
          0.059123766410115706,
          -0.1676536779786993,
          0.8953940707741047,
          -0.3327974729602293,
          -0.032545185308984,
          0.9001338272572279,
          1.278067430076562,
          1.2722751363940832,
          1.353769440730978,
          1.423336226688024,
          1.1337738407650055,
          0.23105093629665416,
          0.7266146395212807,
          0.5463022170541778,
          0.11837440549531704,
          0.6707702480920736,
          0.7412192174725525,
          -0.6132085544361184,
          0.416861542328672,
          1.1915048445382523,
          0.6346773479125131,
          -0.02971881260816084,
          0.4790625846719963,
          0.37955033096988716,
          0.32906099345883094,
          0.8135972567691206,
          0.16090588327480507,
          0.6763099442498679,
          0.5882835003602113,
          0.934477381736808,
          0.8296819483571944,
          0.7065331724157047,
          0.6567199495590829,
          0.3642998007139503,
          -0.21924136741739697,
          0.8855403888237721,
          0.9420813085037703,
          0.3128327977613764,
          0.3869344104679535,
          2.125446539778481,
          2.096941209110101,
          1.337124001864847,
          1.1928421925528763,
          1.5340254411708478,
          0.6023833830431801,
          -0.10981534205842063,
          0.7896795806355967,
          0.6972295856696018,
          -2.7240061336847226,
          0.2094644389031846,
          0.21206048387109316,
          0.0360547753034161,
          -0.05183221732572201,
          0.2922161456591585,
          -0.11816705227667719,
          0.06231521845025443,
          0.19859156745421416,
          -0.09201611776910881,
          -0.5425844756509443,
          0.20186781984052982,
          -0.21655929116254832,
          0.7132514260266548,
          0.049580189441143355,
          -1.0793478593137475,
          -0.24744093306497783,
          0.09727776389997511,
          -0.13054463019830168,
          -0.11498645055641282,
          -0.24100295684127906,
          0.5199675643833696,
          -0.138830859455403,
          -0.2960707875887904,
          -0.4002720854813354,
          -0.09313597447883529,
          -0.15273866180260467,
          -0.9406163508878912,
          -0.1274241909819165,
          -0.05141097582311147,
          1.2691616446251306,
          0.06932608871752358,
          -0.2655939681560355,
          0.9358128884497997,
          1.34661186325957,
          0.9279009636239396,
          -0.13488703387829817,
          -0.06107921110349961,
          0.9752085004370927,
          0.3931907063500778,
          1.7497840651498737,
          0.38387311342815983,
          0.2363486556442652,
          0.35479054897597845,
          -0.03955768689707758,
          0.2150054787063368,
          -0.0649471791135777,
          0.5293760228744757,
          0.8357063285725744,
          -0.427763759556929,
          -0.012348505178196852,
          1.4957170786975569,
          0.6749248864234408,
          0.086600308902258,
          0.8994209929688274,
          1.0360314884198674,
          0.9078237860651566,
          0.1977749310211762,
          0.9213763258860489,
          -0.35967115508143616,
          0.7599245823619121,
          0.6623594037090722,
          0.7483181036927766,
          -0.3009686782992814,
          1.4661368219389435,
          -3.2319892742241443,
          1.3249412935619507,
          0.48536096754261626,
          0.8437268087241465,
          0.585818083012409,
          0.931132134968464,
          1.2937734998948787,
          0.785011202835458,
          1.3252840827425525,
          1.2041870593598354,
          0.556554731653912,
          -0.3759254295231606,
          -0.205004283279539,
          0.3481668275879665,
          0.7838395682988132,
          0.16211167927379788,
          1.0101814778754836,
          1.052407606479069,
          0.7600180707939018,
          0.9694585472227593,
          1.35354268038349,
          -0.16661124397164204,
          1.1721869888969698,
          0.8577898283179124,
          0.08472928481222758,
          0.14737616256857775,
          0.9379553933462293,
          1.307631197750725,
          1.4553036373496404,
          0.7255512649139182,
          0.9945318948975435,
          1.0041963972295582,
          0.12964153728832237,
          1.1859258189870259,
          -0.3533859289422727,
          0.22812004248459344,
          1.3329623662977443,
          0.945031630494176,
          -0.37030336924305723,
          0.6966388810786653,
          0.9775364664581009,
          1.5040542124511649,
          1.061279384770217,
          0.5785981857344303,
          1.0813179681426168,
          0.866090157514134,
          0.9598468451412504,
          0.4126717963458602,
          0.26765538269772915,
          2.1640111034319127,
          0.633878405207315,
          0.6548511377453717,
          1.0058477374006483,
          0.7276090343307184,
          -0.2961301562255641,
          -0.36577654828044537,
          0.0764078500730165,
          0.28803479198063087,
          1.1893065920354267,
          0.634143641890238,
          -0.4120828645459245,
          -1.1445342466660593,
          0.8653131790861286,
          1.0687409809047477,
          0.4474420198740286,
          0.5062944672241597,
          2.0441712631873163,
          2.7968998692599367,
          -0.1742629013862652,
          -0.18909171903949673,
          0.9321507004421251,
          1.0982692269563572,
          -0.034243706770794746,
          0.49032245923539397,
          -0.04797498392573926,
          0.07040464137308644,
          -0.6887624464745161,
          -1.4034142357710886,
          0.6894067825515603,
          1.4728888866948846,
          1.8915923293083161,
          0.8056497719998926,
          0.8332213730292881,
          0.8829304678832596,
          0.40947114915469873,
          -0.4686346285380076,
          0.6462742161295448,
          0.5276496385416021,
          0.6532379092544757,
          0.6383025349868535,
          0.5542552571815194,
          -0.2608972195736712,
          0.17361356317995022,
          -0.5347980094419866,
          0.7801846018747497,
          -0.1625427306468703,
          1.0159059584289418,
          0.6577076342021011,
          1.2651876471383432,
          0.13175505416780223,
          0.9502161315702472,
          0.5084399468581523,
          -0.19290588141466908,
          0.6346099853579213,
          0.4409855764644048,
          0.02885059857687225,
          1.272611548588329,
          1.3846648343796628,
          1.6067978379011496,
          2.368212923211246,
          0.7093587422367059,
          0.5307900493386556,
          -0.23578382732864323,
          -1.7739291615324688,
          0.2497553562865524,
          0.5313777940415927,
          0.5224156599878758,
          0.7877852878684624,
          0.6998812741368653,
          0.4428861863066185,
          0.7037133055412127,
          1.1010064414314786,
          0.7995206243097946,
          0.3083253044610791,
          1.0219359434432382,
          0.020377167223292053,
          0.4383460985178413,
          0.8862140232059992,
          1.1217916466595295,
          0.8670200451479536,
          0.05369397440885967,
          0.44194808771752747,
          -0.1463348162092921,
          0.03315513739423077,
          0.6676776280469486,
          0.5285123361281607,
          -0.03854950891742624,
          -0.00547177457218035,
          0.580915735138781,
          -0.29654801745283904,
          0.1430224823675713,
          0.46544623231678267,
          0.32749743450597757,
          -0.6616293752234659,
          -0.12513878223327024,
          -0.7933614648571428,
          -1.0112431664776615,
          0.06366067582380584,
          -0.7438639612882445,
          -0.7630183326312463,
          -0.6569698053557829,
          -1.0492072768605978,
          -0.7474513812319978,
          -0.46380069007312386,
          -0.3175406554592416,
          -0.7513037595663967,
          -1.062953498363229,
          -0.23185736423534486,
          -0.17749761064666528,
          -0.46294674219345294,
          -0.8408591727621213,
          0.9433433329172602,
          -1.6010561283982874,
          0.722332812757348,
          0.6009602006318021,
          -0.21546030504737157,
          0.25213819478456584,
          0.10177189901977035,
          -0.63278285594237,
          0.3369755376151729,
          0.25349719618176975,
          0.20588509626845583,
          -0.14697019065512487,
          0.23140757921109822,
          -0.05586662402634407,
          0.09914710747663098,
          -0.40260162894707235,
          -0.2858163937173283,
          -0.2985491699541317,
          0.21879503250873394,
          0.06762846355761454,
          0.19808113638879013,
          -0.3654732514223903,
          -0.2566737679613507,
          -1.985205607975718,
          0.09776065312077814,
          -0.7348284914619113,
          0.3182008896432357,
          0.39560213494188995,
          -0.5658926154139213,
          -0.6177616006046738,
          1.0756915649893988,
          -0.1710167998523423,
          1.1286850301700515,
          0.13489342780669134,
          0.33091670885388585,
          0.6027566498831106,
          -0.42729754687904015,
          2.0533211120296624,
          0.01713846439537585,
          0.5721503446691661,
          -0.01830445058711222,
          -0.11514089469549359,
          -1.3626267378333323,
          -0.9938599475386647,
          0.35117147859374087,
          -0.1289315333608127,
          -0.5927870474101014,
          -0.1578049540059442,
          0.9552324777782633,
          0.23343918956235618,
          0.012163569577042795,
          -0.26426461434342874,
          -0.3169201403562629,
          -0.3806548631985822,
          0.09264737187838454,
          0.5395230492324409,
          -0.5725234254979003,
          0.34614532139333887,
          0.20101011347606101,
          0.8713453441621701,
          1.7026880450631268,
          0.860071796524679,
          -0.1859567282142094,
          1.8592244634200459,
          0.7693872692777403,
          1.233126649096025,
          0.7241753488622572,
          1.0365083401379627,
          1.1280654615466958,
          1.5629939080225723,
          1.3299204545496324,
          -0.3465667592047762,
          0.20413201611214296,
          0.5965713399450998,
          0.5229895203329434,
          0.21461294934491618,
          1.8012578299463833,
          0.71429732829507,
          0.8819897840919398,
          1.4603389956393664,
          1.1093651953830141,
          0.64896384528914,
          0.5789107424910693,
          0.7676177433779726,
          1.067647490925154,
          0.7471880490860283,
          1.0417044768794925,
          0.8706783607342702,
          0.5955116125893241,
          1.0061916222732248,
          -0.03569854168191634,
          0.3180176704823228,
          0.6969447625244617,
          1.3328844466271728,
          2.145298891129095,
          0.8892137602459004,
          0.18843759935006205,
          0.42410911488045033,
          0.7426161037798513,
          1.3242115803278784,
          0.9081591738914876,
          1.5282381413575572,
          1.0370407169401685,
          1.1964872910203277,
          1.5650297808997002,
          2.115394652488623,
          0.9675232095390689,
          1.3548809008684273,
          0.8154040898924207,
          1.4243627870535596,
          0.775194814052102,
          1.0795225984700363,
          0.9898948378386163,
          -6.496948053725156,
          2.160987347367799,
          2.3953745884775763,
          1.140481879283194,
          1.1617154089131032,
          1.1013129013380243,
          1.5689169257188578,
          2.8185275575438196,
          0.48864540594846556,
          1.5977761765204626,
          1.9064496503526471,
          0.45297739348167226,
          2.072886147981442,
          0.17942056038788318,
          1.5592687860706684,
          1.234434050950608,
          1.3249646650725861,
          0.973513194967094,
          0.42626659098809083,
          0.7900967473822784,
          1.1209981005694167,
          1.1246039943593795,
          1.1327422143219574,
          0.33302915058924426,
          0.2611481001771314,
          1.0044696921401364,
          1.064026319542763,
          1.5563896073055978,
          0.9925004128316324,
          -1.624244244785798,
          0.5926653338866311,
          1.4977914268205677,
          1.6461480736688274,
          0.6994430218119225,
          1.0619534137069169,
          1.2275018849738646,
          0.9572858915716851,
          0.9158476370513872,
          1.8242127899823652,
          1.25134898995934,
          0.6397435953124261,
          1.439419789746227,
          1.232320380509147,
          1.4265756382514996,
          0.6687715994038885,
          0.6226291769862164,
          1.118564541056045,
          -0.1276348582419974,
          0.9496542172527085,
          1.1800864021383655,
          -1.4503144818942095,
          -0.15771518761230452,
          0.5289182205072755,
          1.004721494310651,
          0.7460821914628486,
          0.9762810110162242,
          1.5436079495411532,
          -0.1607126586896201,
          0.9595749075370412,
          2.119646805022828,
          1.241646575191867,
          1.5418598042580234,
          0.6192917081421403,
          0.1701762205887245,
          0.3804130139096482,
          0.8561952419307428,
          0.7559790837619792,
          -0.5397779712759894,
          0.2275157106369066,
          0.09824913097145205,
          0.02848525431075921,
          -0.43206775401718656,
          -0.10508156843113368,
          0.6092440211536361,
          0.8895077442641868,
          0.7895769262082166,
          0.2562344707456941,
          -0.6824941731588234,
          0.17249026197078066,
          0.1615500368120052,
          1.3589777194241714,
          1.043504946958949,
          0.31068865170674004,
          0.05253020277380954,
          -0.10074996665017728,
          1.2176618848046128,
          0.17524520757193504,
          0.505615930522096,
          -0.3085963334698765,
          1.336232776944749,
          0.8678250468301042,
          1.4516437618072058,
          -0.3338281757106695,
          1.3054821992729955,
          0.27527081523326064,
          0.7011744227171544,
          1.4057825201963126,
          1.8105612990827258,
          -1.826933174277153,
          -1.2827377855451332,
          -0.6868449364622699,
          1.0548133523715628,
          1.5188654724701518,
          -0.7764096392482459,
          0.1245123187515344
         ],
         "xaxis": "x",
         "y": [
          0.990870974962694,
          3.7886939275271216,
          1.0332183172304497,
          3.045918353629861,
          3.1376793213112375,
          2.7596121897247525,
          0.5109802907600154,
          7.372318377588205,
          1.785211731580205,
          0.9353351884115124,
          0.569533378764827,
          1.3325349180155557,
          5.626552721612155,
          1.0046499474830817,
          7.618246117204755,
          0.795411102940131,
          1.2901426940008913,
          0.9387807106297905,
          0.7727751835295255,
          3.594584014378061,
          1.5634037389980384,
          0.5700394514396239,
          1.2209488483188928,
          2.5212440794390027,
          0.28039662400302257,
          0.6831424363807054,
          0.30344065696199096,
          1.678420305688909,
          0.8595040413870031,
          1.8247484740334445,
          0.47109362902241875,
          1.850514663806566,
          3.1835259008995545,
          1.241501098706409,
          6.417223432509255,
          1.247178114615421,
          1.8113081654035086,
          0.9699486847995129,
          0.6402222178201163,
          1.9593805295392468,
          2.2855787401522885,
          0.8010930438482736,
          0.8292965281425115,
          7.5388029927689,
          240.66120793870175,
          0.031395249690054985,
          0.9767052630217321,
          1.1408291426116928,
          3.4309937634178596,
          4.46961031873955,
          4.046442542742267,
          1.540099207583527,
          1.186454245545508,
          0.897172395218763,
          1.3305276815535978,
          1.1365213244286752,
          0.17609997645608605,
          1.3576484104254716,
          2.5395834182727275,
          3.636848453940644,
          0.6633374931669335,
          0.2525297359003277,
          0.7884514806684454,
          2.5279827516790134,
          0.8967335419425968,
          4.70357342667913,
          3.012361248665953,
          1.117465977927597,
          4.40073224519333,
          1.4771361905077158,
          1.971939634390643,
          1.030788247220222,
          1.3337498996139427,
          0.7567244433356689,
          1.5352481591273193,
          1.3416501591791867,
          1.5432683996296601,
          1.0847557109754289,
          0.3642596963137578,
          1.064911803571351,
          2.347142524759282,
          1.6928971465073264,
          1.1403990121192227,
          1.3337779304849804,
          333.8947407493435,
          1.2551532008495914,
          0.4809180971677902,
          2.301183698512718,
          2.1046739575446463,
          0.6069764530791923,
          1.5260280441140717,
          0.2967213674038202,
          4.536459875472062,
          3.6088824896941727,
          3.3231970131352813,
          0.5482180581945123,
          0.27541932153730797,
          7.294550068225331,
          1.4449436390110502,
          3.7038209475323223,
          10.395766507054907,
          1.2850119338242043,
          1.189565188092235,
          0.1586195879019801,
          0.49098019930947556,
          0.8977630571091689,
          1.6922936163104658,
          1.2973659167811773,
          0.1996734046115243,
          1.3288009904751963,
          2.443391500023646,
          0.5606247111392866,
          0.5809199733822413,
          1.0350501264476322,
          0.4269921755304312,
          1.4903243987862311,
          0.884637026464895,
          0.05230548513959874,
          2.184376536522845,
          2.8056459790521657,
          0.5568201791001087,
          0.9080598270949742,
          2.314678731200708,
          0.1483836686722735,
          7.47189405033422,
          2.7458231532123394,
          0.769697662314432,
          0.5605946601440007,
          0.12123362405295181,
          3.1079624535675507,
          0.852130133612443,
          4.2341888973678,
          3.5304313730787626,
          5.221611217879413,
          0.6990623620594378,
          7.547551215704381,
          3.599314824949192,
          6.96179035682135,
          0.3434830061361148,
          1.496662379079122,
          0.584866715733438,
          0.8266434675380089,
          3.0942304881940004,
          1.7063077271151161,
          3.3319891452652493,
          0.34610556356032085,
          0.6823468419404972,
          1.6708520629241377,
          0.9865378586632448,
          1.5367381531374797,
          1.1977249474284954,
          0.9540169420320534,
          3.267503241824623,
          48.092110540544404,
          1.3021312072341493,
          0.6384565635110319,
          3.676780228302457,
          0.8229366652431144,
          0.7605742993482453,
          6.992793049604153,
          22.989787207339784,
          0.8909200392560228,
          3.9189172235704706,
          0.32779882496954366,
          0.4263762748140041,
          3.891877090067474,
          1.0796687719904265,
          0.0473254242963955,
          0.4646998234058811,
          2.5158292707002983,
          4.923249690710841,
          2.4848649737617627,
          0.7634048039421265,
          0.777754652733752,
          1.006010486910728,
          1.2879708080119903,
          1.6460171231969885,
          5.22421118377186,
          0.2969177338341866,
          0.7315809739317943,
          0.9263557220695258,
          0.4457831273899594,
          21.893347500070966,
          2.743593134988419,
          1.98999594026105,
          0.5323080673891973,
          0.348399611282138,
          3.039425557613631,
          0.5803208618242118,
          5.403810423720681,
          0.9610235136562001,
          0.4624381282973715,
          3.000945029984004,
          1.142765785057361,
          0.273505574715292,
          1.5714950155949898,
          0.7690567232686295,
          1.2043066708382029,
          1.5128049152477574,
          0.3096512576178324,
          2.967029276733014,
          2.148916291533316,
          1.8469932387059471,
          0.6398955890749874,
          0.6655588209324126,
          3.5850597902906074,
          0.8880491359332492,
          0.685206016294446,
          1.6839203891229306,
          0.6815336420051632,
          1.4503252922746268,
          0.8349945366304983,
          0.8109150952112621,
          0.7536085095883783,
          1.6512402333403216,
          0.7806366372067376,
          22.466122567472567,
          3.5551250621079524,
          1.2066877560349043,
          1.4518165872789952,
          1.922666672050392,
          3.789020779841194,
          16.41343821405918,
          3.132704890011571,
          2.580514240350043,
          1.46877787386247,
          1.254652151037507,
          0.7704596139669903,
          1.45990116540711,
          0.41918021428455843,
          2.2525502893873286,
          0.5076044893659234,
          0.009089139095901923,
          0.8987693565082139,
          1.5350449492504035,
          0.6286637067181295,
          0.7973628695406824,
          1.2450805492827024,
          1.6209429408140745,
          1.4924818061029392,
          0.8764021041194517,
          1.638090804553134,
          1.1453733771420422,
          1.0824211149888685,
          0.9142514854617336,
          0.9964378433690008,
          7.6340868290328165,
          4.472397379675797,
          10.256669570750201,
          0.5613616192904634,
          6.738023001028045,
          4.090553088181249,
          4.789212932475343,
          1.1146930385781273,
          20.662898357493404,
          0.462114934335544,
          1.7563245033150556,
          6.664882281925936,
          33.81285786674841,
          1.2705708321036797,
          2.8213586533981987,
          7.377285742007793,
          0.1723097510714449,
          1.817956107848889,
          2.1872143643991007,
          0.5549168139600795,
          0.7848416110562939,
          1.0903856185776868,
          1.1137398187125822,
          1.2030445228536426,
          0.14320655874351867,
          0.6093425018327556,
          2.3919731128262622,
          1.090580748446214,
          0.38533459057629194,
          2.288583054822848,
          0.3616988301452143,
          1.382195283033898,
          1.2791409439870445,
          0.3762862255705691,
          0.7923873922727902,
          16.522135889883053,
          5.0903261467509875,
          1.4936156957803681,
          0.6601940526251117,
          1.0285678834311576,
          1.5359221662153517,
          2.6133017490195716,
          0.10345322973759166,
          2.2510134349244018,
          23.32900862092618,
          4.055499539605701,
          0.49420885883926,
          0.994687040521925,
          0.9189063887081508,
          0.7170472262067585,
          0.7725633889854423,
          0.5383549639959714,
          0.8295578743675375,
          2.5052146566808076,
          1.5452330687954958,
          2.2486218800729874,
          2.315936008097368,
          3.1629556232257814,
          1.619576162031592,
          2.899749971391836,
          1.1689179266917233,
          1.1307848608105564,
          0.35768773211379656,
          0.43135074875426044,
          0.5933309513824606,
          0.22462863456212143,
          0.23641852832844115,
          0.28676052615741354,
          0.3596476977715822,
          1.0496954279539796,
          3.146959300557475,
          3.00101646713654,
          1.8154058590893585,
          0.15705336369436385,
          1.2485068837665736,
          1.3540804954909813,
          2.278500247177336,
          2.291978001404761,
          0.938040890990478,
          0.9688147596052379,
          1.6839225396612867,
          0.5505837493249875,
          1.7279612283603107,
          0.1661217212190432,
          3.2354720840652362,
          0.4248282060972272,
          0.8315402839666778,
          0.8082576962663208,
          1.471039249152804,
          1.051594601269589,
          1.6630358201708821,
          0.5996827515711635,
          1.2430595519725571,
          3.6649052963602804,
          1.2487539910308856,
          0.8368669901618392,
          0.7220712641336167,
          1.1724589484040617,
          1.1999179959226856,
          2.3731589131663107,
          1.2093152583777445,
          1.6012441740902037,
          2.4197362584671276,
          0.4612144950985981,
          1.5009261894425532,
          2.4430863681128576,
          14.203072672573716,
          0.117598071126565,
          0.9142675775778927,
          2.0281531193445956,
          1.2296994703572606,
          0.6304550725762577,
          0.5751172811305933,
          0.3628119448283912,
          1.871205108604608,
          2.244832014677101,
          1.7860762087973427,
          1.555159957489455,
          2.06819185207116,
          0.4643929884700904,
          14.230387704039662,
          0.12187615275167897,
          0.433769707046955,
          0.33710286061787464,
          0.7706731769483587,
          1.4677557679769868,
          1.3588991077980797,
          0.7518078176475638,
          1.7981142193589426,
          1.2169551258291915,
          0.7844582978378287,
          0.7598436405392399,
          0.8350732165524419,
          1.290931910631463,
          2.339619060473343,
          0.7106378473910621,
          1.139067394752191,
          0.8905595338030516,
          1.0665072784419436,
          1.0283671810537014,
          0.04959756890369342,
          0.3552802693782225,
          1.4014415135488094,
          2.149333762742556,
          0.1904851442034997,
          0.9077573184184622,
          1.9068550386418701,
          2.6396310525818474,
          0.38641089716594895,
          6.076950175961634,
          3.8611223487464303,
          0.20830092606346196,
          1.1998612783532994,
          2.930006245690209,
          0.07223819546832644,
          0.8788734772749827,
          1.0191807675630857,
          0.07719207567064805,
          3.843688852523946,
          0.8437402712177173,
          1.6188892318027917,
          1.5550375848251272,
          0.06966172796740812,
          2.188141851241255,
          0.19065130695241364,
          0.19431187829805624,
          0.6381615904692614,
          3.1497659082751994,
          0.0428863003574563,
          1.7300285929349442,
          2.1266090558023314,
          1.3735311002344381,
          2.7982821892765997,
          1.6047618979910867,
          2.138881838747778,
          2.5380197466079157,
          1.2514949415461574,
          1.0877304339482836,
          0.8122347483430333,
          0.8188701931013138,
          1.2161850908484884,
          0.6653228895329237,
          5.577824332863778,
          0.6964138453244259,
          1.6458885321345862,
          1.0211417031031151,
          2.7624226331463606,
          4.35726467362568,
          1.6111061829193485,
          1.5695202540704587,
          0.9222674309509984,
          1.196861208830386,
          1.5571536021644943,
          31.134077671219945,
          0.5685707935833121,
          2.2064999621004504,
          1.5944251354701648,
          1.092712525068305,
          0.9342473555463158,
          1.074062126830641,
          0.7237062016110759,
          13.508876976966798,
          6.6905875851017385,
          1.4664702173999593,
          2.7263373434876894,
          0.9770857577591646,
          0.6295776523208018,
          0.08698387263399095,
          2.2351635982032763,
          2.956063533565389,
          0.6154281477365517,
          1.1331643691014965,
          0.5762510938053269,
          2.591313249689325,
          0.31883423478229317,
          14.63013781839132,
          8.0331791127914,
          0.7314300342171615,
          2.928843600421322,
          1.3222331366905262,
          0.5146798334320395,
          0.03418937684568939,
          1.2068938940847747,
          0.5997750680756561,
          1.0445995462879445,
          0.7025238599701487,
          1.3499916974312889,
          1.5962269895100791,
          0.5715171715765408,
          1.354132853544341,
          1.1002336256008574,
          1.3142729993188262,
          0.11871479155917199,
          14.260965192768563,
          2.2854796995744575,
          1.5933583721377258,
          6.1647550935999655,
          341.06413383062164,
          2.6896520993750404,
          1.035735793923825,
          1.8431864487525653,
          2.036800353973566,
          3.4369118282300777,
          7.25326899423574,
          0.4298737194379332,
          2.3097694068602275,
          3.4948084259390453,
          6.047051322952665,
          0.625149423386972,
          0.4610471416784912,
          2.8425973805401585,
          1.2370581835794958,
          1.8918040918493804,
          1.2897541510134323,
          0.28210138727959205,
          4.420218991428285,
          0.03697231083644748,
          1.390242252542824,
          0.6239457438085964,
          0.0780531166699778,
          5.362923378233377,
          0.6680236644978718,
          1.328224819734875,
          3.6848228262161826,
          0.5478579311642157,
          0.6401705741121809,
          0.39221862779269345,
          1.359207258430853,
          5.23019298532164,
          0.3759704108086733,
          1.1832662811929737,
          3.031711649177099,
          1.6850447481965944,
          0.24576340187746698,
          4.775659849147384,
          0.7051725836467837,
          10.063913869166464,
          4.484034522254973,
          1.4746092901493801,
          0.7684040131312243,
          2.6978955443610038,
          0.379677703136364,
          15.311783906463337,
          1.1721485499373274,
          0.9585669599560991,
          2.067877600714947,
          1.069142546994667,
          1.8328264112103814,
          1.7109126868794469,
          2.7455978465099187,
          7.717345580983231,
          3.105401924491984,
          8.453250689962726,
          2.411006047233007,
          3.069605307608728,
          5.928740829950868,
          0.9611175696209533,
          7.805794956533768,
          2.5634249697985827,
          0.5299305804728103,
          1.1904024691251098,
          0.9835038625821374,
          1.405137970584625,
          1.1010526717285902,
          0.7137353883366709,
          5.708238101340333,
          1.1844410458506243,
          0.4025703383705808,
          0.9073037173365466,
          0.0519912239094684,
          1.3927820354440232,
          0.6197296747837167,
          4.306838202276474,
          0.4317687406312034,
          1.581660535737877,
          0.12554754195454507,
          1.3793085639614333,
          0.7880737854070954,
          3.106476065313655,
          1.9100580750454639,
          0.7471466135039542,
          2.117842548336336,
          0.1716608472100204,
          1.177317329713858,
          1.1899428290751235,
          0.18682446522447327,
          4.341790998923443,
          3.334725622942593,
          2.622059775959436,
          1.3874476787990775,
          1.77559614780611,
          0.16038732528460475,
          5.137083312221436,
          1.581312228656798,
          0.8878231229705518,
          0.7307604856989266,
          1.1035980701014292,
          0.5315793537124953,
          0.5662239201634143,
          0.7387480815076576,
          0.1839049581958539,
          1.0793605823430088,
          1.7831064876525418,
          12.864228914940108,
          2.127171364760349,
          0.4396470752943801,
          0.22599064597210872,
          0.7571351798935475,
          1.1699858308734692,
          1.15848498242035,
          0.3739844402707502,
          0.3544276970672994,
          0.28670411208132723,
          0.47428653948842436,
          0.4453696235795751,
          0.4617846061784567,
          0.18852704196028244,
          2.611797568169083,
          1.1101017372179678,
          0.6300327624472788,
          0.3864535690216991,
          0.4754405406755828,
          0.43249280043742966,
          0.4734070619685857,
          0.2396834255953948,
          0.45144239041251727,
          1.9278883176175436,
          0.6349742030664414,
          0.24935256800678127,
          0.2637504679053531,
          0.3732444224990464,
          0.13755458980201324,
          5.977832622503338,
          0.9318712037642559,
          3.4890390148689723,
          3.1670182893769714,
          34.39146624018475,
          1.7480450790702855,
          2.2053971208405607,
          1.53058621173286,
          0.32278902943850973,
          0.33840255221774806,
          0.9367697160598464,
          4.847551057326475,
          1.161991516828263,
          1.2300692319453044,
          6.414452127158511,
          0.07036034299735096,
          0.6188357005291141,
          0.3686107264349162,
          1.5050132316474092,
          0.6602545578738294,
          1.4906676455528458,
          1.2610511559498894,
          1.9276378876054299,
          0.707247747012885,
          1.353335273632008,
          0.4874744908623756,
          1.7510414245536186,
          0.9341480148281098,
          0.726914323363374,
          2.2384934889361103,
          0.3499474845937552,
          0.1459264622567373,
          2.7122450908302795,
          1.18406241072384,
          1.503526451196502,
          1.0154170458035925,
          3.172983917672381,
          0.7708633061754337,
          1.4419812607983933,
          0.6771893803613741,
          0.9230427143081006,
          1.1888291771651398,
          0.9417310142923464,
          1.0002785285491917,
          1.5715463586415708,
          1.291451142579769,
          1.8043516905205272,
          6.4863612690107715,
          1.1055978381775093,
          0.30525306645530836,
          0.46164234265625526,
          1.3733096708883097,
          0.9546727507214756,
          0.778832777439385,
          9.967538431204762,
          4.634055044688638,
          1.152070097183966,
          3.9336999929615057,
          25.463116853196365,
          0.9700054820817303,
          1.1200719182359071,
          0.8147544431724085,
          0.8530528684212599,
          0.9032593362533942,
          1.0497078484434006,
          2.9636160359842942,
          1.1428454919908473,
          2.049742661480446,
          4.71889629608832,
          1.5655380355062505,
          1.296188009247089,
          0.763483457148783,
          1.7267082624630452,
          1.3939874548730449,
          1.745611860143678,
          39.427542999191225,
          0.6182091361445016,
          1.750314254580158,
          3.9522655184153566,
          1.3895847092553433,
          4.2544330900997265,
          1.2630250901151787,
          1.5566054833760887,
          0.9505992860897537,
          1.164724569232953,
          1.3992028161687258,
          1.4699309627735355,
          2.56936952168888,
          2.933515302670914,
          1.3886533342226748,
          1.0362802618008091,
          2.4452430865841834,
          2.498569524909903,
          0.3691592849760099,
          0.8322936880379426,
          1.1293817117717149,
          0.7863667328354541,
          0.9696945887292947,
          2.212700887692764,
          13.630006943038651,
          1.8010222785890175,
          1.789420283025598,
          0.05159340922049579,
          2.140789051348422,
          4.723104056926473,
          26.15697006964317,
          11.521638863121774,
          4.973440311495698,
          6.888513776675442,
          17.533915286688494,
          4.8497672453229175,
          9.090821110887067,
          1.025944313236119,
          6.429780498331301,
          1.429873466315227,
          1.1132538102808238,
          22.07943414593549,
          0.3423505374113094,
          3.0633402647746033,
          14.371917943588175,
          11.311914316601083,
          6.934686312153263,
          3.382346065108033,
          3.528096835903786,
          5.216222600083314,
          2.750381631810436,
          2.3177780415613505,
          9.316535346132484,
          6.631024613016022,
          0.33555157373867095,
          6.512376010719899,
          20.55752694390097,
          0.8369583421977007,
          8.1337245260374,
          3.4967199818295205,
          0.7490640120527714,
          1.3688291301356148,
          2.0493839151952553,
          5.041002549714977,
          12.00140021673399,
          1.100600633031873,
          2.61225123943899,
          0.6661341015281713,
          2.495485807086629,
          2.3332393624183436,
          3.7910894215053625,
          6.982235776626229,
          3.1381626785931434,
          7.841994490890883,
          1.7098332874165063,
          1.2331670668237773,
          1.6264768156652865,
          64.6397294984022,
          0.8669899956925318,
          1.4569514453092693,
          0.05143460536049129,
          1.3881454592457756,
          0.6015698300176567,
          0.9342466218374074,
          1.9644338142708813,
          0.4087241619232248,
          1.1274318041707871,
          1.533708868010644,
          1.6476173824584932,
          1.0466643418065367,
          0.33752631479019235,
          1.0425981572810639,
          0.3267952557049769,
          1.4372386454161645,
          2.4067063253477667,
          2.303789902635822,
          0.937970275786364,
          1.1867397705910796,
          0.9580382207984869,
          1.0913818228252419,
          1.0433824464887809,
          1.2478053779374858,
          2.0385898887866416,
          0.7394066719925994,
          4.836198179984202,
          1.433690833924291,
          0.8544993538565732,
          3.9693405003593183,
          1.4192041318891688,
          0.011176501646592004,
          1.2412949228819736,
          0.8127132858035626,
          1.6282277799005827,
          1.811356400543937,
          1.1821612844836606,
          1.029380268041222,
          9.507471404928253,
          4.733971829539955,
          1.7524642584615566,
          1.3108696847325056,
          1.312647404651726,
          1.7784669639843074,
          1.323969182618533,
          1.4573885169076282,
          6.9543378781959575,
          1.8090102534579247,
          2.306519875702998,
          3.1452458695807195,
          1.5267641457708707,
          1.3151125549968223,
          2.4500557595346812,
          2.6254541450093187,
          0.9062192083995801,
          1.0366843176603666,
          1.2665377987288478,
          2.209201558050896,
          1.5472500742880275,
          1.9410924621381538,
          1.2164588175219244,
          2.5970362226566137,
          2.867080471650269,
          0.6018678896503611,
          0.7666465756027135,
          0.11598320795364433,
          2.19086587573961,
          2.286035357529903,
          1.3534868624198575,
          0.6265728083807126,
          4.061680946488143,
          3.9538477124339533,
          0.6705659097040514,
          1.4425893818765028,
          1.7236573641011737,
          0.15504633721739383,
          1.1015932965415427,
          0.7939203180830666,
          4.038988726202586,
          1.1488308739387587,
          1.0165962158676654,
          0.3947686207576892,
          0.0963259691021133,
          2.3544263996594985,
          0.7716588245719702,
          1.1138881615139196,
          9.4301431160762,
          1.6787609403913288,
          6.229674493364589,
          11.010042968305036,
          0.459869072221066,
          1.210903731958666,
          1.1365042461143582,
          1.3043787791596633,
          0.6279802100716483,
          1.3888828264884037,
          0.7683417691084531,
          0.9851061548087108,
          3.6922839721812006,
          0.782449401665749,
          1.3898466498246231,
          2.0670297903549377,
          1.29394907252551,
          2.2770565558731226,
          1.6185081898665028,
          3.0438147507473845,
          4.3020893949056545,
          0.5133651897591659,
          0.8562886340108883,
          0.6781082097012678,
          0.9518271588797754,
          1.9977246372637487,
          0.8201792579297913,
          4.266838052054871,
          0.5497562051974275,
          0.9359998616780126,
          4.278917734741276,
          1.0570055054748917,
          0.787402449935592,
          11.56880642361437,
          0.1091938524032689,
          0.9990381693387005,
          0.03260930861738497,
          0.6331291198192903,
          1.2510422323261186,
          1.2823769002303884,
          4.580688954420249,
          0.49714152628428443,
          4.146287505643641,
          0.7505107066989567,
          2.4253960386277686,
          2.038558567949461,
          0.9415170750741777,
          1.7925366328963903,
          1.8757260446532829,
          0.8570552492699294,
          0.6051457645825499,
          2.532871154530999,
          1.5449318330541384,
          19.718277088914352,
          2.01042935283638,
          0.05655948761506833,
          0.5378610086838571,
          1.4288530057220372,
          8.91522707112058,
          0.8584641016591724,
          0.952967179595498,
          23.277640566331165,
          1.83841397266758,
          2.125872572977081,
          4.695686569445538,
          118.77725277258828,
          1.3825625923014149,
          1.7012282582140954,
          1.1563120271090055,
          3.1457880612137727,
          0.26017738876034996,
          2.4440104814261536,
          1.746197998284143,
          0.3225317353784068,
          1.0825558648714022,
          11.970696048250545,
          1.3935381450177722,
          0.4830303286178896,
          0.7077627487546425,
          0.6512660784320999,
          0.06214929003848798,
          1.945897494719036,
          4.067643908142736,
          0.4439712099901656,
          0.3870704385695916,
          2.924027358221594,
          6.074311150808022,
          2.0832019114281937,
          1.3707881292152377,
          1.1325552686817295,
          0.6277300969829481,
          1.551859142485568,
          0.7295776080250862,
          4.127157403797824,
          2.584970607322816,
          8.416096509856398,
          0.4989395574499449,
          4.066689612902432,
          0.10156905442878376,
          3.4909344999683225,
          5.474281296151478,
          2.321802921674313,
          24.88605262392964,
          8.547398868907724,
          1.5887618825253473,
          3.5935211078357727,
          0.3585338732628348,
          2.344853218667856,
          18.303379007395336,
          3.582962864275553,
          1.2287410793205438,
          0.6751495585782641,
          0.011136449031460612,
          4.345996070151363,
          0.8424535324611655,
          0.738169925353907,
          1.6173802464450135,
          1.1913346930966533,
          0.8356692626952783,
          0.8234656546382,
          2.44886815056783,
          1.0140532253029566,
          3.7460350681063193,
          1.028250035035966,
          4.463418793957417,
          4.168000579094817,
          0.6657984624755863,
          21.544507427903483,
          2.4396962383955927,
          48.77463951565368,
          4.011184962669762,
          0.4876707706616225,
          0.32620122618106695,
          2.4450152355653816,
          1.6310901378046359,
          2.633010638483448,
          2.675834053877051,
          1.1391293428692177,
          3.7824230522585296,
          15.670421719595332,
          7.672484256390654,
          1.0002725385264233,
          0.3123480412836756,
          0.5532449705329452,
          1.1902408780884146,
          0.6962371862330069,
          4.0471991379874535,
          1.6572266572262913,
          0.7453000791073873,
          1.014122761426053,
          0.7536943950996295,
          2.957288195947293,
          0.30895242924988875,
          1.113217994379655,
          1.467420111707695,
          1.2546721549867301,
          1.1519014183992773,
          0.837072353631927,
          0.18750246796948922,
          0.8731958589549454,
          3.3305290942229653,
          1.137719474048813,
          0.9488570569988234,
          0.5174570980166169,
          1.6276904187814654,
          0.31708315921863034,
          0.6347620172186961,
          0.8055991542095617,
          1.0361304041529238,
          0.8872973116138904,
          1.5171637676523524,
          1.7485391987153347,
          0.7388793290895697,
          1.4268854411528633,
          0.749918911542675,
          1.4755548911758114,
          1.0773257169451362,
          1.230394136790484,
          0.6063632853354612,
          7.313984539461815,
          0.44749172335895754,
          0.6926423767377058,
          1.795602525265084,
          0.6588702790381171,
          2.2405945366644096,
          3.3170653688061655,
          0.24782926227003038,
          0.8114235330074755,
          0.943481717288816,
          0.9847928450086496,
          0.7201496643170763,
          0.6221470814094172,
          0.5926176679389025,
          0.8972583145954034,
          1.59189621140044,
          0.7818366032154576,
          0.6517073564551799,
          1.9795757221570522,
          0.430762091249902,
          1.0128642244021917,
          1.4160692416251706,
          1.4158377615270994,
          0.24702076353252608,
          0.4049393890048147,
          0.8073064134833897,
          1.6594232621749865,
          0.6470475852314166,
          1.2407754795780304,
          0.9675325653471694,
          0.8304118746067027,
          2.1736475900903636,
          1.0015850931200532,
          0.8036555285317031,
          0.30714775555397833,
          0.5980021422389233,
          6.91257010699369,
          0.8651957237115444,
          1.1582536599117443,
          0.6699413550984367,
          0.8731377298827787,
          5.008719917840518,
          0.7642810220706784,
          0.8386293748047631,
          0.8621671929199998,
          0.9300301165408568,
          0.5610989716879888,
          2.41968726651276,
          1.5973171828508321,
          0.7178645761060756,
          0.7383329545049756,
          1.5685816524058918,
          0.3172321704433491,
          3.3339042286314506,
          1.1376328069259902,
          0.11433354600537386,
          1.2547609660093517,
          1.5065331746621513,
          0.44434090654427577,
          0.7837055854707566,
          0.8896513861767461,
          0.9442263859074236,
          0.9784557719773889,
          1.1496941896628456,
          1.0472863583329874,
          1.0260758078279069,
          0.5117909308762812,
          0.6463791462280031,
          2.1494350723832385,
          1.8496328665052646,
          0.05635770952740965,
          1.3914951126023827,
          1.084531883727486,
          0.06987712746989054,
          2.514581572005155,
          1.2565096152477269,
          1.0697408565745348,
          1.8439517653538733,
          0.8769279446746174,
          1.7637078468911664,
          1.822214426575315,
          0.9159911444536856,
          0.3708418075441117,
          1.3753814423362605,
          0.6779063631996813,
          1.0952283155251703,
          2.2541111713566804,
          2.6467289752501872,
          0.864595398017346,
          1.9817891443800766,
          0.7064596592859399,
          2.431537539010579,
          6.689834427732197,
          35.8012733221749,
          0.6866850856340588,
          7.300809498898785,
          0.995717439821516,
          1.0106417403627723,
          1.2336518194110146,
          5.86852105389338,
          0.6833552782512279,
          6.233012886518968,
          10.767468910494843,
          0.3439256515192349,
          0.37941493150932587,
          2.4011720199635773,
          16.29186222521589,
          3.1199037194477013,
          0.8699309322818514,
          0.442701746001396,
          0.3416350490335246,
          1.6497308180200485,
          0.3046188642941647,
          1.5148434233449015,
          1.0292457281899787,
          0.12030178661249545,
          0.4360875428051614,
          2.265302125633508,
          1.9756831679341682,
          0.962995472769353,
          1.6319114561517771,
          1.0740654416397257,
          0.8376413578915515,
          2.3419877947649583,
          0.8923013839218309,
          1.1262399606486526,
          0.5096940184198888,
          7.448629675336193
         ],
         "yaxis": "y"
        }
       ],
       "layout": {
        "autosize": true,
        "legend": {
         "tracegroupgap": 0
        },
        "margin": {
         "t": 60
        },
        "template": {
         "data": {
          "bar": [
           {
            "error_x": {
             "color": "#2a3f5f"
            },
            "error_y": {
             "color": "#2a3f5f"
            },
            "marker": {
             "line": {
              "color": "#E5ECF6",
              "width": 0.5
             },
             "pattern": {
              "fillmode": "overlay",
              "size": 10,
              "solidity": 0.2
             }
            },
            "type": "bar"
           }
          ],
          "barpolar": [
           {
            "marker": {
             "line": {
              "color": "#E5ECF6",
              "width": 0.5
             },
             "pattern": {
              "fillmode": "overlay",
              "size": 10,
              "solidity": 0.2
             }
            },
            "type": "barpolar"
           }
          ],
          "carpet": [
           {
            "aaxis": {
             "endlinecolor": "#2a3f5f",
             "gridcolor": "white",
             "linecolor": "white",
             "minorgridcolor": "white",
             "startlinecolor": "#2a3f5f"
            },
            "baxis": {
             "endlinecolor": "#2a3f5f",
             "gridcolor": "white",
             "linecolor": "white",
             "minorgridcolor": "white",
             "startlinecolor": "#2a3f5f"
            },
            "type": "carpet"
           }
          ],
          "choropleth": [
           {
            "colorbar": {
             "outlinewidth": 0,
             "ticks": ""
            },
            "type": "choropleth"
           }
          ],
          "contour": [
           {
            "colorbar": {
             "outlinewidth": 0,
             "ticks": ""
            },
            "colorscale": [
             [
              0,
              "#0d0887"
             ],
             [
              0.1111111111111111,
              "#46039f"
             ],
             [
              0.2222222222222222,
              "#7201a8"
             ],
             [
              0.3333333333333333,
              "#9c179e"
             ],
             [
              0.4444444444444444,
              "#bd3786"
             ],
             [
              0.5555555555555556,
              "#d8576b"
             ],
             [
              0.6666666666666666,
              "#ed7953"
             ],
             [
              0.7777777777777778,
              "#fb9f3a"
             ],
             [
              0.8888888888888888,
              "#fdca26"
             ],
             [
              1,
              "#f0f921"
             ]
            ],
            "type": "contour"
           }
          ],
          "contourcarpet": [
           {
            "colorbar": {
             "outlinewidth": 0,
             "ticks": ""
            },
            "type": "contourcarpet"
           }
          ],
          "heatmap": [
           {
            "colorbar": {
             "outlinewidth": 0,
             "ticks": ""
            },
            "colorscale": [
             [
              0,
              "#0d0887"
             ],
             [
              0.1111111111111111,
              "#46039f"
             ],
             [
              0.2222222222222222,
              "#7201a8"
             ],
             [
              0.3333333333333333,
              "#9c179e"
             ],
             [
              0.4444444444444444,
              "#bd3786"
             ],
             [
              0.5555555555555556,
              "#d8576b"
             ],
             [
              0.6666666666666666,
              "#ed7953"
             ],
             [
              0.7777777777777778,
              "#fb9f3a"
             ],
             [
              0.8888888888888888,
              "#fdca26"
             ],
             [
              1,
              "#f0f921"
             ]
            ],
            "type": "heatmap"
           }
          ],
          "heatmapgl": [
           {
            "colorbar": {
             "outlinewidth": 0,
             "ticks": ""
            },
            "colorscale": [
             [
              0,
              "#0d0887"
             ],
             [
              0.1111111111111111,
              "#46039f"
             ],
             [
              0.2222222222222222,
              "#7201a8"
             ],
             [
              0.3333333333333333,
              "#9c179e"
             ],
             [
              0.4444444444444444,
              "#bd3786"
             ],
             [
              0.5555555555555556,
              "#d8576b"
             ],
             [
              0.6666666666666666,
              "#ed7953"
             ],
             [
              0.7777777777777778,
              "#fb9f3a"
             ],
             [
              0.8888888888888888,
              "#fdca26"
             ],
             [
              1,
              "#f0f921"
             ]
            ],
            "type": "heatmapgl"
           }
          ],
          "histogram": [
           {
            "marker": {
             "pattern": {
              "fillmode": "overlay",
              "size": 10,
              "solidity": 0.2
             }
            },
            "type": "histogram"
           }
          ],
          "histogram2d": [
           {
            "colorbar": {
             "outlinewidth": 0,
             "ticks": ""
            },
            "colorscale": [
             [
              0,
              "#0d0887"
             ],
             [
              0.1111111111111111,
              "#46039f"
             ],
             [
              0.2222222222222222,
              "#7201a8"
             ],
             [
              0.3333333333333333,
              "#9c179e"
             ],
             [
              0.4444444444444444,
              "#bd3786"
             ],
             [
              0.5555555555555556,
              "#d8576b"
             ],
             [
              0.6666666666666666,
              "#ed7953"
             ],
             [
              0.7777777777777778,
              "#fb9f3a"
             ],
             [
              0.8888888888888888,
              "#fdca26"
             ],
             [
              1,
              "#f0f921"
             ]
            ],
            "type": "histogram2d"
           }
          ],
          "histogram2dcontour": [
           {
            "colorbar": {
             "outlinewidth": 0,
             "ticks": ""
            },
            "colorscale": [
             [
              0,
              "#0d0887"
             ],
             [
              0.1111111111111111,
              "#46039f"
             ],
             [
              0.2222222222222222,
              "#7201a8"
             ],
             [
              0.3333333333333333,
              "#9c179e"
             ],
             [
              0.4444444444444444,
              "#bd3786"
             ],
             [
              0.5555555555555556,
              "#d8576b"
             ],
             [
              0.6666666666666666,
              "#ed7953"
             ],
             [
              0.7777777777777778,
              "#fb9f3a"
             ],
             [
              0.8888888888888888,
              "#fdca26"
             ],
             [
              1,
              "#f0f921"
             ]
            ],
            "type": "histogram2dcontour"
           }
          ],
          "mesh3d": [
           {
            "colorbar": {
             "outlinewidth": 0,
             "ticks": ""
            },
            "type": "mesh3d"
           }
          ],
          "parcoords": [
           {
            "line": {
             "colorbar": {
              "outlinewidth": 0,
              "ticks": ""
             }
            },
            "type": "parcoords"
           }
          ],
          "pie": [
           {
            "automargin": true,
            "type": "pie"
           }
          ],
          "scatter": [
           {
            "marker": {
             "colorbar": {
              "outlinewidth": 0,
              "ticks": ""
             }
            },
            "type": "scatter"
           }
          ],
          "scatter3d": [
           {
            "line": {
             "colorbar": {
              "outlinewidth": 0,
              "ticks": ""
             }
            },
            "marker": {
             "colorbar": {
              "outlinewidth": 0,
              "ticks": ""
             }
            },
            "type": "scatter3d"
           }
          ],
          "scattercarpet": [
           {
            "marker": {
             "colorbar": {
              "outlinewidth": 0,
              "ticks": ""
             }
            },
            "type": "scattercarpet"
           }
          ],
          "scattergeo": [
           {
            "marker": {
             "colorbar": {
              "outlinewidth": 0,
              "ticks": ""
             }
            },
            "type": "scattergeo"
           }
          ],
          "scattergl": [
           {
            "marker": {
             "colorbar": {
              "outlinewidth": 0,
              "ticks": ""
             }
            },
            "type": "scattergl"
           }
          ],
          "scattermapbox": [
           {
            "marker": {
             "colorbar": {
              "outlinewidth": 0,
              "ticks": ""
             }
            },
            "type": "scattermapbox"
           }
          ],
          "scatterpolar": [
           {
            "marker": {
             "colorbar": {
              "outlinewidth": 0,
              "ticks": ""
             }
            },
            "type": "scatterpolar"
           }
          ],
          "scatterpolargl": [
           {
            "marker": {
             "colorbar": {
              "outlinewidth": 0,
              "ticks": ""
             }
            },
            "type": "scatterpolargl"
           }
          ],
          "scatterternary": [
           {
            "marker": {
             "colorbar": {
              "outlinewidth": 0,
              "ticks": ""
             }
            },
            "type": "scatterternary"
           }
          ],
          "surface": [
           {
            "colorbar": {
             "outlinewidth": 0,
             "ticks": ""
            },
            "colorscale": [
             [
              0,
              "#0d0887"
             ],
             [
              0.1111111111111111,
              "#46039f"
             ],
             [
              0.2222222222222222,
              "#7201a8"
             ],
             [
              0.3333333333333333,
              "#9c179e"
             ],
             [
              0.4444444444444444,
              "#bd3786"
             ],
             [
              0.5555555555555556,
              "#d8576b"
             ],
             [
              0.6666666666666666,
              "#ed7953"
             ],
             [
              0.7777777777777778,
              "#fb9f3a"
             ],
             [
              0.8888888888888888,
              "#fdca26"
             ],
             [
              1,
              "#f0f921"
             ]
            ],
            "type": "surface"
           }
          ],
          "table": [
           {
            "cells": {
             "fill": {
              "color": "#EBF0F8"
             },
             "line": {
              "color": "white"
             }
            },
            "header": {
             "fill": {
              "color": "#C8D4E3"
             },
             "line": {
              "color": "white"
             }
            },
            "type": "table"
           }
          ]
         },
         "layout": {
          "annotationdefaults": {
           "arrowcolor": "#2a3f5f",
           "arrowhead": 0,
           "arrowwidth": 1
          },
          "autotypenumbers": "strict",
          "coloraxis": {
           "colorbar": {
            "outlinewidth": 0,
            "ticks": ""
           }
          },
          "colorscale": {
           "diverging": [
            [
             0,
             "#8e0152"
            ],
            [
             0.1,
             "#c51b7d"
            ],
            [
             0.2,
             "#de77ae"
            ],
            [
             0.3,
             "#f1b6da"
            ],
            [
             0.4,
             "#fde0ef"
            ],
            [
             0.5,
             "#f7f7f7"
            ],
            [
             0.6,
             "#e6f5d0"
            ],
            [
             0.7,
             "#b8e186"
            ],
            [
             0.8,
             "#7fbc41"
            ],
            [
             0.9,
             "#4d9221"
            ],
            [
             1,
             "#276419"
            ]
           ],
           "sequential": [
            [
             0,
             "#0d0887"
            ],
            [
             0.1111111111111111,
             "#46039f"
            ],
            [
             0.2222222222222222,
             "#7201a8"
            ],
            [
             0.3333333333333333,
             "#9c179e"
            ],
            [
             0.4444444444444444,
             "#bd3786"
            ],
            [
             0.5555555555555556,
             "#d8576b"
            ],
            [
             0.6666666666666666,
             "#ed7953"
            ],
            [
             0.7777777777777778,
             "#fb9f3a"
            ],
            [
             0.8888888888888888,
             "#fdca26"
            ],
            [
             1,
             "#f0f921"
            ]
           ],
           "sequentialminus": [
            [
             0,
             "#0d0887"
            ],
            [
             0.1111111111111111,
             "#46039f"
            ],
            [
             0.2222222222222222,
             "#7201a8"
            ],
            [
             0.3333333333333333,
             "#9c179e"
            ],
            [
             0.4444444444444444,
             "#bd3786"
            ],
            [
             0.5555555555555556,
             "#d8576b"
            ],
            [
             0.6666666666666666,
             "#ed7953"
            ],
            [
             0.7777777777777778,
             "#fb9f3a"
            ],
            [
             0.8888888888888888,
             "#fdca26"
            ],
            [
             1,
             "#f0f921"
            ]
           ]
          },
          "colorway": [
           "#636efa",
           "#EF553B",
           "#00cc96",
           "#ab63fa",
           "#FFA15A",
           "#19d3f3",
           "#FF6692",
           "#B6E880",
           "#FF97FF",
           "#FECB52"
          ],
          "font": {
           "color": "#2a3f5f"
          },
          "geo": {
           "bgcolor": "white",
           "lakecolor": "white",
           "landcolor": "#E5ECF6",
           "showlakes": true,
           "showland": true,
           "subunitcolor": "white"
          },
          "hoverlabel": {
           "align": "left"
          },
          "hovermode": "closest",
          "mapbox": {
           "style": "light"
          },
          "paper_bgcolor": "white",
          "plot_bgcolor": "#E5ECF6",
          "polar": {
           "angularaxis": {
            "gridcolor": "white",
            "linecolor": "white",
            "ticks": ""
           },
           "bgcolor": "#E5ECF6",
           "radialaxis": {
            "gridcolor": "white",
            "linecolor": "white",
            "ticks": ""
           }
          },
          "scene": {
           "xaxis": {
            "backgroundcolor": "#E5ECF6",
            "gridcolor": "white",
            "gridwidth": 2,
            "linecolor": "white",
            "showbackground": true,
            "ticks": "",
            "zerolinecolor": "white"
           },
           "yaxis": {
            "backgroundcolor": "#E5ECF6",
            "gridcolor": "white",
            "gridwidth": 2,
            "linecolor": "white",
            "showbackground": true,
            "ticks": "",
            "zerolinecolor": "white"
           },
           "zaxis": {
            "backgroundcolor": "#E5ECF6",
            "gridcolor": "white",
            "gridwidth": 2,
            "linecolor": "white",
            "showbackground": true,
            "ticks": "",
            "zerolinecolor": "white"
           }
          },
          "shapedefaults": {
           "line": {
            "color": "#2a3f5f"
           }
          },
          "ternary": {
           "aaxis": {
            "gridcolor": "white",
            "linecolor": "white",
            "ticks": ""
           },
           "baxis": {
            "gridcolor": "white",
            "linecolor": "white",
            "ticks": ""
           },
           "bgcolor": "#E5ECF6",
           "caxis": {
            "gridcolor": "white",
            "linecolor": "white",
            "ticks": ""
           }
          },
          "title": {
           "x": 0.05
          },
          "xaxis": {
           "automargin": true,
           "gridcolor": "white",
           "linecolor": "white",
           "ticks": "",
           "title": {
            "standoff": 15
           },
           "zerolinecolor": "white",
           "zerolinewidth": 2
          },
          "yaxis": {
           "automargin": true,
           "gridcolor": "white",
           "linecolor": "white",
           "ticks": "",
           "title": {
            "standoff": 15
           },
           "zerolinecolor": "white",
           "zerolinewidth": 2
          }
         }
        },
        "xaxis": {
         "anchor": "y",
         "autorange": true,
         "domain": [
          0,
          1
         ],
         "range": [
          -8.12231928104065,
          4.343788006587825
         ],
         "title": {
          "text": "zscore_mean"
         },
         "type": "linear"
        },
        "yaxis": {
         "anchor": "x",
         "autorange": true,
         "domain": [
          0,
          1
         ],
         "range": [
          -2.395656364211585,
          2.887015165496258
         ],
         "title": {
          "text": "normstd"
         },
         "type": "log"
        }
       }
      },
      "image/png": "[encoded data removed]",
      "text/html": [
       "<div>                            <div id=\"77545d1c-7ba4-4f65-b65f-539ad5e620b1\" class=\"plotly-graph-div\" style=\"height:525px; width:100%;\"></div>            <script type=\"text/javascript\">                require([\"plotly\"], function(Plotly) {                    window.PLOTLYENV=window.PLOTLYENV || {};                                    if (document.getElementById(\"77545d1c-7ba4-4f65-b65f-539ad5e620b1\")) {                    Plotly.newPlot(                        \"77545d1c-7ba4-4f65-b65f-539ad5e620b1\",                        [{\"customdata\":[[\"GlmZ\"],[\"InvR\"],[\"IsrA\"],[\"IsrC\"],[\"IsrH_1\"],[\"IsrH_2\"],[\"RybD\"],[\"RygC\"],[\"STM2208\"],[\"STM3026\"],[\"STnc1470\"],[\"STnc440\"],[\"STnc490\"],[\"STnc780\"],[\"aadA\"],[\"aas\"],[\"aceB\"],[\"aceK\"],[\"acnB\"],[\"acpT\"],[\"acrB\"],[\"acrE\"],[\"acrF\"],[\"acrR\"],[\"acs\"],[\"actP\"],[\"adhP\"],[\"adi\"],[\"adiY\"],[\"aefA\"],[\"aegA\"],[\"aes\"],[\"agaR\"],[\"aidB\"],[\"ais\"],[\"aldB\"],[\"alkA\"],[\"allB\"],[\"allC\"],[\"allD\"],[\"allP\"],[\"alr-b\"],[\"amiC\"],[\"ampH\"],[\"amyA\"],[\"apt\"],[\"araA\"],[\"araD\"],[\"araH\"],[\"araJ\"],[\"argB\"],[\"argDb\"],[\"argE\"],[\"argG\"],[\"argH\"],[\"argI\"],[\"aroA\"],[\"aroE\"],[\"aroF\"],[\"aroQ\"],[\"asnB\"],[\"aspA\"],[\"asrA\"],[\"asrC\"],[\"assT\"],[\"astB\"],[\"astD\"],[\"avrA\"],[\"avtA\"],[\"bapA\"],[\"barA\"],[\"bax\"],[\"bcfA\"],[\"bcfB\"],[\"bcfC\"],[\"bcfH\"],[\"bcsA\"],[\"bcsC\"],[\"bglA\"],[\"bigA\"],[\"bioF\"],[\"bioH\"],[\"bisC\"],[\"blc\"],[\"bssS\"],[\"btuB\"],[\"btuF\"],[\"cadB\"],[\"cadC\"],[\"caiA\"],[\"caiC\"],[\"caiF\"],[\"caiT\"],[\"carB\"],[\"cbiC\"],[\"ccmF2\"],[\"ccmH1\"],[\"cdd\"],[\"celA\"],[\"celB\"],[\"celC\"],[\"celD\"],[\"celF\"],[\"chaA\"],[\"chiA\"],[\"cigR\"],[\"citA\"],[\"citA2\"],[\"citB\"],[\"citB2\"],[\"citC\"],[\"citC2\"],[\"citE\"],[\"citT\"],[\"clcA\"],[\"clpA\"],[\"clpB\"],[\"cobD\"],[\"codA\"],[\"comA\"],[\"comD\"],[\"comE\"],[\"comM\"],[\"copA\"],[\"copS\"],[\"cpaF\"],[\"cpdB\"],[\"cpsB2\"],[\"cpxR\"],[\"creB\"],[\"csgA\"],[\"csgB\"],[\"csgC\"],[\"csgD\"],[\"csgE\"],[\"csgF\"],[\"csgG\"],[\"cstAb\"],[\"cvrA\"],[\"cyaA\"],[\"cybB\"],[\"cybC\"],[\"cyoA\"],[\"cyoE\"],[\"cypD\"],[\"cysA\"],[\"cysG\"],[\"cysJ\"],[\"cysN\"],[\"dacB\"],[\"dbh\"],[\"dcm\"],[\"dcoC\"],[\"dcp\"],[\"dcuA\"],[\"dcuB\"],[\"dcuC\"],[\"dcuR\"],[\"dcuS\"],[\"deaD\"],[\"degQ\"],[\"deoA\"],[\"deoB\"],[\"deoD\"],[\"dgoD\"],[\"dgoR\"],[\"dgt\"],[\"dinF\"],[\"div\"],[\"dmsA1\"],[\"dpaL\"],[\"dppA\"],[\"dppC\"],[\"dppD\"],[\"dppF\"],[\"dprA\"],[\"dsdX\"],[\"edd\"],[\"ego\"],[\"emrD\"],[\"entA\"],[\"entF\"],[\"envE\"],[\"envF\"],[\"envR\"],[\"envZ\"],[\"eutJ\"],[\"eutP\"],[\"eutS\"],[\"excA\"],[\"fadB\"],[\"fadE\"],[\"fadH\"],[\"fbaB\"],[\"fbp\"],[\"fdhD\"],[\"fdnG\"],[\"fdnI\"],[\"fdoG\"],[\"fdoI\"],[\"fdrA\"],[\"feoA\"],[\"feoB\"],[\"fepA\"],[\"fepE\"],[\"fhlA\"],[\"fhuA\"],[\"fhuB\"],[\"fhuD\"],[\"fhuE\"],[\"fidL\"],[\"fimA\"],[\"fimC\"],[\"fimD\"],[\"fimF\"],[\"fimH\"],[\"fimW\"],[\"fimY\"],[\"fimZ\"],[\"fixB\"],[\"fixC\"],[\"fkpA\"],[\"flgE\"],[\"flgK\"],[\"flhAb\"],[\"fliD\"],[\"fliR\"],[\"fljA\"],[\"fljB\"],[\"focA\"],[\"foxA\"],[\"fpr\"],[\"frdA\"],[\"frdC\"],[\"fruA\"],[\"frwD\"],[\"fucA\"],[\"fucP\"],[\"fumB\"],[\"fumC\"],[\"gabP\"],[\"galF\"],[\"galS\"],[\"garD\"],[\"garL\"],[\"garRa\"],[\"gatC\"],[\"gatD\"],[\"gatY\"],[\"gcd\"],[\"gcvP\"],[\"gcvT\"],[\"gip\"],[\"gipA\"],[\"gldA\"],[\"glgA\"],[\"glgB\"],[\"glgC\"],[\"glgP\"],[\"glgX\"],[\"glk\"],[\"glnE\"],[\"glpD\"],[\"glpG\"],[\"glpK\"],[\"glpQ\"],[\"glpT\"],[\"gltA\"],[\"gltB\"],[\"gltK\"],[\"gltP\"],[\"gltS\"],[\"gnd\"],[\"gntT\"],[\"gntU\"],[\"gogB\"],[\"gor\"],[\"gpD\"],[\"gpP\"],[\"gppA\"],[\"gsp\"],[\"gtgA\"],[\"gtgE\"],[\"gtrAb\"],[\"gtrBa\"],[\"gtrBb\"],[\"gudT\"],[\"hdeB\"],[\"hemF\"],[\"hemN\"],[\"hemY\"],[\"hflC\"],[\"hflK\"],[\"hilA\"],[\"hilC\"],[\"hilD\"],[\"hin\"],[\"hisC\"],[\"hisD\"],[\"hmpA\"],[\"hpaD\"],[\"hrpA\"],[\"hrpB\"],[\"hscC\"],[\"hsdM\"],[\"hsdR\"],[\"hsdS\"],[\"htrA\"],[\"hyaF2\"],[\"hyb0.0005\"],[\"hyb0.0015\"],[\"hybA\"],[\"hybC\"],[\"hybE\"],[\"hybG\"],[\"hycC\"],[\"hycD\"],[\"hycE\"],[\"hypA\"],[\"hypE\"],[\"iacP\"],[\"iadA\"],[\"iagB\"],[\"iap\"],[\"idnD\"],[\"idnK\"],[\"idnR\"],[\"ilvD\"],[\"ilvE\"],[\"ilvG\"],[\"ilvI\"],[\"intA\"],[\"invA\"],[\"invB\"],[\"invC\"],[\"invE\"],[\"invF\"],[\"invG\"],[\"invH\"],[\"invI\"],[\"invJ\"],[\"iolA\"],[\"iolC\"],[\"iolD\"],[\"iolE\"],[\"iolG1\"],[\"iolG2\"],[\"iolH\"],[\"iolI2\"],[\"iolR\"],[\"iolT1\"],[\"iolT2\"],[\"iraD\"],[\"iroB\"],[\"iroC\"],[\"iroN\"],[\"katG\"],[\"katN\"],[\"kbl\"],[\"kdpA\"],[\"kdpB\"],[\"kdpD\"],[\"kdpE\"],[\"kduD\"],[\"kduI\"],[\"kefB\"],[\"kup\"],[\"lamB\"],[\"lctD\"],[\"lctP\"],[\"lctR\"],[\"ldcC\"],[\"ldhA\"],[\"leuA\"],[\"leuC2\"],[\"leuL\"],[\"leuO\"],[\"ligB\"],[\"livH\"],[\"livJ\"],[\"livK\"],[\"lpfA\"],[\"lpfB\"],[\"lpfC\"],[\"lpfD\"],[\"lplA\"],[\"lpp\"],[\"lrhA\"],[\"luxS\"],[\"lysC\"],[\"lysR\"],[\"lyxK\"],[\"maa\"],[\"malE\"],[\"malM\"],[\"malP\"],[\"malQ\"],[\"malS\"],[\"malT\"],[\"malZ\"],[\"manA\"],[\"manY\"],[\"marT\"],[\"mazG\"],[\"mdaA\"],[\"mdfA\"],[\"mdh\"],[\"mdoC\"],[\"mdoG\"],[\"mdoH\"],[\"melA\"],[\"melB\"],[\"menD\"],[\"metB\"],[\"metE\"],[\"metF\"],[\"metH\"],[\"metL\"],[\"metQ\"],[\"metR\"],[\"mglA\"],[\"mglC\"],[\"mgtA\"],[\"mgtB\"],[\"mgtC\"],[\"mgtR\"],[\"miaE\"],[\"mig-14\"],[\"mig-3\"],[\"minC\"],[\"misL\"],[\"mltB\"],[\"mltC\"],[\"mngB\"],[\"mnmC\"],[\"mobB\"],[\"mod\"],[\"modE\"],[\"modF\"],[\"mppA\"],[\"mrcA\"],[\"msrA\"],[\"mtlA\"],[\"mtr\"],[\"murQ\"],[\"mutS\"],[\"mutY\"],[\"nadB\"],[\"nadR\"],[\"nagE\"],[\"nanA\"],[\"nanT\"],[\"narG\"],[\"narK\"],[\"narQ\"],[\"narU\"],[\"narZ\"],[\"nepI\"],[\"nfi\"],[\"nhaR\"],[\"nifJ\"],[\"nikB\"],[\"nirB\"],[\"nirC\"],[\"nixA\"],[\"nlpD\"],[\"norM\"],[\"nrdD\"],[\"nrdF\"],[\"nrfA\"],[\"nrfE\"],[\"nsrR\"],[\"nudC\"],[\"oafA\"],[\"ompD\"],[\"ompL\"],[\"ompN\"],[\"ompR\"],[\"opdB\"],[\"oppA\"],[\"ordL\"],[\"orf242\"],[\"orf245\"],[\"orf32\"],[\"orf408\"],[\"orf48\"],[\"orfX\"],[\"orgA\"],[\"orgB\"],[\"orgC\"],[\"osmB\"],[\"otsA\"],[\"oxyR\"],[\"pabB\"],[\"pagC\"],[\"pagD\"],[\"pagK\"],[\"pagN\"],[\"pagO\"],[\"pagP\"],[\"panC\"],[\"panD\"],[\"panF\"],[\"pbpC\"],[\"pckA\"],[\"pdgL\"],[\"pduA\"],[\"pduD\"],[\"pduF\"],[\"pduK\"],[\"pdxAa\"],[\"pefA\"],[\"pefB\"],[\"pefC\"],[\"pefI\"],[\"pepD\"],[\"pepE\"],[\"pepN\"],[\"pepQ\"],[\"pflB\"],[\"pflD\"],[\"pflF\"],[\"pgtA\"],[\"pgtB\"],[\"pgtC\"],[\"pgtE\"],[\"pgtP\"],[\"pheA\"],[\"pheP\"],[\"phoE\"],[\"phoN\"],[\"phoP\"],[\"phoR\"],[\"phsA\"],[\"pilC\"],[\"pilL\"],[\"pilM\"],[\"pilO2\"],[\"pilP\"],[\"pilV\"],[\"pipA\"],[\"pipB\"],[\"pipB2\"],[\"pipC\"],[\"pipD\"],[\"pldA\"],[\"pldB\"],[\"pliC\"],[\"pmbA\"],[\"pmgI\"],[\"pncB\"],[\"pocR\"],[\"polB\"],[\"potB\"],[\"ppc\"],[\"pphA\"],[\"pphB\"],[\"ppiA\"],[\"ppk\"],[\"pps\"],[\"pqaA\"],[\"prfC\"],[\"prgH\"],[\"prgI\"],[\"prgJ\"],[\"prgK\"],[\"prlC\"],[\"proA\"],[\"proB\"],[\"proP\"],[\"proV\"],[\"proW\"],[\"proX\"],[\"prpD\"],[\"pspE\"],[\"ptr\"],[\"ptsA\"],[\"purD\"],[\"putA\"],[\"pyrI\"],[\"radC\"],[\"ramA\"],[\"ramR\"],[\"rarD\"],[\"ratA\"],[\"ratB\"],[\"rbsR\"],[\"rcsA\"],[\"rcsC\"],[\"rec2\"],[\"recEa\"],[\"recEb\"],[\"recO\"],[\"recQ\"],[\"relA\"],[\"res\"],[\"rfaB\"],[\"rfaG\"],[\"rfaI\"],[\"rfaJ\"],[\"rfaK\"],[\"rfaL\"],[\"rfaP\"],[\"rfaY\"],[\"rfaZ\"],[\"rfbB\"],[\"rfbC\"],[\"rfbD\"],[\"rfbF\"],[\"rfbG\"],[\"rfbH\"],[\"rfbI\"],[\"rfbJ\"],[\"rfbK\"],[\"rfbN\"],[\"rfbP\"],[\"rfbU\"],[\"rfbV\"],[\"rfc\"],[\"rffA\"],[\"rffD\"],[\"rffE\"],[\"rhaA\"],[\"rhaD\"],[\"rhaR\"],[\"rhaS\"],[\"rhlB\"],[\"rhuM\"],[\"rimJ\"],[\"rlpA\"],[\"rmbA\"],[\"rna\"],[\"rpoC\"],[\"rpoS\"],[\"rspA\"],[\"rstA\"],[\"rstB\"],[\"rtcA\"],[\"rtn\"],[\"rtsA\"],[\"rumA\"],[\"sadA\"],[\"safA\"],[\"safB\"],[\"safC\"],[\"safD\"],[\"sanA\"],[\"sbcC\"],[\"sbp\"],[\"sciC\"],[\"sciE\"],[\"sciF\"],[\"sciG\"],[\"sciH\"],[\"sciJ\"],[\"sciK\"],[\"sciK1\"],[\"sciQ\"],[\"sciR\"],[\"sciS\"],[\"sciT\"],[\"sciV\"],[\"sciY\"],[\"sdaA\"],[\"sdiA\"],[\"selB\"],[\"serA\"],[\"setB\"],[\"sfbB\"],[\"sfcA\"],[\"sfsA\"],[\"sgaT\"],[\"shdA\"],[\"sicA\"],[\"sicP\"],[\"sifA\"],[\"sifB\"],[\"siiA\"],[\"siiB\"],[\"siiC\"],[\"siiD\"],[\"siiE\"],[\"siiF\"],[\"sinH\"],[\"sinR\"],[\"sipA\"],[\"sipB\"],[\"sipC\"],[\"sipD\"],[\"sitD\"],[\"slrP\"],[\"slsA\"],[\"slyD\"],[\"smpA\"],[\"solA\"],[\"sopA\"],[\"sopB\"],[\"sopD\"],[\"sopD2\"],[\"sopE\"],[\"sopE2\"],[\"soxR\"],[\"spaO\"],[\"spaP\"],[\"spaR\"],[\"spaS\"],[\"speA\"],[\"speC\"],[\"speF\"],[\"sprB\"],[\"sptP\"],[\"spvA\"],[\"spvB\"],[\"spvC\"],[\"spvD\"],[\"spvR\"],[\"srcA\"],[\"srfC\"],[\"srfJ\"],[\"srlA\"],[\"srmB\"],[\"ssaB\"],[\"ssaC\"],[\"ssaD\"],[\"ssaE\"],[\"ssaG\"],[\"ssaI\"],[\"ssaJ\"],[\"ssaK\"],[\"ssaL\"],[\"ssaM\"],[\"ssaN\"],[\"ssaO\"],[\"ssaP\"],[\"ssaQ\"],[\"ssaR\"],[\"ssaS\"],[\"ssaT\"],[\"ssaU\"],[\"ssaV\"],[\"sscB\"],[\"sseA\"],[\"sseBa\"],[\"sseC\"],[\"sseD\"],[\"sseE\"],[\"sseF\"],[\"sseG\"],[\"sseI\"],[\"sseJ\"],[\"sseK1\"],[\"sseK2\"],[\"sseK3\"],[\"sseL\"],[\"sspB\"],[\"sspH2\"],[\"ssrA\"],[\"ssrB\"],[\"stbA\"],[\"stbB\"],[\"stbC\"],[\"stbD\"],[\"stbE\"],[\"stcA\"],[\"stcB\"],[\"stcC\"],[\"stcD\"],[\"stdA\"],[\"stdB\"],[\"steB\"],[\"steC\"],[\"stfA\"],[\"stfC\"],[\"stfD\"],[\"sthA\"],[\"sthB\"],[\"sthD\"],[\"stiA\"],[\"stiC\"],[\"stjA\"],[\"stjB\"],[\"stjC\"],[\"sufD\"],[\"sufI\"],[\"sugR\"],[\"sul2\"],[\"symE\"],[\"tatD\"],[\"tcp\"],[\"tctE\"],[\"tdcA\"],[\"tdcB\"],[\"tdcC\"],[\"tdcD\"],[\"tdcE\"],[\"tdh\"],[\"tdk\"],[\"tehB\"],[\"thiC\"],[\"thiH\"],[\"thiP\"],[\"tktB\"],[\"tldD\"],[\"tnp\"],[\"tnpA\"],[\"torA\"],[\"torC\"],[\"torD\"],[\"torS\"],[\"tpx\"],[\"tqsA\"],[\"traA\"],[\"traC\"],[\"traD\"],[\"traE\"],[\"traF\"],[\"traG\"],[\"traH\"],[\"traI\"],[\"traJ\"],[\"traL\"],[\"traM\"],[\"traN\"],[\"traO\"],[\"traP\"],[\"traQ\"],[\"traR\"],[\"traT\"],[\"traU\"],[\"traV\"],[\"traX\"],[\"traY\"],[\"trbA\"],[\"trbB\"],[\"trbC\"],[\"treF\"],[\"treR\"],[\"trmA\"],[\"trmB\"],[\"trpC\"],[\"trpD\"],[\"truB\"],[\"tsr\"],[\"ttdA\"],[\"ttdB\"],[\"ttrA\"],[\"ttrB\"],[\"ttrS\"],[\"typA\"],[\"udg\"],[\"ugpB\"],[\"ugpC\"],[\"ugpE\"],[\"ugpQ\"],[\"ugtL\"],[\"uhpB\"],[\"uhpC\"],[\"uraA\"],[\"ushA\"],[\"uspB\"],[\"uvrA\"],[\"uvrC\"],[\"uvrD\"],[\"uxaC\"],[\"uxuA\"],[\"uxuB\"],[\"vapB\"],[\"vgrS\"],[\"virK\"],[\"wcaA\"],[\"wcaC\"],[\"wcaD\"],[\"wcaE\"],[\"wcaF\"],[\"wcaK\"],[\"wcaM\"],[\"wza\"],[\"wzx\"],[\"wzzB\"],[\"xapB\"],[\"xapR\"],[\"xylA\"],[\"xylB\"],[\"xylR\"],[\"yaaA\"],[\"yaaJ\"],[\"yaaU\"],[\"yabN\"],[\"yadE\"],[\"yadI\"],[\"yaeE\"],[\"yafJ\"],[\"yafP\"],[\"yahO\"],[\"yaiB\"],[\"yaiU\"],[\"yaiV\"],[\"ybaJ\"],[\"ybaX\"],[\"ybbL\"],[\"ybbM\"],[\"ybbP\"],[\"ybbY\"],[\"ybdG\"],[\"ybdN\"],[\"ybdO\"],[\"ybeF\"],[\"ybeJ\"],[\"ybeQ\"],[\"ybeR\"],[\"ybeV\"],[\"ybfM\"],[\"ybgJ\"],[\"ybhL\"],[\"ybhM\"],[\"ybiP\"],[\"ybiT\"],[\"ybiV(2)\"],[\"ybjX\"],[\"ycaD\"],[\"ycaJ\"],[\"ycaL\"],[\"ycaM\"],[\"ycaO\"],[\"yccD\"],[\"yccW\"],[\"ycdZ\"],[\"yceJ\"],[\"ycgL\"],[\"ychP\"],[\"yciA\"],[\"yciC\"],[\"yciE\"],[\"yciR\"],[\"yciT\"],[\"ycjE\"],[\"ycjF\"],[\"ydbH\"],[\"ydbL\"],[\"ydcG\"],[\"ydcK\"],[\"ydcP\"],[\"yddG\"],[\"yddX\"],[\"ydeE\"],[\"ydeJ\"],[\"ydeV\"],[\"ydeW\"],[\"ydeY\"],[\"ydeZ\"],[\"ydfJ\"],[\"ydgA\"],[\"ydgF\"],[\"ydgI\"],[\"ydiF\"],[\"ydiJ\"],[\"ydiL\"],[\"ydiM\"],[\"ydiN\"],[\"ydiO\"],[\"ydiP\"],[\"ydiS\"],[\"ydiV\"],[\"ydiY\"],[\"yeaH\"],[\"yeaJ\"],[\"yeaM\"],[\"yeaS\"],[\"yebB\"],[\"yebC\"],[\"yebU\"],[\"yecA\"],[\"yecE\"],[\"yedE\"],[\"yeeF\"],[\"yeeI\"],[\"yeeN\"],[\"yeeX\"],[\"yegD\"],[\"yegE\"],[\"yegN\"],[\"yegO\"],[\"yegQ\"],[\"yegT\"],[\"yegU\"],[\"yehE\"],[\"yehR\"],[\"yeiE\"],[\"yeiH\"],[\"yeiU\"],[\"yejB\"],[\"yejF\"],[\"yejH\"],[\"yfaO\"],[\"yfaV\"],[\"yfbG\"],[\"yfbK\"],[\"yfbS\"],[\"yfbU\"],[\"yfdC\"],[\"yfeN\"],[\"yffH\"],[\"yfhK\"],[\"yfiN\"],[\"yfiR\"],[\"ygaE\"],[\"ygaU\"],[\"ygcB\"],[\"ygdH\"],[\"yggA\"],[\"yggB\"],[\"yggL\"],[\"yggX\"],[\"ygiK\"],[\"ygiR\"],[\"ygjO\"],[\"ygjT\"],[\"yhcK\"],[\"yhcM\"],[\"yhcP\"],[\"yhcQ\"],[\"yhdP\"],[\"yhdV\"],[\"yheR\"],[\"yhfC\"],[\"yhfK\"],[\"yhfL\"],[\"yhgE\"],[\"yhgF\"],[\"yhgG\"],[\"yhhJ\"],[\"yhhK\"],[\"yhhN\"],[\"yhhS\"],[\"yhhT\"],[\"yhhW\"],[\"yhiH\"],[\"yhiN\"],[\"yhiP\"],[\"yhiR\"],[\"yhjA\"],[\"yhjB\"],[\"yhjD\"],[\"yhjE\"],[\"yhjL\"],[\"yhjR\"],[\"yhjS\"],[\"yhjV\"],[\"yhjW\"],[\"yhjY\"],[\"yiaB\"],[\"yiaE\"],[\"yiaH\"],[\"yiaL\"],[\"yiaM\"],[\"yiaN\"],[\"yiaO\"],[\"yibD\"],[\"yibL\"],[\"yibP\"],[\"yicC\"],[\"yicE\"],[\"yicH\"],[\"yicI\"],[\"yicL\"],[\"yidA\"],[\"yidE\"],[\"yidR\"],[\"yidY\"],[\"yidZ\"],[\"yieG\"],[\"yieM\"],[\"yieN\"],[\"yieO\"],[\"yigF\"],[\"yigG\"],[\"yigL\"],[\"yigM\"],[\"yigN\"],[\"yihO\"],[\"yihQ\"],[\"yihR\"],[\"yihS\"],[\"yihU\"],[\"yihX\"],[\"yiiD\"],[\"yiiG\"],[\"yiiL\"],[\"yijC\"],[\"yijD\"],[\"yijF\"],[\"yijP\"],[\"yjbA\"],[\"yjbC\"],[\"yjbH\"],[\"yjbQ\"],[\"yjcC\"],[\"yjdB\"],[\"yjeF\"],[\"yjeJ\"],[\"yjeK\"],[\"yjeM\"],[\"yjeP\"],[\"yjeS\"],[\"yjfI\"],[\"yjfJ\"],[\"yjfK\"],[\"yjfL\"],[\"yjfM\"],[\"yjfQ\"],[\"yjfY\"],[\"yjgM\"],[\"yjgN\"],[\"yjhP\"],[\"yjiS\"],[\"yjjI\"],[\"yjjP\"],[\"yjjQ\"],[\"yjjU\"],[\"yjjW\"],[\"ykgB\"],[\"ykgC\"],[\"ylaB\"],[\"ylbA\"],[\"yliB\"],[\"yliJ\"],[\"ymdA\"],[\"ymdC\"],[\"ynaF\"],[\"ynaI\"],[\"yncB\"],[\"yncC\"],[\"yncD\"],[\"yneA\"],[\"yneB\"],[\"ynhG\"],[\"yoaA\"],[\"yohF\"],[\"yohI\"],[\"yohL\"],[\"yohM\"],[\"yojN\"],[\"ypfG\"],[\"ypfI\"],[\"yqeF\"],[\"yqgD\"],[\"yqhA\"],[\"yqjF\"],[\"yqjG\"],[\"yqjI\"],[\"yqjK\"],[\"yraM\"],[\"yraO\"],[\"yrbG\"],[\"ysaA\"],[\"ytfE\"],[\"ytfG\"],[\"ytfL\"],[\"ytfM\"],[\"ytfN\"],[\"ytgA\"],[\"zntA\"],[\"zntB\"],[\"zwf\"]],\"hovertemplate\":\"zscore_mean=%{x}<br>normstd=%{y}<br>gene=%{customdata[0]}<extra></extra>\",\"legendgroup\":\"\",\"marker\":{\"color\":\"#636efa\",\"symbol\":\"circle\"},\"mode\":\"markers\",\"name\":\"\",\"showlegend\":false,\"type\":\"scattergl\",\"x\":[1.1248786202181127,0.1628713220716694,0.8107204377627699,0.37512897860366123,0.1673059202153985,0.21432014192438206,-0.42750693493245934,0.23848246616131097,0.3625043154124176,1.1798112777664962,1.0144584224381918,1.1048963717009883,-0.06793941380157956,1.5489219006185786,0.09787818782081474,0.4854027141611319,0.5336346865019131,1.153494440925811,1.7002271560185644,0.15998869841206798,-1.7234070297789303,1.4773235772378837,0.9924273858294217,0.2723219504418991,0.5787561941337329,0.8164339005462424,-1.4956598252507716,0.945357276208283,1.6843762918143288,0.502464825811181,1.1842729061535606,0.18969097362501755,1.6106763265598751,1.6367738249744745,0.10508529663544726,0.7314522737226846,0.0250549750133242,0.7761206136629056,0.4602694423363798,0.43832045720520585,0.4294790103905252,-1.2386657789780486,2.2073628601736357,0.09440702465056257,-0.0009498224222097007,0.060349430311459354,-0.31033470133179364,1.0172120528912956,0.49980278998234395,0.024497116498916054,0.103064493619356,0.975833815899826,0.6706311641214787,1.870148593991045,1.4477995380265316,0.7144281550797434,-3.9284744820535344,-0.289308569923403,0.49639908302518004,0.0732872657474254,0.4985998070462057,-1.9713570582189381,0.3535769471663883,0.1986066702701299,1.0912817145927456,0.16404733054786252,-0.1276308896078242,0.9992735093111593,0.16840701930817498,0.8762173190627284,0.7453781446518374,0.6178334961503126,1.0006969481046881,0.9923159503523605,0.6854621495104543,0.6312803717911893,2.149328369661464,0.6996173266704445,1.580302289852016,0.9855062360911435,0.5640203680839373,0.6733930374750337,0.889173176051374,0.7607071622039303,-0.00129097001171935,0.6026202495977357,0.7053908688235953,0.3191260509072268,0.433750211222811,1.2152338623898737,-0.19755530425180598,0.7979879227105835,-0.10452085063443929,0.4999980470633837,0.3921246812597392,2.887766776225046,1.7906482928362242,-0.25028172532394066,-0.5714611538000542,-0.2718319896916941,-0.060003044829485874,-0.697777354881248,-0.6239270041670538,-0.6764244665046311,1.510222874487193,1.006360195587366,0.44078305768616605,0.9658829337006924,1.3161972566010745,0.6605591082348728,0.42182192005084956,1.4683700105491757,1.0672636342485322,1.1811416540681936,1.7611984081059766,-0.5723747172338175,1.2473166024241795,2.305042232862678,0.4158423571875619,0.2509199286986601,1.2060142838493888,0.8833164016237778,0.7085593651755975,1.197760140998243,0.10061571176979234,0.3995267787066194,1.0314811228542768,-1.7140750476231048,-0.706906107680632,0.389986053094501,0.5751961931610662,0.3960191188630482,0.06629371924589,0.19329580130924703,-0.2097916692408925,0.10028052043102767,0.39545529663896173,-0.04880567092012775,0.8710901347968579,0.37360785122297274,-0.6634900463956648,1.1644741800046297,-0.28128379577819357,0.35025816750509986,0.09096600527775005,-0.14478566675760346,1.3671047922108646,-0.34730534507205896,0.8324025461499627,0.4605680331804604,0.8116519249045027,-0.2790520706850757,0.7489483568473457,-0.009306104265586665,0.8666738806620045,-1.4164318311702995,0.1664003939465645,-1.1678926097151037,-1.3276067377240757,0.03370683139209285,0.04397657397047341,0.2991362142868706,0.28343493998879427,0.6327845498362447,1.3830999259935992,-0.0896434275052911,0.8326104456489475,0.7274786179492813,1.1556176954266606,0.24343488661545004,0.21638764739395372,0.3268966220235023,0.3588346069144978,0.6663981567156275,1.4589831405459202,0.26369613855840335,0.6074866725684953,0.1389822769700583,1.6483126924142302,1.485549732409542,1.5536005576948038,1.29632451041174,-0.02936408504744837,0.45533946383972934,0.40921773102812986,1.396327965324639,0.936501136347554,0.16280023719717845,1.1335204139270496,0.14817351307297053,1.82097605952691,0.5033594128966431,0.7378230201272581,-0.3394864910668191,-0.6182297611246106,1.7249898539192925,-0.6657840561642498,-0.40830290018160037,0.48865434187938905,2.0969523265775734,-0.29858821556458615,0.35218111454807444,0.5955640862940361,1.7099364618780752,1.029307726138195,0.41356137877351934,0.5960491223213218,1.0057167633122546,0.430289928263425,-0.37174912314876446,0.7342255907355164,1.1605008251796207,0.8608250585724531,1.227108615568865,0.7250320765303885,1.4403263911382156,-0.038111546972482424,0.3003907848716264,0.4611317196551842,1.375488032844714,0.3421568237628305,0.22358550968749955,0.0705607077432287,0.25812228960365335,0.465303631178085,0.4586011274222638,-0.2282375419654551,0.888819580389344,0.4917510789299556,-2.8102360743097945,0.7061841682250662,3.690107137119588,-3.276914426664649,-2.4695995157227144,0.7338529280754972,0.14132064748376316,0.633773729901665,0.7178835393374995,-0.3542703594242875,1.116102973598437,0.6032871229107822,-0.3169923265360491,0.591620577611479,1.0000263401726261,1.220604144680207,0.8950653913484444,0.17873422786563492,-0.1682326215546052,-0.07474879828911035,2.235935128439763,-0.17971755494482003,0.2791685267544529,-0.2630468138166223,-0.19727791337165884,0.08352464209044463,-1.1022675546148686,0.8734096132514892,0.1938648358572277,-0.035534658152039454,0.9137191204203656,-0.11956627530377675,0.06252206999132831,-1.395999799210728,0.6838257616580475,-0.6848134201413104,1.6368353780188183,2.383540171848057,0.9163132876800014,0.7446919646689871,0.347502235060558,1.7124789286082305,1.0318904062154353,0.7918073010110777,1.1545735365275056,-0.3658696391126941,0.5324367848083936,-5.561590149722409,1.578735294028081,0.540234394647096,0.5425046637186577,0.7705393985856441,0.06100302861331182,-0.1301247539416745,0.8974458763428425,0.816351900203892,1.278084930321693,0.9848990264583725,0.4762104937787157,-0.3333418624394352,-0.9195278956429347,0.03213290325246754,0.4857557741639882,0.5319293644679484,0.9355803408326447,0.8466647433264874,1.4724287510756753,0.8374916782203531,-0.152179688251849,-0.9163198354875141,0.19788397516693113,0.435528029094997,0.285012711057661,0.2254470006501742,0.2860314643219105,0.4422712934439434,0.5252819176281652,1.230623860311038,-0.40639830519795067,0.4734798776343927,-3.5424499239643747,-4.472074430883072,-3.8761833310892033,-3.593829660993665,-3.581032168845861,-0.29390730144438393,0.631965511180415,0.29172206442094395,0.37491390041425166,0.6302715171376146,-3.6623083514120203,0.8238991961092853,-1.2199849348918483,0.43954173729758295,0.2988651234480403,0.693526567620428,1.2030333375657722,0.4980818792840851,-2.210721543643997,-1.5657916828800755,-1.3139975189252007,0.246072232187844,1.014059830702704,1.507242262809938,0.09933423127842593,1.0877623839918797,1.1062363811454246,0.5199755079725259,1.3026572736267221,0.6153909312330866,0.071058014967281,1.1774615466161176,0.29211281182742405,1.1682809739311208,0.7161726847454478,1.2328410892253507,0.38493491191639484,0.6867411984876035,0.6777987679438882,0.3768983148217222,-4.892147702523977,0.828907890145896,0.7620606199373027,0.036625308420298264,-0.3735308001305002,0.09726840335614195,0.6797830592510193,1.4224122967434987,-0.29719142672730764,-0.6039011230923462,0.5690997882812553,0.7857645759010872,0.7333679235699491,0.7355353909774798,1.2783998612927854,0.28062774751179614,1.009888349434049,0.06239969616179919,0.25427417311401074,0.7557289980110137,2.7630807341700656,1.174012942797799,0.35409065973155246,-0.44436112001105216,1.0876303504494813,0.18336308993117117,0.5906510121879287,0.8646613749052054,0.8605104743313804,0.33624661594165806,0.6009123190567947,0.13526931834514444,0.7240466089619731,0.822997101621492,1.186356502782296,1.4585424885704898,0.5544239597726215,-4.792836272650012,-3.3293969529028518,-0.3098331937682555,-0.5630929791216563,-0.8360155772989035,0.20539807084829462,1.026155214758947,0.19454935270505613,0.9173862495806099,-0.15935057068141925,-0.38373596312582153,1.3481891099726038,0.8324905794643991,0.3644123546411793,-3.95766692677502,0.8209537483687912,1.1541946420254956,1.6607010015959847,0.3855158273187198,0.5583492673540386,0.6971243674206992,-0.3234391289191126,-3.013199508707229,-1.6403590110777873,0.6115817166501576,0.8067780567497826,-0.8250099840514958,-1.281005815240858,2.3484133764760506,1.498101779174825,0.4050512256580134,-0.7356866710961297,0.30786217860197657,0.7644597603359983,0.6153636767060268,0.44308776772456954,1.160576525513854,1.2807215047242524,1.582113732297332,2.067095390137274,-0.40907827243994294,0.8852371937432105,0.26188492563809534,-1.123888293481537,0.8766180486324108,-0.5305147459170803,0.3418613776389302,0.3935005459626553,0.5683532208100494,0.8494091896787511,1.3203688338389563,-0.9763086367823057,0.6361338779253297,0.03767641753094903,1.5540742052337928,0.49228823814788275,1.0699370148458847,0.9461569618935847,1.4064177096845956,-0.0970163294835528,1.3419484810204205,0.05107681679831377,0.20892042890031182,0.6533060471371075,0.34319228154218717,0.5947338756998342,-1.1371872388732631,0.26781966337385704,-0.028251676147912436,-0.24987879193357282,-0.7467933451053632,1.8029286583832842,0.4391772808237068,0.44530132012958124,-0.8541000883980832,0.06336929289058278,-0.037447956612914765,0.8151958361884435,0.2955231290656292,0.6451411335874919,-0.7767675987888162,-3.3014202966481356,0.7248625011214149,1.0379040642454544,2.1757964758408908,-0.6433734366466994,0.21962260904304445,0.5176368429649649,-1.9197905025914983,1.1689934151295451,-0.5153994773784187,0.7631271813159737,-0.6710407001845002,0.09383321473060806,0.2903997058233145,0.42622355570993736,0.1879914873310605,-0.002005201581897098,-0.2506915331700935,0.10091064136321916,-0.1679876322287105,0.6789961801368491,0.18606896919279362,-0.12481301910192936,-0.4900178865089584,0.8955937487899948,-0.2511006175492231,0.05559000589103601,-0.44162761075436724,-0.4473395013591893,0.27631487551355505,0.5384176550932696,0.4127588294245728,1.0663446400998022,0.802500966522337,0.1726140700416499,-1.447995998819605,0.5202297198948699,-0.7109449132129777,-0.5648418612308228,0.202223787040828,-0.7253278850824038,1.0704222472097518,0.3391586770231384,0.7974296982257064,1.0490343563519509,1.3507585972017175,1.028010623382143,0.08274225554483236,-0.7123901963809847,0.3259391649311245,-0.17032988444128339,0.1356191006314632,-1.3387351233241458,0.32650069323038206,-2.280190159330161,0.10046635411237888,0.2610245623372392,0.5992858059006512,0.7588169680671626,0.26754810725078526,0.6629780821047228,0.09511448583076391,0.6017245477262722,0.6356443593373378,0.6476155500146149,-1.3954900562487076,-0.16761287146580173,0.15756787080290977,0.32137981103799645,-0.07946111365695882,0.3383237786438967,0.15059893406345684,0.46895312682652507,0.3547541534933437,0.16140354439997912,0.8816310110832241,-0.07937477049000081,0.36109755483360956,1.6388076758449877,0.49834192363059787,-0.4664269083307352,1.3273672666482705,-0.6247572945805787,-0.7264995636210776,-0.11604551903830292,0.8794727068740141,-0.6133441624047615,0.36738935705556885,-0.7843947292055189,0.53160313462732,0.49894215067722225,-0.5558254024131076,-0.4118407933354084,-0.42735242510901333,-2.323598676140299,-1.0384866600805236,1.0916660906816154,0.22178671638130656,-0.4954807715835966,1.4124834714691423,-0.9197683572997628,-1.3923307232528197,1.2779363964326553,1.0213890220205957,2.732779631496837,0.23362174289275536,0.10541156721492254,0.36573022513324727,0.8192444650585372,-1.9027811747591121,-6.983464430139943,-0.12763788238813495,1.075618584553948,2.0488395792613208,0.7944641976051159,-0.4126146056036566,0.942295836411807,1.18971280186648,1.3593620740046006,-2.1022382381767017,-0.2589587050518723,0.8487739504788027,-0.04526355627968996,-0.26918082733763987,1.03416416928297,-1.6208118662085034,0.5936455021771805,-1.2998982788788849,0.6587234783765202,-2.9849882138422172,-7.468638411572411,-5.5840497896395185,-3.001114780274326,-1.395417061658095,-1.9730047087802411,-5.299204172878874,-0.3258890774598003,0.6440936273967789,-0.6535050612788069,-2.2047969253036417,-2.203086955879948,-3.6340182384804316,-3.6163292312889577,-4.208648822347438,-2.3842239625262134,-2.0387986554955835,-0.9717198639208731,-2.835148258100995,-2.0958118932406573,-2.1412080493993604,-2.4053250345122152,-0.14244265189744026,-1.4129669584372353,0.23049186920345774,0.033312241555419106,-0.02137010241488413,0.569466385391844,0.2837208152053058,0.7579828983122733,0.8772869885587498,1.6930275913705972,-0.23979959156123015,0.12503776392362037,1.2700793669236394,1.1996706971494904,-0.40300212781233313,0.5743439428173885,-0.9289479804376983,-0.6973733882147203,-0.6335847025760049,1.8804545005795965,0.6454805736976046,0.9910624726120619,0.22073312749860546,1.0147612617580641,0.9467647555204375,2.35955661107418,0.6301720725888567,0.5716819597809347,-1.0355602237137365,0.21912111735041198,0.8209948378435883,1.965642491545753,0.3344529221681142,0.5827045234942717,0.5890489385311795,2.287212156012053,0.21609750619621781,0.9578863787910549,0.7185240470222071,1.0864277200362509,0.6867928593810025,0.7663229175575897,0.5514832051582484,0.736498746674771,1.0242492904328615,0.35354133760806095,-0.012958773575498975,0.17218865989472468,0.3966798690800011,0.8953234299770563,0.5605375004693994,-0.5073547972017746,0.39714839641947774,0.8109318228108636,0.059123766410115706,-0.1676536779786993,0.8953940707741047,-0.3327974729602293,-0.032545185308984,0.9001338272572279,1.278067430076562,1.2722751363940832,1.353769440730978,1.423336226688024,1.1337738407650055,0.23105093629665416,0.7266146395212807,0.5463022170541778,0.11837440549531704,0.6707702480920736,0.7412192174725525,-0.6132085544361184,0.416861542328672,1.1915048445382523,0.6346773479125131,-0.02971881260816084,0.4790625846719963,0.37955033096988716,0.32906099345883094,0.8135972567691206,0.16090588327480507,0.6763099442498679,0.5882835003602113,0.934477381736808,0.8296819483571944,0.7065331724157047,0.6567199495590829,0.3642998007139503,-0.21924136741739697,0.8855403888237721,0.9420813085037703,0.3128327977613764,0.3869344104679535,2.125446539778481,2.096941209110101,1.337124001864847,1.1928421925528763,1.5340254411708478,0.6023833830431801,-0.10981534205842063,0.7896795806355967,0.6972295856696018,-2.7240061336847226,0.2094644389031846,0.21206048387109316,0.0360547753034161,-0.05183221732572201,0.2922161456591585,-0.11816705227667719,0.06231521845025443,0.19859156745421416,-0.09201611776910881,-0.5425844756509443,0.20186781984052982,-0.21655929116254832,0.7132514260266548,0.049580189441143355,-1.0793478593137475,-0.24744093306497783,0.09727776389997511,-0.13054463019830168,-0.11498645055641282,-0.24100295684127906,0.5199675643833696,-0.138830859455403,-0.2960707875887904,-0.4002720854813354,-0.09313597447883529,-0.15273866180260467,-0.9406163508878912,-0.1274241909819165,-0.05141097582311147,1.2691616446251306,0.06932608871752358,-0.2655939681560355,0.9358128884497997,1.34661186325957,0.9279009636239396,-0.13488703387829817,-0.06107921110349961,0.9752085004370927,0.3931907063500778,1.7497840651498737,0.38387311342815983,0.2363486556442652,0.35479054897597845,-0.03955768689707758,0.2150054787063368,-0.0649471791135777,0.5293760228744757,0.8357063285725744,-0.427763759556929,-0.012348505178196852,1.4957170786975569,0.6749248864234408,0.086600308902258,0.8994209929688274,1.0360314884198674,0.9078237860651566,0.1977749310211762,0.9213763258860489,-0.35967115508143616,0.7599245823619121,0.6623594037090722,0.7483181036927766,-0.3009686782992814,1.4661368219389435,-3.2319892742241443,1.3249412935619507,0.48536096754261626,0.8437268087241465,0.585818083012409,0.931132134968464,1.2937734998948787,0.785011202835458,1.3252840827425525,1.2041870593598354,0.556554731653912,-0.3759254295231606,-0.205004283279539,0.3481668275879665,0.7838395682988132,0.16211167927379788,1.0101814778754836,1.052407606479069,0.7600180707939018,0.9694585472227593,1.35354268038349,-0.16661124397164204,1.1721869888969698,0.8577898283179124,0.08472928481222758,0.14737616256857775,0.9379553933462293,1.307631197750725,1.4553036373496404,0.7255512649139182,0.9945318948975435,1.0041963972295582,0.12964153728832237,1.1859258189870259,-0.3533859289422727,0.22812004248459344,1.3329623662977443,0.945031630494176,-0.37030336924305723,0.6966388810786653,0.9775364664581009,1.5040542124511649,1.061279384770217,0.5785981857344303,1.0813179681426168,0.866090157514134,0.9598468451412504,0.4126717963458602,0.26765538269772915,2.1640111034319127,0.633878405207315,0.6548511377453717,1.0058477374006483,0.7276090343307184,-0.2961301562255641,-0.36577654828044537,0.0764078500730165,0.28803479198063087,1.1893065920354267,0.634143641890238,-0.4120828645459245,-1.1445342466660593,0.8653131790861286,1.0687409809047477,0.4474420198740286,0.5062944672241597,2.0441712631873163,2.7968998692599367,-0.1742629013862652,-0.18909171903949673,0.9321507004421251,1.0982692269563572,-0.034243706770794746,0.49032245923539397,-0.04797498392573926,0.07040464137308644,-0.6887624464745161,-1.4034142357710886,0.6894067825515603,1.4728888866948846,1.8915923293083161,0.8056497719998926,0.8332213730292881,0.8829304678832596,0.40947114915469873,-0.4686346285380076,0.6462742161295448,0.5276496385416021,0.6532379092544757,0.6383025349868535,0.5542552571815194,-0.2608972195736712,0.17361356317995022,-0.5347980094419866,0.7801846018747497,-0.1625427306468703,1.0159059584289418,0.6577076342021011,1.2651876471383432,0.13175505416780223,0.9502161315702472,0.5084399468581523,-0.19290588141466908,0.6346099853579213,0.4409855764644048,0.02885059857687225,1.272611548588329,1.3846648343796628,1.6067978379011496,2.368212923211246,0.7093587422367059,0.5307900493386556,-0.23578382732864323,-1.7739291615324688,0.2497553562865524,0.5313777940415927,0.5224156599878758,0.7877852878684624,0.6998812741368653,0.4428861863066185,0.7037133055412127,1.1010064414314786,0.7995206243097946,0.3083253044610791,1.0219359434432382,0.020377167223292053,0.4383460985178413,0.8862140232059992,1.1217916466595295,0.8670200451479536,0.05369397440885967,0.44194808771752747,-0.1463348162092921,0.03315513739423077,0.6676776280469486,0.5285123361281607,-0.03854950891742624,-0.00547177457218035,0.580915735138781,-0.29654801745283904,0.1430224823675713,0.46544623231678267,0.32749743450597757,-0.6616293752234659,-0.12513878223327024,-0.7933614648571428,-1.0112431664776615,0.06366067582380584,-0.7438639612882445,-0.7630183326312463,-0.6569698053557829,-1.0492072768605978,-0.7474513812319978,-0.46380069007312386,-0.3175406554592416,-0.7513037595663967,-1.062953498363229,-0.23185736423534486,-0.17749761064666528,-0.46294674219345294,-0.8408591727621213,0.9433433329172602,-1.6010561283982874,0.722332812757348,0.6009602006318021,-0.21546030504737157,0.25213819478456584,0.10177189901977035,-0.63278285594237,0.3369755376151729,0.25349719618176975,0.20588509626845583,-0.14697019065512487,0.23140757921109822,-0.05586662402634407,0.09914710747663098,-0.40260162894707235,-0.2858163937173283,-0.2985491699541317,0.21879503250873394,0.06762846355761454,0.19808113638879013,-0.3654732514223903,-0.2566737679613507,-1.985205607975718,0.09776065312077814,-0.7348284914619113,0.3182008896432357,0.39560213494188995,-0.5658926154139213,-0.6177616006046738,1.0756915649893988,-0.1710167998523423,1.1286850301700515,0.13489342780669134,0.33091670885388585,0.6027566498831106,-0.42729754687904015,2.0533211120296624,0.01713846439537585,0.5721503446691661,-0.01830445058711222,-0.11514089469549359,-1.3626267378333323,-0.9938599475386647,0.35117147859374087,-0.1289315333608127,-0.5927870474101014,-0.1578049540059442,0.9552324777782633,0.23343918956235618,0.012163569577042795,-0.26426461434342874,-0.3169201403562629,-0.3806548631985822,0.09264737187838454,0.5395230492324409,-0.5725234254979003,0.34614532139333887,0.20101011347606101,0.8713453441621701,1.7026880450631268,0.860071796524679,-0.1859567282142094,1.8592244634200459,0.7693872692777403,1.233126649096025,0.7241753488622572,1.0365083401379627,1.1280654615466958,1.5629939080225723,1.3299204545496324,-0.3465667592047762,0.20413201611214296,0.5965713399450998,0.5229895203329434,0.21461294934491618,1.8012578299463833,0.71429732829507,0.8819897840919398,1.4603389956393664,1.1093651953830141,0.64896384528914,0.5789107424910693,0.7676177433779726,1.067647490925154,0.7471880490860283,1.0417044768794925,0.8706783607342702,0.5955116125893241,1.0061916222732248,-0.03569854168191634,0.3180176704823228,0.6969447625244617,1.3328844466271728,2.145298891129095,0.8892137602459004,0.18843759935006205,0.42410911488045033,0.7426161037798513,1.3242115803278784,0.9081591738914876,1.5282381413575572,1.0370407169401685,1.1964872910203277,1.5650297808997002,2.115394652488623,0.9675232095390689,1.3548809008684273,0.8154040898924207,1.4243627870535596,0.775194814052102,1.0795225984700363,0.9898948378386163,-6.496948053725156,2.160987347367799,2.3953745884775763,1.140481879283194,1.1617154089131032,1.1013129013380243,1.5689169257188578,2.8185275575438196,0.48864540594846556,1.5977761765204626,1.9064496503526471,0.45297739348167226,2.072886147981442,0.17942056038788318,1.5592687860706684,1.234434050950608,1.3249646650725861,0.973513194967094,0.42626659098809083,0.7900967473822784,1.1209981005694167,1.1246039943593795,1.1327422143219574,0.33302915058924426,0.2611481001771314,1.0044696921401364,1.064026319542763,1.5563896073055978,0.9925004128316324,-1.624244244785798,0.5926653338866311,1.4977914268205677,1.6461480736688274,0.6994430218119225,1.0619534137069169,1.2275018849738646,0.9572858915716851,0.9158476370513872,1.8242127899823652,1.25134898995934,0.6397435953124261,1.439419789746227,1.232320380509147,1.4265756382514996,0.6687715994038885,0.6226291769862164,1.118564541056045,-0.1276348582419974,0.9496542172527085,1.1800864021383655,-1.4503144818942095,-0.15771518761230452,0.5289182205072755,1.004721494310651,0.7460821914628486,0.9762810110162242,1.5436079495411532,-0.1607126586896201,0.9595749075370412,2.119646805022828,1.241646575191867,1.5418598042580234,0.6192917081421403,0.1701762205887245,0.3804130139096482,0.8561952419307428,0.7559790837619792,-0.5397779712759894,0.2275157106369066,0.09824913097145205,0.02848525431075921,-0.43206775401718656,-0.10508156843113368,0.6092440211536361,0.8895077442641868,0.7895769262082166,0.2562344707456941,-0.6824941731588234,0.17249026197078066,0.1615500368120052,1.3589777194241714,1.043504946958949,0.31068865170674004,0.05253020277380954,-0.10074996665017728,1.2176618848046128,0.17524520757193504,0.505615930522096,-0.3085963334698765,1.336232776944749,0.8678250468301042,1.4516437618072058,-0.3338281757106695,1.3054821992729955,0.27527081523326064,0.7011744227171544,1.4057825201963126,1.8105612990827258,-1.826933174277153,-1.2827377855451332,-0.6868449364622699,1.0548133523715628,1.5188654724701518,-0.7764096392482459,0.1245123187515344],\"xaxis\":\"x\",\"y\":[0.990870974962694,3.7886939275271216,1.0332183172304497,3.045918353629861,3.1376793213112375,2.7596121897247525,0.5109802907600154,7.372318377588205,1.785211731580205,0.9353351884115124,0.569533378764827,1.3325349180155557,5.626552721612155,1.0046499474830817,7.618246117204755,0.795411102940131,1.2901426940008913,0.9387807106297905,0.7727751835295255,3.594584014378061,1.5634037389980384,0.5700394514396239,1.2209488483188928,2.5212440794390027,0.28039662400302257,0.6831424363807054,0.30344065696199096,1.678420305688909,0.8595040413870031,1.8247484740334445,0.47109362902241875,1.850514663806566,3.1835259008995545,1.241501098706409,6.417223432509255,1.247178114615421,1.8113081654035086,0.9699486847995129,0.6402222178201163,1.9593805295392468,2.2855787401522885,0.8010930438482736,0.8292965281425115,7.5388029927689,240.66120793870175,0.031395249690054985,0.9767052630217321,1.1408291426116928,3.4309937634178596,4.46961031873955,4.046442542742267,1.540099207583527,1.186454245545508,0.897172395218763,1.3305276815535978,1.1365213244286752,0.17609997645608605,1.3576484104254716,2.5395834182727275,3.636848453940644,0.6633374931669335,0.2525297359003277,0.7884514806684454,2.5279827516790134,0.8967335419425968,4.70357342667913,3.012361248665953,1.117465977927597,4.40073224519333,1.4771361905077158,1.971939634390643,1.030788247220222,1.3337498996139427,0.7567244433356689,1.5352481591273193,1.3416501591791867,1.5432683996296601,1.0847557109754289,0.3642596963137578,1.064911803571351,2.347142524759282,1.6928971465073264,1.1403990121192227,1.3337779304849804,333.8947407493435,1.2551532008495914,0.4809180971677902,2.301183698512718,2.1046739575446463,0.6069764530791923,1.5260280441140717,0.2967213674038202,4.536459875472062,3.6088824896941727,3.3231970131352813,0.5482180581945123,0.27541932153730797,7.294550068225331,1.4449436390110502,3.7038209475323223,10.395766507054907,1.2850119338242043,1.189565188092235,0.1586195879019801,0.49098019930947556,0.8977630571091689,1.6922936163104658,1.2973659167811773,0.1996734046115243,1.3288009904751963,2.443391500023646,0.5606247111392866,0.5809199733822413,1.0350501264476322,0.4269921755304312,1.4903243987862311,0.884637026464895,0.05230548513959874,2.184376536522845,2.8056459790521657,0.5568201791001087,0.9080598270949742,2.314678731200708,0.1483836686722735,7.47189405033422,2.7458231532123394,0.769697662314432,0.5605946601440007,0.12123362405295181,3.1079624535675507,0.852130133612443,4.2341888973678,3.5304313730787626,5.221611217879413,0.6990623620594378,7.547551215704381,3.599314824949192,6.96179035682135,0.3434830061361148,1.496662379079122,0.584866715733438,0.8266434675380089,3.0942304881940004,1.7063077271151161,3.3319891452652493,0.34610556356032085,0.6823468419404972,1.6708520629241377,0.9865378586632448,1.5367381531374797,1.1977249474284954,0.9540169420320534,3.267503241824623,48.092110540544404,1.3021312072341493,0.6384565635110319,3.676780228302457,0.8229366652431144,0.7605742993482453,6.992793049604153,22.989787207339784,0.8909200392560228,3.9189172235704706,0.32779882496954366,0.4263762748140041,3.891877090067474,1.0796687719904265,0.0473254242963955,0.4646998234058811,2.5158292707002983,4.923249690710841,2.4848649737617627,0.7634048039421265,0.777754652733752,1.006010486910728,1.2879708080119903,1.6460171231969885,5.22421118377186,0.2969177338341866,0.7315809739317943,0.9263557220695258,0.4457831273899594,21.893347500070966,2.743593134988419,1.98999594026105,0.5323080673891973,0.348399611282138,3.039425557613631,0.5803208618242118,5.403810423720681,0.9610235136562001,0.4624381282973715,3.000945029984004,1.142765785057361,0.273505574715292,1.5714950155949898,0.7690567232686295,1.2043066708382029,1.5128049152477574,0.3096512576178324,2.967029276733014,2.148916291533316,1.8469932387059471,0.6398955890749874,0.6655588209324126,3.5850597902906074,0.8880491359332492,0.685206016294446,1.6839203891229306,0.6815336420051632,1.4503252922746268,0.8349945366304983,0.8109150952112621,0.7536085095883783,1.6512402333403216,0.7806366372067376,22.466122567472567,3.5551250621079524,1.2066877560349043,1.4518165872789952,1.922666672050392,3.789020779841194,16.41343821405918,3.132704890011571,2.580514240350043,1.46877787386247,1.254652151037507,0.7704596139669903,1.45990116540711,0.41918021428455843,2.2525502893873286,0.5076044893659234,0.009089139095901923,0.8987693565082139,1.5350449492504035,0.6286637067181295,0.7973628695406824,1.2450805492827024,1.6209429408140745,1.4924818061029392,0.8764021041194517,1.638090804553134,1.1453733771420422,1.0824211149888685,0.9142514854617336,0.9964378433690008,7.6340868290328165,4.472397379675797,10.256669570750201,0.5613616192904634,6.738023001028045,4.090553088181249,4.789212932475343,1.1146930385781273,20.662898357493404,0.462114934335544,1.7563245033150556,6.664882281925936,33.81285786674841,1.2705708321036797,2.8213586533981987,7.377285742007793,0.1723097510714449,1.817956107848889,2.1872143643991007,0.5549168139600795,0.7848416110562939,1.0903856185776868,1.1137398187125822,1.2030445228536426,0.14320655874351867,0.6093425018327556,2.3919731128262622,1.090580748446214,0.38533459057629194,2.288583054822848,0.3616988301452143,1.382195283033898,1.2791409439870445,0.3762862255705691,0.7923873922727902,16.522135889883053,5.0903261467509875,1.4936156957803681,0.6601940526251117,1.0285678834311576,1.5359221662153517,2.6133017490195716,0.10345322973759166,2.2510134349244018,23.32900862092618,4.055499539605701,0.49420885883926,0.994687040521925,0.9189063887081508,0.7170472262067585,0.7725633889854423,0.5383549639959714,0.8295578743675375,2.5052146566808076,1.5452330687954958,2.2486218800729874,2.315936008097368,3.1629556232257814,1.619576162031592,2.899749971391836,1.1689179266917233,1.1307848608105564,0.35768773211379656,0.43135074875426044,0.5933309513824606,0.22462863456212143,0.23641852832844115,0.28676052615741354,0.3596476977715822,1.0496954279539796,3.146959300557475,3.00101646713654,1.8154058590893585,0.15705336369436385,1.2485068837665736,1.3540804954909813,2.278500247177336,2.291978001404761,0.938040890990478,0.9688147596052379,1.6839225396612867,0.5505837493249875,1.7279612283603107,0.1661217212190432,3.2354720840652362,0.4248282060972272,0.8315402839666778,0.8082576962663208,1.471039249152804,1.051594601269589,1.6630358201708821,0.5996827515711635,1.2430595519725571,3.6649052963602804,1.2487539910308856,0.8368669901618392,0.7220712641336167,1.1724589484040617,1.1999179959226856,2.3731589131663107,1.2093152583777445,1.6012441740902037,2.4197362584671276,0.4612144950985981,1.5009261894425532,2.4430863681128576,14.203072672573716,0.117598071126565,0.9142675775778927,2.0281531193445956,1.2296994703572606,0.6304550725762577,0.5751172811305933,0.3628119448283912,1.871205108604608,2.244832014677101,1.7860762087973427,1.555159957489455,2.06819185207116,0.4643929884700904,14.230387704039662,0.12187615275167897,0.433769707046955,0.33710286061787464,0.7706731769483587,1.4677557679769868,1.3588991077980797,0.7518078176475638,1.7981142193589426,1.2169551258291915,0.7844582978378287,0.7598436405392399,0.8350732165524419,1.290931910631463,2.339619060473343,0.7106378473910621,1.139067394752191,0.8905595338030516,1.0665072784419436,1.0283671810537014,0.04959756890369342,0.3552802693782225,1.4014415135488094,2.149333762742556,0.1904851442034997,0.9077573184184622,1.9068550386418701,2.6396310525818474,0.38641089716594895,6.076950175961634,3.8611223487464303,0.20830092606346196,1.1998612783532994,2.930006245690209,0.07223819546832644,0.8788734772749827,1.0191807675630857,0.07719207567064805,3.843688852523946,0.8437402712177173,1.6188892318027917,1.5550375848251272,0.06966172796740812,2.188141851241255,0.19065130695241364,0.19431187829805624,0.6381615904692614,3.1497659082751994,0.0428863003574563,1.7300285929349442,2.1266090558023314,1.3735311002344381,2.7982821892765997,1.6047618979910867,2.138881838747778,2.5380197466079157,1.2514949415461574,1.0877304339482836,0.8122347483430333,0.8188701931013138,1.2161850908484884,0.6653228895329237,5.577824332863778,0.6964138453244259,1.6458885321345862,1.0211417031031151,2.7624226331463606,4.35726467362568,1.6111061829193485,1.5695202540704587,0.9222674309509984,1.196861208830386,1.5571536021644943,31.134077671219945,0.5685707935833121,2.2064999621004504,1.5944251354701648,1.092712525068305,0.9342473555463158,1.074062126830641,0.7237062016110759,13.508876976966798,6.6905875851017385,1.4664702173999593,2.7263373434876894,0.9770857577591646,0.6295776523208018,0.08698387263399095,2.2351635982032763,2.956063533565389,0.6154281477365517,1.1331643691014965,0.5762510938053269,2.591313249689325,0.31883423478229317,14.63013781839132,8.0331791127914,0.7314300342171615,2.928843600421322,1.3222331366905262,0.5146798334320395,0.03418937684568939,1.2068938940847747,0.5997750680756561,1.0445995462879445,0.7025238599701487,1.3499916974312889,1.5962269895100791,0.5715171715765408,1.354132853544341,1.1002336256008574,1.3142729993188262,0.11871479155917199,14.260965192768563,2.2854796995744575,1.5933583721377258,6.1647550935999655,341.06413383062164,2.6896520993750404,1.035735793923825,1.8431864487525653,2.036800353973566,3.4369118282300777,7.25326899423574,0.4298737194379332,2.3097694068602275,3.4948084259390453,6.047051322952665,0.625149423386972,0.4610471416784912,2.8425973805401585,1.2370581835794958,1.8918040918493804,1.2897541510134323,0.28210138727959205,4.420218991428285,0.03697231083644748,1.390242252542824,0.6239457438085964,0.0780531166699778,5.362923378233377,0.6680236644978718,1.328224819734875,3.6848228262161826,0.5478579311642157,0.6401705741121809,0.39221862779269345,1.359207258430853,5.23019298532164,0.3759704108086733,1.1832662811929737,3.031711649177099,1.6850447481965944,0.24576340187746698,4.775659849147384,0.7051725836467837,10.063913869166464,4.484034522254973,1.4746092901493801,0.7684040131312243,2.6978955443610038,0.379677703136364,15.311783906463337,1.1721485499373274,0.9585669599560991,2.067877600714947,1.069142546994667,1.8328264112103814,1.7109126868794469,2.7455978465099187,7.717345580983231,3.105401924491984,8.453250689962726,2.411006047233007,3.069605307608728,5.928740829950868,0.9611175696209533,7.805794956533768,2.5634249697985827,0.5299305804728103,1.1904024691251098,0.9835038625821374,1.405137970584625,1.1010526717285902,0.7137353883366709,5.708238101340333,1.1844410458506243,0.4025703383705808,0.9073037173365466,0.0519912239094684,1.3927820354440232,0.6197296747837167,4.306838202276474,0.4317687406312034,1.581660535737877,0.12554754195454507,1.3793085639614333,0.7880737854070954,3.106476065313655,1.9100580750454639,0.7471466135039542,2.117842548336336,0.1716608472100204,1.177317329713858,1.1899428290751235,0.18682446522447327,4.341790998923443,3.334725622942593,2.622059775959436,1.3874476787990775,1.77559614780611,0.16038732528460475,5.137083312221436,1.581312228656798,0.8878231229705518,0.7307604856989266,1.1035980701014292,0.5315793537124953,0.5662239201634143,0.7387480815076576,0.1839049581958539,1.0793605823430088,1.7831064876525418,12.864228914940108,2.127171364760349,0.4396470752943801,0.22599064597210872,0.7571351798935475,1.1699858308734692,1.15848498242035,0.3739844402707502,0.3544276970672994,0.28670411208132723,0.47428653948842436,0.4453696235795751,0.4617846061784567,0.18852704196028244,2.611797568169083,1.1101017372179678,0.6300327624472788,0.3864535690216991,0.4754405406755828,0.43249280043742966,0.4734070619685857,0.2396834255953948,0.45144239041251727,1.9278883176175436,0.6349742030664414,0.24935256800678127,0.2637504679053531,0.3732444224990464,0.13755458980201324,5.977832622503338,0.9318712037642559,3.4890390148689723,3.1670182893769714,34.39146624018475,1.7480450790702855,2.2053971208405607,1.53058621173286,0.32278902943850973,0.33840255221774806,0.9367697160598464,4.847551057326475,1.161991516828263,1.2300692319453044,6.414452127158511,0.07036034299735096,0.6188357005291141,0.3686107264349162,1.5050132316474092,0.6602545578738294,1.4906676455528458,1.2610511559498894,1.9276378876054299,0.707247747012885,1.353335273632008,0.4874744908623756,1.7510414245536186,0.9341480148281098,0.726914323363374,2.2384934889361103,0.3499474845937552,0.1459264622567373,2.7122450908302795,1.18406241072384,1.503526451196502,1.0154170458035925,3.172983917672381,0.7708633061754337,1.4419812607983933,0.6771893803613741,0.9230427143081006,1.1888291771651398,0.9417310142923464,1.0002785285491917,1.5715463586415708,1.291451142579769,1.8043516905205272,6.4863612690107715,1.1055978381775093,0.30525306645530836,0.46164234265625526,1.3733096708883097,0.9546727507214756,0.778832777439385,9.967538431204762,4.634055044688638,1.152070097183966,3.9336999929615057,25.463116853196365,0.9700054820817303,1.1200719182359071,0.8147544431724085,0.8530528684212599,0.9032593362533942,1.0497078484434006,2.9636160359842942,1.1428454919908473,2.049742661480446,4.71889629608832,1.5655380355062505,1.296188009247089,0.763483457148783,1.7267082624630452,1.3939874548730449,1.745611860143678,39.427542999191225,0.6182091361445016,1.750314254580158,3.9522655184153566,1.3895847092553433,4.2544330900997265,1.2630250901151787,1.5566054833760887,0.9505992860897537,1.164724569232953,1.3992028161687258,1.4699309627735355,2.56936952168888,2.933515302670914,1.3886533342226748,1.0362802618008091,2.4452430865841834,2.498569524909903,0.3691592849760099,0.8322936880379426,1.1293817117717149,0.7863667328354541,0.9696945887292947,2.212700887692764,13.630006943038651,1.8010222785890175,1.789420283025598,0.05159340922049579,2.140789051348422,4.723104056926473,26.15697006964317,11.521638863121774,4.973440311495698,6.888513776675442,17.533915286688494,4.8497672453229175,9.090821110887067,1.025944313236119,6.429780498331301,1.429873466315227,1.1132538102808238,22.07943414593549,0.3423505374113094,3.0633402647746033,14.371917943588175,11.311914316601083,6.934686312153263,3.382346065108033,3.528096835903786,5.216222600083314,2.750381631810436,2.3177780415613505,9.316535346132484,6.631024613016022,0.33555157373867095,6.512376010719899,20.55752694390097,0.8369583421977007,8.1337245260374,3.4967199818295205,0.7490640120527714,1.3688291301356148,2.0493839151952553,5.041002549714977,12.00140021673399,1.100600633031873,2.61225123943899,0.6661341015281713,2.495485807086629,2.3332393624183436,3.7910894215053625,6.982235776626229,3.1381626785931434,7.841994490890883,1.7098332874165063,1.2331670668237773,1.6264768156652865,64.6397294984022,0.8669899956925318,1.4569514453092693,0.05143460536049129,1.3881454592457756,0.6015698300176567,0.9342466218374074,1.9644338142708813,0.4087241619232248,1.1274318041707871,1.533708868010644,1.6476173824584932,1.0466643418065367,0.33752631479019235,1.0425981572810639,0.3267952557049769,1.4372386454161645,2.4067063253477667,2.303789902635822,0.937970275786364,1.1867397705910796,0.9580382207984869,1.0913818228252419,1.0433824464887809,1.2478053779374858,2.0385898887866416,0.7394066719925994,4.836198179984202,1.433690833924291,0.8544993538565732,3.9693405003593183,1.4192041318891688,0.011176501646592004,1.2412949228819736,0.8127132858035626,1.6282277799005827,1.811356400543937,1.1821612844836606,1.029380268041222,9.507471404928253,4.733971829539955,1.7524642584615566,1.3108696847325056,1.312647404651726,1.7784669639843074,1.323969182618533,1.4573885169076282,6.9543378781959575,1.8090102534579247,2.306519875702998,3.1452458695807195,1.5267641457708707,1.3151125549968223,2.4500557595346812,2.6254541450093187,0.9062192083995801,1.0366843176603666,1.2665377987288478,2.209201558050896,1.5472500742880275,1.9410924621381538,1.2164588175219244,2.5970362226566137,2.867080471650269,0.6018678896503611,0.7666465756027135,0.11598320795364433,2.19086587573961,2.286035357529903,1.3534868624198575,0.6265728083807126,4.061680946488143,3.9538477124339533,0.6705659097040514,1.4425893818765028,1.7236573641011737,0.15504633721739383,1.1015932965415427,0.7939203180830666,4.038988726202586,1.1488308739387587,1.0165962158676654,0.3947686207576892,0.0963259691021133,2.3544263996594985,0.7716588245719702,1.1138881615139196,9.4301431160762,1.6787609403913288,6.229674493364589,11.010042968305036,0.459869072221066,1.210903731958666,1.1365042461143582,1.3043787791596633,0.6279802100716483,1.3888828264884037,0.7683417691084531,0.9851061548087108,3.6922839721812006,0.782449401665749,1.3898466498246231,2.0670297903549377,1.29394907252551,2.2770565558731226,1.6185081898665028,3.0438147507473845,4.3020893949056545,0.5133651897591659,0.8562886340108883,0.6781082097012678,0.9518271588797754,1.9977246372637487,0.8201792579297913,4.266838052054871,0.5497562051974275,0.9359998616780126,4.278917734741276,1.0570055054748917,0.787402449935592,11.56880642361437,0.1091938524032689,0.9990381693387005,0.03260930861738497,0.6331291198192903,1.2510422323261186,1.2823769002303884,4.580688954420249,0.49714152628428443,4.146287505643641,0.7505107066989567,2.4253960386277686,2.038558567949461,0.9415170750741777,1.7925366328963903,1.8757260446532829,0.8570552492699294,0.6051457645825499,2.532871154530999,1.5449318330541384,19.718277088914352,2.01042935283638,0.05655948761506833,0.5378610086838571,1.4288530057220372,8.91522707112058,0.8584641016591724,0.952967179595498,23.277640566331165,1.83841397266758,2.125872572977081,4.695686569445538,118.77725277258828,1.3825625923014149,1.7012282582140954,1.1563120271090055,3.1457880612137727,0.26017738876034996,2.4440104814261536,1.746197998284143,0.3225317353784068,1.0825558648714022,11.970696048250545,1.3935381450177722,0.4830303286178896,0.7077627487546425,0.6512660784320999,0.06214929003848798,1.945897494719036,4.067643908142736,0.4439712099901656,0.3870704385695916,2.924027358221594,6.074311150808022,2.0832019114281937,1.3707881292152377,1.1325552686817295,0.6277300969829481,1.551859142485568,0.7295776080250862,4.127157403797824,2.584970607322816,8.416096509856398,0.4989395574499449,4.066689612902432,0.10156905442878376,3.4909344999683225,5.474281296151478,2.321802921674313,24.88605262392964,8.547398868907724,1.5887618825253473,3.5935211078357727,0.3585338732628348,2.344853218667856,18.303379007395336,3.582962864275553,1.2287410793205438,0.6751495585782641,0.011136449031460612,4.345996070151363,0.8424535324611655,0.738169925353907,1.6173802464450135,1.1913346930966533,0.8356692626952783,0.8234656546382,2.44886815056783,1.0140532253029566,3.7460350681063193,1.028250035035966,4.463418793957417,4.168000579094817,0.6657984624755863,21.544507427903483,2.4396962383955927,48.77463951565368,4.011184962669762,0.4876707706616225,0.32620122618106695,2.4450152355653816,1.6310901378046359,2.633010638483448,2.675834053877051,1.1391293428692177,3.7824230522585296,15.670421719595332,7.672484256390654,1.0002725385264233,0.3123480412836756,0.5532449705329452,1.1902408780884146,0.6962371862330069,4.0471991379874535,1.6572266572262913,0.7453000791073873,1.014122761426053,0.7536943950996295,2.957288195947293,0.30895242924988875,1.113217994379655,1.467420111707695,1.2546721549867301,1.1519014183992773,0.837072353631927,0.18750246796948922,0.8731958589549454,3.3305290942229653,1.137719474048813,0.9488570569988234,0.5174570980166169,1.6276904187814654,0.31708315921863034,0.6347620172186961,0.8055991542095617,1.0361304041529238,0.8872973116138904,1.5171637676523524,1.7485391987153347,0.7388793290895697,1.4268854411528633,0.749918911542675,1.4755548911758114,1.0773257169451362,1.230394136790484,0.6063632853354612,7.313984539461815,0.44749172335895754,0.6926423767377058,1.795602525265084,0.6588702790381171,2.2405945366644096,3.3170653688061655,0.24782926227003038,0.8114235330074755,0.943481717288816,0.9847928450086496,0.7201496643170763,0.6221470814094172,0.5926176679389025,0.8972583145954034,1.59189621140044,0.7818366032154576,0.6517073564551799,1.9795757221570522,0.430762091249902,1.0128642244021917,1.4160692416251706,1.4158377615270994,0.24702076353252608,0.4049393890048147,0.8073064134833897,1.6594232621749865,0.6470475852314166,1.2407754795780304,0.9675325653471694,0.8304118746067027,2.1736475900903636,1.0015850931200532,0.8036555285317031,0.30714775555397833,0.5980021422389233,6.91257010699369,0.8651957237115444,1.1582536599117443,0.6699413550984367,0.8731377298827787,5.008719917840518,0.7642810220706784,0.8386293748047631,0.8621671929199998,0.9300301165408568,0.5610989716879888,2.41968726651276,1.5973171828508321,0.7178645761060756,0.7383329545049756,1.5685816524058918,0.3172321704433491,3.3339042286314506,1.1376328069259902,0.11433354600537386,1.2547609660093517,1.5065331746621513,0.44434090654427577,0.7837055854707566,0.8896513861767461,0.9442263859074236,0.9784557719773889,1.1496941896628456,1.0472863583329874,1.0260758078279069,0.5117909308762812,0.6463791462280031,2.1494350723832385,1.8496328665052646,0.05635770952740965,1.3914951126023827,1.084531883727486,0.06987712746989054,2.514581572005155,1.2565096152477269,1.0697408565745348,1.8439517653538733,0.8769279446746174,1.7637078468911664,1.822214426575315,0.9159911444536856,0.3708418075441117,1.3753814423362605,0.6779063631996813,1.0952283155251703,2.2541111713566804,2.6467289752501872,0.864595398017346,1.9817891443800766,0.7064596592859399,2.431537539010579,6.689834427732197,35.8012733221749,0.6866850856340588,7.300809498898785,0.995717439821516,1.0106417403627723,1.2336518194110146,5.86852105389338,0.6833552782512279,6.233012886518968,10.767468910494843,0.3439256515192349,0.37941493150932587,2.4011720199635773,16.29186222521589,3.1199037194477013,0.8699309322818514,0.442701746001396,0.3416350490335246,1.6497308180200485,0.3046188642941647,1.5148434233449015,1.0292457281899787,0.12030178661249545,0.4360875428051614,2.265302125633508,1.9756831679341682,0.962995472769353,1.6319114561517771,1.0740654416397257,0.8376413578915515,2.3419877947649583,0.8923013839218309,1.1262399606486526,0.5096940184198888,7.448629675336193],\"yaxis\":\"y\"}],                        {\"legend\":{\"tracegroupgap\":0},\"margin\":{\"t\":60},\"template\":{\"data\":{\"bar\":[{\"error_x\":{\"color\":\"#2a3f5f\"},\"error_y\":{\"color\":\"#2a3f5f\"},\"marker\":{\"line\":{\"color\":\"#E5ECF6\",\"width\":0.5},\"pattern\":{\"fillmode\":\"overlay\",\"size\":10,\"solidity\":0.2}},\"type\":\"bar\"}],\"barpolar\":[{\"marker\":{\"line\":{\"color\":\"#E5ECF6\",\"width\":0.5},\"pattern\":{\"fillmode\":\"overlay\",\"size\":10,\"solidity\":0.2}},\"type\":\"barpolar\"}],\"carpet\":[{\"aaxis\":{\"endlinecolor\":\"#2a3f5f\",\"gridcolor\":\"white\",\"linecolor\":\"white\",\"minorgridcolor\":\"white\",\"startlinecolor\":\"#2a3f5f\"},\"baxis\":{\"endlinecolor\":\"#2a3f5f\",\"gridcolor\":\"white\",\"linecolor\":\"white\",\"minorgridcolor\":\"white\",\"startlinecolor\":\"#2a3f5f\"},\"type\":\"carpet\"}],\"choropleth\":[{\"colorbar\":{\"outlinewidth\":0,\"ticks\":\"\"},\"type\":\"choropleth\"}],\"contour\":[{\"colorbar\":{\"outlinewidth\":0,\"ticks\":\"\"},\"colorscale\":[[0.0,\"#0d0887\"],[0.1111111111111111,\"#46039f\"],[0.2222222222222222,\"#7201a8\"],[0.3333333333333333,\"#9c179e\"],[0.4444444444444444,\"#bd3786\"],[0.5555555555555556,\"#d8576b\"],[0.6666666666666666,\"#ed7953\"],[0.7777777777777778,\"#fb9f3a\"],[0.8888888888888888,\"#fdca26\"],[1.0,\"#f0f921\"]],\"type\":\"contour\"}],\"contourcarpet\":[{\"colorbar\":{\"outlinewidth\":0,\"ticks\":\"\"},\"type\":\"contourcarpet\"}],\"heatmap\":[{\"colorbar\":{\"outlinewidth\":0,\"ticks\":\"\"},\"colorscale\":[[0.0,\"#0d0887\"],[0.1111111111111111,\"#46039f\"],[0.2222222222222222,\"#7201a8\"],[0.3333333333333333,\"#9c179e\"],[0.4444444444444444,\"#bd3786\"],[0.5555555555555556,\"#d8576b\"],[0.6666666666666666,\"#ed7953\"],[0.7777777777777778,\"#fb9f3a\"],[0.8888888888888888,\"#fdca26\"],[1.0,\"#f0f921\"]],\"type\":\"heatmap\"}],\"heatmapgl\":[{\"colorbar\":{\"outlinewidth\":0,\"ticks\":\"\"},\"colorscale\":[[0.0,\"#0d0887\"],[0.1111111111111111,\"#46039f\"],[0.2222222222222222,\"#7201a8\"],[0.3333333333333333,\"#9c179e\"],[0.4444444444444444,\"#bd3786\"],[0.5555555555555556,\"#d8576b\"],[0.6666666666666666,\"#ed7953\"],[0.7777777777777778,\"#fb9f3a\"],[0.8888888888888888,\"#fdca26\"],[1.0,\"#f0f921\"]],\"type\":\"heatmapgl\"}],\"histogram\":[{\"marker\":{\"pattern\":{\"fillmode\":\"overlay\",\"size\":10,\"solidity\":0.2}},\"type\":\"histogram\"}],\"histogram2d\":[{\"colorbar\":{\"outlinewidth\":0,\"ticks\":\"\"},\"colorscale\":[[0.0,\"#0d0887\"],[0.1111111111111111,\"#46039f\"],[0.2222222222222222,\"#7201a8\"],[0.3333333333333333,\"#9c179e\"],[0.4444444444444444,\"#bd3786\"],[0.5555555555555556,\"#d8576b\"],[0.6666666666666666,\"#ed7953\"],[0.7777777777777778,\"#fb9f3a\"],[0.8888888888888888,\"#fdca26\"],[1.0,\"#f0f921\"]],\"type\":\"histogram2d\"}],\"histogram2dcontour\":[{\"colorbar\":{\"outlinewidth\":0,\"ticks\":\"\"},\"colorscale\":[[0.0,\"#0d0887\"],[0.1111111111111111,\"#46039f\"],[0.2222222222222222,\"#7201a8\"],[0.3333333333333333,\"#9c179e\"],[0.4444444444444444,\"#bd3786\"],[0.5555555555555556,\"#d8576b\"],[0.6666666666666666,\"#ed7953\"],[0.7777777777777778,\"#fb9f3a\"],[0.8888888888888888,\"#fdca26\"],[1.0,\"#f0f921\"]],\"type\":\"histogram2dcontour\"}],\"mesh3d\":[{\"colorbar\":{\"outlinewidth\":0,\"ticks\":\"\"},\"type\":\"mesh3d\"}],\"parcoords\":[{\"line\":{\"colorbar\":{\"outlinewidth\":0,\"ticks\":\"\"}},\"type\":\"parcoords\"}],\"pie\":[{\"automargin\":true,\"type\":\"pie\"}],\"scatter\":[{\"marker\":{\"colorbar\":{\"outlinewidth\":0,\"ticks\":\"\"}},\"type\":\"scatter\"}],\"scatter3d\":[{\"line\":{\"colorbar\":{\"outlinewidth\":0,\"ticks\":\"\"}},\"marker\":{\"colorbar\":{\"outlinewidth\":0,\"ticks\":\"\"}},\"type\":\"scatter3d\"}],\"scattercarpet\":[{\"marker\":{\"colorbar\":{\"outlinewidth\":0,\"ticks\":\"\"}},\"type\":\"scattercarpet\"}],\"scattergeo\":[{\"marker\":{\"colorbar\":{\"outlinewidth\":0,\"ticks\":\"\"}},\"type\":\"scattergeo\"}],\"scattergl\":[{\"marker\":{\"colorbar\":{\"outlinewidth\":0,\"ticks\":\"\"}},\"type\":\"scattergl\"}],\"scattermapbox\":[{\"marker\":{\"colorbar\":{\"outlinewidth\":0,\"ticks\":\"\"}},\"type\":\"scattermapbox\"}],\"scatterpolar\":[{\"marker\":{\"colorbar\":{\"outlinewidth\":0,\"ticks\":\"\"}},\"type\":\"scatterpolar\"}],\"scatterpolargl\":[{\"marker\":{\"colorbar\":{\"outlinewidth\":0,\"ticks\":\"\"}},\"type\":\"scatterpolargl\"}],\"scatterternary\":[{\"marker\":{\"colorbar\":{\"outlinewidth\":0,\"ticks\":\"\"}},\"type\":\"scatterternary\"}],\"surface\":[{\"colorbar\":{\"outlinewidth\":0,\"ticks\":\"\"},\"colorscale\":[[0.0,\"#0d0887\"],[0.1111111111111111,\"#46039f\"],[0.2222222222222222,\"#7201a8\"],[0.3333333333333333,\"#9c179e\"],[0.4444444444444444,\"#bd3786\"],[0.5555555555555556,\"#d8576b\"],[0.6666666666666666,\"#ed7953\"],[0.7777777777777778,\"#fb9f3a\"],[0.8888888888888888,\"#fdca26\"],[1.0,\"#f0f921\"]],\"type\":\"surface\"}],\"table\":[{\"cells\":{\"fill\":{\"color\":\"#EBF0F8\"},\"line\":{\"color\":\"white\"}},\"header\":{\"fill\":{\"color\":\"#C8D4E3\"},\"line\":{\"color\":\"white\"}},\"type\":\"table\"}]},\"layout\":{\"annotationdefaults\":{\"arrowcolor\":\"#2a3f5f\",\"arrowhead\":0,\"arrowwidth\":1},\"autotypenumbers\":\"strict\",\"coloraxis\":{\"colorbar\":{\"outlinewidth\":0,\"ticks\":\"\"}},\"colorscale\":{\"diverging\":[[0,\"#8e0152\"],[0.1,\"#c51b7d\"],[0.2,\"#de77ae\"],[0.3,\"#f1b6da\"],[0.4,\"#fde0ef\"],[0.5,\"#f7f7f7\"],[0.6,\"#e6f5d0\"],[0.7,\"#b8e186\"],[0.8,\"#7fbc41\"],[0.9,\"#4d9221\"],[1,\"#276419\"]],\"sequential\":[[0.0,\"#0d0887\"],[0.1111111111111111,\"#46039f\"],[0.2222222222222222,\"#7201a8\"],[0.3333333333333333,\"#9c179e\"],[0.4444444444444444,\"#bd3786\"],[0.5555555555555556,\"#d8576b\"],[0.6666666666666666,\"#ed7953\"],[0.7777777777777778,\"#fb9f3a\"],[0.8888888888888888,\"#fdca26\"],[1.0,\"#f0f921\"]],\"sequentialminus\":[[0.0,\"#0d0887\"],[0.1111111111111111,\"#46039f\"],[0.2222222222222222,\"#7201a8\"],[0.3333333333333333,\"#9c179e\"],[0.4444444444444444,\"#bd3786\"],[0.5555555555555556,\"#d8576b\"],[0.6666666666666666,\"#ed7953\"],[0.7777777777777778,\"#fb9f3a\"],[0.8888888888888888,\"#fdca26\"],[1.0,\"#f0f921\"]]},\"colorway\":[\"#636efa\",\"#EF553B\",\"#00cc96\",\"#ab63fa\",\"#FFA15A\",\"#19d3f3\",\"#FF6692\",\"#B6E880\",\"#FF97FF\",\"#FECB52\"],\"font\":{\"color\":\"#2a3f5f\"},\"geo\":{\"bgcolor\":\"white\",\"lakecolor\":\"white\",\"landcolor\":\"#E5ECF6\",\"showlakes\":true,\"showland\":true,\"subunitcolor\":\"white\"},\"hoverlabel\":{\"align\":\"left\"},\"hovermode\":\"closest\",\"mapbox\":{\"style\":\"light\"},\"paper_bgcolor\":\"white\",\"plot_bgcolor\":\"#E5ECF6\",\"polar\":{\"angularaxis\":{\"gridcolor\":\"white\",\"linecolor\":\"white\",\"ticks\":\"\"},\"bgcolor\":\"#E5ECF6\",\"radialaxis\":{\"gridcolor\":\"white\",\"linecolor\":\"white\",\"ticks\":\"\"}},\"scene\":{\"xaxis\":{\"backgroundcolor\":\"#E5ECF6\",\"gridcolor\":\"white\",\"gridwidth\":2,\"linecolor\":\"white\",\"showbackground\":true,\"ticks\":\"\",\"zerolinecolor\":\"white\"},\"yaxis\":{\"backgroundcolor\":\"#E5ECF6\",\"gridcolor\":\"white\",\"gridwidth\":2,\"linecolor\":\"white\",\"showbackground\":true,\"ticks\":\"\",\"zerolinecolor\":\"white\"},\"zaxis\":{\"backgroundcolor\":\"#E5ECF6\",\"gridcolor\":\"white\",\"gridwidth\":2,\"linecolor\":\"white\",\"showbackground\":true,\"ticks\":\"\",\"zerolinecolor\":\"white\"}},\"shapedefaults\":{\"line\":{\"color\":\"#2a3f5f\"}},\"ternary\":{\"aaxis\":{\"gridcolor\":\"white\",\"linecolor\":\"white\",\"ticks\":\"\"},\"baxis\":{\"gridcolor\":\"white\",\"linecolor\":\"white\",\"ticks\":\"\"},\"bgcolor\":\"#E5ECF6\",\"caxis\":{\"gridcolor\":\"white\",\"linecolor\":\"white\",\"ticks\":\"\"}},\"title\":{\"x\":0.05},\"xaxis\":{\"automargin\":true,\"gridcolor\":\"white\",\"linecolor\":\"white\",\"ticks\":\"\",\"title\":{\"standoff\":15},\"zerolinecolor\":\"white\",\"zerolinewidth\":2},\"yaxis\":{\"automargin\":true,\"gridcolor\":\"white\",\"linecolor\":\"white\",\"ticks\":\"\",\"title\":{\"standoff\":15},\"zerolinecolor\":\"white\",\"zerolinewidth\":2}}},\"xaxis\":{\"anchor\":\"y\",\"domain\":[0.0,1.0],\"title\":{\"text\":\"zscore_mean\"}},\"yaxis\":{\"anchor\":\"x\",\"domain\":[0.0,1.0],\"title\":{\"text\":\"normstd\"},\"type\":\"log\"}},                        {\"responsive\": true}                    ).then(function(){\n",
       "                            \n",
       "var gd = document.getElementById('77545d1c-7ba4-4f65-b65f-539ad5e620b1');\n",
       "var x = new MutationObserver(function (mutations, observer) {{\n",
       "        var display = window.getComputedStyle(gd).display;\n",
       "        if (!display || display === 'none') {{\n",
       "            console.log([gd, 'removed!']);\n",
       "            Plotly.purge(gd);\n",
       "            observer.disconnect();\n",
       "        }}\n",
       "}});\n",
       "\n",
       "// Listen for the removal of the full notebook cells\n",
       "var notebookContainer = gd.closest('#notebook-container');\n",
       "if (notebookContainer) {{\n",
       "    x.observe(notebookContainer, {childList: true});\n",
       "}}\n",
       "\n",
       "// Listen for the clearing of the current output cell\n",
       "var outputEl = gd.closest('.output');\n",
       "if (outputEl) {{\n",
       "    x.observe(outputEl, {childList: true});\n",
       "}}\n",
       "\n",
       "                        })                };                });            </script>        </div>"
      ]
     },
     "metadata": {},
     "output_type": "display_data"
    }
   ],
   "source": [
    "px.scatter(df1_exp, x=\"zscore_mean\", y=\"normstd\", log_y=True, hover_data=[df1_exp.index])"
   ]
  },
  {
   "cell_type": "code",
   "execution_count": 33,
   "id": "planned-foundation",
   "metadata": {},
   "outputs": [
    {
     "data": {
      "text/html": [
       "<div>\n",
       "<style scoped>\n",
       "    .dataframe tbody tr th:only-of-type {\n",
       "        vertical-align: middle;\n",
       "    }\n",
       "\n",
       "    .dataframe tbody tr th {\n",
       "        vertical-align: top;\n",
       "    }\n",
       "\n",
       "    .dataframe thead th {\n",
       "        text-align: right;\n",
       "    }\n",
       "</style>\n",
       "<table border=\"1\" class=\"dataframe\">\n",
       "  <thead>\n",
       "    <tr style=\"text-align: right;\">\n",
       "      <th></th>\n",
       "      <th>gene</th>\n",
       "      <th>day</th>\n",
       "      <th>log2FC</th>\n",
       "      <th>lfcSE</th>\n",
       "      <th>lfc_pvalue</th>\n",
       "      <th>lfc_padj</th>\n",
       "      <th>z-score</th>\n",
       "      <th>CI</th>\n",
       "      <th>zscore_pval</th>\n",
       "      <th>zscore_padj</th>\n",
       "      <th>library</th>\n",
       "      <th>dir_change</th>\n",
       "      <th>rank</th>\n",
       "      <th>ShortName</th>\n",
       "      <th>locus_tag</th>\n",
       "    </tr>\n",
       "  </thead>\n",
       "  <tbody>\n",
       "    <tr>\n",
       "      <th>483</th>\n",
       "      <td>STM2208</td>\n",
       "      <td>d1</td>\n",
       "      <td>-0.058030</td>\n",
       "      <td>0.270035</td>\n",
       "      <td>0.829847</td>\n",
       "      <td>0.982528</td>\n",
       "      <td>1.347197</td>\n",
       "      <td>1.335691</td>\n",
       "      <td>0.177917</td>\n",
       "      <td>0.241630</td>\n",
       "      <td>library_11_1</td>\n",
       "      <td>1</td>\n",
       "      <td>0.616850</td>\n",
       "      <td>STM2208</td>\n",
       "      <td>SL1344_2185</td>\n",
       "    </tr>\n",
       "    <tr>\n",
       "      <th>484</th>\n",
       "      <td>STM3026</td>\n",
       "      <td>d1</td>\n",
       "      <td>0.316734</td>\n",
       "      <td>0.261272</td>\n",
       "      <td>0.225407</td>\n",
       "      <td>0.735491</td>\n",
       "      <td>2.620521</td>\n",
       "      <td>1.731892</td>\n",
       "      <td>0.008780</td>\n",
       "      <td>0.032363</td>\n",
       "      <td>library_11_1</td>\n",
       "      <td>1</td>\n",
       "      <td>1.489957</td>\n",
       "      <td>STM3026</td>\n",
       "      <td>SL1344_3005</td>\n",
       "    </tr>\n",
       "    <tr>\n",
       "      <th>535</th>\n",
       "      <td>acrB</td>\n",
       "      <td>d1</td>\n",
       "      <td>-0.081880</td>\n",
       "      <td>0.212604</td>\n",
       "      <td>0.700141</td>\n",
       "      <td>0.982528</td>\n",
       "      <td>1.505914</td>\n",
       "      <td>1.313791</td>\n",
       "      <td>0.132089</td>\n",
       "      <td>0.194192</td>\n",
       "      <td>library_11_1</td>\n",
       "      <td>1</td>\n",
       "      <td>0.711768</td>\n",
       "      <td>acrB</td>\n",
       "      <td>SL1344_0468</td>\n",
       "    </tr>\n",
       "    <tr>\n",
       "      <th>536</th>\n",
       "      <td>acrE</td>\n",
       "      <td>d1</td>\n",
       "      <td>0.073492</td>\n",
       "      <td>0.135587</td>\n",
       "      <td>0.587797</td>\n",
       "      <td>0.959138</td>\n",
       "      <td>2.694027</td>\n",
       "      <td>1.463181</td>\n",
       "      <td>0.007059</td>\n",
       "      <td>0.028182</td>\n",
       "      <td>library_11_1</td>\n",
       "      <td>1</td>\n",
       "      <td>1.550028</td>\n",
       "      <td>acrE</td>\n",
       "      <td>SL1344_3363</td>\n",
       "    </tr>\n",
       "    <tr>\n",
       "      <th>537</th>\n",
       "      <td>adiY</td>\n",
       "      <td>d1</td>\n",
       "      <td>0.277212</td>\n",
       "      <td>0.328332</td>\n",
       "      <td>0.398500</td>\n",
       "      <td>0.871282</td>\n",
       "      <td>2.080282</td>\n",
       "      <td>1.685092</td>\n",
       "      <td>0.037500</td>\n",
       "      <td>0.083609</td>\n",
       "      <td>library_11_1</td>\n",
       "      <td>1</td>\n",
       "      <td>1.077749</td>\n",
       "      <td>adiY</td>\n",
       "      <td>SL1344_4232</td>\n",
       "    </tr>\n",
       "    <tr>\n",
       "      <th>...</th>\n",
       "      <td>...</td>\n",
       "      <td>...</td>\n",
       "      <td>...</td>\n",
       "      <td>...</td>\n",
       "      <td>...</td>\n",
       "      <td>...</td>\n",
       "      <td>...</td>\n",
       "      <td>...</td>\n",
       "      <td>...</td>\n",
       "      <td>...</td>\n",
       "      <td>...</td>\n",
       "      <td>...</td>\n",
       "      <td>...</td>\n",
       "      <td>...</td>\n",
       "      <td>...</td>\n",
       "    </tr>\n",
       "    <tr>\n",
       "      <th>39711</th>\n",
       "      <td>ysaA</td>\n",
       "      <td>d1</td>\n",
       "      <td>0.826433</td>\n",
       "      <td>0.463590</td>\n",
       "      <td>0.074638</td>\n",
       "      <td>0.995191</td>\n",
       "      <td>1.680728</td>\n",
       "      <td>1.754086</td>\n",
       "      <td>0.092816</td>\n",
       "      <td>0.999790</td>\n",
       "      <td>library_10_2</td>\n",
       "      <td>1</td>\n",
       "      <td>0.000091</td>\n",
       "      <td>ysaA</td>\n",
       "      <td>SL1344_3631</td>\n",
       "    </tr>\n",
       "    <tr>\n",
       "      <th>39712</th>\n",
       "      <td>ytfF</td>\n",
       "      <td>d1</td>\n",
       "      <td>-0.066796</td>\n",
       "      <td>0.456000</td>\n",
       "      <td>0.883540</td>\n",
       "      <td>0.995191</td>\n",
       "      <td>-0.173677</td>\n",
       "      <td>0.944414</td>\n",
       "      <td>0.862119</td>\n",
       "      <td>0.999790</td>\n",
       "      <td>library_10_2</td>\n",
       "      <td>-1</td>\n",
       "      <td>-0.000091</td>\n",
       "      <td>ytfF</td>\n",
       "      <td>SL1344_4333</td>\n",
       "    </tr>\n",
       "    <tr>\n",
       "      <th>39713</th>\n",
       "      <td>ytfG</td>\n",
       "      <td>d1</td>\n",
       "      <td>-0.096825</td>\n",
       "      <td>0.381158</td>\n",
       "      <td>0.799474</td>\n",
       "      <td>0.995191</td>\n",
       "      <td>-0.278710</td>\n",
       "      <td>0.924959</td>\n",
       "      <td>0.780467</td>\n",
       "      <td>0.999790</td>\n",
       "      <td>library_10_2</td>\n",
       "      <td>-1</td>\n",
       "      <td>-0.000091</td>\n",
       "      <td>ytfG</td>\n",
       "      <td>SL1344_4334</td>\n",
       "    </tr>\n",
       "    <tr>\n",
       "      <th>39714</th>\n",
       "      <td>ytfJ</td>\n",
       "      <td>d1</td>\n",
       "      <td>0.085803</td>\n",
       "      <td>0.389561</td>\n",
       "      <td>0.825671</td>\n",
       "      <td>0.995191</td>\n",
       "      <td>0.170236</td>\n",
       "      <td>1.049782</td>\n",
       "      <td>0.864825</td>\n",
       "      <td>0.999790</td>\n",
       "      <td>library_10_2</td>\n",
       "      <td>1</td>\n",
       "      <td>0.000091</td>\n",
       "      <td>ytfJ</td>\n",
       "      <td>SL1344_4338</td>\n",
       "    </tr>\n",
       "    <tr>\n",
       "      <th>39715</th>\n",
       "      <td>ytfM</td>\n",
       "      <td>d1</td>\n",
       "      <td>-0.625408</td>\n",
       "      <td>0.416149</td>\n",
       "      <td>0.132878</td>\n",
       "      <td>0.995191</td>\n",
       "      <td>-1.467217</td>\n",
       "      <td>0.641214</td>\n",
       "      <td>0.142317</td>\n",
       "      <td>0.999790</td>\n",
       "      <td>library_10_2</td>\n",
       "      <td>-1</td>\n",
       "      <td>-0.000091</td>\n",
       "      <td>ytfM</td>\n",
       "      <td>SL1344_4342</td>\n",
       "    </tr>\n",
       "  </tbody>\n",
       "</table>\n",
       "<p>5383 rows × 15 columns</p>\n",
       "</div>"
      ],
      "text/plain": [
       "          gene day    log2FC     lfcSE  lfc_pvalue  lfc_padj   z-score  \\\n",
       "483    STM2208  d1 -0.058030  0.270035    0.829847  0.982528  1.347197   \n",
       "484    STM3026  d1  0.316734  0.261272    0.225407  0.735491  2.620521   \n",
       "535       acrB  d1 -0.081880  0.212604    0.700141  0.982528  1.505914   \n",
       "536       acrE  d1  0.073492  0.135587    0.587797  0.959138  2.694027   \n",
       "537       adiY  d1  0.277212  0.328332    0.398500  0.871282  2.080282   \n",
       "...        ...  ..       ...       ...         ...       ...       ...   \n",
       "39711     ysaA  d1  0.826433  0.463590    0.074638  0.995191  1.680728   \n",
       "39712     ytfF  d1 -0.066796  0.456000    0.883540  0.995191 -0.173677   \n",
       "39713     ytfG  d1 -0.096825  0.381158    0.799474  0.995191 -0.278710   \n",
       "39714     ytfJ  d1  0.085803  0.389561    0.825671  0.995191  0.170236   \n",
       "39715     ytfM  d1 -0.625408  0.416149    0.132878  0.995191 -1.467217   \n",
       "\n",
       "             CI  zscore_pval  zscore_padj       library  dir_change      rank  \\\n",
       "483    1.335691     0.177917     0.241630  library_11_1           1  0.616850   \n",
       "484    1.731892     0.008780     0.032363  library_11_1           1  1.489957   \n",
       "535    1.313791     0.132089     0.194192  library_11_1           1  0.711768   \n",
       "536    1.463181     0.007059     0.028182  library_11_1           1  1.550028   \n",
       "537    1.685092     0.037500     0.083609  library_11_1           1  1.077749   \n",
       "...         ...          ...          ...           ...         ...       ...   \n",
       "39711  1.754086     0.092816     0.999790  library_10_2           1  0.000091   \n",
       "39712  0.944414     0.862119     0.999790  library_10_2          -1 -0.000091   \n",
       "39713  0.924959     0.780467     0.999790  library_10_2          -1 -0.000091   \n",
       "39714  1.049782     0.864825     0.999790  library_10_2           1  0.000091   \n",
       "39715  0.641214     0.142317     0.999790  library_10_2          -1 -0.000091   \n",
       "\n",
       "      ShortName    locus_tag  \n",
       "483     STM2208  SL1344_2185  \n",
       "484     STM3026  SL1344_3005  \n",
       "535        acrB  SL1344_0468  \n",
       "536        acrE  SL1344_3363  \n",
       "537        adiY  SL1344_4232  \n",
       "...         ...          ...  \n",
       "39711      ysaA  SL1344_3631  \n",
       "39712      ytfF  SL1344_4333  \n",
       "39713      ytfG  SL1344_4334  \n",
       "39714      ytfJ  SL1344_4338  \n",
       "39715      ytfM  SL1344_4342  \n",
       "\n",
       "[5383 rows x 15 columns]"
      ]
     },
     "execution_count": 33,
     "metadata": {},
     "output_type": "execute_result"
    }
   ],
   "source": [
    "df1"
   ]
  },
  {
   "cell_type": "code",
   "execution_count": 37,
   "id": "broke-england",
   "metadata": {},
   "outputs": [],
   "source": [
    "ranked = df1.groupby('locus_tag').agg({'rank':['mean', 'median', 'min', 'max', 'std']}).dropna().reset_index()\n",
    "ranked.columns = ['locus_tag', 'rank_mean', 'rank_median','rank_min', 'rank_max', 'rank_std'\n",
    "]"
   ]
  },
  {
   "cell_type": "code",
   "execution_count": 38,
   "id": "foreign-marathon",
   "metadata": {},
   "outputs": [
    {
     "data": {
      "text/html": [
       "<div>\n",
       "<style scoped>\n",
       "    .dataframe tbody tr th:only-of-type {\n",
       "        vertical-align: middle;\n",
       "    }\n",
       "\n",
       "    .dataframe tbody tr th {\n",
       "        vertical-align: top;\n",
       "    }\n",
       "\n",
       "    .dataframe thead th {\n",
       "        text-align: right;\n",
       "    }\n",
       "</style>\n",
       "<table border=\"1\" class=\"dataframe\">\n",
       "  <thead>\n",
       "    <tr style=\"text-align: right;\">\n",
       "      <th></th>\n",
       "      <th>locus_tag</th>\n",
       "      <th>rank_mean</th>\n",
       "      <th>rank_median</th>\n",
       "      <th>rank_min</th>\n",
       "      <th>rank_max</th>\n",
       "      <th>rank_std</th>\n",
       "    </tr>\n",
       "  </thead>\n",
       "  <tbody>\n",
       "    <tr>\n",
       "      <th>831</th>\n",
       "      <td>SL1344_3688</td>\n",
       "      <td>-11.376263</td>\n",
       "      <td>-13.153502</td>\n",
       "      <td>-18.194556</td>\n",
       "      <td>-2.780730</td>\n",
       "      <td>7.859099</td>\n",
       "    </tr>\n",
       "    <tr>\n",
       "      <th>954</th>\n",
       "      <td>SL1344_4114</td>\n",
       "      <td>-9.087819</td>\n",
       "      <td>-10.307042</td>\n",
       "      <td>-11.149808</td>\n",
       "      <td>-5.806606</td>\n",
       "      <td>2.872687</td>\n",
       "    </tr>\n",
       "    <tr>\n",
       "      <th>819</th>\n",
       "      <td>SL1344_3671</td>\n",
       "      <td>-7.749186</td>\n",
       "      <td>-7.749186</td>\n",
       "      <td>-10.582658</td>\n",
       "      <td>-4.915713</td>\n",
       "      <td>4.007135</td>\n",
       "    </tr>\n",
       "    <tr>\n",
       "      <th>828</th>\n",
       "      <td>SL1344_3684</td>\n",
       "      <td>-5.866575</td>\n",
       "      <td>-4.768088</td>\n",
       "      <td>-15.383558</td>\n",
       "      <td>-0.486954</td>\n",
       "      <td>4.126538</td>\n",
       "    </tr>\n",
       "    <tr>\n",
       "      <th>772</th>\n",
       "      <td>SL1344_3562</td>\n",
       "      <td>-5.449985</td>\n",
       "      <td>-5.449985</td>\n",
       "      <td>-9.015146</td>\n",
       "      <td>-1.884825</td>\n",
       "      <td>5.041898</td>\n",
       "    </tr>\n",
       "    <tr>\n",
       "      <th>1025</th>\n",
       "      <td>SL1344_4350</td>\n",
       "      <td>-5.349233</td>\n",
       "      <td>-5.349233</td>\n",
       "      <td>-10.094996</td>\n",
       "      <td>-0.603470</td>\n",
       "      <td>6.711523</td>\n",
       "    </tr>\n",
       "    <tr>\n",
       "      <th>830</th>\n",
       "      <td>SL1344_3687</td>\n",
       "      <td>-4.926578</td>\n",
       "      <td>-5.495722</td>\n",
       "      <td>-7.432556</td>\n",
       "      <td>-2.976874</td>\n",
       "      <td>1.863965</td>\n",
       "    </tr>\n",
       "    <tr>\n",
       "      <th>275</th>\n",
       "      <td>SL1344_1311</td>\n",
       "      <td>-3.200556</td>\n",
       "      <td>-3.200556</td>\n",
       "      <td>-3.724168</td>\n",
       "      <td>-2.676943</td>\n",
       "      <td>0.740500</td>\n",
       "    </tr>\n",
       "    <tr>\n",
       "      <th>434</th>\n",
       "      <td>SL1344_2067</td>\n",
       "      <td>-2.741056</td>\n",
       "      <td>-2.411730</td>\n",
       "      <td>-4.758295</td>\n",
       "      <td>-0.434539</td>\n",
       "      <td>1.660010</td>\n",
       "    </tr>\n",
       "    <tr>\n",
       "      <th>436</th>\n",
       "      <td>SL1344_2069</td>\n",
       "      <td>-2.738203</td>\n",
       "      <td>-3.264337</td>\n",
       "      <td>-4.116479</td>\n",
       "      <td>-0.307658</td>\n",
       "      <td>1.703066</td>\n",
       "    </tr>\n",
       "    <tr>\n",
       "      <th>435</th>\n",
       "      <td>SL1344_2068</td>\n",
       "      <td>-2.651248</td>\n",
       "      <td>-1.838045</td>\n",
       "      <td>-8.253069</td>\n",
       "      <td>-0.018625</td>\n",
       "      <td>3.010285</td>\n",
       "    </tr>\n",
       "    <tr>\n",
       "      <th>661</th>\n",
       "      <td>SL1344_3121</td>\n",
       "      <td>-2.444420</td>\n",
       "      <td>-2.783838</td>\n",
       "      <td>-2.974178</td>\n",
       "      <td>-1.575244</td>\n",
       "      <td>0.758721</td>\n",
       "    </tr>\n",
       "    <tr>\n",
       "      <th>201</th>\n",
       "      <td>SL1344_0915</td>\n",
       "      <td>-2.365705</td>\n",
       "      <td>-2.365705</td>\n",
       "      <td>-3.248914</td>\n",
       "      <td>-1.482495</td>\n",
       "      <td>1.249047</td>\n",
       "    </tr>\n",
       "    <tr>\n",
       "      <th>433</th>\n",
       "      <td>SL1344_2066</td>\n",
       "      <td>-2.115681</td>\n",
       "      <td>-0.860649</td>\n",
       "      <td>-5.560157</td>\n",
       "      <td>0.073763</td>\n",
       "      <td>3.019369</td>\n",
       "    </tr>\n",
       "    <tr>\n",
       "      <th>930</th>\n",
       "      <td>SL1344_4049</td>\n",
       "      <td>-1.989516</td>\n",
       "      <td>0.000091</td>\n",
       "      <td>-5.969575</td>\n",
       "      <td>0.000937</td>\n",
       "      <td>3.446833</td>\n",
       "    </tr>\n",
       "    <tr>\n",
       "      <th>314</th>\n",
       "      <td>SL1344_1397</td>\n",
       "      <td>-1.938134</td>\n",
       "      <td>-1.938134</td>\n",
       "      <td>-2.465310</td>\n",
       "      <td>-1.410957</td>\n",
       "      <td>0.745540</td>\n",
       "    </tr>\n",
       "    <tr>\n",
       "      <th>662</th>\n",
       "      <td>SL1344_3123</td>\n",
       "      <td>-1.825941</td>\n",
       "      <td>-2.296430</td>\n",
       "      <td>-3.008294</td>\n",
       "      <td>-0.173099</td>\n",
       "      <td>1.474993</td>\n",
       "    </tr>\n",
       "    <tr>\n",
       "      <th>498</th>\n",
       "      <td>SL1344_2299</td>\n",
       "      <td>-1.624976</td>\n",
       "      <td>-1.624976</td>\n",
       "      <td>-3.004245</td>\n",
       "      <td>-0.245707</td>\n",
       "      <td>1.950580</td>\n",
       "    </tr>\n",
       "    <tr>\n",
       "      <th>660</th>\n",
       "      <td>SL1344_3119</td>\n",
       "      <td>-1.541623</td>\n",
       "      <td>-1.541623</td>\n",
       "      <td>-2.572937</td>\n",
       "      <td>-0.510309</td>\n",
       "      <td>1.458498</td>\n",
       "    </tr>\n",
       "    <tr>\n",
       "      <th>578</th>\n",
       "      <td>SL1344_2838</td>\n",
       "      <td>-1.501881</td>\n",
       "      <td>-1.501881</td>\n",
       "      <td>-2.153185</td>\n",
       "      <td>-0.850578</td>\n",
       "      <td>0.921083</td>\n",
       "    </tr>\n",
       "    <tr>\n",
       "      <th>936</th>\n",
       "      <td>SL1344_4060</td>\n",
       "      <td>-1.501087</td>\n",
       "      <td>-0.708535</td>\n",
       "      <td>-5.436963</td>\n",
       "      <td>0.849685</td>\n",
       "      <td>2.785517</td>\n",
       "    </tr>\n",
       "    <tr>\n",
       "      <th>1126</th>\n",
       "      <td>SL1344_RS24690</td>\n",
       "      <td>-1.379057</td>\n",
       "      <td>-1.469492</td>\n",
       "      <td>-2.577042</td>\n",
       "      <td>-0.000202</td>\n",
       "      <td>1.121437</td>\n",
       "    </tr>\n",
       "    <tr>\n",
       "      <th>1039</th>\n",
       "      <td>SL1344_4382</td>\n",
       "      <td>-1.288620</td>\n",
       "      <td>-1.288620</td>\n",
       "      <td>-1.299161</td>\n",
       "      <td>-1.278079</td>\n",
       "      <td>0.014908</td>\n",
       "    </tr>\n",
       "    <tr>\n",
       "      <th>199</th>\n",
       "      <td>SL1344_0911</td>\n",
       "      <td>-1.255752</td>\n",
       "      <td>-1.242879</td>\n",
       "      <td>-2.450616</td>\n",
       "      <td>-0.073763</td>\n",
       "      <td>1.188479</td>\n",
       "    </tr>\n",
       "    <tr>\n",
       "      <th>829</th>\n",
       "      <td>SL1344_3685</td>\n",
       "      <td>-1.229200</td>\n",
       "      <td>-1.717221</td>\n",
       "      <td>-2.096103</td>\n",
       "      <td>-0.000869</td>\n",
       "      <td>0.787875</td>\n",
       "    </tr>\n",
       "    <tr>\n",
       "      <th>430</th>\n",
       "      <td>SL1344_2062</td>\n",
       "      <td>-1.059973</td>\n",
       "      <td>-1.521978</td>\n",
       "      <td>-1.768658</td>\n",
       "      <td>-0.073763</td>\n",
       "      <td>0.788109</td>\n",
       "    </tr>\n",
       "    <tr>\n",
       "      <th>186</th>\n",
       "      <td>SL1344_0819</td>\n",
       "      <td>-1.050028</td>\n",
       "      <td>-1.050028</td>\n",
       "      <td>-2.099635</td>\n",
       "      <td>-0.000420</td>\n",
       "      <td>1.484369</td>\n",
       "    </tr>\n",
       "    <tr>\n",
       "      <th>437</th>\n",
       "      <td>SL1344_2070</td>\n",
       "      <td>-0.982087</td>\n",
       "      <td>-0.992108</td>\n",
       "      <td>-2.332224</td>\n",
       "      <td>-0.000202</td>\n",
       "      <td>0.927050</td>\n",
       "    </tr>\n",
       "    <tr>\n",
       "      <th>232</th>\n",
       "      <td>SL1344_1087</td>\n",
       "      <td>-0.960284</td>\n",
       "      <td>-0.960284</td>\n",
       "      <td>-1.021748</td>\n",
       "      <td>-0.898820</td>\n",
       "      <td>0.086924</td>\n",
       "    </tr>\n",
       "    <tr>\n",
       "      <th>108</th>\n",
       "      <td>SL1344_0468</td>\n",
       "      <td>-0.935427</td>\n",
       "      <td>-0.617157</td>\n",
       "      <td>-3.219164</td>\n",
       "      <td>0.711768</td>\n",
       "      <td>1.682634</td>\n",
       "    </tr>\n",
       "    <tr>\n",
       "      <th>544</th>\n",
       "      <td>SL1344_2607</td>\n",
       "      <td>-0.856604</td>\n",
       "      <td>-0.856604</td>\n",
       "      <td>-1.299997</td>\n",
       "      <td>-0.413211</td>\n",
       "      <td>0.627052</td>\n",
       "    </tr>\n",
       "    <tr>\n",
       "      <th>827</th>\n",
       "      <td>SL1344_3683</td>\n",
       "      <td>-0.845172</td>\n",
       "      <td>-0.527669</td>\n",
       "      <td>-3.409564</td>\n",
       "      <td>-0.000202</td>\n",
       "      <td>1.286252</td>\n",
       "    </tr>\n",
       "    <tr>\n",
       "      <th>876</th>\n",
       "      <td>SL1344_3863</td>\n",
       "      <td>-0.790138</td>\n",
       "      <td>-0.790138</td>\n",
       "      <td>-1.583308</td>\n",
       "      <td>0.003032</td>\n",
       "      <td>1.121712</td>\n",
       "    </tr>\n",
       "    <tr>\n",
       "      <th>884</th>\n",
       "      <td>SL1344_3905</td>\n",
       "      <td>-0.758271</td>\n",
       "      <td>-0.758271</td>\n",
       "      <td>-1.481281</td>\n",
       "      <td>-0.035261</td>\n",
       "      <td>1.022491</td>\n",
       "    </tr>\n",
       "    <tr>\n",
       "      <th>337</th>\n",
       "      <td>SL1344_1503</td>\n",
       "      <td>-0.756806</td>\n",
       "      <td>-0.756806</td>\n",
       "      <td>-1.158905</td>\n",
       "      <td>-0.354707</td>\n",
       "      <td>0.568654</td>\n",
       "    </tr>\n",
       "    <tr>\n",
       "      <th>1063</th>\n",
       "      <td>SL1344_4488</td>\n",
       "      <td>-0.745274</td>\n",
       "      <td>-0.745274</td>\n",
       "      <td>-0.936134</td>\n",
       "      <td>-0.554414</td>\n",
       "      <td>0.269917</td>\n",
       "    </tr>\n",
       "    <tr>\n",
       "      <th>427</th>\n",
       "      <td>SL1344_2059</td>\n",
       "      <td>-0.731233</td>\n",
       "      <td>-1.131289</td>\n",
       "      <td>-1.279705</td>\n",
       "      <td>-0.000420</td>\n",
       "      <td>0.636515</td>\n",
       "    </tr>\n",
       "    <tr>\n",
       "      <th>432</th>\n",
       "      <td>SL1344_2064</td>\n",
       "      <td>-0.697517</td>\n",
       "      <td>-0.266127</td>\n",
       "      <td>-1.635102</td>\n",
       "      <td>-0.084234</td>\n",
       "      <td>0.705029</td>\n",
       "    </tr>\n",
       "    <tr>\n",
       "      <th>1020</th>\n",
       "      <td>SL1344_4340</td>\n",
       "      <td>-0.689487</td>\n",
       "      <td>-0.689487</td>\n",
       "      <td>-1.278079</td>\n",
       "      <td>-0.100896</td>\n",
       "      <td>0.832394</td>\n",
       "    </tr>\n",
       "    <tr>\n",
       "      <th>431</th>\n",
       "      <td>SL1344_2063</td>\n",
       "      <td>-0.628961</td>\n",
       "      <td>-0.073763</td>\n",
       "      <td>-1.975773</td>\n",
       "      <td>-0.000869</td>\n",
       "      <td>0.884161</td>\n",
       "    </tr>\n",
       "  </tbody>\n",
       "</table>\n",
       "</div>"
      ],
      "text/plain": [
       "           locus_tag  rank_mean  rank_median   rank_min  rank_max  rank_std\n",
       "831      SL1344_3688 -11.376263   -13.153502 -18.194556 -2.780730  7.859099\n",
       "954      SL1344_4114  -9.087819   -10.307042 -11.149808 -5.806606  2.872687\n",
       "819      SL1344_3671  -7.749186    -7.749186 -10.582658 -4.915713  4.007135\n",
       "828      SL1344_3684  -5.866575    -4.768088 -15.383558 -0.486954  4.126538\n",
       "772      SL1344_3562  -5.449985    -5.449985  -9.015146 -1.884825  5.041898\n",
       "1025     SL1344_4350  -5.349233    -5.349233 -10.094996 -0.603470  6.711523\n",
       "830      SL1344_3687  -4.926578    -5.495722  -7.432556 -2.976874  1.863965\n",
       "275      SL1344_1311  -3.200556    -3.200556  -3.724168 -2.676943  0.740500\n",
       "434      SL1344_2067  -2.741056    -2.411730  -4.758295 -0.434539  1.660010\n",
       "436      SL1344_2069  -2.738203    -3.264337  -4.116479 -0.307658  1.703066\n",
       "435      SL1344_2068  -2.651248    -1.838045  -8.253069 -0.018625  3.010285\n",
       "661      SL1344_3121  -2.444420    -2.783838  -2.974178 -1.575244  0.758721\n",
       "201      SL1344_0915  -2.365705    -2.365705  -3.248914 -1.482495  1.249047\n",
       "433      SL1344_2066  -2.115681    -0.860649  -5.560157  0.073763  3.019369\n",
       "930      SL1344_4049  -1.989516     0.000091  -5.969575  0.000937  3.446833\n",
       "314      SL1344_1397  -1.938134    -1.938134  -2.465310 -1.410957  0.745540\n",
       "662      SL1344_3123  -1.825941    -2.296430  -3.008294 -0.173099  1.474993\n",
       "498      SL1344_2299  -1.624976    -1.624976  -3.004245 -0.245707  1.950580\n",
       "660      SL1344_3119  -1.541623    -1.541623  -2.572937 -0.510309  1.458498\n",
       "578      SL1344_2838  -1.501881    -1.501881  -2.153185 -0.850578  0.921083\n",
       "936      SL1344_4060  -1.501087    -0.708535  -5.436963  0.849685  2.785517\n",
       "1126  SL1344_RS24690  -1.379057    -1.469492  -2.577042 -0.000202  1.121437\n",
       "1039     SL1344_4382  -1.288620    -1.288620  -1.299161 -1.278079  0.014908\n",
       "199      SL1344_0911  -1.255752    -1.242879  -2.450616 -0.073763  1.188479\n",
       "829      SL1344_3685  -1.229200    -1.717221  -2.096103 -0.000869  0.787875\n",
       "430      SL1344_2062  -1.059973    -1.521978  -1.768658 -0.073763  0.788109\n",
       "186      SL1344_0819  -1.050028    -1.050028  -2.099635 -0.000420  1.484369\n",
       "437      SL1344_2070  -0.982087    -0.992108  -2.332224 -0.000202  0.927050\n",
       "232      SL1344_1087  -0.960284    -0.960284  -1.021748 -0.898820  0.086924\n",
       "108      SL1344_0468  -0.935427    -0.617157  -3.219164  0.711768  1.682634\n",
       "544      SL1344_2607  -0.856604    -0.856604  -1.299997 -0.413211  0.627052\n",
       "827      SL1344_3683  -0.845172    -0.527669  -3.409564 -0.000202  1.286252\n",
       "876      SL1344_3863  -0.790138    -0.790138  -1.583308  0.003032  1.121712\n",
       "884      SL1344_3905  -0.758271    -0.758271  -1.481281 -0.035261  1.022491\n",
       "337      SL1344_1503  -0.756806    -0.756806  -1.158905 -0.354707  0.568654\n",
       "1063     SL1344_4488  -0.745274    -0.745274  -0.936134 -0.554414  0.269917\n",
       "427      SL1344_2059  -0.731233    -1.131289  -1.279705 -0.000420  0.636515\n",
       "432      SL1344_2064  -0.697517    -0.266127  -1.635102 -0.084234  0.705029\n",
       "1020     SL1344_4340  -0.689487    -0.689487  -1.278079 -0.100896  0.832394\n",
       "431      SL1344_2063  -0.628961    -0.073763  -1.975773 -0.000869  0.884161"
      ]
     },
     "execution_count": 38,
     "metadata": {},
     "output_type": "execute_result"
    }
   ],
   "source": [
    "ranked.sort_values('rank_mean').head(40)"
   ]
  },
  {
   "cell_type": "code",
   "execution_count": 47,
   "id": "faced-october",
   "metadata": {},
   "outputs": [],
   "source": [
    "# Try with mean\n",
    "ranked_mean = ranked[['locus_tag', 'rank_mean']]\n",
    "ranked_mean.to_csv(\"./ranked_mean.csv\")\n",
    "\n",
    "ranked_median = ranked[['locus_tag', 'rank_median']]\n",
    "ranked_median.to_csv(\"./ranked_median.csv\")\n",
    "\n",
    "\n",
    "ranked_median = ranked[['locus_tag', 'rank_min']]\n",
    "ranked_median.to_csv(\"./ranked_min.csv\")\n",
    "# Try with median\n",
    "\n",
    "# Try with max absolute rank for each gene\n",
    "\n",
    "\n",
    "# MEAN MAKES MOST SENSE"
   ]
  },
  {
   "cell_type": "code",
   "execution_count": 69,
   "id": "painted-philippines",
   "metadata": {},
   "outputs": [
    {
     "data": {
      "text/html": [
       "<div>\n",
       "<style scoped>\n",
       "    .dataframe tbody tr th:only-of-type {\n",
       "        vertical-align: middle;\n",
       "    }\n",
       "\n",
       "    .dataframe tbody tr th {\n",
       "        vertical-align: top;\n",
       "    }\n",
       "\n",
       "    .dataframe thead th {\n",
       "        text-align: right;\n",
       "    }\n",
       "</style>\n",
       "<table border=\"1\" class=\"dataframe\">\n",
       "  <thead>\n",
       "    <tr style=\"text-align: right;\">\n",
       "      <th></th>\n",
       "      <th>gene</th>\n",
       "      <th>day</th>\n",
       "      <th>log2FC</th>\n",
       "      <th>lfcSE</th>\n",
       "      <th>lfc_pvalue</th>\n",
       "      <th>lfc_padj</th>\n",
       "      <th>z-score</th>\n",
       "      <th>CI</th>\n",
       "      <th>zscore_pval</th>\n",
       "      <th>zscore_padj</th>\n",
       "      <th>library</th>\n",
       "      <th>dir_change</th>\n",
       "      <th>rank</th>\n",
       "    </tr>\n",
       "  </thead>\n",
       "  <tbody>\n",
       "    <tr>\n",
       "      <th>556</th>\n",
       "      <td>bapA</td>\n",
       "      <td>d1</td>\n",
       "      <td>0.138065</td>\n",
       "      <td>0.142078</td>\n",
       "      <td>0.331173</td>\n",
       "      <td>0.827216</td>\n",
       "      <td>2.947572</td>\n",
       "      <td>1.530158</td>\n",
       "      <td>0.003203</td>\n",
       "      <td>0.017774</td>\n",
       "      <td>library_11_1</td>\n",
       "      <td>1</td>\n",
       "      <td>1.750220</td>\n",
       "    </tr>\n",
       "    <tr>\n",
       "      <th>2758</th>\n",
       "      <td>bapA</td>\n",
       "      <td>d1</td>\n",
       "      <td>-0.532159</td>\n",
       "      <td>0.867261</td>\n",
       "      <td>0.539473</td>\n",
       "      <td>0.897385</td>\n",
       "      <td>-0.562771</td>\n",
       "      <td>0.694285</td>\n",
       "      <td>0.573591</td>\n",
       "      <td>0.968906</td>\n",
       "      <td>library_15_1</td>\n",
       "      <td>-1</td>\n",
       "      <td>-0.013718</td>\n",
       "    </tr>\n",
       "    <tr>\n",
       "      <th>1925</th>\n",
       "      <td>bapA</td>\n",
       "      <td>d1</td>\n",
       "      <td>-0.027793</td>\n",
       "      <td>0.218651</td>\n",
       "      <td>0.898851</td>\n",
       "      <td>0.983367</td>\n",
       "      <td>1.472555</td>\n",
       "      <td>1.298383</td>\n",
       "      <td>0.140871</td>\n",
       "      <td>0.359163</td>\n",
       "      <td>library_10_1</td>\n",
       "      <td>1</td>\n",
       "      <td>0.444708</td>\n",
       "    </tr>\n",
       "    <tr>\n",
       "      <th>540</th>\n",
       "      <td>bapA</td>\n",
       "      <td>d1</td>\n",
       "      <td>0.141675</td>\n",
       "      <td>0.354654</td>\n",
       "      <td>0.689545</td>\n",
       "      <td>0.998294</td>\n",
       "      <td>0.621251</td>\n",
       "      <td>1.182734</td>\n",
       "      <td>0.534435</td>\n",
       "      <td>0.997992</td>\n",
       "      <td>library_11_2</td>\n",
       "      <td>1</td>\n",
       "      <td>0.000873</td>\n",
       "    </tr>\n",
       "    <tr>\n",
       "      <th>636</th>\n",
       "      <td>bapA</td>\n",
       "      <td>d1</td>\n",
       "      <td>-0.130052</td>\n",
       "      <td>0.684118</td>\n",
       "      <td>0.849229</td>\n",
       "      <td>0.999154</td>\n",
       "      <td>-0.315263</td>\n",
       "      <td>0.851140</td>\n",
       "      <td>0.752562</td>\n",
       "      <td>0.999535</td>\n",
       "      <td>library_12_2</td>\n",
       "      <td>-1</td>\n",
       "      <td>-0.000202</td>\n",
       "    </tr>\n",
       "    <tr>\n",
       "      <th>576</th>\n",
       "      <td>bapA</td>\n",
       "      <td>d1</td>\n",
       "      <td>0.130621</td>\n",
       "      <td>0.737189</td>\n",
       "      <td>0.859361</td>\n",
       "      <td>0.999990</td>\n",
       "      <td>0.029578</td>\n",
       "      <td>1.015947</td>\n",
       "      <td>0.976403</td>\n",
       "      <td>0.999942</td>\n",
       "      <td>library_13_1</td>\n",
       "      <td>1</td>\n",
       "      <td>0.000025</td>\n",
       "    </tr>\n",
       "    <tr>\n",
       "      <th>3891</th>\n",
       "      <td>bapA</td>\n",
       "      <td>d1</td>\n",
       "      <td>0.320994</td>\n",
       "      <td>0.161563</td>\n",
       "      <td>0.046944</td>\n",
       "      <td>0.668332</td>\n",
       "      <td>1.940599</td>\n",
       "      <td>1.292771</td>\n",
       "      <td>0.052307</td>\n",
       "      <td>0.840530</td>\n",
       "      <td>library_14_2</td>\n",
       "      <td>1</td>\n",
       "      <td>0.075447</td>\n",
       "    </tr>\n",
       "  </tbody>\n",
       "</table>\n",
       "</div>"
      ],
      "text/plain": [
       "      gene day    log2FC     lfcSE  lfc_pvalue  lfc_padj   z-score        CI  \\\n",
       "556   bapA  d1  0.138065  0.142078    0.331173  0.827216  2.947572  1.530158   \n",
       "2758  bapA  d1 -0.532159  0.867261    0.539473  0.897385 -0.562771  0.694285   \n",
       "1925  bapA  d1 -0.027793  0.218651    0.898851  0.983367  1.472555  1.298383   \n",
       "540   bapA  d1  0.141675  0.354654    0.689545  0.998294  0.621251  1.182734   \n",
       "636   bapA  d1 -0.130052  0.684118    0.849229  0.999154 -0.315263  0.851140   \n",
       "576   bapA  d1  0.130621  0.737189    0.859361  0.999990  0.029578  1.015947   \n",
       "3891  bapA  d1  0.320994  0.161563    0.046944  0.668332  1.940599  1.292771   \n",
       "\n",
       "      zscore_pval  zscore_padj       library  dir_change      rank  \n",
       "556      0.003203     0.017774  library_11_1           1  1.750220  \n",
       "2758     0.573591     0.968906  library_15_1          -1 -0.013718  \n",
       "1925     0.140871     0.359163  library_10_1           1  0.444708  \n",
       "540      0.534435     0.997992  library_11_2           1  0.000873  \n",
       "636      0.752562     0.999535  library_12_2          -1 -0.000202  \n",
       "576      0.976403     0.999942  library_13_1           1  0.000025  \n",
       "3891     0.052307     0.840530  library_14_2           1  0.075447  "
      ]
     },
     "execution_count": 69,
     "metadata": {},
     "output_type": "execute_result"
    }
   ],
   "source": [
    "df1[df1.gene == 'bapA']"
   ]
  },
  {
   "cell_type": "code",
   "execution_count": 43,
   "id": "sublime-march",
   "metadata": {},
   "outputs": [
    {
     "data": {
      "text/html": [
       "<div>\n",
       "<style scoped>\n",
       "    .dataframe tbody tr th:only-of-type {\n",
       "        vertical-align: middle;\n",
       "    }\n",
       "\n",
       "    .dataframe tbody tr th {\n",
       "        vertical-align: top;\n",
       "    }\n",
       "\n",
       "    .dataframe thead th {\n",
       "        text-align: right;\n",
       "    }\n",
       "</style>\n",
       "<table border=\"1\" class=\"dataframe\">\n",
       "  <thead>\n",
       "    <tr style=\"text-align: right;\">\n",
       "      <th></th>\n",
       "      <th>locus_tag</th>\n",
       "      <th>rank_mean</th>\n",
       "    </tr>\n",
       "  </thead>\n",
       "  <tbody>\n",
       "    <tr>\n",
       "      <th>0</th>\n",
       "      <td>SL1344_0005</td>\n",
       "      <td>0.063922</td>\n",
       "    </tr>\n",
       "    <tr>\n",
       "      <th>1</th>\n",
       "      <td>SL1344_0006</td>\n",
       "      <td>0.187702</td>\n",
       "    </tr>\n",
       "    <tr>\n",
       "      <th>2</th>\n",
       "      <td>SL1344_0018</td>\n",
       "      <td>0.372327</td>\n",
       "    </tr>\n",
       "    <tr>\n",
       "      <th>3</th>\n",
       "      <td>SL1344_0021</td>\n",
       "      <td>0.474989</td>\n",
       "    </tr>\n",
       "    <tr>\n",
       "      <th>4</th>\n",
       "      <td>SL1344_0022</td>\n",
       "      <td>0.005941</td>\n",
       "    </tr>\n",
       "    <tr>\n",
       "      <th>...</th>\n",
       "      <td>...</td>\n",
       "      <td>...</td>\n",
       "    </tr>\n",
       "    <tr>\n",
       "      <th>1125</th>\n",
       "      <td>SL1344_RS24645</td>\n",
       "      <td>0.151143</td>\n",
       "    </tr>\n",
       "    <tr>\n",
       "      <th>1126</th>\n",
       "      <td>SL1344_RS24690</td>\n",
       "      <td>-1.379057</td>\n",
       "    </tr>\n",
       "    <tr>\n",
       "      <th>1127</th>\n",
       "      <td>SL1344_RS26285</td>\n",
       "      <td>0.276558</td>\n",
       "    </tr>\n",
       "    <tr>\n",
       "      <th>1128</th>\n",
       "      <td>SL1344_RS26320</td>\n",
       "      <td>0.007548</td>\n",
       "    </tr>\n",
       "    <tr>\n",
       "      <th>1129</th>\n",
       "      <td>SL1344_RS26425</td>\n",
       "      <td>0.640864</td>\n",
       "    </tr>\n",
       "  </tbody>\n",
       "</table>\n",
       "<p>1130 rows × 2 columns</p>\n",
       "</div>"
      ],
      "text/plain": [
       "           locus_tag  rank_mean\n",
       "0        SL1344_0005   0.063922\n",
       "1        SL1344_0006   0.187702\n",
       "2        SL1344_0018   0.372327\n",
       "3        SL1344_0021   0.474989\n",
       "4        SL1344_0022   0.005941\n",
       "...              ...        ...\n",
       "1125  SL1344_RS24645   0.151143\n",
       "1126  SL1344_RS24690  -1.379057\n",
       "1127  SL1344_RS26285   0.276558\n",
       "1128  SL1344_RS26320   0.007548\n",
       "1129  SL1344_RS26425   0.640864\n",
       "\n",
       "[1130 rows x 2 columns]"
      ]
     },
     "execution_count": 43,
     "metadata": {},
     "output_type": "execute_result"
    }
   ],
   "source": [
    "ranked_mean"
   ]
  },
  {
   "cell_type": "code",
   "execution_count": null,
   "id": "acute-highland",
   "metadata": {},
   "outputs": [],
   "source": []
  }
 ],
 "metadata": {
  "kernelspec": {
   "display_name": "Python 3",
   "language": "python",
   "name": "python3"
  },
  "language_info": {
   "codemirror_mode": {
    "name": "ipython",
    "version": 3
   },
   "file_extension": ".py",
   "mimetype": "text/x-python",
   "name": "python",
   "nbconvert_exporter": "python",
   "pygments_lexer": "ipython3",
   "version": "3.6.6"
  }
 },
 "nbformat": 4,
 "nbformat_minor": 5
}
