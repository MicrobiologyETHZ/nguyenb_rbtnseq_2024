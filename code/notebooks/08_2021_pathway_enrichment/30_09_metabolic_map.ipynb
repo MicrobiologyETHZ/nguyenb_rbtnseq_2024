{
 "cells": [
  {
   "cell_type": "code",
   "execution_count": null,
   "id": "5acdfc40",
   "metadata": {},
   "outputs": [],
   "source": [
    "import pandas as pd\n",
    "import matplotlib.pyplot as plt\n",
    "import seaborn as sns\n",
    "\n",
    "from heatmap import heatmap\n",
    "import numpy as np\n",
    "from pylab import rcParams\n",
    "rcParams['figure.figsize'] = 7,7 \n"
   ]
  },
  {
   "cell_type": "code",
   "execution_count": null,
   "id": "d0b1f8a9",
   "metadata": {},
   "outputs": [],
   "source": [
    "# Analysis Plan\n",
    "# Get all \"Energy\" genes\n",
    "# Plot CI for them, for each day, differnt symbol if it's a hit.\n",
    "# Try plot where it's done for each library"
   ]
  },
  {
   "cell_type": "code",
   "execution_count": null,
   "id": "72f4f23e",
   "metadata": {},
   "outputs": [],
   "source": [
    "glycolysis = ['glk',\n",
    " 'pgi',\n",
    " 'pfkA',\n",
    " 'pfkB',\n",
    " 'fbp',\n",
    " 'glpX',\n",
    " 'fbaB',\n",
    " 'fba',\n",
    " 'tpiA',\n",
    " 'gapA',\n",
    " 'pgk',\n",
    " 'gpmA',\n",
    " 'gpmB',\n",
    " 'pmgI',\n",
    " 'eno',\n",
    " 'pykA',\n",
    " 'pykF',\n",
    " 'pps',\n",
    " 'aceE',\n",
    " 'aceF',\n",
    " 'lpdA',\n",
    " 'nifJ',\n",
    " 'adhC',\n",
    " 'adh',\n",
    " 'adhP',\n",
    " 'yjgB',\n",
    " 'eutG',\n",
    " 'aldB',\n",
    " 'acs',\n",
    " 'galM',\n",
    " 'yihR',\n",
    " 'agp',\n",
    " 'yihX',\n",
    " 'pgm',\n",
    " 'yeaD',\n",
    " 'pckA',\n",
    " 'celF',\n",
    " 'bglA',\n",
    " 'crr',\n",
    " 'ptsG',\n",
    " 'PTS']"
   ]
  },
  {
   "cell_type": "code",
   "execution_count": null,
   "id": "73036356",
   "metadata": {},
   "outputs": [],
   "source": [
    "res =  pd.read_csv(\"../../../data/results/26-07-final-results.csv\", index_col=0)"
   ]
  },
  {
   "cell_type": "code",
   "execution_count": null,
   "id": "ab0b1051",
   "metadata": {},
   "outputs": [],
   "source": [
    "g_df = res[res.gene.isin(glycolysis)].copy()\n",
    "g_df['hits'] = g_df.zscore_padj < 0.05"
   ]
  },
  {
   "cell_type": "code",
   "execution_count": null,
   "id": "cf8f44b1",
   "metadata": {},
   "outputs": [],
   "source": [
    "dtg = g_df.groupby(['gene', 'day']).agg({'CI':['median'], 'hits':['sum']}).reset_index() \n",
    "dtg.columns = ['gene', 'day', 'CI', 'hits']\n",
    "dtg['CI'] = np.log2(dtg['CI'])\n",
    "dtg['hits_size'] = dtg.hits.apply(lambda x: 's' if x > 0 else 'h')\n"
   ]
  },
  {
   "cell_type": "code",
   "execution_count": null,
   "id": "4cf471b6",
   "metadata": {},
   "outputs": [],
   "source": [
    "dtg.head()"
   ]
  },
  {
   "cell_type": "code",
   "execution_count": null,
   "id": "146e572b",
   "metadata": {},
   "outputs": [],
   "source": [
    "def draw_ecm_heatmap(df, x_order=['d1', 'd2', 'd3', 'd4']):\n",
    "    p = heatmap(\n",
    "    x=df['day'], # Column to use as horizontal dimension \n",
    "    y=df['gene'], # Column to use as vertical dimension\n",
    "    size_scale=900,\n",
    "    #marker = list(df['hits_size'].values),\n",
    "    #size=df['hits'], # Change this to see how it affects the plot\n",
    "    x_order=x_order, # Sort order for x labels\n",
    "    #y_order=bin_labels[::-1], # Sort order for y labels\n",
    "    color=df['CI'], # Values to map to color, here we use number of items in each bucket\n",
    "    palette=sns.diverging_palette(220, 20, n=200), # We'll use black->red palette\n",
    "    color_range = (-4, 4)\n",
    "    )\n",
    "    return p"
   ]
  },
  {
   "cell_type": "code",
   "execution_count": null,
   "id": "daec68bb",
   "metadata": {},
   "outputs": [],
   "source": [
    "\n",
    "sns.set(color_codes=True, font_scale=1.2)\n",
    "fig = plt.figure(figsize=(3, 18))\n",
    "fig.suptitle(\"Glycolysis\", fontsize=28)\n",
    "p = draw_ecm_heatmap(dtg)\n",
    "\n",
    "#fig.savefig(Path(dataDir)/\"core_matrisome_externa.png\", dpi=300, bbox_inches = \"tight\")"
   ]
  },
  {
   "cell_type": "code",
   "execution_count": null,
   "id": "81ff20cc",
   "metadata": {},
   "outputs": [],
   "source": []
  },
  {
   "cell_type": "code",
   "execution_count": null,
   "id": "ed322b57",
   "metadata": {},
   "outputs": [],
   "source": []
  }
 ],
 "metadata": {
  "kernelspec": {
   "display_name": "Python 3 (ipykernel)",
   "language": "python",
   "name": "python3"
  },
  "language_info": {
   "codemirror_mode": {
    "name": "ipython",
    "version": 3
   },
   "file_extension": ".py",
   "mimetype": "text/x-python",
   "name": "python",
   "nbconvert_exporter": "python",
   "pygments_lexer": "ipython3",
   "version": "3.8.10"
  }
 },
 "nbformat": 4,
 "nbformat_minor": 5
}
