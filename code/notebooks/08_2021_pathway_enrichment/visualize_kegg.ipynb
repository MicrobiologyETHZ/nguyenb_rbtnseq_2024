{
 "cells": [
  {
   "cell_type": "code",
   "execution_count": null,
   "id": "extensive-series",
   "metadata": {},
   "outputs": [],
   "source": [
    "import Bio\n",
    "Bio.__version__"
   ]
  },
  {
   "cell_type": "code",
   "execution_count": null,
   "id": "elect-skirt",
   "metadata": {
    "ExecuteTime": {
     "end_time": "2022-03-04T09:57:34.423634Z",
     "start_time": "2022-03-04T09:57:34.080763Z"
    }
   },
   "outputs": [],
   "source": [
    "from Bio import SeqIO\n",
    "from Bio.KEGG.REST import *\n",
    "from Bio.KEGG.KGML import KGML_parser\n",
    "from Bio.Graphics.KGML_vis import KGMLCanvas\n",
    "from Bio.Graphics.ColorSpiral import ColorSpiral\n",
    "\n",
    "from IPython.display import Image, HTML\n",
    "\n",
    "import random"
   ]
  },
  {
   "cell_type": "markdown",
   "id": "derived-marketplace",
   "metadata": {},
   "source": [
    "Going through https://nbviewer.jupyter.org/github/widdowquinn/notebooks/blob/master/Biopython_KGML_intro.ipynb"
   ]
  },
  {
   "cell_type": "code",
   "execution_count": null,
   "id": "acoustic-setup",
   "metadata": {},
   "outputs": [],
   "source": [
    "# A bit of code that will help us display the PDF output\n",
    "def PDF(filename):\n",
    "    return HTML('<iframe src=%s width=700 height=350></iframe>' % filename)\n",
    "\n",
    "# A bit of helper code to shorten long text\n",
    "def head(text, lines=10):\n",
    "    \"\"\" Print the first lines lines of the passed text.\n",
    "    \"\"\"\n",
    "    print ('\\n'.join(text.split('\\n')[:lines] + ['[...]']))"
   ]
  },
  {
   "cell_type": "code",
   "execution_count": null,
   "id": "textile-airfare",
   "metadata": {
    "ExecuteTime": {
     "end_time": "2022-03-04T09:57:56.684579Z",
     "start_time": "2022-03-04T09:57:56.123328Z"
    }
   },
   "outputs": [],
   "source": [
    "# Kyoto Encyclopedia of Genes and Genomes\n",
    "print(kegg_info(\"kegg\").read())"
   ]
  },
  {
   "cell_type": "code",
   "execution_count": null,
   "id": "eleven-highway",
   "metadata": {
    "ExecuteTime": {
     "end_time": "2022-03-04T09:58:03.421405Z",
     "start_time": "2022-03-04T09:58:02.697830Z"
    }
   },
   "outputs": [],
   "source": [
    "print(kegg_info(\"sey\").read())"
   ]
  },
  {
   "cell_type": "code",
   "execution_count": null,
   "id": "found-explorer",
   "metadata": {
    "ExecuteTime": {
     "end_time": "2022-03-04T09:57:42.841464Z",
     "start_time": "2022-03-04T09:57:41.265408Z"
    }
   },
   "outputs": [],
   "source": [
    "# Escherichia coli K-12 MG1655 KEGG Genes Database\n",
    "sey_pathways = kegg_list('pathway', 'sey').read().strip().split(\"\\n\")\n",
    "sey_pathways = [[k.split('\\t')[0], k.split('\\t')[1]] for k in sey_pathways]"
   ]
  },
  {
   "cell_type": "code",
   "execution_count": null,
   "id": "grateful-intelligence",
   "metadata": {
    "ExecuteTime": {
     "end_time": "2022-03-04T09:57:48.589186Z",
     "start_time": "2022-03-04T09:57:48.568447Z"
    }
   },
   "outputs": [],
   "source": [
    "sey_pathways"
   ]
  },
  {
   "cell_type": "code",
   "execution_count": null,
   "id": "462e3e7c",
   "metadata": {
    "ExecuteTime": {
     "end_time": "2022-03-04T09:58:19.947101Z",
     "start_time": "2022-03-04T09:58:19.314765Z"
    }
   },
   "outputs": [],
   "source": [
    "kegg_get(sey_pathways[0][0]).read()"
   ]
  },
  {
   "cell_type": "code",
   "execution_count": null,
   "id": "68d2bf3f",
   "metadata": {},
   "outputs": [],
   "source": [
    "len(sey_pathways)"
   ]
  },
  {
   "cell_type": "code",
   "execution_count": null,
   "id": "brazilian-lindsay",
   "metadata": {},
   "outputs": [],
   "source": [
    "[c[1] for c in sey_pathways if 'pyruvate' in c[1]]"
   ]
  },
  {
   "cell_type": "code",
   "execution_count": null,
   "id": "headed-lesson",
   "metadata": {
    "ExecuteTime": {
     "end_time": "2022-03-04T10:12:01.385480Z",
     "start_time": "2022-03-04T10:11:02.184022Z"
    }
   },
   "outputs": [],
   "source": [
    "gmt_symbol = []\n",
    "for pathway in sey_pathways:\n",
    "    genes = []\n",
    "    print(pathway[0])\n",
    "    path_file = kegg_get(pathway[0]).read()\n",
    "    current_section = None\n",
    "    for line in path_file.rstrip().split(\"\\n\"):\n",
    "        section = line[:12].strip()\n",
    "        if not section == \"\":\n",
    "            current_section = section\n",
    "        if current_section == 'GENE':\n",
    "            if ';' in line:\n",
    "                gene_identifiers, gene_description = line[12:].split(\"; \")[0:2]\n",
    "                gene_id, gene_symbol = gene_identifiers.split()\n",
    "            else: \n",
    "                gene_id, gene_symbol = line[12:].strip().split()[0:2]\n",
    "                if len(gene_symbol) > 4:\n",
    "                    gene_symbol = gene_id\n",
    "            if not gene_symbol in genes:\n",
    "                genes.append(gene_symbol)\n",
    "            if 'hypothetical' in gene_symbol:\n",
    "                    print(gene_id)\n",
    "                    print(gene_symbol)\n",
    "    \n",
    "    gmt_symbol.append([pathway[0], pathway[1]] + genes)"
   ]
  },
  {
   "cell_type": "code",
   "execution_count": null,
   "id": "tracked-publicity",
   "metadata": {
    "ExecuteTime": {
     "end_time": "2022-03-04T10:12:36.764137Z",
     "start_time": "2022-03-04T10:12:36.734005Z"
    }
   },
   "outputs": [],
   "source": [
    "import pandas as pd\n",
    "#gdf = pd.DataFrame(gmt)\n",
    "gdf_symbol = pd.DataFrame(gmt_symbol)"
   ]
  },
  {
   "cell_type": "code",
   "execution_count": null,
   "id": "patient-restaurant",
   "metadata": {
    "ExecuteTime": {
     "end_time": "2022-03-04T10:12:54.016481Z",
     "start_time": "2022-03-04T10:12:54.011534Z"
    }
   },
   "outputs": [],
   "source": [
    "gdf_symbol[0] = gdf_symbol[0].str.strip(\"path:\")"
   ]
  },
  {
   "cell_type": "code",
   "execution_count": null,
   "id": "announced-physics",
   "metadata": {
    "ExecuteTime": {
     "end_time": "2022-03-04T10:12:58.992526Z",
     "start_time": "2022-03-04T10:12:58.962218Z"
    }
   },
   "outputs": [],
   "source": [
    "gdf_symbol"
   ]
  },
  {
   "cell_type": "code",
   "execution_count": null,
   "id": "roman-jackson",
   "metadata": {
    "ExecuteTime": {
     "end_time": "2022-03-04T10:14:19.000299Z",
     "start_time": "2022-03-04T10:14:18.987550Z"
    }
   },
   "outputs": [],
   "source": [
    "gdf_symbol.to_csv(\"../../../data/04-03-2022-SL1344-KEGG-API.gmt\", sep=\"\\t\", index=False)"
   ]
  },
  {
   "cell_type": "code",
   "execution_count": null,
   "id": "serial-booking",
   "metadata": {},
   "outputs": [],
   "source": [
    "gdf.to_csv(\"./15-09-sey.gmt\", sep=\"\\t\")\n",
    "gdf_symbol.to_csv(\"./15-09-sey_symbol.gmt\", sep=\"\\t\")"
   ]
  },
  {
   "cell_type": "code",
   "execution_count": null,
   "id": "french-jumping",
   "metadata": {},
   "outputs": [],
   "source": [
    "gdf.sample(5)"
   ]
  },
  {
   "cell_type": "code",
   "execution_count": null,
   "id": "terminal-tucson",
   "metadata": {},
   "outputs": [],
   "source": [
    "print(kegg_list('C01290+G00092').read())"
   ]
  },
  {
   "cell_type": "code",
   "execution_count": null,
   "id": "subjective-timothy",
   "metadata": {},
   "outputs": [],
   "source": [
    "path:sey00640"
   ]
  },
  {
   "cell_type": "code",
   "execution_count": null,
   "id": "cosmetic-element",
   "metadata": {},
   "outputs": [],
   "source": [
    "for line in kegg_get(\"path:sey00190\").read().split('\\n'):\n",
    "    if 'L24009' in line:\n",
    "        print(line)"
   ]
  },
  {
   "cell_type": "code",
   "execution_count": null,
   "id": "accepted-classics",
   "metadata": {},
   "outputs": [],
   "source": [
    "Image(kegg_get(\"sey00190\", \"image\").read())"
   ]
  },
  {
   "cell_type": "code",
   "execution_count": null,
   "id": "fitted-destruction",
   "metadata": {},
   "outputs": [],
   "source": [
    "# What are these???\n",
    "# Render reference fatty-acid biosynthesis\n",
    "#Image(kegg_get(\"ko00061\", \"image\").read()) #KEGG orthologes\n",
    "Image(kegg_get(\"eco00061\", \"image\").read()) # E.coli version\n",
    "#Image(kegg_get(\"rn00061\", \"image\").read())"
   ]
  },
  {
   "cell_type": "code",
   "execution_count": null,
   "id": "sonic-shark",
   "metadata": {},
   "outputs": [],
   "source": [
    "pathway = KGML_parser.read(kegg_get(\"sey00190\", \"kgml\"))\n",
    "print(pathway)"
   ]
  },
  {
   "cell_type": "code",
   "execution_count": null,
   "id": "distant-surname",
   "metadata": {},
   "outputs": [],
   "source": [
    "for o in pathway.orthologs:\n",
    "    for a in o.graphics:\n",
    "        if 'K00330' in a.name:\n",
    "            print(a.bgcolor)\n",
    "        print(a.name)"
   ]
  },
  {
   "cell_type": "code",
   "execution_count": null,
   "id": "chronic-humor",
   "metadata": {},
   "outputs": [],
   "source": [
    "element = pathway.orthologs[1].graphics[0]\n",
    "attrs = [element.name, element.x, element.y, element.coords, element.type, \n",
    "         element.width, element.height, element.fgcolor, element.bgcolor, \n",
    "         element.bounds, element.centre]\n",
    "print ('\\n'.join([str(attr) for attr in attrs]))"
   ]
  },
  {
   "cell_type": "code",
   "execution_count": null,
   "id": "warming-governor",
   "metadata": {},
   "outputs": [],
   "source": [
    "orthologs = [e for e in pathway.orthologs]\n",
    "for o in orthologs:\n",
    "    for g in o.graphics:\n",
    "        print(g.name)"
   ]
  },
  {
   "cell_type": "code",
   "execution_count": null,
   "id": "collect-surgery",
   "metadata": {},
   "outputs": [],
   "source": [
    "# for orth in pathway.orthologs:\n",
    "#     element = orth.graphics[0]\n",
    "#     attrs = [element.name, element.x, element.y, element.coords, element.type, \n",
    "#          element.width, element.height, element.fgcolor, element.bgcolor, \n",
    "#          element.bounds, element.centre]\n",
    "#     print ('\\n'.join([str(attr) for attr in attrs]))"
   ]
  },
  {
   "cell_type": "code",
   "execution_count": null,
   "id": "announced-adaptation",
   "metadata": {},
   "outputs": [],
   "source": [
    "# Helper function to convert colour as RGB tuple to hex string\n",
    "def rgb_to_hex(rgb):\n",
    "    rgb = tuple([int(255*val) for val in rgb])\n",
    "    return '#' + ''.join([hex(val)[2:] for val in rgb]).upper()"
   ]
  },
  {
   "cell_type": "code",
   "execution_count": null,
   "id": "popular-range",
   "metadata": {},
   "outputs": [],
   "source": [
    "pathway = KGML_parser.read(kegg_get(\"sey00020\", \"kgml\"))\n",
    "canvas = KGMLCanvas(pathway, import_imagemap=True)\n",
    "\n",
    "\n",
    "# Define arbitrary colours\n",
    "colorspiral = ColorSpiral()\n",
    "colorlist = colorspiral.get_colors(len(pathway.orthologs))\n",
    "\n",
    "# Change the colours of ortholog elements\n",
    "for color, element in zip(colorlist, pathway.orthologs):\n",
    "    for graphic in element.graphics:\n",
    "        graphic.bgcolor = rgb_to_hex(color)\n",
    "        graphic.name = graphic.name.strip('...')"
   ]
  },
  {
   "cell_type": "code",
   "execution_count": null,
   "id": "immediate-haven",
   "metadata": {},
   "outputs": [],
   "source": [
    "canvas = KGMLCanvas(pathway, import_imagemap=True)\n",
    "canvas.draw(\"fab_map_new_colours.pdf\")\n",
    "PDF(\"fab_map_new_colours.pdf\")"
   ]
  },
  {
   "cell_type": "code",
   "execution_count": null,
   "id": "proprietary-ladder",
   "metadata": {},
   "outputs": [],
   "source": [
    "pathway = KGML_parser.read(kegg_get(\"sey00520\", \"kgml\"))\n",
    "\n",
    "# Change the widths of reaction entries elements\n",
    "for element in pathway.orthologs:\n",
    "    \n",
    "    for graphic in element.graphics:\n",
    "        print(graphic.name)\n",
    "        print(graphic.type)\n",
    "        print(graphic.width)\n",
    "     #   graphic.width = random.randrange(1, 10, 1)"
   ]
  },
  {
   "cell_type": "code",
   "execution_count": null,
   "id": "published-station",
   "metadata": {},
   "outputs": [],
   "source": []
  }
 ],
 "metadata": {
  "kernelspec": {
   "display_name": "Python 3",
   "language": "python",
   "name": "python3"
  },
  "language_info": {
   "codemirror_mode": {
    "name": "ipython",
    "version": 3
   },
   "file_extension": ".py",
   "mimetype": "text/x-python",
   "name": "python",
   "nbconvert_exporter": "python",
   "pygments_lexer": "ipython3",
   "version": "3.6.6"
  },
  "toc": {
   "base_numbering": 1,
   "nav_menu": {},
   "number_sections": true,
   "sideBar": true,
   "skip_h1_title": false,
   "title_cell": "Table of Contents",
   "title_sidebar": "Contents",
   "toc_cell": false,
   "toc_position": {},
   "toc_section_display": true,
   "toc_window_display": false
  }
 },
 "nbformat": 4,
 "nbformat_minor": 5
}
