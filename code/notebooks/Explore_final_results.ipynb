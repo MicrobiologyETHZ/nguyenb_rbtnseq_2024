{
 "cells": [
  {
   "cell_type": "code",
   "execution_count": null,
   "id": "wicked-point",
   "metadata": {},
   "outputs": [],
   "source": [
    "import pandas as pd\n",
    "from tnseq2.src.analysis import *\n",
    "from pathlib import Path\n",
    "import plotnine as p9\n",
    "import seaborn as sns\n",
    "\n",
    "root = \"/Users/ansintsova/git_repos/nguyenb_tnseq/data/13_04_results\"\n",
    "counts = 'counts'\n",
    "results = 'results'\n",
    "control_file = Path(root)/'controls.txt'\n",
    "\n",
    "import warnings\n",
    "warnings.filterwarnings('ignore')"
   ]
  },
  {
   "cell_type": "code",
   "execution_count": null,
   "id": "desirable-agency",
   "metadata": {},
   "outputs": [],
   "source": [
    "fres = pd.read_csv(Path(root)/results/\"16_04_final_results_merged.csv\")"
   ]
  },
  {
   "cell_type": "code",
   "execution_count": null,
   "id": "secret-tribune",
   "metadata": {},
   "outputs": [],
   "source": [
    "# WT \n",
    "\n",
    "def cntrl_df(fdf, phenotype = 'wt'):\n",
    "    wt = fdf[fdf.gene.isin([i for i in fdf.gene if phenotype in str(i)])]\n",
    "    wt = wt[['gene', 'experiment', 'dnaid', 'd1_fitness_mean', 'd2_fitness_mean', 'd3_fitness_mean', 'd4_fitness_mean']].drop_duplicates()\n",
    "    wt = wt.melt(id_vars=['gene', 'experiment', 'dnaid'],var_name = 'day', value_name='fitness')\n",
    "\n",
    "    replace_map = {'d1_fitness_mean': 'Day 1', \n",
    "                      'd2_fitness_mean': 'Day 2',\n",
    "                      'd3_fitness_mean': 'Day 3',\n",
    "                      'd4_fitness_mean': 'Day 4'}\n",
    "    wt = wt.replace({'day':replace_map})\n",
    "    return wt\n"
   ]
  },
  {
   "cell_type": "markdown",
   "id": "refined-smooth",
   "metadata": {},
   "source": [
    "# Summarizing results across experiements:\n",
    "\n",
    "## Experiments analyzed:\n"
   ]
  },
  {
   "cell_type": "code",
   "execution_count": null,
   "id": "generic-relevance",
   "metadata": {},
   "outputs": [],
   "source": [
    "fres[['library', 'dnaid', 'experiment']].drop_duplicates().dropna().set_index('experiment').sort_index()"
   ]
  },
  {
   "cell_type": "code",
   "execution_count": null,
   "id": "intended-methodology",
   "metadata": {},
   "outputs": [],
   "source": []
  },
  {
   "cell_type": "code",
   "execution_count": null,
   "id": "electric-cycle",
   "metadata": {},
   "outputs": [],
   "source": [
    "print(f\"Number of genes: {fres.dropna(subset=['locus']).gene.nunique()}\")\n",
    "\n",
    "num_exp_per_gene = fres.dropna(subset=['locus'])[['gene', 'experiment']].drop_duplicates().groupby('gene').experiment.nunique().reset_index()\n",
    "#num_exp_per_gene.experiment.hist(bins=70)\n",
    "print(num_exp_per_gene[num_exp_per_gene.experiment <3].shape[0])\n",
    "p9.options.figure_size = (15, 10)\n",
    "p = p9.ggplot(num_exp_per_gene, p9.aes(x=\"experiment\"))\n",
    "(p + p9.geom_histogram(bins=19, color='white')\n",
    "+ p9.theme_classic()\n",
    "#+ p9.ggtitle(\"Number of experiments each gene was present (in the inoculum)\\n\")\n",
    "+ p9.labs( y = '# of genes')\n",
    "+ p9.theme(\n",
    "    plot_title = p9.element_text(family = \"Arial\", size = 24, hjust = 0), # Title size and font.\n",
    "    axis_text = p9.element_text(family = \"Arial\", size = 18), # Size and font of x and y values.\n",
    "    axis_title = p9.element_text(family = \"Arial\", size = 18), # Size and font of x and y axes.\n",
    "    panel_border = p9.element_rect(colour = \"black\", fill = np.nan, size = 1.5), # Black border around the plot area.\n",
    "    axis_ticks = p9.element_line(colour = \"black\", size = 1), # Style of x and y ticks.\n",
    "    legend_text = p9.element_text(family = \"Arial\", size = 18),\n",
    "    strip_text = p9.element_text(family = \"Arial\", size = 18),\n",
    "  ))\n",
    "\n"
   ]
  },
  {
   "cell_type": "code",
   "execution_count": null,
   "id": "helpful-motivation",
   "metadata": {},
   "outputs": [],
   "source": [
    "query_str = \"d1_padj < 0.01 or d2_padj < 0.01 or d3_padj < 0.01 or d4_padj < 0.01\"\n",
    "#query_str = \"d1_padj < 0.01 \"#or d2_padj < 0.01 or d3_padj < 0.01 or d4_padj < 0.01\"\n",
    "hit_genes = fres.query(query_str).gene.values\n",
    "num_exp_per_hit = fres.dropna(subset=['locus'])[fres.gene.isin(hit_genes)][['gene', 'experiment']].drop_duplicates().groupby('gene').experiment.nunique().reset_index()\n",
    "p9.options.figure_size = (15, 10)\n",
    "p = p9.ggplot(num_exp_per_hit, p9.aes(x=\"experiment\"))\n",
    "(p + p9.geom_histogram(bins=19, color='white')\n",
    "+ p9.theme_classic()\n",
    "#+ p9.ggtitle(\"Number of experiments each gene was present (in the inoculum)\\n\")\n",
    "+ p9.labs( y = '# of genes')\n",
    "+ p9.theme(\n",
    "    plot_title = p9.element_text(family = \"Arial\", size = 24, hjust = 0), # Title size and font.\n",
    "    axis_text = p9.element_text(family = \"Arial\", size = 18), # Size and font of x and y values.\n",
    "    axis_title = p9.element_text(family = \"Arial\", size = 18), # Size and font of x and y axes.\n",
    "    panel_border = p9.element_rect(colour = \"black\", fill = np.nan, size = 1.5), # Black border around the plot area.\n",
    "    axis_ticks = p9.element_line(colour = \"black\", size = 1), # Style of x and y ticks.\n",
    "    legend_text = p9.element_text(family = \"Arial\", size = 18),\n",
    "    strip_text = p9.element_text(family = \"Arial\", size = 18),\n",
    "  ))"
   ]
  },
  {
   "cell_type": "code",
   "execution_count": null,
   "id": "opened-stupid",
   "metadata": {},
   "outputs": [],
   "source": [
    "num_exp_per_hit.sample(10)"
   ]
  },
  {
   "cell_type": "code",
   "execution_count": null,
   "id": "possible-insertion",
   "metadata": {},
   "outputs": [],
   "source": [
    "fres[fres.gene == 'yiiG'][['gene', 'experiment']].nunique()"
   ]
  },
  {
   "cell_type": "code",
   "execution_count": null,
   "id": "focal-death",
   "metadata": {},
   "outputs": [],
   "source": [
    "dpi1"
   ]
  },
  {
   "cell_type": "markdown",
   "id": "short-allowance",
   "metadata": {},
   "source": [
    "## WT strain fitness across experiments:\n",
    "\n",
    "This graph shows (mean) fitness (log2FC over inoculum) for WT barcodes in each of the experiments. Each point represents mean fitness value for each of the mice in the experiment. Ideally, fitness value would be 0.  "
   ]
  },
  {
   "cell_type": "code",
   "execution_count": null,
   "id": "adaptive-zoning",
   "metadata": {},
   "outputs": [],
   "source": [
    "wt = cntrl_df(fres)\n",
    "p9.options.figure_size = (20, 25)\n",
    "p = p9.ggplot(p9.aes(x='day', y='fitness', color='dnaid'), wt)\n",
    "(p + p9.geom_jitter(size=5, height=0, width=0.05) \n",
    "+ p9.theme_classic()\n",
    "+ p9.ggtitle(\"WT Fitness\\n\")\n",
    "+ p9.labs( y = 'Fitness (log2FC)')\n",
    "+ p9.theme(\n",
    "    plot_title = p9.element_text(family = \"Arial\", size = 24, hjust = 0), # Title size and font.\n",
    "    axis_text = p9.element_text(family = \"Arial\", size = 18), # Size and font of x and y values.\n",
    "    axis_title = p9.element_text(family = \"Arial\", size = 18), # Size and font of x and y axes.\n",
    "    panel_border = p9.element_rect(colour = \"black\", fill = np.nan, size = 1.5), # Black border around the plot area.\n",
    "    axis_ticks = p9.element_line(colour = \"black\", size = 1), # Style of x and y ticks.\n",
    "    legend_text = p9.element_text(family = \"Arial\", size = 18),\n",
    "    strip_text = p9.element_text(family = \"Arial\", size = 18),\n",
    "  )\n",
    "+ p9.scale_y_continuous(breaks=[-1.5, -1, -0.5, 0, 0.5, 1, 1.5], limits=[-1.5, 1.5])\n",
    "+ p9.facet_wrap('~ experiment', ncol=4))"
   ]
  },
  {
   "cell_type": "markdown",
   "id": "quality-channel",
   "metadata": {},
   "source": [
    "## hyb controls fitness across experiments:\n",
    "\n",
    "This graph shows fitness (log2FC over inoculum) for hyb barcodes in each of the experiments. "
   ]
  },
  {
   "cell_type": "code",
   "execution_count": null,
   "id": "casual-microphone",
   "metadata": {},
   "outputs": [],
   "source": [
    "hyb = cntrl_df(fres, 'hyb-')\n",
    "p9.options.figure_size = (20, 25)\n",
    "p = p9.ggplot(p9.aes(x='day', y='fitness', color='dnaid'), hyb)\n",
    "(p + p9.geom_jitter(size=5, height=0, width=0.05) \n",
    "+ p9.theme_classic()\n",
    "+ p9.ggtitle(\"hyb Fitness\\n\")\n",
    "+ p9.labs( y = 'Fitness (log2FC)')\n",
    "+ p9.theme(\n",
    "    plot_title = p9.element_text(family = \"Arial\", size = 24, hjust = 0), # Title size and font.\n",
    "    axis_text = p9.element_text(family = \"Arial\", size = 18), # Size and font of x and y values.\n",
    "    axis_title = p9.element_text(family = \"Arial\", size = 18), # Size and font of x and y axes.\n",
    "    panel_border = p9.element_rect(colour = \"black\", fill = np.nan, size = 1.5), # Black border around the plot area.\n",
    "    axis_ticks = p9.element_line(colour = \"black\", size = 1), # Style of x and y ticks.\n",
    "    legend_text = p9.element_text(family = \"Arial\", size = 18),\n",
    "    strip_text = p9.element_text(family = \"Arial\", size = 18),\n",
    "  )\n",
    "#+ p9.scale_y_continuous(breaks=[-1.5, -1, -0.5, 0, 0.5, 1, 1.5], limits=[-1.5, 1.5])\n",
    "+ p9.facet_wrap('~ experiment', ncol=4))"
   ]
  },
  {
   "cell_type": "markdown",
   "id": "controlling-disability",
   "metadata": {},
   "source": [
    "## chey controls fitness across experiments:\n",
    "\n",
    "This graph shows fitness (log2FC over inoculum) for chey barcodes in each of the experiments. "
   ]
  },
  {
   "cell_type": "code",
   "execution_count": null,
   "id": "useful-venice",
   "metadata": {},
   "outputs": [],
   "source": [
    "chey = cntrl_df(fres, 'chey-')\n",
    "p9.options.figure_size = (20, 25)\n",
    "p = p9.ggplot(p9.aes(x='day', y='fitness', color='dnaid'), chey)\n",
    "(p + p9.geom_jitter(size=5, height=0, width=0.05) \n",
    "+ p9.theme_classic()\n",
    "+ p9.ggtitle(\"chey Fitness\\n\")\n",
    "+ p9.labs( y = 'Fitness (log2FC)')\n",
    "+ p9.theme(\n",
    "    plot_title = p9.element_text(family = \"Arial\", size = 24, hjust = 0), # Title size and font.\n",
    "    axis_text = p9.element_text(family = \"Arial\", size = 18), # Size and font of x and y values.\n",
    "    axis_title = p9.element_text(family = \"Arial\", size = 18), # Size and font of x and y axes.\n",
    "    panel_border = p9.element_rect(colour = \"black\", fill = np.nan, size = 1.5), # Black border around the plot area.\n",
    "    axis_ticks = p9.element_line(colour = \"black\", size = 1), # Style of x and y ticks.\n",
    "    legend_text = p9.element_text(family = \"Arial\", size = 18),\n",
    "    strip_text = p9.element_text(family = \"Arial\", size = 18),\n",
    "  )\n",
    "#+ p9.scale_y_continuous(breaks=[-1.5, -1, -0.5, 0, 0.5, 1, 1.5], limits=[-1.5, 1.5])\n",
    "+ p9.facet_wrap('~ experiment', ncol=4))"
   ]
  },
  {
   "cell_type": "markdown",
   "id": "cross-pipeline",
   "metadata": {},
   "source": [
    "## ssaV_invG controls fitness across experiments:\n",
    "\n",
    "This graph shows fitness (log2FC over inoculum) for ssaV control barcodes in each of the experiments. "
   ]
  },
  {
   "cell_type": "code",
   "execution_count": null,
   "id": "introductory-throw",
   "metadata": {},
   "outputs": [],
   "source": [
    "ssa = cntrl_df(fres, 'ssaV_')\n",
    "p9.options.figure_size = (20, 25)\n",
    "p = p9.ggplot(p9.aes(x='day', y='fitness', color='dnaid'), ssa)\n",
    "(p + p9.geom_jitter(size=5, height=0, width=0.05) \n",
    "+ p9.theme_classic()\n",
    "+ p9.ggtitle(\"ssaV Fitness\\n\")\n",
    "+ p9.labs( y = 'Fitness (log2FC)')\n",
    "+ p9.theme(\n",
    "    plot_title = p9.element_text(family = \"Arial\", size = 24, hjust = 0), # Title size and font.\n",
    "    axis_text = p9.element_text(family = \"Arial\", size = 18), # Size and font of x and y values.\n",
    "    axis_title = p9.element_text(family = \"Arial\", size = 18), # Size and font of x and y axes.\n",
    "    panel_border = p9.element_rect(colour = \"black\", fill = np.nan, size = 1.5), # Black border around the plot area.\n",
    "    axis_ticks = p9.element_line(colour = \"black\", size = 1), # Style of x and y ticks.\n",
    "    legend_text = p9.element_text(family = \"Arial\", size = 18),\n",
    "    strip_text = p9.element_text(family = \"Arial\", size = 18),\n",
    "  )\n",
    "#+ p9.scale_y_continuous(breaks=[-1.5, -1, -0.5, 0, 0.5, 1, 1.5], limits=[-1.5, 1.5])\n",
    "+ p9.facet_wrap('~ experiment', ncol=4))"
   ]
  },
  {
   "cell_type": "markdown",
   "id": "received-society",
   "metadata": {},
   "source": [
    "# Looking at some genes of interest\n",
    "\n",
    "- Check consistency of results for genes with known fitness defects\n",
    "- Looking at **CI values** for each gene across experiments\n",
    "- Each point is CI value for the gene from a specific experiment\n"
   ]
  },
  {
   "cell_type": "code",
   "execution_count": null,
   "id": "abroad-drunk",
   "metadata": {},
   "outputs": [],
   "source": [
    "def get_gene(fdf, search_str='rfa'):\n",
    "    lps = fdf[fdf.gene.isin([i for i in fdf.gene if search_str in i])]\n",
    "    lps = lps[['gene', 'experiment', 'dnaid', 'd1_ci', 'd2_ci', 'd3_ci', 'd4_ci']].drop_duplicates()\n",
    "    lps = lps.melt(id_vars=['gene', 'experiment', 'dnaid'],var_name = 'day', value_name='CI')\n",
    "\n",
    "    replace_map_ci = {'d1_ci': 'Day 1', \n",
    "                          'd2_ci': 'Day 2',\n",
    "                          'd3_ci': 'Day 3',\n",
    "                          'd4_ci': 'Day 4'}\n",
    "    lps = lps.replace({'day':replace_map_ci})\n",
    "    return lps"
   ]
  },
  {
   "cell_type": "code",
   "execution_count": null,
   "id": "urban-trainer",
   "metadata": {},
   "outputs": [],
   "source": [
    "rfa = get_gene(fres, search_str='rfa')\n",
    "rfb = get_gene(fres, search_str='rfb')\n",
    "frd = get_gene(fres, search_str='frd')\n",
    "dcu = get_gene(fres, search_str='dcu')\n",
    "hil = get_gene(fres, search_str='hil')\n",
    "flg = get_gene(fres, search_str= 'flg')\n",
    "rfb = get_gene(fres, search_str='rfb')\n",
    "frd = get_gene(fres, search_str='frd')\n",
    "dcu = get_gene(fres, search_str='dcu')\n",
    "hil = get_gene(fres, search_str='hil')"
   ]
  },
  {
   "cell_type": "code",
   "execution_count": null,
   "id": "sought-outdoors",
   "metadata": {},
   "outputs": [],
   "source": [
    "p9.options.figure_size = (15, 25)\n",
    "p = p9.ggplot(p9.aes(x='day', y='CI', color='experiment'), rfa)\n",
    "(p + p9.geom_jitter(size=3, height=0, width=0.05) \n",
    "+ p9.theme_classic()\n",
    "+ p9.ggtitle(\"rfa genes\\n\")\n",
    "+ p9.theme(\n",
    "    plot_title = p9.element_text(family = \"Arial\", size = 24, hjust = 0), # Title size and font.\n",
    "    axis_text = p9.element_text(family = \"Arial\", size = 18), # Size and font of x and y values.\n",
    "    axis_title = p9.element_text(family = \"Arial\", size = 18), # Size and font of x and y axes.\n",
    "    panel_border = p9.element_rect(colour = \"black\", fill = np.nan, size = 1.5), # Black border around the plot area.\n",
    "    axis_ticks = p9.element_line(colour = \"black\", size = 1), # Style of x and y ticks.\n",
    "    legend_text = p9.element_text(family = \"Arial\", size = 18),\n",
    "    strip_text = p9.element_text(family = \"Arial\", size = 18),\n",
    "  )\n",
    " + p9.scale_y_log10()\n",
    "+ p9.facet_wrap('~ gene', ncol=4))"
   ]
  },
  {
   "cell_type": "code",
   "execution_count": null,
   "id": "liked-password",
   "metadata": {},
   "outputs": [],
   "source": [
    "p9.options.figure_size = (15, 25)\n",
    "p = p9.ggplot(p9.aes(x='day', y='CI', color='experiment'), rfb)\n",
    "(p + p9.geom_jitter(size=3, height=0, width=0.05) \n",
    "+ p9.theme_classic()\n",
    "+ p9.ggtitle(\"rfb genes\\n\")\n",
    "#+ p9.labs( y = 'Fitness (log2FC)')\n",
    "+ p9.theme(\n",
    "    plot_title = p9.element_text(family = \"Arial\", size = 24, hjust = 0), # Title size and font.\n",
    "    axis_text = p9.element_text(family = \"Arial\", size = 18), # Size and font of x and y values.\n",
    "    axis_title = p9.element_text(family = \"Arial\", size = 18), # Size and font of x and y axes.\n",
    "    panel_border = p9.element_rect(colour = \"black\", fill = np.nan, size = 1.5), # Black border around the plot area.\n",
    "    axis_ticks = p9.element_line(colour = \"black\", size = 1), # Style of x and y ticks.\n",
    "    legend_text = p9.element_text(family = \"Arial\", size = 18),\n",
    "    strip_text = p9.element_text(family = \"Arial\", size = 18),\n",
    "  )\n",
    "#+ p9.scale_y_continuous(breaks=[-1.5, -1, -0.5, 0, 0.5, 1, 1.5], limits=[-1.5, 1.5])\n",
    " + p9.scale_y_log10()\n",
    "+ p9.facet_wrap('~ gene', ncol=4))"
   ]
  },
  {
   "cell_type": "code",
   "execution_count": null,
   "id": "subject-husband",
   "metadata": {},
   "outputs": [],
   "source": [
    "p9.options.figure_size = (6, 4)\n",
    "p = p9.ggplot(p9.aes(x='day', y='CI', color='experiment'), frd)\n",
    "(p + p9.geom_jitter(size=3, height=0, width=0.05) \n",
    "+ p9.theme_classic()\n",
    "+ p9.ggtitle(\"frd genes\\n\")\n",
    "#+ p9.labs( y = 'Fitness (log2FC)')\n",
    "+ p9.theme(\n",
    "    plot_title = p9.element_text(family = \"Arial\", size = 24, hjust = 0), # Title size and font.\n",
    "    axis_text = p9.element_text(family = \"Arial\", size = 18), # Size and font of x and y values.\n",
    "    axis_title = p9.element_text(family = \"Arial\", size = 18), # Size and font of x and y axes.\n",
    "    panel_border = p9.element_rect(colour = \"black\", fill = np.nan, size = 1.5), # Black border around the plot area.\n",
    "    axis_ticks = p9.element_line(colour = \"black\", size = 1), # Style of x and y ticks.\n",
    "    legend_text = p9.element_text(family = \"Arial\", size = 18),\n",
    "    strip_text = p9.element_text(family = \"Arial\", size = 18),\n",
    "  )\n",
    "#+ p9.scale_y_continuous(breaks=[-1.5, -1, -0.5, 0, 0.5, 1, 1.5], limits=[-1.5, 1.5])\n",
    " + p9.scale_y_log10()\n",
    "+ p9.facet_wrap('~ gene', ncol=4))"
   ]
  },
  {
   "cell_type": "code",
   "execution_count": null,
   "id": "processed-bonus",
   "metadata": {},
   "outputs": [],
   "source": [
    "p9.options.figure_size = (10, 5)\n",
    "p = p9.ggplot(p9.aes(x='day', y='CI', color='experiment'), hil)\n",
    "(p + p9.geom_jitter(size=3, height=0, width=0.05) \n",
    "+ p9.theme_classic()\n",
    "+ p9.ggtitle(\"hil genes\\n\")\n",
    "#+ p9.labs( y = 'Fitness (log2FC)')\n",
    "+ p9.theme(\n",
    "    plot_title = p9.element_text(family = \"Arial\", size = 24, hjust = 0), # Title size and font.\n",
    "    axis_text = p9.element_text(family = \"Arial\", size = 18), # Size and font of x and y values.\n",
    "    axis_title = p9.element_text(family = \"Arial\", size = 18), # Size and font of x and y axes.\n",
    "    panel_border = p9.element_rect(colour = \"black\", fill = np.nan, size = 1.5), # Black border around the plot area.\n",
    "    axis_ticks = p9.element_line(colour = \"black\", size = 1), # Style of x and y ticks.\n",
    "    legend_text = p9.element_text(family = \"Arial\", size = 18),\n",
    "    strip_text = p9.element_text(family = \"Arial\", size = 18),\n",
    "  )\n",
    "#+ p9.scale_y_continuous(breaks=[-1.5, -1, -0.5, 0, 0.5, 1, 1.5], limits=[-1.5, 1.5])\n",
    " + p9.scale_y_log10()\n",
    "+ p9.facet_wrap('~ gene', ncol=4))"
   ]
  },
  {
   "cell_type": "code",
   "execution_count": null,
   "id": "instrumental-wrestling",
   "metadata": {},
   "outputs": [],
   "source": [
    "p9.options.figure_size = (12, 10)\n",
    "p = p9.ggplot(p9.aes(x='day', y='CI', color='experiment'), dcu)\n",
    "(p + p9.geom_jitter(size=3, height=0, width=0.05) \n",
    "+ p9.theme_classic()\n",
    "+ p9.ggtitle(\"dcu genes\\n\")\n",
    "#+ p9.labs( y = 'Fitness (log2FC)')\n",
    "+ p9.theme(\n",
    "    plot_title = p9.element_text(family = \"Arial\", size = 24, hjust = 0), # Title size and font.\n",
    "    axis_text = p9.element_text(family = \"Arial\", size = 18), # Size and font of x and y values.\n",
    "    axis_title = p9.element_text(family = \"Arial\", size = 18), # Size and font of x and y axes.\n",
    "    panel_border = p9.element_rect(colour = \"black\", fill = np.nan, size = 1.5), # Black border around the plot area.\n",
    "    axis_ticks = p9.element_line(colour = \"black\", size = 1), # Style of x and y ticks.\n",
    "    legend_text = p9.element_text(family = \"Arial\", size = 18),\n",
    "    strip_text = p9.element_text(family = \"Arial\", size = 18),\n",
    "  )\n",
    "#+ p9.scale_y_continuous(breaks=[-1.5, -1, -0.5, 0, 0.5, 1, 1.5], limits=[-1.5, 1.5])\n",
    " + p9.scale_y_log10()\n",
    "+ p9.facet_wrap('~ gene', ncol=3))"
   ]
  },
  {
   "cell_type": "code",
   "execution_count": null,
   "id": "standard-clearance",
   "metadata": {},
   "outputs": [],
   "source": [
    "\n",
    "\n",
    "def summarize_dpi(cnts_df, results_df, dpi='d1'):\n",
    "    # Get the hits\n",
    "    genes_only = results_df.dropna(subset=['locus'])\n",
    "    hits = genes_only[genes_only[f'{dpi}_padj'] < 0.01].gene.values\n",
    "    # Get the counts\n",
    "    cnts = cnts_df[cnts_df.ShortName.isin(hits)]\n",
    "    cnts_sum = cnts.groupby([\"ShortName\", 'day']).agg({'cnt':['median']}).reset_index()\n",
    "    cnts_sum.columns = ['gene', 'day', 'cnt_median']\n",
    "    cnts_sum = cnts_sum[cnts_sum.day.isin(['d0', dpi])]\n",
    "    cnts_final = cnts_sum[['gene', 'day', 'cnt_median']]\n",
    "    cnts_final = cnts_final.pivot(index='gene', columns='day').reset_index()\n",
    "    cnts_final.columns = ['gene', 'inoculum', 'cnt']\n",
    "    \n",
    "    #Get num of experiments\n",
    "    hit_stat = (results_df[results_df['gene'].isin(hits)].groupby('gene')\n",
    "                   .agg({'experiment':['nunique'], f'{dpi}_padj':[len_sig]}).reset_index())\n",
    "    hit_stat.columns = ['gene', 'num_exp', 'num_sig']\n",
    "    tograph = hit_stat.merge(cnts_final, on='gene')\n",
    "    tograph['phits'] = tograph['num_sig']/tograph['num_exp']\n",
    "    return tograph\n",
    "\n",
    "def len_sig(x):\n",
    "    x = x.drop_duplicates()\n",
    "    return sum([i < 0.05 for i in x])"
   ]
  },
  {
   "cell_type": "code",
   "execution_count": null,
   "id": "limited-disposition",
   "metadata": {},
   "outputs": [],
   "source": [
    "dnaids = ['dnaid1315', 'dnaid1428', 'dnaid1429', 'dnaid2015', 'dnaid2016', 'dnaid2017', 'dnaid2018', 'dnaid2019',\n",
    "         'dnaid2023', 'dnaid2024', 'dnaid2025', 'dnaid2026', 'dnaid2027', 'dnaid2028', 'dnaid2029' ]\n",
    "cnt_df = load_files(dnaids, Path(root)/counts)"
   ]
  },
  {
   "cell_type": "code",
   "execution_count": null,
   "id": "rising-sequence",
   "metadata": {},
   "outputs": [],
   "source": [
    "dpi1 = summarize_dpi(cnt_df, fres, dpi='d1')\n",
    "dpi2 = summarize_dpi(cnt_df, fres, dpi='d2')\n",
    "dpi3 = summarize_dpi(cnt_df, fres, dpi='d3')\n",
    "dpi4 = summarize_dpi(cnt_df, fres, dpi='d4')"
   ]
  },
  {
   "cell_type": "markdown",
   "id": "prerequisite-grove",
   "metadata": {},
   "source": [
    "# Summarizing potential hits\n",
    "\n",
    "For each DPI this graph shows:\n",
    "\n",
    "- Each point is a gene that was a hit in at least 1 experiment (adjusted p-values < 0.01)\n",
    "- The x-axis shows the median count in the inoculum (across all experiments)\n",
    "- The y-axis shows the mediant count on a specific DPI \n",
    "- The size of the circle indicates number of experiments (i.e. inocula) the gene was disrupted in\n",
    "- The color of the circle indicates the proportion of experiments in which the gene was a hit. For example, small black dot represents a gene that was disrupted only once, and was a hit (i.e. proportion is 1/1). Large white cicrles show genes that were disrupted in multiple experiments, but was identified as a hit only once (i.e. proportion could be 1/15). \n",
    "- Genes with proportion of hits > 0.5 are labeled. \n",
    "\n"
   ]
  },
  {
   "cell_type": "code",
   "execution_count": null,
   "id": "changed-brisbane",
   "metadata": {},
   "outputs": [],
   "source": [
    "p9.options.figure_size = (10, 10)\n",
    "p = p9.ggplot(p9.aes(x='inoculum', y='cnt'), dpi1)\n",
    "(p + p9.geom_point(p9.aes(fill='phits', size='num_exp'))\n",
    "+p9.scale_y_log10()\n",
    " +p9.scale_x_log10()\n",
    " +p9.geom_text(p9.aes(x='inoculum', y='cnt', label='gene'),\n",
    "                  color=\"black\",nudge_y=0.08,\n",
    "                  data=dpi1[dpi1['phits'] >0.5])\n",
    " +p9.theme_classic()\n",
    " + p9.theme(\n",
    "    plot_title = p9.element_text(family = \"Arial\", size = 24, hjust = 0), # Title size and font.\n",
    "    axis_text = p9.element_text(family = \"Arial\", size = 18), # Size and font of x and y values.\n",
    "    axis_title = p9.element_text(family = \"Arial\", size = 18), # Size and font of x and y axes.\n",
    "    panel_border = p9.element_rect(colour = \"black\", fill = np.nan, size = 1.5), # Black border around the plot area.\n",
    "    axis_ticks = p9.element_line(colour = \"black\", size = 1), # Style of x and y ticks.\n",
    "    legend_text = p9.element_text(family = \"Arial\", size = 18),\n",
    "    strip_text = p9.element_text(family = \"Arial\", size = 18),\n",
    "  )\n",
    " +p9.ggtitle(\"1 DPI\")\n",
    " +p9.labs(y =\"1 DPI, Median Reads\", x= \"Inoculum, Median Reads\")\n",
    " +p9.geom_abline(intercept=0, slope=1)\n",
    " \n",
    " +p9.scale_fill_continuous('hot_r')\n",
    ")\n"
   ]
  },
  {
   "cell_type": "code",
   "execution_count": null,
   "id": "intensive-thursday",
   "metadata": {},
   "outputs": [],
   "source": [
    "\n",
    "p9.options.figure_size = (10, 10)\n",
    "p = p9.ggplot(p9.aes(x='inoculum', y='cnt'), dpi2)\n",
    "(p + p9.geom_point(p9.aes(fill='phits', size='num_exp'))\n",
    "+p9.scale_y_log10()\n",
    " +p9.scale_x_log10()\n",
    " +p9.geom_text(p9.aes(x='inoculum', y='cnt', label='gene'),\n",
    "                  color=\"black\",nudge_y=0.08,\n",
    "                  data=dpi2[dpi2['phits'] >0.5])\n",
    " +p9.theme_classic()\n",
    " + p9.theme(\n",
    "    plot_title = p9.element_text(family = \"Arial\", size = 24, hjust = 0), # Title size and font.\n",
    "    axis_text = p9.element_text(family = \"Arial\", size = 18), # Size and font of x and y values.\n",
    "    axis_title = p9.element_text(family = \"Arial\", size = 18), # Size and font of x and y axes.\n",
    "    panel_border = p9.element_rect(colour = \"black\", fill = np.nan, size = 1.5), # Black border around the plot area.\n",
    "    axis_ticks = p9.element_line(colour = \"black\", size = 1), # Style of x and y ticks.\n",
    "    legend_text = p9.element_text(family = \"Arial\", size = 18),\n",
    "    strip_text = p9.element_text(family = \"Arial\", size = 18),\n",
    "  )\n",
    " +p9.ggtitle(\"2 DPI\")\n",
    " +p9.labs(y =\"2 DPI, Median Reads\", x= \"Inoculum, Median Reads\")\n",
    " +p9.geom_abline(intercept=0, slope=1)\n",
    " \n",
    " +p9.scale_fill_continuous('hot_r')\n",
    ")"
   ]
  },
  {
   "cell_type": "code",
   "execution_count": null,
   "id": "acting-protest",
   "metadata": {},
   "outputs": [],
   "source": [
    "p9.options.figure_size = (10, 10)\n",
    "p = p9.ggplot(p9.aes(x='inoculum', y='cnt'), dpi3)\n",
    "(p + p9.geom_point(p9.aes(fill='phits', size='num_exp'))\n",
    "+p9.scale_y_log10()\n",
    " +p9.scale_x_log10()\n",
    " +p9.geom_text(p9.aes(x='inoculum', y='cnt', label='gene'),\n",
    "                  color=\"black\",nudge_y=0.08,\n",
    "                  data=dpi3[dpi3['phits'] >0.5])\n",
    " +p9.theme_classic()\n",
    " + p9.theme(\n",
    "    plot_title = p9.element_text(family = \"Arial\", size = 24, hjust = 0), # Title size and font.\n",
    "    axis_text = p9.element_text(family = \"Arial\", size = 18), # Size and font of x and y values.\n",
    "    axis_title = p9.element_text(family = \"Arial\", size = 18), # Size and font of x and y axes.\n",
    "    panel_border = p9.element_rect(colour = \"black\", fill = np.nan, size = 1.5), # Black border around the plot area.\n",
    "    axis_ticks = p9.element_line(colour = \"black\", size = 1), # Style of x and y ticks.\n",
    "    legend_text = p9.element_text(family = \"Arial\", size = 18),\n",
    "    strip_text = p9.element_text(family = \"Arial\", size = 18),\n",
    "  )\n",
    " +p9.ggtitle(\"3 DPI\")\n",
    " +p9.labs(y =\"3 DPI, Median Reads\", x= \"Inoculum, Median Reads\")\n",
    " +p9.geom_abline(intercept=0, slope=1)\n",
    " \n",
    " +p9.scale_fill_continuous('hot_r')\n",
    ")\n"
   ]
  },
  {
   "cell_type": "code",
   "execution_count": null,
   "id": "committed-banana",
   "metadata": {},
   "outputs": [],
   "source": [
    "p9.options.figure_size = (10, 10)\n",
    "p = p9.ggplot(p9.aes(x='inoculum', y='cnt'), dpi4)\n",
    "(p + p9.geom_point(p9.aes(fill='phits', size='num_exp'))\n",
    "+p9.scale_y_log10()\n",
    " +p9.scale_x_log10()\n",
    " +p9.geom_text(p9.aes(x='inoculum', y='cnt', label='gene'),\n",
    "                  color=\"black\",nudge_y=0.08,\n",
    "                  data=dpi4[dpi4['phits'] >0.5])\n",
    " +p9.theme_classic()\n",
    " + p9.theme(\n",
    "    plot_title = p9.element_text(family = \"Arial\", size = 24, hjust = 0), # Title size and font.\n",
    "    axis_text = p9.element_text(family = \"Arial\", size = 18), # Size and font of x and y values.\n",
    "    axis_title = p9.element_text(family = \"Arial\", size = 18), # Size and font of x and y axes.\n",
    "    panel_border = p9.element_rect(colour = \"black\", fill = np.nan, size = 1.5), # Black border around the plot area.\n",
    "    axis_ticks = p9.element_line(colour = \"black\", size = 1), # Style of x and y ticks.\n",
    "    legend_text = p9.element_text(family = \"Arial\", size = 18),\n",
    "    strip_text = p9.element_text(family = \"Arial\", size = 18),\n",
    "  )\n",
    " +p9.ggtitle(\"4 DPI\")\n",
    " +p9.labs(y =\"4 DPI, Median Reads\", x= \"Inoculum, Median Reads\")\n",
    " +p9.geom_abline(intercept=0, slope=1)\n",
    " \n",
    " +p9.scale_fill_continuous('hot_r')\n",
    ")"
   ]
  },
  {
   "cell_type": "code",
   "execution_count": null,
   "id": "foreign-cholesterol",
   "metadata": {},
   "outputs": [],
   "source": []
  }
 ],
 "metadata": {
  "kernelspec": {
   "display_name": "Python 3",
   "language": "python",
   "name": "python3"
  },
  "language_info": {
   "codemirror_mode": {
    "name": "ipython",
    "version": 3
   },
   "file_extension": ".py",
   "mimetype": "text/x-python",
   "name": "python",
   "nbconvert_exporter": "python",
   "pygments_lexer": "ipython3",
   "version": "3.6.6"
  }
 },
 "nbformat": 4,
 "nbformat_minor": 5
}
