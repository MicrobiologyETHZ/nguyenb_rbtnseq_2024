{
 "cells": [
  {
   "cell_type": "code",
   "execution_count": null,
   "metadata": {
    "ExecuteTime": {
     "end_time": "2022-06-15T13:18:21.003556Z",
     "start_time": "2022-06-15T13:18:20.998760Z"
    }
   },
   "outputs": [],
   "source": [
    "from mbarq.counter import BarcodeCounter\n",
    "from pathlib import Path"
   ]
  },
  {
   "cell_type": "code",
   "execution_count": null,
   "metadata": {
    "ExecuteTime": {
     "end_time": "2022-06-15T13:18:25.952141Z",
     "start_time": "2022-06-15T13:18:25.949336Z"
    }
   },
   "outputs": [],
   "source": [
    "root = Path(\"/nfs/cds-peta/exports/biol_micro_cds_gr_sunagawa/scratch/Projects_NCCR/ref/mbarq_test_data/dnaid1315\")"
   ]
  },
  {
   "cell_type": "code",
   "execution_count": null,
   "metadata": {
    "ExecuteTime": {
     "end_time": "2022-06-15T13:40:02.931176Z",
     "start_time": "2022-06-15T13:40:02.926060Z"
    }
   },
   "outputs": [],
   "source": [
    "sequencing_file = root/\"test_data/dnaid1315_10.fasta.gz\"\n",
    "barcode_structure = \"B17N13GTGTATAAGAGACAG\"\n",
    "mapping_file = root/\"ref/library_11_1.annotated.csv\"\n",
    "edit_distance = 2"
   ]
  },
  {
   "cell_type": "code",
   "execution_count": null,
   "metadata": {
    "ExecuteTime": {
     "end_time": "2022-06-15T13:40:04.015328Z",
     "start_time": "2022-06-15T13:40:03.974299Z"
    }
   },
   "outputs": [],
   "source": [
    "bc = BarcodeCounter(sequencing_file, barcode_structure, 'test', mapping_file)"
   ]
  },
  {
   "cell_type": "code",
   "execution_count": null,
   "metadata": {
    "ExecuteTime": {
     "end_time": "2022-06-15T13:41:05.485134Z",
     "start_time": "2022-06-15T13:40:05.651640Z"
    }
   },
   "outputs": [],
   "source": [
    "bc._extract_barcodes()"
   ]
  },
  {
   "cell_type": "code",
   "execution_count": null,
   "metadata": {
    "ExecuteTime": {
     "end_time": "2022-06-15T13:41:51.464139Z",
     "start_time": "2022-06-15T13:41:51.453911Z"
    }
   },
   "outputs": [],
   "source": [
    "len(list(bc.barcode_counter.keys()))"
   ]
  },
  {
   "cell_type": "code",
   "execution_count": null,
   "metadata": {
    "ExecuteTime": {
     "end_time": "2022-06-15T13:41:53.281385Z",
     "start_time": "2022-06-15T13:41:53.265576Z"
    }
   },
   "outputs": [],
   "source": [
    "len(set(bc.barcode_counter.keys()))"
   ]
  },
  {
   "cell_type": "code",
   "execution_count": null,
   "metadata": {
    "ExecuteTime": {
     "end_time": "2022-06-15T13:48:47.890374Z",
     "start_time": "2022-06-15T13:41:57.064409Z"
    }
   },
   "outputs": [],
   "source": [
    "bc._merge_similar()"
   ]
  },
  {
   "cell_type": "code",
   "execution_count": null,
   "metadata": {
    "ExecuteTime": {
     "end_time": "2022-06-15T13:48:56.429543Z",
     "start_time": "2022-06-15T13:48:56.420881Z"
    }
   },
   "outputs": [],
   "source": [
    "len(list(bc.barcode_counter.keys()))"
   ]
  },
  {
   "cell_type": "code",
   "execution_count": null,
   "metadata": {
    "ExecuteTime": {
     "end_time": "2022-06-15T13:48:57.976010Z",
     "start_time": "2022-06-15T13:48:57.968571Z"
    }
   },
   "outputs": [],
   "source": [
    "len(set(bc.barcode_counter.keys()))"
   ]
  },
  {
   "cell_type": "code",
   "execution_count": null,
   "metadata": {
    "ExecuteTime": {
     "end_time": "2022-06-15T13:49:00.386471Z",
     "start_time": "2022-06-15T13:49:00.349300Z"
    }
   },
   "outputs": [],
   "source": [
    "bc._annotate_barcodes()"
   ]
  },
  {
   "cell_type": "code",
   "execution_count": null,
   "metadata": {},
   "outputs": [],
   "source": [
    "def _annotate_barcodes(self) -> None:\n",
    "    \"\"\"\n",
    "    If annotation is available, annotate the counted barcodes\n",
    "    :return: None\n",
    "    \"\"\"\n",
    "    assert self.barcode_counter is not None\n",
    "    self.logger.info(f'Barcodes with edit distance of less than {self.edit_distance} '\n",
    "                     f'have been merged: {self.merged}')\n",
    "    cnts_df = (pd.DataFrame.from_dict(self.barcode_counter, orient='index')\n",
    "               .reset_index())\n",
    "    # Important to keep these column names, used for merging\n",
    "    cnts_df.columns = ['barcode', 'barcode_count']\n",
    "    cnts_df = cnts_df[cnts_df['barcode_count'] > 1]\n",
    "    if cnts_df.empAty:\n",
    "        self.logger.error('No barcodes with counts > 1 found')\n",
    "        sys.exit(1)\n",
    "    self.logger.info(f'Number of unique barcodes to annotate: {cnts_df.barcode.nunique()}')\n",
    "    if self.bc_annotations.empty:\n",
    "        self.logger.info('No mapping file provided, skipping the annotation')\n",
    "        self.annotated_cnts = cnts_df\n",
    "    else:\n",
    "        self.logger.info(f'Annotating barcodes')\n",
    "        self.logger.info(f'Columns found in the mapping/annotations file: '\n",
    "                         f'{\", \".join(self.bc_annotations.columns)}')\n",
    "        self.annotated_cnts = cnts_df.merge(self.bc_annotations, how='left', on='barcode').drop_duplicates()\n",
    "        filter_col = self.bc_annotations.columns[1]\n",
    "        with_ids = self.annotated_cnts[self.annotated_cnts[filter_col].notnull()]\n",
    "        self.logger.info(f'Number of annotated barcodes: {with_ids.shape[0]}')\n",
    "        no_ids = self.annotated_cnts[self.annotated_cnts[filter_col].isna()]\n",
    "        self.logger.info(f'Number of unannotated barcodes:{no_ids.shape[0]}')"
   ]
  },
  {
   "cell_type": "code",
   "execution_count": null,
   "metadata": {
    "ExecuteTime": {
     "end_time": "2022-06-15T13:49:14.983811Z",
     "start_time": "2022-06-15T13:49:14.960782Z"
    }
   },
   "outputs": [],
   "source": [
    "bc.annotated_cnts"
   ]
  },
  {
   "cell_type": "code",
   "execution_count": null,
   "metadata": {
    "ExecuteTime": {
     "end_time": "2022-06-15T13:49:18.015903Z",
     "start_time": "2022-06-15T13:49:18.007641Z"
    }
   },
   "outputs": [],
   "source": [
    "bc.annotated_cnts.barcode.nunique()"
   ]
  },
  {
   "cell_type": "code",
   "execution_count": null,
   "metadata": {
    "ExecuteTime": {
     "end_time": "2022-06-15T13:49:20.525355Z",
     "start_time": "2022-06-15T13:49:20.519778Z"
    }
   },
   "outputs": [],
   "source": [
    "df = bc.annotated_cnts.copy()"
   ]
  },
  {
   "cell_type": "code",
   "execution_count": null,
   "metadata": {
    "ExecuteTime": {
     "end_time": "2022-06-15T13:49:22.204397Z",
     "start_time": "2022-06-15T13:49:22.186150Z"
    }
   },
   "outputs": [],
   "source": [
    "df2 = df.groupby('barcode').barcode_count.count().reset_index()\n",
    "df2[df2.barcode_count > 1]"
   ]
  },
  {
   "cell_type": "code",
   "execution_count": null,
   "metadata": {
    "ExecuteTime": {
     "end_time": "2022-06-15T13:50:14.276481Z",
     "start_time": "2022-06-15T13:50:14.260366Z"
    }
   },
   "outputs": [],
   "source": [
    "df[df.barcode == 'TCCACTGGAAGGAGAGC']"
   ]
  },
  {
   "cell_type": "code",
   "execution_count": null,
   "metadata": {},
   "outputs": [],
   "source": []
  }
 ],
 "metadata": {
  "kernelspec": {
   "display_name": "Python 3 (ipykernel)",
   "language": "python",
   "name": "python3"
  },
  "language_info": {
   "codemirror_mode": {
    "name": "ipython",
    "version": 3
   },
   "file_extension": ".py",
   "mimetype": "text/x-python",
   "name": "python",
   "nbconvert_exporter": "python",
   "pygments_lexer": "ipython3",
   "version": "3.8.12"
  },
  "toc": {
   "base_numbering": 1,
   "nav_menu": {},
   "number_sections": true,
   "sideBar": true,
   "skip_h1_title": false,
   "title_cell": "Table of Contents",
   "title_sidebar": "Contents",
   "toc_cell": false,
   "toc_position": {},
   "toc_section_display": true,
   "toc_window_display": false
  }
 },
 "nbformat": 4,
 "nbformat_minor": 4
}
