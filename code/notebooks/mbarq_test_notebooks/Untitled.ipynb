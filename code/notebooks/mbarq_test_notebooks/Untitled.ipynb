{
 "cells": [
  {
   "cell_type": "code",
   "execution_count": null,
   "metadata": {
    "ExecuteTime": {
     "end_time": "2022-09-09T12:24:45.871919Z",
     "start_time": "2022-09-09T12:24:45.867332Z"
    }
   },
   "outputs": [],
   "source": [
    "import pandas as pd\n",
    "from pathlib import Path\n",
    "import numpy as np"
   ]
  },
  {
   "cell_type": "code",
   "execution_count": null,
   "metadata": {
    "ExecuteTime": {
     "end_time": "2022-09-09T13:56:01.093445Z",
     "start_time": "2022-09-09T13:56:01.088700Z"
    }
   },
   "outputs": [],
   "source": [
    "root = Path(\"/nfs/nas22/fs2202/biol_micro_bioinf_nccr/hardt/nguyenb/tnseq/scratch/manuscript_data/wetmore_2015/glucose_results/\")"
   ]
  },
  {
   "cell_type": "code",
   "execution_count": null,
   "metadata": {
    "ExecuteTime": {
     "end_time": "2022-09-09T13:59:52.650862Z",
     "start_time": "2022-09-09T13:59:51.912713Z"
    }
   },
   "outputs": [],
   "source": [
    "df = pd.read_csv(root/\"H3_mbarq_counts.csv\")"
   ]
  },
  {
   "cell_type": "code",
   "execution_count": null,
   "metadata": {
    "ExecuteTime": {
     "end_time": "2022-09-09T13:56:02.075854Z",
     "start_time": "2022-09-09T13:56:02.072224Z"
    }
   },
   "outputs": [],
   "source": [
    "df.shape"
   ]
  },
  {
   "cell_type": "code",
   "execution_count": null,
   "metadata": {
    "ExecuteTime": {
     "end_time": "2022-09-09T13:56:02.113620Z",
     "start_time": "2022-09-09T13:56:02.108977Z"
    }
   },
   "outputs": [],
   "source": [
    "df.shape"
   ]
  },
  {
   "cell_type": "code",
   "execution_count": null,
   "metadata": {
    "ExecuteTime": {
     "end_time": "2022-09-09T13:56:02.697350Z",
     "start_time": "2022-09-09T13:56:02.634733Z"
    }
   },
   "outputs": [],
   "source": [
    "df[~df.old_locus_tag.isna()].barcode_count.median()"
   ]
  },
  {
   "cell_type": "code",
   "execution_count": null,
   "metadata": {
    "ExecuteTime": {
     "end_time": "2022-09-09T13:53:05.089611Z",
     "start_time": "2022-09-09T13:53:04.827207Z"
    }
   },
   "outputs": [],
   "source": [
    "np.log2(df[~df.old_locus_tag.isna()].barcode_count +1).hist(bins=100)"
   ]
  },
  {
   "cell_type": "code",
   "execution_count": null,
   "metadata": {
    "ExecuteTime": {
     "end_time": "2022-09-09T13:53:07.419877Z",
     "start_time": "2022-09-09T13:53:07.231048Z"
    }
   },
   "outputs": [],
   "source": [
    "#df = df[['barcode', 'barcode_count']].drop_duplicates()"
   ]
  },
  {
   "cell_type": "code",
   "execution_count": null,
   "metadata": {
    "ExecuteTime": {
     "end_time": "2022-09-09T13:56:22.591947Z",
     "start_time": "2022-09-09T13:56:22.284475Z"
    }
   },
   "outputs": [],
   "source": [
    "barcodes = df.barcode.unique()\n",
    "with open(root/'h3.fasta', 'w') as fo:\n",
    "    for i, b in enumerate(barcodes):\n",
    "        fo.write(f\">{b}\\n{b}\\n\")"
   ]
  },
  {
   "cell_type": "code",
   "execution_count": null,
   "metadata": {
    "ExecuteTime": {
     "end_time": "2022-09-09T13:59:13.053566Z",
     "start_time": "2022-09-09T13:58:58.706873Z"
    }
   },
   "outputs": [],
   "source": [
    "d = {}\n",
    "with open(root/'h3_90.clstr', 'r') as fh:\n",
    "    lines = fh.readlines()\n",
    "    for line in lines:\n",
    "        if line.startswith(\">\"):\n",
    "            cname = line.strip(\">\\n\")\n",
    "            d[cname] = []\n",
    "            i=0\n",
    "        else:\n",
    "            cnum = int(line.split('\\t')[0])\n",
    "            if cnum - i >=0:\n",
    "                barcode = line.split(\">\")[1].split(\".\")[0]\n",
    "                d[cname] += [barcode]\n",
    "                i=cnum \n",
    "            else:\n",
    "                i = 0\n",
    "                \n",
    "bcs = []\n",
    "clust = []\n",
    "for k, vals in d.items():\n",
    "    for val in vals:\n",
    "        bcs.append(val)\n",
    "        clust.append(k)\n",
    "        \n",
    "df2 = pd.DataFrame([bcs, clust], index=['barcode', 'cluster']).T"
   ]
  },
  {
   "cell_type": "code",
   "execution_count": null,
   "metadata": {
    "ExecuteTime": {
     "end_time": "2022-09-09T13:53:10.176558Z",
     "start_time": "2022-09-09T13:53:10.172708Z"
    }
   },
   "outputs": [],
   "source": [
    "def edist(b1, b2):\n",
    "    return sum([x1!=x2 for x1, x2 in zip(b1,b2)])"
   ]
  },
  {
   "cell_type": "code",
   "execution_count": null,
   "metadata": {
    "ExecuteTime": {
     "end_time": "2022-09-09T13:53:10.660123Z",
     "start_time": "2022-09-09T13:53:10.655370Z"
    }
   },
   "outputs": [],
   "source": [
    "def get_max_cluster_edit(x):\n",
    "    c = combinations(x.values, 2)\n",
    "    es = []\n",
    "    for co in c:\n",
    "        es.append(edist(co[0], co[1]))\n",
    "    if len(es) > 0:\n",
    "        return max(es)\n",
    "    else:\n",
    "        return np.nan"
   ]
  },
  {
   "cell_type": "code",
   "execution_count": null,
   "metadata": {
    "ExecuteTime": {
     "end_time": "2022-09-09T13:59:16.164213Z",
     "start_time": "2022-09-09T13:59:13.055423Z"
    }
   },
   "outputs": [],
   "source": [
    "edits = (df2.groupby('cluster')\n",
    "         .agg({'barcode': [get_max_cluster_edit]})\n",
    "         .dropna()\n",
    "         .reset_index())\n",
    "edits.columns = ['cluster', 'max_edit']\n",
    "df2 = df2.merge(edits, on='cluster', how='left')"
   ]
  },
  {
   "cell_type": "code",
   "execution_count": null,
   "metadata": {
    "ExecuteTime": {
     "end_time": "2022-09-09T13:53:54.264975Z",
     "start_time": "2022-09-09T13:53:54.238245Z"
    }
   },
   "outputs": [],
   "source": [
    "df2.sample(10)"
   ]
  },
  {
   "cell_type": "code",
   "execution_count": null,
   "metadata": {
    "ExecuteTime": {
     "end_time": "2022-09-09T13:59:21.656201Z",
     "start_time": "2022-09-09T13:59:21.359501Z"
    }
   },
   "outputs": [],
   "source": [
    "df2 = df2.drop_duplicates()"
   ]
  },
  {
   "cell_type": "code",
   "execution_count": null,
   "metadata": {
    "ExecuteTime": {
     "end_time": "2022-09-09T13:59:57.627263Z",
     "start_time": "2022-09-09T13:59:57.107954Z"
    }
   },
   "outputs": [],
   "source": [
    "df3 = df[['barcode', 'barcode_count']].merge(df2, on='barcode')"
   ]
  },
  {
   "cell_type": "code",
   "execution_count": null,
   "metadata": {
    "ExecuteTime": {
     "end_time": "2022-09-09T13:59:59.631982Z",
     "start_time": "2022-09-09T13:59:59.559091Z"
    }
   },
   "outputs": [],
   "source": [
    "df3.sample(10)"
   ]
  },
  {
   "cell_type": "code",
   "execution_count": null,
   "metadata": {
    "ExecuteTime": {
     "end_time": "2022-09-09T13:19:05.553594Z",
     "start_time": "2022-09-09T13:19:05.547525Z"
    }
   },
   "outputs": [],
   "source": [
    "def merge_bcs(test):\n",
    "    test = test.reset_index()\n",
    "    barcode = test.iloc[test.barcode_count.idxmax(),].barcode\n",
    "    count = test.barcode_count.sum()\n",
    "    return pd.Series((barcode, count))\n"
   ]
  },
  {
   "cell_type": "code",
   "execution_count": null,
   "metadata": {
    "ExecuteTime": {
     "end_time": "2022-09-09T14:00:11.972742Z",
     "start_time": "2022-09-09T14:00:11.887571Z"
    }
   },
   "outputs": [],
   "source": [
    "to_merge = df3[df3.max_edit <=2]\n",
    "not_to_merge = df3[(df3.max_edit.isna()| (df3.max_edit > 2))].drop('max_edit', axis=1)"
   ]
  },
  {
   "cell_type": "code",
   "execution_count": null,
   "metadata": {
    "ExecuteTime": {
     "end_time": "2022-09-09T14:00:15.038553Z",
     "start_time": "2022-09-09T14:00:15.032311Z"
    }
   },
   "outputs": [],
   "source": [
    "not_to_merge.shape"
   ]
  },
  {
   "cell_type": "code",
   "execution_count": null,
   "metadata": {
    "ExecuteTime": {
     "end_time": "2022-09-09T14:00:17.161440Z",
     "start_time": "2022-09-09T14:00:17.155289Z"
    }
   },
   "outputs": [],
   "source": [
    "to_merge.shape"
   ]
  },
  {
   "cell_type": "code",
   "execution_count": null,
   "metadata": {
    "ExecuteTime": {
     "end_time": "2022-09-09T14:00:48.646656Z",
     "start_time": "2022-09-09T14:00:26.615662Z"
    }
   },
   "outputs": [],
   "source": [
    "final = to_merge.groupby('cluster').apply(merge_bcs).reset_index()\n",
    "final.columns = ['cluster', 'barcode', 'barcode_count']\n",
    "final = pd.concat([final, not_to_merge])"
   ]
  },
  {
   "cell_type": "code",
   "execution_count": null,
   "metadata": {
    "ExecuteTime": {
     "end_time": "2022-09-09T14:00:48.709093Z",
     "start_time": "2022-09-09T14:00:48.649384Z"
    }
   },
   "outputs": [],
   "source": []
  },
  {
   "cell_type": "markdown",
   "metadata": {},
   "source": [
    "- we have duplicated barcodes, easy enough fix"
   ]
  },
  {
   "cell_type": "code",
   "execution_count": null,
   "metadata": {
    "ExecuteTime": {
     "end_time": "2022-09-09T13:55:41.998285Z",
     "start_time": "2022-09-09T13:55:41.919572Z"
    }
   },
   "outputs": [],
   "source": [
    "final.sample(10)"
   ]
  },
  {
   "cell_type": "code",
   "execution_count": null,
   "metadata": {
    "ExecuteTime": {
     "end_time": "2022-09-09T14:00:49.125313Z",
     "start_time": "2022-09-09T14:00:48.710486Z"
    }
   },
   "outputs": [],
   "source": [
    "final = final.merge(df[['barcode', 'old_locus_tag']], on='barcode', how='left')"
   ]
  },
  {
   "cell_type": "code",
   "execution_count": null,
   "metadata": {
    "ExecuteTime": {
     "end_time": "2022-09-09T14:01:13.170749Z",
     "start_time": "2022-09-09T14:01:13.147315Z"
    }
   },
   "outputs": [],
   "source": [
    "final1 = final[final.barcode_count > 1]"
   ]
  },
  {
   "cell_type": "code",
   "execution_count": null,
   "metadata": {
    "ExecuteTime": {
     "end_time": "2022-09-09T14:02:23.073635Z",
     "start_time": "2022-09-09T14:02:23.010817Z"
    }
   },
   "outputs": [],
   "source": [
    "final[(~final.old_locus_tag.isna()) & (final.barcode_count ==1)]"
   ]
  },
  {
   "cell_type": "code",
   "execution_count": null,
   "metadata": {
    "ExecuteTime": {
     "end_time": "2022-09-09T14:08:20.270807Z",
     "start_time": "2022-09-09T14:08:20.120706Z"
    }
   },
   "outputs": [],
   "source": [
    "dfSama = df[~df.old_locus_tag.isna()]\n",
    "dfSama = dfSama[~dfSama.old_locus_tag.str.contains(\":\")]"
   ]
  },
  {
   "cell_type": "code",
   "execution_count": null,
   "metadata": {
    "ExecuteTime": {
     "end_time": "2022-09-09T14:07:32.328466Z",
     "start_time": "2022-09-09T14:07:32.234045Z"
    }
   },
   "outputs": [],
   "source": [
    "finalSama = final1[~final1.old_locus_tag.isna()]\n",
    "\n",
    "finalSama = finalSama[~finalSama.old_locus_tag.str.contains(':')]\n"
   ]
  },
  {
   "cell_type": "code",
   "execution_count": null,
   "metadata": {
    "ExecuteTime": {
     "end_time": "2022-09-09T14:07:33.747284Z",
     "start_time": "2022-09-09T14:07:33.737380Z"
    }
   },
   "outputs": [],
   "source": [
    "finalSama.sample(10)"
   ]
  },
  {
   "cell_type": "code",
   "execution_count": null,
   "metadata": {
    "ExecuteTime": {
     "end_time": "2022-09-09T14:08:44.495477Z",
     "start_time": "2022-09-09T14:08:44.470967Z"
    }
   },
   "outputs": [],
   "source": [
    "dfSama.sample(10)"
   ]
  },
  {
   "cell_type": "code",
   "execution_count": null,
   "metadata": {
    "ExecuteTime": {
     "end_time": "2022-09-09T14:08:29.840186Z",
     "start_time": "2022-09-09T14:08:29.833210Z"
    }
   },
   "outputs": [],
   "source": [
    "dfSama.barcode_count.median()"
   ]
  },
  {
   "cell_type": "code",
   "execution_count": null,
   "metadata": {
    "ExecuteTime": {
     "end_time": "2022-09-09T14:07:37.923815Z",
     "start_time": "2022-09-09T14:07:37.917981Z"
    }
   },
   "outputs": [],
   "source": [
    "finalSama.barcode_count.median()"
   ]
  },
  {
   "cell_type": "code",
   "execution_count": null,
   "metadata": {
    "ExecuteTime": {
     "end_time": "2022-09-09T13:30:48.352662Z",
     "start_time": "2022-09-09T13:30:48.190567Z"
    }
   },
   "outputs": [],
   "source": [
    "np.log2(finalSama.barcode_count +1).hist(bins=50)"
   ]
  },
  {
   "cell_type": "code",
   "execution_count": null,
   "metadata": {
    "ExecuteTime": {
     "end_time": "2022-09-09T12:28:48.706007Z",
     "start_time": "2022-09-09T12:28:48.699383Z"
    }
   },
   "outputs": [],
   "source": [
    "edist('TACATAACCGATAAAATGC', 'TACCATAACCGATAAATGC' )"
   ]
  },
  {
   "cell_type": "code",
   "execution_count": null,
   "metadata": {
    "ExecuteTime": {
     "end_time": "2022-09-09T12:18:08.605735Z",
     "start_time": "2022-09-09T12:18:08.543450Z"
    }
   },
   "outputs": [],
   "source": []
  },
  {
   "cell_type": "code",
   "execution_count": null,
   "metadata": {
    "ExecuteTime": {
     "end_time": "2022-09-09T12:18:45.612832Z",
     "start_time": "2022-09-09T12:18:41.280535Z"
    }
   },
   "outputs": [],
   "source": []
  },
  {
   "cell_type": "code",
   "execution_count": null,
   "metadata": {
    "ExecuteTime": {
     "end_time": "2022-09-09T12:18:46.172457Z",
     "start_time": "2022-09-09T12:18:46.160969Z"
    }
   },
   "outputs": [],
   "source": [
    "df2.head()"
   ]
  },
  {
   "cell_type": "code",
   "execution_count": null,
   "metadata": {
    "ExecuteTime": {
     "end_time": "2022-09-09T12:19:19.419810Z",
     "start_time": "2022-09-09T12:19:19.082297Z"
    }
   },
   "outputs": [],
   "source": [
    "x = df2.groupby('barcode').cluster.nunique()\n"
   ]
  },
  {
   "cell_type": "code",
   "execution_count": null,
   "metadata": {
    "ExecuteTime": {
     "end_time": "2022-09-09T12:20:16.422436Z",
     "start_time": "2022-09-09T12:20:16.392589Z"
    }
   },
   "outputs": [],
   "source": [
    "df2[df2.barcode == 'TTTCATTCACTGGCAACCG']"
   ]
  },
  {
   "cell_type": "code",
   "execution_count": null,
   "metadata": {
    "ExecuteTime": {
     "end_time": "2022-09-09T12:20:43.738171Z",
     "start_time": "2022-09-09T12:20:43.707264Z"
    }
   },
   "outputs": [],
   "source": [
    "df2[df2.cluster == 'Cluster 51']"
   ]
  },
  {
   "cell_type": "code",
   "execution_count": null,
   "metadata": {
    "ExecuteTime": {
     "end_time": "2022-09-09T12:19:34.713060Z",
     "start_time": "2022-09-09T12:19:34.703443Z"
    }
   },
   "outputs": [],
   "source": [
    "x[x > 1]"
   ]
  },
  {
   "cell_type": "code",
   "execution_count": null,
   "metadata": {
    "ExecuteTime": {
     "end_time": "2022-09-09T11:21:54.460425Z",
     "start_time": "2022-09-09T11:21:54.351374Z"
    }
   },
   "outputs": [],
   "source": [
    "pd.Series(es).hist()"
   ]
  },
  {
   "cell_type": "code",
   "execution_count": null,
   "metadata": {
    "ExecuteTime": {
     "end_time": "2022-09-09T11:19:59.794545Z",
     "start_time": "2022-09-09T11:19:59.790253Z"
    }
   },
   "outputs": [],
   "source": [
    "from itertools import combinations"
   ]
  },
  {
   "cell_type": "code",
   "execution_count": null,
   "metadata": {
    "ExecuteTime": {
     "end_time": "2022-09-09T11:18:42.298601Z",
     "start_time": "2022-09-09T11:18:42.294147Z"
    }
   },
   "outputs": [],
   "source": [
    "test = d['Cluster 1']"
   ]
  },
  {
   "cell_type": "code",
   "execution_count": null,
   "metadata": {
    "ExecuteTime": {
     "end_time": "2022-09-09T11:22:22.411581Z",
     "start_time": "2022-09-09T11:22:22.405431Z"
    }
   },
   "outputs": [],
   "source": [
    "len(set(test))"
   ]
  },
  {
   "cell_type": "code",
   "execution_count": null,
   "metadata": {
    "ExecuteTime": {
     "end_time": "2022-09-09T11:14:54.806552Z",
     "start_time": "2022-09-09T11:14:54.791523Z"
    }
   },
   "outputs": [],
   "source": [
    "list(d.keys())[-1]"
   ]
  },
  {
   "cell_type": "code",
   "execution_count": null,
   "metadata": {
    "ExecuteTime": {
     "end_time": "2022-09-09T11:15:07.425573Z",
     "start_time": "2022-09-09T11:15:07.419302Z"
    }
   },
   "outputs": [],
   "source": [
    "d['>Cluster 215562\\n']"
   ]
  },
  {
   "cell_type": "code",
   "execution_count": null,
   "metadata": {
    "ExecuteTime": {
     "end_time": "2022-09-09T14:16:08.992851Z",
     "start_time": "2022-09-09T14:16:08.927131Z"
    }
   },
   "outputs": [],
   "source": [
    "root = Path(\"/nfs/nas22/fs2202/biol_micro_bioinf_nccr/hardt/nguyenb/tnseq/scratch/manuscript_data/nguyen_2020/tmp\")\n",
    "\n",
    "s90 = pd.read_csv(root/\"s90_e0_mbarq_counts.csv\")\n",
    "\n"
   ]
  },
  {
   "cell_type": "code",
   "execution_count": null,
   "metadata": {
    "ExecuteTime": {
     "end_time": "2022-09-09T14:16:24.981305Z",
     "start_time": "2022-09-09T14:16:24.975187Z"
    }
   },
   "outputs": [],
   "source": [
    "s90.shape"
   ]
  },
  {
   "cell_type": "code",
   "execution_count": null,
   "metadata": {
    "ExecuteTime": {
     "end_time": "2022-09-09T14:16:54.075101Z",
     "start_time": "2022-09-09T14:16:53.990452Z"
    }
   },
   "outputs": [],
   "source": [
    "barcodes = s90.barcode.unique()\n",
    "with open(root/'s90.fasta', 'w') as fo:\n",
    "    for i, b in enumerate(barcodes):\n",
    "        fo.write(f\">{b}\\n{b}\\n\")"
   ]
  },
  {
   "cell_type": "code",
   "execution_count": null,
   "metadata": {
    "ExecuteTime": {
     "end_time": "2022-09-09T14:17:59.011716Z",
     "start_time": "2022-09-09T14:17:59.007423Z"
    }
   },
   "outputs": [],
   "source": [
    "14/17"
   ]
  },
  {
   "cell_type": "code",
   "execution_count": null,
   "metadata": {
    "ExecuteTime": {
     "end_time": "2022-09-09T14:33:10.927735Z",
     "start_time": "2022-09-09T14:33:09.232319Z"
    }
   },
   "outputs": [],
   "source": [
    "d = {}\n",
    "with open(root/'s90_85.clstr', 'r') as fh:\n",
    "    lines = fh.readlines()\n",
    "    for line in lines:\n",
    "        if line.startswith(\">\"):\n",
    "            cname = line.strip(\">\\n\")\n",
    "            d[cname] = []\n",
    "            i=0\n",
    "        else:\n",
    "            cnum = int(line.split('\\t')[0])\n",
    "            if cnum - i >=0:\n",
    "                barcode = line.split(\">\")[1].split(\".\")[0]\n",
    "                d[cname] += [barcode]\n",
    "                i=cnum \n",
    "            else:\n",
    "                i = 0\n",
    "                \n",
    "bcs = []\n",
    "clust = []\n",
    "for k, vals in d.items():\n",
    "    for val in vals:\n",
    "        bcs.append(val)\n",
    "        clust.append(k)\n",
    "        \n",
    "df2 = pd.DataFrame([bcs, clust], index=['barcode', 'cluster']).T"
   ]
  },
  {
   "cell_type": "code",
   "execution_count": null,
   "metadata": {
    "ExecuteTime": {
     "end_time": "2022-09-09T14:33:13.430003Z",
     "start_time": "2022-09-09T14:33:12.370574Z"
    }
   },
   "outputs": [],
   "source": [
    "edits = (df2.groupby('cluster')\n",
    "         .agg({'barcode': [get_max_cluster_edit]})\n",
    "         .dropna()\n",
    "         .reset_index())\n",
    "edits.columns = ['cluster', 'max_edit']\n",
    "df2 = df2.merge(edits, on='cluster', how='left')"
   ]
  },
  {
   "cell_type": "code",
   "execution_count": null,
   "metadata": {
    "ExecuteTime": {
     "end_time": "2022-09-09T14:19:01.115206Z",
     "start_time": "2022-09-09T14:19:01.100651Z"
    }
   },
   "outputs": [],
   "source": [
    "df2.sample(10)"
   ]
  },
  {
   "cell_type": "code",
   "execution_count": null,
   "metadata": {
    "ExecuteTime": {
     "end_time": "2022-09-09T14:33:15.654797Z",
     "start_time": "2022-09-09T14:33:15.595736Z"
    }
   },
   "outputs": [],
   "source": [
    "df3 = s90[['barcode', 'barcode_count']].merge(df2, on='barcode')"
   ]
  },
  {
   "cell_type": "code",
   "execution_count": null,
   "metadata": {
    "ExecuteTime": {
     "end_time": "2022-09-09T14:33:18.366145Z",
     "start_time": "2022-09-09T14:33:18.349355Z"
    }
   },
   "outputs": [],
   "source": [
    "to_merge = df3[df3.max_edit <=4]\n",
    "not_to_merge = df3[(df3.max_edit.isna()| (df3.max_edit > 2))].drop('max_edit', axis=1)"
   ]
  },
  {
   "cell_type": "code",
   "execution_count": null,
   "metadata": {
    "ExecuteTime": {
     "end_time": "2022-09-09T14:33:23.868993Z",
     "start_time": "2022-09-09T14:33:19.877413Z"
    }
   },
   "outputs": [],
   "source": [
    "final = to_merge.groupby('cluster').apply(merge_bcs).reset_index()\n",
    "final.columns = ['cluster', 'barcode', 'barcode_count']\n",
    "final = pd.concat([final, not_to_merge])"
   ]
  },
  {
   "cell_type": "code",
   "execution_count": null,
   "metadata": {
    "ExecuteTime": {
     "end_time": "2022-09-09T14:33:25.279851Z",
     "start_time": "2022-09-09T14:33:25.275560Z"
    }
   },
   "outputs": [],
   "source": [
    "final.shape"
   ]
  },
  {
   "cell_type": "code",
   "execution_count": null,
   "metadata": {
    "ExecuteTime": {
     "end_time": "2022-09-09T14:33:28.510726Z",
     "start_time": "2022-09-09T14:33:28.490698Z"
    }
   },
   "outputs": [],
   "source": [
    "final[final.barcode_count > 1].sample(10)"
   ]
  },
  {
   "cell_type": "code",
   "execution_count": null,
   "metadata": {
    "ExecuteTime": {
     "end_time": "2022-09-09T14:33:31.737799Z",
     "start_time": "2022-09-09T14:33:31.701895Z"
    }
   },
   "outputs": [],
   "source": [
    "final = final.merge(s90[['barcode', 'Name']], on='barcode', how='left')\n",
    "\n"
   ]
  },
  {
   "cell_type": "code",
   "execution_count": null,
   "metadata": {
    "ExecuteTime": {
     "end_time": "2022-09-09T14:33:33.529011Z",
     "start_time": "2022-09-09T14:33:33.495408Z"
    }
   },
   "outputs": [],
   "source": [
    "final.dropna().sample(10)"
   ]
  },
  {
   "cell_type": "code",
   "execution_count": null,
   "metadata": {
    "ExecuteTime": {
     "end_time": "2022-09-09T14:33:35.821382Z",
     "start_time": "2022-09-09T14:33:35.794703Z"
    }
   },
   "outputs": [],
   "source": [
    "final2 = final.dropna()\n",
    "final2.columns = ['cluster', 'barcode', 'cdhit_count', 'Name']"
   ]
  },
  {
   "cell_type": "code",
   "execution_count": null,
   "metadata": {
    "ExecuteTime": {
     "end_time": "2022-09-09T14:26:36.920145Z",
     "start_time": "2022-09-09T14:26:36.914152Z"
    }
   },
   "outputs": [],
   "source": [
    "final2.shape"
   ]
  },
  {
   "cell_type": "code",
   "execution_count": null,
   "metadata": {
    "ExecuteTime": {
     "end_time": "2022-09-09T14:26:24.415165Z",
     "start_time": "2022-09-09T14:26:24.403401Z"
    }
   },
   "outputs": [],
   "source": [
    "final2.head()"
   ]
  },
  {
   "cell_type": "code",
   "execution_count": null,
   "metadata": {
    "ExecuteTime": {
     "end_time": "2022-09-09T14:33:38.591907Z",
     "start_time": "2022-09-09T14:33:38.549907Z"
    }
   },
   "outputs": [],
   "source": [
    "s90e0 = (s90[['barcode', 'barcode_count', 'Name']]\n",
    "         .rename({'barcode_count':'e0_count'}, axis=1)\n",
    "        .dropna(subset=['Name']))\n",
    "\n",
    "s90e2 = pd.read_csv(root/\"s90_e2_mbarq_counts.csv\")\n",
    "s90e2 = s90e2.dropna(subset=['Name'])[['barcode', 'barcode_count', 'Name']]"
   ]
  },
  {
   "cell_type": "code",
   "execution_count": null,
   "metadata": {
    "ExecuteTime": {
     "end_time": "2022-09-09T14:27:20.560367Z",
     "start_time": "2022-09-09T14:27:20.554324Z"
    }
   },
   "outputs": [],
   "source": [
    "s90e2.shape"
   ]
  },
  {
   "cell_type": "code",
   "execution_count": null,
   "metadata": {
    "ExecuteTime": {
     "end_time": "2022-09-09T14:28:03.916062Z",
     "start_time": "2022-09-09T14:28:03.901571Z"
    }
   },
   "outputs": [],
   "source": [
    "s90e2.sample(10)"
   ]
  },
  {
   "cell_type": "code",
   "execution_count": null,
   "metadata": {
    "ExecuteTime": {
     "end_time": "2022-09-09T14:33:42.310069Z",
     "start_time": "2022-09-09T14:33:42.295340Z"
    }
   },
   "outputs": [],
   "source": [
    "fdf = final2.merge(s90e2, on=['barcode', 'Name']).merge(s90e0, on=['barcode', 'Name'])"
   ]
  },
  {
   "cell_type": "code",
   "execution_count": null,
   "metadata": {
    "ExecuteTime": {
     "end_time": "2022-09-09T14:33:43.699723Z",
     "start_time": "2022-09-09T14:33:43.690188Z"
    }
   },
   "outputs": [],
   "source": [
    "fdf.sample(10)"
   ]
  },
  {
   "cell_type": "code",
   "execution_count": null,
   "metadata": {
    "ExecuteTime": {
     "end_time": "2022-09-09T14:34:16.311276Z",
     "start_time": "2022-09-09T14:34:16.297340Z"
    }
   },
   "outputs": [],
   "source": [
    "fdf[fdf.Name == 'mobA']"
   ]
  },
  {
   "cell_type": "code",
   "execution_count": null,
   "metadata": {
    "ExecuteTime": {
     "end_time": "2022-09-09T14:35:25.035189Z",
     "start_time": "2022-09-09T14:35:24.822225Z"
    }
   },
   "outputs": [],
   "source": [
    "import plotly.express as px"
   ]
  },
  {
   "cell_type": "code",
   "execution_count": null,
   "metadata": {
    "ExecuteTime": {
     "end_time": "2022-09-09T14:36:12.576782Z",
     "start_time": "2022-09-09T14:36:12.494419Z"
    }
   },
   "outputs": [],
   "source": [
    "px.scatter(fdf, x='barcode_count', y='e0_count',\n",
    "          log_x=True, log_y=True, hover_data=['Name'])"
   ]
  },
  {
   "cell_type": "code",
   "execution_count": null,
   "metadata": {
    "ExecuteTime": {
     "end_time": "2022-09-09T14:37:20.283182Z",
     "start_time": "2022-09-09T14:37:20.174129Z"
    }
   },
   "outputs": [],
   "source": [
    "px.scatter(fdf, x='barcode_count', y='cdhit_count',\n",
    "          log_x=True, log_y=True, hover_data=['Name'])"
   ]
  },
  {
   "cell_type": "code",
   "execution_count": null,
   "metadata": {},
   "outputs": [],
   "source": []
  }
 ],
 "metadata": {
  "kernelspec": {
   "display_name": "Python 3 (ipykernel)",
   "language": "python",
   "name": "python3"
  },
  "language_info": {
   "codemirror_mode": {
    "name": "ipython",
    "version": 3
   },
   "file_extension": ".py",
   "mimetype": "text/x-python",
   "name": "python",
   "nbconvert_exporter": "python",
   "pygments_lexer": "ipython3",
   "version": "3.8.12"
  },
  "toc": {
   "base_numbering": 1,
   "nav_menu": {},
   "number_sections": true,
   "sideBar": true,
   "skip_h1_title": false,
   "title_cell": "Table of Contents",
   "title_sidebar": "Contents",
   "toc_cell": false,
   "toc_position": {},
   "toc_section_display": true,
   "toc_window_display": false
  }
 },
 "nbformat": 4,
 "nbformat_minor": 4
}
