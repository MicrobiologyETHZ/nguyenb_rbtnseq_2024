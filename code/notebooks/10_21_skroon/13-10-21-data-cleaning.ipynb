{
 "cells": [
  {
   "cell_type": "code",
   "execution_count": null,
   "id": "retired-nursery",
   "metadata": {},
   "outputs": [],
   "source": [
    "import pandas as pd\n",
    "import numpy as np\n",
    "import matplotlib.pyplot as plt\n",
    "import seaborn as sns\n",
    "from pathlib import Path\n",
    "import sys\n",
    "sys.path.append(\"../../mbarq_analysis\")\n",
    "from quality_control import calculate_correlation"
   ]
  },
  {
   "cell_type": "code",
   "execution_count": null,
   "id": "complimentary-price",
   "metadata": {},
   "outputs": [],
   "source": [
    "dataDir = Path(\"/Users/ansintsova/git_repos/nguyenb_tnseq/data/10_21_skroon\")\n",
    "controls_file = Path(\"/Users/ansintsova/git_repos/nguyenb_tnseq/data/controls.txt\")"
   ]
  },
  {
   "cell_type": "code",
   "execution_count": null,
   "id": "connected-estate",
   "metadata": {},
   "outputs": [],
   "source": [
    "files = [f for f in dataDir.glob(\"*_mapped.csv\")]\n",
    "files_unmapped = [f for f in dataDir.glob(\"*_unmapped.csv\")]\n",
    "metadata = pd.read_csv(dataDir/'skroon_metadata.csv', names=['sampleID', 'treatment'], skiprows=1).dropna()\n",
    "metadata_ext = metadata.sampleID.str.split(\"-\", expand=True)\n",
    "metadata_ext.columns = ['dnaid', 'demux_code', 'library', 'experiment', 'mouse', 'day', 'tissue']\n",
    "metadata_ext['day'] = metadata_ext['day'].replace('2', 'd0')\n",
    "metadata = pd.concat([metadata, metadata_ext], axis=1)\n",
    "metadata['sampleID'] = \"dnaid\" +metadata['dnaid'] +\"_\" + metadata['demux_code']"
   ]
  },
  {
   "cell_type": "code",
   "execution_count": null,
   "id": "applied-filing",
   "metadata": {},
   "outputs": [],
   "source": [
    "df = pd.concat([pd.read_csv(f, index_col=0).assign(sampleID=f.stem.split('_counts')[0]) for f in files])\n",
    "df = df.merge(metadata, how='left', on='sampleID').dropna(subset=['mouse'])"
   ]
  },
  {
   "cell_type": "code",
   "execution_count": null,
   "id": "moral-boards",
   "metadata": {},
   "outputs": [],
   "source": [
    "df_unmapped = pd.concat([pd.read_csv(f, index_col=0).assign(sampleID=f.stem.split('_counts')[0]) for f in files_unmapped])\n",
    "df_unmapped = df_unmapped.merge(metadata, how='left', on='sampleID').dropna(subset=['mouse'])\n",
    "controls = pd.read_table(controls_file, header=None, index_col=0)\n",
    "controls.columns = ['barcode', 'phenotype', 'conc']\n",
    "controls = controls.merge(df_unmapped, how='left', on='barcode')\n",
    "df = pd.concat([df, controls])\n",
    "control_barcodes = controls.barcode.values"
   ]
  },
  {
   "cell_type": "code",
   "execution_count": null,
   "id": "steady-riverside",
   "metadata": {},
   "outputs": [],
   "source": [
    "inoculum = df[df.mouse == 'inoc12'].copy()"
   ]
  },
  {
   "cell_type": "code",
   "execution_count": null,
   "id": "musical-curve",
   "metadata": {},
   "outputs": [],
   "source": [
    "inoculum.barcode_cnt.describe()"
   ]
  },
  {
   "cell_type": "code",
   "execution_count": null,
   "id": "federal-pasta",
   "metadata": {},
   "outputs": [],
   "source": [
    "plt.figure(figsize=(6,6))\n",
    "inoculum.barcode_cnt.hist(bins=100)\n",
    "plt.xlim(-100, 20000);"
   ]
  },
  {
   "cell_type": "code",
   "execution_count": null,
   "id": "artificial-remove",
   "metadata": {},
   "outputs": [],
   "source": [
    "# Number of barodes with counts > 1000\n",
    "inoculum[inoculum.barcode_cnt > 500].barcode.nunique()"
   ]
  },
  {
   "cell_type": "code",
   "execution_count": null,
   "id": "involved-bosnia",
   "metadata": {},
   "outputs": [],
   "source": [
    "def calc_relAb(x):\n",
    "    return x/x.sum()*100"
   ]
  },
  {
   "cell_type": "code",
   "execution_count": null,
   "id": "defined-poland",
   "metadata": {},
   "outputs": [],
   "source": [
    "relAb= df[['sampleID', 'barcode_cnt']].groupby('sampleID').apply(lambda x: x/x.sum()*100)"
   ]
  },
  {
   "cell_type": "code",
   "execution_count": null,
   "id": "italian-timer",
   "metadata": {},
   "outputs": [],
   "source": [
    "inoculum['relAb'] = inoculum['barcode_cnt']/inoculum['barcode_cnt'].sum()*100"
   ]
  },
  {
   "cell_type": "code",
   "execution_count": null,
   "id": "restricted-politics",
   "metadata": {},
   "outputs": [],
   "source": [
    "inoculum.relAb.hist(bins=100)"
   ]
  },
  {
   "cell_type": "code",
   "execution_count": null,
   "id": "lasting-backing",
   "metadata": {},
   "outputs": [],
   "source": [
    "inoculum.relAb.describe()"
   ]
  },
  {
   "cell_type": "code",
   "execution_count": null,
   "id": "indonesian-pleasure",
   "metadata": {},
   "outputs": [],
   "source": [
    "# Barcodes to analyze: \n",
    "bc_present = inoculum[inoculum.relAb > 0.01].barcode.values"
   ]
  },
  {
   "cell_type": "code",
   "execution_count": null,
   "id": "attempted-nursery",
   "metadata": {},
   "outputs": [],
   "source": [
    "good_samples"
   ]
  },
  {
   "cell_type": "code",
   "execution_count": null,
   "id": "radical-wichita",
   "metadata": {},
   "outputs": [],
   "source": [
    "relAb_df = (df[['barcode', 'barcode_cnt', 'sampleID']].drop_duplicates().pivot(index='barcode', columns='sampleID')\n",
    " .apply(lambda x: x/x.sum()*100).reset_index()\n",
    ".melt(id_vars='barcode', value_name='relAb')[['barcode', 'sampleID', 'relAb']])\n",
    "df = df.merge(relAb_df, on=['barcode', 'sampleID'])"
   ]
  },
  {
   "cell_type": "code",
   "execution_count": null,
   "id": "warming-synthesis",
   "metadata": {},
   "outputs": [],
   "source": [
    "wt_bc = df[(df.barcode.isin(control_barcodes)) & (df.sampleID.isin(good_samples))]\n",
    "wt_bc = df[(df.barcode.isin(control_barcodes)) ]\n",
    "wt_bc = wt_bc[wt_bc.phenotype == 'wt']\n",
    "wt_bc[['barcode', 'sampleID', 'conc', 'relAb']]"
   ]
  },
  {
   "cell_type": "code",
   "execution_count": null,
   "id": "single-southeast",
   "metadata": {},
   "outputs": [],
   "source": [
    "wt_bc.conc.unique()"
   ]
  },
  {
   "cell_type": "code",
   "execution_count": null,
   "id": "grateful-dallas",
   "metadata": {},
   "outputs": [],
   "source": [
    "plt.figure(figsize=(20,10))\n",
    "sns.boxplot(data=wt_bc[wt_bc.conc == 1.50000e-03], x='demux_code', y='relAb',)\n",
    "sns.stripplot(data=wt_bc[wt_bc.conc == 1.50000e-03], x='demux_code', y='relAb',color='black')\n",
    "#plt.hlines(1.50000e-03, 0, 20)\n",
    "plt.yscale('log')\n",
    "plt.legend('')"
   ]
  },
  {
   "cell_type": "code",
   "execution_count": null,
   "id": "palestinian-professional",
   "metadata": {},
   "outputs": [],
   "source": [
    "plt.figure(figsize=(20,10))\n",
    "sns.boxplot(data=wt_bc[wt_bc.conc == 1.66667e-04], x='demux_code', y='relAb',)\n",
    "sns.stripplot(data=wt_bc[wt_bc.conc == 1.66667e-04], x='demux_code', y='relAb',color='black')\n",
    "#plt.hlines(1.50000e-03, 0, 20)\n",
    "plt.yscale('log')\n",
    "plt.legend('')"
   ]
  },
  {
   "cell_type": "code",
   "execution_count": null,
   "id": "automatic-information",
   "metadata": {},
   "outputs": [],
   "source": [
    "plt.figure(figsize=(20,10))\n",
    "sns.boxplot(data=wt_bc[wt_bc.conc == 1.85185e-05], x='demux_code', y='relAb',)\n",
    "sns.stripplot(data=wt_bc[wt_bc.conc == 1.85185e-05], x='demux_code', y='relAb',color='black')\n",
    "#plt.hlines(1.50000e-03, 0, 20)\n",
    "plt.yscale('log')\n",
    "plt.legend('')"
   ]
  },
  {
   "cell_type": "code",
   "execution_count": null,
   "id": "spectacular-component",
   "metadata": {},
   "outputs": [],
   "source": [
    "corr_df, good_samples = calculate_correlation(controls, concentration_col = 'conc',\n",
    "                          cnt_col='barcode_cnt', phenotype_col='phenotype',\n",
    "                          for_each='sampleID', how='log', wt_phenotype='wt', cutoff=0.6)"
   ]
  },
  {
   "cell_type": "code",
   "execution_count": null,
   "id": "promising-trance",
   "metadata": {},
   "outputs": [],
   "source": [
    "good_samples"
   ]
  },
  {
   "cell_type": "code",
   "execution_count": null,
   "id": "horizontal-shape",
   "metadata": {},
   "outputs": [],
   "source": [
    "metadata"
   ]
  },
  {
   "cell_type": "code",
   "execution_count": null,
   "id": "regular-mexico",
   "metadata": {},
   "outputs": [],
   "source": [
    "corr_df['r2']= corr_df.R**2\n",
    "corr_df[corr_df.phenotype =='wt']"
   ]
  },
  {
   "cell_type": "code",
   "execution_count": null,
   "id": "indian-result",
   "metadata": {},
   "outputs": [],
   "source": [
    "wt = controls[controls.phenotype == 'wt']"
   ]
  },
  {
   "cell_type": "code",
   "execution_count": null,
   "id": "metallic-terrain",
   "metadata": {},
   "outputs": [],
   "source": [
    "wt[wt.sampleID == \"dnaid2030_9\"]"
   ]
  },
  {
   "cell_type": "code",
   "execution_count": null,
   "id": "unlike-knowing",
   "metadata": {},
   "outputs": [],
   "source": [
    "df_unmapped.barcode_cnt.hist(bins=100)"
   ]
  },
  {
   "cell_type": "code",
   "execution_count": null,
   "id": "brilliant-variation",
   "metadata": {},
   "outputs": [],
   "source": [
    "df_unmapped.barcode_cnt.describe()"
   ]
  },
  {
   "cell_type": "code",
   "execution_count": null,
   "id": "combined-fisher",
   "metadata": {},
   "outputs": [],
   "source": []
  },
  {
   "cell_type": "code",
   "execution_count": null,
   "id": "noticed-obligation",
   "metadata": {},
   "outputs": [],
   "source": []
  }
 ],
 "metadata": {
  "kernelspec": {
   "display_name": "Python 3",
   "language": "python",
   "name": "python3"
  },
  "language_info": {
   "codemirror_mode": {
    "name": "ipython",
    "version": 3
   },
   "file_extension": ".py",
   "mimetype": "text/x-python",
   "name": "python",
   "nbconvert_exporter": "python",
   "pygments_lexer": "ipython3",
   "version": "3.6.6"
  }
 },
 "nbformat": 4,
 "nbformat_minor": 5
}
