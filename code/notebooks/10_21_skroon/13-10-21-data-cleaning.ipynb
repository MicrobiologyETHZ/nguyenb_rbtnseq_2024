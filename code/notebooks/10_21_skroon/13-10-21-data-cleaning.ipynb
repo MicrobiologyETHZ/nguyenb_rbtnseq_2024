{
 "cells": [
  {
   "cell_type": "markdown",
   "metadata": {},
   "source": [
    "# Loading the data\n",
    "\n",
    "- Analysis of dnaid2030 for Saane Skroon\n",
    "- Inoculum, LPS injected, control, fecal and cecum samples\n",
    "- Described in  dnaid2030: LPS injections:  13-10-2021-data-cleaning & 19-10-2021-data-cleaning"
   ]
  },
  {
   "cell_type": "code",
   "execution_count": null,
   "metadata": {
    "ExecuteTime": {
     "end_time": "2021-10-21T10:44:02.346036Z",
     "start_time": "2021-10-21T10:44:02.335150Z"
    }
   },
   "outputs": [],
   "source": [
    "# %load ../snippets/basic_settings.py\n",
    "import pandas as pd\n",
    "import numpy as np\n",
    "import matplotlib.pyplot as plt\n",
    "import seaborn as sns\n",
    "from pathlib import Path\n",
    "\n",
    "\n",
    "sns.set_context(\"notebook\", font_scale=1.1)\n",
    "pd.set_option(\"display.max_columns\", 100)\n",
    "pd.set_option(\"display.max_rows\", 100)\n",
    "plt.rcParams[\"figure.figsize\"] = (16, 12)\n",
    "plt.rcParams['savefig.dpi'] = 200\n",
    "plt.rcParams['figure.autolayout'] = False\n",
    "plt.rcParams['axes.labelsize'] = 18\n",
    "plt.rcParams['axes.titlesize'] = 20\n",
    "plt.rcParams['font.size'] = 16\n",
    "plt.rcParams['lines.linewidth'] = 2.0\n",
    "plt.rcParams['lines.markersize'] = 8\n",
    "plt.rcParams['legend.fontsize'] = 14\n",
    "plt.rcParams['text.usetex'] = False  # True activates latex output in fonts!\n",
    "plt.rcParams['font.family'] = \"Nimbus Roman\"\n",
    "plt.rcParams['font.serif'] = \"cm\"\n",
    "pd.set_option('display.float_format', lambda x: '{:,.2f}'.format(x))"
   ]
  },
  {
   "cell_type": "code",
   "execution_count": null,
   "metadata": {
    "ExecuteTime": {
     "end_time": "2021-10-21T10:44:02.999036Z",
     "start_time": "2021-10-21T10:44:02.994068Z"
    }
   },
   "outputs": [],
   "source": [
    "import sys\n",
    "import os\n",
    "sys.path.append(\"../../mbarq_analysis\")\n",
    "from quality_control import calculate_correlation\n",
    "import datetime"
   ]
  },
  {
   "cell_type": "code",
   "execution_count": null,
   "metadata": {
    "ExecuteTime": {
     "end_time": "2021-10-21T10:44:03.623417Z",
     "start_time": "2021-10-21T10:44:03.618067Z"
    }
   },
   "outputs": [],
   "source": [
    "root = Path(\"/nfs/nas22/fs2202/biol_micro_bioinf_nccr/hardt/nguyenb/tnseq\")\n",
    "dataDir = root/\"scratch/08_21/counts/skroon/dnaid2030\"\n",
    "controls_file = root/\"data/metadata/controls.txt\"\n",
    "outDir = root/\"scratch/08_21/results/skroon\"\n",
    "metadata_file = outDir/'skroon_metadata.csv'"
   ]
  },
  {
   "cell_type": "code",
   "execution_count": null,
   "metadata": {
    "ExecuteTime": {
     "end_time": "2021-10-21T10:44:04.673834Z",
     "start_time": "2021-10-21T10:44:04.649006Z"
    }
   },
   "outputs": [],
   "source": [
    "files = [f for f in dataDir.glob(\"*_mapped.csv\")]\n",
    "files_unmapped = [f for f in dataDir.glob(\"*_unmapped.csv\")]\n",
    "metadata = pd.read_csv(metadata_file, names=['sampleID', 'treatment'], skiprows=1).dropna()\n",
    "metadata_ext = metadata.sampleID.str.split(\"-\", expand=True)\n",
    "metadata_ext.columns = ['dnaid', 'demux_code', 'library', 'experiment', 'mouse', 'day', 'tissue']\n",
    "metadata_ext['day'] = metadata_ext['day'].replace('2', 'd0')\n",
    "metadata = pd.concat([metadata, metadata_ext], axis=1)\n",
    "metadata['sampleID'] = \"dnaid\" + metadata['dnaid'] +\"_\" + metadata['demux_code']"
   ]
  },
  {
   "cell_type": "markdown",
   "metadata": {
    "ExecuteTime": {
     "end_time": "2021-10-21T08:21:38.886984Z",
     "start_time": "2021-10-21T08:21:38.882698Z"
    }
   },
   "source": [
    "## Make sure using files from Oct 19/2021"
   ]
  },
  {
   "cell_type": "code",
   "execution_count": null,
   "metadata": {
    "ExecuteTime": {
     "end_time": "2021-10-21T10:44:05.641392Z",
     "start_time": "2021-10-21T10:44:05.632216Z"
    },
    "code_folding": [
     1
    ]
   },
   "outputs": [],
   "source": [
    "counted_date = datetime.date(2021, 10, 19)\n",
    "for file in files:\n",
    "    try:\n",
    "        assert datetime.datetime.fromtimestamp(os.path.getmtime(file)).date() == counted_date\n",
    "    except AssertionError:\n",
    "        print(f'{file.name}: Date modified is not the expected date')\n",
    "        print(\"last modified: %s\" % datetime.datetime.fromtimestamp(os.path.getmtime(file)).date())\n"
   ]
  },
  {
   "cell_type": "code",
   "execution_count": null,
   "metadata": {
    "ExecuteTime": {
     "end_time": "2021-10-21T10:44:06.287606Z",
     "start_time": "2021-10-21T10:44:06.058518Z"
    }
   },
   "outputs": [],
   "source": [
    "df = pd.concat([pd.read_csv(f, index_col=0).assign(sampleID=f.stem.split('_counts')[0]) for f in files])\n",
    "df = df.merge(metadata, how='left', on='sampleID').dropna(subset=['mouse'])"
   ]
  },
  {
   "cell_type": "code",
   "execution_count": null,
   "metadata": {
    "ExecuteTime": {
     "end_time": "2021-10-21T10:44:08.814066Z",
     "start_time": "2021-10-21T10:44:07.097777Z"
    }
   },
   "outputs": [],
   "source": [
    "df_unmapped = pd.concat([pd.read_csv(f, index_col=0).assign(sampleID=f.stem.split('_counts')[0]) for f in files_unmapped])\n",
    "df_unmapped = df_unmapped.merge(metadata, how='left', on='sampleID').dropna(subset=['mouse'])\n",
    "controls = pd.read_table(controls_file, header=None, index_col=0)\n",
    "controls.columns = ['barcode', 'phenotype', 'conc']\n",
    "controls = controls.merge(df_unmapped, how='left', on='barcode')\n",
    "controls['ShortName'] = controls['phenotype'] + '-' + controls['conc'].astype(str)\n",
    "df = pd.concat([df, controls])\n",
    "control_barcodes = controls.barcode.values"
   ]
  },
  {
   "cell_type": "markdown",
   "metadata": {},
   "source": [
    "# Quality Control"
   ]
  },
  {
   "cell_type": "markdown",
   "metadata": {},
   "source": [
    "## Looking at the inoculum"
   ]
  },
  {
   "cell_type": "code",
   "execution_count": null,
   "metadata": {
    "ExecuteTime": {
     "end_time": "2021-10-21T08:22:15.680475Z",
     "start_time": "2021-10-21T08:22:15.658364Z"
    }
   },
   "outputs": [],
   "source": [
    "inoculum = df[df.mouse == 'inoc12'].copy()"
   ]
  },
  {
   "cell_type": "code",
   "execution_count": null,
   "metadata": {
    "ExecuteTime": {
     "end_time": "2021-10-21T08:22:17.047530Z",
     "start_time": "2021-10-21T08:22:17.034346Z"
    }
   },
   "outputs": [],
   "source": [
    "inoculum.barcode_cnt.describe()"
   ]
  },
  {
   "cell_type": "code",
   "execution_count": null,
   "metadata": {
    "ExecuteTime": {
     "end_time": "2021-10-21T08:22:26.800019Z",
     "start_time": "2021-10-21T08:22:26.367430Z"
    }
   },
   "outputs": [],
   "source": [
    "inoculum.barcode_cnt.hist(bins=300)\n",
    "plt.xlim(-100, 20000);"
   ]
  },
  {
   "cell_type": "code",
   "execution_count": null,
   "metadata": {
    "ExecuteTime": {
     "end_time": "2021-10-21T08:25:54.873937Z",
     "start_time": "2021-10-21T08:25:54.863855Z"
    }
   },
   "outputs": [],
   "source": [
    "# Number of barodes with counts > 1000\n",
    "inoculum[inoculum.barcode_cnt > 1000].barcode.nunique()"
   ]
  },
  {
   "cell_type": "code",
   "execution_count": null,
   "metadata": {
    "ExecuteTime": {
     "end_time": "2021-10-21T08:24:45.692126Z",
     "start_time": "2021-10-21T08:24:45.687468Z"
    }
   },
   "outputs": [],
   "source": [
    "def calc_relAb(x):\n",
    "    return x/x.sum()*100"
   ]
  },
  {
   "cell_type": "code",
   "execution_count": null,
   "metadata": {
    "ExecuteTime": {
     "end_time": "2021-10-21T08:24:46.311809Z",
     "start_time": "2021-10-21T08:24:46.276179Z"
    }
   },
   "outputs": [],
   "source": [
    "relAb= df[['sampleID', 'barcode_cnt']].groupby('sampleID').apply(lambda x: x/x.sum()*100)"
   ]
  },
  {
   "cell_type": "code",
   "execution_count": null,
   "metadata": {
    "ExecuteTime": {
     "end_time": "2021-10-21T08:24:46.795269Z",
     "start_time": "2021-10-21T08:24:46.788590Z"
    }
   },
   "outputs": [],
   "source": [
    "inoculum['relAb'] = inoculum['barcode_cnt']/inoculum['barcode_cnt'].sum()*100"
   ]
  },
  {
   "cell_type": "code",
   "execution_count": null,
   "metadata": {
    "ExecuteTime": {
     "end_time": "2021-10-21T08:24:47.767750Z",
     "start_time": "2021-10-21T08:24:47.310898Z"
    }
   },
   "outputs": [],
   "source": [
    "inoculum.relAb.hist(bins=300)"
   ]
  },
  {
   "cell_type": "code",
   "execution_count": null,
   "metadata": {
    "ExecuteTime": {
     "end_time": "2021-10-21T08:24:47.855976Z",
     "start_time": "2021-10-21T08:24:47.844084Z"
    }
   },
   "outputs": [],
   "source": [
    "inoculum.relAb.describe()"
   ]
  },
  {
   "cell_type": "code",
   "execution_count": null,
   "metadata": {
    "ExecuteTime": {
     "end_time": "2021-10-21T08:25:47.888431Z",
     "start_time": "2021-10-21T08:25:47.878851Z"
    }
   },
   "outputs": [],
   "source": [
    "# Barcodes to analyze: \n",
    "bc_present = inoculum[inoculum.relAb > 0.01].barcode.values\n",
    "len(bc_present)"
   ]
  },
  {
   "cell_type": "markdown",
   "metadata": {},
   "source": [
    "## Calculating WITS correlation "
   ]
  },
  {
   "cell_type": "code",
   "execution_count": null,
   "metadata": {
    "ExecuteTime": {
     "end_time": "2021-10-21T10:41:25.483684Z",
     "start_time": "2021-10-21T10:41:25.443939Z"
    }
   },
   "outputs": [],
   "source": [
    "corr_df, good_samples = calculate_correlation(controls, concentration_col = 'conc',\n",
    "                          cnt_col='barcode_cnt', phenotype_col='phenotype',\n",
    "                          for_each='sampleID', how='log_w_0', wt_phenotype='wt', cutoff=0.8)"
   ]
  },
  {
   "cell_type": "code",
   "execution_count": null,
   "metadata": {
    "ExecuteTime": {
     "end_time": "2021-10-21T10:41:26.767804Z",
     "start_time": "2021-10-21T10:41:26.758540Z"
    }
   },
   "outputs": [],
   "source": [
    "def graph_wits_correlation(controls, metadata, sampleName, ax):\n",
    "    meta_dict = metadata.set_index('sampleID').to_dict()\n",
    "    df = controls[(controls.phenotype == 'wt') &(controls.sampleID == sampleName)].copy()\n",
    "    r2 = round(df.logConc.corr(df.logCnts)**2, 2)\n",
    "    label = meta_dict['mouse'][sampleName] + '_' + meta_dict['treatment'][sampleName] + f\"; R2 = {r2}\"\n",
    "    sns.regplot(data=df, x='logConc', y='logCnts', ax=ax);\n",
    "    ax.set_title(label);\n",
    "    ax.set_xlim(df.logConc.min() -0.5, df.logConc.max() + 0.5)"
   ]
  },
  {
   "cell_type": "code",
   "execution_count": null,
   "metadata": {
    "ExecuteTime": {
     "end_time": "2021-10-20T10:06:59.145707Z",
     "start_time": "2021-10-20T10:06:54.477887Z"
    }
   },
   "outputs": [],
   "source": [
    "sns.set(font_scale=0.9)\n",
    "fig, axes = plt.subplots(6, 3, figsize=(15, 30))\n",
    "axes = axes.flatten()\n",
    "for i, name in enumerate(controls.sampleID.unique()):\n",
    "    graph_wits_correlation(controls, metadata, name, axes[i])\n",
    "fig.savefig(outDir/\"wt_correlations.png\")"
   ]
  },
  {
   "cell_type": "markdown",
   "metadata": {},
   "source": [
    "## Plotting wt strain relative abundance by concentrations"
   ]
  },
  {
   "cell_type": "code",
   "execution_count": null,
   "metadata": {
    "ExecuteTime": {
     "end_time": "2021-10-21T10:41:29.504335Z",
     "start_time": "2021-10-21T10:41:29.443423Z"
    }
   },
   "outputs": [],
   "source": [
    "relAb_df = (df[['barcode', 'barcode_cnt', 'sampleID']].drop_duplicates().pivot(index='barcode', columns='sampleID')\n",
    " .apply(lambda x: x/x.sum()*100).reset_index()\n",
    ".melt(id_vars='barcode', value_name='relAb')[['barcode', 'sampleID', 'relAb']])\n",
    "df = df.merge(relAb_df, on=['barcode', 'sampleID'])"
   ]
  },
  {
   "cell_type": "code",
   "execution_count": null,
   "metadata": {
    "ExecuteTime": {
     "end_time": "2021-10-21T10:41:29.823449Z",
     "start_time": "2021-10-21T10:41:29.795544Z"
    }
   },
   "outputs": [],
   "source": [
    "wt_bc = df[(df.barcode.isin(control_barcodes)) & (df.sampleID.isin(good_samples))]\n",
    "wt_bc = df[(df.barcode.isin(control_barcodes)) ]\n",
    "wt_bc = wt_bc[wt_bc.phenotype == 'wt']\n",
    "wt_bc[['barcode', 'sampleID', 'conc', 'relAb']]\n",
    "wt_bc.conc.unique()"
   ]
  },
  {
   "cell_type": "code",
   "execution_count": null,
   "metadata": {
    "ExecuteTime": {
     "end_time": "2021-10-20T10:12:02.408648Z",
     "start_time": "2021-10-20T10:12:01.766322Z"
    }
   },
   "outputs": [],
   "source": [
    "plt.figure(figsize=(20,10))\n",
    "data = wt_bc[wt_bc.conc == 1.50000e-03].sort_values('sampleID')\n",
    "sns.boxplot(data=data, x='demux_code', y='relAb')\n",
    "sns.stripplot(data=data, x='demux_code', y='relAb',color='black')\n",
    "#plt.hlines(1.50000e-03, 0, 20)\n",
    "plt.yscale('log')\n",
    "plt.legend('')\n",
    "plt.ylim(1e-05, 1);"
   ]
  },
  {
   "cell_type": "code",
   "execution_count": null,
   "metadata": {
    "ExecuteTime": {
     "end_time": "2021-10-20T10:13:20.832656Z",
     "start_time": "2021-10-20T10:13:20.184888Z"
    }
   },
   "outputs": [],
   "source": [
    "plt.figure(figsize=(20,10))\n",
    "data = wt_bc[wt_bc.conc == 5.00000e-04].sort_values('sampleID')\n",
    "sns.boxplot(data=data, x='demux_code', y='relAb')\n",
    "sns.stripplot(data=data, x='demux_code', y='relAb',color='black')\n",
    "#plt.hlines(1.50000e-03, 0, 20)\n",
    "plt.yscale('log')\n",
    "plt.legend('')\n",
    "plt.ylim(1e-05, 1);"
   ]
  },
  {
   "cell_type": "code",
   "execution_count": null,
   "metadata": {
    "ExecuteTime": {
     "end_time": "2021-10-20T10:12:17.060337Z",
     "start_time": "2021-10-20T10:12:16.436808Z"
    }
   },
   "outputs": [],
   "source": [
    "plt.figure(figsize=(20,10))\n",
    "data = wt_bc[wt_bc.conc == 1.66667e-04].sort_values('sampleID')\n",
    "sns.boxplot(data=data, x='demux_code', y='relAb',)\n",
    "sns.stripplot(data=data, x='demux_code', y='relAb',color='black')\n",
    "#plt.hlines(1.50000e-03, 0, 20)\n",
    "plt.yscale('log')\n",
    "plt.legend('')\n",
    "plt.ylim(1e-05, 1);"
   ]
  },
  {
   "cell_type": "code",
   "execution_count": null,
   "metadata": {
    "ExecuteTime": {
     "end_time": "2021-10-20T10:13:58.635932Z",
     "start_time": "2021-10-20T10:13:57.995787Z"
    }
   },
   "outputs": [],
   "source": [
    "plt.figure(figsize=(20,10))\n",
    "data = wt_bc[wt_bc.conc == 5.55556e-05].sort_values('sampleID')\n",
    "sns.boxplot(data=data, x='demux_code', y='relAb')\n",
    "sns.stripplot(data=data, x='demux_code', y='relAb',color='black')\n",
    "#plt.hlines(1.50000e-03, 0, 20)\n",
    "plt.yscale('log')\n",
    "plt.legend('')\n",
    "plt.ylim(1e-05, 1);"
   ]
  },
  {
   "cell_type": "code",
   "execution_count": null,
   "metadata": {
    "ExecuteTime": {
     "end_time": "2021-10-20T10:12:26.908270Z",
     "start_time": "2021-10-20T10:12:26.123355Z"
    }
   },
   "outputs": [],
   "source": [
    "plt.figure(figsize=(20,10))\n",
    "data = wt_bc[wt_bc.conc == 1.85185e-05].sort_values('sampleID')\n",
    "sns.boxplot(data=data, x='demux_code', y='relAb',)\n",
    "sns.stripplot(data=data, x='demux_code', y='relAb',color='black')\n",
    "#plt.hlines(1.50000e-03, 0, 20)\n",
    "plt.yscale('log')\n",
    "plt.ylim(1e-05, 1);\n",
    "plt.legend('')"
   ]
  },
  {
   "cell_type": "markdown",
   "metadata": {},
   "source": [
    "# Summarizing at Gene level"
   ]
  },
  {
   "cell_type": "code",
   "execution_count": null,
   "metadata": {
    "ExecuteTime": {
     "end_time": "2021-10-21T10:44:21.086636Z",
     "start_time": "2021-10-21T10:44:21.051153Z"
    }
   },
   "outputs": [],
   "source": [
    "df['tissue'] = df.tissue.replace('CC', 'cc')\n",
    "clean_df = df[df.sampleID.isin(good_samples)]\n",
    "clean_gene_df = (clean_df.groupby(['library', 'sampleID', 'ShortName', 'experiment', 'mouse', 'day', 'tissue'])\n",
    "          .barcode_cnt.sum().reset_index())"
   ]
  },
  {
   "cell_type": "code",
   "execution_count": null,
   "metadata": {
    "ExecuteTime": {
     "end_time": "2021-10-21T10:44:22.864836Z",
     "start_time": "2021-10-21T10:44:22.836783Z"
    }
   },
   "outputs": [],
   "source": [
    "clean_df_filtered = clean_df[clean_df.barcode.isin(bc_present)]\n",
    "clean_gene_df_filtered = (clean_df_filtered.groupby(['library', 'sampleID', 'ShortName', \n",
    "                                                     'experiment', 'mouse', 'day', 'tissue'])\n",
    "          .barcode_cnt.sum().reset_index())"
   ]
  },
  {
   "cell_type": "markdown",
   "metadata": {},
   "source": [
    "# Writting out clean data"
   ]
  },
  {
   "cell_type": "code",
   "execution_count": null,
   "metadata": {
    "ExecuteTime": {
     "end_time": "2021-10-21T08:36:50.229147Z",
     "start_time": "2021-10-21T08:36:50.224549Z"
    }
   },
   "outputs": [],
   "source": [
    "# Drop unenriched sample from good samples\n",
    "good_samples = list(good_samples)\n",
    "good_samples.remove('dnaid2030_3')"
   ]
  },
  {
   "cell_type": "code",
   "execution_count": null,
   "metadata": {
    "ExecuteTime": {
     "end_time": "2021-10-21T11:27:29.184711Z",
     "start_time": "2021-10-21T11:27:29.165691Z"
    }
   },
   "outputs": [],
   "source": [
    "clean_meta = metadata[metadata.sampleID.isin(good_samples)].copy()\n",
    "clean_meta['tissue'] = clean_meta.tissue.replace('CC', 'cc')\n",
    "clean_meta"
   ]
  },
  {
   "cell_type": "code",
   "execution_count": null,
   "metadata": {
    "ExecuteTime": {
     "end_time": "2021-10-21T10:55:02.193103Z",
     "start_time": "2021-10-21T10:55:02.101190Z"
    }
   },
   "outputs": [],
   "source": [
    "clean_gene_df.to_csv(outDir/'21-10-2021-annotated_gene_counts_after_qc.csv')\n",
    "clean_gene_df_filtered.to_csv(outDir/'21-10-2021-annotated_gene_counts_filtered_after_qc.csv')"
   ]
  },
  {
   "cell_type": "code",
   "execution_count": null,
   "metadata": {
    "ExecuteTime": {
     "end_time": "2021-10-21T10:54:05.446834Z",
     "start_time": "2021-10-21T10:54:05.429835Z"
    }
   },
   "outputs": [],
   "source": [
    "clean_gene_df[clean_gene_df.ShortName==\"wt-0.0015\"]"
   ]
  },
  {
   "cell_type": "markdown",
   "metadata": {},
   "source": []
  }
 ],
 "metadata": {
  "kernelspec": {
   "display_name": "Python 3 (ipykernel)",
   "language": "python",
   "name": "python3"
  },
  "language_info": {
   "codemirror_mode": {
    "name": "ipython",
    "version": 3
   },
   "file_extension": ".py",
   "mimetype": "text/x-python",
   "name": "python",
   "nbconvert_exporter": "python",
   "pygments_lexer": "ipython3",
   "version": "3.8.12"
  },
  "toc": {
   "base_numbering": 1,
   "nav_menu": {},
   "number_sections": true,
   "sideBar": true,
   "skip_h1_title": false,
   "title_cell": "Table of Contents",
   "title_sidebar": "Contents",
   "toc_cell": false,
   "toc_position": {},
   "toc_section_display": true,
   "toc_window_display": true
  }
 },
 "nbformat": 4,
 "nbformat_minor": 5
}
