{
 "cells": [
  {
   "cell_type": "code",
   "execution_count": null,
   "metadata": {
    "ExecuteTime": {
     "end_time": "2021-10-21T11:26:57.146995Z",
     "start_time": "2021-10-21T11:26:57.135484Z"
    }
   },
   "outputs": [],
   "source": [
    "# %load ../snippets/basic_settings.py\n",
    "import pandas as pd\n",
    "import numpy as np\n",
    "import matplotlib.pyplot as plt\n",
    "import seaborn as sns\n",
    "from pathlib import Path\n",
    "\n",
    "\n",
    "sns.set_context(\"notebook\", font_scale=1.1)\n",
    "pd.set_option(\"display.max_columns\", 100)\n",
    "pd.set_option(\"display.max_rows\", 100)\n",
    "plt.rcParams[\"figure.figsize\"] = (16, 12)\n",
    "plt.rcParams['savefig.dpi'] = 200\n",
    "plt.rcParams['figure.autolayout'] = False\n",
    "plt.rcParams['axes.labelsize'] = 18\n",
    "plt.rcParams['axes.titlesize'] = 20\n",
    "plt.rcParams['font.size'] = 16\n",
    "plt.rcParams['lines.linewidth'] = 2.0\n",
    "plt.rcParams['lines.markersize'] = 8\n",
    "plt.rcParams['legend.fontsize'] = 14\n",
    "plt.rcParams['text.usetex'] = False  # True activates latex output in fonts!\n",
    "plt.rcParams['font.family'] = \"serif\"\n",
    "plt.rcParams['font.serif'] = \"cm\"\n",
    "pd.set_option('display.float_format', lambda x: '{:,.2f}'.format(x))"
   ]
  },
  {
   "cell_type": "code",
   "execution_count": null,
   "metadata": {
    "ExecuteTime": {
     "end_time": "2021-10-21T11:40:12.573251Z",
     "start_time": "2021-10-21T11:40:12.567976Z"
    }
   },
   "outputs": [],
   "source": [
    "import scipy\n",
    "from  statsmodels.stats.multitest import multipletests\n",
    "import subprocess\n",
    "import os"
   ]
  },
  {
   "cell_type": "markdown",
   "metadata": {},
   "source": [
    "# Loading the data"
   ]
  },
  {
   "cell_type": "code",
   "execution_count": null,
   "metadata": {
    "ExecuteTime": {
     "end_time": "2021-10-21T11:27:05.240490Z",
     "start_time": "2021-10-21T11:27:05.234297Z"
    }
   },
   "outputs": [],
   "source": [
    "root = Path(\"/nfs/nas22/fs2202/biol_micro_bioinf_nccr/hardt/nguyenb/tnseq\")\n",
    "dataDir = root/\"scratch/08_21/counts/skroon/dnaid2030\"\n",
    "controls_file = root/\"data/metadata/controls.txt\"\n",
    "outDir = root/\"scratch/08_21/results/skroon\"\n",
    "cnt_file = outDir/'21-10-2021-annotated_gene_counts_after_qc.csv'\n",
    "filt_cnt_file = outDir/'21-10-2021-annotated_gene_filtered_counts_after_qc.csv'"
   ]
  },
  {
   "cell_type": "markdown",
   "metadata": {
    "ExecuteTime": {
     "end_time": "2021-10-21T08:40:52.112488Z",
     "start_time": "2021-10-21T08:40:52.102420Z"
    }
   },
   "source": [
    "## Set up data for DESeq2 analysis\n",
    "1. Sample Data\n",
    "2. Expression Data (count table)\n",
    "3. Design formula"
   ]
  },
  {
   "cell_type": "code",
   "execution_count": null,
   "metadata": {
    "ExecuteTime": {
     "end_time": "2021-10-21T11:27:48.796143Z",
     "start_time": "2021-10-21T11:27:48.786577Z"
    },
    "code_folding": []
   },
   "outputs": [],
   "source": [
    "# Takes already pre-filtered dataset, and sets up input for DESeq2\n",
    "# Assume looked through # of samples etc and specified correct design\n",
    "\n",
    "def generate_DE_dataset(exp_df, sample_id='sampleID', feat_id = 'ShortName', cnt_col='barcode_cnt',  \n",
    "                        other_cols = ('mouse', 'day', 'tissue', 'dnaid', 'experiment')):\n",
    "\n",
    "    sample_data = (exp_df[[sample_id] +[c for c in other_cols]]\n",
    "                   .set_index(sample_id).drop_duplicates())\n",
    "    \n",
    "    expr_data = (exp_df[[sample_id, feat_id, cnt_col]].drop_duplicates()\n",
    "                 .pivot(index=feat_id, columns=sample_id)\n",
    "                 .fillna(0))\n",
    "    \n",
    "    expr_data.columns = [c[1] for c in expr_data.columns]\n",
    "    expr_data = expr_data[list(sample_data.index)].reset_index()\n",
    "\n",
    "    return sample_data, expr_data"
   ]
  },
  {
   "cell_type": "code",
   "execution_count": null,
   "metadata": {
    "ExecuteTime": {
     "end_time": "2021-10-21T11:28:00.980827Z",
     "start_time": "2021-10-21T11:28:00.956426Z"
    }
   },
   "outputs": [],
   "source": [
    "sdf, edf = generate_DE_dataset(cnts, other_cols=['mouse', 'day', 'tissue'])"
   ]
  },
  {
   "cell_type": "markdown",
   "metadata": {},
   "source": [
    "# Run DESeq Script"
   ]
  },
  {
   "cell_type": "code",
   "execution_count": null,
   "metadata": {
    "ExecuteTime": {
     "end_time": "2021-10-21T11:35:43.106527Z",
     "start_time": "2021-10-21T11:35:43.096951Z"
    },
    "code_folding": [
     0,
     3,
     5
    ]
   },
   "outputs": [],
   "source": [
    "def run_command(args):\n",
    "    \"\"\"Run command, transfer stdout/stderr\"\"\"\n",
    "    result = subprocess.run(args)\n",
    "    try:\n",
    "        result.check_returncode()\n",
    "    except subprocess.CalledProcessError as e:\n",
    "        raise e\n",
    "        \n",
    "\n",
    "def get_fitness_results(fitness_dir, experiment, sdf, edf, design, r_path, feat_id):\n",
    "    sdf_path = Path(fitness_dir) / f\"{experiment}_sdf.csv\"\n",
    "    edf_path = Path(fitness_dir) / f\"{experiment}_edf.csv\"\n",
    "    sdf.to_csv(sdf_path)\n",
    "    edf.set_index(feat_id).to_csv(edf_path)\n",
    "    cmd = f'Rscript {r_path} {sdf_path} {edf_path}'\n",
    "    print(cmd)\n",
    "    r = run_command(cmd.split())\n",
    "    os.remove(sdf_path)\n",
    "    os.remove(edf_path)"
   ]
  },
  {
   "cell_type": "code",
   "execution_count": null,
   "metadata": {
    "ExecuteTime": {
     "end_time": "2021-10-21T11:40:27.398381Z",
     "start_time": "2021-10-21T11:40:16.019392Z"
    }
   },
   "outputs": [],
   "source": [
    "get_fitness_results(outDir, 'skroon_test', sdf, edf, 'tissue', \n",
    "                    root/\"code/notebooks/10_21_skroon/DEseq.R\", 'ShortName')"
   ]
  },
  {
   "cell_type": "code",
   "execution_count": null,
   "metadata": {
    "ExecuteTime": {
     "end_time": "2021-10-21T11:40:48.100303Z",
     "start_time": "2021-10-21T11:40:48.073456Z"
    }
   },
   "outputs": [],
   "source": [
    "feces_results = (pd.read_csv(root/'scratch/08_21/results/skroon/21-10-2021-skroon_feces_results.csv')\n",
    "                 .assign(tissue='feces')\n",
    "                 .rename({'Unnamed: 0': 'barcode'}, axis=1))\n",
    "cc_results = (pd.read_csv(root/'scratch/08_21/results/skroon/21-10-2021-skroon_cc_results.csv')\n",
    "              .assign(tissue='cc')\n",
    "              .rename({'Unnamed: 0': 'barcode'}, axis=1))\n"
   ]
  },
  {
   "cell_type": "markdown",
   "metadata": {},
   "source": [
    "# Compare to WT "
   ]
  },
  {
   "cell_type": "code",
   "execution_count": null,
   "metadata": {
    "ExecuteTime": {
     "end_time": "2021-10-21T11:40:59.802575Z",
     "start_time": "2021-10-21T11:40:59.770277Z"
    },
    "code_folding": [
     0,
     4,
     8,
     15
    ]
   },
   "outputs": [],
   "source": [
    "def sigma(lfcSE):\n",
    "    return np.sqrt(lfcSE.pow(2).sum()) / len(lfcSE)\n",
    "\n",
    "\n",
    "def calculate_2dist_zscore(u1, s1, u2, s2):\n",
    "    return (u1 - u2) / np.sqrt((s1 ** 2) + (s2 ** 2))\n",
    "\n",
    "\n",
    "def to_list(x):\n",
    "    bc_list = list(x)\n",
    "    if len(bc_list) == 1:\n",
    "        return bc_list[0]\n",
    "    return \", \".join(list(set(x)))\n",
    "\n",
    "\n",
    "def calculate_comparisons2(fitness, df, control_file, treat_var='day'):\n",
    "    \"\"\"\n",
    "\n",
    "    fitness: DESeq2 output, log2FoldChange value for each barcode comparing each time point with inoculum\n",
    "    df: df for 1 experiment and 1 dnaid\n",
    "    controls: control meta df?\n",
    "    \"\"\"\n",
    "    days = sorted(list(fitness[treat_var].unique()))\n",
    "    # days.remove('d0')\n",
    "    controls = pd.read_table(control_file, names=['barcode', 'phenotype', 'conc'])\n",
    "\n",
    "    controls['CntrlName']= controls['phenotype'] +'-'+ controls['conc'].astype(str)\n",
    "    controls_bc = controls[controls.phenotype == 'wt'].CntrlName.values\n",
    "    #controls_bc = controls[controls.phenotype == 'wt'].barcode.values\n",
    "    cntrl_df = fitness[fitness.barcode.isin(controls_bc)]\n",
    "\n",
    "    gene_df = fitness[~fitness.barcode.isin(controls_bc)].rename({'barcode':'ShortName'}, axis=1)\n",
    "    gene_mean = gene_df.groupby(['ShortName', treat_var]).agg(\n",
    "            {'log2FoldChange': ['mean', 'median'], 'lfcSE': [sigma]}).reset_index()\n",
    "    gene_mean.columns = ['gene', treat_var, 'gene_FC', 'gene_FC_median', 'sigma']\n",
    "    cntrl_mean = cntrl_df.groupby([treat_var]).agg({'log2FoldChange': ['mean', 'median'], 'lfcSE': [sigma]})\n",
    "    cntrl_mean.columns = ['cntrl_FC', 'cntrl_FC_median', 'cntrl_sigma']\n",
    "    cntrl_mean = cntrl_mean.reset_index()\n",
    "    gene_mean = gene_mean.merge(cntrl_mean, how='left', on=treat_var)\n",
    "    \n",
    "    gene_mean['zscore'] = gene_mean.apply(\n",
    "            lambda x: calculate_2dist_zscore(x['gene_FC'], x['sigma'], x['cntrl_FC'], x['cntrl_sigma']), axis=1)\n",
    "\n",
    "    gene_mean['ci'] = gene_mean.apply(lambda x: 2 ** x['gene_FC'] / 2 ** x['cntrl_FC'], axis=1)\n",
    "    gene_mean = gene_mean[['gene', treat_var, 'gene_FC',  'sigma', 'zscore', 'ci']]\n",
    "    results = gene_mean.copy()\n",
    "    results['pval'] = results.zscore.apply(lambda x: scipy.stats.norm.sf(abs(x)) * 2)\n",
    "    results['padj'] = results.groupby(treat_var).pval.transform(lambda x: multipletests(x, alpha=0.05, method='fdr_bh')[1])\n",
    "    return results\n"
   ]
  },
  {
   "cell_type": "code",
   "execution_count": null,
   "metadata": {
    "ExecuteTime": {
     "end_time": "2021-10-21T11:41:46.774637Z",
     "start_time": "2021-10-21T11:41:46.293190Z"
    }
   },
   "outputs": [],
   "source": [
    "results = calculate_comparisons2(fitness_df, cnts, controls_file, treat_var='tissue')"
   ]
  },
  {
   "cell_type": "code",
   "execution_count": null,
   "metadata": {
    "ExecuteTime": {
     "end_time": "2021-10-21T11:49:54.115705Z",
     "start_time": "2021-10-21T11:49:54.107082Z"
    }
   },
   "outputs": [],
   "source": [
    "zresults_feces = results[results.tissue == 'feces']\n",
    "zresults_cc = results[results.tissue == 'cc']"
   ]
  },
  {
   "cell_type": "code",
   "execution_count": null,
   "metadata": {
    "ExecuteTime": {
     "end_time": "2021-10-21T11:51:01.875085Z",
     "start_time": "2021-10-21T11:51:01.820294Z"
    }
   },
   "outputs": [],
   "source": [
    "zresults_cc.to_csv(root/'scratch/08_21/results/skroon/21-10-2021-skroon_cc_zscore_results.csv')\n",
    "zresults_feces.to_csv(root/'scratch/08_21/results/skroon/21-10-2021-skroon_feces_zscore_results.csv')"
   ]
  }
 ],
 "metadata": {
  "kernelspec": {
   "display_name": "Python 3 (ipykernel)",
   "language": "python",
   "name": "python3"
  },
  "language_info": {
   "codemirror_mode": {
    "name": "ipython",
    "version": 3
   },
   "file_extension": ".py",
   "mimetype": "text/x-python",
   "name": "python",
   "nbconvert_exporter": "python",
   "pygments_lexer": "ipython3",
   "version": "3.8.12"
  },
  "toc": {
   "base_numbering": 1,
   "nav_menu": {},
   "number_sections": true,
   "sideBar": true,
   "skip_h1_title": false,
   "title_cell": "Table of Contents",
   "title_sidebar": "Contents",
   "toc_cell": false,
   "toc_position": {},
   "toc_section_display": true,
   "toc_window_display": true
  }
 },
 "nbformat": 4,
 "nbformat_minor": 4
}
