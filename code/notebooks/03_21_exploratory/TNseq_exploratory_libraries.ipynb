{
 "cells": [
  {
   "cell_type": "code",
   "execution_count": null,
   "metadata": {},
   "outputs": [],
   "source": [
    "import pandas as pd\n",
    "import plotnine as p9\n",
    "from pathlib import Path\n",
    "from scipy import stats\n",
    "import numpy as np\n",
    "import seaborn as sns\n",
    "import matplotlib.pyplot as plt\n",
    "import plotnine as p9"
   ]
  },
  {
   "cell_type": "code",
   "execution_count": null,
   "metadata": {},
   "outputs": [],
   "source": [
    "results_dir = \"../../data/processed/results\"\n",
    "samples = [f.stem for f in Path(results_dir).iterdir()]\n",
    "libraries = {sample: [f.stem.split(\"_\")[2] for f in (Path(results_dir)/sample).glob('*counts*.txt')]\n",
    "            for sample in samples}\n",
    "library_to_mapping_file = {}"
   ]
  },
  {
   "cell_type": "code",
   "execution_count": null,
   "metadata": {},
   "outputs": [],
   "source": [
    "samples"
   ]
  },
  {
   "cell_type": "code",
   "execution_count": null,
   "metadata": {},
   "outputs": [],
   "source": [
    "\n",
    "results_dir = \"../../data/processed/results\"\n",
    "controls = pd.read_table('../../data/metadata/controls.txt', header=None, \n",
    "                        names = ['DN', 'barcode', 'phenotype', 'conc'])\n",
    "meta_dir = \"../../data/metadata\"\n",
    "\n",
    "\n",
    "def read_count_files(sample, exp, results_dir=results_dir):\n",
    "    df = pd.read_table(Path(results_dir)/f'{sample}/{sample}_counts_{exp}.txt', sep=\" \").assign(exp=exp)\n",
    "    df = (df.reset_index().rename({'index':'barcode'}, axis=1)\n",
    "          .melt(id_vars=['barcode','Position', 'Element', 'Strand', 'Feature', 'ShortName', 'exp']))\n",
    "    df['proportion'] = df['value']/ df.groupby('variable')['value'].transform('sum')\n",
    "    expansion = df['variable'].str.split('-', expand=True)\n",
    "    df['mouse'], df['day'],df['organ'] = expansion[0], expansion[1], expansion[2]\n",
    "    df = df.rename({'variable':'sample', 'value':'cnts'}, axis=1)\n",
    "    return df\n",
    "\n",
    "\n",
    "def load_sample(sample, meta_dir = meta_dir, results_dir = results_dir):\n",
    "    meta = (pd.read_table(Path(meta_dir)/f'{sample}_metadata.txt', header=None, \n",
    "                        names = ['DN', 'lib', 'exp', 'DN2', 'sample', 'day', 'organ']).drop(['DN', 'DN2'], axis=1))\n",
    "            \n",
    "    exps = meta.exp.unique()\n",
    "    dfs = [read_count_files(sample, exp) for exp in exps]\n",
    "    fdf = pd.concat(dfs).assign(dnaid=sample)\n",
    "    #fdf = fdf.merge(meta[['lib', 'exp']], how='left', left_on='exp', right_on='exp')\n",
    "    return fdf\n",
    "\n",
    "\n",
    "def load_samples(samples, meta_dir=meta_dir, results_dir=results_dir):\n",
    "    dfs = [load_sample(sample, meta_dir, results_dir) for sample in samples]\n",
    "    return pd.concat(dfs)\n",
    "\n",
    "\n",
    "# Load all the count data for specified dnaids. \n",
    "\n",
    "fdf = load_samples(samples)\n",
    "\n",
    "gene_info = fdf[['Feature', 'ShortName']].drop_duplicates().set_index('Feature')\n",
    "\n",
    "\n",
    "\n",
    "def load_meta(sample, meta_dir = meta_dir, results_dir = results_dir):\n",
    "    meta = (pd.read_table(Path(meta_dir)/f'{sample}_metadata.txt', header=None, \n",
    "                        names = ['DN', 'lib', 'exp', 'DN2', 'sample', 'day', 'organ']).drop(['DN', 'DN2'], axis=1))\n",
    "    \n",
    "    return meta\n",
    "            \n",
    "def load_all_meta(samples, meta_dir=meta_dir, results_dir=results_dir):\n",
    "    dfs = [load_meta(sample, meta_dir, results_dir) for sample in samples]\n",
    "    return pd.concat(dfs)\n",
    "            \n",
    "meta = load_all_meta(samples)\n",
    "meta_dict = meta[['lib', 'exp']].set_index('exp').to_dict()\n",
    "meta_dict = meta_dict['lib']\n",
    "meta_dict"
   ]
  },
  {
   "cell_type": "code",
   "execution_count": null,
   "metadata": {},
   "outputs": [],
   "source": [
    "fdf['lib'] = fdf.exp.replace(meta_dict)\n",
    "new = fdf[(fdf.barcode =='ATGGCCAGCCAATCTAG') & (fdf.ShortName == 'hilD') & (fdf.mouse == 'inoculum')]\n",
    "\n",
    "new[['barcode', 'ShortName', 'cnts', 'lib', 'dnaid']].drop_duplicates()"
   ]
  },
  {
   "cell_type": "code",
   "execution_count": null,
   "metadata": {},
   "outputs": [],
   "source": [
    "df = fdf[ (fdf.mouse == 'inoculum')& (fdf.cnts > 1000)][['barcode', 'Position', 'Element','Feature','exp', 'dnaid', 'cnts']]\n",
    "# df has all barcodes for all libraries where mouse == inoculum and counts are > 1000. \n",
    "df['lib'] = df.exp.replace(meta_dict)\n",
    "\n",
    "df.head()"
   ]
  },
  {
   "cell_type": "code",
   "execution_count": null,
   "metadata": {},
   "outputs": [],
   "source": [
    "map_dir = \"/nfs/cds-peta/exports/biol_micro_cds_gr_sunagawa/scratch/\"\\\n",
    "                \"chris/hardt/nguyenb/tnseq_mapping_2031/scratch/\"\n",
    "\n",
    "\n",
    "def get_library(mapping_file):\n",
    "    library = pd.read_table(mapping_file, header=None, index_col=0, names=['lib_counts', 'position', 'chr',\n",
    "                                                                          'strand', 'norm_count', 'locus', 'gene'])\n",
    "    library['library'] = Path(mapping_file).parent.stem\n",
    "    return library\n",
    "\n",
    "def all_libraries(mapping_dir):\n",
    "    files = [c/\"barcode_map.txt\" for c in Path(map_dir).iterdir()]\n",
    "    df_list = [ get_library(f) for f in files] \n",
    "    return pd.concat(df_list)\n",
    "\n",
    "\n",
    "all_lib = all_libraries(map_dir)\n",
    "all_lib = all_lib.reset_index().rename({'index':'barcode'}, axis=1)\n",
    "all_lib.sample(5)"
   ]
  },
  {
   "cell_type": "code",
   "execution_count": null,
   "metadata": {},
   "outputs": [],
   "source": [
    "df.head()"
   ]
  },
  {
   "cell_type": "code",
   "execution_count": null,
   "metadata": {},
   "outputs": [],
   "source": [
    "all_lib.shape"
   ]
  },
  {
   "cell_type": "code",
   "execution_count": null,
   "metadata": {},
   "outputs": [],
   "source": [
    "lib_barcodes = {}\n",
    "lib_mapping_bc = {}\n",
    "for i, g in df.groupby('lib'):\n",
    "    mapping_bc = set(all_lib[all_lib.library == i].barcode.values)\n",
    "    inoculum_bc = set(g.barcode.values)\n",
    "    #print(len(set(g.barcode.values)))\n",
    "    #print(len(set(all_lib[all_lib.library == i].barcode.values)))\n",
    "    barcodes = inoculum_bc.intersection(mapping_bc)\n",
    "    #print(len(barcodes))\n",
    "    lib_barcodes[i] = barcodes\n",
    "    lib_mapping_bc[i] = mapping_bc"
   ]
  },
  {
   "cell_type": "code",
   "execution_count": null,
   "metadata": {},
   "outputs": [],
   "source": [
    "for k,v in lib_barcodes.items():\n",
    "    print(k)\n",
    "    print(len(v))"
   ]
  },
  {
   "cell_type": "code",
   "execution_count": null,
   "metadata": {},
   "outputs": [],
   "source": [
    "len(lib_barcodes['library_12_1'].intersection(lib_barcodes['library_10_2']))"
   ]
  },
  {
   "cell_type": "code",
   "execution_count": null,
   "metadata": {},
   "outputs": [],
   "source": [
    "hc_df = []\n",
    "for i, g in all_lib.groupby('library'):\n",
    "    if not i in lib_barcodes.keys():\n",
    "        continue\n",
    "    df = g[g.barcode.isin(lib_barcodes[i])]\n",
    "    hc_df.append(df)\n",
    "lib_hi = pd.concat(hc_df)"
   ]
  },
  {
   "cell_type": "code",
   "execution_count": null,
   "metadata": {},
   "outputs": [],
   "source": [
    "lib_hi.head()"
   ]
  },
  {
   "cell_type": "code",
   "execution_count": null,
   "metadata": {},
   "outputs": [],
   "source": [
    "len(lib_mapping_bc['library_12_1'].intersection(lib_mapping_bc['library_10_2']))"
   ]
  },
  {
   "cell_type": "code",
   "execution_count": null,
   "metadata": {},
   "outputs": [],
   "source": [
    "lib_hi.head()"
   ]
  },
  {
   "cell_type": "code",
   "execution_count": null,
   "metadata": {},
   "outputs": [],
   "source": [
    "df.Element.unique() # Chromosome and 3 plasmids\n",
    "\n",
    "\n",
    "def vis_library_insertions(df, element= 'FQ312003.1', div=1000000, unit='Mb'):\n",
    "    ldf = df[df['Element'] == element]\n",
    "\n",
    "    # Only interested in annotated insertions\n",
    "    ldf = ldf[ldf.Feature != '-']\n",
    "    per_gene_summary = ldf.groupby(['Feature']).agg({'barcode':'nunique',  'lib':'nunique'}).reset_index()\n",
    "    per_gene_summary.columns = ['Feature',  'barcode_uniq','num_lib_present']\n",
    "    fdf = ldf.merge(per_gene_summary[['Feature','barcode_uniq','num_lib_present']], how= 'left',on='Feature')\n",
    "    fdf['Position'] = fdf['Position']/div\n",
    "    p9.options.figure_size = (35, 10)\n",
    "    g = (p9.ggplot(fdf, p9.aes(x='Position', y='cnts', color='num_lib_present'))\n",
    "     #+ p9.geom_line()\n",
    "     + p9.geom_point()\n",
    "     + p9.geom_segment(p9.aes(x='Position', xend='Position', y='cnts', yend=0), alpha=0.5)\n",
    "     + p9.theme_classic()\n",
    "     + p9.theme(text = p9.element_text(size=24))\n",
    "    # + p9.ylab(\"Count\")\n",
    "      + p9.xlab(f\"Postion, {unit}\")\n",
    "      + p9.scale_y_log10())\n",
    "     #+ p9.scale_color_distiller(palette=1, ))\n",
    "    #  + p9.facet_wrap('~ sample'))\n",
    "    return fdf, g\n",
    "# to_plot = lib_sum.groupby(['Position']).agg({'lib':'nunique', 'cnts':'mean', 'barcode':'nunique'}).reset_index()\n",
    "# to_plot['Position'] = to_plot['Position']/1000000\n",
    "# to_plot.tail()\n",
    "\n",
    "\n",
    "\n",
    "\n",
    "ldf, g = vis_library_insertions(df)\n",
    "g\n"
   ]
  },
  {
   "cell_type": "code",
   "execution_count": null,
   "metadata": {},
   "outputs": [],
   "source": [
    "ldf = lib_hi[lib_hi['chr'] == 'FQ312003.1']\n",
    "\n",
    "    \n",
    "ldf = ldf[ldf.locus != '-']\n",
    "per_gene_summary = ldf.groupby(['locus']).agg({'barcode':'nunique',  'library':'nunique'}).reset_index()\n",
    "per_gene_summary.columns = ['locus',  'barcode_uniq','num_lib_present']\n",
    "fdf = ldf.merge(per_gene_summary[['locus','barcode_uniq','num_lib_present']], how= 'left',on='locus')\n",
    "fdf['position'] = fdf['position']/1000000\n",
    "p9.options.figure_size = (40, 10)\n",
    "g = (p9.ggplot(fdf, p9.aes(x='position', y='lib_counts', color='num_lib_present'))\n",
    " #+ p9.geom_line()\n",
    " + p9.geom_point()\n",
    " + p9.geom_segment(p9.aes(x='position', xend='position', y='lib_counts', yend=0), alpha=0.5)\n",
    " + p9.theme_classic()\n",
    " + p9.theme(text = p9.element_text(size=24))\n",
    "    # + p9.geom_vline(fdf, p9.aes(xintercept =4.105675 ), linetype=\"dashed\",  size=5)\n",
    "# + p9.ylab(\"Count\")\n",
    "  + p9.xlab(f\"Postion, Mb\")\n",
    "  + p9.scale_y_log10())"
   ]
  },
  {
   "cell_type": "code",
   "execution_count": null,
   "metadata": {},
   "outputs": [],
   "source": [
    "g"
   ]
  },
  {
   "cell_type": "code",
   "execution_count": null,
   "metadata": {},
   "outputs": [],
   "source": [
    "lib_hi.head()"
   ]
  },
  {
   "cell_type": "code",
   "execution_count": null,
   "metadata": {},
   "outputs": [],
   "source": [
    "ldf[ldf.Feature == 'gene-SL1344_4404'].head()"
   ]
  },
  {
   "cell_type": "code",
   "execution_count": null,
   "metadata": {},
   "outputs": [],
   "source": [
    "\n",
    "ldf, g = vis_library_insertions(df, element = 'NC_017720.1', div=1000, unit='Kb')\n",
    "g\n"
   ]
  },
  {
   "cell_type": "code",
   "execution_count": null,
   "metadata": {},
   "outputs": [],
   "source": [
    "ldf, g = vis_library_insertions(df, element = 'NC_017718.1', div=1000, unit='Kb')\n",
    "g\n"
   ]
  },
  {
   "cell_type": "code",
   "execution_count": null,
   "metadata": {},
   "outputs": [],
   "source": [
    "ldf, g = vis_library_insertions(df, element = 'NC_017719.1', div=1000, unit='Kb')\n",
    "g"
   ]
  },
  {
   "cell_type": "code",
   "execution_count": null,
   "metadata": {},
   "outputs": [],
   "source": [
    "df.Element.unique()"
   ]
  },
  {
   "cell_type": "code",
   "execution_count": null,
   "metadata": {},
   "outputs": [],
   "source": [
    "#to_plot3 = lib_sum3.groupby(['Position']).agg({'cnts':'mean', 'barcode':'nunique'}).reset_index()\n",
    "p9.options.figure_size = (30, 10)\n",
    "(p9.ggplot(lib_sum3, p9.aes(x='Position', y='cnts', color='lib_y'))\n",
    " #+ p9.geom_line()\n",
    " + p9.geom_point()\n",
    " + p9.geom_segment(p9.aes(x='Position', xend='Position', y='cnts', yend=0), alpha=0.5)\n",
    " + p9.theme_classic()\n",
    " + p9.theme(text = p9.element_text(size=24))\n",
    "# + p9.ylab(\"Count\")\n",
    "  + p9.xlab(\"Postion, Kb\")\n",
    "  + p9.scale_y_log10())\n",
    " #+ p9.scale_color_distiller(palette=1, ))\n",
    "#  + p9.facet_wrap('~ sample'))"
   ]
  },
  {
   "cell_type": "code",
   "execution_count": null,
   "metadata": {},
   "outputs": [],
   "source": [
    "lib_sum2 = df[df['Element'] != 'FQ312003.1']\n",
    "to_plot2 = lib_sum2.groupby(['Position']).agg({'lib':'nunique', 'cnts':'mean', 'barcode':'nunique'}).reset_index()\n",
    "to_plot2['Position'] = to_plot2['Position']/1000\n",
    "to_plot2.shape"
   ]
  },
  {
   "cell_type": "code",
   "execution_count": null,
   "metadata": {},
   "outputs": [],
   "source": [
    "to_plot.sort_values('barcode').tail()"
   ]
  },
  {
   "cell_type": "code",
   "execution_count": null,
   "metadata": {},
   "outputs": [],
   "source": [
    "df.groupby('lib').agg({'barcode':'nunique'}).sum()"
   ]
  },
  {
   "cell_type": "code",
   "execution_count": null,
   "metadata": {},
   "outputs": [],
   "source": [
    "df.head()"
   ]
  },
  {
   "cell_type": "code",
   "execution_count": null,
   "metadata": {},
   "outputs": [],
   "source": [
    "to_plot.shape"
   ]
  },
  {
   "cell_type": "code",
   "execution_count": null,
   "metadata": {},
   "outputs": [],
   "source": [
    "#TV5490A: library_13_1\n",
    "counts_file = \"/nfs/nas22/fs2202/biol_micro_bioinf_nccr/hardt/nguyenb/tnseq/\"\\\n",
    "              \"scratch/results/dnaid2023/dnaid2023_counts_TV5490A.txt\"\n",
    "\n",
    "mapping_file = \"/nfs/nas22/fs2202/biol_micro_bioinf_nccr/hardt/nguyenb/tnseq/\"\\\n",
    "                \"scratch/results/dnaid2023/dnaid2023_features_TV5490A.txt\"\n",
    "\n",
    "results_file = \"/nfs/nas22/fs2202/biol_micro_bioinf_nccr/hardt/nguyenb/tnseq/\"\\\n",
    "                \"scratch/results/dnaid2023/dnaid2023_results_TV5490A.txt\"\n",
    "\n",
    "omapping_file = \"/nfs/cds-peta/exports/biol_micro_cds_gr_sunagawa/scratch/\"\\\n",
    "                \"chris/hardt/nguyenb/tnseq_mapping_2031/scratch/library_13_1/barcode_map.txt\""
   ]
  },
  {
   "cell_type": "code",
   "execution_count": null,
   "metadata": {},
   "outputs": [],
   "source": [
    "lib_13.head()"
   ]
  },
  {
   "cell_type": "code",
   "execution_count": null,
   "metadata": {},
   "outputs": [],
   "source": [
    "lib_13 = all_lib[all_lib.library == 'library_13_1']\n",
    "bc_in_lib = [c for c in lib_13.barcode.values if c in inoc_bc]"
   ]
  },
  {
   "cell_type": "code",
   "execution_count": null,
   "metadata": {},
   "outputs": [],
   "source": [
    "len(bc_in_lib)"
   ]
  },
  {
   "cell_type": "code",
   "execution_count": null,
   "metadata": {},
   "outputs": [],
   "source": [
    "lib_13.lib_counts.hist(bins=100, alpha=1)\n",
    "lib_13[lib_13.barcode.isin(bc_in_lib)].lib_counts.hist(bins=100, alpha=0.7)\n",
    "plt.yscale('log')"
   ]
  },
  {
   "cell_type": "code",
   "execution_count": null,
   "metadata": {},
   "outputs": [],
   "source": []
  },
  {
   "cell_type": "code",
   "execution_count": null,
   "metadata": {},
   "outputs": [],
   "source": [
    "\n",
    "\n"
   ]
  },
  {
   "cell_type": "code",
   "execution_count": null,
   "metadata": {},
   "outputs": [],
   "source": [
    "all_lib[all_lib.lib_counts > 100].groupby('library').agg({'barcode':['nunique'], 'gene':['nunique'], 'position':['nunique']})"
   ]
  },
  {
   "cell_type": "code",
   "execution_count": null,
   "metadata": {},
   "outputs": [],
   "source": [
    "lib_info = all_lib.groupby('library').agg({'barcode':['nunique'], 'gene':['nunique'], \n",
    "                                'position':['nunique'], 'lib_counts': ['mean', 'max', 'min']})"
   ]
  },
  {
   "cell_type": "code",
   "execution_count": null,
   "metadata": {},
   "outputs": [],
   "source": [
    "lib_info.columns = [\"# uniq barcodes\", \"# uniq genes\", '# unique positions', 'mean counts per barcode', \n",
    "                   \"max count\", \"min count\"]\n",
    "lib_info.sort_index()"
   ]
  },
  {
   "cell_type": "code",
   "execution_count": null,
   "metadata": {},
   "outputs": [],
   "source": [
    "plt.figure(figsize=(10, 6))\n",
    "sns.set_style(\"white\")\n",
    "sns.set_context(\"notebook\", font_scale=1.5)\n",
    "all_lib[all_lib.library == 'library_13_1'].lib_counts.hist(bins=150)\n",
    "plt.yscale('log')\n",
    "plt.ylabel(\"Frequency\")\n",
    "plt.xlabel(\"Counts\")\n",
    "plt.title(\"library_13_1\")"
   ]
  },
  {
   "cell_type": "code",
   "execution_count": null,
   "metadata": {},
   "outputs": [],
   "source": [
    "plt.figure(figsize=(10, 6))\n",
    "sns.set_style(\"white\")\n",
    "sns.set_context(\"notebook\", font_scale=1.5)\n",
    "\n",
    "all_lib[all_lib.library == 'library_9_3'].lib_counts.hist(bins=150)\n",
    "plt.yscale('log')\n",
    "plt.ylabel(\"Frequency\")\n",
    "plt.xlabel(\"Counts\")\n",
    "plt.title(\"library_9_3\")"
   ]
  },
  {
   "cell_type": "code",
   "execution_count": null,
   "metadata": {},
   "outputs": [],
   "source": [
    "all_lib[all_lib.chr == 'FQ312003.1'].head()"
   ]
  },
  {
   "cell_type": "code",
   "execution_count": null,
   "metadata": {},
   "outputs": [],
   "source": [
    "all_lib[all_lib.barcode == 'AGCTAGACGGAAGGACT']"
   ]
  },
  {
   "cell_type": "code",
   "execution_count": null,
   "metadata": {},
   "outputs": [],
   "source": [
    "all_lib[all_lib.barcode == 'ATGGCCAGCCAATCTAG']"
   ]
  },
  {
   "cell_type": "code",
   "execution_count": null,
   "metadata": {},
   "outputs": [],
   "source": [
    "df[df.barcode == 'ATGGCCAGCCAATCTAG']"
   ]
  },
  {
   "cell_type": "code",
   "execution_count": null,
   "metadata": {},
   "outputs": [],
   "source": [
    "all_lib[all_lib.barcode == 'ACGGTGAGGAGAGGGAG'][['barcode', 'lib_counts', 'position', 'chr', 'gene', 'library']]"
   ]
  },
  {
   "cell_type": "code",
   "execution_count": null,
   "metadata": {},
   "outputs": [],
   "source": []
  },
  {
   "cell_type": "code",
   "execution_count": null,
   "metadata": {},
   "outputs": [],
   "source": [
    "t = lib_hi.groupby(['barcode', 'chr', 'position']).agg({'library':['count']}).reset_index()\n",
    "t.columns = ['Barcode', 'Chromosome', 'Positon', 'num_lib']\n",
    "t.sort_values('num_lib').tail(25)"
   ]
  },
  {
   "cell_type": "code",
   "execution_count": null,
   "metadata": {},
   "outputs": [],
   "source": [
    "chr_df = all_lib[all_lib.chr == 'FQ312003.1']"
   ]
  },
  {
   "cell_type": "code",
   "execution_count": null,
   "metadata": {},
   "outputs": [],
   "source": [
    "t = all_lib.groupby(['barcode', 'chr', 'position']).agg({'library':['count']}).reset_index()\n",
    "t.columns = ['Barcode', 'Chromosome', 'Positon', 'num_lib']\n",
    "t.sort_values('num_lib').tail(25)"
   ]
  },
  {
   "cell_type": "code",
   "execution_count": null,
   "metadata": {},
   "outputs": [],
   "source": [
    "sns.set_style(\"white\")\n",
    "sns.set_context(\"notebook\", font_scale=1.5)\n",
    "t.num_lib.hist(bins=25)\n",
    "plt.yscale(\"log\")\n",
    "plt.xlabel('# of libraries with same insertion')\n",
    "plt.ylabel(\"# of barcodes\")\n",
    "#plt.xlim(1, 22)"
   ]
  },
  {
   "cell_type": "code",
   "execution_count": null,
   "metadata": {},
   "outputs": [],
   "source": [
    "t.num_lib.hist(bins=25)\n",
    "plt.yscale(\"log\")\n",
    "plt.xlabel('# of libraries with same insertion')\n",
    "plt.ylabel(\"# of barcodes\")"
   ]
  },
  {
   "cell_type": "code",
   "execution_count": null,
   "metadata": {},
   "outputs": [],
   "source": [
    "t.barcode.nunique()"
   ]
  },
  {
   "cell_type": "code",
   "execution_count": null,
   "metadata": {},
   "outputs": [],
   "source": [
    "t[t.num_lib == 1].shape[0]/t.shape[0]"
   ]
  },
  {
   "cell_type": "code",
   "execution_count": null,
   "metadata": {},
   "outputs": [],
   "source": [
    "all_lib.reset_index().rename({'index':'barcode'}, axis=1).groupby('library').barcode.nunique()"
   ]
  },
  {
   "cell_type": "code",
   "execution_count": null,
   "metadata": {},
   "outputs": [],
   "source": [
    "chrom = t[t.chr == 'FQ312003.1']\n",
    "chrom.head()"
   ]
  },
  {
   "cell_type": "code",
   "execution_count": null,
   "metadata": {},
   "outputs": [],
   "source": [
    "test = chrom.sort_values(by='position')[chrom.counts > 1000]\n",
    "test['position'] = test['position']/1000000\n",
    "test"
   ]
  },
  {
   "cell_type": "code",
   "execution_count": null,
   "metadata": {},
   "outputs": [],
   "source": [
    "all_lib[all_lib.position == 4877761]"
   ]
  },
  {
   "cell_type": "code",
   "execution_count": null,
   "metadata": {},
   "outputs": [],
   "source": [
    "all_lib_chr = all_lib[all_lib['chr'] == 'FQ312003.1']\n",
    "to_plot = all_lib_chr.groupby('position').agg({'library':'nunique', 'counts':'mean'}).reset_index()\n",
    "to_plot['position'] = to_plot['position']/1000000\n",
    "to_plot.head()"
   ]
  },
  {
   "cell_type": "code",
   "execution_count": null,
   "metadata": {},
   "outputs": [],
   "source": [
    "p9.options.figure_size = (30, 10)\n",
    "(p9.ggplot(to_plot, p9.aes(x='position', y='counts', color='library'))\n",
    " #+ p9.geom_line()\n",
    " + p9.geom_point()\n",
    " + p9.geom_segment(p9.aes(x='position', xend='position', y='counts', yend=0), alpha=0.5)\n",
    " + p9.theme_classic()\n",
    "#  + p9.ylab(\"Count\")\n",
    "#  + p9.xlab(\"Conc\")\n",
    "  + p9.scale_y_log10())\n",
    " #+ p9.scale_color_distiller(palette=1, ))\n",
    "#  + p9.facet_wrap('~ sample'))"
   ]
  },
  {
   "cell_type": "code",
   "execution_count": null,
   "metadata": {},
   "outputs": [],
   "source": [
    "t = library_qc(omapping_file)\n",
    "t.counts.hist(bins=5000)\n",
    "plt.xlim(0, 20000)\n",
    "plt.ylim(0, 100)"
   ]
  },
  {
   "cell_type": "code",
   "execution_count": null,
   "metadata": {},
   "outputs": [],
   "source": [
    "#chromosome\n",
    "chrom = t[t.chr == 'FQ312003.1']\n",
    "chrom = chrom.rename({'counts': 'read_num'}, axis=1)\n",
    "\n",
    "bc_per_position = (chrom.groupby('position').read_num.count()>1)\n",
    "pos_keep = bc_per_position[bc_per_position].index\n",
    "fnc = lambda x: x.value_counts().sort_index().head(2)\n",
    "chrom2 = chrom[chrom.position.isin(pos_keep)]\n",
    "grp = chrom2.groupby('position')['read_num'].apply(fnc)#.reset_index(1, name='cnts')\n",
    "# Get positions wiht more than one barcode mapped\n",
    "#\n",
    "##pos_with_multiple_bc = bc_per_position.where(bc_per_position > 1).dropna()\n",
    "#position = pos_with_multiple_bc.index\n",
    "# Subset to these positions, group by position "
   ]
  },
  {
   "cell_type": "code",
   "execution_count": null,
   "metadata": {},
   "outputs": [],
   "source": [
    "grp.reset_index()"
   ]
  },
  {
   "cell_type": "code",
   "execution_count": null,
   "metadata": {},
   "outputs": [],
   "source": [
    "grp"
   ]
  },
  {
   "cell_type": "code",
   "execution_count": null,
   "metadata": {},
   "outputs": [],
   "source": [
    "x"
   ]
  },
  {
   "cell_type": "code",
   "execution_count": null,
   "metadata": {},
   "outputs": [],
   "source": [
    "chrom[chrom.position == 832]"
   ]
  },
  {
   "cell_type": "code",
   "execution_count": null,
   "metadata": {},
   "outputs": [],
   "source": [
    "t2 = t.groupby(['chr', 'position']).agg({'counts':['count', 'mean']}).reset_index()"
   ]
  },
  {
   "cell_type": "code",
   "execution_count": null,
   "metadata": {},
   "outputs": [],
   "source": [
    "t2[t2[('counts', 'count')] >1]"
   ]
  },
  {
   "cell_type": "code",
   "execution_count": null,
   "metadata": {},
   "outputs": [],
   "source": [
    "t[t.position == 4816912]['counts'].nlargest(2)[1]"
   ]
  },
  {
   "cell_type": "code",
   "execution_count": null,
   "metadata": {},
   "outputs": [],
   "source": [
    "t2[t2.chr == 'NC_017720.1'][[('counts', 'count')]].hist(bins=50)"
   ]
  },
  {
   "cell_type": "code",
   "execution_count": null,
   "metadata": {},
   "outputs": [],
   "source": [
    "t[t.counts > 2].shape"
   ]
  },
  {
   "cell_type": "code",
   "execution_count": null,
   "metadata": {},
   "outputs": [],
   "source": [
    "## old_map = pd.read_table(omapping_file, header=None)\n",
    "old_map[6].value_counts().loc['gene-SL1344_RS24690']"
   ]
  },
  {
   "cell_type": "code",
   "execution_count": null,
   "metadata": {},
   "outputs": [],
   "source": [
    "old_map.head()"
   ]
  },
  {
   "cell_type": "code",
   "execution_count": null,
   "metadata": {},
   "outputs": [],
   "source": [
    "df = (pd.read_csv(counts_file, sep=\" \").reset_index()\n",
    "    .drop(['Position', 'Element', 'Strand', 'Feature', 'ShortName' ], axis=1))\n",
    "features = pd.read_csv(mapping_file, sep=\" \")\n",
    "results = pd.read_csv(results_file, sep=\" \")"
   ]
  },
  {
   "cell_type": "code",
   "execution_count": null,
   "metadata": {},
   "outputs": [],
   "source": [
    "results.head()"
   ]
  },
  {
   "cell_type": "code",
   "execution_count": null,
   "metadata": {},
   "outputs": [],
   "source": [
    "df2 = pd.melt(df, id_vars = 'index')\n",
    "expansion = df2['variable'].str.split('-', expand=True)\n",
    "df2['mouse'], df2['day'],df2['organ'] = expansion[0], expansion[1], expansion[2]\n",
    "df2 = df2.set_index('index').drop(['variable'], axis=1).rename({'value': 'count'}, axis=1)\n",
    "fdf = df2.merge(features[['Feature', 'ShortName']], how='left', left_index=True, right_index=True)\n",
    "fdf = fdf.reset_index().rename({'index':'barcode'}, axis=1)"
   ]
  },
  {
   "cell_type": "code",
   "execution_count": null,
   "metadata": {},
   "outputs": [],
   "source": [
    "fdf.head()"
   ]
  },
  {
   "cell_type": "markdown",
   "metadata": {},
   "source": [
    "### Want to see how many barcodes present in the inoculum vs. the library"
   ]
  },
  {
   "cell_type": "code",
   "execution_count": null,
   "metadata": {},
   "outputs": [],
   "source": [
    "inoc = fdf[fdf.mouse == 'inoculum']\n",
    "inoc.head()"
   ]
  },
  {
   "cell_type": "code",
   "execution_count": null,
   "metadata": {},
   "outputs": [],
   "source": [
    "print(\"\\n\")\n",
    "print(f\"Number of unique barcodes identified: {inoc.barcode.nunique()}\")\n",
    "print(f\"Number of barcodes that were not mapped: {sum(inoc.Feature == '-')}\")\n",
    "print(\"\\n\")\n",
    "print(\"Dropping Unmapped Barcodes\")\n",
    "print(\"\\n\")"
   ]
  },
  {
   "cell_type": "code",
   "execution_count": null,
   "metadata": {},
   "outputs": [],
   "source": [
    "3036-579"
   ]
  },
  {
   "cell_type": "code",
   "execution_count": null,
   "metadata": {},
   "outputs": [],
   "source": [
    "inocm = inoc[inoc.Feature != '-']\n",
    "geneInfo = pd.DataFrame(inocm.Feature.value_counts())\n",
    "geneInfo"
   ]
  },
  {
   "cell_type": "code",
   "execution_count": null,
   "metadata": {},
   "outputs": [],
   "source": [
    "(p9.ggplot(geneInfo, p9.aes('Feature'))\n",
    " + p9.geom_histogram(bins=50, fill='#428bca')\n",
    " + p9.theme_classic()\n",
    " + p9.ylab(\"Count\")\n",
    " + p9.xlab(\"# of barcodes per feature\"))\n"
   ]
  },
  {
   "cell_type": "code",
   "execution_count": null,
   "metadata": {},
   "outputs": [],
   "source": [
    "inocm.head()"
   ]
  },
  {
   "cell_type": "code",
   "execution_count": null,
   "metadata": {},
   "outputs": [],
   "source": [
    "inoc_sum =inocm.groupby('Feature').agg({'count':['mean', 'std', 'count']})"
   ]
  },
  {
   "cell_type": "code",
   "execution_count": null,
   "metadata": {},
   "outputs": [],
   "source": [
    "inoc_sum.tail()"
   ]
  },
  {
   "cell_type": "code",
   "execution_count": null,
   "metadata": {},
   "outputs": [],
   "source": [
    "inocm[inocm.Feature == 'gene-SL1344_RS27340']"
   ]
  },
  {
   "cell_type": "code",
   "execution_count": null,
   "metadata": {},
   "outputs": [],
   "source": [
    "print(f\"After removal of unmapped barcodes there are {inocm.shape[0]} unique BC\")\n",
    "print(f\"There are {inocm[inocm['count']==0].shape[0]} barcodes with 0 counts\")\n",
    "print(\"\\n\")\n",
    "print(\"Removing barcodes with 0 counts\")"
   ]
  },
  {
   "cell_type": "code",
   "execution_count": null,
   "metadata": {},
   "outputs": [],
   "source": [
    "inocm2 = inocm[inocm[\"count\"] >0]\n",
    "inoc_sum2 =inocm2.groupby('Feature').agg({'count':['mean', 'std', 'count']})"
   ]
  },
  {
   "cell_type": "code",
   "execution_count": null,
   "metadata": {},
   "outputs": [],
   "source": [
    "inoc_sum[inoc_sum.index == 'gene-SL1344_4197']"
   ]
  },
  {
   "cell_type": "code",
   "execution_count": null,
   "metadata": {},
   "outputs": [],
   "source": [
    "inoc_sum2[inoc_sum2.index == 'gene-SL1344_4197']"
   ]
  },
  {
   "cell_type": "code",
   "execution_count": null,
   "metadata": {},
   "outputs": [],
   "source": [
    "inocm2[inocm2.Feature == 'gene-InvR']"
   ]
  },
  {
   "cell_type": "code",
   "execution_count": null,
   "metadata": {},
   "outputs": [],
   "source": [
    "\n"
   ]
  },
  {
   "cell_type": "code",
   "execution_count": null,
   "metadata": {},
   "outputs": [],
   "source": [
    "geneInfo2 = pd.DataFrame(inocm2.Feature.value_counts())\n",
    "print(geneInfo2.describe())\n",
    "(p9.ggplot(geneInfo2, p9.aes('Feature'))\n",
    " + p9.geom_histogram(bins=50, fill='#428bca')\n",
    " + p9.theme_classic()\n",
    " + p9.ylab(\"Count\")\n",
    " + p9.xlab(\"# of barcodes per feature\"))"
   ]
  },
  {
   "cell_type": "code",
   "execution_count": null,
   "metadata": {},
   "outputs": [],
   "source": [
    "(p9.ggplot(inocm2, p9.aes('count'))\n",
    " + p9.geom_histogram(bins=50, fill='#428bca')\n",
    " + p9.theme_classic()\n",
    " + p9.ylab(\"# of BC\")\n",
    " + p9.xlab(\"Count\"))"
   ]
  },
  {
   "cell_type": "code",
   "execution_count": null,
   "metadata": {},
   "outputs": [],
   "source": [
    "inocm2['count'].describe()"
   ]
  },
  {
   "cell_type": "code",
   "execution_count": null,
   "metadata": {},
   "outputs": [],
   "source": [
    "fdf[fdf.Feature == 'gene-InvR']"
   ]
  },
  {
   "cell_type": "code",
   "execution_count": null,
   "metadata": {},
   "outputs": [],
   "source": []
  }
 ],
 "metadata": {
  "kernelspec": {
   "display_name": "Python 3",
   "language": "python",
   "name": "python3"
  },
  "language_info": {
   "codemirror_mode": {
    "name": "ipython",
    "version": 3
   },
   "file_extension": ".py",
   "mimetype": "text/x-python",
   "name": "python",
   "nbconvert_exporter": "python",
   "pygments_lexer": "ipython3",
   "version": "3.6.6"
  }
 },
 "nbformat": 4,
 "nbformat_minor": 4
}
