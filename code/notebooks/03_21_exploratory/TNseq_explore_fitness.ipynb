{
 "cells": [
  {
   "cell_type": "code",
   "execution_count": null,
   "metadata": {},
   "outputs": [],
   "source": [
    "import pandas as pd\n",
    "import plotnine as p9\n",
    "from pathlib import Path\n",
    "from scipy import stats\n",
    "import numpy as np\n",
    "import seaborn as sns\n",
    "import matplotlib.pyplot as plt\n",
    "import plotnine as p9"
   ]
  },
  {
   "cell_type": "code",
   "execution_count": null,
   "metadata": {},
   "outputs": [],
   "source": [
    "fitness = pd.read_table(\"../dnaid2023_fitness_d1.tab\", sep=\" \")"
   ]
  },
  {
   "cell_type": "code",
   "execution_count": null,
   "metadata": {},
   "outputs": [],
   "source": [
    "fitness[fitness.baseMean > 1,]"
   ]
  },
  {
   "cell_type": "code",
   "execution_count": null,
   "metadata": {},
   "outputs": [],
   "source": [
    "p9.options.figure_size = (10, 10)\n",
    "(p9.ggplot(fitness, p9.aes(x='baseMean'))\n",
    " + p9.geom_histogram(bins=100)\n",
    " + p9.theme_classic())"
   ]
  },
  {
   "cell_type": "code",
   "execution_count": null,
   "metadata": {},
   "outputs": [],
   "source": [
    "p9.options.figure_size = (10, 10)\n",
    "(p9.ggplot(fitness, p9.aes(x='baseMean', y='lfcSE'))\n",
    " + p9.geom_point()\n",
    " + p9.theme_classic()\n",
    ")"
   ]
  },
  {
   "cell_type": "code",
   "execution_count": null,
   "metadata": {},
   "outputs": [],
   "source": [
    "p9.options.figure_size = (10, 10)\n",
    "(p9.ggplot(fitness, p9.aes(x='lfcSE'))\n",
    " + p9.geom_histogram(bins=100)\n",
    " + p9.theme_classic())"
   ]
  },
  {
   "cell_type": "code",
   "execution_count": null,
   "metadata": {},
   "outputs": [],
   "source": [
    "p9.options.figure_size = (10, 10)\n",
    "(p9.ggplot(fitness, p9.aes(x='log2FoldChange', y='baseMean'))\n",
    " + p9.geom_point()\n",
    " + p9.theme_classic()\n",
    "\n",
    ")"
   ]
  },
  {
   "cell_type": "code",
   "execution_count": null,
   "metadata": {},
   "outputs": [],
   "source": []
  }
 ],
 "metadata": {
  "kernelspec": {
   "display_name": "Python 3",
   "language": "python",
   "name": "python3"
  },
  "language_info": {
   "codemirror_mode": {
    "name": "ipython",
    "version": 3
   },
   "file_extension": ".py",
   "mimetype": "text/x-python",
   "name": "python",
   "nbconvert_exporter": "python",
   "pygments_lexer": "ipython3",
   "version": "3.9.1"
  }
 },
 "nbformat": 4,
 "nbformat_minor": 4
}
