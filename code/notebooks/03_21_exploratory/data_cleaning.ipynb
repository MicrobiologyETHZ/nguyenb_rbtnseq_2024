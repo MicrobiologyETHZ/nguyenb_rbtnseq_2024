{
 "cells": [
  {
   "cell_type": "code",
   "execution_count": null,
   "id": "raising-bangladesh",
   "metadata": {},
   "outputs": [],
   "source": [
    "import pandas as pd"
   ]
  },
  {
   "cell_type": "code",
   "execution_count": null,
   "id": "cloudy-nurse",
   "metadata": {},
   "outputs": [],
   "source": [
    "s = \"\"\"2018-3-library10_2-TV4592A-ad926-d3-feces\n",
    "2018-4-library10_2-TV4592A-ad927-d3-feces\n",
    "2018-6-library10_2-TV4592A-ad928-d3-feces\n",
    "2018-8-library10_2-TV4592A-ad929-d3-feces\n",
    "2018-9-library10_2-TV4592A-ad930-d3-feces\n",
    "2018-10-library14_2-TV4592B-ad931-d3-feces\n",
    "2018-12-library14_2-TV4592B-ad932-d3-feces\n",
    "2018-13-library14_2-TV4592B-ad933-d3-feces\n",
    "2018-17-library14_2-TV4592B-ad934-d3-feces\n",
    "2018-18-library14_2-TV4592B-ad935-d3-feces\n",
    "2018-19-library14_2-TV4592B-ad936-d3-feces\n",
    "2018-23-library10_2-TV4592A-ad926-d4-feces\n",
    "2018-24-library10_2-TV4592A-ad927-d4-feces\n",
    "2018-26-library10_2-TV4592A-ad928-d4-feces\n",
    "2018-27-library10_2-TV4592A-ad929-d4-feces\n",
    "2018-28-library10_2-TV4592A-ad930-d4-feces\n",
    "2018-30-library14_2-TV4592B-ad931-d4-feces\n",
    "2018-33-library14_2-TV4592B-ad932-d4-feces\n",
    "2018-34-library14_2-TV4592B-ad933-d4-feces\n",
    "2018-38-library14_2-TV4592B-ad934-d4-feces\n",
    "2018-40-library14_2-TV4592B-ad935-d4-feces\n",
    "2018-42-library14_2-TV4592B-ad936-d4-feces\n",
    "2018-53-library10_2-TV4592A-inoculum\n",
    "2018-60-library14_2-TV4592B-inoculum\"\"\""
   ]
  },
  {
   "cell_type": "code",
   "execution_count": null,
   "id": "frank-component",
   "metadata": {},
   "outputs": [],
   "source": [
    "s = s.split()"
   ]
  },
  {
   "cell_type": "code",
   "execution_count": null,
   "id": "supposed-serum",
   "metadata": {},
   "outputs": [],
   "source": [
    "s = [i.split(\"-\") for i in s]"
   ]
  },
  {
   "cell_type": "code",
   "execution_count": null,
   "id": "liberal-straight",
   "metadata": {},
   "outputs": [],
   "source": [
    "s"
   ]
  },
  {
   "cell_type": "code",
   "execution_count": null,
   "id": "controlled-highlight",
   "metadata": {},
   "outputs": [],
   "source": [
    "df = pd.DataFrame(s).set_index(1)"
   ]
  },
  {
   "cell_type": "code",
   "execution_count": null,
   "id": "bulgarian-durham",
   "metadata": {},
   "outputs": [],
   "source": [
    "df.head()"
   ]
  },
  {
   "cell_type": "code",
   "execution_count": null,
   "id": "bronze-diploma",
   "metadata": {},
   "outputs": [],
   "source": [
    "df2 = df[[ 2, 3,3, 4,5,6]]\n",
    "df2.loc['53', '5'] = 'd0'\n",
    "df2.loc['60', '5'] = 'd0'\n",
    "df2.loc['53', '6'] = 'inoculum'\n",
    "df2.loc['60', '6'] = 'inoculum'"
   ]
  },
  {
   "cell_type": "code",
   "execution_count": null,
   "id": "certain-american",
   "metadata": {},
   "outputs": [],
   "source": [
    "df2"
   ]
  },
  {
   "cell_type": "code",
   "execution_count": null,
   "id": "conservative-general",
   "metadata": {},
   "outputs": [],
   "source": [
    "df2.to_csv('../../data/dnaid2018_metadata.txt', header=None, sep='\\t')"
   ]
  },
  {
   "cell_type": "code",
   "execution_count": null,
   "id": "reduced-palestine",
   "metadata": {},
   "outputs": [],
   "source": [
    "df3 = pd.read_table('../../data/dnaid2018_metadata.txt', header=None)"
   ]
  },
  {
   "cell_type": "code",
   "execution_count": null,
   "id": "piano-chamber",
   "metadata": {},
   "outputs": [],
   "source": [
    "df3"
   ]
  },
  {
   "cell_type": "code",
   "execution_count": null,
   "id": "strategic-spine",
   "metadata": {},
   "outputs": [],
   "source": [
    "p = \"\"\"454 GS\n",
    "454 GS 20\n",
    "454 GS FLX\n",
    "454 GS FLX+\n",
    "454 GS FLX Titanium\n",
    "454 GS Junior\n",
    "HiSeq X Five\n",
    "HiSeq X Ten\n",
    "Illumina Genome Analyzer\n",
    "Illumina Genome Analyzer II\n",
    "Illumina Genome Analyzer IIx\n",
    "Illumina HiScanSQ\n",
    "Illumina HiSeq 1000\n",
    "Illumina HiSeq 1500\n",
    "Illumina HiSeq 2000\n",
    "Illumina HiSeq 2500\n",
    "Illumina HiSeq 3000\n",
    "Illumina HiSeq 4000\n",
    "Illumina iSeq 100\n",
    "Illumina MiSeq\n",
    "Illumina MiniSeq\n",
    "Illumina NovaSeq 6000\n",
    "NextSeq 500\n",
    "NextSeq 550\n",
    "PacBio RS\n",
    "PacBio RS II\n",
    "Sequel\n",
    "Ion Torrent PGM\n",
    "Ion Torrent Proton\n",
    "Ion Torrent S5\n",
    "Ion Torrent S5 XL\n",
    "AB 3730xL Genetic Analyzer\n",
    "AB 3730 Genetic Analyzer\n",
    "AB 3500xL Genetic Analyzer\n",
    "AB 3500 Genetic Analyzer\n",
    "AB 3130xL Genetic Analyzer\n",
    "AB 3130 Genetic Analyzer\n",
    "AB 310 Genetic Analyzer\n",
    "MinION\n",
    "GridION\n",
    "PromethION\n",
    "BGISEQ-500\n",
    "DNBSEQ-T7\n",
    "DNBSEQ-G400\n",
    "DNBSEQ-G50\n",
    "DNBSEQ-G400 FAST\"\"\""
   ]
  },
  {
   "cell_type": "code",
   "execution_count": null,
   "id": "burning-sunglasses",
   "metadata": {},
   "outputs": [],
   "source": [
    "p = p.split('\\n')"
   ]
  },
  {
   "cell_type": "code",
   "execution_count": null,
   "id": "coated-future",
   "metadata": {},
   "outputs": [],
   "source": [
    "\",\".join(p)"
   ]
  },
  {
   "cell_type": "code",
   "execution_count": null,
   "id": "unable-philip",
   "metadata": {},
   "outputs": [],
   "source": [
    "p = \"\"\"GENOMIC: Genomic DNA (includes PCR products from genomic DNA).\n",
    "GENOMIC SINGLE CELL:\n",
    "TRANSCRIPTOMIC: Transcription products or non genomic DNA (EST, cDNA, RT-PCR, screened libraries).\n",
    "TRANSCRIPTOMIC SINGLE CELL:\n",
    "METAGENOMIC: Mixed material from metagenome.\n",
    "METATRANSCRIPTOMIC: Transcription products from community targets\n",
    "SYNTHETIC: Synthetic DNA.\n",
    "VIRAL RNA: Viral RNA.\n",
    "OTHER: Other, unspecified, or unknown library source material.\"\"\"\n",
    "p = p.replace(',' , ' ').split(\"\\n\")\n",
    "p = [i.strip(\":.\") for i in p]\n",
    "p"
   ]
  },
  {
   "cell_type": "code",
   "execution_count": null,
   "id": "manufactured-combat",
   "metadata": {},
   "outputs": [],
   "source": [
    "\", \".join(p)"
   ]
  },
  {
   "cell_type": "code",
   "execution_count": null,
   "id": "young-muslim",
   "metadata": {},
   "outputs": [],
   "source": [
    "p = \"\"\"WGS: Whole Genome Sequencing - random sequencing of the whole genome (see pubmed 10731132 for details)\n",
    "WGA: Whole Genome Amplification followed by random sequencing. (see pubmed 1631067,8962113 for details)\n",
    "WXS: Random sequencing of exonic regions selected from the genome. (see pubmed 20111037 for details)\n",
    "RNA-Seq: Random sequencing of whole transcriptome, also known as Whole Transcriptome Shotgun Sequencing, or WTSS). (see pubmed 18611170 for details)\n",
    "ssRNA-seq: Strand-specific RNA sequencing.\n",
    "miRNA-Seq: Micro RNA sequencing strategy designed to capture post-transcriptional RNA elements and include non-coding functional elements. (see pubmed 21787409 for details)\n",
    "ncRNA-Seq: Capture of other non-coding RNA types, including post-translation modification types such as snRNA (small nuclear RNA) or snoRNA (small nucleolar RNA), or expression regulation types such as siRNA (small interfering RNA) or piRNA/piwi/RNA (piwi-interacting RNA).\n",
    "FL-cDNA: Full-length sequencing of cDNA templates\n",
    "EST: Single pass sequencing of cDNA templates\n",
    "Hi-C: Chromosome Conformation Capture technique where a biotin-labeled nucleotide is incorporated at the ligation junction, enabling selective purification of chimeric DNA ligation junctions followed by deep sequencing.\n",
    "ATAC-seq: Assay for Transposase-Accessible Chromatin (ATAC) strategy is used to study genome-wide chromatin accessibility. alternative method to DNase-seq that uses an engineered Tn5 transposase to cleave DNA and to integrate primer DNA sequences into the cleaved genomic DNA.\n",
    "WCS: Random sequencing of a whole chromosome or other replicon isolated from a genome.\n",
    "RAD-Seq:\n",
    "CLONE: Genomic clone based (hierarchical) sequencing.\n",
    "POOLCLONE: Shotgun of pooled clones (usually BACs and Fosmids).\n",
    "AMPLICON: Sequencing of overlapping or distinct PCR or RT-PCR products. For example, metagenomic community profiling using SSU rRNA.\n",
    "CLONEEND: Clone end (5’, 3’, or both) sequencing.\n",
    "FINISHING: Sequencing intended to finish (close) gaps in existing coverage.\n",
    "ChIP-Seq: ChIP-seq, Chromatin ImmunoPrecipitation, reveals binding sites of specific proteins, typically transcription factors (TFs) using antibodies to extract DNA fragments bound to the target protein.\n",
    "MNase-Seq: Identifies well-positioned nucleosomes. uses Micrococcal Nuclease (MNase) is an endo-exonuclease that processively digests DNA until an obstruction, such as a nucleosome, is reached.\n",
    "DNase-Hypersensitivity: Sequencing of hypersensitive sites, or segments of open chromatin that are more readily cleaved by DNaseI.\n",
    "Bisulfite-Seq: MethylC-seq. Sequencing following treatment of DNA with bisulfite to convert cytosine residues to uracil depending on methylation status.\n",
    "CTS: Concatenated Tag Sequencing\n",
    "MRE-Seq: Methylation-Sensitive Restriction Enzyme Sequencing.\n",
    "MeDIP-Seq: Methylated DNA Immunoprecipitation Sequencing.\n",
    "MBD-Seq: Methyl CpG Binding Domain Sequencing.\n",
    "Tn-Seq: Quantitatively determine fitness of bacterial genes based on how many times a purposely seeded transposon gets inserted into each gene of a colony after some time.\n",
    "VALIDATION: CGHub special request: Independent experiment to re-evaluate putative variants.\n",
    "FAIRE-seq: Formaldehyde Assisted Isolation of Regulatory Elements. Reveals regions of open chromatin.\n",
    "SELEX: Systematic Evolution of Ligands by Exponential enrichment\n",
    "RIP-Seq: Direct sequencing of RNA immunoprecipitates (includes CLIP-Seq, HITS-CLIP and PAR-CLIP).\n",
    "ChIA-PET: Direct sequencing of proximity-ligated chromatin immunoprecipitates.\n",
    "Synthetic-Long-Read: binning and barcoding of large DNA fragments to facilitate assembly of the fragment\n",
    "Targeted-Capture: Enrichment of a targeted subset of loci.\n",
    "Tethered Chromatin Conformation Capture:\n",
    "OTHER: Library strategy not listed.\"\"\"\n",
    "p = p.split('\\n')\n",
    "p = [i.split(':')[0] for i in p]"
   ]
  },
  {
   "cell_type": "code",
   "execution_count": null,
   "id": "broken-ribbon",
   "metadata": {},
   "outputs": [],
   "source": [
    "','.join(p)"
   ]
  },
  {
   "cell_type": "code",
   "execution_count": null,
   "id": "confused-baker",
   "metadata": {},
   "outputs": [],
   "source": []
  }
 ],
 "metadata": {
  "kernelspec": {
   "display_name": "Python 3",
   "language": "python",
   "name": "python3"
  },
  "language_info": {
   "codemirror_mode": {
    "name": "ipython",
    "version": 3
   },
   "file_extension": ".py",
   "mimetype": "text/x-python",
   "name": "python",
   "nbconvert_exporter": "python",
   "pygments_lexer": "ipython3",
   "version": "3.6.6"
  }
 },
 "nbformat": 4,
 "nbformat_minor": 5
}
