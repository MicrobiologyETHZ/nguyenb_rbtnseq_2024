{
 "cells": [
  {
   "cell_type": "code",
   "execution_count": null,
   "metadata": {
    "ExecuteTime": {
     "end_time": "2022-06-22T12:32:00.295077Z",
     "start_time": "2022-06-22T12:31:41.006403Z"
    }
   },
   "outputs": [],
   "source": [
    "# %load ../snippets/basic_settings.py\n",
    "import pandas as pd\n",
    "import numpy as np\n",
    "import matplotlib.pyplot as plt\n",
    "import os\n",
    "from pathlib import Path\n",
    "import seaborn as sns\n",
    "import sys\n",
    "import plotly.express as px\n",
    "import yaml\n",
    "\n",
    "sns.set_context(\"notebook\", font_scale=1.1)\n",
    "pd.set_option(\"display.max_columns\", 100)\n",
    "pd.set_option(\"display.max_rows\", 100)\n",
    "plt.rcParams[\"figure.figsize\"] = (16, 12)\n",
    "plt.rcParams['savefig.dpi'] = 200\n",
    "plt.rcParams['figure.autolayout'] = False\n",
    "plt.rcParams['axes.labelsize'] = 18\n",
    "plt.rcParams['axes.titlesize'] = 20\n",
    "plt.rcParams['font.size'] = 16\n",
    "plt.rcParams['lines.linewidth'] = 2.0\n",
    "plt.rcParams['lines.markersize'] = 8\n",
    "plt.rcParams['legend.fontsize'] = 14\n",
    "plt.rcParams['font.serif'] = \"cm\"\n",
    "#pd.set_option('display.float_format', lambda x: '{:,.2f}'.format(x))"
   ]
  },
  {
   "cell_type": "code",
   "execution_count": null,
   "metadata": {
    "ExecuteTime": {
     "end_time": "2022-06-22T12:32:31.660730Z",
     "start_time": "2022-06-22T12:32:31.655815Z"
    }
   },
   "outputs": [],
   "source": [
    "root = Path(\"/nfs/nas22/fs2202/biol_micro_bioinf_nccr/hardt/nguyenb/tnseq/scratch/deutschbauer/fastq\")"
   ]
  },
  {
   "cell_type": "markdown",
   "metadata": {},
   "source": [
    "# Maps"
   ]
  },
  {
   "cell_type": "code",
   "execution_count": null,
   "metadata": {
    "ExecuteTime": {
     "end_time": "2022-06-22T12:35:03.409418Z",
     "start_time": "2022-06-22T12:35:01.125430Z"
    }
   },
   "outputs": [],
   "source": [
    "map1 = pd.read_csv(root/\"test_out/TnSeq_SB2B_ML5_l0.annotated.csv\")\n",
    "map2 = pd.read_csv(root/\"test_out/TnSeq_SB2B_ML5_tn2_l0.annotated.csv\")"
   ]
  },
  {
   "cell_type": "code",
   "execution_count": null,
   "metadata": {
    "ExecuteTime": {
     "end_time": "2022-06-22T12:40:03.377199Z",
     "start_time": "2022-06-22T12:40:02.114402Z"
    }
   },
   "outputs": [],
   "source": [
    "map1.sample(20000).number_of_reads.hist(bins=1000)\n",
    "plt.xlim(0, 100)"
   ]
  },
  {
   "cell_type": "code",
   "execution_count": null,
   "metadata": {
    "ExecuteTime": {
     "end_time": "2022-06-22T12:35:16.454186Z",
     "start_time": "2022-06-22T12:35:16.445900Z"
    }
   },
   "outputs": [],
   "source": [
    "map1.shape"
   ]
  },
  {
   "cell_type": "code",
   "execution_count": null,
   "metadata": {
    "ExecuteTime": {
     "end_time": "2022-06-22T12:38:40.085827Z",
     "start_time": "2022-06-22T12:38:40.050362Z"
    }
   },
   "outputs": [],
   "source": [
    "map1[map1.number_of_reads > 100].shape"
   ]
  },
  {
   "cell_type": "code",
   "execution_count": null,
   "metadata": {
    "ExecuteTime": {
     "end_time": "2022-06-22T12:37:32.688936Z",
     "start_time": "2022-06-22T12:37:32.682280Z"
    }
   },
   "outputs": [],
   "source": [
    "np.log2(20)"
   ]
  },
  {
   "cell_type": "code",
   "execution_count": null,
   "metadata": {
    "ExecuteTime": {
     "end_time": "2022-06-22T12:40:45.421958Z",
     "start_time": "2022-06-22T12:40:45.417097Z"
    }
   },
   "outputs": [],
   "source": [
    "map2.shape"
   ]
  },
  {
   "cell_type": "code",
   "execution_count": null,
   "metadata": {
    "ExecuteTime": {
     "end_time": "2022-06-22T12:41:15.332018Z",
     "start_time": "2022-06-22T12:41:15.287626Z"
    }
   },
   "outputs": [],
   "source": [
    "map2[map2.number_of_reads > 20].shape"
   ]
  },
  {
   "cell_type": "code",
   "execution_count": null,
   "metadata": {
    "ExecuteTime": {
     "end_time": "2022-06-22T12:41:35.047096Z",
     "start_time": "2022-06-22T12:41:33.738794Z"
    }
   },
   "outputs": [],
   "source": [
    "map2.sample(40000).number_of_reads.hist(bins=1000)\n",
    "plt.xlim(0, 100)"
   ]
  },
  {
   "cell_type": "code",
   "execution_count": null,
   "metadata": {
    "ExecuteTime": {
     "end_time": "2022-06-22T12:45:53.355902Z",
     "start_time": "2022-06-22T12:45:53.082052Z"
    }
   },
   "outputs": [],
   "source": [
    "map2.sort_values('number_of_reads').tail(20)"
   ]
  },
  {
   "cell_type": "code",
   "execution_count": null,
   "metadata": {
    "ExecuteTime": {
     "end_time": "2022-06-22T12:52:58.698011Z",
     "start_time": "2022-06-22T12:52:58.634737Z"
    }
   },
   "outputs": [],
   "source": [
    "map1[map1.barcode == 'CTCAACATTTGAAGATGTTT']"
   ]
  },
  {
   "cell_type": "code",
   "execution_count": null,
   "metadata": {
    "ExecuteTime": {
     "end_time": "2022-06-22T14:27:54.673023Z",
     "start_time": "2022-06-22T14:27:54.612219Z"
    }
   },
   "outputs": [],
   "source": [
    "map2[map2.barcode == \"CTTATGCTTCACAAATTGAG\" ]"
   ]
  },
  {
   "cell_type": "code",
   "execution_count": null,
   "metadata": {
    "ExecuteTime": {
     "end_time": "2022-06-22T14:32:41.284014Z",
     "start_time": "2022-06-22T14:32:41.268398Z"
    }
   },
   "outputs": [],
   "source": [
    "np.quantile(map2.number_of_reads, 0.1)"
   ]
  },
  {
   "cell_type": "code",
   "execution_count": null,
   "metadata": {
    "ExecuteTime": {
     "end_time": "2022-06-22T14:33:31.766370Z",
     "start_time": "2022-06-22T14:33:31.692166Z"
    }
   },
   "outputs": [],
   "source": [
    "map2[map2.number_of_reads > 10].shape"
   ]
  },
  {
   "cell_type": "code",
   "execution_count": null,
   "metadata": {
    "ExecuteTime": {
     "end_time": "2022-06-22T14:28:47.874309Z",
     "start_time": "2022-06-22T14:28:47.807451Z"
    }
   },
   "outputs": [],
   "source": [
    "map2[map2.number_of_reads > 20].shape"
   ]
  },
  {
   "cell_type": "code",
   "execution_count": null,
   "metadata": {
    "ExecuteTime": {
     "end_time": "2022-06-22T14:29:33.485436Z",
     "start_time": "2022-06-22T14:29:32.775601Z"
    }
   },
   "outputs": [],
   "source": [
    "#map2[map2.multimap == True].sample(20000).number_of_reads.hist(bins=500)\n",
    "np.log2(map2.sample(20000).number_of_reads).hist(bins=500)"
   ]
  },
  {
   "cell_type": "code",
   "execution_count": null,
   "metadata": {
    "ExecuteTime": {
     "end_time": "2022-06-22T12:57:30.586448Z",
     "start_time": "2022-06-22T12:57:30.582001Z"
    }
   },
   "outputs": [],
   "source": [
    "blast_file = root/\"test_out/TnSeq_SB2B_ML5_l0.blastn\""
   ]
  },
  {
   "cell_type": "code",
   "execution_count": null,
   "metadata": {
    "ExecuteTime": {
     "end_time": "2022-06-22T13:01:27.504415Z",
     "start_time": "2022-06-22T12:57:43.305619Z"
    }
   },
   "outputs": [],
   "source": [
    "df = pd.read_table(blast_file, header=None)"
   ]
  },
  {
   "cell_type": "code",
   "execution_count": null,
   "metadata": {
    "ExecuteTime": {
     "end_time": "2022-06-22T13:01:40.857970Z",
     "start_time": "2022-06-22T13:01:40.849063Z"
    }
   },
   "outputs": [],
   "source": [
    "df.columns = \"qseqid sseqid pident length qstart qend sstart send evalue bitscore qseq sstrand\".split()"
   ]
  },
  {
   "cell_type": "code",
   "execution_count": null,
   "metadata": {
    "ExecuteTime": {
     "end_time": "2022-06-22T13:01:55.604009Z",
     "start_time": "2022-06-22T13:01:55.595407Z"
    }
   },
   "outputs": [],
   "source": [
    "df.shape"
   ]
  },
  {
   "cell_type": "code",
   "execution_count": null,
   "metadata": {
    "ExecuteTime": {
     "end_time": "2022-06-22T13:02:17.674816Z",
     "start_time": "2022-06-22T13:02:01.009792Z"
    }
   },
   "outputs": [],
   "source": [
    "df = df[(df.evalue < 0.1) & (df.length > 20)]"
   ]
  },
  {
   "cell_type": "code",
   "execution_count": null,
   "metadata": {
    "ExecuteTime": {
     "end_time": "2022-06-22T13:16:22.872809Z",
     "start_time": "2022-06-22T13:16:22.856379Z"
    }
   },
   "outputs": [],
   "source": [
    "df3"
   ]
  },
  {
   "cell_type": "code",
   "execution_count": null,
   "metadata": {
    "ExecuteTime": {
     "end_time": "2022-06-22T14:36:22.813274Z",
     "start_time": "2022-06-22T14:36:03.672627Z"
    }
   },
   "outputs": [],
   "source": [
    "best_hits = df.groupby('qseqid').agg({'bitscore': ['max']}).reset_index()"
   ]
  },
  {
   "cell_type": "code",
   "execution_count": null,
   "metadata": {
    "ExecuteTime": {
     "end_time": "2022-06-22T14:36:57.079393Z",
     "start_time": "2022-06-22T14:36:22.816277Z"
    }
   },
   "outputs": [],
   "source": [
    "best_hits.columns = ['qseqid', 'bitscore']\n",
    "best_hits['barcode'] = best_hits['qseqid'].str.split('_', expand=True)[[2]]"
   ]
  },
  {
   "cell_type": "code",
   "execution_count": null,
   "metadata": {
    "ExecuteTime": {
     "end_time": "2022-06-22T14:36:57.090711Z",
     "start_time": "2022-06-22T14:36:57.081558Z"
    }
   },
   "outputs": [],
   "source": [
    "best_hits.head()"
   ]
  },
  {
   "cell_type": "code",
   "execution_count": null,
   "metadata": {
    "ExecuteTime": {
     "end_time": "2022-06-22T14:37:40.333247Z",
     "start_time": "2022-06-22T14:36:57.092579Z"
    }
   },
   "outputs": [],
   "source": [
    "best_hits['cnt'] = best_hits['qseqid'].str.split('_', expand=True)[[4]].astype(int)"
   ]
  },
  {
   "cell_type": "code",
   "execution_count": null,
   "metadata": {
    "ExecuteTime": {
     "end_time": "2022-06-22T14:37:40.344975Z",
     "start_time": "2022-06-22T14:37:40.335325Z"
    }
   },
   "outputs": [],
   "source": [
    "best_hits.head()"
   ]
  },
  {
   "cell_type": "code",
   "execution_count": null,
   "metadata": {
    "ExecuteTime": {
     "end_time": "2022-06-22T13:06:01.682429Z",
     "start_time": "2022-06-22T13:05:57.580270Z"
    }
   },
   "outputs": [],
   "source": [
    "#total_count = best_hits.groupby('barcode').cnt.sum().reset_index()"
   ]
  },
  {
   "cell_type": "code",
   "execution_count": null,
   "metadata": {
    "ExecuteTime": {
     "end_time": "2022-06-22T13:06:13.795435Z",
     "start_time": "2022-06-22T13:06:13.789876Z"
    }
   },
   "outputs": [],
   "source": [
    "#total_count.columns = ['barcode', 'total_count']"
   ]
  },
  {
   "cell_type": "code",
   "execution_count": null,
   "metadata": {
    "ExecuteTime": {
     "end_time": "2022-06-22T13:06:14.318203Z",
     "start_time": "2022-06-22T13:06:14.305461Z"
    }
   },
   "outputs": [],
   "source": [
    "#total_count.head()"
   ]
  },
  {
   "cell_type": "code",
   "execution_count": null,
   "metadata": {
    "ExecuteTime": {
     "end_time": "2022-06-22T13:06:28.043618Z",
     "start_time": "2022-06-22T13:06:24.104388Z"
    }
   },
   "outputs": [],
   "source": [
    "#best_hits = best_hits.merge(total_count, how='left', on='barcode')"
   ]
  },
  {
   "cell_type": "code",
   "execution_count": null,
   "metadata": {
    "ExecuteTime": {
     "end_time": "2022-06-22T14:46:34.242934Z",
     "start_time": "2022-06-22T14:46:06.345162Z"
    }
   },
   "outputs": [],
   "source": [
    "query_best_hits = best_hits.merge(df, how='left', on=['qseqid', 'bitscore'])"
   ]
  },
  {
   "cell_type": "code",
   "execution_count": null,
   "metadata": {
    "ExecuteTime": {
     "end_time": "2022-06-22T14:44:33.021376Z",
     "start_time": "2022-06-22T14:44:32.796189Z"
    }
   },
   "outputs": [],
   "source": [
    "query_best_hits[query_best_hits.barcode == 'CTCTTGGACGTTGGCGCGAG']"
   ]
  },
  {
   "cell_type": "code",
   "execution_count": null,
   "metadata": {
    "ExecuteTime": {
     "end_time": "2022-06-22T14:50:19.932580Z",
     "start_time": "2022-06-22T14:50:08.860329Z"
    }
   },
   "outputs": [],
   "source": [
    "total_counts = query_best_hits.groupby(['barcode', 'sstart']).cnt.sum().reset_index()\n",
    "total_counts.columns = ['barcode', 'sstart', 'total_cnt']\n",
    "total_counts['tts'] = total_counts['total_cnt'] / total_counts.groupby('barcode')['total_cnt'].transform('sum')"
   ]
  },
  {
   "cell_type": "code",
   "execution_count": null,
   "metadata": {
    "ExecuteTime": {
     "end_time": "2022-06-22T14:59:03.804246Z",
     "start_time": "2022-06-22T14:59:03.277550Z"
    }
   },
   "outputs": [],
   "source": [
    "total_counts[total_counts.barcode == \"AAGACGCCCTGCAGGGATGT\"]"
   ]
  },
  {
   "cell_type": "code",
   "execution_count": null,
   "metadata": {
    "ExecuteTime": {
     "end_time": "2022-06-22T14:52:31.589955Z",
     "start_time": "2022-06-22T14:52:31.468804Z"
    }
   },
   "outputs": [],
   "source": [
    "total_counts[(total_counts.tts > 0.75) & (total_counts.total_cnt > 10)]"
   ]
  },
  {
   "cell_type": "code",
   "execution_count": null,
   "metadata": {
    "ExecuteTime": {
     "end_time": "2022-06-22T15:01:10.953383Z",
     "start_time": "2022-06-22T15:01:10.410528Z"
    }
   },
   "outputs": [],
   "source": [
    "mp = total_counts[(total_counts.tts > 0.1) & (total_counts.tts < 0.75)].groupby('barcode').total_cnt.sum().reset_index()\n",
    "mp[mp.total_cnt > 10].shape\n",
    "\n",
    "\n"
   ]
  },
  {
   "cell_type": "code",
   "execution_count": null,
   "metadata": {
    "ExecuteTime": {
     "end_time": "2022-06-22T14:54:26.758722Z",
     "start_time": "2022-06-22T14:54:25.807746Z"
    }
   },
   "outputs": [],
   "source": [
    "total_counts[total_counts.total_cnt > 10].tts.hist(bins=500)"
   ]
  },
  {
   "cell_type": "code",
   "execution_count": null,
   "metadata": {
    "ExecuteTime": {
     "end_time": "2022-06-22T14:47:03.067208Z",
     "start_time": "2022-06-22T14:46:34.246171Z"
    }
   },
   "outputs": [],
   "source": [
    "query_best_hits = query_best_hits.sort_values(['barcode', 'cnt'], ascending=False)\n",
    "query_best_hits['rank'] = query_best_hits.groupby(['barcode']).cumcount()\n",
    "#query_best_hits = query_best_hits[query_best_hits['rank'] == 0].copy()\n",
    "#query_best_hits.drop('rank', axis=1, inplace=True)"
   ]
  },
  {
   "cell_type": "code",
   "execution_count": null,
   "metadata": {
    "ExecuteTime": {
     "end_time": "2022-06-22T14:47:05.653679Z",
     "start_time": "2022-06-22T14:47:03.071281Z"
    }
   },
   "outputs": [],
   "source": [
    "query_best_hits[query_best_hits.barcode == 'CTCTTGGACGTTGGCGCGAG']"
   ]
  },
  {
   "cell_type": "code",
   "execution_count": null,
   "metadata": {
    "ExecuteTime": {
     "end_time": "2022-06-22T13:41:59.759133Z",
     "start_time": "2022-06-22T13:41:58.815996Z"
    }
   },
   "outputs": [],
   "source": [
    "best_hits[best_hits.barcode == 'CTCTTGGACGTTGGCGCGAG']"
   ]
  },
  {
   "cell_type": "code",
   "execution_count": null,
   "metadata": {
    "ExecuteTime": {
     "end_time": "2022-06-22T13:12:16.676798Z",
     "start_time": "2022-06-22T13:12:16.499481Z"
    }
   },
   "outputs": [],
   "source": [
    "query_best_hits[query_best_hits.barcode == 'CTCTTGGACGTTGGCGCGAG']"
   ]
  },
  {
   "cell_type": "code",
   "execution_count": null,
   "metadata": {
    "ExecuteTime": {
     "end_time": "2022-06-22T12:57:08.143116Z",
     "start_time": "2022-06-22T12:57:08.129733Z"
    }
   },
   "outputs": [],
   "source": [
    "\n",
    "\n",
    "        # Note: Total counts are calculated with cnt 1 included,\n",
    "        # but low counts are filtered out right after\n",
    "        \n",
    "        \n",
    "        # Create best hits data frame by merging best_hits with other columns from blast file\n",
    "        # There still could be multiple hits for each qseqid, if they have the same blast score\n",
    "        \n",
    "        multimap = (query_best_hits.groupby(['barcode']).sstart.std(ddof=0) > 5).reset_index().rename(\n",
    "            {'sstart': 'multimap'},\n",
    "            axis=1)\n",
    "        query_best_hits = query_best_hits.merge(multimap, on='barcode')\n",
    "        # For each barcode select the position supported by most reads\n",
    "        query_best_hits = query_best_hits.sort_values(['barcode', 'cnt'], ascending=False)\n",
    "        query_best_hits['rank'] = query_best_hits.groupby(['barcode']).cumcount()\n",
    "        query_best_hits = query_best_hits[query_best_hits['rank'] == 0].copy()\n",
    "        query_best_hits.drop('rank', axis=1, inplace=True)\n",
    "        self.positions = query_best_hits"
   ]
  },
  {
   "cell_type": "code",
   "execution_count": null,
   "metadata": {},
   "outputs": [],
   "source": []
  }
 ],
 "metadata": {
  "kernelspec": {
   "display_name": "Python 3 (ipykernel)",
   "language": "python",
   "name": "python3"
  },
  "language_info": {
   "codemirror_mode": {
    "name": "ipython",
    "version": 3
   },
   "file_extension": ".py",
   "mimetype": "text/x-python",
   "name": "python",
   "nbconvert_exporter": "python",
   "pygments_lexer": "ipython3",
   "version": "3.8.12"
  },
  "toc": {
   "base_numbering": 1,
   "nav_menu": {},
   "number_sections": true,
   "sideBar": true,
   "skip_h1_title": false,
   "title_cell": "Table of Contents",
   "title_sidebar": "Contents",
   "toc_cell": false,
   "toc_position": {},
   "toc_section_display": true,
   "toc_window_display": false
  }
 },
 "nbformat": 4,
 "nbformat_minor": 4
}
