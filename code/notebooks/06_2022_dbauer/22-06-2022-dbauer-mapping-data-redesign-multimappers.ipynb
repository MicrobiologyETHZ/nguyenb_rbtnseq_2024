{
 "cells": [
  {
   "cell_type": "code",
   "execution_count": null,
   "metadata": {
    "ExecuteTime": {
     "end_time": "2022-06-24T09:30:41.536867Z",
     "start_time": "2022-06-24T09:30:20.109449Z"
    }
   },
   "outputs": [],
   "source": [
    "# %load ../snippets/basic_settings.py\n",
    "import pandas as pd\n",
    "import numpy as np\n",
    "import matplotlib.pyplot as plt\n",
    "import os\n",
    "from pathlib import Path\n",
    "import seaborn as sns\n",
    "import sys\n",
    "import plotly.express as px\n",
    "import yaml\n",
    "\n",
    "sns.set_context(\"notebook\", font_scale=1.1)\n",
    "pd.set_option(\"display.max_columns\", 100)\n",
    "pd.set_option(\"display.max_rows\", 100)\n",
    "plt.rcParams[\"figure.figsize\"] = (16, 12)\n",
    "plt.rcParams['savefig.dpi'] = 200\n",
    "plt.rcParams['figure.autolayout'] = False\n",
    "plt.rcParams['axes.labelsize'] = 18\n",
    "plt.rcParams['axes.titlesize'] = 20\n",
    "plt.rcParams['font.size'] = 16\n",
    "plt.rcParams['lines.linewidth'] = 2.0\n",
    "plt.rcParams['lines.markersize'] = 8\n",
    "plt.rcParams['legend.fontsize'] = 14\n",
    "plt.rcParams['font.serif'] = \"cm\"\n",
    "#pd.set_option('display.float_format', lambda x: '{:,.2f}'.format(x))"
   ]
  },
  {
   "cell_type": "code",
   "execution_count": null,
   "metadata": {
    "ExecuteTime": {
     "end_time": "2022-06-22T12:32:31.660730Z",
     "start_time": "2022-06-22T12:32:31.655815Z"
    }
   },
   "outputs": [],
   "source": [
    "root = Path(\"/nfs/nas22/fs2202/biol_micro_bioinf_nccr/hardt/nguyenb/tnseq/scratch/deutschbauer/fastq/test_out\")"
   ]
  },
  {
   "cell_type": "markdown",
   "metadata": {},
   "source": [
    "# Maps"
   ]
  },
  {
   "cell_type": "code",
   "execution_count": null,
   "metadata": {
    "ExecuteTime": {
     "end_time": "2022-06-22T12:35:03.409418Z",
     "start_time": "2022-06-22T12:35:01.125430Z"
    }
   },
   "outputs": [],
   "source": [
    "map1 = pd.read_csv(root/\"test_out/TnSeq_SB2B_ML5_l0.annotated.csv\")\n",
    "map2 = pd.read_csv(root/\"test_out/TnSeq_SB2B_ML5_tn2_l0.annotated.csv\")"
   ]
  },
  {
   "cell_type": "code",
   "execution_count": null,
   "metadata": {
    "ExecuteTime": {
     "end_time": "2022-06-22T12:40:03.377199Z",
     "start_time": "2022-06-22T12:40:02.114402Z"
    }
   },
   "outputs": [],
   "source": [
    "map1.sample(20000).number_of_reads.hist(bins=1000)\n",
    "plt.xlim(0, 100)"
   ]
  },
  {
   "cell_type": "code",
   "execution_count": null,
   "metadata": {
    "ExecuteTime": {
     "end_time": "2022-06-22T12:35:16.454186Z",
     "start_time": "2022-06-22T12:35:16.445900Z"
    }
   },
   "outputs": [],
   "source": [
    "map1.shape"
   ]
  },
  {
   "cell_type": "code",
   "execution_count": null,
   "metadata": {
    "ExecuteTime": {
     "end_time": "2022-06-22T12:38:40.085827Z",
     "start_time": "2022-06-22T12:38:40.050362Z"
    }
   },
   "outputs": [],
   "source": [
    "map1[map1.number_of_reads > 100].shape"
   ]
  },
  {
   "cell_type": "code",
   "execution_count": null,
   "metadata": {
    "ExecuteTime": {
     "end_time": "2022-06-22T12:37:32.688936Z",
     "start_time": "2022-06-22T12:37:32.682280Z"
    }
   },
   "outputs": [],
   "source": [
    "np.log2(20)"
   ]
  },
  {
   "cell_type": "code",
   "execution_count": null,
   "metadata": {
    "ExecuteTime": {
     "end_time": "2022-06-22T12:40:45.421958Z",
     "start_time": "2022-06-22T12:40:45.417097Z"
    }
   },
   "outputs": [],
   "source": [
    "map2.shape"
   ]
  },
  {
   "cell_type": "code",
   "execution_count": null,
   "metadata": {
    "ExecuteTime": {
     "end_time": "2022-06-22T12:41:15.332018Z",
     "start_time": "2022-06-22T12:41:15.287626Z"
    }
   },
   "outputs": [],
   "source": [
    "map2[map2.number_of_reads > 20].shape"
   ]
  },
  {
   "cell_type": "code",
   "execution_count": null,
   "metadata": {
    "ExecuteTime": {
     "end_time": "2022-06-22T12:41:35.047096Z",
     "start_time": "2022-06-22T12:41:33.738794Z"
    }
   },
   "outputs": [],
   "source": [
    "map2.sample(40000).number_of_reads.hist(bins=1000)\n",
    "plt.xlim(0, 100)"
   ]
  },
  {
   "cell_type": "code",
   "execution_count": null,
   "metadata": {
    "ExecuteTime": {
     "end_time": "2022-06-22T12:45:53.355902Z",
     "start_time": "2022-06-22T12:45:53.082052Z"
    }
   },
   "outputs": [],
   "source": [
    "map2.sort_values('number_of_reads').tail(20)"
   ]
  },
  {
   "cell_type": "code",
   "execution_count": null,
   "metadata": {
    "ExecuteTime": {
     "end_time": "2022-06-22T12:52:58.698011Z",
     "start_time": "2022-06-22T12:52:58.634737Z"
    }
   },
   "outputs": [],
   "source": [
    "map1[map1.barcode == 'CTCAACATTTGAAGATGTTT']"
   ]
  },
  {
   "cell_type": "code",
   "execution_count": null,
   "metadata": {
    "ExecuteTime": {
     "end_time": "2022-06-22T14:27:54.673023Z",
     "start_time": "2022-06-22T14:27:54.612219Z"
    }
   },
   "outputs": [],
   "source": [
    "map2[map2.barcode == \"CTTATGCTTCACAAATTGAG\" ]"
   ]
  },
  {
   "cell_type": "code",
   "execution_count": null,
   "metadata": {
    "ExecuteTime": {
     "end_time": "2022-06-22T14:32:41.284014Z",
     "start_time": "2022-06-22T14:32:41.268398Z"
    }
   },
   "outputs": [],
   "source": [
    "np.quantile(map2.number_of_reads, 0.1)"
   ]
  },
  {
   "cell_type": "code",
   "execution_count": null,
   "metadata": {
    "ExecuteTime": {
     "end_time": "2022-06-22T14:33:31.766370Z",
     "start_time": "2022-06-22T14:33:31.692166Z"
    }
   },
   "outputs": [],
   "source": [
    "map2[map2.number_of_reads > 10].shape"
   ]
  },
  {
   "cell_type": "code",
   "execution_count": null,
   "metadata": {
    "ExecuteTime": {
     "end_time": "2022-06-22T14:28:47.874309Z",
     "start_time": "2022-06-22T14:28:47.807451Z"
    }
   },
   "outputs": [],
   "source": [
    "map2[map2.number_of_reads > 20].shape"
   ]
  },
  {
   "cell_type": "code",
   "execution_count": null,
   "metadata": {
    "ExecuteTime": {
     "end_time": "2022-06-22T14:29:33.485436Z",
     "start_time": "2022-06-22T14:29:32.775601Z"
    }
   },
   "outputs": [],
   "source": [
    "#map2[map2.multimap == True].sample(20000).number_of_reads.hist(bins=500)\n",
    "np.log2(map2.sample(20000).number_of_reads).hist(bins=500)"
   ]
  },
  {
   "cell_type": "code",
   "execution_count": null,
   "metadata": {
    "ExecuteTime": {
     "end_time": "2022-06-22T12:57:30.586448Z",
     "start_time": "2022-06-22T12:57:30.582001Z"
    }
   },
   "outputs": [],
   "source": [
    "blast_file = root/\"test_out/TnSeq_SB2B_ML5_l0.blastn\""
   ]
  },
  {
   "cell_type": "code",
   "execution_count": null,
   "metadata": {
    "ExecuteTime": {
     "end_time": "2022-06-22T13:01:27.504415Z",
     "start_time": "2022-06-22T12:57:43.305619Z"
    }
   },
   "outputs": [],
   "source": [
    "df = pd.read_table(blast_file, header=None)"
   ]
  },
  {
   "cell_type": "code",
   "execution_count": null,
   "metadata": {
    "ExecuteTime": {
     "end_time": "2022-06-22T13:01:40.857970Z",
     "start_time": "2022-06-22T13:01:40.849063Z"
    }
   },
   "outputs": [],
   "source": [
    "df.columns = \"qseqid sseqid pident length qstart qend sstart send evalue bitscore qseq sstrand\".split()"
   ]
  },
  {
   "cell_type": "code",
   "execution_count": null,
   "metadata": {
    "ExecuteTime": {
     "end_time": "2022-06-22T13:01:55.604009Z",
     "start_time": "2022-06-22T13:01:55.595407Z"
    }
   },
   "outputs": [],
   "source": [
    "df.shape"
   ]
  },
  {
   "cell_type": "code",
   "execution_count": null,
   "metadata": {
    "ExecuteTime": {
     "end_time": "2022-06-22T13:02:17.674816Z",
     "start_time": "2022-06-22T13:02:01.009792Z"
    }
   },
   "outputs": [],
   "source": [
    "df = df[(df.evalue < 0.1) & (df.length > 20)]"
   ]
  },
  {
   "cell_type": "code",
   "execution_count": null,
   "metadata": {
    "ExecuteTime": {
     "end_time": "2022-06-22T13:16:22.872809Z",
     "start_time": "2022-06-22T13:16:22.856379Z"
    }
   },
   "outputs": [],
   "source": [
    "df3"
   ]
  },
  {
   "cell_type": "code",
   "execution_count": null,
   "metadata": {
    "ExecuteTime": {
     "end_time": "2022-06-22T14:36:22.813274Z",
     "start_time": "2022-06-22T14:36:03.672627Z"
    }
   },
   "outputs": [],
   "source": [
    "best_hits = df.groupby('qseqid').agg({'bitscore': ['max']}).reset_index()"
   ]
  },
  {
   "cell_type": "code",
   "execution_count": null,
   "metadata": {
    "ExecuteTime": {
     "end_time": "2022-06-22T14:36:57.079393Z",
     "start_time": "2022-06-22T14:36:22.816277Z"
    }
   },
   "outputs": [],
   "source": [
    "best_hits.columns = ['qseqid', 'bitscore']\n",
    "best_hits['barcode'] = best_hits['qseqid'].str.split('_', expand=True)[[2]]"
   ]
  },
  {
   "cell_type": "code",
   "execution_count": null,
   "metadata": {
    "ExecuteTime": {
     "end_time": "2022-06-22T14:36:57.090711Z",
     "start_time": "2022-06-22T14:36:57.081558Z"
    }
   },
   "outputs": [],
   "source": [
    "best_hits.head()"
   ]
  },
  {
   "cell_type": "code",
   "execution_count": null,
   "metadata": {
    "ExecuteTime": {
     "end_time": "2022-06-22T14:37:40.333247Z",
     "start_time": "2022-06-22T14:36:57.092579Z"
    }
   },
   "outputs": [],
   "source": [
    "best_hits['cnt'] = best_hits['qseqid'].str.split('_', expand=True)[[4]].astype(int)"
   ]
  },
  {
   "cell_type": "code",
   "execution_count": null,
   "metadata": {
    "ExecuteTime": {
     "end_time": "2022-06-22T14:37:40.344975Z",
     "start_time": "2022-06-22T14:37:40.335325Z"
    }
   },
   "outputs": [],
   "source": [
    "best_hits.head()"
   ]
  },
  {
   "cell_type": "code",
   "execution_count": null,
   "metadata": {
    "ExecuteTime": {
     "end_time": "2022-06-22T13:06:01.682429Z",
     "start_time": "2022-06-22T13:05:57.580270Z"
    }
   },
   "outputs": [],
   "source": [
    "#total_count = best_hits.groupby('barcode').cnt.sum().reset_index()"
   ]
  },
  {
   "cell_type": "code",
   "execution_count": null,
   "metadata": {
    "ExecuteTime": {
     "end_time": "2022-06-22T13:06:13.795435Z",
     "start_time": "2022-06-22T13:06:13.789876Z"
    }
   },
   "outputs": [],
   "source": [
    "#total_count.columns = ['barcode', 'total_count']"
   ]
  },
  {
   "cell_type": "code",
   "execution_count": null,
   "metadata": {
    "ExecuteTime": {
     "end_time": "2022-06-22T13:06:14.318203Z",
     "start_time": "2022-06-22T13:06:14.305461Z"
    }
   },
   "outputs": [],
   "source": [
    "#total_count.head()"
   ]
  },
  {
   "cell_type": "code",
   "execution_count": null,
   "metadata": {
    "ExecuteTime": {
     "end_time": "2022-06-22T13:06:28.043618Z",
     "start_time": "2022-06-22T13:06:24.104388Z"
    }
   },
   "outputs": [],
   "source": [
    "#best_hits = best_hits.merge(total_count, how='left', on='barcode')"
   ]
  },
  {
   "cell_type": "code",
   "execution_count": null,
   "metadata": {
    "ExecuteTime": {
     "end_time": "2022-06-22T14:46:34.242934Z",
     "start_time": "2022-06-22T14:46:06.345162Z"
    }
   },
   "outputs": [],
   "source": [
    "query_best_hits = best_hits.merge(df, how='left', on=['qseqid', 'bitscore'])"
   ]
  },
  {
   "cell_type": "code",
   "execution_count": null,
   "metadata": {
    "ExecuteTime": {
     "end_time": "2022-06-22T14:44:33.021376Z",
     "start_time": "2022-06-22T14:44:32.796189Z"
    }
   },
   "outputs": [],
   "source": [
    "query_best_hits[query_best_hits.barcode == 'CTCTTGGACGTTGGCGCGAG']"
   ]
  },
  {
   "cell_type": "code",
   "execution_count": null,
   "metadata": {
    "ExecuteTime": {
     "end_time": "2022-06-22T14:50:19.932580Z",
     "start_time": "2022-06-22T14:50:08.860329Z"
    }
   },
   "outputs": [],
   "source": [
    "total_counts = query_best_hits.groupby(['barcode', 'sstart']).cnt.sum().reset_index()\n",
    "total_counts.columns = ['barcode', 'sstart', 'total_cnt']\n",
    "total_counts['tts'] = total_counts['total_cnt'] / total_counts.groupby('barcode')['total_cnt'].transform('sum')"
   ]
  },
  {
   "cell_type": "code",
   "execution_count": null,
   "metadata": {
    "ExecuteTime": {
     "end_time": "2022-06-22T14:59:03.804246Z",
     "start_time": "2022-06-22T14:59:03.277550Z"
    }
   },
   "outputs": [],
   "source": [
    "total_counts[total_counts.barcode == \"AAGACGCCCTGCAGGGATGT\"]"
   ]
  },
  {
   "cell_type": "code",
   "execution_count": null,
   "metadata": {
    "ExecuteTime": {
     "end_time": "2022-06-22T14:52:31.589955Z",
     "start_time": "2022-06-22T14:52:31.468804Z"
    }
   },
   "outputs": [],
   "source": [
    "total_counts[(total_counts.tts > 0.75) & (total_counts.total_cnt > 10)]"
   ]
  },
  {
   "cell_type": "code",
   "execution_count": null,
   "metadata": {
    "ExecuteTime": {
     "end_time": "2022-06-22T15:01:10.953383Z",
     "start_time": "2022-06-22T15:01:10.410528Z"
    }
   },
   "outputs": [],
   "source": [
    "mp = total_counts[(total_counts.tts > 0.1) & (total_counts.tts < 0.75)].groupby('barcode').total_cnt.sum().reset_index()\n",
    "mp[mp.total_cnt > 10].shape\n",
    "\n",
    "\n"
   ]
  },
  {
   "cell_type": "code",
   "execution_count": null,
   "metadata": {
    "ExecuteTime": {
     "end_time": "2022-06-22T14:54:26.758722Z",
     "start_time": "2022-06-22T14:54:25.807746Z"
    }
   },
   "outputs": [],
   "source": [
    "total_counts[total_counts.total_cnt > 10].tts.hist(bins=500)"
   ]
  },
  {
   "cell_type": "code",
   "execution_count": null,
   "metadata": {
    "ExecuteTime": {
     "end_time": "2022-06-22T14:47:03.067208Z",
     "start_time": "2022-06-22T14:46:34.246171Z"
    }
   },
   "outputs": [],
   "source": [
    "query_best_hits = query_best_hits.sort_values(['barcode', 'cnt'], ascending=False)\n",
    "query_best_hits['rank'] = query_best_hits.groupby(['barcode']).cumcount()\n",
    "#query_best_hits = query_best_hits[query_best_hits['rank'] == 0].copy()\n",
    "#query_best_hits.drop('rank', axis=1, inplace=True)"
   ]
  },
  {
   "cell_type": "code",
   "execution_count": null,
   "metadata": {
    "ExecuteTime": {
     "end_time": "2022-06-22T14:47:05.653679Z",
     "start_time": "2022-06-22T14:47:03.071281Z"
    }
   },
   "outputs": [],
   "source": [
    "query_best_hits[query_best_hits.barcode == 'CTCTTGGACGTTGGCGCGAG']"
   ]
  },
  {
   "cell_type": "code",
   "execution_count": null,
   "metadata": {
    "ExecuteTime": {
     "end_time": "2022-06-22T13:41:59.759133Z",
     "start_time": "2022-06-22T13:41:58.815996Z"
    }
   },
   "outputs": [],
   "source": [
    "best_hits[best_hits.barcode == 'CTCTTGGACGTTGGCGCGAG']"
   ]
  },
  {
   "cell_type": "code",
   "execution_count": null,
   "metadata": {
    "ExecuteTime": {
     "end_time": "2022-06-22T13:12:16.676798Z",
     "start_time": "2022-06-22T13:12:16.499481Z"
    }
   },
   "outputs": [],
   "source": [
    "query_best_hits[query_best_hits.barcode == 'CTCTTGGACGTTGGCGCGAG']"
   ]
  },
  {
   "cell_type": "code",
   "execution_count": null,
   "metadata": {
    "ExecuteTime": {
     "end_time": "2022-06-22T12:57:08.143116Z",
     "start_time": "2022-06-22T12:57:08.129733Z"
    }
   },
   "outputs": [],
   "source": [
    "\n",
    "\n",
    "        # Note: Total counts are calculated with cnt 1 included,\n",
    "        # but low counts are filtered out right after\n",
    "        \n",
    "        \n",
    "        # Create best hits data frame by merging best_hits with other columns from blast file\n",
    "        # There still could be multiple hits for each qseqid, if they have the same blast score\n",
    "        \n",
    "        multimap = (query_best_hits.groupby(['barcode']).sstart.std(ddof=0) > 5).reset_index().rename(\n",
    "            {'sstart': 'multimap'},\n",
    "            axis=1)\n",
    "        query_best_hits = query_best_hits.merge(multimap, on='barcode')\n",
    "        # For each barcode select the position supported by most reads\n",
    "        query_best_hits = query_best_hits.sort_values(['barcode', 'cnt'], ascending=False)\n",
    "        query_best_hits['rank'] = query_best_hits.groupby(['barcode']).cumcount()\n",
    "        query_best_hits = query_best_hits[query_best_hits['rank'] == 0].copy()\n",
    "        query_best_hits.drop('rank', axis=1, inplace=True)\n",
    "        self.positions = query_best_hits"
   ]
  },
  {
   "cell_type": "markdown",
   "metadata": {},
   "source": [
    "# Implementing new `_find_most_likely_positions`"
   ]
  },
  {
   "cell_type": "code",
   "execution_count": null,
   "metadata": {
    "ExecuteTime": {
     "end_time": "2022-06-23T12:36:13.273925Z",
     "start_time": "2022-06-23T12:36:13.268736Z"
    }
   },
   "outputs": [],
   "source": [
    "root = \"/nfs/cds-peta/exports/biol_micro_cds_gr_sunagawa/scratch/Projects_NCCR/ref/mbarq_test_data/dnaid1315/expected_outcomes\""
   ]
  },
  {
   "cell_type": "code",
   "execution_count": null,
   "metadata": {
    "ExecuteTime": {
     "end_time": "2022-06-23T08:36:05.945332Z",
     "start_time": "2022-06-23T08:36:05.940561Z"
    }
   },
   "outputs": [],
   "source": [
    "test_blastn=\"/nfs/cds-peta/exports/biol_micro_cds_gr_sunagawa/scratch/Projects_NCCR/ref/mbarq_test_data/dnaid1315/expected_outcomes/library_11_1_FKDL202598974-1a-D701-AK1682_HHG5YDSXY_L4_subsample_1.blastn\"\n",
    "positions = \"/nfs/cds-peta/exports/biol_micro_cds_gr_sunagawa/scratch/Projects_NCCR/ref/mbarq_test_data/dnaid1315/expected_outcomes/likely_positions.csv\""
   ]
  },
  {
   "cell_type": "code",
   "execution_count": null,
   "metadata": {
    "ExecuteTime": {
     "end_time": "2022-06-23T12:13:13.720618Z",
     "start_time": "2022-06-23T12:13:13.703936Z"
    },
    "code_folding": []
   },
   "outputs": [],
   "source": [
    "def _find_most_likely_positions_v2(temp_blastn_file, filter_below, perc_primary_location=0.75) -> None:\n",
    "    \"\"\"\n",
    "     Takes in blast file, and provides most likely locations for each barcode\n",
    "     :param: blast_file\n",
    "     :param: filter_below\n",
    "     :param: logger\n",
    "     :return: pd.DataFrame\n",
    "     \"\"\"\n",
    "    \n",
    "    def merge_similar_locations(df):\n",
    "        df = df.sort_values(['sstart']).reset_index()\n",
    "        df['Group']=((df.end.rolling(window=2,min_periods=1).min()\n",
    "                    -df.sstart.rolling(window=2,min_periods=1).max())<0).cumsum()\n",
    "        cnt = df.groupby(['Group']).agg({'cnt': ['sum']}).reset_index()\n",
    "        cnt.columns = ['Group', 'total_count']\n",
    "        loc = df.loc[df.groupby(['barcode', 'Group'])['cnt'].idxmax()]\n",
    "        loc = loc.merge(cnt, on=['Group'])\n",
    "        return loc[['sstart', 'sstrand', 'total_count']]\n",
    "\n",
    "    df = pd.read_table(temp_blastn_file, header=None)\n",
    "    df.columns = \"qseqid sseqid pident length qstart qend sstart send evalue bitscore qseq sstrand\".split()\n",
    "    # Filter out spurious hits\n",
    "    df = df[(df.evalue < 0.1) & (df.length > 20)]\n",
    "    # Get a best hit for each qseqID( barcode:host combo): group by qseqid, find max bitscore\n",
    "    best_hits = df.groupby('qseqid').agg({'bitscore': ['max']}).reset_index()\n",
    "    best_hits.columns = ['qseqid', 'bitscore']\n",
    "    # Get barcode out of qseqid\n",
    "    best_hits['barcode'] = best_hits['qseqid'].str.split('_', expand=True)[[2]]\n",
    "    # Get count out of qseqid\n",
    "    best_hits['cnt'] = best_hits['qseqid'].str.split('_', expand=True)[[4]].astype(int)\n",
    "    query_best_hits = best_hits.merge(df, how='left', on=['qseqid', 'bitscore'])\n",
    "    query_best_hits['end'] = query_best_hits['sstart'] + 5\n",
    "    \n",
    "    # for each barcode, find all positions detected, and count how many reads per position\n",
    "    total_counts = query_best_hits.groupby(['barcode', 'sseqid']).apply(merge_similar_locations).reset_index()\n",
    "    total_counts['prop_read_per_position'] = total_counts['total_count'] / total_counts.groupby('barcode')['total_count'].transform('sum')\n",
    "    likely_positions = total_counts[total_counts['prop_read_per_position'] > perc_primary_location].reset_index()\n",
    "    likely_multimappers = (total_counts[(total_counts['prop_read_per_position'] < perc_primary_location) \n",
    "                                        & (likely_positions.total_count > filter_below)]\n",
    "                          .barcode.nunique())\n",
    "    print(likely_multimappers)\n",
    "    likely_positions = likely_positions[likely_positions.total_count > filter_below]\n",
    "    \n",
    "    return likely_positions[['barcode', 'sseqid', 'sstrand', 'sstart', 'total_count', 'prop_read_per_position']]"
   ]
  },
  {
   "cell_type": "code",
   "execution_count": null,
   "metadata": {
    "ExecuteTime": {
     "end_time": "2022-06-23T12:13:26.994574Z",
     "start_time": "2022-06-23T12:13:15.328131Z"
    }
   },
   "outputs": [],
   "source": [
    "lp2 = _find_most_likely_positions_v2(test_blastn, 0)"
   ]
  },
  {
   "cell_type": "code",
   "execution_count": null,
   "metadata": {
    "ExecuteTime": {
     "end_time": "2022-06-23T12:23:07.323376Z",
     "start_time": "2022-06-23T12:23:07.304299Z"
    }
   },
   "outputs": [],
   "source": [
    "\n",
    "lp2.to_csv(\"/nfs/cds-peta/exports/biol_micro_cds_gr_sunagawa/scratch/Projects_NCCR/ref/mbarq_test_data/dnaid1315/expected_outcomes/23-06-22-likely_positions.csv\",\n",
    "          index=False)\n",
    "\n"
   ]
  },
  {
   "cell_type": "code",
   "execution_count": null,
   "metadata": {
    "ExecuteTime": {
     "end_time": "2022-06-23T12:10:35.194396Z",
     "start_time": "2022-06-23T12:10:35.177589Z"
    }
   },
   "outputs": [],
   "source": [
    "lp2.head()"
   ]
  },
  {
   "cell_type": "code",
   "execution_count": null,
   "metadata": {
    "ExecuteTime": {
     "end_time": "2022-06-23T11:32:43.443005Z",
     "start_time": "2022-06-23T11:32:43.436328Z"
    }
   },
   "outputs": [],
   "source": [
    "cnt2 = loc[['barcode', 'sseqid', 'sstart', 'Group']].merge(cnt, on=['Group', 'sseqid'])"
   ]
  },
  {
   "cell_type": "code",
   "execution_count": null,
   "metadata": {
    "ExecuteTime": {
     "end_time": "2022-06-23T11:32:45.646180Z",
     "start_time": "2022-06-23T11:32:45.632660Z"
    }
   },
   "outputs": [],
   "source": [
    "cnt2"
   ]
  },
  {
   "cell_type": "code",
   "execution_count": null,
   "metadata": {
    "ExecuteTime": {
     "end_time": "2022-06-23T10:22:25.298633Z",
     "start_time": "2022-06-23T10:22:25.288732Z"
    }
   },
   "outputs": [],
   "source": [
    "df1 = df1.merge(loc, on='Group')"
   ]
  },
  {
   "cell_type": "code",
   "execution_count": null,
   "metadata": {
    "ExecuteTime": {
     "end_time": "2022-06-23T12:34:58.784660Z",
     "start_time": "2022-06-23T12:34:58.780667Z"
    }
   },
   "outputs": [],
   "source": [
    "import re"
   ]
  },
  {
   "cell_type": "code",
   "execution_count": null,
   "metadata": {
    "ExecuteTime": {
     "end_time": "2022-06-23T12:35:00.974407Z",
     "start_time": "2022-06-23T12:35:00.924517Z"
    }
   },
   "outputs": [],
   "source": [
    "lp3 = _merge_colliding_barcodes(lp2)"
   ]
  },
  {
   "cell_type": "code",
   "execution_count": null,
   "metadata": {
    "ExecuteTime": {
     "end_time": "2022-06-23T12:37:01.546678Z",
     "start_time": "2022-06-23T12:37:01.516146Z"
    }
   },
   "outputs": [],
   "source": [
    "ex_merge = pd.read_csv(Path(root)/\"merge_colliding_bcs.csv\")"
   ]
  },
  {
   "cell_type": "code",
   "execution_count": null,
   "metadata": {
    "ExecuteTime": {
     "end_time": "2022-06-23T12:37:10.818280Z",
     "start_time": "2022-06-23T12:37:10.799103Z"
    }
   },
   "outputs": [],
   "source": [
    "ex_merge"
   ]
  },
  {
   "cell_type": "code",
   "execution_count": null,
   "metadata": {
    "ExecuteTime": {
     "end_time": "2022-06-23T12:37:44.549020Z",
     "start_time": "2022-06-23T12:37:44.535043Z"
    }
   },
   "outputs": [],
   "source": [
    "t = lp3.merge(ex_merge, how='outer', on='barcode')"
   ]
  },
  {
   "cell_type": "code",
   "execution_count": null,
   "metadata": {
    "ExecuteTime": {
     "end_time": "2022-06-23T12:39:15.460861Z",
     "start_time": "2022-06-23T12:39:15.445954Z"
    }
   },
   "outputs": [],
   "source": [
    "lp2[lp2.barcode == 'ACCCCACACATAGGTGT']"
   ]
  },
  {
   "cell_type": "code",
   "execution_count": null,
   "metadata": {
    "ExecuteTime": {
     "end_time": "2022-06-23T12:41:04.743069Z",
     "start_time": "2022-06-23T12:41:04.729937Z"
    }
   },
   "outputs": [],
   "source": [
    "lp2[(lp2.sstart > 1456300) & (lp2.sstart < 1456320.0)]"
   ]
  },
  {
   "cell_type": "code",
   "execution_count": null,
   "metadata": {
    "ExecuteTime": {
     "end_time": "2022-06-23T12:42:55.974808Z",
     "start_time": "2022-06-23T12:42:55.959104Z"
    }
   },
   "outputs": [],
   "source": [
    "lp3.to_csv(Path(root)/\"23-06-22-merge_colliding_bcs.csv\", index=False)"
   ]
  },
  {
   "cell_type": "code",
   "execution_count": null,
   "metadata": {
    "ExecuteTime": {
     "end_time": "2022-06-23T12:34:31.174678Z",
     "start_time": "2022-06-23T12:34:31.156579Z"
    }
   },
   "outputs": [],
   "source": [
    "def _merge_colliding_barcodes(pps):\n",
    "\n",
    "    \"\"\"\n",
    "    Takes data frame of positions, and merges colliding barcodes\n",
    "    \"\"\"\n",
    "    pps = pps[['sseqid', 'sstart', 'sstrand', 'barcode', 'total_count']].copy()\n",
    "\n",
    "    positions_sorted = (pps.groupby('sseqid')\n",
    "                        .apply(pd.DataFrame.sort_values, 'sstart')\n",
    "                        .drop(['sseqid'], axis=1)\n",
    "                        .reset_index()\n",
    "                        .drop(['level_1'], axis=1))\n",
    "\n",
    "    # Get indices for rows with collisions\n",
    "    collision_index = list(\n",
    "        positions_sorted[(positions_sorted.sstart.diff() < 5) & (positions_sorted.sstart.diff() >= 0)].index)\n",
    "    collision_index.extend([i - 1 for i in collision_index if i - 1 not in collision_index])\n",
    "    collision_index.sort()\n",
    "\n",
    "    # Barcodes without collisions\n",
    "\n",
    "    unique = positions_sorted[~positions_sorted.index.isin(collision_index)]\n",
    "\n",
    "    collisions = positions_sorted.iloc[collision_index]\n",
    "    if collisions.empty:\n",
    "        return unique[['barcode', 'total_count', 'sstart', 'sseqid', 'sstrand']]\n",
    "    else:\n",
    "        def row_to_barcode(structure, row):\n",
    "            bc = Barcode(structure)\n",
    "            bc.bc_seq = row.barcode\n",
    "            bc.chr = row.sseqid\n",
    "            bc.start = row.sstart\n",
    "            bc.strand = row.sstrand\n",
    "            bc.count = row.total_count\n",
    "            return bc\n",
    "\n",
    "        bcs = []\n",
    "        final_bcs = []\n",
    "        for i, r in collisions.iterrows():\n",
    "            bcs.append(row_to_barcode('B17N13GTGTATAAGAGACAG', r))\n",
    "\n",
    "        bc = bcs.pop(0)\n",
    "        cnt = bc.count\n",
    "        while len(bcs) > 0:\n",
    "            bc2 = bcs.pop(0)\n",
    "            if bc.chr != bc2.chr or abs(bc.start - bc2.start) > 5:\n",
    "                bc.count = cnt\n",
    "                final_bcs.append(bc)\n",
    "                bc = bc2\n",
    "                cnt = bc2.count\n",
    "            else:\n",
    "                if bc.editdistance(bc2) > 3:\n",
    "                    bc.count = cnt\n",
    "                    final_bcs.append(bc)\n",
    "                    bc = bc2\n",
    "                    cnt = bc2.count\n",
    "                else:\n",
    "                    cnt += bc2.count\n",
    "                    if bc.count < bc2.count:\n",
    "                        bc = bc2\n",
    "        if bc not in final_bcs:\n",
    "            final_bcs.append(bc)\n",
    "        resolved_collisions = pd.DataFrame([[bc.chr, bc.start, bc.strand,\n",
    "                                             bc.bc_seq, bc.count] for bc in final_bcs],\n",
    "                                           columns=['sseqid', 'sstart', 'sstrand', 'barcode', 'total_count'])\n",
    "        return pd.concat([unique, resolved_collisions])[['barcode', 'total_count', 'sstart',\n",
    "                                                                   'sseqid', 'sstrand']]\n",
    "        "
   ]
  },
  {
   "cell_type": "code",
   "execution_count": null,
   "metadata": {
    "ExecuteTime": {
     "end_time": "2022-06-23T12:31:48.483391Z",
     "start_time": "2022-06-23T12:31:48.463035Z"
    }
   },
   "outputs": [],
   "source": [
    "\n",
    "class FastA:\n",
    "    '''\n",
    "    Standard data container for fasta sequences\n",
    "    '''\n",
    "    __slots__ = ['header', 'sequence']\n",
    "\n",
    "    def __init__(self, header: str, sequence: str) -> None:\n",
    "        self.header = header\n",
    "        self.sequence = sequence\n",
    "\n",
    "\n",
    "class Barcode:\n",
    "    def __init__(self, structure='', sequence=''):\n",
    "        self.structure: str = structure\n",
    "        self.bc_seq: str = sequence\n",
    "        self.host: str = ''\n",
    "        self.bc_len: int\n",
    "        self.tn_seq: str\n",
    "        self.count: int = -1\n",
    "        self.bc_before_tn: bool\n",
    "        self.len_spacer: int\n",
    "        # In theory these are optional\n",
    "        self.start: Optional[int] = None  # todo don't need these, need insertion site\n",
    "        self.end: Optional[int] = None\n",
    "        self.chr: Optional[str] = None\n",
    "        self.strand: Optional[str] = None\n",
    "        self.multimap: Optional[bool] = None\n",
    "        self.identifiers: Optional[List[str]] = None\n",
    "        if self.structure:\n",
    "            self._parse_structure()\n",
    "        if not self.structure and not self.bc_seq:\n",
    "            raise ValueError(\"Please provide either structure or sequence\")\n",
    "\n",
    "    # def _parse_structure_old(self):\n",
    "    #     self.tn_seq = self.structure.split(':')[0]\n",
    "    #     self.len_spacer = int(self.structure.split(':')[2])\n",
    "    #     self.bc_len = int(self.structure.split(':')[1])\n",
    "    #     self.bc_before_tn = True if self.structure.split(':')[3] == 'before' else False\n",
    "\n",
    "    def _parse_structure(self):\n",
    "        try:\n",
    "            self.tn_seq = re.findall('[ACGT]+', self.structure)[0]\n",
    "            bc_len = re.findall('B(\\\\d+)', self.structure)[0]\n",
    "            spacer = re.findall('N(\\\\d+)', self.structure)\n",
    "            self.len_spacer = int(spacer[0]) if spacer else 0\n",
    "            self.bc_before_tn = self.structure.index(self.tn_seq) > self.structure.index(bc_len)\n",
    "            self.bc_len = int(bc_len)\n",
    "\n",
    "\n",
    "        except IndexError:\n",
    "            raise 'Could not transposon structure provided'\n",
    "\n",
    "\n",
    "\n",
    "    def editdistance(self, other_barcode: \"Barcode\") -> int:\n",
    "        '''\n",
    "        Calculate the edit distance between 2 sequences with identical length.\n",
    "        Will throw an error if the length of both sequences differs\n",
    "\n",
    "        :return:\n",
    "        '''\n",
    "        if not self.bc_seq or not other_barcode.bc_seq:\n",
    "            raise Exception(\"Could not find sequence for one or more barcodes\")\n",
    "        if self.bc_seq == other_barcode.bc_seq:\n",
    "            return 0\n",
    "        if len(self.bc_seq) != len(other_barcode.bc_seq):\n",
    "            raise Exception(\n",
    "                f'{self.bc_seq} and {other_barcode.bc_seq} have different length. Edit distance can be computed on same length sequences only.')\n",
    "        dist = 0\n",
    "        for letter1, letter2 in zip(self.bc_seq, other_barcode.bc_seq):\n",
    "            if letter1 != letter2:\n",
    "                dist += 1\n",
    "        return dist\n",
    "\n",
    "    def extract_barcode_host(self, r1: FastA) -> None:\n",
    "        '''\n",
    "       Extract barcode and host sequence from read with tp2.\n",
    "       Return (None, None) if the barcode sequence is not complete (17bp)\n",
    "        :param r1:\n",
    "        :return:\n",
    "\n",
    "        -----|BARCODE|----------|TN end sequence (tp2)|---Host------\n",
    "        -----|-bc_len-|--len_spacer--|---------tn_seq---------|-------------\n",
    "        -----|-17bp--|---13bp---|---------15bp--------|----?--------\n",
    "         ---(-30)---(-13)-------(0)---------------------------------\n",
    "        '''\n",
    "        splits: List[str] = r1.sequence.split(self.tn_seq)  # check that tn in sequence?\n",
    "        self.bc_seq = ''\n",
    "        self.host = ''\n",
    "        if self.bc_before_tn:\n",
    "            bc_start = -(self.bc_len + self.len_spacer)\n",
    "            bc_end = None if self.len_spacer == 0 else -self.len_spacer\n",
    "            bc_seq = splits[0]\n",
    "            host_seq = splits[1]\n",
    "        else:\n",
    "            bc_start = self.len_spacer\n",
    "            bc_end = self.len_spacer + self.bc_len\n",
    "            bc_seq = splits[1]\n",
    "            host_seq = splits[0]\n",
    "\n",
    "        if len(bc_seq) >= self.len_spacer + self.bc_len:\n",
    "            self.bc_seq = bc_seq[bc_start:bc_end]\n",
    "            self.host = host_seq\n",
    "\n",
    "    def __repr__(self):\n",
    "        if self.bc_seq:\n",
    "            return f\"{self.bc_seq}: {self.count}\"\n",
    "        else:\n",
    "            return f\"Barcode({self.structure})\"\n"
   ]
  },
  {
   "cell_type": "code",
   "execution_count": null,
   "metadata": {
    "ExecuteTime": {
     "end_time": "2022-06-23T09:21:18.775775Z",
     "start_time": "2022-06-23T09:21:18.765757Z"
    }
   },
   "outputs": [],
   "source": [
    "y = tc[tc.barcode == 'ACCACGCAGTATTTTGC'].sort_values(['sseqid', 'sstart']).copy()"
   ]
  },
  {
   "cell_type": "code",
   "execution_count": null,
   "metadata": {
    "ExecuteTime": {
     "end_time": "2022-06-23T09:22:12.192030Z",
     "start_time": "2022-06-23T09:22:12.188053Z"
    }
   },
   "outputs": [],
   "source": [
    "y['st'] = y.sstart.diff()\n",
    "y['cs'] = y.total_cnt.cumsum()"
   ]
  },
  {
   "cell_type": "code",
   "execution_count": null,
   "metadata": {
    "ExecuteTime": {
     "end_time": "2022-06-23T09:22:15.850380Z",
     "start_time": "2022-06-23T09:22:15.833814Z"
    }
   },
   "outputs": [],
   "source": [
    "y"
   ]
  },
  {
   "cell_type": "code",
   "execution_count": null,
   "metadata": {
    "ExecuteTime": {
     "end_time": "2022-06-23T09:01:08.908065Z",
     "start_time": "2022-06-23T09:01:08.887145Z"
    }
   },
   "outputs": [],
   "source": [
    "ex_df = pd.read_csv(positions)[['barcode', 'sseqid', 'sstart', 'total_count', 'multimap']].sort_values(\"sstart\")"
   ]
  },
  {
   "cell_type": "code",
   "execution_count": null,
   "metadata": {
    "ExecuteTime": {
     "end_time": "2022-06-23T12:09:36.253431Z",
     "start_time": "2022-06-23T12:09:36.246030Z"
    }
   },
   "outputs": [],
   "source": [
    "ex_df.multimap.sum()"
   ]
  },
  {
   "cell_type": "code",
   "execution_count": null,
   "metadata": {
    "ExecuteTime": {
     "end_time": "2022-06-23T12:01:13.859034Z",
     "start_time": "2022-06-23T12:01:13.844445Z"
    }
   },
   "outputs": [],
   "source": [
    "mdf = tc.merge(ex_df, how='outer', on='barcode')"
   ]
  },
  {
   "cell_type": "code",
   "execution_count": null,
   "metadata": {
    "ExecuteTime": {
     "end_time": "2022-06-23T12:01:15.220975Z",
     "start_time": "2022-06-23T12:01:15.202318Z"
    }
   },
   "outputs": [],
   "source": [
    "mdf.head()"
   ]
  },
  {
   "cell_type": "code",
   "execution_count": null,
   "metadata": {
    "ExecuteTime": {
     "end_time": "2022-06-23T12:01:33.623051Z",
     "start_time": "2022-06-23T12:01:33.602817Z"
    }
   },
   "outputs": [],
   "source": [
    "qh[qh.barcode =='TCTCGGGACAGTTAGCC']"
   ]
  },
  {
   "cell_type": "code",
   "execution_count": null,
   "metadata": {
    "ExecuteTime": {
     "end_time": "2022-06-23T12:01:16.990637Z",
     "start_time": "2022-06-23T12:01:16.964529Z"
    }
   },
   "outputs": [],
   "source": [
    "mdf[mdf.sstart_x != mdf.sstart_y]"
   ]
  },
  {
   "cell_type": "code",
   "execution_count": null,
   "metadata": {
    "ExecuteTime": {
     "end_time": "2022-06-23T12:02:09.137333Z",
     "start_time": "2022-06-23T12:02:09.070887Z"
    }
   },
   "outputs": [],
   "source": [
    "px.scatter(mdf[mdf.sseqid_x == 'FQ312003.1'], x='total_count_x', y='total_count_y', hover_data=['barcode'])"
   ]
  },
  {
   "cell_type": "code",
   "execution_count": null,
   "metadata": {
    "ExecuteTime": {
     "end_time": "2022-06-23T08:54:42.749034Z",
     "start_time": "2022-06-23T08:54:42.723493Z"
    }
   },
   "outputs": [],
   "source": [
    "positions_sorted = (tc.groupby('sseqid')\n",
    "                        .apply(pd.DataFrame.sort_values, 'sstart')\n",
    "                        .drop(['sseqid'], axis=1)\n",
    "                        .reset_index()\n",
    "                        .drop(['level_1'], axis=1))\n",
    "collision_index = list(\n",
    "        positions_sorted[(positions_sorted.sstart.diff() < 5) & (positions_sorted.sstart.diff() >= 0)].index)\n",
    "collision_index.extend([i - 1 for i in collision_index if i - 1 not in collision_index])\n",
    "collision_index.sort()\n",
    "collisions = positions_sorted.iloc[collision_index]"
   ]
  },
  {
   "cell_type": "code",
   "execution_count": null,
   "metadata": {
    "ExecuteTime": {
     "end_time": "2022-06-23T08:48:43.670079Z",
     "start_time": "2022-06-23T08:48:43.652189Z"
    }
   },
   "outputs": [],
   "source": [
    "collisions.head(20)"
   ]
  },
  {
   "cell_type": "code",
   "execution_count": null,
   "metadata": {
    "ExecuteTime": {
     "end_time": "2022-06-23T10:14:11.755327Z",
     "start_time": "2022-06-23T10:14:11.743697Z"
    }
   },
   "outputs": [],
   "source": [
    "test = pd.DataFrame([['aaa', 'aaa', 'aaa', 'aaa', 'aaa'], \n",
    "                     ['a', 'a', 'a', 'b', 'b'], \n",
    "                     [300, 302, 500, 550, 552], [3,4,1,1,1]], index=['barcode', 'sseqid', 'left', 'count']).T\n",
    "test['right'] = test['left']+5"
   ]
  },
  {
   "cell_type": "code",
   "execution_count": null,
   "metadata": {
    "ExecuteTime": {
     "end_time": "2022-06-23T10:14:15.311829Z",
     "start_time": "2022-06-23T10:14:15.296775Z"
    }
   },
   "outputs": [],
   "source": [
    "\n",
    "total_counts = test.groupby(['barcode', 'sseqid', 'left'])['count'].sum().reset_index()\n",
    "total_counts.columns = ['barcode', 'sseqid','left','total_cnt']\n",
    "total_counts['right'] = total_counts['left']+5"
   ]
  },
  {
   "cell_type": "code",
   "execution_count": null,
   "metadata": {
    "ExecuteTime": {
     "end_time": "2022-06-23T10:15:20.926472Z",
     "start_time": "2022-06-23T10:15:20.920606Z"
    }
   },
   "outputs": [],
   "source": [
    "def get_group(x):\n",
    "    ((x.right.rolling(window=2,min_periods=1).min()\n",
    "            -x.left.rolling(window=2,min_periods=1).max())<0).cumsum()"
   ]
  },
  {
   "cell_type": "code",
   "execution_count": null,
   "metadata": {
    "ExecuteTime": {
     "end_time": "2022-06-23T10:15:09.457533Z",
     "start_time": "2022-06-23T10:15:09.444704Z"
    }
   },
   "outputs": [],
   "source": [
    "total_counts"
   ]
  },
  {
   "cell_type": "code",
   "execution_count": null,
   "metadata": {
    "ExecuteTime": {
     "end_time": "2022-06-23T10:15:26.453023Z",
     "start_time": "2022-06-23T10:15:26.437752Z"
    }
   },
   "outputs": [],
   "source": [
    "total_counts.groupby('sseqid').apply(get_group)"
   ]
  },
  {
   "cell_type": "code",
   "execution_count": null,
   "metadata": {},
   "outputs": [],
   "source": []
  },
  {
   "cell_type": "code",
   "execution_count": null,
   "metadata": {
    "ExecuteTime": {
     "end_time": "2022-06-23T09:52:08.850545Z",
     "start_time": "2022-06-23T09:52:08.840348Z"
    }
   },
   "outputs": [],
   "source": [
    "test=test.sort_values(['left','right'])\n",
    "test['Group']=((test.right.rolling(window=2,min_periods=1).min()\n",
    "                -test.left.rolling(window=2,min_periods=1).max())<0).cumsum()\n"
   ]
  },
  {
   "cell_type": "code",
   "execution_count": null,
   "metadata": {
    "ExecuteTime": {
     "end_time": "2022-06-23T09:54:34.735786Z",
     "start_time": "2022-06-23T09:54:34.723720Z"
    }
   },
   "outputs": [],
   "source": [
    "test"
   ]
  },
  {
   "cell_type": "code",
   "execution_count": null,
   "metadata": {
    "ExecuteTime": {
     "end_time": "2022-06-23T09:58:59.948499Z",
     "start_time": "2022-06-23T09:58:59.943968Z"
    }
   },
   "outputs": [],
   "source": [
    "def get_location(g):\n",
    "    g = g.reset_index()\n",
    "    return g.iloc[g['count'].idxmax()].left"
   ]
  },
  {
   "cell_type": "code",
   "execution_count": null,
   "metadata": {
    "ExecuteTime": {
     "end_time": "2022-06-23T09:59:42.401870Z",
     "start_time": "2022-06-23T09:59:42.386845Z"
    }
   },
   "outputs": [],
   "source": [
    "loc = test.groupby('Group').apply(get_location).reset_index()\n",
    "cnt = test.groupby('Group').agg({'count': ['sum']})"
   ]
  },
  {
   "cell_type": "code",
   "execution_count": null,
   "metadata": {
    "ExecuteTime": {
     "end_time": "2022-06-23T09:53:58.127951Z",
     "start_time": "2022-06-23T09:53:58.122666Z"
    }
   },
   "outputs": [],
   "source": []
  },
  {
   "cell_type": "code",
   "execution_count": null,
   "metadata": {
    "ExecuteTime": {
     "end_time": "2022-06-23T09:41:51.513224Z",
     "start_time": "2022-06-23T09:41:51.500756Z"
    }
   },
   "outputs": [],
   "source": []
  },
  {
   "cell_type": "code",
   "execution_count": null,
   "metadata": {
    "ExecuteTime": {
     "end_time": "2022-06-23T09:47:42.246201Z",
     "start_time": "2022-06-23T09:47:42.230441Z"
    }
   },
   "outputs": [],
   "source": [
    "x = pd.DataFrame({'left': [0,5,10,3,12,13,18,31], 'right':[4,8,13,7,19,16,23,35]})\n",
    "x = x.sort_values(['left','right'])"
   ]
  },
  {
   "cell_type": "code",
   "execution_count": null,
   "metadata": {
    "ExecuteTime": {
     "end_time": "2022-06-23T09:49:47.255166Z",
     "start_time": "2022-06-23T09:49:47.246617Z"
    }
   },
   "outputs": [],
   "source": [
    "x['Group']=((x.right.rolling(window=2,min_periods=1).min()\n",
    "                -x.left.rolling(window=2,min_periods=1).max())<0).cumsum()\n"
   ]
  },
  {
   "cell_type": "code",
   "execution_count": null,
   "metadata": {
    "ExecuteTime": {
     "end_time": "2022-06-23T09:49:49.055380Z",
     "start_time": "2022-06-23T09:49:49.042050Z"
    }
   },
   "outputs": [],
   "source": [
    "x"
   ]
  },
  {
   "cell_type": "code",
   "execution_count": null,
   "metadata": {
    "ExecuteTime": {
     "end_time": "2022-06-23T09:45:52.239069Z",
     "start_time": "2022-06-23T09:45:52.228687Z"
    }
   },
   "outputs": [],
   "source": [
    "x.right.rolling(window=2,min_periods=1).min()"
   ]
  },
  {
   "cell_type": "code",
   "execution_count": null,
   "metadata": {},
   "outputs": [],
   "source": []
  }
 ],
 "metadata": {
  "kernelspec": {
   "display_name": "Python 3 (ipykernel)",
   "language": "python",
   "name": "python3"
  },
  "language_info": {
   "codemirror_mode": {
    "name": "ipython",
    "version": 3
   },
   "file_extension": ".py",
   "mimetype": "text/x-python",
   "name": "python",
   "nbconvert_exporter": "python",
   "pygments_lexer": "ipython3",
   "version": "3.8.12"
  },
  "toc": {
   "base_numbering": 1,
   "nav_menu": {},
   "number_sections": true,
   "sideBar": true,
   "skip_h1_title": false,
   "title_cell": "Table of Contents",
   "title_sidebar": "Contents",
   "toc_cell": false,
   "toc_position": {},
   "toc_section_display": true,
   "toc_window_display": false
  }
 },
 "nbformat": 4,
 "nbformat_minor": 4
}
