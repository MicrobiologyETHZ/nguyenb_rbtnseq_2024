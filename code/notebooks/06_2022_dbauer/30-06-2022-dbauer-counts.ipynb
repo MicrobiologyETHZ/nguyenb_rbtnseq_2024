{
 "cells": [
  {
   "cell_type": "code",
   "execution_count": null,
   "metadata": {
    "ExecuteTime": {
     "end_time": "2022-08-31T11:48:35.159002Z",
     "start_time": "2022-08-31T11:48:21.209494Z"
    }
   },
   "outputs": [],
   "source": [
    "# %load ../snippets/basic_settings.py\n",
    "import pandas as pd\n",
    "import numpy as np\n",
    "import matplotlib.pyplot as plt\n",
    "import os\n",
    "from pathlib import Path\n",
    "import seaborn as sns\n",
    "import sys\n",
    "import plotly.express as px\n",
    "import yaml\n",
    "\n",
    "sns.set_context(\"notebook\", font_scale=1.1)\n",
    "pd.set_option(\"display.max_columns\", 100)\n",
    "pd.set_option(\"display.max_rows\", 100)\n",
    "plt.rcParams[\"figure.figsize\"] = (16, 12)\n",
    "plt.rcParams['savefig.dpi'] = 200\n",
    "plt.rcParams['figure.autolayout'] = False\n",
    "plt.rcParams['axes.labelsize'] = 18\n",
    "plt.rcParams['axes.titlesize'] = 20\n",
    "plt.rcParams['font.size'] = 16\n",
    "plt.rcParams['lines.linewidth'] = 2.0\n",
    "plt.rcParams['lines.markersize'] = 8\n",
    "plt.rcParams['legend.fontsize'] = 14\n",
    "\n",
    "plt.rcParams['font.serif'] = \"cm\"\n",
    "#pd.set_option('display.float_format', lambda x: '{:,.2f}'.format(x))"
   ]
  },
  {
   "cell_type": "code",
   "execution_count": null,
   "metadata": {
    "ExecuteTime": {
     "end_time": "2022-08-31T11:48:35.166989Z",
     "start_time": "2022-08-31T11:48:35.162932Z"
    }
   },
   "outputs": [],
   "source": [
    "dbauer_dir = Path(\"/nfs/nas22/fs2202/biol_micro_bioinf_nccr/hardt/nguyenb/tnseq/scratch/deutschbauer/fastq\")"
   ]
  },
  {
   "cell_type": "code",
   "execution_count": null,
   "metadata": {
    "ExecuteTime": {
     "end_time": "2022-08-31T11:48:35.191198Z",
     "start_time": "2022-08-31T11:48:35.168174Z"
    }
   },
   "outputs": [],
   "source": [
    "counts_dir = dbauer_dir/\"counts\""
   ]
  },
  {
   "cell_type": "code",
   "execution_count": null,
   "metadata": {
    "ExecuteTime": {
     "end_time": "2022-08-31T11:48:42.486206Z",
     "start_time": "2022-08-31T11:48:35.193293Z"
    }
   },
   "outputs": [],
   "source": [
    "my_cnts = pd.read_csv(counts_dir/\"SB2B_GACCTGCAGCGTACGB20_mbarq_merged_counts.csv\")\n",
    "db_cnts = pd.read_table(dbauer_dir/\"SB_count_table.poolcount\")"
   ]
  },
  {
   "cell_type": "code",
   "execution_count": null,
   "metadata": {
    "ExecuteTime": {
     "end_time": "2022-08-31T11:48:42.656158Z",
     "start_time": "2022-08-31T11:48:42.488450Z"
    }
   },
   "outputs": [],
   "source": [
    "my_cnts_annotated = my_cnts[~my_cnts.Name.isna()]"
   ]
  },
  {
   "cell_type": "code",
   "execution_count": null,
   "metadata": {
    "ExecuteTime": {
     "end_time": "2022-07-05T09:17:00.473048Z",
     "start_time": "2022-07-05T09:17:00.425458Z"
    }
   },
   "outputs": [],
   "source": [
    "my_cnts_annotated.head()"
   ]
  },
  {
   "cell_type": "code",
   "execution_count": null,
   "metadata": {
    "ExecuteTime": {
     "end_time": "2022-07-05T09:13:55.730562Z",
     "start_time": "2022-07-05T09:13:49.223983Z"
    }
   },
   "outputs": [],
   "source": [
    "my_cnts_annotated.to_csv(dbauer_dir/\"counts/SB2B_GACCTGCAGCGTACGB20_mbarq_merged_counts_annotated.csv\", index=False)"
   ]
  },
  {
   "cell_type": "code",
   "execution_count": null,
   "metadata": {
    "ExecuteTime": {
     "end_time": "2022-07-05T08:53:38.220765Z",
     "start_time": "2022-07-05T08:53:38.134440Z"
    }
   },
   "outputs": [],
   "source": [
    "db_cnts = db_cnts[['rcbarcode'] +[c for c in db_cnts.columns if 'set1' in c]]"
   ]
  },
  {
   "cell_type": "code",
   "execution_count": null,
   "metadata": {
    "ExecuteTime": {
     "end_time": "2022-07-05T08:53:43.796638Z",
     "start_time": "2022-07-05T08:53:43.085552Z"
    }
   },
   "outputs": [],
   "source": [
    "my_cnts.sort_values('H1').tail(5)"
   ]
  },
  {
   "cell_type": "code",
   "execution_count": null,
   "metadata": {
    "ExecuteTime": {
     "end_time": "2022-07-05T08:53:44.682725Z",
     "start_time": "2022-07-05T08:53:44.651097Z"
    }
   },
   "outputs": [],
   "source": [
    "db_cnts.sample(5)"
   ]
  },
  {
   "cell_type": "code",
   "execution_count": null,
   "metadata": {
    "ExecuteTime": {
     "end_time": "2022-07-05T08:53:45.233016Z",
     "start_time": "2022-07-05T08:53:45.226807Z"
    }
   },
   "outputs": [],
   "source": [
    "db_cnts.shape"
   ]
  },
  {
   "cell_type": "code",
   "execution_count": null,
   "metadata": {
    "ExecuteTime": {
     "end_time": "2022-07-05T08:53:47.301563Z",
     "start_time": "2022-07-05T08:53:47.110261Z"
    }
   },
   "outputs": [],
   "source": [
    "my_cnts[~my_cnts.Name.isna()].shape"
   ]
  },
  {
   "cell_type": "code",
   "execution_count": null,
   "metadata": {
    "ExecuteTime": {
     "end_time": "2022-07-05T08:53:48.783649Z",
     "start_time": "2022-07-05T08:53:47.773606Z"
    }
   },
   "outputs": [],
   "source": [
    "cnts = my_cnts.merge(db_cnts, left_on='barcode', right_on='rcbarcode', how='inner')"
   ]
  },
  {
   "cell_type": "code",
   "execution_count": null,
   "metadata": {
    "ExecuteTime": {
     "end_time": "2022-07-05T08:53:48.788927Z",
     "start_time": "2022-07-05T08:53:48.785426Z"
    }
   },
   "outputs": [],
   "source": [
    "cnts.shape"
   ]
  },
  {
   "cell_type": "code",
   "execution_count": null,
   "metadata": {
    "ExecuteTime": {
     "end_time": "2022-07-05T08:53:49.562200Z",
     "start_time": "2022-07-05T08:53:49.506717Z"
    }
   },
   "outputs": [],
   "source": [
    "cnts.head()"
   ]
  },
  {
   "cell_type": "code",
   "execution_count": null,
   "metadata": {
    "ExecuteTime": {
     "end_time": "2022-07-05T09:00:33.681573Z",
     "start_time": "2022-07-05T09:00:33.673224Z"
    }
   },
   "outputs": [],
   "source": [
    "def comp_2(cnts_df, c1, c2):\n",
    "    \n",
    "    df = cnts_df[['barcode', c1, c2]].copy().set_index('barcode')\n",
    "\n",
    "    df = np.log2(df +0.5)\n",
    "    f = px.scatter(df, x=c1, y=c2)\n",
    "    return df, f"
   ]
  },
  {
   "cell_type": "code",
   "execution_count": null,
   "metadata": {
    "ExecuteTime": {
     "end_time": "2022-07-05T09:00:39.062212Z",
     "start_time": "2022-07-05T09:00:35.062378Z"
    }
   },
   "outputs": [],
   "source": [
    "df, f = comp_2(cnts, 'H1', 'SB2B_ML5_set1.H1')\n",
    "f"
   ]
  },
  {
   "cell_type": "code",
   "execution_count": null,
   "metadata": {
    "ExecuteTime": {
     "end_time": "2022-06-30T12:57:14.767113Z",
     "start_time": "2022-06-30T12:57:14.762994Z"
    }
   },
   "outputs": [],
   "source": [
    "2**0.58"
   ]
  },
  {
   "cell_type": "code",
   "execution_count": null,
   "metadata": {
    "ExecuteTime": {
     "end_time": "2022-06-30T12:57:14.929937Z",
     "start_time": "2022-06-30T12:57:14.768107Z"
    }
   },
   "outputs": [],
   "source": [
    "df[df.H1 == -1]"
   ]
  },
  {
   "cell_type": "code",
   "execution_count": null,
   "metadata": {
    "ExecuteTime": {
     "end_time": "2022-06-30T12:57:21.718902Z",
     "start_time": "2022-06-30T12:57:14.931421Z"
    }
   },
   "outputs": [],
   "source": [
    "df, f = comp_2(cnts, 'H46', 'SB2B_ML5_set1.H46')\n",
    "f"
   ]
  },
  {
   "cell_type": "code",
   "execution_count": null,
   "metadata": {
    "ExecuteTime": {
     "end_time": "2022-07-05T08:54:24.361694Z",
     "start_time": "2022-07-05T08:54:23.301653Z"
    }
   },
   "outputs": [],
   "source": [
    "cnts2 = cnts.drop(['rcbarcode', 'Name'], axis=1).set_index('barcode')\n",
    "#cnts2 = cnts2/cnts2.sum(axis=1)\n",
    "tots = cnts2.sum()"
   ]
  },
  {
   "cell_type": "code",
   "execution_count": null,
   "metadata": {
    "ExecuteTime": {
     "end_time": "2022-07-05T08:54:28.739112Z",
     "start_time": "2022-07-05T08:54:27.161560Z"
    }
   },
   "outputs": [],
   "source": [
    "cnts3 = np.log2(cnts2/tots*1000000 +0.5)"
   ]
  },
  {
   "cell_type": "code",
   "execution_count": null,
   "metadata": {
    "ExecuteTime": {
     "end_time": "2022-07-05T08:54:28.989501Z",
     "start_time": "2022-07-05T08:54:28.932908Z"
    }
   },
   "outputs": [],
   "source": [
    "cnts3.head()"
   ]
  },
  {
   "cell_type": "code",
   "execution_count": null,
   "metadata": {
    "ExecuteTime": {
     "end_time": "2022-07-05T08:54:40.815665Z",
     "start_time": "2022-07-05T08:54:30.935351Z"
    }
   },
   "outputs": [],
   "source": [
    "cc = cnts3.corr()\n"
   ]
  },
  {
   "cell_type": "code",
   "execution_count": null,
   "metadata": {
    "ExecuteTime": {
     "end_time": "2022-07-05T08:54:40.846403Z",
     "start_time": "2022-07-05T08:54:40.821677Z"
    }
   },
   "outputs": [],
   "source": [
    "cc = cc.stack().reset_index(name=\"correlation\")\n",
    "cc2 = cc[~(cc.level_0.str.contains('SB2B'))&(cc.level_1.str.contains('SB2B'))].copy()"
   ]
  },
  {
   "cell_type": "code",
   "execution_count": null,
   "metadata": {
    "ExecuteTime": {
     "end_time": "2022-07-05T08:54:40.867613Z",
     "start_time": "2022-07-05T08:54:40.847775Z"
    }
   },
   "outputs": [],
   "source": [
    "\"SB2B_ML5_set1_H\" + cc2['level_1'].str.replace('SB2B_ML5_set1.H', '').str.zfill(2)"
   ]
  },
  {
   "cell_type": "code",
   "execution_count": null,
   "metadata": {
    "ExecuteTime": {
     "end_time": "2022-07-05T08:54:43.476900Z",
     "start_time": "2022-07-05T08:54:43.458616Z"
    }
   },
   "outputs": [],
   "source": [
    "cc2['level_0'] = \"H\" + cc2['level_0'].str.replace('H', '').str.zfill(2)\n",
    "cc2['level_1'] = \"SB2B_ML5_set1_H\" + cc2['level_1'].str.replace('SB2B_ML5_set1.H', '').str.zfill(2)"
   ]
  },
  {
   "cell_type": "code",
   "execution_count": null,
   "metadata": {
    "ExecuteTime": {
     "end_time": "2022-07-05T08:57:50.773594Z",
     "start_time": "2022-07-05T08:57:50.756151Z"
    }
   },
   "outputs": [],
   "source": [
    "cc2[cc2.level_0 == 'H15']"
   ]
  },
  {
   "cell_type": "code",
   "execution_count": null,
   "metadata": {
    "ExecuteTime": {
     "end_time": "2022-07-05T08:54:48.266269Z",
     "start_time": "2022-07-05T08:54:46.889534Z"
    }
   },
   "outputs": [],
   "source": [
    "g = sns.relplot(\n",
    "    data=cc2.sort_values(['level_0', 'level_1']),\n",
    "    x=\"level_0\", y=\"level_1\", hue=\"correlation\", size=\"correlation\",\n",
    "    palette=\"vlag\", hue_norm=(0, 1), edgecolor=\".7\",\n",
    "    height=10, sizes=(10, 100), size_norm=(0, 1),\n",
    ")\n",
    "\n",
    "# Tweak the figure to finalize\n",
    "g.set(xlabel=\"\", ylabel=\"\", aspect=\"equal\")\n",
    "g.despine(left=True, bottom=True)\n",
    "g.ax.margins(.02)\n",
    "for label in g.ax.get_xticklabels():\n",
    "    label.set_rotation(90)\n",
    "for artist in g.legend.legendHandles:\n",
    "    artist.set_edgecolor(\".7\")"
   ]
  },
  {
   "cell_type": "code",
   "execution_count": null,
   "metadata": {
    "ExecuteTime": {
     "end_time": "2022-06-30T12:57:48.833170Z",
     "start_time": "2022-06-30T12:57:48.821882Z"
    }
   },
   "outputs": [],
   "source": [
    "cc.min()"
   ]
  },
  {
   "cell_type": "code",
   "execution_count": null,
   "metadata": {
    "ExecuteTime": {
     "end_time": "2022-06-30T12:57:49.036021Z",
     "start_time": "2022-06-30T12:57:49.015346Z"
    }
   },
   "outputs": [],
   "source": [
    "cc[cc.level_1=='H10']"
   ]
  },
  {
   "cell_type": "code",
   "execution_count": null,
   "metadata": {
    "ExecuteTime": {
     "end_time": "2022-07-05T10:13:38.491064Z",
     "start_time": "2022-07-05T10:13:38.476827Z"
    }
   },
   "outputs": [],
   "source": [
    "def get_carbon_results(carbon, carbon2=\"\"):\n",
    "    gene_ann = pd.read_csv(dbauer_dir/\"test_out/TnSeq_SB2B_ML5_l10_RC_old_loci.annotated.csv\")[['Name', 'old_locus_tag']]\n",
    "    my_res = pd.read_csv(dbauer_dir/f\"test_out/Set1NoReps_rra_results.csv\", index_col=0)\n",
    "    my_res = my_res.merge(gene_ann, on='Name', how='left')\n",
    "    my_res = my_res[my_res.contrast == carbon].copy()\n",
    "    db_res = pd.read_table(dbauer_dir/\"sb2b_ml5.gene_fitness.tab\")\n",
    "    tstat = pd.read_table(dbauer_dir/\"sb2b_t_stat.tab\")    \n",
    "    if carbon2:\n",
    "        db_res = db_res[['sysName'] +[c for c in db_res.columns if carbon2 in c]]\n",
    "        tstat = tstat[['sysName']+[c for c in db_res.columns if carbon2 in c]]\n",
    "        tstat.columns = ['sysName'] + [f\"{c}_t\" for c in db_res.columns if carbon2 in c]\n",
    "    else:\n",
    "        db_res = db_res[['sysName'] +[c for c in db_res.columns if carbon.replace('_', \" \") in c]]\n",
    "        tstat = tstat[['sysName']+[c for c in db_res.columns if carbon.replace('_', \" \") in c]]\n",
    "        tstat.columns = ['sysName'] + [f\"{c}_t\" for c in db_res.columns if carbon.replace('_', \" \") in c]\n",
    "    my_res = my_res.merge(db_res, left_on='old_locus_tag', right_on='sysName', how='outer').drop_duplicates()\n",
    "    my_res = my_res.merge(tstat, on='sysName', how='outer').drop_duplicates()\n",
    "    return my_res\n",
    "    "
   ]
  },
  {
   "cell_type": "code",
   "execution_count": null,
   "metadata": {
    "ExecuteTime": {
     "end_time": "2022-07-05T11:52:13.718646Z",
     "start_time": "2022-07-05T11:52:08.564791Z"
    }
   },
   "outputs": [],
   "source": [
    "tween = get_carbon_results(\"Tween_20\")"
   ]
  },
  {
   "cell_type": "code",
   "execution_count": null,
   "metadata": {
    "ExecuteTime": {
     "end_time": "2022-07-05T12:04:26.877715Z",
     "start_time": "2022-07-05T12:04:26.845268Z"
    }
   },
   "outputs": [],
   "source": [
    "tween['mbarq_hits'] = ( ((tween.neg_selection_fdr < 0.001))).astype(int)\n",
    "tween['db_hits'] = ((tween[\"set1H14 Tween 20_t\"] < -4)).astype(int)*2\n",
    "tween['hits'] = (tween['mbarq_hits'] + tween['db_hits']).astype(str)\n",
    "tween.hits.replace({'0': 'Not a hit', '1': 'mBARq Hit', '2': 'FEBA Hit', '3': 'Hit'}, inplace=True)\n"
   ]
  },
  {
   "cell_type": "code",
   "execution_count": null,
   "metadata": {
    "ExecuteTime": {
     "end_time": "2022-07-05T11:52:16.408615Z",
     "start_time": "2022-07-05T11:52:16.381002Z"
    }
   },
   "outputs": [],
   "source": [
    "tween.dropna().hits.value_counts()"
   ]
  },
  {
   "cell_type": "code",
   "execution_count": null,
   "metadata": {
    "ExecuteTime": {
     "end_time": "2022-07-05T10:33:12.253540Z",
     "start_time": "2022-07-05T10:33:12.249568Z"
    }
   },
   "outputs": [],
   "source": [
    "288/(288+55)"
   ]
  },
  {
   "cell_type": "code",
   "execution_count": null,
   "metadata": {
    "ExecuteTime": {
     "end_time": "2022-07-05T10:26:59.028785Z",
     "start_time": "2022-07-05T10:26:59.013884Z"
    }
   },
   "outputs": [],
   "source": [
    "tween[['LFC', 'set1H14 Tween 20']].corr()"
   ]
  },
  {
   "cell_type": "code",
   "execution_count": null,
   "metadata": {
    "ExecuteTime": {
     "end_time": "2022-07-05T12:03:21.853398Z",
     "start_time": "2022-07-05T12:03:21.848541Z"
    }
   },
   "outputs": [],
   "source": [
    "clrs = px.colors.qualitative.Alphabet"
   ]
  },
  {
   "cell_type": "code",
   "execution_count": null,
   "metadata": {
    "ExecuteTime": {
     "end_time": "2022-07-05T12:09:50.994484Z",
     "start_time": "2022-07-05T12:09:50.266480Z"
    }
   },
   "outputs": [],
   "source": [
    "fig = px.scatter(tween, x='LFC', y='set1H33 Tween 20', color='hits',\n",
    "           color_discrete_map = {'Not a hit': clrs[8], 'Hit': clrs[23], \n",
    "                                 'mBARq Hit': clrs[14], 'FEBA Hit':clrs[13]},\n",
    "           hover_data=['Name', 'neg_selection_fdr'], \n",
    "           labels = {'LFC': 'mBARq LFC', 'set1H33 Tween 20': 'FEBA LFC'} ,     \n",
    "                 category_orders = {'hits':['Not a hit', 'FEBA Hit', 'mBARq Hit', 'Hit']},\n",
    "                 height=900, width=900, template='plotly_white')\n",
    "            \n",
    "fig.update_traces(marker=dict(size=10,\n",
    "                    line=dict(width=1,\n",
    "                                                color='DarkSlateGrey'), opacity=0.6),\n",
    "                          selector=dict(mode='markers'))\n",
    "\n",
    "fig.update_layout(font={'size':20})"
   ]
  },
  {
   "cell_type": "code",
   "execution_count": null,
   "metadata": {
    "ExecuteTime": {
     "end_time": "2022-07-01T08:36:03.549934Z",
     "start_time": "2022-07-01T08:36:03.474060Z"
    }
   },
   "outputs": [],
   "source": [
    "fig = px.scatter(test, x=\"neg|lfc\", y=\"set1H20 CAS aminos\", trendline='ols', hover_data=['id'] )\n",
    "fig.update_layout(shapes = [{'type': 'line', 'yref': 'paper', 'xref': 'paper', 'y0': 0, 'y1': 1, 'x0': 0, 'x1': 1}])"
   ]
  },
  {
   "cell_type": "code",
   "execution_count": null,
   "metadata": {
    "ExecuteTime": {
     "end_time": "2022-07-05T11:16:44.622989Z",
     "start_time": "2022-07-05T11:16:44.521084Z"
    }
   },
   "outputs": [],
   "source": [
    "db_res = pd.read_table(dbauer_dir/\"sb2b_ml5.gene_fitness.tab\")\n",
    "db_res = db_res[['sysName'] + [c for c in db_res.columns if 'set1' in c]]\n",
    "db_res.head()\n",
    "#db_res.melt(id_vars=['sysName'], var_name='contrast', value_name='LFC')"
   ]
  },
  {
   "cell_type": "code",
   "execution_count": null,
   "metadata": {
    "ExecuteTime": {
     "end_time": "2022-07-05T11:25:24.801170Z",
     "start_time": "2022-07-05T11:25:17.145420Z"
    }
   },
   "outputs": [],
   "source": [
    "gene_ann = pd.read_csv(dbauer_dir/\"test_out/TnSeq_SB2B_ML5_l10_RC_old_loci.annotated.csv\")[['Name', 'old_locus_tag']]\n",
    "my_res = pd.read_csv(dbauer_dir/f\"test_out/Set1NoReps_rra_results.csv\", index_col=0)\n",
    "my_res = my_res.merge(gene_ann, on='Name', how='left')\n",
    "my_res = my_res[~my_res.old_locus_tag.isna()]\n",
    "my_res = my_res[['old_locus_tag', 'contrast', 'LFC']]\n",
    "my_res = my_res.drop_duplicates().pivot(index='old_locus_tag', columns='contrast').reset_index()"
   ]
  },
  {
   "cell_type": "code",
   "execution_count": null,
   "metadata": {
    "ExecuteTime": {
     "end_time": "2022-07-05T11:26:07.547159Z",
     "start_time": "2022-07-05T11:26:07.541436Z"
    }
   },
   "outputs": [],
   "source": [
    "my_res.columns = [c[1] if c[1] else c[0] for c in my_res.columns ]\n"
   ]
  },
  {
   "cell_type": "code",
   "execution_count": null,
   "metadata": {
    "ExecuteTime": {
     "end_time": "2022-07-05T11:27:23.667128Z",
     "start_time": "2022-07-05T11:27:23.650132Z"
    }
   },
   "outputs": [],
   "source": [
    "fdf = my_res.merge(db_res, left_on='old_locus_tag', right_on = 'sysName', how='inner')"
   ]
  },
  {
   "cell_type": "code",
   "execution_count": null,
   "metadata": {
    "ExecuteTime": {
     "end_time": "2022-07-05T11:28:39.412191Z",
     "start_time": "2022-07-05T11:28:39.362648Z"
    }
   },
   "outputs": [],
   "source": [
    "fdf_corr = fdf.corr().stack().reset_index(name=\"correlation\")"
   ]
  },
  {
   "cell_type": "code",
   "execution_count": null,
   "metadata": {
    "ExecuteTime": {
     "end_time": "2022-07-05T11:29:34.162027Z",
     "start_time": "2022-07-05T11:29:34.145424Z"
    }
   },
   "outputs": [],
   "source": []
  },
  {
   "cell_type": "code",
   "execution_count": null,
   "metadata": {
    "ExecuteTime": {
     "end_time": "2022-07-05T11:32:08.159298Z",
     "start_time": "2022-07-05T11:32:08.151713Z"
    }
   },
   "outputs": [],
   "source": [
    "test.level_0.unique()"
   ]
  },
  {
   "cell_type": "code",
   "execution_count": null,
   "metadata": {
    "ExecuteTime": {
     "end_time": "2022-07-05T11:33:58.028017Z",
     "start_time": "2022-07-05T11:33:58.021181Z"
    }
   },
   "outputs": [],
   "source": [
    "test.level_1.unique()"
   ]
  },
  {
   "cell_type": "code",
   "execution_count": null,
   "metadata": {
    "ExecuteTime": {
     "end_time": "2022-07-05T11:49:05.673104Z",
     "start_time": "2022-07-05T11:49:05.661576Z"
    }
   },
   "outputs": [],
   "source": [
    "level_0_columns = ['set1H14 Tween 20', 'set1H20 CAS aminos', 'set1H21 Putrescine', 'set1H22 NAG', \n",
    "                   'set1H4 D-Maltose', 'set1H28 D-Mannose', 'set1H32 D,L-Lactate', 'set1H30 L-Serine' ]\n",
    "\n",
    "level_0_rename = {'set1H14 Tween 20': 'FEBA: Tween 20',\n",
    "                  'set1H20 CAS aminos': 'FEBA: CAS amino acids',\n",
    "                  'set1H21 Putrescine': 'FEBA: Putrescine',\n",
    "                  'set1H22 NAG': 'FEBA: NAG', \n",
    "                   'set1H4 D-Maltose': 'FEBA: D-Maltose', \n",
    "                  'set1H28 D-Mannose': 'FEBA: D-Mannose',\n",
    "                  'set1H32 D,L-Lactate': 'FEBA: D,L-Lactate',\n",
    "                  'set1H30 L-Serine': 'FEBA: L-Serine'}\n",
    "\n",
    "\n",
    "level_1_columns = ['Tween_20', 'CAS_amino_acids','Putrescine_Dihydrochloride', \n",
    "                   'N-Acetyl-D-Glucosamine', 'D-Maltose_monohydrate', 'D-Mannose', 'Sodium_D,L-Lactate',\n",
    "                  'L-Serine']\n",
    "\n",
    "level_1_rename = {'Tween_20': 'mBARq: Tween 20',\n",
    "                 'CAS_amino_acids': 'mBARq: CAS amino acids',\n",
    "                 'Putrescine_Dihydrochloride': 'mBARq: Putrescine',\n",
    "                 'N-Acetyl-D-Glucosamine': 'mBARq: NAG',\n",
    "                 'D-Maltose_monohydrate': 'mBARq: D-Maltose',\n",
    "                 'D-Mannose': 'mBARq: D-Mannose',\n",
    "                 'Sodium_D,L-Lactate': 'mBARq: D,L-Lactate',\n",
    "                  'L-Serine': 'mBARq: L-Serine'}\n",
    "\n",
    "test = fdf_corr[(fdf_corr.level_0.isin(level_0_columns)) & (fdf_corr.level_1.isin(level_1_columns))].copy()"
   ]
  },
  {
   "cell_type": "code",
   "execution_count": null,
   "metadata": {
    "ExecuteTime": {
     "end_time": "2022-07-05T11:49:07.705505Z",
     "start_time": "2022-07-05T11:49:07.696370Z"
    }
   },
   "outputs": [],
   "source": [
    "test['level_0'].replace(level_0_rename, inplace=True)\n",
    "test['level_1'].replace(level_1_rename, inplace=True)"
   ]
  },
  {
   "cell_type": "code",
   "execution_count": null,
   "metadata": {
    "ExecuteTime": {
     "end_time": "2022-07-05T11:49:11.248849Z",
     "start_time": "2022-07-05T11:49:11.230616Z"
    }
   },
   "outputs": [],
   "source": [
    "test"
   ]
  },
  {
   "cell_type": "code",
   "execution_count": null,
   "metadata": {
    "ExecuteTime": {
     "end_time": "2022-07-05T11:49:39.974063Z",
     "start_time": "2022-07-05T11:49:39.635607Z"
    }
   },
   "outputs": [],
   "source": [
    "g = sns.relplot(\n",
    "    data=test.sort_values(['level_0', 'level_1']),\n",
    "    x=\"level_0\", y=\"level_1\", hue=\"correlation\", size=\"correlation\",\n",
    "    palette=\"vlag\", hue_norm=(0, 1), edgecolor=\".5\",\n",
    "    height=8, sizes=(50, 500), size_norm=(0, 1),\n",
    ")\n",
    "\n",
    "# Tweak the figure to finalize\n",
    "g.set(xlabel=\"\", ylabel=\"\", aspect=\"equal\")\n",
    "g.despine(left=True, bottom=True)\n",
    "g.ax.margins(.1)\n",
    "for label in g.ax.get_xticklabels():\n",
    "    label.set_rotation(90)\n",
    "for artist in g.legend.legendHandles:\n",
    "    artist.set_edgecolor(\".7\")"
   ]
  },
  {
   "cell_type": "code",
   "execution_count": null,
   "metadata": {
    "ExecuteTime": {
     "end_time": "2022-07-01T08:42:38.125965Z",
     "start_time": "2022-07-01T08:42:38.043670Z"
    }
   },
   "outputs": [],
   "source": [
    "tstat = pd.read_table(dbauer_dir/\"sb2b_t_stat.tab\")[['sysName', 'set1H20 CAS aminos']]\n",
    "tstat.columns = ['sysName', \"set1H20_CAS_aminos_t\"]\n",
    "my_res = my_res.merge(tstat, on='sysName', how='outer')"
   ]
  },
  {
   "cell_type": "code",
   "execution_count": null,
   "metadata": {
    "ExecuteTime": {
     "end_time": "2022-07-01T08:42:39.952639Z",
     "start_time": "2022-07-01T08:42:39.939152Z"
    }
   },
   "outputs": [],
   "source": [
    "my_res.head()"
   ]
  },
  {
   "cell_type": "code",
   "execution_count": null,
   "metadata": {
    "ExecuteTime": {
     "start_time": "2022-07-01T08:48:06.626Z"
    }
   },
   "outputs": [],
   "source": [
    "sig_res = my_res[(my_res['neg|fdr'] < 0.0001) |(my_res['pos|fdr'] < 0.0001) | (abs(my_res['set1H20_CAS_aminos_t']) > 4)]"
   ]
  },
  {
   "cell_type": "code",
   "execution_count": null,
   "metadata": {
    "ExecuteTime": {
     "end_time": "2022-07-01T08:48:59.969267Z",
     "start_time": "2022-07-01T08:48:59.963985Z"
    }
   },
   "outputs": [],
   "source": [
    "sig_res.shape"
   ]
  },
  {
   "cell_type": "code",
   "execution_count": null,
   "metadata": {
    "ExecuteTime": {
     "end_time": "2022-07-01T08:46:43.751268Z",
     "start_time": "2022-07-01T08:46:43.744987Z"
    }
   },
   "outputs": [],
   "source": [
    "sig_res.shape"
   ]
  },
  {
   "cell_type": "code",
   "execution_count": null,
   "metadata": {
    "ExecuteTime": {
     "end_time": "2022-07-01T08:50:06.512504Z",
     "start_time": "2022-07-01T08:50:06.502786Z"
    }
   },
   "outputs": [],
   "source": [
    "sig_res[(sig_res['neg|fdr'] < 0.05) & abs(sig_res['set1H20_CAS_aminos_t']) > 4].shape"
   ]
  },
  {
   "cell_type": "code",
   "execution_count": null,
   "metadata": {
    "ExecuteTime": {
     "end_time": "2022-07-01T08:46:46.408236Z",
     "start_time": "2022-07-01T08:46:46.400421Z"
    }
   },
   "outputs": [],
   "source": [
    "sig_res[sig_res['neg|fdr'] < 0.05].shape"
   ]
  },
  {
   "cell_type": "code",
   "execution_count": null,
   "metadata": {
    "ExecuteTime": {
     "end_time": "2022-07-01T08:46:47.679667Z",
     "start_time": "2022-07-01T08:46:47.671432Z"
    }
   },
   "outputs": [],
   "source": [
    "sig_res[abs(sig_res['set1H20_CAS_aminos_t']) > 4].shape"
   ]
  },
  {
   "cell_type": "code",
   "execution_count": null,
   "metadata": {
    "ExecuteTime": {
     "end_time": "2022-07-01T08:47:19.084637Z",
     "start_time": "2022-07-01T08:47:19.024663Z"
    }
   },
   "outputs": [],
   "source": [
    "px.scatter(sig_res,  x=\"neg|lfc\", y=\"set1H20 CAS aminos\", trendline='ols', hover_data=['sysName', 'neg|fdr'])"
   ]
  },
  {
   "cell_type": "code",
   "execution_count": null,
   "metadata": {},
   "outputs": [],
   "source": []
  }
 ],
 "metadata": {
  "kernelspec": {
   "display_name": "Python 3 (ipykernel)",
   "language": "python",
   "name": "python3"
  },
  "language_info": {
   "codemirror_mode": {
    "name": "ipython",
    "version": 3
   },
   "file_extension": ".py",
   "mimetype": "text/x-python",
   "name": "python",
   "nbconvert_exporter": "python",
   "pygments_lexer": "ipython3",
   "version": "3.8.12"
  },
  "toc": {
   "base_numbering": 1,
   "nav_menu": {},
   "number_sections": true,
   "sideBar": true,
   "skip_h1_title": false,
   "title_cell": "Table of Contents",
   "title_sidebar": "Contents",
   "toc_cell": false,
   "toc_position": {},
   "toc_section_display": true,
   "toc_window_display": false
  }
 },
 "nbformat": 4,
 "nbformat_minor": 4
}
