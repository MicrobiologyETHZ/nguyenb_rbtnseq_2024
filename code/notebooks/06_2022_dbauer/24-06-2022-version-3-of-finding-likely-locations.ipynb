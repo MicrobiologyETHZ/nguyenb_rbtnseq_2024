{
 "cells": [
  {
   "cell_type": "code",
   "execution_count": null,
   "metadata": {
    "ExecuteTime": {
     "end_time": "2022-06-24T09:30:50.468118Z",
     "start_time": "2022-06-24T09:30:48.759218Z"
    }
   },
   "outputs": [],
   "source": [
    "# %load ../snippets/basic_settings.py\n",
    "import pandas as pd\n",
    "import numpy as np\n",
    "import matplotlib.pyplot as plt\n",
    "import os\n",
    "from pathlib import Path\n",
    "import seaborn as sns\n",
    "import sys\n",
    "import plotly.express as px\n",
    "import yaml\n",
    "\n",
    "sns.set_context(\"notebook\", font_scale=1.1)\n",
    "pd.set_option(\"display.max_columns\", 100)\n",
    "pd.set_option(\"display.max_rows\", 100)\n",
    "plt.rcParams[\"figure.figsize\"] = (16, 12)\n",
    "plt.rcParams['savefig.dpi'] = 200\n",
    "plt.rcParams['figure.autolayout'] = False\n",
    "plt.rcParams['axes.labelsize'] = 18\n",
    "plt.rcParams['axes.titlesize'] = 20\n",
    "plt.rcParams['font.size'] = 16\n",
    "plt.rcParams['lines.linewidth'] = 2.0\n",
    "plt.rcParams['lines.markersize'] = 8\n",
    "plt.rcParams['legend.fontsize'] = 14\n",
    "plt.rcParams['text.usetex'] = False  # True activates latex output in fonts!\n",
    "plt.rcParams['font.family'] = \"serif\"\n",
    "plt.rcParams['font.serif'] = \"cm\"\n",
    "pd.set_option('display.float_format', lambda x: '{:,.2f}'.format(x))"
   ]
  },
  {
   "cell_type": "code",
   "execution_count": null,
   "metadata": {
    "ExecuteTime": {
     "end_time": "2022-06-24T09:30:55.047728Z",
     "start_time": "2022-06-24T09:30:55.042005Z"
    }
   },
   "outputs": [],
   "source": [
    "root = Path(\"/nfs/nas22/fs2202/biol_micro_bioinf_nccr/hardt/nguyenb/tnseq/scratch/deutschbauer/fastq/test_out\")"
   ]
  },
  {
   "cell_type": "code",
   "execution_count": null,
   "metadata": {
    "ExecuteTime": {
     "end_time": "2022-06-24T09:31:15.474652Z",
     "start_time": "2022-06-24T09:31:15.282589Z"
    }
   },
   "outputs": [],
   "source": [
    "%ls /nfs/nas22/fs2202/biol_micro_bioinf_nccr/hardt/nguyenb/tnseq/scratch/deutschbauer/fastq/test_out"
   ]
  },
  {
   "cell_type": "code",
   "execution_count": null,
   "metadata": {
    "ExecuteTime": {
     "end_time": "2022-06-24T09:31:24.724990Z",
     "start_time": "2022-06-24T09:31:24.719264Z"
    }
   },
   "outputs": [],
   "source": [
    "blast_file = root/\"TnSeq_SB2B_ML5_l10.blastn\""
   ]
  },
  {
   "cell_type": "code",
   "execution_count": null,
   "metadata": {
    "ExecuteTime": {
     "end_time": "2022-06-24T11:57:52.137108Z",
     "start_time": "2022-06-24T11:57:52.119191Z"
    }
   },
   "outputs": [],
   "source": [
    "def _find_most_likely_positions_v2(temp_blastn_file, filter_below, perc_primary_location=0.75) -> None:\n",
    "    \"\"\"\n",
    "     Takes in blast file, and provides most likely locations for each barcode\n",
    "     :param: blast_file\n",
    "     :param: filter_below\n",
    "     :param: logger\n",
    "     :return: pd.DataFrame\n",
    "     \"\"\"\n",
    "    print(\"Running\")\n",
    "\n",
    "    def merge_similar_locations(df):\n",
    "        df = df.sort_values(['sstart']).reset_index()\n",
    "        df['Group']=((df.end.rolling(window=2,min_periods=1).min()\n",
    "                    -df.sstart.rolling(window=2,min_periods=1).max())<0).cumsum()\n",
    "        cnt = df.groupby(['Group']).agg({'cnt': ['sum']}).reset_index()\n",
    "        cnt.columns = ['Group', 'total_count']\n",
    "        loc = df.loc[df.groupby(['barcode', 'Group'])['cnt'].idxmax()]\n",
    "        loc = loc.merge(cnt, on=['Group'])\n",
    "        return loc[['sstart', 'sstrand', 'total_count']]\n",
    "    print('reading the file')\n",
    "    df = pd.read_table(temp_blastn_file, nrows=5000000, header=None)\n",
    "    df.columns = \"qseqid sseqid pident length qstart qend sstart send evalue bitscore qseq sstrand\".split()\n",
    "    # Filter out spurious hits\n",
    "    print(\"Filter out spurious hits\")\n",
    "    df = df[(df.evalue < 0.1) & (df.length > 20)]\n",
    "    # Get a best hit for each qseqID( barcode:host combo): group by qseqid, find max bitscore\n",
    "    print(\"Get a best hit for each qseqID\")\n",
    "    best_hits = df.groupby('qseqid').agg({'bitscore': ['max']}).reset_index()\n",
    "    best_hits.columns = ['qseqid', 'bitscore']\n",
    "    # Get barcode out of qseqid\n",
    "    best_hits['barcode'] = best_hits['qseqid'].str.split('_', expand=True)[[2]]\n",
    "    # Get count out of qseqid\n",
    "    best_hits['cnt'] = best_hits['qseqid'].str.split('_', expand=True)[[4]].astype(int)\n",
    "    query_best_hits = best_hits.merge(df, how='left', on=['qseqid', 'bitscore'])\n",
    "    query_best_hits['end'] = query_best_hits['sstart'] + 5\n",
    "    print(\"merge similar positions\")\n",
    "    # for each barcode, find all positions detected, and count how many reads per position\n",
    "    total_counts = query_best_hits.groupby(['barcode', 'sseqid']).apply(merge_similar_locations).reset_index()\n",
    "    print(\"calculate prop / positions\")\n",
    "    total_counts['prop_read_per_position'] = total_counts['total_count'] / total_counts.groupby('barcode')['total_count'].transform('sum')\n",
    "    likely_positions = total_counts[total_counts['prop_read_per_position'] > perc_primary_location].reset_index()\n",
    "    likely_multimappers = (total_counts[(total_counts['prop_read_per_position'] < perc_primary_location) \n",
    "                                        & (likely_positions.total_count > filter_below)]\n",
    "                          .barcode.nunique())\n",
    "    print(likely_multimappers)\n",
    "    likely_positions = likely_positions[likely_positions.total_count > filter_below]\n",
    "    \n",
    "    return likely_positions[['barcode', 'sseqid', 'sstrand', 'sstart', 'total_count', 'prop_read_per_position']]"
   ]
  },
  {
   "cell_type": "code",
   "execution_count": null,
   "metadata": {
    "ExecuteTime": {
     "end_time": "2022-06-24T11:59:08.789604Z",
     "start_time": "2022-06-24T11:57:55.226204Z"
    }
   },
   "outputs": [],
   "source": [
    "lp2 = _find_most_likely_positions_v2(blast_file, 10, 0.75)"
   ]
  },
  {
   "cell_type": "code",
   "execution_count": null,
   "metadata": {
    "ExecuteTime": {
     "end_time": "2022-06-24T13:11:09.429808Z",
     "start_time": "2022-06-24T13:11:09.411772Z"
    }
   },
   "outputs": [],
   "source": [
    "def _find_most_likely_positions_v3(temp_blastn_file, filter_below, perc_primary_location=0.75) -> None:\n",
    "    \"\"\"\n",
    "     Takes in blast file, and provides most likely locations for each barcode\n",
    "     :param: blast_file\n",
    "     :param: filter_below\n",
    "     :param: logger\n",
    "     :return: pd.DataFrame\n",
    "     \"\"\"\n",
    "    print(\"Running\")\n",
    "    print('reading the file')\n",
    "    \n",
    "    \n",
    "    chunks = pd.read_table(blast_file, header=None, \n",
    "                       names =\"qseqid sseqid pident length qstart qend sstart send evalue bitscore qseq sstrand\".split(),\n",
    "                       usecols = \"qseqid sseqid pident length sstart evalue bitscore sstrand\".split(),\n",
    "                       chunksize=1000000)\n",
    "    df = pd.concat([chunk[(chunk.evalue < 0.1) & (chunk.length > 20)] for chunk in chunks])\n",
    "    \n",
    "    # Get a best hit for each qseqID( barcode:host combo): group by qseqid, find max bitscore\n",
    "    print(\"Get a best hit for each qseqID\")\n",
    "    best_hits = df.groupby('qseqid').agg({'bitscore': ['max']}).reset_index()\n",
    "    best_hits.columns = ['qseqid', 'bitscore']\n",
    "    # Get barcode out of qseqid\n",
    "    best_hits['barcode'] = best_hits['qseqid'].str.split('_', expand=True)[[2]]\n",
    "    # Get count out of qseqid\n",
    "    best_hits['cnt'] = best_hits['qseqid'].str.split('_', expand=True)[[4]].astype(int)\n",
    "    query_best_hits = best_hits.merge(df, how='left', on=['qseqid', 'bitscore'])\n",
    "    query_best_hits['end'] = query_best_hits['sstart'] + 5\n",
    "    print(\"merge similar positions\")\n",
    "    query_best_hits = query_best_hits.sort_values(['barcode', 'sseqid', 'sstart'])\n",
    "    query_best_hits['Group']=((query_best_hits.end.rolling(window=2,min_periods=1).min()\n",
    "                        -query_best_hits.sstart.rolling(window=2,min_periods=1).max())<0).cumsum()\n",
    "    query_best_hits['Group'] = query_best_hits.barcode + \"_\" + query_best_hits.sseqid + \"_\" + query_best_hits.Group.astype(str)\n",
    "    cnt = query_best_hits.groupby(['Group']).agg({'cnt': ['sum']}).reset_index()\n",
    "    cnt.columns = ['Group', 'total_count']\n",
    "    loc = query_best_hits.loc[query_best_hits.groupby(['Group'])['cnt'].idxmax()]\n",
    "    loc = loc.merge(cnt, on=['Group'])\n",
    "    total_counts = loc[['barcode', 'sseqid', 'sstart', 'sstrand', 'total_count']].copy()\n",
    "    print(\"calculate prop / positions\")\n",
    "    total_counts['prop_read_per_position'] = total_counts['total_count'] / total_counts.groupby('barcode')['total_count'].transform('sum')\n",
    "    likely_positions = total_counts[total_counts['prop_read_per_position'] > perc_primary_location]\n",
    "    likely_multimappers = (total_counts[(total_counts['prop_read_per_position'] < perc_primary_location) \n",
    "                                        & (total_counts.total_count > filter_below)]\n",
    "                          .barcode.nunique())\n",
    "    print(likely_multimappers)\n",
    "    likely_positions = likely_positions[likely_positions.total_count > filter_below]\n",
    "    return likely_positions\n",
    "    \n",
    "    "
   ]
  },
  {
   "cell_type": "code",
   "execution_count": null,
   "metadata": {
    "ExecuteTime": {
     "end_time": "2022-06-24T13:19:11.465694Z",
     "start_time": "2022-06-24T13:11:10.660033Z"
    }
   },
   "outputs": [],
   "source": [
    "lp3 = _find_most_likely_positions_v3(blast_file, 10, 0.75)"
   ]
  },
  {
   "cell_type": "code",
   "execution_count": null,
   "metadata": {
    "ExecuteTime": {
     "end_time": "2022-06-24T13:11:06.757955Z",
     "start_time": "2022-06-24T13:11:05.585092Z"
    }
   },
   "outputs": [],
   "source": [
    "lp3.to_csv(root/\"24-06-2022-sb2b-l10-map.csv\")"
   ]
  },
  {
   "cell_type": "code",
   "execution_count": null,
   "metadata": {
    "ExecuteTime": {
     "end_time": "2022-06-24T12:18:32.837079Z",
     "start_time": "2022-06-24T12:18:31.784755Z"
    }
   },
   "outputs": [],
   "source": [
    "lp3.total_count.hist(bins=1000)\n",
    "plt.xlim(0,100)"
   ]
  },
  {
   "cell_type": "code",
   "execution_count": null,
   "metadata": {
    "ExecuteTime": {
     "end_time": "2022-06-24T12:20:32.676622Z",
     "start_time": "2022-06-24T12:20:32.669817Z"
    }
   },
   "outputs": [],
   "source": [
    "\n",
    "def add(previous_result, new_result):\n",
    "    return previous_result.add(new_result, fill_value=0)"
   ]
  },
  {
   "cell_type": "code",
   "execution_count": null,
   "metadata": {
    "ExecuteTime": {
     "end_time": "2022-06-24T12:36:11.766515Z",
     "start_time": "2022-06-24T12:33:06.220118Z"
    }
   },
   "outputs": [],
   "source": [
    "chunks = pd.read_table(blast_file, header=None)\n",
    "chunks.columns = \"qseqid sseqid pident length qstart qend sstart send evalue bitscore qseq sstrand\".split()\n",
    "df = chunks[(chunks.evalue < 0.1) & (chunks.length > 20)]"
   ]
  },
  {
   "cell_type": "code",
   "execution_count": null,
   "metadata": {
    "ExecuteTime": {
     "end_time": "2022-06-24T12:43:39.314183Z",
     "start_time": "2022-06-24T12:43:39.308159Z"
    }
   },
   "outputs": [],
   "source": [
    "def filter_chunks(chunk):\n",
    "    #chunk.columns = \"qseqid sseqid pident length qstart qend sstart send evalue bitscore qseq sstrand\".split()\n",
    "    return chunk[(chunk.evalue < 0.1) & (chunk.length > 20)]"
   ]
  },
  {
   "cell_type": "code",
   "execution_count": null,
   "metadata": {
    "ExecuteTime": {
     "end_time": "2022-06-24T12:49:46.548038Z",
     "start_time": "2022-06-24T12:47:38.147278Z"
    }
   },
   "outputs": [],
   "source": [
    "chunks = pd.read_table(blast_file, header=None, \n",
    "                   names =\"qseqid sseqid pident length qstart qend sstart send evalue bitscore qseq sstrand\".split(),\n",
    "                   usecols = \"qseqid sseqid pident length sstart evalue bitscore sstrand\".split(),\n",
    "                   chunksize=1000000)\n",
    "df = pd.concat([chunk[(chunk.evalue < 0.1) & (chunk.length > 20)] for chunk in chunks])\n"
   ]
  },
  {
   "cell_type": "code",
   "execution_count": null,
   "metadata": {
    "ExecuteTime": {
     "end_time": "2022-06-24T12:53:03.935049Z",
     "start_time": "2022-06-24T12:53:03.926008Z"
    }
   },
   "outputs": [],
   "source": [
    "df.shape"
   ]
  },
  {
   "cell_type": "code",
   "execution_count": null,
   "metadata": {
    "ExecuteTime": {
     "end_time": "2022-06-24T12:37:58.263528Z",
     "start_time": "2022-06-24T12:37:55.294934Z"
    }
   },
   "outputs": [],
   "source": [
    "fdf.sample(20)"
   ]
  },
  {
   "cell_type": "code",
   "execution_count": null,
   "metadata": {
    "ExecuteTime": {
     "end_time": "2022-06-24T12:03:00.605011Z",
     "start_time": "2022-06-24T12:03:00.585892Z"
    }
   },
   "outputs": [],
   "source": [
    "fdf.head()"
   ]
  },
  {
   "cell_type": "code",
   "execution_count": null,
   "metadata": {
    "ExecuteTime": {
     "end_time": "2022-06-24T12:03:26.460713Z",
     "start_time": "2022-06-24T12:03:17.362122Z"
    }
   },
   "outputs": [],
   "source": [
    "px.scatter(fdf, x='sstart_x', y='sstart_y')"
   ]
  },
  {
   "cell_type": "code",
   "execution_count": null,
   "metadata": {},
   "outputs": [],
   "source": []
  }
 ],
 "metadata": {
  "kernelspec": {
   "display_name": "Python 3 (ipykernel)",
   "language": "python",
   "name": "python3"
  },
  "language_info": {
   "codemirror_mode": {
    "name": "ipython",
    "version": 3
   },
   "file_extension": ".py",
   "mimetype": "text/x-python",
   "name": "python",
   "nbconvert_exporter": "python",
   "pygments_lexer": "ipython3",
   "version": "3.8.12"
  },
  "toc": {
   "base_numbering": 1,
   "nav_menu": {},
   "number_sections": true,
   "sideBar": true,
   "skip_h1_title": false,
   "title_cell": "Table of Contents",
   "title_sidebar": "Contents",
   "toc_cell": false,
   "toc_position": {},
   "toc_section_display": true,
   "toc_window_display": false
  }
 },
 "nbformat": 4,
 "nbformat_minor": 4
}
