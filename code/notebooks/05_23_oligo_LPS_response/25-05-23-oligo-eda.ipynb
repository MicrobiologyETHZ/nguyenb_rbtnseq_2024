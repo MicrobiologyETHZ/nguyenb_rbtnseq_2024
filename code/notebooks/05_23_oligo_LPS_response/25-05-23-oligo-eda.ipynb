{
 "cells": [
  {
   "cell_type": "code",
   "execution_count": null,
   "metadata": {
    "ExecuteTime": {
     "end_time": "2023-06-12T09:43:36.673876Z",
     "start_time": "2023-06-12T09:43:15.943552Z"
    }
   },
   "outputs": [],
   "source": [
    "# %load ../snippets/basic_settings.py\n",
    "import pandas as pd\n",
    "import numpy as np\n",
    "import matplotlib.pyplot as plt\n",
    "import os\n",
    "from pathlib import Path\n",
    "import seaborn as sns\n",
    "import sys\n",
    "import plotly.express as px\n",
    "import yaml\n",
    "import pyranges as pr\n",
    "\n",
    "sns.set_context(\"notebook\", font_scale=1.1)\n",
    "pd.set_option(\"display.max_columns\", 100)\n",
    "pd.set_option(\"display.max_rows\", 100)\n",
    "plt.rcParams[\"figure.figsize\"] = (16, 12)\n",
    "plt.rcParams['savefig.dpi'] = 200\n",
    "plt.rcParams['figure.autolayout'] = False\n",
    "plt.rcParams['axes.labelsize'] = 18\n",
    "plt.rcParams['axes.titlesize'] = 20\n",
    "plt.rcParams['font.size'] = 16\n",
    "plt.rcParams['lines.linewidth'] = 2.0\n",
    "plt.rcParams['lines.markersize'] = 8\n",
    "plt.rcParams['legend.fontsize'] = 14\n",
    "plt.rcParams['text.usetex'] = False  # True activates latex output in fonts!\n",
    "plt.rcParams['font.family'] = \"serif\"\n",
    "plt.rcParams['font.serif'] = \"cm\"\n",
    "pd.set_option('display.float_format', lambda x: '{:,.2f}'.format(x))\n",
    "from datetime import date\n",
    "today = date.today().strftime(\"%d-%m-%y\")"
   ]
  },
  {
   "cell_type": "code",
   "execution_count": null,
   "metadata": {
    "ExecuteTime": {
     "end_time": "2023-06-12T09:43:36.685728Z",
     "start_time": "2023-06-12T09:43:36.680328Z"
    }
   },
   "outputs": [],
   "source": [
    "root = Path(\"/nfs/nas22/fs2202/biol_micro_bioinf_nccr/hardt/nguyenb/tnseq/scratch/03_23_transcriptomics/\")"
   ]
  },
  {
   "cell_type": "code",
   "execution_count": null,
   "metadata": {
    "ExecuteTime": {
     "end_time": "2023-06-12T09:43:36.923955Z",
     "start_time": "2023-06-12T09:43:36.689185Z"
    }
   },
   "outputs": [],
   "source": [
    "count_dir = root/\"oligo_metag_bowtie_featurecounts\"\n",
    "sample_data_file = root/'rnaseq_metatdata.csv'\n",
    "sd = pd.read_csv(sample_data_file)"
   ]
  },
  {
   "cell_type": "markdown",
   "metadata": {},
   "source": [
    "# Annotations"
   ]
  },
  {
   "cell_type": "code",
   "execution_count": null,
   "metadata": {
    "ExecuteTime": {
     "end_time": "2023-06-12T09:43:36.940885Z",
     "start_time": "2023-06-12T09:43:36.929366Z"
    }
   },
   "outputs": [],
   "source": [
    "\n",
    "genome_dict = {\"YL32\": (\"OligoMM12\", \"CP015399\", \".2\"),\n",
    "               \"KB18\": (\"OligoMM12\", \"CP015400\", \".2\"),\n",
    "               \"I48\": (\"OligoMM12\", \"CP015401\", \".2\"),\n",
    "               \"YL27\": (\"OligoMM12\", \"CP015402\", \".2\"),\n",
    "               \"YL45\": (\"OligoMM12\", \"CP015403\", \".2\"),\n",
    "               \"I46\": (\"OligoMM12\", \"CP015404\", \".2\"),\n",
    "               \"YL58\": (\"OligoMM12\", \"CP015405\", \".2\"),\n",
    "               \"YL31\": (\"OligoMM12\", \"CP015406\", \".2\"),\n",
    "               \"YL2\": (\"OligoMM12\", \"CP015407\", \".2\"),\n",
    "               \"I49\": (\"OligoMM12\", \"CP015408\", \".2\"),\n",
    "               \"YL44\": (\"OligoMM12\", \"CP015409\", \".2\"),\n",
    "               \"KB1\": (\"OligoMM12\", \"CP015410\", \".2\"),\n",
    "               \"ASF519\": (\"LCM\", \"GCF_000364265\", \".2\"),\n",
    "               \"SL1344\": (\"Salmonella\", \"GCA_000210855\", \".2\"), \n",
    "              }\n",
    "accession_to_name ={}\n",
    "for k, v in genome_dict.items():\n",
    "    accession_to_name[v[1]+v[2]]= k\n",
    "    \n",
    "accession_to_name['FQ312003.1'] = 'SL1344'\n",
    "accession_to_name['FQ312003.1;FQ312003.1'] = 'SL1344'\n",
    "accession_to_name['HE654725.1'] = 'SL1344'\n",
    "accession_to_name['HE654726.1'] = 'SL1344'\n",
    "accession_to_name['HE654724.1'] = 'SL1344'\n",
    "\n",
    "accession_to_name['NZ_AQFV02000001.1'] = \"ASF519\"\n",
    "accession_to_name['NZ_AQFV02000002.1'] = \"ASF519\"\n",
    "accession_to_name['NZ_AQFV02000003.1'] = \"ASF519\"\n",
    "accession_to_name['NZ_AQFV02000004.1'] = \"ASF519\"\n",
    "accession_to_name['NZ_AQFV02000005.1'] = \"ASF519\"\n",
    "accession_to_name['NZ_AQFV02000006.1'] = \"ASF519\"\n",
    "    \n"
   ]
  },
  {
   "cell_type": "code",
   "execution_count": null,
   "metadata": {
    "ExecuteTime": {
     "end_time": "2023-06-12T09:43:37.033399Z",
     "start_time": "2023-06-12T09:43:36.944598Z"
    }
   },
   "outputs": [],
   "source": [
    "\n",
    "def get_full_annotation(genome_short, genome_long):\n",
    "    gff_dir = Path(\"/nfs/nas22/fs2202/biol_micro_sunagawa/Projects/PAN/REFERENCE_GENOMES_PAN/data/raw\")\n",
    "    kegg_dir = Path(\"/nfs/shared/_shared/lilith/annotated_genomes_oligomm12_asf519\")\n",
    "    gff_file = gff_dir/f\"{genome_short}/{genome_long}/{genome_long}.gff3\"\n",
    "    kegg_file_path = kegg_dir/f\"{genome_long}/assembly/{genome_long}/kegg/{genome_long}-annotations.tsv\"\n",
    "    if not gff_file.is_file():\n",
    "        print(gff_file)\n",
    "        return\n",
    "    if not kegg_file_path.is_file():\n",
    "        print(kegg_file_path)\n",
    "        return\n",
    "    gff = pr.read_gff3(gff_file).as_df()\n",
    "    gff = gff[gff.Feature == 'CDS']\n",
    "    gff['protein_id'] = gff['protein_id'].fillna(gff['locus_tag'])\n",
    "    kegg_file = pd.read_table(kegg_file_path)\n",
    "    kegg_file['protein_id'] = kegg_file.QUERY.str.split(\"prot_\", expand=True)[1]\n",
    "    kegg_file['protein_id'] = kegg_file['protein_id'].apply(lambda x: \"_\".join(x.split(\"_\")[:-1]))\n",
    "    full = gff.merge(kegg_file, on='protein_id', how='outer')\n",
    "    full.to_csv(root/f\"{genome_short}.annotation.csv\")\n",
    "    print(genome_short)\n",
    "    print(full.head())"
   ]
  },
  {
   "cell_type": "code",
   "execution_count": null,
   "metadata": {
    "ExecuteTime": {
     "end_time": "2023-06-08T13:57:56.216477Z",
     "start_time": "2023-06-08T13:57:56.213219Z"
    }
   },
   "outputs": [],
   "source": [
    "# genomes = []\n",
    "# for value in genome_dict.values():\n",
    "#     genomes.append((value[1], \"\".join([value[1], value[2]])))\n",
    "# genomes = genomes[:-1]\n",
    "# for genome in genomes:\n",
    "#     get_full_annotation(*genome)"
   ]
  },
  {
   "cell_type": "markdown",
   "metadata": {},
   "source": [
    "## Plan\n",
    "\n",
    "1. How many reads in each file mapped to each genome\n",
    "    Total numbers:\n",
    "    \n",
    "    - median 71% mapped to CDS\n",
    "    - median of 6 % remains unmapped\n",
    "    \n",
    "    Per genome:\n",
    "    \n",
    "    - box plot showing distribution of transcriptomes across samples\n",
    "    \n",
    "    \n",
    "2. Saturation curves for each genome \n",
    "\n",
    "Conclusion: which genomes can we analyze?\n",
    "\n",
    "For each genome that we can analyze:\n",
    "1. PCA: looking for outliers / clustering based on LPS treatment\n",
    "2. Sanity check: do we see activation of stress response?\n",
    "3. Run DESeq\n",
    "    - Can we overlay results on STRING?\n",
    "    - Add functional annotation from eggNOG for visualisation"
   ]
  },
  {
   "cell_type": "markdown",
   "metadata": {},
   "source": [
    "## How many reads in each file map to each genome\n",
    "\n",
    "- Looking at summary files generated by feature counts\n",
    "- All oligo samples start with AU"
   ]
  },
  {
   "cell_type": "code",
   "execution_count": null,
   "metadata": {
    "ExecuteTime": {
     "end_time": "2023-06-12T09:43:45.119196Z",
     "start_time": "2023-06-12T09:43:44.544238Z"
    }
   },
   "outputs": [],
   "source": [
    "summary_files = count_dir.rglob(\"*.txt.summary\")\n",
    "summary_files = [f for f in list(summary_files) if 'AU' in f.stem]"
   ]
  },
  {
   "cell_type": "code",
   "execution_count": null,
   "metadata": {
    "ExecuteTime": {
     "end_time": "2023-06-12T09:45:03.299412Z",
     "start_time": "2023-06-12T09:45:02.775450Z"
    }
   },
   "outputs": [],
   "source": [
    "dfs = []\n",
    "for f in summary_files:\n",
    "    df = pd.read_table(f)\n",
    "    df.columns = ['Status', f.stem.split(\".count\")[0]]\n",
    "    df = df.set_index(\"Status\").T\n",
    "    dfs.append(df)\n",
    "summary_df = pd.concat(dfs).reset_index().rename({'index':'sample_id'}, axis=1).set_index('sample_id')\n",
    "summary_df = summary_df.loc[:, summary_df.sum(axis=0) > 0].copy()\n",
    "summary_df['total'] = summary_df.sum(axis=1)\n",
    "summary_df['perc_assigned'] = summary_df['Assigned']/summary_df['total']*100\n",
    "summary_df['perc_unmapped'] = summary_df['Unassigned_Unmapped']/summary_df['total']*100\n",
    "summary_df['perc_no_features'] = summary_df['Unassigned_NoFeatures']/summary_df['total']*100"
   ]
  },
  {
   "cell_type": "code",
   "execution_count": null,
   "metadata": {
    "ExecuteTime": {
     "end_time": "2023-06-12T09:45:04.626875Z",
     "start_time": "2023-06-12T09:45:04.609038Z"
    }
   },
   "outputs": [],
   "source": [
    "summary_df"
   ]
  },
  {
   "cell_type": "markdown",
   "metadata": {},
   "source": [
    "## Merging featureCounts files"
   ]
  },
  {
   "cell_type": "code",
   "execution_count": null,
   "metadata": {
    "ExecuteTime": {
     "end_time": "2023-06-12T09:46:20.731539Z",
     "start_time": "2023-06-12T09:46:20.682607Z"
    }
   },
   "outputs": [],
   "source": [
    "count_files = count_dir.rglob(\"*count.txt\")\n",
    "count_files = [f for f in list(count_files) if 'AU' in f.stem]"
   ]
  },
  {
   "cell_type": "code",
   "execution_count": null,
   "metadata": {
    "ExecuteTime": {
     "end_time": "2023-06-12T09:46:26.075283Z",
     "start_time": "2023-06-12T09:46:25.900105Z"
    }
   },
   "outputs": [],
   "source": [
    "annot_df = pd.read_table(count_files[0], comment='#').iloc[:, 0:6].rename({'Geneid':'gene_id'}, axis=1)\n",
    "annot_df['genome'] = annot_df.Chr.replace(accession_to_name)"
   ]
  },
  {
   "cell_type": "code",
   "execution_count": null,
   "metadata": {
    "ExecuteTime": {
     "end_time": "2023-06-12T09:47:15.642960Z",
     "start_time": "2023-06-12T09:47:13.256397Z"
    }
   },
   "outputs": [],
   "source": [
    "cdfs = []\n",
    "for f in count_files:\n",
    "    df = pd.read_table(f, comment=\"#\").iloc[:, [0,6]]\n",
    "    df.columns = ['gene_id', f.stem.split(\".count\")[0]]\n",
    "    df = df.set_index('gene_id')\n",
    "    cdfs.append(df.T)\n",
    "count_df = pd.concat(cdfs).T.reset_index().melt(id_vars=['gene_id'], var_name='sample_id', value_name='num_reads')\n",
    "count_df = count_df.merge(annot_df, on='gene_id')\n",
    "total_per_genome = count_df.groupby(['sample_id', 'genome']).num_reads.sum().reset_index()\n",
    "total_per_genome.columns = ['sample_id', 'genome', 'total_per_genome']\n",
    "totals = (total_per_genome.groupby('sample_id').total_per_genome.sum()\n",
    "          .reset_index()\n",
    "          .rename({'total_per_genome': 'total_per_sample'}, axis=1))\n",
    "total_per_genome = total_per_genome.merge(totals, on='sample_id')\n",
    "total_per_genome['perc_genome'] = total_per_genome['total_per_genome']/total_per_genome['total_per_sample']*100\n",
    "total_per_genome['saturation'] = pd.cut(total_per_genome['total_per_genome'], \n",
    "                                        [0, 2e6,3e6,1e8], labels=['low', 'med', 'high'])\n",
    "count_df = count_df.merge(total_per_genome, on=['sample_id', 'genome'])\n",
    "sd = total_per_genome.merge(sd, on='sample_id', how='left')"
   ]
  },
  {
   "cell_type": "code",
   "execution_count": null,
   "metadata": {
    "ExecuteTime": {
     "end_time": "2023-06-08T14:01:20.242370Z",
     "start_time": "2023-06-08T14:01:20.193072Z"
    }
   },
   "outputs": [],
   "source": [
    "sd.to_csv(root/'08-06-23_summary.csv')"
   ]
  },
  {
   "cell_type": "code",
   "execution_count": null,
   "metadata": {
    "ExecuteTime": {
     "end_time": "2023-06-12T09:47:18.924419Z",
     "start_time": "2023-06-12T09:47:18.902056Z"
    }
   },
   "outputs": [],
   "source": [
    "total_per_genome"
   ]
  },
  {
   "cell_type": "code",
   "execution_count": null,
   "metadata": {
    "ExecuteTime": {
     "end_time": "2023-06-12T09:51:06.173863Z",
     "start_time": "2023-06-12T09:51:06.164996Z"
    }
   },
   "outputs": [],
   "source": [
    "sample_order = sd[sd.genome == 'I48'].sort_values('perc_genome', ascending=False).sample_id.values"
   ]
  },
  {
   "cell_type": "code",
   "execution_count": null,
   "metadata": {
    "ExecuteTime": {
     "end_time": "2023-06-12T09:52:39.565797Z",
     "start_time": "2023-06-12T09:52:39.467233Z"
    }
   },
   "outputs": [],
   "source": [
    "fig = px.bar(sd, x='sample_id', y='perc_genome', color='genome',\n",
    "             template='plotly_white',\n",
    "      category_orders= {'genome': ['I48', 'YL32', 'YL58', 'YL27', 'YL44', 'KB18', 'YL45', 'YL31', 'I46',\n",
    "                       'KB1', 'I49', 'YL2', 'ASF519', 'SL1344'], \n",
    "                       'sample_id': sample_order}, hover_data=['Treatment'])\n",
    "\n",
    "fig.update_xaxes(linewidth=1, linecolor='black',\n",
    "                ticks=\"outside\", tickwidth=1, title='')\n",
    "fig.update_yaxes(linewidth=1, linecolor='black', title='Percent of total transcriptome')\n",
    "\n",
    "fig"
   ]
  },
  {
   "cell_type": "code",
   "execution_count": null,
   "metadata": {
    "ExecuteTime": {
     "end_time": "2023-06-12T09:47:31.526514Z",
     "start_time": "2023-06-12T09:47:21.291573Z"
    }
   },
   "outputs": [],
   "source": [
    "fig = px.box(sd, x='genome', y = 'perc_genome', color='Treatment', \n",
    "       points='all', \n",
    "       template= 'plotly_white', \n",
    "       hover_data=['sample_id', 'total_per_genome'], \n",
    "       category_orders= {'genome': ['I48', 'YL32', 'YL58', 'YL27', 'YL44', 'KB18', 'YL45', 'YL31', 'I46',\n",
    "                       'KB1', 'I49', 'YL2', 'ASF519', 'SL1344']})\n",
    "       \n",
    "fig.update_xaxes(linewidth=1, linecolor='black',\n",
    "                ticks=\"outside\", tickwidth=1, title='')\n",
    "fig.update_yaxes(linewidth=1, linecolor='black', title='Percent of total transcriptome')\n",
    "\n",
    "fig"
   ]
  },
  {
   "cell_type": "code",
   "execution_count": null,
   "metadata": {
    "ExecuteTime": {
     "end_time": "2023-06-12T09:53:28.957233Z",
     "start_time": "2023-06-12T09:53:28.896741Z"
    }
   },
   "outputs": [],
   "source": [
    "fig = px.box(sd, x='genome', y = 'total_per_genome', color='Treatment', \n",
    "       points='all', \n",
    "       template= 'plotly_white', \n",
    "       hover_data=['sample_id', 'total_per_genome'], \n",
    "       category_orders= {'genome': ['I48', 'YL32', 'YL58', 'YL27', 'YL44', 'KB18', 'YL45', 'YL31', 'I46',\n",
    "                       'KB1', 'I49', 'YL2', 'ASF519', 'SL1344']})\n",
    "       \n",
    "fig.update_xaxes(linewidth=1, linecolor='black',\n",
    "                ticks=\"outside\", tickwidth=1, title='')\n",
    "fig.update_yaxes(linewidth=1, linecolor='black', title='Millions of reads')\n",
    "\n",
    "fig"
   ]
  },
  {
   "cell_type": "markdown",
   "metadata": {},
   "source": [
    "## Saturation curves"
   ]
  },
  {
   "cell_type": "code",
   "execution_count": null,
   "metadata": {
    "ExecuteTime": {
     "end_time": "2023-06-12T09:53:35.789783Z",
     "start_time": "2023-06-12T09:53:35.771504Z"
    }
   },
   "outputs": [],
   "source": [
    "from numpy.random import RandomState\n",
    "\n",
    "def rarefy(x, depth=1000, iterations=1, seed=42):\n",
    "    res = None\n",
    "    if iterations > 100000:\n",
    "        print('Max number of iterations allowed is 100000')\n",
    "        return None\n",
    "    if iterations > 1:\n",
    "        seeds = np.random.choice(100000, size=iterations)\n",
    "    else:\n",
    "        seeds = [seed]\n",
    "    for seed in seeds:\n",
    "        prng = RandomState(seed)\n",
    "        noccur = np.sum(x)\n",
    "        nvar = len(x)\n",
    "        p = x/noccur\n",
    "        if depth > noccur:\n",
    "            return np.array([np.nan]*nvar)\n",
    "        choice = prng.choice(nvar, size=int(depth), p=p)\n",
    "        if res is None:\n",
    "            res = np.bincount(choice, minlength=nvar)[np.newaxis,:]\n",
    "            \n",
    "        else:\n",
    "            res = np.concatenate((res, np.bincount(choice, minlength=nvar)[np.newaxis, :]))\n",
    "    return np.nanmean(res, axis=0)\n",
    "\n",
    "def rarefy_dataframe(df, depths, seed=0):\n",
    "    df_list = []\n",
    "    df.columns.name = 'sample_id'\n",
    "    for depth in depths: \n",
    "        rare_df = df.apply(rarefy, depth=depth, seed=seed).assign(depth=depth)\n",
    "        df_list.append(rare_df)\n",
    "        rdf = pd.concat(df_list).reset_index()\n",
    "        to_drop = rdf.columns[0]\n",
    "    return rdf.melt(id_vars=[to_drop, 'depth'], var_name='sample_id', value_name='counts')\n",
    "\n",
    "def saturationCurves(df, depths, cutoffs, seed):\n",
    "    rareDf = rarefy_dataframe(df, depths, seed).dropna()\n",
    "    sat_curve_df = (rareDf.groupby(['sample_id', 'depth'])\n",
    "                    .agg({'counts': [lambda x, c=c: (x > c).sum() for c in cutoffs]})\n",
    "                    .reset_index())\n",
    "    sat_curve_df.columns  = ['sample_id', 'depth'] + [f'>{c} reads' for c in cutoffs]\n",
    "    return rareDf, sat_curve_df"
   ]
  },
  {
   "cell_type": "code",
   "execution_count": null,
   "metadata": {
    "ExecuteTime": {
     "end_time": "2023-06-12T09:53:36.170298Z",
     "start_time": "2023-06-12T09:53:36.159274Z"
    }
   },
   "outputs": [],
   "source": [
    "def saturation_curve_strain(df, strain):\n",
    "    strain_df = df[df.genome == strain]\n",
    "    strain_df = strain_df[['gene_id', 'sample_id', 'num_reads']].pivot(index='gene_id', columns='sample_id')\n",
    "    strain_df.columns = [f[1] for f in strain_df.columns]\n",
    "    rare_df, sat_curve_df = saturationCurves(strain_df, [1e5,3e5, 5e5,7e5, 1e6,1.5e6, 2e6,\n",
    "                                                    3e6, 4e6, 5e6, 6e6, 7e6, 8e6], [5], 9)\n",
    "    fig = px.line(sat_curve_df, x='depth', y='>5 reads', color='sample_id',\n",
    "       template='plotly_white', title=strain)\n",
    "    fig.add_vline(x=3000000, line_width=1, line_dash=\"dash\")\n",
    "    return fig"
   ]
  },
  {
   "cell_type": "code",
   "execution_count": null,
   "metadata": {
    "ExecuteTime": {
     "end_time": "2023-06-12T09:54:00.437129Z",
     "start_time": "2023-06-12T09:53:37.154160Z"
    }
   },
   "outputs": [],
   "source": [
    "saturation_curve_strain(count_df, 'YL32')"
   ]
  },
  {
   "cell_type": "code",
   "execution_count": null,
   "metadata": {
    "ExecuteTime": {
     "end_time": "2023-06-12T09:54:44.275796Z",
     "start_time": "2023-06-12T09:54:13.284963Z"
    }
   },
   "outputs": [],
   "source": [
    "saturation_curve_strain(count_df, 'I48')"
   ]
  },
  {
   "cell_type": "code",
   "execution_count": null,
   "metadata": {
    "ExecuteTime": {
     "end_time": "2023-06-12T09:54:50.874831Z",
     "start_time": "2023-06-12T09:54:44.280355Z"
    }
   },
   "outputs": [],
   "source": [
    "saturation_curve_strain(count_df, 'YL58')"
   ]
  },
  {
   "cell_type": "code",
   "execution_count": null,
   "metadata": {
    "ExecuteTime": {
     "end_time": "2023-06-12T09:54:54.735263Z",
     "start_time": "2023-06-12T09:54:50.877448Z"
    }
   },
   "outputs": [],
   "source": [
    "saturation_curve_strain(count_df, 'YL27')"
   ]
  },
  {
   "cell_type": "code",
   "execution_count": null,
   "metadata": {
    "ExecuteTime": {
     "end_time": "2023-06-12T09:56:37.020751Z",
     "start_time": "2023-06-12T09:56:37.014838Z"
    }
   },
   "outputs": [],
   "source": [
    "from sklearn.decomposition import PCA"
   ]
  },
  {
   "cell_type": "code",
   "execution_count": null,
   "metadata": {
    "ExecuteTime": {
     "end_time": "2023-06-12T10:08:42.283371Z",
     "start_time": "2023-06-12T10:08:42.265911Z"
    }
   },
   "outputs": [],
   "source": [
    "def find_pcs(df, num_pcs=2, num_genes=500, choose_by='variance'):\n",
    "    \"\"\"\n",
    "    :param numPCs:\n",
    "    :param numGenes:\n",
    "    :return:\n",
    "    \"\"\"\n",
    "    if num_genes:\n",
    "        # calculate var for each, pick numGenes top var across samples -> df\n",
    "        if choose_by == 'variance':\n",
    "            genes = df.var(axis=1).sort_values(ascending=False).head(num_genes).index\n",
    "            fdf = df.loc[genes].T\n",
    "        else:\n",
    "            pass\n",
    "            # todo implement log2fc selection\n",
    "    else:\n",
    "        fdf = df.T\n",
    "    pca = PCA(n_components=num_pcs)\n",
    "    principal_components = pca.fit_transform(fdf)\n",
    "    pcs = [f'PC{i}' for i in range(1, num_pcs + 1)]\n",
    "    pc_df = (pd.DataFrame(data=principal_components, columns=pcs).set_index(fdf.index))\n",
    "    pc_var = {pcs[i]: round(pca.explained_variance_ratio_[i] * 100, 2) for i in range(0, num_pcs)}\n",
    "    #pc_df = pc_df.merge(_self.sd, left_index=True, right_index=True)\n",
    "    return pc_df, pc_var\n",
    "\n",
    "def get_strain_pca(df, strain, sd, color_by='Treatment', symbol_by='saturation'):\n",
    "    strain_df = df[df.genome == strain]\n",
    "    strain_df = strain_df[['gene_id', 'sample_id', 'num_reads']].pivot(index='gene_id', columns='sample_id')\n",
    "    strain_df.columns = [f[1] for f in strain_df.columns]\n",
    "    strain_df = np.log2(strain_df/strain_df.sum()*1000000 + 0.5)\n",
    "    pc_df, pc_var = find_pcs(strain_df, 2, 1000)\n",
    "    pc_df = pc_df.reset_index().rename({'index':'sample_id'}, axis=1)\n",
    "    pc_df = pc_df.merge(sd[sd.genome == strain], on='sample_id', how='left')\n",
    "    fig = px.scatter(pc_df, x='PC1', y='PC2', color=color_by, symbol=symbol_by,\n",
    "                    template='plotly_white', width=800, height=800, \n",
    "                     hover_data=[c for c in pc_df.columns if 'PC' not in c], title=strain)\n",
    "    fig.update_traces(marker=dict(size=12,\n",
    "                              line=dict(width=2,\n",
    "                                        color='DarkSlateGrey')),\n",
    "                  selector=dict(mode='markers'), )\n",
    "    return fig, pc_df"
   ]
  },
  {
   "cell_type": "code",
   "execution_count": null,
   "metadata": {
    "ExecuteTime": {
     "end_time": "2023-06-12T09:59:43.851972Z",
     "start_time": "2023-06-12T09:59:43.836230Z"
    }
   },
   "outputs": [],
   "source": [
    "i48_d = sd[sd.genome == 'I48'].copy()\n",
    "i48_d['i48_dominant'] = i48_d.perc_genome > 49\n",
    "sd = sd.merge(i48_d[['sample_id', 'i48_dominant']], on='sample_id')"
   ]
  },
  {
   "cell_type": "code",
   "execution_count": null,
   "metadata": {
    "ExecuteTime": {
     "end_time": "2023-06-12T10:04:40.485357Z",
     "start_time": "2023-06-12T10:04:40.476959Z"
    }
   },
   "outputs": [],
   "source": [
    "sample_info = \"\"\"\n",
    "AU647\n",
    "Oligo\n",
    "PBS\n",
    "1\n",
    "AU648\n",
    "Oligo\n",
    "PBS\n",
    "1\n",
    "AU649\n",
    "Oligo\n",
    "PBS\n",
    "1\n",
    "AU650\n",
    "Oligo\n",
    "LPS\n",
    "2\n",
    "AU651\n",
    "Oligo\n",
    "LPS\n",
    "2\n",
    "AU652\n",
    "Oligo\n",
    "LPS\n",
    "2\n",
    "AU653\n",
    "Oligo\n",
    "LPS\n",
    "2\n",
    "AU654\n",
    "Oligo\n",
    "PBS\n",
    "3\n",
    "AU655\n",
    "Oligo\n",
    "PBS\n",
    "3\n",
    "AU656\n",
    "Oligo\n",
    "PBS\n",
    "3\n",
    "AU657\n",
    "Oligo\n",
    "LPS\n",
    "4\n",
    "AU658\n",
    "Oligo\n",
    "LPS\n",
    "4\n",
    "\"\"\".strip().split(\"\\n\")\n",
    "sample_info = pd.DataFrame(np.array(sample_info).reshape(12, 4), columns=['sample_id', 'Mouse', 'Treatment', 'Cage'])"
   ]
  },
  {
   "cell_type": "code",
   "execution_count": null,
   "metadata": {
    "ExecuteTime": {
     "end_time": "2023-06-12T10:05:13.374353Z",
     "start_time": "2023-06-12T10:05:13.362658Z"
    }
   },
   "outputs": [],
   "source": [
    "sd = sd.merge(sample_info[['sample_id', \"Cage\"]], on='sample_id')"
   ]
  },
  {
   "cell_type": "code",
   "execution_count": null,
   "metadata": {
    "ExecuteTime": {
     "end_time": "2023-06-12T10:05:17.484477Z",
     "start_time": "2023-06-12T10:05:17.461913Z"
    }
   },
   "outputs": [],
   "source": [
    "sd"
   ]
  },
  {
   "cell_type": "code",
   "execution_count": null,
   "metadata": {
    "ExecuteTime": {
     "end_time": "2023-06-12T10:06:33.777013Z",
     "start_time": "2023-06-12T10:06:33.637787Z"
    }
   },
   "outputs": [],
   "source": [
    "fig, pc_df = get_strain_pca(count_df, 'YL32', sd)"
   ]
  },
  {
   "cell_type": "code",
   "execution_count": null,
   "metadata": {
    "ExecuteTime": {
     "end_time": "2023-06-12T10:06:35.093182Z",
     "start_time": "2023-06-12T10:06:35.079785Z"
    }
   },
   "outputs": [],
   "source": [
    "fig"
   ]
  },
  {
   "cell_type": "code",
   "execution_count": null,
   "metadata": {
    "ExecuteTime": {
     "end_time": "2023-06-12T10:09:34.121094Z",
     "start_time": "2023-06-12T10:09:33.993802Z"
    }
   },
   "outputs": [],
   "source": [
    "fig, pc_df = get_strain_pca(count_df, 'I48', sd, symbol_by='i48_dominant')\n",
    "fig"
   ]
  },
  {
   "cell_type": "code",
   "execution_count": null,
   "metadata": {
    "ExecuteTime": {
     "end_time": "2023-06-12T10:10:03.598001Z",
     "start_time": "2023-06-12T10:10:03.452294Z"
    }
   },
   "outputs": [],
   "source": [
    "fig, pc_df = get_strain_pca(count_df, 'YL58', sd)\n",
    "fig"
   ]
  },
  {
   "cell_type": "code",
   "execution_count": null,
   "metadata": {
    "ExecuteTime": {
     "end_time": "2023-06-02T13:47:19.081695Z",
     "start_time": "2023-06-02T13:47:18.897952Z"
    }
   },
   "outputs": [],
   "source": [
    "fig, pc_df = get_strain_pca(count_df, 'YL27', sd)\n",
    "fig"
   ]
  },
  {
   "cell_type": "code",
   "execution_count": null,
   "metadata": {
    "ExecuteTime": {
     "end_time": "2023-06-02T13:47:19.263535Z",
     "start_time": "2023-06-02T13:47:19.084481Z"
    }
   },
   "outputs": [],
   "source": [
    "fig, pc_df = get_strain_pca(count_df, 'YL44', sd)\n",
    "fig"
   ]
  },
  {
   "cell_type": "markdown",
   "metadata": {},
   "source": [
    "## Writing out datasets"
   ]
  },
  {
   "cell_type": "code",
   "execution_count": null,
   "metadata": {
    "ExecuteTime": {
     "end_time": "2023-06-02T13:54:54.899539Z",
     "start_time": "2023-06-02T13:54:54.890145Z"
    }
   },
   "outputs": [],
   "source": [
    "def get_strain_df(df, strain, saturation='low'):\n",
    "    strain_df = df[df.genome == strain]\n",
    "    if saturation not in ['low', 'med', 'high']:\n",
    "        return None\n",
    "    if saturation == 'med':\n",
    "        strain_df = strain_df[strain_df.saturation != 'low']\n",
    "    elif saturation == 'high':\n",
    "        strain_df = strain_df[strain_df.saturation == 'high']\n",
    "    strain_df = strain_df[['gene_id', 'sample_id', 'num_reads']].pivot(index='gene_id', columns='sample_id')\n",
    "    strain_df.columns = [f[1] for f in strain_df.columns]\n",
    "    return strain_df"
   ]
  },
  {
   "cell_type": "code",
   "execution_count": null,
   "metadata": {
    "ExecuteTime": {
     "end_time": "2023-06-02T13:58:14.224206Z",
     "start_time": "2023-06-02T13:58:14.192273Z"
    }
   },
   "outputs": [],
   "source": [
    "count_df.sample(10)"
   ]
  },
  {
   "cell_type": "code",
   "execution_count": null,
   "metadata": {
    "ExecuteTime": {
     "end_time": "2023-06-02T13:47:19.693564Z",
     "start_time": "2023-06-02T13:47:19.270467Z"
    }
   },
   "outputs": [],
   "source": [
    "yl32 = get_strain_df(count_df, 'YL32')\n",
    "yl32.to_csv(count_dir/f\"{today}_YL32_all_samples.csv\")\n",
    "\n",
    "i48 = get_strain_df(count_df, 'I48', saturation='high')\n",
    "i48.to_csv(count_dir/f\"{today}_I48_all_samples.csv\")\n",
    "\n",
    "yl58 = get_strain_df(count_df, 'YL58')\n",
    "yl58.to_csv(count_dir/f\"{today}_YL58_all_samples.csv\")\n",
    "\n",
    "yl27 = get_strain_df(count_df, 'YL27')\n",
    "yl27.to_csv(count_dir/f\"{today}_YL27_all_samples.csv\")"
   ]
  },
  {
   "cell_type": "code",
   "execution_count": null,
   "metadata": {
    "ExecuteTime": {
     "end_time": "2023-06-02T13:57:36.023724Z",
     "start_time": "2023-06-02T13:57:35.541565Z"
    }
   },
   "outputs": [],
   "source": [
    "yl32 = get_strain_df(count_df, 'YL32', 'high')\n",
    "yl32.to_csv(count_dir/f\"{today}_YL32_high_samples.csv\")\n",
    "\n",
    "i48 = get_strain_df(count_df, 'I48', 'high')\n",
    "i48.to_csv(count_dir/f\"{today}_I48_high_samples.csv\")\n",
    "\n",
    "yl58 = get_strain_df(count_df, 'YL58', 'high')\n",
    "yl58.to_csv(count_dir/f\"{today}_YL58_high_samples.csv\")\n",
    "\n",
    "yl27 = get_strain_df(count_df, 'YL27', 'high')\n",
    "yl27.to_csv(count_dir/f\"{today}_YL27_high_samples.csv\")"
   ]
  },
  {
   "cell_type": "code",
   "execution_count": null,
   "metadata": {
    "ExecuteTime": {
     "end_time": "2023-06-02T13:58:20.792307Z",
     "start_time": "2023-06-02T13:58:20.397072Z"
    }
   },
   "outputs": [],
   "source": [
    "yl32 = get_strain_df(count_df, 'YL32', 'med')\n",
    "yl32.to_csv(count_dir/f\"{today}_YL32_med_samples.csv\")\n",
    "\n",
    "i48 = get_strain_df(count_df, 'I48', 'med')\n",
    "i48.to_csv(count_dir/f\"{today}_I48_med_samples.csv\")\n",
    "\n",
    "yl58 = get_strain_df(count_df, 'YL58', 'med')\n",
    "yl58.to_csv(count_dir/f\"{today}_YL58_med_samples.csv\")\n",
    "\n",
    "yl27 = get_strain_df(count_df, 'YL27', 'med')\n",
    "yl27.to_csv(count_dir/f\"{today}_YL27_med_samples.csv\")"
   ]
  },
  {
   "cell_type": "markdown",
   "metadata": {},
   "source": [
    "# First results"
   ]
  },
  {
   "cell_type": "code",
   "execution_count": null,
   "metadata": {
    "ExecuteTime": {
     "end_time": "2023-06-02T14:31:54.773949Z",
     "start_time": "2023-06-02T14:31:54.753639Z"
    }
   },
   "outputs": [],
   "source": [
    "i48_res = pd.read_csv(root/\"oligo_metag_bowtie_featurecounts/results/02-06-23-I48-PBS_vs_LPS_l0.5a0.01_results.csv\")"
   ]
  },
  {
   "cell_type": "code",
   "execution_count": null,
   "metadata": {
    "ExecuteTime": {
     "end_time": "2023-06-02T14:35:31.398175Z",
     "start_time": "2023-06-02T14:35:31.392632Z"
    }
   },
   "outputs": [],
   "source": [
    "ups = i48_res[(i48_res.log2FoldChange > 1) & (i48_res.padj < 0.01)].gene_id.values"
   ]
  },
  {
   "cell_type": "code",
   "execution_count": null,
   "metadata": {
    "ExecuteTime": {
     "end_time": "2023-06-02T14:35:31.812297Z",
     "start_time": "2023-06-02T14:35:31.806958Z"
    }
   },
   "outputs": [],
   "source": [
    "downs = i48_res[(i48_res.log2FoldChange < -1) & (i48_res.padj < 0.01)].gene_id.values"
   ]
  },
  {
   "cell_type": "code",
   "execution_count": null,
   "metadata": {
    "ExecuteTime": {
     "end_time": "2023-06-02T14:35:32.183259Z",
     "start_time": "2023-06-02T14:35:32.179323Z"
    }
   },
   "outputs": [],
   "source": [
    "ups = [u.split('-')[1] for u in ups]\n",
    "downs = [d.split('-')[1] for d in downs]"
   ]
  },
  {
   "cell_type": "code",
   "execution_count": null,
   "metadata": {
    "ExecuteTime": {
     "end_time": "2023-06-02T14:39:58.612209Z",
     "start_time": "2023-06-02T14:39:58.606450Z"
    }
   },
   "outputs": [],
   "source": [
    "print(\"\\n\".join(ups))"
   ]
  },
  {
   "cell_type": "code",
   "execution_count": null,
   "metadata": {
    "ExecuteTime": {
     "end_time": "2023-06-02T14:36:17.636095Z",
     "start_time": "2023-06-02T14:36:17.632843Z"
    }
   },
   "outputs": [],
   "source": [
    "print(\"\\n\".join(downs))"
   ]
  },
  {
   "cell_type": "code",
   "execution_count": null,
   "metadata": {},
   "outputs": [],
   "source": []
  }
 ],
 "metadata": {
  "kernelspec": {
   "display_name": "Python 3 (ipykernel)",
   "language": "python",
   "name": "python3"
  },
  "language_info": {
   "codemirror_mode": {
    "name": "ipython",
    "version": 3
   },
   "file_extension": ".py",
   "mimetype": "text/x-python",
   "name": "python",
   "nbconvert_exporter": "python",
   "pygments_lexer": "ipython3",
   "version": "3.8.12"
  },
  "toc": {
   "base_numbering": 1,
   "nav_menu": {},
   "number_sections": true,
   "sideBar": true,
   "skip_h1_title": false,
   "title_cell": "Table of Contents",
   "title_sidebar": "Contents",
   "toc_cell": false,
   "toc_position": {},
   "toc_section_display": true,
   "toc_window_display": false
  }
 },
 "nbformat": 4,
 "nbformat_minor": 4
}
