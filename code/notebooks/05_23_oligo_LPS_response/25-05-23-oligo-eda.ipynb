{
 "cells": [
  {
   "cell_type": "markdown",
   "metadata": {},
   "source": [
    "# Settings"
   ]
  },
  {
   "cell_type": "code",
   "execution_count": null,
   "metadata": {
    "ExecuteTime": {
     "end_time": "2023-06-12T09:43:36.673876Z",
     "start_time": "2023-06-12T09:43:15.943552Z"
    }
   },
   "outputs": [],
   "source": [
    "# %load ../snippets/basic_settings.py\n",
    "import pandas as pd\n",
    "import numpy as np\n",
    "import matplotlib.pyplot as plt\n",
    "import os\n",
    "from pathlib import Path\n",
    "import seaborn as sns\n",
    "import sys\n",
    "import plotly.express as px\n",
    "import plotly.io as pio\n",
    "import yaml\n",
    "import pyranges as pr\n",
    "import requests\n",
    "from time import sleep\n",
    "import json\n",
    "\n",
    "sns.set_context(\"notebook\", font_scale=1.1)\n",
    "pd.set_option(\"display.max_columns\", 100)\n",
    "pd.set_option(\"display.max_rows\", 100)\n",
    "plt.rcParams[\"figure.figsize\"] = (16, 12)\n",
    "plt.rcParams['savefig.dpi'] = 200\n",
    "plt.rcParams['figure.autolayout'] = False\n",
    "plt.rcParams['axes.labelsize'] = 18\n",
    "plt.rcParams['axes.titlesize'] = 20\n",
    "plt.rcParams['font.size'] = 16\n",
    "plt.rcParams['lines.linewidth'] = 2.0\n",
    "plt.rcParams['lines.markersize'] = 8\n",
    "plt.rcParams['legend.fontsize'] = 14\n",
    "plt.rcParams['text.usetex'] = False  # True activates latex output in fonts!\n",
    "pd.set_option('display.float_format', lambda x: '{:,.2f}'.format(x))\n",
    "from datetime import date\n",
    "today = date.today().strftime(\"%d-%m-%y\")"
   ]
  },
  {
   "cell_type": "code",
   "execution_count": null,
   "metadata": {},
   "outputs": [],
   "source": [
    "sys.path.append(\"..\")\n",
    "from snippets.utils import syncom_colors, find_pcs, find_umap_df, genome_map, ncbi_taxid_map, link_to_string, string_function"
   ]
  },
  {
   "cell_type": "code",
   "execution_count": null,
   "metadata": {
    "ExecuteTime": {
     "end_time": "2023-06-12T09:43:36.685728Z",
     "start_time": "2023-06-12T09:43:36.680328Z"
    }
   },
   "outputs": [],
   "source": [
    "with open(\"config.yaml\", \"r\") as fh:\n",
    "    config_dict = yaml.safe_load(fh)['default']\n",
    "root = Path(config_dict[\"root\"])\n",
    "out_dir = root/config_dict['output_dir']\n",
    "sample_data_file = root/config_dict['sample_data_file']\n",
    "sd = pd.read_csv(sample_data_file)"
   ]
  },
  {
   "cell_type": "markdown",
   "metadata": {},
   "source": [
    "# Plan\n",
    "\n",
    "1. How many reads in each file mapped to each genome\n",
    "    Total numbers:\n",
    "    \n",
    "    - median 71% mapped to CDS\n",
    "    - median of 6 % remains unmapped\n",
    "    \n",
    "2. Transcriptome composition across samples\n",
    "    \n",
    "    \n",
    "2. Saturation curves for each genome \n",
    "\n",
    "Conclusion: which genomes can we analyze?\n",
    "\n",
    "For each genome that we can analyze:\n",
    "1. PCA: looking for outliers / clustering based on LPS treatment\n",
    "2. Sanity check: do we see activation of stress response?\n",
    "3. Run DESeq\n",
    "    - Can we overlay results on STRING?\n",
    "    - Add functional annotation from eggNOG for visualisation"
   ]
  },
  {
   "cell_type": "markdown",
   "metadata": {},
   "source": [
    "# Look at how many reads mapped where\n",
    "\n",
    "- There are differences between what featureCounts outputs vs. what I counted with an awk(?) command. Not sure what they mean."
   ]
  },
  {
   "cell_type": "code",
   "execution_count": null,
   "metadata": {},
   "outputs": [],
   "source": [
    "# Number of reads mapped per chromosome\n",
    "alignment_dir = Path(\"/nfs/nas22/fs2202/biol_micro_bioinf_nccr/hardt/nguyenb/tnseq/scratch/03_23_transcriptomics/bowtie\")\n",
    "align_seq = list(alignment_dir.rglob(\"*/*.seq\"))\n",
    "seq_df = pd.concat([pd.read_table(f, header=None, names=['read_counts', 'chr']).assign(sample_id=f.stem) for f in align_seq])\n",
    "seq_df['genome'] = seq_df['chr'].replace(genome_map)\n",
    "# Featurecounts summary\n",
    "featcnts_dir = Path(\"/nfs/nas22/fs2202/biol_micro_bioinf_nccr/hardt/nguyenb/tnseq/scratch/03_23_transcriptomics/bowtie_featurecounts\")\n",
    "featcnt_files = list(featcnts_dir.rglob(\"*/*.summary\"))"
   ]
  },
  {
   "cell_type": "code",
   "execution_count": null,
   "metadata": {},
   "outputs": [],
   "source": [
    "seq_df = seq_df.merge(sd, on='sample_id')\n",
    "seq_df = seq_df.merge(seq_df.groupby('sample_id').read_counts.sum().reset_index().rename(columns={'read_counts':'totals'}), on='sample_id')"
   ]
  },
  {
   "cell_type": "code",
   "execution_count": null,
   "metadata": {},
   "outputs": [],
   "source": [
    "def summary_df(files):\n",
    "        df_list = []\n",
    "        for f in files:\n",
    "            df = pd.read_table(f)\n",
    "            name = df.columns[1].split(\"/\")[-1].split('.')[0]\n",
    "            df = df.assign(sample_id=name)\n",
    "            df.columns = ['status', 'read_counts', 'sample_id']\n",
    "            df_list.append(df)\n",
    "        fdf = pd.concat(df_list)\n",
    "        summary = fdf.groupby('sample_id').read_counts.sum().reset_index()\n",
    "        summary.columns = ['sample_id', 'total']\n",
    "        summary = (summary.merge(fdf[fdf.status == 'Assigned'][['read_counts', 'sample_id']], on='sample_id')\n",
    "                   .rename({'read_counts': 'assigned'}, axis=1)\n",
    "                   .merge(fdf[fdf.status == 'Unassigned_Unmapped'][['read_counts', 'sample_id']], on='sample_id')\n",
    "                   .rename({'read_counts': 'unmapped'}, axis=1)\n",
    "                   .merge(fdf[fdf.status == 'Unassigned_NoFeatures'][['read_counts', 'sample_id']], on='sample_id')\n",
    "                   .rename({'read_counts': 'no_feature'}, axis=1))\n",
    "        summary['percent_assigned'] = summary['assigned']/summary['total']*100\n",
    "        summary['percent_unmapped'] = summary['unmapped']/summary['total']*100\n",
    "        summary['percent_no_feature'] = summary['no_feature'] / \\\n",
    "            summary['total']*100\n",
    "        return summary"
   ]
  },
  {
   "cell_type": "code",
   "execution_count": null,
   "metadata": {},
   "outputs": [],
   "source": [
    "sum_df = summary_df(featcnt_files)\n",
    "sum_df['mapped'] = (sum_df['total'] - sum_df['unmapped'])/2"
   ]
  },
  {
   "cell_type": "code",
   "execution_count": null,
   "metadata": {},
   "outputs": [],
   "source": [
    "sum_df.merge(seq_df.groupby('sample_id').read_counts.sum().reset_index(), on=['sample_id'], how='outer')"
   ]
  },
  {
   "cell_type": "code",
   "execution_count": null,
   "metadata": {},
   "outputs": [],
   "source": [
    "seq_df['RelAb'] = seq_df['read_counts']/seq_df['totals']"
   ]
  },
  {
   "cell_type": "code",
   "execution_count": null,
   "metadata": {},
   "outputs": [],
   "source": [
    "fig = px.bar(seq_df[seq_df.Mouse == 'Oligo'].sort_values(['Treatment', 'sample_id']),\n",
    "             x='sample_id', y='RelAb', color='genome', color_discrete_map=syncom_colors, \n",
    "            template='plotly_white', width=800, height=800, labels = {'genome_perc': 'Transcriptome abundance', 'sample_id':''})\n",
    "\n",
    "fig.add_shape(type=\"line\",\n",
    "    x0=5.5, y0=0, x1=5.5, y1=1,\n",
    "    line=dict(\n",
    "        color=\"black\",\n",
    "        width=2,\n",
    "        dash=\"dash\",\n",
    "    ))\n",
    "fig.add_annotation(x=3, y=1.03,\n",
    "            text=\"LPS\",\n",
    "            showarrow=False,\n",
    "            )\n",
    "fig.add_annotation(x=8, y=1.03,\n",
    "            text=\"PBS\",\n",
    "            showarrow=False,\n",
    "            )"
   ]
  },
  {
   "cell_type": "markdown",
   "metadata": {},
   "source": [
    "# Look at transcriptome abundances\n",
    "\n",
    "- Note: Sanne has matching 16S data, would be interesting to compare"
   ]
  },
  {
   "cell_type": "code",
   "execution_count": null,
   "metadata": {},
   "outputs": [],
   "source": [
    "raw_counts = pd.read_csv(out_dir/\"annotated-featurecounts-for-deseq.csv\")\n",
    "raw_counts = raw_counts.melt(id_vars=['ID', 'genome'], var_name='sample_id', value_name='fcnts')\n",
    "raw_counts = (raw_counts.merge(raw_counts\n",
    "                               .groupby('sample_id').fcnts.sum()\n",
    "                               .reset_index()\n",
    "                               .rename(columns={'fcnts': 'sample_total'}), on='sample_id', how='left'))\n",
    "raw_counts = (raw_counts.merge(raw_counts\n",
    "                               .groupby(['sample_id', 'genome']).fcnts.sum()\n",
    "                               .reset_index()\n",
    "                               .rename(columns={'fcnts': 'genome_total'}), on=['sample_id', 'genome'], how='left'))"
   ]
  },
  {
   "cell_type": "code",
   "execution_count": null,
   "metadata": {},
   "outputs": [],
   "source": [
    "raw_counts['genome_perc'] = raw_counts['genome_total']/raw_counts['sample_total']\n",
    "genome_counts = raw_counts[['sample_id', 'genome', 'sample_total', 'genome_total', 'genome_perc']].drop_duplicates()\n",
    "genome_counts = genome_counts.merge(sd, on='sample_id')"
   ]
  },
  {
   "cell_type": "markdown",
   "metadata": {},
   "source": [
    "## Oligo mice"
   ]
  },
  {
   "cell_type": "code",
   "execution_count": null,
   "metadata": {},
   "outputs": [],
   "source": [
    "oligo_comp = genome_counts[genome_counts.Mouse == 'Oligo']\n",
    "oligo_comp = oligo_comp[oligo_comp.genome_perc > 0.01].sort_values(['Treatment', 'sample_id'])"
   ]
  },
  {
   "cell_type": "code",
   "execution_count": null,
   "metadata": {},
   "outputs": [],
   "source": [
    "fig = px.bar(oligo_comp, x='sample_id', y='genome_perc', color='genome', color_discrete_map=syncom_colors, \n",
    "       template='plotly_white', width=800, height=800, labels = {'genome_perc': 'Transcriptome abundance', 'sample_id':''})\n",
    "\n",
    "fig.add_shape(type=\"line\",\n",
    "    x0=5.5, y0=0, x1=5.5, y1=1,\n",
    "    line=dict(\n",
    "        color=\"black\",\n",
    "        width=2,\n",
    "        dash=\"dash\",\n",
    "    ))\n",
    "fig.add_annotation(x=3, y=1.03,\n",
    "            text=\"LPS\",\n",
    "            showarrow=False,\n",
    "            )\n",
    "fig.add_annotation(x=8, y=1.03,\n",
    "            text=\"PBS\",\n",
    "            showarrow=False,\n",
    "            )"
   ]
  },
  {
   "cell_type": "markdown",
   "metadata": {},
   "source": [
    "## LCM mice"
   ]
  },
  {
   "cell_type": "code",
   "execution_count": null,
   "metadata": {},
   "outputs": [],
   "source": [
    "lcm_comp = genome_counts[genome_counts.Mouse == 'LCM']\n",
    "lcm_comp = lcm_comp[lcm_comp.genome_perc > 0.01]\n",
    "lcm_comp['Treatment'] = lcm_comp['Treatment'].replace({'PBS_D1': '0D1'})\n",
    "lcm_comp = lcm_comp.sort_values( ['Treatment'])"
   ]
  },
  {
   "cell_type": "code",
   "execution_count": null,
   "metadata": {},
   "outputs": [],
   "source": [
    "lcm_comp[['sample_id', 'Treatment']].drop_duplicates().sort_values(['Treatment', 'sample_id'])"
   ]
  },
  {
   "cell_type": "code",
   "execution_count": null,
   "metadata": {},
   "outputs": [],
   "source": [
    "fig = px.bar(lcm_comp, x='sample_id', y='genome_perc', color='genome', color_discrete_map=syncom_colors, \n",
    "       template='plotly_white', width=800, height=800, labels = \n",
    "       {'genome_perc': 'Transcriptome abundance', 'sample_id':''})\n",
    "fig.add_shape(type=\"line\",\n",
    "    x0=1.5, y0=0, x1=1.5, y1=1,\n",
    "    line=dict(\n",
    "        color=\"black\",\n",
    "        width=2,\n",
    "        dash=\"dash\",\n",
    "    ))\n",
    "fig.add_shape(type=\"line\",\n",
    "    x0=6.5, y0=0, x1=6.5, y1=1,\n",
    "    line=dict(\n",
    "        color=\"black\",\n",
    "        width=2,\n",
    "        dash=\"dash\",\n",
    "    ))\n",
    "fig.add_shape(type=\"line\",\n",
    "    x0=11.5, y0=0, x1=11.5, y1=1,\n",
    "    line=dict(\n",
    "        color=\"black\",\n",
    "        width=2,\n",
    "        dash=\"dash\",\n",
    "    ))\n",
    "\n",
    "fig.add_shape(type=\"line\",\n",
    "    x0=14.5, y0=0, x1=14.5, y1=1,\n",
    "    line=dict(\n",
    "        color=\"black\",\n",
    "        width=2,\n",
    "        dash=\"dash\",\n",
    "    ))"
   ]
  },
  {
   "cell_type": "markdown",
   "metadata": {},
   "source": [
    "# EDA on Oligo mice"
   ]
  },
  {
   "cell_type": "code",
   "execution_count": null,
   "metadata": {
    "ExecuteTime": {
     "end_time": "2023-06-12T09:43:36.923955Z",
     "start_time": "2023-06-12T09:43:36.689185Z"
    }
   },
   "outputs": [],
   "source": [
    "norm_counts = out_dir/config_dict[\"norm_count_file\"]\n",
    "norm_counts = pd.read_csv(norm_counts, index_col=0)\n",
    "norm_counts.head()"
   ]
  },
  {
   "cell_type": "code",
   "execution_count": null,
   "metadata": {},
   "outputs": [],
   "source": [
    "norm_counts = norm_counts.set_index('ID')\n",
    "norm_counts = norm_counts[norm_counts.sum(axis=1) > 100]\n",
    "norm_counts = np.log2(norm_counts+1)"
   ]
  },
  {
   "cell_type": "code",
   "execution_count": null,
   "metadata": {},
   "outputs": [],
   "source": [
    "pc_df, pc_var = find_pcs(norm_counts, num_genes=1000)\n",
    "pc_df = pc_df.reset_index().rename(columns={'index':'sample_id'}).merge(sd, on='sample_id')"
   ]
  },
  {
   "cell_type": "code",
   "execution_count": null,
   "metadata": {},
   "outputs": [],
   "source": [
    "fig = px.scatter(pc_df, x='PC1', y='PC2', color='Treatment', width=700, height=600, \n",
    "template='plotly_white', hover_data=['sample_id'])\n",
    "fig.update_traces(marker=dict(size=12,\n",
    "                              line=dict(width=1,\n",
    "                                        color='DarkSlateGrey')),\n",
    "                  selector=dict(mode='markers'))"
   ]
  },
  {
   "cell_type": "code",
   "execution_count": null,
   "metadata": {},
   "outputs": [],
   "source": [
    "umap_df = find_umap_df(norm_counts)\n",
    "umap_df = umap_df.reset_index().rename(columns={'index':'sample_id'}).merge(sd, on='sample_id')\n",
    "px.scatter(umap_df, x='UMAP1', y='UMAP2', color='Treatment', width=500, height=400, \n",
    "template='plotly_white', hover_data=['sample_id'])\n",
    "# Sensetive to pseudocount used"
   ]
  },
  {
   "cell_type": "code",
   "execution_count": null,
   "metadata": {
    "ExecuteTime": {
     "end_time": "2023-06-12T09:43:37.033399Z",
     "start_time": "2023-06-12T09:43:36.944598Z"
    }
   },
   "outputs": [],
   "source": [
    "\n",
    "def get_full_annotation(genome_short, genome_long):\n",
    "    gff_dir = Path(\"/nfs/nas22/fs2202/biol_micro_sunagawa/Projects/PAN/REFERENCE_GENOMES_PAN/data/raw\")\n",
    "    kegg_dir = Path(\"/nfs/shared/_shared/lilith/annotated_genomes_oligomm12_asf519\")\n",
    "    gff_file = gff_dir/f\"{genome_short}/{genome_long}/{genome_long}.gff3\"\n",
    "    kegg_file_path = kegg_dir/f\"{genome_long}/assembly/{genome_long}/kegg/{genome_long}-annotations.tsv\"\n",
    "    if not gff_file.is_file():\n",
    "        print(gff_file)\n",
    "        return\n",
    "    if not kegg_file_path.is_file():\n",
    "        print(kegg_file_path)\n",
    "        return\n",
    "    gff = pr.read_gff3(gff_file).as_df()\n",
    "    gff = gff[gff.Feature == 'CDS']\n",
    "    gff['protein_id'] = gff['protein_id'].fillna(gff['locus_tag'])\n",
    "    kegg_file = pd.read_table(kegg_file_path)\n",
    "    kegg_file['protein_id'] = kegg_file.QUERY.str.split(\"prot_\", expand=True)[1]\n",
    "    kegg_file['protein_id'] = kegg_file['protein_id'].apply(lambda x: \"_\".join(x.split(\"_\")[:-1]))\n",
    "    full = gff.merge(kegg_file, on='protein_id', how='outer')\n",
    "    full.to_csv(root/f\"{genome_short}.annotation.csv\")\n",
    "    print(genome_short)\n",
    "    print(full.head())"
   ]
  },
  {
   "cell_type": "markdown",
   "metadata": {},
   "source": [
    "# Look at mOTUs abundances "
   ]
  },
  {
   "cell_type": "code",
   "execution_count": null,
   "metadata": {},
   "outputs": [],
   "source": [
    "motus_dir = root/config_dict[\"motus_dir\"]\n",
    "mouts_profiles = list(motus_dir.rglob(\"*.motus\"))"
   ]
  },
  {
   "cell_type": "code",
   "execution_count": null,
   "metadata": {},
   "outputs": [],
   "source": [
    "f = mouts_profiles[0]\n",
    "mdf_list = []\n",
    "for f in mouts_profiles:\n",
    "    motu_df = pd.read_table(f, comment='#', header=None, dtype={0:str, 1:str}, names=['motu', 'ncbi', 'motu_cnt']).assign(sample_id=f.stem)\n",
    "    motu_df = motu_df[motu_df.motu_cnt > 0]\n",
    "    \n",
    "    mdf_list.append(motu_df)\n",
    "mdf = pd.concat(mdf_list)"
   ]
  },
  {
   "cell_type": "code",
   "execution_count": null,
   "metadata": {},
   "outputs": [],
   "source": [
    "pd.set_option('display.max_colwidth', None)\n",
    "test = mdf[mdf.sample_id == 'AU655'].copy()\n",
    "test[test.motu.str.contains('YL45')]"
   ]
  },
  {
   "cell_type": "code",
   "execution_count": null,
   "metadata": {},
   "outputs": [],
   "source": [
    "test['RelAb'] = test['motu_cnt']/test.motu_cnt.sum()"
   ]
  },
  {
   "cell_type": "code",
   "execution_count": null,
   "metadata": {},
   "outputs": [],
   "source": [
    "px.bar(test[test.RelAb > 0.01], x='sample_id', y='RelAb', color='motu', height=500, width=600)"
   ]
  },
  {
   "cell_type": "code",
   "execution_count": null,
   "metadata": {},
   "outputs": [],
   "source": [
    "test = test[test.motu_cnt > 20]\n",
    "test['motu_cnt'] = test['motu_cnt']/test['motu_cnt'].sum()"
   ]
  },
  {
   "cell_type": "code",
   "execution_count": null,
   "metadata": {},
   "outputs": [],
   "source": [
    "test.sort_values('motu_cnt')"
   ]
  },
  {
   "cell_type": "markdown",
   "metadata": {},
   "source": [
    "# Functional annotation"
   ]
  },
  {
   "cell_type": "code",
   "execution_count": null,
   "metadata": {},
   "outputs": [],
   "source": [
    "genomes_dir = Path(\"/nfs/shared/_shared/lilith/annotated_genomes_oligomm12_asf519\")\n",
    "annots = list(genomes_dir.rglob(\"*.emapper.annotations\"))"
   ]
  },
  {
   "cell_type": "code",
   "execution_count": null,
   "metadata": {},
   "outputs": [],
   "source": [
    "emap_list = []\n",
    "for annot in annots:\n",
    "    emap_df = pd.read_table(annot, comment='#', header=None)[[0,4,7,8,11,12]]\n",
    "    emap_df.columns =['ID', 'COG', 'Description','Name', 'KO', 'KEGG_Pathway']\n",
    "    pattern = r'_prot_([A-Z0-9_]+(\\.|_)[A-Z0-9]+)_'\n",
    "    emap_df['protein_id'] = emap_df.ID.str.extract(pattern)[0]\n",
    "    pattern_root = r'(COG[0-9]+)@1|root'\n",
    "    pattern_bac = r'(COG[0-9]+)@2|Bacteria'\n",
    "    emap_df['COG_root'] = emap_df.COG.str.findall(pattern_root).apply(lambda x: \",\".join([a for a in x if a]))\n",
    "    emap_df['COG_bac'] = emap_df.COG.str.findall(pattern_bac).apply(lambda x: \",\".join([a for a in x if a]))\n",
    "    emap_df['KO'] = emap_df['KO'].apply(lambda x: \",\".join([a.lstrip(\"ko:\") for a in x.split(\",\")]))\n",
    "    emap_list.append(emap_df)\n",
    "emapper_all = pd.concat(emap_list)"
   ]
  },
  {
   "cell_type": "code",
   "execution_count": null,
   "metadata": {},
   "outputs": [],
   "source": [
    "emapper_all[emapper_all['Name'].str.contains('rnf')].COG_bac.unique()"
   ]
  },
  {
   "cell_type": "code",
   "execution_count": null,
   "metadata": {},
   "outputs": [],
   "source": [
    "emapper_all.to_csv(out_dir/\"oligo-emmapper-processed.csv\", index=False)"
   ]
  },
  {
   "cell_type": "code",
   "execution_count": null,
   "metadata": {},
   "outputs": [],
   "source": [
    "gff = pr.read_gff3(root/config_dict['gff_file'])"
   ]
  },
  {
   "cell_type": "code",
   "execution_count": null,
   "metadata": {},
   "outputs": [],
   "source": [
    "cds = gff[gff.Feature == 'CDS'].as_df()\n",
    "cds['protein_id'] = cds['protein_id'].fillna(cds['ID'].str.strip('cds-'))"
   ]
  },
  {
   "cell_type": "code",
   "execution_count": null,
   "metadata": {},
   "outputs": [],
   "source": [
    "cds_full = cds.merge(emapper_all, on=\"protein_id\", how='outer')"
   ]
  },
  {
   "cell_type": "code",
   "execution_count": null,
   "metadata": {},
   "outputs": [],
   "source": [
    "gff = gff.as_df()\n",
    "gff['locus_tag'] = gff['locus_tag'].fillna(gff['ID'])\n",
    "final_annotation = gff[['Chromosome', 'Source', 'Feature', 'Start', 'End', 'Score', 'Strand', 'Frame',  'locus_tag', 'gene_biotype', 'pseudo', 'product']]\n",
    "final_annotation = final_annotation[final_annotation.Feature == 'gene']"
   ]
  },
  {
   "cell_type": "code",
   "execution_count": null,
   "metadata": {},
   "outputs": [],
   "source": [
    "fa = final_annotation.merge(cds_full[['locus_tag', 'COG', 'Description', 'KO', 'KEGG_Pathway', 'protein_id',\n",
    "       'COG_root', 'COG_bac']], on='locus_tag', how='left')"
   ]
  },
  {
   "cell_type": "code",
   "execution_count": null,
   "metadata": {},
   "outputs": [],
   "source": [
    "fa.groupby('Chromosome').agg({'locus_tag':['nunique'], 'COG_root':['nunique'], 'KO':['nunique']})"
   ]
  },
  {
   "cell_type": "markdown",
   "metadata": {},
   "source": [
    "# DE Results"
   ]
  },
  {
   "cell_type": "code",
   "execution_count": null,
   "metadata": {},
   "outputs": [],
   "source": [
    "res = pd.read_csv(out_dir/\"2023-08-03_oligo-alone-within-taxon-LPS_vs_PBS_l0a0.01_results.csv\")\n",
    "res['locus_tag'] = res['ID'].str.replace('gene-', '')\n",
    "res = res.merge(fa, on='locus_tag')"
   ]
  },
  {
   "cell_type": "code",
   "execution_count": null,
   "metadata": {},
   "outputs": [],
   "source": [
    "\n",
    "res['genome'] = res['Chromosome'].replace(genome_map)"
   ]
  },
  {
   "cell_type": "code",
   "execution_count": null,
   "metadata": {},
   "outputs": [],
   "source": [
    "\n",
    "def get_term_df(func_analysis, description):\n",
    "    df = func_analysis[func_analysis.description.str.contains(description)]\n",
    "    fdf = pd.concat([df[['inputGenes', 'description']].explode('inputGenes'), df[['preferredNames']].explode('preferredNames')], axis=1).drop_duplicates()\n",
    "    fdf = fdf.rename(columns={'inputGenes': 'locus_tag'})\n",
    "    return fdf\n",
    "\n",
    "def process_strain(res, strain, taxid_map):\n",
    "    sres = res[res.genome == strain].copy()\n",
    "    sres['locus_tag'] = sres['ID'].str.replace(\"gene-\", '')\n",
    "    taxid = taxid_map[strain]\n",
    "    sup = sres.query(\"log2FoldChange > 1 & padj < 0.05\")\n",
    "    sdown = sres.query(\"log2FoldChange < -1 & padj < 0.05\")\n",
    "    link_up = link_to_string(sup.locus_tag.values, taxid)\n",
    "    link_down = link_to_string(sdown.locus_tag.values, taxid)\n",
    "    func_up = pd.DataFrame(string_function(sup.locus_tag.values, taxid))\n",
    "    func_down = pd.DataFrame(string_function(sdown.locus_tag.values, taxid))\n",
    "    return sres, link_up, link_down, func_up, func_down\n",
    "\n",
    "def highlight_term(sres, func_up, func_down, up_terms, down_terms):\n",
    "    ups = pd.concat([get_term_df(func_up, term) for term in up_terms])\n",
    "    downs = pd.concat(get_term_df(func_down, term) for term in down_terms)\n",
    "    highlights = pd.concat([ups, downs])\n",
    "    sres = sres.merge(highlights, on='locus_tag', how='left')\n",
    "    sres['description'] = sres['description'].fillna('Other')\n",
    "    return sres"
   ]
  },
  {
   "cell_type": "code",
   "execution_count": null,
   "metadata": {},
   "outputs": [],
   "source": [
    "# Chaperones \n",
    "import json\n",
    "chap_file = root/'analysis/ko03110.keg'\n",
    "with open(chap_file, 'r') as fh:\n",
    "    lines = fh.readlines()\n"
   ]
  },
  {
   "cell_type": "code",
   "execution_count": null,
   "metadata": {},
   "outputs": [],
   "source": [
    "import re\n",
    "chaps = []\n",
    "chap_names = []\n",
    "pattern = '^C *(K[0-9]*) *(\\w*);'\n",
    "for line in lines:\n",
    "    matches = re.search(pattern, line)\n",
    "    if matches:\n",
    "        chaps.append(matches.group(1))\n",
    "        chap_names.append(matches.group(2))"
   ]
  },
  {
   "cell_type": "code",
   "execution_count": null,
   "metadata": {},
   "outputs": [],
   "source": [
    "chap_names = {a:k for a,k in zip(chaps, chap_names)}"
   ]
  },
  {
   "cell_type": "code",
   "execution_count": null,
   "metadata": {},
   "outputs": [],
   "source": [
    "ox_stress = \"\"\"K00383                      \n",
    "K00384 \n",
    "K00432                      \n",
    "K00799                      \n",
    "K02426                      \n",
    "K03387                      \n",
    "K03564                      \n",
    "K03671                      \n",
    "K03674                      \n",
    "K03676                      \n",
    "K03781                      \n",
    "K03782                      \n",
    "K04047\n",
    "K04063                      \n",
    "K04487\n",
    "K04488                      \n",
    "K04564                      \n",
    "K04565                      \n",
    "K04761\n",
    "K05919                      \n",
    "K05997                      \n",
    "K07304                      \n",
    "K07305                      \n",
    "K07322                      \n",
    "K07400                      \n",
    "K08968                      \n",
    "K09013\n",
    "K09014\n",
    "K09015                      \n",
    "K11065\n",
    "K11209                      \n",
    "K11717\n",
    "K12262                      \n",
    "K12267                      \n",
    "K13639                      \n",
    "K13643\n",
    "K24119\"\"\".split()\n",
    "\n",
    "ox_names = \"\"\"gor\n",
    "trxB\n",
    "btuE\n",
    "gst\n",
    "sufE\n",
    "ahpF\n",
    "bcp\n",
    "trxA\n",
    "grxA\n",
    "grxC\n",
    "katE\n",
    "katG\n",
    "dps\n",
    "osmC\n",
    "iscS\n",
    "iscU\n",
    "SOD2\n",
    "SOD1\n",
    "oxyR\n",
    "dfx\n",
    "sufA\n",
    "msrA\n",
    "msrB\n",
    "ytfE\n",
    "nfuA\n",
    "msrC\n",
    "sufC\n",
    "sufB\n",
    "sufD\n",
    "tpx\n",
    "yfcG\n",
    "sufS\n",
    "cybB\n",
    "msrAB\n",
    "soxR\n",
    "iscR\n",
    "ahpC\"\"\".split()\n",
    "ox_names = {a:b for a,b in zip(ox_stress, ox_names)}"
   ]
  },
  {
   "cell_type": "code",
   "execution_count": null,
   "metadata": {},
   "outputs": [],
   "source": [
    "aa =\"\"\"K00052               leuB, IMDH; 3-isopropylmalate dehydrogenase [EC:1.1.1.85] \n",
    "K00053               ilvC; ketol-acid reductoisomerase [EC:1.1.1.86] \n",
    "K00263               E1.4.1.9; leucine dehydrogenase [EC:1.4.1.9] \n",
    "K00826               E2.6.1.42, ilvE; branched-chain amino acid aminotransferase [EC:2.6.1.42] \n",
    "K00835               avtA; valine--pyruvate aminotransferase [EC:2.6.1.66] \n",
    "K01649               leuA, IMS; 2-isopropylmalate synthase [EC:2.3.3.13] \n",
    "K01652               E2.2.1.6L, ilvB, ilvG, ilvI; acetolactate synthase I/II/III large subunit [EC:2.2.1.6] \n",
    "K01653               E2.2.1.6S, ilvH, ilvN; acetolactate synthase I/III small subunit [EC:2.2.1.6] \n",
    "K01687               ilvD; dihydroxy-acid dehydratase [EC:4.2.1.9] \n",
    "K01702               LEU1; 3-isopropylmalate dehydratase [EC:4.2.1.33] \n",
    "K01703               leuC, IPMI-L; 3-isopropylmalate/(R)-2-methylmalate dehydratase large subunit [EC:4.2.1.33 4.2.1.35] \n",
    "K01704               leuD, IPMI-S; 3-isopropylmalate/(R)-2-methylmalate dehydratase small subunit [EC:4.2.1.33 4.2.1.35] \n",
    "K01754               E4.3.1.19, ilvA, tdcB; threonine dehydratase [EC:4.3.1.19] \n",
    "K09011               cimA; (R)-citramalate synthase [EC:2.3.3.21] \n",
    "K11258               ilvM; acetolactate synthase II small subunit [EC:2.2.1.6] \n",
    "K14260               alaA; alanine-synthesizing transaminase [EC:2.6.1.66 2.6.1.2] \n",
    "K17989               SDS, SDH, CHA1; L-serine/L-threonine ammonia-lyase [EC:4.3.1.17 4.3.1.19] \n",
    "K21359               MAM-IS, IPMI2; 3-isopropylmalate/methylthioalkylmalate dehydratase small subunit [EC:4.2.1.33 4.2.1.  \"\"\".split(\"\\n\")\n",
    "\n",
    "\n",
    "names = [a.split()[1].split(';')[0].strip().strip(',') for a in aa if a]\n",
    "aa = [a.split()[0].strip() for a in aa if a]\n",
    "aa_names = {a:k for a,k in zip(aa, names)}\n",
    "aa_df = res[res.COG_bac.isin(['COG4660', 'COG4657', 'COG2878', 'COG4656', 'COG4658', 'COG4659',\n",
    "       'COG2221,COG2878', 'COG2768,COG2878', 'COG1148,COG2878',\n",
    "       'COG4658,COG4659'])][['KO', 'log2FoldChange', 'padj', 'genome']]\n",
    "aa_df = res[res.KO.isin(aa)][['KO', 'log2FoldChange', 'padj', 'genome']]\n",
    "aa_df['KO'] = aa_df['KO'].replace(aa_names)"
   ]
  },
  {
   "cell_type": "code",
   "execution_count": null,
   "metadata": {},
   "outputs": [],
   "source": [
    "ox_df = res[res.KO.isin(ox_stress)][['ID', 'KO', 'log2FoldChange', 'padj', 'genome']]\n",
    "ox_df = ox_df.groupby(['genome', 'KO']).log2FoldChange.median().reset_index().dropna()\n",
    "ox_df['name'] = ox_df['KO'].replace(ox_names) \n"
   ]
  },
  {
   "cell_type": "code",
   "execution_count": null,
   "metadata": {},
   "outputs": [],
   "source": [
    "ox_df"
   ]
  },
  {
   "cell_type": "code",
   "execution_count": null,
   "metadata": {},
   "outputs": [],
   "source": [
    "chap_df = res[res.KO.isin(chaps)][['KO', 'log2FoldChange', 'padj', 'genome']]\n",
    "chap_df['name'] = chap_df['KO'].replace(chap_names)"
   ]
  },
  {
   "cell_type": "code",
   "execution_count": null,
   "metadata": {},
   "outputs": [],
   "source": [
    "aa_df.log2FoldChange.min()"
   ]
  },
  {
   "cell_type": "code",
   "execution_count": null,
   "metadata": {},
   "outputs": [],
   "source": [
    "aa_df.log2FoldChange.max()"
   ]
  },
  {
   "cell_type": "code",
   "execution_count": null,
   "metadata": {},
   "outputs": [],
   "source": [
    "df = pd.read_csv(\"/nfs/nas22/fs2202/biol_micro_bioinf_nccr/hardt/nguyenb/tnseq/scratch/03_23_transcriptomics/analysis/17-08-23-LCM-taxa-dada2.csv\")"
   ]
  },
  {
   "cell_type": "code",
   "execution_count": null,
   "metadata": {},
   "outputs": [],
   "source": []
  },
  {
   "cell_type": "code",
   "execution_count": null,
   "metadata": {},
   "outputs": [],
   "source": [
    "import plotly.graph_objects as go\n",
    "fig = go.Figure(data=[go.Heatmap(\n",
    "            z=aa_df.log2FoldChange,\n",
    "            x=aa_df.genome,\n",
    "            y=aa_df.KO,\n",
    "            xgap=3,\n",
    "            ygap=3,\n",
    "            colorscale=[\"black\", \"black\"],\n",
    "            showscale=False,\n",
    "        ),\n",
    "    \n",
    "    go.Heatmap(\n",
    "        z=aa_df.log2FoldChange,\n",
    "        x=aa_df.genome,\n",
    "        y=aa_df.KO,\n",
    " \n",
    "        xgap=5,\n",
    "        ygap=5,\n",
    "        colorscale= [[0, 'rgba(0, 0, 139, 0.85)'],   \n",
    "               [0.87, 'rgba(255, 255, 255, 0.85)'],  \n",
    "               [1, 'rgba(53, 94, 59, 0.85)']],),\n",
    "        \n",
    "               ])\n",
    "\n",
    "fig.update_layout(width=500, height=500, template='simple_white', yaxis_scaleanchor=\"x\",\n",
    "    plot_bgcolor=\"#fff\",\n",
    "\n",
    "    margin=dict(b=0, t=20, l=0, r=20))\n",
    "\n",
    "pio.write_image(fig, out_dir/\"aa_heatmap.svg\", width=500, height=500, scale=2)"
   ]
  },
  {
   "cell_type": "code",
   "execution_count": null,
   "metadata": {},
   "outputs": [],
   "source": [
    "import plotly.graph_objects as go\n",
    "fig = go.Figure(data=[go.Heatmap(\n",
    "            z=chap_df.log2FoldChange,\n",
    "            x=chap_df.genome,\n",
    "            y=chap_df.name,\n",
    "            xgap=3,\n",
    "            ygap=3,\n",
    "            colorscale=[\"black\", \"black\"],\n",
    "            showscale=False,\n",
    "        ),\n",
    "    \n",
    "    go.Heatmap(\n",
    "        z=chap_df.log2FoldChange,\n",
    "        x=chap_df.genome,\n",
    "        y=chap_df.name,\n",
    " \n",
    "        xgap=5,\n",
    "        ygap=5,\n",
    "        colorscale= [[0, 'rgba(0, 0, 139, 0.85)'],   \n",
    "               [0.37, 'rgba(255, 255, 255, 0.85)'],  \n",
    "               [1, 'rgba(53, 94, 59, 0.85)']],),\n",
    "        \n",
    "               ],\n",
    "        \n",
    "        )\n",
    "\n",
    "fig.update_layout(width=500, height=600, template='simple_white', yaxis_scaleanchor=\"x\",\n",
    "    plot_bgcolor=\"#fff\", \n",
    "\n",
    "    margin=dict(b=0, t=20, l=0, r=20))\n",
    "pio.write_image(fig, out_dir/\"chaperones_heatmap.svg\", width=500, height=600, scale=2)"
   ]
  },
  {
   "cell_type": "code",
   "execution_count": null,
   "metadata": {},
   "outputs": [],
   "source": [
    "#ox_df = ox_df.sort_values('name', ascending=False)\n",
    "fig = go.Figure(data=[go.Heatmap(\n",
    "            z=ox_df.log2FoldChange,\n",
    "            x=ox_df.genome,\n",
    "            y=ox_df.name,\n",
    "            xgap=3,\n",
    "            ygap=3,\n",
    "            colorscale=[\"black\", \"black\"],\n",
    "            showscale=False,\n",
    "        ),\n",
    "    \n",
    "    go.Heatmap(\n",
    "        z=ox_df.log2FoldChange,\n",
    "        x=ox_df.genome,\n",
    "        y=ox_df.name,\n",
    " \n",
    "        xgap=5,\n",
    "        ygap=5,\n",
    "        colorscale= [[0, 'rgba(0, 0, 139, 0.85)'],   \n",
    "               [0.47, 'rgba(255, 255, 255, 0.85)'],  \n",
    "               [1, 'rgba(53, 94, 59, 0.85)']],),\n",
    "        \n",
    "               ],\n",
    "        \n",
    "        )\n",
    "\n",
    "fig.update_layout(width=500, height=700, template='simple_white', yaxis_scaleanchor=\"x\",\n",
    "    plot_bgcolor=\"#fff\", \n",
    "\n",
    "    margin=dict(b=0, t=20, l=0, r=20))\n",
    "\n",
    "pio.write_image(fig, out_dir/\"oxidative_stress_heatmap.svg\", width=500, height=700, scale=2)"
   ]
  },
  {
   "cell_type": "code",
   "execution_count": null,
   "metadata": {},
   "outputs": [],
   "source": [
    "res['KEGG_Pathway'] = res['KEGG_Pathway'].fillna('-')\n",
    "clrs = px.colors.qualitative.G10"
   ]
  },
  {
   "cell_type": "code",
   "execution_count": null,
   "metadata": {},
   "outputs": [],
   "source": [
    "strain = 'I48'\n",
    "df48, lup48, ldown48, funcup48, funcdown48 = process_strain(res, strain, ncbi_taxid_map)\n",
    "up_terms = ['Protein folding', 'ATP synthesis']\n",
    "up_terms = ['Protein folding']\n",
    "down_terms = ['Biosynthesis of amino acids', 'Oxidoreductase activity']\n",
    "down_terms = ['Biosynthesis of amino acids']\n",
    "fdf48 = highlight_term(df48, funcup48, funcdown48, up_terms, down_terms)"
   ]
  },
  {
   "cell_type": "code",
   "execution_count": null,
   "metadata": {},
   "outputs": [],
   "source": [
    "fdf48['description'] = fdf48['description'].replace({\"Oxidoreductase activity, acting on NAD(P)H, and protein flavinylation\": 'Oxidoreductase activity',\n",
    "                                                     'Biosynthesis of amino acids':'Amino acid biosynthesis'})"
   ]
  },
  {
   "cell_type": "code",
   "execution_count": null,
   "metadata": {},
   "outputs": [],
   "source": [
    "fig = px.scatter(fdf48, x='log2FoldChange', y=-np.log2(fdf48.padj), color='description', width=1000, height=700,\n",
    "                color_discrete_map = {'Other': '#BAB0AC', \n",
    "                                        'Protein folding': clrs[0],\n",
    "                                        'Oxidoreductase activity': clrs[1], \n",
    "                                        'ATP synthesis': clrs[2],\n",
    "                                        'Amino acid biosynthesis': clrs[3]}, template='plotly_white', hover_data=['locus_tag', 'preferredNames'], \n",
    "                                        labels={'y': '-log(padj)'})\n",
    "\n",
    "fig.add_hline(y=-np.log10(0.01), line_width=2, line_dash='dash')\n",
    "fig.add_vline(x=-1, line_width=2, line_dash='dash')\n",
    "fig.add_vline(x=1, line_width=2, line_dash='dash')\n",
    "fig.update_traces(marker=dict(size=12,\n",
    "                              line=dict(width=1,\n",
    "                                        color='DarkSlateGrey')),\n",
    "                  selector=dict(mode='markers'), \n",
    "        \n",
    "    )\n",
    "fig.update_layout(font=dict(\n",
    "        size=18, \n",
    "    ))\n",
    "\n",
    "pio.write_image(fig, out_dir/\"i48_volacano.svg\", width=1000, height=700, scale=2)"
   ]
  },
  {
   "cell_type": "code",
   "execution_count": null,
   "metadata": {},
   "outputs": [],
   "source": [
    "def func_graph(df, c='Blues_r'):\n",
    "    df = df[(df.term.str.startswith('GO')) | (df.term.str.startswith('KW') |(df.category == 'KEGG'))].copy()\n",
    "    df['description'] = df['description'] +\" | \" + df['term']\n",
    "    fig = px.bar(df.sort_values('number_of_genes'), y='description', x='number_of_genes', color='fdr', orientation='h',\n",
    "    width =900, height=500, template= 'plotly_white', color_continuous_scale=c, \n",
    "    labels={'number_of_genes':'Number of genes', 'description': ''})\n",
    "    return fig"
   ]
  },
  {
   "cell_type": "code",
   "execution_count": null,
   "metadata": {},
   "outputs": [],
   "source": [
    "func_graph(funcdown48, 'Reds_r')"
   ]
  },
  {
   "cell_type": "code",
   "execution_count": null,
   "metadata": {},
   "outputs": [],
   "source": [
    "df = funcup48[(funcup48.term.str.startswith('GO')) | (funcup48.term.str.startswith('KW') |(funcup48.category == 'KEGG'))].copy()\n",
    "df['description'] = df['description'] +\" | \" + df['term']\n",
    "px.bar(df.sort_values('number_of_genes'), y='description', x='number_of_genes', color='fdr', orientation='h',\n",
    "width =900, height=500, template= 'plotly_white', color_continuous_scale='Blues_r', \n",
    "labels={'number_of_genes':'Number of genes', 'description': ''})"
   ]
  },
  {
   "cell_type": "code",
   "execution_count": null,
   "metadata": {},
   "outputs": [],
   "source": [
    "strain = 'YL32'\n",
    "df32, lup32, ldown32, funcup32, funcdown32 = process_strain(res, strain, ncbi_taxid_map)\n",
    "up_terms = ['Protein folding', \n",
    "#'Carbohydrate transport', \n",
    "#'glycerol metabolic process',\n",
    "#'nucleobase catabolic process']\n",
    "]\n",
    "down_terms = ['Amino acid transport', \n",
    "              #'Peptide transport', \n",
    "              'Ribosome', \n",
    "              #'Flagellar assembly',\n",
    "                ]\n",
    "fdf32 = highlight_term(df32, funcup32, funcdown32, up_terms, down_terms)"
   ]
  },
  {
   "cell_type": "code",
   "execution_count": null,
   "metadata": {},
   "outputs": [],
   "source": [
    "fdf32['description'] = fdf32['description'].replace({'Protein folding, and serine-type endopeptidase activity':'Protein folding', \n",
    "'Mixed, incl. purine nucleobase catabolic process, and nucleobase transport':'Purine nucleobase catabolic process',\n",
    "'Mixed, incl. purine nucleobase catabolic process, and nucleotide catabolic process':'Purine nucleobase catabolic process',\n",
    "'Ribosome, and regulation of translation':'Ribosome',\n",
    "'Peptide transport': 'Amino acid/peptide transport',\n",
    "'Amino acid transport':'Amino acid/peptide transport'\n",
    "})"
   ]
  },
  {
   "cell_type": "code",
   "execution_count": null,
   "metadata": {},
   "outputs": [],
   "source": [
    "fdf32.description.unique()"
   ]
  },
  {
   "cell_type": "code",
   "execution_count": null,
   "metadata": {},
   "outputs": [],
   "source": [
    "func_graph(funcup32)"
   ]
  },
  {
   "cell_type": "code",
   "execution_count": null,
   "metadata": {},
   "outputs": [],
   "source": [
    "fig = func_graph(funcdown32, 'Reds_r')\n",
    "fig.update_layout(height=1000)"
   ]
  },
  {
   "cell_type": "code",
   "execution_count": null,
   "metadata": {},
   "outputs": [],
   "source": [
    "fig = px.scatter(fdf32, x='log2FoldChange', y=-np.log2(fdf32.padj), color='description', width=1000, height=700,\n",
    "                color_discrete_map = {'Other': '#BAB0AC', \n",
    "                                        'Protein folding': clrs[0],\n",
    "                                         'Purine nucleobase catabolic process': clrs[1],\n",
    "                                        'Ribosome': clrs[2], \n",
    "                                        'Amino acid/peptide transport': clrs[3],\n",
    "                                        'Flagellar assembly': clrs[4]}, template='plotly_white', hover_data=['locus_tag'], \n",
    "                                        labels={'y': '-log(padj)'})\n",
    "\n",
    "fig.add_hline(y=-np.log10(0.05), line_width=2, line_dash='dash')\n",
    "fig.add_vline(x=-1, line_width=2, line_dash='dash')\n",
    "fig.add_vline(x=1, line_width=2, line_dash='dash')\n",
    "fig.update_traces(marker=dict(size=12,\n",
    "                              line=dict(width=1,\n",
    "                                        color='DarkSlateGrey')),\n",
    "                  selector=dict(mode='markers'))\n",
    "\n",
    "#pio.write_image(fig, out_dir/\"YL32_volacano.svg\", width=1000, height=700, scale=2)"
   ]
  },
  {
   "cell_type": "code",
   "execution_count": null,
   "metadata": {},
   "outputs": [],
   "source": [
    "strain = 'YL27'\n",
    "df27, lup27, ldown27, funcup27, funcdown27 = process_strain(res, strain, ncbi_taxid_map)\n",
    "up_terms = ['Chaperone']\n",
    "down_terms = []\n",
    "#fdf27 = highlight_term(df27, funcup27, funcdown27, up_terms, down_terms)"
   ]
  },
  {
   "cell_type": "code",
   "execution_count": null,
   "metadata": {},
   "outputs": [],
   "source": [
    "lup27"
   ]
  },
  {
   "cell_type": "code",
   "execution_count": null,
   "metadata": {},
   "outputs": [],
   "source": [
    "res.query('COG_bac == \"COG4656\"')"
   ]
  },
  {
   "cell_type": "code",
   "execution_count": null,
   "metadata": {},
   "outputs": [],
   "source": [
    "res[res.genome == 'YL44'].head()"
   ]
  },
  {
   "cell_type": "code",
   "execution_count": null,
   "metadata": {},
   "outputs": [],
   "source": [
    "strain = 'YL58'\n",
    "df58, lup58, ldown58, funcup58, funcdown58 = process_strain(res, strain, ncbi_taxid_map)\n",
    "up_terms = ['Protein folding', \n",
    "#'amino acid catabolic process',\n",
    "#'nucleobase catabolic process\n",
    "]\n",
    "down_terms = [#'ABC transporters', \n",
    "              'Ribosome', \n",
    "              'tyrosine', \n",
    "              'leucine',\n",
    "              'Histidine']\n",
    "fdf58 = highlight_term(df58, funcup58, funcdown58, up_terms, down_terms)"
   ]
  },
  {
   "cell_type": "code",
   "execution_count": null,
   "metadata": {},
   "outputs": [],
   "source": [
    "funcup58.description.unique()"
   ]
  },
  {
   "cell_type": "code",
   "execution_count": null,
   "metadata": {},
   "outputs": [],
   "source": [
    "fdf58.description.unique()"
   ]
  },
  {
   "cell_type": "code",
   "execution_count": null,
   "metadata": {},
   "outputs": [],
   "source": [
    "fdf58['description'] = fdf58['description'].replace({'Protein folding, and protein stabilization':'Protein folding', \n",
    "'Phenylalanine, tyrosine and tryptophan biosynthesis': 'Amino acid biosynthesis',\n",
    "'Pyruvate metabolism, and Valine, leucine and isoleucine biosynthesis':'Amino acid biosynthesis',\n",
    "'Histidine biosynthetic process':'Amino acid biosynthesis',\n",
    "'Histidine biosynthesis': 'Amino acid biosynthesis',\n",
    "'Mixed, incl. purine nucleobase catabolic process, and deaminase activity':'Purine nucleobase catabolic process',\n",
    "'Mixed, incl. purine nucleobase catabolic process, and nucleotide catabolic process':'Purine nucleobase catabolic process',\n",
    "'Ribosome, and translation regulator activity': 'Ribosome',\n",
    "'Peptide transport': 'Amino acid/peptide transport',\n",
    "'Amino acid transport':'Amino acid/peptide transport'\n",
    "})"
   ]
  },
  {
   "cell_type": "code",
   "execution_count": null,
   "metadata": {},
   "outputs": [],
   "source": [
    "fig = px.scatter(fdf58, x='log2FoldChange', y=-np.log2(fdf58.padj), color='description', width=1000, height=700,\n",
    "                color_discrete_map = {'Other': '#BAB0AC', \n",
    "                                        'Protein folding': clrs[0],\n",
    "                                        'Ribosome': clrs[2], \n",
    "                                        'Alpha-amino acid catabolic process': clrs[2],\n",
    "                                        'Amino acid biosynthesis': clrs[3],\n",
    "                                        'ABC transporters': clrs[4],\n",
    "                                        'Purine nucleobase catabolic process': clrs[5]}, template='plotly_white', hover_data=['locus_tag'], \n",
    "                                        labels={'y': '-log(padj)'})\n",
    "\n",
    "fig.add_hline(y=-np.log10(0.01), line_width=2, line_dash='dash')\n",
    "fig.add_vline(x=-1, line_width=2, line_dash='dash')\n",
    "fig.add_vline(x=1, line_width=2, line_dash='dash')\n",
    "fig.update_traces(marker=dict(size=12,\n",
    "                              line=dict(width=1,\n",
    "                                        color='DarkSlateGrey')),\n",
    "                  selector=dict(mode='markers'))\n",
    "\n",
    "pio.write_image(fig, out_dir/\"YL58_volacano.svg\", width=1000, height=700, scale=2)"
   ]
  },
  {
   "cell_type": "code",
   "execution_count": null,
   "metadata": {},
   "outputs": [],
   "source": [
    "fig"
   ]
  },
  {
   "cell_type": "code",
   "execution_count": null,
   "metadata": {},
   "outputs": [],
   "source": [
    "fig = func_graph(funcup58)\n",
    "fig.update_layout(height=300)"
   ]
  },
  {
   "cell_type": "code",
   "execution_count": null,
   "metadata": {},
   "outputs": [],
   "source": [
    "func_graph(funcdown58, c='Reds_r')"
   ]
  },
  {
   "cell_type": "code",
   "execution_count": null,
   "metadata": {},
   "outputs": [],
   "source": [
    "#Stress/protein folding\n",
    "folding_genes = func_up[func_up.description == 'Protein folding'].inputGenes.values[0]\n",
    "#ATP Synthesis\n",
    "atp_genes = func_up[func_up.description == 'ATP synthesis'].inputGenes.values[0]\n",
    "#-\n",
    "#Amino-acid biosynthesis\n",
    "\n",
    "#Oxireductase activity"
   ]
  },
  {
   "cell_type": "code",
   "execution_count": null,
   "metadata": {},
   "outputs": [],
   "source": [
    "def clean_kos(k):\n",
    "    if type(k) == str:\n",
    "        return k.split(\",\")\n",
    "    return \n",
    "nested_list = [ clean_kos(k) for k in resup.KO.unique()]\n",
    "KOs = [element for sublist in nested_list if sublist for element in sublist]"
   ]
  },
  {
   "cell_type": "code",
   "execution_count": null,
   "metadata": {},
   "outputs": [],
   "source": [
    "for a in resup.sample(10).locus_tag.values:\n",
    "    print(a)"
   ]
  },
  {
   "cell_type": "code",
   "execution_count": null,
   "metadata": {},
   "outputs": [],
   "source": [
    "for ko in KOs:\n",
    "    print(ko)"
   ]
  },
  {
   "cell_type": "markdown",
   "metadata": {},
   "source": [
    "## Saturation curves"
   ]
  },
  {
   "cell_type": "code",
   "execution_count": null,
   "metadata": {
    "ExecuteTime": {
     "end_time": "2023-06-12T09:53:35.789783Z",
     "start_time": "2023-06-12T09:53:35.771504Z"
    }
   },
   "outputs": [],
   "source": [
    "from numpy.random import RandomState\n",
    "\n",
    "def rarefy(x, depth=1000, iterations=1, seed=42):\n",
    "    res = None\n",
    "    if iterations > 100000:\n",
    "        print('Max number of iterations allowed is 100000')\n",
    "        return None\n",
    "    if iterations > 1:\n",
    "        seeds = np.random.choice(100000, size=iterations)\n",
    "    else:\n",
    "        seeds = [seed]\n",
    "    for seed in seeds:\n",
    "        prng = RandomState(seed)\n",
    "        noccur = np.sum(x)\n",
    "        nvar = len(x)\n",
    "        p = x/noccur\n",
    "        if depth > noccur:\n",
    "            return np.array([np.nan]*nvar)\n",
    "        choice = prng.choice(nvar, size=int(depth), p=p)\n",
    "        if res is None:\n",
    "            res = np.bincount(choice, minlength=nvar)[np.newaxis,:]\n",
    "            \n",
    "        else:\n",
    "            res = np.concatenate((res, np.bincount(choice, minlength=nvar)[np.newaxis, :]))\n",
    "    return np.nanmean(res, axis=0)\n",
    "\n",
    "def rarefy_dataframe(df, depths, seed=0):\n",
    "    df_list = []\n",
    "    df.columns.name = 'sample_id'\n",
    "    for depth in depths: \n",
    "        rare_df = df.apply(rarefy, depth=depth, seed=seed).assign(depth=depth)\n",
    "        df_list.append(rare_df)\n",
    "        rdf = pd.concat(df_list).reset_index()\n",
    "        to_drop = rdf.columns[0]\n",
    "    return rdf.melt(id_vars=[to_drop, 'depth'], var_name='sample_id', value_name='counts')\n",
    "\n",
    "def saturationCurves(df, depths, cutoffs, seed):\n",
    "    rareDf = rarefy_dataframe(df, depths, seed).dropna()\n",
    "    sat_curve_df = (rareDf.groupby(['sample_id', 'depth'])\n",
    "                    .agg({'counts': [lambda x, c=c: (x > c).sum() for c in cutoffs]})\n",
    "                    .reset_index())\n",
    "    sat_curve_df.columns  = ['sample_id', 'depth'] + [f'>{c} reads' for c in cutoffs]\n",
    "    return rareDf, sat_curve_df"
   ]
  },
  {
   "cell_type": "code",
   "execution_count": null,
   "metadata": {
    "ExecuteTime": {
     "end_time": "2023-06-12T09:53:36.170298Z",
     "start_time": "2023-06-12T09:53:36.159274Z"
    }
   },
   "outputs": [],
   "source": [
    "def saturation_curve_strain(df, strain):\n",
    "    strain_df = df[df.genome == strain]\n",
    "    strain_df = strain_df[['gene_id', 'sample_id', 'num_reads']].pivot(index='gene_id', columns='sample_id')\n",
    "    strain_df.columns = [f[1] for f in strain_df.columns]\n",
    "    rare_df, sat_curve_df = saturationCurves(strain_df, [1e5,3e5, 5e5,7e5, 1e6,1.5e6, 2e6,\n",
    "                                                    3e6, 4e6, 5e6, 6e6, 7e6, 8e6], [5], 9)\n",
    "    fig = px.line(sat_curve_df, x='depth', y='>5 reads', color='sample_id',\n",
    "       template='plotly_white', title=strain)\n",
    "    fig.add_vline(x=3000000, line_width=1, line_dash=\"dash\")\n",
    "    return fig"
   ]
  },
  {
   "cell_type": "code",
   "execution_count": null,
   "metadata": {
    "ExecuteTime": {
     "end_time": "2023-06-12T09:54:00.437129Z",
     "start_time": "2023-06-12T09:53:37.154160Z"
    }
   },
   "outputs": [],
   "source": [
    "saturation_curve_strain(count_df, 'YL32')"
   ]
  },
  {
   "cell_type": "code",
   "execution_count": null,
   "metadata": {
    "ExecuteTime": {
     "end_time": "2023-06-12T09:54:44.275796Z",
     "start_time": "2023-06-12T09:54:13.284963Z"
    }
   },
   "outputs": [],
   "source": [
    "saturation_curve_strain(count_df, 'I48')"
   ]
  },
  {
   "cell_type": "code",
   "execution_count": null,
   "metadata": {
    "ExecuteTime": {
     "end_time": "2023-06-12T09:54:50.874831Z",
     "start_time": "2023-06-12T09:54:44.280355Z"
    }
   },
   "outputs": [],
   "source": [
    "saturation_curve_strain(count_df, 'YL58')"
   ]
  },
  {
   "cell_type": "code",
   "execution_count": null,
   "metadata": {
    "ExecuteTime": {
     "end_time": "2023-06-12T09:54:54.735263Z",
     "start_time": "2023-06-12T09:54:50.877448Z"
    }
   },
   "outputs": [],
   "source": [
    "saturation_curve_strain(count_df, 'YL27')"
   ]
  },
  {
   "cell_type": "code",
   "execution_count": null,
   "metadata": {
    "ExecuteTime": {
     "end_time": "2023-06-12T09:56:37.020751Z",
     "start_time": "2023-06-12T09:56:37.014838Z"
    }
   },
   "outputs": [],
   "source": []
  },
  {
   "cell_type": "code",
   "execution_count": null,
   "metadata": {
    "ExecuteTime": {
     "end_time": "2023-06-12T10:08:42.283371Z",
     "start_time": "2023-06-12T10:08:42.265911Z"
    }
   },
   "outputs": [],
   "source": []
  },
  {
   "cell_type": "code",
   "execution_count": null,
   "metadata": {
    "ExecuteTime": {
     "end_time": "2023-06-12T09:59:43.851972Z",
     "start_time": "2023-06-12T09:59:43.836230Z"
    }
   },
   "outputs": [],
   "source": [
    "i48_d = sd[sd.genome == 'I48'].copy()\n",
    "i48_d['i48_dominant'] = i48_d.perc_genome > 49\n",
    "sd = sd.merge(i48_d[['sample_id', 'i48_dominant']], on='sample_id')"
   ]
  },
  {
   "cell_type": "code",
   "execution_count": null,
   "metadata": {
    "ExecuteTime": {
     "end_time": "2023-06-12T10:04:40.485357Z",
     "start_time": "2023-06-12T10:04:40.476959Z"
    }
   },
   "outputs": [],
   "source": [
    "sample_info = \"\"\"\n",
    "AU647\n",
    "Oligo\n",
    "PBS\n",
    "1\n",
    "AU648\n",
    "Oligo\n",
    "PBS\n",
    "1\n",
    "AU649\n",
    "Oligo\n",
    "PBS\n",
    "1\n",
    "AU650\n",
    "Oligo\n",
    "LPS\n",
    "2\n",
    "AU651\n",
    "Oligo\n",
    "LPS\n",
    "2\n",
    "AU652\n",
    "Oligo\n",
    "LPS\n",
    "2\n",
    "AU653\n",
    "Oligo\n",
    "LPS\n",
    "2\n",
    "AU654\n",
    "Oligo\n",
    "PBS\n",
    "3\n",
    "AU655\n",
    "Oligo\n",
    "PBS\n",
    "3\n",
    "AU656\n",
    "Oligo\n",
    "PBS\n",
    "3\n",
    "AU657\n",
    "Oligo\n",
    "LPS\n",
    "4\n",
    "AU658\n",
    "Oligo\n",
    "LPS\n",
    "4\n",
    "\"\"\".strip().split(\"\\n\")\n",
    "sample_info = pd.DataFrame(np.array(sample_info).reshape(12, 4), columns=['sample_id', 'Mouse', 'Treatment', 'Cage'])"
   ]
  },
  {
   "cell_type": "code",
   "execution_count": null,
   "metadata": {
    "ExecuteTime": {
     "end_time": "2023-06-12T10:05:13.374353Z",
     "start_time": "2023-06-12T10:05:13.362658Z"
    }
   },
   "outputs": [],
   "source": [
    "sd = sd.merge(sample_info[['sample_id', \"Cage\"]], on='sample_id')"
   ]
  },
  {
   "cell_type": "code",
   "execution_count": null,
   "metadata": {
    "ExecuteTime": {
     "end_time": "2023-06-12T10:05:17.484477Z",
     "start_time": "2023-06-12T10:05:17.461913Z"
    }
   },
   "outputs": [],
   "source": [
    "sd"
   ]
  },
  {
   "cell_type": "code",
   "execution_count": null,
   "metadata": {
    "ExecuteTime": {
     "end_time": "2023-06-12T10:06:33.777013Z",
     "start_time": "2023-06-12T10:06:33.637787Z"
    }
   },
   "outputs": [],
   "source": [
    "fig, pc_df = get_strain_pca(count_df, 'YL32', sd)"
   ]
  },
  {
   "cell_type": "code",
   "execution_count": null,
   "metadata": {
    "ExecuteTime": {
     "end_time": "2023-06-12T10:06:35.093182Z",
     "start_time": "2023-06-12T10:06:35.079785Z"
    }
   },
   "outputs": [],
   "source": [
    "fig"
   ]
  },
  {
   "cell_type": "code",
   "execution_count": null,
   "metadata": {
    "ExecuteTime": {
     "end_time": "2023-06-12T10:09:34.121094Z",
     "start_time": "2023-06-12T10:09:33.993802Z"
    }
   },
   "outputs": [],
   "source": [
    "fig, pc_df = get_strain_pca(count_df, 'I48', sd, symbol_by='i48_dominant')\n",
    "fig"
   ]
  },
  {
   "cell_type": "code",
   "execution_count": null,
   "metadata": {
    "ExecuteTime": {
     "end_time": "2023-06-12T10:10:03.598001Z",
     "start_time": "2023-06-12T10:10:03.452294Z"
    }
   },
   "outputs": [],
   "source": [
    "fig, pc_df = get_strain_pca(count_df, 'YL58', sd)\n",
    "fig"
   ]
  },
  {
   "cell_type": "code",
   "execution_count": null,
   "metadata": {
    "ExecuteTime": {
     "end_time": "2023-06-02T13:47:19.081695Z",
     "start_time": "2023-06-02T13:47:18.897952Z"
    }
   },
   "outputs": [],
   "source": [
    "fig, pc_df = get_strain_pca(count_df, 'YL27', sd)\n",
    "fig"
   ]
  },
  {
   "cell_type": "code",
   "execution_count": null,
   "metadata": {
    "ExecuteTime": {
     "end_time": "2023-06-02T13:47:19.263535Z",
     "start_time": "2023-06-02T13:47:19.084481Z"
    }
   },
   "outputs": [],
   "source": [
    "fig, pc_df = get_strain_pca(count_df, 'YL44', sd)\n",
    "fig"
   ]
  },
  {
   "cell_type": "markdown",
   "metadata": {},
   "source": [
    "### Writing out datasets"
   ]
  },
  {
   "cell_type": "code",
   "execution_count": null,
   "metadata": {
    "ExecuteTime": {
     "end_time": "2023-06-02T13:54:54.899539Z",
     "start_time": "2023-06-02T13:54:54.890145Z"
    }
   },
   "outputs": [],
   "source": [
    "def get_strain_df(df, strain, saturation='low'):\n",
    "    strain_df = df[df.genome == strain]\n",
    "    if saturation not in ['low', 'med', 'high']:\n",
    "        return None\n",
    "    if saturation == 'med':\n",
    "        strain_df = strain_df[strain_df.saturation != 'low']\n",
    "    elif saturation == 'high':\n",
    "        strain_df = strain_df[strain_df.saturation == 'high']\n",
    "    strain_df = strain_df[['gene_id', 'sample_id', 'num_reads']].pivot(index='gene_id', columns='sample_id')\n",
    "    strain_df.columns = [f[1] for f in strain_df.columns]\n",
    "    return strain_df"
   ]
  },
  {
   "cell_type": "code",
   "execution_count": null,
   "metadata": {
    "ExecuteTime": {
     "end_time": "2023-06-02T13:58:14.224206Z",
     "start_time": "2023-06-02T13:58:14.192273Z"
    }
   },
   "outputs": [],
   "source": [
    "count_df.sample(10)"
   ]
  },
  {
   "cell_type": "code",
   "execution_count": null,
   "metadata": {
    "ExecuteTime": {
     "end_time": "2023-06-02T13:47:19.693564Z",
     "start_time": "2023-06-02T13:47:19.270467Z"
    }
   },
   "outputs": [],
   "source": [
    "yl32 = get_strain_df(count_df, 'YL32')\n",
    "yl32.to_csv(count_dir/f\"{today}_YL32_all_samples.csv\")\n",
    "\n",
    "i48 = get_strain_df(count_df, 'I48', saturation='high')\n",
    "i48.to_csv(count_dir/f\"{today}_I48_all_samples.csv\")\n",
    "\n",
    "yl58 = get_strain_df(count_df, 'YL58')\n",
    "yl58.to_csv(count_dir/f\"{today}_YL58_all_samples.csv\")\n",
    "\n",
    "yl27 = get_strain_df(count_df, 'YL27')\n",
    "yl27.to_csv(count_dir/f\"{today}_YL27_all_samples.csv\")"
   ]
  },
  {
   "cell_type": "code",
   "execution_count": null,
   "metadata": {
    "ExecuteTime": {
     "end_time": "2023-06-02T13:57:36.023724Z",
     "start_time": "2023-06-02T13:57:35.541565Z"
    }
   },
   "outputs": [],
   "source": [
    "yl32 = get_strain_df(count_df, 'YL32', 'high')\n",
    "yl32.to_csv(count_dir/f\"{today}_YL32_high_samples.csv\")\n",
    "\n",
    "i48 = get_strain_df(count_df, 'I48', 'high')\n",
    "i48.to_csv(count_dir/f\"{today}_I48_high_samples.csv\")\n",
    "\n",
    "yl58 = get_strain_df(count_df, 'YL58', 'high')\n",
    "yl58.to_csv(count_dir/f\"{today}_YL58_high_samples.csv\")\n",
    "\n",
    "yl27 = get_strain_df(count_df, 'YL27', 'high')\n",
    "yl27.to_csv(count_dir/f\"{today}_YL27_high_samples.csv\")"
   ]
  },
  {
   "cell_type": "code",
   "execution_count": null,
   "metadata": {
    "ExecuteTime": {
     "end_time": "2023-06-02T13:58:20.792307Z",
     "start_time": "2023-06-02T13:58:20.397072Z"
    }
   },
   "outputs": [],
   "source": [
    "yl32 = get_strain_df(count_df, 'YL32', 'med')\n",
    "yl32.to_csv(count_dir/f\"{today}_YL32_med_samples.csv\")\n",
    "\n",
    "i48 = get_strain_df(count_df, 'I48', 'med')\n",
    "i48.to_csv(count_dir/f\"{today}_I48_med_samples.csv\")\n",
    "\n",
    "yl58 = get_strain_df(count_df, 'YL58', 'med')\n",
    "yl58.to_csv(count_dir/f\"{today}_YL58_med_samples.csv\")\n",
    "\n",
    "yl27 = get_strain_df(count_df, 'YL27', 'med')\n",
    "yl27.to_csv(count_dir/f\"{today}_YL27_med_samples.csv\")"
   ]
  }
 ],
 "metadata": {
  "kernelspec": {
   "display_name": "Python 3 (ipykernel)",
   "language": "python",
   "name": "python3"
  },
  "language_info": {
   "codemirror_mode": {
    "name": "ipython",
    "version": 3
   },
   "file_extension": ".py",
   "mimetype": "text/x-python",
   "name": "python",
   "nbconvert_exporter": "python",
   "pygments_lexer": "ipython3",
   "version": "3.8.12"
  },
  "toc": {
   "base_numbering": 1,
   "nav_menu": {},
   "number_sections": true,
   "sideBar": true,
   "skip_h1_title": false,
   "title_cell": "Table of Contents",
   "title_sidebar": "Contents",
   "toc_cell": false,
   "toc_position": {},
   "toc_section_display": true,
   "toc_window_display": false
  }
 },
 "nbformat": 4,
 "nbformat_minor": 4
}
