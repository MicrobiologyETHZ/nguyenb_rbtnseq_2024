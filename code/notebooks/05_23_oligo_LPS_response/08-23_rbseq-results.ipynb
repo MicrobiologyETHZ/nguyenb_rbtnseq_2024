{
 "cells": [
  {
   "cell_type": "code",
   "execution_count": null,
   "metadata": {},
   "outputs": [],
   "source": [
    "import pandas as pd\n",
    "import plotly.express as px\n",
    "import numpy as np\n",
    "from pathlib import Path"
   ]
  },
  {
   "cell_type": "markdown",
   "metadata": {},
   "source": []
  },
  {
   "cell_type": "code",
   "execution_count": null,
   "metadata": {},
   "outputs": [],
   "source": [
    "rb_dir = Path(\"/nfs/nas22/fs2202/biol_micro_bioinf_nccr/hardt/nguyenb/tnseq/scratch/final_counts/analysis\")\n",
    "df_list = []\n",
    "for f in rb_dir.rglob(\"*rra_results.csv\"):\n",
    "    df_list.append(pd.read_csv(f).assign(library=f.stem))\n",
    "d1_res = pd.concat(df_list)\n",
    "d1_res = d1_res[d1_res.contrast == 'd1']\n",
    "d1_res = d1_res[d1_res.library == 'library_12_2_rra_results']"
   ]
  },
  {
   "cell_type": "code",
   "execution_count": null,
   "metadata": {},
   "outputs": [],
   "source": [
    "d1_res[d1_res.locus_tag.str.contains('gln')]"
   ]
  },
  {
   "cell_type": "code",
   "execution_count": null,
   "metadata": {},
   "outputs": [],
   "source": [
    "lps_res = pd.read_csv(\"/nfs/shared/_shared/lilith/07_23_Nguyen_Skroon/analysis_feces_inoculum/skroon_analysis_07_2023_feces_inoculum_rra_results.csv\")"
   ]
  },
  {
   "cell_type": "code",
   "execution_count": null,
   "metadata": {},
   "outputs": [],
   "source": [
    "lps_res.head()"
   ]
  },
  {
   "cell_type": "code",
   "execution_count": null,
   "metadata": {},
   "outputs": [],
   "source": [
    "d1_res['Hit'] = (abs(d1_res.LFC)>1) & ((d1_res.neg_selection_fdr < 0.05)|(d1_res.pos_selection_fdr < 0.05))"
   ]
  },
  {
   "cell_type": "code",
   "execution_count": null,
   "metadata": {},
   "outputs": [],
   "source": [
    "d1_res.sample(5)"
   ]
  },
  {
   "cell_type": "code",
   "execution_count": null,
   "metadata": {},
   "outputs": [],
   "source": [
    "d1_med = d1_res.groupby(['contrast', 'locus_tag']).agg({\"LFC\":[\"median\"], \"Hit\":['sum']}).reset_index()\n",
    "d1_med.columns = ['contrast', 'locus_tag', 'LFC', 'Hit']\n",
    "d1_med['Hit'] = d1_med['Hit'].apply(lambda x: min(x, 1))\n",
    "d1_med"
   ]
  },
  {
   "cell_type": "code",
   "execution_count": null,
   "metadata": {},
   "outputs": [],
   "source": [
    "res = d1_med.merge(lps_res, left_on='locus_tag', right_on='Name', suffixes=['_d1', '_lps'])"
   ]
  },
  {
   "cell_type": "code",
   "execution_count": null,
   "metadata": {},
   "outputs": [],
   "source": [
    "res['Hit_lps'] = ((abs(res.LFC_lps)>0.6) & ((res.neg_selection_fdr < 0.05)|(res.pos_selection_fdr < 0.05))).astype(int)"
   ]
  },
  {
   "cell_type": "code",
   "execution_count": null,
   "metadata": {},
   "outputs": [],
   "source": [
    "res['Hit_diff'] = 2*res.Hit + res.Hit_lps"
   ]
  },
  {
   "cell_type": "markdown",
   "metadata": {},
   "source": [
    "2 -> was a hit, not anymore\n",
    "1 -> was not a hit, now is\n",
    "3 -> always a hit"
   ]
  },
  {
   "cell_type": "code",
   "execution_count": null,
   "metadata": {},
   "outputs": [],
   "source": [
    "res[res.locus_tag =='ilvC']"
   ]
  },
  {
   "cell_type": "code",
   "execution_count": null,
   "metadata": {},
   "outputs": [],
   "source": [
    "res['Hit_diff'] = res.Hit_diff.replace({0:'NH', 1:'LPS specific hit', 2:'Not a hit with LPS', 3:'Always a hit'})"
   ]
  },
  {
   "cell_type": "code",
   "execution_count": null,
   "metadata": {},
   "outputs": [],
   "source": [
    "from Bio.KEGG import REST\n",
    "import io"
   ]
  },
  {
   "cell_type": "code",
   "execution_count": null,
   "metadata": {},
   "outputs": [],
   "source": [
    "gene_info = pd.read_table(io.StringIO(REST.kegg_list(\"sey\").read()), header=None)\n",
    "gene_info.columns = ['locus_tag', 'feature', 'DN', 'Description']"
   ]
  },
  {
   "cell_type": "code",
   "execution_count": null,
   "metadata": {},
   "outputs": [],
   "source": [
    "gene_info[gene_info['locus_tag'] == 'sey:SL1344_3149']"
   ]
  },
  {
   "cell_type": "code",
   "execution_count": null,
   "metadata": {},
   "outputs": [],
   "source": [
    "result = REST.kegg_get(\"sey:SL1344_1548\").read()"
   ]
  },
  {
   "cell_type": "code",
   "execution_count": null,
   "metadata": {},
   "outputs": [],
   "source": [
    "res[(res.neg_selection_fdr > 0.05)&(res.LFC_lps > -0.5) & (res.LFC_d1 < -1)]"
   ]
  },
  {
   "cell_type": "code",
   "execution_count": null,
   "metadata": {},
   "outputs": [],
   "source": [
    "for i in res[(res.neg_selection_fdr > 0.05)& (res.LFC_d1 < -1)].Name.values:\n",
    "    print(i)"
   ]
  },
  {
   "cell_type": "code",
   "execution_count": null,
   "metadata": {},
   "outputs": [],
   "source": [
    "res"
   ]
  },
  {
   "cell_type": "code",
   "execution_count": null,
   "metadata": {},
   "outputs": [],
   "source": [
    "of_interest = res.query(\"LFC_d1< -2 & LFC_lps > -0.5\").copy()\n",
    "of_interest['Name'] = of_interest['Name'].str.replace('SL1344_', '')"
   ]
  },
  {
   "cell_type": "code",
   "execution_count": null,
   "metadata": {},
   "outputs": [],
   "source": [
    "of_interest"
   ]
  },
  {
   "cell_type": "code",
   "execution_count": null,
   "metadata": {},
   "outputs": [],
   "source": [
    "def improve_text_position(x):\n",
    "    \"\"\" it is more efficient if the x values are sorted \"\"\"\n",
    "    # fix indentation \n",
    "    positions = ['top right', 'top left', ]  # you can add more: left center ...\n",
    "    return [positions[i % len(positions)] for i in range(len(x))]"
   ]
  },
  {
   "cell_type": "code",
   "execution_count": null,
   "metadata": {},
   "outputs": [],
   "source": [
    "clrs = px.colors.qualitative.G10"
   ]
  },
  {
   "cell_type": "code",
   "execution_count": null,
   "metadata": {},
   "outputs": [],
   "source": [
    "res[res.Name.str.contains('gln')]"
   ]
  },
  {
   "cell_type": "code",
   "execution_count": null,
   "metadata": {},
   "outputs": [],
   "source": [
    "clrs[9]"
   ]
  },
  {
   "cell_type": "code",
   "execution_count": null,
   "metadata": {},
   "outputs": [],
   "source": [
    "import plotly.graph_objects as go\n",
    "fig = go.Figure()\n",
    "\n",
    "# Add traces\n",
    "fig.add_trace(go.Scatter(x=res.LFC_d1, \n",
    "                         y=res.LFC_lps, mode='markers',\n",
    "                         marker=dict(color=clrs[9]),\n",
    "                         text=res.Name,\n",
    "                         #hovertemplate=\"{res.Name}\",\n",
    "                    ))\n",
    "fig.add_trace(go.Scatter(x=of_interest.LFC_d1, \n",
    "                    y=of_interest.LFC_lps,\n",
    "                    \n",
    "                    text = of_interest[\"Name\"],\n",
    "                    \n",
    "                    textposition=\"top center\",\n",
    "                    textfont_size=14,\n",
    "                    \n",
    "                    mode='markers+text',\n",
    "                    marker=dict(\n",
    "            color=clrs[2],\n",
    "            size=12,\n",
    "            line=dict(\n",
    "                color='black',\n",
    "                width=1))\n",
    "                    ))\n",
    "\n",
    "fig.update_layout(width=800, height=800, template='plotly_white', showlegend=False)\n",
    "fig.update_xaxes(title='LFC on Day1', title_font=dict(size=24))\n",
    "fig.update_yaxes(title='LFC after LPS treatment', title_font=dict(size=24))"
   ]
  },
  {
   "cell_type": "code",
   "execution_count": null,
   "metadata": {},
   "outputs": [],
   "source": [
    "res[res.locus_tag.str.contains('clp')]"
   ]
  },
  {
   "cell_type": "code",
   "execution_count": null,
   "metadata": {},
   "outputs": [],
   "source": [
    "gene_info[gene_info.Description.str.contains('catalase')]"
   ]
  },
  {
   "cell_type": "code",
   "execution_count": null,
   "metadata": {},
   "outputs": [],
   "source": [
    "gene_info[gene_info['locus_tag'] == 'sey:SL1344_3813'].Description.values"
   ]
  },
  {
   "cell_type": "code",
   "execution_count": null,
   "metadata": {},
   "outputs": [],
   "source": [
    "px.scatter(res, x='LFC_d1', y='LFC_lps', color='Hit_diff', range_x=[-10, 5], range_y=[-10, 5], \n",
    "           hover_data=['Name'], width=600, height=600)"
   ]
  },
  {
   "cell_type": "code",
   "execution_count": null,
   "metadata": {},
   "outputs": [],
   "source": [
    "ydgA\n",
    "uhpC\n",
    "STM1731\n",
    "recF\n",
    "trpD\n",
    "dcuB\n",
    "fixA\n",
    " "
   ]
  }
 ],
 "metadata": {
  "kernelspec": {
   "display_name": "datavis",
   "language": "python",
   "name": "python3"
  },
  "language_info": {
   "codemirror_mode": {
    "name": "ipython",
    "version": 3
   },
   "file_extension": ".py",
   "mimetype": "text/x-python",
   "name": "python",
   "nbconvert_exporter": "python",
   "pygments_lexer": "ipython3",
   "version": "3.8.12"
  }
 },
 "nbformat": 4,
 "nbformat_minor": 2
}
