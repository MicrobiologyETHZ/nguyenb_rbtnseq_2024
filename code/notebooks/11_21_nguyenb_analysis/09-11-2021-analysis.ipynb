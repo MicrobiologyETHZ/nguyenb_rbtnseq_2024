{
 "cells": [
  {
   "cell_type": "code",
   "execution_count": null,
   "metadata": {
    "ExecuteTime": {
     "end_time": "2021-12-01T12:49:24.543636Z",
     "start_time": "2021-12-01T12:49:20.577686Z"
    }
   },
   "outputs": [],
   "source": [
    "# %load ../snippets/basic_settings.py\n",
    "import pandas as pd\n",
    "import numpy as np\n",
    "import matplotlib.pyplot as plt\n",
    "import seaborn as sns\n",
    "from pathlib import Path\n",
    "\n",
    "\n",
    "sns.set_context(\"notebook\", font_scale=1.1)\n",
    "pd.set_option(\"display.max_columns\", 100)\n",
    "pd.set_option(\"display.max_rows\", 100)\n",
    "plt.rcParams[\"figure.figsize\"] = (16, 12)\n",
    "plt.rcParams['savefig.dpi'] = 200\n",
    "plt.rcParams['figure.autolayout'] = False\n",
    "plt.rcParams['axes.labelsize'] = 18\n",
    "plt.rcParams['axes.titlesize'] = 20\n",
    "plt.rcParams['font.size'] = 16\n",
    "plt.rcParams['lines.linewidth'] = 2.0\n",
    "plt.rcParams['lines.markersize'] = 8\n",
    "plt.rcParams['legend.fontsize'] = 14\n",
    "plt.rcParams['text.usetex'] = False  # True activates latex output in fonts!\n",
    "plt.rcParams['font.family'] = \"serif\"\n",
    "plt.rcParams['font.serif'] = \"cm\"\n",
    "pd.set_option('display.float_format', lambda x: '{:,.2f}'.format(x))"
   ]
  },
  {
   "cell_type": "code",
   "execution_count": null,
   "metadata": {
    "ExecuteTime": {
     "end_time": "2021-12-01T12:50:26.758604Z",
     "start_time": "2021-12-01T12:50:26.613979Z"
    }
   },
   "outputs": [],
   "source": [
    "import scipy\n",
    "from  statsmodels.stats.multitest import multipletests\n",
    "import subprocess\n",
    "import os"
   ]
  },
  {
   "cell_type": "markdown",
   "metadata": {},
   "source": [
    "# Loading the data"
   ]
  },
  {
   "cell_type": "code",
   "execution_count": null,
   "metadata": {
    "ExecuteTime": {
     "end_time": "2021-12-01T12:50:55.253086Z",
     "start_time": "2021-12-01T12:50:54.360263Z"
    }
   },
   "outputs": [],
   "source": [
    "root = Path(\"/nfs/nas22/fs2202/biol_micro_bioinf_nccr/hardt/nguyenb/tnseq\")\n",
    "dataDir = root/\"scratch/08_21/counts/\"\n",
    "controls_file = root/\"data/metadata/controls.txt\"\n",
    "outDir = root/\"scratch/08_21/results/nguyenb\"\n",
    "metafile = root/\"scratch/08_21/complete_metadata.tsv\"\n",
    "cnt_file = outDir/'09-11-2021-annotated_gene_counts_after_qc.csv'\n",
    "cnts = pd.read_csv(cnt_file, index_col=0)\n",
    "cnts['experiment'] = cnts['sampleID'].str.split('_', expand=True)[0]  + \"_\" + cnts['experiment']"
   ]
  },
  {
   "cell_type": "markdown",
   "metadata": {},
   "source": [
    "# Setting up for DESeq2"
   ]
  },
  {
   "cell_type": "markdown",
   "metadata": {},
   "source": [
    "## Creating datasets for DESeq2"
   ]
  },
  {
   "cell_type": "code",
   "execution_count": null,
   "metadata": {
    "ExecuteTime": {
     "end_time": "2021-12-01T12:51:05.862996Z",
     "start_time": "2021-12-01T12:51:05.852810Z"
    }
   },
   "outputs": [],
   "source": [
    "# Takes already pre-filtered dataset, and sets up input for DESeq2\n",
    "# Assume looked through # of samples etc and specified correct design\n",
    "\n",
    "def generate_DE_dataset(exp_df, sample_id='sampleID', feat_id = 'ShortName', cnt_col='barcode_cnt',  \n",
    "                        other_cols = ('mouse', 'day', 'tissue', 'dnaid', 'experiment')):\n",
    "\n",
    "    sample_data = (exp_df[[sample_id] +[c for c in other_cols]]\n",
    "                   .set_index(sample_id).drop_duplicates())\n",
    "    \n",
    "    expr_data = (exp_df[[sample_id, feat_id, cnt_col]].drop_duplicates()\n",
    "                 .pivot(index=feat_id, columns=sample_id)\n",
    "                 .fillna(0))\n",
    "    \n",
    "    expr_data.columns = [c[1] for c in expr_data.columns]\n",
    "    expr_data = expr_data[list(sample_data.index)].reset_index()\n",
    "\n",
    "    return sample_data, expr_data"
   ]
  },
  {
   "cell_type": "markdown",
   "metadata": {},
   "source": [
    "## Running DESeq2 Script"
   ]
  },
  {
   "cell_type": "code",
   "execution_count": null,
   "metadata": {
    "ExecuteTime": {
     "end_time": "2021-12-01T12:51:10.794595Z",
     "start_time": "2021-12-01T12:51:10.784320Z"
    },
    "code_folding": [
     0,
     3,
     5
    ]
   },
   "outputs": [],
   "source": [
    "def run_command(args):\n",
    "    \"\"\"Run command, transfer stdout/stderr\"\"\"\n",
    "    result = subprocess.run(args)\n",
    "    try:\n",
    "        result.check_returncode()\n",
    "    except subprocess.CalledProcessError as e:\n",
    "        raise e\n",
    "        \n",
    "\n",
    "def get_fitness_results(fitness_dir, library, sdf, edf, design, r_path, feat_id ):\n",
    "    sdf_path = Path(fitness_dir) / f\"{library}_sdf.csv\"\n",
    "    edf_path = Path(fitness_dir) / f\"{library}_edf.csv\"\n",
    "    sdf.to_csv(sdf_path)\n",
    "    edf.set_index(feat_id).to_csv(edf_path)\n",
    "    cmd = f'Rscript {r_path} {sdf_path} {edf_path} {library} {design} {fitness_dir}'\n",
    "    print(cmd)\n",
    "    r = run_command(cmd.split())\n",
    "    os.remove(sdf_path)\n",
    "    os.remove(edf_path)"
   ]
  },
  {
   "cell_type": "markdown",
   "metadata": {},
   "source": [
    "## Calcuate z-scores relative to wt tags"
   ]
  },
  {
   "cell_type": "code",
   "execution_count": null,
   "metadata": {
    "ExecuteTime": {
     "end_time": "2021-12-01T12:51:14.102653Z",
     "start_time": "2021-12-01T12:51:14.086352Z"
    },
    "code_folding": [
     0,
     4,
     8,
     15
    ]
   },
   "outputs": [],
   "source": [
    "def sigma(lfcSE):\n",
    "    return np.sqrt(lfcSE.pow(2).sum()) / len(lfcSE)\n",
    "\n",
    "\n",
    "def calculate_2dist_zscore(u1, s1, u2, s2):\n",
    "    return (u1 - u2) / np.sqrt((s1 ** 2) + (s2 ** 2))\n",
    "\n",
    "\n",
    "def to_list(x):\n",
    "    bc_list = list(x)\n",
    "    if len(bc_list) == 1:\n",
    "        return bc_list[0]\n",
    "    return \", \".join(list(set(x)))\n",
    "\n",
    "\n",
    "def calculate_comparisons2(fitness, df, control_file, treat_var='day'):\n",
    "    \"\"\"\n",
    "\n",
    "    fitness: DESeq2 output, log2FoldChange value for each barcode comparing each time point with inoculum\n",
    "    df: df for 1 experiment and 1 dnaid\n",
    "    controls: control meta df?\n",
    "    \"\"\"\n",
    "    days = sorted(list(fitness[treat_var].unique()))\n",
    "    # days.remove('d0')\n",
    "    controls = pd.read_table(control_file, names=['barcode', 'phenotype', 'conc'])\n",
    "\n",
    "    controls['CntrlName']= controls['phenotype'] +'-'+ controls['conc'].astype(str)\n",
    "    controls_bc = controls[controls.phenotype == 'wt'].CntrlName.values\n",
    "    #controls_bc = controls[controls.phenotype == 'wt'].barcode.values\n",
    "    cntrl_df = fitness[fitness.barcode.isin(controls_bc)]\n",
    "\n",
    "    gene_df = fitness[~fitness.barcode.isin(controls_bc)].rename({'barcode':'ShortName'}, axis=1)\n",
    "    gene_mean = gene_df.groupby(['ShortName', treat_var]).agg(\n",
    "            {'log2FoldChange': ['mean', 'median'], 'lfcSE': [sigma]}).reset_index()\n",
    "    gene_mean.columns = ['gene', treat_var, 'gene_FC', 'gene_FC_median', 'sigma']\n",
    "    cntrl_mean = cntrl_df.groupby([treat_var]).agg({'log2FoldChange': ['mean', 'median'], 'lfcSE': [sigma]})\n",
    "    cntrl_mean.columns = ['cntrl_FC', 'cntrl_FC_median', 'cntrl_sigma']\n",
    "    cntrl_mean = cntrl_mean.reset_index()\n",
    "    gene_mean = gene_mean.merge(cntrl_mean, how='left', on=treat_var)\n",
    "    \n",
    "    gene_mean['zscore'] = gene_mean.apply(\n",
    "            lambda x: calculate_2dist_zscore(x['gene_FC'], x['sigma'], x['cntrl_FC'], x['cntrl_sigma']), axis=1)\n",
    "\n",
    "    gene_mean['ci'] = gene_mean.apply(lambda x: 2 ** x['gene_FC'] / 2 ** x['cntrl_FC'], axis=1)\n",
    "    gene_mean = gene_mean[['gene', treat_var, 'gene_FC',  'sigma', 'zscore', 'ci']]\n",
    "    results = gene_mean.copy()\n",
    "    results['pval'] = results.zscore.apply(lambda x: scipy.stats.norm.sf(abs(x)) * 2)\n",
    "    results['padj'] = results.groupby(treat_var).pval.transform(lambda x: multipletests(x, alpha=0.05, method='fdr_bh')[1])\n",
    "    return results\n"
   ]
  },
  {
   "cell_type": "markdown",
   "metadata": {},
   "source": [
    "# Analyzing the data"
   ]
  },
  {
   "cell_type": "code",
   "execution_count": null,
   "metadata": {
    "ExecuteTime": {
     "end_time": "2021-11-24T14:25:32.003213Z",
     "start_time": "2021-11-24T14:22:21.046397Z"
    }
   },
   "outputs": [],
   "source": [
    "libraries = cnts.library.unique()\n",
    "final_results = []\n",
    "final_fitness = []\n",
    "for library in libraries: \n",
    "    lib_cnts = cnts[cnts.library == library]\n",
    "    sdf, edf = generate_DE_dataset(lib_cnts, other_cols = ('mouse', 'day', 'tissue', 'experiment'))\n",
    "    if sdf.experiment.nunique() == 1:`\n",
    "        design = 'day'\n",
    "    else:\n",
    "        design = \"day+experiment\"\n",
    "    print(library)\n",
    "    print(design)\n",
    "    get_fitness_results(outDir, library, sdf, edf, design, \n",
    "                    root/\"code/notebooks/11_21_nguyenb_analysis/DEseq.R\", 'ShortName')\n",
    "    fitness_files = [f for f in outDir.glob(f\"{library}*results*csv\")]\n",
    "    fitness_df = (pd.concat([pd.read_csv(f, sep=' ').assign(day=f.stem.split(\"-\")[-1]) for f in fitness_files])\n",
    "                    .assign(library=library)\n",
    "                    .reset_index()\n",
    "                    .rename({\"index\":\"barcode\"}, axis=1 ))\n",
    "    final_fitness.append(fitness_df)\n",
    "    results = calculate_comparisons2(fitness_df, lib_cnts, controls_file, treat_var='day').assign(library=library)\n",
    "    final_results.append(results)\n",
    "fres = pd.concat(final_results)\n",
    "ffit = pd.concat(final_fitness)"
   ]
  },
  {
   "cell_type": "markdown",
   "metadata": {},
   "source": [
    "# Writing out the results"
   ]
  },
  {
   "cell_type": "code",
   "execution_count": null,
   "metadata": {
    "ExecuteTime": {
     "end_time": "2021-11-24T14:43:37.690775Z",
     "start_time": "2021-11-24T14:43:37.268062Z"
    }
   },
   "outputs": [],
   "source": [
    "(fres[['library', 'gene', 'day', 'zscore', 'pval', 'padj', 'ci']]\n",
    " .sort_values(['library', 'day'])\n",
    " .to_csv(outDir/\"24-11-2021-all-libraries-zscores.csv\"))"
   ]
  },
  {
   "cell_type": "code",
   "execution_count": null,
   "metadata": {
    "ExecuteTime": {
     "end_time": "2021-11-24T14:47:42.137541Z",
     "start_time": "2021-11-24T14:47:41.708586Z"
    }
   },
   "outputs": [],
   "source": [
    "ffit = ffit.rename({'barcode':'gene'}, axis=1)\n",
    "\n",
    "(ffit[['library', 'gene','day', 'baseMean', 'log2FoldChange', 'lfcSE', 'stat', 'pvalue', 'padj']]\n",
    " .sort_values(['library', 'day'])\n",
    " .to_csv(outDir/'24-11-2021-deseq2-output-all-libraries.csv'))\n",
    "\n",
    "\n"
   ]
  }
 ],
 "metadata": {
  "kernelspec": {
   "display_name": "Python 3 (ipykernel)",
   "language": "python",
   "name": "python3"
  },
  "language_info": {
   "codemirror_mode": {
    "name": "ipython",
    "version": 3
   },
   "file_extension": ".py",
   "mimetype": "text/x-python",
   "name": "python",
   "nbconvert_exporter": "python",
   "pygments_lexer": "ipython3",
   "version": "3.8.12"
  },
  "toc": {
   "base_numbering": 1,
   "nav_menu": {},
   "number_sections": true,
   "sideBar": true,
   "skip_h1_title": false,
   "title_cell": "Table of Contents",
   "title_sidebar": "Contents",
   "toc_cell": false,
   "toc_position": {
    "height": "calc(100% - 180px)",
    "left": "10px",
    "top": "150px",
    "width": "282.778px"
   },
   "toc_section_display": true,
   "toc_window_display": true
  }
 },
 "nbformat": 4,
 "nbformat_minor": 4
}
