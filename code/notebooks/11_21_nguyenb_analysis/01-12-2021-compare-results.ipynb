{
 "cells": [
  {
   "cell_type": "code",
   "execution_count": null,
   "metadata": {
    "ExecuteTime": {
     "end_time": "2022-01-20T10:46:03.097622Z",
     "start_time": "2022-01-20T10:45:58.955907Z"
    }
   },
   "outputs": [],
   "source": [
    "# %load ../snippets/basic_settings.py\n",
    "import pandas as pd\n",
    "import numpy as np\n",
    "import matplotlib.pyplot as plt\n",
    "import seaborn as sns\n",
    "from pathlib import Path\n",
    "\n",
    "\n",
    "sns.set_context(\"notebook\", font_scale=1.1)\n",
    "pd.set_option(\"display.max_columns\", 100)\n",
    "pd.set_option(\"display.max_rows\", 100)\n",
    "plt.rcParams[\"figure.figsize\"] = (16, 12)\n",
    "plt.rcParams['savefig.dpi'] = 200\n",
    "plt.rcParams['figure.autolayout'] = False\n",
    "plt.rcParams['axes.labelsize'] = 18\n",
    "plt.rcParams['axes.titlesize'] = 20\n",
    "plt.rcParams['font.size'] = 16\n",
    "plt.rcParams['lines.linewidth'] = 2.0\n",
    "plt.rcParams['lines.markersize'] = 8\n",
    "plt.rcParams['legend.fontsize'] = 14\n",
    "plt.rcParams['text.usetex'] = False  # True activates latex output in fonts!\n",
    "plt.rcParams['font.family'] = \"serif\"\n",
    "plt.rcParams['font.serif'] = \"cm\"\n",
    "pd.set_option('display.float_format', lambda x: '{:,.2f}'.format(x))"
   ]
  },
  {
   "cell_type": "markdown",
   "metadata": {},
   "source": [
    "# Load Data"
   ]
  },
  {
   "cell_type": "code",
   "execution_count": null,
   "metadata": {
    "ExecuteTime": {
     "end_time": "2022-01-20T10:46:03.112170Z",
     "start_time": "2022-01-20T10:46:03.107469Z"
    }
   },
   "outputs": [],
   "source": [
    "root = Path(\"/nfs/nas22/fs2202/biol_micro_bioinf_nccr/hardt/nguyenb/tnseq\")\n",
    "controls_file = root/\"data/metadata/controls.txt\"\n",
    "outDir = root/\"scratch/08_21/results/nguyenb\"\n",
    "metafile = root/\"scratch/08_21/complete_metadata.tsv\"\n",
    "jun_res_file = outDir/\"27_07/26-07-final-results.csv\"\n",
    "nov_res_file = outDir/\"24-11-2021-all-libraries-zscores.csv\""
   ]
  },
  {
   "cell_type": "code",
   "execution_count": null,
   "metadata": {
    "ExecuteTime": {
     "end_time": "2022-01-20T10:46:03.477481Z",
     "start_time": "2022-01-20T10:46:03.114256Z"
    }
   },
   "outputs": [],
   "source": [
    "fres = pd.read_csv(jun_res_file, index_col=0)\n",
    "sres = pd.read_csv(nov_res_file, index_col=0)\n",
    "fres = fres[['gene', 'day', 'z-score', 'zscore_padj', 'CI', 'library']]\n",
    "fres.columns = ['gene', 'day', 'zscore_jun', 'padj_jun', 'ci_jun', 'library']\n",
    "sres = sres[['library', 'gene', 'day', 'zscore', 'padj', 'ci']]\n",
    "sres.columns = ['library', 'gene', 'day', 'zscore_nov', 'padj_nov', 'ci_nov']\n",
    "fdf = fres.merge(sres, how='outer', on=['library', 'day', 'gene'])\n",
    "#fdf = fdf.dropna()"
   ]
  },
  {
   "cell_type": "markdown",
   "metadata": {},
   "source": [
    "# Features by library\n",
    "\n",
    "- I have more features in the Nov results, because did not do any filtering step "
   ]
  },
  {
   "cell_type": "code",
   "execution_count": null,
   "metadata": {
    "ExecuteTime": {
     "end_time": "2021-12-09T11:58:34.950073Z",
     "start_time": "2021-12-09T11:58:34.924798Z"
    }
   },
   "outputs": [],
   "source": [
    "fres.groupby('library').gene.nunique()"
   ]
  },
  {
   "cell_type": "code",
   "execution_count": null,
   "metadata": {
    "ExecuteTime": {
     "end_time": "2021-12-09T11:58:36.918321Z",
     "start_time": "2021-12-09T11:58:36.896006Z"
    }
   },
   "outputs": [],
   "source": [
    "sres.groupby('library').gene.nunique()"
   ]
  },
  {
   "cell_type": "markdown",
   "metadata": {
    "ExecuteTime": {
     "end_time": "2021-12-01T13:02:02.263331Z",
     "start_time": "2021-12-01T13:02:02.257349Z"
    }
   },
   "source": [
    "# Significant Features"
   ]
  },
  {
   "cell_type": "code",
   "execution_count": null,
   "metadata": {
    "ExecuteTime": {
     "end_time": "2021-12-06T15:44:29.920078Z",
     "start_time": "2021-12-06T15:44:29.838965Z"
    }
   },
   "outputs": [],
   "source": [
    "fres.head()"
   ]
  },
  {
   "cell_type": "code",
   "execution_count": null,
   "metadata": {
    "ExecuteTime": {
     "end_time": "2022-01-20T10:46:22.028302Z",
     "start_time": "2022-01-20T10:46:22.007516Z"
    }
   },
   "outputs": [],
   "source": [
    "fres[fres.padj_jun < 0.05].groupby(['library', 'day']).gene.nunique()"
   ]
  },
  {
   "cell_type": "code",
   "execution_count": null,
   "metadata": {
    "ExecuteTime": {
     "end_time": "2022-01-20T10:46:28.920703Z",
     "start_time": "2022-01-20T10:46:28.902932Z"
    }
   },
   "outputs": [],
   "source": [
    "sres[sres.padj_nov < 0.05].groupby(['library', 'day']).gene.nunique()"
   ]
  },
  {
   "cell_type": "code",
   "execution_count": null,
   "metadata": {
    "ExecuteTime": {
     "end_time": "2021-12-06T15:44:30.166892Z",
     "start_time": "2021-12-06T15:44:30.092014Z"
    }
   },
   "outputs": [],
   "source": [
    "fres[fres.padj_jun < 0.05].groupby(['day']).gene.nunique()"
   ]
  },
  {
   "cell_type": "code",
   "execution_count": null,
   "metadata": {
    "ExecuteTime": {
     "end_time": "2021-12-06T15:44:30.439362Z",
     "start_time": "2021-12-06T15:44:30.426308Z"
    }
   },
   "outputs": [],
   "source": [
    "sres[sres.padj_nov < 0.05].groupby(['day']).gene.nunique()"
   ]
  },
  {
   "cell_type": "markdown",
   "metadata": {
    "ExecuteTime": {
     "end_time": "2021-12-01T13:08:57.361123Z",
     "start_time": "2021-12-01T13:08:57.357022Z"
    }
   },
   "source": [
    "# Compare Z-Score and CI by library"
   ]
  },
  {
   "cell_type": "code",
   "execution_count": null,
   "metadata": {
    "ExecuteTime": {
     "end_time": "2021-12-06T15:44:31.110114Z",
     "start_time": "2021-12-06T15:44:31.097628Z"
    }
   },
   "outputs": [],
   "source": [
    "library = 'library_10_2'\n",
    "libraries = list(fdf.library.unique())\n",
    "nrows = len(libraries)"
   ]
  },
  {
   "cell_type": "code",
   "execution_count": null,
   "metadata": {
    "ExecuteTime": {
     "end_time": "2021-12-06T15:44:31.446215Z",
     "start_time": "2021-12-06T15:44:31.438405Z"
    }
   },
   "outputs": [],
   "source": [
    "def compare_results(df, col1, col2, library):\n",
    "    df = df[df.library == library].copy()\n",
    "    for day in df.day.unique():\n",
    "        plt.figure(figsize=(4,4))\n",
    "        plt.title(day)\n",
    "        sns.regplot(data=df[df.day == day], x=col1, y=col2, color='black')\n",
    "        #sns.scatterplot(data = df[df.day == day], x = col1, y = col2)"
   ]
  },
  {
   "cell_type": "code",
   "execution_count": null,
   "metadata": {
    "ExecuteTime": {
     "end_time": "2021-12-06T15:44:31.781573Z",
     "start_time": "2021-12-06T15:44:31.771483Z"
    }
   },
   "outputs": [],
   "source": [
    "fdf['logCI_jun'] = np.log2(fdf.ci_jun)\n",
    "fdf['logCI_nov'] = np.log2(fdf.ci_nov)"
   ]
  },
  {
   "cell_type": "code",
   "execution_count": null,
   "metadata": {
    "ExecuteTime": {
     "end_time": "2021-12-06T15:44:39.255714Z",
     "start_time": "2021-12-06T15:44:32.126808Z"
    }
   },
   "outputs": [],
   "source": [
    "col1='logCI_jun'\n",
    "col2='logCI_nov'\n",
    "fig, axes = plt.subplots(nrows, 4, figsize=(20, nrows*4))\n",
    "axes = axes.flatten()\n",
    "j=0\n",
    "for i, name in enumerate(libraries):\n",
    "    df = fdf[fdf.library == library].copy().sort_values('day')\n",
    "    for day in df.day.unique():\n",
    "        \n",
    "        sns.regplot(data=df[df.day == day], x=col1, y=col2, color='black', ax=axes[j])\n",
    "        axes[j].set_title(f'{name}_{day}')\n",
    "        j+=1\n",
    "\n",
    "plt.subplots_adjust(left=0.125, bottom=0.1, right=0.9, top=0.9, wspace=0.5, hspace=0.5)"
   ]
  },
  {
   "cell_type": "markdown",
   "metadata": {},
   "source": [
    "# Total number of genes identified as hits"
   ]
  },
  {
   "cell_type": "code",
   "execution_count": null,
   "metadata": {
    "ExecuteTime": {
     "end_time": "2021-12-06T15:44:39.276331Z",
     "start_time": "2021-12-06T15:44:39.260632Z"
    }
   },
   "outputs": [],
   "source": [
    "fdf[fdf.padj_jun < 0.05].gene.nunique()"
   ]
  },
  {
   "cell_type": "code",
   "execution_count": null,
   "metadata": {
    "ExecuteTime": {
     "end_time": "2021-12-06T15:44:39.368709Z",
     "start_time": "2021-12-06T15:44:39.277621Z"
    }
   },
   "outputs": [],
   "source": [
    "fdf[fdf.padj_nov < 0.05].gene.nunique()"
   ]
  },
  {
   "cell_type": "code",
   "execution_count": null,
   "metadata": {
    "ExecuteTime": {
     "end_time": "2021-12-06T15:44:39.471550Z",
     "start_time": "2021-12-06T15:44:39.371336Z"
    }
   },
   "outputs": [],
   "source": [
    "fdf.gene.nunique()"
   ]
  },
  {
   "cell_type": "markdown",
   "metadata": {},
   "source": [
    "# Hit summaries"
   ]
  },
  {
   "cell_type": "code",
   "execution_count": null,
   "metadata": {
    "ExecuteTime": {
     "end_time": "2021-12-06T15:44:39.568712Z",
     "start_time": "2021-12-06T15:44:39.473142Z"
    }
   },
   "outputs": [],
   "source": [
    "sres"
   ]
  },
  {
   "cell_type": "code",
   "execution_count": null,
   "metadata": {
    "ExecuteTime": {
     "end_time": "2021-12-09T11:58:59.343189Z",
     "start_time": "2021-12-09T11:58:57.989428Z"
    }
   },
   "outputs": [],
   "source": [
    "num_lib = sres.groupby(['gene', 'day']).agg({'library':['nunique'], \n",
    "                                            'zscore_nov':['median', 'min', 'max'],\n",
    "                                            'ci_nov':['median', 'min', 'max'], \n",
    "                                            'padj_nov': [lambda x: sum(x<0.05)]}).reset_index()\n",
    "num_lib.columns = ['gene', 'day', 'num_libs_present', 'zscore_median', 'zscore_min',\n",
    "                  'zscore_max', 'ci_median', 'ci_min', 'ci_max', 'num_of_times_was_hit']"
   ]
  },
  {
   "cell_type": "code",
   "execution_count": null,
   "metadata": {
    "ExecuteTime": {
     "end_time": "2021-12-06T15:19:17.697680Z",
     "start_time": "2021-12-06T15:19:17.482348Z"
    }
   },
   "outputs": [],
   "source": []
  },
  {
   "cell_type": "markdown",
   "metadata": {},
   "source": [
    "# Need to annotate the final results"
   ]
  },
  {
   "cell_type": "code",
   "execution_count": null,
   "metadata": {
    "ExecuteTime": {
     "end_time": "2021-12-06T15:44:41.289673Z",
     "start_time": "2021-12-06T15:44:41.055636Z"
    }
   },
   "outputs": [],
   "source": [
    "%ls ../../../data/metadata"
   ]
  },
  {
   "cell_type": "code",
   "execution_count": null,
   "metadata": {
    "ExecuteTime": {
     "end_time": "2021-12-09T11:58:49.187568Z",
     "start_time": "2021-12-09T11:58:49.176393Z"
    }
   },
   "outputs": [],
   "source": [
    "def get_feat_id(x):\n",
    "    if x is np.nan:\n",
    "        return x\n",
    "    elif 'gene-' in x or 'cds-' in x:\n",
    "        return x.split(';')[0].split('-')[1]\n",
    "    else:\n",
    "        return x.split(';')[0]\n",
    "    \n",
    "def get_gene_name(x):\n",
    "    if x is np.nan:\n",
    "        return x\n",
    "    elif 'ID=gene' in x:\n",
    "        return x.split('Name=')[1].split(';')[0]\n",
    "    elif 'ID=cds' in x and 'gene=' in x:\n",
    "        return x.split('gene=')[1].split(';')[0]\n",
    "    elif 'ID=cds' in x and 'Parent=' in x:\n",
    "        return x.split('Parent=')[1].split(';')[0].split('-')[1]\n",
    "    else:\n",
    "        return x.split(';')[0].strip('ID=')"
   ]
  },
  {
   "cell_type": "code",
   "execution_count": null,
   "metadata": {
    "ExecuteTime": {
     "end_time": "2021-12-09T11:58:50.928763Z",
     "start_time": "2021-12-09T11:58:50.658752Z"
    }
   },
   "outputs": [],
   "source": [
    "dataDir = \"../../../data/metadata\"\n",
    "gff_file = Path(dataDir)/\"GCA_000210855.2_ASM21085v2_genomic.gff\"\n",
    "emap_file = Path(dataDir)/\"SL1344.emapper.annotations\"\n",
    "\n",
    "gff = pd.read_table(gff_file, skiprows=7, header=None)\n",
    "gff.columns = ['chr', 'loc', 'feat', 'start', 'end', 'dn', 'strand', 'dn2', 'desc']\n",
    "\n",
    "gff['feat_id'] = gff['desc'].apply(get_feat_id)\n",
    "gff['Name'] = gff['desc'].apply(get_gene_name)\n",
    "\n",
    "gene_to_cds = gff[gff.feat == 'CDS'][['feat_id', 'Name', 'start']]\n",
    "emap = pd.read_table(emap_file, skiprows=4)\n",
    "go_map = gene_to_cds.merge(emap, left_on='feat_id', right_on='#query', how='outer')\n",
    "go_map = go_map.drop(go_map.tail(3).index)"
   ]
  },
  {
   "cell_type": "code",
   "execution_count": null,
   "metadata": {
    "ExecuteTime": {
     "end_time": "2021-12-09T11:59:11.627815Z",
     "start_time": "2021-12-09T11:59:11.598818Z"
    }
   },
   "outputs": [],
   "source": [
    "res_ann = num_lib.merge(go_map,  left_on='gene', right_on='Name')"
   ]
  },
  {
   "cell_type": "code",
   "execution_count": null,
   "metadata": {
    "ExecuteTime": {
     "end_time": "2021-12-09T11:59:14.444510Z",
     "start_time": "2021-12-09T11:59:14.106457Z"
    }
   },
   "outputs": [],
   "source": [
    "res_ann.to_csv(outDir/'06-11-2021-final-results-summary-annotated.csv')"
   ]
  },
  {
   "cell_type": "code",
   "execution_count": null,
   "metadata": {
    "ExecuteTime": {
     "end_time": "2021-12-09T11:59:16.059615Z",
     "start_time": "2021-12-09T11:59:16.009432Z"
    }
   },
   "outputs": [],
   "source": [
    "sres_ann = sres.merge(go_map, left_on='gene', right_on='Name')"
   ]
  },
  {
   "cell_type": "code",
   "execution_count": null,
   "metadata": {
    "ExecuteTime": {
     "end_time": "2021-12-09T11:59:18.618739Z",
     "start_time": "2021-12-09T11:59:18.010242Z"
    }
   },
   "outputs": [],
   "source": [
    "sres_ann.to_csv(outDir/'06-11-2021-final-results-annotated.csv')"
   ]
  },
  {
   "cell_type": "code",
   "execution_count": null,
   "metadata": {},
   "outputs": [],
   "source": []
  }
 ],
 "metadata": {
  "kernelspec": {
   "display_name": "Python 3 (ipykernel)",
   "language": "python",
   "name": "python3"
  },
  "language_info": {
   "codemirror_mode": {
    "name": "ipython",
    "version": 3
   },
   "file_extension": ".py",
   "mimetype": "text/x-python",
   "name": "python",
   "nbconvert_exporter": "python",
   "pygments_lexer": "ipython3",
   "version": "3.8.12"
  },
  "toc": {
   "base_numbering": 1,
   "nav_menu": {},
   "number_sections": true,
   "sideBar": true,
   "skip_h1_title": false,
   "title_cell": "Table of Contents",
   "title_sidebar": "Contents",
   "toc_cell": false,
   "toc_position": {},
   "toc_section_display": true,
   "toc_window_display": false
  }
 },
 "nbformat": 4,
 "nbformat_minor": 4
}
