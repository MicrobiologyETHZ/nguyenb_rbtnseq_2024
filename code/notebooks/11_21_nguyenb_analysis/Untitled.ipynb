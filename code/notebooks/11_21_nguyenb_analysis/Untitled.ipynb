{
 "cells": [
  {
   "cell_type": "code",
   "execution_count": null,
   "metadata": {
    "ExecuteTime": {
     "end_time": "2021-12-06T15:41:37.913316Z",
     "start_time": "2021-12-06T15:41:37.470Z"
    }
   },
   "outputs": [],
   "source": [
    "#library(tidyverse)\n",
    "#library(ggplot2)\n",
    "library(patchwork)"
   ]
  },
  {
   "cell_type": "code",
   "execution_count": null,
   "metadata": {
    "ExecuteTime": {
     "end_time": "2021-12-06T15:37:34.986262Z",
     "start_time": "2021-12-06T15:37:34.696Z"
    }
   },
   "outputs": [],
   "source": [
    "getwd()\n",
    "results <- read.csv(\"../../../scratch/08_21/results/nguyenb/06-11-2021-final-results-summary.csv\", row.names=1)\n",
    "results %>% head()"
   ]
  },
  {
   "cell_type": "code",
   "execution_count": null,
   "metadata": {},
   "outputs": [],
   "source": [
    "draw_path<- function(df, term, term_col, title){\n",
    "   path.df <- df %>% filter(grepl(term, !! sym(term_col)))\n",
    "   path.df <- path.df %>% arrange(desc(start)) %>% mutate(gene=factor(gene, levels=unique(gene))) %>% group_by(gene, day) %>% summarise(medCI = log2(median(CI, na.rm=TRUE)), hits=ifelse(sum(ifelse(zscore_padj<0.05, 1,0)) > 0, 'black','white'), medZscore = median(z.score, na.rm=TRUE))\n",
    "  minval = floor(path.df$medZscore %>% min())\n",
    "  maxval = ceiling(path.df$medZscore %>% max())\n",
    "  g <- path.df %>% ggplot(aes(day, gene)) +\n",
    "  geom_point(aes (color=medZscore), shape=15, size=5)+\n",
    "    geom_point(shape = 0,alpha=1, size = 6,colour = path.df$hits)+\n",
    "  labs(x = NULL, y = NULL, col = \"Median Z-score\", title=title, fontsize=8)+\n",
    "  theme_classic() +\n",
    "  scale_color_gradient2(mid=\"#FBFEF9\",low=\"#0C6291\",high=\"#A63446\", limits=c(minval, maxval))+\n",
    "    coord_fixed(ratio=0.8)\n",
    "  g\n",
    "}"
   ]
  },
  {
   "cell_type": "code",
   "execution_count": null,
   "metadata": {
    "ExecuteTime": {
     "end_time": "2021-12-06T15:20:13.617479Z",
     "start_time": "2021-12-06T15:20:13.563Z"
    }
   },
   "outputs": [],
   "source": [
    "draw_path<- function(df, term, term_col, title){\n",
    "   path.df <- df %>% filter(grepl(term, !! sym(term_col)))\n",
    "   path.df <- path.df %>% arrange(desc(start)) %>% mutate(gene=factor(gene, levels=unique(gene))) %>% group_by(gene, day) %>% summarise(medCI = log2(median(CI, na.rm=TRUE)), hits=ifelse(sum(ifelse(zscore_padj<0.05, 1,0)) > 0, 'black','white'), medZscore = median(z.score, na.rm=TRUE))\n",
    "  minval = floor(path.df$medZscore %>% min())\n",
    "  maxval = ceiling(path.df$medZscore %>% max())\n",
    "  g <- path.df %>% ggplot(aes(day, gene)) +\n",
    "  geom_point(aes (color=medZscore), shape=15, size=5)+\n",
    "    geom_point(shape = 0,alpha=1, size = 6,colour = path.df$hits)+\n",
    "  labs(x = NULL, y = NULL, col = \"Median Z-score\", title=title, fontsize=8)+\n",
    "  theme_classic() +\n",
    "  scale_color_gradient2(mid=\"#FBFEF9\",low=\"#0C6291\",high=\"#A63446\", limits=c(minval, maxval))+\n",
    "    coord_fixed(ratio=0.8)\n",
    "  g\n",
    "}"
   ]
  },
  {
   "cell_type": "code",
   "execution_count": null,
   "metadata": {},
   "outputs": [],
   "source": [
    "glyc <- draw_path(results, 'ko00010', 'KEGG_Pathway', 'Glycolysis')"
   ]
  }
 ],
 "metadata": {
  "kernelspec": {
   "display_name": "R",
   "language": "R",
   "name": "ir"
  },
  "language_info": {
   "codemirror_mode": "r",
   "file_extension": ".r",
   "mimetype": "text/x-r-source",
   "name": "R",
   "pygments_lexer": "r",
   "version": "4.1.0"
  },
  "toc": {
   "base_numbering": 1,
   "nav_menu": {},
   "number_sections": true,
   "sideBar": true,
   "skip_h1_title": false,
   "title_cell": "Table of Contents",
   "title_sidebar": "Contents",
   "toc_cell": false,
   "toc_position": {},
   "toc_section_display": true,
   "toc_window_display": false
  }
 },
 "nbformat": 4,
 "nbformat_minor": 4
}
