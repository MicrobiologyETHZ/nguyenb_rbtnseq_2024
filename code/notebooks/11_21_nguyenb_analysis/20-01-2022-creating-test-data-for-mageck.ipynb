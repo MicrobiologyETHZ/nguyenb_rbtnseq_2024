{
 "cells": [
  {
   "cell_type": "code",
   "execution_count": null,
   "metadata": {
    "ExecuteTime": {
     "end_time": "2022-01-20T15:17:18.963539Z",
     "start_time": "2022-01-20T15:17:15.562227Z"
    }
   },
   "outputs": [],
   "source": [
    "# %load ../snippets/basic_settings.py\n",
    "import pandas as pd\n",
    "import numpy as np\n",
    "import matplotlib.pyplot as plt\n",
    "import seaborn as sns\n",
    "from pathlib import Path\n",
    "\n",
    "\n",
    "sns.set_context(\"notebook\", font_scale=1.1)\n",
    "pd.set_option(\"display.max_columns\", 100)\n",
    "pd.set_option(\"display.max_rows\", 100)\n",
    "plt.rcParams[\"figure.figsize\"] = (16, 12)\n",
    "plt.rcParams['savefig.dpi'] = 200\n",
    "plt.rcParams['figure.autolayout'] = False\n",
    "plt.rcParams['axes.labelsize'] = 18\n",
    "plt.rcParams['axes.titlesize'] = 20\n",
    "plt.rcParams['font.size'] = 16\n",
    "plt.rcParams['lines.linewidth'] = 2.0\n",
    "plt.rcParams['lines.markersize'] = 8\n",
    "plt.rcParams['legend.fontsize'] = 14\n",
    "plt.rcParams['font.family'] = \"serif\"\n",
    "plt.rcParams['font.serif'] = \"cm\"\n",
    "pd.set_option('display.float_format', lambda x: '{:,.2f}'.format(x))"
   ]
  },
  {
   "cell_type": "code",
   "execution_count": null,
   "metadata": {
    "ExecuteTime": {
     "end_time": "2022-01-20T15:17:21.908307Z",
     "start_time": "2022-01-20T15:17:21.903351Z"
    }
   },
   "outputs": [],
   "source": [
    "import sys\n",
    "import os\n",
    "import datetime\n",
    "import math"
   ]
  },
  {
   "cell_type": "code",
   "execution_count": null,
   "metadata": {
    "ExecuteTime": {
     "end_time": "2022-01-20T15:17:31.185048Z",
     "start_time": "2022-01-20T15:17:31.179346Z"
    }
   },
   "outputs": [],
   "source": [
    "root = Path(\"/nfs/nas22/fs2202/biol_micro_bioinf_nccr/hardt/nguyenb/tnseq\")\n",
    "dataDir = root/\"scratch/08_21/counts/\"\n",
    "controls_file = root/\"data/metadata/controls.txt\"\n",
    "outDir = root/\"scratch/08_21/results/nguyenb\"\n",
    "metafile = root/\"scratch/08_21/complete_metadata.tsv\""
   ]
  },
  {
   "cell_type": "code",
   "execution_count": null,
   "metadata": {
    "ExecuteTime": {
     "end_time": "2022-01-20T15:17:38.879790Z",
     "start_time": "2022-01-20T15:17:38.725001Z"
    }
   },
   "outputs": [],
   "source": [
    "files = [f for f in dataDir.glob(\"*/*_mapped.csv\")]\n",
    "files_unmapped = [f for f in dataDir.glob(\"*/*_unmapped.csv\")]\n",
    "metadata = pd.read_table(metafile,index_col=0, header=None)\n",
    "metadata.columns = [\"library\", \"experiment\", \"mouse\", \"day\", \"tissue\", \"dnaid\", \"sampleID\"]"
   ]
  },
  {
   "cell_type": "code",
   "execution_count": null,
   "metadata": {
    "ExecuteTime": {
     "end_time": "2022-01-20T15:17:54.798102Z",
     "start_time": "2022-01-20T15:17:48.428197Z"
    }
   },
   "outputs": [],
   "source": [
    "df = pd.concat([pd.read_csv(f, index_col=0).assign(sampleID=f.stem.split('_counts')[0]) for f in files])\n",
    "df = df.merge(metadata, how='left', on='sampleID').dropna(subset=['mouse'])"
   ]
  },
  {
   "cell_type": "code",
   "execution_count": null,
   "metadata": {
    "ExecuteTime": {
     "end_time": "2022-01-20T15:18:03.400387Z",
     "start_time": "2022-01-20T15:17:57.955082Z"
    }
   },
   "outputs": [],
   "source": [
    "df_unmapped = pd.concat([pd.read_csv(f, index_col=0).assign(sampleID=f.stem.split('_counts')[0]) for f in files_unmapped])\n",
    "df_unmapped = df_unmapped.merge(metadata, how='left', on='sampleID').dropna(subset=['mouse'])"
   ]
  },
  {
   "cell_type": "code",
   "execution_count": null,
   "metadata": {
    "ExecuteTime": {
     "end_time": "2022-01-20T15:18:05.457919Z",
     "start_time": "2022-01-20T15:18:05.337045Z"
    }
   },
   "outputs": [],
   "source": [
    "controls = pd.read_table(controls_file, header=None, index_col=0, names=['barcode', 'phenotype', 'conc'])\n",
    "# Create zero df\n",
    "a = np.zeros(shape=(controls.shape[0], df.sampleID.nunique()))\n",
    "zdf = (pd.DataFrame(a,columns=list(df.sampleID.unique()))\n",
    ".set_index(controls.barcode.values)\n",
    ".reset_index()\n",
    ".rename({'index':'barcode'}, axis=1))\n",
    "zdf = (zdf.melt(id_vars=['barcode'],var_name='sampleID', value_name='zero_cnt')\n",
    "       .merge(metadata, on='sampleID')\n",
    "      .drop('zero_cnt', axis=1))"
   ]
  },
  {
   "cell_type": "code",
   "execution_count": null,
   "metadata": {
    "ExecuteTime": {
     "end_time": "2022-01-20T15:18:15.153534Z",
     "start_time": "2022-01-20T15:18:13.495069Z"
    }
   },
   "outputs": [],
   "source": [
    "# Merge zdf with controls to make sure all barcodes are 'present' for each sample\n",
    "# Then merge with unmapped, convert na to 0\n",
    "controls = controls.merge(zdf, on=['barcode'])\n",
    "controls = controls.merge(df_unmapped[['barcode','sampleID', 'barcode_cnt']], how='left', on=['barcode','sampleID'])\n",
    "controls['barcode_cnt'] = controls['barcode_cnt'].fillna(0)\n",
    "controls['ShortName'] = controls['phenotype'] + '-' + controls['conc'].astype(str)\n",
    "df = pd.concat([df, controls])\n",
    "control_barcodes = controls.barcode.unique()"
   ]
  },
  {
   "cell_type": "code",
   "execution_count": null,
   "metadata": {
    "ExecuteTime": {
     "end_time": "2022-01-20T15:18:39.386883Z",
     "start_time": "2022-01-20T15:18:39.375039Z"
    }
   },
   "outputs": [],
   "source": [
    "def calculate_correlation(controls, concentration_col = 'conc', cnt_col='barcode_cnt',\n",
    "                          phenotype_col='phenotype', wt_phenotype='wt',\n",
    "                          for_each='sampleID', cutoff=0.8):\n",
    "    \"\"\"\n",
    "\n",
    "    Calculate correlation on log (counts+1) \n",
    "    Return control_cnts dataframe: contains all the metadata, logCnts, logConc, R, R2 for all the control barcodes\n",
    "    \"\"\"\n",
    "    control_cnts = controls.copy()\n",
    "    control_cnts['logConc'] = np.log10(control_cnts[concentration_col])\n",
    "    control_cnts['logCnts'] = np.log10(control_cnts[cnt_col]+1)\n",
    "    corr_df = control_cnts.groupby([phenotype_col, for_each])[['logConc', 'logCnts']].corr()\n",
    "    corr_df = corr_df.reset_index()\n",
    "    corr_df = corr_df[corr_df['level_2'] == 'logConc'].drop(['level_2', 'logConc'], axis=1)\n",
    "    corr_df.columns = [phenotype_col, for_each, 'R']\n",
    "    control_cnts = control_cnts.merge(corr_df, on = [for_each, phenotype_col])\n",
    "    control_cnts['R2'] = control_cnts.R**2\n",
    "    good_samples = control_cnts[(control_cnts.R2 > cutoff) & (control_cnts.phenotype == wt_phenotype)][for_each].unique()\n",
    "    return control_cnts, good_samples"
   ]
  },
  {
   "cell_type": "code",
   "execution_count": null,
   "metadata": {
    "ExecuteTime": {
     "end_time": "2022-01-20T15:18:41.223894Z",
     "start_time": "2022-01-20T15:18:40.618692Z"
    }
   },
   "outputs": [],
   "source": [
    "control_cnts, good_samples = calculate_correlation(controls, concentration_col = 'conc',\n",
    "                          cnt_col='barcode_cnt', phenotype_col='phenotype',\n",
    "                          for_each='sampleID',  wt_phenotype='wt', cutoff=0.8)"
   ]
  },
  {
   "cell_type": "code",
   "execution_count": null,
   "metadata": {
    "ExecuteTime": {
     "end_time": "2022-01-20T15:18:51.862511Z",
     "start_time": "2022-01-20T15:18:51.442085Z"
    }
   },
   "outputs": [],
   "source": [
    "unenriched = metadata[metadata.mouse.str.contains('unenriched')].sampleID.values\n",
    "good_samples = [s for s in good_samples if s not in unenriched]\n",
    "print(len(good_samples))\n",
    "clean_df = df[df.sampleID.isin(good_samples)]"
   ]
  },
  {
   "cell_type": "code",
   "execution_count": null,
   "metadata": {
    "ExecuteTime": {
     "end_time": "2022-01-20T15:19:04.136407Z",
     "start_time": "2022-01-20T15:19:04.024156Z"
    }
   },
   "outputs": [],
   "source": [
    "magDf = clean_df[clean_df.library == 'library_10_1']\n",
    "print(magDf.experiment.nunique())\n",
    "magDf = magDf[magDf.day.isin(['d0', 'd1'])]\n",
    "print(\",\".join(magDf[magDf.day == 'd0'].sampleID.unique()))\n",
    "print(\",\".join(magDf[magDf.day == 'd1'].sampleID.unique()))\n",
    "magDf2 = magDf[['barcode', 'ShortName', 'barcode_cnt', 'sampleID']]\n",
    "magDf2 = (magDf2.pivot(index=['barcode', 'ShortName'], columns='sampleID', values = 'barcode_cnt')\n",
    "         .reset_index().rename({'barcode':'sgRNA', 'ShortName': 'gene'}, axis=1))\n",
    "\n",
    "\n",
    "negCntrl = magDf[magDf.phenotype == 'wt'].barcode.unique()\n",
    "negCntrl\n",
    "with open(outDir/'mageck_control-sgrna.txt', 'w') as fc:\n",
    "    for c in negCntrl:\n",
    "        fc.write(f\"{c}\\n\")\n",
    "magDf2.to_csv(outDir/'mageck_counts.txt', index=False, sep='\\t')"
   ]
  },
  {
   "cell_type": "code",
   "execution_count": null,
   "metadata": {
    "ExecuteTime": {
     "end_time": "2022-01-20T15:19:13.232525Z",
     "start_time": "2022-01-20T15:19:13.222010Z"
    }
   },
   "outputs": [],
   "source": [
    "negCntrl"
   ]
  },
  {
   "cell_type": "code",
   "execution_count": null,
   "metadata": {
    "ExecuteTime": {
     "end_time": "2022-01-20T15:19:25.433104Z",
     "start_time": "2022-01-20T15:19:25.371931Z"
    }
   },
   "outputs": [],
   "source": [
    "clean_df.groupby('library').experiment.nunique()"
   ]
  },
  {
   "cell_type": "code",
   "execution_count": null,
   "metadata": {
    "ExecuteTime": {
     "end_time": "2022-01-20T15:19:35.230445Z",
     "start_time": "2022-01-20T15:19:35.119261Z"
    }
   },
   "outputs": [],
   "source": [
    "# Second test set with batches\n",
    "magDf = clean_df[clean_df.library == 'library_14_2']\n",
    "print(magDf.experiment.nunique())\n",
    "magDf = magDf[magDf.day.isin(['d0', 'd1'])]\n",
    "print(\",\".join(magDf[magDf.day == 'd0'].sampleID.unique()))\n",
    "print(\",\".join(magDf[magDf.day == 'd1'].sampleID.unique()))\n",
    "magDf2 = magDf[['barcode', 'ShortName', 'barcode_cnt', 'sampleID']]\n",
    "magDf2 = (magDf2.pivot(index=['barcode', 'ShortName'], columns='sampleID', values = 'barcode_cnt')\n",
    "         .reset_index().rename({'barcode':'sgRNA', 'ShortName': 'gene'}, axis=1)\n",
    "          .fillna(0))\n",
    "\n",
    "batchFile = magDf[['sampleID', 'experiment', 'day']].drop_duplicates()\n",
    "batchFile.to_csv(outDir/'mageck_14_2_batch.txt', sep='\\t', index=False)\n",
    "# with open(outDir/'mageck_control-sgrna.txt', 'w') as fc:\n",
    "#     for c in negCntrl:\n",
    "#         fc.write(f\"{c}\\n\")\n",
    "magDf2.to_csv(outDir/'mageck_14_2_counts.txt', index=False, sep='\\t')"
   ]
  },
  {
   "cell_type": "code",
   "execution_count": null,
   "metadata": {
    "ExecuteTime": {
     "end_time": "2022-01-20T15:19:46.783560Z",
     "start_time": "2022-01-20T15:19:46.421346Z"
    }
   },
   "outputs": [],
   "source": [
    "# Third test set without filtering bad samples\n",
    "all_samples = [s for s in df.sampleID.unique() if s not in unenriched]\n",
    "print(len(all_samples))\n",
    "dirty_df = df[df.sampleID.isin(all_samples)]\n",
    "magDf = dirty_df[dirty_df.library == 'library_14_2']\n",
    "print(magDf.experiment.nunique())\n",
    "magDf = magDf[magDf.day.isin(['d0', 'd1'])]\n",
    "print(\",\".join(magDf[magDf.day == 'd0'].sampleID.unique()))\n",
    "print(\",\".join(magDf[magDf.day == 'd1'].sampleID.unique()))\n",
    "magDf2 = magDf[['barcode', 'ShortName', 'barcode_cnt', 'sampleID']]\n",
    "magDf2 = (magDf2.pivot(index=['barcode', 'ShortName'], columns='sampleID', values = 'barcode_cnt')\n",
    "         .reset_index().rename({'barcode':'sgRNA', 'ShortName': 'gene'}, axis=1).fillna(0))\n",
    "\n",
    "\n",
    "negCntrl = magDf[magDf.phenotype == 'wt'].barcode.unique()\n",
    "negCntrl\n",
    "\n",
    "batchFile = magDf[['sampleID', 'experiment', 'day']].drop_duplicates()\n",
    "batchFile.to_csv(outDir/'mageck_dirty_14_2_batch.txt', sep='\\t', index=False)\n",
    "with open(outDir/'mageck_control-sgrna.txt', 'w') as fc:\n",
    "    for c in negCntrl:\n",
    "        fc.write(f\"{c}\\n\")\n",
    "magDf2.to_csv(outDir/'mageck_dirty_counts.txt', index=False, sep='\\t')"
   ]
  },
  {
   "cell_type": "code",
   "execution_count": null,
   "metadata": {},
   "outputs": [],
   "source": []
  }
 ],
 "metadata": {
  "kernelspec": {
   "display_name": "Python 3 (ipykernel)",
   "language": "python",
   "name": "python3"
  },
  "language_info": {
   "codemirror_mode": {
    "name": "ipython",
    "version": 3
   },
   "file_extension": ".py",
   "mimetype": "text/x-python",
   "name": "python",
   "nbconvert_exporter": "python",
   "pygments_lexer": "ipython3",
   "version": "3.8.12"
  },
  "toc": {
   "base_numbering": 1,
   "nav_menu": {},
   "number_sections": true,
   "sideBar": true,
   "skip_h1_title": false,
   "title_cell": "Table of Contents",
   "title_sidebar": "Contents",
   "toc_cell": false,
   "toc_position": {},
   "toc_section_display": true,
   "toc_window_display": false
  }
 },
 "nbformat": 4,
 "nbformat_minor": 4
}
