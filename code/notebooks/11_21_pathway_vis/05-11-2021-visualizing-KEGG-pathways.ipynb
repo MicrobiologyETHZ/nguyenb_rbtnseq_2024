{
 "cells": [
  {
   "cell_type": "code",
   "execution_count": null,
   "metadata": {
    "ExecuteTime": {
     "end_time": "2022-10-13T08:12:11.680361Z",
     "start_time": "2022-10-13T08:12:08.430064Z"
    }
   },
   "outputs": [],
   "source": [
    "# %load ../snippets/basic_settings.py\n",
    "import pandas as pd\n",
    "import numpy as np\n",
    "import matplotlib.pyplot as plt\n",
    "import seaborn as sns\n",
    "from pathlib import Path\n",
    "\n",
    "\n",
    "sns.set_context(\"notebook\", font_scale=1.1)\n",
    "pd.set_option(\"display.max_columns\", 100)\n",
    "pd.set_option(\"display.max_rows\", 100)\n",
    "plt.rcParams[\"figure.figsize\"] = (16, 12)\n",
    "plt.rcParams['savefig.dpi'] = 200\n",
    "plt.rcParams['figure.autolayout'] = False\n",
    "plt.rcParams['axes.labelsize'] = 18\n",
    "plt.rcParams['axes.titlesize'] = 20\n",
    "plt.rcParams['font.size'] = 16\n",
    "plt.rcParams['lines.linewidth'] = 2.0\n",
    "plt.rcParams['lines.markersize'] = 8\n",
    "plt.rcParams['legend.fontsize'] = 14\n",
    "plt.rcParams['text.usetex'] = False  # True activates latex output in fonts!\n",
    "plt.rcParams['font.family'] = \"serif\"\n",
    "plt.rcParams['font.serif'] = \"cm\"\n",
    "pd.set_option('display.float_format', lambda x: '{:,.2f}'.format(x))"
   ]
  },
  {
   "cell_type": "code",
   "execution_count": null,
   "metadata": {
    "ExecuteTime": {
     "end_time": "2022-10-13T08:12:13.309956Z",
     "start_time": "2022-10-13T08:12:12.704243Z"
    }
   },
   "outputs": [],
   "source": [
    "data = pd.read_csv(\"../../../data/10_21_pathway_enrichment/final_results_annotated.csv\", index_col=0)"
   ]
  },
  {
   "cell_type": "code",
   "execution_count": null,
   "metadata": {
    "ExecuteTime": {
     "end_time": "2021-11-05T10:50:31.560049Z",
     "start_time": "2021-11-05T10:50:31.510275Z"
    }
   },
   "outputs": [],
   "source": [
    "df = data.dropna(subset=['KEGG_Pathway']).copy()\n",
    "tcadf = df[df.KEGG_Pathway.str.contains('ko00020')]\n",
    "glycdf = df[df.KEGG_Pathway.str.contains('ko00010')]"
   ]
  },
  {
   "cell_type": "code",
   "execution_count": null,
   "metadata": {
    "ExecuteTime": {
     "end_time": "2021-11-05T10:38:52.981429Z",
     "start_time": "2021-11-05T10:38:52.973283Z"
    }
   },
   "outputs": [],
   "source": [
    "df.columns"
   ]
  },
  {
   "cell_type": "code",
   "execution_count": null,
   "metadata": {
    "ExecuteTime": {
     "end_time": "2021-11-05T10:40:16.169339Z",
     "start_time": "2021-11-05T10:40:16.160439Z"
    }
   },
   "outputs": [],
   "source": [
    "tcadf.groupby('day')['CI'].median()"
   ]
  },
  {
   "cell_type": "code",
   "execution_count": null,
   "metadata": {
    "ExecuteTime": {
     "end_time": "2021-11-05T10:40:30.908816Z",
     "start_time": "2021-11-05T10:40:30.864268Z"
    }
   },
   "outputs": [],
   "source": [
    "tcadf"
   ]
  },
  {
   "cell_type": "code",
   "execution_count": null,
   "metadata": {
    "ExecuteTime": {
     "end_time": "2021-11-05T10:51:04.107837Z",
     "start_time": "2021-11-05T10:51:03.734680Z"
    }
   },
   "outputs": [],
   "source": [
    "sns.lineplot(data=tcadf, x='day', y='z-score', color='black', estimator=\"mean\", ci=95)\n",
    "sns.swarmplot(data=tcadf, x='day', y='z-score', color='black')\n",
    "\n",
    "sns.lineplot(data=glycdf, x='day', y='z-score', color='blue', estimator=\"mean\", ci=95)\n",
    "sns.swarmplot(data=glycdf, x='day', y='z-score', color='blue', alpha=0.3)\n",
    "#plt.yscale('log')"
   ]
  },
  {
   "cell_type": "code",
   "execution_count": null,
   "metadata": {
    "ExecuteTime": {
     "end_time": "2021-11-05T10:56:50.299727Z",
     "start_time": "2021-11-05T10:56:50.291157Z"
    }
   },
   "outputs": [],
   "source": [
    "kegg_pathways = [p.split(',') if len(p) > 1 else p for p in df.KEGG_Pathway.unique() ]\n",
    "kegg_pathways = set([k for l in kegg_pathways for k in l if 'ko' in k])"
   ]
  },
  {
   "cell_type": "code",
   "execution_count": null,
   "metadata": {
    "ExecuteTime": {
     "end_time": "2021-11-05T10:56:59.345018Z",
     "start_time": "2021-11-05T10:56:59.333403Z"
    }
   },
   "outputs": [],
   "source": [
    "kegg_pathways"
   ]
  },
  {
   "cell_type": "code",
   "execution_count": null,
   "metadata": {
    "ExecuteTime": {
     "end_time": "2021-11-05T10:59:00.050768Z",
     "start_time": "2021-11-05T10:59:00.037690Z"
    }
   },
   "outputs": [],
   "source": [
    "gene2path = df[['gene', 'KEGG_Pathway']].drop_duplicates().set_index('gene').to_dict()['KEGG_Pathway']"
   ]
  },
  {
   "cell_type": "code",
   "execution_count": null,
   "metadata": {
    "ExecuteTime": {
     "end_time": "2021-11-05T11:00:08.494339Z",
     "start_time": "2021-11-05T11:00:08.433492Z"
    },
    "code_folding": []
   },
   "outputs": [],
   "source": [
    "path2gene = {}\n",
    "for path in kegg_pathways:\n",
    "    path2gene[path] = []\n",
    "    for gene, values in gene2path.items():\n",
    "        if path in values:\n",
    "            path2gene[path].append(gene)\n",
    "            "
   ]
  },
  {
   "cell_type": "code",
   "execution_count": null,
   "metadata": {
    "ExecuteTime": {
     "end_time": "2021-11-05T11:39:21.602591Z",
     "start_time": "2021-11-05T11:39:21.527817Z"
    }
   },
   "outputs": [],
   "source": [
    "ko2gene_df = pd.concat({k: pd.Series(v) for k, v in path2gene.items()}).reset_index()\n",
    "ko2gene_df = ko2gene_df.drop('level_1', axis=1)\n",
    "ko2gene_df.columns = ['KEGG_Pathway', 'gene']\n",
    "to_keep = ko2gene_df.KEGG_Pathway.value_counts().reset_index()\n",
    "to_keep = to_keep[to_keep.KEGG_Pathway > 4]['index'].values\n",
    "to_keep\n",
    "ko2gene_df = ko2gene_df[ko2gene_df.KEGG_Pathway.isin(to_keep)]\n",
    "ko2gene_df= ko2gene_df.merge(df[['gene', 'day', 'z-score', 'CI']], how='left', on='gene')"
   ]
  },
  {
   "cell_type": "code",
   "execution_count": null,
   "metadata": {
    "ExecuteTime": {
     "end_time": "2021-11-05T11:39:25.966914Z",
     "start_time": "2021-11-05T11:39:25.952025Z"
    }
   },
   "outputs": [],
   "source": [
    "test = ko2gene_df.groupby(['KEGG_Pathway', 'day']).agg({'z-score':['median']}).reset_index()"
   ]
  },
  {
   "cell_type": "code",
   "execution_count": null,
   "metadata": {
    "ExecuteTime": {
     "end_time": "2021-11-05T11:41:59.810808Z",
     "start_time": "2021-11-05T11:41:59.805272Z"
    }
   },
   "outputs": [],
   "source": [
    "test.columns = ['KEGG_Pathway', 'day', 'z-score']"
   ]
  },
  {
   "cell_type": "code",
   "execution_count": null,
   "metadata": {
    "ExecuteTime": {
     "end_time": "2021-11-05T13:00:16.823353Z",
     "start_time": "2021-11-05T13:00:15.419103Z"
    }
   },
   "outputs": [],
   "source": [
    "plt.figure( figsize=(4, 45),)\n",
    "sns.scatterplot(data=test, x=\"day\", y=\"KEGG_Pathway\", size=\"z-score\", hue='z-score', palette = 'Blues_r', legend=False, \n",
    "                sizes=(1, 500), )"
   ]
  },
  {
   "cell_type": "code",
   "execution_count": null,
   "metadata": {
    "ExecuteTime": {
     "end_time": "2021-11-05T11:40:50.178687Z",
     "start_time": "2021-11-05T11:40:50.161396Z"
    }
   },
   "outputs": [],
   "source": [
    "test2 = test.pivot(index='KEGG_Pathway', columns='day').fillna(0)"
   ]
  },
  {
   "cell_type": "code",
   "execution_count": null,
   "metadata": {
    "ExecuteTime": {
     "end_time": "2021-11-05T11:41:02.849191Z",
     "start_time": "2021-11-05T11:41:00.752066Z"
    }
   },
   "outputs": [],
   "source": [
    "sns.clustermap(test2,  col_cluster=False, figsize=(3, 30), yticklabels=True)"
   ]
  },
  {
   "cell_type": "code",
   "execution_count": null,
   "metadata": {
    "ExecuteTime": {
     "end_time": "2021-11-05T11:52:57.982716Z",
     "start_time": "2021-11-05T11:52:57.976379Z"
    }
   },
   "outputs": [],
   "source": [
    "path2gene['ko00190']"
   ]
  },
  {
   "cell_type": "code",
   "execution_count": null,
   "metadata": {
    "ExecuteTime": {
     "end_time": "2022-10-13T08:12:43.625618Z",
     "start_time": "2022-10-13T08:12:42.338580Z"
    }
   },
   "outputs": [],
   "source": [
    "from Bio import SeqIO\n",
    "from Bio.KEGG.REST import *\n",
    "from Bio.KEGG.KGML import KGML_parser\n",
    "from Bio.Graphics.KGML_vis import KGMLCanvas\n",
    "from Bio.Graphics.ColorSpiral import ColorSpiral\n",
    "\n",
    "from IPython.display import Image, HTML\n",
    "\n",
    "import random\n",
    "\n",
    "# A bit of code that will help us display the PDF output\n",
    "def PDF(filename):\n",
    "    return HTML('<iframe src=%s width=700 height=350></iframe>' % filename)\n",
    "\n",
    "# A bit of helper code to shorten long text\n",
    "def head(text, lines=10):\n",
    "    \"\"\" Print the first lines lines of the passed text.\n",
    "    \"\"\"\n",
    "    print ('\\n'.join(text.split('\\n')[:lines] + ['[...]']))"
   ]
  },
  {
   "cell_type": "code",
   "execution_count": null,
   "metadata": {
    "ExecuteTime": {
     "end_time": "2022-10-13T08:14:39.745412Z",
     "start_time": "2022-10-13T08:14:38.187022Z"
    }
   },
   "outputs": [],
   "source": [
    "result = kegg_get(\"sey00061\", \"image\").read()\n",
    "Image(result)"
   ]
  },
  {
   "cell_type": "code",
   "execution_count": null,
   "metadata": {
    "ExecuteTime": {
     "end_time": "2022-10-13T08:17:31.818343Z",
     "start_time": "2022-10-13T08:17:29.010273Z"
    }
   },
   "outputs": [],
   "source": [
    "pathway = KGML_parser.read(kegg_get(\"ko00061\", \"kgml\"))\n"
   ]
  },
  {
   "cell_type": "code",
   "execution_count": null,
   "metadata": {
    "ExecuteTime": {
     "end_time": "2022-10-13T08:17:49.572889Z",
     "start_time": "2022-10-13T08:17:49.565931Z"
    }
   },
   "outputs": [],
   "source": [
    "print(pathway)"
   ]
  },
  {
   "cell_type": "code",
   "execution_count": null,
   "metadata": {
    "ExecuteTime": {
     "end_time": "2022-10-13T08:20:48.110483Z",
     "start_time": "2022-10-13T08:20:46.692595Z"
    }
   },
   "outputs": [],
   "source": [
    "import IPython\n",
    "#canvas.import_imagemap = True\n",
    "canvas = KGMLCanvas(pathway, import_imagemap=True)\n",
    "canvas.draw(\"fab_map.pdf\")\n",
    "IPython.display.IFrame(\"fab_map.pdf\", width=800, height=800)"
   ]
  },
  {
   "cell_type": "code",
   "execution_count": null,
   "metadata": {
    "ExecuteTime": {
     "end_time": "2022-10-13T08:22:27.104434Z",
     "start_time": "2022-10-13T08:22:27.097592Z"
    }
   },
   "outputs": [],
   "source": [
    "print(pathway.orthologs[0])"
   ]
  },
  {
   "cell_type": "code",
   "execution_count": null,
   "metadata": {
    "ExecuteTime": {
     "end_time": "2022-10-13T08:12:46.890552Z",
     "start_time": "2022-10-13T08:12:45.471792Z"
    }
   },
   "outputs": [],
   "source": [
    "pathway = KGML_parser.read(kegg_get(\"ko01130\", \"kgml\"))\n",
    "canvas = KGMLCanvas(pathway, import_imagemap=True)\n",
    "canvas.draw(\"fab_map_with_image.pdf\")\n",
    "PDF(\"fab_map_with_image.pdf\")"
   ]
  },
  {
   "cell_type": "code",
   "execution_count": null,
   "metadata": {
    "ExecuteTime": {
     "end_time": "2022-10-13T08:24:04.918985Z",
     "start_time": "2022-10-13T08:24:03.312444Z"
    }
   },
   "outputs": [],
   "source": [
    "def rgb_to_hex(rgb):\n",
    "    rgb = tuple([int(255*val) for val in rgb])\n",
    "    return '#' + ''.join([hex(val)[2:] for val in rgb]).upper()\n",
    "\n",
    "# Define arbitrary colours\n",
    "colorspiral = ColorSpiral()\n",
    "colorlist = colorspiral.get_colors(len(pathway.orthologs))\n",
    "\n",
    "# Change the colours of ortholog elements\n",
    "for color, element in zip(colorlist, pathway.orthologs):\n",
    "    for graphic in element.graphics:\n",
    "        graphic.bgcolor = rgb_to_hex(color)\n",
    "        \n",
    "canvas = KGMLCanvas(pathway, import_imagemap=True)\n",
    "canvas.draw(\"fab_map_new_colours.pdf\")\n",
    "PDF(\"fab_map_new_colours.pdf\")"
   ]
  },
  {
   "cell_type": "code",
   "execution_count": null,
   "metadata": {
    "ExecuteTime": {
     "end_time": "2022-10-13T08:25:58.423650Z",
     "start_time": "2022-10-13T08:25:54.393916Z"
    }
   },
   "outputs": [],
   "source": [
    "# Use the bacterial diverse environments map\n",
    "pathway = KGML_parser.read(kegg_get(\"ko01120\", \"kgml\"))\n",
    "\n",
    "# Change the widths of reaction entries elements\n",
    "for element in pathway.orthologs:\n",
    "    for graphic in element.graphics:\n",
    "        graphic.width = random.randrange(1, 10, 1)\n",
    "        \n",
    "canvas = KGMLCanvas(pathway, import_imagemap=False)\n",
    "canvas.draw(\"bacteria_mod_widths.pdf\")\n",
    "PDF(\"bacteria_mod_widths.pdf\")"
   ]
  },
  {
   "cell_type": "code",
   "execution_count": null,
   "metadata": {
    "ExecuteTime": {
     "end_time": "2021-11-05T13:57:17.117692Z",
     "start_time": "2021-11-05T13:57:17.112980Z"
    }
   },
   "outputs": [],
   "source": [
    "lps_kos = []\n",
    "for orth in pathway.orthologs:\n",
    "    lps_kos.append(orth.graphics[0].name.strip('...'))"
   ]
  },
  {
   "cell_type": "code",
   "execution_count": null,
   "metadata": {
    "ExecuteTime": {
     "end_time": "2021-11-05T13:57:01.621106Z",
     "start_time": "2021-11-05T13:57:01.587461Z"
    }
   },
   "outputs": [],
   "source": [
    "test = df[['gene', 'KEGG_ko', 'z-score', 'day']].copy()\n",
    "test['KEGG_ko'] = test.KEGG_ko.apply(lambda x: x.split(\";\")[0].strip('ko:') if ';' in x else x.strip(\"ko:\"))\n",
    "td1 = test[test.day == 'd1']"
   ]
  },
  {
   "cell_type": "code",
   "execution_count": null,
   "metadata": {
    "ExecuteTime": {
     "end_time": "2021-11-05T13:57:23.961547Z",
     "start_time": "2021-11-05T13:57:23.946785Z"
    }
   },
   "outputs": [],
   "source": [
    "td1col = td1[td1.KEGG_ko.isin(lps_kos)].groupby('KEGG_ko').median()\n",
    "ncolor = td1col['z-score'].values\n",
    "ncolor = [colors.to_hex(sm.to_rgba(x)) for x in ncolor]\n",
    "td1col['col'] = ncolor\n",
    "ncolor\n",
    "coldict = td1col.to_dict()['col']"
   ]
  },
  {
   "cell_type": "code",
   "execution_count": null,
   "metadata": {
    "ExecuteTime": {
     "end_time": "2021-11-05T13:57:28.738838Z",
     "start_time": "2021-11-05T13:57:28.732804Z"
    }
   },
   "outputs": [],
   "source": [
    "for element in pathway.orthologs:\n",
    "    for graphic in element.graphics:\n",
    "        if graphic.name in coldict.keys():\n",
    "            graphic.bgcolor = coldict[graphic.name]\n",
    "        else:\n",
    "            graphic.bgcolor = '#f7f6ff'"
   ]
  },
  {
   "cell_type": "code",
   "execution_count": null,
   "metadata": {
    "ExecuteTime": {
     "end_time": "2021-11-05T13:57:32.137879Z",
     "start_time": "2021-11-05T13:57:30.755765Z"
    }
   },
   "outputs": [],
   "source": [
    "canvas = KGMLCanvas(pathway, import_imagemap=True)\n",
    "canvas.draw(\"fab_map_new_colours.pdf\")\n",
    "PDF(\"fab_map_new_colours.pdf\")"
   ]
  },
  {
   "cell_type": "code",
   "execution_count": null,
   "metadata": {
    "ExecuteTime": {
     "end_time": "2021-11-05T13:43:12.907801Z",
     "start_time": "2021-11-05T13:43:12.902432Z"
    }
   },
   "outputs": [],
   "source": [
    "# Colors\n",
    "vmin= -9\n",
    "vmax=2\n",
    "cmap = plt.cm.coolwarm\n",
    "from matplotlib import colors\n",
    "divnorm=colors.TwoSlopeNorm(vmin=vmin, vcenter=0., vmax=vmax)\n",
    "sm = plt.cm.ScalarMappable(cmap=cmap,norm=divnorm)"
   ]
  },
  {
   "cell_type": "code",
   "execution_count": null,
   "metadata": {
    "ExecuteTime": {
     "end_time": "2021-11-05T13:48:19.555684Z",
     "start_time": "2021-11-05T13:48:19.550565Z"
    }
   },
   "outputs": [],
   "source": [
    "ncolor[0]"
   ]
  },
  {
   "cell_type": "code",
   "execution_count": null,
   "metadata": {
    "ExecuteTime": {
     "end_time": "2021-11-05T13:48:29.443826Z",
     "start_time": "2021-11-05T13:48:29.435608Z"
    }
   },
   "outputs": [],
   "source": []
  },
  {
   "cell_type": "code",
   "execution_count": null,
   "metadata": {
    "ExecuteTime": {
     "end_time": "2021-11-05T13:37:28.149992Z",
     "start_time": "2021-11-05T13:37:28.145160Z"
    }
   },
   "outputs": [],
   "source": []
  },
  {
   "cell_type": "code",
   "execution_count": null,
   "metadata": {
    "ExecuteTime": {
     "end_time": "2021-11-05T13:37:31.467155Z",
     "start_time": "2021-11-05T13:37:31.461764Z"
    }
   },
   "outputs": [],
   "source": [
    "lps_kos"
   ]
  },
  {
   "cell_type": "code",
   "execution_count": null,
   "metadata": {
    "ExecuteTime": {
     "end_time": "2021-11-05T14:09:34.731327Z",
     "start_time": "2021-11-05T14:09:34.721854Z"
    }
   },
   "outputs": [],
   "source": [
    "path2gene['ko01130']"
   ]
  },
  {
   "cell_type": "code",
   "execution_count": null,
   "metadata": {},
   "outputs": [],
   "source": []
  }
 ],
 "metadata": {
  "kernelspec": {
   "display_name": "Python 3 (ipykernel)",
   "language": "python",
   "name": "python3"
  },
  "language_info": {
   "codemirror_mode": {
    "name": "ipython",
    "version": 3
   },
   "file_extension": ".py",
   "mimetype": "text/x-python",
   "name": "python",
   "nbconvert_exporter": "python",
   "pygments_lexer": "ipython3",
   "version": "3.8.12"
  },
  "toc": {
   "base_numbering": 1,
   "nav_menu": {},
   "number_sections": true,
   "sideBar": true,
   "skip_h1_title": false,
   "title_cell": "Table of Contents",
   "title_sidebar": "Contents",
   "toc_cell": false,
   "toc_position": {},
   "toc_section_display": true,
   "toc_window_display": false
  }
 },
 "nbformat": 4,
 "nbformat_minor": 5
}
