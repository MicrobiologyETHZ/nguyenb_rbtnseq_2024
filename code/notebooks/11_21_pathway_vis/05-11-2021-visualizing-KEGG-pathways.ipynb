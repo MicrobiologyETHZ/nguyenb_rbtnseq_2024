{
 "cells": [
  {
   "cell_type": "code",
   "execution_count": null,
   "metadata": {
    "ExecuteTime": {
     "end_time": "2022-11-03T13:14:11.151333Z",
     "start_time": "2022-11-03T13:13:56.840996Z"
    }
   },
   "outputs": [],
   "source": [
    "# %load ../snippets/basic_settings.py\n",
    "import pandas as pd\n",
    "import numpy as np\n",
    "import matplotlib.pyplot as plt\n",
    "import seaborn as sns\n",
    "from pathlib import Path\n",
    "import matplotlib\n",
    "\n",
    "sns.set_context(\"notebook\", font_scale=1.1)\n",
    "pd.set_option(\"display.max_columns\", 100)\n",
    "pd.set_option(\"display.max_rows\", 100)\n",
    "plt.rcParams[\"figure.figsize\"] = (16, 12)\n",
    "plt.rcParams['savefig.dpi'] = 200\n",
    "plt.rcParams['figure.autolayout'] = False\n",
    "plt.rcParams['axes.labelsize'] = 18\n",
    "plt.rcParams['axes.titlesize'] = 20\n",
    "plt.rcParams['font.size'] = 16\n",
    "plt.rcParams['lines.linewidth'] = 2.0\n",
    "plt.rcParams['lines.markersize'] = 8\n",
    "plt.rcParams['legend.fontsize'] = 14\n",
    "plt.rcParams['text.usetex'] = False  # True activates latex output in fonts!\n",
    "plt.rcParams['font.family'] = \"serif\"\n",
    "plt.rcParams['font.serif'] = \"cm\"\n",
    "pd.set_option('display.float_format', lambda x: '{:,.2f}'.format(x))"
   ]
  },
  {
   "cell_type": "markdown",
   "metadata": {},
   "source": [
    "# Biopython KEGG API "
   ]
  },
  {
   "cell_type": "code",
   "execution_count": null,
   "metadata": {
    "ExecuteTime": {
     "end_time": "2022-11-03T13:14:12.430198Z",
     "start_time": "2022-11-03T13:14:11.156833Z"
    }
   },
   "outputs": [],
   "source": [
    "from Bio import SeqIO\n",
    "from Bio.KEGG.REST import *\n",
    "from Bio.KEGG.KGML import KGML_parser\n",
    "from Bio.Graphics.KGML_vis import KGMLCanvas\n",
    "from Bio.Graphics.ColorSpiral import ColorSpiral\n",
    "\n",
    "from IPython.display import Image, HTML\n",
    "import IPython\n",
    "import random\n",
    "\n",
    "# A bit of code that will help us display the PDF output\n",
    "def PDF(filename):\n",
    "    return HTML('<iframe src=%s width=700 height=350></iframe>' % filename)\n",
    "\n",
    "# A bit of helper code to shorten long text\n",
    "def head(text, lines=10):\n",
    "    \"\"\" Print the first lines lines of the passed text.\n",
    "    \"\"\"\n",
    "    print ('\\n'.join(text.split('\\n')[:lines] + ['[...]']))"
   ]
  },
  {
   "cell_type": "code",
   "execution_count": null,
   "metadata": {
    "ExecuteTime": {
     "end_time": "2022-11-03T13:14:15.055732Z",
     "start_time": "2022-11-03T13:14:12.434653Z"
    }
   },
   "outputs": [],
   "source": [
    "all_pathways = kegg_list(\"pathway\").read().strip().split('\\n')\n",
    "all_pathways = [c.split(\"\\t\") for c in all_pathways]\n",
    "all_pathways_map = {c[0].split(':')[1]: c[1] for c in all_pathways}\n",
    "all_pathways_ko = {c[0].split(':')[1].replace('map', 'ko'): c[1] for c in all_pathways}"
   ]
  },
  {
   "cell_type": "code",
   "execution_count": null,
   "metadata": {
    "ExecuteTime": {
     "end_time": "2022-11-03T13:14:15.063758Z",
     "start_time": "2022-11-03T13:14:15.059573Z"
    }
   },
   "outputs": [],
   "source": [
    "scratchDir = Path('/nfs/nas22/fs2202/biol_micro_bioinf_nccr/hardt/nguyenb/tnseq/scratch/10_22')"
   ]
  },
  {
   "cell_type": "code",
   "execution_count": null,
   "metadata": {
    "ExecuteTime": {
     "end_time": "2022-10-21T09:46:49.962350Z",
     "start_time": "2022-10-21T09:46:49.925485Z"
    }
   },
   "outputs": [],
   "source": [
    "# pd.DataFrame.from_dict(all_pathways_ko, orient='index').to_csv(scratchDir/'20-10-22-kegg-pathway-list-ko.csv',\n",
    "#                                                                header=None)"
   ]
  },
  {
   "cell_type": "code",
   "execution_count": null,
   "metadata": {
    "ExecuteTime": {
     "end_time": "2022-10-21T09:46:54.070197Z",
     "start_time": "2022-10-21T09:46:54.057488Z"
    }
   },
   "outputs": [],
   "source": [
    "# pd.DataFrame.from_dict(all_pathways_map, orient='index').to_csv(scratchDir/'20-10-22-kegg-pathway-list-map.csv',\n",
    "#                                                               header=None)"
   ]
  },
  {
   "cell_type": "markdown",
   "metadata": {},
   "source": [
    "# Get all pathways for an organism "
   ]
  },
  {
   "cell_type": "code",
   "execution_count": null,
   "metadata": {
    "ExecuteTime": {
     "end_time": "2022-11-03T15:02:18.460046Z",
     "start_time": "2022-11-03T15:02:15.948026Z"
    }
   },
   "outputs": [],
   "source": [
    "organism = 'sey'\n",
    "result = pd.read_table(io.StringIO(kegg_list(\"pathway\", organism).read()), header=None)\n",
    "result.columns = [f'KEGG_Pathway', 'Pathway_Description']\n",
    "result[f'KEGG_Pathway'] = result[f'KEGG_Pathway'].str.split(\":\").str.get(1)\n",
    "result['Pathway_Description'] = result['Pathway_Description'].str.split(\" - \").str.get(0)\n",
    "result['KEGG_Display'] = result[f'KEGG_Pathway'] + \":\" + result['Pathway_Description']\n",
    "path_map = result.set_index('KEGG_Display').to_dict()\n",
    "# todo create a column that combines path and description"
   ]
  },
  {
   "cell_type": "code",
   "execution_count": null,
   "metadata": {
    "ExecuteTime": {
     "end_time": "2022-11-03T15:02:20.273087Z",
     "start_time": "2022-11-03T15:02:20.260221Z"
    }
   },
   "outputs": [],
   "source": [
    "path_map['KEGG_Pathway']"
   ]
  },
  {
   "cell_type": "code",
   "execution_count": null,
   "metadata": {
    "ExecuteTime": {
     "end_time": "2022-11-03T15:37:57.913544Z",
     "start_time": "2022-11-03T15:37:57.883284Z"
    }
   },
   "outputs": [],
   "source": [
    "# User chose a pathway\n",
    "pathway = 'sey00010'"
   ]
  },
  {
   "cell_type": "markdown",
   "metadata": {},
   "source": [
    "# Drawing a map"
   ]
  },
  {
   "cell_type": "markdown",
   "metadata": {},
   "source": [
    "## Load the result files"
   ]
  },
  {
   "cell_type": "code",
   "execution_count": null,
   "metadata": {
    "ExecuteTime": {
     "end_time": "2022-11-03T13:37:16.432268Z",
     "start_time": "2022-11-03T13:37:16.059626Z"
    }
   },
   "outputs": [],
   "source": [
    "data = pd.read_csv(scratchDir/\"control_norm_analysis/26-10-22-annotated-results.csv\")\n",
    "data['hit'] = ((abs(data.LFC) > 1) & (data.fdr<0.05))\n",
    "hitSummary = (data.groupby(['Name', 'contrast']).hit.sum()\n",
    "                  .reset_index()\n",
    "                  .rename({'hit':'hitSum'}, axis=1))\n",
    "data = (data.merge(hitSummary, on=['Name','contrast' ], how='outer'))\n",
    "data['hitStar'] = data['hitSum'].apply(lambda x: '*' if x > 0 else '')\n",
    "data['NameForMap'] = data['Name'] + data['hitStar'] + \" (\" + data['LFC_median'].round(2).astype(str) +\")\"\n",
    "data_short = data[['Name', 'contrast', 'locus_tag', 'NameForMap', 'LFC_median']].drop_duplicates()\n",
    "data_short = data[['Name', 'contrast', 'locus_tag', 'NameForMap', 'LFC_median']].drop_duplicates()"
   ]
  },
  {
   "cell_type": "code",
   "execution_count": null,
   "metadata": {
    "ExecuteTime": {
     "end_time": "2022-11-03T13:38:54.904988Z",
     "start_time": "2022-11-03T13:38:54.863474Z"
    }
   },
   "outputs": [],
   "source": [
    "\n",
    "data_short"
   ]
  },
  {
   "cell_type": "markdown",
   "metadata": {},
   "source": [
    "## Define color map"
   ]
  },
  {
   "cell_type": "code",
   "execution_count": null,
   "metadata": {
    "ExecuteTime": {
     "end_time": "2022-11-03T13:47:59.494435Z",
     "start_time": "2022-11-03T13:47:55.476300Z"
    }
   },
   "outputs": [],
   "source": [
    "norm = matplotlib.colors.Normalize(vmin=-6, vmax=6, clip=True)\n",
    "mapper = matplotlib.cm.ScalarMappable(norm=norm, cmap=sns.diverging_palette(220, 20, as_cmap=True))\n",
    "data_short['hex'] = data_short.LFC_median.apply(mapper.to_rgba).apply(matplotlib.colors.to_hex)\n",
    "data_short['hex'] = data_short.hex.str.replace('#000000', \"#7c7d83\")"
   ]
  },
  {
   "cell_type": "code",
   "execution_count": null,
   "metadata": {
    "ExecuteTime": {
     "end_time": "2022-11-03T15:38:03.086283Z",
     "start_time": "2022-11-03T15:38:03.052451Z"
    }
   },
   "outputs": [],
   "source": [
    "# Choose day\n",
    "day = 'd1'\n",
    "data_day = data_short[data_short.contrast == day]\n",
    "ko_dict = data_day.set_index('locus_tag').to_dict()"
   ]
  },
  {
   "cell_type": "code",
   "execution_count": null,
   "metadata": {
    "ExecuteTime": {
     "end_time": "2022-11-03T15:38:03.466379Z",
     "start_time": "2022-11-03T15:38:03.458894Z"
    }
   },
   "outputs": [],
   "source": [
    "ko_dict['NameForMap']['SL1344_3685']"
   ]
  },
  {
   "cell_type": "code",
   "execution_count": null,
   "metadata": {
    "ExecuteTime": {
     "end_time": "2022-11-03T15:38:07.770172Z",
     "start_time": "2022-11-03T15:38:07.763130Z"
    }
   },
   "outputs": [],
   "source": [
    "ko_dict['hex']['SL1344_3685']"
   ]
  },
  {
   "cell_type": "code",
   "execution_count": null,
   "metadata": {
    "ExecuteTime": {
     "end_time": "2022-11-03T15:43:33.178779Z",
     "start_time": "2022-11-03T15:43:33.151510Z"
    }
   },
   "outputs": [],
   "source": [
    "ko_dict['hex']"
   ]
  },
  {
   "cell_type": "markdown",
   "metadata": {},
   "source": [
    "# Load the map KGML"
   ]
  },
  {
   "cell_type": "code",
   "execution_count": null,
   "metadata": {
    "ExecuteTime": {
     "end_time": "2022-11-03T14:28:52.765826Z",
     "start_time": "2022-11-03T14:28:52.759317Z"
    }
   },
   "outputs": [],
   "source": []
  },
  {
   "cell_type": "code",
   "execution_count": null,
   "metadata": {
    "ExecuteTime": {
     "end_time": "2022-11-03T15:38:14.579703Z",
     "start_time": "2022-11-03T15:38:10.515301Z"
    }
   },
   "outputs": [],
   "source": [
    "pathwayKGML = KGML_parser.read(kegg_get(pathway, \"kgml\"))\n",
    "canvas = KGMLCanvas(pathwayKGML, import_imagemap=True)\n",
    "fname = f\"{pathway}_{day}_map.pdf\"\n",
    "canvas.draw(fname)\n",
    "IPython.display.IFrame(fname, width=1000, height=1000)"
   ]
  },
  {
   "cell_type": "code",
   "execution_count": null,
   "metadata": {
    "ExecuteTime": {
     "end_time": "2022-11-03T14:37:37.748312Z",
     "start_time": "2022-11-03T14:37:36.232513Z"
    }
   },
   "outputs": [],
   "source": [
    "pathwayKGML = KGML_parser.read(kegg_get(pathway, \"kgml\"))\n",
    "canvas = KGMLCanvas(pathwayKGML, import_imagemap=True)\n",
    "pathGeneNames = [gene.name.split() for gene in pathwayKGML.genes]\n",
    "pathGeneNames = [gene.split(\":\")[1] for sublist in pathGeneNames for gene in sublist]\n",
    "# -> use this for the heatmaps"
   ]
  },
  {
   "cell_type": "code",
   "execution_count": null,
   "metadata": {
    "ExecuteTime": {
     "end_time": "2022-11-03T14:38:15.369312Z",
     "start_time": "2022-11-03T14:38:15.363773Z"
    }
   },
   "outputs": [],
   "source": [
    "sorted(pathGeneNames)"
   ]
  },
  {
   "cell_type": "code",
   "execution_count": null,
   "metadata": {
    "ExecuteTime": {
     "end_time": "2022-11-03T15:45:34.781054Z",
     "start_time": "2022-11-03T15:45:31.756904Z"
    }
   },
   "outputs": [],
   "source": [
    "pathwayKGML = KGML_parser.read(kegg_get(pathway, \"kgml\"))\n",
    "canvas = KGMLCanvas(pathwayKGML, import_imagemap=True)\n",
    "\n",
    "for element in pathwayKGML.genes:\n",
    "    color = None\n",
    "    name = None\n",
    "    node_kos = [e.split(\":\")[1] for e in element.name.split()]\n",
    "    names = []\n",
    "    for ko in node_kos:\n",
    "        color = ko_dict['hex'].get(ko, color)\n",
    "        name = ko_dict['NameForMap'].get(ko, name)\n",
    "    for graphic in element.graphics:\n",
    "        if color is not None:\n",
    "            graphic.bgcolor = color\n",
    "            graphic.name = name\n",
    "fname = f\"{pathway}_{day}_map.pdf\"\n",
    "canvas.draw(fname)\n",
    "IPython.display.IFrame(fname, width=1000, height=1000)"
   ]
  },
  {
   "cell_type": "code",
   "execution_count": null,
   "metadata": {},
   "outputs": [],
   "source": []
  },
  {
   "cell_type": "markdown",
   "metadata": {
    "ExecuteTime": {
     "end_time": "2022-10-20T12:44:06.173878Z",
     "start_time": "2022-10-20T12:44:06.163836Z"
    }
   },
   "source": [
    "0. Create Naming column:\n",
    "    Add star to name if was hit at least in 1 library. Define hit as LFC > 1 and fdf < 0.05\n",
    "\n",
    "For each day:\n",
    "  For each pathway:\n",
    "\n",
    "1. Subset to that day + missing genes\n",
    "2. Define colorscale based on median LFC\n",
    "3.  \n",
    "4. Display name as Name*, LFC\n",
    "5. Save map\n"
   ]
  },
  {
   "cell_type": "code",
   "execution_count": null,
   "metadata": {
    "ExecuteTime": {
     "end_time": "2022-10-24T11:53:11.683099Z",
     "start_time": "2022-10-24T11:53:10.546778Z"
    }
   },
   "outputs": [],
   "source": [
    "data = pd.read_csv(scratchDir/\"control_norm_analysis/24-10-22-annotated-results.csv\")\n",
    "data['hit'] = ((abs(data.LFC) > 1) & (data.fdr<0.05))\n",
    "hitSummary = (data.groupby(['Name', 'contrast']).hit.sum()\n",
    "                  .reset_index()\n",
    "                  .rename({'hit':'hitSum'}, axis=1))\n",
    "data = (data.merge(hitSummary, on=['Name','contrast' ], how='outer'))\n",
    "data['hitStar'] = data['hitSum'].apply(lambda x: '*' if x > 0 else '')\n",
    "data['NameForMap'] = data['Name'] + data['hitStar'] + \" (\" + data['LFC_median'].round(2).astype(str) +\")\"\n",
    "data['KEGG_Pathway'] = data[\"KEGG_Pathway\"].fillna('-')"
   ]
  },
  {
   "cell_type": "code",
   "execution_count": null,
   "metadata": {
    "ExecuteTime": {
     "end_time": "2022-10-20T14:23:54.198029Z",
     "start_time": "2022-10-20T14:23:54.178002Z"
    }
   },
   "outputs": [],
   "source": [
    "all_pathways_ko"
   ]
  },
  {
   "cell_type": "code",
   "execution_count": null,
   "metadata": {
    "ExecuteTime": {
     "end_time": "2022-10-24T11:54:38.962915Z",
     "start_time": "2022-10-24T11:54:38.957516Z"
    }
   },
   "outputs": [],
   "source": [
    "day = 'd4'\n",
    "pathwayName = 'ko00190'"
   ]
  },
  {
   "cell_type": "code",
   "execution_count": null,
   "metadata": {
    "ExecuteTime": {
     "end_time": "2022-10-24T11:55:43.741252Z",
     "start_time": "2022-10-24T11:55:43.579641Z"
    }
   },
   "outputs": [],
   "source": [
    "pDf = data[(data.KEGG_Pathway.str.contains(pathwayName)) & ((data.contrast == day) | (data.contrast.isnull()))].copy()\n",
    "#minima = -max(abs(pDf.LFC_median.min()), abs(pDf.LFC_median.max()))\n",
    "#maxima = max(abs(pDf.LFC_median.min()), abs(pDf.LFC_median.max()))\n",
    "norm = matplotlib.colors.Normalize(vmin=-6, vmax=6, clip=True)\n",
    "mapper = matplotlib.cm.ScalarMappable(norm=norm, cmap=sns.diverging_palette(220, 20, as_cmap=True))\n",
    "pDf['hex'] = pDf.LFC_median.apply(mapper.to_rgba).apply(matplotlib.colors.to_hex)\n",
    "ko_map = (pDf[['Name','LFC_median', 'KEGG_ko', 'hex', 'NameForMap']]\n",
    "          .replace('-', np.nan)\n",
    "          .dropna(subset=['KEGG_ko'])\n",
    "          .drop_duplicates())\n",
    "new_cols = ko_map.KEGG_ko.str.split(\",\", expand=True)\n",
    "ko_map = pd.concat([ko_map, new_cols], axis=1)\n",
    "ko_map = (ko_map.melt(id_vars=['LFC_median', 'NameForMap', 'hex'], value_vars=new_cols.columns, value_name='KO')[['NameForMap', 'LFC_median', 'KO', 'hex']]\n",
    "           .dropna(subset=['KO']))\n",
    "ko_map['hex'] = ko_map.hex.str.replace('#000000', \"#7c7d83\")\n",
    "ko_dict = ko_map.set_index(\"KO\").to_dict()\n"
   ]
  },
  {
   "cell_type": "code",
   "execution_count": null,
   "metadata": {
    "ExecuteTime": {
     "end_time": "2022-10-24T11:57:10.889986Z",
     "start_time": "2022-10-24T11:57:07.645235Z"
    }
   },
   "outputs": [],
   "source": [
    "pathway = KGML_parser.read(kegg_get(pathwayName, \"kgml\"))\n",
    "canvas = KGMLCanvas(pathway, import_imagemap=True)\n",
    "\n",
    "for element in pathway.orthologs:\n",
    "    color = None\n",
    "    name = None\n",
    "    node_kos = element.name.split()\n",
    "    names = []\n",
    "    for ko in node_kos:\n",
    "        \n",
    "        color = ko_dict['hex'].get(ko, color)\n",
    "        name = ko_dict['NameForMap'].get(ko, name)\n",
    "\n",
    "    for graphic in element.graphics:\n",
    "        if color is not None:\n",
    "            graphic.bgcolor = color\n",
    "            graphic.name = name\n",
    "        else:\n",
    "            graphic.bgcolor = '#FFFFFF'\n",
    "    \n",
    "fname = f\"{pathwayName}_{day}_map.pdf\"\n",
    "canvas.draw(fname)\n",
    "IPython.display.IFrame(fname, width=1000, height=1000)"
   ]
  },
  {
   "cell_type": "code",
   "execution_count": null,
   "metadata": {
    "ExecuteTime": {
     "end_time": "2022-10-20T12:40:22.696662Z",
     "start_time": "2022-10-20T12:40:22.692222Z"
    }
   },
   "outputs": [],
   "source": [
    "#pathway = KGML_parser.read(kegg_get(\"ko00061\", \"kgml\"))\n",
    "# pathway = KGML_parser.read(kegg_get(\"ko01130\", \"kgml\"))\n",
    "# canvas = KGMLCanvas(pathway, import_imagemap=True)\n",
    "# canvas.draw(\"fab_map_with_image.pdf\")\n",
    "# PDF(\"fab_map_with_image.pdf\")"
   ]
  },
  {
   "cell_type": "code",
   "execution_count": null,
   "metadata": {},
   "outputs": [],
   "source": []
  },
  {
   "cell_type": "code",
   "execution_count": null,
   "metadata": {
    "ExecuteTime": {
     "end_time": "2022-10-20T11:40:52.569492Z",
     "start_time": "2022-10-20T11:40:52.509515Z"
    }
   },
   "outputs": [],
   "source": [
    "ko_map = data[(data.day == 'd1') | (data.day.isnull())][['Name','LFC_mean', 'KEGG_ko']].replace('-', np.nan).dropna(subset=['KEGG_ko'])\n",
    "new_cols = ko_map.KEGG_ko.str.split(\",\", expand=True)\n",
    "ko_map = pd.concat([ko_map, new_cols], axis=1)\n",
    "ko_map = (ko_map.melt(id_vars=['LFC_mean', 'Name'], value_vars=new_cols.columns, value_name='KO')[['Name', 'LFC_mean', 'KO']]\n",
    "           .dropna(subset=['KO']))\n",
    "\n",
    "def assign_color(x):\n",
    "\n",
    "    if x > 1:\n",
    "        return '#fa5282'\n",
    "    elif x < -1:\n",
    "        return '#4ab548' \n",
    "    elif -1<x<1:\n",
    "        return '#faefbe'\n",
    "    else:\n",
    "        return '#0daeff'\n",
    "    \n",
    "ko_map['hex'] = ko_map.LFC_mean.apply(assign_color )\n",
    "ko_map[\"Name2\"] = ko_map['Name'] + \", \" + ko_map['LFC_mean'].round(2).astype(str)\n",
    "komap_dict = ko_map[['KO', 'hex', 'Name2']].set_index(['KO']).to_dict()"
   ]
  },
  {
   "cell_type": "code",
   "execution_count": null,
   "metadata": {
    "ExecuteTime": {
     "end_time": "2022-10-20T11:40:55.225645Z",
     "start_time": "2022-10-20T11:40:55.206730Z"
    }
   },
   "outputs": [],
   "source": [
    "ko_map"
   ]
  },
  {
   "cell_type": "code",
   "execution_count": null,
   "metadata": {
    "ExecuteTime": {
     "end_time": "2022-10-20T11:54:11.398895Z",
     "start_time": "2022-10-20T11:54:11.391922Z"
    }
   },
   "outputs": [],
   "source": [
    "def rgb_to_hex(rgb):\n",
    "    rgb = tuple([int(255*val) for val in rgb])\n",
    "    return '#' + ''.join([hex(val)[2:] for val in rgb]).upper()"
   ]
  },
  {
   "cell_type": "code",
   "execution_count": null,
   "metadata": {
    "ExecuteTime": {
     "end_time": "2022-10-20T11:54:17.809267Z",
     "start_time": "2022-10-20T11:54:17.790967Z"
    }
   },
   "outputs": [],
   "source": [
    "import plotly.express as px\n",
    "x = sns.diverging_palette(220, 20, as_cmap=False)\n",
    "rgb_to_hex(x[0])"
   ]
  },
  {
   "cell_type": "code",
   "execution_count": null,
   "metadata": {
    "ExecuteTime": {
     "end_time": "2022-10-20T12:08:26.569701Z",
     "start_time": "2022-10-20T12:08:26.543524Z"
    }
   },
   "outputs": [],
   "source": [
    "data.sample(5)"
   ]
  },
  {
   "cell_type": "markdown",
   "metadata": {},
   "source": [
    "\n"
   ]
  },
  {
   "cell_type": "code",
   "execution_count": null,
   "metadata": {},
   "outputs": [],
   "source": [
    "result = kegg_get(\"sey00061\", \"image\").read()\n",
    "Image(result)"
   ]
  },
  {
   "cell_type": "code",
   "execution_count": null,
   "metadata": {
    "ExecuteTime": {
     "end_time": "2022-11-01T15:12:48.302624Z",
     "start_time": "2022-11-01T15:12:44.646928Z"
    }
   },
   "outputs": [],
   "source": [
    "pathway = KGML_parser.read(kegg_get(\"sey00540\", \"kgml\"))\n",
    "canvas = KGMLCanvas(pathway, import_imagemap=True)\n",
    "color = None\n",
    "name = None\n",
    "# for element in pathway.orthologs:\n",
    "    \n",
    "#     for ko in element.name.split():\n",
    "#         color = komap_dict['hex'].get(ko, None)\n",
    "#         name = komap_dict['Name2'].get(ko, None)\n",
    "#     if color is not None:\n",
    "#         for graphic in element.graphics:\n",
    "#             graphic.bgcolor = color\n",
    "#             graphic.name = name\n",
    "canvas.draw(\"fab_map.pdf\")\n",
    "IPython.display.IFrame(\"fab_map.pdf\", width=1000, height=1000)"
   ]
  },
  {
   "cell_type": "code",
   "execution_count": null,
   "metadata": {
    "ExecuteTime": {
     "end_time": "2022-11-01T15:11:57.358592Z",
     "start_time": "2022-11-01T15:11:57.206423Z"
    }
   },
   "outputs": [],
   "source": [
    "canvas = KGMLCanvas(\"sey00540\", import_imagemap=True)\n",
    "canvas.draw(\"fab_map_new_colours.pdf\")\n",
    "IPython.display.IFrame(\"fab_map_new_colours.pdf\", width=1000, height=800)"
   ]
  },
  {
   "cell_type": "code",
   "execution_count": null,
   "metadata": {
    "ExecuteTime": {
     "end_time": "2022-10-20T09:45:18.400465Z",
     "start_time": "2022-10-20T09:45:16.951755Z"
    }
   },
   "outputs": [],
   "source": [
    "def rgb_to_hex(rgb):\n",
    "    rgb = tuple([int(255*val) for val in rgb])\n",
    "    return '#' + ''.join([hex(val)[2:] for val in rgb]).upper()\n",
    "\n",
    "\n",
    "# Define arbitrary colours\n",
    "colorspiral = ColorSpiral()\n",
    "colorlist = colorspiral.get_colors(len(pathway.orthologs))\n",
    "\n",
    "# Change the colours of ortholog elements\n",
    "for color, element in zip(colorlist, pathway.orthologs):\n",
    "    for graphic in element.graphics:\n",
    "        graphic.bgcolor = rgb_to_hex(color)\n",
    "        \n",
    "canvas = KGMLCanvas(pathway, import_imagemap=True)\n",
    "canvas.draw(\"fab_map_new_colours.pdf\")\n",
    "IPython.display.IFrame(\"fab_map_new_colours.pdf\", width=800, height=800)\n",
    "#PDF(\"fab_map_new_colours.pdf\")"
   ]
  },
  {
   "cell_type": "code",
   "execution_count": null,
   "metadata": {
    "ExecuteTime": {
     "end_time": "2022-10-20T09:44:55.198567Z",
     "start_time": "2022-10-20T09:44:55.191171Z"
    }
   },
   "outputs": [],
   "source": [
    "canvas"
   ]
  },
  {
   "cell_type": "code",
   "execution_count": null,
   "metadata": {
    "ExecuteTime": {
     "end_time": "2022-10-13T08:25:58.423650Z",
     "start_time": "2022-10-13T08:25:54.393916Z"
    }
   },
   "outputs": [],
   "source": [
    "# Use the bacterial diverse environments map\n",
    "pathway = KGML_parser.read(kegg_get(\"ko01120\", \"kgml\"))\n",
    "\n",
    "# Change the widths of reaction entries elements\n",
    "for element in pathway.orthologs:\n",
    "    for graphic in element.graphics:\n",
    "        graphic.width = random.randrange(1, 10, 1)\n",
    "        \n",
    "canvas = KGMLCanvas(pathway, import_imagemap=False)\n",
    "canvas.draw(\"bacteria_mod_widths.pdf\")\n",
    "PDF(\"bacteria_mod_widths.pdf\")"
   ]
  },
  {
   "cell_type": "code",
   "execution_count": null,
   "metadata": {
    "ExecuteTime": {
     "end_time": "2021-11-05T13:57:17.117692Z",
     "start_time": "2021-11-05T13:57:17.112980Z"
    }
   },
   "outputs": [],
   "source": [
    "lps_kos = []\n",
    "for orth in pathway.orthologs:\n",
    "    lps_kos.append(orth.graphics[0].name.strip('...'))"
   ]
  },
  {
   "cell_type": "code",
   "execution_count": null,
   "metadata": {
    "ExecuteTime": {
     "end_time": "2021-11-05T13:57:01.621106Z",
     "start_time": "2021-11-05T13:57:01.587461Z"
    }
   },
   "outputs": [],
   "source": [
    "test = df[['gene', 'KEGG_ko', 'z-score', 'day']].copy()\n",
    "test['KEGG_ko'] = test.KEGG_ko.apply(lambda x: x.split(\";\")[0].strip('ko:') if ';' in x else x.strip(\"ko:\"))\n",
    "td1 = test[test.day == 'd1']"
   ]
  },
  {
   "cell_type": "code",
   "execution_count": null,
   "metadata": {
    "ExecuteTime": {
     "end_time": "2021-11-05T13:57:23.961547Z",
     "start_time": "2021-11-05T13:57:23.946785Z"
    }
   },
   "outputs": [],
   "source": [
    "td1col = td1[td1.KEGG_ko.isin(lps_kos)].groupby('KEGG_ko').median()\n",
    "ncolor = td1col['z-score'].values\n",
    "ncolor = [colors.to_hex(sm.to_rgba(x)) for x in ncolor]\n",
    "td1col['col'] = ncolor\n",
    "ncolor\n",
    "coldict = td1col.to_dict()['col']"
   ]
  },
  {
   "cell_type": "code",
   "execution_count": null,
   "metadata": {
    "ExecuteTime": {
     "end_time": "2021-11-05T13:57:28.738838Z",
     "start_time": "2021-11-05T13:57:28.732804Z"
    }
   },
   "outputs": [],
   "source": [
    "for element in pathway.orthologs:\n",
    "    for graphic in element.graphics:\n",
    "        if graphic.name in coldict.keys():\n",
    "            graphic.bgcolor = coldict[graphic.name]\n",
    "        else:\n",
    "            graphic.bgcolor = '#f7f6ff'"
   ]
  },
  {
   "cell_type": "code",
   "execution_count": null,
   "metadata": {
    "ExecuteTime": {
     "end_time": "2021-11-05T13:57:32.137879Z",
     "start_time": "2021-11-05T13:57:30.755765Z"
    }
   },
   "outputs": [],
   "source": [
    "canvas = KGMLCanvas(pathway, import_imagemap=True)\n",
    "canvas.draw(\"fab_map_new_colours.pdf\")\n",
    "PDF(\"fab_map_new_colours.pdf\")"
   ]
  },
  {
   "cell_type": "code",
   "execution_count": null,
   "metadata": {
    "ExecuteTime": {
     "end_time": "2021-11-05T13:43:12.907801Z",
     "start_time": "2021-11-05T13:43:12.902432Z"
    }
   },
   "outputs": [],
   "source": [
    "# Colors\n",
    "vmin= -9\n",
    "vmax=2\n",
    "cmap = plt.cm.coolwarm\n",
    "from matplotlib import colors\n",
    "divnorm=colors.TwoSlopeNorm(vmin=vmin, vcenter=0., vmax=vmax)\n",
    "sm = plt.cm.ScalarMappable(cmap=cmap,norm=divnorm)"
   ]
  },
  {
   "cell_type": "code",
   "execution_count": null,
   "metadata": {
    "ExecuteTime": {
     "end_time": "2021-11-05T13:48:19.555684Z",
     "start_time": "2021-11-05T13:48:19.550565Z"
    }
   },
   "outputs": [],
   "source": [
    "ncolor[0]"
   ]
  },
  {
   "cell_type": "code",
   "execution_count": null,
   "metadata": {
    "ExecuteTime": {
     "end_time": "2021-11-05T13:48:29.443826Z",
     "start_time": "2021-11-05T13:48:29.435608Z"
    }
   },
   "outputs": [],
   "source": []
  },
  {
   "cell_type": "code",
   "execution_count": null,
   "metadata": {
    "ExecuteTime": {
     "end_time": "2021-11-05T13:37:28.149992Z",
     "start_time": "2021-11-05T13:37:28.145160Z"
    }
   },
   "outputs": [],
   "source": []
  },
  {
   "cell_type": "code",
   "execution_count": null,
   "metadata": {
    "ExecuteTime": {
     "end_time": "2021-11-05T13:37:31.467155Z",
     "start_time": "2021-11-05T13:37:31.461764Z"
    }
   },
   "outputs": [],
   "source": [
    "lps_kos"
   ]
  },
  {
   "cell_type": "code",
   "execution_count": null,
   "metadata": {
    "ExecuteTime": {
     "end_time": "2021-11-05T14:09:34.731327Z",
     "start_time": "2021-11-05T14:09:34.721854Z"
    }
   },
   "outputs": [],
   "source": [
    "path2gene['ko01130']"
   ]
  },
  {
   "cell_type": "code",
   "execution_count": null,
   "metadata": {
    "ExecuteTime": {
     "end_time": "2022-11-01T14:52:01.045984Z",
     "start_time": "2022-11-01T14:52:00.822021Z"
    }
   },
   "outputs": [],
   "source": [
    "df = pd.read_csv(\"/nfs/nas22/fs2202/biol_micro_bioinf_nccr/hardt/nguyenb/tnseq/scratch/10_22/control_norm_analysis/26-10-22-annotated-results.csv\")"
   ]
  },
  {
   "cell_type": "code",
   "execution_count": null,
   "metadata": {
    "ExecuteTime": {
     "end_time": "2022-11-01T14:54:09.968355Z",
     "start_time": "2022-11-01T14:54:09.935584Z"
    }
   },
   "outputs": [],
   "source": [
    "df = df[(df.contrast == 'd1') | (df.contrast.isna())]\n",
    "df.sample(4)"
   ]
  },
  {
   "cell_type": "code",
   "execution_count": null,
   "metadata": {
    "ExecuteTime": {
     "end_time": "2022-11-01T15:00:10.261025Z",
     "start_time": "2022-11-01T15:00:10.243027Z"
    }
   },
   "outputs": [],
   "source": [
    "pathName = 'ko00540'\n",
    "df[\"KEGG_Pathway\"] = df.KEGG_Pathway.fillna('-')\n"
   ]
  },
  {
   "cell_type": "code",
   "execution_count": null,
   "metadata": {
    "ExecuteTime": {
     "end_time": "2022-11-01T15:16:56.408899Z",
     "start_time": "2022-11-01T15:16:56.393493Z"
    }
   },
   "outputs": [],
   "source": [
    "kegg_df = df[df.KEGG_Pathway.str.contains(pathName)]\n",
    "kegg_df = kegg_df[~kegg_df.library.isna()]"
   ]
  },
  {
   "cell_type": "code",
   "execution_count": null,
   "metadata": {
    "ExecuteTime": {
     "end_time": "2022-11-01T15:19:51.209869Z",
     "start_time": "2022-11-01T15:19:51.199148Z"
    }
   },
   "outputs": [],
   "source": [
    "kegg_df['hit'] = (abs(kegg_df.LFC) > 1) & (kegg_df.fdr < 0.01)"
   ]
  },
  {
   "cell_type": "code",
   "execution_count": null,
   "metadata": {
    "ExecuteTime": {
     "end_time": "2022-11-01T15:16:26.455069Z",
     "start_time": "2022-11-01T15:16:26.446861Z"
    }
   },
   "outputs": [],
   "source": [
    "lps_genes"
   ]
  },
  {
   "cell_type": "code",
   "execution_count": null,
   "metadata": {
    "ExecuteTime": {
     "end_time": "2022-11-01T15:28:56.738697Z",
     "start_time": "2022-11-01T15:28:56.457131Z"
    }
   },
   "outputs": [],
   "source": [
    "def display_kegg_map(kegg_df, pathwayName, contrast, kegg_col='KEGG_Pathway', gene_id='Name'):\n",
    "    # Assumptions results contains 'contrast' column and 'LFC' column, 'KEGG_ko'\n",
    "    # Assumes kegg_df already has  hit column -> identified based on user set criteria\n",
    "    # In case there are multiple libraries, aggregate over libraries\n",
    "\n",
    "    hitSummary = (kegg_df.groupby([gene_id, 'contrast']).agg({'LFC': ['median'], 'hit': ['sum']})\n",
    "                  .reset_index())\n",
    "    hitSummary.columns = [gene_id, 'contrast','lfcSum', 'hitSum']\n",
    "    kegg_df = (kegg_df.merge(hitSummary, on=[gene_id, 'contrast'], how='outer'))\n",
    "    kegg_df['hitStar'] = kegg_df['hitSum'].apply(lambda x: '*' if x > 0 else '')\n",
    "    kegg_df['NameForMap'] = kegg_df[gene_id] + kegg_df['hitStar'] + \" (\" + kegg_df['lfcSum'].round(2).astype(str) + \")\"\n",
    "    kegg_df['KEGG_Pathway'] = kegg_df[\"KEGG_Pathway\"].fillna('-')\n",
    "    #pathDf = kegg_df[(kegg_df[kegg_col].str.contains(pathwayName)) & ((kegg_df.contrast == contrast) | (kegg_df.contrast.isnull()))].copy()\n",
    "    pathDf = kegg_df.copy()\n",
    "\n",
    "    # minima = -max(abs(pDf.LFC_median.min()), abs(pDf.LFC_median.max()))\n",
    "    # maxima = max(abs(pDf.LFC_median.min()), abs(pDf.LFC_median.max()))\n",
    "    # Defining the palette\n",
    "    norm = matplotlib.colors.Normalize(vmin=-6, vmax=6, clip=True)\n",
    "    mapper = matplotlib.cm.ScalarMappable(norm=norm, cmap=sns.diverging_palette(220, 20, as_cmap=True))\n",
    "    pathDf['hex'] = pathDf['lfcSum'].apply(mapper.to_rgba).apply(matplotlib.colors.to_hex)\n",
    "    ko_map = (pathDf[[gene_id, 'lfcSum', 'KEGG_ko', 'hex', 'NameForMap']]\n",
    "              .replace('-', np.nan)\n",
    "              .dropna(subset=['KEGG_ko'])\n",
    "              .drop_duplicates())\n",
    "\n",
    "    new_cols = ko_map['KEGG_ko'].str.split(\",\", expand=True)\n",
    "    ko_map = pd.concat([ko_map, new_cols], axis=1)\n",
    "    ko_map = (ko_map.melt(id_vars=['lfcSum', 'NameForMap', 'hex'], value_vars=new_cols.columns, value_name='KO')[\n",
    "                  ['NameForMap', 'lfcSum', 'KO', 'hex']]\n",
    "              .dropna(subset=['KO']))\n",
    "    ko_map['hex'] = ko_map.hex.str.replace('#000000', \"#7c7d83\")\n",
    "    ko_dict = ko_map.set_index(\"KO\").to_dict()\n",
    "    pathway = KGML_parser.read(kegg_get(pathwayName, \"kgml\"))\n",
    "    canvas = KGMLCanvas(pathway, import_imagemap=True)\n",
    "\n",
    "    for element in pathway.orthologs:\n",
    "        color = None\n",
    "        name = None\n",
    "        \n",
    "        node_kos = element.name.split()\n",
    "        print(node_kos)\n",
    "        for ko in node_kos:\n",
    "            print(ko)\n",
    "            color = ko_dict['hex'].get(ko, color)\n",
    "            print(color)\n",
    "            name = ko_dict['NameForMap'].get(ko, name)\n",
    "        for graphic in element.graphics:\n",
    "            if color is not None:\n",
    "                graphic.bgcolor = color\n",
    "                graphic.name = name\n",
    "            else:\n",
    "                graphic.bgcolor = '#FFFFFF'\n",
    "    fname = f\"{pathwayName}_{contrast}_map.pdf\"\n",
    "    canvas.draw(fname)\n",
    "    return fname, ko_map\n"
   ]
  },
  {
   "cell_type": "code",
   "execution_count": null,
   "metadata": {
    "ExecuteTime": {
     "end_time": "2022-11-01T15:29:00.581109Z",
     "start_time": "2022-11-01T15:28:57.321595Z"
    }
   },
   "outputs": [],
   "source": [
    "fname, ko_map = display_kegg_map(kegg_df, \"sey00540\", 'd1', kegg_col='KEGG_Pathway', gene_id='Name')"
   ]
  },
  {
   "cell_type": "code",
   "execution_count": null,
   "metadata": {
    "ExecuteTime": {
     "end_time": "2022-11-01T15:29:36.173379Z",
     "start_time": "2022-11-01T15:29:34.624572Z"
    }
   },
   "outputs": [],
   "source": [
    "pathway = KGML_parser.read(kegg_get(\"sey00540\", \"kgml\"))"
   ]
  },
  {
   "cell_type": "code",
   "execution_count": null,
   "metadata": {
    "ExecuteTime": {
     "end_time": "2022-11-01T15:35:56.149402Z",
     "start_time": "2022-11-01T15:35:56.141147Z"
    }
   },
   "outputs": [],
   "source": [
    "for gene in pathway.genes:\n",
    "    print(gene)"
   ]
  },
  {
   "cell_type": "code",
   "execution_count": null,
   "metadata": {
    "ExecuteTime": {
     "end_time": "2022-11-01T15:31:36.792556Z",
     "start_time": "2022-11-01T15:31:36.782973Z"
    }
   },
   "outputs": [],
   "source": [
    "dir(pathway)"
   ]
  },
  {
   "cell_type": "code",
   "execution_count": null,
   "metadata": {
    "ExecuteTime": {
     "end_time": "2022-11-01T15:31:01.665959Z",
     "start_time": "2022-11-01T15:31:01.655977Z"
    }
   },
   "outputs": [],
   "source": [
    "[p for p in pathway.orthologs]"
   ]
  },
  {
   "cell_type": "code",
   "execution_count": null,
   "metadata": {
    "ExecuteTime": {
     "end_time": "2022-11-01T15:23:51.251274Z",
     "start_time": "2022-11-01T15:23:51.242625Z"
    }
   },
   "outputs": [],
   "source": [
    "fname"
   ]
  },
  {
   "cell_type": "code",
   "execution_count": null,
   "metadata": {
    "ExecuteTime": {
     "end_time": "2022-11-01T15:23:52.970067Z",
     "start_time": "2022-11-01T15:23:52.961731Z"
    }
   },
   "outputs": [],
   "source": [
    "PDF(fname)"
   ]
  },
  {
   "cell_type": "code",
   "execution_count": null,
   "metadata": {
    "ExecuteTime": {
     "end_time": "2022-11-01T15:27:35.237109Z",
     "start_time": "2022-11-01T15:27:35.216110Z"
    }
   },
   "outputs": [],
   "source": [
    "df[df.Name == 'kdsB']"
   ]
  },
  {
   "cell_type": "code",
   "execution_count": null,
   "metadata": {},
   "outputs": [],
   "source": []
  }
 ],
 "metadata": {
  "kernelspec": {
   "display_name": "Python 3 (ipykernel)",
   "language": "python",
   "name": "python3"
  },
  "language_info": {
   "codemirror_mode": {
    "name": "ipython",
    "version": 3
   },
   "file_extension": ".py",
   "mimetype": "text/x-python",
   "name": "python",
   "nbconvert_exporter": "python",
   "pygments_lexer": "ipython3",
   "version": "3.8.12"
  },
  "toc": {
   "base_numbering": 1,
   "nav_menu": {},
   "number_sections": true,
   "sideBar": true,
   "skip_h1_title": false,
   "title_cell": "Table of Contents",
   "title_sidebar": "Contents",
   "toc_cell": false,
   "toc_position": {},
   "toc_section_display": true,
   "toc_window_display": false
  }
 },
 "nbformat": 4,
 "nbformat_minor": 5
}
